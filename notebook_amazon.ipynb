{
  "nbformat": 4,
  "nbformat_minor": 2,
  "metadata": {
    "kernelspec": {
      "name": "synapse_pyspark",
      "display_name": "Synapse PySpark"
    },
    "language_info": {
      "name": "python"
    },
    "description": null,
    "save_output": true,
    "synapse_widget": {
      "version": "0.1",
      "state": {
        "b7b5f07b-91ee-49ba-a450-f6f89c295e77": {
          "type": "Synapse.DataFrame",
          "sync_state": {
            "table": {
              "rows": [
                {
                  "0": "So there is no way for me to plug it in here in the US unless I go by a converter.",
                  "1": "neutral",
                  "3": {
                    "positive": 0,
                    "neutral": 0.98,
                    "negative": 0.02
                  },
                  "4": [
                    {
                      "sentiment": "neutral",
                      "confidenceScores": {
                        "positive": 0,
                        "neutral": 0.98,
                        "negative": 0.02
                      },
                      "text": "So there is no way for me to plug it in here in the US unless I go by a converter.",
                      "offset": 0,
                      "length": 82
                    }
                  ],
                  "5": []
                },
                {
                  "0": "Good case, Excellent value.",
                  "1": "positive",
                  "3": {
                    "positive": 1,
                    "neutral": 0,
                    "negative": 0
                  },
                  "4": [
                    {
                      "sentiment": "positive",
                      "confidenceScores": {
                        "positive": 1,
                        "neutral": 0,
                        "negative": 0
                      },
                      "text": "Good case, Excellent value.",
                      "offset": 0,
                      "length": 27
                    }
                  ],
                  "5": []
                },
                {
                  "0": "Great for the jawbone.",
                  "1": "positive",
                  "3": {
                    "positive": 1,
                    "neutral": 0,
                    "negative": 0
                  },
                  "4": [
                    {
                      "sentiment": "positive",
                      "confidenceScores": {
                        "positive": 1,
                        "neutral": 0,
                        "negative": 0
                      },
                      "text": "Great for the jawbone.",
                      "offset": 0,
                      "length": 22
                    }
                  ],
                  "5": []
                },
                {
                  "0": "Tied to charger for conversations lasting more than 45 minutes.MAJOR PROBLEMS!!",
                  "1": "negative",
                  "3": {
                    "positive": 0.01,
                    "neutral": 0,
                    "negative": 0.99
                  },
                  "4": [
                    {
                      "sentiment": "neutral",
                      "confidenceScores": {
                        "positive": 0.01,
                        "neutral": 0.98,
                        "negative": 0.01
                      },
                      "text": "Tied to charger for conversations lasting more than 45 minutes.",
                      "offset": 0,
                      "length": 63
                    },
                    {
                      "sentiment": "negative",
                      "confidenceScores": {
                        "positive": 0.01,
                        "neutral": 0,
                        "negative": 0.99
                      },
                      "text": "MAJOR PROBLEMS!!",
                      "offset": 63,
                      "length": 16
                    }
                  ],
                  "5": []
                },
                {
                  "0": "The mic is great.",
                  "1": "positive",
                  "3": {
                    "positive": 1,
                    "neutral": 0,
                    "negative": 0
                  },
                  "4": [
                    {
                      "sentiment": "positive",
                      "confidenceScores": {
                        "positive": 1,
                        "neutral": 0,
                        "negative": 0
                      },
                      "text": "The mic is great.",
                      "offset": 0,
                      "length": 17
                    }
                  ],
                  "5": []
                },
                {
                  "0": "I have to jiggle the plug to get it to line up right to get decent volume.",
                  "1": "positive",
                  "3": {
                    "positive": 0.96,
                    "neutral": 0.02,
                    "negative": 0.02
                  },
                  "4": [
                    {
                      "sentiment": "positive",
                      "confidenceScores": {
                        "positive": 0.96,
                        "neutral": 0.02,
                        "negative": 0.02
                      },
                      "text": "I have to jiggle the plug to get it to line up right to get decent volume.",
                      "offset": 0,
                      "length": 74
                    }
                  ],
                  "5": []
                },
                {
                  "0": "If you have several dozen or several hundred contacts, then imagine the fun of sending each of them one by one.",
                  "1": "positive",
                  "3": {
                    "positive": 0.64,
                    "neutral": 0.33,
                    "negative": 0.03
                  },
                  "4": [
                    {
                      "sentiment": "positive",
                      "confidenceScores": {
                        "positive": 0.64,
                        "neutral": 0.33,
                        "negative": 0.03
                      },
                      "text": "If you have several dozen or several hundred contacts, then imagine the fun of sending each of them one by one.",
                      "offset": 0,
                      "length": 111
                    }
                  ],
                  "5": []
                },
                {
                  "0": "If you are Razr owner...you must have this!",
                  "1": "neutral",
                  "3": {
                    "positive": 0.1,
                    "neutral": 0.88,
                    "negative": 0.02
                  },
                  "4": [
                    {
                      "sentiment": "neutral",
                      "confidenceScores": {
                        "positive": 0.06,
                        "neutral": 0.92,
                        "negative": 0.02
                      },
                      "text": "If you are Razr owner...",
                      "offset": 0,
                      "length": 24
                    },
                    {
                      "sentiment": "neutral",
                      "confidenceScores": {
                        "positive": 0.14,
                        "neutral": 0.84,
                        "negative": 0.02
                      },
                      "text": "you must have this!",
                      "offset": 24,
                      "length": 19
                    }
                  ],
                  "5": []
                },
                {
                  "0": "Needless to say, I wasted my money.",
                  "1": "negative",
                  "3": {
                    "positive": 0,
                    "neutral": 0,
                    "negative": 0.99
                  },
                  "4": [
                    {
                      "sentiment": "negative",
                      "confidenceScores": {
                        "positive": 0,
                        "neutral": 0,
                        "negative": 0.99
                      },
                      "text": "Needless to say, I wasted my money.",
                      "offset": 0,
                      "length": 35
                    }
                  ],
                  "5": []
                },
                {
                  "0": "What a waste of money and time!.",
                  "1": "negative",
                  "3": {
                    "positive": 0.01,
                    "neutral": 0,
                    "negative": 0.99
                  },
                  "4": [
                    {
                      "sentiment": "negative",
                      "confidenceScores": {
                        "positive": 0.01,
                        "neutral": 0,
                        "negative": 0.99
                      },
                      "text": "What a waste of money and time!.",
                      "offset": 0,
                      "length": 32
                    }
                  ],
                  "5": []
                },
                {
                  "0": "And the sound quality is great.",
                  "1": "positive",
                  "3": {
                    "positive": 0.99,
                    "neutral": 0,
                    "negative": 0
                  },
                  "4": [
                    {
                      "sentiment": "positive",
                      "confidenceScores": {
                        "positive": 0.99,
                        "neutral": 0,
                        "negative": 0
                      },
                      "text": "And the sound quality is great.",
                      "offset": 0,
                      "length": 31
                    }
                  ],
                  "5": []
                },
                {
                  "0": "He was very impressed when going from the original battery to the extended battery.",
                  "1": "positive",
                  "3": {
                    "positive": 0.99,
                    "neutral": 0.01,
                    "negative": 0.01
                  },
                  "4": [
                    {
                      "sentiment": "positive",
                      "confidenceScores": {
                        "positive": 0.99,
                        "neutral": 0.01,
                        "negative": 0.01
                      },
                      "text": "He was very impressed when going from the original battery to the extended battery.",
                      "offset": 0,
                      "length": 83
                    }
                  ],
                  "5": []
                },
                {
                  "0": "If the two were seperated by a mere 5+ ft I started to notice excessive static and garbled sound from the headset.",
                  "1": "negative",
                  "3": {
                    "positive": 0,
                    "neutral": 0.01,
                    "negative": 0.99
                  },
                  "4": [
                    {
                      "sentiment": "negative",
                      "confidenceScores": {
                        "positive": 0,
                        "neutral": 0.01,
                        "negative": 0.99
                      },
                      "text": "If the two were seperated by a mere 5+ ft I started to notice excessive static and garbled sound from the headset.",
                      "offset": 0,
                      "length": 114
                    }
                  ],
                  "5": []
                },
                {
                  "0": "Very good quality though",
                  "1": "positive",
                  "3": {
                    "positive": 1,
                    "neutral": 0,
                    "negative": 0
                  },
                  "4": [
                    {
                      "sentiment": "positive",
                      "confidenceScores": {
                        "positive": 1,
                        "neutral": 0,
                        "negative": 0
                      },
                      "text": "Very good quality though",
                      "offset": 0,
                      "length": 24
                    }
                  ],
                  "5": []
                },
                {
                  "0": "\"The design is very odd, as the ear \"\"clip\"\" is not very comfortable at all.\"",
                  "1": "negative",
                  "3": {
                    "positive": 0,
                    "neutral": 0,
                    "negative": 1
                  },
                  "4": [
                    {
                      "sentiment": "negative",
                      "confidenceScores": {
                        "positive": 0,
                        "neutral": 0,
                        "negative": 1
                      },
                      "text": "\"The design is very odd, as the ear \"\"clip\"\" is not very comfortable at all.\"",
                      "offset": 0,
                      "length": 77
                    }
                  ],
                  "5": []
                },
                {
                  "0": "Highly recommend for any one who has a blue tooth phone.",
                  "1": "positive",
                  "3": {
                    "positive": 1,
                    "neutral": 0,
                    "negative": 0
                  },
                  "4": [
                    {
                      "sentiment": "positive",
                      "confidenceScores": {
                        "positive": 1,
                        "neutral": 0,
                        "negative": 0
                      },
                      "text": "Highly recommend for any one who has a blue tooth phone.",
                      "offset": 0,
                      "length": 56
                    }
                  ],
                  "5": []
                },
                {
                  "0": "I advise EVERYONE DO NOT BE FOOLED!",
                  "1": "negative",
                  "3": {
                    "positive": 0.38,
                    "neutral": 0.05,
                    "negative": 0.57
                  },
                  "4": [
                    {
                      "sentiment": "negative",
                      "confidenceScores": {
                        "positive": 0.38,
                        "neutral": 0.05,
                        "negative": 0.57
                      },
                      "text": "I advise EVERYONE DO NOT BE FOOLED!",
                      "offset": 0,
                      "length": 35
                    }
                  ],
                  "5": []
                },
                {
                  "0": "So Far So Good!.",
                  "1": "positive",
                  "3": {
                    "positive": 1,
                    "neutral": 0,
                    "negative": 0
                  },
                  "4": [
                    {
                      "sentiment": "positive",
                      "confidenceScores": {
                        "positive": 1,
                        "neutral": 0,
                        "negative": 0
                      },
                      "text": "So Far So Good!.",
                      "offset": 0,
                      "length": 16
                    }
                  ],
                  "5": []
                },
                {
                  "0": "Works great!.",
                  "1": "positive",
                  "3": {
                    "positive": 1,
                    "neutral": 0,
                    "negative": 0
                  },
                  "4": [
                    {
                      "sentiment": "positive",
                      "confidenceScores": {
                        "positive": 1,
                        "neutral": 0,
                        "negative": 0
                      },
                      "text": "Works great!.",
                      "offset": 0,
                      "length": 13
                    }
                  ],
                  "5": []
                },
                {
                  "0": "It clicks into place in a way that makes you wonder how long that mechanism would last.",
                  "1": "neutral",
                  "3": {
                    "positive": 0.03,
                    "neutral": 0.72,
                    "negative": 0.24
                  },
                  "4": [
                    {
                      "sentiment": "neutral",
                      "confidenceScores": {
                        "positive": 0.03,
                        "neutral": 0.72,
                        "negative": 0.24
                      },
                      "text": "It clicks into place in a way that makes you wonder how long that mechanism would last.",
                      "offset": 0,
                      "length": 87
                    }
                  ],
                  "5": []
                },
                {
                  "0": "I went on Motorola's website and followed all directions, but could not get it to pair again.",
                  "1": "negative",
                  "3": {
                    "positive": 0,
                    "neutral": 0.04,
                    "negative": 0.96
                  },
                  "4": [
                    {
                      "sentiment": "negative",
                      "confidenceScores": {
                        "positive": 0,
                        "neutral": 0.04,
                        "negative": 0.96
                      },
                      "text": "I went on Motorola's website and followed all directions, but could not get it to pair again.",
                      "offset": 0,
                      "length": 93
                    }
                  ],
                  "5": []
                },
                {
                  "0": "I bought this to use with my Kindle Fire and absolutely loved it!",
                  "1": "positive",
                  "3": {
                    "positive": 1,
                    "neutral": 0,
                    "negative": 0
                  },
                  "4": [
                    {
                      "sentiment": "positive",
                      "confidenceScores": {
                        "positive": 1,
                        "neutral": 0,
                        "negative": 0
                      },
                      "text": "I bought this to use with my Kindle Fire and absolutely loved it!",
                      "offset": 0,
                      "length": 65
                    }
                  ],
                  "5": []
                },
                {
                  "0": "The commercials are the most misleading.",
                  "1": "negative",
                  "3": {
                    "positive": 0,
                    "neutral": 0,
                    "negative": 0.99
                  },
                  "4": [
                    {
                      "sentiment": "negative",
                      "confidenceScores": {
                        "positive": 0,
                        "neutral": 0,
                        "negative": 0.99
                      },
                      "text": "The commercials are the most misleading.",
                      "offset": 0,
                      "length": 40
                    }
                  ],
                  "5": []
                },
                {
                  "0": "I have yet to run this new battery below two bars and that's three days without charging.",
                  "1": "neutral",
                  "3": {
                    "positive": 0.01,
                    "neutral": 0.59,
                    "negative": 0.4
                  },
                  "4": [
                    {
                      "sentiment": "neutral",
                      "confidenceScores": {
                        "positive": 0.01,
                        "neutral": 0.59,
                        "negative": 0.4
                      },
                      "text": "I have yet to run this new battery below two bars and that's three days without charging.",
                      "offset": 0,
                      "length": 89
                    }
                  ],
                  "5": []
                },
                {
                  "0": "I bought it for my mother and she had a problem with the battery.",
                  "1": "negative",
                  "3": {
                    "positive": 0,
                    "neutral": 0.01,
                    "negative": 0.98
                  },
                  "4": [
                    {
                      "sentiment": "negative",
                      "confidenceScores": {
                        "positive": 0,
                        "neutral": 0.01,
                        "negative": 0.98
                      },
                      "text": "I bought it for my mother and she had a problem with the battery.",
                      "offset": 0,
                      "length": 65
                    }
                  ],
                  "5": []
                },
                {
                  "0": "Great Pocket PC / phone combination.",
                  "1": "positive",
                  "3": {
                    "positive": 1,
                    "neutral": 0,
                    "negative": 0
                  },
                  "4": [
                    {
                      "sentiment": "positive",
                      "confidenceScores": {
                        "positive": 1,
                        "neutral": 0,
                        "negative": 0
                      },
                      "text": "Great Pocket PC / phone combination.",
                      "offset": 0,
                      "length": 36
                    }
                  ],
                  "5": []
                },
                {
                  "0": "I've owned this phone for 7 months now and can say that it's the best mobile phone I've had.",
                  "1": "positive",
                  "3": {
                    "positive": 0.99,
                    "neutral": 0,
                    "negative": 0
                  },
                  "4": [
                    {
                      "sentiment": "positive",
                      "confidenceScores": {
                        "positive": 0.99,
                        "neutral": 0,
                        "negative": 0
                      },
                      "text": "I've owned this phone for 7 months now and can say that it's the best mobile phone I've had.",
                      "offset": 0,
                      "length": 92
                    }
                  ],
                  "5": []
                },
                {
                  "0": "I didn't think that the instructions provided were helpful to me.",
                  "1": "negative",
                  "3": {
                    "positive": 0.01,
                    "neutral": 0.01,
                    "negative": 0.98
                  },
                  "4": [
                    {
                      "sentiment": "negative",
                      "confidenceScores": {
                        "positive": 0.01,
                        "neutral": 0.01,
                        "negative": 0.98
                      },
                      "text": "I didn't think that the instructions provided were helpful to me.",
                      "offset": 0,
                      "length": 65
                    }
                  ],
                  "5": []
                },
                {
                  "0": "People couldnt hear me talk and I had to pull out the earphone and talk on the phone.",
                  "1": "negative",
                  "3": {
                    "positive": 0,
                    "neutral": 0.07,
                    "negative": 0.92
                  },
                  "4": [
                    {
                      "sentiment": "negative",
                      "confidenceScores": {
                        "positive": 0,
                        "neutral": 0.07,
                        "negative": 0.92
                      },
                      "text": "People couldnt hear me talk and I had to pull out the earphone and talk on the phone.",
                      "offset": 0,
                      "length": 85
                    }
                  ],
                  "5": []
                },
                {
                  "0": "Doesn't hold charge.",
                  "1": "neutral",
                  "3": {
                    "positive": 0.01,
                    "neutral": 0.6,
                    "negative": 0.39
                  },
                  "4": [
                    {
                      "sentiment": "neutral",
                      "confidenceScores": {
                        "positive": 0.01,
                        "neutral": 0.6,
                        "negative": 0.39
                      },
                      "text": "Doesn't hold charge.",
                      "offset": 0,
                      "length": 20
                    }
                  ],
                  "5": []
                },
                {
                  "0": "This is a simple little phone to use, but the breakage is unacceptible.",
                  "1": "negative",
                  "3": {
                    "positive": 0,
                    "neutral": 0,
                    "negative": 0.99
                  },
                  "4": [
                    {
                      "sentiment": "negative",
                      "confidenceScores": {
                        "positive": 0,
                        "neutral": 0,
                        "negative": 0.99
                      },
                      "text": "This is a simple little phone to use, but the breakage is unacceptible.",
                      "offset": 0,
                      "length": 71
                    }
                  ],
                  "5": []
                },
                {
                  "0": "This product is ideal for people like me whose ears are very sensitive.",
                  "1": "positive",
                  "3": {
                    "positive": 0.99,
                    "neutral": 0.01,
                    "negative": 0
                  },
                  "4": [
                    {
                      "sentiment": "positive",
                      "confidenceScores": {
                        "positive": 0.99,
                        "neutral": 0.01,
                        "negative": 0
                      },
                      "text": "This product is ideal for people like me whose ears are very sensitive.",
                      "offset": 0,
                      "length": 71
                    }
                  ],
                  "5": []
                },
                {
                  "0": "It is unusable in a moving car at freeway speed.",
                  "1": "negative",
                  "3": {
                    "positive": 0.01,
                    "neutral": 0.07,
                    "negative": 0.93
                  },
                  "4": [
                    {
                      "sentiment": "negative",
                      "confidenceScores": {
                        "positive": 0.01,
                        "neutral": 0.07,
                        "negative": 0.93
                      },
                      "text": "It is unusable in a moving car at freeway speed.",
                      "offset": 0,
                      "length": 48
                    }
                  ],
                  "5": []
                },
                {
                  "0": "I have two more years left in this contract and I hate this phone.",
                  "1": "negative",
                  "3": {
                    "positive": 0.01,
                    "neutral": 0,
                    "negative": 0.99
                  },
                  "4": [
                    {
                      "sentiment": "negative",
                      "confidenceScores": {
                        "positive": 0.01,
                        "neutral": 0,
                        "negative": 0.99
                      },
                      "text": "I have two more years left in this contract and I hate this phone.",
                      "offset": 0,
                      "length": 66
                    }
                  ],
                  "5": []
                },
                {
                  "0": "Car charger as well as AC charger are included to make sure you never run out of juice.Highy recommended",
                  "1": "positive",
                  "3": {
                    "positive": 0.99,
                    "neutral": 0,
                    "negative": 0
                  },
                  "4": [
                    {
                      "sentiment": "neutral",
                      "confidenceScores": {
                        "positive": 0.08,
                        "neutral": 0.91,
                        "negative": 0.01
                      },
                      "text": "Car charger as well as AC charger are included to make sure you never run out of juice.",
                      "offset": 0,
                      "length": 87
                    },
                    {
                      "sentiment": "positive",
                      "confidenceScores": {
                        "positive": 0.99,
                        "neutral": 0,
                        "negative": 0
                      },
                      "text": "Highy recommended",
                      "offset": 87,
                      "length": 17
                    }
                  ],
                  "5": []
                },
                {
                  "0": "You need at least 3 mins to get to your phone book from the time you first turn on the phone.Battery life is short.",
                  "1": "neutral",
                  "3": {
                    "positive": 0.02,
                    "neutral": 0.93,
                    "negative": 0.06
                  },
                  "4": [
                    {
                      "sentiment": "neutral",
                      "confidenceScores": {
                        "positive": 0.01,
                        "neutral": 0.99,
                        "negative": 0
                      },
                      "text": "You need at least 3 mins to get to your phone book from the time you first turn on the phone.",
                      "offset": 0,
                      "length": 93
                    },
                    {
                      "sentiment": "neutral",
                      "confidenceScores": {
                        "positive": 0.03,
                        "neutral": 0.87,
                        "negative": 0.11
                      },
                      "text": "Battery life is short.",
                      "offset": 93,
                      "length": 22
                    }
                  ],
                  "5": []
                },
                {
                  "0": "It has kept up very well.",
                  "1": "positive",
                  "3": {
                    "positive": 0.99,
                    "neutral": 0,
                    "negative": 0
                  },
                  "4": [
                    {
                      "sentiment": "positive",
                      "confidenceScores": {
                        "positive": 0.99,
                        "neutral": 0,
                        "negative": 0
                      },
                      "text": "It has kept up very well.",
                      "offset": 0,
                      "length": 25
                    }
                  ],
                  "5": []
                },
                {
                  "0": "Poor Talk Time Performance.",
                  "1": "negative",
                  "3": {
                    "positive": 0.01,
                    "neutral": 0,
                    "negative": 0.99
                  },
                  "4": [
                    {
                      "sentiment": "negative",
                      "confidenceScores": {
                        "positive": 0.01,
                        "neutral": 0,
                        "negative": 0.99
                      },
                      "text": "Poor Talk Time Performance.",
                      "offset": 0,
                      "length": 27
                    }
                  ],
                  "5": []
                },
                {
                  "0": "The case is great and works fine with the 680.",
                  "1": "positive",
                  "3": {
                    "positive": 1,
                    "neutral": 0,
                    "negative": 0
                  },
                  "4": [
                    {
                      "sentiment": "positive",
                      "confidenceScores": {
                        "positive": 1,
                        "neutral": 0,
                        "negative": 0
                      },
                      "text": "The case is great and works fine with the 680.",
                      "offset": 0,
                      "length": 46
                    }
                  ],
                  "5": []
                },
                {
                  "0": "worthless product.",
                  "1": "negative",
                  "3": {
                    "positive": 0.01,
                    "neutral": 0,
                    "negative": 0.99
                  },
                  "4": [
                    {
                      "sentiment": "negative",
                      "confidenceScores": {
                        "positive": 0.01,
                        "neutral": 0,
                        "negative": 0.99
                      },
                      "text": "worthless product.",
                      "offset": 0,
                      "length": 18
                    }
                  ],
                  "5": []
                },
                {
                  "0": "It has a great camera thats 2MP, and the pics are nice and clear with great picture quality.",
                  "1": "positive",
                  "3": {
                    "positive": 1,
                    "neutral": 0,
                    "negative": 0
                  },
                  "4": [
                    {
                      "sentiment": "positive",
                      "confidenceScores": {
                        "positive": 1,
                        "neutral": 0,
                        "negative": 0
                      },
                      "text": "It has a great camera thats 2MP, and the pics are nice and clear with great picture quality.",
                      "offset": 0,
                      "length": 92
                    }
                  ],
                  "5": []
                },
                {
                  "0": "I was not impressed by this product.",
                  "1": "negative",
                  "3": {
                    "positive": 0.01,
                    "neutral": 0.02,
                    "negative": 0.97
                  },
                  "4": [
                    {
                      "sentiment": "negative",
                      "confidenceScores": {
                        "positive": 0.01,
                        "neutral": 0.02,
                        "negative": 0.97
                      },
                      "text": "I was not impressed by this product.",
                      "offset": 0,
                      "length": 36
                    }
                  ],
                  "5": []
                },
                {
                  "0": "Nice headset priced right.",
                  "1": "positive",
                  "3": {
                    "positive": 1,
                    "neutral": 0,
                    "negative": 0
                  },
                  "4": [
                    {
                      "sentiment": "positive",
                      "confidenceScores": {
                        "positive": 1,
                        "neutral": 0,
                        "negative": 0
                      },
                      "text": "Nice headset priced right.",
                      "offset": 0,
                      "length": 26
                    }
                  ],
                  "5": []
                },
                {
                  "0": "I only hear garbage for audio.",
                  "1": "negative",
                  "3": {
                    "positive": 0.01,
                    "neutral": 0.08,
                    "negative": 0.91
                  },
                  "4": [
                    {
                      "sentiment": "negative",
                      "confidenceScores": {
                        "positive": 0.01,
                        "neutral": 0.08,
                        "negative": 0.91
                      },
                      "text": "I only hear garbage for audio.",
                      "offset": 0,
                      "length": 30
                    }
                  ],
                  "5": []
                },
                {
                  "0": "Excellent bluetooth headset.",
                  "1": "positive",
                  "3": {
                    "positive": 1,
                    "neutral": 0,
                    "negative": 0
                  },
                  "4": [
                    {
                      "sentiment": "positive",
                      "confidenceScores": {
                        "positive": 1,
                        "neutral": 0,
                        "negative": 0
                      },
                      "text": "Excellent bluetooth headset.",
                      "offset": 0,
                      "length": 28
                    }
                  ],
                  "5": []
                },
                {
                  "0": "It has all the features I want",
                  "1": "positive",
                  "3": {
                    "positive": 0.84,
                    "neutral": 0.15,
                    "negative": 0.01
                  },
                  "4": [
                    {
                      "sentiment": "positive",
                      "confidenceScores": {
                        "positive": 0.84,
                        "neutral": 0.15,
                        "negative": 0.01
                      },
                      "text": "It has all the features I want",
                      "offset": 0,
                      "length": 30
                    }
                  ],
                  "5": []
                },
                {
                  "0": "Who in their right mind is gonna buy this battery?.",
                  "1": "neutral",
                  "3": {
                    "positive": 0.13,
                    "neutral": 0.44,
                    "negative": 0.43
                  },
                  "4": [
                    {
                      "sentiment": "neutral",
                      "confidenceScores": {
                        "positive": 0.13,
                        "neutral": 0.44,
                        "negative": 0.43
                      },
                      "text": "Who in their right mind is gonna buy this battery?.",
                      "offset": 0,
                      "length": 51
                    }
                  ],
                  "5": []
                },
                {
                  "0": "AFTER ARGUING WITH VERIZON REGARDING THE DROPPED CALLS WE RETURNED THE PHONES AFTER TWO DAYS.",
                  "1": "negative",
                  "3": {
                    "positive": 0,
                    "neutral": 0.01,
                    "negative": 0.99
                  },
                  "4": [
                    {
                      "sentiment": "negative",
                      "confidenceScores": {
                        "positive": 0,
                        "neutral": 0.01,
                        "negative": 0.99
                      },
                      "text": "AFTER ARGUING WITH VERIZON REGARDING THE DROPPED CALLS WE RETURNED THE PHONES AFTER TWO DAYS.",
                      "offset": 0,
                      "length": 93
                    }
                  ],
                  "5": []
                },
                {
                  "0": "This case seems well made.",
                  "1": "positive",
                  "3": {
                    "positive": 0.98,
                    "neutral": 0.01,
                    "negative": 0.01
                  },
                  "4": [
                    {
                      "sentiment": "positive",
                      "confidenceScores": {
                        "positive": 0.98,
                        "neutral": 0.01,
                        "negative": 0.01
                      },
                      "text": "This case seems well made.",
                      "offset": 0,
                      "length": 26
                    }
                  ],
                  "5": []
                },
                {
                  "0": "Disappointed with battery.",
                  "1": "negative",
                  "3": {
                    "positive": 0,
                    "neutral": 0,
                    "negative": 0.99
                  },
                  "4": [
                    {
                      "sentiment": "negative",
                      "confidenceScores": {
                        "positive": 0,
                        "neutral": 0,
                        "negative": 0.99
                      },
                      "text": "Disappointed with battery.",
                      "offset": 0,
                      "length": 26
                    }
                  ],
                  "5": []
                },
                {
                  "0": "Not loud enough and doesn't turn on like it should.",
                  "1": "negative",
                  "3": {
                    "positive": 0,
                    "neutral": 0,
                    "negative": 0.99
                  },
                  "4": [
                    {
                      "sentiment": "negative",
                      "confidenceScores": {
                        "positive": 0,
                        "neutral": 0,
                        "negative": 0.99
                      },
                      "text": "Not loud enough and doesn't turn on like it should.",
                      "offset": 0,
                      "length": 51
                    }
                  ],
                  "5": []
                },
                {
                  "0": "good protection and does not make phone too bulky.",
                  "1": "positive",
                  "3": {
                    "positive": 0.99,
                    "neutral": 0,
                    "negative": 0
                  },
                  "4": [
                    {
                      "sentiment": "positive",
                      "confidenceScores": {
                        "positive": 0.99,
                        "neutral": 0,
                        "negative": 0
                      },
                      "text": "good protection and does not make phone too bulky.",
                      "offset": 0,
                      "length": 50
                    }
                  ],
                  "5": []
                },
                {
                  "0": "A usable keyboard actually turns a PDA into a real-world useful machine instead of just a neat gadget.",
                  "1": "positive",
                  "3": {
                    "positive": 0.85,
                    "neutral": 0.11,
                    "negative": 0.03
                  },
                  "4": [
                    {
                      "sentiment": "positive",
                      "confidenceScores": {
                        "positive": 0.85,
                        "neutral": 0.11,
                        "negative": 0.03
                      },
                      "text": "A usable keyboard actually turns a PDA into a real-world useful machine instead of just a neat gadget.",
                      "offset": 0,
                      "length": 102
                    }
                  ],
                  "5": []
                },
                {
                  "0": "This phone is pretty sturdy and I've never had any large problems with it.",
                  "1": "positive",
                  "3": {
                    "positive": 0.93,
                    "neutral": 0.05,
                    "negative": 0.02
                  },
                  "4": [
                    {
                      "sentiment": "positive",
                      "confidenceScores": {
                        "positive": 0.93,
                        "neutral": 0.05,
                        "negative": 0.02
                      },
                      "text": "This phone is pretty sturdy and I've never had any large problems with it.",
                      "offset": 0,
                      "length": 74
                    }
                  ],
                  "5": []
                },
                {
                  "0": "I love this thing!",
                  "1": "positive",
                  "3": {
                    "positive": 0.99,
                    "neutral": 0,
                    "negative": 0
                  },
                  "4": [
                    {
                      "sentiment": "positive",
                      "confidenceScores": {
                        "positive": 0.99,
                        "neutral": 0,
                        "negative": 0
                      },
                      "text": "I love this thing!",
                      "offset": 0,
                      "length": 18
                    }
                  ],
                  "5": []
                },
                {
                  "0": "Everything about it is fine and reasonable for the price i.e.",
                  "1": "positive",
                  "3": {
                    "positive": 0.99,
                    "neutral": 0,
                    "negative": 0
                  },
                  "4": [
                    {
                      "sentiment": "positive",
                      "confidenceScores": {
                        "positive": 0.99,
                        "neutral": 0,
                        "negative": 0
                      },
                      "text": "Everything about it is fine and reasonable for the price i.e.",
                      "offset": 0,
                      "length": 61
                    }
                  ],
                  "5": []
                },
                {
                  "0": "VERY DISAPPOINTED.",
                  "1": "negative",
                  "3": {
                    "positive": 0.01,
                    "neutral": 0.02,
                    "negative": 0.97
                  },
                  "4": [
                    {
                      "sentiment": "negative",
                      "confidenceScores": {
                        "positive": 0.01,
                        "neutral": 0.02,
                        "negative": 0.97
                      },
                      "text": "VERY DISAPPOINTED.",
                      "offset": 0,
                      "length": 18
                    }
                  ],
                  "5": []
                },
                {
                  "0": "I even dropped this phone into a stream and it was submerged for 15 seconds and it still works great!",
                  "1": "positive",
                  "3": {
                    "positive": 0.99,
                    "neutral": 0,
                    "negative": 0
                  },
                  "4": [
                    {
                      "sentiment": "positive",
                      "confidenceScores": {
                        "positive": 0.99,
                        "neutral": 0,
                        "negative": 0
                      },
                      "text": "I even dropped this phone into a stream and it was submerged for 15 seconds and it still works great!",
                      "offset": 0,
                      "length": 101
                    }
                  ],
                  "5": []
                },
                {
                  "0": "I have been very happy with the 510 and have had NO complaints from any one regarding my sound quality on their end.",
                  "1": "positive",
                  "3": {
                    "positive": 0.97,
                    "neutral": 0.01,
                    "negative": 0.02
                  },
                  "4": [
                    {
                      "sentiment": "positive",
                      "confidenceScores": {
                        "positive": 0.97,
                        "neutral": 0.01,
                        "negative": 0.02
                      },
                      "text": "I have been very happy with the 510 and have had NO complaints from any one regarding my sound quality on their end.",
                      "offset": 0,
                      "length": 116
                    }
                  ],
                  "5": []
                },
                {
                  "0": "The buttons for on and off are bad.",
                  "1": "negative",
                  "3": {
                    "positive": 0,
                    "neutral": 0,
                    "negative": 1
                  },
                  "4": [
                    {
                      "sentiment": "negative",
                      "confidenceScores": {
                        "positive": 0,
                        "neutral": 0,
                        "negative": 1
                      },
                      "text": "The buttons for on and off are bad.",
                      "offset": 0,
                      "length": 35
                    }
                  ],
                  "5": []
                },
                {
                  "0": "Essentially you can forget Microsoft's tech support.",
                  "1": "negative",
                  "3": {
                    "positive": 0.03,
                    "neutral": 0.42,
                    "negative": 0.55
                  },
                  "4": [
                    {
                      "sentiment": "negative",
                      "confidenceScores": {
                        "positive": 0.03,
                        "neutral": 0.42,
                        "negative": 0.55
                      },
                      "text": "Essentially you can forget Microsoft's tech support.",
                      "offset": 0,
                      "length": 52
                    }
                  ],
                  "5": []
                },
                {
                  "0": "I really recommend this faceplates since it looks very nice, elegant and cool.",
                  "1": "positive",
                  "3": {
                    "positive": 1,
                    "neutral": 0,
                    "negative": 0
                  },
                  "4": [
                    {
                      "sentiment": "positive",
                      "confidenceScores": {
                        "positive": 1,
                        "neutral": 0,
                        "negative": 0
                      },
                      "text": "I really recommend this faceplates since it looks very nice, elegant and cool.",
                      "offset": 0,
                      "length": 78
                    }
                  ],
                  "5": []
                },
                {
                  "0": "These headphones were a great find - and I think they are perhaps the best purchase I've made in the last several years - seriously.",
                  "1": "positive",
                  "3": {
                    "positive": 0.99,
                    "neutral": 0,
                    "negative": 0
                  },
                  "4": [
                    {
                      "sentiment": "positive",
                      "confidenceScores": {
                        "positive": 0.99,
                        "neutral": 0,
                        "negative": 0
                      },
                      "text": "These headphones were a great find - and I think they are perhaps the best purchase I've made in the last several years - seriously.",
                      "offset": 0,
                      "length": 132
                    }
                  ],
                  "5": []
                },
                {
                  "0": "Buy a different phone - but not this.",
                  "1": "neutral",
                  "3": {
                    "positive": 0.01,
                    "neutral": 0.86,
                    "negative": 0.13
                  },
                  "4": [
                    {
                      "sentiment": "neutral",
                      "confidenceScores": {
                        "positive": 0.01,
                        "neutral": 0.86,
                        "negative": 0.13
                      },
                      "text": "Buy a different phone - but not this.",
                      "offset": 0,
                      "length": 37
                    }
                  ],
                  "5": []
                },
                {
                  "0": "You have to hold the phone at a particular angle for the other party to hear you clearly.",
                  "1": "neutral",
                  "3": {
                    "positive": 0.01,
                    "neutral": 0.99,
                    "negative": 0
                  },
                  "4": [
                    {
                      "sentiment": "neutral",
                      "confidenceScores": {
                        "positive": 0.01,
                        "neutral": 0.99,
                        "negative": 0
                      },
                      "text": "You have to hold the phone at a particular angle for the other party to hear you clearly.",
                      "offset": 0,
                      "length": 89
                    }
                  ],
                  "5": []
                },
                {
                  "0": "The one big drawback of the MP3 player is that the buttons on the phone's front cover that let you pause and skip songs lock out after a few seconds.",
                  "1": "negative",
                  "3": {
                    "positive": 0.01,
                    "neutral": 0.04,
                    "negative": 0.95
                  },
                  "4": [
                    {
                      "sentiment": "negative",
                      "confidenceScores": {
                        "positive": 0.01,
                        "neutral": 0.04,
                        "negative": 0.95
                      },
                      "text": "The one big drawback of the MP3 player is that the buttons on the phone's front cover that let you pause and skip songs lock out after a few seconds.",
                      "offset": 0,
                      "length": 149
                    }
                  ],
                  "5": []
                },
                {
                  "0": "A week later after I activated it, it suddenly died.",
                  "1": "negative",
                  "3": {
                    "positive": 0,
                    "neutral": 0.02,
                    "negative": 0.97
                  },
                  "4": [
                    {
                      "sentiment": "negative",
                      "confidenceScores": {
                        "positive": 0,
                        "neutral": 0.02,
                        "negative": 0.97
                      },
                      "text": "A week later after I activated it, it suddenly died.",
                      "offset": 0,
                      "length": 52
                    }
                  ],
                  "5": []
                },
                {
                  "0": "It feels more comfortable than most headsets because I wear glasses and that gets in the way sometimes.",
                  "1": "positive",
                  "3": {
                    "positive": 0.75,
                    "neutral": 0.2,
                    "negative": 0.05
                  },
                  "4": [
                    {
                      "sentiment": "positive",
                      "confidenceScores": {
                        "positive": 0.75,
                        "neutral": 0.2,
                        "negative": 0.05
                      },
                      "text": "It feels more comfortable than most headsets because I wear glasses and that gets in the way sometimes.",
                      "offset": 0,
                      "length": 103
                    }
                  ],
                  "5": []
                },
                {
                  "0": "Great for iPODs too.",
                  "1": "positive",
                  "3": {
                    "positive": 1,
                    "neutral": 0,
                    "negative": 0
                  },
                  "4": [
                    {
                      "sentiment": "positive",
                      "confidenceScores": {
                        "positive": 1,
                        "neutral": 0,
                        "negative": 0
                      },
                      "text": "Great for iPODs too.",
                      "offset": 0,
                      "length": 20
                    }
                  ],
                  "5": []
                },
                {
                  "0": "This device is great in several situations:1.)",
                  "1": "positive",
                  "3": {
                    "positive": 1,
                    "neutral": 0,
                    "negative": 0
                  },
                  "4": [
                    {
                      "sentiment": "positive",
                      "confidenceScores": {
                        "positive": 1,
                        "neutral": 0,
                        "negative": 0
                      },
                      "text": "This device is great in several situations:1.)",
                      "offset": 0,
                      "length": 46
                    }
                  ],
                  "5": []
                },
                {
                  "0": "Mic Doesn't work.",
                  "1": "negative",
                  "3": {
                    "positive": 0,
                    "neutral": 0.01,
                    "negative": 0.99
                  },
                  "4": [
                    {
                      "sentiment": "negative",
                      "confidenceScores": {
                        "positive": 0,
                        "neutral": 0.01,
                        "negative": 0.99
                      },
                      "text": "Mic Doesn't work.",
                      "offset": 0,
                      "length": 17
                    }
                  ],
                  "5": []
                },
                {
                  "0": "Even in my BMW 3 series which is fairly quiet, I have trouble hearing what the other person is saying.",
                  "1": "negative",
                  "3": {
                    "positive": 0,
                    "neutral": 0.01,
                    "negative": 0.99
                  },
                  "4": [
                    {
                      "sentiment": "negative",
                      "confidenceScores": {
                        "positive": 0,
                        "neutral": 0.01,
                        "negative": 0.99
                      },
                      "text": "Even in my BMW 3 series which is fairly quiet, I have trouble hearing what the other person is saying.",
                      "offset": 0,
                      "length": 102
                    }
                  ],
                  "5": []
                },
                {
                  "0": "Great choice!",
                  "1": "positive",
                  "3": {
                    "positive": 1,
                    "neutral": 0,
                    "negative": 0
                  },
                  "4": [
                    {
                      "sentiment": "positive",
                      "confidenceScores": {
                        "positive": 1,
                        "neutral": 0,
                        "negative": 0
                      },
                      "text": "Great choice!",
                      "offset": 0,
                      "length": 13
                    }
                  ],
                  "5": []
                },
                {
                  "0": "Nice docking station for home or work.",
                  "1": "positive",
                  "3": {
                    "positive": 1,
                    "neutral": 0,
                    "negative": 0
                  },
                  "4": [
                    {
                      "sentiment": "positive",
                      "confidenceScores": {
                        "positive": 1,
                        "neutral": 0,
                        "negative": 0
                      },
                      "text": "Nice docking station for home or work.",
                      "offset": 0,
                      "length": 38
                    }
                  ],
                  "5": []
                },
                {
                  "0": "This is a beautiful phone.",
                  "1": "positive",
                  "3": {
                    "positive": 0.99,
                    "neutral": 0,
                    "negative": 0
                  },
                  "4": [
                    {
                      "sentiment": "positive",
                      "confidenceScores": {
                        "positive": 0.99,
                        "neutral": 0,
                        "negative": 0
                      },
                      "text": "This is a beautiful phone.",
                      "offset": 0,
                      "length": 26
                    }
                  ],
                  "5": []
                },
                {
                  "0": "Love this product.",
                  "1": "positive",
                  "3": {
                    "positive": 1,
                    "neutral": 0,
                    "negative": 0
                  },
                  "4": [
                    {
                      "sentiment": "positive",
                      "confidenceScores": {
                        "positive": 1,
                        "neutral": 0,
                        "negative": 0
                      },
                      "text": "Love this product.",
                      "offset": 0,
                      "length": 18
                    }
                  ],
                  "5": []
                },
                {
                  "0": "Do Not Buy for D807...wrongly advertised for D807.",
                  "1": "negative",
                  "3": {
                    "positive": 0.01,
                    "neutral": 0.04,
                    "negative": 0.96
                  },
                  "4": [
                    {
                      "sentiment": "negative",
                      "confidenceScores": {
                        "positive": 0.01,
                        "neutral": 0.07,
                        "negative": 0.92
                      },
                      "text": "Do Not Buy for D807...",
                      "offset": 0,
                      "length": 22
                    },
                    {
                      "sentiment": "negative",
                      "confidenceScores": {
                        "positive": 0,
                        "neutral": 0,
                        "negative": 0.99
                      },
                      "text": "wrongly advertised for D807.",
                      "offset": 22,
                      "length": 28
                    }
                  ],
                  "5": []
                },
                {
                  "0": "This is a great little item.",
                  "1": "positive",
                  "3": {
                    "positive": 1,
                    "neutral": 0,
                    "negative": 0
                  },
                  "4": [
                    {
                      "sentiment": "positive",
                      "confidenceScores": {
                        "positive": 1,
                        "neutral": 0,
                        "negative": 0
                      },
                      "text": "This is a great little item.",
                      "offset": 0,
                      "length": 28
                    }
                  ],
                  "5": []
                },
                {
                  "0": "I love this phone , It is very handy and has a lot of features .",
                  "1": "positive",
                  "3": {
                    "positive": 1,
                    "neutral": 0,
                    "negative": 0
                  },
                  "4": [
                    {
                      "sentiment": "positive",
                      "confidenceScores": {
                        "positive": 1,
                        "neutral": 0,
                        "negative": 0
                      },
                      "text": "I love this phone , It is very handy and has a lot of features .",
                      "offset": 0,
                      "length": 64
                    }
                  ],
                  "5": []
                },
                {
                  "0": "I purchased this and within 2 days it was no longer working!!!!!!!!!",
                  "1": "negative",
                  "3": {
                    "positive": 0,
                    "neutral": 0.01,
                    "negative": 0.99
                  },
                  "4": [
                    {
                      "sentiment": "negative",
                      "confidenceScores": {
                        "positive": 0,
                        "neutral": 0.01,
                        "negative": 0.99
                      },
                      "text": "I purchased this and within 2 days it was no longer working!!!!!!!!!",
                      "offset": 0,
                      "length": 68
                    }
                  ],
                  "5": []
                },
                {
                  "0": "I wear it everyday and it holds up very well.",
                  "1": "positive",
                  "3": {
                    "positive": 0.96,
                    "neutral": 0.04,
                    "negative": 0
                  },
                  "4": [
                    {
                      "sentiment": "positive",
                      "confidenceScores": {
                        "positive": 0.96,
                        "neutral": 0.04,
                        "negative": 0
                      },
                      "text": "I wear it everyday and it holds up very well.",
                      "offset": 0,
                      "length": 45
                    }
                  ],
                  "5": []
                },
                {
                  "0": "Not a good bargain.",
                  "1": "negative",
                  "3": {
                    "positive": 0.01,
                    "neutral": 0,
                    "negative": 0.99
                  },
                  "4": [
                    {
                      "sentiment": "negative",
                      "confidenceScores": {
                        "positive": 0.01,
                        "neutral": 0,
                        "negative": 0.99
                      },
                      "text": "Not a good bargain.",
                      "offset": 0,
                      "length": 19
                    }
                  ],
                  "5": []
                },
                {
                  "0": "Well packaged, arrived on time, and works as intended.",
                  "1": "positive",
                  "3": {
                    "positive": 1,
                    "neutral": 0,
                    "negative": 0
                  },
                  "4": [
                    {
                      "sentiment": "positive",
                      "confidenceScores": {
                        "positive": 1,
                        "neutral": 0,
                        "negative": 0
                      },
                      "text": "Well packaged, arrived on time, and works as intended.",
                      "offset": 0,
                      "length": 54
                    }
                  ],
                  "5": []
                },
                {
                  "0": "The battery runs down quickly.",
                  "1": "neutral",
                  "3": {
                    "positive": 0.02,
                    "neutral": 0.5,
                    "negative": 0.49
                  },
                  "4": [
                    {
                      "sentiment": "neutral",
                      "confidenceScores": {
                        "positive": 0.02,
                        "neutral": 0.5,
                        "negative": 0.49
                      },
                      "text": "The battery runs down quickly.",
                      "offset": 0,
                      "length": 30
                    }
                  ],
                  "5": []
                },
                {
                  "0": "This item worked great, but it broke after 6 months of use.",
                  "1": "negative",
                  "3": {
                    "positive": 0.04,
                    "neutral": 0,
                    "negative": 0.96
                  },
                  "4": [
                    {
                      "sentiment": "negative",
                      "confidenceScores": {
                        "positive": 0.04,
                        "neutral": 0,
                        "negative": 0.96
                      },
                      "text": "This item worked great, but it broke after 6 months of use.",
                      "offset": 0,
                      "length": 59
                    }
                  ],
                  "5": []
                },
                {
                  "0": "The headsets are easy to use and everyone loves them.",
                  "1": "positive",
                  "3": {
                    "positive": 1,
                    "neutral": 0,
                    "negative": 0
                  },
                  "4": [
                    {
                      "sentiment": "positive",
                      "confidenceScores": {
                        "positive": 1,
                        "neutral": 0,
                        "negative": 0
                      },
                      "text": "The headsets are easy to use and everyone loves them.",
                      "offset": 0,
                      "length": 53
                    }
                  ],
                  "5": []
                },
                {
                  "0": "This phone works great.",
                  "1": "positive",
                  "3": {
                    "positive": 1,
                    "neutral": 0,
                    "negative": 0
                  },
                  "4": [
                    {
                      "sentiment": "positive",
                      "confidenceScores": {
                        "positive": 1,
                        "neutral": 0,
                        "negative": 0
                      },
                      "text": "This phone works great.",
                      "offset": 0,
                      "length": 23
                    }
                  ],
                  "5": []
                },
                {
                  "0": "The construction of the headsets is poor.",
                  "1": "negative",
                  "3": {
                    "positive": 0,
                    "neutral": 0,
                    "negative": 1
                  },
                  "4": [
                    {
                      "sentiment": "negative",
                      "confidenceScores": {
                        "positive": 0,
                        "neutral": 0,
                        "negative": 1
                      },
                      "text": "The construction of the headsets is poor.",
                      "offset": 0,
                      "length": 41
                    }
                  ],
                  "5": []
                },
                {
                  "0": "Product was excellent and works better than the verizon one and Boy was it cheaper!",
                  "1": "positive",
                  "3": {
                    "positive": 0.99,
                    "neutral": 0,
                    "negative": 0
                  },
                  "4": [
                    {
                      "sentiment": "positive",
                      "confidenceScores": {
                        "positive": 0.99,
                        "neutral": 0,
                        "negative": 0
                      },
                      "text": "Product was excellent and works better than the verizon one and Boy was it cheaper!",
                      "offset": 0,
                      "length": 83
                    }
                  ],
                  "5": []
                },
                {
                  "0": "The phone loads super!",
                  "1": "positive",
                  "3": {
                    "positive": 0.99,
                    "neutral": 0.01,
                    "negative": 0
                  },
                  "4": [
                    {
                      "sentiment": "positive",
                      "confidenceScores": {
                        "positive": 0.99,
                        "neutral": 0.01,
                        "negative": 0
                      },
                      "text": "The phone loads super!",
                      "offset": 0,
                      "length": 22
                    }
                  ],
                  "5": []
                },
                {
                  "0": "For a product that costs as much as this one does, I expect it to work far better and with greater ease than this thing does.",
                  "1": "positive",
                  "3": {
                    "positive": 0.95,
                    "neutral": 0.03,
                    "negative": 0.02
                  },
                  "4": [
                    {
                      "sentiment": "positive",
                      "confidenceScores": {
                        "positive": 0.95,
                        "neutral": 0.03,
                        "negative": 0.02
                      },
                      "text": "For a product that costs as much as this one does, I expect it to work far better and with greater ease than this thing does.",
                      "offset": 0,
                      "length": 125
                    }
                  ],
                  "5": []
                },
                {
                  "0": "Made very sturdy.",
                  "1": "positive",
                  "3": {
                    "positive": 0.97,
                    "neutral": 0.02,
                    "negative": 0.01
                  },
                  "4": [
                    {
                      "sentiment": "positive",
                      "confidenceScores": {
                        "positive": 0.97,
                        "neutral": 0.02,
                        "negative": 0.01
                      },
                      "text": "Made very sturdy.",
                      "offset": 0,
                      "length": 17
                    }
                  ],
                  "5": []
                },
                {
                  "0": "Worked great!.",
                  "1": "positive",
                  "3": {
                    "positive": 1,
                    "neutral": 0,
                    "negative": 0
                  },
                  "4": [
                    {
                      "sentiment": "positive",
                      "confidenceScores": {
                        "positive": 1,
                        "neutral": 0,
                        "negative": 0
                      },
                      "text": "Worked great!.",
                      "offset": 0,
                      "length": 14
                    }
                  ],
                  "5": []
                },
                {
                  "0": "The ear buds only play music in one ear.",
                  "1": "neutral",
                  "3": {
                    "positive": 0,
                    "neutral": 0.99,
                    "negative": 0.01
                  },
                  "4": [
                    {
                      "sentiment": "neutral",
                      "confidenceScores": {
                        "positive": 0,
                        "neutral": 0.99,
                        "negative": 0.01
                      },
                      "text": "The ear buds only play music in one ear.",
                      "offset": 0,
                      "length": 40
                    }
                  ],
                  "5": []
                },
                {
                  "0": "Dont waste your money...",
                  "1": "positive",
                  "3": {
                    "positive": 0.46,
                    "neutral": 0.26,
                    "negative": 0.28
                  },
                  "4": [
                    {
                      "sentiment": "positive",
                      "confidenceScores": {
                        "positive": 0.46,
                        "neutral": 0.26,
                        "negative": 0.28
                      },
                      "text": "Dont waste your money...",
                      "offset": 0,
                      "length": 24
                    }
                  ],
                  "5": []
                },
                {
                  "0": "Will order from them again!",
                  "1": "positive",
                  "3": {
                    "positive": 0.63,
                    "neutral": 0.34,
                    "negative": 0.03
                  },
                  "4": [
                    {
                      "sentiment": "positive",
                      "confidenceScores": {
                        "positive": 0.63,
                        "neutral": 0.34,
                        "negative": 0.03
                      },
                      "text": "Will order from them again!",
                      "offset": 0,
                      "length": 27
                    }
                  ],
                  "5": []
                },
                {
                  "0": "If you plan to use this in a car forget about it.",
                  "1": "neutral",
                  "3": {
                    "positive": 0.03,
                    "neutral": 0.6,
                    "negative": 0.37
                  },
                  "4": [
                    {
                      "sentiment": "neutral",
                      "confidenceScores": {
                        "positive": 0.03,
                        "neutral": 0.6,
                        "negative": 0.37
                      },
                      "text": "If you plan to use this in a car forget about it.",
                      "offset": 0,
                      "length": 49
                    }
                  ],
                  "5": []
                },
                {
                  "0": "I found this product to be waaay too big.",
                  "1": "negative",
                  "3": {
                    "positive": 0,
                    "neutral": 0.01,
                    "negative": 0.99
                  },
                  "4": [
                    {
                      "sentiment": "negative",
                      "confidenceScores": {
                        "positive": 0,
                        "neutral": 0.01,
                        "negative": 0.99
                      },
                      "text": "I found this product to be waaay too big.",
                      "offset": 0,
                      "length": 41
                    }
                  ],
                  "5": []
                },
                {
                  "0": "Best I've found so far .... I've tried 2 other bluetooths and this one has the best quality (for both me and the listener) as well as ease of using.",
                  "1": "positive",
                  "3": {
                    "positive": 0.99,
                    "neutral": 0,
                    "negative": 0
                  },
                  "4": [
                    {
                      "sentiment": "positive",
                      "confidenceScores": {
                        "positive": 1,
                        "neutral": 0,
                        "negative": 0
                      },
                      "text": "Best I've found so far .... ",
                      "offset": 0,
                      "length": 28
                    },
                    {
                      "sentiment": "positive",
                      "confidenceScores": {
                        "positive": 0.99,
                        "neutral": 0,
                        "negative": 0
                      },
                      "text": "I've tried 2 other bluetooths and this one has the best quality (for both me and the listener) as well as ease of using.",
                      "offset": 28,
                      "length": 120
                    }
                  ],
                  "5": []
                },
                {
                  "0": "I'm very disappointed with my decision.",
                  "1": "negative",
                  "3": {
                    "positive": 0,
                    "neutral": 0,
                    "negative": 0.99
                  },
                  "4": [
                    {
                      "sentiment": "negative",
                      "confidenceScores": {
                        "positive": 0,
                        "neutral": 0,
                        "negative": 0.99
                      },
                      "text": "I'm very disappointed with my decision.",
                      "offset": 0,
                      "length": 39
                    }
                  ],
                  "5": []
                },
                {
                  "0": "Integrated seamlessly with the Motorola RAZR phone.",
                  "1": "positive",
                  "3": {
                    "positive": 0.54,
                    "neutral": 0.45,
                    "negative": 0.01
                  },
                  "4": [
                    {
                      "sentiment": "positive",
                      "confidenceScores": {
                        "positive": 0.54,
                        "neutral": 0.45,
                        "negative": 0.01
                      },
                      "text": "Integrated seamlessly with the Motorola RAZR phone.",
                      "offset": 0,
                      "length": 51
                    }
                  ],
                  "5": []
                },
                {
                  "0": "Buyer Beware, you could flush money right down the toilet.",
                  "1": "negative",
                  "3": {
                    "positive": 0.01,
                    "neutral": 0.05,
                    "negative": 0.94
                  },
                  "4": [
                    {
                      "sentiment": "negative",
                      "confidenceScores": {
                        "positive": 0.01,
                        "neutral": 0.05,
                        "negative": 0.94
                      },
                      "text": "Buyer Beware, you could flush money right down the toilet.",
                      "offset": 0,
                      "length": 58
                    }
                  ],
                  "5": []
                },
                {
                  "0": "Definitely a bargain.",
                  "1": "neutral",
                  "3": {
                    "positive": 0.13,
                    "neutral": 0.84,
                    "negative": 0.03
                  },
                  "4": [
                    {
                      "sentiment": "neutral",
                      "confidenceScores": {
                        "positive": 0.13,
                        "neutral": 0.84,
                        "negative": 0.03
                      },
                      "text": "Definitely a bargain.",
                      "offset": 0,
                      "length": 21
                    }
                  ],
                  "5": []
                },
                {
                  "0": "The price was very good and with the free shipping and all it was a good purchase.",
                  "1": "positive",
                  "3": {
                    "positive": 1,
                    "neutral": 0,
                    "negative": 0
                  },
                  "4": [
                    {
                      "sentiment": "positive",
                      "confidenceScores": {
                        "positive": 1,
                        "neutral": 0,
                        "negative": 0
                      },
                      "text": "The price was very good and with the free shipping and all it was a good purchase.",
                      "offset": 0,
                      "length": 82
                    }
                  ],
                  "5": []
                },
                {
                  "0": "I received my supposedly new motorola 375 and apparently there was not a match between the phone and the charger.",
                  "1": "negative",
                  "3": {
                    "positive": 0.01,
                    "neutral": 0.15,
                    "negative": 0.84
                  },
                  "4": [
                    {
                      "sentiment": "negative",
                      "confidenceScores": {
                        "positive": 0.01,
                        "neutral": 0.15,
                        "negative": 0.84
                      },
                      "text": "I received my supposedly new motorola 375 and apparently there was not a match between the phone and the charger.",
                      "offset": 0,
                      "length": 113
                    }
                  ],
                  "5": []
                },
                {
                  "0": "Pros:-Good camera - very nice pictures , also has cool styles like black and white, and more.",
                  "1": "positive",
                  "3": {
                    "positive": 1,
                    "neutral": 0,
                    "negative": 0
                  },
                  "4": [
                    {
                      "sentiment": "positive",
                      "confidenceScores": {
                        "positive": 1,
                        "neutral": 0,
                        "negative": 0
                      },
                      "text": "Pros:-Good camera - very nice pictures , also has cool styles like black and white, and more.",
                      "offset": 0,
                      "length": 93
                    }
                  ],
                  "5": []
                },
                {
                  "0": "That's a huge design flaw (unless I'm not using it correctly, which I don't think is the case).",
                  "1": "negative",
                  "3": {
                    "positive": 0,
                    "neutral": 0,
                    "negative": 1
                  },
                  "4": [
                    {
                      "sentiment": "negative",
                      "confidenceScores": {
                        "positive": 0,
                        "neutral": 0,
                        "negative": 1
                      },
                      "text": "That's a huge design flaw (unless I'm not using it correctly, which I don't think is the case).",
                      "offset": 0,
                      "length": 95
                    }
                  ],
                  "5": []
                },
                {
                  "0": "I love my 350 headset.. My Jabra350 bluetooth headset is great, the reception is very good and the ear piece is a comfortable fit.",
                  "1": "positive",
                  "3": {
                    "positive": 1,
                    "neutral": 0,
                    "negative": 0
                  },
                  "4": [
                    {
                      "sentiment": "positive",
                      "confidenceScores": {
                        "positive": 0.99,
                        "neutral": 0,
                        "negative": 0
                      },
                      "text": "I love my 350 headset.. ",
                      "offset": 0,
                      "length": 24
                    },
                    {
                      "sentiment": "positive",
                      "confidenceScores": {
                        "positive": 1,
                        "neutral": 0,
                        "negative": 0
                      },
                      "text": "My Jabra350 bluetooth headset is great, the reception is very good and the ear piece is a comfortable fit.",
                      "offset": 24,
                      "length": 106
                    }
                  ],
                  "5": []
                },
                {
                  "0": "The camera, although rated at an impressive 1.3 megapixels, renders images that fall well below expectations of such a relatively high resolution.",
                  "1": "negative",
                  "3": {
                    "positive": 0.1,
                    "neutral": 0.05,
                    "negative": 0.85
                  },
                  "4": [
                    {
                      "sentiment": "negative",
                      "confidenceScores": {
                        "positive": 0.1,
                        "neutral": 0.05,
                        "negative": 0.85
                      },
                      "text": "The camera, although rated at an impressive 1.3 megapixels, renders images that fall well below expectations of such a relatively high resolution.",
                      "offset": 0,
                      "length": 146
                    }
                  ],
                  "5": []
                },
                {
                  "0": "I purcashed this for the car charger and it does not work.",
                  "1": "negative",
                  "3": {
                    "positive": 0,
                    "neutral": 0.01,
                    "negative": 0.99
                  },
                  "4": [
                    {
                      "sentiment": "negative",
                      "confidenceScores": {
                        "positive": 0,
                        "neutral": 0.01,
                        "negative": 0.99
                      },
                      "text": "I purcashed this for the car charger and it does not work.",
                      "offset": 0,
                      "length": 58
                    }
                  ],
                  "5": []
                },
                {
                  "0": "Sound quality on both end is excellent, I use headset to call my wife and ask my wife to use headset to call me !2.",
                  "1": "positive",
                  "3": {
                    "positive": 0.99,
                    "neutral": 0,
                    "negative": 0
                  },
                  "4": [
                    {
                      "sentiment": "positive",
                      "confidenceScores": {
                        "positive": 0.99,
                        "neutral": 0,
                        "negative": 0
                      },
                      "text": "Sound quality on both end is excellent, I use headset to call my wife and ask my wife to use headset to call me !2.",
                      "offset": 0,
                      "length": 115
                    }
                  ],
                  "5": []
                },
                {
                  "0": "This phone is slim and light and the display is beautiful.",
                  "1": "positive",
                  "3": {
                    "positive": 0.99,
                    "neutral": 0,
                    "negative": 0
                  },
                  "4": [
                    {
                      "sentiment": "positive",
                      "confidenceScores": {
                        "positive": 0.99,
                        "neutral": 0,
                        "negative": 0
                      },
                      "text": "This phone is slim and light and the display is beautiful.",
                      "offset": 0,
                      "length": 58
                    }
                  ],
                  "5": []
                },
                {
                  "0": "its a little geeky but i think thats its sex on toast and it rocks and oozes sex right down to its battery embedded sleek stylish leather case.",
                  "1": "positive",
                  "3": {
                    "positive": 0.59,
                    "neutral": 0.33,
                    "negative": 0.09
                  },
                  "4": [
                    {
                      "sentiment": "positive",
                      "confidenceScores": {
                        "positive": 0.59,
                        "neutral": 0.33,
                        "negative": 0.09
                      },
                      "text": "its a little geeky but i think thats its sex on toast and it rocks and oozes sex right down to its battery embedded sleek stylish leather case.",
                      "offset": 0,
                      "length": 143
                    }
                  ],
                  "5": []
                },
                {
                  "0": "Great product, fast shipping!.",
                  "1": "positive",
                  "3": {
                    "positive": 1,
                    "neutral": 0,
                    "negative": 0
                  },
                  "4": [
                    {
                      "sentiment": "positive",
                      "confidenceScores": {
                        "positive": 1,
                        "neutral": 0,
                        "negative": 0
                      },
                      "text": "Great product, fast shipping!.",
                      "offset": 0,
                      "length": 30
                    }
                  ],
                  "5": []
                },
                {
                  "0": "Absolutely great.",
                  "1": "positive",
                  "3": {
                    "positive": 0.99,
                    "neutral": 0,
                    "negative": 0
                  },
                  "4": [
                    {
                      "sentiment": "positive",
                      "confidenceScores": {
                        "positive": 0.99,
                        "neutral": 0,
                        "negative": 0
                      },
                      "text": "Absolutely great.",
                      "offset": 0,
                      "length": 17
                    }
                  ],
                  "5": []
                },
                {
                  "0": "The keyboard is a nice compromise between a full QWERTY and the basic cell phone number keypad.",
                  "1": "positive",
                  "3": {
                    "positive": 0.99,
                    "neutral": 0,
                    "negative": 0.01
                  },
                  "4": [
                    {
                      "sentiment": "positive",
                      "confidenceScores": {
                        "positive": 0.99,
                        "neutral": 0,
                        "negative": 0.01
                      },
                      "text": "The keyboard is a nice compromise between a full QWERTY and the basic cell phone number keypad.",
                      "offset": 0,
                      "length": 95
                    }
                  ],
                  "5": []
                },
                {
                  "0": "i got this phone around the end of may and i'm completely unhappy with it.",
                  "1": "negative",
                  "3": {
                    "positive": 0,
                    "neutral": 0,
                    "negative": 0.99
                  },
                  "4": [
                    {
                      "sentiment": "negative",
                      "confidenceScores": {
                        "positive": 0,
                        "neutral": 0,
                        "negative": 0.99
                      },
                      "text": "i got this phone around the end of may and i'm completely unhappy with it.",
                      "offset": 0,
                      "length": 74
                    }
                  ],
                  "5": []
                },
                {
                  "0": "It is very comfortable on the ear.",
                  "1": "positive",
                  "3": {
                    "positive": 0.98,
                    "neutral": 0.02,
                    "negative": 0
                  },
                  "4": [
                    {
                      "sentiment": "positive",
                      "confidenceScores": {
                        "positive": 0.98,
                        "neutral": 0.02,
                        "negative": 0
                      },
                      "text": "It is very comfortable on the ear.",
                      "offset": 0,
                      "length": 34
                    }
                  ],
                  "5": []
                },
                {
                  "0": "It has been a winner for us.",
                  "1": "positive",
                  "3": {
                    "positive": 0.97,
                    "neutral": 0.02,
                    "negative": 0.01
                  },
                  "4": [
                    {
                      "sentiment": "positive",
                      "confidenceScores": {
                        "positive": 0.97,
                        "neutral": 0.02,
                        "negative": 0.01
                      },
                      "text": "It has been a winner for us.",
                      "offset": 0,
                      "length": 28
                    }
                  ],
                  "5": []
                },
                {
                  "0": ")Setup couldn't have been simpler.",
                  "1": "neutral",
                  "3": {
                    "positive": 0.33,
                    "neutral": 0.45,
                    "negative": 0.22
                  },
                  "4": [
                    {
                      "sentiment": "neutral",
                      "confidenceScores": {
                        "positive": 0.33,
                        "neutral": 0.45,
                        "negative": 0.22
                      },
                      "text": ")Setup couldn't have been simpler.",
                      "offset": 0,
                      "length": 34
                    }
                  ],
                  "5": []
                },
                {
                  "0": "I've tried several different earpieces for my cell phone and this Jabra one is the first one I've found that fits my ear comfortably.",
                  "1": "positive",
                  "3": {
                    "positive": 0.81,
                    "neutral": 0.17,
                    "negative": 0.01
                  },
                  "4": [
                    {
                      "sentiment": "positive",
                      "confidenceScores": {
                        "positive": 0.81,
                        "neutral": 0.17,
                        "negative": 0.01
                      },
                      "text": "I've tried several different earpieces for my cell phone and this Jabra one is the first one I've found that fits my ear comfortably.",
                      "offset": 0,
                      "length": 133
                    }
                  ],
                  "5": []
                },
                {
                  "0": "Could not get strong enough signal.",
                  "1": "negative",
                  "3": {
                    "positive": 0,
                    "neutral": 0,
                    "negative": 0.99
                  },
                  "4": [
                    {
                      "sentiment": "negative",
                      "confidenceScores": {
                        "positive": 0,
                        "neutral": 0,
                        "negative": 0.99
                      },
                      "text": "Could not get strong enough signal.",
                      "offset": 0,
                      "length": 35
                    }
                  ],
                  "5": []
                },
                {
                  "0": "Iam very pleased with my purchase.",
                  "1": "positive",
                  "3": {
                    "positive": 0.99,
                    "neutral": 0,
                    "negative": 0
                  },
                  "4": [
                    {
                      "sentiment": "positive",
                      "confidenceScores": {
                        "positive": 0.99,
                        "neutral": 0,
                        "negative": 0
                      },
                      "text": "Iam very pleased with my purchase.",
                      "offset": 0,
                      "length": 34
                    }
                  ],
                  "5": []
                },
                {
                  "0": "Bad Quality.",
                  "1": "negative",
                  "3": {
                    "positive": 0,
                    "neutral": 0,
                    "negative": 0.99
                  },
                  "4": [
                    {
                      "sentiment": "negative",
                      "confidenceScores": {
                        "positive": 0,
                        "neutral": 0,
                        "negative": 0.99
                      },
                      "text": "Bad Quality.",
                      "offset": 0,
                      "length": 12
                    }
                  ],
                  "5": []
                },
                {
                  "0": "Gets the job done.",
                  "1": "positive",
                  "3": {
                    "positive": 0.97,
                    "neutral": 0.03,
                    "negative": 0.01
                  },
                  "4": [
                    {
                      "sentiment": "positive",
                      "confidenceScores": {
                        "positive": 0.97,
                        "neutral": 0.03,
                        "negative": 0.01
                      },
                      "text": "Gets the job done.",
                      "offset": 0,
                      "length": 18
                    }
                  ],
                  "5": []
                },
                {
                  "0": "Great audio!.",
                  "1": "positive",
                  "3": {
                    "positive": 1,
                    "neutral": 0,
                    "negative": 0
                  },
                  "4": [
                    {
                      "sentiment": "positive",
                      "confidenceScores": {
                        "positive": 1,
                        "neutral": 0,
                        "negative": 0
                      },
                      "text": "Great audio!.",
                      "offset": 0,
                      "length": 13
                    }
                  ],
                  "5": []
                },
                {
                  "0": "Basically the service was very bad.",
                  "1": "negative",
                  "3": {
                    "positive": 0,
                    "neutral": 0,
                    "negative": 0.99
                  },
                  "4": [
                    {
                      "sentiment": "negative",
                      "confidenceScores": {
                        "positive": 0,
                        "neutral": 0,
                        "negative": 0.99
                      },
                      "text": "Basically the service was very bad.",
                      "offset": 0,
                      "length": 35
                    }
                  ],
                  "5": []
                },
                {
                  "0": "it did not work in my cell phone plug i am very up set with the charger!.",
                  "1": "negative",
                  "3": {
                    "positive": 0,
                    "neutral": 0.01,
                    "negative": 0.99
                  },
                  "4": [
                    {
                      "sentiment": "negative",
                      "confidenceScores": {
                        "positive": 0,
                        "neutral": 0.01,
                        "negative": 0.99
                      },
                      "text": "it did not work in my cell phone plug i am very up set with the charger!.",
                      "offset": 0,
                      "length": 73
                    }
                  ],
                  "5": []
                },
                {
                  "0": "I've only had my bluetooth for a few weeks, but I really like it.",
                  "1": "neutral",
                  "3": {
                    "positive": 0.44,
                    "neutral": 0.55,
                    "negative": 0.01
                  },
                  "4": [
                    {
                      "sentiment": "neutral",
                      "confidenceScores": {
                        "positive": 0.44,
                        "neutral": 0.55,
                        "negative": 0.01
                      },
                      "text": "I've only had my bluetooth for a few weeks, but I really like it.",
                      "offset": 0,
                      "length": 65
                    }
                  ],
                  "5": []
                },
                {
                  "0": "The BT headset was such a disapoinment.",
                  "1": "negative",
                  "3": {
                    "positive": 0,
                    "neutral": 0,
                    "negative": 0.99
                  },
                  "4": [
                    {
                      "sentiment": "negative",
                      "confidenceScores": {
                        "positive": 0,
                        "neutral": 0,
                        "negative": 0.99
                      },
                      "text": "The BT headset was such a disapoinment.",
                      "offset": 0,
                      "length": 39
                    }
                  ],
                  "5": []
                },
                {
                  "0": "It is so small and you don't even realize that it is there after a while of getting used to it.",
                  "1": "negative",
                  "3": {
                    "positive": 0.01,
                    "neutral": 0.38,
                    "negative": 0.6
                  },
                  "4": [
                    {
                      "sentiment": "negative",
                      "confidenceScores": {
                        "positive": 0.01,
                        "neutral": 0.38,
                        "negative": 0.6
                      },
                      "text": "It is so small and you don't even realize that it is there after a while of getting used to it.",
                      "offset": 0,
                      "length": 95
                    }
                  ],
                  "5": []
                },
                {
                  "0": "The accompanied software is almost brilliant.",
                  "1": "positive",
                  "3": {
                    "positive": 0.99,
                    "neutral": 0,
                    "negative": 0
                  },
                  "4": [
                    {
                      "sentiment": "positive",
                      "confidenceScores": {
                        "positive": 0.99,
                        "neutral": 0,
                        "negative": 0
                      },
                      "text": "The accompanied software is almost brilliant.",
                      "offset": 0,
                      "length": 45
                    }
                  ],
                  "5": []
                },
                {
                  "0": "Headset works great & was packaged nicely to avoid any damage.",
                  "1": "positive",
                  "3": {
                    "positive": 1,
                    "neutral": 0,
                    "negative": 0
                  },
                  "4": [
                    {
                      "sentiment": "positive",
                      "confidenceScores": {
                        "positive": 1,
                        "neutral": 0,
                        "negative": 0
                      },
                      "text": "Headset works great & was packaged nicely to avoid any damage.",
                      "offset": 0,
                      "length": 62
                    }
                  ],
                  "5": []
                },
                {
                  "0": "!I definitly recommend!!",
                  "1": "positive",
                  "3": {
                    "positive": 0.99,
                    "neutral": 0,
                    "negative": 0
                  },
                  "4": [
                    {
                      "sentiment": "neutral",
                      "confidenceScores": {
                        "positive": 0.37,
                        "neutral": 0.46,
                        "negative": 0.17
                      },
                      "text": "!",
                      "offset": 0,
                      "length": 1
                    },
                    {
                      "sentiment": "positive",
                      "confidenceScores": {
                        "positive": 0.99,
                        "neutral": 0,
                        "negative": 0
                      },
                      "text": "I definitly recommend!!",
                      "offset": 1,
                      "length": 23
                    }
                  ],
                  "5": []
                },
                {
                  "0": "Buyer--Be Very Careful!!!!!.",
                  "1": "positive",
                  "3": {
                    "positive": 0.9,
                    "neutral": 0.05,
                    "negative": 0.04
                  },
                  "4": [
                    {
                      "sentiment": "positive",
                      "confidenceScores": {
                        "positive": 0.9,
                        "neutral": 0.05,
                        "negative": 0.04
                      },
                      "text": "Buyer--Be Very Careful!!!!!.",
                      "offset": 0,
                      "length": 28
                    }
                  ],
                  "5": []
                },
                {
                  "0": "The majority of the Logitech earbud headsets failed.",
                  "1": "negative",
                  "3": {
                    "positive": 0,
                    "neutral": 0.01,
                    "negative": 0.99
                  },
                  "4": [
                    {
                      "sentiment": "negative",
                      "confidenceScores": {
                        "positive": 0,
                        "neutral": 0.01,
                        "negative": 0.99
                      },
                      "text": "The majority of the Logitech earbud headsets failed.",
                      "offset": 0,
                      "length": 52
                    }
                  ],
                  "5": []
                },
                {
                  "0": "Very good stuff for the price.",
                  "1": "positive",
                  "3": {
                    "positive": 1,
                    "neutral": 0,
                    "negative": 0
                  },
                  "4": [
                    {
                      "sentiment": "positive",
                      "confidenceScores": {
                        "positive": 1,
                        "neutral": 0,
                        "negative": 0
                      },
                      "text": "Very good stuff for the price.",
                      "offset": 0,
                      "length": 30
                    }
                  ],
                  "5": []
                },
                {
                  "0": "My headset works just peachy-keen.",
                  "1": "neutral",
                  "3": {
                    "positive": 0.05,
                    "neutral": 0.72,
                    "negative": 0.22
                  },
                  "4": [
                    {
                      "sentiment": "neutral",
                      "confidenceScores": {
                        "positive": 0.05,
                        "neutral": 0.72,
                        "negative": 0.22
                      },
                      "text": "My headset works just peachy-keen.",
                      "offset": 0,
                      "length": 34
                    }
                  ],
                  "5": []
                },
                {
                  "0": "In my house I was getting dropped coverage upstairs and no coverage in my basement.",
                  "1": "negative",
                  "3": {
                    "positive": 0.01,
                    "neutral": 0.13,
                    "negative": 0.86
                  },
                  "4": [
                    {
                      "sentiment": "negative",
                      "confidenceScores": {
                        "positive": 0.01,
                        "neutral": 0.13,
                        "negative": 0.86
                      },
                      "text": "In my house I was getting dropped coverage upstairs and no coverage in my basement.",
                      "offset": 0,
                      "length": 83
                    }
                  ],
                  "5": []
                },
                {
                  "0": "Voice recognition is tremendous!",
                  "1": "positive",
                  "3": {
                    "positive": 0.99,
                    "neutral": 0.01,
                    "negative": 0
                  },
                  "4": [
                    {
                      "sentiment": "positive",
                      "confidenceScores": {
                        "positive": 0.99,
                        "neutral": 0.01,
                        "negative": 0
                      },
                      "text": "Voice recognition is tremendous!",
                      "offset": 0,
                      "length": 32
                    }
                  ],
                  "5": []
                },
                {
                  "0": "What a waste.",
                  "1": "negative",
                  "3": {
                    "positive": 0.01,
                    "neutral": 0,
                    "negative": 0.99
                  },
                  "4": [
                    {
                      "sentiment": "negative",
                      "confidenceScores": {
                        "positive": 0.01,
                        "neutral": 0,
                        "negative": 0.99
                      },
                      "text": "What a waste.",
                      "offset": 0,
                      "length": 13
                    }
                  ],
                  "5": []
                },
                {
                  "0": "During several different 2 minute calls, I experienced 5 drops and it was in an area that had 5 bars.",
                  "1": "negative",
                  "3": {
                    "positive": 0.01,
                    "neutral": 0.34,
                    "negative": 0.65
                  },
                  "4": [
                    {
                      "sentiment": "negative",
                      "confidenceScores": {
                        "positive": 0.01,
                        "neutral": 0.34,
                        "negative": 0.65
                      },
                      "text": "During several different 2 minute calls, I experienced 5 drops and it was in an area that had 5 bars.",
                      "offset": 0,
                      "length": 101
                    }
                  ],
                  "5": []
                },
                {
                  "0": "I was not happy with this item.",
                  "1": "negative",
                  "3": {
                    "positive": 0,
                    "neutral": 0,
                    "negative": 0.99
                  },
                  "4": [
                    {
                      "sentiment": "negative",
                      "confidenceScores": {
                        "positive": 0,
                        "neutral": 0,
                        "negative": 0.99
                      },
                      "text": "I was not happy with this item.",
                      "offset": 0,
                      "length": 31
                    }
                  ],
                  "5": []
                },
                {
                  "0": "very disappointed.",
                  "1": "negative",
                  "3": {
                    "positive": 0.01,
                    "neutral": 0,
                    "negative": 0.99
                  },
                  "4": [
                    {
                      "sentiment": "negative",
                      "confidenceScores": {
                        "positive": 0.01,
                        "neutral": 0,
                        "negative": 0.99
                      },
                      "text": "very disappointed.",
                      "offset": 0,
                      "length": 18
                    }
                  ],
                  "5": []
                },
                {
                  "0": "The phone takes FOREVER to charge like 2 to 5 hours literally.",
                  "1": "neutral",
                  "3": {
                    "positive": 0.03,
                    "neutral": 0.94,
                    "negative": 0.03
                  },
                  "4": [
                    {
                      "sentiment": "neutral",
                      "confidenceScores": {
                        "positive": 0.03,
                        "neutral": 0.94,
                        "negative": 0.03
                      },
                      "text": "The phone takes FOREVER to charge like 2 to 5 hours literally.",
                      "offset": 0,
                      "length": 62
                    }
                  ],
                  "5": []
                },
                {
                  "0": "I got this phone on reccomendation from a relative and I'm glad I did.",
                  "1": "positive",
                  "3": {
                    "positive": 0.97,
                    "neutral": 0.02,
                    "negative": 0.01
                  },
                  "4": [
                    {
                      "sentiment": "positive",
                      "confidenceScores": {
                        "positive": 0.97,
                        "neutral": 0.02,
                        "negative": 0.01
                      },
                      "text": "I got this phone on reccomendation from a relative and I'm glad I did.",
                      "offset": 0,
                      "length": 70
                    }
                  ],
                  "5": []
                },
                {
                  "0": "What a waste of time!",
                  "1": "negative",
                  "3": {
                    "positive": 0.01,
                    "neutral": 0,
                    "negative": 0.98
                  },
                  "4": [
                    {
                      "sentiment": "negative",
                      "confidenceScores": {
                        "positive": 0.01,
                        "neutral": 0,
                        "negative": 0.98
                      },
                      "text": "What a waste of time!",
                      "offset": 0,
                      "length": 21
                    }
                  ],
                  "5": []
                },
                {
                  "0": "Its reception is very very poor.",
                  "1": "negative",
                  "3": {
                    "positive": 0,
                    "neutral": 0,
                    "negative": 0.99
                  },
                  "4": [
                    {
                      "sentiment": "negative",
                      "confidenceScores": {
                        "positive": 0,
                        "neutral": 0,
                        "negative": 0.99
                      },
                      "text": "Its reception is very very poor.",
                      "offset": 0,
                      "length": 32
                    }
                  ],
                  "5": []
                },
                {
                  "0": "Items stated as included from the description ARE NOT INCLUDED.",
                  "1": "neutral",
                  "3": {
                    "positive": 0.02,
                    "neutral": 0.5,
                    "negative": 0.48
                  },
                  "4": [
                    {
                      "sentiment": "neutral",
                      "confidenceScores": {
                        "positive": 0.02,
                        "neutral": 0.5,
                        "negative": 0.48
                      },
                      "text": "Items stated as included from the description ARE NOT INCLUDED.",
                      "offset": 0,
                      "length": 63
                    }
                  ],
                  "5": []
                },
                {
                  "0": "After 3 months, screen just went black all of a sudden.",
                  "1": "negative",
                  "3": {
                    "positive": 0,
                    "neutral": 0.02,
                    "negative": 0.97
                  },
                  "4": [
                    {
                      "sentiment": "negative",
                      "confidenceScores": {
                        "positive": 0,
                        "neutral": 0.02,
                        "negative": 0.97
                      },
                      "text": "After 3 months, screen just went black all of a sudden.",
                      "offset": 0,
                      "length": 55
                    }
                  ],
                  "5": []
                },
                {
                  "0": "I Was Hoping for More.",
                  "1": "neutral",
                  "3": {
                    "positive": 0.26,
                    "neutral": 0.65,
                    "negative": 0.09
                  },
                  "4": [
                    {
                      "sentiment": "neutral",
                      "confidenceScores": {
                        "positive": 0.26,
                        "neutral": 0.65,
                        "negative": 0.09
                      },
                      "text": "I Was Hoping for More.",
                      "offset": 0,
                      "length": 22
                    }
                  ],
                  "5": []
                },
                {
                  "0": "Audio Quality is poor, very poor.",
                  "1": "negative",
                  "3": {
                    "positive": 0,
                    "neutral": 0,
                    "negative": 0.99
                  },
                  "4": [
                    {
                      "sentiment": "negative",
                      "confidenceScores": {
                        "positive": 0,
                        "neutral": 0,
                        "negative": 0.99
                      },
                      "text": "Audio Quality is poor, very poor.",
                      "offset": 0,
                      "length": 33
                    }
                  ],
                  "5": []
                },
                {
                  "0": "I had absolutely no problem with this headset linking to my 8530 Blackberry Curve!",
                  "1": "positive",
                  "3": {
                    "positive": 0.87,
                    "neutral": 0.07,
                    "negative": 0.06
                  },
                  "4": [
                    {
                      "sentiment": "positive",
                      "confidenceScores": {
                        "positive": 0.87,
                        "neutral": 0.07,
                        "negative": 0.06
                      },
                      "text": "I had absolutely no problem with this headset linking to my 8530 Blackberry Curve!",
                      "offset": 0,
                      "length": 82
                    }
                  ],
                  "5": []
                },
                {
                  "0": "I know that sounds funny, but to me it seemed like sketchy technology that wouldn't work well.Well, this one works great.",
                  "1": "mixed",
                  "3": {
                    "positive": 0.5,
                    "neutral": 0,
                    "negative": 0.5
                  },
                  "4": [
                    {
                      "sentiment": "negative",
                      "confidenceScores": {
                        "positive": 0,
                        "neutral": 0,
                        "negative": 0.99
                      },
                      "text": "I know that sounds funny, but to me it seemed like sketchy technology that wouldn't work well.",
                      "offset": 0,
                      "length": 94
                    },
                    {
                      "sentiment": "positive",
                      "confidenceScores": {
                        "positive": 0.99,
                        "neutral": 0,
                        "negative": 0
                      },
                      "text": "Well, this one works great.",
                      "offset": 94,
                      "length": 27
                    }
                  ],
                  "5": []
                },
                {
                  "0": "I've bought $5 wired headphones that sound better than these.",
                  "1": "positive",
                  "3": {
                    "positive": 0.7,
                    "neutral": 0.22,
                    "negative": 0.08
                  },
                  "4": [
                    {
                      "sentiment": "positive",
                      "confidenceScores": {
                        "positive": 0.7,
                        "neutral": 0.22,
                        "negative": 0.08
                      },
                      "text": "I've bought $5 wired headphones that sound better than these.",
                      "offset": 0,
                      "length": 61
                    }
                  ],
                  "5": []
                },
                {
                  "0": "This phone is very fast with sending any kind of messages and web browsing is significantly faster than previous phones i have used.",
                  "1": "positive",
                  "3": {
                    "positive": 0.88,
                    "neutral": 0.1,
                    "negative": 0.02
                  },
                  "4": [
                    {
                      "sentiment": "positive",
                      "confidenceScores": {
                        "positive": 0.88,
                        "neutral": 0.1,
                        "negative": 0.02
                      },
                      "text": "This phone is very fast with sending any kind of messages and web browsing is significantly faster than previous phones i have used.",
                      "offset": 0,
                      "length": 132
                    }
                  ],
                  "5": []
                },
                {
                  "0": "Nice quality build, unlike some cheap s*** out there.",
                  "1": "positive",
                  "3": {
                    "positive": 0.99,
                    "neutral": 0,
                    "negative": 0.01
                  },
                  "4": [
                    {
                      "sentiment": "positive",
                      "confidenceScores": {
                        "positive": 0.99,
                        "neutral": 0,
                        "negative": 0.01
                      },
                      "text": "Nice quality build, unlike some cheap s*** out there.",
                      "offset": 0,
                      "length": 53
                    }
                  ],
                  "5": []
                },
                {
                  "0": "This item is fantastic and works perfectly!",
                  "1": "positive",
                  "3": {
                    "positive": 1,
                    "neutral": 0,
                    "negative": 0
                  },
                  "4": [
                    {
                      "sentiment": "positive",
                      "confidenceScores": {
                        "positive": 1,
                        "neutral": 0,
                        "negative": 0
                      },
                      "text": "This item is fantastic and works perfectly!",
                      "offset": 0,
                      "length": 43
                    }
                  ],
                  "5": []
                },
                {
                  "0": "And I just love the colors!",
                  "1": "positive",
                  "3": {
                    "positive": 0.99,
                    "neutral": 0.01,
                    "negative": 0
                  },
                  "4": [
                    {
                      "sentiment": "positive",
                      "confidenceScores": {
                        "positive": 0.99,
                        "neutral": 0.01,
                        "negative": 0
                      },
                      "text": "And I just love the colors!",
                      "offset": 0,
                      "length": 27
                    }
                  ],
                  "5": []
                },
                {
                  "0": "W810i is just SUPERB.",
                  "1": "positive",
                  "3": {
                    "positive": 0.96,
                    "neutral": 0.02,
                    "negative": 0.02
                  },
                  "4": [
                    {
                      "sentiment": "positive",
                      "confidenceScores": {
                        "positive": 0.96,
                        "neutral": 0.02,
                        "negative": 0.02
                      },
                      "text": "W810i is just SUPERB.",
                      "offset": 0,
                      "length": 21
                    }
                  ],
                  "5": []
                },
                {
                  "0": "All I can do is whine on the Internet, so here it goes.The more I use the thing the less I like it.",
                  "1": "negative",
                  "3": {
                    "positive": 0.08,
                    "neutral": 0.2,
                    "negative": 0.72
                  },
                  "4": [
                    {
                      "sentiment": "negative",
                      "confidenceScores": {
                        "positive": 0.01,
                        "neutral": 0.1,
                        "negative": 0.89
                      },
                      "text": "All I can do is whine on the Internet, so here it goes.",
                      "offset": 0,
                      "length": 55
                    },
                    {
                      "sentiment": "negative",
                      "confidenceScores": {
                        "positive": 0.15,
                        "neutral": 0.3,
                        "negative": 0.55
                      },
                      "text": "The more I use the thing the less I like it.",
                      "offset": 55,
                      "length": 44
                    }
                  ],
                  "5": []
                },
                {
                  "0": "Great charger.",
                  "1": "positive",
                  "3": {
                    "positive": 1,
                    "neutral": 0,
                    "negative": 0
                  },
                  "4": [
                    {
                      "sentiment": "positive",
                      "confidenceScores": {
                        "positive": 1,
                        "neutral": 0,
                        "negative": 0
                      },
                      "text": "Great charger.",
                      "offset": 0,
                      "length": 14
                    }
                  ],
                  "5": []
                },
                {
                  "0": "This is essentially a communications tool that does not communicate.",
                  "1": "negative",
                  "3": {
                    "positive": 0.01,
                    "neutral": 0.3,
                    "negative": 0.69
                  },
                  "4": [
                    {
                      "sentiment": "negative",
                      "confidenceScores": {
                        "positive": 0.01,
                        "neutral": 0.3,
                        "negative": 0.69
                      },
                      "text": "This is essentially a communications tool that does not communicate.",
                      "offset": 0,
                      "length": 68
                    }
                  ],
                  "5": []
                },
                {
                  "0": "\"Works like a charm; it work the same as the one I got with the phone.\"",
                  "1": "positive",
                  "3": {
                    "positive": 0.98,
                    "neutral": 0.02,
                    "negative": 0
                  },
                  "4": [
                    {
                      "sentiment": "positive",
                      "confidenceScores": {
                        "positive": 0.98,
                        "neutral": 0.02,
                        "negative": 0
                      },
                      "text": "\"Works like a charm; ",
                      "offset": 0,
                      "length": 21
                    },
                    {
                      "sentiment": "neutral",
                      "confidenceScores": {
                        "positive": 0.16,
                        "neutral": 0.82,
                        "negative": 0.03
                      },
                      "text": "it work the same as the one I got with the phone.\"",
                      "offset": 21,
                      "length": 50
                    }
                  ],
                  "5": []
                },
                {
                  "0": "I still maintain that monkeys shouldn't make headphones, we just obviously don't share enough DNA to copy the design over to humans.",
                  "1": "negative",
                  "3": {
                    "positive": 0,
                    "neutral": 0.05,
                    "negative": 0.95
                  },
                  "4": [
                    {
                      "sentiment": "negative",
                      "confidenceScores": {
                        "positive": 0,
                        "neutral": 0.05,
                        "negative": 0.95
                      },
                      "text": "I still maintain that monkeys shouldn't make headphones, we just obviously don't share enough DNA to copy the design over to humans.",
                      "offset": 0,
                      "length": 132
                    }
                  ],
                  "5": []
                },
                {
                  "0": "Great Value.",
                  "1": "positive",
                  "3": {
                    "positive": 1,
                    "neutral": 0,
                    "negative": 0
                  },
                  "4": [
                    {
                      "sentiment": "positive",
                      "confidenceScores": {
                        "positive": 1,
                        "neutral": 0,
                        "negative": 0
                      },
                      "text": "Great Value.",
                      "offset": 0,
                      "length": 12
                    }
                  ],
                  "5": []
                },
                {
                  "0": "Doesn't work at all.. I bougth it for my L7c and its not working.",
                  "1": "negative",
                  "3": {
                    "positive": 0,
                    "neutral": 0.01,
                    "negative": 0.98
                  },
                  "4": [
                    {
                      "sentiment": "negative",
                      "confidenceScores": {
                        "positive": 0,
                        "neutral": 0.01,
                        "negative": 0.98
                      },
                      "text": "Doesn't work at all.. ",
                      "offset": 0,
                      "length": 22
                    },
                    {
                      "sentiment": "negative",
                      "confidenceScores": {
                        "positive": 0,
                        "neutral": 0.01,
                        "negative": 0.99
                      },
                      "text": "I bougth it for my L7c and its not working.",
                      "offset": 22,
                      "length": 43
                    }
                  ],
                  "5": []
                },
                {
                  "0": "The look of it is very sharp and the screen is nice and clear, with great graphics.",
                  "1": "positive",
                  "3": {
                    "positive": 1,
                    "neutral": 0,
                    "negative": 0
                  },
                  "4": [
                    {
                      "sentiment": "positive",
                      "confidenceScores": {
                        "positive": 1,
                        "neutral": 0,
                        "negative": 0
                      },
                      "text": "The look of it is very sharp and the screen is nice and clear, with great graphics.",
                      "offset": 0,
                      "length": 83
                    }
                  ],
                  "5": []
                },
                {
                  "0": "doesn't last long.",
                  "1": "negative",
                  "3": {
                    "positive": 0.03,
                    "neutral": 0.24,
                    "negative": 0.73
                  },
                  "4": [
                    {
                      "sentiment": "negative",
                      "confidenceScores": {
                        "positive": 0.03,
                        "neutral": 0.24,
                        "negative": 0.73
                      },
                      "text": "doesn't last long.",
                      "offset": 0,
                      "length": 18
                    }
                  ],
                  "5": []
                },
                {
                  "0": "One thing I hate is the mode set button at the side.",
                  "1": "negative",
                  "3": {
                    "positive": 0,
                    "neutral": 0,
                    "negative": 0.99
                  },
                  "4": [
                    {
                      "sentiment": "negative",
                      "confidenceScores": {
                        "positive": 0,
                        "neutral": 0,
                        "negative": 0.99
                      },
                      "text": "One thing I hate is the mode set button at the side.",
                      "offset": 0,
                      "length": 52
                    }
                  ],
                  "5": []
                },
                {
                  "0": "EXCELLENT SERVICE!!!!!!!!.",
                  "1": "positive",
                  "3": {
                    "positive": 1,
                    "neutral": 0,
                    "negative": 0
                  },
                  "4": [
                    {
                      "sentiment": "positive",
                      "confidenceScores": {
                        "positive": 1,
                        "neutral": 0,
                        "negative": 0
                      },
                      "text": "EXCELLENT SERVICE!!!!!!!!.",
                      "offset": 0,
                      "length": 26
                    }
                  ],
                  "5": []
                },
                {
                  "0": "Thank you for wasting my money.",
                  "1": "negative",
                  "3": {
                    "positive": 0.14,
                    "neutral": 0.02,
                    "negative": 0.84
                  },
                  "4": [
                    {
                      "sentiment": "negative",
                      "confidenceScores": {
                        "positive": 0.14,
                        "neutral": 0.02,
                        "negative": 0.84
                      },
                      "text": "Thank you for wasting my money.",
                      "offset": 0,
                      "length": 31
                    }
                  ],
                  "5": []
                },
                {
                  "0": "How can that be?The audio quality is poor.",
                  "1": "negative",
                  "3": {
                    "positive": 0,
                    "neutral": 0,
                    "negative": 1
                  },
                  "4": [
                    {
                      "sentiment": "neutral",
                      "confidenceScores": {
                        "positive": 0.07,
                        "neutral": 0.89,
                        "negative": 0.04
                      },
                      "text": "How can that be?",
                      "offset": 0,
                      "length": 16
                    },
                    {
                      "sentiment": "negative",
                      "confidenceScores": {
                        "positive": 0,
                        "neutral": 0,
                        "negative": 1
                      },
                      "text": "The audio quality is poor.",
                      "offset": 16,
                      "length": 26
                    }
                  ],
                  "5": []
                },
                {
                  "0": "The iGo chargers and tips are really great.",
                  "1": "positive",
                  "3": {
                    "positive": 1,
                    "neutral": 0,
                    "negative": 0
                  },
                  "4": [
                    {
                      "sentiment": "positive",
                      "confidenceScores": {
                        "positive": 1,
                        "neutral": 0,
                        "negative": 0
                      },
                      "text": "The iGo chargers and tips are really great.",
                      "offset": 0,
                      "length": 43
                    }
                  ],
                  "5": []
                },
                {
                  "0": "The file browser offers all the options that one needs.Handsfree is great.",
                  "1": "positive",
                  "3": {
                    "positive": 1,
                    "neutral": 0,
                    "negative": 0
                  },
                  "4": [
                    {
                      "sentiment": "neutral",
                      "confidenceScores": {
                        "positive": 0.1,
                        "neutral": 0.89,
                        "negative": 0.01
                      },
                      "text": "The file browser offers all the options that one needs.",
                      "offset": 0,
                      "length": 55
                    },
                    {
                      "sentiment": "positive",
                      "confidenceScores": {
                        "positive": 1,
                        "neutral": 0,
                        "negative": 0
                      },
                      "text": "Handsfree is great.",
                      "offset": 55,
                      "length": 19
                    }
                  ],
                  "5": []
                },
                {
                  "0": "Superb Phone on a Great Network.",
                  "1": "positive",
                  "3": {
                    "positive": 1,
                    "neutral": 0,
                    "negative": 0
                  },
                  "4": [
                    {
                      "sentiment": "positive",
                      "confidenceScores": {
                        "positive": 1,
                        "neutral": 0,
                        "negative": 0
                      },
                      "text": "Superb Phone on a Great Network.",
                      "offset": 0,
                      "length": 32
                    }
                  ],
                  "5": []
                },
                {
                  "0": "I connected my wife's bluetooth,(Motorola HS850) to my phone and it worked like a charm whether the phone was in my pocket or the case.",
                  "1": "positive",
                  "3": {
                    "positive": 0.96,
                    "neutral": 0.03,
                    "negative": 0.01
                  },
                  "4": [
                    {
                      "sentiment": "positive",
                      "confidenceScores": {
                        "positive": 0.96,
                        "neutral": 0.03,
                        "negative": 0.01
                      },
                      "text": "I connected my wife's bluetooth,(Motorola HS850) to my phone and it worked like a charm whether the phone was in my pocket or the case.",
                      "offset": 0,
                      "length": 135
                    }
                  ],
                  "5": []
                },
                {
                  "0": "I put the latest OS on it (v1.15g), and it now likes to slow to a crawl and lock up every once in a while.",
                  "1": "positive",
                  "3": {
                    "positive": 0.78,
                    "neutral": 0.14,
                    "negative": 0.08
                  },
                  "4": [
                    {
                      "sentiment": "positive",
                      "confidenceScores": {
                        "positive": 0.78,
                        "neutral": 0.14,
                        "negative": 0.08
                      },
                      "text": "I put the latest OS on it (v1.15g), and it now likes to slow to a crawl and lock up every once in a while.",
                      "offset": 0,
                      "length": 106
                    }
                  ],
                  "5": []
                },
                {
                  "0": "It only recognizes the Phone as its storage device.",
                  "1": "neutral",
                  "3": {
                    "positive": 0,
                    "neutral": 0.98,
                    "negative": 0.01
                  },
                  "4": [
                    {
                      "sentiment": "neutral",
                      "confidenceScores": {
                        "positive": 0,
                        "neutral": 0.98,
                        "negative": 0.01
                      },
                      "text": "It only recognizes the Phone as its storage device.",
                      "offset": 0,
                      "length": 51
                    }
                  ],
                  "5": []
                },
                {
                  "0": "If you like a loud buzzing to override all your conversations, then this phone is for you!",
                  "1": "positive",
                  "3": {
                    "positive": 0.82,
                    "neutral": 0.18,
                    "negative": 0.01
                  },
                  "4": [
                    {
                      "sentiment": "positive",
                      "confidenceScores": {
                        "positive": 0.82,
                        "neutral": 0.18,
                        "negative": 0.01
                      },
                      "text": "If you like a loud buzzing to override all your conversations, then this phone is for you!",
                      "offset": 0,
                      "length": 90
                    }
                  ],
                  "5": []
                },
                {
                  "0": "Don't buy this product.",
                  "1": "negative",
                  "3": {
                    "positive": 0.01,
                    "neutral": 0.06,
                    "negative": 0.94
                  },
                  "4": [
                    {
                      "sentiment": "negative",
                      "confidenceScores": {
                        "positive": 0.01,
                        "neutral": 0.06,
                        "negative": 0.94
                      },
                      "text": "Don't buy this product.",
                      "offset": 0,
                      "length": 23
                    }
                  ],
                  "5": []
                },
                {
                  "0": "I've had this bluetoooth headset for some time now and still not comfortable with the way it fits on the ear.",
                  "1": "negative",
                  "3": {
                    "positive": 0,
                    "neutral": 0.02,
                    "negative": 0.97
                  },
                  "4": [
                    {
                      "sentiment": "negative",
                      "confidenceScores": {
                        "positive": 0,
                        "neutral": 0.02,
                        "negative": 0.97
                      },
                      "text": "I've had this bluetoooth headset for some time now and still not comfortable with the way it fits on the ear.",
                      "offset": 0,
                      "length": 109
                    }
                  ],
                  "5": []
                },
                {
                  "0": "The sound quality is good and functionality is awesome.",
                  "1": "positive",
                  "3": {
                    "positive": 1,
                    "neutral": 0,
                    "negative": 0
                  },
                  "4": [
                    {
                      "sentiment": "positive",
                      "confidenceScores": {
                        "positive": 1,
                        "neutral": 0,
                        "negative": 0
                      },
                      "text": "The sound quality is good and functionality is awesome.",
                      "offset": 0,
                      "length": 55
                    }
                  ],
                  "5": []
                },
                {
                  "0": "I have this phone and it is a thorn in my side, I really abhor it.",
                  "1": "negative",
                  "3": {
                    "positive": 0,
                    "neutral": 0,
                    "negative": 0.99
                  },
                  "4": [
                    {
                      "sentiment": "negative",
                      "confidenceScores": {
                        "positive": 0,
                        "neutral": 0,
                        "negative": 0.99
                      },
                      "text": "I have this phone and it is a thorn in my side, I really abhor it.",
                      "offset": 0,
                      "length": 66
                    }
                  ],
                  "5": []
                },
                {
                  "0": "I recently had problems where I could not stay connected for more than 10 minutes before being disconnected.",
                  "1": "negative",
                  "3": {
                    "positive": 0,
                    "neutral": 0.01,
                    "negative": 0.99
                  },
                  "4": [
                    {
                      "sentiment": "negative",
                      "confidenceScores": {
                        "positive": 0,
                        "neutral": 0.01,
                        "negative": 0.99
                      },
                      "text": "I recently had problems where I could not stay connected for more than 10 minutes before being disconnected.",
                      "offset": 0,
                      "length": 108
                    }
                  ],
                  "5": []
                },
                {
                  "0": "Incredible!.",
                  "1": "positive",
                  "3": {
                    "positive": 0.93,
                    "neutral": 0.03,
                    "negative": 0.04
                  },
                  "4": [
                    {
                      "sentiment": "positive",
                      "confidenceScores": {
                        "positive": 0.93,
                        "neutral": 0.03,
                        "negative": 0.04
                      },
                      "text": "Incredible!.",
                      "offset": 0,
                      "length": 12
                    }
                  ],
                  "5": []
                },
                {
                  "0": "Design Flaw?.",
                  "1": "negative",
                  "3": {
                    "positive": 0,
                    "neutral": 0.01,
                    "negative": 0.99
                  },
                  "4": [
                    {
                      "sentiment": "negative",
                      "confidenceScores": {
                        "positive": 0,
                        "neutral": 0.01,
                        "negative": 0.99
                      },
                      "text": "Design Flaw?.",
                      "offset": 0,
                      "length": 13
                    }
                  ],
                  "5": []
                },
                {
                  "0": "Great phone!.",
                  "1": "positive",
                  "3": {
                    "positive": 1,
                    "neutral": 0,
                    "negative": 0
                  },
                  "4": [
                    {
                      "sentiment": "positive",
                      "confidenceScores": {
                        "positive": 1,
                        "neutral": 0,
                        "negative": 0
                      },
                      "text": "Great phone!.",
                      "offset": 0,
                      "length": 13
                    }
                  ],
                  "5": []
                },
                {
                  "0": "Waste of 13 bucks.",
                  "1": "negative",
                  "3": {
                    "positive": 0,
                    "neutral": 0.01,
                    "negative": 0.99
                  },
                  "4": [
                    {
                      "sentiment": "negative",
                      "confidenceScores": {
                        "positive": 0,
                        "neutral": 0.01,
                        "negative": 0.99
                      },
                      "text": "Waste of 13 bucks.",
                      "offset": 0,
                      "length": 18
                    }
                  ],
                  "5": []
                },
                {
                  "0": "But when I check voice mail at night, the keypad backlight turns off a few seconds into the first message, and then I'm lost.",
                  "1": "negative",
                  "3": {
                    "positive": 0,
                    "neutral": 0.02,
                    "negative": 0.98
                  },
                  "4": [
                    {
                      "sentiment": "negative",
                      "confidenceScores": {
                        "positive": 0,
                        "neutral": 0.02,
                        "negative": 0.98
                      },
                      "text": "But when I check voice mail at night, the keypad backlight turns off a few seconds into the first message, and then I'm lost.",
                      "offset": 0,
                      "length": 125
                    }
                  ],
                  "5": []
                },
                {
                  "0": "The replacement died in a few weeks.",
                  "1": "negative",
                  "3": {
                    "positive": 0,
                    "neutral": 0.01,
                    "negative": 0.99
                  },
                  "4": [
                    {
                      "sentiment": "negative",
                      "confidenceScores": {
                        "positive": 0,
                        "neutral": 0.01,
                        "negative": 0.99
                      },
                      "text": "The replacement died in a few weeks.",
                      "offset": 0,
                      "length": 36
                    }
                  ],
                  "5": []
                },
                {
                  "0": "Any ring tone..Overall good phone to buy..",
                  "1": "positive",
                  "3": {
                    "positive": 1,
                    "neutral": 0,
                    "negative": 0
                  },
                  "4": [
                    {
                      "sentiment": "neutral",
                      "confidenceScores": {
                        "positive": 0.02,
                        "neutral": 0.94,
                        "negative": 0.04
                      },
                      "text": "Any ring tone..",
                      "offset": 0,
                      "length": 15
                    },
                    {
                      "sentiment": "positive",
                      "confidenceScores": {
                        "positive": 1,
                        "neutral": 0,
                        "negative": 0
                      },
                      "text": "Overall good phone to buy..",
                      "offset": 15,
                      "length": 27
                    }
                  ],
                  "5": []
                },
                {
                  "0": "Lately they have been extremely nice and helpful on the phone.",
                  "1": "positive",
                  "3": {
                    "positive": 1,
                    "neutral": 0,
                    "negative": 0
                  },
                  "4": [
                    {
                      "sentiment": "positive",
                      "confidenceScores": {
                        "positive": 1,
                        "neutral": 0,
                        "negative": 0
                      },
                      "text": "Lately they have been extremely nice and helpful on the phone.",
                      "offset": 0,
                      "length": 62
                    }
                  ],
                  "5": []
                },
                {
                  "0": "I have had problems wit hit dropping signal and more.",
                  "1": "negative",
                  "3": {
                    "positive": 0,
                    "neutral": 0.01,
                    "negative": 0.99
                  },
                  "4": [
                    {
                      "sentiment": "negative",
                      "confidenceScores": {
                        "positive": 0,
                        "neutral": 0.01,
                        "negative": 0.99
                      },
                      "text": "I have had problems wit hit dropping signal and more.",
                      "offset": 0,
                      "length": 53
                    }
                  ],
                  "5": []
                },
                {
                  "0": "Not impressed.",
                  "1": "negative",
                  "3": {
                    "positive": 0.01,
                    "neutral": 0.01,
                    "negative": 0.98
                  },
                  "4": [
                    {
                      "sentiment": "negative",
                      "confidenceScores": {
                        "positive": 0.01,
                        "neutral": 0.01,
                        "negative": 0.98
                      },
                      "text": "Not impressed.",
                      "offset": 0,
                      "length": 14
                    }
                  ],
                  "5": []
                },
                {
                  "0": "Light weight, I hardly notice it is there.",
                  "1": "neutral",
                  "3": {
                    "positive": 0.01,
                    "neutral": 0.92,
                    "negative": 0.07
                  },
                  "4": [
                    {
                      "sentiment": "neutral",
                      "confidenceScores": {
                        "positive": 0.01,
                        "neutral": 0.92,
                        "negative": 0.07
                      },
                      "text": "Light weight, I hardly notice it is there.",
                      "offset": 0,
                      "length": 42
                    }
                  ],
                  "5": []
                },
                {
                  "0": "You'll love how thin it is.",
                  "1": "positive",
                  "3": {
                    "positive": 0.93,
                    "neutral": 0.06,
                    "negative": 0.01
                  },
                  "4": [
                    {
                      "sentiment": "positive",
                      "confidenceScores": {
                        "positive": 0.93,
                        "neutral": 0.06,
                        "negative": 0.01
                      },
                      "text": "You'll love how thin it is.",
                      "offset": 0,
                      "length": 27
                    }
                  ],
                  "5": []
                },
                {
                  "0": "Bad Choice.",
                  "1": "negative",
                  "3": {
                    "positive": 0.01,
                    "neutral": 0,
                    "negative": 0.99
                  },
                  "4": [
                    {
                      "sentiment": "negative",
                      "confidenceScores": {
                        "positive": 0.01,
                        "neutral": 0,
                        "negative": 0.99
                      },
                      "text": "Bad Choice.",
                      "offset": 0,
                      "length": 11
                    }
                  ],
                  "5": []
                },
                {
                  "0": "The pleather case doesn't fit.",
                  "1": "negative",
                  "3": {
                    "positive": 0,
                    "neutral": 0.02,
                    "negative": 0.98
                  },
                  "4": [
                    {
                      "sentiment": "negative",
                      "confidenceScores": {
                        "positive": 0,
                        "neutral": 0.02,
                        "negative": 0.98
                      },
                      "text": "The pleather case doesn't fit.",
                      "offset": 0,
                      "length": 30
                    }
                  ],
                  "5": []
                },
                {
                  "0": "useless phone, simply deaf.",
                  "1": "negative",
                  "3": {
                    "positive": 0.01,
                    "neutral": 0,
                    "negative": 0.99
                  },
                  "4": [
                    {
                      "sentiment": "negative",
                      "confidenceScores": {
                        "positive": 0.01,
                        "neutral": 0,
                        "negative": 0.99
                      },
                      "text": "useless phone, simply deaf.",
                      "offset": 0,
                      "length": 27
                    }
                  ],
                  "5": []
                },
                {
                  "0": "The color is even prettier than I thought it would be, and the graphics are incredibly sharp.",
                  "1": "positive",
                  "3": {
                    "positive": 0.98,
                    "neutral": 0.01,
                    "negative": 0.01
                  },
                  "4": [
                    {
                      "sentiment": "positive",
                      "confidenceScores": {
                        "positive": 0.98,
                        "neutral": 0.01,
                        "negative": 0.01
                      },
                      "text": "The color is even prettier than I thought it would be, and the graphics are incredibly sharp.",
                      "offset": 0,
                      "length": 93
                    }
                  ],
                  "5": []
                },
                {
                  "0": "All in all I think it was a good investment.",
                  "1": "positive",
                  "3": {
                    "positive": 0.99,
                    "neutral": 0,
                    "negative": 0
                  },
                  "4": [
                    {
                      "sentiment": "positive",
                      "confidenceScores": {
                        "positive": 0.99,
                        "neutral": 0,
                        "negative": 0
                      },
                      "text": "All in all I think it was a good investment.",
                      "offset": 0,
                      "length": 44
                    }
                  ],
                  "5": []
                },
                {
                  "0": "It makes very strange ticking noises before it ends the call.",
                  "1": "negative",
                  "3": {
                    "positive": 0,
                    "neutral": 0.02,
                    "negative": 0.97
                  },
                  "4": [
                    {
                      "sentiment": "negative",
                      "confidenceScores": {
                        "positive": 0,
                        "neutral": 0.02,
                        "negative": 0.97
                      },
                      "text": "It makes very strange ticking noises before it ends the call.",
                      "offset": 0,
                      "length": 61
                    }
                  ],
                  "5": []
                },
                {
                  "0": "The best electronics of the available FM Transmitters.",
                  "1": "positive",
                  "3": {
                    "positive": 0.99,
                    "neutral": 0.01,
                    "negative": 0
                  },
                  "4": [
                    {
                      "sentiment": "positive",
                      "confidenceScores": {
                        "positive": 0.99,
                        "neutral": 0.01,
                        "negative": 0
                      },
                      "text": "The best electronics of the available FM Transmitters.",
                      "offset": 0,
                      "length": 54
                    }
                  ],
                  "5": []
                },
                {
                  "0": "Battery lasts only a few hours.",
                  "1": "neutral",
                  "3": {
                    "positive": 0.01,
                    "neutral": 0.96,
                    "negative": 0.03
                  },
                  "4": [
                    {
                      "sentiment": "neutral",
                      "confidenceScores": {
                        "positive": 0.01,
                        "neutral": 0.96,
                        "negative": 0.03
                      },
                      "text": "Battery lasts only a few hours.",
                      "offset": 0,
                      "length": 31
                    }
                  ],
                  "5": []
                },
                {
                  "0": "great headset, very impressed - H500.",
                  "1": "positive",
                  "3": {
                    "positive": 1,
                    "neutral": 0,
                    "negative": 0
                  },
                  "4": [
                    {
                      "sentiment": "positive",
                      "confidenceScores": {
                        "positive": 1,
                        "neutral": 0,
                        "negative": 0
                      },
                      "text": "great headset, very impressed - H500.",
                      "offset": 0,
                      "length": 37
                    }
                  ],
                  "5": []
                },
                {
                  "0": "\"The \"\"1.2\"\" mega pixel camera, being a part of a phone, is reasonably good7.\"",
                  "1": "positive",
                  "3": {
                    "positive": 0.99,
                    "neutral": 0,
                    "negative": 0.01
                  },
                  "4": [
                    {
                      "sentiment": "positive",
                      "confidenceScores": {
                        "positive": 0.99,
                        "neutral": 0,
                        "negative": 0.01
                      },
                      "text": "\"The \"\"1.2\"\" mega pixel camera, being a part of a phone, is reasonably good7.\"",
                      "offset": 0,
                      "length": 78
                    }
                  ],
                  "5": []
                },
                {
                  "0": "I've had this for nearly 2 years and it has worked great for me.",
                  "1": "positive",
                  "3": {
                    "positive": 1,
                    "neutral": 0,
                    "negative": 0
                  },
                  "4": [
                    {
                      "sentiment": "positive",
                      "confidenceScores": {
                        "positive": 1,
                        "neutral": 0,
                        "negative": 0
                      },
                      "text": "I've had this for nearly 2 years and it has worked great for me.",
                      "offset": 0,
                      "length": 64
                    }
                  ],
                  "5": []
                },
                {
                  "0": "Good transmit audio.",
                  "1": "positive",
                  "3": {
                    "positive": 1,
                    "neutral": 0,
                    "negative": 0
                  },
                  "4": [
                    {
                      "sentiment": "positive",
                      "confidenceScores": {
                        "positive": 1,
                        "neutral": 0,
                        "negative": 0
                      },
                      "text": "Good transmit audio.",
                      "offset": 0,
                      "length": 20
                    }
                  ],
                  "5": []
                },
                {
                  "0": "We are sending it back.",
                  "1": "neutral",
                  "3": {
                    "positive": 0.03,
                    "neutral": 0.95,
                    "negative": 0.02
                  },
                  "4": [
                    {
                      "sentiment": "neutral",
                      "confidenceScores": {
                        "positive": 0.03,
                        "neutral": 0.95,
                        "negative": 0.02
                      },
                      "text": "We are sending it back.",
                      "offset": 0,
                      "length": 23
                    }
                  ],
                  "5": []
                },
                {
                  "0": "I did not bother contacting the company for few dollar product but I learned the lesson that I should not have bought this form online anyway.",
                  "1": "negative",
                  "3": {
                    "positive": 0.19,
                    "neutral": 0.1,
                    "negative": 0.71
                  },
                  "4": [
                    {
                      "sentiment": "negative",
                      "confidenceScores": {
                        "positive": 0.19,
                        "neutral": 0.1,
                        "negative": 0.71
                      },
                      "text": "I did not bother contacting the company for few dollar product but I learned the lesson that I should not have bought this form online anyway.",
                      "offset": 0,
                      "length": 142
                    }
                  ],
                  "5": []
                },
                {
                  "0": "If you hate earbugs, avoid this phone by all means.",
                  "1": "negative",
                  "3": {
                    "positive": 0.01,
                    "neutral": 0.01,
                    "negative": 0.98
                  },
                  "4": [
                    {
                      "sentiment": "negative",
                      "confidenceScores": {
                        "positive": 0.01,
                        "neutral": 0.01,
                        "negative": 0.98
                      },
                      "text": "If you hate earbugs, avoid this phone by all means.",
                      "offset": 0,
                      "length": 51
                    }
                  ],
                  "5": []
                },
                {
                  "0": "Great price also!",
                  "1": "positive",
                  "3": {
                    "positive": 1,
                    "neutral": 0,
                    "negative": 0
                  },
                  "4": [
                    {
                      "sentiment": "positive",
                      "confidenceScores": {
                        "positive": 1,
                        "neutral": 0,
                        "negative": 0
                      },
                      "text": "Great price also!",
                      "offset": 0,
                      "length": 17
                    }
                  ],
                  "5": []
                },
                {
                  "0": "The range is very decent, I've been able to roam around my house with the phone in the living room with no reception/sound quality issues.",
                  "1": "positive",
                  "3": {
                    "positive": 0.98,
                    "neutral": 0.01,
                    "negative": 0.01
                  },
                  "4": [
                    {
                      "sentiment": "positive",
                      "confidenceScores": {
                        "positive": 0.98,
                        "neutral": 0.01,
                        "negative": 0.01
                      },
                      "text": "The range is very decent, I've been able to roam around my house with the phone in the living room with no reception/sound quality issues.",
                      "offset": 0,
                      "length": 138
                    }
                  ],
                  "5": []
                },
                {
                  "0": "fast service.",
                  "1": "positive",
                  "3": {
                    "positive": 0.99,
                    "neutral": 0.01,
                    "negative": 0
                  },
                  "4": [
                    {
                      "sentiment": "positive",
                      "confidenceScores": {
                        "positive": 0.99,
                        "neutral": 0.01,
                        "negative": 0
                      },
                      "text": "fast service.",
                      "offset": 0,
                      "length": 13
                    }
                  ],
                  "5": []
                },
                {
                  "0": "I would highly recommend this.",
                  "1": "positive",
                  "3": {
                    "positive": 0.99,
                    "neutral": 0,
                    "negative": 0
                  },
                  "4": [
                    {
                      "sentiment": "positive",
                      "confidenceScores": {
                        "positive": 0.99,
                        "neutral": 0,
                        "negative": 0
                      },
                      "text": "I would highly recommend this.",
                      "offset": 0,
                      "length": 30
                    }
                  ],
                  "5": []
                },
                {
                  "0": "I would recommend this.",
                  "1": "positive",
                  "3": {
                    "positive": 0.99,
                    "neutral": 0,
                    "negative": 0.01
                  },
                  "4": [
                    {
                      "sentiment": "positive",
                      "confidenceScores": {
                        "positive": 0.99,
                        "neutral": 0,
                        "negative": 0.01
                      },
                      "text": "I would recommend this.",
                      "offset": 0,
                      "length": 23
                    }
                  ],
                  "5": []
                },
                {
                  "0": "\"I also didn't like the \"\"on\"\" button, it felt like it would crack with use.\"",
                  "1": "negative",
                  "3": {
                    "positive": 0,
                    "neutral": 0.01,
                    "negative": 0.99
                  },
                  "4": [
                    {
                      "sentiment": "negative",
                      "confidenceScores": {
                        "positive": 0,
                        "neutral": 0.01,
                        "negative": 0.99
                      },
                      "text": "\"I also didn't like the \"\"on\"\" button, it felt like it would crack with use.\"",
                      "offset": 0,
                      "length": 77
                    }
                  ],
                  "5": []
                },
                {
                  "0": "WORST PHONE EVER.",
                  "1": "negative",
                  "3": {
                    "positive": 0.01,
                    "neutral": 0,
                    "negative": 0.99
                  },
                  "4": [
                    {
                      "sentiment": "negative",
                      "confidenceScores": {
                        "positive": 0.01,
                        "neutral": 0,
                        "negative": 0.99
                      },
                      "text": "WORST PHONE EVER.",
                      "offset": 0,
                      "length": 17
                    }
                  ],
                  "5": []
                },
                {
                  "0": "I'm still infatuated with this phone.",
                  "1": "neutral",
                  "3": {
                    "positive": 0.19,
                    "neutral": 0.52,
                    "negative": 0.29
                  },
                  "4": [
                    {
                      "sentiment": "neutral",
                      "confidenceScores": {
                        "positive": 0.19,
                        "neutral": 0.52,
                        "negative": 0.29
                      },
                      "text": "I'm still infatuated with this phone.",
                      "offset": 0,
                      "length": 37
                    }
                  ],
                  "5": []
                },
                {
                  "0": "Freezes frequently4.",
                  "1": "neutral",
                  "3": {
                    "positive": 0.08,
                    "neutral": 0.76,
                    "negative": 0.16
                  },
                  "4": [
                    {
                      "sentiment": "neutral",
                      "confidenceScores": {
                        "positive": 0.08,
                        "neutral": 0.76,
                        "negative": 0.16
                      },
                      "text": "Freezes frequently4.",
                      "offset": 0,
                      "length": 20
                    }
                  ],
                  "5": []
                },
                {
                  "0": "It's kind of embarrassing to use because of how it looks and mostly it's embarrassing how child-like the company is.",
                  "1": "negative",
                  "3": {
                    "positive": 0,
                    "neutral": 0,
                    "negative": 0.99
                  },
                  "4": [
                    {
                      "sentiment": "negative",
                      "confidenceScores": {
                        "positive": 0,
                        "neutral": 0,
                        "negative": 0.99
                      },
                      "text": "It's kind of embarrassing to use because of how it looks and mostly it's embarrassing how child-like the company is.",
                      "offset": 0,
                      "length": 116
                    }
                  ],
                  "5": []
                },
                {
                  "0": "Simple, lightweight and great fit.",
                  "1": "positive",
                  "3": {
                    "positive": 1,
                    "neutral": 0,
                    "negative": 0
                  },
                  "4": [
                    {
                      "sentiment": "positive",
                      "confidenceScores": {
                        "positive": 1,
                        "neutral": 0,
                        "negative": 0
                      },
                      "text": "Simple, lightweight and great fit.",
                      "offset": 0,
                      "length": 34
                    }
                  ],
                  "5": []
                },
                {
                  "0": "All in all, I'd expected a better consumer experience from Motorola.",
                  "1": "positive",
                  "3": {
                    "positive": 0.93,
                    "neutral": 0.03,
                    "negative": 0.04
                  },
                  "4": [
                    {
                      "sentiment": "positive",
                      "confidenceScores": {
                        "positive": 0.93,
                        "neutral": 0.03,
                        "negative": 0.04
                      },
                      "text": "All in all, I'd expected a better consumer experience from Motorola.",
                      "offset": 0,
                      "length": 68
                    }
                  ],
                  "5": []
                },
                {
                  "0": "There's a horrible tick sound in the background on all my calls that I have never experienced before.",
                  "1": "negative",
                  "3": {
                    "positive": 0,
                    "neutral": 0,
                    "negative": 0.99
                  },
                  "4": [
                    {
                      "sentiment": "negative",
                      "confidenceScores": {
                        "positive": 0,
                        "neutral": 0,
                        "negative": 0.99
                      },
                      "text": "There's a horrible tick sound in the background on all my calls that I have never experienced before.",
                      "offset": 0,
                      "length": 101
                    }
                  ],
                  "5": []
                },
                {
                  "0": "These are certainly very comfortable and functionality is decent.",
                  "1": "positive",
                  "3": {
                    "positive": 0.99,
                    "neutral": 0,
                    "negative": 0
                  },
                  "4": [
                    {
                      "sentiment": "positive",
                      "confidenceScores": {
                        "positive": 0.99,
                        "neutral": 0,
                        "negative": 0
                      },
                      "text": "These are certainly very comfortable and functionality is decent.",
                      "offset": 0,
                      "length": 65
                    }
                  ],
                  "5": []
                },
                {
                  "0": "I usually don't like headbands but this one is very lightweight & doesn't mess up my hair.",
                  "1": "positive",
                  "3": {
                    "positive": 0.63,
                    "neutral": 0.24,
                    "negative": 0.13
                  },
                  "4": [
                    {
                      "sentiment": "positive",
                      "confidenceScores": {
                        "positive": 0.63,
                        "neutral": 0.24,
                        "negative": 0.13
                      },
                      "text": "I usually don't like headbands but this one is very lightweight & doesn't mess up my hair.",
                      "offset": 0,
                      "length": 90
                    }
                  ],
                  "5": []
                },
                {
                  "0": "I'm a bit disappointed.",
                  "1": "negative",
                  "3": {
                    "positive": 0,
                    "neutral": 0,
                    "negative": 0.99
                  },
                  "4": [
                    {
                      "sentiment": "negative",
                      "confidenceScores": {
                        "positive": 0,
                        "neutral": 0,
                        "negative": 0.99
                      },
                      "text": "I'm a bit disappointed.",
                      "offset": 0,
                      "length": 23
                    }
                  ],
                  "5": []
                },
                {
                  "0": "I have had this phone for over a year now, and I will tell you, its not that great.",
                  "1": "negative",
                  "3": {
                    "positive": 0.01,
                    "neutral": 0.01,
                    "negative": 0.98
                  },
                  "4": [
                    {
                      "sentiment": "negative",
                      "confidenceScores": {
                        "positive": 0.01,
                        "neutral": 0.01,
                        "negative": 0.98
                      },
                      "text": "I have had this phone for over a year now, and I will tell you, its not that great.",
                      "offset": 0,
                      "length": 83
                    }
                  ],
                  "5": []
                },
                {
                  "0": "I ordered this for sony Ericsson W810i but I think it only worked once (thats when I first used it).",
                  "1": "negative",
                  "3": {
                    "positive": 0.07,
                    "neutral": 0.18,
                    "negative": 0.75
                  },
                  "4": [
                    {
                      "sentiment": "negative",
                      "confidenceScores": {
                        "positive": 0.07,
                        "neutral": 0.18,
                        "negative": 0.75
                      },
                      "text": "I ordered this for sony Ericsson W810i but I think it only worked once (thats when I first used it).",
                      "offset": 0,
                      "length": 100
                    }
                  ],
                  "5": []
                },
                {
                  "0": "The battery is completely useless to me.",
                  "1": "negative",
                  "3": {
                    "positive": 0,
                    "neutral": 0,
                    "negative": 0.99
                  },
                  "4": [
                    {
                      "sentiment": "negative",
                      "confidenceScores": {
                        "positive": 0,
                        "neutral": 0,
                        "negative": 0.99
                      },
                      "text": "The battery is completely useless to me.",
                      "offset": 0,
                      "length": 40
                    }
                  ],
                  "5": []
                },
                {
                  "0": "What a big waste of time.",
                  "1": "negative",
                  "3": {
                    "positive": 0.01,
                    "neutral": 0,
                    "negative": 0.99
                  },
                  "4": [
                    {
                      "sentiment": "negative",
                      "confidenceScores": {
                        "positive": 0.01,
                        "neutral": 0,
                        "negative": 0.99
                      },
                      "text": "What a big waste of time.",
                      "offset": 0,
                      "length": 25
                    }
                  ],
                  "5": []
                },
                {
                  "0": "Don't waste your $$$ on this one.",
                  "1": "positive",
                  "3": {
                    "positive": 0.43,
                    "neutral": 0.16,
                    "negative": 0.41
                  },
                  "4": [
                    {
                      "sentiment": "positive",
                      "confidenceScores": {
                        "positive": 0.43,
                        "neutral": 0.16,
                        "negative": 0.41
                      },
                      "text": "Don't waste your $$$ on this one.",
                      "offset": 0,
                      "length": 33
                    }
                  ],
                  "5": []
                },
                {
                  "0": "Great sound and service.",
                  "1": "positive",
                  "3": {
                    "positive": 1,
                    "neutral": 0,
                    "negative": 0
                  },
                  "4": [
                    {
                      "sentiment": "positive",
                      "confidenceScores": {
                        "positive": 1,
                        "neutral": 0,
                        "negative": 0
                      },
                      "text": "Great sound and service.",
                      "offset": 0,
                      "length": 24
                    }
                  ],
                  "5": []
                },
                {
                  "0": "Really pleased with this product so far.",
                  "1": "positive",
                  "3": {
                    "positive": 1,
                    "neutral": 0,
                    "negative": 0
                  },
                  "4": [
                    {
                      "sentiment": "positive",
                      "confidenceScores": {
                        "positive": 1,
                        "neutral": 0,
                        "negative": 0
                      },
                      "text": "Really pleased with this product so far.",
                      "offset": 0,
                      "length": 40
                    }
                  ],
                  "5": []
                },
                {
                  "0": "One of my favorite purchases ever.",
                  "1": "positive",
                  "3": {
                    "positive": 0.99,
                    "neutral": 0,
                    "negative": 0
                  },
                  "4": [
                    {
                      "sentiment": "positive",
                      "confidenceScores": {
                        "positive": 0.99,
                        "neutral": 0,
                        "negative": 0
                      },
                      "text": "One of my favorite purchases ever.",
                      "offset": 0,
                      "length": 34
                    }
                  ],
                  "5": []
                },
                {
                  "0": "best bluetooth on the market.",
                  "1": "positive",
                  "3": {
                    "positive": 0.99,
                    "neutral": 0,
                    "negative": 0
                  },
                  "4": [
                    {
                      "sentiment": "positive",
                      "confidenceScores": {
                        "positive": 0.99,
                        "neutral": 0,
                        "negative": 0
                      },
                      "text": "best bluetooth on the market.",
                      "offset": 0,
                      "length": 29
                    }
                  ],
                  "5": []
                },
                {
                  "0": "Authentic leather with nice shine and comfort .I recommend you this case !!",
                  "1": "positive",
                  "3": {
                    "positive": 0.99,
                    "neutral": 0.01,
                    "negative": 0
                  },
                  "4": [
                    {
                      "sentiment": "positive",
                      "confidenceScores": {
                        "positive": 0.99,
                        "neutral": 0.01,
                        "negative": 0
                      },
                      "text": "Authentic leather with nice shine and comfort .",
                      "offset": 0,
                      "length": 47
                    },
                    {
                      "sentiment": "positive",
                      "confidenceScores": {
                        "positive": 0.99,
                        "neutral": 0,
                        "negative": 0
                      },
                      "text": "I recommend you this case !!",
                      "offset": 47,
                      "length": 28
                    }
                  ],
                  "5": []
                },
                {
                  "0": "I was very excited to get this headset because I thought it was really cute.",
                  "1": "positive",
                  "3": {
                    "positive": 0.99,
                    "neutral": 0,
                    "negative": 0
                  },
                  "4": [
                    {
                      "sentiment": "positive",
                      "confidenceScores": {
                        "positive": 0.99,
                        "neutral": 0,
                        "negative": 0
                      },
                      "text": "I was very excited to get this headset because I thought it was really cute.",
                      "offset": 0,
                      "length": 76
                    }
                  ],
                  "5": []
                },
                {
                  "0": "Do not make the same mistake as me.",
                  "1": "negative",
                  "3": {
                    "positive": 0.03,
                    "neutral": 0.07,
                    "negative": 0.9
                  },
                  "4": [
                    {
                      "sentiment": "negative",
                      "confidenceScores": {
                        "positive": 0.03,
                        "neutral": 0.07,
                        "negative": 0.9
                      },
                      "text": "Do not make the same mistake as me.",
                      "offset": 0,
                      "length": 35
                    }
                  ],
                  "5": []
                },
                {
                  "0": "Big Disappointment with calendar sync.",
                  "1": "negative",
                  "3": {
                    "positive": 0,
                    "neutral": 0,
                    "negative": 0.99
                  },
                  "4": [
                    {
                      "sentiment": "negative",
                      "confidenceScores": {
                        "positive": 0,
                        "neutral": 0,
                        "negative": 0.99
                      },
                      "text": "Big Disappointment with calendar sync.",
                      "offset": 0,
                      "length": 38
                    }
                  ],
                  "5": []
                },
                {
                  "0": "the phone was unusable and was not new.",
                  "1": "negative",
                  "3": {
                    "positive": 0,
                    "neutral": 0.01,
                    "negative": 0.99
                  },
                  "4": [
                    {
                      "sentiment": "negative",
                      "confidenceScores": {
                        "positive": 0,
                        "neutral": 0.01,
                        "negative": 0.99
                      },
                      "text": "the phone was unusable and was not new.",
                      "offset": 0,
                      "length": 39
                    }
                  ],
                  "5": []
                },
                {
                  "0": "Worst Customer Service Ever.",
                  "1": "negative",
                  "3": {
                    "positive": 0.01,
                    "neutral": 0,
                    "negative": 0.99
                  },
                  "4": [
                    {
                      "sentiment": "negative",
                      "confidenceScores": {
                        "positive": 0.01,
                        "neutral": 0,
                        "negative": 0.99
                      },
                      "text": "Worst Customer Service Ever.",
                      "offset": 0,
                      "length": 28
                    }
                  ],
                  "5": []
                },
                {
                  "0": "No additional ear gels provided, and no instructions whatsoever.",
                  "1": "negative",
                  "3": {
                    "positive": 0.01,
                    "neutral": 0.02,
                    "negative": 0.97
                  },
                  "4": [
                    {
                      "sentiment": "negative",
                      "confidenceScores": {
                        "positive": 0.01,
                        "neutral": 0.02,
                        "negative": 0.97
                      },
                      "text": "No additional ear gels provided, and no instructions whatsoever.",
                      "offset": 0,
                      "length": 64
                    }
                  ],
                  "5": []
                },
                {
                  "0": "It defeats the purpose of a bluetooth headset.",
                  "1": "negative",
                  "3": {
                    "positive": 0,
                    "neutral": 0.01,
                    "negative": 0.99
                  },
                  "4": [
                    {
                      "sentiment": "negative",
                      "confidenceScores": {
                        "positive": 0,
                        "neutral": 0.01,
                        "negative": 0.99
                      },
                      "text": "It defeats the purpose of a bluetooth headset.",
                      "offset": 0,
                      "length": 46
                    }
                  ],
                  "5": []
                },
                {
                  "0": "Worth every penny.",
                  "1": "positive",
                  "3": {
                    "positive": 0.73,
                    "neutral": 0.16,
                    "negative": 0.11
                  },
                  "4": [
                    {
                      "sentiment": "positive",
                      "confidenceScores": {
                        "positive": 0.73,
                        "neutral": 0.16,
                        "negative": 0.11
                      },
                      "text": "Worth every penny.",
                      "offset": 0,
                      "length": 18
                    }
                  ],
                  "5": []
                },
                {
                  "0": "Excellent wallet type phone case.",
                  "1": "positive",
                  "3": {
                    "positive": 1,
                    "neutral": 0,
                    "negative": 0
                  },
                  "4": [
                    {
                      "sentiment": "positive",
                      "confidenceScores": {
                        "positive": 1,
                        "neutral": 0,
                        "negative": 0
                      },
                      "text": "Excellent wallet type phone case.",
                      "offset": 0,
                      "length": 33
                    }
                  ],
                  "5": []
                },
                {
                  "0": "Nice headphones for the price and they work great!",
                  "1": "positive",
                  "3": {
                    "positive": 1,
                    "neutral": 0,
                    "negative": 0
                  },
                  "4": [
                    {
                      "sentiment": "positive",
                      "confidenceScores": {
                        "positive": 1,
                        "neutral": 0,
                        "negative": 0
                      },
                      "text": "Nice headphones for the price and they work great!",
                      "offset": 0,
                      "length": 50
                    }
                  ],
                  "5": []
                },
                {
                  "0": "Internet is excrutiatingly slow.",
                  "1": "negative",
                  "3": {
                    "positive": 0,
                    "neutral": 0.01,
                    "negative": 0.99
                  },
                  "4": [
                    {
                      "sentiment": "negative",
                      "confidenceScores": {
                        "positive": 0,
                        "neutral": 0.01,
                        "negative": 0.99
                      },
                      "text": "Internet is excrutiatingly slow.",
                      "offset": 0,
                      "length": 32
                    }
                  ],
                  "5": []
                },
                {
                  "0": "It is very comfortable to wear as well, which is probably the most important aspect about using a case.",
                  "1": "positive",
                  "3": {
                    "positive": 0.98,
                    "neutral": 0.01,
                    "negative": 0
                  },
                  "4": [
                    {
                      "sentiment": "positive",
                      "confidenceScores": {
                        "positive": 0.98,
                        "neutral": 0.01,
                        "negative": 0
                      },
                      "text": "It is very comfortable to wear as well, which is probably the most important aspect about using a case.",
                      "offset": 0,
                      "length": 103
                    }
                  ],
                  "5": []
                },
                {
                  "0": "It's fits like a glove and is strong, secure, and durable.",
                  "1": "positive",
                  "3": {
                    "positive": 0.73,
                    "neutral": 0.26,
                    "negative": 0.01
                  },
                  "4": [
                    {
                      "sentiment": "positive",
                      "confidenceScores": {
                        "positive": 0.73,
                        "neutral": 0.26,
                        "negative": 0.01
                      },
                      "text": "It's fits like a glove and is strong, secure, and durable.",
                      "offset": 0,
                      "length": 58
                    }
                  ],
                  "5": []
                },
                {
                  "0": "O my gosh the best phone I have ever had.",
                  "1": "positive",
                  "3": {
                    "positive": 0.99,
                    "neutral": 0,
                    "negative": 0
                  },
                  "4": [
                    {
                      "sentiment": "positive",
                      "confidenceScores": {
                        "positive": 0.99,
                        "neutral": 0,
                        "negative": 0
                      },
                      "text": "O my gosh the best phone I have ever had.",
                      "offset": 0,
                      "length": 41
                    }
                  ],
                  "5": []
                },
                {
                  "0": "It's very attractive and appears to be of good quality.",
                  "1": "positive",
                  "3": {
                    "positive": 1,
                    "neutral": 0,
                    "negative": 0
                  },
                  "4": [
                    {
                      "sentiment": "positive",
                      "confidenceScores": {
                        "positive": 1,
                        "neutral": 0,
                        "negative": 0
                      },
                      "text": "It's very attractive and appears to be of good quality.",
                      "offset": 0,
                      "length": 55
                    }
                  ],
                  "5": []
                },
                {
                  "0": "I love all the features and form factor.",
                  "1": "positive",
                  "3": {
                    "positive": 0.99,
                    "neutral": 0,
                    "negative": 0
                  },
                  "4": [
                    {
                      "sentiment": "positive",
                      "confidenceScores": {
                        "positive": 0.99,
                        "neutral": 0,
                        "negative": 0
                      },
                      "text": "I love all the features and form factor.",
                      "offset": 0,
                      "length": 40
                    }
                  ],
                  "5": []
                },
                {
                  "0": "This product had a strong rubber/petroleum smell that was unbearable after a while and caused me to return it",
                  "1": "negative",
                  "3": {
                    "positive": 0.01,
                    "neutral": 0,
                    "negative": 0.99
                  },
                  "4": [
                    {
                      "sentiment": "negative",
                      "confidenceScores": {
                        "positive": 0.01,
                        "neutral": 0,
                        "negative": 0.99
                      },
                      "text": "This product had a strong rubber/petroleum smell that was unbearable after a while and caused me to return it",
                      "offset": 0,
                      "length": 109
                    }
                  ],
                  "5": []
                },
                {
                  "0": "poor quality and service.",
                  "1": "negative",
                  "3": {
                    "positive": 0.01,
                    "neutral": 0,
                    "negative": 0.99
                  },
                  "4": [
                    {
                      "sentiment": "negative",
                      "confidenceScores": {
                        "positive": 0.01,
                        "neutral": 0,
                        "negative": 0.99
                      },
                      "text": "poor quality and service.",
                      "offset": 0,
                      "length": 25
                    }
                  ],
                  "5": []
                },
                {
                  "0": "The cable looks so thin and flimsy, it is scary.",
                  "1": "negative",
                  "3": {
                    "positive": 0,
                    "neutral": 0,
                    "negative": 0.99
                  },
                  "4": [
                    {
                      "sentiment": "negative",
                      "confidenceScores": {
                        "positive": 0,
                        "neutral": 0,
                        "negative": 0.99
                      },
                      "text": "The cable looks so thin and flimsy, it is scary.",
                      "offset": 0,
                      "length": 48
                    }
                  ],
                  "5": []
                },
                {
                  "0": "Great Earpiece.",
                  "1": "positive",
                  "3": {
                    "positive": 1,
                    "neutral": 0,
                    "negative": 0
                  },
                  "4": [
                    {
                      "sentiment": "positive",
                      "confidenceScores": {
                        "positive": 1,
                        "neutral": 0,
                        "negative": 0
                      },
                      "text": "Great Earpiece.",
                      "offset": 0,
                      "length": 15
                    }
                  ],
                  "5": []
                },
                {
                  "0": "Excellent hands free tool.",
                  "1": "positive",
                  "3": {
                    "positive": 1,
                    "neutral": 0,
                    "negative": 0
                  },
                  "4": [
                    {
                      "sentiment": "positive",
                      "confidenceScores": {
                        "positive": 1,
                        "neutral": 0,
                        "negative": 0
                      },
                      "text": "Excellent hands free tool.",
                      "offset": 0,
                      "length": 26
                    }
                  ],
                  "5": []
                },
                {
                  "0": "Great for using with your home stereo.",
                  "1": "positive",
                  "3": {
                    "positive": 1,
                    "neutral": 0,
                    "negative": 0
                  },
                  "4": [
                    {
                      "sentiment": "positive",
                      "confidenceScores": {
                        "positive": 1,
                        "neutral": 0,
                        "negative": 0
                      },
                      "text": "Great for using with your home stereo.",
                      "offset": 0,
                      "length": 38
                    }
                  ],
                  "5": []
                },
                {
                  "0": "Good product - incredible value.",
                  "1": "positive",
                  "3": {
                    "positive": 1,
                    "neutral": 0,
                    "negative": 0
                  },
                  "4": [
                    {
                      "sentiment": "positive",
                      "confidenceScores": {
                        "positive": 1,
                        "neutral": 0,
                        "negative": 0
                      },
                      "text": "Good product - incredible value.",
                      "offset": 0,
                      "length": 32
                    }
                  ],
                  "5": []
                },
                {
                  "0": "Only had this a month but it's worked flawlessly so far.",
                  "1": "positive",
                  "3": {
                    "positive": 0.97,
                    "neutral": 0.01,
                    "negative": 0.02
                  },
                  "4": [
                    {
                      "sentiment": "positive",
                      "confidenceScores": {
                        "positive": 0.97,
                        "neutral": 0.01,
                        "negative": 0.02
                      },
                      "text": "Only had this a month but it's worked flawlessly so far.",
                      "offset": 0,
                      "length": 56
                    }
                  ],
                  "5": []
                },
                {
                  "0": "Works great.",
                  "1": "positive",
                  "3": {
                    "positive": 1,
                    "neutral": 0,
                    "negative": 0
                  },
                  "4": [
                    {
                      "sentiment": "positive",
                      "confidenceScores": {
                        "positive": 1,
                        "neutral": 0,
                        "negative": 0
                      },
                      "text": "Works great.",
                      "offset": 0,
                      "length": 12
                    }
                  ],
                  "5": []
                },
                {
                  "0": "Absolutel junk.",
                  "1": "negative",
                  "3": {
                    "positive": 0.01,
                    "neutral": 0.02,
                    "negative": 0.97
                  },
                  "4": [
                    {
                      "sentiment": "negative",
                      "confidenceScores": {
                        "positive": 0.01,
                        "neutral": 0.02,
                        "negative": 0.97
                      },
                      "text": "Absolutel junk.",
                      "offset": 0,
                      "length": 15
                    }
                  ],
                  "5": []
                },
                {
                  "0": "THAT one didn't work either.",
                  "1": "negative",
                  "3": {
                    "positive": 0,
                    "neutral": 0.01,
                    "negative": 0.98
                  },
                  "4": [
                    {
                      "sentiment": "negative",
                      "confidenceScores": {
                        "positive": 0,
                        "neutral": 0.01,
                        "negative": 0.98
                      },
                      "text": "THAT one didn't work either.",
                      "offset": 0,
                      "length": 28
                    }
                  ],
                  "5": []
                },
                {
                  "0": "Battery life is real good.",
                  "1": "positive",
                  "3": {
                    "positive": 0.99,
                    "neutral": 0,
                    "negative": 0
                  },
                  "4": [
                    {
                      "sentiment": "positive",
                      "confidenceScores": {
                        "positive": 0.99,
                        "neutral": 0,
                        "negative": 0
                      },
                      "text": "Battery life is real good.",
                      "offset": 0,
                      "length": 26
                    }
                  ],
                  "5": []
                },
                {
                  "0": "Returned 8 hours later.",
                  "1": "neutral",
                  "3": {
                    "positive": 0.08,
                    "neutral": 0.58,
                    "negative": 0.34
                  },
                  "4": [
                    {
                      "sentiment": "neutral",
                      "confidenceScores": {
                        "positive": 0.08,
                        "neutral": 0.58,
                        "negative": 0.34
                      },
                      "text": "Returned 8 hours later.",
                      "offset": 0,
                      "length": 23
                    }
                  ],
                  "5": []
                },
                {
                  "0": "It's a great item.",
                  "1": "positive",
                  "3": {
                    "positive": 1,
                    "neutral": 0,
                    "negative": 0
                  },
                  "4": [
                    {
                      "sentiment": "positive",
                      "confidenceScores": {
                        "positive": 1,
                        "neutral": 0,
                        "negative": 0
                      },
                      "text": "It's a great item.",
                      "offset": 0,
                      "length": 18
                    }
                  ],
                  "5": []
                },
                {
                  "0": "Don't waste your money!.",
                  "1": "neutral",
                  "3": {
                    "positive": 0.35,
                    "neutral": 0.41,
                    "negative": 0.24
                  },
                  "4": [
                    {
                      "sentiment": "neutral",
                      "confidenceScores": {
                        "positive": 0.35,
                        "neutral": 0.41,
                        "negative": 0.24
                      },
                      "text": "Don't waste your money!.",
                      "offset": 0,
                      "length": 24
                    }
                  ],
                  "5": []
                },
                {
                  "0": "Love this headset!",
                  "1": "positive",
                  "3": {
                    "positive": 1,
                    "neutral": 0,
                    "negative": 0
                  },
                  "4": [
                    {
                      "sentiment": "positive",
                      "confidenceScores": {
                        "positive": 1,
                        "neutral": 0,
                        "negative": 0
                      },
                      "text": "Love this headset!",
                      "offset": 0,
                      "length": 18
                    }
                  ],
                  "5": []
                },
                {
                  "0": "Not only will it drain your player, but may also potentially fry it.",
                  "1": "negative",
                  "3": {
                    "positive": 0.01,
                    "neutral": 0.46,
                    "negative": 0.52
                  },
                  "4": [
                    {
                      "sentiment": "negative",
                      "confidenceScores": {
                        "positive": 0.01,
                        "neutral": 0.46,
                        "negative": 0.52
                      },
                      "text": "Not only will it drain your player, but may also potentially fry it.",
                      "offset": 0,
                      "length": 68
                    }
                  ],
                  "5": []
                },
                {
                  "0": "Worked perfectly!",
                  "1": "positive",
                  "3": {
                    "positive": 0.99,
                    "neutral": 0,
                    "negative": 0
                  },
                  "4": [
                    {
                      "sentiment": "positive",
                      "confidenceScores": {
                        "positive": 0.99,
                        "neutral": 0,
                        "negative": 0
                      },
                      "text": "Worked perfectly!",
                      "offset": 0,
                      "length": 17
                    }
                  ],
                  "5": []
                },
                {
                  "0": "Unreliable - I'm giving up.",
                  "1": "negative",
                  "3": {
                    "positive": 0,
                    "neutral": 0.01,
                    "negative": 0.99
                  },
                  "4": [
                    {
                      "sentiment": "negative",
                      "confidenceScores": {
                        "positive": 0,
                        "neutral": 0.01,
                        "negative": 0.99
                      },
                      "text": "Unreliable - I'm giving up.",
                      "offset": 0,
                      "length": 27
                    }
                  ],
                  "5": []
                },
                {
                  "0": "I gave it 5 stars because of the sound quality.",
                  "1": "positive",
                  "3": {
                    "positive": 0.69,
                    "neutral": 0.22,
                    "negative": 0.08
                  },
                  "4": [
                    {
                      "sentiment": "positive",
                      "confidenceScores": {
                        "positive": 0.69,
                        "neutral": 0.22,
                        "negative": 0.08
                      },
                      "text": "I gave it 5 stars because of the sound quality.",
                      "offset": 0,
                      "length": 47
                    }
                  ],
                  "5": []
                },
                {
                  "0": "Avoid this one if you can.",
                  "1": "negative",
                  "3": {
                    "positive": 0.01,
                    "neutral": 0.24,
                    "negative": 0.75
                  },
                  "4": [
                    {
                      "sentiment": "negative",
                      "confidenceScores": {
                        "positive": 0.01,
                        "neutral": 0.24,
                        "negative": 0.75
                      },
                      "text": "Avoid this one if you can.",
                      "offset": 0,
                      "length": 26
                    }
                  ],
                  "5": []
                },
                {
                  "0": "Reversible plug works great.",
                  "1": "positive",
                  "3": {
                    "positive": 1,
                    "neutral": 0,
                    "negative": 0
                  },
                  "4": [
                    {
                      "sentiment": "positive",
                      "confidenceScores": {
                        "positive": 1,
                        "neutral": 0,
                        "negative": 0
                      },
                      "text": "Reversible plug works great.",
                      "offset": 0,
                      "length": 28
                    }
                  ],
                  "5": []
                },
                {
                  "0": "I wasted my little money with this earpiece.",
                  "1": "negative",
                  "3": {
                    "positive": 0,
                    "neutral": 0,
                    "negative": 0.99
                  },
                  "4": [
                    {
                      "sentiment": "negative",
                      "confidenceScores": {
                        "positive": 0,
                        "neutral": 0,
                        "negative": 0.99
                      },
                      "text": "I wasted my little money with this earpiece.",
                      "offset": 0,
                      "length": 44
                    }
                  ],
                  "5": []
                },
                {
                  "0": "Very good phone.",
                  "1": "positive",
                  "3": {
                    "positive": 1,
                    "neutral": 0,
                    "negative": 0
                  },
                  "4": [
                    {
                      "sentiment": "positive",
                      "confidenceScores": {
                        "positive": 1,
                        "neutral": 0,
                        "negative": 0
                      },
                      "text": "Very good phone.",
                      "offset": 0,
                      "length": 16
                    }
                  ],
                  "5": []
                },
                {
                  "0": "Best of all is the rotating feature, very helpful.",
                  "1": "positive",
                  "3": {
                    "positive": 1,
                    "neutral": 0,
                    "negative": 0
                  },
                  "4": [
                    {
                      "sentiment": "positive",
                      "confidenceScores": {
                        "positive": 1,
                        "neutral": 0,
                        "negative": 0
                      },
                      "text": "Best of all is the rotating feature, very helpful.",
                      "offset": 0,
                      "length": 50
                    }
                  ],
                  "5": []
                },
                {
                  "0": "Comfort for our whole family.",
                  "1": "positive",
                  "3": {
                    "positive": 0.98,
                    "neutral": 0.02,
                    "negative": 0.01
                  },
                  "4": [
                    {
                      "sentiment": "positive",
                      "confidenceScores": {
                        "positive": 0.98,
                        "neutral": 0.02,
                        "negative": 0.01
                      },
                      "text": "Comfort for our whole family.",
                      "offset": 0,
                      "length": 29
                    }
                  ],
                  "5": []
                },
                {
                  "0": "Good product, good seller.",
                  "1": "positive",
                  "3": {
                    "positive": 1,
                    "neutral": 0,
                    "negative": 0
                  },
                  "4": [
                    {
                      "sentiment": "positive",
                      "confidenceScores": {
                        "positive": 1,
                        "neutral": 0,
                        "negative": 0
                      },
                      "text": "Good product, good seller.",
                      "offset": 0,
                      "length": 26
                    }
                  ],
                  "5": []
                },
                {
                  "0": "I love this bluetooth!",
                  "1": "positive",
                  "3": {
                    "positive": 0.99,
                    "neutral": 0,
                    "negative": 0
                  },
                  "4": [
                    {
                      "sentiment": "positive",
                      "confidenceScores": {
                        "positive": 0.99,
                        "neutral": 0,
                        "negative": 0
                      },
                      "text": "I love this bluetooth!",
                      "offset": 0,
                      "length": 22
                    }
                  ],
                  "5": []
                },
                {
                  "0": "First of all, it doesn't wear well.",
                  "1": "negative",
                  "3": {
                    "positive": 0,
                    "neutral": 0,
                    "negative": 0.99
                  },
                  "4": [
                    {
                      "sentiment": "negative",
                      "confidenceScores": {
                        "positive": 0,
                        "neutral": 0,
                        "negative": 0.99
                      },
                      "text": "First of all, it doesn't wear well.",
                      "offset": 0,
                      "length": 35
                    }
                  ],
                  "5": []
                },
                {
                  "0": "I am very impressed with this headset from Plantronics.",
                  "1": "positive",
                  "3": {
                    "positive": 0.99,
                    "neutral": 0.01,
                    "negative": 0
                  },
                  "4": [
                    {
                      "sentiment": "positive",
                      "confidenceScores": {
                        "positive": 0.99,
                        "neutral": 0.01,
                        "negative": 0
                      },
                      "text": "I am very impressed with this headset from Plantronics.",
                      "offset": 0,
                      "length": 55
                    }
                  ],
                  "5": []
                },
                {
                  "0": "I got it because it was so small and adorable.",
                  "1": "positive",
                  "3": {
                    "positive": 0.99,
                    "neutral": 0.01,
                    "negative": 0.01
                  },
                  "4": [
                    {
                      "sentiment": "positive",
                      "confidenceScores": {
                        "positive": 0.99,
                        "neutral": 0.01,
                        "negative": 0.01
                      },
                      "text": "I got it because it was so small and adorable.",
                      "offset": 0,
                      "length": 46
                    }
                  ],
                  "5": []
                },
                {
                  "0": "Great phone!.",
                  "1": "positive",
                  "3": {
                    "positive": 1,
                    "neutral": 0,
                    "negative": 0
                  },
                  "4": [
                    {
                      "sentiment": "positive",
                      "confidenceScores": {
                        "positive": 1,
                        "neutral": 0,
                        "negative": 0
                      },
                      "text": "Great phone!.",
                      "offset": 0,
                      "length": 13
                    }
                  ],
                  "5": []
                },
                {
                  "0": "I wouldn't recommend buying this product.",
                  "1": "negative",
                  "3": {
                    "positive": 0.01,
                    "neutral": 0.01,
                    "negative": 0.98
                  },
                  "4": [
                    {
                      "sentiment": "negative",
                      "confidenceScores": {
                        "positive": 0.01,
                        "neutral": 0.01,
                        "negative": 0.98
                      },
                      "text": "I wouldn't recommend buying this product.",
                      "offset": 0,
                      "length": 41
                    }
                  ],
                  "5": []
                },
                {
                  "0": "Piece of Junk.",
                  "1": "negative",
                  "3": {
                    "positive": 0,
                    "neutral": 0,
                    "negative": 0.99
                  },
                  "4": [
                    {
                      "sentiment": "negative",
                      "confidenceScores": {
                        "positive": 0,
                        "neutral": 0,
                        "negative": 0.99
                      },
                      "text": "Piece of Junk.",
                      "offset": 0,
                      "length": 14
                    }
                  ],
                  "5": []
                },
                {
                  "0": "Poorly contstruct hinge.",
                  "1": "negative",
                  "3": {
                    "positive": 0,
                    "neutral": 0,
                    "negative": 0.99
                  },
                  "4": [
                    {
                      "sentiment": "negative",
                      "confidenceScores": {
                        "positive": 0,
                        "neutral": 0,
                        "negative": 0.99
                      },
                      "text": "Poorly contstruct hinge.",
                      "offset": 0,
                      "length": 24
                    }
                  ],
                  "5": []
                },
                {
                  "0": "This item is great, installed it, let it charged up overnite and it has been working good every since with no problems",
                  "1": "positive",
                  "3": {
                    "positive": 1,
                    "neutral": 0,
                    "negative": 0
                  },
                  "4": [
                    {
                      "sentiment": "positive",
                      "confidenceScores": {
                        "positive": 1,
                        "neutral": 0,
                        "negative": 0
                      },
                      "text": "This item is great, installed it, let it charged up overnite and it has been working good every since with no problems",
                      "offset": 0,
                      "length": 118
                    }
                  ],
                  "5": []
                },
                {
                  "0": "Great Phone.",
                  "1": "positive",
                  "3": {
                    "positive": 1,
                    "neutral": 0,
                    "negative": 0
                  },
                  "4": [
                    {
                      "sentiment": "positive",
                      "confidenceScores": {
                        "positive": 1,
                        "neutral": 0,
                        "negative": 0
                      },
                      "text": "Great Phone.",
                      "offset": 0,
                      "length": 12
                    }
                  ],
                  "5": []
                },
                {
                  "0": "Don't buy it.",
                  "1": "negative",
                  "3": {
                    "positive": 0.01,
                    "neutral": 0.23,
                    "negative": 0.76
                  },
                  "4": [
                    {
                      "sentiment": "negative",
                      "confidenceScores": {
                        "positive": 0.01,
                        "neutral": 0.23,
                        "negative": 0.76
                      },
                      "text": "Don't buy it.",
                      "offset": 0,
                      "length": 13
                    }
                  ],
                  "5": []
                },
                {
                  "0": "Excellent Phone.",
                  "1": "positive",
                  "3": {
                    "positive": 1,
                    "neutral": 0,
                    "negative": 0
                  },
                  "4": [
                    {
                      "sentiment": "positive",
                      "confidenceScores": {
                        "positive": 1,
                        "neutral": 0,
                        "negative": 0
                      },
                      "text": "Excellent Phone.",
                      "offset": 0,
                      "length": 16
                    }
                  ],
                  "5": []
                },
                {
                  "0": "DO NOT PURCHASE THIS PHONE.",
                  "1": "negative",
                  "3": {
                    "positive": 0.01,
                    "neutral": 0.1,
                    "negative": 0.89
                  },
                  "4": [
                    {
                      "sentiment": "negative",
                      "confidenceScores": {
                        "positive": 0.01,
                        "neutral": 0.1,
                        "negative": 0.89
                      },
                      "text": "DO NOT PURCHASE THIS PHONE.",
                      "offset": 0,
                      "length": 27
                    }
                  ],
                  "5": []
                },
                {
                  "0": "The voice recognition thru the handset is excellent.",
                  "1": "positive",
                  "3": {
                    "positive": 1,
                    "neutral": 0,
                    "negative": 0
                  },
                  "4": [
                    {
                      "sentiment": "positive",
                      "confidenceScores": {
                        "positive": 1,
                        "neutral": 0,
                        "negative": 0
                      },
                      "text": "The voice recognition thru the handset is excellent.",
                      "offset": 0,
                      "length": 52
                    }
                  ],
                  "5": []
                },
                {
                  "0": "This is hands down the best phone I've ever had.",
                  "1": "positive",
                  "3": {
                    "positive": 0.99,
                    "neutral": 0,
                    "negative": 0
                  },
                  "4": [
                    {
                      "sentiment": "positive",
                      "confidenceScores": {
                        "positive": 0.99,
                        "neutral": 0,
                        "negative": 0
                      },
                      "text": "This is hands down the best phone I've ever had.",
                      "offset": 0,
                      "length": 48
                    }
                  ],
                  "5": []
                },
                {
                  "0": "Works great, when my cat attacked the phone he scratched the protective strip instead of destroying the screen.",
                  "1": "positive",
                  "3": {
                    "positive": 0.99,
                    "neutral": 0,
                    "negative": 0.01
                  },
                  "4": [
                    {
                      "sentiment": "positive",
                      "confidenceScores": {
                        "positive": 0.99,
                        "neutral": 0,
                        "negative": 0.01
                      },
                      "text": "Works great, when my cat attacked the phone he scratched the protective strip instead of destroying the screen.",
                      "offset": 0,
                      "length": 111
                    }
                  ],
                  "5": []
                },
                {
                  "0": "This one works and was priced right.",
                  "1": "positive",
                  "3": {
                    "positive": 0.98,
                    "neutral": 0.01,
                    "negative": 0.01
                  },
                  "4": [
                    {
                      "sentiment": "positive",
                      "confidenceScores": {
                        "positive": 0.98,
                        "neutral": 0.01,
                        "negative": 0.01
                      },
                      "text": "This one works and was priced right.",
                      "offset": 0,
                      "length": 36
                    }
                  ],
                  "5": []
                },
                {
                  "0": "Customer service was terrible.",
                  "1": "negative",
                  "3": {
                    "positive": 0.01,
                    "neutral": 0,
                    "negative": 0.99
                  },
                  "4": [
                    {
                      "sentiment": "negative",
                      "confidenceScores": {
                        "positive": 0.01,
                        "neutral": 0,
                        "negative": 0.99
                      },
                      "text": "Customer service was terrible.",
                      "offset": 0,
                      "length": 30
                    }
                  ],
                  "5": []
                },
                {
                  "0": "Battery life still not long enough in Motorola Razor V3i.",
                  "1": "negative",
                  "3": {
                    "positive": 0.01,
                    "neutral": 0.02,
                    "negative": 0.97
                  },
                  "4": [
                    {
                      "sentiment": "negative",
                      "confidenceScores": {
                        "positive": 0.01,
                        "neutral": 0.02,
                        "negative": 0.97
                      },
                      "text": "Battery life still not long enough in Motorola Razor V3i.",
                      "offset": 0,
                      "length": 57
                    }
                  ],
                  "5": []
                },
                {
                  "0": "Sending it back.",
                  "1": "neutral",
                  "3": {
                    "positive": 0.06,
                    "neutral": 0.89,
                    "negative": 0.05
                  },
                  "4": [
                    {
                      "sentiment": "neutral",
                      "confidenceScores": {
                        "positive": 0.06,
                        "neutral": 0.89,
                        "negative": 0.05
                      },
                      "text": "Sending it back.",
                      "offset": 0,
                      "length": 16
                    }
                  ],
                  "5": []
                },
                {
                  "0": "Now I know that I made a wise decision.",
                  "1": "positive",
                  "3": {
                    "positive": 0.61,
                    "neutral": 0.15,
                    "negative": 0.24
                  },
                  "4": [
                    {
                      "sentiment": "positive",
                      "confidenceScores": {
                        "positive": 0.61,
                        "neutral": 0.15,
                        "negative": 0.24
                      },
                      "text": "Now I know that I made a wise decision.",
                      "offset": 0,
                      "length": 39
                    }
                  ],
                  "5": []
                },
                {
                  "0": "Someone shouldve invented this sooner.",
                  "1": "neutral",
                  "3": {
                    "positive": 0.06,
                    "neutral": 0.51,
                    "negative": 0.43
                  },
                  "4": [
                    {
                      "sentiment": "neutral",
                      "confidenceScores": {
                        "positive": 0.06,
                        "neutral": 0.51,
                        "negative": 0.43
                      },
                      "text": "Someone shouldve invented this sooner.",
                      "offset": 0,
                      "length": 38
                    }
                  ],
                  "5": []
                },
                {
                  "0": "Good price.",
                  "1": "positive",
                  "3": {
                    "positive": 1,
                    "neutral": 0,
                    "negative": 0
                  },
                  "4": [
                    {
                      "sentiment": "positive",
                      "confidenceScores": {
                        "positive": 1,
                        "neutral": 0,
                        "negative": 0
                      },
                      "text": "Good price.",
                      "offset": 0,
                      "length": 11
                    }
                  ],
                  "5": []
                },
                {
                  "0": "Everything worked on the first try.The device was certainly engineered in a clever way and the construction feels good.",
                  "1": "positive",
                  "3": {
                    "positive": 0.92,
                    "neutral": 0.04,
                    "negative": 0.04
                  },
                  "4": [
                    {
                      "sentiment": "positive",
                      "confidenceScores": {
                        "positive": 0.85,
                        "neutral": 0.09,
                        "negative": 0.07
                      },
                      "text": "Everything worked on the first try.",
                      "offset": 0,
                      "length": 35
                    },
                    {
                      "sentiment": "positive",
                      "confidenceScores": {
                        "positive": 0.99,
                        "neutral": 0,
                        "negative": 0
                      },
                      "text": "The device was certainly engineered in a clever way and the construction feels good.",
                      "offset": 35,
                      "length": 84
                    }
                  ],
                  "5": []
                },
                {
                  "0": "I received it quickly and it works great!!",
                  "1": "positive",
                  "3": {
                    "positive": 1,
                    "neutral": 0,
                    "negative": 0
                  },
                  "4": [
                    {
                      "sentiment": "positive",
                      "confidenceScores": {
                        "positive": 1,
                        "neutral": 0,
                        "negative": 0
                      },
                      "text": "I received it quickly and it works great!!",
                      "offset": 0,
                      "length": 42
                    }
                  ],
                  "5": []
                },
                {
                  "0": "Has been working great.",
                  "1": "positive",
                  "3": {
                    "positive": 1,
                    "neutral": 0,
                    "negative": 0
                  },
                  "4": [
                    {
                      "sentiment": "positive",
                      "confidenceScores": {
                        "positive": 1,
                        "neutral": 0,
                        "negative": 0
                      },
                      "text": "Has been working great.",
                      "offset": 0,
                      "length": 23
                    }
                  ],
                  "5": []
                },
                {
                  "0": "As many people complained, I found this headset's microphone was very weak.",
                  "1": "negative",
                  "3": {
                    "positive": 0,
                    "neutral": 0,
                    "negative": 1
                  },
                  "4": [
                    {
                      "sentiment": "negative",
                      "confidenceScores": {
                        "positive": 0,
                        "neutral": 0,
                        "negative": 1
                      },
                      "text": "As many people complained, I found this headset's microphone was very weak.",
                      "offset": 0,
                      "length": 75
                    }
                  ],
                  "5": []
                },
                {
                  "0": "My 5-year old Nokia 2160 from Tracfone holds the charge a lot better than this.",
                  "1": "positive",
                  "3": {
                    "positive": 0.85,
                    "neutral": 0.12,
                    "negative": 0.03
                  },
                  "4": [
                    {
                      "sentiment": "positive",
                      "confidenceScores": {
                        "positive": 0.85,
                        "neutral": 0.12,
                        "negative": 0.03
                      },
                      "text": "My 5-year old Nokia 2160 from Tracfone holds the charge a lot better than this.",
                      "offset": 0,
                      "length": 79
                    }
                  ],
                  "5": []
                },
                {
                  "0": "They do not care about the consumer one bit.",
                  "1": "negative",
                  "3": {
                    "positive": 0.01,
                    "neutral": 0.17,
                    "negative": 0.81
                  },
                  "4": [
                    {
                      "sentiment": "negative",
                      "confidenceScores": {
                        "positive": 0.01,
                        "neutral": 0.17,
                        "negative": 0.81
                      },
                      "text": "They do not care about the consumer one bit.",
                      "offset": 0,
                      "length": 44
                    }
                  ],
                  "5": []
                },
                {
                  "0": "This is a good battery, and it got here really fast.",
                  "1": "positive",
                  "3": {
                    "positive": 0.99,
                    "neutral": 0,
                    "negative": 0
                  },
                  "4": [
                    {
                      "sentiment": "positive",
                      "confidenceScores": {
                        "positive": 0.99,
                        "neutral": 0,
                        "negative": 0
                      },
                      "text": "This is a good battery, and it got here really fast.",
                      "offset": 0,
                      "length": 52
                    }
                  ],
                  "5": []
                },
                {
                  "0": "The instruction manual is lacking.",
                  "1": "negative",
                  "3": {
                    "positive": 0,
                    "neutral": 0,
                    "negative": 0.99
                  },
                  "4": [
                    {
                      "sentiment": "negative",
                      "confidenceScores": {
                        "positive": 0,
                        "neutral": 0,
                        "negative": 0.99
                      },
                      "text": "The instruction manual is lacking.",
                      "offset": 0,
                      "length": 34
                    }
                  ],
                  "5": []
                },
                {
                  "0": "Also its slim enough to fit into my alarm clock docking station without removing the case.",
                  "1": "positive",
                  "3": {
                    "positive": 0.52,
                    "neutral": 0.45,
                    "negative": 0.03
                  },
                  "4": [
                    {
                      "sentiment": "positive",
                      "confidenceScores": {
                        "positive": 0.52,
                        "neutral": 0.45,
                        "negative": 0.03
                      },
                      "text": "Also its slim enough to fit into my alarm clock docking station without removing the case.",
                      "offset": 0,
                      "length": 90
                    }
                  ],
                  "5": []
                },
                {
                  "0": "Phone now holds charge like it did when it was new.",
                  "1": "neutral",
                  "3": {
                    "positive": 0.05,
                    "neutral": 0.92,
                    "negative": 0.02
                  },
                  "4": [
                    {
                      "sentiment": "neutral",
                      "confidenceScores": {
                        "positive": 0.05,
                        "neutral": 0.92,
                        "negative": 0.02
                      },
                      "text": "Phone now holds charge like it did when it was new.",
                      "offset": 0,
                      "length": 51
                    }
                  ],
                  "5": []
                },
                {
                  "0": "The battery is unreliable as well as the service use antena.",
                  "1": "negative",
                  "3": {
                    "positive": 0,
                    "neutral": 0,
                    "negative": 0.99
                  },
                  "4": [
                    {
                      "sentiment": "negative",
                      "confidenceScores": {
                        "positive": 0,
                        "neutral": 0,
                        "negative": 0.99
                      },
                      "text": "The battery is unreliable as well as the service use antena.",
                      "offset": 0,
                      "length": 60
                    }
                  ],
                  "5": []
                },
                {
                  "0": "It's uncomfortable and the sound quality is quite poor compared with the phone (Razr) or with my previous wired headset (that plugged into an LG).",
                  "1": "negative",
                  "3": {
                    "positive": 0,
                    "neutral": 0,
                    "negative": 0.99
                  },
                  "4": [
                    {
                      "sentiment": "negative",
                      "confidenceScores": {
                        "positive": 0,
                        "neutral": 0,
                        "negative": 0.99
                      },
                      "text": "It's uncomfortable and the sound quality is quite poor compared with the phone (Razr) or with my previous wired headset (that plugged into an LG).",
                      "offset": 0,
                      "length": 146
                    }
                  ],
                  "5": []
                },
                {
                  "0": "We have gotten a lot of compliments on it.",
                  "1": "positive",
                  "3": {
                    "positive": 0.97,
                    "neutral": 0.03,
                    "negative": 0.01
                  },
                  "4": [
                    {
                      "sentiment": "positive",
                      "confidenceScores": {
                        "positive": 0.97,
                        "neutral": 0.03,
                        "negative": 0.01
                      },
                      "text": "We have gotten a lot of compliments on it.",
                      "offset": 0,
                      "length": 42
                    }
                  ],
                  "5": []
                },
                {
                  "0": "This is definitely a must have if your state does not allow cell phone usage while driving.",
                  "1": "negative",
                  "3": {
                    "positive": 0.29,
                    "neutral": 0.31,
                    "negative": 0.4
                  },
                  "4": [
                    {
                      "sentiment": "negative",
                      "confidenceScores": {
                        "positive": 0.29,
                        "neutral": 0.31,
                        "negative": 0.4
                      },
                      "text": "This is definitely a must have if your state does not allow cell phone usage while driving.",
                      "offset": 0,
                      "length": 91
                    }
                  ],
                  "5": []
                },
                {
                  "0": "I want my money back.",
                  "1": "neutral",
                  "3": {
                    "positive": 0.12,
                    "neutral": 0.67,
                    "negative": 0.22
                  },
                  "4": [
                    {
                      "sentiment": "neutral",
                      "confidenceScores": {
                        "positive": 0.12,
                        "neutral": 0.67,
                        "negative": 0.22
                      },
                      "text": "I want my money back.",
                      "offset": 0,
                      "length": 21
                    }
                  ],
                  "5": []
                },
                {
                  "0": "I love this device.",
                  "1": "positive",
                  "3": {
                    "positive": 0.99,
                    "neutral": 0,
                    "negative": 0
                  },
                  "4": [
                    {
                      "sentiment": "positive",
                      "confidenceScores": {
                        "positive": 0.99,
                        "neutral": 0,
                        "negative": 0
                      },
                      "text": "I love this device.",
                      "offset": 0,
                      "length": 19
                    }
                  ],
                  "5": []
                },
                {
                  "0": "I am also very happy with the price.",
                  "1": "positive",
                  "3": {
                    "positive": 0.98,
                    "neutral": 0.01,
                    "negative": 0.01
                  },
                  "4": [
                    {
                      "sentiment": "positive",
                      "confidenceScores": {
                        "positive": 0.98,
                        "neutral": 0.01,
                        "negative": 0.01
                      },
                      "text": "I am also very happy with the price.",
                      "offset": 0,
                      "length": 36
                    }
                  ],
                  "5": []
                },
                {
                  "0": "I ordered this product first and was unhappy with it immediately.",
                  "1": "negative",
                  "3": {
                    "positive": 0,
                    "neutral": 0,
                    "negative": 0.99
                  },
                  "4": [
                    {
                      "sentiment": "negative",
                      "confidenceScores": {
                        "positive": 0,
                        "neutral": 0,
                        "negative": 0.99
                      },
                      "text": "I ordered this product first and was unhappy with it immediately.",
                      "offset": 0,
                      "length": 65
                    }
                  ],
                  "5": []
                },
                {
                  "0": "The Ngage is still lacking in earbuds.",
                  "1": "negative",
                  "3": {
                    "positive": 0.01,
                    "neutral": 0.17,
                    "negative": 0.82
                  },
                  "4": [
                    {
                      "sentiment": "negative",
                      "confidenceScores": {
                        "positive": 0.01,
                        "neutral": 0.17,
                        "negative": 0.82
                      },
                      "text": "The Ngage is still lacking in earbuds.",
                      "offset": 0,
                      "length": 38
                    }
                  ],
                  "5": []
                },
                {
                  "0": "I was able to do voice dialing in the car with no problem.",
                  "1": "positive",
                  "3": {
                    "positive": 0.85,
                    "neutral": 0.12,
                    "negative": 0.02
                  },
                  "4": [
                    {
                      "sentiment": "positive",
                      "confidenceScores": {
                        "positive": 0.85,
                        "neutral": 0.12,
                        "negative": 0.02
                      },
                      "text": "I was able to do voice dialing in the car with no problem.",
                      "offset": 0,
                      "length": 58
                    }
                  ],
                  "5": []
                },
                {
                  "0": "I have 2-3 bars on my cell phone when I am home, but you cant not hear anything.",
                  "1": "negative",
                  "3": {
                    "positive": 0.01,
                    "neutral": 0.28,
                    "negative": 0.71
                  },
                  "4": [
                    {
                      "sentiment": "negative",
                      "confidenceScores": {
                        "positive": 0.01,
                        "neutral": 0.28,
                        "negative": 0.71
                      },
                      "text": "I have 2-3 bars on my cell phone when I am home, but you cant not hear anything.",
                      "offset": 0,
                      "length": 80
                    }
                  ],
                  "5": []
                },
                {
                  "0": "good item, low price.",
                  "1": "positive",
                  "3": {
                    "positive": 0.99,
                    "neutral": 0,
                    "negative": 0
                  },
                  "4": [
                    {
                      "sentiment": "positive",
                      "confidenceScores": {
                        "positive": 0.99,
                        "neutral": 0,
                        "negative": 0
                      },
                      "text": "good item, low price.",
                      "offset": 0,
                      "length": 21
                    }
                  ],
                  "5": []
                },
                {
                  "0": "However-the riingtones are not the best, and neither are the games.",
                  "1": "negative",
                  "3": {
                    "positive": 0,
                    "neutral": 0,
                    "negative": 0.99
                  },
                  "4": [
                    {
                      "sentiment": "negative",
                      "confidenceScores": {
                        "positive": 0,
                        "neutral": 0,
                        "negative": 0.99
                      },
                      "text": "However-the riingtones are not the best, and neither are the games.",
                      "offset": 0,
                      "length": 67
                    }
                  ],
                  "5": []
                },
                {
                  "0": "The plug did not work very well.",
                  "1": "negative",
                  "3": {
                    "positive": 0,
                    "neutral": 0,
                    "negative": 0.99
                  },
                  "4": [
                    {
                      "sentiment": "negative",
                      "confidenceScores": {
                        "positive": 0,
                        "neutral": 0,
                        "negative": 0.99
                      },
                      "text": "The plug did not work very well.",
                      "offset": 0,
                      "length": 32
                    }
                  ],
                  "5": []
                },
                {
                  "0": "AMAZON SUCKS.",
                  "1": "negative",
                  "3": {
                    "positive": 0.01,
                    "neutral": 0.02,
                    "negative": 0.97
                  },
                  "4": [
                    {
                      "sentiment": "negative",
                      "confidenceScores": {
                        "positive": 0.01,
                        "neutral": 0.02,
                        "negative": 0.97
                      },
                      "text": "AMAZON SUCKS.",
                      "offset": 0,
                      "length": 13
                    }
                  ],
                  "5": []
                },
                {
                  "0": "Rip off---- Over charge shipping.",
                  "1": "neutral",
                  "3": {
                    "positive": 0.01,
                    "neutral": 0.61,
                    "negative": 0.38
                  },
                  "4": [
                    {
                      "sentiment": "neutral",
                      "confidenceScores": {
                        "positive": 0.01,
                        "neutral": 0.61,
                        "negative": 0.38
                      },
                      "text": "Rip off---- Over charge shipping.",
                      "offset": 0,
                      "length": 33
                    }
                  ],
                  "5": []
                },
                {
                  "0": "VERY comfortable.",
                  "1": "positive",
                  "3": {
                    "positive": 0.98,
                    "neutral": 0.01,
                    "negative": 0.01
                  },
                  "4": [
                    {
                      "sentiment": "positive",
                      "confidenceScores": {
                        "positive": 0.98,
                        "neutral": 0.01,
                        "negative": 0.01
                      },
                      "text": "VERY comfortable.",
                      "offset": 0,
                      "length": 17
                    }
                  ],
                  "5": []
                },
                {
                  "0": "The battery is working well as a replacement for the original that came with the phone over 2 years ago.",
                  "1": "positive",
                  "3": {
                    "positive": 0.99,
                    "neutral": 0,
                    "negative": 0.01
                  },
                  "4": [
                    {
                      "sentiment": "positive",
                      "confidenceScores": {
                        "positive": 0.99,
                        "neutral": 0,
                        "negative": 0.01
                      },
                      "text": "The battery is working well as a replacement for the original that came with the phone over 2 years ago.",
                      "offset": 0,
                      "length": 104
                    }
                  ],
                  "5": []
                },
                {
                  "0": "The reception is excellent!",
                  "1": "positive",
                  "3": {
                    "positive": 1,
                    "neutral": 0,
                    "negative": 0
                  },
                  "4": [
                    {
                      "sentiment": "positive",
                      "confidenceScores": {
                        "positive": 1,
                        "neutral": 0,
                        "negative": 0
                      },
                      "text": "The reception is excellent!",
                      "offset": 0,
                      "length": 27
                    }
                  ],
                  "5": []
                },
                {
                  "0": "It fits comfortably in either ear, the sound is clear and loud, and the charge lasts a couple of days.",
                  "1": "positive",
                  "3": {
                    "positive": 0.62,
                    "neutral": 0.37,
                    "negative": 0.01
                  },
                  "4": [
                    {
                      "sentiment": "positive",
                      "confidenceScores": {
                        "positive": 0.62,
                        "neutral": 0.37,
                        "negative": 0.01
                      },
                      "text": "It fits comfortably in either ear, the sound is clear and loud, and the charge lasts a couple of days.",
                      "offset": 0,
                      "length": 102
                    }
                  ],
                  "5": []
                },
                {
                  "0": "very clear, quality sound and you don't have to mess with the sound on your iPod since you have the sound buttons on the headset.",
                  "1": "positive",
                  "3": {
                    "positive": 0.89,
                    "neutral": 0.1,
                    "negative": 0.01
                  },
                  "4": [
                    {
                      "sentiment": "positive",
                      "confidenceScores": {
                        "positive": 0.89,
                        "neutral": 0.1,
                        "negative": 0.01
                      },
                      "text": "very clear, quality sound and you don't have to mess with the sound on your iPod since you have the sound buttons on the headset.",
                      "offset": 0,
                      "length": 129
                    }
                  ],
                  "5": []
                },
                {
                  "0": "1. long lasting battery (you don't have to recharge it as frequentyly as some of the flip phones)2.",
                  "1": "neutral",
                  "3": {
                    "positive": 0.15,
                    "neutral": 0.81,
                    "negative": 0.04
                  },
                  "4": [
                    {
                      "sentiment": "neutral",
                      "confidenceScores": {
                        "positive": 0.15,
                        "neutral": 0.81,
                        "negative": 0.04
                      },
                      "text": "1. long lasting battery (you don't have to recharge it as frequentyly as some of the flip phones)2.",
                      "offset": 0,
                      "length": 99
                    }
                  ],
                  "5": []
                },
                {
                  "0": "Obviously there is a problem with the adhesive.",
                  "1": "negative",
                  "3": {
                    "positive": 0,
                    "neutral": 0.03,
                    "negative": 0.97
                  },
                  "4": [
                    {
                      "sentiment": "negative",
                      "confidenceScores": {
                        "positive": 0,
                        "neutral": 0.03,
                        "negative": 0.97
                      },
                      "text": "Obviously there is a problem with the adhesive.",
                      "offset": 0,
                      "length": 47
                    }
                  ],
                  "5": []
                },
                {
                  "0": "Very disappointing.",
                  "1": "negative",
                  "3": {
                    "positive": 0,
                    "neutral": 0,
                    "negative": 0.99
                  },
                  "4": [
                    {
                      "sentiment": "negative",
                      "confidenceScores": {
                        "positive": 0,
                        "neutral": 0,
                        "negative": 0.99
                      },
                      "text": "Very disappointing.",
                      "offset": 0,
                      "length": 19
                    }
                  ],
                  "5": []
                },
                {
                  "0": "It was an inexpensive piece, but I would still have expected better quality.",
                  "1": "positive",
                  "3": {
                    "positive": 0.77,
                    "neutral": 0.05,
                    "negative": 0.18
                  },
                  "4": [
                    {
                      "sentiment": "positive",
                      "confidenceScores": {
                        "positive": 0.77,
                        "neutral": 0.05,
                        "negative": 0.18
                      },
                      "text": "It was an inexpensive piece, but I would still have expected better quality.",
                      "offset": 0,
                      "length": 76
                    }
                  ],
                  "5": []
                },
                {
                  "0": "It is practically useless and did not add any kind of boost to my reception after I bought it.",
                  "1": "negative",
                  "3": {
                    "positive": 0,
                    "neutral": 0,
                    "negative": 0.99
                  },
                  "4": [
                    {
                      "sentiment": "negative",
                      "confidenceScores": {
                        "positive": 0,
                        "neutral": 0,
                        "negative": 0.99
                      },
                      "text": "It is practically useless and did not add any kind of boost to my reception after I bought it.",
                      "offset": 0,
                      "length": 94
                    }
                  ],
                  "5": []
                },
                {
                  "0": "Excellent sound quality.",
                  "1": "positive",
                  "3": {
                    "positive": 1,
                    "neutral": 0,
                    "negative": 0
                  },
                  "4": [
                    {
                      "sentiment": "positive",
                      "confidenceScores": {
                        "positive": 1,
                        "neutral": 0,
                        "negative": 0
                      },
                      "text": "Excellent sound quality.",
                      "offset": 0,
                      "length": 24
                    }
                  ],
                  "5": []
                },
                {
                  "0": "Was not happy.",
                  "1": "negative",
                  "3": {
                    "positive": 0.01,
                    "neutral": 0.01,
                    "negative": 0.99
                  },
                  "4": [
                    {
                      "sentiment": "negative",
                      "confidenceScores": {
                        "positive": 0.01,
                        "neutral": 0.01,
                        "negative": 0.99
                      },
                      "text": "Was not happy.",
                      "offset": 0,
                      "length": 14
                    }
                  ],
                  "5": []
                },
                {
                  "0": "A PIECE OF JUNK THAT BROKE AFTER BEING ON MY PHONE FOR 2 DAYS!!!",
                  "1": "negative",
                  "3": {
                    "positive": 0.14,
                    "neutral": 0.08,
                    "negative": 0.78
                  },
                  "4": [
                    {
                      "sentiment": "negative",
                      "confidenceScores": {
                        "positive": 0.14,
                        "neutral": 0.08,
                        "negative": 0.78
                      },
                      "text": "A PIECE OF JUNK THAT BROKE AFTER BEING ON MY PHONE FOR 2 DAYS!!!",
                      "offset": 0,
                      "length": 64
                    }
                  ],
                  "5": []
                },
                {
                  "0": "New Battery works great in phone.",
                  "1": "positive",
                  "3": {
                    "positive": 1,
                    "neutral": 0,
                    "negative": 0
                  },
                  "4": [
                    {
                      "sentiment": "positive",
                      "confidenceScores": {
                        "positive": 1,
                        "neutral": 0,
                        "negative": 0
                      },
                      "text": "New Battery works great in phone.",
                      "offset": 0,
                      "length": 33
                    }
                  ],
                  "5": []
                },
                {
                  "0": "Worst customer service.",
                  "1": "negative",
                  "3": {
                    "positive": 0.01,
                    "neutral": 0,
                    "negative": 0.99
                  },
                  "4": [
                    {
                      "sentiment": "negative",
                      "confidenceScores": {
                        "positive": 0.01,
                        "neutral": 0,
                        "negative": 0.99
                      },
                      "text": "Worst customer service.",
                      "offset": 0,
                      "length": 23
                    }
                  ],
                  "5": []
                },
                {
                  "0": "I've dropped my phone more times than I can say, even on concrete and my phone is still great (knock on wood!).",
                  "1": "positive",
                  "3": {
                    "positive": 0.99,
                    "neutral": 0,
                    "negative": 0.01
                  },
                  "4": [
                    {
                      "sentiment": "positive",
                      "confidenceScores": {
                        "positive": 0.99,
                        "neutral": 0,
                        "negative": 0.01
                      },
                      "text": "I've dropped my phone more times than I can say, even on concrete and my phone is still great (knock on wood!).",
                      "offset": 0,
                      "length": 111
                    }
                  ],
                  "5": []
                },
                {
                  "0": "Reception is terrible and full of static.",
                  "1": "negative",
                  "3": {
                    "positive": 0,
                    "neutral": 0,
                    "negative": 1
                  },
                  "4": [
                    {
                      "sentiment": "negative",
                      "confidenceScores": {
                        "positive": 0,
                        "neutral": 0,
                        "negative": 1
                      },
                      "text": "Reception is terrible and full of static.",
                      "offset": 0,
                      "length": 41
                    }
                  ],
                  "5": []
                },
                {
                  "0": "Good audio quality.",
                  "1": "positive",
                  "3": {
                    "positive": 1,
                    "neutral": 0,
                    "negative": 0
                  },
                  "4": [
                    {
                      "sentiment": "positive",
                      "confidenceScores": {
                        "positive": 1,
                        "neutral": 0,
                        "negative": 0
                      },
                      "text": "Good audio quality.",
                      "offset": 0,
                      "length": 19
                    }
                  ],
                  "5": []
                },
                {
                  "0": "This little device has transformed my organizational capability and made my life a whole lot easier.",
                  "1": "positive",
                  "3": {
                    "positive": 0.96,
                    "neutral": 0.04,
                    "negative": 0.01
                  },
                  "4": [
                    {
                      "sentiment": "positive",
                      "confidenceScores": {
                        "positive": 0.96,
                        "neutral": 0.04,
                        "negative": 0.01
                      },
                      "text": "This little device has transformed my organizational capability and made my life a whole lot easier.",
                      "offset": 0,
                      "length": 100
                    }
                  ],
                  "5": []
                },
                {
                  "0": "I was sitting in my vehicle, with the cradle on my belt, and the headset lost signal.",
                  "1": "negative",
                  "3": {
                    "positive": 0,
                    "neutral": 0.01,
                    "negative": 0.99
                  },
                  "4": [
                    {
                      "sentiment": "negative",
                      "confidenceScores": {
                        "positive": 0,
                        "neutral": 0.01,
                        "negative": 0.99
                      },
                      "text": "I was sitting in my vehicle, with the cradle on my belt, and the headset lost signal.",
                      "offset": 0,
                      "length": 85
                    }
                  ],
                  "5": []
                },
                {
                  "0": "Were JERKS on the phone.",
                  "1": "neutral",
                  "3": {
                    "positive": 0.02,
                    "neutral": 0.63,
                    "negative": 0.35
                  },
                  "4": [
                    {
                      "sentiment": "neutral",
                      "confidenceScores": {
                        "positive": 0.02,
                        "neutral": 0.63,
                        "negative": 0.35
                      },
                      "text": "Were JERKS on the phone.",
                      "offset": 0,
                      "length": 24
                    }
                  ],
                  "5": []
                },
                {
                  "0": "Works like a charm.. Works as advertised.",
                  "1": "positive",
                  "3": {
                    "positive": 0.98,
                    "neutral": 0.01,
                    "negative": 0
                  },
                  "4": [
                    {
                      "sentiment": "positive",
                      "confidenceScores": {
                        "positive": 0.99,
                        "neutral": 0,
                        "negative": 0
                      },
                      "text": "Works like a charm.. ",
                      "offset": 0,
                      "length": 21
                    },
                    {
                      "sentiment": "positive",
                      "confidenceScores": {
                        "positive": 0.97,
                        "neutral": 0.02,
                        "negative": 0.01
                      },
                      "text": "Works as advertised.",
                      "offset": 21,
                      "length": 20
                    }
                  ],
                  "5": []
                },
                {
                  "0": "Comfortable, Nice Range, Good Battery Life.",
                  "1": "positive",
                  "3": {
                    "positive": 1,
                    "neutral": 0,
                    "negative": 0
                  },
                  "4": [
                    {
                      "sentiment": "positive",
                      "confidenceScores": {
                        "positive": 1,
                        "neutral": 0,
                        "negative": 0
                      },
                      "text": "Comfortable, Nice Range, Good Battery Life.",
                      "offset": 0,
                      "length": 43
                    }
                  ],
                  "5": []
                },
                {
                  "0": "Their network coverage in Los Angeles is horrible.",
                  "1": "negative",
                  "3": {
                    "positive": 0.01,
                    "neutral": 0,
                    "negative": 0.99
                  },
                  "4": [
                    {
                      "sentiment": "negative",
                      "confidenceScores": {
                        "positive": 0.01,
                        "neutral": 0,
                        "negative": 0.99
                      },
                      "text": "Their network coverage in Los Angeles is horrible.",
                      "offset": 0,
                      "length": 50
                    }
                  ],
                  "5": []
                },
                {
                  "0": "Excellent starter wireless headset.",
                  "1": "positive",
                  "3": {
                    "positive": 1,
                    "neutral": 0,
                    "negative": 0
                  },
                  "4": [
                    {
                      "sentiment": "positive",
                      "confidenceScores": {
                        "positive": 1,
                        "neutral": 0,
                        "negative": 0
                      },
                      "text": "Excellent starter wireless headset.",
                      "offset": 0,
                      "length": 35
                    }
                  ],
                  "5": []
                },
                {
                  "0": "The loudspeaker option is great, the bumpers with the lights is very ... appealing.",
                  "1": "positive",
                  "3": {
                    "positive": 0.98,
                    "neutral": 0.01,
                    "negative": 0.01
                  },
                  "4": [
                    {
                      "sentiment": "positive",
                      "confidenceScores": {
                        "positive": 1,
                        "neutral": 0,
                        "negative": 0
                      },
                      "text": "The loudspeaker option is great, the bumpers with the lights is very ... ",
                      "offset": 0,
                      "length": 73
                    },
                    {
                      "sentiment": "positive",
                      "confidenceScores": {
                        "positive": 0.96,
                        "neutral": 0.02,
                        "negative": 0.02
                      },
                      "text": "appealing.",
                      "offset": 73,
                      "length": 10
                    }
                  ],
                  "5": []
                },
                {
                  "0": "The only thing that I think could improve is the sound leaks out from the headset.",
                  "1": "negative",
                  "3": {
                    "positive": 0.01,
                    "neutral": 0.06,
                    "negative": 0.93
                  },
                  "4": [
                    {
                      "sentiment": "negative",
                      "confidenceScores": {
                        "positive": 0.01,
                        "neutral": 0.06,
                        "negative": 0.93
                      },
                      "text": "The only thing that I think could improve is the sound leaks out from the headset.",
                      "offset": 0,
                      "length": 82
                    }
                  ],
                  "5": []
                },
                {
                  "0": "First off the reception sucks, I have never had more than 2 bars, ever.",
                  "1": "negative",
                  "3": {
                    "positive": 0,
                    "neutral": 0,
                    "negative": 0.99
                  },
                  "4": [
                    {
                      "sentiment": "negative",
                      "confidenceScores": {
                        "positive": 0,
                        "neutral": 0,
                        "negative": 0.99
                      },
                      "text": "First off the reception sucks, I have never had more than 2 bars, ever.",
                      "offset": 0,
                      "length": 71
                    }
                  ],
                  "5": []
                },
                {
                  "0": "The phone gets EXTREMELY HOT!",
                  "1": "positive",
                  "3": {
                    "positive": 0.69,
                    "neutral": 0.16,
                    "negative": 0.15
                  },
                  "4": [
                    {
                      "sentiment": "positive",
                      "confidenceScores": {
                        "positive": 0.69,
                        "neutral": 0.16,
                        "negative": 0.15
                      },
                      "text": "The phone gets EXTREMELY HOT!",
                      "offset": 0,
                      "length": 29
                    }
                  ],
                  "5": []
                },
                {
                  "0": "The microphone also works well, but (according to people I have called) it applifies everything.",
                  "1": "positive",
                  "3": {
                    "positive": 0.78,
                    "neutral": 0.04,
                    "negative": 0.17
                  },
                  "4": [
                    {
                      "sentiment": "positive",
                      "confidenceScores": {
                        "positive": 0.78,
                        "neutral": 0.04,
                        "negative": 0.17
                      },
                      "text": "The microphone also works well, but (according to people I have called) it applifies everything.",
                      "offset": 0,
                      "length": 96
                    }
                  ],
                  "5": []
                },
                {
                  "0": "Nice design and quality.",
                  "1": "positive",
                  "3": {
                    "positive": 1,
                    "neutral": 0,
                    "negative": 0
                  },
                  "4": [
                    {
                      "sentiment": "positive",
                      "confidenceScores": {
                        "positive": 1,
                        "neutral": 0,
                        "negative": 0
                      },
                      "text": "Nice design and quality.",
                      "offset": 0,
                      "length": 24
                    }
                  ],
                  "5": []
                },
                {
                  "0": "Also, if your phone is dropped, this case is not going to save it, specially when dropped face down.",
                  "1": "negative",
                  "3": {
                    "positive": 0,
                    "neutral": 0.02,
                    "negative": 0.98
                  },
                  "4": [
                    {
                      "sentiment": "negative",
                      "confidenceScores": {
                        "positive": 0,
                        "neutral": 0.02,
                        "negative": 0.98
                      },
                      "text": "Also, if your phone is dropped, this case is not going to save it, specially when dropped face down.",
                      "offset": 0,
                      "length": 100
                    }
                  ],
                  "5": []
                },
                {
                  "0": "It is light, easy to use, and has very clear reception and transmission.",
                  "1": "positive",
                  "3": {
                    "positive": 0.91,
                    "neutral": 0.09,
                    "negative": 0.01
                  },
                  "4": [
                    {
                      "sentiment": "positive",
                      "confidenceScores": {
                        "positive": 0.91,
                        "neutral": 0.09,
                        "negative": 0.01
                      },
                      "text": "It is light, easy to use, and has very clear reception and transmission.",
                      "offset": 0,
                      "length": 72
                    }
                  ],
                  "5": []
                },
                {
                  "0": "bad fit, way too big.",
                  "1": "negative",
                  "3": {
                    "positive": 0,
                    "neutral": 0,
                    "negative": 0.99
                  },
                  "4": [
                    {
                      "sentiment": "negative",
                      "confidenceScores": {
                        "positive": 0,
                        "neutral": 0,
                        "negative": 0.99
                      },
                      "text": "bad fit, way too big.",
                      "offset": 0,
                      "length": 21
                    }
                  ],
                  "5": []
                },
                {
                  "0": "It definitely was not as good as my S11.",
                  "1": "negative",
                  "3": {
                    "positive": 0,
                    "neutral": 0,
                    "negative": 0.99
                  },
                  "4": [
                    {
                      "sentiment": "negative",
                      "confidenceScores": {
                        "positive": 0,
                        "neutral": 0,
                        "negative": 0.99
                      },
                      "text": "It definitely was not as good as my S11.",
                      "offset": 0,
                      "length": 40
                    }
                  ],
                  "5": []
                },
                {
                  "0": "awesome device.",
                  "1": "positive",
                  "3": {
                    "positive": 0.99,
                    "neutral": 0,
                    "negative": 0
                  },
                  "4": [
                    {
                      "sentiment": "positive",
                      "confidenceScores": {
                        "positive": 0.99,
                        "neutral": 0,
                        "negative": 0
                      },
                      "text": "awesome device.",
                      "offset": 0,
                      "length": 15
                    }
                  ],
                  "5": []
                },
                {
                  "0": "Waste of money.",
                  "1": "negative",
                  "3": {
                    "positive": 0.01,
                    "neutral": 0.01,
                    "negative": 0.99
                  },
                  "4": [
                    {
                      "sentiment": "negative",
                      "confidenceScores": {
                        "positive": 0.01,
                        "neutral": 0.01,
                        "negative": 0.99
                      },
                      "text": "Waste of money.",
                      "offset": 0,
                      "length": 15
                    }
                  ],
                  "5": []
                },
                {
                  "0": "I had ordered a motorola data cable, got a very well finished and working product.",
                  "1": "positive",
                  "3": {
                    "positive": 0.99,
                    "neutral": 0,
                    "negative": 0
                  },
                  "4": [
                    {
                      "sentiment": "positive",
                      "confidenceScores": {
                        "positive": 0.99,
                        "neutral": 0,
                        "negative": 0
                      },
                      "text": "I had ordered a motorola data cable, got a very well finished and working product.",
                      "offset": 0,
                      "length": 82
                    }
                  ],
                  "5": []
                },
                {
                  "0": "Love This Phone.",
                  "1": "positive",
                  "3": {
                    "positive": 0.99,
                    "neutral": 0,
                    "negative": 0
                  },
                  "4": [
                    {
                      "sentiment": "positive",
                      "confidenceScores": {
                        "positive": 0.99,
                        "neutral": 0,
                        "negative": 0
                      },
                      "text": "Love This Phone.",
                      "offset": 0,
                      "length": 16
                    }
                  ],
                  "5": []
                },
                {
                  "0": "I was looking for this headset for a long time and now that I've got it I couldn't be happier.",
                  "1": "positive",
                  "3": {
                    "positive": 0.96,
                    "neutral": 0.01,
                    "negative": 0.03
                  },
                  "4": [
                    {
                      "sentiment": "positive",
                      "confidenceScores": {
                        "positive": 0.96,
                        "neutral": 0.01,
                        "negative": 0.03
                      },
                      "text": "I was looking for this headset for a long time and now that I've got it I couldn't be happier.",
                      "offset": 0,
                      "length": 94
                    }
                  ],
                  "5": []
                },
                {
                  "0": "I'll be drivng along, and my headset starts ringing for no reason.",
                  "1": "negative",
                  "3": {
                    "positive": 0.01,
                    "neutral": 0.2,
                    "negative": 0.79
                  },
                  "4": [
                    {
                      "sentiment": "negative",
                      "confidenceScores": {
                        "positive": 0.01,
                        "neutral": 0.2,
                        "negative": 0.79
                      },
                      "text": "I'll be drivng along, and my headset starts ringing for no reason.",
                      "offset": 0,
                      "length": 66
                    }
                  ],
                  "5": []
                },
                {
                  "0": "Display is excellent and camera is as good as any from that year.",
                  "1": "positive",
                  "3": {
                    "positive": 1,
                    "neutral": 0,
                    "negative": 0
                  },
                  "4": [
                    {
                      "sentiment": "positive",
                      "confidenceScores": {
                        "positive": 1,
                        "neutral": 0,
                        "negative": 0
                      },
                      "text": "Display is excellent and camera is as good as any from that year.",
                      "offset": 0,
                      "length": 65
                    }
                  ],
                  "5": []
                },
                {
                  "0": "Battery life is also great!",
                  "1": "positive",
                  "3": {
                    "positive": 0.99,
                    "neutral": 0,
                    "negative": 0
                  },
                  "4": [
                    {
                      "sentiment": "positive",
                      "confidenceScores": {
                        "positive": 0.99,
                        "neutral": 0,
                        "negative": 0
                      },
                      "text": "Battery life is also great!",
                      "offset": 0,
                      "length": 27
                    }
                  ],
                  "5": []
                },
                {
                  "0": "The worst phone I've ever had.... Only had it for a few months.",
                  "1": "negative",
                  "3": {
                    "positive": 0.01,
                    "neutral": 0,
                    "negative": 0.99
                  },
                  "4": [
                    {
                      "sentiment": "negative",
                      "confidenceScores": {
                        "positive": 0.01,
                        "neutral": 0,
                        "negative": 0.99
                      },
                      "text": "The worst phone I've ever had.... ",
                      "offset": 0,
                      "length": 34
                    },
                    {
                      "sentiment": "neutral",
                      "confidenceScores": {
                        "positive": 0.02,
                        "neutral": 0.89,
                        "negative": 0.08
                      },
                      "text": "Only had it for a few months.",
                      "offset": 34,
                      "length": 29
                    }
                  ],
                  "5": []
                },
                {
                  "0": "Not a good item.. It worked for a while then started having problems in my auto reverse tape player.",
                  "1": "negative",
                  "3": {
                    "positive": 0.01,
                    "neutral": 0.01,
                    "negative": 0.99
                  },
                  "4": [
                    {
                      "sentiment": "negative",
                      "confidenceScores": {
                        "positive": 0.01,
                        "neutral": 0,
                        "negative": 0.99
                      },
                      "text": "Not a good item.. ",
                      "offset": 0,
                      "length": 18
                    },
                    {
                      "sentiment": "negative",
                      "confidenceScores": {
                        "positive": 0,
                        "neutral": 0.01,
                        "negative": 0.99
                      },
                      "text": "It worked for a while then started having problems in my auto reverse tape player.",
                      "offset": 18,
                      "length": 82
                    }
                  ],
                  "5": []
                },
                {
                  "0": "This is so embarassing and also my ears hurt if I try to push the ear plug into my ear.",
                  "1": "negative",
                  "3": {
                    "positive": 0,
                    "neutral": 0,
                    "negative": 1
                  },
                  "4": [
                    {
                      "sentiment": "negative",
                      "confidenceScores": {
                        "positive": 0,
                        "neutral": 0,
                        "negative": 1
                      },
                      "text": "This is so embarassing and also my ears hurt if I try to push the ear plug into my ear.",
                      "offset": 0,
                      "length": 87
                    }
                  ],
                  "5": []
                },
                {
                  "0": "Protects the phone on all sides.",
                  "1": "neutral",
                  "3": {
                    "positive": 0.2,
                    "neutral": 0.79,
                    "negative": 0.01
                  },
                  "4": [
                    {
                      "sentiment": "neutral",
                      "confidenceScores": {
                        "positive": 0.2,
                        "neutral": 0.79,
                        "negative": 0.01
                      },
                      "text": "Protects the phone on all sides.",
                      "offset": 0,
                      "length": 32
                    }
                  ],
                  "5": []
                },
                {
                  "0": "This is a VERY average phone with bad battery life that operates on a weak network.",
                  "1": "negative",
                  "3": {
                    "positive": 0,
                    "neutral": 0,
                    "negative": 1
                  },
                  "4": [
                    {
                      "sentiment": "negative",
                      "confidenceScores": {
                        "positive": 0,
                        "neutral": 0,
                        "negative": 1
                      },
                      "text": "This is a VERY average phone with bad battery life that operates on a weak network.",
                      "offset": 0,
                      "length": 83
                    }
                  ],
                  "5": []
                },
                {
                  "0": "Clear Skype Calls, Long Battery Life, Long Range.",
                  "1": "positive",
                  "3": {
                    "positive": 0.83,
                    "neutral": 0.17,
                    "negative": 0.01
                  },
                  "4": [
                    {
                      "sentiment": "positive",
                      "confidenceScores": {
                        "positive": 0.83,
                        "neutral": 0.17,
                        "negative": 0.01
                      },
                      "text": "Clear Skype Calls, Long Battery Life, Long Range.",
                      "offset": 0,
                      "length": 49
                    }
                  ],
                  "5": []
                },
                {
                  "0": "Soyo technology sucks.",
                  "1": "negative",
                  "3": {
                    "positive": 0,
                    "neutral": 0.01,
                    "negative": 0.99
                  },
                  "4": [
                    {
                      "sentiment": "negative",
                      "confidenceScores": {
                        "positive": 0,
                        "neutral": 0.01,
                        "negative": 0.99
                      },
                      "text": "Soyo technology sucks.",
                      "offset": 0,
                      "length": 22
                    }
                  ],
                  "5": []
                },
                {
                  "0": "Great Hands Free Device.",
                  "1": "positive",
                  "3": {
                    "positive": 1,
                    "neutral": 0,
                    "negative": 0
                  },
                  "4": [
                    {
                      "sentiment": "positive",
                      "confidenceScores": {
                        "positive": 1,
                        "neutral": 0,
                        "negative": 0
                      },
                      "text": "Great Hands Free Device.",
                      "offset": 0,
                      "length": 24
                    }
                  ],
                  "5": []
                },
                {
                  "0": "you can even take self portraits with the outside (exterior) display, very cool.",
                  "1": "positive",
                  "3": {
                    "positive": 0.97,
                    "neutral": 0.03,
                    "negative": 0
                  },
                  "4": [
                    {
                      "sentiment": "positive",
                      "confidenceScores": {
                        "positive": 0.97,
                        "neutral": 0.03,
                        "negative": 0
                      },
                      "text": "you can even take self portraits with the outside (exterior) display, very cool.",
                      "offset": 0,
                      "length": 80
                    }
                  ],
                  "5": []
                },
                {
                  "0": "Same problem as others have mentioned.",
                  "1": "negative",
                  "3": {
                    "positive": 0.01,
                    "neutral": 0.03,
                    "negative": 0.97
                  },
                  "4": [
                    {
                      "sentiment": "negative",
                      "confidenceScores": {
                        "positive": 0.01,
                        "neutral": 0.03,
                        "negative": 0.97
                      },
                      "text": "Same problem as others have mentioned.",
                      "offset": 0,
                      "length": 38
                    }
                  ],
                  "5": []
                },
                {
                  "0": "After trying many many handsfree gadgets this is the one that finally works well.",
                  "1": "positive",
                  "3": {
                    "positive": 0.99,
                    "neutral": 0,
                    "negative": 0
                  },
                  "4": [
                    {
                      "sentiment": "positive",
                      "confidenceScores": {
                        "positive": 0.99,
                        "neutral": 0,
                        "negative": 0
                      },
                      "text": "After trying many many handsfree gadgets this is the one that finally works well.",
                      "offset": 0,
                      "length": 81
                    }
                  ],
                  "5": []
                },
                {
                  "0": "Magical Help.",
                  "1": "positive",
                  "3": {
                    "positive": 1,
                    "neutral": 0,
                    "negative": 0
                  },
                  "4": [
                    {
                      "sentiment": "positive",
                      "confidenceScores": {
                        "positive": 1,
                        "neutral": 0,
                        "negative": 0
                      },
                      "text": "Magical Help.",
                      "offset": 0,
                      "length": 13
                    }
                  ],
                  "5": []
                },
                {
                  "0": "The worst piece of crap ever along with the Verizon customer service.",
                  "1": "negative",
                  "3": {
                    "positive": 0.01,
                    "neutral": 0,
                    "negative": 0.99
                  },
                  "4": [
                    {
                      "sentiment": "negative",
                      "confidenceScores": {
                        "positive": 0.01,
                        "neutral": 0,
                        "negative": 0.99
                      },
                      "text": "The worst piece of crap ever along with the Verizon customer service.",
                      "offset": 0,
                      "length": 69
                    }
                  ],
                  "5": []
                },
                {
                  "0": "Poor sound quality.",
                  "1": "negative",
                  "3": {
                    "positive": 0,
                    "neutral": 0,
                    "negative": 0.99
                  },
                  "4": [
                    {
                      "sentiment": "negative",
                      "confidenceScores": {
                        "positive": 0,
                        "neutral": 0,
                        "negative": 0.99
                      },
                      "text": "Poor sound quality.",
                      "offset": 0,
                      "length": 19
                    }
                  ],
                  "5": []
                },
                {
                  "0": "The best phone in market :).",
                  "1": "positive",
                  "3": {
                    "positive": 1,
                    "neutral": 0,
                    "negative": 0
                  },
                  "4": [
                    {
                      "sentiment": "positive",
                      "confidenceScores": {
                        "positive": 1,
                        "neutral": 0,
                        "negative": 0
                      },
                      "text": "The best phone in market :).",
                      "offset": 0,
                      "length": 28
                    }
                  ],
                  "5": []
                },
                {
                  "0": "It worked very well.",
                  "1": "positive",
                  "3": {
                    "positive": 0.99,
                    "neutral": 0.01,
                    "negative": 0.01
                  },
                  "4": [
                    {
                      "sentiment": "positive",
                      "confidenceScores": {
                        "positive": 0.99,
                        "neutral": 0.01,
                        "negative": 0.01
                      },
                      "text": "It worked very well.",
                      "offset": 0,
                      "length": 20
                    }
                  ],
                  "5": []
                },
                {
                  "0": "The company shipped my product very promptly and it works well.",
                  "1": "positive",
                  "3": {
                    "positive": 1,
                    "neutral": 0,
                    "negative": 0
                  },
                  "4": [
                    {
                      "sentiment": "positive",
                      "confidenceScores": {
                        "positive": 1,
                        "neutral": 0,
                        "negative": 0
                      },
                      "text": "The company shipped my product very promptly and it works well.",
                      "offset": 0,
                      "length": 63
                    }
                  ],
                  "5": []
                },
                {
                  "0": "Exactly what I wanted.",
                  "1": "positive",
                  "3": {
                    "positive": 0.9,
                    "neutral": 0.09,
                    "negative": 0.02
                  },
                  "4": [
                    {
                      "sentiment": "positive",
                      "confidenceScores": {
                        "positive": 0.9,
                        "neutral": 0.09,
                        "negative": 0.02
                      },
                      "text": "Exactly what I wanted.",
                      "offset": 0,
                      "length": 22
                    }
                  ],
                  "5": []
                },
                {
                  "0": "The picture resolution is far below what other comparably-priced phones are offering today.",
                  "1": "negative",
                  "3": {
                    "positive": 0.11,
                    "neutral": 0.21,
                    "negative": 0.68
                  },
                  "4": [
                    {
                      "sentiment": "negative",
                      "confidenceScores": {
                        "positive": 0.11,
                        "neutral": 0.21,
                        "negative": 0.68
                      },
                      "text": "The picture resolution is far below what other comparably-priced phones are offering today.",
                      "offset": 0,
                      "length": 91
                    }
                  ],
                  "5": []
                },
                {
                  "0": "This is a great deal.",
                  "1": "positive",
                  "3": {
                    "positive": 0.99,
                    "neutral": 0.01,
                    "negative": 0
                  },
                  "4": [
                    {
                      "sentiment": "positive",
                      "confidenceScores": {
                        "positive": 0.99,
                        "neutral": 0.01,
                        "negative": 0
                      },
                      "text": "This is a great deal.",
                      "offset": 0,
                      "length": 21
                    }
                  ],
                  "5": []
                },
                {
                  "0": "Excellent product, I am very satisfied with the purchase.",
                  "1": "positive",
                  "3": {
                    "positive": 1,
                    "neutral": 0,
                    "negative": 0
                  },
                  "4": [
                    {
                      "sentiment": "positive",
                      "confidenceScores": {
                        "positive": 1,
                        "neutral": 0,
                        "negative": 0
                      },
                      "text": "Excellent product, I am very satisfied with the purchase.",
                      "offset": 0,
                      "length": 57
                    }
                  ],
                  "5": []
                },
                {
                  "0": "I highly recommend these and encourage people to give them a try.",
                  "1": "positive",
                  "3": {
                    "positive": 0.99,
                    "neutral": 0,
                    "negative": 0
                  },
                  "4": [
                    {
                      "sentiment": "positive",
                      "confidenceScores": {
                        "positive": 0.99,
                        "neutral": 0,
                        "negative": 0
                      },
                      "text": "I highly recommend these and encourage people to give them a try.",
                      "offset": 0,
                      "length": 65
                    }
                  ],
                  "5": []
                },
                {
                  "0": "Better than you'd expect.",
                  "1": "positive",
                  "3": {
                    "positive": 0.98,
                    "neutral": 0.01,
                    "negative": 0.01
                  },
                  "4": [
                    {
                      "sentiment": "positive",
                      "confidenceScores": {
                        "positive": 0.98,
                        "neutral": 0.01,
                        "negative": 0.01
                      },
                      "text": "Better than you'd expect.",
                      "offset": 0,
                      "length": 25
                    }
                  ],
                  "5": []
                },
                {
                  "0": "Using all earpieces, left or right, this thing will not stay on my ear.",
                  "1": "negative",
                  "3": {
                    "positive": 0.02,
                    "neutral": 0.41,
                    "negative": 0.57
                  },
                  "4": [
                    {
                      "sentiment": "negative",
                      "confidenceScores": {
                        "positive": 0.02,
                        "neutral": 0.41,
                        "negative": 0.57
                      },
                      "text": "Using all earpieces, left or right, this thing will not stay on my ear.",
                      "offset": 0,
                      "length": 71
                    }
                  ],
                  "5": []
                },
                {
                  "0": "Great product and price.",
                  "1": "positive",
                  "3": {
                    "positive": 1,
                    "neutral": 0,
                    "negative": 0
                  },
                  "4": [
                    {
                      "sentiment": "positive",
                      "confidenceScores": {
                        "positive": 1,
                        "neutral": 0,
                        "negative": 0
                      },
                      "text": "Great product and price.",
                      "offset": 0,
                      "length": 24
                    }
                  ],
                  "5": []
                },
                {
                  "0": "Sounds good reasonably priced and effective, Its that simple !",
                  "1": "positive",
                  "3": {
                    "positive": 1,
                    "neutral": 0,
                    "negative": 0
                  },
                  "4": [
                    {
                      "sentiment": "positive",
                      "confidenceScores": {
                        "positive": 1,
                        "neutral": 0,
                        "negative": 0
                      },
                      "text": "Sounds good reasonably priced and effective, Its that simple !",
                      "offset": 0,
                      "length": 62
                    }
                  ],
                  "5": []
                },
                {
                  "0": "Still Waiting...... I'm sure this item would work well.. if I ever recieve it!",
                  "1": "mixed",
                  "3": {
                    "positive": 0.56,
                    "neutral": 0.16,
                    "negative": 0.28
                  },
                  "4": [
                    {
                      "sentiment": "negative",
                      "confidenceScores": {
                        "positive": 0.14,
                        "neutral": 0.3,
                        "negative": 0.56
                      },
                      "text": "Still Waiting...... ",
                      "offset": 0,
                      "length": 20
                    },
                    {
                      "sentiment": "positive",
                      "confidenceScores": {
                        "positive": 0.99,
                        "neutral": 0.01,
                        "negative": 0.01
                      },
                      "text": "I'm sure this item would work well.. ",
                      "offset": 20,
                      "length": 37
                    },
                    {
                      "sentiment": "neutral",
                      "confidenceScores": {
                        "positive": 0.12,
                        "neutral": 0.85,
                        "negative": 0.02
                      },
                      "text": "if I ever recieve it!",
                      "offset": 57,
                      "length": 21
                    }
                  ],
                  "5": []
                },
                {
                  "0": "what a disappointment",
                  "1": "negative",
                  "3": {
                    "positive": 0.01,
                    "neutral": 0,
                    "negative": 0.98
                  },
                  "4": [
                    {
                      "sentiment": "negative",
                      "confidenceScores": {
                        "positive": 0.01,
                        "neutral": 0,
                        "negative": 0.98
                      },
                      "text": "what a disappointment",
                      "offset": 0,
                      "length": 21
                    }
                  ],
                  "5": []
                },
                {
                  "0": "Very prompt service.",
                  "1": "positive",
                  "3": {
                    "positive": 0.99,
                    "neutral": 0.01,
                    "negative": 0
                  },
                  "4": [
                    {
                      "sentiment": "positive",
                      "confidenceScores": {
                        "positive": 0.99,
                        "neutral": 0.01,
                        "negative": 0
                      },
                      "text": "Very prompt service.",
                      "offset": 0,
                      "length": 20
                    }
                  ],
                  "5": []
                },
                {
                  "0": "Excellent product for the price.",
                  "1": "positive",
                  "3": {
                    "positive": 1,
                    "neutral": 0,
                    "negative": 0
                  },
                  "4": [
                    {
                      "sentiment": "positive",
                      "confidenceScores": {
                        "positive": 1,
                        "neutral": 0,
                        "negative": 0
                      },
                      "text": "Excellent product for the price.",
                      "offset": 0,
                      "length": 32
                    }
                  ],
                  "5": []
                },
                {
                  "0": "Very pleased with this headset.",
                  "1": "positive",
                  "3": {
                    "positive": 1,
                    "neutral": 0,
                    "negative": 0
                  },
                  "4": [
                    {
                      "sentiment": "positive",
                      "confidenceScores": {
                        "positive": 1,
                        "neutral": 0,
                        "negative": 0
                      },
                      "text": "Very pleased with this headset.",
                      "offset": 0,
                      "length": 31
                    }
                  ],
                  "5": []
                },
                {
                  "0": "don't waste your money and time.",
                  "1": "neutral",
                  "3": {
                    "positive": 0.37,
                    "neutral": 0.46,
                    "negative": 0.17
                  },
                  "4": [
                    {
                      "sentiment": "neutral",
                      "confidenceScores": {
                        "positive": 0.37,
                        "neutral": 0.46,
                        "negative": 0.17
                      },
                      "text": "don't waste your money and time.",
                      "offset": 0,
                      "length": 32
                    }
                  ],
                  "5": []
                },
                {
                  "0": "I especially love the long battery life.",
                  "1": "positive",
                  "3": {
                    "positive": 0.99,
                    "neutral": 0,
                    "negative": 0
                  },
                  "4": [
                    {
                      "sentiment": "positive",
                      "confidenceScores": {
                        "positive": 0.99,
                        "neutral": 0,
                        "negative": 0
                      },
                      "text": "I especially love the long battery life.",
                      "offset": 0,
                      "length": 40
                    }
                  ],
                  "5": []
                },
                {
                  "0": "It's so stupid to have to keep buying new chargers, car chargers, cradles, headphones and car kits every time a new phone comes out.",
                  "1": "negative",
                  "3": {
                    "positive": 0.01,
                    "neutral": 0,
                    "negative": 0.99
                  },
                  "4": [
                    {
                      "sentiment": "negative",
                      "confidenceScores": {
                        "positive": 0.01,
                        "neutral": 0,
                        "negative": 0.99
                      },
                      "text": "It's so stupid to have to keep buying new chargers, car chargers, cradles, headphones and car kits every time a new phone comes out.",
                      "offset": 0,
                      "length": 132
                    }
                  ],
                  "5": []
                },
                {
                  "0": "Works great.",
                  "1": "positive",
                  "3": {
                    "positive": 1,
                    "neutral": 0,
                    "negative": 0
                  },
                  "4": [
                    {
                      "sentiment": "positive",
                      "confidenceScores": {
                        "positive": 1,
                        "neutral": 0,
                        "negative": 0
                      },
                      "text": "Works great.",
                      "offset": 0,
                      "length": 12
                    }
                  ],
                  "5": []
                },
                {
                  "0": "Plantronics Bluetooth Excelent Buy.",
                  "1": "neutral",
                  "3": {
                    "positive": 0.09,
                    "neutral": 0.9,
                    "negative": 0.01
                  },
                  "4": [
                    {
                      "sentiment": "neutral",
                      "confidenceScores": {
                        "positive": 0.09,
                        "neutral": 0.9,
                        "negative": 0.01
                      },
                      "text": "Plantronics Bluetooth Excelent Buy.",
                      "offset": 0,
                      "length": 35
                    }
                  ],
                  "5": []
                },
                {
                  "0": "I came over from Verizon because cingulair has nicer cell phones.... the first thing I noticed was the really bad service.",
                  "1": "mixed",
                  "3": {
                    "positive": 0.5,
                    "neutral": 0,
                    "negative": 0.5
                  },
                  "4": [
                    {
                      "sentiment": "positive",
                      "confidenceScores": {
                        "positive": 0.99,
                        "neutral": 0.01,
                        "negative": 0
                      },
                      "text": "I came over from Verizon because cingulair has nicer cell phones.... ",
                      "offset": 0,
                      "length": 69
                    },
                    {
                      "sentiment": "negative",
                      "confidenceScores": {
                        "positive": 0,
                        "neutral": 0,
                        "negative": 1
                      },
                      "text": "the first thing I noticed was the really bad service.",
                      "offset": 69,
                      "length": 53
                    }
                  ],
                  "5": []
                },
                {
                  "0": "I'll be looking for a new earpiece.",
                  "1": "neutral",
                  "3": {
                    "positive": 0.03,
                    "neutral": 0.96,
                    "negative": 0.01
                  },
                  "4": [
                    {
                      "sentiment": "neutral",
                      "confidenceScores": {
                        "positive": 0.03,
                        "neutral": 0.96,
                        "negative": 0.01
                      },
                      "text": "I'll be looking for a new earpiece.",
                      "offset": 0,
                      "length": 35
                    }
                  ],
                  "5": []
                },
                {
                  "0": "I highly recommend this device to everyone!",
                  "1": "positive",
                  "3": {
                    "positive": 0.99,
                    "neutral": 0,
                    "negative": 0
                  },
                  "4": [
                    {
                      "sentiment": "positive",
                      "confidenceScores": {
                        "positive": 0.99,
                        "neutral": 0,
                        "negative": 0
                      },
                      "text": "I highly recommend this device to everyone!",
                      "offset": 0,
                      "length": 43
                    }
                  ],
                  "5": []
                },
                {
                  "0": "Jawbone Era is awesome too!",
                  "1": "positive",
                  "3": {
                    "positive": 0.99,
                    "neutral": 0,
                    "negative": 0
                  },
                  "4": [
                    {
                      "sentiment": "positive",
                      "confidenceScores": {
                        "positive": 0.99,
                        "neutral": 0,
                        "negative": 0
                      },
                      "text": "Jawbone Era is awesome too!",
                      "offset": 0,
                      "length": 27
                    }
                  ],
                  "5": []
                },
                {
                  "0": "We received a WHITE colored battery that goes DEAD after a couple hoursTHe original used to last a week - but still lasts longer than thereplacement",
                  "1": "negative",
                  "3": {
                    "positive": 0.01,
                    "neutral": 0.03,
                    "negative": 0.96
                  },
                  "4": [
                    {
                      "sentiment": "negative",
                      "confidenceScores": {
                        "positive": 0.01,
                        "neutral": 0.03,
                        "negative": 0.96
                      },
                      "text": "We received a WHITE colored battery that goes DEAD after a couple hoursTHe original used to last a week - but still lasts longer than thereplacement",
                      "offset": 0,
                      "length": 148
                    }
                  ],
                  "5": []
                },
                {
                  "0": "After a year the battery went completely dead on my headset.",
                  "1": "negative",
                  "3": {
                    "positive": 0,
                    "neutral": 0.01,
                    "negative": 0.99
                  },
                  "4": [
                    {
                      "sentiment": "negative",
                      "confidenceScores": {
                        "positive": 0,
                        "neutral": 0.01,
                        "negative": 0.99
                      },
                      "text": "After a year the battery went completely dead on my headset.",
                      "offset": 0,
                      "length": 60
                    }
                  ],
                  "5": []
                },
                {
                  "0": "I have used several phone in two years, but this one is the best.",
                  "1": "positive",
                  "3": {
                    "positive": 0.98,
                    "neutral": 0.01,
                    "negative": 0.01
                  },
                  "4": [
                    {
                      "sentiment": "positive",
                      "confidenceScores": {
                        "positive": 0.98,
                        "neutral": 0.01,
                        "negative": 0.01
                      },
                      "text": "I have used several phone in two years, but this one is the best.",
                      "offset": 0,
                      "length": 65
                    }
                  ],
                  "5": []
                },
                {
                  "0": "An Awesome New Look For Fall 2000!.",
                  "1": "positive",
                  "3": {
                    "positive": 1,
                    "neutral": 0,
                    "negative": 0
                  },
                  "4": [
                    {
                      "sentiment": "positive",
                      "confidenceScores": {
                        "positive": 1,
                        "neutral": 0,
                        "negative": 0
                      },
                      "text": "An Awesome New Look For Fall 2000!.",
                      "offset": 0,
                      "length": 35
                    }
                  ],
                  "5": []
                },
                {
                  "0": "This is the first phone I've had that has been so cheaply made.",
                  "1": "negative",
                  "3": {
                    "positive": 0.1,
                    "neutral": 0.03,
                    "negative": 0.87
                  },
                  "4": [
                    {
                      "sentiment": "negative",
                      "confidenceScores": {
                        "positive": 0.1,
                        "neutral": 0.03,
                        "negative": 0.87
                      },
                      "text": "This is the first phone I've had that has been so cheaply made.",
                      "offset": 0,
                      "length": 63
                    }
                  ],
                  "5": []
                },
                {
                  "0": "Att is not clear, sound is very distorted and you have to yell when you talk.",
                  "1": "negative",
                  "3": {
                    "positive": 0,
                    "neutral": 0.01,
                    "negative": 0.99
                  },
                  "4": [
                    {
                      "sentiment": "negative",
                      "confidenceScores": {
                        "positive": 0,
                        "neutral": 0.01,
                        "negative": 0.99
                      },
                      "text": "Att is not clear, sound is very distorted and you have to yell when you talk.",
                      "offset": 0,
                      "length": 77
                    }
                  ],
                  "5": []
                },
                {
                  "0": "The plastic breaks really easy on this clip.",
                  "1": "negative",
                  "3": {
                    "positive": 0.21,
                    "neutral": 0.05,
                    "negative": 0.74
                  },
                  "4": [
                    {
                      "sentiment": "negative",
                      "confidenceScores": {
                        "positive": 0.21,
                        "neutral": 0.05,
                        "negative": 0.74
                      },
                      "text": "The plastic breaks really easy on this clip.",
                      "offset": 0,
                      "length": 44
                    }
                  ],
                  "5": []
                },
                {
                  "0": "Price is good too.",
                  "1": "positive",
                  "3": {
                    "positive": 0.99,
                    "neutral": 0,
                    "negative": 0
                  },
                  "4": [
                    {
                      "sentiment": "positive",
                      "confidenceScores": {
                        "positive": 0.99,
                        "neutral": 0,
                        "negative": 0
                      },
                      "text": "Price is good too.",
                      "offset": 0,
                      "length": 18
                    }
                  ],
                  "5": []
                },
                {
                  "0": "Don't make the same mistake I did.",
                  "1": "negative",
                  "3": {
                    "positive": 0.04,
                    "neutral": 0.19,
                    "negative": 0.78
                  },
                  "4": [
                    {
                      "sentiment": "negative",
                      "confidenceScores": {
                        "positive": 0.04,
                        "neutral": 0.19,
                        "negative": 0.78
                      },
                      "text": "Don't make the same mistake I did.",
                      "offset": 0,
                      "length": 34
                    }
                  ],
                  "5": []
                },
                {
                  "0": "Oh and I forgot to also mention the weird color effect it has on your phone.",
                  "1": "negative",
                  "3": {
                    "positive": 0.01,
                    "neutral": 0.02,
                    "negative": 0.98
                  },
                  "4": [
                    {
                      "sentiment": "negative",
                      "confidenceScores": {
                        "positive": 0.01,
                        "neutral": 0.02,
                        "negative": 0.98
                      },
                      "text": "Oh and I forgot to also mention the weird color effect it has on your phone.",
                      "offset": 0,
                      "length": 76
                    }
                  ],
                  "5": []
                },
                {
                  "0": "I'm using it with an iriver SPINN (with case) and it fits fine.",
                  "1": "positive",
                  "3": {
                    "positive": 0.92,
                    "neutral": 0.07,
                    "negative": 0.01
                  },
                  "4": [
                    {
                      "sentiment": "positive",
                      "confidenceScores": {
                        "positive": 0.92,
                        "neutral": 0.07,
                        "negative": 0.01
                      },
                      "text": "I'm using it with an iriver SPINN (with case) and it fits fine.",
                      "offset": 0,
                      "length": 63
                    }
                  ],
                  "5": []
                },
                {
                  "0": "Also the area where my unit broke).- I'm not too fond of the magnetic strap.",
                  "1": "negative",
                  "3": {
                    "positive": 0.01,
                    "neutral": 0.02,
                    "negative": 0.98
                  },
                  "4": [
                    {
                      "sentiment": "negative",
                      "confidenceScores": {
                        "positive": 0.01,
                        "neutral": 0.02,
                        "negative": 0.98
                      },
                      "text": "Also the area where my unit broke).- I'm not too fond of the magnetic strap.",
                      "offset": 0,
                      "length": 76
                    }
                  ],
                  "5": []
                },
                {
                  "0": "Overall, I am psyched to have a phone which has all my appointments and contacts in and gets great reception.",
                  "1": "positive",
                  "3": {
                    "positive": 1,
                    "neutral": 0,
                    "negative": 0
                  },
                  "4": [
                    {
                      "sentiment": "positive",
                      "confidenceScores": {
                        "positive": 1,
                        "neutral": 0,
                        "negative": 0
                      },
                      "text": "Overall, I am psyched to have a phone which has all my appointments and contacts in and gets great reception.",
                      "offset": 0,
                      "length": 109
                    }
                  ],
                  "5": []
                },
                {
                  "0": "every thing on phone work perfectly, she like it.",
                  "1": "positive",
                  "3": {
                    "positive": 0.99,
                    "neutral": 0.01,
                    "negative": 0
                  },
                  "4": [
                    {
                      "sentiment": "positive",
                      "confidenceScores": {
                        "positive": 0.99,
                        "neutral": 0.01,
                        "negative": 0
                      },
                      "text": "every thing on phone work perfectly, she like it.",
                      "offset": 0,
                      "length": 49
                    }
                  ],
                  "5": []
                },
                {
                  "0": "Another note about this phone's appearance is that it really looks rather bland, especially in the all black model.",
                  "1": "negative",
                  "3": {
                    "positive": 0.01,
                    "neutral": 0.04,
                    "negative": 0.95
                  },
                  "4": [
                    {
                      "sentiment": "negative",
                      "confidenceScores": {
                        "positive": 0.01,
                        "neutral": 0.04,
                        "negative": 0.95
                      },
                      "text": "Another note about this phone's appearance is that it really looks rather bland, especially in the all black model.",
                      "offset": 0,
                      "length": 115
                    }
                  ],
                  "5": []
                },
                {
                  "0": "IT'S REALLY EASY.",
                  "1": "positive",
                  "3": {
                    "positive": 0.96,
                    "neutral": 0.03,
                    "negative": 0.01
                  },
                  "4": [
                    {
                      "sentiment": "positive",
                      "confidenceScores": {
                        "positive": 0.96,
                        "neutral": 0.03,
                        "negative": 0.01
                      },
                      "text": "IT'S REALLY EASY.",
                      "offset": 0,
                      "length": 17
                    }
                  ],
                  "5": []
                },
                {
                  "0": "My Sanyo has survived dozens of drops on blacktop without ill effect.",
                  "1": "positive",
                  "3": {
                    "positive": 0.37,
                    "neutral": 0.25,
                    "negative": 0.37
                  },
                  "4": [
                    {
                      "sentiment": "positive",
                      "confidenceScores": {
                        "positive": 0.37,
                        "neutral": 0.25,
                        "negative": 0.37
                      },
                      "text": "My Sanyo has survived dozens of drops on blacktop without ill effect.",
                      "offset": 0,
                      "length": 69
                    }
                  ],
                  "5": []
                },
                {
                  "0": "Fantastic earphones.",
                  "1": "positive",
                  "3": {
                    "positive": 1,
                    "neutral": 0,
                    "negative": 0
                  },
                  "4": [
                    {
                      "sentiment": "positive",
                      "confidenceScores": {
                        "positive": 1,
                        "neutral": 0,
                        "negative": 0
                      },
                      "text": "Fantastic earphones.",
                      "offset": 0,
                      "length": 20
                    }
                  ],
                  "5": []
                },
                {
                  "0": "It finds my cell phone right away when I enter the car.",
                  "1": "neutral",
                  "3": {
                    "positive": 0.01,
                    "neutral": 0.98,
                    "negative": 0.01
                  },
                  "4": [
                    {
                      "sentiment": "neutral",
                      "confidenceScores": {
                        "positive": 0.01,
                        "neutral": 0.98,
                        "negative": 0.01
                      },
                      "text": "It finds my cell phone right away when I enter the car.",
                      "offset": 0,
                      "length": 55
                    }
                  ],
                  "5": []
                },
                {
                  "0": "Low Quality.",
                  "1": "negative",
                  "3": {
                    "positive": 0.01,
                    "neutral": 0.01,
                    "negative": 0.99
                  },
                  "4": [
                    {
                      "sentiment": "negative",
                      "confidenceScores": {
                        "positive": 0.01,
                        "neutral": 0.01,
                        "negative": 0.99
                      },
                      "text": "Low Quality.",
                      "offset": 0,
                      "length": 12
                    }
                  ],
                  "5": []
                },
                {
                  "0": "I highly recommend this modest priced cellular phone.",
                  "1": "positive",
                  "3": {
                    "positive": 0.98,
                    "neutral": 0,
                    "negative": 0.01
                  },
                  "4": [
                    {
                      "sentiment": "positive",
                      "confidenceScores": {
                        "positive": 0.98,
                        "neutral": 0,
                        "negative": 0.01
                      },
                      "text": "I highly recommend this modest priced cellular phone.",
                      "offset": 0,
                      "length": 53
                    }
                  ],
                  "5": []
                },
                {
                  "0": "But it does get better reception and clarity than any phone I've had before.",
                  "1": "positive",
                  "3": {
                    "positive": 0.87,
                    "neutral": 0.08,
                    "negative": 0.05
                  },
                  "4": [
                    {
                      "sentiment": "positive",
                      "confidenceScores": {
                        "positive": 0.87,
                        "neutral": 0.08,
                        "negative": 0.05
                      },
                      "text": "But it does get better reception and clarity than any phone I've had before.",
                      "offset": 0,
                      "length": 76
                    }
                  ],
                  "5": []
                },
                {
                  "0": "Warning - Stay away.",
                  "1": "neutral",
                  "3": {
                    "positive": 0.03,
                    "neutral": 0.66,
                    "negative": 0.31
                  },
                  "4": [
                    {
                      "sentiment": "neutral",
                      "confidenceScores": {
                        "positive": 0.03,
                        "neutral": 0.66,
                        "negative": 0.31
                      },
                      "text": "Warning - Stay away.",
                      "offset": 0,
                      "length": 20
                    }
                  ],
                  "5": []
                },
                {
                  "0": "I wish I could return the unit and get back my money.",
                  "1": "positive",
                  "3": {
                    "positive": 0.7,
                    "neutral": 0.16,
                    "negative": 0.14
                  },
                  "4": [
                    {
                      "sentiment": "positive",
                      "confidenceScores": {
                        "positive": 0.7,
                        "neutral": 0.16,
                        "negative": 0.14
                      },
                      "text": "I wish I could return the unit and get back my money.",
                      "offset": 0,
                      "length": 53
                    }
                  ],
                  "5": []
                },
                {
                  "0": "Awsome Device Works Great!!.",
                  "1": "positive",
                  "3": {
                    "positive": 1,
                    "neutral": 0,
                    "negative": 0
                  },
                  "4": [
                    {
                      "sentiment": "positive",
                      "confidenceScores": {
                        "positive": 1,
                        "neutral": 0,
                        "negative": 0
                      },
                      "text": "Awsome Device Works Great!!.",
                      "offset": 0,
                      "length": 28
                    }
                  ],
                  "5": []
                },
                {
                  "0": "I used to talk on it for 1 - 1 1/2 hours and the battery would be literally drained and dying.",
                  "1": "negative",
                  "3": {
                    "positive": 0,
                    "neutral": 0.02,
                    "negative": 0.98
                  },
                  "4": [
                    {
                      "sentiment": "negative",
                      "confidenceScores": {
                        "positive": 0,
                        "neutral": 0.02,
                        "negative": 0.98
                      },
                      "text": "I used to talk on it for 1 - 1 1/2 hours and the battery would be literally drained and dying.",
                      "offset": 0,
                      "length": 94
                    }
                  ],
                  "5": []
                },
                {
                  "0": "If you don't find it, too bad, as again the unit comes with one earpad only.I would not recommend this to anyone.",
                  "1": "negative",
                  "3": {
                    "positive": 0.01,
                    "neutral": 0.01,
                    "negative": 0.99
                  },
                  "4": [
                    {
                      "sentiment": "negative",
                      "confidenceScores": {
                        "positive": 0,
                        "neutral": 0,
                        "negative": 0.99
                      },
                      "text": "If you don't find it, too bad, as again the unit comes with one earpad only.",
                      "offset": 0,
                      "length": 76
                    },
                    {
                      "sentiment": "negative",
                      "confidenceScores": {
                        "positive": 0.01,
                        "neutral": 0.01,
                        "negative": 0.98
                      },
                      "text": "I would not recommend this to anyone.",
                      "offset": 76,
                      "length": 37
                    }
                  ],
                  "5": []
                },
                {
                  "0": "Very Displeased.",
                  "1": "negative",
                  "3": {
                    "positive": 0.01,
                    "neutral": 0.01,
                    "negative": 0.99
                  },
                  "4": [
                    {
                      "sentiment": "negative",
                      "confidenceScores": {
                        "positive": 0.01,
                        "neutral": 0.01,
                        "negative": 0.99
                      },
                      "text": "Very Displeased.",
                      "offset": 0,
                      "length": 16
                    }
                  ],
                  "5": []
                },
                {
                  "0": "I might have gotten a defect, but I would not risk buying it again because of the built quality alone.",
                  "1": "negative",
                  "3": {
                    "positive": 0.02,
                    "neutral": 0.02,
                    "negative": 0.96
                  },
                  "4": [
                    {
                      "sentiment": "negative",
                      "confidenceScores": {
                        "positive": 0.02,
                        "neutral": 0.02,
                        "negative": 0.96
                      },
                      "text": "I might have gotten a defect, but I would not risk buying it again because of the built quality alone.",
                      "offset": 0,
                      "length": 102
                    }
                  ],
                  "5": []
                },
                {
                  "0": "They made this case too small and is very difficult to install.",
                  "1": "negative",
                  "3": {
                    "positive": 0,
                    "neutral": 0,
                    "negative": 0.99
                  },
                  "4": [
                    {
                      "sentiment": "negative",
                      "confidenceScores": {
                        "positive": 0,
                        "neutral": 0,
                        "negative": 0.99
                      },
                      "text": "They made this case too small and is very difficult to install.",
                      "offset": 0,
                      "length": 63
                    }
                  ],
                  "5": []
                },
                {
                  "0": "Restored my phone to like new performance.",
                  "1": "positive",
                  "3": {
                    "positive": 0.98,
                    "neutral": 0.01,
                    "negative": 0.01
                  },
                  "4": [
                    {
                      "sentiment": "positive",
                      "confidenceScores": {
                        "positive": 0.98,
                        "neutral": 0.01,
                        "negative": 0.01
                      },
                      "text": "Restored my phone to like new performance.",
                      "offset": 0,
                      "length": 42
                    }
                  ],
                  "5": []
                },
                {
                  "0": "I would recommend purchasing the Jabra JX-10 series 2 which works flawlessly with my Moto Q, go figure.",
                  "1": "positive",
                  "3": {
                    "positive": 0.98,
                    "neutral": 0.01,
                    "negative": 0.01
                  },
                  "4": [
                    {
                      "sentiment": "positive",
                      "confidenceScores": {
                        "positive": 0.98,
                        "neutral": 0.01,
                        "negative": 0.01
                      },
                      "text": "I would recommend purchasing the Jabra JX-10 series 2 which works flawlessly with my Moto Q, go figure.",
                      "offset": 0,
                      "length": 103
                    }
                  ],
                  "5": []
                },
                {
                  "0": "I searched the Internet, and found this one to be the best value.",
                  "1": "positive",
                  "3": {
                    "positive": 0.99,
                    "neutral": 0,
                    "negative": 0.01
                  },
                  "4": [
                    {
                      "sentiment": "positive",
                      "confidenceScores": {
                        "positive": 0.99,
                        "neutral": 0,
                        "negative": 0.01
                      },
                      "text": "I searched the Internet, and found this one to be the best value.",
                      "offset": 0,
                      "length": 65
                    }
                  ],
                  "5": []
                },
                {
                  "0": "Does not fit.",
                  "1": "negative",
                  "3": {
                    "positive": 0,
                    "neutral": 0.01,
                    "negative": 0.98
                  },
                  "4": [
                    {
                      "sentiment": "negative",
                      "confidenceScores": {
                        "positive": 0,
                        "neutral": 0.01,
                        "negative": 0.98
                      },
                      "text": "Does not fit.",
                      "offset": 0,
                      "length": 13
                    }
                  ],
                  "5": []
                },
                {
                  "0": "Very happy with this product.",
                  "1": "positive",
                  "3": {
                    "positive": 1,
                    "neutral": 0,
                    "negative": 0
                  },
                  "4": [
                    {
                      "sentiment": "positive",
                      "confidenceScores": {
                        "positive": 1,
                        "neutral": 0,
                        "negative": 0
                      },
                      "text": "Very happy with this product.",
                      "offset": 0,
                      "length": 29
                    }
                  ],
                  "5": []
                },
                {
                  "0": "The screen size is big, key pad lit well enough, and the camera quality is excellent for a camera phone.",
                  "1": "positive",
                  "3": {
                    "positive": 0.99,
                    "neutral": 0,
                    "negative": 0
                  },
                  "4": [
                    {
                      "sentiment": "positive",
                      "confidenceScores": {
                        "positive": 0.99,
                        "neutral": 0,
                        "negative": 0
                      },
                      "text": "The screen size is big, key pad lit well enough, and the camera quality is excellent for a camera phone.",
                      "offset": 0,
                      "length": 104
                    }
                  ],
                  "5": []
                },
                {
                  "0": "There's really nothing bad I can say about this headset.",
                  "1": "negative",
                  "3": {
                    "positive": 0.03,
                    "neutral": 0.01,
                    "negative": 0.96
                  },
                  "4": [
                    {
                      "sentiment": "negative",
                      "confidenceScores": {
                        "positive": 0.03,
                        "neutral": 0.01,
                        "negative": 0.96
                      },
                      "text": "There's really nothing bad I can say about this headset.",
                      "offset": 0,
                      "length": 56
                    }
                  ],
                  "5": []
                },
                {
                  "0": "i'm glad i found this product on amazon it is hard to find, it wasn't high priced.",
                  "1": "positive",
                  "3": {
                    "positive": 0.84,
                    "neutral": 0.01,
                    "negative": 0.15
                  },
                  "4": [
                    {
                      "sentiment": "positive",
                      "confidenceScores": {
                        "positive": 0.84,
                        "neutral": 0.01,
                        "negative": 0.15
                      },
                      "text": "i'm glad i found this product on amazon it is hard to find, it wasn't high priced.",
                      "offset": 0,
                      "length": 82
                    }
                  ],
                  "5": []
                },
                {
                  "0": "Portable and it works.",
                  "1": "positive",
                  "3": {
                    "positive": 0.76,
                    "neutral": 0.23,
                    "negative": 0.01
                  },
                  "4": [
                    {
                      "sentiment": "positive",
                      "confidenceScores": {
                        "positive": 0.76,
                        "neutral": 0.23,
                        "negative": 0.01
                      },
                      "text": "Portable and it works.",
                      "offset": 0,
                      "length": 22
                    }
                  ],
                  "5": []
                },
                {
                  "0": "My colleague & I now get great reception.A little expensive, but performance is great.",
                  "1": "positive",
                  "3": {
                    "positive": 0.99,
                    "neutral": 0,
                    "negative": 0
                  },
                  "4": [
                    {
                      "sentiment": "positive",
                      "confidenceScores": {
                        "positive": 1,
                        "neutral": 0,
                        "negative": 0
                      },
                      "text": "My colleague & I now get great reception.",
                      "offset": 0,
                      "length": 41
                    },
                    {
                      "sentiment": "positive",
                      "confidenceScores": {
                        "positive": 0.99,
                        "neutral": 0,
                        "negative": 0
                      },
                      "text": "A little expensive, but performance is great.",
                      "offset": 41,
                      "length": 45
                    }
                  ],
                  "5": []
                },
                {
                  "0": "I even fully charged it before I went to bed and turned off blue tooth and wi-fi and noticed that it only had 20 % left in the morning.",
                  "1": "negative",
                  "3": {
                    "positive": 0.01,
                    "neutral": 0.11,
                    "negative": 0.88
                  },
                  "4": [
                    {
                      "sentiment": "negative",
                      "confidenceScores": {
                        "positive": 0.01,
                        "neutral": 0.11,
                        "negative": 0.88
                      },
                      "text": "I even fully charged it before I went to bed and turned off blue tooth and wi-fi and noticed that it only had 20 % left in the morning.",
                      "offset": 0,
                      "length": 135
                    }
                  ],
                  "5": []
                },
                {
                  "0": "I've also had problems with the phone reading the memory card in which I always turn it on and then off again.",
                  "1": "negative",
                  "3": {
                    "positive": 0,
                    "neutral": 0.01,
                    "negative": 0.99
                  },
                  "4": [
                    {
                      "sentiment": "negative",
                      "confidenceScores": {
                        "positive": 0,
                        "neutral": 0.01,
                        "negative": 0.99
                      },
                      "text": "I've also had problems with the phone reading the memory card in which I always turn it on and then off again.",
                      "offset": 0,
                      "length": 110
                    }
                  ],
                  "5": []
                },
                {
                  "0": "Not good when wearing a hat or sunglasses.",
                  "1": "negative",
                  "3": {
                    "positive": 0.01,
                    "neutral": 0,
                    "negative": 0.99
                  },
                  "4": [
                    {
                      "sentiment": "negative",
                      "confidenceScores": {
                        "positive": 0.01,
                        "neutral": 0,
                        "negative": 0.99
                      },
                      "text": "Not good when wearing a hat or sunglasses.",
                      "offset": 0,
                      "length": 42
                    }
                  ],
                  "5": []
                },
                {
                  "0": "Timely shipment and quality product.",
                  "1": "positive",
                  "3": {
                    "positive": 0.99,
                    "neutral": 0.01,
                    "negative": 0
                  },
                  "4": [
                    {
                      "sentiment": "positive",
                      "confidenceScores": {
                        "positive": 0.99,
                        "neutral": 0.01,
                        "negative": 0
                      },
                      "text": "Timely shipment and quality product.",
                      "offset": 0,
                      "length": 36
                    }
                  ],
                  "5": []
                },
                {
                  "0": "Nice solid keyboard.",
                  "1": "positive",
                  "3": {
                    "positive": 1,
                    "neutral": 0,
                    "negative": 0
                  },
                  "4": [
                    {
                      "sentiment": "positive",
                      "confidenceScores": {
                        "positive": 1,
                        "neutral": 0,
                        "negative": 0
                      },
                      "text": "Nice solid keyboard.",
                      "offset": 0,
                      "length": 20
                    }
                  ],
                  "5": []
                },
                {
                  "0": "Very well made and fits my Surefire GX2 perfectly.",
                  "1": "positive",
                  "3": {
                    "positive": 1,
                    "neutral": 0,
                    "negative": 0
                  },
                  "4": [
                    {
                      "sentiment": "positive",
                      "confidenceScores": {
                        "positive": 1,
                        "neutral": 0,
                        "negative": 0
                      },
                      "text": "Very well made and fits my Surefire GX2 perfectly.",
                      "offset": 0,
                      "length": 50
                    }
                  ],
                  "5": []
                },
                {
                  "0": "Horrible phone.",
                  "1": "negative",
                  "3": {
                    "positive": 0.01,
                    "neutral": 0,
                    "negative": 0.98
                  },
                  "4": [
                    {
                      "sentiment": "negative",
                      "confidenceScores": {
                        "positive": 0.01,
                        "neutral": 0,
                        "negative": 0.98
                      },
                      "text": "Horrible phone.",
                      "offset": 0,
                      "length": 15
                    }
                  ],
                  "5": []
                },
                {
                  "0": "BT50 battery junk!.",
                  "1": "negative",
                  "3": {
                    "positive": 0.01,
                    "neutral": 0.01,
                    "negative": 0.99
                  },
                  "4": [
                    {
                      "sentiment": "negative",
                      "confidenceScores": {
                        "positive": 0.01,
                        "neutral": 0.01,
                        "negative": 0.99
                      },
                      "text": "BT50 battery junk!.",
                      "offset": 0,
                      "length": 19
                    }
                  ],
                  "5": []
                },
                {
                  "0": "We would recommend these to others.",
                  "1": "positive",
                  "3": {
                    "positive": 0.96,
                    "neutral": 0.02,
                    "negative": 0.02
                  },
                  "4": [
                    {
                      "sentiment": "positive",
                      "confidenceScores": {
                        "positive": 0.96,
                        "neutral": 0.02,
                        "negative": 0.02
                      },
                      "text": "We would recommend these to others.",
                      "offset": 0,
                      "length": 35
                    }
                  ],
                  "5": []
                },
                {
                  "0": "Cant get the software to work with my computer.",
                  "1": "negative",
                  "3": {
                    "positive": 0.03,
                    "neutral": 0.19,
                    "negative": 0.78
                  },
                  "4": [
                    {
                      "sentiment": "negative",
                      "confidenceScores": {
                        "positive": 0.03,
                        "neutral": 0.19,
                        "negative": 0.78
                      },
                      "text": "Cant get the software to work with my computer.",
                      "offset": 0,
                      "length": 47
                    }
                  ],
                  "5": []
                },
                {
                  "0": "Disappointed!.",
                  "1": "negative",
                  "3": {
                    "positive": 0.01,
                    "neutral": 0,
                    "negative": 0.99
                  },
                  "4": [
                    {
                      "sentiment": "negative",
                      "confidenceScores": {
                        "positive": 0.01,
                        "neutral": 0,
                        "negative": 0.99
                      },
                      "text": "Disappointed!.",
                      "offset": 0,
                      "length": 14
                    }
                  ],
                  "5": []
                },
                {
                  "0": "poor voice clarity.",
                  "1": "negative",
                  "3": {
                    "positive": 0,
                    "neutral": 0,
                    "negative": 0.99
                  },
                  "4": [
                    {
                      "sentiment": "negative",
                      "confidenceScores": {
                        "positive": 0,
                        "neutral": 0,
                        "negative": 0.99
                      },
                      "text": "poor voice clarity.",
                      "offset": 0,
                      "length": 19
                    }
                  ],
                  "5": []
                },
                {
                  "0": "The battery works great!",
                  "1": "positive",
                  "3": {
                    "positive": 1,
                    "neutral": 0,
                    "negative": 0
                  },
                  "4": [
                    {
                      "sentiment": "positive",
                      "confidenceScores": {
                        "positive": 1,
                        "neutral": 0,
                        "negative": 0
                      },
                      "text": "The battery works great!",
                      "offset": 0,
                      "length": 24
                    }
                  ],
                  "5": []
                },
                {
                  "0": "No buyers remorse on this one!.",
                  "1": "negative",
                  "3": {
                    "positive": 0.38,
                    "neutral": 0.11,
                    "negative": 0.5
                  },
                  "4": [
                    {
                      "sentiment": "negative",
                      "confidenceScores": {
                        "positive": 0.38,
                        "neutral": 0.11,
                        "negative": 0.5
                      },
                      "text": "No buyers remorse on this one!.",
                      "offset": 0,
                      "length": 31
                    }
                  ],
                  "5": []
                },
                {
                  "0": "Very disappointed in AccessoryOne.",
                  "1": "negative",
                  "3": {
                    "positive": 0.01,
                    "neutral": 0,
                    "negative": 0.99
                  },
                  "4": [
                    {
                      "sentiment": "negative",
                      "confidenceScores": {
                        "positive": 0.01,
                        "neutral": 0,
                        "negative": 0.99
                      },
                      "text": "Very disappointed in AccessoryOne.",
                      "offset": 0,
                      "length": 34
                    }
                  ],
                  "5": []
                },
                {
                  "0": "I find this inexcusable and so will probably be returning this phone and perhaps changing carriers.",
                  "1": "negative",
                  "3": {
                    "positive": 0,
                    "neutral": 0.01,
                    "negative": 0.99
                  },
                  "4": [
                    {
                      "sentiment": "negative",
                      "confidenceScores": {
                        "positive": 0,
                        "neutral": 0.01,
                        "negative": 0.99
                      },
                      "text": "I find this inexcusable and so will probably be returning this phone and perhaps changing carriers.",
                      "offset": 0,
                      "length": 99
                    }
                  ],
                  "5": []
                },
                {
                  "0": "\"Looks great and is strong.\"\"\"",
                  "1": "positive",
                  "3": {
                    "positive": 1,
                    "neutral": 0,
                    "negative": 0
                  },
                  "4": [
                    {
                      "sentiment": "positive",
                      "confidenceScores": {
                        "positive": 1,
                        "neutral": 0,
                        "negative": 0
                      },
                      "text": "\"Looks great and is strong.\"\"\"",
                      "offset": 0,
                      "length": 30
                    }
                  ],
                  "5": []
                },
                {
                  "0": "I have had TMobile service for 2 or 3 years now, and I am pretty happy with it.",
                  "1": "positive",
                  "3": {
                    "positive": 0.98,
                    "neutral": 0.02,
                    "negative": 0.01
                  },
                  "4": [
                    {
                      "sentiment": "positive",
                      "confidenceScores": {
                        "positive": 0.98,
                        "neutral": 0.02,
                        "negative": 0.01
                      },
                      "text": "I have had TMobile service for 2 or 3 years now, and I am pretty happy with it.",
                      "offset": 0,
                      "length": 79
                    }
                  ],
                  "5": []
                },
                {
                  "0": "The update procedure is difficult and cumbersome.",
                  "1": "negative",
                  "3": {
                    "positive": 0.01,
                    "neutral": 0.01,
                    "negative": 0.98
                  },
                  "4": [
                    {
                      "sentiment": "negative",
                      "confidenceScores": {
                        "positive": 0.01,
                        "neutral": 0.01,
                        "negative": 0.98
                      },
                      "text": "The update procedure is difficult and cumbersome.",
                      "offset": 0,
                      "length": 49
                    }
                  ],
                  "5": []
                },
                {
                  "0": "Disappointment.. I hate anything that goes in my ear.",
                  "1": "negative",
                  "3": {
                    "positive": 0.01,
                    "neutral": 0.01,
                    "negative": 0.99
                  },
                  "4": [
                    {
                      "sentiment": "negative",
                      "confidenceScores": {
                        "positive": 0.01,
                        "neutral": 0,
                        "negative": 0.99
                      },
                      "text": "Disappointment.. ",
                      "offset": 0,
                      "length": 17
                    },
                    {
                      "sentiment": "negative",
                      "confidenceScores": {
                        "positive": 0.01,
                        "neutral": 0.01,
                        "negative": 0.98
                      },
                      "text": "I hate anything that goes in my ear.",
                      "offset": 17,
                      "length": 36
                    }
                  ],
                  "5": []
                },
                {
                  "0": "Great software for Motorolas.",
                  "1": "positive",
                  "3": {
                    "positive": 1,
                    "neutral": 0,
                    "negative": 0
                  },
                  "4": [
                    {
                      "sentiment": "positive",
                      "confidenceScores": {
                        "positive": 1,
                        "neutral": 0,
                        "negative": 0
                      },
                      "text": "Great software for Motorolas.",
                      "offset": 0,
                      "length": 29
                    }
                  ],
                  "5": []
                },
                {
                  "0": "The delivery was on time.",
                  "1": "positive",
                  "3": {
                    "positive": 0.86,
                    "neutral": 0.07,
                    "negative": 0.07
                  },
                  "4": [
                    {
                      "sentiment": "positive",
                      "confidenceScores": {
                        "positive": 0.86,
                        "neutral": 0.07,
                        "negative": 0.07
                      },
                      "text": "The delivery was on time.",
                      "offset": 0,
                      "length": 25
                    }
                  ],
                  "5": []
                },
                {
                  "0": "Very easy to use.",
                  "1": "positive",
                  "3": {
                    "positive": 0.99,
                    "neutral": 0.01,
                    "negative": 0
                  },
                  "4": [
                    {
                      "sentiment": "positive",
                      "confidenceScores": {
                        "positive": 0.99,
                        "neutral": 0.01,
                        "negative": 0
                      },
                      "text": "Very easy to use.",
                      "offset": 0,
                      "length": 17
                    }
                  ],
                  "5": []
                },
                {
                  "0": "Uncomfortable In the Ear, Don't use with LG VX9900 (EnV).",
                  "1": "negative",
                  "3": {
                    "positive": 0,
                    "neutral": 0,
                    "negative": 0.99
                  },
                  "4": [
                    {
                      "sentiment": "negative",
                      "confidenceScores": {
                        "positive": 0,
                        "neutral": 0,
                        "negative": 0.99
                      },
                      "text": "Uncomfortable In the Ear, Don't use with LG VX9900 (EnV).",
                      "offset": 0,
                      "length": 57
                    }
                  ],
                  "5": []
                },
                {
                  "0": "The volume switch rocketed out of the unit to a destination unknown.",
                  "1": "negative",
                  "3": {
                    "positive": 0,
                    "neutral": 0.05,
                    "negative": 0.95
                  },
                  "4": [
                    {
                      "sentiment": "negative",
                      "confidenceScores": {
                        "positive": 0,
                        "neutral": 0.05,
                        "negative": 0.95
                      },
                      "text": "The volume switch rocketed out of the unit to a destination unknown.",
                      "offset": 0,
                      "length": 68
                    }
                  ],
                  "5": []
                },
                {
                  "0": "It holds a charge for a long time, is reasonably comfortable under long-wearing conditions and the quality of sound is tremendous.",
                  "1": "positive",
                  "3": {
                    "positive": 0.99,
                    "neutral": 0.01,
                    "negative": 0
                  },
                  "4": [
                    {
                      "sentiment": "positive",
                      "confidenceScores": {
                        "positive": 0.99,
                        "neutral": 0.01,
                        "negative": 0
                      },
                      "text": "It holds a charge for a long time, is reasonably comfortable under long-wearing conditions and the quality of sound is tremendous.",
                      "offset": 0,
                      "length": 130
                    }
                  ],
                  "5": []
                },
                {
                  "0": "I'd like to return it.",
                  "1": "neutral",
                  "3": {
                    "positive": 0.2,
                    "neutral": 0.77,
                    "negative": 0.03
                  },
                  "4": [
                    {
                      "sentiment": "neutral",
                      "confidenceScores": {
                        "positive": 0.2,
                        "neutral": 0.77,
                        "negative": 0.03
                      },
                      "text": "I'd like to return it.",
                      "offset": 0,
                      "length": 22
                    }
                  ],
                  "5": []
                },
                {
                  "0": "The keyboard is really worthwhile in usefulness and is sturdy enough I don't expect any problems.",
                  "1": "positive",
                  "3": {
                    "positive": 0.99,
                    "neutral": 0,
                    "negative": 0.01
                  },
                  "4": [
                    {
                      "sentiment": "positive",
                      "confidenceScores": {
                        "positive": 0.99,
                        "neutral": 0,
                        "negative": 0.01
                      },
                      "text": "The keyboard is really worthwhile in usefulness and is sturdy enough I don't expect any problems.",
                      "offset": 0,
                      "length": 97
                    }
                  ],
                  "5": []
                },
                {
                  "0": "Verizon's bills, however, are difficult to understand even though their pricing plans are simple.",
                  "1": "negative",
                  "3": {
                    "positive": 0.01,
                    "neutral": 0.07,
                    "negative": 0.92
                  },
                  "4": [
                    {
                      "sentiment": "negative",
                      "confidenceScores": {
                        "positive": 0.01,
                        "neutral": 0.07,
                        "negative": 0.92
                      },
                      "text": "Verizon's bills, however, are difficult to understand even though their pricing plans are simple.",
                      "offset": 0,
                      "length": 97
                    }
                  ],
                  "5": []
                },
                {
                  "0": "After charging overnight, these batteries work great.",
                  "1": "positive",
                  "3": {
                    "positive": 1,
                    "neutral": 0,
                    "negative": 0
                  },
                  "4": [
                    {
                      "sentiment": "positive",
                      "confidenceScores": {
                        "positive": 1,
                        "neutral": 0,
                        "negative": 0
                      },
                      "text": "After charging overnight, these batteries work great.",
                      "offset": 0,
                      "length": 53
                    }
                  ],
                  "5": []
                },
                {
                  "0": "You won't regret it!",
                  "1": "negative",
                  "3": {
                    "positive": 0.39,
                    "neutral": 0.21,
                    "negative": 0.4
                  },
                  "4": [
                    {
                      "sentiment": "negative",
                      "confidenceScores": {
                        "positive": 0.39,
                        "neutral": 0.21,
                        "negative": 0.4
                      },
                      "text": "You won't regret it!",
                      "offset": 0,
                      "length": 20
                    }
                  ],
                  "5": []
                },
                {
                  "0": "I love this phone!.",
                  "1": "positive",
                  "3": {
                    "positive": 1,
                    "neutral": 0,
                    "negative": 0
                  },
                  "4": [
                    {
                      "sentiment": "positive",
                      "confidenceScores": {
                        "positive": 1,
                        "neutral": 0,
                        "negative": 0
                      },
                      "text": "I love this phone!.",
                      "offset": 0,
                      "length": 19
                    }
                  ],
                  "5": []
                },
                {
                  "0": "A Disappointment.",
                  "1": "negative",
                  "3": {
                    "positive": 0.01,
                    "neutral": 0,
                    "negative": 0.99
                  },
                  "4": [
                    {
                      "sentiment": "negative",
                      "confidenceScores": {
                        "positive": 0.01,
                        "neutral": 0,
                        "negative": 0.99
                      },
                      "text": "A Disappointment.",
                      "offset": 0,
                      "length": 17
                    }
                  ],
                  "5": []
                },
                {
                  "0": "Its not user friendly.",
                  "1": "negative",
                  "3": {
                    "positive": 0,
                    "neutral": 0,
                    "negative": 0.99
                  },
                  "4": [
                    {
                      "sentiment": "negative",
                      "confidenceScores": {
                        "positive": 0,
                        "neutral": 0,
                        "negative": 0.99
                      },
                      "text": "Its not user friendly.",
                      "offset": 0,
                      "length": 22
                    }
                  ],
                  "5": []
                },
                {
                  "0": "Unfortunately the ability to actually know you are receiving a call is a rather important feature and this phone is pitiful in that respect.",
                  "1": "negative",
                  "3": {
                    "positive": 0,
                    "neutral": 0,
                    "negative": 1
                  },
                  "4": [
                    {
                      "sentiment": "negative",
                      "confidenceScores": {
                        "positive": 0,
                        "neutral": 0,
                        "negative": 1
                      },
                      "text": "Unfortunately the ability to actually know you are receiving a call is a rather important feature and this phone is pitiful in that respect.",
                      "offset": 0,
                      "length": 140
                    }
                  ],
                  "5": []
                },
                {
                  "0": "Then I exchanged for the same phone, even that had the same problem.",
                  "1": "negative",
                  "3": {
                    "positive": 0,
                    "neutral": 0.01,
                    "negative": 0.98
                  },
                  "4": [
                    {
                      "sentiment": "negative",
                      "confidenceScores": {
                        "positive": 0,
                        "neutral": 0.01,
                        "negative": 0.98
                      },
                      "text": "Then I exchanged for the same phone, even that had the same problem.",
                      "offset": 0,
                      "length": 68
                    }
                  ],
                  "5": []
                },
                {
                  "0": "This results in the phone being either stuck at max volume or mute.",
                  "1": "negative",
                  "3": {
                    "positive": 0,
                    "neutral": 0.03,
                    "negative": 0.96
                  },
                  "4": [
                    {
                      "sentiment": "negative",
                      "confidenceScores": {
                        "positive": 0,
                        "neutral": 0.03,
                        "negative": 0.96
                      },
                      "text": "This results in the phone being either stuck at max volume or mute.",
                      "offset": 0,
                      "length": 67
                    }
                  ],
                  "5": []
                },
                {
                  "0": "This PDA rocks.",
                  "1": "negative",
                  "3": {
                    "positive": 0.02,
                    "neutral": 0.24,
                    "negative": 0.74
                  },
                  "4": [
                    {
                      "sentiment": "negative",
                      "confidenceScores": {
                        "positive": 0.02,
                        "neutral": 0.24,
                        "negative": 0.74
                      },
                      "text": "This PDA rocks.",
                      "offset": 0,
                      "length": 15
                    }
                  ],
                  "5": []
                },
                {
                  "0": "It is super charged up for use as a small hybrid palmtop/camera/cellphone, and excels in those roles.",
                  "1": "positive",
                  "3": {
                    "positive": 0.99,
                    "neutral": 0.01,
                    "negative": 0
                  },
                  "4": [
                    {
                      "sentiment": "positive",
                      "confidenceScores": {
                        "positive": 0.99,
                        "neutral": 0.01,
                        "negative": 0
                      },
                      "text": "It is super charged up for use as a small hybrid palmtop/camera/cellphone, and excels in those roles.",
                      "offset": 0,
                      "length": 101
                    }
                  ],
                  "5": []
                },
                {
                  "0": "I would definitely recommend the Jabra BT250v for those who are looking for comfort, clarity and a great price!",
                  "1": "positive",
                  "3": {
                    "positive": 1,
                    "neutral": 0,
                    "negative": 0
                  },
                  "4": [
                    {
                      "sentiment": "positive",
                      "confidenceScores": {
                        "positive": 1,
                        "neutral": 0,
                        "negative": 0
                      },
                      "text": "I would definitely recommend the Jabra BT250v for those who are looking for comfort, clarity and a great price!",
                      "offset": 0,
                      "length": 111
                    }
                  ],
                  "5": []
                },
                {
                  "0": "I had Verizon 2 years ago and really liked their service.",
                  "1": "positive",
                  "3": {
                    "positive": 0.99,
                    "neutral": 0.01,
                    "negative": 0
                  },
                  "4": [
                    {
                      "sentiment": "positive",
                      "confidenceScores": {
                        "positive": 0.99,
                        "neutral": 0.01,
                        "negative": 0
                      },
                      "text": "I had Verizon 2 years ago and really liked their service.",
                      "offset": 0,
                      "length": 57
                    }
                  ],
                  "5": []
                },
                {
                  "0": "Pretty piece of junk.",
                  "1": "negative",
                  "3": {
                    "positive": 0.01,
                    "neutral": 0.01,
                    "negative": 0.98
                  },
                  "4": [
                    {
                      "sentiment": "negative",
                      "confidenceScores": {
                        "positive": 0.01,
                        "neutral": 0.01,
                        "negative": 0.98
                      },
                      "text": "Pretty piece of junk.",
                      "offset": 0,
                      "length": 21
                    }
                  ],
                  "5": []
                },
                {
                  "0": "Plug was the wrong size.",
                  "1": "negative",
                  "3": {
                    "positive": 0,
                    "neutral": 0,
                    "negative": 0.99
                  },
                  "4": [
                    {
                      "sentiment": "negative",
                      "confidenceScores": {
                        "positive": 0,
                        "neutral": 0,
                        "negative": 0.99
                      },
                      "text": "Plug was the wrong size.",
                      "offset": 0,
                      "length": 24
                    }
                  ],
                  "5": []
                },
                {
                  "0": "Works as described.",
                  "1": "positive",
                  "3": {
                    "positive": 0.98,
                    "neutral": 0.01,
                    "negative": 0.01
                  },
                  "4": [
                    {
                      "sentiment": "positive",
                      "confidenceScores": {
                        "positive": 0.98,
                        "neutral": 0.01,
                        "negative": 0.01
                      },
                      "text": "Works as described.",
                      "offset": 0,
                      "length": 19
                    }
                  ],
                  "5": []
                },
                {
                  "0": "Save your money.... I've had this item for 11 months now.",
                  "1": "positive",
                  "3": {
                    "positive": 0.47,
                    "neutral": 0.44,
                    "negative": 0.08
                  },
                  "4": [
                    {
                      "sentiment": "positive",
                      "confidenceScores": {
                        "positive": 0.47,
                        "neutral": 0.44,
                        "negative": 0.08
                      },
                      "text": "Save your money.... ",
                      "offset": 0,
                      "length": 20
                    },
                    {
                      "sentiment": "neutral",
                      "confidenceScores": {
                        "positive": 0.01,
                        "neutral": 0.98,
                        "negative": 0.01
                      },
                      "text": "I've had this item for 11 months now.",
                      "offset": 20,
                      "length": 37
                    }
                  ],
                  "5": []
                },
                {
                  "0": "Bad Purchase.",
                  "1": "negative",
                  "3": {
                    "positive": 0.01,
                    "neutral": 0,
                    "negative": 0.99
                  },
                  "4": [
                    {
                      "sentiment": "negative",
                      "confidenceScores": {
                        "positive": 0.01,
                        "neutral": 0,
                        "negative": 0.99
                      },
                      "text": "Bad Purchase.",
                      "offset": 0,
                      "length": 13
                    }
                  ],
                  "5": []
                },
                {
                  "0": "WELL IM SATISFIED.",
                  "1": "positive",
                  "3": {
                    "positive": 0.99,
                    "neutral": 0,
                    "negative": 0
                  },
                  "4": [
                    {
                      "sentiment": "positive",
                      "confidenceScores": {
                        "positive": 0.99,
                        "neutral": 0,
                        "negative": 0
                      },
                      "text": "WELL IM SATISFIED.",
                      "offset": 0,
                      "length": 18
                    }
                  ],
                  "5": []
                },
                {
                  "0": "The bose noise cancelling is amazing, which is very important for a NYC commuter.",
                  "1": "positive",
                  "3": {
                    "positive": 0.99,
                    "neutral": 0.01,
                    "negative": 0.01
                  },
                  "4": [
                    {
                      "sentiment": "positive",
                      "confidenceScores": {
                        "positive": 0.99,
                        "neutral": 0.01,
                        "negative": 0.01
                      },
                      "text": "The bose noise cancelling is amazing, which is very important for a NYC commuter.",
                      "offset": 0,
                      "length": 81
                    }
                  ],
                  "5": []
                },
                {
                  "0": "This battery is an excellent bargain!",
                  "1": "positive",
                  "3": {
                    "positive": 1,
                    "neutral": 0,
                    "negative": 0
                  },
                  "4": [
                    {
                      "sentiment": "positive",
                      "confidenceScores": {
                        "positive": 1,
                        "neutral": 0,
                        "negative": 0
                      },
                      "text": "This battery is an excellent bargain!",
                      "offset": 0,
                      "length": 37
                    }
                  ],
                  "5": []
                },
                {
                  "0": "Defective crap.",
                  "1": "negative",
                  "3": {
                    "positive": 0.01,
                    "neutral": 0,
                    "negative": 0.99
                  },
                  "4": [
                    {
                      "sentiment": "negative",
                      "confidenceScores": {
                        "positive": 0.01,
                        "neutral": 0,
                        "negative": 0.99
                      },
                      "text": "Defective crap.",
                      "offset": 0,
                      "length": 15
                    }
                  ],
                  "5": []
                },
                {
                  "0": "I would have given no star if I was able.",
                  "1": "negative",
                  "3": {
                    "positive": 0.02,
                    "neutral": 0.27,
                    "negative": 0.72
                  },
                  "4": [
                    {
                      "sentiment": "negative",
                      "confidenceScores": {
                        "positive": 0.02,
                        "neutral": 0.27,
                        "negative": 0.72
                      },
                      "text": "I would have given no star if I was able.",
                      "offset": 0,
                      "length": 41
                    }
                  ],
                  "5": []
                },
                {
                  "0": "I wear glasses and it fits fine with them.",
                  "1": "positive",
                  "3": {
                    "positive": 0.8,
                    "neutral": 0.19,
                    "negative": 0.01
                  },
                  "4": [
                    {
                      "sentiment": "positive",
                      "confidenceScores": {
                        "positive": 0.8,
                        "neutral": 0.19,
                        "negative": 0.01
                      },
                      "text": "I wear glasses and it fits fine with them.",
                      "offset": 0,
                      "length": 42
                    }
                  ],
                  "5": []
                },
                {
                  "0": "The sound quality for the device is unacceptable.Unless you are in a really quiet area, you almost hear nothing.",
                  "1": "negative",
                  "3": {
                    "positive": 0,
                    "neutral": 0.24,
                    "negative": 0.76
                  },
                  "4": [
                    {
                      "sentiment": "negative",
                      "confidenceScores": {
                        "positive": 0,
                        "neutral": 0,
                        "negative": 0.99
                      },
                      "text": "The sound quality for the device is unacceptable.",
                      "offset": 0,
                      "length": 49
                    },
                    {
                      "sentiment": "negative",
                      "confidenceScores": {
                        "positive": 0.01,
                        "neutral": 0.47,
                        "negative": 0.52
                      },
                      "text": "Unless you are in a really quiet area, you almost hear nothing.",
                      "offset": 49,
                      "length": 63
                    }
                  ],
                  "5": []
                },
                {
                  "0": "I would not recommend this item to anyone.",
                  "1": "negative",
                  "3": {
                    "positive": 0.01,
                    "neutral": 0.01,
                    "negative": 0.99
                  },
                  "4": [
                    {
                      "sentiment": "negative",
                      "confidenceScores": {
                        "positive": 0.01,
                        "neutral": 0.01,
                        "negative": 0.99
                      },
                      "text": "I would not recommend this item to anyone.",
                      "offset": 0,
                      "length": 42
                    }
                  ],
                  "5": []
                },
                {
                  "0": "The holster that arrived did not match the photo in the ad.",
                  "1": "negative",
                  "3": {
                    "positive": 0,
                    "neutral": 0.01,
                    "negative": 0.99
                  },
                  "4": [
                    {
                      "sentiment": "negative",
                      "confidenceScores": {
                        "positive": 0,
                        "neutral": 0.01,
                        "negative": 0.99
                      },
                      "text": "The holster that arrived did not match the photo in the ad.",
                      "offset": 0,
                      "length": 59
                    }
                  ],
                  "5": []
                },
                {
                  "0": "great...no problems at all!.",
                  "1": "positive",
                  "3": {
                    "positive": 0.96,
                    "neutral": 0.02,
                    "negative": 0.02
                  },
                  "4": [
                    {
                      "sentiment": "positive",
                      "confidenceScores": {
                        "positive": 0.99,
                        "neutral": 0,
                        "negative": 0
                      },
                      "text": "great...",
                      "offset": 0,
                      "length": 8
                    },
                    {
                      "sentiment": "positive",
                      "confidenceScores": {
                        "positive": 0.92,
                        "neutral": 0.04,
                        "negative": 0.04
                      },
                      "text": "no problems at all!.",
                      "offset": 8,
                      "length": 20
                    }
                  ],
                  "5": []
                },
                {
                  "0": "As an earlier review noted, plug in this charger and nothing happens.",
                  "1": "neutral",
                  "3": {
                    "positive": 0.03,
                    "neutral": 0.72,
                    "negative": 0.25
                  },
                  "4": [
                    {
                      "sentiment": "neutral",
                      "confidenceScores": {
                        "positive": 0.03,
                        "neutral": 0.72,
                        "negative": 0.25
                      },
                      "text": "As an earlier review noted, plug in this charger and nothing happens.",
                      "offset": 0,
                      "length": 69
                    }
                  ],
                  "5": []
                },
                {
                  "0": "This frog phone charm is adorable and very eye catching.",
                  "1": "positive",
                  "3": {
                    "positive": 1,
                    "neutral": 0,
                    "negative": 0
                  },
                  "4": [
                    {
                      "sentiment": "positive",
                      "confidenceScores": {
                        "positive": 1,
                        "neutral": 0,
                        "negative": 0
                      },
                      "text": "This frog phone charm is adorable and very eye catching.",
                      "offset": 0,
                      "length": 56
                    }
                  ],
                  "5": []
                },
                {
                  "0": "You never know if you pushed it hard enough or the right number of times for the function you want or not.",
                  "1": "neutral",
                  "3": {
                    "positive": 0.14,
                    "neutral": 0.47,
                    "negative": 0.4
                  },
                  "4": [
                    {
                      "sentiment": "neutral",
                      "confidenceScores": {
                        "positive": 0.14,
                        "neutral": 0.47,
                        "negative": 0.4
                      },
                      "text": "You never know if you pushed it hard enough or the right number of times for the function you want or not.",
                      "offset": 0,
                      "length": 106
                    }
                  ],
                  "5": []
                },
                {
                  "0": "The sound is clear and the people I talk to on it are amazed at the quality too.",
                  "1": "positive",
                  "3": {
                    "positive": 0.96,
                    "neutral": 0.02,
                    "negative": 0.02
                  },
                  "4": [
                    {
                      "sentiment": "positive",
                      "confidenceScores": {
                        "positive": 0.96,
                        "neutral": 0.02,
                        "negative": 0.02
                      },
                      "text": "The sound is clear and the people I talk to on it are amazed at the quality too.",
                      "offset": 0,
                      "length": 80
                    }
                  ],
                  "5": []
                },
                {
                  "0": "I got the aluminum case for my new Palm VX and it worked really well--it has protected my handheld perfectly so far.",
                  "1": "positive",
                  "3": {
                    "positive": 0.99,
                    "neutral": 0,
                    "negative": 0
                  },
                  "4": [
                    {
                      "sentiment": "positive",
                      "confidenceScores": {
                        "positive": 0.99,
                        "neutral": 0,
                        "negative": 0
                      },
                      "text": "I got the aluminum case for my new Palm VX and it worked really well--it has protected my handheld perfectly so far.",
                      "offset": 0,
                      "length": 116
                    }
                  ],
                  "5": []
                },
                {
                  "0": "very good product, well made.",
                  "1": "positive",
                  "3": {
                    "positive": 1,
                    "neutral": 0,
                    "negative": 0
                  },
                  "4": [
                    {
                      "sentiment": "positive",
                      "confidenceScores": {
                        "positive": 1,
                        "neutral": 0,
                        "negative": 0
                      },
                      "text": "very good product, well made.",
                      "offset": 0,
                      "length": 29
                    }
                  ],
                  "5": []
                },
                {
                  "0": "Mobile Phone Tools are a must have.",
                  "1": "positive",
                  "3": {
                    "positive": 0.83,
                    "neutral": 0.16,
                    "negative": 0.01
                  },
                  "4": [
                    {
                      "sentiment": "positive",
                      "confidenceScores": {
                        "positive": 0.83,
                        "neutral": 0.16,
                        "negative": 0.01
                      },
                      "text": "Mobile Phone Tools are a must have.",
                      "offset": 0,
                      "length": 35
                    }
                  ],
                  "5": []
                },
                {
                  "0": "I am very impressed with the job that Motorola did on the sturdiness of this phone.",
                  "1": "positive",
                  "3": {
                    "positive": 0.98,
                    "neutral": 0.01,
                    "negative": 0.01
                  },
                  "4": [
                    {
                      "sentiment": "positive",
                      "confidenceScores": {
                        "positive": 0.98,
                        "neutral": 0.01,
                        "negative": 0.01
                      },
                      "text": "I am very impressed with the job that Motorola did on the sturdiness of this phone.",
                      "offset": 0,
                      "length": 83
                    }
                  ],
                  "5": []
                },
                {
                  "0": "I received my orders well within the shipping timeframe, everything was in good working order and overall, I am very excited to have this source.",
                  "1": "positive",
                  "3": {
                    "positive": 1,
                    "neutral": 0,
                    "negative": 0
                  },
                  "4": [
                    {
                      "sentiment": "positive",
                      "confidenceScores": {
                        "positive": 1,
                        "neutral": 0,
                        "negative": 0
                      },
                      "text": "I received my orders well within the shipping timeframe, everything was in good working order and overall, I am very excited to have this source.",
                      "offset": 0,
                      "length": 145
                    }
                  ],
                  "5": []
                },
                {
                  "0": "The phone is sturdy and waterproof.",
                  "1": "neutral",
                  "3": {
                    "positive": 0.38,
                    "neutral": 0.6,
                    "negative": 0.02
                  },
                  "4": [
                    {
                      "sentiment": "neutral",
                      "confidenceScores": {
                        "positive": 0.38,
                        "neutral": 0.6,
                        "negative": 0.02
                      },
                      "text": "The phone is sturdy and waterproof.",
                      "offset": 0,
                      "length": 35
                    }
                  ],
                  "5": []
                },
                {
                  "0": "I am not impressed with this and i would not recommend this item to anyone.",
                  "1": "negative",
                  "3": {
                    "positive": 0.01,
                    "neutral": 0.01,
                    "negative": 0.99
                  },
                  "4": [
                    {
                      "sentiment": "negative",
                      "confidenceScores": {
                        "positive": 0.01,
                        "neutral": 0.01,
                        "negative": 0.99
                      },
                      "text": "I am not impressed with this and i would not recommend this item to anyone.",
                      "offset": 0,
                      "length": 75
                    }
                  ],
                  "5": []
                },
                {
                  "0": "My only complaint is the standard sound volume is a little low even when turned up to 5(of 5)",
                  "1": "negative",
                  "3": {
                    "positive": 0.01,
                    "neutral": 0.01,
                    "negative": 0.98
                  },
                  "4": [
                    {
                      "sentiment": "negative",
                      "confidenceScores": {
                        "positive": 0.01,
                        "neutral": 0.01,
                        "negative": 0.98
                      },
                      "text": "My only complaint is the standard sound volume is a little low even when turned up to 5(of 5)",
                      "offset": 0,
                      "length": 93
                    }
                  ],
                  "5": []
                },
                {
                  "0": "Thanks again to Amazon for having the things I need for a good price!",
                  "1": "positive",
                  "3": {
                    "positive": 1,
                    "neutral": 0,
                    "negative": 0
                  },
                  "4": [
                    {
                      "sentiment": "positive",
                      "confidenceScores": {
                        "positive": 1,
                        "neutral": 0,
                        "negative": 0
                      },
                      "text": "Thanks again to Amazon for having the things I need for a good price!",
                      "offset": 0,
                      "length": 69
                    }
                  ],
                  "5": []
                },
                {
                  "0": "I ended up sliding it on the edge of my pants or back pockets instead.",
                  "1": "neutral",
                  "3": {
                    "positive": 0.01,
                    "neutral": 0.76,
                    "negative": 0.23
                  },
                  "4": [
                    {
                      "sentiment": "neutral",
                      "confidenceScores": {
                        "positive": 0.01,
                        "neutral": 0.76,
                        "negative": 0.23
                      },
                      "text": "I ended up sliding it on the edge of my pants or back pockets instead.",
                      "offset": 0,
                      "length": 70
                    }
                  ],
                  "5": []
                },
                {
                  "0": "I had to go to a store and bought a new NOKIA phone which is working great.",
                  "1": "positive",
                  "3": {
                    "positive": 0.99,
                    "neutral": 0,
                    "negative": 0
                  },
                  "4": [
                    {
                      "sentiment": "positive",
                      "confidenceScores": {
                        "positive": 0.99,
                        "neutral": 0,
                        "negative": 0
                      },
                      "text": "I had to go to a store and bought a new NOKIA phone which is working great.",
                      "offset": 0,
                      "length": 75
                    }
                  ],
                  "5": []
                },
                {
                  "0": "Works great!.",
                  "1": "positive",
                  "3": {
                    "positive": 1,
                    "neutral": 0,
                    "negative": 0
                  },
                  "4": [
                    {
                      "sentiment": "positive",
                      "confidenceScores": {
                        "positive": 1,
                        "neutral": 0,
                        "negative": 0
                      },
                      "text": "Works great!.",
                      "offset": 0,
                      "length": 13
                    }
                  ],
                  "5": []
                },
                {
                  "0": "REALLY UGLY.",
                  "1": "negative",
                  "3": {
                    "positive": 0.01,
                    "neutral": 0,
                    "negative": 0.99
                  },
                  "4": [
                    {
                      "sentiment": "negative",
                      "confidenceScores": {
                        "positive": 0.01,
                        "neutral": 0,
                        "negative": 0.99
                      },
                      "text": "REALLY UGLY.",
                      "offset": 0,
                      "length": 12
                    }
                  ],
                  "5": []
                },
                {
                  "0": "horrible, had to switch 3 times.",
                  "1": "negative",
                  "3": {
                    "positive": 0.01,
                    "neutral": 0,
                    "negative": 0.99
                  },
                  "4": [
                    {
                      "sentiment": "negative",
                      "confidenceScores": {
                        "positive": 0.01,
                        "neutral": 0,
                        "negative": 0.99
                      },
                      "text": "horrible, had to switch 3 times.",
                      "offset": 0,
                      "length": 32
                    }
                  ],
                  "5": []
                },
                {
                  "0": "The noise shield is incrediable.",
                  "1": "positive",
                  "3": {
                    "positive": 0.95,
                    "neutral": 0.03,
                    "negative": 0.03
                  },
                  "4": [
                    {
                      "sentiment": "positive",
                      "confidenceScores": {
                        "positive": 0.95,
                        "neutral": 0.03,
                        "negative": 0.03
                      },
                      "text": "The noise shield is incrediable.",
                      "offset": 0,
                      "length": 32
                    }
                  ],
                  "5": []
                },
                {
                  "0": "No real improvement.",
                  "1": "negative",
                  "3": {
                    "positive": 0.01,
                    "neutral": 0.05,
                    "negative": 0.94
                  },
                  "4": [
                    {
                      "sentiment": "negative",
                      "confidenceScores": {
                        "positive": 0.01,
                        "neutral": 0.05,
                        "negative": 0.94
                      },
                      "text": "No real improvement.",
                      "offset": 0,
                      "length": 20
                    }
                  ],
                  "5": []
                },
                {
                  "0": "Razr Battery - Good buy.",
                  "1": "positive",
                  "3": {
                    "positive": 1,
                    "neutral": 0,
                    "negative": 0
                  },
                  "4": [
                    {
                      "sentiment": "positive",
                      "confidenceScores": {
                        "positive": 1,
                        "neutral": 0,
                        "negative": 0
                      },
                      "text": "Razr Battery - Good buy.",
                      "offset": 0,
                      "length": 24
                    }
                  ],
                  "5": []
                },
                {
                  "0": "Keep up the good work Amazon!!",
                  "1": "positive",
                  "3": {
                    "positive": 0.99,
                    "neutral": 0,
                    "negative": 0
                  },
                  "4": [
                    {
                      "sentiment": "positive",
                      "confidenceScores": {
                        "positive": 0.99,
                        "neutral": 0,
                        "negative": 0
                      },
                      "text": "Keep up the good work Amazon!!",
                      "offset": 0,
                      "length": 30
                    }
                  ],
                  "5": []
                },
                {
                  "0": "They refuse to refund or replace.",
                  "1": "negative",
                  "3": {
                    "positive": 0.01,
                    "neutral": 0.13,
                    "negative": 0.86
                  },
                  "4": [
                    {
                      "sentiment": "negative",
                      "confidenceScores": {
                        "positive": 0.01,
                        "neutral": 0.13,
                        "negative": 0.86
                      },
                      "text": "They refuse to refund or replace.",
                      "offset": 0,
                      "length": 33
                    }
                  ],
                  "5": []
                },
                {
                  "0": "Unfortunately it's easy to accidentally activate them with the gentle-touch buttons if you accidentally touch the phone to your face while listening.",
                  "1": "negative",
                  "3": {
                    "positive": 0,
                    "neutral": 0,
                    "negative": 0.99
                  },
                  "4": [
                    {
                      "sentiment": "negative",
                      "confidenceScores": {
                        "positive": 0,
                        "neutral": 0,
                        "negative": 0.99
                      },
                      "text": "Unfortunately it's easy to accidentally activate them with the gentle-touch buttons if you accidentally touch the phone to your face while listening.",
                      "offset": 0,
                      "length": 149
                    }
                  ],
                  "5": []
                },
                {
                  "0": "So I basically threw my money out the window for nothing.",
                  "1": "negative",
                  "3": {
                    "positive": 0,
                    "neutral": 0.03,
                    "negative": 0.97
                  },
                  "4": [
                    {
                      "sentiment": "negative",
                      "confidenceScores": {
                        "positive": 0,
                        "neutral": 0.03,
                        "negative": 0.97
                      },
                      "text": "So I basically threw my money out the window for nothing.",
                      "offset": 0,
                      "length": 57
                    }
                  ],
                  "5": []
                },
                {
                  "0": "Great case and price!",
                  "1": "positive",
                  "3": {
                    "positive": 1,
                    "neutral": 0,
                    "negative": 0
                  },
                  "4": [
                    {
                      "sentiment": "positive",
                      "confidenceScores": {
                        "positive": 1,
                        "neutral": 0,
                        "negative": 0
                      },
                      "text": "Great case and price!",
                      "offset": 0,
                      "length": 21
                    }
                  ],
                  "5": []
                },
                {
                  "0": "All it took was one drop from about 6 inches above the kitchen counter and it was cracked.I am not impressed and I am not laughing.",
                  "1": "negative",
                  "3": {
                    "positive": 0,
                    "neutral": 0.02,
                    "negative": 0.98
                  },
                  "4": [
                    {
                      "sentiment": "negative",
                      "confidenceScores": {
                        "positive": 0,
                        "neutral": 0.01,
                        "negative": 0.99
                      },
                      "text": "All it took was one drop from about 6 inches above the kitchen counter and it was cracked.",
                      "offset": 0,
                      "length": 90
                    },
                    {
                      "sentiment": "negative",
                      "confidenceScores": {
                        "positive": 0,
                        "neutral": 0.04,
                        "negative": 0.96
                      },
                      "text": "I am not impressed and I am not laughing.",
                      "offset": 90,
                      "length": 41
                    }
                  ],
                  "5": []
                },
                {
                  "0": "Bluetooth range is good - a few days ago I left my phone in the trunk, got a call, and carried the conversation without a hitch.",
                  "1": "positive",
                  "3": {
                    "positive": 0.98,
                    "neutral": 0.01,
                    "negative": 0.01
                  },
                  "4": [
                    {
                      "sentiment": "positive",
                      "confidenceScores": {
                        "positive": 0.98,
                        "neutral": 0.01,
                        "negative": 0.01
                      },
                      "text": "Bluetooth range is good - a few days ago I left my phone in the trunk, got a call, and carried the conversation without a hitch.",
                      "offset": 0,
                      "length": 128
                    }
                  ],
                  "5": []
                },
                {
                  "0": "Small, sleek, impressive looking, practical setup with ample storage in place.",
                  "1": "positive",
                  "3": {
                    "positive": 0.97,
                    "neutral": 0.03,
                    "negative": 0.01
                  },
                  "4": [
                    {
                      "sentiment": "positive",
                      "confidenceScores": {
                        "positive": 0.97,
                        "neutral": 0.03,
                        "negative": 0.01
                      },
                      "text": "Small, sleek, impressive looking, practical setup with ample storage in place.",
                      "offset": 0,
                      "length": 78
                    }
                  ],
                  "5": []
                },
                {
                  "0": "The eargels channel the sound directly into your ear and seem to increase the sound volume and clarity.",
                  "1": "neutral",
                  "3": {
                    "positive": 0.07,
                    "neutral": 0.91,
                    "negative": 0.01
                  },
                  "4": [
                    {
                      "sentiment": "neutral",
                      "confidenceScores": {
                        "positive": 0.07,
                        "neutral": 0.91,
                        "negative": 0.01
                      },
                      "text": "The eargels channel the sound directly into your ear and seem to increase the sound volume and clarity.",
                      "offset": 0,
                      "length": 103
                    }
                  ],
                  "5": []
                },
                {
                  "0": "none of the new ones have ever quite worked properly.",
                  "1": "negative",
                  "3": {
                    "positive": 0.01,
                    "neutral": 0.02,
                    "negative": 0.97
                  },
                  "4": [
                    {
                      "sentiment": "negative",
                      "confidenceScores": {
                        "positive": 0.01,
                        "neutral": 0.02,
                        "negative": 0.97
                      },
                      "text": "none of the new ones have ever quite worked properly.",
                      "offset": 0,
                      "length": 53
                    }
                  ],
                  "5": []
                },
                {
                  "0": "I am glad I purchased it.",
                  "1": "positive",
                  "3": {
                    "positive": 0.99,
                    "neutral": 0.01,
                    "negative": 0
                  },
                  "4": [
                    {
                      "sentiment": "positive",
                      "confidenceScores": {
                        "positive": 0.99,
                        "neutral": 0.01,
                        "negative": 0
                      },
                      "text": "I am glad I purchased it.",
                      "offset": 0,
                      "length": 25
                    }
                  ],
                  "5": []
                },
                {
                  "0": "I've missed numerous calls because of this reason.",
                  "1": "negative",
                  "3": {
                    "positive": 0.01,
                    "neutral": 0.05,
                    "negative": 0.94
                  },
                  "4": [
                    {
                      "sentiment": "negative",
                      "confidenceScores": {
                        "positive": 0.01,
                        "neutral": 0.05,
                        "negative": 0.94
                      },
                      "text": "I've missed numerous calls because of this reason.",
                      "offset": 0,
                      "length": 50
                    }
                  ],
                  "5": []
                },
                {
                  "0": "Perhaps my phone is defective, but people cannot hear me when I use this.",
                  "1": "negative",
                  "3": {
                    "positive": 0,
                    "neutral": 0.01,
                    "negative": 0.99
                  },
                  "4": [
                    {
                      "sentiment": "negative",
                      "confidenceScores": {
                        "positive": 0,
                        "neutral": 0.01,
                        "negative": 0.99
                      },
                      "text": "Perhaps my phone is defective, but people cannot hear me when I use this.",
                      "offset": 0,
                      "length": 73
                    }
                  ],
                  "5": []
                },
                {
                  "0": "Don't buy this product.",
                  "1": "negative",
                  "3": {
                    "positive": 0.01,
                    "neutral": 0.06,
                    "negative": 0.94
                  },
                  "4": [
                    {
                      "sentiment": "negative",
                      "confidenceScores": {
                        "positive": 0.01,
                        "neutral": 0.06,
                        "negative": 0.94
                      },
                      "text": "Don't buy this product.",
                      "offset": 0,
                      "length": 23
                    }
                  ],
                  "5": []
                },
                {
                  "0": "sucked, most of the stuff does not work with my phone.",
                  "1": "negative",
                  "3": {
                    "positive": 0,
                    "neutral": 0,
                    "negative": 0.99
                  },
                  "4": [
                    {
                      "sentiment": "negative",
                      "confidenceScores": {
                        "positive": 0,
                        "neutral": 0,
                        "negative": 0.99
                      },
                      "text": "sucked, most of the stuff does not work with my phone.",
                      "offset": 0,
                      "length": 54
                    }
                  ],
                  "5": []
                },
                {
                  "0": "No shifting, no bubbling, no peeling, not even a scratch, NOTHING!I couldn't be more happier with my new one for the Droid.",
                  "1": "mixed",
                  "3": {
                    "positive": 0.56,
                    "neutral": 0.17,
                    "negative": 0.28
                  },
                  "4": [
                    {
                      "sentiment": "negative",
                      "confidenceScores": {
                        "positive": 0.18,
                        "neutral": 0.3,
                        "negative": 0.52
                      },
                      "text": "No shifting, no bubbling, no peeling, not even a scratch, NOTHING!",
                      "offset": 0,
                      "length": 66
                    },
                    {
                      "sentiment": "positive",
                      "confidenceScores": {
                        "positive": 0.94,
                        "neutral": 0.03,
                        "negative": 0.03
                      },
                      "text": "I couldn't be more happier with my new one for the Droid.",
                      "offset": 66,
                      "length": 57
                    }
                  ],
                  "5": []
                },
                {
                  "0": "Worst software ever used.... If I could give this zero stars I would.",
                  "1": "negative",
                  "3": {
                    "positive": 0.01,
                    "neutral": 0,
                    "negative": 0.99
                  },
                  "4": [
                    {
                      "sentiment": "negative",
                      "confidenceScores": {
                        "positive": 0.01,
                        "neutral": 0,
                        "negative": 0.99
                      },
                      "text": "Worst software ever used.... ",
                      "offset": 0,
                      "length": 29
                    },
                    {
                      "sentiment": "neutral",
                      "confidenceScores": {
                        "positive": 0.02,
                        "neutral": 0.76,
                        "negative": 0.22
                      },
                      "text": "If I could give this zero stars I would.",
                      "offset": 29,
                      "length": 40
                    }
                  ],
                  "5": []
                },
                {
                  "0": "Trying to make a call on these is an exercise in frustration.",
                  "1": "negative",
                  "3": {
                    "positive": 0,
                    "neutral": 0,
                    "negative": 0.99
                  },
                  "4": [
                    {
                      "sentiment": "negative",
                      "confidenceScores": {
                        "positive": 0,
                        "neutral": 0,
                        "negative": 0.99
                      },
                      "text": "Trying to make a call on these is an exercise in frustration.",
                      "offset": 0,
                      "length": 61
                    }
                  ],
                  "5": []
                },
                {
                  "0": "The case is a flimsy piece of plastic and has no front or side protection whatsoever.",
                  "1": "negative",
                  "3": {
                    "positive": 0,
                    "neutral": 0.02,
                    "negative": 0.98
                  },
                  "4": [
                    {
                      "sentiment": "negative",
                      "confidenceScores": {
                        "positive": 0,
                        "neutral": 0.02,
                        "negative": 0.98
                      },
                      "text": "The case is a flimsy piece of plastic and has no front or side protection whatsoever.",
                      "offset": 0,
                      "length": 85
                    }
                  ],
                  "5": []
                },
                {
                  "0": "I own a Jabra Earset and was very happy with it, but the sound quality, especially outgoing, on this is better.",
                  "1": "positive",
                  "3": {
                    "positive": 0.95,
                    "neutral": 0.01,
                    "negative": 0.04
                  },
                  "4": [
                    {
                      "sentiment": "positive",
                      "confidenceScores": {
                        "positive": 0.95,
                        "neutral": 0.01,
                        "negative": 0.04
                      },
                      "text": "I own a Jabra Earset and was very happy with it, but the sound quality, especially outgoing, on this is better.",
                      "offset": 0,
                      "length": 111
                    }
                  ],
                  "5": []
                },
                {
                  "0": "I love the camera, it's really pretty good quality.",
                  "1": "positive",
                  "3": {
                    "positive": 1,
                    "neutral": 0,
                    "negative": 0
                  },
                  "4": [
                    {
                      "sentiment": "positive",
                      "confidenceScores": {
                        "positive": 1,
                        "neutral": 0,
                        "negative": 0
                      },
                      "text": "I love the camera, it's really pretty good quality.",
                      "offset": 0,
                      "length": 51
                    }
                  ],
                  "5": []
                },
                {
                  "0": "Thank you for such great service.",
                  "1": "positive",
                  "3": {
                    "positive": 1,
                    "neutral": 0,
                    "negative": 0
                  },
                  "4": [
                    {
                      "sentiment": "positive",
                      "confidenceScores": {
                        "positive": 1,
                        "neutral": 0,
                        "negative": 0
                      },
                      "text": "Thank you for such great service.",
                      "offset": 0,
                      "length": 33
                    }
                  ],
                  "5": []
                },
                {
                  "0": "Its a total package.",
                  "1": "neutral",
                  "3": {
                    "positive": 0.08,
                    "neutral": 0.85,
                    "negative": 0.07
                  },
                  "4": [
                    {
                      "sentiment": "neutral",
                      "confidenceScores": {
                        "positive": 0.08,
                        "neutral": 0.85,
                        "negative": 0.07
                      },
                      "text": "Its a total package.",
                      "offset": 0,
                      "length": 20
                    }
                  ],
                  "5": []
                },
                {
                  "0": "The seller is very understanding and patient, I would definitely buy from them again.",
                  "1": "positive",
                  "3": {
                    "positive": 0.95,
                    "neutral": 0.03,
                    "negative": 0.02
                  },
                  "4": [
                    {
                      "sentiment": "positive",
                      "confidenceScores": {
                        "positive": 0.95,
                        "neutral": 0.03,
                        "negative": 0.02
                      },
                      "text": "The seller is very understanding and patient, I would definitely buy from them again.",
                      "offset": 0,
                      "length": 85
                    }
                  ],
                  "5": []
                },
                {
                  "0": "\"I give Wirefly 1 star.I will contact Cingular/AT&T; and inform them of this practice.\"",
                  "1": "neutral",
                  "3": {
                    "positive": 0.04,
                    "neutral": 0.83,
                    "negative": 0.13
                  },
                  "4": [
                    {
                      "sentiment": "neutral",
                      "confidenceScores": {
                        "positive": 0.07,
                        "neutral": 0.81,
                        "negative": 0.12
                      },
                      "text": "\"I give Wirefly 1 star.",
                      "offset": 0,
                      "length": 23
                    },
                    {
                      "sentiment": "neutral",
                      "confidenceScores": {
                        "positive": 0.02,
                        "neutral": 0.84,
                        "negative": 0.14
                      },
                      "text": "I will contact Cingular/AT&T; and inform them of this practice.\"",
                      "offset": 23,
                      "length": 64
                    }
                  ],
                  "5": []
                },
                {
                  "0": "It's AGGRAVATING!",
                  "1": "positive",
                  "3": {
                    "positive": 0.97,
                    "neutral": 0.02,
                    "negative": 0.01
                  },
                  "4": [
                    {
                      "sentiment": "positive",
                      "confidenceScores": {
                        "positive": 0.97,
                        "neutral": 0.02,
                        "negative": 0.01
                      },
                      "text": "It's AGGRAVATING!",
                      "offset": 0,
                      "length": 17
                    }
                  ],
                  "5": []
                },
                {
                  "0": "Great product for the price!.",
                  "1": "positive",
                  "3": {
                    "positive": 1,
                    "neutral": 0,
                    "negative": 0
                  },
                  "4": [
                    {
                      "sentiment": "positive",
                      "confidenceScores": {
                        "positive": 1,
                        "neutral": 0,
                        "negative": 0
                      },
                      "text": "Great product for the price!.",
                      "offset": 0,
                      "length": 29
                    }
                  ],
                  "5": []
                },
                {
                  "0": "I have purchased these for both family and friends, and all enjoy their clarity and ease of use",
                  "1": "positive",
                  "3": {
                    "positive": 0.99,
                    "neutral": 0,
                    "negative": 0
                  },
                  "4": [
                    {
                      "sentiment": "positive",
                      "confidenceScores": {
                        "positive": 0.99,
                        "neutral": 0,
                        "negative": 0
                      },
                      "text": "I have purchased these for both family and friends, and all enjoy their clarity and ease of use",
                      "offset": 0,
                      "length": 95
                    }
                  ],
                  "5": []
                },
                {
                  "0": "Virgin Wireless rocks and so does this cheap little phone!",
                  "1": "positive",
                  "3": {
                    "positive": 0.45,
                    "neutral": 0.29,
                    "negative": 0.26
                  },
                  "4": [
                    {
                      "sentiment": "positive",
                      "confidenceScores": {
                        "positive": 0.45,
                        "neutral": 0.29,
                        "negative": 0.26
                      },
                      "text": "Virgin Wireless rocks and so does this cheap little phone!",
                      "offset": 0,
                      "length": 58
                    }
                  ],
                  "5": []
                },
                {
                  "0": "None of it works, just don't buy it.",
                  "1": "negative",
                  "3": {
                    "positive": 0,
                    "neutral": 0.01,
                    "negative": 0.98
                  },
                  "4": [
                    {
                      "sentiment": "negative",
                      "confidenceScores": {
                        "positive": 0,
                        "neutral": 0.01,
                        "negative": 0.98
                      },
                      "text": "None of it works, just don't buy it.",
                      "offset": 0,
                      "length": 36
                    }
                  ],
                  "5": []
                },
                {
                  "0": "Muddy, low quality sound, and the casing around the wire's insert was poorly super glued and slid off.",
                  "1": "negative",
                  "3": {
                    "positive": 0,
                    "neutral": 0,
                    "negative": 1
                  },
                  "4": [
                    {
                      "sentiment": "negative",
                      "confidenceScores": {
                        "positive": 0,
                        "neutral": 0,
                        "negative": 1
                      },
                      "text": "Muddy, low quality sound, and the casing around the wire's insert was poorly super glued and slid off.",
                      "offset": 0,
                      "length": 102
                    }
                  ],
                  "5": []
                },
                {
                  "0": "Please dont waste your money.",
                  "1": "negative",
                  "3": {
                    "positive": 0.43,
                    "neutral": 0.1,
                    "negative": 0.47
                  },
                  "4": [
                    {
                      "sentiment": "negative",
                      "confidenceScores": {
                        "positive": 0.43,
                        "neutral": 0.1,
                        "negative": 0.47
                      },
                      "text": "Please dont waste your money.",
                      "offset": 0,
                      "length": 29
                    }
                  ],
                  "5": []
                },
                {
                  "0": "All in all, I'm quite satisfied with this purchase.",
                  "1": "positive",
                  "3": {
                    "positive": 0.99,
                    "neutral": 0,
                    "negative": 0.01
                  },
                  "4": [
                    {
                      "sentiment": "positive",
                      "confidenceScores": {
                        "positive": 0.99,
                        "neutral": 0,
                        "negative": 0.01
                      },
                      "text": "All in all, I'm quite satisfied with this purchase.",
                      "offset": 0,
                      "length": 51
                    }
                  ],
                  "5": []
                },
                {
                  "0": "If you are looking for a good quality Motorola Headset keep looking, this isn't it.",
                  "1": "positive",
                  "3": {
                    "positive": 0.51,
                    "neutral": 0.03,
                    "negative": 0.46
                  },
                  "4": [
                    {
                      "sentiment": "positive",
                      "confidenceScores": {
                        "positive": 0.51,
                        "neutral": 0.03,
                        "negative": 0.46
                      },
                      "text": "If you are looking for a good quality Motorola Headset keep looking, this isn't it.",
                      "offset": 0,
                      "length": 83
                    }
                  ],
                  "5": []
                },
                {
                  "0": "Yet Plantronincs continues to use the same flawed charger design.",
                  "1": "negative",
                  "3": {
                    "positive": 0,
                    "neutral": 0,
                    "negative": 0.99
                  },
                  "4": [
                    {
                      "sentiment": "negative",
                      "confidenceScores": {
                        "positive": 0,
                        "neutral": 0,
                        "negative": 0.99
                      },
                      "text": "Yet Plantronincs continues to use the same flawed charger design.",
                      "offset": 0,
                      "length": 65
                    }
                  ],
                  "5": []
                },
                {
                  "0": "Disapointing Results.",
                  "1": "negative",
                  "3": {
                    "positive": 0,
                    "neutral": 0,
                    "negative": 0.99
                  },
                  "4": [
                    {
                      "sentiment": "negative",
                      "confidenceScores": {
                        "positive": 0,
                        "neutral": 0,
                        "negative": 0.99
                      },
                      "text": "Disapointing Results.",
                      "offset": 0,
                      "length": 21
                    }
                  ],
                  "5": []
                },
                {
                  "0": "Cumbersome design.",
                  "1": "negative",
                  "3": {
                    "positive": 0.01,
                    "neutral": 0,
                    "negative": 0.99
                  },
                  "4": [
                    {
                      "sentiment": "negative",
                      "confidenceScores": {
                        "positive": 0.01,
                        "neutral": 0,
                        "negative": 0.99
                      },
                      "text": "Cumbersome design.",
                      "offset": 0,
                      "length": 18
                    }
                  ],
                  "5": []
                },
                {
                  "0": "Great it was new packaged nice works good, no problems and it came in less time then I expected!!!!",
                  "1": "positive",
                  "3": {
                    "positive": 1,
                    "neutral": 0,
                    "negative": 0
                  },
                  "4": [
                    {
                      "sentiment": "positive",
                      "confidenceScores": {
                        "positive": 1,
                        "neutral": 0,
                        "negative": 0
                      },
                      "text": "Great it was new packaged nice works good, no problems and it came in less time then I expected!!!!",
                      "offset": 0,
                      "length": 99
                    }
                  ],
                  "5": []
                },
                {
                  "0": "Great Product.",
                  "1": "positive",
                  "3": {
                    "positive": 1,
                    "neutral": 0,
                    "negative": 0
                  },
                  "4": [
                    {
                      "sentiment": "positive",
                      "confidenceScores": {
                        "positive": 1,
                        "neutral": 0,
                        "negative": 0
                      },
                      "text": "Great Product.",
                      "offset": 0,
                      "length": 14
                    }
                  ],
                  "5": []
                },
                {
                  "0": "It's A PIECE OF CRAP!",
                  "1": "negative",
                  "3": {
                    "positive": 0.06,
                    "neutral": 0.14,
                    "negative": 0.8
                  },
                  "4": [
                    {
                      "sentiment": "negative",
                      "confidenceScores": {
                        "positive": 0.06,
                        "neutral": 0.14,
                        "negative": 0.8
                      },
                      "text": "It's A PIECE OF CRAP!",
                      "offset": 0,
                      "length": 21
                    }
                  ],
                  "5": []
                },
                {
                  "0": "My experience was terrible..... This was my fourth bluetooth headset, and while it was much more comfortable than my last Jabra (which I HATED!!!",
                  "1": "mixed",
                  "3": {
                    "positive": 0.49,
                    "neutral": 0,
                    "negative": 0.51
                  },
                  "4": [
                    {
                      "sentiment": "negative",
                      "confidenceScores": {
                        "positive": 0.01,
                        "neutral": 0,
                        "negative": 0.99
                      },
                      "text": "My experience was terrible..... ",
                      "offset": 0,
                      "length": 32
                    },
                    {
                      "sentiment": "positive",
                      "confidenceScores": {
                        "positive": 0.97,
                        "neutral": 0.01,
                        "negative": 0.02
                      },
                      "text": "This was my fourth bluetooth headset, and while it was much more comfortable than my last Jabra (which I HATED!!!",
                      "offset": 32,
                      "length": 113
                    }
                  ],
                  "5": []
                },
                {
                  "0": "This fixes all the problems.",
                  "1": "negative",
                  "3": {
                    "positive": 0.22,
                    "neutral": 0.07,
                    "negative": 0.71
                  },
                  "4": [
                    {
                      "sentiment": "negative",
                      "confidenceScores": {
                        "positive": 0.22,
                        "neutral": 0.07,
                        "negative": 0.71
                      },
                      "text": "This fixes all the problems.",
                      "offset": 0,
                      "length": 28
                    }
                  ],
                  "5": []
                },
                {
                  "0": "Worst ever.",
                  "1": "negative",
                  "3": {
                    "positive": 0.02,
                    "neutral": 0.01,
                    "negative": 0.98
                  },
                  "4": [
                    {
                      "sentiment": "negative",
                      "confidenceScores": {
                        "positive": 0.02,
                        "neutral": 0.01,
                        "negative": 0.98
                      },
                      "text": "Worst ever.",
                      "offset": 0,
                      "length": 11
                    }
                  ],
                  "5": []
                },
                {
                  "0": "I am very happy",
                  "1": "positive",
                  "3": {
                    "positive": 0.99,
                    "neutral": 0.01,
                    "negative": 0
                  },
                  "4": [
                    {
                      "sentiment": "positive",
                      "confidenceScores": {
                        "positive": 0.99,
                        "neutral": 0.01,
                        "negative": 0
                      },
                      "text": "I am very happy",
                      "offset": 0,
                      "length": 15
                    }
                  ],
                  "5": []
                },
                {
                  "0": "I've had no trouble accessing the Internet, downloading ringtones or performing any of the functions.",
                  "1": "positive",
                  "3": {
                    "positive": 0.56,
                    "neutral": 0.34,
                    "negative": 0.1
                  },
                  "4": [
                    {
                      "sentiment": "positive",
                      "confidenceScores": {
                        "positive": 0.56,
                        "neutral": 0.34,
                        "negative": 0.1
                      },
                      "text": "I've had no trouble accessing the Internet, downloading ringtones or performing any of the functions.",
                      "offset": 0,
                      "length": 101
                    }
                  ],
                  "5": []
                },
                {
                  "0": "\"I can barely ever hear on it and am constantly saying \"\"what?\"\"\"",
                  "1": "negative",
                  "3": {
                    "positive": 0,
                    "neutral": 0.03,
                    "negative": 0.97
                  },
                  "4": [
                    {
                      "sentiment": "negative",
                      "confidenceScores": {
                        "positive": 0,
                        "neutral": 0.03,
                        "negative": 0.97
                      },
                      "text": "\"I can barely ever hear on it and am constantly saying \"\"what?\"\"\"",
                      "offset": 0,
                      "length": 65
                    }
                  ],
                  "5": []
                },
                {
                  "0": "The battery life is highly unacceptable.",
                  "1": "negative",
                  "3": {
                    "positive": 0,
                    "neutral": 0.01,
                    "negative": 0.99
                  },
                  "4": [
                    {
                      "sentiment": "negative",
                      "confidenceScores": {
                        "positive": 0,
                        "neutral": 0.01,
                        "negative": 0.99
                      },
                      "text": "The battery life is highly unacceptable.",
                      "offset": 0,
                      "length": 40
                    }
                  ],
                  "5": []
                },
                {
                  "0": "That company is a joke.",
                  "1": "negative",
                  "3": {
                    "positive": 0.01,
                    "neutral": 0.01,
                    "negative": 0.98
                  },
                  "4": [
                    {
                      "sentiment": "negative",
                      "confidenceScores": {
                        "positive": 0.01,
                        "neutral": 0.01,
                        "negative": 0.98
                      },
                      "text": "That company is a joke.",
                      "offset": 0,
                      "length": 23
                    }
                  ],
                  "5": []
                },
                {
                  "0": "It does everything the description said it would.",
                  "1": "neutral",
                  "3": {
                    "positive": 0.48,
                    "neutral": 0.5,
                    "negative": 0.02
                  },
                  "4": [
                    {
                      "sentiment": "neutral",
                      "confidenceScores": {
                        "positive": 0.48,
                        "neutral": 0.5,
                        "negative": 0.02
                      },
                      "text": "It does everything the description said it would.",
                      "offset": 0,
                      "length": 49
                    }
                  ],
                  "5": []
                },
                {
                  "0": "Due to this happening on every call I was forced to stop using this headset.",
                  "1": "negative",
                  "3": {
                    "positive": 0,
                    "neutral": 0.03,
                    "negative": 0.96
                  },
                  "4": [
                    {
                      "sentiment": "negative",
                      "confidenceScores": {
                        "positive": 0,
                        "neutral": 0.03,
                        "negative": 0.96
                      },
                      "text": "Due to this happening on every call I was forced to stop using this headset.",
                      "offset": 0,
                      "length": 76
                    }
                  ],
                  "5": []
                },
                {
                  "0": "It works great with a car charger, especially if you cannot plug in two adapters at the same time.",
                  "1": "positive",
                  "3": {
                    "positive": 1,
                    "neutral": 0,
                    "negative": 0
                  },
                  "4": [
                    {
                      "sentiment": "positive",
                      "confidenceScores": {
                        "positive": 1,
                        "neutral": 0,
                        "negative": 0
                      },
                      "text": "It works great with a car charger, especially if you cannot plug in two adapters at the same time.",
                      "offset": 0,
                      "length": 98
                    }
                  ],
                  "5": []
                },
                {
                  "0": "Verizon tech support walked my through a few procedures, none of which worked and I ended up having to do a hard re-set, wiping out all my data.",
                  "1": "negative",
                  "3": {
                    "positive": 0,
                    "neutral": 0,
                    "negative": 0.99
                  },
                  "4": [
                    {
                      "sentiment": "negative",
                      "confidenceScores": {
                        "positive": 0,
                        "neutral": 0,
                        "negative": 0.99
                      },
                      "text": "Verizon tech support walked my through a few procedures, none of which worked and I ended up having to do a hard re-set, wiping out all my data.",
                      "offset": 0,
                      "length": 144
                    }
                  ],
                  "5": []
                },
                {
                  "0": "Voice Quality, Signal Strength, Dropped Calls.",
                  "1": "neutral",
                  "3": {
                    "positive": 0.02,
                    "neutral": 0.6,
                    "negative": 0.37
                  },
                  "4": [
                    {
                      "sentiment": "neutral",
                      "confidenceScores": {
                        "positive": 0.02,
                        "neutral": 0.6,
                        "negative": 0.37
                      },
                      "text": "Voice Quality, Signal Strength, Dropped Calls.",
                      "offset": 0,
                      "length": 46
                    }
                  ],
                  "5": []
                },
                {
                  "0": "\"It plays louder than any other speaker of this size; the price is so low that most would think the quality is lacking, however, it's not.\"",
                  "1": "negative",
                  "3": {
                    "positive": 0,
                    "neutral": 0.01,
                    "negative": 0.99
                  },
                  "4": [
                    {
                      "sentiment": "neutral",
                      "confidenceScores": {
                        "positive": 0.1,
                        "neutral": 0.82,
                        "negative": 0.07
                      },
                      "text": "\"It plays louder than any other speaker of this size; ",
                      "offset": 0,
                      "length": 54
                    },
                    {
                      "sentiment": "negative",
                      "confidenceScores": {
                        "positive": 0,
                        "neutral": 0.01,
                        "negative": 0.99
                      },
                      "text": "the price is so low that most would think the quality is lacking, however, it's not.\"",
                      "offset": 54,
                      "length": 85
                    }
                  ],
                  "5": []
                },
                {
                  "0": "Better than expected.",
                  "1": "positive",
                  "3": {
                    "positive": 0.98,
                    "neutral": 0.01,
                    "negative": 0.01
                  },
                  "4": [
                    {
                      "sentiment": "positive",
                      "confidenceScores": {
                        "positive": 0.98,
                        "neutral": 0.01,
                        "negative": 0.01
                      },
                      "text": "Better than expected.",
                      "offset": 0,
                      "length": 21
                    }
                  ],
                  "5": []
                },
                {
                  "0": "It feels poorly constructed, the menus are difficult to navigate, and the buttons are so recessed that it is difficult to push them.",
                  "1": "negative",
                  "3": {
                    "positive": 0,
                    "neutral": 0,
                    "negative": 1
                  },
                  "4": [
                    {
                      "sentiment": "negative",
                      "confidenceScores": {
                        "positive": 0,
                        "neutral": 0,
                        "negative": 1
                      },
                      "text": "It feels poorly constructed, the menus are difficult to navigate, and the buttons are so recessed that it is difficult to push them.",
                      "offset": 0,
                      "length": 132
                    }
                  ],
                  "5": []
                },
                {
                  "0": "Battery is holding up well.",
                  "1": "positive",
                  "3": {
                    "positive": 0.98,
                    "neutral": 0.01,
                    "negative": 0.01
                  },
                  "4": [
                    {
                      "sentiment": "positive",
                      "confidenceScores": {
                        "positive": 0.98,
                        "neutral": 0.01,
                        "negative": 0.01
                      },
                      "text": "Battery is holding up well.",
                      "offset": 0,
                      "length": 27
                    }
                  ],
                  "5": []
                },
                {
                  "0": "Also difficult to put on.I'd recommend avoiding this product.",
                  "1": "negative",
                  "3": {
                    "positive": 0.01,
                    "neutral": 0.01,
                    "negative": 0.98
                  },
                  "4": [
                    {
                      "sentiment": "negative",
                      "confidenceScores": {
                        "positive": 0.01,
                        "neutral": 0.01,
                        "negative": 0.99
                      },
                      "text": "Also difficult to put on.",
                      "offset": 0,
                      "length": 25
                    },
                    {
                      "sentiment": "negative",
                      "confidenceScores": {
                        "positive": 0.02,
                        "neutral": 0.01,
                        "negative": 0.97
                      },
                      "text": "I'd recommend avoiding this product.",
                      "offset": 25,
                      "length": 36
                    }
                  ],
                  "5": []
                },
                {
                  "0": "I only used it two days, and it wasn't always easy to hear with.",
                  "1": "negative",
                  "3": {
                    "positive": 0,
                    "neutral": 0.01,
                    "negative": 0.99
                  },
                  "4": [
                    {
                      "sentiment": "negative",
                      "confidenceScores": {
                        "positive": 0,
                        "neutral": 0.01,
                        "negative": 0.99
                      },
                      "text": "I only used it two days, and it wasn't always easy to hear with.",
                      "offset": 0,
                      "length": 64
                    }
                  ],
                  "5": []
                },
                {
                  "0": "I got the car charger and not even after a week the charger was broken...I went to plug it in and it started smoking.",
                  "1": "negative",
                  "3": {
                    "positive": 0,
                    "neutral": 0.01,
                    "negative": 0.99
                  },
                  "4": [
                    {
                      "sentiment": "negative",
                      "confidenceScores": {
                        "positive": 0,
                        "neutral": 0.01,
                        "negative": 0.99
                      },
                      "text": "I got the car charger and not even after a week the charger was broken...",
                      "offset": 0,
                      "length": 73
                    },
                    {
                      "sentiment": "neutral",
                      "confidenceScores": {
                        "positive": 0.01,
                        "neutral": 0.77,
                        "negative": 0.22
                      },
                      "text": "I went to plug it in and it started smoking.",
                      "offset": 73,
                      "length": 44
                    }
                  ],
                  "5": []
                },
                {
                  "0": "Sprint - terrible customer service.",
                  "1": "negative",
                  "3": {
                    "positive": 0.01,
                    "neutral": 0,
                    "negative": 0.99
                  },
                  "4": [
                    {
                      "sentiment": "negative",
                      "confidenceScores": {
                        "positive": 0.01,
                        "neutral": 0,
                        "negative": 0.99
                      },
                      "text": "Sprint - terrible customer service.",
                      "offset": 0,
                      "length": 35
                    }
                  ],
                  "5": []
                },
                {
                  "0": "Linked to my phone without effort.",
                  "1": "positive",
                  "3": {
                    "positive": 0.55,
                    "neutral": 0.41,
                    "negative": 0.03
                  },
                  "4": [
                    {
                      "sentiment": "positive",
                      "confidenceScores": {
                        "positive": 0.55,
                        "neutral": 0.41,
                        "negative": 0.03
                      },
                      "text": "Linked to my phone without effort.",
                      "offset": 0,
                      "length": 34
                    }
                  ],
                  "5": []
                },
                {
                  "0": "THey are so cool!",
                  "1": "positive",
                  "3": {
                    "positive": 0.99,
                    "neutral": 0.01,
                    "negative": 0
                  },
                  "4": [
                    {
                      "sentiment": "positive",
                      "confidenceScores": {
                        "positive": 0.99,
                        "neutral": 0.01,
                        "negative": 0
                      },
                      "text": "THey are so cool!",
                      "offset": 0,
                      "length": 17
                    }
                  ],
                  "5": []
                },
                {
                  "0": "Easy to use.",
                  "1": "positive",
                  "3": {
                    "positive": 0.99,
                    "neutral": 0.01,
                    "negative": 0
                  },
                  "4": [
                    {
                      "sentiment": "positive",
                      "confidenceScores": {
                        "positive": 0.99,
                        "neutral": 0.01,
                        "negative": 0
                      },
                      "text": "Easy to use.",
                      "offset": 0,
                      "length": 12
                    }
                  ],
                  "5": []
                },
                {
                  "0": "Better Than New.",
                  "1": "positive",
                  "3": {
                    "positive": 0.97,
                    "neutral": 0.01,
                    "negative": 0.02
                  },
                  "4": [
                    {
                      "sentiment": "positive",
                      "confidenceScores": {
                        "positive": 0.97,
                        "neutral": 0.01,
                        "negative": 0.02
                      },
                      "text": "Better Than New.",
                      "offset": 0,
                      "length": 16
                    }
                  ],
                  "5": []
                },
                {
                  "0": "What possesed me to get this junk, I have no idea...",
                  "1": "negative",
                  "3": {
                    "positive": 0.01,
                    "neutral": 0.02,
                    "negative": 0.97
                  },
                  "4": [
                    {
                      "sentiment": "negative",
                      "confidenceScores": {
                        "positive": 0.01,
                        "neutral": 0.02,
                        "negative": 0.97
                      },
                      "text": "What possesed me to get this junk, I have no idea...",
                      "offset": 0,
                      "length": 52
                    }
                  ],
                  "5": []
                },
                {
                  "0": "Piece of trash.",
                  "1": "negative",
                  "3": {
                    "positive": 0.01,
                    "neutral": 0.01,
                    "negative": 0.98
                  },
                  "4": [
                    {
                      "sentiment": "negative",
                      "confidenceScores": {
                        "positive": 0.01,
                        "neutral": 0.01,
                        "negative": 0.98
                      },
                      "text": "Piece of trash.",
                      "offset": 0,
                      "length": 15
                    }
                  ],
                  "5": []
                },
                {
                  "0": "A pretty good product.",
                  "1": "positive",
                  "3": {
                    "positive": 1,
                    "neutral": 0,
                    "negative": 0
                  },
                  "4": [
                    {
                      "sentiment": "positive",
                      "confidenceScores": {
                        "positive": 1,
                        "neutral": 0,
                        "negative": 0
                      },
                      "text": "A pretty good product.",
                      "offset": 0,
                      "length": 22
                    }
                  ],
                  "5": []
                },
                {
                  "0": "This is a great phone!.",
                  "1": "positive",
                  "3": {
                    "positive": 1,
                    "neutral": 0,
                    "negative": 0
                  },
                  "4": [
                    {
                      "sentiment": "positive",
                      "confidenceScores": {
                        "positive": 1,
                        "neutral": 0,
                        "negative": 0
                      },
                      "text": "This is a great phone!.",
                      "offset": 0,
                      "length": 23
                    }
                  ],
                  "5": []
                },
                {
                  "0": "For the price on Amazon, it is an excellent product, which I would highly recommend.",
                  "1": "positive",
                  "3": {
                    "positive": 1,
                    "neutral": 0,
                    "negative": 0
                  },
                  "4": [
                    {
                      "sentiment": "positive",
                      "confidenceScores": {
                        "positive": 1,
                        "neutral": 0,
                        "negative": 0
                      },
                      "text": "For the price on Amazon, it is an excellent product, which I would highly recommend.",
                      "offset": 0,
                      "length": 84
                    }
                  ],
                  "5": []
                },
                {
                  "0": "Their Research and Development division obviously knows what they're doing.",
                  "1": "neutral",
                  "3": {
                    "positive": 0.04,
                    "neutral": 0.94,
                    "negative": 0.02
                  },
                  "4": [
                    {
                      "sentiment": "neutral",
                      "confidenceScores": {
                        "positive": 0.04,
                        "neutral": 0.94,
                        "negative": 0.02
                      },
                      "text": "Their Research and Development division obviously knows what they're doing.",
                      "offset": 0,
                      "length": 75
                    }
                  ],
                  "5": []
                },
                {
                  "0": "The real killer is the volume, and of course it breaking.",
                  "1": "negative",
                  "3": {
                    "positive": 0,
                    "neutral": 0.01,
                    "negative": 0.99
                  },
                  "4": [
                    {
                      "sentiment": "negative",
                      "confidenceScores": {
                        "positive": 0,
                        "neutral": 0.01,
                        "negative": 0.99
                      },
                      "text": "The real killer is the volume, and of course it breaking.",
                      "offset": 0,
                      "length": 57
                    }
                  ],
                  "5": []
                },
                {
                  "0": "Those phones are working just fine now.",
                  "1": "positive",
                  "3": {
                    "positive": 0.97,
                    "neutral": 0.03,
                    "negative": 0.01
                  },
                  "4": [
                    {
                      "sentiment": "positive",
                      "confidenceScores": {
                        "positive": 0.97,
                        "neutral": 0.03,
                        "negative": 0.01
                      },
                      "text": "Those phones are working just fine now.",
                      "offset": 0,
                      "length": 39
                    }
                  ],
                  "5": []
                },
                {
                  "0": "I am more than happy with this product.",
                  "1": "positive",
                  "3": {
                    "positive": 0.99,
                    "neutral": 0,
                    "negative": 0.01
                  },
                  "4": [
                    {
                      "sentiment": "positive",
                      "confidenceScores": {
                        "positive": 0.99,
                        "neutral": 0,
                        "negative": 0.01
                      },
                      "text": "I am more than happy with this product.",
                      "offset": 0,
                      "length": 39
                    }
                  ],
                  "5": []
                },
                {
                  "0": "Poor Construction.",
                  "1": "negative",
                  "3": {
                    "positive": 0.01,
                    "neutral": 0,
                    "negative": 0.99
                  },
                  "4": [
                    {
                      "sentiment": "negative",
                      "confidenceScores": {
                        "positive": 0.01,
                        "neutral": 0,
                        "negative": 0.99
                      },
                      "text": "Poor Construction.",
                      "offset": 0,
                      "length": 18
                    }
                  ],
                  "5": []
                },
                {
                  "0": "This is infuriating.",
                  "1": "negative",
                  "3": {
                    "positive": 0.01,
                    "neutral": 0.01,
                    "negative": 0.99
                  },
                  "4": [
                    {
                      "sentiment": "negative",
                      "confidenceScores": {
                        "positive": 0.01,
                        "neutral": 0.01,
                        "negative": 0.99
                      },
                      "text": "This is infuriating.",
                      "offset": 0,
                      "length": 20
                    }
                  ],
                  "5": []
                },
                {
                  "0": "Overall, I would recommend this phone over the new Walkman.",
                  "1": "positive",
                  "3": {
                    "positive": 0.98,
                    "neutral": 0.01,
                    "negative": 0.01
                  },
                  "4": [
                    {
                      "sentiment": "positive",
                      "confidenceScores": {
                        "positive": 0.98,
                        "neutral": 0.01,
                        "negative": 0.01
                      },
                      "text": "Overall, I would recommend this phone over the new Walkman.",
                      "offset": 0,
                      "length": 59
                    }
                  ],
                  "5": []
                },
                {
                  "0": "Sprint charges for this service.",
                  "1": "neutral",
                  "3": {
                    "positive": 0.01,
                    "neutral": 0.95,
                    "negative": 0.04
                  },
                  "4": [
                    {
                      "sentiment": "neutral",
                      "confidenceScores": {
                        "positive": 0.01,
                        "neutral": 0.95,
                        "negative": 0.04
                      },
                      "text": "Sprint charges for this service.",
                      "offset": 0,
                      "length": 32
                    }
                  ],
                  "5": []
                },
                {
                  "0": "It is cheap, and it feel and look just as cheap.",
                  "1": "positive",
                  "3": {
                    "positive": 0.42,
                    "neutral": 0.22,
                    "negative": 0.36
                  },
                  "4": [
                    {
                      "sentiment": "positive",
                      "confidenceScores": {
                        "positive": 0.42,
                        "neutral": 0.22,
                        "negative": 0.36
                      },
                      "text": "It is cheap, and it feel and look just as cheap.",
                      "offset": 0,
                      "length": 48
                    }
                  ],
                  "5": []
                },
                {
                  "0": "It fits my ear well and is comfortable on.",
                  "1": "positive",
                  "3": {
                    "positive": 0.99,
                    "neutral": 0.01,
                    "negative": 0
                  },
                  "4": [
                    {
                      "sentiment": "positive",
                      "confidenceScores": {
                        "positive": 0.99,
                        "neutral": 0.01,
                        "negative": 0
                      },
                      "text": "It fits my ear well and is comfortable on.",
                      "offset": 0,
                      "length": 42
                    }
                  ],
                  "5": []
                },
                {
                  "0": "It doesn't work in Europe or Asia.",
                  "1": "negative",
                  "3": {
                    "positive": 0.01,
                    "neutral": 0.32,
                    "negative": 0.67
                  },
                  "4": [
                    {
                      "sentiment": "negative",
                      "confidenceScores": {
                        "positive": 0.01,
                        "neutral": 0.32,
                        "negative": 0.67
                      },
                      "text": "It doesn't work in Europe or Asia.",
                      "offset": 0,
                      "length": 34
                    }
                  ],
                  "5": []
                },
                {
                  "0": "clipping this to your belt will deffinitely make you feel like 50 cent's up-and-coming.",
                  "1": "positive",
                  "3": {
                    "positive": 0.58,
                    "neutral": 0.41,
                    "negative": 0.01
                  },
                  "4": [
                    {
                      "sentiment": "positive",
                      "confidenceScores": {
                        "positive": 0.58,
                        "neutral": 0.41,
                        "negative": 0.01
                      },
                      "text": "clipping this to your belt will deffinitely make you feel like 50 cent's up-and-coming.",
                      "offset": 0,
                      "length": 87
                    }
                  ],
                  "5": []
                },
                {
                  "0": "I like design and look of Jabra behing the ear headsets and 5020 is pretty comfortible to wear 24 hours a day without pain in the ear.",
                  "1": "positive",
                  "3": {
                    "positive": 0.99,
                    "neutral": 0,
                    "negative": 0
                  },
                  "4": [
                    {
                      "sentiment": "positive",
                      "confidenceScores": {
                        "positive": 0.99,
                        "neutral": 0,
                        "negative": 0
                      },
                      "text": "I like design and look of Jabra behing the ear headsets and 5020 is pretty comfortible to wear 24 hours a day without pain in the ear.",
                      "offset": 0,
                      "length": 134
                    }
                  ],
                  "5": []
                },
                {
                  "0": "I was amazed at the quick arrival of the two original lg cell phone batteries and and at a fraction of the price.",
                  "1": "positive",
                  "3": {
                    "positive": 0.85,
                    "neutral": 0.03,
                    "negative": 0.12
                  },
                  "4": [
                    {
                      "sentiment": "positive",
                      "confidenceScores": {
                        "positive": 0.85,
                        "neutral": 0.03,
                        "negative": 0.12
                      },
                      "text": "I was amazed at the quick arrival of the two original lg cell phone batteries and and at a fraction of the price.",
                      "offset": 0,
                      "length": 113
                    }
                  ],
                  "5": []
                },
                {
                  "0": "the worst phone from samsung...crap..... this crappy Samsung E715.. is the worst i have ever seeen.",
                  "1": "negative",
                  "3": {
                    "positive": 0.01,
                    "neutral": 0.01,
                    "negative": 0.98
                  },
                  "4": [
                    {
                      "sentiment": "negative",
                      "confidenceScores": {
                        "positive": 0.01,
                        "neutral": 0,
                        "negative": 0.98
                      },
                      "text": "the worst phone from samsung...",
                      "offset": 0,
                      "length": 31
                    },
                    {
                      "sentiment": "negative",
                      "confidenceScores": {
                        "positive": 0.02,
                        "neutral": 0.03,
                        "negative": 0.96
                      },
                      "text": "crap..... ",
                      "offset": 31,
                      "length": 10
                    },
                    {
                      "sentiment": "negative",
                      "confidenceScores": {
                        "positive": 0.01,
                        "neutral": 0,
                        "negative": 0.99
                      },
                      "text": "this crappy Samsung E715.. ",
                      "offset": 41,
                      "length": 27
                    },
                    {
                      "sentiment": "negative",
                      "confidenceScores": {
                        "positive": 0.01,
                        "neutral": 0,
                        "negative": 0.99
                      },
                      "text": "is the worst i have ever seeen.",
                      "offset": 68,
                      "length": 31
                    }
                  ],
                  "5": []
                },
                {
                  "0": "the charger worked for about a week and then completely stopped charging my phone.",
                  "1": "negative",
                  "3": {
                    "positive": 0.01,
                    "neutral": 0.04,
                    "negative": 0.96
                  },
                  "4": [
                    {
                      "sentiment": "negative",
                      "confidenceScores": {
                        "positive": 0.01,
                        "neutral": 0.04,
                        "negative": 0.96
                      },
                      "text": "the charger worked for about a week and then completely stopped charging my phone.",
                      "offset": 0,
                      "length": 82
                    }
                  ],
                  "5": []
                },
                {
                  "0": "Poor product.",
                  "1": "negative",
                  "3": {
                    "positive": 0.01,
                    "neutral": 0,
                    "negative": 0.99
                  },
                  "4": [
                    {
                      "sentiment": "negative",
                      "confidenceScores": {
                        "positive": 0.01,
                        "neutral": 0,
                        "negative": 0.99
                      },
                      "text": "Poor product.",
                      "offset": 0,
                      "length": 13
                    }
                  ],
                  "5": []
                },
                {
                  "0": "However I needed some better instructions.",
                  "1": "positive",
                  "3": {
                    "positive": 0.45,
                    "neutral": 0.28,
                    "negative": 0.27
                  },
                  "4": [
                    {
                      "sentiment": "positive",
                      "confidenceScores": {
                        "positive": 0.45,
                        "neutral": 0.28,
                        "negative": 0.27
                      },
                      "text": "However I needed some better instructions.",
                      "offset": 0,
                      "length": 42
                    }
                  ],
                  "5": []
                },
                {
                  "0": "You need two hands to operate the screen.This software interface is decade old and cannot compete with new software designs.",
                  "1": "negative",
                  "3": {
                    "positive": 0,
                    "neutral": 0.01,
                    "negative": 0.98
                  },
                  "4": [
                    {
                      "sentiment": "neutral",
                      "confidenceScores": {
                        "positive": 0.01,
                        "neutral": 0.99,
                        "negative": 0.01
                      },
                      "text": "You need two hands to operate the screen.",
                      "offset": 0,
                      "length": 41
                    },
                    {
                      "sentiment": "negative",
                      "confidenceScores": {
                        "positive": 0,
                        "neutral": 0.01,
                        "negative": 0.98
                      },
                      "text": "This software interface is decade old and cannot compete with new software designs.",
                      "offset": 41,
                      "length": 83
                    }
                  ],
                  "5": []
                },
                {
                  "0": "Worked very well paired with a Treo 700w and as a Skype headset on my PC (using a USB Bluetooth transceiver).",
                  "1": "positive",
                  "3": {
                    "positive": 0.99,
                    "neutral": 0,
                    "negative": 0
                  },
                  "4": [
                    {
                      "sentiment": "positive",
                      "confidenceScores": {
                        "positive": 0.99,
                        "neutral": 0,
                        "negative": 0
                      },
                      "text": "Worked very well paired with a Treo 700w and as a Skype headset on my PC (using a USB Bluetooth transceiver).",
                      "offset": 0,
                      "length": 109
                    }
                  ],
                  "5": []
                },
                {
                  "0": "Steer clear of this product and go with the genuine Palm replacementr pens, which come in a three-pack.",
                  "1": "neutral",
                  "3": {
                    "positive": 0.03,
                    "neutral": 0.83,
                    "negative": 0.14
                  },
                  "4": [
                    {
                      "sentiment": "neutral",
                      "confidenceScores": {
                        "positive": 0.03,
                        "neutral": 0.83,
                        "negative": 0.14
                      },
                      "text": "Steer clear of this product and go with the genuine Palm replacementr pens, which come in a three-pack.",
                      "offset": 0,
                      "length": 103
                    }
                  ],
                  "5": []
                },
                {
                  "0": "DO NOT BUY DO NOT BUYIT SUCKS",
                  "1": "negative",
                  "3": {
                    "positive": 0,
                    "neutral": 0.01,
                    "negative": 0.99
                  },
                  "4": [
                    {
                      "sentiment": "negative",
                      "confidenceScores": {
                        "positive": 0,
                        "neutral": 0.01,
                        "negative": 0.99
                      },
                      "text": "DO NOT BUY DO NOT BUYIT SUCKS",
                      "offset": 0,
                      "length": 29
                    }
                  ],
                  "5": []
                },
                {
                  "0": "This is a great product..... sure beats using your fingers!.",
                  "1": "positive",
                  "3": {
                    "positive": 0.88,
                    "neutral": 0.11,
                    "negative": 0.01
                  },
                  "4": [
                    {
                      "sentiment": "positive",
                      "confidenceScores": {
                        "positive": 1,
                        "neutral": 0,
                        "negative": 0
                      },
                      "text": "This is a great product..... ",
                      "offset": 0,
                      "length": 29
                    },
                    {
                      "sentiment": "positive",
                      "confidenceScores": {
                        "positive": 0.77,
                        "neutral": 0.21,
                        "negative": 0.02
                      },
                      "text": "sure beats using your fingers!.",
                      "offset": 29,
                      "length": 31
                    }
                  ],
                  "5": []
                },
                {
                  "0": "Plus, I seriously do not believe it is worth its steep price point.",
                  "1": "negative",
                  "3": {
                    "positive": 0,
                    "neutral": 0.02,
                    "negative": 0.98
                  },
                  "4": [
                    {
                      "sentiment": "negative",
                      "confidenceScores": {
                        "positive": 0,
                        "neutral": 0.02,
                        "negative": 0.98
                      },
                      "text": "Plus, I seriously do not believe it is worth its steep price point.",
                      "offset": 0,
                      "length": 67
                    }
                  ],
                  "5": []
                },
                {
                  "0": "All the other cases I've tried normally fall apart after a few months but this one seems to be in for the long haul.",
                  "1": "negative",
                  "3": {
                    "positive": 0,
                    "neutral": 0.01,
                    "negative": 0.99
                  },
                  "4": [
                    {
                      "sentiment": "negative",
                      "confidenceScores": {
                        "positive": 0,
                        "neutral": 0.01,
                        "negative": 0.99
                      },
                      "text": "All the other cases I've tried normally fall apart after a few months but this one seems to be in for the long haul.",
                      "offset": 0,
                      "length": 116
                    }
                  ],
                  "5": []
                },
                {
                  "0": "Very Dissapointing Performance.",
                  "1": "negative",
                  "3": {
                    "positive": 0,
                    "neutral": 0,
                    "negative": 0.99
                  },
                  "4": [
                    {
                      "sentiment": "negative",
                      "confidenceScores": {
                        "positive": 0,
                        "neutral": 0,
                        "negative": 0.99
                      },
                      "text": "Very Dissapointing Performance.",
                      "offset": 0,
                      "length": 31
                    }
                  ],
                  "5": []
                },
                {
                  "0": "Don't make the same mistake that I did and please don't buy this phone.",
                  "1": "negative",
                  "3": {
                    "positive": 0.18,
                    "neutral": 0.09,
                    "negative": 0.73
                  },
                  "4": [
                    {
                      "sentiment": "negative",
                      "confidenceScores": {
                        "positive": 0.18,
                        "neutral": 0.09,
                        "negative": 0.73
                      },
                      "text": "Don't make the same mistake that I did and please don't buy this phone.",
                      "offset": 0,
                      "length": 71
                    }
                  ],
                  "5": []
                },
                {
                  "0": "This phone might well be the worst I've ever had in any brand.",
                  "1": "negative",
                  "3": {
                    "positive": 0,
                    "neutral": 0,
                    "negative": 0.99
                  },
                  "4": [
                    {
                      "sentiment": "negative",
                      "confidenceScores": {
                        "positive": 0,
                        "neutral": 0,
                        "negative": 0.99
                      },
                      "text": "This phone might well be the worst I've ever had in any brand.",
                      "offset": 0,
                      "length": 62
                    }
                  ],
                  "5": []
                },
                {
                  "0": "Case was more or less an extra that I originally put on but later discarded because it scratched my ear.",
                  "1": "negative",
                  "3": {
                    "positive": 0,
                    "neutral": 0.01,
                    "negative": 0.99
                  },
                  "4": [
                    {
                      "sentiment": "negative",
                      "confidenceScores": {
                        "positive": 0,
                        "neutral": 0.01,
                        "negative": 0.99
                      },
                      "text": "Case was more or less an extra that I originally put on but later discarded because it scratched my ear.",
                      "offset": 0,
                      "length": 104
                    }
                  ],
                  "5": []
                },
                {
                  "0": "I recommend iGo to anyone with different brand cell phones/mp3 players in the family.",
                  "1": "positive",
                  "3": {
                    "positive": 0.95,
                    "neutral": 0.04,
                    "negative": 0.01
                  },
                  "4": [
                    {
                      "sentiment": "positive",
                      "confidenceScores": {
                        "positive": 0.95,
                        "neutral": 0.04,
                        "negative": 0.01
                      },
                      "text": "I recommend iGo to anyone with different brand cell phones/mp3 players in the family.",
                      "offset": 0,
                      "length": 85
                    }
                  ],
                  "5": []
                },
                {
                  "0": "Don't bother - go to the store.",
                  "1": "neutral",
                  "3": {
                    "positive": 0.13,
                    "neutral": 0.83,
                    "negative": 0.04
                  },
                  "4": [
                    {
                      "sentiment": "neutral",
                      "confidenceScores": {
                        "positive": 0.13,
                        "neutral": 0.83,
                        "negative": 0.04
                      },
                      "text": "Don't bother - go to the store.",
                      "offset": 0,
                      "length": 31
                    }
                  ],
                  "5": []
                },
                {
                  "0": "I posted more detailed comments under the grey or black phone, but i have the Fire Red and it's a great color!",
                  "1": "positive",
                  "3": {
                    "positive": 0.99,
                    "neutral": 0,
                    "negative": 0
                  },
                  "4": [
                    {
                      "sentiment": "positive",
                      "confidenceScores": {
                        "positive": 0.99,
                        "neutral": 0,
                        "negative": 0
                      },
                      "text": "I posted more detailed comments under the grey or black phone, but i have the Fire Red and it's a great color!",
                      "offset": 0,
                      "length": 110
                    }
                  ],
                  "5": []
                },
                {
                  "0": "I did not have any problem with this item and would order it again if needed.",
                  "1": "positive",
                  "3": {
                    "positive": 0.9,
                    "neutral": 0.06,
                    "negative": 0.04
                  },
                  "4": [
                    {
                      "sentiment": "positive",
                      "confidenceScores": {
                        "positive": 0.9,
                        "neutral": 0.06,
                        "negative": 0.04
                      },
                      "text": "I did not have any problem with this item and would order it again if needed.",
                      "offset": 0,
                      "length": 77
                    }
                  ],
                  "5": []
                },
                {
                  "0": "You get what you pay for I guess.",
                  "1": "neutral",
                  "3": {
                    "positive": 0.04,
                    "neutral": 0.95,
                    "negative": 0.02
                  },
                  "4": [
                    {
                      "sentiment": "neutral",
                      "confidenceScores": {
                        "positive": 0.04,
                        "neutral": 0.95,
                        "negative": 0.02
                      },
                      "text": "You get what you pay for I guess.",
                      "offset": 0,
                      "length": 33
                    }
                  ],
                  "5": []
                },
                {
                  "0": "Not only did the software do a great job of this, I could also make my own ringtones form my existing CDs without an internet connection.",
                  "1": "positive",
                  "3": {
                    "positive": 0.99,
                    "neutral": 0,
                    "negative": 0
                  },
                  "4": [
                    {
                      "sentiment": "positive",
                      "confidenceScores": {
                        "positive": 0.99,
                        "neutral": 0,
                        "negative": 0
                      },
                      "text": "Not only did the software do a great job of this, I could also make my own ringtones form my existing CDs without an internet connection.",
                      "offset": 0,
                      "length": 137
                    }
                  ],
                  "5": []
                },
                {
                  "0": "im surprised this is a good quality car charger and there's not much reviews about it.",
                  "1": "positive",
                  "3": {
                    "positive": 0.74,
                    "neutral": 0.01,
                    "negative": 0.25
                  },
                  "4": [
                    {
                      "sentiment": "positive",
                      "confidenceScores": {
                        "positive": 0.74,
                        "neutral": 0.01,
                        "negative": 0.25
                      },
                      "text": "im surprised this is a good quality car charger and there's not much reviews about it.",
                      "offset": 0,
                      "length": 86
                    }
                  ],
                  "5": []
                },
                {
                  "0": "These are fabulous!",
                  "1": "positive",
                  "3": {
                    "positive": 0.99,
                    "neutral": 0,
                    "negative": 0
                  },
                  "4": [
                    {
                      "sentiment": "positive",
                      "confidenceScores": {
                        "positive": 0.99,
                        "neutral": 0,
                        "negative": 0
                      },
                      "text": "These are fabulous!",
                      "offset": 0,
                      "length": 19
                    }
                  ],
                  "5": []
                },
                {
                  "0": "However, BT headsets are currently not good for real time games like first-person shooters since the audio delay messes me up.",
                  "1": "negative",
                  "3": {
                    "positive": 0,
                    "neutral": 0,
                    "negative": 0.99
                  },
                  "4": [
                    {
                      "sentiment": "negative",
                      "confidenceScores": {
                        "positive": 0,
                        "neutral": 0,
                        "negative": 0.99
                      },
                      "text": "However, BT headsets are currently not good for real time games like first-person shooters since the audio delay messes me up.",
                      "offset": 0,
                      "length": 126
                    }
                  ],
                  "5": []
                },
                {
                  "0": "I used bitpim (a free program you can find on the internet)to transfer data to the phone.The price of the cable was excellent.",
                  "1": "positive",
                  "3": {
                    "positive": 1,
                    "neutral": 0,
                    "negative": 0
                  },
                  "4": [
                    {
                      "sentiment": "neutral",
                      "confidenceScores": {
                        "positive": 0.02,
                        "neutral": 0.97,
                        "negative": 0.01
                      },
                      "text": "I used bitpim (a free program you can find on the internet)to transfer data to the phone.",
                      "offset": 0,
                      "length": 89
                    },
                    {
                      "sentiment": "positive",
                      "confidenceScores": {
                        "positive": 1,
                        "neutral": 0,
                        "negative": 0
                      },
                      "text": "The price of the cable was excellent.",
                      "offset": 89,
                      "length": 37
                    }
                  ],
                  "5": []
                },
                {
                  "0": "Disappointing accessory from a good manufacturer.",
                  "1": "negative",
                  "3": {
                    "positive": 0.07,
                    "neutral": 0,
                    "negative": 0.93
                  },
                  "4": [
                    {
                      "sentiment": "negative",
                      "confidenceScores": {
                        "positive": 0.07,
                        "neutral": 0,
                        "negative": 0.93
                      },
                      "text": "Disappointing accessory from a good manufacturer.",
                      "offset": 0,
                      "length": 49
                    }
                  ],
                  "5": []
                },
                {
                  "0": "Performed awful -- muffled, tinny incoming sound and severe echo for those on the other end of the call.",
                  "1": "negative",
                  "3": {
                    "positive": 0,
                    "neutral": 0,
                    "negative": 1
                  },
                  "4": [
                    {
                      "sentiment": "negative",
                      "confidenceScores": {
                        "positive": 0,
                        "neutral": 0,
                        "negative": 1
                      },
                      "text": "Performed awful -- muffled, tinny incoming sound and severe echo for those on the other end of the call.",
                      "offset": 0,
                      "length": 104
                    }
                  ],
                  "5": []
                },
                {
                  "0": "Very wind-resistant.",
                  "1": "neutral",
                  "3": {
                    "positive": 0.09,
                    "neutral": 0.9,
                    "negative": 0.02
                  },
                  "4": [
                    {
                      "sentiment": "neutral",
                      "confidenceScores": {
                        "positive": 0.09,
                        "neutral": 0.9,
                        "negative": 0.02
                      },
                      "text": "Very wind-resistant.",
                      "offset": 0,
                      "length": 20
                    }
                  ],
                  "5": []
                },
                {
                  "0": "Obviously they have a terrible customer service, so you get what you pay for.",
                  "1": "negative",
                  "3": {
                    "positive": 0,
                    "neutral": 0,
                    "negative": 0.99
                  },
                  "4": [
                    {
                      "sentiment": "negative",
                      "confidenceScores": {
                        "positive": 0,
                        "neutral": 0,
                        "negative": 0.99
                      },
                      "text": "Obviously they have a terrible customer service, so you get what you pay for.",
                      "offset": 0,
                      "length": 77
                    }
                  ],
                  "5": []
                },
                {
                  "0": "They do not last forever, but is not overly expensive to replace.Easy to operate and the sound is much better than others I have tried.",
                  "1": "positive",
                  "3": {
                    "positive": 0.72,
                    "neutral": 0.22,
                    "negative": 0.06
                  },
                  "4": [
                    {
                      "sentiment": "positive",
                      "confidenceScores": {
                        "positive": 0.46,
                        "neutral": 0.43,
                        "negative": 0.11
                      },
                      "text": "They do not last forever, but is not overly expensive to replace.",
                      "offset": 0,
                      "length": 65
                    },
                    {
                      "sentiment": "positive",
                      "confidenceScores": {
                        "positive": 0.99,
                        "neutral": 0,
                        "negative": 0.01
                      },
                      "text": "Easy to operate and the sound is much better than others I have tried.",
                      "offset": 65,
                      "length": 70
                    }
                  ],
                  "5": []
                },
                {
                  "0": "I contacted the company and they told me that, although the unit was still under warranty, if I couldn't produce my receipt I was out of luck.",
                  "1": "negative",
                  "3": {
                    "positive": 0,
                    "neutral": 0.01,
                    "negative": 0.99
                  },
                  "4": [
                    {
                      "sentiment": "negative",
                      "confidenceScores": {
                        "positive": 0,
                        "neutral": 0.01,
                        "negative": 0.99
                      },
                      "text": "I contacted the company and they told me that, although the unit was still under warranty, if I couldn't produce my receipt I was out of luck.",
                      "offset": 0,
                      "length": 142
                    }
                  ],
                  "5": []
                },
                {
                  "0": "Linksys should have some way to exchange a bad phone for a refurb unit or something!",
                  "1": "negative",
                  "3": {
                    "positive": 0,
                    "neutral": 0.01,
                    "negative": 0.99
                  },
                  "4": [
                    {
                      "sentiment": "negative",
                      "confidenceScores": {
                        "positive": 0,
                        "neutral": 0.01,
                        "negative": 0.99
                      },
                      "text": "Linksys should have some way to exchange a bad phone for a refurb unit or something!",
                      "offset": 0,
                      "length": 84
                    }
                  ],
                  "5": []
                },
                {
                  "0": "Phone is sturdy as all nokia bar phones are.",
                  "1": "positive",
                  "3": {
                    "positive": 0.87,
                    "neutral": 0.11,
                    "negative": 0.01
                  },
                  "4": [
                    {
                      "sentiment": "positive",
                      "confidenceScores": {
                        "positive": 0.87,
                        "neutral": 0.11,
                        "negative": 0.01
                      },
                      "text": "Phone is sturdy as all nokia bar phones are.",
                      "offset": 0,
                      "length": 44
                    }
                  ],
                  "5": []
                },
                {
                  "0": "Great phone.",
                  "1": "positive",
                  "3": {
                    "positive": 1,
                    "neutral": 0,
                    "negative": 0
                  },
                  "4": [
                    {
                      "sentiment": "positive",
                      "confidenceScores": {
                        "positive": 1,
                        "neutral": 0,
                        "negative": 0
                      },
                      "text": "Great phone.",
                      "offset": 0,
                      "length": 12
                    }
                  ],
                  "5": []
                },
                {
                  "0": "When I placed my treo into the case, not only was it NOT snug, but there was A LOT of extra room on the sides.",
                  "1": "negative",
                  "3": {
                    "positive": 0.01,
                    "neutral": 0.03,
                    "negative": 0.96
                  },
                  "4": [
                    {
                      "sentiment": "negative",
                      "confidenceScores": {
                        "positive": 0.01,
                        "neutral": 0.03,
                        "negative": 0.96
                      },
                      "text": "When I placed my treo into the case, not only was it NOT snug, but there was A LOT of extra room on the sides.",
                      "offset": 0,
                      "length": 110
                    }
                  ],
                  "5": []
                },
                {
                  "0": "I'm pleased.",
                  "1": "positive",
                  "3": {
                    "positive": 0.97,
                    "neutral": 0.02,
                    "negative": 0.01
                  },
                  "4": [
                    {
                      "sentiment": "positive",
                      "confidenceScores": {
                        "positive": 0.97,
                        "neutral": 0.02,
                        "negative": 0.01
                      },
                      "text": "I'm pleased.",
                      "offset": 0,
                      "length": 12
                    }
                  ],
                  "5": []
                },
                {
                  "0": "Battery is terrible.",
                  "1": "negative",
                  "3": {
                    "positive": 0.01,
                    "neutral": 0,
                    "negative": 0.99
                  },
                  "4": [
                    {
                      "sentiment": "negative",
                      "confidenceScores": {
                        "positive": 0.01,
                        "neutral": 0,
                        "negative": 0.99
                      },
                      "text": "Battery is terrible.",
                      "offset": 0,
                      "length": 20
                    }
                  ],
                  "5": []
                },
                {
                  "0": "I found the product to be easy to set up and use.",
                  "1": "positive",
                  "3": {
                    "positive": 0.99,
                    "neutral": 0.01,
                    "negative": 0
                  },
                  "4": [
                    {
                      "sentiment": "positive",
                      "confidenceScores": {
                        "positive": 0.99,
                        "neutral": 0.01,
                        "negative": 0
                      },
                      "text": "I found the product to be easy to set up and use.",
                      "offset": 0,
                      "length": 49
                    }
                  ],
                  "5": []
                },
                {
                  "0": "The earpiece on this is too large or too heavy...it keeps falling out of my ear.",
                  "1": "negative",
                  "3": {
                    "positive": 0.01,
                    "neutral": 0.08,
                    "negative": 0.92
                  },
                  "4": [
                    {
                      "sentiment": "negative",
                      "confidenceScores": {
                        "positive": 0,
                        "neutral": 0.01,
                        "negative": 0.99
                      },
                      "text": "The earpiece on this is too large or too heavy...",
                      "offset": 0,
                      "length": 49
                    },
                    {
                      "sentiment": "negative",
                      "confidenceScores": {
                        "positive": 0.01,
                        "neutral": 0.15,
                        "negative": 0.84
                      },
                      "text": "it keeps falling out of my ear.",
                      "offset": 49,
                      "length": 31
                    }
                  ],
                  "5": []
                },
                {
                  "0": "Utter crap.. Sound quality is TERRIBLE.",
                  "1": "negative",
                  "3": {
                    "positive": 0.01,
                    "neutral": 0.01,
                    "negative": 0.98
                  },
                  "4": [
                    {
                      "sentiment": "negative",
                      "confidenceScores": {
                        "positive": 0.02,
                        "neutral": 0.01,
                        "negative": 0.97
                      },
                      "text": "Utter crap.. ",
                      "offset": 0,
                      "length": 13
                    },
                    {
                      "sentiment": "negative",
                      "confidenceScores": {
                        "positive": 0,
                        "neutral": 0,
                        "negative": 0.99
                      },
                      "text": "Sound quality is TERRIBLE.",
                      "offset": 13,
                      "length": 26
                    }
                  ],
                  "5": []
                },
                {
                  "0": "The charger arrived within the promised timeframe, but it did not work.",
                  "1": "negative",
                  "3": {
                    "positive": 0,
                    "neutral": 0.01,
                    "negative": 0.99
                  },
                  "4": [
                    {
                      "sentiment": "negative",
                      "confidenceScores": {
                        "positive": 0,
                        "neutral": 0.01,
                        "negative": 0.99
                      },
                      "text": "The charger arrived within the promised timeframe, but it did not work.",
                      "offset": 0,
                      "length": 71
                    }
                  ],
                  "5": []
                },
                {
                  "0": "No ear loop needed, it's tiny and the sound is great.",
                  "1": "positive",
                  "3": {
                    "positive": 0.99,
                    "neutral": 0,
                    "negative": 0.01
                  },
                  "4": [
                    {
                      "sentiment": "positive",
                      "confidenceScores": {
                        "positive": 0.99,
                        "neutral": 0,
                        "negative": 0.01
                      },
                      "text": "No ear loop needed, it's tiny and the sound is great.",
                      "offset": 0,
                      "length": 53
                    }
                  ],
                  "5": []
                },
                {
                  "0": "Finally, after three or four times the spring of the latch broke and I could not use it any longer on the visor.",
                  "1": "negative",
                  "3": {
                    "positive": 0,
                    "neutral": 0.01,
                    "negative": 0.99
                  },
                  "4": [
                    {
                      "sentiment": "negative",
                      "confidenceScores": {
                        "positive": 0,
                        "neutral": 0.01,
                        "negative": 0.99
                      },
                      "text": "Finally, after three or four times the spring of the latch broke and I could not use it any longer on the visor.",
                      "offset": 0,
                      "length": 112
                    }
                  ],
                  "5": []
                },
                {
                  "0": "The handsfree part works fine, but then the car tries to download the address book, and the Treo reboots.Overall, I still rate this device high.",
                  "1": "positive",
                  "3": {
                    "positive": 0.65,
                    "neutral": 0.13,
                    "negative": 0.22
                  },
                  "4": [
                    {
                      "sentiment": "positive",
                      "confidenceScores": {
                        "positive": 0.56,
                        "neutral": 0.13,
                        "negative": 0.31
                      },
                      "text": "The handsfree part works fine, but then the car tries to download the address book, and the Treo reboots.",
                      "offset": 0,
                      "length": 105
                    },
                    {
                      "sentiment": "positive",
                      "confidenceScores": {
                        "positive": 0.73,
                        "neutral": 0.14,
                        "negative": 0.13
                      },
                      "text": "Overall, I still rate this device high.",
                      "offset": 105,
                      "length": 39
                    }
                  ],
                  "5": []
                },
                {
                  "0": "Talk about USELESS customer service.",
                  "1": "positive",
                  "3": {
                    "positive": 0.9,
                    "neutral": 0.04,
                    "negative": 0.06
                  },
                  "4": [
                    {
                      "sentiment": "positive",
                      "confidenceScores": {
                        "positive": 0.9,
                        "neutral": 0.04,
                        "negative": 0.06
                      },
                      "text": "Talk about USELESS customer service.",
                      "offset": 0,
                      "length": 36
                    }
                  ],
                  "5": []
                },
                {
                  "0": "\"It felt too light and \"\"tinny.\"\".\"",
                  "1": "negative",
                  "3": {
                    "positive": 0,
                    "neutral": 0.01,
                    "negative": 0.99
                  },
                  "4": [
                    {
                      "sentiment": "negative",
                      "confidenceScores": {
                        "positive": 0,
                        "neutral": 0.01,
                        "negative": 0.99
                      },
                      "text": "\"It felt too light and \"\"tinny.\"\".\"",
                      "offset": 0,
                      "length": 35
                    }
                  ],
                  "5": []
                },
                {
                  "0": "This does not fit the Palm Tungsten E2 and it broke the first time I tried to plug it in.",
                  "1": "negative",
                  "3": {
                    "positive": 0,
                    "neutral": 0,
                    "negative": 0.99
                  },
                  "4": [
                    {
                      "sentiment": "negative",
                      "confidenceScores": {
                        "positive": 0,
                        "neutral": 0,
                        "negative": 0.99
                      },
                      "text": "This does not fit the Palm Tungsten E2 and it broke the first time I tried to plug it in.",
                      "offset": 0,
                      "length": 89
                    }
                  ],
                  "5": []
                },
                {
                  "0": "I'm happy about this purchase- good quality and low price.",
                  "1": "positive",
                  "3": {
                    "positive": 1,
                    "neutral": 0,
                    "negative": 0
                  },
                  "4": [
                    {
                      "sentiment": "positive",
                      "confidenceScores": {
                        "positive": 1,
                        "neutral": 0,
                        "negative": 0
                      },
                      "text": "I'm happy about this purchase- good quality and low price.",
                      "offset": 0,
                      "length": 58
                    }
                  ],
                  "5": []
                },
                {
                  "0": "I love the look and feel of Samsung flipphones.",
                  "1": "positive",
                  "3": {
                    "positive": 0.99,
                    "neutral": 0.01,
                    "negative": 0
                  },
                  "4": [
                    {
                      "sentiment": "positive",
                      "confidenceScores": {
                        "positive": 0.99,
                        "neutral": 0.01,
                        "negative": 0
                      },
                      "text": "I love the look and feel of Samsung flipphones.",
                      "offset": 0,
                      "length": 47
                    }
                  ],
                  "5": []
                },
                {
                  "0": "Its well-designed and very sharp -- the blue is a very nice color.",
                  "1": "positive",
                  "3": {
                    "positive": 0.99,
                    "neutral": 0,
                    "negative": 0
                  },
                  "4": [
                    {
                      "sentiment": "positive",
                      "confidenceScores": {
                        "positive": 0.99,
                        "neutral": 0,
                        "negative": 0
                      },
                      "text": "Its well-designed and very sharp -- the blue is a very nice color.",
                      "offset": 0,
                      "length": 66
                    }
                  ],
                  "5": []
                },
                {
                  "0": "Does everything it should and more.",
                  "1": "positive",
                  "3": {
                    "positive": 0.98,
                    "neutral": 0.01,
                    "negative": 0
                  },
                  "4": [
                    {
                      "sentiment": "positive",
                      "confidenceScores": {
                        "positive": 0.98,
                        "neutral": 0.01,
                        "negative": 0
                      },
                      "text": "Does everything it should and more.",
                      "offset": 0,
                      "length": 35
                    }
                  ],
                  "5": []
                },
                {
                  "0": "I could not recommend these more.",
                  "1": "negative",
                  "3": {
                    "positive": 0.06,
                    "neutral": 0.01,
                    "negative": 0.93
                  },
                  "4": [
                    {
                      "sentiment": "negative",
                      "confidenceScores": {
                        "positive": 0.06,
                        "neutral": 0.01,
                        "negative": 0.93
                      },
                      "text": "I could not recommend these more.",
                      "offset": 0,
                      "length": 33
                    }
                  ],
                  "5": []
                },
                {
                  "0": "Nice Sound.",
                  "1": "positive",
                  "3": {
                    "positive": 1,
                    "neutral": 0,
                    "negative": 0
                  },
                  "4": [
                    {
                      "sentiment": "positive",
                      "confidenceScores": {
                        "positive": 1,
                        "neutral": 0,
                        "negative": 0
                      },
                      "text": "Nice Sound.",
                      "offset": 0,
                      "length": 11
                    }
                  ],
                  "5": []
                },
                {
                  "0": "Looks good in the picture, but this case was a huge disappointment!!",
                  "1": "negative",
                  "3": {
                    "positive": 0.02,
                    "neutral": 0,
                    "negative": 0.97
                  },
                  "4": [
                    {
                      "sentiment": "negative",
                      "confidenceScores": {
                        "positive": 0.02,
                        "neutral": 0,
                        "negative": 0.97
                      },
                      "text": "Looks good in the picture, but this case was a huge disappointment!!",
                      "offset": 0,
                      "length": 68
                    }
                  ],
                  "5": []
                },
                {
                  "0": "Much less than the jawbone I was going to replace it with.",
                  "1": "neutral",
                  "3": {
                    "positive": 0.02,
                    "neutral": 0.86,
                    "negative": 0.12
                  },
                  "4": [
                    {
                      "sentiment": "neutral",
                      "confidenceScores": {
                        "positive": 0.02,
                        "neutral": 0.86,
                        "negative": 0.12
                      },
                      "text": "Much less than the jawbone I was going to replace it with.",
                      "offset": 0,
                      "length": 58
                    }
                  ],
                  "5": []
                },
                {
                  "0": "Setup went very smoothly.",
                  "1": "positive",
                  "3": {
                    "positive": 0.95,
                    "neutral": 0.03,
                    "negative": 0.02
                  },
                  "4": [
                    {
                      "sentiment": "positive",
                      "confidenceScores": {
                        "positive": 0.95,
                        "neutral": 0.03,
                        "negative": 0.02
                      },
                      "text": "Setup went very smoothly.",
                      "offset": 0,
                      "length": 25
                    }
                  ],
                  "5": []
                },
                {
                  "0": "its extremely slow and takes forever to do anything with it.",
                  "1": "negative",
                  "3": {
                    "positive": 0.01,
                    "neutral": 0.03,
                    "negative": 0.96
                  },
                  "4": [
                    {
                      "sentiment": "negative",
                      "confidenceScores": {
                        "positive": 0.01,
                        "neutral": 0.03,
                        "negative": 0.96
                      },
                      "text": "its extremely slow and takes forever to do anything with it.",
                      "offset": 0,
                      "length": 60
                    }
                  ],
                  "5": []
                },
                {
                  "0": "\"A must study for anyone interested in the \"\"worst sins\"\" of industrial design.\"",
                  "1": "negative",
                  "3": {
                    "positive": 0.12,
                    "neutral": 0.01,
                    "negative": 0.87
                  },
                  "4": [
                    {
                      "sentiment": "negative",
                      "confidenceScores": {
                        "positive": 0.12,
                        "neutral": 0.01,
                        "negative": 0.87
                      },
                      "text": "\"A must study for anyone interested in the \"\"worst sins\"\" of industrial design.\"",
                      "offset": 0,
                      "length": 80
                    }
                  ],
                  "5": []
                },
                {
                  "0": "The first thing that happened was that the tracking was off.",
                  "1": "negative",
                  "3": {
                    "positive": 0.01,
                    "neutral": 0.31,
                    "negative": 0.68
                  },
                  "4": [
                    {
                      "sentiment": "negative",
                      "confidenceScores": {
                        "positive": 0.01,
                        "neutral": 0.31,
                        "negative": 0.68
                      },
                      "text": "The first thing that happened was that the tracking was off.",
                      "offset": 0,
                      "length": 60
                    }
                  ],
                  "5": []
                },
                {
                  "0": "It is well made, easy to access the phone and has a handy, detachable belt clip.",
                  "1": "positive",
                  "3": {
                    "positive": 0.99,
                    "neutral": 0.01,
                    "negative": 0
                  },
                  "4": [
                    {
                      "sentiment": "positive",
                      "confidenceScores": {
                        "positive": 0.99,
                        "neutral": 0.01,
                        "negative": 0
                      },
                      "text": "It is well made, easy to access the phone and has a handy, detachable belt clip.",
                      "offset": 0,
                      "length": 80
                    }
                  ],
                  "5": []
                },
                {
                  "0": "Then I had to continue pairing it periodically since it somehow kept dropping.",
                  "1": "neutral",
                  "3": {
                    "positive": 0.02,
                    "neutral": 0.75,
                    "negative": 0.24
                  },
                  "4": [
                    {
                      "sentiment": "neutral",
                      "confidenceScores": {
                        "positive": 0.02,
                        "neutral": 0.75,
                        "negative": 0.24
                      },
                      "text": "Then I had to continue pairing it periodically since it somehow kept dropping.",
                      "offset": 0,
                      "length": 78
                    }
                  ],
                  "5": []
                },
                {
                  "0": "Can't upload ringtones from a third party.",
                  "1": "negative",
                  "3": {
                    "positive": 0.01,
                    "neutral": 0.08,
                    "negative": 0.91
                  },
                  "4": [
                    {
                      "sentiment": "negative",
                      "confidenceScores": {
                        "positive": 0.01,
                        "neutral": 0.08,
                        "negative": 0.91
                      },
                      "text": "Can't upload ringtones from a third party.",
                      "offset": 0,
                      "length": 42
                    }
                  ],
                  "5": []
                },
                {
                  "0": "Bluetooth does not work, phone locks up, screens just flash up and now it just makes calls randomly while in my pocket locked.",
                  "1": "negative",
                  "3": {
                    "positive": 0,
                    "neutral": 0.01,
                    "negative": 0.99
                  },
                  "4": [
                    {
                      "sentiment": "negative",
                      "confidenceScores": {
                        "positive": 0,
                        "neutral": 0.01,
                        "negative": 0.99
                      },
                      "text": "Bluetooth does not work, phone locks up, screens just flash up and now it just makes calls randomly while in my pocket locked.",
                      "offset": 0,
                      "length": 126
                    }
                  ],
                  "5": []
                },
                {
                  "0": "Truly awful.",
                  "1": "negative",
                  "3": {
                    "positive": 0.01,
                    "neutral": 0,
                    "negative": 0.99
                  },
                  "4": [
                    {
                      "sentiment": "negative",
                      "confidenceScores": {
                        "positive": 0.01,
                        "neutral": 0,
                        "negative": 0.99
                      },
                      "text": "Truly awful.",
                      "offset": 0,
                      "length": 12
                    }
                  ],
                  "5": []
                },
                {
                  "0": "It works fine on my Motorola 325 cellphone, and a lot better than the worn-out battery did.",
                  "1": "positive",
                  "3": {
                    "positive": 0.99,
                    "neutral": 0,
                    "negative": 0
                  },
                  "4": [
                    {
                      "sentiment": "positive",
                      "confidenceScores": {
                        "positive": 0.99,
                        "neutral": 0,
                        "negative": 0
                      },
                      "text": "It works fine on my Motorola 325 cellphone, and a lot better than the worn-out battery did.",
                      "offset": 0,
                      "length": 91
                    }
                  ],
                  "5": []
                },
                {
                  "0": "The volume for the ringer is REAL good (you have choices how loud).",
                  "1": "positive",
                  "3": {
                    "positive": 0.99,
                    "neutral": 0.01,
                    "negative": 0.01
                  },
                  "4": [
                    {
                      "sentiment": "positive",
                      "confidenceScores": {
                        "positive": 0.99,
                        "neutral": 0.01,
                        "negative": 0.01
                      },
                      "text": "The volume for the ringer is REAL good (you have choices how loud).",
                      "offset": 0,
                      "length": 67
                    }
                  ],
                  "5": []
                },
                {
                  "0": "And none of the tones is acceptable.",
                  "1": "negative",
                  "3": {
                    "positive": 0,
                    "neutral": 0.03,
                    "negative": 0.97
                  },
                  "4": [
                    {
                      "sentiment": "negative",
                      "confidenceScores": {
                        "positive": 0,
                        "neutral": 0.03,
                        "negative": 0.97
                      },
                      "text": "And none of the tones is acceptable.",
                      "offset": 0,
                      "length": 36
                    }
                  ],
                  "5": []
                },
                {
                  "0": "camera color balance is AWFUL.",
                  "1": "negative",
                  "3": {
                    "positive": 0,
                    "neutral": 0.01,
                    "negative": 0.99
                  },
                  "4": [
                    {
                      "sentiment": "negative",
                      "confidenceScores": {
                        "positive": 0,
                        "neutral": 0.01,
                        "negative": 0.99
                      },
                      "text": "camera color balance is AWFUL.",
                      "offset": 0,
                      "length": 30
                    }
                  ],
                  "5": []
                },
                {
                  "0": "This product is clearly not ready for prime time, I don't care how cool it looks, if you can't tell a call is coming in it's worthless.",
                  "1": "negative",
                  "3": {
                    "positive": 0,
                    "neutral": 0,
                    "negative": 0.99
                  },
                  "4": [
                    {
                      "sentiment": "negative",
                      "confidenceScores": {
                        "positive": 0,
                        "neutral": 0,
                        "negative": 0.99
                      },
                      "text": "This product is clearly not ready for prime time, I don't care how cool it looks, if you can't tell a call is coming in it's worthless.",
                      "offset": 0,
                      "length": 135
                    }
                  ],
                  "5": []
                },
                {
                  "0": "I love the ringtones because they are so upbeat!",
                  "1": "positive",
                  "3": {
                    "positive": 0.99,
                    "neutral": 0,
                    "negative": 0
                  },
                  "4": [
                    {
                      "sentiment": "positive",
                      "confidenceScores": {
                        "positive": 0.99,
                        "neutral": 0,
                        "negative": 0
                      },
                      "text": "I love the ringtones because they are so upbeat!",
                      "offset": 0,
                      "length": 48
                    }
                  ],
                  "5": []
                },
                {
                  "0": "Chinese Forgeries Abound!.",
                  "1": "negative",
                  "3": {
                    "positive": 0.02,
                    "neutral": 0.07,
                    "negative": 0.92
                  },
                  "4": [
                    {
                      "sentiment": "negative",
                      "confidenceScores": {
                        "positive": 0.02,
                        "neutral": 0.07,
                        "negative": 0.92
                      },
                      "text": "Chinese Forgeries Abound!.",
                      "offset": 0,
                      "length": 26
                    }
                  ],
                  "5": []
                },
                {
                  "0": "Easy to pair with my Samsung Cell.",
                  "1": "positive",
                  "3": {
                    "positive": 0.99,
                    "neutral": 0.01,
                    "negative": 0
                  },
                  "4": [
                    {
                      "sentiment": "positive",
                      "confidenceScores": {
                        "positive": 0.99,
                        "neutral": 0.01,
                        "negative": 0
                      },
                      "text": "Easy to pair with my Samsung Cell.",
                      "offset": 0,
                      "length": 34
                    }
                  ],
                  "5": []
                },
                {
                  "0": "The instructions didn't explain that a microphone jack could be used.",
                  "1": "negative",
                  "3": {
                    "positive": 0.01,
                    "neutral": 0.07,
                    "negative": 0.92
                  },
                  "4": [
                    {
                      "sentiment": "negative",
                      "confidenceScores": {
                        "positive": 0.01,
                        "neutral": 0.07,
                        "negative": 0.92
                      },
                      "text": "The instructions didn't explain that a microphone jack could be used.",
                      "offset": 0,
                      "length": 69
                    }
                  ],
                  "5": []
                },
                {
                  "0": "i would advise to not purchase this item it never worked very well.",
                  "1": "negative",
                  "3": {
                    "positive": 0.01,
                    "neutral": 0,
                    "negative": 0.99
                  },
                  "4": [
                    {
                      "sentiment": "negative",
                      "confidenceScores": {
                        "positive": 0.01,
                        "neutral": 0,
                        "negative": 0.99
                      },
                      "text": "i would advise to not purchase this item it never worked very well.",
                      "offset": 0,
                      "length": 67
                    }
                  ],
                  "5": []
                },
                {
                  "0": "Too bad you have to pay up to $$$ a month for the service!",
                  "1": "negative",
                  "3": {
                    "positive": 0.01,
                    "neutral": 0,
                    "negative": 0.99
                  },
                  "4": [
                    {
                      "sentiment": "negative",
                      "confidenceScores": {
                        "positive": 0.01,
                        "neutral": 0,
                        "negative": 0.99
                      },
                      "text": "Too bad you have to pay up to $$$ a month for the service!",
                      "offset": 0,
                      "length": 58
                    }
                  ],
                  "5": []
                },
                {
                  "0": "Works well.",
                  "1": "positive",
                  "3": {
                    "positive": 0.99,
                    "neutral": 0,
                    "negative": 0
                  },
                  "4": [
                    {
                      "sentiment": "positive",
                      "confidenceScores": {
                        "positive": 0.99,
                        "neutral": 0,
                        "negative": 0
                      },
                      "text": "Works well.",
                      "offset": 0,
                      "length": 11
                    }
                  ],
                  "5": []
                },
                {
                  "0": "The nokia CA-42 USB cable did not work with my phone.",
                  "1": "negative",
                  "3": {
                    "positive": 0,
                    "neutral": 0.01,
                    "negative": 0.99
                  },
                  "4": [
                    {
                      "sentiment": "negative",
                      "confidenceScores": {
                        "positive": 0,
                        "neutral": 0.01,
                        "negative": 0.99
                      },
                      "text": "The nokia CA-42 USB cable did not work with my phone.",
                      "offset": 0,
                      "length": 53
                    }
                  ],
                  "5": []
                },
                {
                  "0": "Clear crisp sound.",
                  "1": "positive",
                  "3": {
                    "positive": 0.68,
                    "neutral": 0.28,
                    "negative": 0.03
                  },
                  "4": [
                    {
                      "sentiment": "positive",
                      "confidenceScores": {
                        "positive": 0.68,
                        "neutral": 0.28,
                        "negative": 0.03
                      },
                      "text": "Clear crisp sound.",
                      "offset": 0,
                      "length": 18
                    }
                  ],
                  "5": []
                },
                {
                  "0": "I have to use the smallest earpieces provided, but it stays on pretty well.",
                  "1": "positive",
                  "3": {
                    "positive": 0.96,
                    "neutral": 0.03,
                    "negative": 0.01
                  },
                  "4": [
                    {
                      "sentiment": "positive",
                      "confidenceScores": {
                        "positive": 0.96,
                        "neutral": 0.03,
                        "negative": 0.01
                      },
                      "text": "I have to use the smallest earpieces provided, but it stays on pretty well.",
                      "offset": 0,
                      "length": 75
                    }
                  ],
                  "5": []
                },
                {
                  "0": "The biggest complaint I have is, the battery drains superfast.",
                  "1": "negative",
                  "3": {
                    "positive": 0,
                    "neutral": 0.01,
                    "negative": 0.99
                  },
                  "4": [
                    {
                      "sentiment": "negative",
                      "confidenceScores": {
                        "positive": 0,
                        "neutral": 0.01,
                        "negative": 0.99
                      },
                      "text": "The biggest complaint I have is, the battery drains superfast.",
                      "offset": 0,
                      "length": 62
                    }
                  ],
                  "5": []
                },
                {
                  "0": "The design might be ergonomic in theory but I could not stand having these in my ear.",
                  "1": "neutral",
                  "3": {
                    "positive": 0.05,
                    "neutral": 0.49,
                    "negative": 0.45
                  },
                  "4": [
                    {
                      "sentiment": "neutral",
                      "confidenceScores": {
                        "positive": 0.05,
                        "neutral": 0.49,
                        "negative": 0.45
                      },
                      "text": "The design might be ergonomic in theory but I could not stand having these in my ear.",
                      "offset": 0,
                      "length": 85
                    }
                  ],
                  "5": []
                },
                {
                  "0": "Do NOT buy if you want to use the holster.",
                  "1": "negative",
                  "3": {
                    "positive": 0.01,
                    "neutral": 0.12,
                    "negative": 0.87
                  },
                  "4": [
                    {
                      "sentiment": "negative",
                      "confidenceScores": {
                        "positive": 0.01,
                        "neutral": 0.12,
                        "negative": 0.87
                      },
                      "text": "Do NOT buy if you want to use the holster.",
                      "offset": 0,
                      "length": 42
                    }
                  ],
                  "5": []
                },
                {
                  "0": "The phone can also take great pictures and even video clips.",
                  "1": "positive",
                  "3": {
                    "positive": 0.99,
                    "neutral": 0,
                    "negative": 0
                  },
                  "4": [
                    {
                      "sentiment": "positive",
                      "confidenceScores": {
                        "positive": 0.99,
                        "neutral": 0,
                        "negative": 0
                      },
                      "text": "The phone can also take great pictures and even video clips.",
                      "offset": 0,
                      "length": 60
                    }
                  ],
                  "5": []
                },
                {
                  "0": "It doesn't make you look cool.",
                  "1": "negative",
                  "3": {
                    "positive": 0.01,
                    "neutral": 0.07,
                    "negative": 0.92
                  },
                  "4": [
                    {
                      "sentiment": "negative",
                      "confidenceScores": {
                        "positive": 0.01,
                        "neutral": 0.07,
                        "negative": 0.92
                      },
                      "text": "It doesn't make you look cool.",
                      "offset": 0,
                      "length": 30
                    }
                  ],
                  "5": []
                },
                {
                  "0": "Because both ears are occupied, background is not distracting at all.",
                  "1": "neutral",
                  "3": {
                    "positive": 0.22,
                    "neutral": 0.68,
                    "negative": 0.1
                  },
                  "4": [
                    {
                      "sentiment": "neutral",
                      "confidenceScores": {
                        "positive": 0.22,
                        "neutral": 0.68,
                        "negative": 0.1
                      },
                      "text": "Because both ears are occupied, background is not distracting at all.",
                      "offset": 0,
                      "length": 69
                    }
                  ],
                  "5": []
                },
                {
                  "0": "Comfortable fit - you need your headset to be comfortable for at least an hour at a time, if not for an entire day.",
                  "1": "positive",
                  "3": {
                    "positive": 0.85,
                    "neutral": 0.14,
                    "negative": 0.01
                  },
                  "4": [
                    {
                      "sentiment": "positive",
                      "confidenceScores": {
                        "positive": 0.85,
                        "neutral": 0.14,
                        "negative": 0.01
                      },
                      "text": "Comfortable fit - you need your headset to be comfortable for at least an hour at a time, if not for an entire day.",
                      "offset": 0,
                      "length": 115
                    }
                  ],
                  "5": []
                },
                {
                  "0": "Also, the phone doesn't seem to accept anything except CBR mp3s, preferably ripped by Windows Media Player.",
                  "1": "negative",
                  "3": {
                    "positive": 0,
                    "neutral": 0.04,
                    "negative": 0.95
                  },
                  "4": [
                    {
                      "sentiment": "negative",
                      "confidenceScores": {
                        "positive": 0,
                        "neutral": 0.04,
                        "negative": 0.95
                      },
                      "text": "Also, the phone doesn't seem to accept anything except CBR mp3s, preferably ripped by Windows Media Player.",
                      "offset": 0,
                      "length": 107
                    }
                  ],
                  "5": []
                },
                {
                  "0": "You can't beat the price on these.",
                  "1": "neutral",
                  "3": {
                    "positive": 0.08,
                    "neutral": 0.81,
                    "negative": 0.11
                  },
                  "4": [
                    {
                      "sentiment": "neutral",
                      "confidenceScores": {
                        "positive": 0.08,
                        "neutral": 0.81,
                        "negative": 0.11
                      },
                      "text": "You can't beat the price on these.",
                      "offset": 0,
                      "length": 34
                    }
                  ],
                  "5": []
                },
                {
                  "0": "* Comes with a strong light that you can use to light up your camera shots, and even flash SOS signals (seriously!",
                  "1": "positive",
                  "3": {
                    "positive": 0.74,
                    "neutral": 0.21,
                    "negative": 0.05
                  },
                  "4": [
                    {
                      "sentiment": "positive",
                      "confidenceScores": {
                        "positive": 0.74,
                        "neutral": 0.21,
                        "negative": 0.05
                      },
                      "text": "* Comes with a strong light that you can use to light up your camera shots, and even flash SOS signals (seriously!",
                      "offset": 0,
                      "length": 114
                    }
                  ],
                  "5": []
                },
                {
                  "0": "lightweight and works well.",
                  "1": "positive",
                  "3": {
                    "positive": 0.99,
                    "neutral": 0,
                    "negative": 0
                  },
                  "4": [
                    {
                      "sentiment": "positive",
                      "confidenceScores": {
                        "positive": 0.99,
                        "neutral": 0,
                        "negative": 0
                      },
                      "text": "lightweight and works well.",
                      "offset": 0,
                      "length": 27
                    }
                  ],
                  "5": []
                },
                {
                  "0": "So just beware.",
                  "1": "neutral",
                  "3": {
                    "positive": 0.04,
                    "neutral": 0.62,
                    "negative": 0.34
                  },
                  "4": [
                    {
                      "sentiment": "neutral",
                      "confidenceScores": {
                        "positive": 0.04,
                        "neutral": 0.62,
                        "negative": 0.34
                      },
                      "text": "So just beware.",
                      "offset": 0,
                      "length": 15
                    }
                  ],
                  "5": []
                },
                {
                  "0": "I love this cable - it allows me to connect any mini-USB device to my PC.",
                  "1": "positive",
                  "3": {
                    "positive": 0.99,
                    "neutral": 0,
                    "negative": 0
                  },
                  "4": [
                    {
                      "sentiment": "positive",
                      "confidenceScores": {
                        "positive": 0.99,
                        "neutral": 0,
                        "negative": 0
                      },
                      "text": "I love this cable - it allows me to connect any mini-USB device to my PC.",
                      "offset": 0,
                      "length": 73
                    }
                  ],
                  "5": []
                },
                {
                  "0": "So anyone near you will hear part of your conversation.",
                  "1": "neutral",
                  "3": {
                    "positive": 0.02,
                    "neutral": 0.98,
                    "negative": 0
                  },
                  "4": [
                    {
                      "sentiment": "neutral",
                      "confidenceScores": {
                        "positive": 0.02,
                        "neutral": 0.98,
                        "negative": 0
                      },
                      "text": "So anyone near you will hear part of your conversation.",
                      "offset": 0,
                      "length": 55
                    }
                  ],
                  "5": []
                },
                {
                  "0": "This is cool because most cases are just open there allowing the screen to get all scratched up.",
                  "1": "positive",
                  "3": {
                    "positive": 0.98,
                    "neutral": 0.01,
                    "negative": 0.01
                  },
                  "4": [
                    {
                      "sentiment": "positive",
                      "confidenceScores": {
                        "positive": 0.98,
                        "neutral": 0.01,
                        "negative": 0.01
                      },
                      "text": "This is cool because most cases are just open there allowing the screen to get all scratched up.",
                      "offset": 0,
                      "length": 96
                    }
                  ],
                  "5": []
                },
                {
                  "0": "I bought this phone as a replacement for my StarTac and have regretted it since.",
                  "1": "negative",
                  "3": {
                    "positive": 0,
                    "neutral": 0,
                    "negative": 0.99
                  },
                  "4": [
                    {
                      "sentiment": "negative",
                      "confidenceScores": {
                        "positive": 0,
                        "neutral": 0,
                        "negative": 0.99
                      },
                      "text": "I bought this phone as a replacement for my StarTac and have regretted it since.",
                      "offset": 0,
                      "length": 80
                    }
                  ],
                  "5": []
                },
                {
                  "0": "Appears to actually outperform the original battery from China that came with my V325i.",
                  "1": "neutral",
                  "3": {
                    "positive": 0.13,
                    "neutral": 0.53,
                    "negative": 0.34
                  },
                  "4": [
                    {
                      "sentiment": "neutral",
                      "confidenceScores": {
                        "positive": 0.13,
                        "neutral": 0.53,
                        "negative": 0.34
                      },
                      "text": "Appears to actually outperform the original battery from China that came with my V325i.",
                      "offset": 0,
                      "length": 87
                    }
                  ],
                  "5": []
                },
                {
                  "0": "Can't store anything but phone numbers to SIM.",
                  "1": "negative",
                  "3": {
                    "positive": 0.01,
                    "neutral": 0.2,
                    "negative": 0.79
                  },
                  "4": [
                    {
                      "sentiment": "negative",
                      "confidenceScores": {
                        "positive": 0.01,
                        "neutral": 0.2,
                        "negative": 0.79
                      },
                      "text": "Can't store anything but phone numbers to SIM.",
                      "offset": 0,
                      "length": 46
                    }
                  ],
                  "5": []
                },
                {
                  "0": "It lasts less than 3o minutes, if I actually try to use the phone.My wife has the same phone with the same problem.",
                  "1": "negative",
                  "3": {
                    "positive": 0.01,
                    "neutral": 0.02,
                    "negative": 0.97
                  },
                  "4": [
                    {
                      "sentiment": "neutral",
                      "confidenceScores": {
                        "positive": 0.01,
                        "neutral": 0.95,
                        "negative": 0.03
                      },
                      "text": "It lasts less than 3o minutes, if I actually try to use the phone.",
                      "offset": 0,
                      "length": 66
                    },
                    {
                      "sentiment": "negative",
                      "confidenceScores": {
                        "positive": 0.01,
                        "neutral": 0.02,
                        "negative": 0.97
                      },
                      "text": "My wife has the same phone with the same problem.",
                      "offset": 66,
                      "length": 49
                    }
                  ],
                  "5": []
                },
                {
                  "0": "Poor quality.",
                  "1": "negative",
                  "3": {
                    "positive": 0,
                    "neutral": 0,
                    "negative": 0.99
                  },
                  "4": [
                    {
                      "sentiment": "negative",
                      "confidenceScores": {
                        "positive": 0,
                        "neutral": 0,
                        "negative": 0.99
                      },
                      "text": "Poor quality.",
                      "offset": 0,
                      "length": 13
                    }
                  ],
                  "5": []
                },
                {
                  "0": "\"jabra ear gels \"\"R\"\" the best!.\"",
                  "1": "positive",
                  "3": {
                    "positive": 0.99,
                    "neutral": 0,
                    "negative": 0
                  },
                  "4": [
                    {
                      "sentiment": "positive",
                      "confidenceScores": {
                        "positive": 0.99,
                        "neutral": 0,
                        "negative": 0
                      },
                      "text": "\"jabra ear gels \"\"R\"\" the best!.\"",
                      "offset": 0,
                      "length": 33
                    }
                  ],
                  "5": []
                },
                {
                  "0": "Not worth it.",
                  "1": "negative",
                  "3": {
                    "positive": 0.01,
                    "neutral": 0.01,
                    "negative": 0.99
                  },
                  "4": [
                    {
                      "sentiment": "negative",
                      "confidenceScores": {
                        "positive": 0.01,
                        "neutral": 0.01,
                        "negative": 0.99
                      },
                      "text": "Not worth it.",
                      "offset": 0,
                      "length": 13
                    }
                  ],
                  "5": []
                },
                {
                  "0": "The phone crashed completely and now I have to get it replaced.",
                  "1": "negative",
                  "3": {
                    "positive": 0,
                    "neutral": 0,
                    "negative": 0.99
                  },
                  "4": [
                    {
                      "sentiment": "negative",
                      "confidenceScores": {
                        "positive": 0,
                        "neutral": 0,
                        "negative": 0.99
                      },
                      "text": "The phone crashed completely and now I have to get it replaced.",
                      "offset": 0,
                      "length": 63
                    }
                  ],
                  "5": []
                },
                {
                  "0": "It quit working after I'd used it for about 18 months, so I just purchased another one because this is the best headset I've ever owned.",
                  "1": "positive",
                  "3": {
                    "positive": 0.98,
                    "neutral": 0.01,
                    "negative": 0.01
                  },
                  "4": [
                    {
                      "sentiment": "positive",
                      "confidenceScores": {
                        "positive": 0.98,
                        "neutral": 0.01,
                        "negative": 0.01
                      },
                      "text": "It quit working after I'd used it for about 18 months, so I just purchased another one because this is the best headset I've ever owned.",
                      "offset": 0,
                      "length": 136
                    }
                  ],
                  "5": []
                },
                {
                  "0": "Unfortunately it will not recharge my iPhone 4s, despite connecting it from multiple power sources (iMac, external battery, wall outlet, etc).",
                  "1": "negative",
                  "3": {
                    "positive": 0,
                    "neutral": 0.01,
                    "negative": 0.99
                  },
                  "4": [
                    {
                      "sentiment": "negative",
                      "confidenceScores": {
                        "positive": 0,
                        "neutral": 0.01,
                        "negative": 0.99
                      },
                      "text": "Unfortunately it will not recharge my iPhone 4s, despite connecting it from multiple power sources (iMac, external battery, wall outlet, etc).",
                      "offset": 0,
                      "length": 142
                    }
                  ],
                  "5": []
                },
                {
                  "0": "It was a great phone.",
                  "1": "positive",
                  "3": {
                    "positive": 1,
                    "neutral": 0,
                    "negative": 0
                  },
                  "4": [
                    {
                      "sentiment": "positive",
                      "confidenceScores": {
                        "positive": 1,
                        "neutral": 0,
                        "negative": 0
                      },
                      "text": "It was a great phone.",
                      "offset": 0,
                      "length": 21
                    }
                  ],
                  "5": []
                },
                {
                  "0": "if you simply want a small flip phone -- look elsewhere as the extra bells & whistles are mediocre.",
                  "1": "negative",
                  "3": {
                    "positive": 0,
                    "neutral": 0,
                    "negative": 0.99
                  },
                  "4": [
                    {
                      "sentiment": "negative",
                      "confidenceScores": {
                        "positive": 0,
                        "neutral": 0,
                        "negative": 0.99
                      },
                      "text": "if you simply want a small flip phone -- look elsewhere as the extra bells & whistles are mediocre.",
                      "offset": 0,
                      "length": 99
                    }
                  ],
                  "5": []
                },
                {
                  "0": "Good value, works fine - power via USB, car, or wall outlet.",
                  "1": "positive",
                  "3": {
                    "positive": 1,
                    "neutral": 0,
                    "negative": 0
                  },
                  "4": [
                    {
                      "sentiment": "positive",
                      "confidenceScores": {
                        "positive": 1,
                        "neutral": 0,
                        "negative": 0
                      },
                      "text": "Good value, works fine - power via USB, car, or wall outlet.",
                      "offset": 0,
                      "length": 60
                    }
                  ],
                  "5": []
                },
                {
                  "0": "My phone doesn't slide around my car now and the grip prevents my phone from slipping out of my hand.",
                  "1": "negative",
                  "3": {
                    "positive": 0.06,
                    "neutral": 0.31,
                    "negative": 0.63
                  },
                  "4": [
                    {
                      "sentiment": "negative",
                      "confidenceScores": {
                        "positive": 0.06,
                        "neutral": 0.31,
                        "negative": 0.63
                      },
                      "text": "My phone doesn't slide around my car now and the grip prevents my phone from slipping out of my hand.",
                      "offset": 0,
                      "length": 101
                    }
                  ],
                  "5": []
                },
                {
                  "0": "This is simply the BEST bluetooth headset for sound quality!",
                  "1": "positive",
                  "3": {
                    "positive": 0.98,
                    "neutral": 0.01,
                    "negative": 0.01
                  },
                  "4": [
                    {
                      "sentiment": "positive",
                      "confidenceScores": {
                        "positive": 0.98,
                        "neutral": 0.01,
                        "negative": 0.01
                      },
                      "text": "This is simply the BEST bluetooth headset for sound quality!",
                      "offset": 0,
                      "length": 60
                    }
                  ],
                  "5": []
                },
                {
                  "0": "Think it over when you plan to own this one!This sure is the last MOTO phone for me!",
                  "1": "neutral",
                  "3": {
                    "positive": 0.29,
                    "neutral": 0.67,
                    "negative": 0.04
                  },
                  "4": [
                    {
                      "sentiment": "neutral",
                      "confidenceScores": {
                        "positive": 0.15,
                        "neutral": 0.84,
                        "negative": 0.01
                      },
                      "text": "Think it over when you plan to own this one!",
                      "offset": 0,
                      "length": 44
                    },
                    {
                      "sentiment": "neutral",
                      "confidenceScores": {
                        "positive": 0.43,
                        "neutral": 0.5,
                        "negative": 0.07
                      },
                      "text": "This sure is the last MOTO phone for me!",
                      "offset": 44,
                      "length": 40
                    }
                  ],
                  "5": []
                },
                {
                  "0": "\"In the span of an hour, I had two people exclaim \"\"Whoa - is that the new phone on TV?!?\"",
                  "1": "neutral",
                  "3": {
                    "positive": 0.02,
                    "neutral": 0.61,
                    "negative": 0.37
                  },
                  "4": [
                    {
                      "sentiment": "neutral",
                      "confidenceScores": {
                        "positive": 0.02,
                        "neutral": 0.61,
                        "negative": 0.37
                      },
                      "text": "\"In the span of an hour, I had two people exclaim \"\"Whoa - is that the new phone on TV?!?\"",
                      "offset": 0,
                      "length": 90
                    }
                  ],
                  "5": []
                },
                {
                  "0": "I have always used corded headsets and the freedom from the wireless is very helpful.",
                  "1": "positive",
                  "3": {
                    "positive": 0.99,
                    "neutral": 0.01,
                    "negative": 0
                  },
                  "4": [
                    {
                      "sentiment": "positive",
                      "confidenceScores": {
                        "positive": 0.99,
                        "neutral": 0.01,
                        "negative": 0
                      },
                      "text": "I have always used corded headsets and the freedom from the wireless is very helpful.",
                      "offset": 0,
                      "length": 85
                    }
                  ],
                  "5": []
                },
                {
                  "0": "This case has passed the one year mark and while it shows signs of wear, it is 100% functional.",
                  "1": "neutral",
                  "3": {
                    "positive": 0.13,
                    "neutral": 0.6,
                    "negative": 0.27
                  },
                  "4": [
                    {
                      "sentiment": "neutral",
                      "confidenceScores": {
                        "positive": 0.13,
                        "neutral": 0.6,
                        "negative": 0.27
                      },
                      "text": "This case has passed the one year mark and while it shows signs of wear, it is 100% functional.",
                      "offset": 0,
                      "length": 95
                    }
                  ],
                  "5": []
                },
                {
                  "0": "\"Other than that, the leather is nice and soft; the fit is very tight; the cut out for the face is a good shape.\"",
                  "1": "positive",
                  "3": {
                    "positive": 0.95,
                    "neutral": 0.04,
                    "negative": 0.01
                  },
                  "4": [
                    {
                      "sentiment": "positive",
                      "confidenceScores": {
                        "positive": 0.9,
                        "neutral": 0.08,
                        "negative": 0.02
                      },
                      "text": "\"Other than that, the leather is nice and soft; ",
                      "offset": 0,
                      "length": 48
                    },
                    {
                      "sentiment": "neutral",
                      "confidenceScores": {
                        "positive": 0.02,
                        "neutral": 0.7,
                        "negative": 0.28
                      },
                      "text": "the fit is very tight; ",
                      "offset": 48,
                      "length": 23
                    },
                    {
                      "sentiment": "positive",
                      "confidenceScores": {
                        "positive": 0.99,
                        "neutral": 0,
                        "negative": 0
                      },
                      "text": "the cut out for the face is a good shape.\"",
                      "offset": 71,
                      "length": 42
                    }
                  ],
                  "5": []
                },
                {
                  "0": "It has everything I need and I couldn't ask for more.",
                  "1": "positive",
                  "3": {
                    "positive": 0.94,
                    "neutral": 0.05,
                    "negative": 0.02
                  },
                  "4": [
                    {
                      "sentiment": "positive",
                      "confidenceScores": {
                        "positive": 0.94,
                        "neutral": 0.05,
                        "negative": 0.02
                      },
                      "text": "It has everything I need and I couldn't ask for more.",
                      "offset": 0,
                      "length": 53
                    }
                  ],
                  "5": []
                },
                {
                  "0": "After receiving and using the product for just 2 days it broke.",
                  "1": "negative",
                  "3": {
                    "positive": 0,
                    "neutral": 0,
                    "negative": 0.99
                  },
                  "4": [
                    {
                      "sentiment": "negative",
                      "confidenceScores": {
                        "positive": 0,
                        "neutral": 0,
                        "negative": 0.99
                      },
                      "text": "After receiving and using the product for just 2 days it broke.",
                      "offset": 0,
                      "length": 63
                    }
                  ],
                  "5": []
                },
                {
                  "0": "This product is great... it makes working a lot easier I can go to the copier while waiting on hold for something.",
                  "1": "positive",
                  "3": {
                    "positive": 0.98,
                    "neutral": 0.01,
                    "negative": 0
                  },
                  "4": [
                    {
                      "sentiment": "positive",
                      "confidenceScores": {
                        "positive": 1,
                        "neutral": 0,
                        "negative": 0
                      },
                      "text": "This product is great... ",
                      "offset": 0,
                      "length": 25
                    },
                    {
                      "sentiment": "positive",
                      "confidenceScores": {
                        "positive": 0.97,
                        "neutral": 0.02,
                        "negative": 0.01
                      },
                      "text": "it makes working a lot easier I can go to the copier while waiting on hold for something.",
                      "offset": 25,
                      "length": 89
                    }
                  ],
                  "5": []
                },
                {
                  "0": "None of the three sizes they sent with the headset would stay in my ears.",
                  "1": "neutral",
                  "3": {
                    "positive": 0.01,
                    "neutral": 0.72,
                    "negative": 0.27
                  },
                  "4": [
                    {
                      "sentiment": "neutral",
                      "confidenceScores": {
                        "positive": 0.01,
                        "neutral": 0.72,
                        "negative": 0.27
                      },
                      "text": "None of the three sizes they sent with the headset would stay in my ears.",
                      "offset": 0,
                      "length": 73
                    }
                  ],
                  "5": []
                },
                {
                  "0": "T-Mobile has the best customer service anywhere.",
                  "1": "positive",
                  "3": {
                    "positive": 0.96,
                    "neutral": 0.03,
                    "negative": 0
                  },
                  "4": [
                    {
                      "sentiment": "positive",
                      "confidenceScores": {
                        "positive": 0.96,
                        "neutral": 0.03,
                        "negative": 0
                      },
                      "text": "T-Mobile has the best customer service anywhere.",
                      "offset": 0,
                      "length": 48
                    }
                  ],
                  "5": []
                },
                {
                  "0": "Arrived quickly and much less expensive than others being sold.",
                  "1": "positive",
                  "3": {
                    "positive": 0.92,
                    "neutral": 0.01,
                    "negative": 0.07
                  },
                  "4": [
                    {
                      "sentiment": "positive",
                      "confidenceScores": {
                        "positive": 0.92,
                        "neutral": 0.01,
                        "negative": 0.07
                      },
                      "text": "Arrived quickly and much less expensive than others being sold.",
                      "offset": 0,
                      "length": 63
                    }
                  ],
                  "5": []
                },
                {
                  "0": "We have tried 2 units and they both failed within 2 months.. Pros",
                  "1": "negative",
                  "3": {
                    "positive": 0,
                    "neutral": 0.01,
                    "negative": 0.99
                  },
                  "4": [
                    {
                      "sentiment": "negative",
                      "confidenceScores": {
                        "positive": 0,
                        "neutral": 0.01,
                        "negative": 0.99
                      },
                      "text": "We have tried 2 units and they both failed within 2 months.. ",
                      "offset": 0,
                      "length": 61
                    },
                    {
                      "sentiment": "neutral",
                      "confidenceScores": {
                        "positive": 0.19,
                        "neutral": 0.73,
                        "negative": 0.08
                      },
                      "text": "Pros",
                      "offset": 61,
                      "length": 4
                    }
                  ],
                  "5": []
                },
                {
                  "0": "Provides good protection and looks classy, too.",
                  "1": "positive",
                  "3": {
                    "positive": 1,
                    "neutral": 0,
                    "negative": 0
                  },
                  "4": [
                    {
                      "sentiment": "positive",
                      "confidenceScores": {
                        "positive": 1,
                        "neutral": 0,
                        "negative": 0
                      },
                      "text": "Provides good protection and looks classy, too.",
                      "offset": 0,
                      "length": 47
                    }
                  ],
                  "5": []
                },
                {
                  "0": "Krussel Always good.",
                  "1": "positive",
                  "3": {
                    "positive": 1,
                    "neutral": 0,
                    "negative": 0
                  },
                  "4": [
                    {
                      "sentiment": "positive",
                      "confidenceScores": {
                        "positive": 1,
                        "neutral": 0,
                        "negative": 0
                      },
                      "text": "Krussel Always good.",
                      "offset": 0,
                      "length": 20
                    }
                  ],
                  "5": []
                },
                {
                  "0": "The tracfonewebsite is user friendly and makes it easy toactivate, etc.",
                  "1": "positive",
                  "3": {
                    "positive": 0.98,
                    "neutral": 0.02,
                    "negative": 0
                  },
                  "4": [
                    {
                      "sentiment": "positive",
                      "confidenceScores": {
                        "positive": 0.98,
                        "neutral": 0.02,
                        "negative": 0
                      },
                      "text": "The tracfonewebsite is user friendly and makes it easy toactivate, etc.",
                      "offset": 0,
                      "length": 71
                    }
                  ],
                  "5": []
                },
                {
                  "0": "The design is very good.4.",
                  "1": "positive",
                  "3": {
                    "positive": 1,
                    "neutral": 0,
                    "negative": 0
                  },
                  "4": [
                    {
                      "sentiment": "positive",
                      "confidenceScores": {
                        "positive": 1,
                        "neutral": 0,
                        "negative": 0
                      },
                      "text": "The design is very good.4.",
                      "offset": 0,
                      "length": 26
                    }
                  ],
                  "5": []
                },
                {
                  "0": "I great reception all the time.",
                  "1": "positive",
                  "3": {
                    "positive": 1,
                    "neutral": 0,
                    "negative": 0
                  },
                  "4": [
                    {
                      "sentiment": "positive",
                      "confidenceScores": {
                        "positive": 1,
                        "neutral": 0,
                        "negative": 0
                      },
                      "text": "I great reception all the time.",
                      "offset": 0,
                      "length": 31
                    }
                  ],
                  "5": []
                },
                {
                  "0": "I would highly recommend this product.",
                  "1": "positive",
                  "3": {
                    "positive": 0.99,
                    "neutral": 0,
                    "negative": 0
                  },
                  "4": [
                    {
                      "sentiment": "positive",
                      "confidenceScores": {
                        "positive": 0.99,
                        "neutral": 0,
                        "negative": 0
                      },
                      "text": "I would highly recommend this product.",
                      "offset": 0,
                      "length": 38
                    }
                  ],
                  "5": []
                },
                {
                  "0": "Couldn't use the unit with sunglasses, not good in Texas!",
                  "1": "negative",
                  "3": {
                    "positive": 0.01,
                    "neutral": 0,
                    "negative": 0.99
                  },
                  "4": [
                    {
                      "sentiment": "negative",
                      "confidenceScores": {
                        "positive": 0.01,
                        "neutral": 0,
                        "negative": 0.99
                      },
                      "text": "Couldn't use the unit with sunglasses, not good in Texas!",
                      "offset": 0,
                      "length": 57
                    }
                  ],
                  "5": []
                },
                {
                  "0": "It dit not work most of the time with my Nokia 5320.",
                  "1": "negative",
                  "3": {
                    "positive": 0,
                    "neutral": 0.02,
                    "negative": 0.98
                  },
                  "4": [
                    {
                      "sentiment": "negative",
                      "confidenceScores": {
                        "positive": 0,
                        "neutral": 0.02,
                        "negative": 0.98
                      },
                      "text": "It dit not work most of the time with my Nokia 5320.",
                      "offset": 0,
                      "length": 52
                    }
                  ],
                  "5": []
                },
                {
                  "0": "Bought mainly for the charger, which broke soon after purchasing.",
                  "1": "negative",
                  "3": {
                    "positive": 0,
                    "neutral": 0,
                    "negative": 0.99
                  },
                  "4": [
                    {
                      "sentiment": "negative",
                      "confidenceScores": {
                        "positive": 0,
                        "neutral": 0,
                        "negative": 0.99
                      },
                      "text": "Bought mainly for the charger, which broke soon after purchasing.",
                      "offset": 0,
                      "length": 65
                    }
                  ],
                  "5": []
                },
                {
                  "0": "If you like a loud buzzing to override all your conversations, then this phone is for you!",
                  "1": "positive",
                  "3": {
                    "positive": 0.82,
                    "neutral": 0.18,
                    "negative": 0.01
                  },
                  "4": [
                    {
                      "sentiment": "positive",
                      "confidenceScores": {
                        "positive": 0.82,
                        "neutral": 0.18,
                        "negative": 0.01
                      },
                      "text": "If you like a loud buzzing to override all your conversations, then this phone is for you!",
                      "offset": 0,
                      "length": 90
                    }
                  ],
                  "5": []
                },
                {
                  "0": "Fantastic buy and will get again for whatever my next phone is",
                  "1": "positive",
                  "3": {
                    "positive": 1,
                    "neutral": 0,
                    "negative": 0
                  },
                  "4": [
                    {
                      "sentiment": "positive",
                      "confidenceScores": {
                        "positive": 1,
                        "neutral": 0,
                        "negative": 0
                      },
                      "text": "Fantastic buy and will get again for whatever my next phone is",
                      "offset": 0,
                      "length": 62
                    }
                  ],
                  "5": []
                },
                {
                  "0": "stay away from this store, be careful.",
                  "1": "negative",
                  "3": {
                    "positive": 0.05,
                    "neutral": 0.44,
                    "negative": 0.51
                  },
                  "4": [
                    {
                      "sentiment": "negative",
                      "confidenceScores": {
                        "positive": 0.05,
                        "neutral": 0.44,
                        "negative": 0.51
                      },
                      "text": "stay away from this store, be careful.",
                      "offset": 0,
                      "length": 38
                    }
                  ],
                  "5": []
                },
                {
                  "0": "This BlueAnt Supertooth hands-free phone speaker is AWESOME.",
                  "1": "positive",
                  "3": {
                    "positive": 0.99,
                    "neutral": 0,
                    "negative": 0
                  },
                  "4": [
                    {
                      "sentiment": "positive",
                      "confidenceScores": {
                        "positive": 0.99,
                        "neutral": 0,
                        "negative": 0
                      },
                      "text": "This BlueAnt Supertooth hands-free phone speaker is AWESOME.",
                      "offset": 0,
                      "length": 60
                    }
                  ],
                  "5": []
                },
                {
                  "0": "Does not fit.",
                  "1": "negative",
                  "3": {
                    "positive": 0,
                    "neutral": 0.01,
                    "negative": 0.98
                  },
                  "4": [
                    {
                      "sentiment": "negative",
                      "confidenceScores": {
                        "positive": 0,
                        "neutral": 0.01,
                        "negative": 0.98
                      },
                      "text": "Does not fit.",
                      "offset": 0,
                      "length": 13
                    }
                  ],
                  "5": []
                },
                {
                  "0": ".... Item arrived quickly and works great with my Metro PCS Samsung SCH-r450 slider phone and Sony Premium Sound in ear plugs.",
                  "1": "positive",
                  "3": {
                    "positive": 1,
                    "neutral": 0,
                    "negative": 0
                  },
                  "4": [
                    {
                      "sentiment": "neutral",
                      "confidenceScores": {
                        "positive": 0.16,
                        "neutral": 0.7,
                        "negative": 0.14
                      },
                      "text": ".... ",
                      "offset": 0,
                      "length": 5
                    },
                    {
                      "sentiment": "positive",
                      "confidenceScores": {
                        "positive": 1,
                        "neutral": 0,
                        "negative": 0
                      },
                      "text": "Item arrived quickly and works great with my Metro PCS Samsung SCH-r450 slider phone and Sony Premium Sound in ear plugs.",
                      "offset": 5,
                      "length": 121
                    }
                  ],
                  "5": []
                },
                {
                  "0": "It is light, has plenty of battery capacity, and is very confortable to wear for somewhat extended periods of time.",
                  "1": "positive",
                  "3": {
                    "positive": 0.82,
                    "neutral": 0.18,
                    "negative": 0.01
                  },
                  "4": [
                    {
                      "sentiment": "positive",
                      "confidenceScores": {
                        "positive": 0.82,
                        "neutral": 0.18,
                        "negative": 0.01
                      },
                      "text": "It is light, has plenty of battery capacity, and is very confortable to wear for somewhat extended periods of time.",
                      "offset": 0,
                      "length": 115
                    }
                  ],
                  "5": []
                },
                {
                  "0": "disappointing.",
                  "1": "negative",
                  "3": {
                    "positive": 0.01,
                    "neutral": 0,
                    "negative": 0.99
                  },
                  "4": [
                    {
                      "sentiment": "negative",
                      "confidenceScores": {
                        "positive": 0.01,
                        "neutral": 0,
                        "negative": 0.99
                      },
                      "text": "disappointing.",
                      "offset": 0,
                      "length": 14
                    }
                  ],
                  "5": []
                },
                {
                  "0": "Blue Ant is easy to use.",
                  "1": "positive",
                  "3": {
                    "positive": 0.98,
                    "neutral": 0.01,
                    "negative": 0
                  },
                  "4": [
                    {
                      "sentiment": "positive",
                      "confidenceScores": {
                        "positive": 0.98,
                        "neutral": 0.01,
                        "negative": 0
                      },
                      "text": "Blue Ant is easy to use.",
                      "offset": 0,
                      "length": 24
                    }
                  ],
                  "5": []
                },
                {
                  "0": "Cheap but hey it works.. Was pleasantly suprised given the low cost of this item.",
                  "1": "positive",
                  "3": {
                    "positive": 0.71,
                    "neutral": 0.08,
                    "negative": 0.21
                  },
                  "4": [
                    {
                      "sentiment": "positive",
                      "confidenceScores": {
                        "positive": 0.43,
                        "neutral": 0.15,
                        "negative": 0.42
                      },
                      "text": "Cheap but hey it works.. ",
                      "offset": 0,
                      "length": 25
                    },
                    {
                      "sentiment": "positive",
                      "confidenceScores": {
                        "positive": 0.99,
                        "neutral": 0,
                        "negative": 0.01
                      },
                      "text": "Was pleasantly suprised given the low cost of this item.",
                      "offset": 25,
                      "length": 56
                    }
                  ],
                  "5": []
                },
                {
                  "0": "The camera on the phone may be used as a dustpan when indoors... I'd rather be using a disposable then this.",
                  "1": "neutral",
                  "3": {
                    "positive": 0.03,
                    "neutral": 0.86,
                    "negative": 0.11
                  },
                  "4": [
                    {
                      "sentiment": "neutral",
                      "confidenceScores": {
                        "positive": 0.02,
                        "neutral": 0.87,
                        "negative": 0.11
                      },
                      "text": "The camera on the phone may be used as a dustpan when indoors... ",
                      "offset": 0,
                      "length": 65
                    },
                    {
                      "sentiment": "neutral",
                      "confidenceScores": {
                        "positive": 0.04,
                        "neutral": 0.84,
                        "negative": 0.11
                      },
                      "text": "I'd rather be using a disposable then this.",
                      "offset": 65,
                      "length": 43
                    }
                  ],
                  "5": []
                },
                {
                  "0": "Then a few days later the a puff of smoke came out of the phone while in use.",
                  "1": "negative",
                  "3": {
                    "positive": 0,
                    "neutral": 0.04,
                    "negative": 0.96
                  },
                  "4": [
                    {
                      "sentiment": "negative",
                      "confidenceScores": {
                        "positive": 0,
                        "neutral": 0.04,
                        "negative": 0.96
                      },
                      "text": "Then a few days later the a puff of smoke came out of the phone while in use.",
                      "offset": 0,
                      "length": 77
                    }
                  ],
                  "5": []
                },
                {
                  "0": "It's very convenient and simple to use - gets job done & makes the car ride so much smoother.",
                  "1": "positive",
                  "3": {
                    "positive": 0.99,
                    "neutral": 0,
                    "negative": 0
                  },
                  "4": [
                    {
                      "sentiment": "positive",
                      "confidenceScores": {
                        "positive": 0.99,
                        "neutral": 0,
                        "negative": 0
                      },
                      "text": "It's very convenient and simple to use - gets job done & makes the car ride so much smoother.",
                      "offset": 0,
                      "length": 93
                    }
                  ],
                  "5": []
                },
                {
                  "0": "The nano stated it.My son was dissapointed.",
                  "1": "negative",
                  "3": {
                    "positive": 0,
                    "neutral": 0,
                    "negative": 1
                  },
                  "4": [
                    {
                      "sentiment": "neutral",
                      "confidenceScores": {
                        "positive": 0.01,
                        "neutral": 0.96,
                        "negative": 0.03
                      },
                      "text": "The nano stated it.",
                      "offset": 0,
                      "length": 19
                    },
                    {
                      "sentiment": "negative",
                      "confidenceScores": {
                        "positive": 0,
                        "neutral": 0,
                        "negative": 1
                      },
                      "text": "My son was dissapointed.",
                      "offset": 19,
                      "length": 24
                    }
                  ],
                  "5": []
                },
                {
                  "0": "The sound quality is excellent as well.",
                  "1": "positive",
                  "3": {
                    "positive": 1,
                    "neutral": 0,
                    "negative": 0
                  },
                  "4": [
                    {
                      "sentiment": "positive",
                      "confidenceScores": {
                        "positive": 1,
                        "neutral": 0,
                        "negative": 0
                      },
                      "text": "The sound quality is excellent as well.",
                      "offset": 0,
                      "length": 39
                    }
                  ],
                  "5": []
                },
                {
                  "0": "Its the best headset I have used.",
                  "1": "positive",
                  "3": {
                    "positive": 0.99,
                    "neutral": 0,
                    "negative": 0
                  },
                  "4": [
                    {
                      "sentiment": "positive",
                      "confidenceScores": {
                        "positive": 0.99,
                        "neutral": 0,
                        "negative": 0
                      },
                      "text": "Its the best headset I have used.",
                      "offset": 0,
                      "length": 33
                    }
                  ],
                  "5": []
                },
                {
                  "0": "Would not reccommend.",
                  "1": "negative",
                  "3": {
                    "positive": 0,
                    "neutral": 0.01,
                    "negative": 0.99
                  },
                  "4": [
                    {
                      "sentiment": "negative",
                      "confidenceScores": {
                        "positive": 0,
                        "neutral": 0.01,
                        "negative": 0.99
                      },
                      "text": "Would not reccommend.",
                      "offset": 0,
                      "length": 21
                    }
                  ],
                  "5": []
                },
                {
                  "0": "They have been around for years and carries the highest quality of anti-glare screen protector that I have found to date.",
                  "1": "neutral",
                  "3": {
                    "positive": 0.46,
                    "neutral": 0.52,
                    "negative": 0.02
                  },
                  "4": [
                    {
                      "sentiment": "neutral",
                      "confidenceScores": {
                        "positive": 0.46,
                        "neutral": 0.52,
                        "negative": 0.02
                      },
                      "text": "They have been around for years and carries the highest quality of anti-glare screen protector that I have found to date.",
                      "offset": 0,
                      "length": 121
                    }
                  ],
                  "5": []
                },
                {
                  "0": "Just what I wanted.",
                  "1": "positive",
                  "3": {
                    "positive": 0.96,
                    "neutral": 0.03,
                    "negative": 0.01
                  },
                  "4": [
                    {
                      "sentiment": "positive",
                      "confidenceScores": {
                        "positive": 0.96,
                        "neutral": 0.03,
                        "negative": 0.01
                      },
                      "text": "Just what I wanted.",
                      "offset": 0,
                      "length": 19
                    }
                  ],
                  "5": []
                },
                {
                  "0": "This particular model would not work with my Motorola Q smartphone.",
                  "1": "negative",
                  "3": {
                    "positive": 0,
                    "neutral": 0.08,
                    "negative": 0.92
                  },
                  "4": [
                    {
                      "sentiment": "negative",
                      "confidenceScores": {
                        "positive": 0,
                        "neutral": 0.08,
                        "negative": 0.92
                      },
                      "text": "This particular model would not work with my Motorola Q smartphone.",
                      "offset": 0,
                      "length": 67
                    }
                  ],
                  "5": []
                },
                {
                  "0": "wont work right or atleast for me.",
                  "1": "negative",
                  "3": {
                    "positive": 0.01,
                    "neutral": 0.01,
                    "negative": 0.98
                  },
                  "4": [
                    {
                      "sentiment": "negative",
                      "confidenceScores": {
                        "positive": 0.01,
                        "neutral": 0.01,
                        "negative": 0.98
                      },
                      "text": "wont work right or atleast for me.",
                      "offset": 0,
                      "length": 34
                    }
                  ],
                  "5": []
                },
                {
                  "0": "\"in addition it feels &amp; looks as if the phone is all lightweight cheap plastic.\"",
                  "1": "neutral",
                  "3": {
                    "positive": 0.33,
                    "neutral": 0.51,
                    "negative": 0.15
                  },
                  "4": [
                    {
                      "sentiment": "neutral",
                      "confidenceScores": {
                        "positive": 0.33,
                        "neutral": 0.51,
                        "negative": 0.15
                      },
                      "text": "\"in addition it feels &amp; looks as if the phone is all lightweight cheap plastic.\"",
                      "offset": 0,
                      "length": 84
                    }
                  ],
                  "5": []
                },
                {
                  "0": "\"But now that it is \"\"out of warranty\"\" the same problems reoccure.Bottom line... put your money somewhere else... Cingular will not support it.\"",
                  "1": "negative",
                  "3": {
                    "positive": 0,
                    "neutral": 0.09,
                    "negative": 0.9
                  },
                  "4": [
                    {
                      "sentiment": "negative",
                      "confidenceScores": {
                        "positive": 0,
                        "neutral": 0.01,
                        "negative": 0.99
                      },
                      "text": "\"But now that it is \"\"out of warranty\"\" the same problems reoccure.",
                      "offset": 0,
                      "length": 67
                    },
                    {
                      "sentiment": "neutral",
                      "confidenceScores": {
                        "positive": 0.3,
                        "neutral": 0.45,
                        "negative": 0.25
                      },
                      "text": "Bottom line... ",
                      "offset": 67,
                      "length": 15
                    },
                    {
                      "sentiment": "neutral",
                      "confidenceScores": {
                        "positive": 0.03,
                        "neutral": 0.94,
                        "negative": 0.03
                      },
                      "text": "put your money somewhere else... ",
                      "offset": 82,
                      "length": 33
                    },
                    {
                      "sentiment": "negative",
                      "confidenceScores": {
                        "positive": 0.01,
                        "neutral": 0.18,
                        "negative": 0.82
                      },
                      "text": "Cingular will not support it.\"",
                      "offset": 115,
                      "length": 30
                    }
                  ],
                  "5": []
                },
                {
                  "0": "I really wanted the Plantronics 510 to be the right one, but it has too many issues for me.The good",
                  "1": "mixed",
                  "3": {
                    "positive": 0.5,
                    "neutral": 0.01,
                    "negative": 0.49
                  },
                  "4": [
                    {
                      "sentiment": "negative",
                      "confidenceScores": {
                        "positive": 0.01,
                        "neutral": 0.01,
                        "negative": 0.97
                      },
                      "text": "I really wanted the Plantronics 510 to be the right one, but it has too many issues for me.",
                      "offset": 0,
                      "length": 91
                    },
                    {
                      "sentiment": "positive",
                      "confidenceScores": {
                        "positive": 0.98,
                        "neutral": 0.01,
                        "negative": 0.01
                      },
                      "text": "The good",
                      "offset": 91,
                      "length": 8
                    }
                  ],
                  "5": []
                },
                {
                  "0": "Great product.",
                  "1": "positive",
                  "3": {
                    "positive": 1,
                    "neutral": 0,
                    "negative": 0
                  },
                  "4": [
                    {
                      "sentiment": "positive",
                      "confidenceScores": {
                        "positive": 1,
                        "neutral": 0,
                        "negative": 0
                      },
                      "text": "Great product.",
                      "offset": 0,
                      "length": 14
                    }
                  ],
                  "5": []
                },
                {
                  "0": "Crisp and Clear.",
                  "1": "positive",
                  "3": {
                    "positive": 0.59,
                    "neutral": 0.36,
                    "negative": 0.04
                  },
                  "4": [
                    {
                      "sentiment": "positive",
                      "confidenceScores": {
                        "positive": 0.59,
                        "neutral": 0.36,
                        "negative": 0.04
                      },
                      "text": "Crisp and Clear.",
                      "offset": 0,
                      "length": 16
                    }
                  ],
                  "5": []
                },
                {
                  "0": "AFter the first charge kept going dead after 12 minutes.",
                  "1": "negative",
                  "3": {
                    "positive": 0,
                    "neutral": 0.02,
                    "negative": 0.98
                  },
                  "4": [
                    {
                      "sentiment": "negative",
                      "confidenceScores": {
                        "positive": 0,
                        "neutral": 0.02,
                        "negative": 0.98
                      },
                      "text": "AFter the first charge kept going dead after 12 minutes.",
                      "offset": 0,
                      "length": 56
                    }
                  ],
                  "5": []
                },
                {
                  "0": "VERY cheap plastic, creaks like an old wooden floor.",
                  "1": "negative",
                  "3": {
                    "positive": 0.03,
                    "neutral": 0.01,
                    "negative": 0.96
                  },
                  "4": [
                    {
                      "sentiment": "negative",
                      "confidenceScores": {
                        "positive": 0.03,
                        "neutral": 0.01,
                        "negative": 0.96
                      },
                      "text": "VERY cheap plastic, creaks like an old wooden floor.",
                      "offset": 0,
                      "length": 52
                    }
                  ],
                  "5": []
                },
                {
                  "0": "I get absolutely horrible reception in my apartment, where with other phones I have not had this problem.",
                  "1": "negative",
                  "3": {
                    "positive": 0,
                    "neutral": 0,
                    "negative": 0.99
                  },
                  "4": [
                    {
                      "sentiment": "negative",
                      "confidenceScores": {
                        "positive": 0,
                        "neutral": 0,
                        "negative": 0.99
                      },
                      "text": "I get absolutely horrible reception in my apartment, where with other phones I have not had this problem.",
                      "offset": 0,
                      "length": 105
                    }
                  ],
                  "5": []
                },
                {
                  "0": "The reception has been generally good.",
                  "1": "positive",
                  "3": {
                    "positive": 0.99,
                    "neutral": 0,
                    "negative": 0
                  },
                  "4": [
                    {
                      "sentiment": "positive",
                      "confidenceScores": {
                        "positive": 0.99,
                        "neutral": 0,
                        "negative": 0
                      },
                      "text": "The reception has been generally good.",
                      "offset": 0,
                      "length": 38
                    }
                  ],
                  "5": []
                },
                {
                  "0": "Excellent sound, battery life and inconspicuous to boot!.",
                  "1": "positive",
                  "3": {
                    "positive": 1,
                    "neutral": 0,
                    "negative": 0
                  },
                  "4": [
                    {
                      "sentiment": "positive",
                      "confidenceScores": {
                        "positive": 1,
                        "neutral": 0,
                        "negative": 0
                      },
                      "text": "Excellent sound, battery life and inconspicuous to boot!.",
                      "offset": 0,
                      "length": 57
                    }
                  ],
                  "5": []
                },
                {
                  "0": "Great bluetooth!.",
                  "1": "positive",
                  "3": {
                    "positive": 1,
                    "neutral": 0,
                    "negative": 0
                  },
                  "4": [
                    {
                      "sentiment": "positive",
                      "confidenceScores": {
                        "positive": 1,
                        "neutral": 0,
                        "negative": 0
                      },
                      "text": "Great bluetooth!.",
                      "offset": 0,
                      "length": 17
                    }
                  ],
                  "5": []
                },
                {
                  "0": "I highly recommend this case.",
                  "1": "positive",
                  "3": {
                    "positive": 0.99,
                    "neutral": 0,
                    "negative": 0
                  },
                  "4": [
                    {
                      "sentiment": "positive",
                      "confidenceScores": {
                        "positive": 0.99,
                        "neutral": 0,
                        "negative": 0
                      },
                      "text": "I highly recommend this case.",
                      "offset": 0,
                      "length": 29
                    }
                  ],
                  "5": []
                },
                {
                  "0": "WORTHWHILE.",
                  "1": "neutral",
                  "3": {
                    "positive": 0.32,
                    "neutral": 0.52,
                    "negative": 0.16
                  },
                  "4": [
                    {
                      "sentiment": "neutral",
                      "confidenceScores": {
                        "positive": 0.32,
                        "neutral": 0.52,
                        "negative": 0.16
                      },
                      "text": "WORTHWHILE.",
                      "offset": 0,
                      "length": 11
                    }
                  ],
                  "5": []
                },
                {
                  "0": "This is a great deal.",
                  "1": "positive",
                  "3": {
                    "positive": 0.99,
                    "neutral": 0.01,
                    "negative": 0
                  },
                  "4": [
                    {
                      "sentiment": "positive",
                      "confidenceScores": {
                        "positive": 0.99,
                        "neutral": 0.01,
                        "negative": 0
                      },
                      "text": "This is a great deal.",
                      "offset": 0,
                      "length": 21
                    }
                  ],
                  "5": []
                },
                {
                  "0": "After my phone got to be about a year old, it's been slowly breaking despite much care on my part.",
                  "1": "negative",
                  "3": {
                    "positive": 0,
                    "neutral": 0.01,
                    "negative": 0.99
                  },
                  "4": [
                    {
                      "sentiment": "negative",
                      "confidenceScores": {
                        "positive": 0,
                        "neutral": 0.01,
                        "negative": 0.99
                      },
                      "text": "After my phone got to be about a year old, it's been slowly breaking despite much care on my part.",
                      "offset": 0,
                      "length": 98
                    }
                  ],
                  "5": []
                },
                {
                  "0": "I am sorry I made this purchase.",
                  "1": "negative",
                  "3": {
                    "positive": 0,
                    "neutral": 0,
                    "negative": 0.99
                  },
                  "4": [
                    {
                      "sentiment": "negative",
                      "confidenceScores": {
                        "positive": 0,
                        "neutral": 0,
                        "negative": 0.99
                      },
                      "text": "I am sorry I made this purchase.",
                      "offset": 0,
                      "length": 32
                    }
                  ],
                  "5": []
                },
                {
                  "0": "I bought these hoping I could make my Bluetooth headset fit better but these things made it impossible to wear.",
                  "1": "negative",
                  "3": {
                    "positive": 0,
                    "neutral": 0.01,
                    "negative": 0.99
                  },
                  "4": [
                    {
                      "sentiment": "negative",
                      "confidenceScores": {
                        "positive": 0,
                        "neutral": 0.01,
                        "negative": 0.99
                      },
                      "text": "I bought these hoping I could make my Bluetooth headset fit better but these things made it impossible to wear.",
                      "offset": 0,
                      "length": 111
                    }
                  ],
                  "5": []
                },
                {
                  "0": "Treo and T-Mobile refused to replace it again and forced me to buy another phone without any kind of upgrade discount.",
                  "1": "negative",
                  "3": {
                    "positive": 0,
                    "neutral": 0.01,
                    "negative": 0.99
                  },
                  "4": [
                    {
                      "sentiment": "negative",
                      "confidenceScores": {
                        "positive": 0,
                        "neutral": 0.01,
                        "negative": 0.99
                      },
                      "text": "Treo and T-Mobile refused to replace it again and forced me to buy another phone without any kind of upgrade discount.",
                      "offset": 0,
                      "length": 118
                    }
                  ],
                  "5": []
                },
                {
                  "0": "It was horrible!.",
                  "1": "negative",
                  "3": {
                    "positive": 0.02,
                    "neutral": 0,
                    "negative": 0.98
                  },
                  "4": [
                    {
                      "sentiment": "negative",
                      "confidenceScores": {
                        "positive": 0.02,
                        "neutral": 0,
                        "negative": 0.98
                      },
                      "text": "It was horrible!.",
                      "offset": 0,
                      "length": 17
                    }
                  ],
                  "5": []
                },
                {
                  "0": "I don't think it would hold it too securly on your belt.",
                  "1": "neutral",
                  "3": {
                    "positive": 0.01,
                    "neutral": 0.96,
                    "negative": 0.03
                  },
                  "4": [
                    {
                      "sentiment": "neutral",
                      "confidenceScores": {
                        "positive": 0.01,
                        "neutral": 0.96,
                        "negative": 0.03
                      },
                      "text": "I don't think it would hold it too securly on your belt.",
                      "offset": 0,
                      "length": 56
                    }
                  ],
                  "5": []
                },
                {
                  "0": "This allows the possibility of double booking for the same date and time after the first.",
                  "1": "neutral",
                  "3": {
                    "positive": 0.05,
                    "neutral": 0.93,
                    "negative": 0.02
                  },
                  "4": [
                    {
                      "sentiment": "neutral",
                      "confidenceScores": {
                        "positive": 0.05,
                        "neutral": 0.93,
                        "negative": 0.02
                      },
                      "text": "This allows the possibility of double booking for the same date and time after the first.",
                      "offset": 0,
                      "length": 89
                    }
                  ],
                  "5": []
                },
                {
                  "0": "They work about 2 weeks then break.",
                  "1": "neutral",
                  "3": {
                    "positive": 0.02,
                    "neutral": 0.97,
                    "negative": 0.02
                  },
                  "4": [
                    {
                      "sentiment": "neutral",
                      "confidenceScores": {
                        "positive": 0.02,
                        "neutral": 0.97,
                        "negative": 0.02
                      },
                      "text": "They work about 2 weeks then break.",
                      "offset": 0,
                      "length": 35
                    }
                  ],
                  "5": []
                },
                {
                  "0": "It is simple to use and I like it.",
                  "1": "positive",
                  "3": {
                    "positive": 0.99,
                    "neutral": 0,
                    "negative": 0
                  },
                  "4": [
                    {
                      "sentiment": "positive",
                      "confidenceScores": {
                        "positive": 0.99,
                        "neutral": 0,
                        "negative": 0
                      },
                      "text": "It is simple to use and I like it.",
                      "offset": 0,
                      "length": 34
                    }
                  ],
                  "5": []
                },
                {
                  "0": "It's a great tool for entertainment, communication, and data management.Oh, be sure to use ActiveSync 4.2 for optimal data synchronization results!",
                  "1": "positive",
                  "3": {
                    "positive": 0.89,
                    "neutral": 0.1,
                    "negative": 0.01
                  },
                  "4": [
                    {
                      "sentiment": "positive",
                      "confidenceScores": {
                        "positive": 1,
                        "neutral": 0,
                        "negative": 0
                      },
                      "text": "It's a great tool for entertainment, communication, and data management.",
                      "offset": 0,
                      "length": 72
                    },
                    {
                      "sentiment": "positive",
                      "confidenceScores": {
                        "positive": 0.78,
                        "neutral": 0.2,
                        "negative": 0.01
                      },
                      "text": "Oh, be sure to use ActiveSync 4.2 for optimal data synchronization results!",
                      "offset": 72,
                      "length": 75
                    }
                  ],
                  "5": []
                },
                {
                  "0": "I can't use this case because the smell is disgusting.",
                  "1": "negative",
                  "3": {
                    "positive": 0,
                    "neutral": 0,
                    "negative": 0.99
                  },
                  "4": [
                    {
                      "sentiment": "negative",
                      "confidenceScores": {
                        "positive": 0,
                        "neutral": 0,
                        "negative": 0.99
                      },
                      "text": "I can't use this case because the smell is disgusting.",
                      "offset": 0,
                      "length": 54
                    }
                  ],
                  "5": []
                },
                {
                  "0": "NOT WHAT I WANTED.",
                  "1": "negative",
                  "3": {
                    "positive": 0.01,
                    "neutral": 0.02,
                    "negative": 0.97
                  },
                  "4": [
                    {
                      "sentiment": "negative",
                      "confidenceScores": {
                        "positive": 0.01,
                        "neutral": 0.02,
                        "negative": 0.97
                      },
                      "text": "NOT WHAT I WANTED.",
                      "offset": 0,
                      "length": 18
                    }
                  ],
                  "5": []
                },
                {
                  "0": "I own 2 of these cases and would order another.",
                  "1": "neutral",
                  "3": {
                    "positive": 0.02,
                    "neutral": 0.96,
                    "negative": 0.02
                  },
                  "4": [
                    {
                      "sentiment": "neutral",
                      "confidenceScores": {
                        "positive": 0.02,
                        "neutral": 0.96,
                        "negative": 0.02
                      },
                      "text": "I own 2 of these cases and would order another.",
                      "offset": 0,
                      "length": 47
                    }
                  ],
                  "5": []
                },
                {
                  "0": "Great Phone.",
                  "1": "positive",
                  "3": {
                    "positive": 1,
                    "neutral": 0,
                    "negative": 0
                  },
                  "4": [
                    {
                      "sentiment": "positive",
                      "confidenceScores": {
                        "positive": 1,
                        "neutral": 0,
                        "negative": 0
                      },
                      "text": "Great Phone.",
                      "offset": 0,
                      "length": 12
                    }
                  ],
                  "5": []
                },
                {
                  "0": "I bought this battery with a coupon from Amazon and I'm very happy with my purchase.",
                  "1": "positive",
                  "3": {
                    "positive": 0.99,
                    "neutral": 0,
                    "negative": 0
                  },
                  "4": [
                    {
                      "sentiment": "positive",
                      "confidenceScores": {
                        "positive": 0.99,
                        "neutral": 0,
                        "negative": 0
                      },
                      "text": "I bought this battery with a coupon from Amazon and I'm very happy with my purchase.",
                      "offset": 0,
                      "length": 84
                    }
                  ],
                  "5": []
                },
                {
                  "0": "The internet access was fine, it the rare instance that it worked.",
                  "1": "positive",
                  "3": {
                    "positive": 0.98,
                    "neutral": 0.01,
                    "negative": 0.02
                  },
                  "4": [
                    {
                      "sentiment": "positive",
                      "confidenceScores": {
                        "positive": 0.98,
                        "neutral": 0.01,
                        "negative": 0.02
                      },
                      "text": "The internet access was fine, it the rare instance that it worked.",
                      "offset": 0,
                      "length": 66
                    }
                  ],
                  "5": []
                },
                {
                  "0": "Perfect for the PS3.",
                  "1": "positive",
                  "3": {
                    "positive": 0.99,
                    "neutral": 0,
                    "negative": 0
                  },
                  "4": [
                    {
                      "sentiment": "positive",
                      "confidenceScores": {
                        "positive": 0.99,
                        "neutral": 0,
                        "negative": 0
                      },
                      "text": "Perfect for the PS3.",
                      "offset": 0,
                      "length": 20
                    }
                  ],
                  "5": []
                },
                {
                  "0": "Five star Plus, plus.",
                  "1": "neutral",
                  "3": {
                    "positive": 0.04,
                    "neutral": 0.95,
                    "negative": 0.01
                  },
                  "4": [
                    {
                      "sentiment": "neutral",
                      "confidenceScores": {
                        "positive": 0.04,
                        "neutral": 0.95,
                        "negative": 0.01
                      },
                      "text": "Five star Plus, plus.",
                      "offset": 0,
                      "length": 21
                    }
                  ],
                  "5": []
                },
                {
                  "0": "A good quality bargain.. I bought this after I bought a cheapy from Big Lots that sounded awful and people on the other end couldn't hear me.",
                  "1": "mixed",
                  "3": {
                    "positive": 0.5,
                    "neutral": 0,
                    "negative": 0.5
                  },
                  "4": [
                    {
                      "sentiment": "positive",
                      "confidenceScores": {
                        "positive": 1,
                        "neutral": 0,
                        "negative": 0
                      },
                      "text": "A good quality bargain.. ",
                      "offset": 0,
                      "length": 25
                    },
                    {
                      "sentiment": "negative",
                      "confidenceScores": {
                        "positive": 0,
                        "neutral": 0,
                        "negative": 0.99
                      },
                      "text": "I bought this after I bought a cheapy from Big Lots that sounded awful and people on the other end couldn't hear me.",
                      "offset": 25,
                      "length": 116
                    }
                  ],
                  "5": []
                },
                {
                  "0": "$50 Down the drain.",
                  "1": "negative",
                  "3": {
                    "positive": 0.02,
                    "neutral": 0.2,
                    "negative": 0.79
                  },
                  "4": [
                    {
                      "sentiment": "negative",
                      "confidenceScores": {
                        "positive": 0.02,
                        "neutral": 0.2,
                        "negative": 0.79
                      },
                      "text": "$50 Down the drain.",
                      "offset": 0,
                      "length": 19
                    }
                  ],
                  "5": []
                },
                {
                  "0": "I tried talking real loud but shouting on the telephone gets old and I was still told it wasn't great.",
                  "1": "negative",
                  "3": {
                    "positive": 0,
                    "neutral": 0,
                    "negative": 0.99
                  },
                  "4": [
                    {
                      "sentiment": "negative",
                      "confidenceScores": {
                        "positive": 0,
                        "neutral": 0,
                        "negative": 0.99
                      },
                      "text": "I tried talking real loud but shouting on the telephone gets old and I was still told it wasn't great.",
                      "offset": 0,
                      "length": 102
                    }
                  ],
                  "5": []
                },
                {
                  "0": "Good , works fine.",
                  "1": "positive",
                  "3": {
                    "positive": 1,
                    "neutral": 0,
                    "negative": 0
                  },
                  "4": [
                    {
                      "sentiment": "positive",
                      "confidenceScores": {
                        "positive": 1,
                        "neutral": 0,
                        "negative": 0
                      },
                      "text": "Good , works fine.",
                      "offset": 0,
                      "length": 18
                    }
                  ],
                  "5": []
                },
                {
                  "0": "For the price this was a great deal.",
                  "1": "positive",
                  "3": {
                    "positive": 0.99,
                    "neutral": 0,
                    "negative": 0.01
                  },
                  "4": [
                    {
                      "sentiment": "positive",
                      "confidenceScores": {
                        "positive": 0.99,
                        "neutral": 0,
                        "negative": 0.01
                      },
                      "text": "For the price this was a great deal.",
                      "offset": 0,
                      "length": 36
                    }
                  ],
                  "5": []
                },
                {
                  "0": "Great price, too!",
                  "1": "positive",
                  "3": {
                    "positive": 1,
                    "neutral": 0,
                    "negative": 0
                  },
                  "4": [
                    {
                      "sentiment": "positive",
                      "confidenceScores": {
                        "positive": 1,
                        "neutral": 0,
                        "negative": 0
                      },
                      "text": "Great price, too!",
                      "offset": 0,
                      "length": 17
                    }
                  ],
                  "5": []
                },
                {
                  "0": "If there is a wind, it is completely useless.",
                  "1": "negative",
                  "3": {
                    "positive": 0,
                    "neutral": 0.01,
                    "negative": 0.98
                  },
                  "4": [
                    {
                      "sentiment": "negative",
                      "confidenceScores": {
                        "positive": 0,
                        "neutral": 0.01,
                        "negative": 0.98
                      },
                      "text": "If there is a wind, it is completely useless.",
                      "offset": 0,
                      "length": 45
                    }
                  ],
                  "5": []
                },
                {
                  "0": "Yes it's shiny on front side - and I love it!",
                  "1": "positive",
                  "3": {
                    "positive": 0.99,
                    "neutral": 0.01,
                    "negative": 0
                  },
                  "4": [
                    {
                      "sentiment": "positive",
                      "confidenceScores": {
                        "positive": 0.99,
                        "neutral": 0.01,
                        "negative": 0
                      },
                      "text": "Yes it's shiny on front side - and I love it!",
                      "offset": 0,
                      "length": 45
                    }
                  ],
                  "5": []
                },
                {
                  "0": "Does Not Work.",
                  "1": "negative",
                  "3": {
                    "positive": 0,
                    "neutral": 0.02,
                    "negative": 0.98
                  },
                  "4": [
                    {
                      "sentiment": "negative",
                      "confidenceScores": {
                        "positive": 0,
                        "neutral": 0.02,
                        "negative": 0.98
                      },
                      "text": "Does Not Work.",
                      "offset": 0,
                      "length": 14
                    }
                  ],
                  "5": []
                },
                {
                  "0": "At first I thought I was grtting a good deal at $7.44, until I plugged it into my phone (V3c Razr).",
                  "1": "neutral",
                  "3": {
                    "positive": 0.33,
                    "neutral": 0.48,
                    "negative": 0.19
                  },
                  "4": [
                    {
                      "sentiment": "neutral",
                      "confidenceScores": {
                        "positive": 0.33,
                        "neutral": 0.48,
                        "negative": 0.19
                      },
                      "text": "At first I thought I was grtting a good deal at $7.44, until I plugged it into my phone (V3c Razr).",
                      "offset": 0,
                      "length": 99
                    }
                  ],
                  "5": []
                },
                {
                  "0": "The reception through this headset is excellent.",
                  "1": "positive",
                  "3": {
                    "positive": 1,
                    "neutral": 0,
                    "negative": 0
                  },
                  "4": [
                    {
                      "sentiment": "positive",
                      "confidenceScores": {
                        "positive": 1,
                        "neutral": 0,
                        "negative": 0
                      },
                      "text": "The reception through this headset is excellent.",
                      "offset": 0,
                      "length": 48
                    }
                  ],
                  "5": []
                },
                {
                  "0": "2 thumbs up to this seller",
                  "1": "positive",
                  "3": {
                    "positive": 0.58,
                    "neutral": 0.31,
                    "negative": 0.11
                  },
                  "4": [
                    {
                      "sentiment": "positive",
                      "confidenceScores": {
                        "positive": 0.58,
                        "neutral": 0.31,
                        "negative": 0.11
                      },
                      "text": "2 thumbs up to this seller",
                      "offset": 0,
                      "length": 26
                    }
                  ],
                  "5": []
                },
                {
                  "0": "I have a Verizon LG phone and they work well together, good reception and range that exceeds 20 feet line of sight.",
                  "1": "positive",
                  "3": {
                    "positive": 1,
                    "neutral": 0,
                    "negative": 0
                  },
                  "4": [
                    {
                      "sentiment": "positive",
                      "confidenceScores": {
                        "positive": 1,
                        "neutral": 0,
                        "negative": 0
                      },
                      "text": "I have a Verizon LG phone and they work well together, good reception and range that exceeds 20 feet line of sight.",
                      "offset": 0,
                      "length": 115
                    }
                  ],
                  "5": []
                },
                {
                  "0": "Improper description.... I had to return it.",
                  "1": "negative",
                  "3": {
                    "positive": 0,
                    "neutral": 0,
                    "negative": 0.99
                  },
                  "4": [
                    {
                      "sentiment": "negative",
                      "confidenceScores": {
                        "positive": 0,
                        "neutral": 0,
                        "negative": 0.99
                      },
                      "text": "Improper description.... ",
                      "offset": 0,
                      "length": 25
                    },
                    {
                      "sentiment": "neutral",
                      "confidenceScores": {
                        "positive": 0.03,
                        "neutral": 0.78,
                        "negative": 0.19
                      },
                      "text": "I had to return it.",
                      "offset": 25,
                      "length": 19
                    }
                  ],
                  "5": []
                },
                {
                  "0": "#1 It Works - #2 It is Comfortable.",
                  "1": "positive",
                  "3": {
                    "positive": 0.97,
                    "neutral": 0.02,
                    "negative": 0
                  },
                  "4": [
                    {
                      "sentiment": "positive",
                      "confidenceScores": {
                        "positive": 0.97,
                        "neutral": 0.02,
                        "negative": 0
                      },
                      "text": "#1 It Works - #2 It is Comfortable.",
                      "offset": 0,
                      "length": 35
                    }
                  ],
                  "5": []
                },
                {
                  "0": "Battery charge-life is quite long.",
                  "1": "neutral",
                  "3": {
                    "positive": 0.02,
                    "neutral": 0.95,
                    "negative": 0.03
                  },
                  "4": [
                    {
                      "sentiment": "neutral",
                      "confidenceScores": {
                        "positive": 0.02,
                        "neutral": 0.95,
                        "negative": 0.03
                      },
                      "text": "Battery charge-life is quite long.",
                      "offset": 0,
                      "length": 34
                    }
                  ],
                  "5": []
                },
                {
                  "0": "The Jabra EarGels fit my ears very well.",
                  "1": "positive",
                  "3": {
                    "positive": 0.98,
                    "neutral": 0.02,
                    "negative": 0
                  },
                  "4": [
                    {
                      "sentiment": "positive",
                      "confidenceScores": {
                        "positive": 0.98,
                        "neutral": 0.02,
                        "negative": 0
                      },
                      "text": "The Jabra EarGels fit my ears very well.",
                      "offset": 0,
                      "length": 40
                    }
                  ],
                  "5": []
                },
                {
                  "0": "Battery has no life.",
                  "1": "negative",
                  "3": {
                    "positive": 0.01,
                    "neutral": 0.33,
                    "negative": 0.66
                  },
                  "4": [
                    {
                      "sentiment": "negative",
                      "confidenceScores": {
                        "positive": 0.01,
                        "neutral": 0.33,
                        "negative": 0.66
                      },
                      "text": "Battery has no life.",
                      "offset": 0,
                      "length": 20
                    }
                  ],
                  "5": []
                },
                {
                  "0": "I checked everywhere and there is no feature for it which is really disappointing.",
                  "1": "negative",
                  "3": {
                    "positive": 0,
                    "neutral": 0,
                    "negative": 0.99
                  },
                  "4": [
                    {
                      "sentiment": "negative",
                      "confidenceScores": {
                        "positive": 0,
                        "neutral": 0,
                        "negative": 0.99
                      },
                      "text": "I checked everywhere and there is no feature for it which is really disappointing.",
                      "offset": 0,
                      "length": 82
                    }
                  ],
                  "5": []
                },
                {
                  "0": "Product is exactly as described.",
                  "1": "positive",
                  "3": {
                    "positive": 0.96,
                    "neutral": 0.03,
                    "negative": 0.01
                  },
                  "4": [
                    {
                      "sentiment": "positive",
                      "confidenceScores": {
                        "positive": 0.96,
                        "neutral": 0.03,
                        "negative": 0.01
                      },
                      "text": "Product is exactly as described.",
                      "offset": 0,
                      "length": 32
                    }
                  ],
                  "5": []
                },
                {
                  "0": "Gets a signal when other Verizon phones won't.",
                  "1": "neutral",
                  "3": {
                    "positive": 0.04,
                    "neutral": 0.91,
                    "negative": 0.06
                  },
                  "4": [
                    {
                      "sentiment": "neutral",
                      "confidenceScores": {
                        "positive": 0.04,
                        "neutral": 0.91,
                        "negative": 0.06
                      },
                      "text": "Gets a signal when other Verizon phones won't.",
                      "offset": 0,
                      "length": 46
                    }
                  ],
                  "5": []
                },
                {
                  "0": "Doesn't do the job.",
                  "1": "negative",
                  "3": {
                    "positive": 0,
                    "neutral": 0.03,
                    "negative": 0.97
                  },
                  "4": [
                    {
                      "sentiment": "negative",
                      "confidenceScores": {
                        "positive": 0,
                        "neutral": 0.03,
                        "negative": 0.97
                      },
                      "text": "Doesn't do the job.",
                      "offset": 0,
                      "length": 19
                    }
                  ],
                  "5": []
                },
                {
                  "0": "I would recommend it.",
                  "1": "positive",
                  "3": {
                    "positive": 0.99,
                    "neutral": 0,
                    "negative": 0.01
                  },
                  "4": [
                    {
                      "sentiment": "positive",
                      "confidenceScores": {
                        "positive": 0.99,
                        "neutral": 0,
                        "negative": 0.01
                      },
                      "text": "I would recommend it.",
                      "offset": 0,
                      "length": 21
                    }
                  ],
                  "5": []
                },
                {
                  "0": "Plan on ordering from them again and again.",
                  "1": "neutral",
                  "3": {
                    "positive": 0.07,
                    "neutral": 0.9,
                    "negative": 0.02
                  },
                  "4": [
                    {
                      "sentiment": "neutral",
                      "confidenceScores": {
                        "positive": 0.07,
                        "neutral": 0.9,
                        "negative": 0.02
                      },
                      "text": "Plan on ordering from them again and again.",
                      "offset": 0,
                      "length": 43
                    }
                  ],
                  "5": []
                },
                {
                  "0": "\"That being said, for a phone, the camera is very nice; many cool effects to play with, and video is decent as well.\"",
                  "1": "positive",
                  "3": {
                    "positive": 0.99,
                    "neutral": 0,
                    "negative": 0
                  },
                  "4": [
                    {
                      "sentiment": "positive",
                      "confidenceScores": {
                        "positive": 0.99,
                        "neutral": 0.01,
                        "negative": 0
                      },
                      "text": "\"That being said, for a phone, the camera is very nice; ",
                      "offset": 0,
                      "length": 56
                    },
                    {
                      "sentiment": "positive",
                      "confidenceScores": {
                        "positive": 0.99,
                        "neutral": 0,
                        "negative": 0
                      },
                      "text": "many cool effects to play with, and video is decent as well.\"",
                      "offset": 56,
                      "length": 61
                    }
                  ],
                  "5": []
                },
                {
                  "0": "I have been very satisfied with this cell phone from day one.",
                  "1": "positive",
                  "3": {
                    "positive": 0.99,
                    "neutral": 0.01,
                    "negative": 0.01
                  },
                  "4": [
                    {
                      "sentiment": "positive",
                      "confidenceScores": {
                        "positive": 0.99,
                        "neutral": 0.01,
                        "negative": 0.01
                      },
                      "text": "I have been very satisfied with this cell phone from day one.",
                      "offset": 0,
                      "length": 61
                    }
                  ],
                  "5": []
                },
                {
                  "0": "They keep getting better and better (this is my third one and I've had numerous Palms too).",
                  "1": "positive",
                  "3": {
                    "positive": 0.92,
                    "neutral": 0.06,
                    "negative": 0.02
                  },
                  "4": [
                    {
                      "sentiment": "positive",
                      "confidenceScores": {
                        "positive": 0.92,
                        "neutral": 0.06,
                        "negative": 0.02
                      },
                      "text": "They keep getting better and better (this is my third one and I've had numerous Palms too).",
                      "offset": 0,
                      "length": 91
                    }
                  ],
                  "5": []
                },
                {
                  "0": "Awkward to use and unreliable.",
                  "1": "negative",
                  "3": {
                    "positive": 0,
                    "neutral": 0,
                    "negative": 0.99
                  },
                  "4": [
                    {
                      "sentiment": "negative",
                      "confidenceScores": {
                        "positive": 0,
                        "neutral": 0,
                        "negative": 0.99
                      },
                      "text": "Awkward to use and unreliable.",
                      "offset": 0,
                      "length": 30
                    }
                  ],
                  "5": []
                },
                {
                  "0": "The shipping time was also very quick!",
                  "1": "positive",
                  "3": {
                    "positive": 0.98,
                    "neutral": 0.01,
                    "negative": 0.01
                  },
                  "4": [
                    {
                      "sentiment": "positive",
                      "confidenceScores": {
                        "positive": 0.98,
                        "neutral": 0.01,
                        "negative": 0.01
                      },
                      "text": "The shipping time was also very quick!",
                      "offset": 0,
                      "length": 38
                    }
                  ],
                  "5": []
                },
                {
                  "0": "Not as good as I had hoped.",
                  "1": "negative",
                  "3": {
                    "positive": 0.01,
                    "neutral": 0,
                    "negative": 0.99
                  },
                  "4": [
                    {
                      "sentiment": "negative",
                      "confidenceScores": {
                        "positive": 0.01,
                        "neutral": 0,
                        "negative": 0.99
                      },
                      "text": "Not as good as I had hoped.",
                      "offset": 0,
                      "length": 27
                    }
                  ],
                  "5": []
                },
                {
                  "0": "Good case!.",
                  "1": "positive",
                  "3": {
                    "positive": 1,
                    "neutral": 0,
                    "negative": 0
                  },
                  "4": [
                    {
                      "sentiment": "positive",
                      "confidenceScores": {
                        "positive": 1,
                        "neutral": 0,
                        "negative": 0
                      },
                      "text": "Good case!.",
                      "offset": 0,
                      "length": 11
                    }
                  ],
                  "5": []
                },
                {
                  "0": "Doesn't Work.",
                  "1": "negative",
                  "3": {
                    "positive": 0,
                    "neutral": 0.02,
                    "negative": 0.98
                  },
                  "4": [
                    {
                      "sentiment": "negative",
                      "confidenceScores": {
                        "positive": 0,
                        "neutral": 0.02,
                        "negative": 0.98
                      },
                      "text": "Doesn't Work.",
                      "offset": 0,
                      "length": 13
                    }
                  ],
                  "5": []
                },
                {
                  "0": "Really good product.",
                  "1": "positive",
                  "3": {
                    "positive": 1,
                    "neutral": 0,
                    "negative": 0
                  },
                  "4": [
                    {
                      "sentiment": "positive",
                      "confidenceScores": {
                        "positive": 1,
                        "neutral": 0,
                        "negative": 0
                      },
                      "text": "Really good product.",
                      "offset": 0,
                      "length": 20
                    }
                  ],
                  "5": []
                },
                {
                  "0": "Unfortunately it did not work.",
                  "1": "negative",
                  "3": {
                    "positive": 0,
                    "neutral": 0,
                    "negative": 0.99
                  },
                  "4": [
                    {
                      "sentiment": "negative",
                      "confidenceScores": {
                        "positive": 0,
                        "neutral": 0,
                        "negative": 0.99
                      },
                      "text": "Unfortunately it did not work.",
                      "offset": 0,
                      "length": 30
                    }
                  ],
                  "5": []
                },
                {
                  "0": "All three broke within two months of use.",
                  "1": "negative",
                  "3": {
                    "positive": 0,
                    "neutral": 0.01,
                    "negative": 0.99
                  },
                  "4": [
                    {
                      "sentiment": "negative",
                      "confidenceScores": {
                        "positive": 0,
                        "neutral": 0.01,
                        "negative": 0.99
                      },
                      "text": "All three broke within two months of use.",
                      "offset": 0,
                      "length": 41
                    }
                  ],
                  "5": []
                },
                {
                  "0": "dont buy it.",
                  "1": "negative",
                  "3": {
                    "positive": 0.01,
                    "neutral": 0.09,
                    "negative": 0.9
                  },
                  "4": [
                    {
                      "sentiment": "negative",
                      "confidenceScores": {
                        "positive": 0.01,
                        "neutral": 0.09,
                        "negative": 0.9
                      },
                      "text": "dont buy it.",
                      "offset": 0,
                      "length": 12
                    }
                  ],
                  "5": []
                },
                {
                  "0": "My father has the V265, and the battery is dying.",
                  "1": "negative",
                  "3": {
                    "positive": 0,
                    "neutral": 0.04,
                    "negative": 0.96
                  },
                  "4": [
                    {
                      "sentiment": "negative",
                      "confidenceScores": {
                        "positive": 0,
                        "neutral": 0.04,
                        "negative": 0.96
                      },
                      "text": "My father has the V265, and the battery is dying.",
                      "offset": 0,
                      "length": 49
                    }
                  ],
                  "5": []
                },
                {
                  "0": "However, the ear pads come off easily and after only one week I lost one.",
                  "1": "negative",
                  "3": {
                    "positive": 0.01,
                    "neutral": 0.01,
                    "negative": 0.98
                  },
                  "4": [
                    {
                      "sentiment": "negative",
                      "confidenceScores": {
                        "positive": 0.01,
                        "neutral": 0.01,
                        "negative": 0.98
                      },
                      "text": "However, the ear pads come off easily and after only one week I lost one.",
                      "offset": 0,
                      "length": 73
                    }
                  ],
                  "5": []
                },
                {
                  "0": "The calls drop, the phone comes on and off at will, the screen goes black and the worst of all it stops ringing intermittently.",
                  "1": "negative",
                  "3": {
                    "positive": 0,
                    "neutral": 0,
                    "negative": 1
                  },
                  "4": [
                    {
                      "sentiment": "negative",
                      "confidenceScores": {
                        "positive": 0,
                        "neutral": 0,
                        "negative": 1
                      },
                      "text": "The calls drop, the phone comes on and off at will, the screen goes black and the worst of all it stops ringing intermittently.",
                      "offset": 0,
                      "length": 127
                    }
                  ],
                  "5": []
                },
                {
                  "0": "Horrible, horrible protector.",
                  "1": "negative",
                  "3": {
                    "positive": 0.02,
                    "neutral": 0,
                    "negative": 0.97
                  },
                  "4": [
                    {
                      "sentiment": "negative",
                      "confidenceScores": {
                        "positive": 0.02,
                        "neutral": 0,
                        "negative": 0.97
                      },
                      "text": "Horrible, horrible protector.",
                      "offset": 0,
                      "length": 29
                    }
                  ],
                  "5": []
                },
                {
                  "0": "I don't like this Nokia either.",
                  "1": "negative",
                  "3": {
                    "positive": 0.01,
                    "neutral": 0.45,
                    "negative": 0.54
                  },
                  "4": [
                    {
                      "sentiment": "negative",
                      "confidenceScores": {
                        "positive": 0.01,
                        "neutral": 0.45,
                        "negative": 0.54
                      },
                      "text": "I don't like this Nokia either.",
                      "offset": 0,
                      "length": 31
                    }
                  ],
                  "5": []
                },
                {
                  "0": "Reaching for the bottom row is uncomfortable, and the send and end keys are not where I expect them to be.3.",
                  "1": "negative",
                  "3": {
                    "positive": 0,
                    "neutral": 0,
                    "negative": 0.99
                  },
                  "4": [
                    {
                      "sentiment": "negative",
                      "confidenceScores": {
                        "positive": 0,
                        "neutral": 0,
                        "negative": 0.99
                      },
                      "text": "Reaching for the bottom row is uncomfortable, and the send and end keys are not where I expect them to be.3.",
                      "offset": 0,
                      "length": 108
                    }
                  ],
                  "5": []
                },
                {
                  "0": "I have bought this Nokia cell phone a few weeks ago and it was a nightmare.",
                  "1": "negative",
                  "3": {
                    "positive": 0,
                    "neutral": 0,
                    "negative": 0.99
                  },
                  "4": [
                    {
                      "sentiment": "negative",
                      "confidenceScores": {
                        "positive": 0,
                        "neutral": 0,
                        "negative": 0.99
                      },
                      "text": "I have bought this Nokia cell phone a few weeks ago and it was a nightmare.",
                      "offset": 0,
                      "length": 75
                    }
                  ],
                  "5": []
                },
                {
                  "0": "It would take too long to describe how bad my customer service experience has been with Amazon.",
                  "1": "negative",
                  "3": {
                    "positive": 0,
                    "neutral": 0,
                    "negative": 0.99
                  },
                  "4": [
                    {
                      "sentiment": "negative",
                      "confidenceScores": {
                        "positive": 0,
                        "neutral": 0,
                        "negative": 0.99
                      },
                      "text": "It would take too long to describe how bad my customer service experience has been with Amazon.",
                      "offset": 0,
                      "length": 95
                    }
                  ],
                  "5": []
                },
                {
                  "0": "the only VERY DISAPPOINTING thing was there was NO SPEAKERPHONE!!!!",
                  "1": "negative",
                  "3": {
                    "positive": 0.01,
                    "neutral": 0.01,
                    "negative": 0.99
                  },
                  "4": [
                    {
                      "sentiment": "negative",
                      "confidenceScores": {
                        "positive": 0.01,
                        "neutral": 0.01,
                        "negative": 0.99
                      },
                      "text": "the only VERY DISAPPOINTING thing was there was NO SPEAKERPHONE!!!!",
                      "offset": 0,
                      "length": 67
                    }
                  ],
                  "5": []
                },
                {
                  "0": "Terrible.. My car will not accept this cassette.",
                  "1": "negative",
                  "3": {
                    "positive": 0.01,
                    "neutral": 0.15,
                    "negative": 0.83
                  },
                  "4": [
                    {
                      "sentiment": "negative",
                      "confidenceScores": {
                        "positive": 0.02,
                        "neutral": 0.01,
                        "negative": 0.97
                      },
                      "text": "Terrible.. ",
                      "offset": 0,
                      "length": 11
                    },
                    {
                      "sentiment": "negative",
                      "confidenceScores": {
                        "positive": 0.01,
                        "neutral": 0.3,
                        "negative": 0.69
                      },
                      "text": "My car will not accept this cassette.",
                      "offset": 11,
                      "length": 37
                    }
                  ],
                  "5": []
                },
                {
                  "0": "Product is useless, since it does not have enough charging current to charge the 2 cellphones I was planning to use it with.",
                  "1": "negative",
                  "3": {
                    "positive": 0,
                    "neutral": 0,
                    "negative": 1
                  },
                  "4": [
                    {
                      "sentiment": "negative",
                      "confidenceScores": {
                        "positive": 0,
                        "neutral": 0,
                        "negative": 1
                      },
                      "text": "Product is useless, since it does not have enough charging current to charge the 2 cellphones I was planning to use it with.",
                      "offset": 0,
                      "length": 124
                    }
                  ],
                  "5": []
                },
                {
                  "0": "It's not what it says it is.",
                  "1": "negative",
                  "3": {
                    "positive": 0.01,
                    "neutral": 0.32,
                    "negative": 0.67
                  },
                  "4": [
                    {
                      "sentiment": "negative",
                      "confidenceScores": {
                        "positive": 0.01,
                        "neutral": 0.32,
                        "negative": 0.67
                      },
                      "text": "It's not what it says it is.",
                      "offset": 0,
                      "length": 28
                    }
                  ],
                  "5": []
                },
                {
                  "0": "Stay Away From the Q!.",
                  "1": "neutral",
                  "3": {
                    "positive": 0.08,
                    "neutral": 0.65,
                    "negative": 0.27
                  },
                  "4": [
                    {
                      "sentiment": "neutral",
                      "confidenceScores": {
                        "positive": 0.08,
                        "neutral": 0.65,
                        "negative": 0.27
                      },
                      "text": "Stay Away From the Q!.",
                      "offset": 0,
                      "length": 22
                    }
                  ],
                  "5": []
                },
                {
                  "0": "Used and dirty.",
                  "1": "negative",
                  "3": {
                    "positive": 0.01,
                    "neutral": 0,
                    "negative": 0.99
                  },
                  "4": [
                    {
                      "sentiment": "negative",
                      "confidenceScores": {
                        "positive": 0.01,
                        "neutral": 0,
                        "negative": 0.99
                      },
                      "text": "Used and dirty.",
                      "offset": 0,
                      "length": 15
                    }
                  ],
                  "5": []
                },
                {
                  "0": "Very unreliable service from T-mobile !",
                  "1": "negative",
                  "3": {
                    "positive": 0,
                    "neutral": 0,
                    "negative": 0.99
                  },
                  "4": [
                    {
                      "sentiment": "negative",
                      "confidenceScores": {
                        "positive": 0,
                        "neutral": 0,
                        "negative": 0.99
                      },
                      "text": "Very unreliable service from T-mobile !",
                      "offset": 0,
                      "length": 39
                    }
                  ],
                  "5": []
                },
                {
                  "0": "Not good enough for the price.",
                  "1": "negative",
                  "3": {
                    "positive": 0,
                    "neutral": 0,
                    "negative": 0.99
                  },
                  "4": [
                    {
                      "sentiment": "negative",
                      "confidenceScores": {
                        "positive": 0,
                        "neutral": 0,
                        "negative": 0.99
                      },
                      "text": "Not good enough for the price.",
                      "offset": 0,
                      "length": 30
                    }
                  ],
                  "5": []
                },
                {
                  "0": "I bought two of them and neither will charge.",
                  "1": "neutral",
                  "3": {
                    "positive": 0.01,
                    "neutral": 0.89,
                    "negative": 0.1
                  },
                  "4": [
                    {
                      "sentiment": "neutral",
                      "confidenceScores": {
                        "positive": 0.01,
                        "neutral": 0.89,
                        "negative": 0.1
                      },
                      "text": "I bought two of them and neither will charge.",
                      "offset": 0,
                      "length": 45
                    }
                  ],
                  "5": []
                },
                {
                  "0": "It looks very nice.",
                  "1": "positive",
                  "3": {
                    "positive": 0.99,
                    "neutral": 0.01,
                    "negative": 0
                  },
                  "4": [
                    {
                      "sentiment": "positive",
                      "confidenceScores": {
                        "positive": 0.99,
                        "neutral": 0.01,
                        "negative": 0
                      },
                      "text": "It looks very nice.",
                      "offset": 0,
                      "length": 19
                    }
                  ],
                  "5": []
                },
                {
                  "0": "This is an excellent tool, especially when paired with your phone's auto-answer.",
                  "1": "positive",
                  "3": {
                    "positive": 1,
                    "neutral": 0,
                    "negative": 0
                  },
                  "4": [
                    {
                      "sentiment": "positive",
                      "confidenceScores": {
                        "positive": 1,
                        "neutral": 0,
                        "negative": 0
                      },
                      "text": "This is an excellent tool, especially when paired with your phone's auto-answer.",
                      "offset": 0,
                      "length": 80
                    }
                  ],
                  "5": []
                },
                {
                  "0": "I have read other's reviews here but I haven't had any problem with it.",
                  "1": "positive",
                  "3": {
                    "positive": 0.44,
                    "neutral": 0.24,
                    "negative": 0.31
                  },
                  "4": [
                    {
                      "sentiment": "positive",
                      "confidenceScores": {
                        "positive": 0.44,
                        "neutral": 0.24,
                        "negative": 0.31
                      },
                      "text": "I have read other's reviews here but I haven't had any problem with it.",
                      "offset": 0,
                      "length": 71
                    }
                  ],
                  "5": []
                },
                {
                  "0": "These products cover up the important light sensor above the ear outlet.",
                  "1": "neutral",
                  "3": {
                    "positive": 0.02,
                    "neutral": 0.97,
                    "negative": 0.01
                  },
                  "4": [
                    {
                      "sentiment": "neutral",
                      "confidenceScores": {
                        "positive": 0.02,
                        "neutral": 0.97,
                        "negative": 0.01
                      },
                      "text": "These products cover up the important light sensor above the ear outlet.",
                      "offset": 0,
                      "length": 72
                    }
                  ],
                  "5": []
                },
                {
                  "0": "Comfortable in my hand.",
                  "1": "positive",
                  "3": {
                    "positive": 0.99,
                    "neutral": 0.01,
                    "negative": 0
                  },
                  "4": [
                    {
                      "sentiment": "positive",
                      "confidenceScores": {
                        "positive": 0.99,
                        "neutral": 0.01,
                        "negative": 0
                      },
                      "text": "Comfortable in my hand.",
                      "offset": 0,
                      "length": 23
                    }
                  ],
                  "5": []
                },
                {
                  "0": "Just does not work.",
                  "1": "negative",
                  "3": {
                    "positive": 0,
                    "neutral": 0.01,
                    "negative": 0.99
                  },
                  "4": [
                    {
                      "sentiment": "negative",
                      "confidenceScores": {
                        "positive": 0,
                        "neutral": 0.01,
                        "negative": 0.99
                      },
                      "text": "Just does not work.",
                      "offset": 0,
                      "length": 19
                    }
                  ],
                  "5": []
                },
                {
                  "0": "Poor Reliability.",
                  "1": "negative",
                  "3": {
                    "positive": 0,
                    "neutral": 0,
                    "negative": 0.99
                  },
                  "4": [
                    {
                      "sentiment": "negative",
                      "confidenceScores": {
                        "positive": 0,
                        "neutral": 0,
                        "negative": 0.99
                      },
                      "text": "Poor Reliability.",
                      "offset": 0,
                      "length": 17
                    }
                  ],
                  "5": []
                },
                {
                  "0": "(It works!)",
                  "1": "neutral",
                  "3": {
                    "positive": 0.29,
                    "neutral": 0.68,
                    "negative": 0.03
                  },
                  "4": [
                    {
                      "sentiment": "neutral",
                      "confidenceScores": {
                        "positive": 0.29,
                        "neutral": 0.68,
                        "negative": 0.03
                      },
                      "text": "(It works!)",
                      "offset": 0,
                      "length": 11
                    }
                  ],
                  "5": []
                },
                {
                  "0": "If I take a picture, the battery drops a bar, and starts beeping, letting me know its dieing.",
                  "1": "negative",
                  "3": {
                    "positive": 0,
                    "neutral": 0.13,
                    "negative": 0.87
                  },
                  "4": [
                    {
                      "sentiment": "negative",
                      "confidenceScores": {
                        "positive": 0,
                        "neutral": 0.13,
                        "negative": 0.87
                      },
                      "text": "If I take a picture, the battery drops a bar, and starts beeping, letting me know its dieing.",
                      "offset": 0,
                      "length": 93
                    }
                  ],
                  "5": []
                },
                {
                  "0": "Terrible product, and waste of money!",
                  "1": "negative",
                  "3": {
                    "positive": 0.01,
                    "neutral": 0,
                    "negative": 0.99
                  },
                  "4": [
                    {
                      "sentiment": "negative",
                      "confidenceScores": {
                        "positive": 0.01,
                        "neutral": 0,
                        "negative": 0.99
                      },
                      "text": "Terrible product, and waste of money!",
                      "offset": 0,
                      "length": 37
                    }
                  ],
                  "5": []
                },
                {
                  "0": "Last time buying from you.",
                  "1": "positive",
                  "3": {
                    "positive": 0.67,
                    "neutral": 0.26,
                    "negative": 0.06
                  },
                  "4": [
                    {
                      "sentiment": "positive",
                      "confidenceScores": {
                        "positive": 0.67,
                        "neutral": 0.26,
                        "negative": 0.06
                      },
                      "text": "Last time buying from you.",
                      "offset": 0,
                      "length": 26
                    }
                  ],
                  "5": []
                },
                {
                  "0": "It was a waste of my money.",
                  "1": "negative",
                  "3": {
                    "positive": 0,
                    "neutral": 0,
                    "negative": 0.99
                  },
                  "4": [
                    {
                      "sentiment": "negative",
                      "confidenceScores": {
                        "positive": 0,
                        "neutral": 0,
                        "negative": 0.99
                      },
                      "text": "It was a waste of my money.",
                      "offset": 0,
                      "length": 27
                    }
                  ],
                  "5": []
                },
                {
                  "0": "So far it has worked like a charm.",
                  "1": "positive",
                  "3": {
                    "positive": 0.99,
                    "neutral": 0.01,
                    "negative": 0.01
                  },
                  "4": [
                    {
                      "sentiment": "positive",
                      "confidenceScores": {
                        "positive": 0.99,
                        "neutral": 0.01,
                        "negative": 0.01
                      },
                      "text": "So far it has worked like a charm.",
                      "offset": 0,
                      "length": 34
                    }
                  ],
                  "5": []
                },
                {
                  "0": "I have only had it for a few weeks, but so far, so good.",
                  "1": "positive",
                  "3": {
                    "positive": 0.99,
                    "neutral": 0,
                    "negative": 0
                  },
                  "4": [
                    {
                      "sentiment": "positive",
                      "confidenceScores": {
                        "positive": 0.99,
                        "neutral": 0,
                        "negative": 0
                      },
                      "text": "I have only had it for a few weeks, but so far, so good.",
                      "offset": 0,
                      "length": 56
                    }
                  ],
                  "5": []
                },
                {
                  "0": "But, in any case, the best part is, you can download these pictures to your laptop using IR, or even send pictures from your laptop to the phone.",
                  "1": "positive",
                  "3": {
                    "positive": 0.56,
                    "neutral": 0.42,
                    "negative": 0.02
                  },
                  "4": [
                    {
                      "sentiment": "positive",
                      "confidenceScores": {
                        "positive": 0.56,
                        "neutral": 0.42,
                        "negative": 0.02
                      },
                      "text": "But, in any case, the best part is, you can download these pictures to your laptop using IR, or even send pictures from your laptop to the phone.",
                      "offset": 0,
                      "length": 145
                    }
                  ],
                  "5": []
                },
                {
                  "0": "Would recommend this item.",
                  "1": "positive",
                  "3": {
                    "positive": 0.99,
                    "neutral": 0,
                    "negative": 0
                  },
                  "4": [
                    {
                      "sentiment": "positive",
                      "confidenceScores": {
                        "positive": 0.99,
                        "neutral": 0,
                        "negative": 0
                      },
                      "text": "Would recommend this item.",
                      "offset": 0,
                      "length": 26
                    }
                  ],
                  "5": []
                },
                {
                  "0": "\"It's been my choice headset for years.Great sound; good volume; good noise cancellation.\"",
                  "1": "positive",
                  "3": {
                    "positive": 0.99,
                    "neutral": 0,
                    "negative": 0
                  },
                  "4": [
                    {
                      "sentiment": "neutral",
                      "confidenceScores": {
                        "positive": 0.02,
                        "neutral": 0.98,
                        "negative": 0.01
                      },
                      "text": "\"It's been my choice headset for years.",
                      "offset": 0,
                      "length": 39
                    },
                    {
                      "sentiment": "positive",
                      "confidenceScores": {
                        "positive": 1,
                        "neutral": 0,
                        "negative": 0
                      },
                      "text": "Great sound; ",
                      "offset": 39,
                      "length": 13
                    },
                    {
                      "sentiment": "positive",
                      "confidenceScores": {
                        "positive": 0.99,
                        "neutral": 0,
                        "negative": 0
                      },
                      "text": "good volume; ",
                      "offset": 52,
                      "length": 13
                    },
                    {
                      "sentiment": "positive",
                      "confidenceScores": {
                        "positive": 0.99,
                        "neutral": 0,
                        "negative": 0
                      },
                      "text": "good noise cancellation.\"",
                      "offset": 65,
                      "length": 25
                    }
                  ],
                  "5": []
                },
                {
                  "0": "Nice case, feels good in your hands.",
                  "1": "positive",
                  "3": {
                    "positive": 1,
                    "neutral": 0,
                    "negative": 0
                  },
                  "4": [
                    {
                      "sentiment": "positive",
                      "confidenceScores": {
                        "positive": 1,
                        "neutral": 0,
                        "negative": 0
                      },
                      "text": "Nice case, feels good in your hands.",
                      "offset": 0,
                      "length": 36
                    }
                  ],
                  "5": []
                },
                {
                  "0": "The item received was Counterfeit.",
                  "1": "negative",
                  "3": {
                    "positive": 0.01,
                    "neutral": 0.02,
                    "negative": 0.98
                  },
                  "4": [
                    {
                      "sentiment": "negative",
                      "confidenceScores": {
                        "positive": 0.01,
                        "neutral": 0.02,
                        "negative": 0.98
                      },
                      "text": "The item received was Counterfeit.",
                      "offset": 0,
                      "length": 34
                    }
                  ],
                  "5": []
                },
                {
                  "0": "Just really good.. So far, probably the best BT headset I have ever had.",
                  "1": "positive",
                  "3": {
                    "positive": 0.99,
                    "neutral": 0,
                    "negative": 0
                  },
                  "4": [
                    {
                      "sentiment": "positive",
                      "confidenceScores": {
                        "positive": 1,
                        "neutral": 0,
                        "negative": 0
                      },
                      "text": "Just really good.. ",
                      "offset": 0,
                      "length": 19
                    },
                    {
                      "sentiment": "positive",
                      "confidenceScores": {
                        "positive": 0.99,
                        "neutral": 0,
                        "negative": 0
                      },
                      "text": "So far, probably the best BT headset I have ever had.",
                      "offset": 19,
                      "length": 53
                    }
                  ],
                  "5": []
                },
                {
                  "0": "Works fine.",
                  "1": "positive",
                  "3": {
                    "positive": 0.98,
                    "neutral": 0.02,
                    "negative": 0.01
                  },
                  "4": [
                    {
                      "sentiment": "positive",
                      "confidenceScores": {
                        "positive": 0.98,
                        "neutral": 0.02,
                        "negative": 0.01
                      },
                      "text": "Works fine.",
                      "offset": 0,
                      "length": 11
                    }
                  ],
                  "5": []
                },
                {
                  "0": "I received my headset in good time and was happy with it.",
                  "1": "positive",
                  "3": {
                    "positive": 1,
                    "neutral": 0,
                    "negative": 0
                  },
                  "4": [
                    {
                      "sentiment": "positive",
                      "confidenceScores": {
                        "positive": 1,
                        "neutral": 0,
                        "negative": 0
                      },
                      "text": "I received my headset in good time and was happy with it.",
                      "offset": 0,
                      "length": 57
                    }
                  ],
                  "5": []
                },
                {
                  "0": "I was very pleased to see that I could replace my well travled swivel holster for my Blackberry flip.",
                  "1": "positive",
                  "3": {
                    "positive": 0.99,
                    "neutral": 0.01,
                    "negative": 0
                  },
                  "4": [
                    {
                      "sentiment": "positive",
                      "confidenceScores": {
                        "positive": 0.99,
                        "neutral": 0.01,
                        "negative": 0
                      },
                      "text": "I was very pleased to see that I could replace my well travled swivel holster for my Blackberry flip.",
                      "offset": 0,
                      "length": 101
                    }
                  ],
                  "5": []
                },
                {
                  "0": "My sister has one also and she loves it.",
                  "1": "positive",
                  "3": {
                    "positive": 0.99,
                    "neutral": 0.01,
                    "negative": 0
                  },
                  "4": [
                    {
                      "sentiment": "positive",
                      "confidenceScores": {
                        "positive": 0.99,
                        "neutral": 0.01,
                        "negative": 0
                      },
                      "text": "My sister has one also and she loves it.",
                      "offset": 0,
                      "length": 40
                    }
                  ],
                  "5": []
                },
                {
                  "0": "Good Quality.",
                  "1": "positive",
                  "3": {
                    "positive": 1,
                    "neutral": 0,
                    "negative": 0
                  },
                  "4": [
                    {
                      "sentiment": "positive",
                      "confidenceScores": {
                        "positive": 1,
                        "neutral": 0,
                        "negative": 0
                      },
                      "text": "Good Quality.",
                      "offset": 0,
                      "length": 13
                    }
                  ],
                  "5": []
                },
                {
                  "0": "This is by far the worst purchase I've made on Amazon.",
                  "1": "negative",
                  "3": {
                    "positive": 0,
                    "neutral": 0,
                    "negative": 0.99
                  },
                  "4": [
                    {
                      "sentiment": "negative",
                      "confidenceScores": {
                        "positive": 0,
                        "neutral": 0,
                        "negative": 0.99
                      },
                      "text": "This is by far the worst purchase I've made on Amazon.",
                      "offset": 0,
                      "length": 54
                    }
                  ],
                  "5": []
                },
                {
                  "0": "Excellent dual-purpose headset.",
                  "1": "positive",
                  "3": {
                    "positive": 1,
                    "neutral": 0,
                    "negative": 0
                  },
                  "4": [
                    {
                      "sentiment": "positive",
                      "confidenceScores": {
                        "positive": 1,
                        "neutral": 0,
                        "negative": 0
                      },
                      "text": "Excellent dual-purpose headset.",
                      "offset": 0,
                      "length": 31
                    }
                  ],
                  "5": []
                },
                {
                  "0": "Excellent!.",
                  "1": "positive",
                  "3": {
                    "positive": 0.99,
                    "neutral": 0,
                    "negative": 0
                  },
                  "4": [
                    {
                      "sentiment": "positive",
                      "confidenceScores": {
                        "positive": 0.99,
                        "neutral": 0,
                        "negative": 0
                      },
                      "text": "Excellent!.",
                      "offset": 0,
                      "length": 11
                    }
                  ],
                  "5": []
                },
                {
                  "0": "Does not work for listening to music with the cingular 8125.",
                  "1": "negative",
                  "3": {
                    "positive": 0,
                    "neutral": 0.01,
                    "negative": 0.99
                  },
                  "4": [
                    {
                      "sentiment": "negative",
                      "confidenceScores": {
                        "positive": 0,
                        "neutral": 0.01,
                        "negative": 0.99
                      },
                      "text": "Does not work for listening to music with the cingular 8125.",
                      "offset": 0,
                      "length": 60
                    }
                  ],
                  "5": []
                },
                {
                  "0": "It seems completely secure, both holding on to my belt, and keeping the iPhone inside.",
                  "1": "neutral",
                  "3": {
                    "positive": 0.39,
                    "neutral": 0.56,
                    "negative": 0.04
                  },
                  "4": [
                    {
                      "sentiment": "neutral",
                      "confidenceScores": {
                        "positive": 0.39,
                        "neutral": 0.56,
                        "negative": 0.04
                      },
                      "text": "It seems completely secure, both holding on to my belt, and keeping the iPhone inside.",
                      "offset": 0,
                      "length": 86
                    }
                  ],
                  "5": []
                },
                {
                  "0": "The bottowm line...another worthless, cheap gimmick from Sprint.",
                  "1": "negative",
                  "3": {
                    "positive": 0.01,
                    "neutral": 0,
                    "negative": 0.99
                  },
                  "4": [
                    {
                      "sentiment": "neutral",
                      "confidenceScores": {
                        "positive": 0.07,
                        "neutral": 0.86,
                        "negative": 0.06
                      },
                      "text": "The bottowm line...",
                      "offset": 0,
                      "length": 19
                    },
                    {
                      "sentiment": "negative",
                      "confidenceScores": {
                        "positive": 0.01,
                        "neutral": 0,
                        "negative": 0.99
                      },
                      "text": "another worthless, cheap gimmick from Sprint.",
                      "offset": 19,
                      "length": 45
                    }
                  ],
                  "5": []
                },
                {
                  "0": "Having trouble with volume.",
                  "1": "negative",
                  "3": {
                    "positive": 0,
                    "neutral": 0.01,
                    "negative": 0.99
                  },
                  "4": [
                    {
                      "sentiment": "negative",
                      "confidenceScores": {
                        "positive": 0,
                        "neutral": 0.01,
                        "negative": 0.99
                      },
                      "text": "Having trouble with volume.",
                      "offset": 0,
                      "length": 27
                    }
                  ],
                  "5": []
                },
                {
                  "0": "The only good thing was that it fits comfortably on small ears.",
                  "1": "positive",
                  "3": {
                    "positive": 0.96,
                    "neutral": 0.01,
                    "negative": 0.02
                  },
                  "4": [
                    {
                      "sentiment": "positive",
                      "confidenceScores": {
                        "positive": 0.96,
                        "neutral": 0.01,
                        "negative": 0.02
                      },
                      "text": "The only good thing was that it fits comfortably on small ears.",
                      "offset": 0,
                      "length": 63
                    }
                  ],
                  "5": []
                },
                {
                  "0": "WARNING - DO NOT BUY!!.",
                  "1": "negative",
                  "3": {
                    "positive": 0,
                    "neutral": 0.03,
                    "negative": 0.96
                  },
                  "4": [
                    {
                      "sentiment": "negative",
                      "confidenceScores": {
                        "positive": 0,
                        "neutral": 0.03,
                        "negative": 0.96
                      },
                      "text": "WARNING - DO NOT BUY!!.",
                      "offset": 0,
                      "length": 23
                    }
                  ],
                  "5": []
                },
                {
                  "0": "I am pairing this with my iphone, and I could not be happier with it so far.",
                  "1": "positive",
                  "3": {
                    "positive": 0.95,
                    "neutral": 0.03,
                    "negative": 0.03
                  },
                  "4": [
                    {
                      "sentiment": "positive",
                      "confidenceScores": {
                        "positive": 0.95,
                        "neutral": 0.03,
                        "negative": 0.03
                      },
                      "text": "I am pairing this with my iphone, and I could not be happier with it so far.",
                      "offset": 0,
                      "length": 76
                    }
                  ],
                  "5": []
                },
                {
                  "0": "When it opens, the battery connection is broken and the device is turned off.",
                  "1": "negative",
                  "3": {
                    "positive": 0,
                    "neutral": 0.02,
                    "negative": 0.98
                  },
                  "4": [
                    {
                      "sentiment": "negative",
                      "confidenceScores": {
                        "positive": 0,
                        "neutral": 0.02,
                        "negative": 0.98
                      },
                      "text": "When it opens, the battery connection is broken and the device is turned off.",
                      "offset": 0,
                      "length": 77
                    }
                  ],
                  "5": []
                },
                {
                  "0": "I didn't want the clip going over the top of my ear, causing discomfort.",
                  "1": "negative",
                  "3": {
                    "positive": 0,
                    "neutral": 0.02,
                    "negative": 0.98
                  },
                  "4": [
                    {
                      "sentiment": "negative",
                      "confidenceScores": {
                        "positive": 0,
                        "neutral": 0.02,
                        "negative": 0.98
                      },
                      "text": "I didn't want the clip going over the top of my ear, causing discomfort.",
                      "offset": 0,
                      "length": 72
                    }
                  ],
                  "5": []
                },
                {
                  "0": "Best headset ever!!!.",
                  "1": "positive",
                  "3": {
                    "positive": 1,
                    "neutral": 0,
                    "negative": 0
                  },
                  "4": [
                    {
                      "sentiment": "positive",
                      "confidenceScores": {
                        "positive": 1,
                        "neutral": 0,
                        "negative": 0
                      },
                      "text": "Best headset ever!!!.",
                      "offset": 0,
                      "length": 21
                    }
                  ],
                  "5": []
                },
                {
                  "0": "Don't trust their website and don't expect any helpful support.",
                  "1": "negative",
                  "3": {
                    "positive": 0.01,
                    "neutral": 0,
                    "negative": 0.99
                  },
                  "4": [
                    {
                      "sentiment": "negative",
                      "confidenceScores": {
                        "positive": 0.01,
                        "neutral": 0,
                        "negative": 0.99
                      },
                      "text": "Don't trust their website and don't expect any helpful support.",
                      "offset": 0,
                      "length": 63
                    }
                  ],
                  "5": []
                },
                {
                  "0": "It was that loud.Glad to say that the Plantronics 510 maintains a flawless connection to my cell and with no static during normal use.",
                  "1": "mixed",
                  "3": {
                    "positive": 0.51,
                    "neutral": 0.2,
                    "negative": 0.29
                  },
                  "4": [
                    {
                      "sentiment": "negative",
                      "confidenceScores": {
                        "positive": 0.03,
                        "neutral": 0.39,
                        "negative": 0.58
                      },
                      "text": "It was that loud.",
                      "offset": 0,
                      "length": 17
                    },
                    {
                      "sentiment": "positive",
                      "confidenceScores": {
                        "positive": 0.99,
                        "neutral": 0,
                        "negative": 0
                      },
                      "text": "Glad to say that the Plantronics 510 maintains a flawless connection to my cell and with no static during normal use.",
                      "offset": 17,
                      "length": 117
                    }
                  ],
                  "5": []
                },
                {
                  "0": "The speaker is of low quality so as making the ring tones sound very cheap.",
                  "1": "negative",
                  "3": {
                    "positive": 0,
                    "neutral": 0,
                    "negative": 0.99
                  },
                  "4": [
                    {
                      "sentiment": "negative",
                      "confidenceScores": {
                        "positive": 0,
                        "neutral": 0,
                        "negative": 0.99
                      },
                      "text": "The speaker is of low quality so as making the ring tones sound very cheap.",
                      "offset": 0,
                      "length": 75
                    }
                  ],
                  "5": []
                },
                {
                  "0": "Fits comfortably, came with three sizes of earbud tips.",
                  "1": "positive",
                  "3": {
                    "positive": 0.97,
                    "neutral": 0.03,
                    "negative": 0
                  },
                  "4": [
                    {
                      "sentiment": "positive",
                      "confidenceScores": {
                        "positive": 0.97,
                        "neutral": 0.03,
                        "negative": 0
                      },
                      "text": "Fits comfortably, came with three sizes of earbud tips.",
                      "offset": 0,
                      "length": 55
                    }
                  ],
                  "5": []
                },
                {
                  "0": "Excellent product for the price.",
                  "1": "positive",
                  "3": {
                    "positive": 1,
                    "neutral": 0,
                    "negative": 0
                  },
                  "4": [
                    {
                      "sentiment": "positive",
                      "confidenceScores": {
                        "positive": 1,
                        "neutral": 0,
                        "negative": 0
                      },
                      "text": "Excellent product for the price.",
                      "offset": 0,
                      "length": 32
                    }
                  ],
                  "5": []
                },
                {
                  "0": "Bad Reception.",
                  "1": "negative",
                  "3": {
                    "positive": 0.01,
                    "neutral": 0,
                    "negative": 0.99
                  },
                  "4": [
                    {
                      "sentiment": "negative",
                      "confidenceScores": {
                        "positive": 0.01,
                        "neutral": 0,
                        "negative": 0.99
                      },
                      "text": "Bad Reception.",
                      "offset": 0,
                      "length": 14
                    }
                  ],
                  "5": []
                },
                {
                  "0": "This product is very High quality Chinese CRAP!!!!!!",
                  "1": "positive",
                  "3": {
                    "positive": 0.96,
                    "neutral": 0.03,
                    "negative": 0.01
                  },
                  "4": [
                    {
                      "sentiment": "positive",
                      "confidenceScores": {
                        "positive": 0.96,
                        "neutral": 0.03,
                        "negative": 0.01
                      },
                      "text": "This product is very High quality Chinese CRAP!!!!!!",
                      "offset": 0,
                      "length": 52
                    }
                  ],
                  "5": []
                },
                {
                  "0": "It was quite comfortable in the ear.",
                  "1": "positive",
                  "3": {
                    "positive": 0.95,
                    "neutral": 0.04,
                    "negative": 0.01
                  },
                  "4": [
                    {
                      "sentiment": "positive",
                      "confidenceScores": {
                        "positive": 0.95,
                        "neutral": 0.04,
                        "negative": 0.01
                      },
                      "text": "It was quite comfortable in the ear.",
                      "offset": 0,
                      "length": 36
                    }
                  ],
                  "5": []
                },
                {
                  "0": "Great phone.",
                  "1": "positive",
                  "3": {
                    "positive": 1,
                    "neutral": 0,
                    "negative": 0
                  },
                  "4": [
                    {
                      "sentiment": "positive",
                      "confidenceScores": {
                        "positive": 1,
                        "neutral": 0,
                        "negative": 0
                      },
                      "text": "Great phone.",
                      "offset": 0,
                      "length": 12
                    }
                  ],
                  "5": []
                },
                {
                  "0": "Don't buy this product - It fails!.",
                  "1": "negative",
                  "3": {
                    "positive": 0,
                    "neutral": 0,
                    "negative": 0.99
                  },
                  "4": [
                    {
                      "sentiment": "negative",
                      "confidenceScores": {
                        "positive": 0,
                        "neutral": 0,
                        "negative": 0.99
                      },
                      "text": "Don't buy this product - It fails!.",
                      "offset": 0,
                      "length": 35
                    }
                  ],
                  "5": []
                },
                {
                  "0": "Everything about this product is wrong.First",
                  "1": "negative",
                  "3": {
                    "positive": 0,
                    "neutral": 0,
                    "negative": 1
                  },
                  "4": [
                    {
                      "sentiment": "negative",
                      "confidenceScores": {
                        "positive": 0,
                        "neutral": 0,
                        "negative": 1
                      },
                      "text": "Everything about this product is wrong.",
                      "offset": 0,
                      "length": 39
                    },
                    {
                      "sentiment": "neutral",
                      "confidenceScores": {
                        "positive": 0.15,
                        "neutral": 0.75,
                        "negative": 0.1
                      },
                      "text": "First",
                      "offset": 39,
                      "length": 5
                    }
                  ],
                  "5": []
                },
                {
                  "0": "The pairing of the two devices was so easy it barely took a couple minutes before I started making calls with the voice dialing feature.",
                  "1": "positive",
                  "3": {
                    "positive": 0.91,
                    "neutral": 0.05,
                    "negative": 0.04
                  },
                  "4": [
                    {
                      "sentiment": "positive",
                      "confidenceScores": {
                        "positive": 0.91,
                        "neutral": 0.05,
                        "negative": 0.04
                      },
                      "text": "The pairing of the two devices was so easy it barely took a couple minutes before I started making calls with the voice dialing feature.",
                      "offset": 0,
                      "length": 136
                    }
                  ],
                  "5": []
                },
                {
                  "0": "This was utterly confusing at first, which caused me to lose a couple of very, very important contacts.",
                  "1": "negative",
                  "3": {
                    "positive": 0,
                    "neutral": 0,
                    "negative": 1
                  },
                  "4": [
                    {
                      "sentiment": "negative",
                      "confidenceScores": {
                        "positive": 0,
                        "neutral": 0,
                        "negative": 1
                      },
                      "text": "This was utterly confusing at first, which caused me to lose a couple of very, very important contacts.",
                      "offset": 0,
                      "length": 103
                    }
                  ],
                  "5": []
                },
                {
                  "0": "Terrible phone holder.",
                  "1": "negative",
                  "3": {
                    "positive": 0.01,
                    "neutral": 0,
                    "negative": 0.99
                  },
                  "4": [
                    {
                      "sentiment": "negative",
                      "confidenceScores": {
                        "positive": 0.01,
                        "neutral": 0,
                        "negative": 0.99
                      },
                      "text": "Terrible phone holder.",
                      "offset": 0,
                      "length": 22
                    }
                  ],
                  "5": []
                },
                {
                  "0": "The cutouts and buttons are placed perfectly.",
                  "1": "positive",
                  "3": {
                    "positive": 0.99,
                    "neutral": 0.01,
                    "negative": 0
                  },
                  "4": [
                    {
                      "sentiment": "positive",
                      "confidenceScores": {
                        "positive": 0.99,
                        "neutral": 0.01,
                        "negative": 0
                      },
                      "text": "The cutouts and buttons are placed perfectly.",
                      "offset": 0,
                      "length": 45
                    }
                  ],
                  "5": []
                },
                {
                  "0": "I love being able to use one headset for both by land-line and cell.",
                  "1": "positive",
                  "3": {
                    "positive": 0.99,
                    "neutral": 0,
                    "negative": 0
                  },
                  "4": [
                    {
                      "sentiment": "positive",
                      "confidenceScores": {
                        "positive": 0.99,
                        "neutral": 0,
                        "negative": 0
                      },
                      "text": "I love being able to use one headset for both by land-line and cell.",
                      "offset": 0,
                      "length": 68
                    }
                  ],
                  "5": []
                },
                {
                  "0": "Problem is that the ear loops are made of weak material and break easily.",
                  "1": "negative",
                  "3": {
                    "positive": 0,
                    "neutral": 0,
                    "negative": 0.99
                  },
                  "4": [
                    {
                      "sentiment": "negative",
                      "confidenceScores": {
                        "positive": 0,
                        "neutral": 0,
                        "negative": 0.99
                      },
                      "text": "Problem is that the ear loops are made of weak material and break easily.",
                      "offset": 0,
                      "length": 73
                    }
                  ],
                  "5": []
                },
                {
                  "0": "Not nearly as good looking as the AMAZON picture makes it look.",
                  "1": "negative",
                  "3": {
                    "positive": 0.01,
                    "neutral": 0,
                    "negative": 0.99
                  },
                  "4": [
                    {
                      "sentiment": "negative",
                      "confidenceScores": {
                        "positive": 0.01,
                        "neutral": 0,
                        "negative": 0.99
                      },
                      "text": "Not nearly as good looking as the AMAZON picture makes it look.",
                      "offset": 0,
                      "length": 63
                    }
                  ],
                  "5": []
                },
                {
                  "0": "But despite these few flaws, this case is of exceptional quality and well worth the additional costs of owning an official OEM product.",
                  "1": "positive",
                  "3": {
                    "positive": 0.88,
                    "neutral": 0.02,
                    "negative": 0.11
                  },
                  "4": [
                    {
                      "sentiment": "positive",
                      "confidenceScores": {
                        "positive": 0.88,
                        "neutral": 0.02,
                        "negative": 0.11
                      },
                      "text": "But despite these few flaws, this case is of exceptional quality and well worth the additional costs of owning an official OEM product.",
                      "offset": 0,
                      "length": 135
                    }
                  ],
                  "5": []
                },
                {
                  "0": "How stupid is that?",
                  "1": "negative",
                  "3": {
                    "positive": 0.01,
                    "neutral": 0.02,
                    "negative": 0.97
                  },
                  "4": [
                    {
                      "sentiment": "negative",
                      "confidenceScores": {
                        "positive": 0.01,
                        "neutral": 0.02,
                        "negative": 0.97
                      },
                      "text": "How stupid is that?",
                      "offset": 0,
                      "length": 19
                    }
                  ],
                  "5": []
                },
                {
                  "0": "I can hear while I'm driving in the car, and usually don't even have to put it on it's loudest setting.",
                  "1": "neutral",
                  "3": {
                    "positive": 0.06,
                    "neutral": 0.9,
                    "negative": 0.04
                  },
                  "4": [
                    {
                      "sentiment": "neutral",
                      "confidenceScores": {
                        "positive": 0.06,
                        "neutral": 0.9,
                        "negative": 0.04
                      },
                      "text": "I can hear while I'm driving in the car, and usually don't even have to put it on it's loudest setting.",
                      "offset": 0,
                      "length": 103
                    }
                  ],
                  "5": []
                },
                {
                  "0": "Seller shipped quickly and much cheaper than the competitors.",
                  "1": "positive",
                  "3": {
                    "positive": 0.75,
                    "neutral": 0.07,
                    "negative": 0.18
                  },
                  "4": [
                    {
                      "sentiment": "positive",
                      "confidenceScores": {
                        "positive": 0.75,
                        "neutral": 0.07,
                        "negative": 0.18
                      },
                      "text": "Seller shipped quickly and much cheaper than the competitors.",
                      "offset": 0,
                      "length": 61
                    }
                  ],
                  "5": []
                },
                {
                  "0": "Good show, Samsung.",
                  "1": "positive",
                  "3": {
                    "positive": 1,
                    "neutral": 0,
                    "negative": 0
                  },
                  "4": [
                    {
                      "sentiment": "positive",
                      "confidenceScores": {
                        "positive": 1,
                        "neutral": 0,
                        "negative": 0
                      },
                      "text": "Good show, Samsung.",
                      "offset": 0,
                      "length": 19
                    }
                  ],
                  "5": []
                },
                {
                  "0": "So I bought about 10 of these and saved alot of money.",
                  "1": "positive",
                  "3": {
                    "positive": 0.48,
                    "neutral": 0.4,
                    "negative": 0.12
                  },
                  "4": [
                    {
                      "sentiment": "positive",
                      "confidenceScores": {
                        "positive": 0.48,
                        "neutral": 0.4,
                        "negative": 0.12
                      },
                      "text": "So I bought about 10 of these and saved alot of money.",
                      "offset": 0,
                      "length": 54
                    }
                  ],
                  "5": []
                },
                {
                  "0": "It always cuts out and makes a beep beep beep sound then says signal failed.",
                  "1": "negative",
                  "3": {
                    "positive": 0,
                    "neutral": 0.01,
                    "negative": 0.99
                  },
                  "4": [
                    {
                      "sentiment": "negative",
                      "confidenceScores": {
                        "positive": 0,
                        "neutral": 0.01,
                        "negative": 0.99
                      },
                      "text": "It always cuts out and makes a beep beep beep sound then says signal failed.",
                      "offset": 0,
                      "length": 76
                    }
                  ],
                  "5": []
                },
                {
                  "0": "Couldn't figure it out",
                  "1": "negative",
                  "3": {
                    "positive": 0.04,
                    "neutral": 0.13,
                    "negative": 0.83
                  },
                  "4": [
                    {
                      "sentiment": "negative",
                      "confidenceScores": {
                        "positive": 0.04,
                        "neutral": 0.13,
                        "negative": 0.83
                      },
                      "text": "Couldn't figure it out",
                      "offset": 0,
                      "length": 22
                    }
                  ],
                  "5": []
                },
                {
                  "0": "My phone sounded OK ( not great - OK), but my wife's phone was almost totally unintelligible, she couldn't understand a word being said on it.",
                  "1": "negative",
                  "3": {
                    "positive": 0,
                    "neutral": 0,
                    "negative": 0.99
                  },
                  "4": [
                    {
                      "sentiment": "negative",
                      "confidenceScores": {
                        "positive": 0,
                        "neutral": 0,
                        "negative": 0.99
                      },
                      "text": "My phone sounded OK ( not great - OK), but my wife's phone was almost totally unintelligible, she couldn't understand a word being said on it.",
                      "offset": 0,
                      "length": 142
                    }
                  ],
                  "5": []
                },
                {
                  "0": "So I had to take the battery out of the phone put it all back together and then restart it.",
                  "1": "neutral",
                  "3": {
                    "positive": 0.01,
                    "neutral": 0.92,
                    "negative": 0.07
                  },
                  "4": [
                    {
                      "sentiment": "neutral",
                      "confidenceScores": {
                        "positive": 0.01,
                        "neutral": 0.92,
                        "negative": 0.07
                      },
                      "text": "So I had to take the battery out of the phone put it all back together and then restart it.",
                      "offset": 0,
                      "length": 91
                    }
                  ],
                  "5": []
                },
                {
                  "0": "While I managed to bend the leaf spring back in place, the metal now has enough stress that it will break on the next drop.",
                  "1": "negative",
                  "3": {
                    "positive": 0,
                    "neutral": 0.01,
                    "negative": 0.98
                  },
                  "4": [
                    {
                      "sentiment": "negative",
                      "confidenceScores": {
                        "positive": 0,
                        "neutral": 0.01,
                        "negative": 0.98
                      },
                      "text": "While I managed to bend the leaf spring back in place, the metal now has enough stress that it will break on the next drop.",
                      "offset": 0,
                      "length": 123
                    }
                  ],
                  "5": []
                },
                {
                  "0": "Leopard Print is wonderfully wild!.",
                  "1": "positive",
                  "3": {
                    "positive": 0.99,
                    "neutral": 0,
                    "negative": 0
                  },
                  "4": [
                    {
                      "sentiment": "positive",
                      "confidenceScores": {
                        "positive": 0.99,
                        "neutral": 0,
                        "negative": 0
                      },
                      "text": "Leopard Print is wonderfully wild!.",
                      "offset": 0,
                      "length": 35
                    }
                  ],
                  "5": []
                },
                {
                  "0": "Works for me.",
                  "1": "positive",
                  "3": {
                    "positive": 0.62,
                    "neutral": 0.36,
                    "negative": 0.02
                  },
                  "4": [
                    {
                      "sentiment": "positive",
                      "confidenceScores": {
                        "positive": 0.62,
                        "neutral": 0.36,
                        "negative": 0.02
                      },
                      "text": "Works for me.",
                      "offset": 0,
                      "length": 13
                    }
                  ],
                  "5": []
                },
                {
                  "0": "Saggy, floppy piece of junk.",
                  "1": "negative",
                  "3": {
                    "positive": 0,
                    "neutral": 0.01,
                    "negative": 0.99
                  },
                  "4": [
                    {
                      "sentiment": "negative",
                      "confidenceScores": {
                        "positive": 0,
                        "neutral": 0.01,
                        "negative": 0.99
                      },
                      "text": "Saggy, floppy piece of junk.",
                      "offset": 0,
                      "length": 28
                    }
                  ],
                  "5": []
                },
                {
                  "0": "much better than the hard plastic cases.",
                  "1": "positive",
                  "3": {
                    "positive": 0.99,
                    "neutral": 0,
                    "negative": 0.01
                  },
                  "4": [
                    {
                      "sentiment": "positive",
                      "confidenceScores": {
                        "positive": 0.99,
                        "neutral": 0,
                        "negative": 0.01
                      },
                      "text": "much better than the hard plastic cases.",
                      "offset": 0,
                      "length": 40
                    }
                  ],
                  "5": []
                },
                {
                  "0": "It also had a new problem.",
                  "1": "negative",
                  "3": {
                    "positive": 0,
                    "neutral": 0.05,
                    "negative": 0.95
                  },
                  "4": [
                    {
                      "sentiment": "negative",
                      "confidenceScores": {
                        "positive": 0,
                        "neutral": 0.05,
                        "negative": 0.95
                      },
                      "text": "It also had a new problem.",
                      "offset": 0,
                      "length": 26
                    }
                  ],
                  "5": []
                },
                {
                  "0": "Happy so far!.",
                  "1": "positive",
                  "3": {
                    "positive": 0.99,
                    "neutral": 0,
                    "negative": 0
                  },
                  "4": [
                    {
                      "sentiment": "positive",
                      "confidenceScores": {
                        "positive": 0.99,
                        "neutral": 0,
                        "negative": 0
                      },
                      "text": "Happy so far!.",
                      "offset": 0,
                      "length": 14
                    }
                  ],
                  "5": []
                },
                {
                  "0": "cool phone.",
                  "1": "positive",
                  "3": {
                    "positive": 0.99,
                    "neutral": 0.01,
                    "negative": 0
                  },
                  "4": [
                    {
                      "sentiment": "positive",
                      "confidenceScores": {
                        "positive": 0.99,
                        "neutral": 0.01,
                        "negative": 0
                      },
                      "text": "cool phone.",
                      "offset": 0,
                      "length": 11
                    }
                  ],
                  "5": []
                },
                {
                  "0": "Works good.",
                  "1": "positive",
                  "3": {
                    "positive": 1,
                    "neutral": 0,
                    "negative": 0
                  },
                  "4": [
                    {
                      "sentiment": "positive",
                      "confidenceScores": {
                        "positive": 1,
                        "neutral": 0,
                        "negative": 0
                      },
                      "text": "Works good.",
                      "offset": 0,
                      "length": 11
                    }
                  ],
                  "5": []
                },
                {
                  "0": "Motorola finally got the voice quality of a bluetooth headset right.",
                  "1": "positive",
                  "3": {
                    "positive": 0.82,
                    "neutral": 0.13,
                    "negative": 0.04
                  },
                  "4": [
                    {
                      "sentiment": "positive",
                      "confidenceScores": {
                        "positive": 0.82,
                        "neutral": 0.13,
                        "negative": 0.04
                      },
                      "text": "Motorola finally got the voice quality of a bluetooth headset right.",
                      "offset": 0,
                      "length": 68
                    }
                  ],
                  "5": []
                },
                {
                  "0": "It looses connection to the phone even when it is within a couple feet between the two.",
                  "1": "negative",
                  "3": {
                    "positive": 0,
                    "neutral": 0.03,
                    "negative": 0.97
                  },
                  "4": [
                    {
                      "sentiment": "negative",
                      "confidenceScores": {
                        "positive": 0,
                        "neutral": 0.03,
                        "negative": 0.97
                      },
                      "text": "It looses connection to the phone even when it is within a couple feet between the two.",
                      "offset": 0,
                      "length": 87
                    }
                  ],
                  "5": []
                },
                {
                  "0": "but it is great, i would really recommend it",
                  "1": "positive",
                  "3": {
                    "positive": 1,
                    "neutral": 0,
                    "negative": 0
                  },
                  "4": [
                    {
                      "sentiment": "positive",
                      "confidenceScores": {
                        "positive": 1,
                        "neutral": 0,
                        "negative": 0
                      },
                      "text": "but it is great, i would really recommend it",
                      "offset": 0,
                      "length": 44
                    }
                  ],
                  "5": []
                },
                {
                  "0": "Makes it easier to keep up with my bluetooth when I'm not wearing it.",
                  "1": "positive",
                  "3": {
                    "positive": 0.98,
                    "neutral": 0.01,
                    "negative": 0
                  },
                  "4": [
                    {
                      "sentiment": "positive",
                      "confidenceScores": {
                        "positive": 0.98,
                        "neutral": 0.01,
                        "negative": 0
                      },
                      "text": "Makes it easier to keep up with my bluetooth when I'm not wearing it.",
                      "offset": 0,
                      "length": 69
                    }
                  ],
                  "5": []
                },
                {
                  "0": "As I said above....PRETTY USELESS!",
                  "1": "positive",
                  "3": {
                    "positive": 0.99,
                    "neutral": 0.01,
                    "negative": 0
                  },
                  "4": [
                    {
                      "sentiment": "neutral",
                      "confidenceScores": {
                        "positive": 0.12,
                        "neutral": 0.62,
                        "negative": 0.26
                      },
                      "text": "As I said above....",
                      "offset": 0,
                      "length": 19
                    },
                    {
                      "sentiment": "positive",
                      "confidenceScores": {
                        "positive": 0.99,
                        "neutral": 0.01,
                        "negative": 0
                      },
                      "text": "PRETTY USELESS!",
                      "offset": 19,
                      "length": 15
                    }
                  ],
                  "5": []
                },
                {
                  "0": "Never got it!!!!!",
                  "1": "negative",
                  "3": {
                    "positive": 0.03,
                    "neutral": 0.04,
                    "negative": 0.93
                  },
                  "4": [
                    {
                      "sentiment": "negative",
                      "confidenceScores": {
                        "positive": 0.03,
                        "neutral": 0.04,
                        "negative": 0.93
                      },
                      "text": "Never got it!!!!!",
                      "offset": 0,
                      "length": 17
                    }
                  ],
                  "5": []
                },
                {
                  "0": "This pair of headphones is the worst that I have ever had sound-wise.",
                  "1": "negative",
                  "3": {
                    "positive": 0,
                    "neutral": 0,
                    "negative": 0.99
                  },
                  "4": [
                    {
                      "sentiment": "negative",
                      "confidenceScores": {
                        "positive": 0,
                        "neutral": 0,
                        "negative": 0.99
                      },
                      "text": "This pair of headphones is the worst that I have ever had sound-wise.",
                      "offset": 0,
                      "length": 69
                    }
                  ],
                  "5": []
                },
                {
                  "0": "[...] down the drain because of a weak snap!",
                  "1": "negative",
                  "3": {
                    "positive": 0,
                    "neutral": 0.01,
                    "negative": 0.99
                  },
                  "4": [
                    {
                      "sentiment": "neutral",
                      "confidenceScores": {
                        "positive": 0.14,
                        "neutral": 0.74,
                        "negative": 0.12
                      },
                      "text": "[...] ",
                      "offset": 0,
                      "length": 6
                    },
                    {
                      "sentiment": "negative",
                      "confidenceScores": {
                        "positive": 0,
                        "neutral": 0.01,
                        "negative": 0.99
                      },
                      "text": "down the drain because of a weak snap!",
                      "offset": 6,
                      "length": 38
                    }
                  ],
                  "5": []
                },
                {
                  "0": "Does not charge the Cingular (ATT) 8525 phone.",
                  "1": "neutral",
                  "3": {
                    "positive": 0.01,
                    "neutral": 0.56,
                    "negative": 0.43
                  },
                  "4": [
                    {
                      "sentiment": "neutral",
                      "confidenceScores": {
                        "positive": 0.01,
                        "neutral": 0.56,
                        "negative": 0.43
                      },
                      "text": "Does not charge the Cingular (ATT) 8525 phone.",
                      "offset": 0,
                      "length": 46
                    }
                  ],
                  "5": []
                },
                {
                  "0": "\"You get extra minutes so that you can carry out the call and not get cut off.\"\"\"",
                  "1": "neutral",
                  "3": {
                    "positive": 0.17,
                    "neutral": 0.76,
                    "negative": 0.07
                  },
                  "4": [
                    {
                      "sentiment": "neutral",
                      "confidenceScores": {
                        "positive": 0.17,
                        "neutral": 0.76,
                        "negative": 0.07
                      },
                      "text": "\"You get extra minutes so that you can carry out the call and not get cut off.\"\"\"",
                      "offset": 0,
                      "length": 81
                    }
                  ],
                  "5": []
                },
                {
                  "0": "However, after about a year, the fliptop started to get loose and wobbly and eventually my screen went black and I couldn't receive and place calls.",
                  "1": "negative",
                  "3": {
                    "positive": 0,
                    "neutral": 0,
                    "negative": 0.99
                  },
                  "4": [
                    {
                      "sentiment": "negative",
                      "confidenceScores": {
                        "positive": 0,
                        "neutral": 0,
                        "negative": 0.99
                      },
                      "text": "However, after about a year, the fliptop started to get loose and wobbly and eventually my screen went black and I couldn't receive and place calls.",
                      "offset": 0,
                      "length": 148
                    }
                  ],
                  "5": []
                },
                {
                  "0": "I kept catching the cable on the seat and I had to pull the phone out to turn it on an off.",
                  "1": "neutral",
                  "3": {
                    "positive": 0.01,
                    "neutral": 0.79,
                    "negative": 0.2
                  },
                  "4": [
                    {
                      "sentiment": "neutral",
                      "confidenceScores": {
                        "positive": 0.01,
                        "neutral": 0.79,
                        "negative": 0.2
                      },
                      "text": "I kept catching the cable on the seat and I had to pull the phone out to turn it on an off.",
                      "offset": 0,
                      "length": 91
                    }
                  ],
                  "5": []
                },
                {
                  "0": "The headset fulfills my requirements so I am happy with my purchase.",
                  "1": "positive",
                  "3": {
                    "positive": 0.99,
                    "neutral": 0.01,
                    "negative": 0
                  },
                  "4": [
                    {
                      "sentiment": "positive",
                      "confidenceScores": {
                        "positive": 0.99,
                        "neutral": 0.01,
                        "negative": 0
                      },
                      "text": "The headset fulfills my requirements so I am happy with my purchase.",
                      "offset": 0,
                      "length": 68
                    }
                  ],
                  "5": []
                },
                {
                  "0": "Logitech Bluetooth Headset is a 10!.",
                  "1": "neutral",
                  "3": {
                    "positive": 0.01,
                    "neutral": 0.99,
                    "negative": 0
                  },
                  "4": [
                    {
                      "sentiment": "neutral",
                      "confidenceScores": {
                        "positive": 0.01,
                        "neutral": 0.99,
                        "negative": 0
                      },
                      "text": "Logitech Bluetooth Headset is a 10!.",
                      "offset": 0,
                      "length": 36
                    }
                  ],
                  "5": []
                },
                {
                  "0": "I like the fact that it rests lightly against your ear, rather than inside.",
                  "1": "positive",
                  "3": {
                    "positive": 0.86,
                    "neutral": 0.12,
                    "negative": 0.02
                  },
                  "4": [
                    {
                      "sentiment": "positive",
                      "confidenceScores": {
                        "positive": 0.86,
                        "neutral": 0.12,
                        "negative": 0.02
                      },
                      "text": "I like the fact that it rests lightly against your ear, rather than inside.",
                      "offset": 0,
                      "length": 75
                    }
                  ],
                  "5": []
                },
                {
                  "0": "A lot of websites have been rating this a very good phone and so do I.",
                  "1": "positive",
                  "3": {
                    "positive": 0.99,
                    "neutral": 0,
                    "negative": 0
                  },
                  "4": [
                    {
                      "sentiment": "positive",
                      "confidenceScores": {
                        "positive": 0.99,
                        "neutral": 0,
                        "negative": 0
                      },
                      "text": "A lot of websites have been rating this a very good phone and so do I.",
                      "offset": 0,
                      "length": 70
                    }
                  ],
                  "5": []
                },
                {
                  "0": "I have tried these cables with my computer and my iPod and it works just fine.",
                  "1": "positive",
                  "3": {
                    "positive": 0.97,
                    "neutral": 0.02,
                    "negative": 0
                  },
                  "4": [
                    {
                      "sentiment": "positive",
                      "confidenceScores": {
                        "positive": 0.97,
                        "neutral": 0.02,
                        "negative": 0
                      },
                      "text": "I have tried these cables with my computer and my iPod and it works just fine.",
                      "offset": 0,
                      "length": 78
                    }
                  ],
                  "5": []
                },
                {
                  "0": "The mic there is a joke, and the volume is quite low.",
                  "1": "negative",
                  "3": {
                    "positive": 0,
                    "neutral": 0.02,
                    "negative": 0.98
                  },
                  "4": [
                    {
                      "sentiment": "negative",
                      "confidenceScores": {
                        "positive": 0,
                        "neutral": 0.02,
                        "negative": 0.98
                      },
                      "text": "The mic there is a joke, and the volume is quite low.",
                      "offset": 0,
                      "length": 53
                    }
                  ],
                  "5": []
                },
                {
                  "0": "I'm returning them.",
                  "1": "neutral",
                  "3": {
                    "positive": 0.02,
                    "neutral": 0.95,
                    "negative": 0.03
                  },
                  "4": [
                    {
                      "sentiment": "neutral",
                      "confidenceScores": {
                        "positive": 0.02,
                        "neutral": 0.95,
                        "negative": 0.03
                      },
                      "text": "I'm returning them.",
                      "offset": 0,
                      "length": 19
                    }
                  ],
                  "5": []
                },
                {
                  "0": "I does not maintain a connection with the computer while it is on my lap.",
                  "1": "neutral",
                  "3": {
                    "positive": 0.01,
                    "neutral": 0.65,
                    "negative": 0.34
                  },
                  "4": [
                    {
                      "sentiment": "neutral",
                      "confidenceScores": {
                        "positive": 0.01,
                        "neutral": 0.65,
                        "negative": 0.34
                      },
                      "text": "I does not maintain a connection with the computer while it is on my lap.",
                      "offset": 0,
                      "length": 73
                    }
                  ],
                  "5": []
                },
                {
                  "0": "It is easy to turn on and off when you are in the car and the volume controls are quite accessable.",
                  "1": "positive",
                  "3": {
                    "positive": 0.96,
                    "neutral": 0.04,
                    "negative": 0.01
                  },
                  "4": [
                    {
                      "sentiment": "positive",
                      "confidenceScores": {
                        "positive": 0.96,
                        "neutral": 0.04,
                        "negative": 0.01
                      },
                      "text": "It is easy to turn on and off when you are in the car and the volume controls are quite accessable.",
                      "offset": 0,
                      "length": 99
                    }
                  ],
                  "5": []
                },
                {
                  "0": "I have had mine for about a year and this Christmas I bought some for the rest of the family.",
                  "1": "neutral",
                  "3": {
                    "positive": 0.1,
                    "neutral": 0.89,
                    "negative": 0.01
                  },
                  "4": [
                    {
                      "sentiment": "neutral",
                      "confidenceScores": {
                        "positive": 0.1,
                        "neutral": 0.89,
                        "negative": 0.01
                      },
                      "text": "I have had mine for about a year and this Christmas I bought some for the rest of the family.",
                      "offset": 0,
                      "length": 93
                    }
                  ],
                  "5": []
                },
                {
                  "0": "Otherwise, easy to install and use, clear sound.",
                  "1": "positive",
                  "3": {
                    "positive": 0.99,
                    "neutral": 0.01,
                    "negative": 0
                  },
                  "4": [
                    {
                      "sentiment": "positive",
                      "confidenceScores": {
                        "positive": 0.99,
                        "neutral": 0.01,
                        "negative": 0
                      },
                      "text": "Otherwise, easy to install and use, clear sound.",
                      "offset": 0,
                      "length": 48
                    }
                  ],
                  "5": []
                },
                {
                  "0": "nice leather.",
                  "1": "positive",
                  "3": {
                    "positive": 0.99,
                    "neutral": 0.01,
                    "negative": 0
                  },
                  "4": [
                    {
                      "sentiment": "positive",
                      "confidenceScores": {
                        "positive": 0.99,
                        "neutral": 0.01,
                        "negative": 0
                      },
                      "text": "nice leather.",
                      "offset": 0,
                      "length": 13
                    }
                  ],
                  "5": []
                },
                {
                  "0": "I had to purchase a different case.",
                  "1": "neutral",
                  "3": {
                    "positive": 0.01,
                    "neutral": 0.93,
                    "negative": 0.06
                  },
                  "4": [
                    {
                      "sentiment": "neutral",
                      "confidenceScores": {
                        "positive": 0.01,
                        "neutral": 0.93,
                        "negative": 0.06
                      },
                      "text": "I had to purchase a different case.",
                      "offset": 0,
                      "length": 35
                    }
                  ],
                  "5": []
                },
                {
                  "0": "It is a joy to use.",
                  "1": "positive",
                  "3": {
                    "positive": 0.99,
                    "neutral": 0,
                    "negative": 0
                  },
                  "4": [
                    {
                      "sentiment": "positive",
                      "confidenceScores": {
                        "positive": 0.99,
                        "neutral": 0,
                        "negative": 0
                      },
                      "text": "It is a joy to use.",
                      "offset": 0,
                      "length": 19
                    }
                  ],
                  "5": []
                },
                {
                  "0": "Very much disappointed with this company.",
                  "1": "negative",
                  "3": {
                    "positive": 0,
                    "neutral": 0,
                    "negative": 0.99
                  },
                  "4": [
                    {
                      "sentiment": "negative",
                      "confidenceScores": {
                        "positive": 0,
                        "neutral": 0,
                        "negative": 0.99
                      },
                      "text": "Very much disappointed with this company.",
                      "offset": 0,
                      "length": 41
                    }
                  ],
                  "5": []
                },
                {
                  "0": "Very satisifed with that.",
                  "1": "positive",
                  "3": {
                    "positive": 0.9,
                    "neutral": 0.07,
                    "negative": 0.03
                  },
                  "4": [
                    {
                      "sentiment": "positive",
                      "confidenceScores": {
                        "positive": 0.9,
                        "neutral": 0.07,
                        "negative": 0.03
                      },
                      "text": "Very satisifed with that.",
                      "offset": 0,
                      "length": 25
                    }
                  ],
                  "5": []
                },
                {
                  "0": "It didn't charge for me.",
                  "1": "neutral",
                  "3": {
                    "positive": 0.02,
                    "neutral": 0.52,
                    "negative": 0.46
                  },
                  "4": [
                    {
                      "sentiment": "neutral",
                      "confidenceScores": {
                        "positive": 0.02,
                        "neutral": 0.52,
                        "negative": 0.46
                      },
                      "text": "It didn't charge for me.",
                      "offset": 0,
                      "length": 24
                    }
                  ],
                  "5": []
                },
                {
                  "0": "This is the phone to get for 2005.... I just bought my S710a and all I can say is WOW!",
                  "1": "positive",
                  "3": {
                    "positive": 0.95,
                    "neutral": 0.04,
                    "negative": 0.01
                  },
                  "4": [
                    {
                      "sentiment": "neutral",
                      "confidenceScores": {
                        "positive": 0.22,
                        "neutral": 0.7,
                        "negative": 0.08
                      },
                      "text": "This is the phone to get for 2005.... ",
                      "offset": 0,
                      "length": 38
                    },
                    {
                      "sentiment": "positive",
                      "confidenceScores": {
                        "positive": 0.95,
                        "neutral": 0.04,
                        "negative": 0.01
                      },
                      "text": "I just bought my S710a and all I can say is WOW!",
                      "offset": 38,
                      "length": 48
                    }
                  ],
                  "5": []
                },
                {
                  "0": "Buttons are too small.",
                  "1": "negative",
                  "3": {
                    "positive": 0,
                    "neutral": 0.02,
                    "negative": 0.98
                  },
                  "4": [
                    {
                      "sentiment": "negative",
                      "confidenceScores": {
                        "positive": 0,
                        "neutral": 0.02,
                        "negative": 0.98
                      },
                      "text": "Buttons are too small.",
                      "offset": 0,
                      "length": 22
                    }
                  ],
                  "5": []
                },
                {
                  "0": "Just reading on the specs alone makes you say WOW.",
                  "1": "positive",
                  "3": {
                    "positive": 0.75,
                    "neutral": 0.2,
                    "negative": 0.04
                  },
                  "4": [
                    {
                      "sentiment": "positive",
                      "confidenceScores": {
                        "positive": 0.75,
                        "neutral": 0.2,
                        "negative": 0.04
                      },
                      "text": "Just reading on the specs alone makes you say WOW.",
                      "offset": 0,
                      "length": 50
                    }
                  ],
                  "5": []
                },
                {
                  "0": "Love it.. Great armband.",
                  "1": "positive",
                  "3": {
                    "positive": 1,
                    "neutral": 0,
                    "negative": 0
                  },
                  "4": [
                    {
                      "sentiment": "positive",
                      "confidenceScores": {
                        "positive": 1,
                        "neutral": 0,
                        "negative": 0
                      },
                      "text": "Love it.. ",
                      "offset": 0,
                      "length": 10
                    },
                    {
                      "sentiment": "positive",
                      "confidenceScores": {
                        "positive": 1,
                        "neutral": 0,
                        "negative": 0
                      },
                      "text": "Great armband.",
                      "offset": 10,
                      "length": 14
                    }
                  ],
                  "5": []
                },
                {
                  "0": "I really like this product over the Motorola because it is allot clearer on the ear piece and the mic.",
                  "1": "positive",
                  "3": {
                    "positive": 0.97,
                    "neutral": 0.03,
                    "negative": 0.01
                  },
                  "4": [
                    {
                      "sentiment": "positive",
                      "confidenceScores": {
                        "positive": 0.97,
                        "neutral": 0.03,
                        "negative": 0.01
                      },
                      "text": "I really like this product over the Motorola because it is allot clearer on the ear piece and the mic.",
                      "offset": 0,
                      "length": 102
                    }
                  ],
                  "5": []
                },
                {
                  "0": "However, the keypads are so tinny that I sometimes reach the wrong buttons.",
                  "1": "negative",
                  "3": {
                    "positive": 0,
                    "neutral": 0,
                    "negative": 0.99
                  },
                  "4": [
                    {
                      "sentiment": "negative",
                      "confidenceScores": {
                        "positive": 0,
                        "neutral": 0,
                        "negative": 0.99
                      },
                      "text": "However, the keypads are so tinny that I sometimes reach the wrong buttons.",
                      "offset": 0,
                      "length": 75
                    }
                  ],
                  "5": []
                },
                {
                  "0": "I exchanged the sony ericson z500a for this and I'm pretty happy with that decision.",
                  "1": "positive",
                  "3": {
                    "positive": 0.98,
                    "neutral": 0.01,
                    "negative": 0.01
                  },
                  "4": [
                    {
                      "sentiment": "positive",
                      "confidenceScores": {
                        "positive": 0.98,
                        "neutral": 0.01,
                        "negative": 0.01
                      },
                      "text": "I exchanged the sony ericson z500a for this and I'm pretty happy with that decision.",
                      "offset": 0,
                      "length": 84
                    }
                  ],
                  "5": []
                },
                {
                  "0": "I was very impressed with the price of the cases.",
                  "1": "positive",
                  "3": {
                    "positive": 0.98,
                    "neutral": 0.01,
                    "negative": 0.01
                  },
                  "4": [
                    {
                      "sentiment": "positive",
                      "confidenceScores": {
                        "positive": 0.98,
                        "neutral": 0.01,
                        "negative": 0.01
                      },
                      "text": "I was very impressed with the price of the cases.",
                      "offset": 0,
                      "length": 49
                    }
                  ],
                  "5": []
                },
                {
                  "0": "Also makes it easier to hold on to.",
                  "1": "positive",
                  "3": {
                    "positive": 0.94,
                    "neutral": 0.05,
                    "negative": 0.01
                  },
                  "4": [
                    {
                      "sentiment": "positive",
                      "confidenceScores": {
                        "positive": 0.94,
                        "neutral": 0.05,
                        "negative": 0.01
                      },
                      "text": "Also makes it easier to hold on to.",
                      "offset": 0,
                      "length": 35
                    }
                  ],
                  "5": []
                },
                {
                  "0": "I use this product in a motor control center where there is a lot of high voltage humming from the equipment, and it works great!",
                  "1": "positive",
                  "3": {
                    "positive": 0.99,
                    "neutral": 0,
                    "negative": 0
                  },
                  "4": [
                    {
                      "sentiment": "positive",
                      "confidenceScores": {
                        "positive": 0.99,
                        "neutral": 0,
                        "negative": 0
                      },
                      "text": "I use this product in a motor control center where there is a lot of high voltage humming from the equipment, and it works great!",
                      "offset": 0,
                      "length": 129
                    }
                  ],
                  "5": []
                },
                {
                  "0": "It's pretty easy.",
                  "1": "positive",
                  "3": {
                    "positive": 0.56,
                    "neutral": 0.42,
                    "negative": 0.02
                  },
                  "4": [
                    {
                      "sentiment": "positive",
                      "confidenceScores": {
                        "positive": 0.56,
                        "neutral": 0.42,
                        "negative": 0.02
                      },
                      "text": "It's pretty easy.",
                      "offset": 0,
                      "length": 17
                    }
                  ],
                  "5": []
                },
                {
                  "0": "I cannot make calls at certain places.",
                  "1": "neutral",
                  "3": {
                    "positive": 0.01,
                    "neutral": 0.96,
                    "negative": 0.03
                  },
                  "4": [
                    {
                      "sentiment": "neutral",
                      "confidenceScores": {
                        "positive": 0.01,
                        "neutral": 0.96,
                        "negative": 0.03
                      },
                      "text": "I cannot make calls at certain places.",
                      "offset": 0,
                      "length": 38
                    }
                  ],
                  "5": []
                },
                {
                  "0": "however, my girl was complain that some time the phone doesn't wake up like normal phone does.",
                  "1": "negative",
                  "3": {
                    "positive": 0.01,
                    "neutral": 0.01,
                    "negative": 0.98
                  },
                  "4": [
                    {
                      "sentiment": "negative",
                      "confidenceScores": {
                        "positive": 0.01,
                        "neutral": 0.01,
                        "negative": 0.98
                      },
                      "text": "however, my girl was complain that some time the phone doesn't wake up like normal phone does.",
                      "offset": 0,
                      "length": 94
                    }
                  ],
                  "5": []
                },
                {
                  "0": "Beautiful styling though.",
                  "1": "positive",
                  "3": {
                    "positive": 0.99,
                    "neutral": 0,
                    "negative": 0
                  },
                  "4": [
                    {
                      "sentiment": "positive",
                      "confidenceScores": {
                        "positive": 0.99,
                        "neutral": 0,
                        "negative": 0
                      },
                      "text": "Beautiful styling though.",
                      "offset": 0,
                      "length": 25
                    }
                  ],
                  "5": []
                },
                {
                  "0": "This company charge me a restocking fee and still not given me my refund back.",
                  "1": "negative",
                  "3": {
                    "positive": 0.01,
                    "neutral": 0.03,
                    "negative": 0.96
                  },
                  "4": [
                    {
                      "sentiment": "negative",
                      "confidenceScores": {
                        "positive": 0.01,
                        "neutral": 0.03,
                        "negative": 0.96
                      },
                      "text": "This company charge me a restocking fee and still not given me my refund back.",
                      "offset": 0,
                      "length": 78
                    }
                  ],
                  "5": []
                },
                {
                  "0": "I'm trying to return it for a refund.",
                  "1": "neutral",
                  "3": {
                    "positive": 0.04,
                    "neutral": 0.76,
                    "negative": 0.21
                  },
                  "4": [
                    {
                      "sentiment": "neutral",
                      "confidenceScores": {
                        "positive": 0.04,
                        "neutral": 0.76,
                        "negative": 0.21
                      },
                      "text": "I'm trying to return it for a refund.",
                      "offset": 0,
                      "length": 37
                    }
                  ],
                  "5": []
                },
                {
                  "0": "I plugged it in only to find out not a darn thing worked.",
                  "1": "negative",
                  "3": {
                    "positive": 0,
                    "neutral": 0.01,
                    "negative": 0.99
                  },
                  "4": [
                    {
                      "sentiment": "negative",
                      "confidenceScores": {
                        "positive": 0,
                        "neutral": 0.01,
                        "negative": 0.99
                      },
                      "text": "I plugged it in only to find out not a darn thing worked.",
                      "offset": 0,
                      "length": 57
                    }
                  ],
                  "5": []
                },
                {
                  "0": "Excellent product.",
                  "1": "positive",
                  "3": {
                    "positive": 1,
                    "neutral": 0,
                    "negative": 0
                  },
                  "4": [
                    {
                      "sentiment": "positive",
                      "confidenceScores": {
                        "positive": 1,
                        "neutral": 0,
                        "negative": 0
                      },
                      "text": "Excellent product.",
                      "offset": 0,
                      "length": 18
                    }
                  ],
                  "5": []
                },
                {
                  "0": "Earbud piece breaks easily.",
                  "1": "negative",
                  "3": {
                    "positive": 0.08,
                    "neutral": 0.13,
                    "negative": 0.79
                  },
                  "4": [
                    {
                      "sentiment": "negative",
                      "confidenceScores": {
                        "positive": 0.08,
                        "neutral": 0.13,
                        "negative": 0.79
                      },
                      "text": "Earbud piece breaks easily.",
                      "offset": 0,
                      "length": 27
                    }
                  ],
                  "5": []
                },
                {
                  "0": "Lousy product.",
                  "1": "negative",
                  "3": {
                    "positive": 0.01,
                    "neutral": 0,
                    "negative": 0.99
                  },
                  "4": [
                    {
                      "sentiment": "negative",
                      "confidenceScores": {
                        "positive": 0.01,
                        "neutral": 0,
                        "negative": 0.99
                      },
                      "text": "Lousy product.",
                      "offset": 0,
                      "length": 14
                    }
                  ],
                  "5": []
                },
                {
                  "0": "This phone tries very hard to do everything but fails at it's very ability to be a phone.",
                  "1": "negative",
                  "3": {
                    "positive": 0,
                    "neutral": 0,
                    "negative": 1
                  },
                  "4": [
                    {
                      "sentiment": "negative",
                      "confidenceScores": {
                        "positive": 0,
                        "neutral": 0,
                        "negative": 1
                      },
                      "text": "This phone tries very hard to do everything but fails at it's very ability to be a phone.",
                      "offset": 0,
                      "length": 89
                    }
                  ],
                  "5": []
                },
                {
                  "0": "It is the best charger I have seen on the market yet.",
                  "1": "positive",
                  "3": {
                    "positive": 0.99,
                    "neutral": 0.01,
                    "negative": 0
                  },
                  "4": [
                    {
                      "sentiment": "positive",
                      "confidenceScores": {
                        "positive": 0.99,
                        "neutral": 0.01,
                        "negative": 0
                      },
                      "text": "It is the best charger I have seen on the market yet.",
                      "offset": 0,
                      "length": 53
                    }
                  ],
                  "5": []
                },
                {
                  "0": "SWEETEST PHONE!!!",
                  "1": "negative",
                  "3": {
                    "positive": 0.08,
                    "neutral": 0.01,
                    "negative": 0.91
                  },
                  "4": [
                    {
                      "sentiment": "negative",
                      "confidenceScores": {
                        "positive": 0.08,
                        "neutral": 0.01,
                        "negative": 0.91
                      },
                      "text": "SWEETEST PHONE!!!",
                      "offset": 0,
                      "length": 17
                    }
                  ],
                  "5": []
                },
                {
                  "0": ":-)Oh, the charger seems to work fine.",
                  "1": "positive",
                  "3": {
                    "positive": 0.94,
                    "neutral": 0.05,
                    "negative": 0.01
                  },
                  "4": [
                    {
                      "sentiment": "positive",
                      "confidenceScores": {
                        "positive": 0.94,
                        "neutral": 0.05,
                        "negative": 0.01
                      },
                      "text": ":-)Oh, the charger seems to work fine.",
                      "offset": 0,
                      "length": 38
                    }
                  ],
                  "5": []
                },
                {
                  "0": "It fits so securely that the ear hook does not even need to be used and the sound is better directed through your ear canal.",
                  "1": "positive",
                  "3": {
                    "positive": 0.97,
                    "neutral": 0.02,
                    "negative": 0.01
                  },
                  "4": [
                    {
                      "sentiment": "positive",
                      "confidenceScores": {
                        "positive": 0.97,
                        "neutral": 0.02,
                        "negative": 0.01
                      },
                      "text": "It fits so securely that the ear hook does not even need to be used and the sound is better directed through your ear canal.",
                      "offset": 0,
                      "length": 124
                    }
                  ],
                  "5": []
                },
                {
                  "0": "Not enough volume.",
                  "1": "negative",
                  "3": {
                    "positive": 0,
                    "neutral": 0.01,
                    "negative": 0.99
                  },
                  "4": [
                    {
                      "sentiment": "negative",
                      "confidenceScores": {
                        "positive": 0,
                        "neutral": 0.01,
                        "negative": 0.99
                      },
                      "text": "Not enough volume.",
                      "offset": 0,
                      "length": 18
                    }
                  ],
                  "5": []
                },
                {
                  "0": "Echo Problem....Very unsatisfactory",
                  "1": "negative",
                  "3": {
                    "positive": 0.01,
                    "neutral": 0.03,
                    "negative": 0.96
                  },
                  "4": [
                    {
                      "sentiment": "negative",
                      "confidenceScores": {
                        "positive": 0.01,
                        "neutral": 0.05,
                        "negative": 0.94
                      },
                      "text": "Echo Problem....",
                      "offset": 0,
                      "length": 16
                    },
                    {
                      "sentiment": "negative",
                      "confidenceScores": {
                        "positive": 0.01,
                        "neutral": 0,
                        "negative": 0.99
                      },
                      "text": "Very unsatisfactory",
                      "offset": 16,
                      "length": 19
                    }
                  ],
                  "5": []
                },
                {
                  "0": "you could only take 2 videos at a time and the quality was very poor.",
                  "1": "negative",
                  "3": {
                    "positive": 0,
                    "neutral": 0,
                    "negative": 1
                  },
                  "4": [
                    {
                      "sentiment": "negative",
                      "confidenceScores": {
                        "positive": 0,
                        "neutral": 0,
                        "negative": 1
                      },
                      "text": "you could only take 2 videos at a time and the quality was very poor.",
                      "offset": 0,
                      "length": 69
                    }
                  ],
                  "5": []
                },
                {
                  "0": "don't waste your money.",
                  "1": "positive",
                  "3": {
                    "positive": 0.43,
                    "neutral": 0.41,
                    "negative": 0.16
                  },
                  "4": [
                    {
                      "sentiment": "positive",
                      "confidenceScores": {
                        "positive": 0.43,
                        "neutral": 0.41,
                        "negative": 0.16
                      },
                      "text": "don't waste your money.",
                      "offset": 0,
                      "length": 23
                    }
                  ],
                  "5": []
                },
                {
                  "0": "I am going to have to be the first to negatively review this product.",
                  "1": "negative",
                  "3": {
                    "positive": 0,
                    "neutral": 0.01,
                    "negative": 0.99
                  },
                  "4": [
                    {
                      "sentiment": "negative",
                      "confidenceScores": {
                        "positive": 0,
                        "neutral": 0.01,
                        "negative": 0.99
                      },
                      "text": "I am going to have to be the first to negatively review this product.",
                      "offset": 0,
                      "length": 69
                    }
                  ],
                  "5": []
                },
                {
                  "0": "Adapter does not provide enough charging current.",
                  "1": "negative",
                  "3": {
                    "positive": 0,
                    "neutral": 0.02,
                    "negative": 0.97
                  },
                  "4": [
                    {
                      "sentiment": "negative",
                      "confidenceScores": {
                        "positive": 0,
                        "neutral": 0.02,
                        "negative": 0.97
                      },
                      "text": "Adapter does not provide enough charging current.",
                      "offset": 0,
                      "length": 49
                    }
                  ],
                  "5": []
                },
                {
                  "0": "There was so much hype over this phone that I assumed it was the best, my mistake.",
                  "1": "negative",
                  "3": {
                    "positive": 0.01,
                    "neutral": 0,
                    "negative": 0.98
                  },
                  "4": [
                    {
                      "sentiment": "negative",
                      "confidenceScores": {
                        "positive": 0.01,
                        "neutral": 0,
                        "negative": 0.98
                      },
                      "text": "There was so much hype over this phone that I assumed it was the best, my mistake.",
                      "offset": 0,
                      "length": 82
                    }
                  ],
                  "5": []
                },
                {
                  "0": "You also cannot take pictures with it in the case because the lense is covered.",
                  "1": "neutral",
                  "3": {
                    "positive": 0.01,
                    "neutral": 0.76,
                    "negative": 0.24
                  },
                  "4": [
                    {
                      "sentiment": "neutral",
                      "confidenceScores": {
                        "positive": 0.01,
                        "neutral": 0.76,
                        "negative": 0.24
                      },
                      "text": "You also cannot take pictures with it in the case because the lense is covered.",
                      "offset": 0,
                      "length": 79
                    }
                  ],
                  "5": []
                },
                {
                  "0": "Phone falls out easily.",
                  "1": "negative",
                  "3": {
                    "positive": 0.15,
                    "neutral": 0.12,
                    "negative": 0.74
                  },
                  "4": [
                    {
                      "sentiment": "negative",
                      "confidenceScores": {
                        "positive": 0.15,
                        "neutral": 0.12,
                        "negative": 0.74
                      },
                      "text": "Phone falls out easily.",
                      "offset": 0,
                      "length": 23
                    }
                  ],
                  "5": []
                },
                {
                  "0": "It didn't work, people can not hear me when I talk.",
                  "1": "negative",
                  "3": {
                    "positive": 0,
                    "neutral": 0,
                    "negative": 0.99
                  },
                  "4": [
                    {
                      "sentiment": "negative",
                      "confidenceScores": {
                        "positive": 0,
                        "neutral": 0,
                        "negative": 0.99
                      },
                      "text": "It didn't work, people can not hear me when I talk.",
                      "offset": 0,
                      "length": 51
                    }
                  ],
                  "5": []
                },
                {
                  "0": "The text messaging feature is really tricky to use.",
                  "1": "negative",
                  "3": {
                    "positive": 0,
                    "neutral": 0,
                    "negative": 0.99
                  },
                  "4": [
                    {
                      "sentiment": "negative",
                      "confidenceScores": {
                        "positive": 0,
                        "neutral": 0,
                        "negative": 0.99
                      },
                      "text": "The text messaging feature is really tricky to use.",
                      "offset": 0,
                      "length": 51
                    }
                  ],
                  "5": []
                },
                {
                  "0": "I'm really disappointed all I have now is a charger that doesn't work.",
                  "1": "negative",
                  "3": {
                    "positive": 0,
                    "neutral": 0,
                    "negative": 1
                  },
                  "4": [
                    {
                      "sentiment": "negative",
                      "confidenceScores": {
                        "positive": 0,
                        "neutral": 0,
                        "negative": 1
                      },
                      "text": "I'm really disappointed all I have now is a charger that doesn't work.",
                      "offset": 0,
                      "length": 70
                    }
                  ],
                  "5": []
                },
                {
                  "0": "Painful on the ear.",
                  "1": "negative",
                  "3": {
                    "positive": 0.01,
                    "neutral": 0.01,
                    "negative": 0.99
                  },
                  "4": [
                    {
                      "sentiment": "negative",
                      "confidenceScores": {
                        "positive": 0.01,
                        "neutral": 0.01,
                        "negative": 0.99
                      },
                      "text": "Painful on the ear.",
                      "offset": 0,
                      "length": 19
                    }
                  ],
                  "5": []
                },
                {
                  "0": "Lasted one day and then blew up.",
                  "1": "negative",
                  "3": {
                    "positive": 0,
                    "neutral": 0.01,
                    "negative": 0.98
                  },
                  "4": [
                    {
                      "sentiment": "negative",
                      "confidenceScores": {
                        "positive": 0,
                        "neutral": 0.01,
                        "negative": 0.98
                      },
                      "text": "Lasted one day and then blew up.",
                      "offset": 0,
                      "length": 32
                    }
                  ],
                  "5": []
                },
                {
                  "0": "disappointed.",
                  "1": "negative",
                  "3": {
                    "positive": 0.01,
                    "neutral": 0,
                    "negative": 0.99
                  },
                  "4": [
                    {
                      "sentiment": "negative",
                      "confidenceScores": {
                        "positive": 0.01,
                        "neutral": 0,
                        "negative": 0.99
                      },
                      "text": "disappointed.",
                      "offset": 0,
                      "length": 13
                    }
                  ],
                  "5": []
                },
                {
                  "0": "Kind of flops around.",
                  "1": "negative",
                  "3": {
                    "positive": 0.02,
                    "neutral": 0.24,
                    "negative": 0.74
                  },
                  "4": [
                    {
                      "sentiment": "negative",
                      "confidenceScores": {
                        "positive": 0.02,
                        "neutral": 0.24,
                        "negative": 0.74
                      },
                      "text": "Kind of flops around.",
                      "offset": 0,
                      "length": 21
                    }
                  ],
                  "5": []
                },
                {
                  "0": "The screen does get smudged easily because it touches your ear and face.",
                  "1": "negative",
                  "3": {
                    "positive": 0.06,
                    "neutral": 0.41,
                    "negative": 0.54
                  },
                  "4": [
                    {
                      "sentiment": "negative",
                      "confidenceScores": {
                        "positive": 0.06,
                        "neutral": 0.41,
                        "negative": 0.54
                      },
                      "text": "The screen does get smudged easily because it touches your ear and face.",
                      "offset": 0,
                      "length": 72
                    }
                  ],
                  "5": []
                },
                {
                  "0": "What a piece of junk.. I lose more calls on this phone.",
                  "1": "negative",
                  "3": {
                    "positive": 0.01,
                    "neutral": 0.06,
                    "negative": 0.94
                  },
                  "4": [
                    {
                      "sentiment": "negative",
                      "confidenceScores": {
                        "positive": 0.01,
                        "neutral": 0.01,
                        "negative": 0.98
                      },
                      "text": "What a piece of junk.. ",
                      "offset": 0,
                      "length": 23
                    },
                    {
                      "sentiment": "negative",
                      "confidenceScores": {
                        "positive": 0,
                        "neutral": 0.11,
                        "negative": 0.89
                      },
                      "text": "I lose more calls on this phone.",
                      "offset": 23,
                      "length": 32
                    }
                  ],
                  "5": []
                },
                {
                  "0": "Item Does Not Match Picture.",
                  "1": "negative",
                  "3": {
                    "positive": 0,
                    "neutral": 0.01,
                    "negative": 0.99
                  },
                  "4": [
                    {
                      "sentiment": "negative",
                      "confidenceScores": {
                        "positive": 0,
                        "neutral": 0.01,
                        "negative": 0.99
                      },
                      "text": "Item Does Not Match Picture.",
                      "offset": 0,
                      "length": 28
                    }
                  ],
                  "5": []
                },
                {
                  "0": "The only thing that disappoint me is the infra red port (irda).",
                  "1": "negative",
                  "3": {
                    "positive": 0,
                    "neutral": 0,
                    "negative": 0.99
                  },
                  "4": [
                    {
                      "sentiment": "negative",
                      "confidenceScores": {
                        "positive": 0,
                        "neutral": 0,
                        "negative": 0.99
                      },
                      "text": "The only thing that disappoint me is the infra red port (irda).",
                      "offset": 0,
                      "length": 63
                    }
                  ],
                  "5": []
                },
                {
                  "0": "You can not answer calls with the unit, never worked once!",
                  "1": "negative",
                  "3": {
                    "positive": 0.01,
                    "neutral": 0.01,
                    "negative": 0.99
                  },
                  "4": [
                    {
                      "sentiment": "negative",
                      "confidenceScores": {
                        "positive": 0.01,
                        "neutral": 0.01,
                        "negative": 0.99
                      },
                      "text": "You can not answer calls with the unit, never worked once!",
                      "offset": 0,
                      "length": 58
                    }
                  ],
                  "5": []
                }
              ],
              "schema": [
                {
                  "key": "0",
                  "name": "value",
                  "type": "string"
                },
                {
                  "key": "1",
                  "name": "sentiment",
                  "type": "string"
                },
                {
                  "key": "2",
                  "name": "statistics",
                  "type": "StructType(StructField(charactersCount,IntegerType,false), StructField(transactionsCount,IntegerType,false))"
                },
                {
                  "key": "3",
                  "name": "confidenceScores",
                  "type": "StructType(StructField(positive,DoubleType,false), StructField(neutral,DoubleType,false), StructField(negative,DoubleType,false))"
                },
                {
                  "key": "4",
                  "name": "sentences",
                  "type": "ArrayType(StructType(StructField(text,StringType,true), StructField(sentiment,StringType,true), StructField(confidenceScores,StructType(StructField(positive,DoubleType,false), StructField(neutral,DoubleType,false), StructField(negative,DoubleType,false)),true), StructField(offset,IntegerType,false), StructField(length,IntegerType,false)),true)"
                },
                {
                  "key": "5",
                  "name": "warnings",
                  "type": "ArrayType(StructType(StructField(code,StringType,true), StructField(message,StringType,true), StructField(targetRef,StringType,true)),true)"
                },
                {
                  "key": "6",
                  "name": "error-message",
                  "type": "string"
                },
                {
                  "key": "7",
                  "name": "error",
                  "type": "StructType(StructField(response,StringType,true), StructField(status,StructType(StructField(protocolVersion,StructType(StructField(protocol,StringType,true), StructField(major,IntegerType,false), StructField(minor,IntegerType,false)),true), StructField(statusCode,IntegerType,false), StructField(reasonPhrase,StringType,true)),true))"
                }
              ],
              "truncated": false
            },
            "isSummary": false,
            "language": "scala"
          },
          "persist_state": {
            "view": {
              "type": "details",
              "tableOptions": {},
              "chartOptions": {
                "chartType": "column",
                "aggregationType": "count",
                "categoryFieldKeys": [
                  "1"
                ],
                "seriesFieldKeys": [
                  "1"
                ],
                "isStacked": true,
                "pivotFieldKey": "1"
              }
            }
          }
        }
      }
    }
  },
  "cells": [
    {
      "cell_type": "code",
      "execution_count": 6,
      "outputs": [
        {
          "output_type": "display_data",
          "data": {
            "application/vnd.livy.statement-meta+json": {
              "spark_pool": "skspark",
              "session_id": 15,
              "statement_id": 5,
              "state": "finished",
              "livy_statement_state": "available",
              "queued_time": "2022-05-13T13:43:05.7022434Z",
              "session_start_time": null,
              "execution_start_time": "2022-05-13T13:43:05.8126952Z",
              "execution_finish_time": "2022-05-13T13:43:26.6705132Z"
            },
            "text/plain": "StatementMeta(skspark, 15, 5, Finished, Available)"
          },
          "metadata": {}
        }
      ],
      "metadata": {
        "microsoft": {
          "language": "python"
        },
        "collapsed": false
      },
      "source": [
        "%%pyspark\n",
        "df = spark.read.load('abfss://users@mahreview.dfs.core.windows.net/synapse/workspaces/skworkspace1/warehouse/amazon_cells.txt', format='text')\n",
        "df.write.mode(\"overwrite\").saveAsTable(\"default.amazon_cells\")"
      ]
    },
    {
      "cell_type": "code",
      "execution_count": 7,
      "outputs": [
        {
          "output_type": "display_data",
          "data": {
            "application/vnd.livy.statement-meta+json": {
              "spark_pool": "skspark",
              "session_id": 15,
              "statement_id": 6,
              "state": "finished",
              "livy_statement_state": "available",
              "queued_time": "2022-05-13T13:43:35.1533978Z",
              "session_start_time": null,
              "execution_start_time": "2022-05-13T13:43:35.2538303Z",
              "execution_finish_time": "2022-05-13T13:53:21.5817824Z"
            },
            "text/plain": "StatementMeta(skspark, 15, 6, Finished, Available)"
          },
          "metadata": {}
        },
        {
          "output_type": "display_data",
          "data": {
            "application/vnd.synapse.widget-view+json": {
              "widget_id": "b7b5f07b-91ee-49ba-a450-f6f89c295e77",
              "widget_type": "Synapse.DataFrame"
            },
            "text/plain": "SynapseWidget(Synapse.DataFrame, b7b5f07b-91ee-49ba-a450-f6f89c295e77)"
          },
          "metadata": {}
        }
      ],
      "metadata": {
        "jupyter": {
          "source_hidden": false,
          "outputs_hidden": false
        },
        "nteract": {
          "transient": {
            "deleting": false
          }
        },
        "collapsed": false
      },
      "source": [
        "from mmlspark.cognitive import *\r\n",
        "from notebookutils import mssparkutils\r\n",
        "from pyspark.sql.functions import explode\r\n",
        "\r\n",
        "# Load the data into a Spark DataFrame\r\n",
        "df = spark.sql(\"SELECT * FROM default.amazon_cells\")\r\n",
        "\r\n",
        "sentiment = (TextSentiment()\r\n",
        "    .setLinkedService(\"CognitiveService1\")\r\n",
        "    .setOutputCol(\"output\")\r\n",
        "    .setErrorCol(\"error\")\r\n",
        "    .setLanguage(\"en\")\r\n",
        "    .setTextCol(\"value\"))\r\n",
        "\r\n",
        "results = sentiment.transform(df)\r\n",
        "\r\n",
        "# Show the results\r\n",
        "display(results\\\r\n",
        "    .select(\"value\", explode(\"output\").alias(\"exploded\"), \"error\")\\\r\n",
        "    .select(\"value\", \"exploded.*\", \"error\")\\\r\n",
        "    .limit(1000))"
      ]
    }
  ]
}