{
  "nbformat": 4,
  "nbformat_minor": 2,
  "metadata": {
    "kernelspec": {
      "name": "synapse_pyspark",
      "display_name": "Synapse PySpark"
    },
    "language_info": {
      "name": "python"
    },
    "description": null,
    "save_output": true,
    "synapse_widget": {
      "version": "0.1",
      "state": {
        "30cb1fd4-3ec5-4b68-8539-356e803e63dd": {
          "type": "Synapse.DataFrame",
          "sync_state": {
            "table": {
              "rows": [
                {
                  "0": "Wow... Loved this place.",
                  "1": "positive",
                  "3": {
                    "positive": 0.74,
                    "neutral": 0.2,
                    "negative": 0.06
                  },
                  "4": [
                    {
                      "sentiment": "positive",
                      "confidenceScores": {
                        "positive": 0.49,
                        "neutral": 0.4,
                        "negative": 0.12
                      },
                      "text": "Wow... ",
                      "offset": 0,
                      "length": 7
                    },
                    {
                      "sentiment": "positive",
                      "confidenceScores": {
                        "positive": 1,
                        "neutral": 0,
                        "negative": 0
                      },
                      "text": "Loved this place.",
                      "offset": 7,
                      "length": 17
                    }
                  ],
                  "5": []
                },
                {
                  "0": "Crust is not good.",
                  "1": "negative",
                  "3": {
                    "positive": 0,
                    "neutral": 0,
                    "negative": 0.99
                  },
                  "4": [
                    {
                      "sentiment": "negative",
                      "confidenceScores": {
                        "positive": 0,
                        "neutral": 0,
                        "negative": 0.99
                      },
                      "text": "Crust is not good.",
                      "offset": 0,
                      "length": 18
                    }
                  ],
                  "5": []
                },
                {
                  "0": "Not tasty and the texture was just nasty.",
                  "1": "negative",
                  "3": {
                    "positive": 0,
                    "neutral": 0,
                    "negative": 1
                  },
                  "4": [
                    {
                      "sentiment": "negative",
                      "confidenceScores": {
                        "positive": 0,
                        "neutral": 0,
                        "negative": 1
                      },
                      "text": "Not tasty and the texture was just nasty.",
                      "offset": 0,
                      "length": 41
                    }
                  ],
                  "5": []
                },
                {
                  "0": "Stopped by during the late May bank holiday off Rick Steve recommendation and loved it.",
                  "1": "positive",
                  "3": {
                    "positive": 0.99,
                    "neutral": 0,
                    "negative": 0
                  },
                  "4": [
                    {
                      "sentiment": "positive",
                      "confidenceScores": {
                        "positive": 0.99,
                        "neutral": 0,
                        "negative": 0
                      },
                      "text": "Stopped by during the late May bank holiday off Rick Steve recommendation and loved it.",
                      "offset": 0,
                      "length": 87
                    }
                  ],
                  "5": []
                },
                {
                  "0": "The selection on the menu was great and so were the prices.",
                  "1": "positive",
                  "3": {
                    "positive": 1,
                    "neutral": 0,
                    "negative": 0
                  },
                  "4": [
                    {
                      "sentiment": "positive",
                      "confidenceScores": {
                        "positive": 1,
                        "neutral": 0,
                        "negative": 0
                      },
                      "text": "The selection on the menu was great and so were the prices.",
                      "offset": 0,
                      "length": 59
                    }
                  ],
                  "5": []
                },
                {
                  "0": "Now I am getting angry and I want my damn pho.",
                  "1": "negative",
                  "3": {
                    "positive": 0,
                    "neutral": 0.01,
                    "negative": 0.98
                  },
                  "4": [
                    {
                      "sentiment": "negative",
                      "confidenceScores": {
                        "positive": 0,
                        "neutral": 0.01,
                        "negative": 0.98
                      },
                      "text": "Now I am getting angry and I want my damn pho.",
                      "offset": 0,
                      "length": 46
                    }
                  ],
                  "5": []
                },
                {
                  "0": "Honeslty it didn't taste THAT fresh.)",
                  "1": "negative",
                  "3": {
                    "positive": 0.01,
                    "neutral": 0.01,
                    "negative": 0.98
                  },
                  "4": [
                    {
                      "sentiment": "negative",
                      "confidenceScores": {
                        "positive": 0.01,
                        "neutral": 0.01,
                        "negative": 0.98
                      },
                      "text": "Honeslty it didn't taste THAT fresh.)",
                      "offset": 0,
                      "length": 37
                    }
                  ],
                  "5": []
                },
                {
                  "0": "The potatoes were like rubber and you could tell they had been made up ahead of time being kept under a warmer.",
                  "1": "neutral",
                  "3": {
                    "positive": 0.02,
                    "neutral": 0.86,
                    "negative": 0.12
                  },
                  "4": [
                    {
                      "sentiment": "neutral",
                      "confidenceScores": {
                        "positive": 0.02,
                        "neutral": 0.86,
                        "negative": 0.12
                      },
                      "text": "The potatoes were like rubber and you could tell they had been made up ahead of time being kept under a warmer.",
                      "offset": 0,
                      "length": 111
                    }
                  ],
                  "5": []
                },
                {
                  "0": "The fries were great too.",
                  "1": "positive",
                  "3": {
                    "positive": 1,
                    "neutral": 0,
                    "negative": 0
                  },
                  "4": [
                    {
                      "sentiment": "positive",
                      "confidenceScores": {
                        "positive": 1,
                        "neutral": 0,
                        "negative": 0
                      },
                      "text": "The fries were great too.",
                      "offset": 0,
                      "length": 25
                    }
                  ],
                  "5": []
                },
                {
                  "0": "A great touch.",
                  "1": "positive",
                  "3": {
                    "positive": 1,
                    "neutral": 0,
                    "negative": 0
                  },
                  "4": [
                    {
                      "sentiment": "positive",
                      "confidenceScores": {
                        "positive": 1,
                        "neutral": 0,
                        "negative": 0
                      },
                      "text": "A great touch.",
                      "offset": 0,
                      "length": 14
                    }
                  ],
                  "5": []
                },
                {
                  "0": "Service was very prompt.",
                  "1": "positive",
                  "3": {
                    "positive": 0.98,
                    "neutral": 0.02,
                    "negative": 0.01
                  },
                  "4": [
                    {
                      "sentiment": "positive",
                      "confidenceScores": {
                        "positive": 0.98,
                        "neutral": 0.02,
                        "negative": 0.01
                      },
                      "text": "Service was very prompt.",
                      "offset": 0,
                      "length": 24
                    }
                  ],
                  "5": []
                },
                {
                  "0": "Would not go back.",
                  "1": "negative",
                  "3": {
                    "positive": 0.02,
                    "neutral": 0.33,
                    "negative": 0.65
                  },
                  "4": [
                    {
                      "sentiment": "negative",
                      "confidenceScores": {
                        "positive": 0.02,
                        "neutral": 0.33,
                        "negative": 0.65
                      },
                      "text": "Would not go back.",
                      "offset": 0,
                      "length": 18
                    }
                  ],
                  "5": []
                },
                {
                  "0": "The cashier had no care what so ever on what I had to say it still ended up being wayyy overpriced.",
                  "1": "negative",
                  "3": {
                    "positive": 0,
                    "neutral": 0.01,
                    "negative": 0.99
                  },
                  "4": [
                    {
                      "sentiment": "negative",
                      "confidenceScores": {
                        "positive": 0,
                        "neutral": 0.01,
                        "negative": 0.99
                      },
                      "text": "The cashier had no care what so ever on what I had to say it still ended up being wayyy overpriced.",
                      "offset": 0,
                      "length": 99
                    }
                  ],
                  "5": []
                },
                {
                  "0": "I tried the Cape Cod ravoli, chicken,with cranberry...mmmm!",
                  "1": "neutral",
                  "3": {
                    "positive": 0.15,
                    "neutral": 0.72,
                    "negative": 0.13
                  },
                  "4": [
                    {
                      "sentiment": "neutral",
                      "confidenceScores": {
                        "positive": 0.11,
                        "neutral": 0.8,
                        "negative": 0.09
                      },
                      "text": "I tried the Cape Cod ravoli, chicken,with cranberry...",
                      "offset": 0,
                      "length": 54
                    },
                    {
                      "sentiment": "neutral",
                      "confidenceScores": {
                        "positive": 0.19,
                        "neutral": 0.65,
                        "negative": 0.16
                      },
                      "text": "mmmm!",
                      "offset": 54,
                      "length": 5
                    }
                  ],
                  "5": []
                },
                {
                  "0": "I was disgusted because I was pretty sure that was human hair.",
                  "1": "negative",
                  "3": {
                    "positive": 0,
                    "neutral": 0,
                    "negative": 0.99
                  },
                  "4": [
                    {
                      "sentiment": "negative",
                      "confidenceScores": {
                        "positive": 0,
                        "neutral": 0,
                        "negative": 0.99
                      },
                      "text": "I was disgusted because I was pretty sure that was human hair.",
                      "offset": 0,
                      "length": 62
                    }
                  ],
                  "5": []
                },
                {
                  "0": "I was shocked because no signs indicate cash only.",
                  "1": "negative",
                  "3": {
                    "positive": 0,
                    "neutral": 0,
                    "negative": 0.99
                  },
                  "4": [
                    {
                      "sentiment": "negative",
                      "confidenceScores": {
                        "positive": 0,
                        "neutral": 0,
                        "negative": 0.99
                      },
                      "text": "I was shocked because no signs indicate cash only.",
                      "offset": 0,
                      "length": 50
                    }
                  ],
                  "5": []
                },
                {
                  "0": "Highly recommended.",
                  "1": "positive",
                  "3": {
                    "positive": 0.99,
                    "neutral": 0,
                    "negative": 0
                  },
                  "4": [
                    {
                      "sentiment": "positive",
                      "confidenceScores": {
                        "positive": 0.99,
                        "neutral": 0,
                        "negative": 0
                      },
                      "text": "Highly recommended.",
                      "offset": 0,
                      "length": 19
                    }
                  ],
                  "5": []
                },
                {
                  "0": "Waitress was a little slow in service.",
                  "1": "negative",
                  "3": {
                    "positive": 0,
                    "neutral": 0,
                    "negative": 0.99
                  },
                  "4": [
                    {
                      "sentiment": "negative",
                      "confidenceScores": {
                        "positive": 0,
                        "neutral": 0,
                        "negative": 0.99
                      },
                      "text": "Waitress was a little slow in service.",
                      "offset": 0,
                      "length": 38
                    }
                  ],
                  "5": []
                },
                {
                  "0": "This place is not worth your time, let alone Vegas.",
                  "1": "negative",
                  "3": {
                    "positive": 0,
                    "neutral": 0,
                    "negative": 0.99
                  },
                  "4": [
                    {
                      "sentiment": "negative",
                      "confidenceScores": {
                        "positive": 0,
                        "neutral": 0,
                        "negative": 0.99
                      },
                      "text": "This place is not worth your time, let alone Vegas.",
                      "offset": 0,
                      "length": 51
                    }
                  ],
                  "5": []
                },
                {
                  "0": "did not like at all.",
                  "1": "negative",
                  "3": {
                    "positive": 0.01,
                    "neutral": 0.02,
                    "negative": 0.98
                  },
                  "4": [
                    {
                      "sentiment": "negative",
                      "confidenceScores": {
                        "positive": 0.01,
                        "neutral": 0.02,
                        "negative": 0.98
                      },
                      "text": "did not like at all.",
                      "offset": 0,
                      "length": 20
                    }
                  ],
                  "5": []
                },
                {
                  "0": "The Burrittos Blah!",
                  "1": "negative",
                  "3": {
                    "positive": 0.03,
                    "neutral": 0.09,
                    "negative": 0.88
                  },
                  "4": [
                    {
                      "sentiment": "negative",
                      "confidenceScores": {
                        "positive": 0.03,
                        "neutral": 0.09,
                        "negative": 0.88
                      },
                      "text": "The Burrittos Blah!",
                      "offset": 0,
                      "length": 19
                    }
                  ],
                  "5": []
                },
                {
                  "0": "The food, amazing.",
                  "1": "positive",
                  "3": {
                    "positive": 0.99,
                    "neutral": 0,
                    "negative": 0
                  },
                  "4": [
                    {
                      "sentiment": "positive",
                      "confidenceScores": {
                        "positive": 0.99,
                        "neutral": 0,
                        "negative": 0
                      },
                      "text": "The food, amazing.",
                      "offset": 0,
                      "length": 18
                    }
                  ],
                  "5": []
                },
                {
                  "0": "Service is also cute.",
                  "1": "positive",
                  "3": {
                    "positive": 1,
                    "neutral": 0,
                    "negative": 0
                  },
                  "4": [
                    {
                      "sentiment": "positive",
                      "confidenceScores": {
                        "positive": 1,
                        "neutral": 0,
                        "negative": 0
                      },
                      "text": "Service is also cute.",
                      "offset": 0,
                      "length": 21
                    }
                  ],
                  "5": []
                },
                {
                  "0": "I could care less... The interior is just beautiful.",
                  "1": "mixed",
                  "3": {
                    "positive": 0.54,
                    "neutral": 0.12,
                    "negative": 0.34
                  },
                  "4": [
                    {
                      "sentiment": "negative",
                      "confidenceScores": {
                        "positive": 0.08,
                        "neutral": 0.24,
                        "negative": 0.68
                      },
                      "text": "I could care less... ",
                      "offset": 0,
                      "length": 21
                    },
                    {
                      "sentiment": "positive",
                      "confidenceScores": {
                        "positive": 0.99,
                        "neutral": 0.01,
                        "negative": 0
                      },
                      "text": "The interior is just beautiful.",
                      "offset": 21,
                      "length": 31
                    }
                  ],
                  "5": []
                },
                {
                  "0": "So they performed.",
                  "1": "neutral",
                  "3": {
                    "positive": 0.05,
                    "neutral": 0.88,
                    "negative": 0.07
                  },
                  "4": [
                    {
                      "sentiment": "neutral",
                      "confidenceScores": {
                        "positive": 0.05,
                        "neutral": 0.88,
                        "negative": 0.07
                      },
                      "text": "So they performed.",
                      "offset": 0,
                      "length": 18
                    }
                  ],
                  "5": []
                },
                {
                  "0": "That's right....the red velvet cake.....ohhh this stuff is so good.",
                  "1": "positive",
                  "3": {
                    "positive": 0.99,
                    "neutral": 0,
                    "negative": 0
                  },
                  "4": [
                    {
                      "sentiment": "neutral",
                      "confidenceScores": {
                        "positive": 0.25,
                        "neutral": 0.7,
                        "negative": 0.05
                      },
                      "text": "That's right....",
                      "offset": 0,
                      "length": 16
                    },
                    {
                      "sentiment": "neutral",
                      "confidenceScores": {
                        "positive": 0.1,
                        "neutral": 0.78,
                        "negative": 0.12
                      },
                      "text": "the red velvet cake.....",
                      "offset": 16,
                      "length": 24
                    },
                    {
                      "sentiment": "positive",
                      "confidenceScores": {
                        "positive": 0.99,
                        "neutral": 0,
                        "negative": 0
                      },
                      "text": "ohhh this stuff is so good.",
                      "offset": 40,
                      "length": 27
                    }
                  ],
                  "5": []
                },
                {
                  "0": "#NAME?",
                  "1": "neutral",
                  "3": {
                    "positive": 0.03,
                    "neutral": 0.94,
                    "negative": 0.03
                  },
                  "4": [
                    {
                      "sentiment": "neutral",
                      "confidenceScores": {
                        "positive": 0.03,
                        "neutral": 0.94,
                        "negative": 0.03
                      },
                      "text": "#NAME?",
                      "offset": 0,
                      "length": 6
                    }
                  ],
                  "5": []
                },
                {
                  "0": "This hole in the wall has great Mexican street tacos, and friendly staff.",
                  "1": "positive",
                  "3": {
                    "positive": 1,
                    "neutral": 0,
                    "negative": 0
                  },
                  "4": [
                    {
                      "sentiment": "positive",
                      "confidenceScores": {
                        "positive": 1,
                        "neutral": 0,
                        "negative": 0
                      },
                      "text": "This hole in the wall has great Mexican street tacos, and friendly staff.",
                      "offset": 0,
                      "length": 73
                    }
                  ],
                  "5": []
                },
                {
                  "0": "Took an hour to get our food only 4 tables in restaurant my food was Luke warm, Our sever was running around like he was totally overwhelmed.",
                  "1": "negative",
                  "3": {
                    "positive": 0.01,
                    "neutral": 0,
                    "negative": 0.99
                  },
                  "4": [
                    {
                      "sentiment": "negative",
                      "confidenceScores": {
                        "positive": 0.01,
                        "neutral": 0,
                        "negative": 0.99
                      },
                      "text": "Took an hour to get our food only 4 tables in restaurant my food was Luke warm, Our sever was running around like he was totally overwhelmed.",
                      "offset": 0,
                      "length": 141
                    }
                  ],
                  "5": []
                },
                {
                  "0": "The worst was the salmon sashimi.",
                  "1": "negative",
                  "3": {
                    "positive": 0,
                    "neutral": 0.01,
                    "negative": 0.99
                  },
                  "4": [
                    {
                      "sentiment": "negative",
                      "confidenceScores": {
                        "positive": 0,
                        "neutral": 0.01,
                        "negative": 0.99
                      },
                      "text": "The worst was the salmon sashimi.",
                      "offset": 0,
                      "length": 33
                    }
                  ],
                  "5": []
                },
                {
                  "0": "Also there are combos like a burger, fries, and beer for 23 which is a decent deal.",
                  "1": "positive",
                  "3": {
                    "positive": 0.97,
                    "neutral": 0.01,
                    "negative": 0.01
                  },
                  "4": [
                    {
                      "sentiment": "positive",
                      "confidenceScores": {
                        "positive": 0.97,
                        "neutral": 0.01,
                        "negative": 0.01
                      },
                      "text": "Also there are combos like a burger, fries, and beer for 23 which is a decent deal.",
                      "offset": 0,
                      "length": 83
                    }
                  ],
                  "5": []
                },
                {
                  "0": "This was like the final blow!",
                  "1": "negative",
                  "3": {
                    "positive": 0.01,
                    "neutral": 0.01,
                    "negative": 0.98
                  },
                  "4": [
                    {
                      "sentiment": "negative",
                      "confidenceScores": {
                        "positive": 0.01,
                        "neutral": 0.01,
                        "negative": 0.98
                      },
                      "text": "This was like the final blow!",
                      "offset": 0,
                      "length": 29
                    }
                  ],
                  "5": []
                },
                {
                  "0": "I found this place by accident and I could not be happier.",
                  "1": "positive",
                  "3": {
                    "positive": 0.75,
                    "neutral": 0.01,
                    "negative": 0.23
                  },
                  "4": [
                    {
                      "sentiment": "positive",
                      "confidenceScores": {
                        "positive": 0.75,
                        "neutral": 0.01,
                        "negative": 0.23
                      },
                      "text": "I found this place by accident and I could not be happier.",
                      "offset": 0,
                      "length": 58
                    }
                  ],
                  "5": []
                },
                {
                  "0": "seems like a good quick place to grab a bite of some familiar pub food, but do yourself a favor and look elsewhere.",
                  "1": "positive",
                  "3": {
                    "positive": 0.97,
                    "neutral": 0.01,
                    "negative": 0.02
                  },
                  "4": [
                    {
                      "sentiment": "positive",
                      "confidenceScores": {
                        "positive": 0.97,
                        "neutral": 0.01,
                        "negative": 0.02
                      },
                      "text": "seems like a good quick place to grab a bite of some familiar pub food, but do yourself a favor and look elsewhere.",
                      "offset": 0,
                      "length": 115
                    }
                  ],
                  "5": []
                },
                {
                  "0": "Overall, I like this place a lot.",
                  "1": "positive",
                  "3": {
                    "positive": 0.99,
                    "neutral": 0,
                    "negative": 0
                  },
                  "4": [
                    {
                      "sentiment": "positive",
                      "confidenceScores": {
                        "positive": 0.99,
                        "neutral": 0,
                        "negative": 0
                      },
                      "text": "Overall, I like this place a lot.",
                      "offset": 0,
                      "length": 33
                    }
                  ],
                  "5": []
                },
                {
                  "0": "The only redeeming quality of the restaurant was that it was very inexpensive.",
                  "1": "negative",
                  "3": {
                    "positive": 0.07,
                    "neutral": 0.01,
                    "negative": 0.92
                  },
                  "4": [
                    {
                      "sentiment": "negative",
                      "confidenceScores": {
                        "positive": 0.07,
                        "neutral": 0.01,
                        "negative": 0.92
                      },
                      "text": "The only redeeming quality of the restaurant was that it was very inexpensive.",
                      "offset": 0,
                      "length": 78
                    }
                  ],
                  "5": []
                },
                {
                  "0": "Ample portions and good prices.",
                  "1": "positive",
                  "3": {
                    "positive": 1,
                    "neutral": 0,
                    "negative": 0
                  },
                  "4": [
                    {
                      "sentiment": "positive",
                      "confidenceScores": {
                        "positive": 1,
                        "neutral": 0,
                        "negative": 0
                      },
                      "text": "Ample portions and good prices.",
                      "offset": 0,
                      "length": 31
                    }
                  ],
                  "5": []
                },
                {
                  "0": "Poor service, the waiter made me feel like I was stupid every time he came to the table.",
                  "1": "negative",
                  "3": {
                    "positive": 0,
                    "neutral": 0,
                    "negative": 0.99
                  },
                  "4": [
                    {
                      "sentiment": "negative",
                      "confidenceScores": {
                        "positive": 0,
                        "neutral": 0,
                        "negative": 0.99
                      },
                      "text": "Poor service, the waiter made me feel like I was stupid every time he came to the table.",
                      "offset": 0,
                      "length": 88
                    }
                  ],
                  "5": []
                },
                {
                  "0": "My first visit to Hiro was a delight!",
                  "1": "positive",
                  "3": {
                    "positive": 1,
                    "neutral": 0,
                    "negative": 0
                  },
                  "4": [
                    {
                      "sentiment": "positive",
                      "confidenceScores": {
                        "positive": 1,
                        "neutral": 0,
                        "negative": 0
                      },
                      "text": "My first visit to Hiro was a delight!",
                      "offset": 0,
                      "length": 37
                    }
                  ],
                  "5": []
                },
                {
                  "0": "Service sucks.",
                  "1": "negative",
                  "3": {
                    "positive": 0,
                    "neutral": 0,
                    "negative": 0.99
                  },
                  "4": [
                    {
                      "sentiment": "negative",
                      "confidenceScores": {
                        "positive": 0,
                        "neutral": 0,
                        "negative": 0.99
                      },
                      "text": "Service sucks.",
                      "offset": 0,
                      "length": 14
                    }
                  ],
                  "5": []
                },
                {
                  "0": "The shrimp tender and moist.",
                  "1": "positive",
                  "3": {
                    "positive": 0.65,
                    "neutral": 0.29,
                    "negative": 0.07
                  },
                  "4": [
                    {
                      "sentiment": "positive",
                      "confidenceScores": {
                        "positive": 0.65,
                        "neutral": 0.29,
                        "negative": 0.07
                      },
                      "text": "The shrimp tender and moist.",
                      "offset": 0,
                      "length": 28
                    }
                  ],
                  "5": []
                },
                {
                  "0": "There is not a deal good enough that would drag me into that establishment again.",
                  "1": "negative",
                  "3": {
                    "positive": 0,
                    "neutral": 0,
                    "negative": 0.99
                  },
                  "4": [
                    {
                      "sentiment": "negative",
                      "confidenceScores": {
                        "positive": 0,
                        "neutral": 0,
                        "negative": 0.99
                      },
                      "text": "There is not a deal good enough that would drag me into that establishment again.",
                      "offset": 0,
                      "length": 81
                    }
                  ],
                  "5": []
                },
                {
                  "0": "Hard to judge whether these sides were good because we were grossed out by the melted styrofoam and didn't want to eat it for fear of getting sick.",
                  "1": "negative",
                  "3": {
                    "positive": 0.01,
                    "neutral": 0,
                    "negative": 0.99
                  },
                  "4": [
                    {
                      "sentiment": "negative",
                      "confidenceScores": {
                        "positive": 0.01,
                        "neutral": 0,
                        "negative": 0.99
                      },
                      "text": "Hard to judge whether these sides were good because we were grossed out by the melted styrofoam and didn't want to eat it for fear of getting sick.",
                      "offset": 0,
                      "length": 147
                    }
                  ],
                  "5": []
                },
                {
                  "0": "On a positive note, our server was very attentive and provided great service.",
                  "1": "positive",
                  "3": {
                    "positive": 1,
                    "neutral": 0,
                    "negative": 0
                  },
                  "4": [
                    {
                      "sentiment": "positive",
                      "confidenceScores": {
                        "positive": 1,
                        "neutral": 0,
                        "negative": 0
                      },
                      "text": "On a positive note, our server was very attentive and provided great service.",
                      "offset": 0,
                      "length": 77
                    }
                  ],
                  "5": []
                },
                {
                  "0": "Frozen pucks of disgust, with some of the worst people behind the register.",
                  "1": "negative",
                  "3": {
                    "positive": 0.01,
                    "neutral": 0,
                    "negative": 0.99
                  },
                  "4": [
                    {
                      "sentiment": "negative",
                      "confidenceScores": {
                        "positive": 0.01,
                        "neutral": 0,
                        "negative": 0.99
                      },
                      "text": "Frozen pucks of disgust, with some of the worst people behind the register.",
                      "offset": 0,
                      "length": 75
                    }
                  ],
                  "5": []
                },
                {
                  "0": "The only thing I did like was the prime rib and dessert section.",
                  "1": "positive",
                  "3": {
                    "positive": 0.74,
                    "neutral": 0.03,
                    "negative": 0.22
                  },
                  "4": [
                    {
                      "sentiment": "positive",
                      "confidenceScores": {
                        "positive": 0.74,
                        "neutral": 0.03,
                        "negative": 0.22
                      },
                      "text": "The only thing I did like was the prime rib and dessert section.",
                      "offset": 0,
                      "length": 64
                    }
                  ],
                  "5": []
                },
                {
                  "0": "It's too bad the food is so damn generic.",
                  "1": "negative",
                  "3": {
                    "positive": 0,
                    "neutral": 0,
                    "negative": 0.99
                  },
                  "4": [
                    {
                      "sentiment": "negative",
                      "confidenceScores": {
                        "positive": 0,
                        "neutral": 0,
                        "negative": 0.99
                      },
                      "text": "It's too bad the food is so damn generic.",
                      "offset": 0,
                      "length": 41
                    }
                  ],
                  "5": []
                },
                {
                  "0": "The burger is good beef, cooked just right.",
                  "1": "positive",
                  "3": {
                    "positive": 1,
                    "neutral": 0,
                    "negative": 0
                  },
                  "4": [
                    {
                      "sentiment": "positive",
                      "confidenceScores": {
                        "positive": 1,
                        "neutral": 0,
                        "negative": 0
                      },
                      "text": "The burger is good beef, cooked just right.",
                      "offset": 0,
                      "length": 43
                    }
                  ],
                  "5": []
                },
                {
                  "0": "If you want a sandwich just go to any Firehouse!!!!!",
                  "1": "positive",
                  "3": {
                    "positive": 0.46,
                    "neutral": 0.46,
                    "negative": 0.08
                  },
                  "4": [
                    {
                      "sentiment": "positive",
                      "confidenceScores": {
                        "positive": 0.46,
                        "neutral": 0.46,
                        "negative": 0.08
                      },
                      "text": "If you want a sandwich just go to any Firehouse!!!!!",
                      "offset": 0,
                      "length": 52
                    }
                  ],
                  "5": []
                },
                {
                  "0": "My side Greek salad with the Greek dressing was so tasty, and the pita and hummus was very refreshing.",
                  "1": "positive",
                  "3": {
                    "positive": 0.99,
                    "neutral": 0,
                    "negative": 0
                  },
                  "4": [
                    {
                      "sentiment": "positive",
                      "confidenceScores": {
                        "positive": 0.99,
                        "neutral": 0,
                        "negative": 0
                      },
                      "text": "My side Greek salad with the Greek dressing was so tasty, and the pita and hummus was very refreshing.",
                      "offset": 0,
                      "length": 102
                    }
                  ],
                  "5": []
                },
                {
                  "0": "We ordered the duck rare and it was pink and tender on the inside with a nice char on the outside.",
                  "1": "positive",
                  "3": {
                    "positive": 0.98,
                    "neutral": 0,
                    "negative": 0.01
                  },
                  "4": [
                    {
                      "sentiment": "positive",
                      "confidenceScores": {
                        "positive": 0.98,
                        "neutral": 0,
                        "negative": 0.01
                      },
                      "text": "We ordered the duck rare and it was pink and tender on the inside with a nice char on the outside.",
                      "offset": 0,
                      "length": 98
                    }
                  ],
                  "5": []
                },
                {
                  "0": "He came running after us when he realized my husband had left his sunglasses on the table.",
                  "1": "negative",
                  "3": {
                    "positive": 0.02,
                    "neutral": 0.36,
                    "negative": 0.62
                  },
                  "4": [
                    {
                      "sentiment": "negative",
                      "confidenceScores": {
                        "positive": 0.02,
                        "neutral": 0.36,
                        "negative": 0.62
                      },
                      "text": "He came running after us when he realized my husband had left his sunglasses on the table.",
                      "offset": 0,
                      "length": 90
                    }
                  ],
                  "5": []
                },
                {
                  "0": "Their chow mein is so good!",
                  "1": "positive",
                  "3": {
                    "positive": 1,
                    "neutral": 0,
                    "negative": 0
                  },
                  "4": [
                    {
                      "sentiment": "positive",
                      "confidenceScores": {
                        "positive": 1,
                        "neutral": 0,
                        "negative": 0
                      },
                      "text": "Their chow mein is so good!",
                      "offset": 0,
                      "length": 27
                    }
                  ],
                  "5": []
                },
                {
                  "0": "They have horrible attitudes towards customers, and talk down to each one when customers don't enjoy their food.",
                  "1": "negative",
                  "3": {
                    "positive": 0,
                    "neutral": 0,
                    "negative": 0.99
                  },
                  "4": [
                    {
                      "sentiment": "negative",
                      "confidenceScores": {
                        "positive": 0,
                        "neutral": 0,
                        "negative": 0.99
                      },
                      "text": "They have horrible attitudes towards customers, and talk down to each one when customers don't enjoy their food.",
                      "offset": 0,
                      "length": 112
                    }
                  ],
                  "5": []
                },
                {
                  "0": "The portion was huge!",
                  "1": "positive",
                  "3": {
                    "positive": 0.7,
                    "neutral": 0.2,
                    "negative": 0.11
                  },
                  "4": [
                    {
                      "sentiment": "positive",
                      "confidenceScores": {
                        "positive": 0.7,
                        "neutral": 0.2,
                        "negative": 0.11
                      },
                      "text": "The portion was huge!",
                      "offset": 0,
                      "length": 21
                    }
                  ],
                  "5": []
                },
                {
                  "0": "Loved it...friendly servers, great food, wonderful and imaginative menu.",
                  "1": "positive",
                  "3": {
                    "positive": 1,
                    "neutral": 0,
                    "negative": 0
                  },
                  "4": [
                    {
                      "sentiment": "positive",
                      "confidenceScores": {
                        "positive": 1,
                        "neutral": 0,
                        "negative": 0
                      },
                      "text": "Loved it...",
                      "offset": 0,
                      "length": 11
                    },
                    {
                      "sentiment": "positive",
                      "confidenceScores": {
                        "positive": 1,
                        "neutral": 0,
                        "negative": 0
                      },
                      "text": "friendly servers, great food, wonderful and imaginative menu.",
                      "offset": 11,
                      "length": 61
                    }
                  ],
                  "5": []
                },
                {
                  "0": "The Heart Attack Grill in downtown Vegas is an absolutely flat-lined excuse for a restaurant.",
                  "1": "negative",
                  "3": {
                    "positive": 0.05,
                    "neutral": 0.22,
                    "negative": 0.74
                  },
                  "4": [
                    {
                      "sentiment": "negative",
                      "confidenceScores": {
                        "positive": 0.05,
                        "neutral": 0.22,
                        "negative": 0.74
                      },
                      "text": "The Heart Attack Grill in downtown Vegas is an absolutely flat-lined excuse for a restaurant.",
                      "offset": 0,
                      "length": 93
                    }
                  ],
                  "5": []
                },
                {
                  "0": "Not much seafood and like 5 strings of pasta at the bottom.",
                  "1": "negative",
                  "3": {
                    "positive": 0.01,
                    "neutral": 0.03,
                    "negative": 0.96
                  },
                  "4": [
                    {
                      "sentiment": "negative",
                      "confidenceScores": {
                        "positive": 0.01,
                        "neutral": 0.03,
                        "negative": 0.96
                      },
                      "text": "Not much seafood and like 5 strings of pasta at the bottom.",
                      "offset": 0,
                      "length": 59
                    }
                  ],
                  "5": []
                },
                {
                  "0": "The salad had just the right amount of sauce to not over power the scallop, which was perfectly cooked.",
                  "1": "positive",
                  "3": {
                    "positive": 0.99,
                    "neutral": 0,
                    "negative": 0.01
                  },
                  "4": [
                    {
                      "sentiment": "positive",
                      "confidenceScores": {
                        "positive": 0.99,
                        "neutral": 0,
                        "negative": 0.01
                      },
                      "text": "The salad had just the right amount of sauce to not over power the scallop, which was perfectly cooked.",
                      "offset": 0,
                      "length": 103
                    }
                  ],
                  "5": []
                },
                {
                  "0": "The ripped banana was not only ripped, but petrified and tasteless.",
                  "1": "negative",
                  "3": {
                    "positive": 0,
                    "neutral": 0,
                    "negative": 1
                  },
                  "4": [
                    {
                      "sentiment": "negative",
                      "confidenceScores": {
                        "positive": 0,
                        "neutral": 0,
                        "negative": 1
                      },
                      "text": "The ripped banana was not only ripped, but petrified and tasteless.",
                      "offset": 0,
                      "length": 67
                    }
                  ],
                  "5": []
                },
                {
                  "0": "At least think to refill my water before I struggle to wave you over for 10 minutes.",
                  "1": "negative",
                  "3": {
                    "positive": 0.02,
                    "neutral": 0.34,
                    "negative": 0.63
                  },
                  "4": [
                    {
                      "sentiment": "negative",
                      "confidenceScores": {
                        "positive": 0.02,
                        "neutral": 0.34,
                        "negative": 0.63
                      },
                      "text": "At least think to refill my water before I struggle to wave you over for 10 minutes.",
                      "offset": 0,
                      "length": 84
                    }
                  ],
                  "5": []
                },
                {
                  "0": "This place receives stars for their APPETIZERS!!!",
                  "1": "positive",
                  "3": {
                    "positive": 0.96,
                    "neutral": 0.03,
                    "negative": 0.01
                  },
                  "4": [
                    {
                      "sentiment": "positive",
                      "confidenceScores": {
                        "positive": 0.96,
                        "neutral": 0.03,
                        "negative": 0.01
                      },
                      "text": "This place receives stars for their APPETIZERS!!!",
                      "offset": 0,
                      "length": 49
                    }
                  ],
                  "5": []
                },
                {
                  "0": "The cocktails are all handmade and delicious.",
                  "1": "positive",
                  "3": {
                    "positive": 0.99,
                    "neutral": 0,
                    "negative": 0
                  },
                  "4": [
                    {
                      "sentiment": "positive",
                      "confidenceScores": {
                        "positive": 0.99,
                        "neutral": 0,
                        "negative": 0
                      },
                      "text": "The cocktails are all handmade and delicious.",
                      "offset": 0,
                      "length": 45
                    }
                  ],
                  "5": []
                },
                {
                  "0": "We'd definitely go back here again.",
                  "1": "neutral",
                  "3": {
                    "positive": 0.09,
                    "neutral": 0.88,
                    "negative": 0.04
                  },
                  "4": [
                    {
                      "sentiment": "neutral",
                      "confidenceScores": {
                        "positive": 0.09,
                        "neutral": 0.88,
                        "negative": 0.04
                      },
                      "text": "We'd definitely go back here again.",
                      "offset": 0,
                      "length": 35
                    }
                  ],
                  "5": []
                },
                {
                  "0": "We are so glad we found this place.",
                  "1": "positive",
                  "3": {
                    "positive": 0.99,
                    "neutral": 0,
                    "negative": 0
                  },
                  "4": [
                    {
                      "sentiment": "positive",
                      "confidenceScores": {
                        "positive": 0.99,
                        "neutral": 0,
                        "negative": 0
                      },
                      "text": "We are so glad we found this place.",
                      "offset": 0,
                      "length": 35
                    }
                  ],
                  "5": []
                },
                {
                  "0": "Great food and service, huge portions and they give a military discount.",
                  "1": "positive",
                  "3": {
                    "positive": 1,
                    "neutral": 0,
                    "negative": 0
                  },
                  "4": [
                    {
                      "sentiment": "positive",
                      "confidenceScores": {
                        "positive": 1,
                        "neutral": 0,
                        "negative": 0
                      },
                      "text": "Great food and service, huge portions and they give a military discount.",
                      "offset": 0,
                      "length": 72
                    }
                  ],
                  "5": []
                },
                {
                  "0": "Always a great time at Dos Gringos!",
                  "1": "positive",
                  "3": {
                    "positive": 1,
                    "neutral": 0,
                    "negative": 0
                  },
                  "4": [
                    {
                      "sentiment": "positive",
                      "confidenceScores": {
                        "positive": 1,
                        "neutral": 0,
                        "negative": 0
                      },
                      "text": "Always a great time at Dos Gringos!",
                      "offset": 0,
                      "length": 35
                    }
                  ],
                  "5": []
                },
                {
                  "0": "Update.....went back for a second time and it was still just as amazing",
                  "1": "positive",
                  "3": {
                    "positive": 0.99,
                    "neutral": 0,
                    "negative": 0
                  },
                  "4": [
                    {
                      "sentiment": "neutral",
                      "confidenceScores": {
                        "positive": 0.28,
                        "neutral": 0.62,
                        "negative": 0.1
                      },
                      "text": "Update.....",
                      "offset": 0,
                      "length": 11
                    },
                    {
                      "sentiment": "positive",
                      "confidenceScores": {
                        "positive": 0.99,
                        "neutral": 0,
                        "negative": 0
                      },
                      "text": "went back for a second time and it was still just as amazing",
                      "offset": 11,
                      "length": 60
                    }
                  ],
                  "5": []
                },
                {
                  "0": "We got the food and apparently they have never heard of salt and the batter on the fish was chewy.",
                  "1": "negative",
                  "3": {
                    "positive": 0.01,
                    "neutral": 0.04,
                    "negative": 0.95
                  },
                  "4": [
                    {
                      "sentiment": "negative",
                      "confidenceScores": {
                        "positive": 0.01,
                        "neutral": 0.04,
                        "negative": 0.95
                      },
                      "text": "We got the food and apparently they have never heard of salt and the batter on the fish was chewy.",
                      "offset": 0,
                      "length": 98
                    }
                  ],
                  "5": []
                },
                {
                  "0": "A great way to finish a great.",
                  "1": "positive",
                  "3": {
                    "positive": 1,
                    "neutral": 0,
                    "negative": 0
                  },
                  "4": [
                    {
                      "sentiment": "positive",
                      "confidenceScores": {
                        "positive": 1,
                        "neutral": 0,
                        "negative": 0
                      },
                      "text": "A great way to finish a great.",
                      "offset": 0,
                      "length": 30
                    }
                  ],
                  "5": []
                },
                {
                  "0": "The deal included 5 tastings and 2 drinks, and Jeff went above and beyond what we expected.",
                  "1": "positive",
                  "3": {
                    "positive": 0.92,
                    "neutral": 0.05,
                    "negative": 0.03
                  },
                  "4": [
                    {
                      "sentiment": "positive",
                      "confidenceScores": {
                        "positive": 0.92,
                        "neutral": 0.05,
                        "negative": 0.03
                      },
                      "text": "The deal included 5 tastings and 2 drinks, and Jeff went above and beyond what we expected.",
                      "offset": 0,
                      "length": 91
                    }
                  ],
                  "5": []
                },
                {
                  "0": "- Really, really good rice, all the time.",
                  "1": "positive",
                  "3": {
                    "positive": 1,
                    "neutral": 0,
                    "negative": 0
                  },
                  "4": [
                    {
                      "sentiment": "positive",
                      "confidenceScores": {
                        "positive": 1,
                        "neutral": 0,
                        "negative": 0
                      },
                      "text": "- Really, really good rice, all the time.",
                      "offset": 0,
                      "length": 41
                    }
                  ],
                  "5": []
                },
                {
                  "0": "The service was meh.",
                  "1": "positive",
                  "3": {
                    "positive": 0.55,
                    "neutral": 0.15,
                    "negative": 0.29
                  },
                  "4": [
                    {
                      "sentiment": "positive",
                      "confidenceScores": {
                        "positive": 0.55,
                        "neutral": 0.15,
                        "negative": 0.29
                      },
                      "text": "The service was meh.",
                      "offset": 0,
                      "length": 20
                    }
                  ],
                  "5": []
                },
                {
                  "0": "It took over 30 min to get their milkshake, which was nothing more than chocolate milk.",
                  "1": "neutral",
                  "3": {
                    "positive": 0.08,
                    "neutral": 0.63,
                    "negative": 0.29
                  },
                  "4": [
                    {
                      "sentiment": "neutral",
                      "confidenceScores": {
                        "positive": 0.08,
                        "neutral": 0.63,
                        "negative": 0.29
                      },
                      "text": "It took over 30 min to get their milkshake, which was nothing more than chocolate milk.",
                      "offset": 0,
                      "length": 87
                    }
                  ],
                  "5": []
                },
                {
                  "0": "I guess I should have known that this place would suck, because it is inside of the Excalibur, but I didn't use my common sense.",
                  "1": "negative",
                  "3": {
                    "positive": 0,
                    "neutral": 0.01,
                    "negative": 0.99
                  },
                  "4": [
                    {
                      "sentiment": "negative",
                      "confidenceScores": {
                        "positive": 0,
                        "neutral": 0.01,
                        "negative": 0.99
                      },
                      "text": "I guess I should have known that this place would suck, because it is inside of the Excalibur, but I didn't use my common sense.",
                      "offset": 0,
                      "length": 128
                    }
                  ],
                  "5": []
                },
                {
                  "0": "The scallop dish is quite appalling for value as well.",
                  "1": "negative",
                  "3": {
                    "positive": 0,
                    "neutral": 0,
                    "negative": 0.99
                  },
                  "4": [
                    {
                      "sentiment": "negative",
                      "confidenceScores": {
                        "positive": 0,
                        "neutral": 0,
                        "negative": 0.99
                      },
                      "text": "The scallop dish is quite appalling for value as well.",
                      "offset": 0,
                      "length": 54
                    }
                  ],
                  "5": []
                },
                {
                  "0": "2 times - Very Bad Customer Service !",
                  "1": "negative",
                  "3": {
                    "positive": 0,
                    "neutral": 0,
                    "negative": 0.99
                  },
                  "4": [
                    {
                      "sentiment": "negative",
                      "confidenceScores": {
                        "positive": 0,
                        "neutral": 0,
                        "negative": 0.99
                      },
                      "text": "2 times - Very Bad Customer Service !",
                      "offset": 0,
                      "length": 37
                    }
                  ],
                  "5": []
                },
                {
                  "0": "The sweet potato fries were very good and seasoned well.",
                  "1": "positive",
                  "3": {
                    "positive": 1,
                    "neutral": 0,
                    "negative": 0
                  },
                  "4": [
                    {
                      "sentiment": "positive",
                      "confidenceScores": {
                        "positive": 1,
                        "neutral": 0,
                        "negative": 0
                      },
                      "text": "The sweet potato fries were very good and seasoned well.",
                      "offset": 0,
                      "length": 56
                    }
                  ],
                  "5": []
                },
                {
                  "0": "Today is the second time I've been to their lunch buffet and it was pretty good.",
                  "1": "positive",
                  "3": {
                    "positive": 0.99,
                    "neutral": 0,
                    "negative": 0
                  },
                  "4": [
                    {
                      "sentiment": "positive",
                      "confidenceScores": {
                        "positive": 0.99,
                        "neutral": 0,
                        "negative": 0
                      },
                      "text": "Today is the second time I've been to their lunch buffet and it was pretty good.",
                      "offset": 0,
                      "length": 80
                    }
                  ],
                  "5": []
                },
                {
                  "0": "There is so much good food in Vegas that I feel cheated for wasting an eating opportunity by going to Rice and Company.",
                  "1": "negative",
                  "3": {
                    "positive": 0.01,
                    "neutral": 0,
                    "negative": 0.98
                  },
                  "4": [
                    {
                      "sentiment": "negative",
                      "confidenceScores": {
                        "positive": 0.01,
                        "neutral": 0,
                        "negative": 0.98
                      },
                      "text": "There is so much good food in Vegas that I feel cheated for wasting an eating opportunity by going to Rice and Company.",
                      "offset": 0,
                      "length": 119
                    }
                  ],
                  "5": []
                },
                {
                  "0": "Coming here is like experiencing an underwhelming relationship where both parties can't wait for the other person to ask to break up.",
                  "1": "negative",
                  "3": {
                    "positive": 0,
                    "neutral": 0,
                    "negative": 0.99
                  },
                  "4": [
                    {
                      "sentiment": "negative",
                      "confidenceScores": {
                        "positive": 0,
                        "neutral": 0,
                        "negative": 0.99
                      },
                      "text": "Coming here is like experiencing an underwhelming relationship where both parties can't wait for the other person to ask to break up.",
                      "offset": 0,
                      "length": 133
                    }
                  ],
                  "5": []
                },
                {
                  "0": "walked in and the place smelled like an old grease trap and only 2 others there eating.",
                  "1": "negative",
                  "3": {
                    "positive": 0.01,
                    "neutral": 0.01,
                    "negative": 0.98
                  },
                  "4": [
                    {
                      "sentiment": "negative",
                      "confidenceScores": {
                        "positive": 0.01,
                        "neutral": 0.01,
                        "negative": 0.98
                      },
                      "text": "walked in and the place smelled like an old grease trap and only 2 others there eating.",
                      "offset": 0,
                      "length": 87
                    }
                  ],
                  "5": []
                },
                {
                  "0": "The turkey and roast beef were bland.",
                  "1": "negative",
                  "3": {
                    "positive": 0,
                    "neutral": 0.03,
                    "negative": 0.97
                  },
                  "4": [
                    {
                      "sentiment": "negative",
                      "confidenceScores": {
                        "positive": 0,
                        "neutral": 0.03,
                        "negative": 0.97
                      },
                      "text": "The turkey and roast beef were bland.",
                      "offset": 0,
                      "length": 37
                    }
                  ],
                  "5": []
                },
                {
                  "0": "This place has it!",
                  "1": "positive",
                  "3": {
                    "positive": 0.77,
                    "neutral": 0.22,
                    "negative": 0.02
                  },
                  "4": [
                    {
                      "sentiment": "positive",
                      "confidenceScores": {
                        "positive": 0.77,
                        "neutral": 0.22,
                        "negative": 0.02
                      },
                      "text": "This place has it!",
                      "offset": 0,
                      "length": 18
                    }
                  ],
                  "5": []
                },
                {
                  "0": "The pan cakes everyone are raving about taste like a sugary disaster tailored to the palate of a six year old.",
                  "1": "negative",
                  "3": {
                    "positive": 0.01,
                    "neutral": 0.01,
                    "negative": 0.98
                  },
                  "4": [
                    {
                      "sentiment": "negative",
                      "confidenceScores": {
                        "positive": 0.01,
                        "neutral": 0.01,
                        "negative": 0.98
                      },
                      "text": "The pan cakes everyone are raving about taste like a sugary disaster tailored to the palate of a six year old.",
                      "offset": 0,
                      "length": 110
                    }
                  ],
                  "5": []
                },
                {
                  "0": "I love the Pho and the spring rolls oh so yummy you have to try.",
                  "1": "positive",
                  "3": {
                    "positive": 0.99,
                    "neutral": 0,
                    "negative": 0
                  },
                  "4": [
                    {
                      "sentiment": "positive",
                      "confidenceScores": {
                        "positive": 0.99,
                        "neutral": 0,
                        "negative": 0
                      },
                      "text": "I love the Pho and the spring rolls oh so yummy you have to try.",
                      "offset": 0,
                      "length": 64
                    }
                  ],
                  "5": []
                },
                {
                  "0": "The poor batter to meat ratio made the chicken tenders very unsatisfying.",
                  "1": "negative",
                  "3": {
                    "positive": 0,
                    "neutral": 0,
                    "negative": 0.99
                  },
                  "4": [
                    {
                      "sentiment": "negative",
                      "confidenceScores": {
                        "positive": 0,
                        "neutral": 0,
                        "negative": 0.99
                      },
                      "text": "The poor batter to meat ratio made the chicken tenders very unsatisfying.",
                      "offset": 0,
                      "length": 73
                    }
                  ],
                  "5": []
                },
                {
                  "0": "All I have to say is the food was amazing!!!",
                  "1": "positive",
                  "3": {
                    "positive": 0.99,
                    "neutral": 0,
                    "negative": 0
                  },
                  "4": [
                    {
                      "sentiment": "positive",
                      "confidenceScores": {
                        "positive": 0.99,
                        "neutral": 0,
                        "negative": 0
                      },
                      "text": "All I have to say is the food was amazing!!!",
                      "offset": 0,
                      "length": 44
                    }
                  ],
                  "5": []
                },
                {
                  "0": "Omelets are to die for!",
                  "1": "negative",
                  "3": {
                    "positive": 0.14,
                    "neutral": 0.16,
                    "negative": 0.7
                  },
                  "4": [
                    {
                      "sentiment": "negative",
                      "confidenceScores": {
                        "positive": 0.14,
                        "neutral": 0.16,
                        "negative": 0.7
                      },
                      "text": "Omelets are to die for!",
                      "offset": 0,
                      "length": 23
                    }
                  ],
                  "5": []
                },
                {
                  "0": "Everything was fresh and delicious!",
                  "1": "positive",
                  "3": {
                    "positive": 0.99,
                    "neutral": 0,
                    "negative": 0
                  },
                  "4": [
                    {
                      "sentiment": "positive",
                      "confidenceScores": {
                        "positive": 0.99,
                        "neutral": 0,
                        "negative": 0
                      },
                      "text": "Everything was fresh and delicious!",
                      "offset": 0,
                      "length": 35
                    }
                  ],
                  "5": []
                },
                {
                  "0": "In summary, this was a largely disappointing dining experience.",
                  "1": "negative",
                  "3": {
                    "positive": 0,
                    "neutral": 0,
                    "negative": 1
                  },
                  "4": [
                    {
                      "sentiment": "negative",
                      "confidenceScores": {
                        "positive": 0,
                        "neutral": 0,
                        "negative": 1
                      },
                      "text": "In summary, this was a largely disappointing dining experience.",
                      "offset": 0,
                      "length": 63
                    }
                  ],
                  "5": []
                },
                {
                  "0": "It's like a really sexy party in your mouth, where you're outrageously flirting with the hottest person at the party.",
                  "1": "positive",
                  "3": {
                    "positive": 0.75,
                    "neutral": 0.04,
                    "negative": 0.2
                  },
                  "4": [
                    {
                      "sentiment": "positive",
                      "confidenceScores": {
                        "positive": 0.75,
                        "neutral": 0.04,
                        "negative": 0.2
                      },
                      "text": "It's like a really sexy party in your mouth, where you're outrageously flirting with the hottest person at the party.",
                      "offset": 0,
                      "length": 117
                    }
                  ],
                  "5": []
                },
                {
                  "0": "Never been to Hard Rock Casino before, WILL NEVER EVER STEP FORWARD IN IT AGAIN!",
                  "1": "negative",
                  "3": {
                    "positive": 0.27,
                    "neutral": 0.14,
                    "negative": 0.6
                  },
                  "4": [
                    {
                      "sentiment": "negative",
                      "confidenceScores": {
                        "positive": 0.27,
                        "neutral": 0.14,
                        "negative": 0.6
                      },
                      "text": "Never been to Hard Rock Casino before, WILL NEVER EVER STEP FORWARD IN IT AGAIN!",
                      "offset": 0,
                      "length": 80
                    }
                  ],
                  "5": []
                },
                {
                  "0": "Best breakfast buffet!!!",
                  "1": "positive",
                  "3": {
                    "positive": 1,
                    "neutral": 0,
                    "negative": 0
                  },
                  "4": [
                    {
                      "sentiment": "positive",
                      "confidenceScores": {
                        "positive": 1,
                        "neutral": 0,
                        "negative": 0
                      },
                      "text": "Best breakfast buffet!!!",
                      "offset": 0,
                      "length": 24
                    }
                  ],
                  "5": []
                },
                {
                  "0": "say bye bye to your tip lady!",
                  "1": "positive",
                  "3": {
                    "positive": 0.41,
                    "neutral": 0.34,
                    "negative": 0.25
                  },
                  "4": [
                    {
                      "sentiment": "positive",
                      "confidenceScores": {
                        "positive": 0.41,
                        "neutral": 0.34,
                        "negative": 0.25
                      },
                      "text": "say bye bye to your tip lady!",
                      "offset": 0,
                      "length": 29
                    }
                  ],
                  "5": []
                },
                {
                  "0": "We'll never go again.",
                  "1": "negative",
                  "3": {
                    "positive": 0.02,
                    "neutral": 0.33,
                    "negative": 0.65
                  },
                  "4": [
                    {
                      "sentiment": "negative",
                      "confidenceScores": {
                        "positive": 0.02,
                        "neutral": 0.33,
                        "negative": 0.65
                      },
                      "text": "We'll never go again.",
                      "offset": 0,
                      "length": 21
                    }
                  ],
                  "5": []
                },
                {
                  "0": "Will be back again!",
                  "1": "positive",
                  "3": {
                    "positive": 0.52,
                    "neutral": 0.43,
                    "negative": 0.05
                  },
                  "4": [
                    {
                      "sentiment": "positive",
                      "confidenceScores": {
                        "positive": 0.52,
                        "neutral": 0.43,
                        "negative": 0.05
                      },
                      "text": "Will be back again!",
                      "offset": 0,
                      "length": 19
                    }
                  ],
                  "5": []
                },
                {
                  "0": "Food arrived quickly!",
                  "1": "positive",
                  "3": {
                    "positive": 0.98,
                    "neutral": 0.01,
                    "negative": 0.01
                  },
                  "4": [
                    {
                      "sentiment": "positive",
                      "confidenceScores": {
                        "positive": 0.98,
                        "neutral": 0.01,
                        "negative": 0.01
                      },
                      "text": "Food arrived quickly!",
                      "offset": 0,
                      "length": 21
                    }
                  ],
                  "5": []
                },
                {
                  "0": "It was not good.",
                  "1": "negative",
                  "3": {
                    "positive": 0,
                    "neutral": 0,
                    "negative": 0.99
                  },
                  "4": [
                    {
                      "sentiment": "negative",
                      "confidenceScores": {
                        "positive": 0,
                        "neutral": 0,
                        "negative": 0.99
                      },
                      "text": "It was not good.",
                      "offset": 0,
                      "length": 16
                    }
                  ],
                  "5": []
                },
                {
                  "0": "On the up side, their cafe serves really good food.",
                  "1": "positive",
                  "3": {
                    "positive": 0.99,
                    "neutral": 0,
                    "negative": 0
                  },
                  "4": [
                    {
                      "sentiment": "positive",
                      "confidenceScores": {
                        "positive": 0.99,
                        "neutral": 0,
                        "negative": 0
                      },
                      "text": "On the up side, their cafe serves really good food.",
                      "offset": 0,
                      "length": 51
                    }
                  ],
                  "5": []
                },
                {
                  "0": "Our server was fantastic and when he found out the wife loves roasted garlic and bone marrow, he added extra to our meal and another marrow to go!",
                  "1": "positive",
                  "3": {
                    "positive": 1,
                    "neutral": 0,
                    "negative": 0
                  },
                  "4": [
                    {
                      "sentiment": "positive",
                      "confidenceScores": {
                        "positive": 1,
                        "neutral": 0,
                        "negative": 0
                      },
                      "text": "Our server was fantastic and when he found out the wife loves roasted garlic and bone marrow, he added extra to our meal and another marrow to go!",
                      "offset": 0,
                      "length": 146
                    }
                  ],
                  "5": []
                },
                {
                  "0": "The only good thing was our waiter, he was very helpful and kept the bloddy mary's coming.",
                  "1": "positive",
                  "3": {
                    "positive": 0.97,
                    "neutral": 0,
                    "negative": 0.02
                  },
                  "4": [
                    {
                      "sentiment": "positive",
                      "confidenceScores": {
                        "positive": 0.97,
                        "neutral": 0,
                        "negative": 0.02
                      },
                      "text": "The only good thing was our waiter, he was very helpful and kept the bloddy mary's coming.",
                      "offset": 0,
                      "length": 90
                    }
                  ],
                  "5": []
                },
                {
                  "0": "Best Buffet in town, for the price you cannot beat it.",
                  "1": "positive",
                  "3": {
                    "positive": 1,
                    "neutral": 0,
                    "negative": 0
                  },
                  "4": [
                    {
                      "sentiment": "positive",
                      "confidenceScores": {
                        "positive": 1,
                        "neutral": 0,
                        "negative": 0
                      },
                      "text": "Best Buffet in town, for the price you cannot beat it.",
                      "offset": 0,
                      "length": 54
                    }
                  ],
                  "5": []
                },
                {
                  "0": "I LOVED their mussels cooked in this wine reduction, the duck was tender, and their potato dishes were delicious.",
                  "1": "positive",
                  "3": {
                    "positive": 0.99,
                    "neutral": 0,
                    "negative": 0.01
                  },
                  "4": [
                    {
                      "sentiment": "positive",
                      "confidenceScores": {
                        "positive": 0.99,
                        "neutral": 0,
                        "negative": 0.01
                      },
                      "text": "I LOVED their mussels cooked in this wine reduction, the duck was tender, and their potato dishes were delicious.",
                      "offset": 0,
                      "length": 113
                    }
                  ],
                  "5": []
                },
                {
                  "0": "This is one of the better buffets that I have been to.",
                  "1": "positive",
                  "3": {
                    "positive": 0.99,
                    "neutral": 0,
                    "negative": 0
                  },
                  "4": [
                    {
                      "sentiment": "positive",
                      "confidenceScores": {
                        "positive": 0.99,
                        "neutral": 0,
                        "negative": 0
                      },
                      "text": "This is one of the better buffets that I have been to.",
                      "offset": 0,
                      "length": 54
                    }
                  ],
                  "5": []
                },
                {
                  "0": "So we went to Tigerlilly and had a fantastic afternoon!",
                  "1": "positive",
                  "3": {
                    "positive": 1,
                    "neutral": 0,
                    "negative": 0
                  },
                  "4": [
                    {
                      "sentiment": "positive",
                      "confidenceScores": {
                        "positive": 1,
                        "neutral": 0,
                        "negative": 0
                      },
                      "text": "So we went to Tigerlilly and had a fantastic afternoon!",
                      "offset": 0,
                      "length": 55
                    }
                  ],
                  "5": []
                },
                {
                  "0": "The food was delicious, our bartender was attentive and personable AND we got a great deal!",
                  "1": "positive",
                  "3": {
                    "positive": 1,
                    "neutral": 0,
                    "negative": 0
                  },
                  "4": [
                    {
                      "sentiment": "positive",
                      "confidenceScores": {
                        "positive": 1,
                        "neutral": 0,
                        "negative": 0
                      },
                      "text": "The food was delicious, our bartender was attentive and personable AND we got a great deal!",
                      "offset": 0,
                      "length": 91
                    }
                  ],
                  "5": []
                },
                {
                  "0": "The ambience is wonderful and there is music playing.",
                  "1": "positive",
                  "3": {
                    "positive": 1,
                    "neutral": 0,
                    "negative": 0
                  },
                  "4": [
                    {
                      "sentiment": "positive",
                      "confidenceScores": {
                        "positive": 1,
                        "neutral": 0,
                        "negative": 0
                      },
                      "text": "The ambience is wonderful and there is music playing.",
                      "offset": 0,
                      "length": 53
                    }
                  ],
                  "5": []
                },
                {
                  "0": "Will go back next trip out.",
                  "1": "neutral",
                  "3": {
                    "positive": 0.23,
                    "neutral": 0.73,
                    "negative": 0.04
                  },
                  "4": [
                    {
                      "sentiment": "neutral",
                      "confidenceScores": {
                        "positive": 0.23,
                        "neutral": 0.73,
                        "negative": 0.04
                      },
                      "text": "Will go back next trip out.",
                      "offset": 0,
                      "length": 27
                    }
                  ],
                  "5": []
                },
                {
                  "0": "Sooooo good!!",
                  "1": "positive",
                  "3": {
                    "positive": 0.99,
                    "neutral": 0,
                    "negative": 0
                  },
                  "4": [
                    {
                      "sentiment": "positive",
                      "confidenceScores": {
                        "positive": 0.99,
                        "neutral": 0,
                        "negative": 0
                      },
                      "text": "Sooooo good!!",
                      "offset": 0,
                      "length": 13
                    }
                  ],
                  "5": []
                },
                {
                  "0": "REAL sushi lovers, let's be honest - Yama is not that good.",
                  "1": "negative",
                  "3": {
                    "positive": 0.01,
                    "neutral": 0,
                    "negative": 0.99
                  },
                  "4": [
                    {
                      "sentiment": "negative",
                      "confidenceScores": {
                        "positive": 0.01,
                        "neutral": 0,
                        "negative": 0.99
                      },
                      "text": "REAL sushi lovers, let's be honest - Yama is not that good.",
                      "offset": 0,
                      "length": 59
                    }
                  ],
                  "5": []
                },
                {
                  "0": "At least 40min passed in between us ordering and the food arriving, and it wasn't that busy.",
                  "1": "negative",
                  "3": {
                    "positive": 0.14,
                    "neutral": 0.09,
                    "negative": 0.77
                  },
                  "4": [
                    {
                      "sentiment": "negative",
                      "confidenceScores": {
                        "positive": 0.14,
                        "neutral": 0.09,
                        "negative": 0.77
                      },
                      "text": "At least 40min passed in between us ordering and the food arriving, and it wasn't that busy.",
                      "offset": 0,
                      "length": 92
                    }
                  ],
                  "5": []
                },
                {
                  "0": "This is a really fantastic Thai restaurant which is definitely worth a visit.",
                  "1": "positive",
                  "3": {
                    "positive": 1,
                    "neutral": 0,
                    "negative": 0
                  },
                  "4": [
                    {
                      "sentiment": "positive",
                      "confidenceScores": {
                        "positive": 1,
                        "neutral": 0,
                        "negative": 0
                      },
                      "text": "This is a really fantastic Thai restaurant which is definitely worth a visit.",
                      "offset": 0,
                      "length": 77
                    }
                  ],
                  "5": []
                },
                {
                  "0": "Nice, spicy and tender.",
                  "1": "positive",
                  "3": {
                    "positive": 1,
                    "neutral": 0,
                    "negative": 0
                  },
                  "4": [
                    {
                      "sentiment": "positive",
                      "confidenceScores": {
                        "positive": 1,
                        "neutral": 0,
                        "negative": 0
                      },
                      "text": "Nice, spicy and tender.",
                      "offset": 0,
                      "length": 23
                    }
                  ],
                  "5": []
                },
                {
                  "0": "Good prices.",
                  "1": "positive",
                  "3": {
                    "positive": 1,
                    "neutral": 0,
                    "negative": 0
                  },
                  "4": [
                    {
                      "sentiment": "positive",
                      "confidenceScores": {
                        "positive": 1,
                        "neutral": 0,
                        "negative": 0
                      },
                      "text": "Good prices.",
                      "offset": 0,
                      "length": 12
                    }
                  ],
                  "5": []
                },
                {
                  "0": "Check it out.",
                  "1": "neutral",
                  "3": {
                    "positive": 0.09,
                    "neutral": 0.88,
                    "negative": 0.03
                  },
                  "4": [
                    {
                      "sentiment": "neutral",
                      "confidenceScores": {
                        "positive": 0.09,
                        "neutral": 0.88,
                        "negative": 0.03
                      },
                      "text": "Check it out.",
                      "offset": 0,
                      "length": 13
                    }
                  ],
                  "5": []
                },
                {
                  "0": "It was pretty gross!",
                  "1": "negative",
                  "3": {
                    "positive": 0,
                    "neutral": 0,
                    "negative": 0.99
                  },
                  "4": [
                    {
                      "sentiment": "negative",
                      "confidenceScores": {
                        "positive": 0,
                        "neutral": 0,
                        "negative": 0.99
                      },
                      "text": "It was pretty gross!",
                      "offset": 0,
                      "length": 20
                    }
                  ],
                  "5": []
                },
                {
                  "0": "I've had better atmosphere.",
                  "1": "positive",
                  "3": {
                    "positive": 0.94,
                    "neutral": 0.04,
                    "negative": 0.02
                  },
                  "4": [
                    {
                      "sentiment": "positive",
                      "confidenceScores": {
                        "positive": 0.94,
                        "neutral": 0.04,
                        "negative": 0.02
                      },
                      "text": "I've had better atmosphere.",
                      "offset": 0,
                      "length": 27
                    }
                  ],
                  "5": []
                },
                {
                  "0": "Kind of hard to mess up a steak but they did.",
                  "1": "negative",
                  "3": {
                    "positive": 0.02,
                    "neutral": 0.03,
                    "negative": 0.96
                  },
                  "4": [
                    {
                      "sentiment": "negative",
                      "confidenceScores": {
                        "positive": 0.02,
                        "neutral": 0.03,
                        "negative": 0.96
                      },
                      "text": "Kind of hard to mess up a steak but they did.",
                      "offset": 0,
                      "length": 45
                    }
                  ],
                  "5": []
                },
                {
                  "0": "Although I very much liked the look and sound of this place, the actual experience was a bit disappointing.",
                  "1": "negative",
                  "3": {
                    "positive": 0.01,
                    "neutral": 0,
                    "negative": 0.99
                  },
                  "4": [
                    {
                      "sentiment": "negative",
                      "confidenceScores": {
                        "positive": 0.01,
                        "neutral": 0,
                        "negative": 0.99
                      },
                      "text": "Although I very much liked the look and sound of this place, the actual experience was a bit disappointing.",
                      "offset": 0,
                      "length": 107
                    }
                  ],
                  "5": []
                },
                {
                  "0": "I just don't know how this place managed to served the blandest food I have ever eaten when they are preparing Indian cuisine.",
                  "1": "negative",
                  "3": {
                    "positive": 0.06,
                    "neutral": 0.02,
                    "negative": 0.92
                  },
                  "4": [
                    {
                      "sentiment": "negative",
                      "confidenceScores": {
                        "positive": 0.06,
                        "neutral": 0.02,
                        "negative": 0.92
                      },
                      "text": "I just don't know how this place managed to served the blandest food I have ever eaten when they are preparing Indian cuisine.",
                      "offset": 0,
                      "length": 126
                    }
                  ],
                  "5": []
                },
                {
                  "0": "Worst service to boot, but that is the least of their worries.",
                  "1": "negative",
                  "3": {
                    "positive": 0.01,
                    "neutral": 0,
                    "negative": 0.99
                  },
                  "4": [
                    {
                      "sentiment": "negative",
                      "confidenceScores": {
                        "positive": 0.01,
                        "neutral": 0,
                        "negative": 0.99
                      },
                      "text": "Worst service to boot, but that is the least of their worries.",
                      "offset": 0,
                      "length": 62
                    }
                  ],
                  "5": []
                },
                {
                  "0": "Service was fine and the waitress was friendly.",
                  "1": "positive",
                  "3": {
                    "positive": 1,
                    "neutral": 0,
                    "negative": 0
                  },
                  "4": [
                    {
                      "sentiment": "positive",
                      "confidenceScores": {
                        "positive": 1,
                        "neutral": 0,
                        "negative": 0
                      },
                      "text": "Service was fine and the waitress was friendly.",
                      "offset": 0,
                      "length": 47
                    }
                  ],
                  "5": []
                },
                {
                  "0": "The guys all had steaks, and our steak loving son who has had steak at the best and worst places said it was the best steak he's ever eaten.",
                  "1": "positive",
                  "3": {
                    "positive": 0.98,
                    "neutral": 0,
                    "negative": 0.02
                  },
                  "4": [
                    {
                      "sentiment": "positive",
                      "confidenceScores": {
                        "positive": 0.98,
                        "neutral": 0,
                        "negative": 0.02
                      },
                      "text": "The guys all had steaks, and our steak loving son who has had steak at the best and worst places said it was the best steak he's ever eaten.",
                      "offset": 0,
                      "length": 140
                    }
                  ],
                  "5": []
                },
                {
                  "0": "We thought you'd have to venture further away to get good sushi, but this place really hit the spot that night.",
                  "1": "positive",
                  "3": {
                    "positive": 0.97,
                    "neutral": 0,
                    "negative": 0.03
                  },
                  "4": [
                    {
                      "sentiment": "positive",
                      "confidenceScores": {
                        "positive": 0.97,
                        "neutral": 0,
                        "negative": 0.03
                      },
                      "text": "We thought you'd have to venture further away to get good sushi, but this place really hit the spot that night.",
                      "offset": 0,
                      "length": 111
                    }
                  ],
                  "5": []
                },
                {
                  "0": "Host staff were, for lack of a better word, BITCHES!",
                  "1": "negative",
                  "3": {
                    "positive": 0.02,
                    "neutral": 0.01,
                    "negative": 0.97
                  },
                  "4": [
                    {
                      "sentiment": "negative",
                      "confidenceScores": {
                        "positive": 0.02,
                        "neutral": 0.01,
                        "negative": 0.97
                      },
                      "text": "Host staff were, for lack of a better word, BITCHES!",
                      "offset": 0,
                      "length": 52
                    }
                  ],
                  "5": []
                },
                {
                  "0": "Bland... Not a liking this place for a number of reasons and I don't want to waste time on bad reviewing.. I'll leave it at that...",
                  "1": "negative",
                  "3": {
                    "positive": 0.06,
                    "neutral": 0.07,
                    "negative": 0.86
                  },
                  "4": [
                    {
                      "sentiment": "negative",
                      "confidenceScores": {
                        "positive": 0.11,
                        "neutral": 0.15,
                        "negative": 0.75
                      },
                      "text": "Bland... ",
                      "offset": 0,
                      "length": 9
                    },
                    {
                      "sentiment": "negative",
                      "confidenceScores": {
                        "positive": 0.02,
                        "neutral": 0,
                        "negative": 0.98
                      },
                      "text": "Not a liking this place for a number of reasons and I don't want to waste time on bad reviewing.. ",
                      "offset": 9,
                      "length": 98
                    },
                    {
                      "sentiment": "neutral",
                      "confidenceScores": {
                        "positive": 0.01,
                        "neutral": 0.97,
                        "negative": 0.01
                      },
                      "text": "I'll leave it at that...",
                      "offset": 107,
                      "length": 24
                    }
                  ],
                  "5": []
                },
                {
                  "0": "Phenomenal food, service and ambiance.",
                  "1": "positive",
                  "3": {
                    "positive": 1,
                    "neutral": 0,
                    "negative": 0
                  },
                  "4": [
                    {
                      "sentiment": "positive",
                      "confidenceScores": {
                        "positive": 1,
                        "neutral": 0,
                        "negative": 0
                      },
                      "text": "Phenomenal food, service and ambiance.",
                      "offset": 0,
                      "length": 38
                    }
                  ],
                  "5": []
                },
                {
                  "0": "I wouldn't return.",
                  "1": "negative",
                  "3": {
                    "positive": 0.01,
                    "neutral": 0.39,
                    "negative": 0.59
                  },
                  "4": [
                    {
                      "sentiment": "negative",
                      "confidenceScores": {
                        "positive": 0.01,
                        "neutral": 0.39,
                        "negative": 0.59
                      },
                      "text": "I wouldn't return.",
                      "offset": 0,
                      "length": 18
                    }
                  ],
                  "5": []
                },
                {
                  "0": "Definitely worth venturing off the strip for the pork belly, will return next time I'm in Vegas.",
                  "1": "positive",
                  "3": {
                    "positive": 0.94,
                    "neutral": 0.03,
                    "negative": 0.03
                  },
                  "4": [
                    {
                      "sentiment": "positive",
                      "confidenceScores": {
                        "positive": 0.94,
                        "neutral": 0.03,
                        "negative": 0.03
                      },
                      "text": "Definitely worth venturing off the strip for the pork belly, will return next time I'm in Vegas.",
                      "offset": 0,
                      "length": 96
                    }
                  ],
                  "5": []
                },
                {
                  "0": "This place is way too overpriced for mediocre food.",
                  "1": "negative",
                  "3": {
                    "positive": 0.01,
                    "neutral": 0,
                    "negative": 0.99
                  },
                  "4": [
                    {
                      "sentiment": "negative",
                      "confidenceScores": {
                        "positive": 0.01,
                        "neutral": 0,
                        "negative": 0.99
                      },
                      "text": "This place is way too overpriced for mediocre food.",
                      "offset": 0,
                      "length": 51
                    }
                  ],
                  "5": []
                },
                {
                  "0": "Penne vodka excellent!",
                  "1": "positive",
                  "3": {
                    "positive": 1,
                    "neutral": 0,
                    "negative": 0
                  },
                  "4": [
                    {
                      "sentiment": "positive",
                      "confidenceScores": {
                        "positive": 1,
                        "neutral": 0,
                        "negative": 0
                      },
                      "text": "Penne vodka excellent!",
                      "offset": 0,
                      "length": 22
                    }
                  ],
                  "5": []
                },
                {
                  "0": "They have a good selection of food including a massive meatloaf sandwich, a crispy chicken wrap, a delish tuna melt and some tasty burgers.",
                  "1": "positive",
                  "3": {
                    "positive": 0.99,
                    "neutral": 0,
                    "negative": 0
                  },
                  "4": [
                    {
                      "sentiment": "positive",
                      "confidenceScores": {
                        "positive": 0.99,
                        "neutral": 0,
                        "negative": 0
                      },
                      "text": "They have a good selection of food including a massive meatloaf sandwich, a crispy chicken wrap, a delish tuna melt and some tasty burgers.",
                      "offset": 0,
                      "length": 139
                    }
                  ],
                  "5": []
                },
                {
                  "0": "The management is rude.",
                  "1": "negative",
                  "3": {
                    "positive": 0,
                    "neutral": 0,
                    "negative": 0.99
                  },
                  "4": [
                    {
                      "sentiment": "negative",
                      "confidenceScores": {
                        "positive": 0,
                        "neutral": 0,
                        "negative": 0.99
                      },
                      "text": "The management is rude.",
                      "offset": 0,
                      "length": 23
                    }
                  ],
                  "5": []
                },
                {
                  "0": "Delicious NYC bagels, good selections of cream cheese, real Lox with capers even.",
                  "1": "positive",
                  "3": {
                    "positive": 1,
                    "neutral": 0,
                    "negative": 0
                  },
                  "4": [
                    {
                      "sentiment": "positive",
                      "confidenceScores": {
                        "positive": 1,
                        "neutral": 0,
                        "negative": 0
                      },
                      "text": "Delicious NYC bagels, good selections of cream cheese, real Lox with capers even.",
                      "offset": 0,
                      "length": 81
                    }
                  ],
                  "5": []
                },
                {
                  "0": "Great Subway, in fact it's so good when you come here every other Subway will not meet your expectations.",
                  "1": "positive",
                  "3": {
                    "positive": 0.99,
                    "neutral": 0,
                    "negative": 0.01
                  },
                  "4": [
                    {
                      "sentiment": "positive",
                      "confidenceScores": {
                        "positive": 0.99,
                        "neutral": 0,
                        "negative": 0.01
                      },
                      "text": "Great Subway, in fact it's so good when you come here every other Subway will not meet your expectations.",
                      "offset": 0,
                      "length": 105
                    }
                  ],
                  "5": []
                },
                {
                  "0": "I had a seriously solid breakfast here.",
                  "1": "positive",
                  "3": {
                    "positive": 0.99,
                    "neutral": 0,
                    "negative": 0.01
                  },
                  "4": [
                    {
                      "sentiment": "positive",
                      "confidenceScores": {
                        "positive": 0.99,
                        "neutral": 0,
                        "negative": 0.01
                      },
                      "text": "I had a seriously solid breakfast here.",
                      "offset": 0,
                      "length": 39
                    }
                  ],
                  "5": []
                },
                {
                  "0": "This is one of the best bars with food in Vegas.",
                  "1": "positive",
                  "3": {
                    "positive": 0.99,
                    "neutral": 0,
                    "negative": 0
                  },
                  "4": [
                    {
                      "sentiment": "positive",
                      "confidenceScores": {
                        "positive": 0.99,
                        "neutral": 0,
                        "negative": 0
                      },
                      "text": "This is one of the best bars with food in Vegas.",
                      "offset": 0,
                      "length": 48
                    }
                  ],
                  "5": []
                },
                {
                  "0": "He was extremely rude and really, there are so many other restaurants I would love to dine at during a weekend in Vegas.",
                  "1": "negative",
                  "3": {
                    "positive": 0.06,
                    "neutral": 0,
                    "negative": 0.94
                  },
                  "4": [
                    {
                      "sentiment": "negative",
                      "confidenceScores": {
                        "positive": 0.06,
                        "neutral": 0,
                        "negative": 0.94
                      },
                      "text": "He was extremely rude and really, there are so many other restaurants I would love to dine at during a weekend in Vegas.",
                      "offset": 0,
                      "length": 120
                    }
                  ],
                  "5": []
                },
                {
                  "0": "My drink was never empty and he made some really great menu suggestions.",
                  "1": "positive",
                  "3": {
                    "positive": 1,
                    "neutral": 0,
                    "negative": 0
                  },
                  "4": [
                    {
                      "sentiment": "positive",
                      "confidenceScores": {
                        "positive": 1,
                        "neutral": 0,
                        "negative": 0
                      },
                      "text": "My drink was never empty and he made some really great menu suggestions.",
                      "offset": 0,
                      "length": 72
                    }
                  ],
                  "5": []
                },
                {
                  "0": "Don't do it!!!!",
                  "1": "negative",
                  "3": {
                    "positive": 0.01,
                    "neutral": 0.17,
                    "negative": 0.82
                  },
                  "4": [
                    {
                      "sentiment": "negative",
                      "confidenceScores": {
                        "positive": 0.01,
                        "neutral": 0.17,
                        "negative": 0.82
                      },
                      "text": "Don't do it!!!!",
                      "offset": 0,
                      "length": 15
                    }
                  ],
                  "5": []
                },
                {
                  "0": "The waiter wasn't helpful or friendly and rarely checked on us.",
                  "1": "negative",
                  "3": {
                    "positive": 0,
                    "neutral": 0,
                    "negative": 0.99
                  },
                  "4": [
                    {
                      "sentiment": "negative",
                      "confidenceScores": {
                        "positive": 0,
                        "neutral": 0,
                        "negative": 0.99
                      },
                      "text": "The waiter wasn't helpful or friendly and rarely checked on us.",
                      "offset": 0,
                      "length": 63
                    }
                  ],
                  "5": []
                },
                {
                  "0": "My husband and I ate lunch here and were very disappointed with the food and service.",
                  "1": "negative",
                  "3": {
                    "positive": 0.01,
                    "neutral": 0,
                    "negative": 0.99
                  },
                  "4": [
                    {
                      "sentiment": "negative",
                      "confidenceScores": {
                        "positive": 0.01,
                        "neutral": 0,
                        "negative": 0.99
                      },
                      "text": "My husband and I ate lunch here and were very disappointed with the food and service.",
                      "offset": 0,
                      "length": 85
                    }
                  ],
                  "5": []
                },
                {
                  "0": "And the red curry had so much bamboo shoots and wasn't very tasty to me.",
                  "1": "negative",
                  "3": {
                    "positive": 0,
                    "neutral": 0,
                    "negative": 0.99
                  },
                  "4": [
                    {
                      "sentiment": "negative",
                      "confidenceScores": {
                        "positive": 0,
                        "neutral": 0,
                        "negative": 0.99
                      },
                      "text": "And the red curry had so much bamboo shoots and wasn't very tasty to me.",
                      "offset": 0,
                      "length": 72
                    }
                  ],
                  "5": []
                },
                {
                  "0": "Nice blanket of moz over top but i feel like this was done to cover up the subpar food.",
                  "1": "negative",
                  "3": {
                    "positive": 0.03,
                    "neutral": 0,
                    "negative": 0.96
                  },
                  "4": [
                    {
                      "sentiment": "negative",
                      "confidenceScores": {
                        "positive": 0.03,
                        "neutral": 0,
                        "negative": 0.96
                      },
                      "text": "Nice blanket of moz over top but i feel like this was done to cover up the subpar food.",
                      "offset": 0,
                      "length": 87
                    }
                  ],
                  "5": []
                },
                {
                  "0": "The bathrooms are clean and the place itself is well decorated.",
                  "1": "positive",
                  "3": {
                    "positive": 0.99,
                    "neutral": 0,
                    "negative": 0
                  },
                  "4": [
                    {
                      "sentiment": "positive",
                      "confidenceScores": {
                        "positive": 0.99,
                        "neutral": 0,
                        "negative": 0
                      },
                      "text": "The bathrooms are clean and the place itself is well decorated.",
                      "offset": 0,
                      "length": 63
                    }
                  ],
                  "5": []
                },
                {
                  "0": "The menu is always changing, food quality is going down & service is extremely slow.",
                  "1": "negative",
                  "3": {
                    "positive": 0,
                    "neutral": 0.01,
                    "negative": 0.99
                  },
                  "4": [
                    {
                      "sentiment": "negative",
                      "confidenceScores": {
                        "positive": 0,
                        "neutral": 0.01,
                        "negative": 0.99
                      },
                      "text": "The menu is always changing, food quality is going down & service is extremely slow.",
                      "offset": 0,
                      "length": 84
                    }
                  ],
                  "5": []
                },
                {
                  "0": "The service was a little slow , considering that were served by 3 people servers so the food was coming in a slow pace.",
                  "1": "negative",
                  "3": {
                    "positive": 0.01,
                    "neutral": 0.01,
                    "negative": 0.99
                  },
                  "4": [
                    {
                      "sentiment": "negative",
                      "confidenceScores": {
                        "positive": 0.01,
                        "neutral": 0.01,
                        "negative": 0.99
                      },
                      "text": "The service was a little slow , considering that were served by 3 people servers so the food was coming in a slow pace.",
                      "offset": 0,
                      "length": 119
                    }
                  ],
                  "5": []
                },
                {
                  "0": "I give it 2 thumbs down",
                  "1": "neutral",
                  "3": {
                    "positive": 0.01,
                    "neutral": 0.98,
                    "negative": 0.01
                  },
                  "4": [
                    {
                      "sentiment": "neutral",
                      "confidenceScores": {
                        "positive": 0.01,
                        "neutral": 0.98,
                        "negative": 0.01
                      },
                      "text": "I give it 2 thumbs down",
                      "offset": 0,
                      "length": 23
                    }
                  ],
                  "5": []
                },
                {
                  "0": "We watched our waiter pay a lot more attention to other tables and ignore us.",
                  "1": "negative",
                  "3": {
                    "positive": 0.01,
                    "neutral": 0.06,
                    "negative": 0.93
                  },
                  "4": [
                    {
                      "sentiment": "negative",
                      "confidenceScores": {
                        "positive": 0.01,
                        "neutral": 0.06,
                        "negative": 0.93
                      },
                      "text": "We watched our waiter pay a lot more attention to other tables and ignore us.",
                      "offset": 0,
                      "length": 77
                    }
                  ],
                  "5": []
                },
                {
                  "0": "My fiancé and I came in the middle of the day and we were greeted and seated right away.",
                  "1": "positive",
                  "3": {
                    "positive": 0.59,
                    "neutral": 0.35,
                    "negative": 0.05
                  },
                  "4": [
                    {
                      "sentiment": "positive",
                      "confidenceScores": {
                        "positive": 0.59,
                        "neutral": 0.35,
                        "negative": 0.05
                      },
                      "text": "My fiancé and I came in the middle of the day and we were greeted and seated right away.",
                      "offset": 0,
                      "length": 88
                    }
                  ],
                  "5": []
                },
                {
                  "0": "This is a great restaurant at the Mandalay Bay.",
                  "1": "positive",
                  "3": {
                    "positive": 1,
                    "neutral": 0,
                    "negative": 0
                  },
                  "4": [
                    {
                      "sentiment": "positive",
                      "confidenceScores": {
                        "positive": 1,
                        "neutral": 0,
                        "negative": 0
                      },
                      "text": "This is a great restaurant at the Mandalay Bay.",
                      "offset": 0,
                      "length": 47
                    }
                  ],
                  "5": []
                },
                {
                  "0": "We waited for forty five minutes in vain.",
                  "1": "negative",
                  "3": {
                    "positive": 0.01,
                    "neutral": 0.06,
                    "negative": 0.94
                  },
                  "4": [
                    {
                      "sentiment": "negative",
                      "confidenceScores": {
                        "positive": 0.01,
                        "neutral": 0.06,
                        "negative": 0.94
                      },
                      "text": "We waited for forty five minutes in vain.",
                      "offset": 0,
                      "length": 41
                    }
                  ],
                  "5": []
                },
                {
                  "0": "Crostini that came with the salad was stale.",
                  "1": "negative",
                  "3": {
                    "positive": 0,
                    "neutral": 0,
                    "negative": 0.99
                  },
                  "4": [
                    {
                      "sentiment": "negative",
                      "confidenceScores": {
                        "positive": 0,
                        "neutral": 0,
                        "negative": 0.99
                      },
                      "text": "Crostini that came with the salad was stale.",
                      "offset": 0,
                      "length": 44
                    }
                  ],
                  "5": []
                },
                {
                  "0": "Some highlights : Great quality nigiri here!",
                  "1": "positive",
                  "3": {
                    "positive": 1,
                    "neutral": 0,
                    "negative": 0
                  },
                  "4": [
                    {
                      "sentiment": "positive",
                      "confidenceScores": {
                        "positive": 1,
                        "neutral": 0,
                        "negative": 0
                      },
                      "text": "Some highlights : Great quality nigiri here!",
                      "offset": 0,
                      "length": 44
                    }
                  ],
                  "5": []
                },
                {
                  "0": "the staff is friendly and the joint is always clean.",
                  "1": "positive",
                  "3": {
                    "positive": 0.99,
                    "neutral": 0.01,
                    "negative": 0
                  },
                  "4": [
                    {
                      "sentiment": "positive",
                      "confidenceScores": {
                        "positive": 0.99,
                        "neutral": 0.01,
                        "negative": 0
                      },
                      "text": "the staff is friendly and the joint is always clean.",
                      "offset": 0,
                      "length": 52
                    }
                  ],
                  "5": []
                },
                {
                  "0": "this was a different cut than the piece the other day but still wonderful and tender s well as well flavored.",
                  "1": "positive",
                  "3": {
                    "positive": 0.99,
                    "neutral": 0,
                    "negative": 0
                  },
                  "4": [
                    {
                      "sentiment": "positive",
                      "confidenceScores": {
                        "positive": 0.99,
                        "neutral": 0,
                        "negative": 0
                      },
                      "text": "this was a different cut than the piece the other day but still wonderful and tender s well as well flavored.",
                      "offset": 0,
                      "length": 109
                    }
                  ],
                  "5": []
                },
                {
                  "0": "I ordered the Voodoo pasta and it was the first time I'd had really excellent pasta since going gluten free several years ago.",
                  "1": "positive",
                  "3": {
                    "positive": 0.99,
                    "neutral": 0,
                    "negative": 0
                  },
                  "4": [
                    {
                      "sentiment": "positive",
                      "confidenceScores": {
                        "positive": 0.99,
                        "neutral": 0,
                        "negative": 0
                      },
                      "text": "I ordered the Voodoo pasta and it was the first time I'd had really excellent pasta since going gluten free several years ago.",
                      "offset": 0,
                      "length": 126
                    }
                  ],
                  "5": []
                },
                {
                  "0": "this place is good.",
                  "1": "positive",
                  "3": {
                    "positive": 1,
                    "neutral": 0,
                    "negative": 0
                  },
                  "4": [
                    {
                      "sentiment": "positive",
                      "confidenceScores": {
                        "positive": 1,
                        "neutral": 0,
                        "negative": 0
                      },
                      "text": "this place is good.",
                      "offset": 0,
                      "length": 19
                    }
                  ],
                  "5": []
                },
                {
                  "0": "Unfortunately, we must have hit the bakery on leftover day because everything we ordered was STALE.",
                  "1": "negative",
                  "3": {
                    "positive": 0,
                    "neutral": 0,
                    "negative": 0.99
                  },
                  "4": [
                    {
                      "sentiment": "negative",
                      "confidenceScores": {
                        "positive": 0,
                        "neutral": 0,
                        "negative": 0.99
                      },
                      "text": "Unfortunately, we must have hit the bakery on leftover day because everything we ordered was STALE.",
                      "offset": 0,
                      "length": 99
                    }
                  ],
                  "5": []
                },
                {
                  "0": "I came back today since they relocated and still not impressed.",
                  "1": "negative",
                  "3": {
                    "positive": 0.01,
                    "neutral": 0.01,
                    "negative": 0.98
                  },
                  "4": [
                    {
                      "sentiment": "negative",
                      "confidenceScores": {
                        "positive": 0.01,
                        "neutral": 0.01,
                        "negative": 0.98
                      },
                      "text": "I came back today since they relocated and still not impressed.",
                      "offset": 0,
                      "length": 63
                    }
                  ],
                  "5": []
                },
                {
                  "0": "I was seated immediately.",
                  "1": "neutral",
                  "3": {
                    "positive": 0.01,
                    "neutral": 0.93,
                    "negative": 0.06
                  },
                  "4": [
                    {
                      "sentiment": "neutral",
                      "confidenceScores": {
                        "positive": 0.01,
                        "neutral": 0.93,
                        "negative": 0.06
                      },
                      "text": "I was seated immediately.",
                      "offset": 0,
                      "length": 25
                    }
                  ],
                  "5": []
                },
                {
                  "0": "Their menu is diverse, and reasonably priced.",
                  "1": "positive",
                  "3": {
                    "positive": 0.91,
                    "neutral": 0.06,
                    "negative": 0.03
                  },
                  "4": [
                    {
                      "sentiment": "positive",
                      "confidenceScores": {
                        "positive": 0.91,
                        "neutral": 0.06,
                        "negative": 0.03
                      },
                      "text": "Their menu is diverse, and reasonably priced.",
                      "offset": 0,
                      "length": 45
                    }
                  ],
                  "5": []
                },
                {
                  "0": "Avoid at all cost!",
                  "1": "negative",
                  "3": {
                    "positive": 0.09,
                    "neutral": 0.27,
                    "negative": 0.64
                  },
                  "4": [
                    {
                      "sentiment": "negative",
                      "confidenceScores": {
                        "positive": 0.09,
                        "neutral": 0.27,
                        "negative": 0.64
                      },
                      "text": "Avoid at all cost!",
                      "offset": 0,
                      "length": 18
                    }
                  ],
                  "5": []
                },
                {
                  "0": "Restaurant is always full but never a wait.",
                  "1": "positive",
                  "3": {
                    "positive": 0.72,
                    "neutral": 0.23,
                    "negative": 0.05
                  },
                  "4": [
                    {
                      "sentiment": "positive",
                      "confidenceScores": {
                        "positive": 0.72,
                        "neutral": 0.23,
                        "negative": 0.05
                      },
                      "text": "Restaurant is always full but never a wait.",
                      "offset": 0,
                      "length": 43
                    }
                  ],
                  "5": []
                },
                {
                  "0": "DELICIOUS!!",
                  "1": "positive",
                  "3": {
                    "positive": 0.99,
                    "neutral": 0,
                    "negative": 0.01
                  },
                  "4": [
                    {
                      "sentiment": "positive",
                      "confidenceScores": {
                        "positive": 0.99,
                        "neutral": 0,
                        "negative": 0.01
                      },
                      "text": "DELICIOUS!!",
                      "offset": 0,
                      "length": 11
                    }
                  ],
                  "5": []
                },
                {
                  "0": "This place is hands-down one of the best places to eat in the Phoenix metro area.",
                  "1": "positive",
                  "3": {
                    "positive": 0.99,
                    "neutral": 0,
                    "negative": 0
                  },
                  "4": [
                    {
                      "sentiment": "positive",
                      "confidenceScores": {
                        "positive": 0.99,
                        "neutral": 0,
                        "negative": 0
                      },
                      "text": "This place is hands-down one of the best places to eat in the Phoenix metro area.",
                      "offset": 0,
                      "length": 81
                    }
                  ],
                  "5": []
                },
                {
                  "0": "So don't go there if you are looking for good food...",
                  "1": "positive",
                  "3": {
                    "positive": 0.53,
                    "neutral": 0.02,
                    "negative": 0.45
                  },
                  "4": [
                    {
                      "sentiment": "positive",
                      "confidenceScores": {
                        "positive": 0.53,
                        "neutral": 0.02,
                        "negative": 0.45
                      },
                      "text": "So don't go there if you are looking for good food...",
                      "offset": 0,
                      "length": 53
                    }
                  ],
                  "5": []
                },
                {
                  "0": "I've never been treated so bad.",
                  "1": "negative",
                  "3": {
                    "positive": 0.02,
                    "neutral": 0.02,
                    "negative": 0.96
                  },
                  "4": [
                    {
                      "sentiment": "negative",
                      "confidenceScores": {
                        "positive": 0.02,
                        "neutral": 0.02,
                        "negative": 0.96
                      },
                      "text": "I've never been treated so bad.",
                      "offset": 0,
                      "length": 31
                    }
                  ],
                  "5": []
                },
                {
                  "0": "Bacon is hella salty.",
                  "1": "negative",
                  "3": {
                    "positive": 0.08,
                    "neutral": 0.34,
                    "negative": 0.57
                  },
                  "4": [
                    {
                      "sentiment": "negative",
                      "confidenceScores": {
                        "positive": 0.08,
                        "neutral": 0.34,
                        "negative": 0.57
                      },
                      "text": "Bacon is hella salty.",
                      "offset": 0,
                      "length": 21
                    }
                  ],
                  "5": []
                },
                {
                  "0": "\"We also ordered the spinach and avocado salad; the ingredients were sad and the dressing literally had zero taste.\"",
                  "1": "negative",
                  "3": {
                    "positive": 0,
                    "neutral": 0,
                    "negative": 1
                  },
                  "4": [
                    {
                      "sentiment": "neutral",
                      "confidenceScores": {
                        "positive": 0.04,
                        "neutral": 0.93,
                        "negative": 0.02
                      },
                      "text": "\"We also ordered the spinach and avocado salad; ",
                      "offset": 0,
                      "length": 48
                    },
                    {
                      "sentiment": "negative",
                      "confidenceScores": {
                        "positive": 0,
                        "neutral": 0,
                        "negative": 1
                      },
                      "text": "the ingredients were sad and the dressing literally had zero taste.\"",
                      "offset": 48,
                      "length": 68
                    }
                  ],
                  "5": []
                },
                {
                  "0": "This really is how Vegas fine dining used to be, right down to the menus handed to the ladies that have no prices listed.",
                  "1": "positive",
                  "3": {
                    "positive": 0.96,
                    "neutral": 0.02,
                    "negative": 0.03
                  },
                  "4": [
                    {
                      "sentiment": "positive",
                      "confidenceScores": {
                        "positive": 0.96,
                        "neutral": 0.02,
                        "negative": 0.03
                      },
                      "text": "This really is how Vegas fine dining used to be, right down to the menus handed to the ladies that have no prices listed.",
                      "offset": 0,
                      "length": 121
                    }
                  ],
                  "5": []
                },
                {
                  "0": "The waitresses are very friendly.",
                  "1": "positive",
                  "3": {
                    "positive": 0.99,
                    "neutral": 0.01,
                    "negative": 0
                  },
                  "4": [
                    {
                      "sentiment": "positive",
                      "confidenceScores": {
                        "positive": 0.99,
                        "neutral": 0.01,
                        "negative": 0
                      },
                      "text": "The waitresses are very friendly.",
                      "offset": 0,
                      "length": 33
                    }
                  ],
                  "5": []
                },
                {
                  "0": "Lordy, the Khao Soi is a dish that is not to be missed for curry lovers!",
                  "1": "positive",
                  "3": {
                    "positive": 0.98,
                    "neutral": 0.01,
                    "negative": 0.01
                  },
                  "4": [
                    {
                      "sentiment": "positive",
                      "confidenceScores": {
                        "positive": 0.98,
                        "neutral": 0.01,
                        "negative": 0.01
                      },
                      "text": "Lordy, the Khao Soi is a dish that is not to be missed for curry lovers!",
                      "offset": 0,
                      "length": 72
                    }
                  ],
                  "5": []
                },
                {
                  "0": "Everything on the menu is terrific and we were also thrilled that they made amazing accommodations for our vegetarian daughter.",
                  "1": "positive",
                  "3": {
                    "positive": 0.99,
                    "neutral": 0,
                    "negative": 0
                  },
                  "4": [
                    {
                      "sentiment": "positive",
                      "confidenceScores": {
                        "positive": 0.99,
                        "neutral": 0,
                        "negative": 0
                      },
                      "text": "Everything on the menu is terrific and we were also thrilled that they made amazing accommodations for our vegetarian daughter.",
                      "offset": 0,
                      "length": 127
                    }
                  ],
                  "5": []
                },
                {
                  "0": "Perhaps I caught them on an off night judging by the other reviews, but I'm not inspired to go back.",
                  "1": "negative",
                  "3": {
                    "positive": 0.01,
                    "neutral": 0.13,
                    "negative": 0.85
                  },
                  "4": [
                    {
                      "sentiment": "negative",
                      "confidenceScores": {
                        "positive": 0.01,
                        "neutral": 0.13,
                        "negative": 0.85
                      },
                      "text": "Perhaps I caught them on an off night judging by the other reviews, but I'm not inspired to go back.",
                      "offset": 0,
                      "length": 100
                    }
                  ],
                  "5": []
                },
                {
                  "0": "The service here leaves a lot to be desired.",
                  "1": "negative",
                  "3": {
                    "positive": 0.1,
                    "neutral": 0.03,
                    "negative": 0.88
                  },
                  "4": [
                    {
                      "sentiment": "negative",
                      "confidenceScores": {
                        "positive": 0.1,
                        "neutral": 0.03,
                        "negative": 0.88
                      },
                      "text": "The service here leaves a lot to be desired.",
                      "offset": 0,
                      "length": 44
                    }
                  ],
                  "5": []
                },
                {
                  "0": "The atmosphere is modern and hip, while maintaining a touch of coziness.",
                  "1": "positive",
                  "3": {
                    "positive": 0.6,
                    "neutral": 0.38,
                    "negative": 0.02
                  },
                  "4": [
                    {
                      "sentiment": "positive",
                      "confidenceScores": {
                        "positive": 0.6,
                        "neutral": 0.38,
                        "negative": 0.02
                      },
                      "text": "The atmosphere is modern and hip, while maintaining a touch of coziness.",
                      "offset": 0,
                      "length": 72
                    }
                  ],
                  "5": []
                },
                {
                  "0": "Not a weekly haunt, but definitely a place to come back to every once in a while.",
                  "1": "positive",
                  "3": {
                    "positive": 0.7,
                    "neutral": 0.12,
                    "negative": 0.17
                  },
                  "4": [
                    {
                      "sentiment": "positive",
                      "confidenceScores": {
                        "positive": 0.7,
                        "neutral": 0.12,
                        "negative": 0.17
                      },
                      "text": "Not a weekly haunt, but definitely a place to come back to every once in a while.",
                      "offset": 0,
                      "length": 81
                    }
                  ],
                  "5": []
                },
                {
                  "0": "We literally sat there for 20 minutes with no one asking to take our order.",
                  "1": "neutral",
                  "3": {
                    "positive": 0.04,
                    "neutral": 0.66,
                    "negative": 0.3
                  },
                  "4": [
                    {
                      "sentiment": "neutral",
                      "confidenceScores": {
                        "positive": 0.04,
                        "neutral": 0.66,
                        "negative": 0.3
                      },
                      "text": "We literally sat there for 20 minutes with no one asking to take our order.",
                      "offset": 0,
                      "length": 75
                    }
                  ],
                  "5": []
                },
                {
                  "0": "The burger had absolutely no flavor - the meat itself was totally bland, the burger was overcooked and there was no charcoal flavor.",
                  "1": "negative",
                  "3": {
                    "positive": 0,
                    "neutral": 0,
                    "negative": 0.99
                  },
                  "4": [
                    {
                      "sentiment": "negative",
                      "confidenceScores": {
                        "positive": 0,
                        "neutral": 0,
                        "negative": 0.99
                      },
                      "text": "The burger had absolutely no flavor - the meat itself was totally bland, the burger was overcooked and there was no charcoal flavor.",
                      "offset": 0,
                      "length": 132
                    }
                  ],
                  "5": []
                },
                {
                  "0": "I also decided not to send it back because our waitress looked like she was on the verge of having a heart attack.",
                  "1": "negative",
                  "3": {
                    "positive": 0,
                    "neutral": 0.01,
                    "negative": 0.98
                  },
                  "4": [
                    {
                      "sentiment": "negative",
                      "confidenceScores": {
                        "positive": 0,
                        "neutral": 0.01,
                        "negative": 0.98
                      },
                      "text": "I also decided not to send it back because our waitress looked like she was on the verge of having a heart attack.",
                      "offset": 0,
                      "length": 114
                    }
                  ],
                  "5": []
                },
                {
                  "0": "I dressed up to be treated so rudely!",
                  "1": "negative",
                  "3": {
                    "positive": 0,
                    "neutral": 0,
                    "negative": 0.99
                  },
                  "4": [
                    {
                      "sentiment": "negative",
                      "confidenceScores": {
                        "positive": 0,
                        "neutral": 0,
                        "negative": 0.99
                      },
                      "text": "I dressed up to be treated so rudely!",
                      "offset": 0,
                      "length": 37
                    }
                  ],
                  "5": []
                },
                {
                  "0": "It was probably dirt.",
                  "1": "negative",
                  "3": {
                    "positive": 0.01,
                    "neutral": 0.29,
                    "negative": 0.69
                  },
                  "4": [
                    {
                      "sentiment": "negative",
                      "confidenceScores": {
                        "positive": 0.01,
                        "neutral": 0.29,
                        "negative": 0.69
                      },
                      "text": "It was probably dirt.",
                      "offset": 0,
                      "length": 21
                    }
                  ],
                  "5": []
                },
                {
                  "0": "Love this place, hits the spot when I want something healthy but not lacking in quantity or flavor.",
                  "1": "positive",
                  "3": {
                    "positive": 1,
                    "neutral": 0,
                    "negative": 0
                  },
                  "4": [
                    {
                      "sentiment": "positive",
                      "confidenceScores": {
                        "positive": 1,
                        "neutral": 0,
                        "negative": 0
                      },
                      "text": "Love this place, hits the spot when I want something healthy but not lacking in quantity or flavor.",
                      "offset": 0,
                      "length": 99
                    }
                  ],
                  "5": []
                },
                {
                  "0": "I ordered the Lemon raspberry ice cocktail which was also incredible.",
                  "1": "positive",
                  "3": {
                    "positive": 0.98,
                    "neutral": 0,
                    "negative": 0.01
                  },
                  "4": [
                    {
                      "sentiment": "positive",
                      "confidenceScores": {
                        "positive": 0.98,
                        "neutral": 0,
                        "negative": 0.01
                      },
                      "text": "I ordered the Lemon raspberry ice cocktail which was also incredible.",
                      "offset": 0,
                      "length": 69
                    }
                  ],
                  "5": []
                },
                {
                  "0": "The food sucked, which we expected but it sucked more than we could have imagined.",
                  "1": "negative",
                  "3": {
                    "positive": 0.01,
                    "neutral": 0,
                    "negative": 0.99
                  },
                  "4": [
                    {
                      "sentiment": "negative",
                      "confidenceScores": {
                        "positive": 0.01,
                        "neutral": 0,
                        "negative": 0.99
                      },
                      "text": "The food sucked, which we expected but it sucked more than we could have imagined.",
                      "offset": 0,
                      "length": 82
                    }
                  ],
                  "5": []
                },
                {
                  "0": "Interesting decor.",
                  "1": "positive",
                  "3": {
                    "positive": 0.99,
                    "neutral": 0,
                    "negative": 0
                  },
                  "4": [
                    {
                      "sentiment": "positive",
                      "confidenceScores": {
                        "positive": 0.99,
                        "neutral": 0,
                        "negative": 0
                      },
                      "text": "Interesting decor.",
                      "offset": 0,
                      "length": 18
                    }
                  ],
                  "5": []
                },
                {
                  "0": "What I really like there is the crepe station.",
                  "1": "positive",
                  "3": {
                    "positive": 0.94,
                    "neutral": 0.05,
                    "negative": 0.01
                  },
                  "4": [
                    {
                      "sentiment": "positive",
                      "confidenceScores": {
                        "positive": 0.94,
                        "neutral": 0.05,
                        "negative": 0.01
                      },
                      "text": "What I really like there is the crepe station.",
                      "offset": 0,
                      "length": 46
                    }
                  ],
                  "5": []
                },
                {
                  "0": "Also were served hot bread and butter, and home made potato chips with bacon bits on top....very original and very good.",
                  "1": "positive",
                  "3": {
                    "positive": 0.79,
                    "neutral": 0.14,
                    "negative": 0.06
                  },
                  "4": [
                    {
                      "sentiment": "positive",
                      "confidenceScores": {
                        "positive": 0.59,
                        "neutral": 0.28,
                        "negative": 0.13
                      },
                      "text": "Also were served hot bread and butter, and home made potato chips with bacon bits on top....",
                      "offset": 0,
                      "length": 92
                    },
                    {
                      "sentiment": "positive",
                      "confidenceScores": {
                        "positive": 1,
                        "neutral": 0,
                        "negative": 0
                      },
                      "text": "very original and very good.",
                      "offset": 92,
                      "length": 28
                    }
                  ],
                  "5": []
                },
                {
                  "0": "you can watch them preparing the delicious food!)",
                  "1": "positive",
                  "3": {
                    "positive": 0.97,
                    "neutral": 0.02,
                    "negative": 0.01
                  },
                  "4": [
                    {
                      "sentiment": "positive",
                      "confidenceScores": {
                        "positive": 0.97,
                        "neutral": 0.02,
                        "negative": 0.01
                      },
                      "text": "you can watch them preparing the delicious food!)",
                      "offset": 0,
                      "length": 49
                    }
                  ],
                  "5": []
                },
                {
                  "0": "Both of the egg rolls were fantastic.",
                  "1": "positive",
                  "3": {
                    "positive": 0.99,
                    "neutral": 0,
                    "negative": 0
                  },
                  "4": [
                    {
                      "sentiment": "positive",
                      "confidenceScores": {
                        "positive": 0.99,
                        "neutral": 0,
                        "negative": 0
                      },
                      "text": "Both of the egg rolls were fantastic.",
                      "offset": 0,
                      "length": 37
                    }
                  ],
                  "5": []
                },
                {
                  "0": "When my order arrived, one of the gyros was missing.",
                  "1": "negative",
                  "3": {
                    "positive": 0,
                    "neutral": 0.01,
                    "negative": 0.98
                  },
                  "4": [
                    {
                      "sentiment": "negative",
                      "confidenceScores": {
                        "positive": 0,
                        "neutral": 0.01,
                        "negative": 0.98
                      },
                      "text": "When my order arrived, one of the gyros was missing.",
                      "offset": 0,
                      "length": 52
                    }
                  ],
                  "5": []
                },
                {
                  "0": "I had a salad with the wings, and some ice cream for dessert and left feeling quite satisfied.",
                  "1": "positive",
                  "3": {
                    "positive": 0.98,
                    "neutral": 0.01,
                    "negative": 0.01
                  },
                  "4": [
                    {
                      "sentiment": "positive",
                      "confidenceScores": {
                        "positive": 0.98,
                        "neutral": 0.01,
                        "negative": 0.01
                      },
                      "text": "I had a salad with the wings, and some ice cream for dessert and left feeling quite satisfied.",
                      "offset": 0,
                      "length": 94
                    }
                  ],
                  "5": []
                },
                {
                  "0": "I'm not really sure how Joey's was voted best hot dog in the Valley by readers of Phoenix Magazine.",
                  "1": "positive",
                  "3": {
                    "positive": 0.72,
                    "neutral": 0.15,
                    "negative": 0.12
                  },
                  "4": [
                    {
                      "sentiment": "positive",
                      "confidenceScores": {
                        "positive": 0.72,
                        "neutral": 0.15,
                        "negative": 0.12
                      },
                      "text": "I'm not really sure how Joey's was voted best hot dog in the Valley by readers of Phoenix Magazine.",
                      "offset": 0,
                      "length": 99
                    }
                  ],
                  "5": []
                },
                {
                  "0": "The best place to go for a tasty bowl of Pho!",
                  "1": "positive",
                  "3": {
                    "positive": 1,
                    "neutral": 0,
                    "negative": 0
                  },
                  "4": [
                    {
                      "sentiment": "positive",
                      "confidenceScores": {
                        "positive": 1,
                        "neutral": 0,
                        "negative": 0
                      },
                      "text": "The best place to go for a tasty bowl of Pho!",
                      "offset": 0,
                      "length": 45
                    }
                  ],
                  "5": []
                },
                {
                  "0": "The live music on Fridays totally blows.",
                  "1": "negative",
                  "3": {
                    "positive": 0.02,
                    "neutral": 0.02,
                    "negative": 0.97
                  },
                  "4": [
                    {
                      "sentiment": "negative",
                      "confidenceScores": {
                        "positive": 0.02,
                        "neutral": 0.02,
                        "negative": 0.97
                      },
                      "text": "The live music on Fridays totally blows.",
                      "offset": 0,
                      "length": 40
                    }
                  ],
                  "5": []
                },
                {
                  "0": "I've never been more insulted or felt disrespected.",
                  "1": "negative",
                  "3": {
                    "positive": 0,
                    "neutral": 0,
                    "negative": 0.99
                  },
                  "4": [
                    {
                      "sentiment": "negative",
                      "confidenceScores": {
                        "positive": 0,
                        "neutral": 0,
                        "negative": 0.99
                      },
                      "text": "I've never been more insulted or felt disrespected.",
                      "offset": 0,
                      "length": 51
                    }
                  ],
                  "5": []
                },
                {
                  "0": "Very friendly staff.",
                  "1": "positive",
                  "3": {
                    "positive": 0.99,
                    "neutral": 0,
                    "negative": 0
                  },
                  "4": [
                    {
                      "sentiment": "positive",
                      "confidenceScores": {
                        "positive": 0.99,
                        "neutral": 0,
                        "negative": 0
                      },
                      "text": "Very friendly staff.",
                      "offset": 0,
                      "length": 20
                    }
                  ],
                  "5": []
                },
                {
                  "0": "It is worth the drive.",
                  "1": "positive",
                  "3": {
                    "positive": 0.96,
                    "neutral": 0.02,
                    "negative": 0.02
                  },
                  "4": [
                    {
                      "sentiment": "positive",
                      "confidenceScores": {
                        "positive": 0.96,
                        "neutral": 0.02,
                        "negative": 0.02
                      },
                      "text": "It is worth the drive.",
                      "offset": 0,
                      "length": 22
                    }
                  ],
                  "5": []
                },
                {
                  "0": "I had heard good things about this place, but it exceeding every hope I could have dreamed of.",
                  "1": "positive",
                  "3": {
                    "positive": 0.97,
                    "neutral": 0,
                    "negative": 0.02
                  },
                  "4": [
                    {
                      "sentiment": "positive",
                      "confidenceScores": {
                        "positive": 0.97,
                        "neutral": 0,
                        "negative": 0.02
                      },
                      "text": "I had heard good things about this place, but it exceeding every hope I could have dreamed of.",
                      "offset": 0,
                      "length": 94
                    }
                  ],
                  "5": []
                },
                {
                  "0": "Food was great and so was the serivce!",
                  "1": "positive",
                  "3": {
                    "positive": 1,
                    "neutral": 0,
                    "negative": 0
                  },
                  "4": [
                    {
                      "sentiment": "positive",
                      "confidenceScores": {
                        "positive": 1,
                        "neutral": 0,
                        "negative": 0
                      },
                      "text": "Food was great and so was the serivce!",
                      "offset": 0,
                      "length": 38
                    }
                  ],
                  "5": []
                },
                {
                  "0": "The warm beer didn't help.",
                  "1": "negative",
                  "3": {
                    "positive": 0,
                    "neutral": 0.01,
                    "negative": 0.99
                  },
                  "4": [
                    {
                      "sentiment": "negative",
                      "confidenceScores": {
                        "positive": 0,
                        "neutral": 0.01,
                        "negative": 0.99
                      },
                      "text": "The warm beer didn't help.",
                      "offset": 0,
                      "length": 26
                    }
                  ],
                  "5": []
                },
                {
                  "0": "Great brunch spot.",
                  "1": "positive",
                  "3": {
                    "positive": 1,
                    "neutral": 0,
                    "negative": 0
                  },
                  "4": [
                    {
                      "sentiment": "positive",
                      "confidenceScores": {
                        "positive": 1,
                        "neutral": 0,
                        "negative": 0
                      },
                      "text": "Great brunch spot.",
                      "offset": 0,
                      "length": 18
                    }
                  ],
                  "5": []
                },
                {
                  "0": "Service is friendly and inviting.",
                  "1": "positive",
                  "3": {
                    "positive": 0.99,
                    "neutral": 0.01,
                    "negative": 0
                  },
                  "4": [
                    {
                      "sentiment": "positive",
                      "confidenceScores": {
                        "positive": 0.99,
                        "neutral": 0.01,
                        "negative": 0
                      },
                      "text": "Service is friendly and inviting.",
                      "offset": 0,
                      "length": 33
                    }
                  ],
                  "5": []
                },
                {
                  "0": "Very good lunch spot.",
                  "1": "positive",
                  "3": {
                    "positive": 1,
                    "neutral": 0,
                    "negative": 0
                  },
                  "4": [
                    {
                      "sentiment": "positive",
                      "confidenceScores": {
                        "positive": 1,
                        "neutral": 0,
                        "negative": 0
                      },
                      "text": "Very good lunch spot.",
                      "offset": 0,
                      "length": 21
                    }
                  ],
                  "5": []
                },
                {
                  "0": "I've lived here since 1979 and this was the first (and last) time I've stepped foot into this place.",
                  "1": "neutral",
                  "3": {
                    "positive": 0.33,
                    "neutral": 0.55,
                    "negative": 0.12
                  },
                  "4": [
                    {
                      "sentiment": "neutral",
                      "confidenceScores": {
                        "positive": 0.33,
                        "neutral": 0.55,
                        "negative": 0.12
                      },
                      "text": "I've lived here since 1979 and this was the first (and last) time I've stepped foot into this place.",
                      "offset": 0,
                      "length": 100
                    }
                  ],
                  "5": []
                },
                {
                  "0": "The WORST EXPERIENCE EVER.",
                  "1": "positive",
                  "3": {
                    "positive": 0.78,
                    "neutral": 0.07,
                    "negative": 0.15
                  },
                  "4": [
                    {
                      "sentiment": "positive",
                      "confidenceScores": {
                        "positive": 0.78,
                        "neutral": 0.07,
                        "negative": 0.15
                      },
                      "text": "The WORST EXPERIENCE EVER.",
                      "offset": 0,
                      "length": 26
                    }
                  ],
                  "5": []
                },
                {
                  "0": "Must have been an off night at this place.",
                  "1": "negative",
                  "3": {
                    "positive": 0.01,
                    "neutral": 0.02,
                    "negative": 0.97
                  },
                  "4": [
                    {
                      "sentiment": "negative",
                      "confidenceScores": {
                        "positive": 0.01,
                        "neutral": 0.02,
                        "negative": 0.97
                      },
                      "text": "Must have been an off night at this place.",
                      "offset": 0,
                      "length": 42
                    }
                  ],
                  "5": []
                },
                {
                  "0": "The sides are delish - mixed mushrooms, yukon gold puree, white corn - beateous.",
                  "1": "neutral",
                  "3": {
                    "positive": 0.1,
                    "neutral": 0.57,
                    "negative": 0.33
                  },
                  "4": [
                    {
                      "sentiment": "neutral",
                      "confidenceScores": {
                        "positive": 0.1,
                        "neutral": 0.57,
                        "negative": 0.33
                      },
                      "text": "The sides are delish - mixed mushrooms, yukon gold puree, white corn - beateous.",
                      "offset": 0,
                      "length": 80
                    }
                  ],
                  "5": []
                },
                {
                  "0": "If that bug never showed up I would have given a 4 for sure, but on the other side of the wall where this bug was climbing was the kitchen.",
                  "1": "negative",
                  "3": {
                    "positive": 0,
                    "neutral": 0.06,
                    "negative": 0.94
                  },
                  "4": [
                    {
                      "sentiment": "negative",
                      "confidenceScores": {
                        "positive": 0,
                        "neutral": 0.06,
                        "negative": 0.94
                      },
                      "text": "If that bug never showed up I would have given a 4 for sure, but on the other side of the wall where this bug was climbing was the kitchen.",
                      "offset": 0,
                      "length": 139
                    }
                  ],
                  "5": []
                },
                {
                  "0": "For about 10 minutes, we we're waiting for her salad when we realized that it wasn't coming any time soon.",
                  "1": "neutral",
                  "3": {
                    "positive": 0.05,
                    "neutral": 0.48,
                    "negative": 0.47
                  },
                  "4": [
                    {
                      "sentiment": "neutral",
                      "confidenceScores": {
                        "positive": 0.05,
                        "neutral": 0.48,
                        "negative": 0.47
                      },
                      "text": "For about 10 minutes, we we're waiting for her salad when we realized that it wasn't coming any time soon.",
                      "offset": 0,
                      "length": 106
                    }
                  ],
                  "5": []
                },
                {
                  "0": "My friend loved the salmon tartar.",
                  "1": "positive",
                  "3": {
                    "positive": 0.99,
                    "neutral": 0,
                    "negative": 0
                  },
                  "4": [
                    {
                      "sentiment": "positive",
                      "confidenceScores": {
                        "positive": 0.99,
                        "neutral": 0,
                        "negative": 0
                      },
                      "text": "My friend loved the salmon tartar.",
                      "offset": 0,
                      "length": 34
                    }
                  ],
                  "5": []
                },
                {
                  "0": "Won't go back.",
                  "1": "neutral",
                  "3": {
                    "positive": 0.02,
                    "neutral": 0.78,
                    "negative": 0.2
                  },
                  "4": [
                    {
                      "sentiment": "neutral",
                      "confidenceScores": {
                        "positive": 0.02,
                        "neutral": 0.78,
                        "negative": 0.2
                      },
                      "text": "Won't go back.",
                      "offset": 0,
                      "length": 14
                    }
                  ],
                  "5": []
                },
                {
                  "0": "Extremely Tasty!",
                  "1": "positive",
                  "3": {
                    "positive": 0.99,
                    "neutral": 0.01,
                    "negative": 0.01
                  },
                  "4": [
                    {
                      "sentiment": "positive",
                      "confidenceScores": {
                        "positive": 0.99,
                        "neutral": 0.01,
                        "negative": 0.01
                      },
                      "text": "Extremely Tasty!",
                      "offset": 0,
                      "length": 16
                    }
                  ],
                  "5": []
                },
                {
                  "0": "Waitress was good though!",
                  "1": "positive",
                  "3": {
                    "positive": 0.99,
                    "neutral": 0,
                    "negative": 0.01
                  },
                  "4": [
                    {
                      "sentiment": "positive",
                      "confidenceScores": {
                        "positive": 0.99,
                        "neutral": 0,
                        "negative": 0.01
                      },
                      "text": "Waitress was good though!",
                      "offset": 0,
                      "length": 25
                    }
                  ],
                  "5": []
                },
                {
                  "0": "Soggy and not good.",
                  "1": "negative",
                  "3": {
                    "positive": 0,
                    "neutral": 0,
                    "negative": 0.99
                  },
                  "4": [
                    {
                      "sentiment": "negative",
                      "confidenceScores": {
                        "positive": 0,
                        "neutral": 0,
                        "negative": 0.99
                      },
                      "text": "Soggy and not good.",
                      "offset": 0,
                      "length": 19
                    }
                  ],
                  "5": []
                },
                {
                  "0": "The Jamaican mojitos are delicious.",
                  "1": "positive",
                  "3": {
                    "positive": 0.99,
                    "neutral": 0,
                    "negative": 0
                  },
                  "4": [
                    {
                      "sentiment": "positive",
                      "confidenceScores": {
                        "positive": 0.99,
                        "neutral": 0,
                        "negative": 0
                      },
                      "text": "The Jamaican mojitos are delicious.",
                      "offset": 0,
                      "length": 35
                    }
                  ],
                  "5": []
                },
                {
                  "0": "Which are small and not worth the price.",
                  "1": "negative",
                  "3": {
                    "positive": 0,
                    "neutral": 0,
                    "negative": 0.99
                  },
                  "4": [
                    {
                      "sentiment": "negative",
                      "confidenceScores": {
                        "positive": 0,
                        "neutral": 0,
                        "negative": 0.99
                      },
                      "text": "Which are small and not worth the price.",
                      "offset": 0,
                      "length": 40
                    }
                  ],
                  "5": []
                },
                {
                  "0": "#NAME?",
                  "1": "neutral",
                  "3": {
                    "positive": 0.03,
                    "neutral": 0.94,
                    "negative": 0.03
                  },
                  "4": [
                    {
                      "sentiment": "neutral",
                      "confidenceScores": {
                        "positive": 0.03,
                        "neutral": 0.94,
                        "negative": 0.03
                      },
                      "text": "#NAME?",
                      "offset": 0,
                      "length": 6
                    }
                  ],
                  "5": []
                },
                {
                  "0": "The shower area is outside so you can only rinse, not take a full shower, unless you don't mind being nude for everyone to see!",
                  "1": "neutral",
                  "3": {
                    "positive": 0.05,
                    "neutral": 0.49,
                    "negative": 0.46
                  },
                  "4": [
                    {
                      "sentiment": "neutral",
                      "confidenceScores": {
                        "positive": 0.05,
                        "neutral": 0.49,
                        "negative": 0.46
                      },
                      "text": "The shower area is outside so you can only rinse, not take a full shower, unless you don't mind being nude for everyone to see!",
                      "offset": 0,
                      "length": 127
                    }
                  ],
                  "5": []
                },
                {
                  "0": "The service was a bit lacking.",
                  "1": "negative",
                  "3": {
                    "positive": 0,
                    "neutral": 0,
                    "negative": 0.99
                  },
                  "4": [
                    {
                      "sentiment": "negative",
                      "confidenceScores": {
                        "positive": 0,
                        "neutral": 0,
                        "negative": 0.99
                      },
                      "text": "The service was a bit lacking.",
                      "offset": 0,
                      "length": 30
                    }
                  ],
                  "5": []
                },
                {
                  "0": "Lobster Bisque, Bussell Sprouts, Risotto, Filet ALL needed salt and pepper..and of course there is none at the tables.",
                  "1": "neutral",
                  "3": {
                    "positive": 0.01,
                    "neutral": 0.95,
                    "negative": 0.03
                  },
                  "4": [
                    {
                      "sentiment": "neutral",
                      "confidenceScores": {
                        "positive": 0.02,
                        "neutral": 0.96,
                        "negative": 0.02
                      },
                      "text": "Lobster Bisque, Bussell Sprouts, Risotto, Filet ALL needed salt and pepper..",
                      "offset": 0,
                      "length": 76
                    },
                    {
                      "sentiment": "neutral",
                      "confidenceScores": {
                        "positive": 0.01,
                        "neutral": 0.94,
                        "negative": 0.05
                      },
                      "text": "and of course there is none at the tables.",
                      "offset": 76,
                      "length": 42
                    }
                  ],
                  "5": []
                },
                {
                  "0": "Hopefully this bodes for them going out of business and someone who can cook can come in.",
                  "1": "positive",
                  "3": {
                    "positive": 0.67,
                    "neutral": 0.09,
                    "negative": 0.24
                  },
                  "4": [
                    {
                      "sentiment": "positive",
                      "confidenceScores": {
                        "positive": 0.67,
                        "neutral": 0.09,
                        "negative": 0.24
                      },
                      "text": "Hopefully this bodes for them going out of business and someone who can cook can come in.",
                      "offset": 0,
                      "length": 89
                    }
                  ],
                  "5": []
                },
                {
                  "0": "It was either too cold, not enough flavor or just bad.",
                  "1": "negative",
                  "3": {
                    "positive": 0,
                    "neutral": 0,
                    "negative": 1
                  },
                  "4": [
                    {
                      "sentiment": "negative",
                      "confidenceScores": {
                        "positive": 0,
                        "neutral": 0,
                        "negative": 1
                      },
                      "text": "It was either too cold, not enough flavor or just bad.",
                      "offset": 0,
                      "length": 54
                    }
                  ],
                  "5": []
                },
                {
                  "0": "I loved the bacon wrapped dates.",
                  "1": "positive",
                  "3": {
                    "positive": 0.99,
                    "neutral": 0,
                    "negative": 0
                  },
                  "4": [
                    {
                      "sentiment": "positive",
                      "confidenceScores": {
                        "positive": 0.99,
                        "neutral": 0,
                        "negative": 0
                      },
                      "text": "I loved the bacon wrapped dates.",
                      "offset": 0,
                      "length": 32
                    }
                  ],
                  "5": []
                },
                {
                  "0": "This is an unbelievable BARGAIN!",
                  "1": "negative",
                  "3": {
                    "positive": 0.24,
                    "neutral": 0.01,
                    "negative": 0.75
                  },
                  "4": [
                    {
                      "sentiment": "negative",
                      "confidenceScores": {
                        "positive": 0.24,
                        "neutral": 0.01,
                        "negative": 0.75
                      },
                      "text": "This is an unbelievable BARGAIN!",
                      "offset": 0,
                      "length": 32
                    }
                  ],
                  "5": []
                },
                {
                  "0": "The folks at Otto always make us feel so welcome and special.",
                  "1": "positive",
                  "3": {
                    "positive": 0.93,
                    "neutral": 0.06,
                    "negative": 0.01
                  },
                  "4": [
                    {
                      "sentiment": "positive",
                      "confidenceScores": {
                        "positive": 0.93,
                        "neutral": 0.06,
                        "negative": 0.01
                      },
                      "text": "The folks at Otto always make us feel so welcome and special.",
                      "offset": 0,
                      "length": 61
                    }
                  ],
                  "5": []
                },
                {
                  "0": "\"As for the \"\"mains,\"\" also uninspired.\"",
                  "1": "negative",
                  "3": {
                    "positive": 0.01,
                    "neutral": 0.01,
                    "negative": 0.98
                  },
                  "4": [
                    {
                      "sentiment": "negative",
                      "confidenceScores": {
                        "positive": 0.01,
                        "neutral": 0.01,
                        "negative": 0.98
                      },
                      "text": "\"As for the \"\"mains,\"\" also uninspired.\"",
                      "offset": 0,
                      "length": 40
                    }
                  ],
                  "5": []
                },
                {
                  "0": "This is the place where I first had pho and it was amazing!!",
                  "1": "positive",
                  "3": {
                    "positive": 0.99,
                    "neutral": 0,
                    "negative": 0
                  },
                  "4": [
                    {
                      "sentiment": "positive",
                      "confidenceScores": {
                        "positive": 0.99,
                        "neutral": 0,
                        "negative": 0
                      },
                      "text": "This is the place where I first had pho and it was amazing!!",
                      "offset": 0,
                      "length": 60
                    }
                  ],
                  "5": []
                },
                {
                  "0": "This wonderful experience made this place a must-stop whenever we are in town again.",
                  "1": "positive",
                  "3": {
                    "positive": 1,
                    "neutral": 0,
                    "negative": 0
                  },
                  "4": [
                    {
                      "sentiment": "positive",
                      "confidenceScores": {
                        "positive": 1,
                        "neutral": 0,
                        "negative": 0
                      },
                      "text": "This wonderful experience made this place a must-stop whenever we are in town again.",
                      "offset": 0,
                      "length": 84
                    }
                  ],
                  "5": []
                },
                {
                  "0": "If the food isn't bad enough for you, then enjoy dealing with the world's worst/annoying drunk people.",
                  "1": "negative",
                  "3": {
                    "positive": 0.09,
                    "neutral": 0,
                    "negative": 0.91
                  },
                  "4": [
                    {
                      "sentiment": "negative",
                      "confidenceScores": {
                        "positive": 0.09,
                        "neutral": 0,
                        "negative": 0.91
                      },
                      "text": "If the food isn't bad enough for you, then enjoy dealing with the world's worst/annoying drunk people.",
                      "offset": 0,
                      "length": 102
                    }
                  ],
                  "5": []
                },
                {
                  "0": "Very very fun chef.",
                  "1": "positive",
                  "3": {
                    "positive": 1,
                    "neutral": 0,
                    "negative": 0
                  },
                  "4": [
                    {
                      "sentiment": "positive",
                      "confidenceScores": {
                        "positive": 1,
                        "neutral": 0,
                        "negative": 0
                      },
                      "text": "Very very fun chef.",
                      "offset": 0,
                      "length": 19
                    }
                  ],
                  "5": []
                },
                {
                  "0": "Ordered a double cheeseburger & got a single patty that was falling apart (picture uploaded) Yeah, still sucks.",
                  "1": "negative",
                  "3": {
                    "positive": 0,
                    "neutral": 0,
                    "negative": 0.99
                  },
                  "4": [
                    {
                      "sentiment": "negative",
                      "confidenceScores": {
                        "positive": 0,
                        "neutral": 0,
                        "negative": 0.99
                      },
                      "text": "Ordered a double cheeseburger & got a single patty that was falling apart (picture uploaded) Yeah, still sucks.",
                      "offset": 0,
                      "length": 111
                    }
                  ],
                  "5": []
                },
                {
                  "0": "Great place to have a couple drinks and watch any and all sporting events as the walls are covered with TV's.",
                  "1": "positive",
                  "3": {
                    "positive": 1,
                    "neutral": 0,
                    "negative": 0
                  },
                  "4": [
                    {
                      "sentiment": "positive",
                      "confidenceScores": {
                        "positive": 1,
                        "neutral": 0,
                        "negative": 0
                      },
                      "text": "Great place to have a couple drinks and watch any and all sporting events as the walls are covered with TV's.",
                      "offset": 0,
                      "length": 109
                    }
                  ],
                  "5": []
                },
                {
                  "0": "If it were possible to give them zero stars, they'd have it.",
                  "1": "neutral",
                  "3": {
                    "positive": 0.01,
                    "neutral": 0.91,
                    "negative": 0.08
                  },
                  "4": [
                    {
                      "sentiment": "neutral",
                      "confidenceScores": {
                        "positive": 0.01,
                        "neutral": 0.91,
                        "negative": 0.08
                      },
                      "text": "If it were possible to give them zero stars, they'd have it.",
                      "offset": 0,
                      "length": 60
                    }
                  ],
                  "5": []
                },
                {
                  "0": "\"The descriptions said \"\"yum yum sauce\"\" and another said \"\"eel sauce\"\", yet another said \"\"spicy mayo\"\"...well NONE of the rolls had sauces on them.\"",
                  "1": "negative",
                  "3": {
                    "positive": 0.06,
                    "neutral": 0.25,
                    "negative": 0.69
                  },
                  "4": [
                    {
                      "sentiment": "negative",
                      "confidenceScores": {
                        "positive": 0.06,
                        "neutral": 0.25,
                        "negative": 0.69
                      },
                      "text": "\"The descriptions said \"\"yum yum sauce\"\" and another said \"\"eel sauce\"\", yet another said \"\"spicy mayo\"\"...",
                      "offset": 0,
                      "length": 107
                    },
                    {
                      "sentiment": "neutral",
                      "confidenceScores": {
                        "positive": 0.04,
                        "neutral": 0.49,
                        "negative": 0.47
                      },
                      "text": "well NONE of the rolls had sauces on them.\"",
                      "offset": 107,
                      "length": 43
                    }
                  ],
                  "5": []
                },
                {
                  "0": "I'd say that would be the hardest decision... Honestly, all of M's dishes taste how they are supposed to taste (amazing).",
                  "1": "mixed",
                  "3": {
                    "positive": 0.5,
                    "neutral": 0.04,
                    "negative": 0.46
                  },
                  "4": [
                    {
                      "sentiment": "negative",
                      "confidenceScores": {
                        "positive": 0.02,
                        "neutral": 0.08,
                        "negative": 0.91
                      },
                      "text": "I'd say that would be the hardest decision... ",
                      "offset": 0,
                      "length": 46
                    },
                    {
                      "sentiment": "positive",
                      "confidenceScores": {
                        "positive": 0.98,
                        "neutral": 0.01,
                        "negative": 0.01
                      },
                      "text": "Honestly, all of M's dishes taste how they are supposed to taste (amazing).",
                      "offset": 46,
                      "length": 75
                    }
                  ],
                  "5": []
                },
                {
                  "0": "If she had not rolled the eyes we may have stayed... Not sure if we will go back and try it again.",
                  "1": "neutral",
                  "3": {
                    "positive": 0.06,
                    "neutral": 0.57,
                    "negative": 0.37
                  },
                  "4": [
                    {
                      "sentiment": "neutral",
                      "confidenceScores": {
                        "positive": 0.09,
                        "neutral": 0.47,
                        "negative": 0.43
                      },
                      "text": "If she had not rolled the eyes we may have stayed... ",
                      "offset": 0,
                      "length": 53
                    },
                    {
                      "sentiment": "neutral",
                      "confidenceScores": {
                        "positive": 0.02,
                        "neutral": 0.67,
                        "negative": 0.3
                      },
                      "text": "Not sure if we will go back and try it again.",
                      "offset": 53,
                      "length": 45
                    }
                  ],
                  "5": []
                },
                {
                  "0": "Everyone is very attentive, providing excellent customer service.",
                  "1": "positive",
                  "3": {
                    "positive": 1,
                    "neutral": 0,
                    "negative": 0
                  },
                  "4": [
                    {
                      "sentiment": "positive",
                      "confidenceScores": {
                        "positive": 1,
                        "neutral": 0,
                        "negative": 0
                      },
                      "text": "Everyone is very attentive, providing excellent customer service.",
                      "offset": 0,
                      "length": 65
                    }
                  ],
                  "5": []
                },
                {
                  "0": "Horrible - don't waste your time and money.",
                  "1": "negative",
                  "3": {
                    "positive": 0.01,
                    "neutral": 0,
                    "negative": 0.99
                  },
                  "4": [
                    {
                      "sentiment": "negative",
                      "confidenceScores": {
                        "positive": 0.01,
                        "neutral": 0,
                        "negative": 0.99
                      },
                      "text": "Horrible - don't waste your time and money.",
                      "offset": 0,
                      "length": 43
                    }
                  ],
                  "5": []
                },
                {
                  "0": "Now this dish was quite flavourful.",
                  "1": "positive",
                  "3": {
                    "positive": 0.95,
                    "neutral": 0.03,
                    "negative": 0.02
                  },
                  "4": [
                    {
                      "sentiment": "positive",
                      "confidenceScores": {
                        "positive": 0.95,
                        "neutral": 0.03,
                        "negative": 0.02
                      },
                      "text": "Now this dish was quite flavourful.",
                      "offset": 0,
                      "length": 35
                    }
                  ],
                  "5": []
                },
                {
                  "0": "By this time our side of the restaurant was almost empty so there was no excuse.",
                  "1": "negative",
                  "3": {
                    "positive": 0.03,
                    "neutral": 0.16,
                    "negative": 0.81
                  },
                  "4": [
                    {
                      "sentiment": "negative",
                      "confidenceScores": {
                        "positive": 0.03,
                        "neutral": 0.16,
                        "negative": 0.81
                      },
                      "text": "By this time our side of the restaurant was almost empty so there was no excuse.",
                      "offset": 0,
                      "length": 80
                    }
                  ],
                  "5": []
                },
                {
                  "0": "(It wasn't busy either) Also, the building was FREEZING cold.",
                  "1": "negative",
                  "3": {
                    "positive": 0.01,
                    "neutral": 0.06,
                    "negative": 0.93
                  },
                  "4": [
                    {
                      "sentiment": "neutral",
                      "confidenceScores": {
                        "positive": 0.09,
                        "neutral": 0.64,
                        "negative": 0.28
                      },
                      "text": "(It wasn't busy either) ",
                      "offset": 0,
                      "length": 24
                    },
                    {
                      "sentiment": "negative",
                      "confidenceScores": {
                        "positive": 0.01,
                        "neutral": 0.06,
                        "negative": 0.93
                      },
                      "text": "Also, the building was FREEZING cold.",
                      "offset": 24,
                      "length": 37
                    }
                  ],
                  "5": []
                },
                {
                  "0": "\"like the other reviewer said \"\"you couldn't pay me to eat at this place again.\"\"\"",
                  "1": "negative",
                  "3": {
                    "positive": 0.02,
                    "neutral": 0.01,
                    "negative": 0.97
                  },
                  "4": [
                    {
                      "sentiment": "negative",
                      "confidenceScores": {
                        "positive": 0.02,
                        "neutral": 0.01,
                        "negative": 0.97
                      },
                      "text": "\"like the other reviewer said \"\"you couldn't pay me to eat at this place again.\"\"\"",
                      "offset": 0,
                      "length": 82
                    }
                  ],
                  "5": []
                },
                {
                  "0": "-Drinks took close to 30 minutes to come out at one point.",
                  "1": "neutral",
                  "3": {
                    "positive": 0.01,
                    "neutral": 0.95,
                    "negative": 0.04
                  },
                  "4": [
                    {
                      "sentiment": "neutral",
                      "confidenceScores": {
                        "positive": 0.01,
                        "neutral": 0.95,
                        "negative": 0.04
                      },
                      "text": "-Drinks took close to 30 minutes to come out at one point.",
                      "offset": 0,
                      "length": 58
                    }
                  ],
                  "5": []
                },
                {
                  "0": "Seriously flavorful delights, folks.",
                  "1": "positive",
                  "3": {
                    "positive": 0.99,
                    "neutral": 0,
                    "negative": 0
                  },
                  "4": [
                    {
                      "sentiment": "positive",
                      "confidenceScores": {
                        "positive": 0.99,
                        "neutral": 0,
                        "negative": 0
                      },
                      "text": "Seriously flavorful delights, folks.",
                      "offset": 0,
                      "length": 36
                    }
                  ],
                  "5": []
                },
                {
                  "0": "Much better than the other AYCE sushi place I went to in Vegas.",
                  "1": "positive",
                  "3": {
                    "positive": 0.99,
                    "neutral": 0,
                    "negative": 0.01
                  },
                  "4": [
                    {
                      "sentiment": "positive",
                      "confidenceScores": {
                        "positive": 0.99,
                        "neutral": 0,
                        "negative": 0.01
                      },
                      "text": "Much better than the other AYCE sushi place I went to in Vegas.",
                      "offset": 0,
                      "length": 63
                    }
                  ],
                  "5": []
                },
                {
                  "0": "The lighting is just dark enough to set the mood.",
                  "1": "neutral",
                  "3": {
                    "positive": 0.06,
                    "neutral": 0.71,
                    "negative": 0.23
                  },
                  "4": [
                    {
                      "sentiment": "neutral",
                      "confidenceScores": {
                        "positive": 0.06,
                        "neutral": 0.71,
                        "negative": 0.23
                      },
                      "text": "The lighting is just dark enough to set the mood.",
                      "offset": 0,
                      "length": 49
                    }
                  ],
                  "5": []
                },
                {
                  "0": "Based on the sub-par service I received and no effort to show their gratitude for my business I won't be going back.",
                  "1": "negative",
                  "3": {
                    "positive": 0.01,
                    "neutral": 0,
                    "negative": 0.99
                  },
                  "4": [
                    {
                      "sentiment": "negative",
                      "confidenceScores": {
                        "positive": 0.01,
                        "neutral": 0,
                        "negative": 0.99
                      },
                      "text": "Based on the sub-par service I received and no effort to show their gratitude for my business I won't be going back.",
                      "offset": 0,
                      "length": 116
                    }
                  ],
                  "5": []
                },
                {
                  "0": "Owner's are really great people.!",
                  "1": "positive",
                  "3": {
                    "positive": 1,
                    "neutral": 0,
                    "negative": 0
                  },
                  "4": [
                    {
                      "sentiment": "positive",
                      "confidenceScores": {
                        "positive": 1,
                        "neutral": 0,
                        "negative": 0
                      },
                      "text": "Owner's are really great people.!",
                      "offset": 0,
                      "length": 33
                    }
                  ],
                  "5": []
                },
                {
                  "0": "There is nothing privileged about working/eating there.",
                  "1": "negative",
                  "3": {
                    "positive": 0.15,
                    "neutral": 0.38,
                    "negative": 0.47
                  },
                  "4": [
                    {
                      "sentiment": "negative",
                      "confidenceScores": {
                        "positive": 0.15,
                        "neutral": 0.38,
                        "negative": 0.47
                      },
                      "text": "There is nothing privileged about working/eating there.",
                      "offset": 0,
                      "length": 55
                    }
                  ],
                  "5": []
                },
                {
                  "0": "The Greek dressing was very creamy and flavorful.",
                  "1": "positive",
                  "3": {
                    "positive": 0.9,
                    "neutral": 0.05,
                    "negative": 0.05
                  },
                  "4": [
                    {
                      "sentiment": "positive",
                      "confidenceScores": {
                        "positive": 0.9,
                        "neutral": 0.05,
                        "negative": 0.05
                      },
                      "text": "The Greek dressing was very creamy and flavorful.",
                      "offset": 0,
                      "length": 49
                    }
                  ],
                  "5": []
                },
                {
                  "0": "Overall, I don't think that I would take my parents to this place again because they made most of the similar complaints that I silently felt too.",
                  "1": "negative",
                  "3": {
                    "positive": 0,
                    "neutral": 0.01,
                    "negative": 0.99
                  },
                  "4": [
                    {
                      "sentiment": "negative",
                      "confidenceScores": {
                        "positive": 0,
                        "neutral": 0.01,
                        "negative": 0.99
                      },
                      "text": "Overall, I don't think that I would take my parents to this place again because they made most of the similar complaints that I silently felt too.",
                      "offset": 0,
                      "length": 146
                    }
                  ],
                  "5": []
                },
                {
                  "0": "Now the pizza itself was good the peanut sauce was very tasty.",
                  "1": "positive",
                  "3": {
                    "positive": 0.99,
                    "neutral": 0,
                    "negative": 0
                  },
                  "4": [
                    {
                      "sentiment": "positive",
                      "confidenceScores": {
                        "positive": 0.99,
                        "neutral": 0,
                        "negative": 0
                      },
                      "text": "Now the pizza itself was good the peanut sauce was very tasty.",
                      "offset": 0,
                      "length": 62
                    }
                  ],
                  "5": []
                },
                {
                  "0": "We had 7 at our table and the service was pretty fast.",
                  "1": "positive",
                  "3": {
                    "positive": 0.97,
                    "neutral": 0.02,
                    "negative": 0.01
                  },
                  "4": [
                    {
                      "sentiment": "positive",
                      "confidenceScores": {
                        "positive": 0.97,
                        "neutral": 0.02,
                        "negative": 0.01
                      },
                      "text": "We had 7 at our table and the service was pretty fast.",
                      "offset": 0,
                      "length": 54
                    }
                  ],
                  "5": []
                },
                {
                  "0": "Fantastic service here.",
                  "1": "positive",
                  "3": {
                    "positive": 1,
                    "neutral": 0,
                    "negative": 0
                  },
                  "4": [
                    {
                      "sentiment": "positive",
                      "confidenceScores": {
                        "positive": 1,
                        "neutral": 0,
                        "negative": 0
                      },
                      "text": "Fantastic service here.",
                      "offset": 0,
                      "length": 23
                    }
                  ],
                  "5": []
                },
                {
                  "0": "I as well would've given godfathers zero stars if possible.",
                  "1": "neutral",
                  "3": {
                    "positive": 0.04,
                    "neutral": 0.66,
                    "negative": 0.3
                  },
                  "4": [
                    {
                      "sentiment": "neutral",
                      "confidenceScores": {
                        "positive": 0.04,
                        "neutral": 0.66,
                        "negative": 0.3
                      },
                      "text": "I as well would've given godfathers zero stars if possible.",
                      "offset": 0,
                      "length": 59
                    }
                  ],
                  "5": []
                },
                {
                  "0": "They know how to make them here.",
                  "1": "neutral",
                  "3": {
                    "positive": 0.05,
                    "neutral": 0.94,
                    "negative": 0.01
                  },
                  "4": [
                    {
                      "sentiment": "neutral",
                      "confidenceScores": {
                        "positive": 0.05,
                        "neutral": 0.94,
                        "negative": 0.01
                      },
                      "text": "They know how to make them here.",
                      "offset": 0,
                      "length": 32
                    }
                  ],
                  "5": []
                },
                {
                  "0": "very tough and very short on flavor!",
                  "1": "negative",
                  "3": {
                    "positive": 0.01,
                    "neutral": 0.01,
                    "negative": 0.99
                  },
                  "4": [
                    {
                      "sentiment": "negative",
                      "confidenceScores": {
                        "positive": 0.01,
                        "neutral": 0.01,
                        "negative": 0.99
                      },
                      "text": "very tough and very short on flavor!",
                      "offset": 0,
                      "length": 36
                    }
                  ],
                  "5": []
                },
                {
                  "0": "I hope this place sticks around.",
                  "1": "positive",
                  "3": {
                    "positive": 0.9,
                    "neutral": 0.08,
                    "negative": 0.01
                  },
                  "4": [
                    {
                      "sentiment": "positive",
                      "confidenceScores": {
                        "positive": 0.9,
                        "neutral": 0.08,
                        "negative": 0.01
                      },
                      "text": "I hope this place sticks around.",
                      "offset": 0,
                      "length": 32
                    }
                  ],
                  "5": []
                },
                {
                  "0": "I have been in more than a few bars in Vegas, and do not ever recall being charged for tap water.",
                  "1": "neutral",
                  "3": {
                    "positive": 0.01,
                    "neutral": 0.94,
                    "negative": 0.05
                  },
                  "4": [
                    {
                      "sentiment": "neutral",
                      "confidenceScores": {
                        "positive": 0.01,
                        "neutral": 0.94,
                        "negative": 0.05
                      },
                      "text": "I have been in more than a few bars in Vegas, and do not ever recall being charged for tap water.",
                      "offset": 0,
                      "length": 97
                    }
                  ],
                  "5": []
                },
                {
                  "0": "The restaurant atmosphere was exquisite.",
                  "1": "positive",
                  "3": {
                    "positive": 0.99,
                    "neutral": 0,
                    "negative": 0
                  },
                  "4": [
                    {
                      "sentiment": "positive",
                      "confidenceScores": {
                        "positive": 0.99,
                        "neutral": 0,
                        "negative": 0
                      },
                      "text": "The restaurant atmosphere was exquisite.",
                      "offset": 0,
                      "length": 40
                    }
                  ],
                  "5": []
                },
                {
                  "0": "Good service, very clean, and inexpensive, to boot!",
                  "1": "positive",
                  "3": {
                    "positive": 1,
                    "neutral": 0,
                    "negative": 0
                  },
                  "4": [
                    {
                      "sentiment": "positive",
                      "confidenceScores": {
                        "positive": 1,
                        "neutral": 0,
                        "negative": 0
                      },
                      "text": "Good service, very clean, and inexpensive, to boot!",
                      "offset": 0,
                      "length": 51
                    }
                  ],
                  "5": []
                },
                {
                  "0": "The seafood was fresh and generous in portion.",
                  "1": "positive",
                  "3": {
                    "positive": 0.99,
                    "neutral": 0.01,
                    "negative": 0.01
                  },
                  "4": [
                    {
                      "sentiment": "positive",
                      "confidenceScores": {
                        "positive": 0.99,
                        "neutral": 0.01,
                        "negative": 0.01
                      },
                      "text": "The seafood was fresh and generous in portion.",
                      "offset": 0,
                      "length": 46
                    }
                  ],
                  "5": []
                },
                {
                  "0": "Plus, it's only 8 bucks.",
                  "1": "neutral",
                  "3": {
                    "positive": 0.01,
                    "neutral": 0.96,
                    "negative": 0.03
                  },
                  "4": [
                    {
                      "sentiment": "neutral",
                      "confidenceScores": {
                        "positive": 0.01,
                        "neutral": 0.96,
                        "negative": 0.03
                      },
                      "text": "Plus, it's only 8 bucks.",
                      "offset": 0,
                      "length": 24
                    }
                  ],
                  "5": []
                },
                {
                  "0": "The service was not up to par, either.",
                  "1": "negative",
                  "3": {
                    "positive": 0,
                    "neutral": 0.01,
                    "negative": 0.99
                  },
                  "4": [
                    {
                      "sentiment": "negative",
                      "confidenceScores": {
                        "positive": 0,
                        "neutral": 0.01,
                        "negative": 0.99
                      },
                      "text": "The service was not up to par, either.",
                      "offset": 0,
                      "length": 38
                    }
                  ],
                  "5": []
                },
                {
                  "0": "Thus far, have only visited twice and the food was absolutely delicious each time.",
                  "1": "positive",
                  "3": {
                    "positive": 0.99,
                    "neutral": 0,
                    "negative": 0.01
                  },
                  "4": [
                    {
                      "sentiment": "positive",
                      "confidenceScores": {
                        "positive": 0.99,
                        "neutral": 0,
                        "negative": 0.01
                      },
                      "text": "Thus far, have only visited twice and the food was absolutely delicious each time.",
                      "offset": 0,
                      "length": 82
                    }
                  ],
                  "5": []
                },
                {
                  "0": "Just as good as when I had it more than a year ago!",
                  "1": "positive",
                  "3": {
                    "positive": 1,
                    "neutral": 0,
                    "negative": 0
                  },
                  "4": [
                    {
                      "sentiment": "positive",
                      "confidenceScores": {
                        "positive": 1,
                        "neutral": 0,
                        "negative": 0
                      },
                      "text": "Just as good as when I had it more than a year ago!",
                      "offset": 0,
                      "length": 51
                    }
                  ],
                  "5": []
                },
                {
                  "0": "For a self proclaimed coffee cafe, I was wildly disappointed.",
                  "1": "negative",
                  "3": {
                    "positive": 0,
                    "neutral": 0,
                    "negative": 1
                  },
                  "4": [
                    {
                      "sentiment": "negative",
                      "confidenceScores": {
                        "positive": 0,
                        "neutral": 0,
                        "negative": 1
                      },
                      "text": "For a self proclaimed coffee cafe, I was wildly disappointed.",
                      "offset": 0,
                      "length": 61
                    }
                  ],
                  "5": []
                },
                {
                  "0": "The Veggitarian platter is out of this world!",
                  "1": "neutral",
                  "3": {
                    "positive": 0.07,
                    "neutral": 0.62,
                    "negative": 0.31
                  },
                  "4": [
                    {
                      "sentiment": "neutral",
                      "confidenceScores": {
                        "positive": 0.07,
                        "neutral": 0.62,
                        "negative": 0.31
                      },
                      "text": "The Veggitarian platter is out of this world!",
                      "offset": 0,
                      "length": 45
                    }
                  ],
                  "5": []
                },
                {
                  "0": "You cant go wrong with any of the food here.",
                  "1": "negative",
                  "3": {
                    "positive": 0.43,
                    "neutral": 0.05,
                    "negative": 0.53
                  },
                  "4": [
                    {
                      "sentiment": "negative",
                      "confidenceScores": {
                        "positive": 0.43,
                        "neutral": 0.05,
                        "negative": 0.53
                      },
                      "text": "You cant go wrong with any of the food here.",
                      "offset": 0,
                      "length": 44
                    }
                  ],
                  "5": []
                },
                {
                  "0": "You can't beat that.",
                  "1": "neutral",
                  "3": {
                    "positive": 0.11,
                    "neutral": 0.82,
                    "negative": 0.07
                  },
                  "4": [
                    {
                      "sentiment": "neutral",
                      "confidenceScores": {
                        "positive": 0.11,
                        "neutral": 0.82,
                        "negative": 0.07
                      },
                      "text": "You can't beat that.",
                      "offset": 0,
                      "length": 20
                    }
                  ],
                  "5": []
                },
                {
                  "0": "Stopped by this place while in Madison for the Ironman, very friendly, kind staff.",
                  "1": "positive",
                  "3": {
                    "positive": 0.99,
                    "neutral": 0,
                    "negative": 0
                  },
                  "4": [
                    {
                      "sentiment": "positive",
                      "confidenceScores": {
                        "positive": 0.99,
                        "neutral": 0,
                        "negative": 0
                      },
                      "text": "Stopped by this place while in Madison for the Ironman, very friendly, kind staff.",
                      "offset": 0,
                      "length": 82
                    }
                  ],
                  "5": []
                },
                {
                  "0": "The chefs were friendly and did a good job.",
                  "1": "positive",
                  "3": {
                    "positive": 1,
                    "neutral": 0,
                    "negative": 0
                  },
                  "4": [
                    {
                      "sentiment": "positive",
                      "confidenceScores": {
                        "positive": 1,
                        "neutral": 0,
                        "negative": 0
                      },
                      "text": "The chefs were friendly and did a good job.",
                      "offset": 0,
                      "length": 43
                    }
                  ],
                  "5": []
                },
                {
                  "0": "I've had better, not only from dedicated boba tea spots, but even from Jenni Pho.",
                  "1": "positive",
                  "3": {
                    "positive": 0.93,
                    "neutral": 0.04,
                    "negative": 0.02
                  },
                  "4": [
                    {
                      "sentiment": "positive",
                      "confidenceScores": {
                        "positive": 0.93,
                        "neutral": 0.04,
                        "negative": 0.02
                      },
                      "text": "I've had better, not only from dedicated boba tea spots, but even from Jenni Pho.",
                      "offset": 0,
                      "length": 81
                    }
                  ],
                  "5": []
                },
                {
                  "0": "I liked the patio and the service was outstanding.",
                  "1": "positive",
                  "3": {
                    "positive": 1,
                    "neutral": 0,
                    "negative": 0
                  },
                  "4": [
                    {
                      "sentiment": "positive",
                      "confidenceScores": {
                        "positive": 1,
                        "neutral": 0,
                        "negative": 0
                      },
                      "text": "I liked the patio and the service was outstanding.",
                      "offset": 0,
                      "length": 50
                    }
                  ],
                  "5": []
                },
                {
                  "0": "The goat taco didn't skimp on the meat and wow what FLAVOR!",
                  "1": "positive",
                  "3": {
                    "positive": 0.93,
                    "neutral": 0.02,
                    "negative": 0.06
                  },
                  "4": [
                    {
                      "sentiment": "positive",
                      "confidenceScores": {
                        "positive": 0.93,
                        "neutral": 0.02,
                        "negative": 0.06
                      },
                      "text": "The goat taco didn't skimp on the meat and wow what FLAVOR!",
                      "offset": 0,
                      "length": 59
                    }
                  ],
                  "5": []
                },
                {
                  "0": "I think not again",
                  "1": "neutral",
                  "3": {
                    "positive": 0.03,
                    "neutral": 0.79,
                    "negative": 0.18
                  },
                  "4": [
                    {
                      "sentiment": "neutral",
                      "confidenceScores": {
                        "positive": 0.03,
                        "neutral": 0.79,
                        "negative": 0.18
                      },
                      "text": "I think not again",
                      "offset": 0,
                      "length": 17
                    }
                  ],
                  "5": []
                },
                {
                  "0": "I had the mac salad and it was pretty bland so I will not be getting that again.",
                  "1": "negative",
                  "3": {
                    "positive": 0.01,
                    "neutral": 0.02,
                    "negative": 0.97
                  },
                  "4": [
                    {
                      "sentiment": "negative",
                      "confidenceScores": {
                        "positive": 0.01,
                        "neutral": 0.02,
                        "negative": 0.97
                      },
                      "text": "I had the mac salad and it was pretty bland so I will not be getting that again.",
                      "offset": 0,
                      "length": 80
                    }
                  ],
                  "5": []
                },
                {
                  "0": "I went to Bachi Burger on a friend's recommendation and was not disappointed.",
                  "1": "positive",
                  "3": {
                    "positive": 0.87,
                    "neutral": 0.01,
                    "negative": 0.11
                  },
                  "4": [
                    {
                      "sentiment": "positive",
                      "confidenceScores": {
                        "positive": 0.87,
                        "neutral": 0.01,
                        "negative": 0.11
                      },
                      "text": "I went to Bachi Burger on a friend's recommendation and was not disappointed.",
                      "offset": 0,
                      "length": 77
                    }
                  ],
                  "5": []
                },
                {
                  "0": "Service stinks here!",
                  "1": "negative",
                  "3": {
                    "positive": 0,
                    "neutral": 0,
                    "negative": 0.99
                  },
                  "4": [
                    {
                      "sentiment": "negative",
                      "confidenceScores": {
                        "positive": 0,
                        "neutral": 0,
                        "negative": 0.99
                      },
                      "text": "Service stinks here!",
                      "offset": 0,
                      "length": 20
                    }
                  ],
                  "5": []
                },
                {
                  "0": "I waited and waited.",
                  "1": "neutral",
                  "3": {
                    "positive": 0.04,
                    "neutral": 0.8,
                    "negative": 0.16
                  },
                  "4": [
                    {
                      "sentiment": "neutral",
                      "confidenceScores": {
                        "positive": 0.04,
                        "neutral": 0.8,
                        "negative": 0.16
                      },
                      "text": "I waited and waited.",
                      "offset": 0,
                      "length": 20
                    }
                  ],
                  "5": []
                },
                {
                  "0": "This place is not quality sushi, it is not a quality restaurant.",
                  "1": "negative",
                  "3": {
                    "positive": 0,
                    "neutral": 0,
                    "negative": 0.99
                  },
                  "4": [
                    {
                      "sentiment": "negative",
                      "confidenceScores": {
                        "positive": 0,
                        "neutral": 0,
                        "negative": 0.99
                      },
                      "text": "This place is not quality sushi, it is not a quality restaurant.",
                      "offset": 0,
                      "length": 64
                    }
                  ],
                  "5": []
                },
                {
                  "0": "I would definitely recommend the wings as well as the pizza.",
                  "1": "positive",
                  "3": {
                    "positive": 0.99,
                    "neutral": 0,
                    "negative": 0.01
                  },
                  "4": [
                    {
                      "sentiment": "positive",
                      "confidenceScores": {
                        "positive": 0.99,
                        "neutral": 0,
                        "negative": 0.01
                      },
                      "text": "I would definitely recommend the wings as well as the pizza.",
                      "offset": 0,
                      "length": 60
                    }
                  ],
                  "5": []
                },
                {
                  "0": "Great Pizza and Salads!",
                  "1": "positive",
                  "3": {
                    "positive": 1,
                    "neutral": 0,
                    "negative": 0
                  },
                  "4": [
                    {
                      "sentiment": "positive",
                      "confidenceScores": {
                        "positive": 1,
                        "neutral": 0,
                        "negative": 0
                      },
                      "text": "Great Pizza and Salads!",
                      "offset": 0,
                      "length": 23
                    }
                  ],
                  "5": []
                },
                {
                  "0": "Things that went wrong: - They burned the saganaki.",
                  "1": "negative",
                  "3": {
                    "positive": 0,
                    "neutral": 0.01,
                    "negative": 0.99
                  },
                  "4": [
                    {
                      "sentiment": "negative",
                      "confidenceScores": {
                        "positive": 0,
                        "neutral": 0.01,
                        "negative": 0.99
                      },
                      "text": "Things that went wrong: - They burned the saganaki.",
                      "offset": 0,
                      "length": 51
                    }
                  ],
                  "5": []
                },
                {
                  "0": "We waited an hour for what was a breakfast I could have done 100 times better at home.",
                  "1": "positive",
                  "3": {
                    "positive": 0.95,
                    "neutral": 0.02,
                    "negative": 0.03
                  },
                  "4": [
                    {
                      "sentiment": "positive",
                      "confidenceScores": {
                        "positive": 0.95,
                        "neutral": 0.02,
                        "negative": 0.03
                      },
                      "text": "We waited an hour for what was a breakfast I could have done 100 times better at home.",
                      "offset": 0,
                      "length": 86
                    }
                  ],
                  "5": []
                },
                {
                  "0": "This place is amazing!",
                  "1": "positive",
                  "3": {
                    "positive": 0.99,
                    "neutral": 0,
                    "negative": 0
                  },
                  "4": [
                    {
                      "sentiment": "positive",
                      "confidenceScores": {
                        "positive": 0.99,
                        "neutral": 0,
                        "negative": 0
                      },
                      "text": "This place is amazing!",
                      "offset": 0,
                      "length": 22
                    }
                  ],
                  "5": []
                },
                {
                  "0": "I hate to disagree with my fellow Yelpers, but my husband and I were so disappointed with this place.",
                  "1": "negative",
                  "3": {
                    "positive": 0.01,
                    "neutral": 0,
                    "negative": 0.99
                  },
                  "4": [
                    {
                      "sentiment": "negative",
                      "confidenceScores": {
                        "positive": 0.01,
                        "neutral": 0,
                        "negative": 0.99
                      },
                      "text": "I hate to disagree with my fellow Yelpers, but my husband and I were so disappointed with this place.",
                      "offset": 0,
                      "length": 101
                    }
                  ],
                  "5": []
                },
                {
                  "0": "Waited 2 hours & never got either of our pizzas as many other around us who came in later did!",
                  "1": "negative",
                  "3": {
                    "positive": 0.03,
                    "neutral": 0.01,
                    "negative": 0.96
                  },
                  "4": [
                    {
                      "sentiment": "negative",
                      "confidenceScores": {
                        "positive": 0.03,
                        "neutral": 0.01,
                        "negative": 0.96
                      },
                      "text": "Waited 2 hours & never got either of our pizzas as many other around us who came in later did!",
                      "offset": 0,
                      "length": 94
                    }
                  ],
                  "5": []
                },
                {
                  "0": "Just don't know why they were so slow.",
                  "1": "negative",
                  "3": {
                    "positive": 0.01,
                    "neutral": 0.1,
                    "negative": 0.89
                  },
                  "4": [
                    {
                      "sentiment": "negative",
                      "confidenceScores": {
                        "positive": 0.01,
                        "neutral": 0.1,
                        "negative": 0.89
                      },
                      "text": "Just don't know why they were so slow.",
                      "offset": 0,
                      "length": 38
                    }
                  ],
                  "5": []
                },
                {
                  "0": "The staff is great, the food is delish, and they have an incredible beer selection.",
                  "1": "positive",
                  "3": {
                    "positive": 1,
                    "neutral": 0,
                    "negative": 0
                  },
                  "4": [
                    {
                      "sentiment": "positive",
                      "confidenceScores": {
                        "positive": 1,
                        "neutral": 0,
                        "negative": 0
                      },
                      "text": "The staff is great, the food is delish, and they have an incredible beer selection.",
                      "offset": 0,
                      "length": 83
                    }
                  ],
                  "5": []
                },
                {
                  "0": "I live in the neighborhood so I am disappointed I won't be back here, because it is a convenient location.",
                  "1": "negative",
                  "3": {
                    "positive": 0.23,
                    "neutral": 0.01,
                    "negative": 0.77
                  },
                  "4": [
                    {
                      "sentiment": "negative",
                      "confidenceScores": {
                        "positive": 0.23,
                        "neutral": 0.01,
                        "negative": 0.77
                      },
                      "text": "I live in the neighborhood so I am disappointed I won't be back here, because it is a convenient location.",
                      "offset": 0,
                      "length": 106
                    }
                  ],
                  "5": []
                },
                {
                  "0": "I didn't know pulled pork could be soooo delicious.",
                  "1": "positive",
                  "3": {
                    "positive": 0.85,
                    "neutral": 0.04,
                    "negative": 0.11
                  },
                  "4": [
                    {
                      "sentiment": "positive",
                      "confidenceScores": {
                        "positive": 0.85,
                        "neutral": 0.04,
                        "negative": 0.11
                      },
                      "text": "I didn't know pulled pork could be soooo delicious.",
                      "offset": 0,
                      "length": 51
                    }
                  ],
                  "5": []
                },
                {
                  "0": "You get incredibly fresh fish, prepared with care.",
                  "1": "positive",
                  "3": {
                    "positive": 0.98,
                    "neutral": 0.01,
                    "negative": 0.01
                  },
                  "4": [
                    {
                      "sentiment": "positive",
                      "confidenceScores": {
                        "positive": 0.98,
                        "neutral": 0.01,
                        "negative": 0.01
                      },
                      "text": "You get incredibly fresh fish, prepared with care.",
                      "offset": 0,
                      "length": 50
                    }
                  ],
                  "5": []
                },
                {
                  "0": "Before I go in to why I gave a 1 star rating please know that this was my third time eating at Bachi burger before writing a review.",
                  "1": "negative",
                  "3": {
                    "positive": 0.42,
                    "neutral": 0.07,
                    "negative": 0.51
                  },
                  "4": [
                    {
                      "sentiment": "negative",
                      "confidenceScores": {
                        "positive": 0.42,
                        "neutral": 0.07,
                        "negative": 0.51
                      },
                      "text": "Before I go in to why I gave a 1 star rating please know that this was my third time eating at Bachi burger before writing a review.",
                      "offset": 0,
                      "length": 132
                    }
                  ],
                  "5": []
                },
                {
                  "0": "I love the fact that everything on their menu is worth it.",
                  "1": "positive",
                  "3": {
                    "positive": 0.99,
                    "neutral": 0,
                    "negative": 0
                  },
                  "4": [
                    {
                      "sentiment": "positive",
                      "confidenceScores": {
                        "positive": 0.99,
                        "neutral": 0,
                        "negative": 0
                      },
                      "text": "I love the fact that everything on their menu is worth it.",
                      "offset": 0,
                      "length": 58
                    }
                  ],
                  "5": []
                },
                {
                  "0": "Never again will I be dining at this place!",
                  "1": "negative",
                  "3": {
                    "positive": 0.06,
                    "neutral": 0.17,
                    "negative": 0.77
                  },
                  "4": [
                    {
                      "sentiment": "negative",
                      "confidenceScores": {
                        "positive": 0.06,
                        "neutral": 0.17,
                        "negative": 0.77
                      },
                      "text": "Never again will I be dining at this place!",
                      "offset": 0,
                      "length": 43
                    }
                  ],
                  "5": []
                },
                {
                  "0": "The food was excellent and service was very good.",
                  "1": "positive",
                  "3": {
                    "positive": 1,
                    "neutral": 0,
                    "negative": 0
                  },
                  "4": [
                    {
                      "sentiment": "positive",
                      "confidenceScores": {
                        "positive": 1,
                        "neutral": 0,
                        "negative": 0
                      },
                      "text": "The food was excellent and service was very good.",
                      "offset": 0,
                      "length": 49
                    }
                  ],
                  "5": []
                },
                {
                  "0": "Good beer & drink selection and good food selection.",
                  "1": "positive",
                  "3": {
                    "positive": 1,
                    "neutral": 0,
                    "negative": 0
                  },
                  "4": [
                    {
                      "sentiment": "positive",
                      "confidenceScores": {
                        "positive": 1,
                        "neutral": 0,
                        "negative": 0
                      },
                      "text": "Good beer & drink selection and good food selection.",
                      "offset": 0,
                      "length": 52
                    }
                  ],
                  "5": []
                },
                {
                  "0": "Please stay away from the shrimp stir fried noodles.",
                  "1": "neutral",
                  "3": {
                    "positive": 0.08,
                    "neutral": 0.84,
                    "negative": 0.07
                  },
                  "4": [
                    {
                      "sentiment": "neutral",
                      "confidenceScores": {
                        "positive": 0.08,
                        "neutral": 0.84,
                        "negative": 0.07
                      },
                      "text": "Please stay away from the shrimp stir fried noodles.",
                      "offset": 0,
                      "length": 52
                    }
                  ],
                  "5": []
                },
                {
                  "0": "The potato chip order was sad... I could probably count how many chips were in that box and it was probably around 12.",
                  "1": "negative",
                  "3": {
                    "positive": 0,
                    "neutral": 0,
                    "negative": 0.99
                  },
                  "4": [
                    {
                      "sentiment": "negative",
                      "confidenceScores": {
                        "positive": 0,
                        "neutral": 0,
                        "negative": 0.99
                      },
                      "text": "The potato chip order was sad... ",
                      "offset": 0,
                      "length": 33
                    },
                    {
                      "sentiment": "neutral",
                      "confidenceScores": {
                        "positive": 0.01,
                        "neutral": 0.98,
                        "negative": 0.02
                      },
                      "text": "I could probably count how many chips were in that box and it was probably around 12.",
                      "offset": 33,
                      "length": 85
                    }
                  ],
                  "5": []
                },
                {
                  "0": "Food was really boring.",
                  "1": "negative",
                  "3": {
                    "positive": 0,
                    "neutral": 0,
                    "negative": 0.99
                  },
                  "4": [
                    {
                      "sentiment": "negative",
                      "confidenceScores": {
                        "positive": 0,
                        "neutral": 0,
                        "negative": 0.99
                      },
                      "text": "Food was really boring.",
                      "offset": 0,
                      "length": 23
                    }
                  ],
                  "5": []
                },
                {
                  "0": "Good Service-check!",
                  "1": "positive",
                  "3": {
                    "positive": 1,
                    "neutral": 0,
                    "negative": 0
                  },
                  "4": [
                    {
                      "sentiment": "positive",
                      "confidenceScores": {
                        "positive": 1,
                        "neutral": 0,
                        "negative": 0
                      },
                      "text": "Good Service-check!",
                      "offset": 0,
                      "length": 19
                    }
                  ],
                  "5": []
                },
                {
                  "0": "This greedy corporation will NEVER see another dime from me!",
                  "1": "negative",
                  "3": {
                    "positive": 0.01,
                    "neutral": 0.01,
                    "negative": 0.98
                  },
                  "4": [
                    {
                      "sentiment": "negative",
                      "confidenceScores": {
                        "positive": 0.01,
                        "neutral": 0.01,
                        "negative": 0.98
                      },
                      "text": "This greedy corporation will NEVER see another dime from me!",
                      "offset": 0,
                      "length": 60
                    }
                  ],
                  "5": []
                },
                {
                  "0": "Will never, ever go back.",
                  "1": "neutral",
                  "3": {
                    "positive": 0.03,
                    "neutral": 0.5,
                    "negative": 0.47
                  },
                  "4": [
                    {
                      "sentiment": "neutral",
                      "confidenceScores": {
                        "positive": 0.03,
                        "neutral": 0.5,
                        "negative": 0.47
                      },
                      "text": "Will never, ever go back.",
                      "offset": 0,
                      "length": 25
                    }
                  ],
                  "5": []
                },
                {
                  "0": "As much as I'd like to go back, I can't get passed the atrocious service and will never return.",
                  "1": "negative",
                  "3": {
                    "positive": 0,
                    "neutral": 0,
                    "negative": 0.99
                  },
                  "4": [
                    {
                      "sentiment": "negative",
                      "confidenceScores": {
                        "positive": 0,
                        "neutral": 0,
                        "negative": 0.99
                      },
                      "text": "As much as I'd like to go back, I can't get passed the atrocious service and will never return.",
                      "offset": 0,
                      "length": 95
                    }
                  ],
                  "5": []
                },
                {
                  "0": "In the summer, you can dine in a charming outdoor patio - so very delightful.",
                  "1": "positive",
                  "3": {
                    "positive": 0.99,
                    "neutral": 0,
                    "negative": 0
                  },
                  "4": [
                    {
                      "sentiment": "positive",
                      "confidenceScores": {
                        "positive": 0.99,
                        "neutral": 0,
                        "negative": 0
                      },
                      "text": "In the summer, you can dine in a charming outdoor patio - so very delightful.",
                      "offset": 0,
                      "length": 77
                    }
                  ],
                  "5": []
                },
                {
                  "0": "I did not expect this to be so good!",
                  "1": "negative",
                  "3": {
                    "positive": 0.03,
                    "neutral": 0.01,
                    "negative": 0.96
                  },
                  "4": [
                    {
                      "sentiment": "negative",
                      "confidenceScores": {
                        "positive": 0.03,
                        "neutral": 0.01,
                        "negative": 0.96
                      },
                      "text": "I did not expect this to be so good!",
                      "offset": 0,
                      "length": 36
                    }
                  ],
                  "5": []
                },
                {
                  "0": "Fantastic food!",
                  "1": "positive",
                  "3": {
                    "positive": 1,
                    "neutral": 0,
                    "negative": 0
                  },
                  "4": [
                    {
                      "sentiment": "positive",
                      "confidenceScores": {
                        "positive": 1,
                        "neutral": 0,
                        "negative": 0
                      },
                      "text": "Fantastic food!",
                      "offset": 0,
                      "length": 15
                    }
                  ],
                  "5": []
                },
                {
                  "0": "She ordered a toasted English muffin that came out untoasted.",
                  "1": "negative",
                  "3": {
                    "positive": 0.02,
                    "neutral": 0.19,
                    "negative": 0.79
                  },
                  "4": [
                    {
                      "sentiment": "negative",
                      "confidenceScores": {
                        "positive": 0.02,
                        "neutral": 0.19,
                        "negative": 0.79
                      },
                      "text": "She ordered a toasted English muffin that came out untoasted.",
                      "offset": 0,
                      "length": 61
                    }
                  ],
                  "5": []
                },
                {
                  "0": "The food was very good.",
                  "1": "positive",
                  "3": {
                    "positive": 1,
                    "neutral": 0,
                    "negative": 0
                  },
                  "4": [
                    {
                      "sentiment": "positive",
                      "confidenceScores": {
                        "positive": 1,
                        "neutral": 0,
                        "negative": 0
                      },
                      "text": "The food was very good.",
                      "offset": 0,
                      "length": 23
                    }
                  ],
                  "5": []
                },
                {
                  "0": "Never going back.",
                  "1": "neutral",
                  "3": {
                    "positive": 0.05,
                    "neutral": 0.71,
                    "negative": 0.25
                  },
                  "4": [
                    {
                      "sentiment": "neutral",
                      "confidenceScores": {
                        "positive": 0.05,
                        "neutral": 0.71,
                        "negative": 0.25
                      },
                      "text": "Never going back.",
                      "offset": 0,
                      "length": 17
                    }
                  ],
                  "5": []
                },
                {
                  "0": "Great food for the price, which is very high quality and house made.",
                  "1": "positive",
                  "3": {
                    "positive": 1,
                    "neutral": 0,
                    "negative": 0
                  },
                  "4": [
                    {
                      "sentiment": "positive",
                      "confidenceScores": {
                        "positive": 1,
                        "neutral": 0,
                        "negative": 0
                      },
                      "text": "Great food for the price, which is very high quality and house made.",
                      "offset": 0,
                      "length": 68
                    }
                  ],
                  "5": []
                },
                {
                  "0": "The bus boy on the other hand was so rude.",
                  "1": "negative",
                  "3": {
                    "positive": 0,
                    "neutral": 0,
                    "negative": 0.99
                  },
                  "4": [
                    {
                      "sentiment": "negative",
                      "confidenceScores": {
                        "positive": 0,
                        "neutral": 0,
                        "negative": 0.99
                      },
                      "text": "The bus boy on the other hand was so rude.",
                      "offset": 0,
                      "length": 42
                    }
                  ],
                  "5": []
                },
                {
                  "0": "By this point, my friends and I had basically figured out this place was a joke and didn't mind making it publicly and loudly known.",
                  "1": "negative",
                  "3": {
                    "positive": 0.02,
                    "neutral": 0.02,
                    "negative": 0.96
                  },
                  "4": [
                    {
                      "sentiment": "negative",
                      "confidenceScores": {
                        "positive": 0.02,
                        "neutral": 0.02,
                        "negative": 0.96
                      },
                      "text": "By this point, my friends and I had basically figured out this place was a joke and didn't mind making it publicly and loudly known.",
                      "offset": 0,
                      "length": 132
                    }
                  ],
                  "5": []
                },
                {
                  "0": "Back to good BBQ, lighter fare, reasonable pricing and tell the public they are back to the old ways.",
                  "1": "positive",
                  "3": {
                    "positive": 0.99,
                    "neutral": 0,
                    "negative": 0
                  },
                  "4": [
                    {
                      "sentiment": "positive",
                      "confidenceScores": {
                        "positive": 0.99,
                        "neutral": 0,
                        "negative": 0
                      },
                      "text": "Back to good BBQ, lighter fare, reasonable pricing and tell the public they are back to the old ways.",
                      "offset": 0,
                      "length": 101
                    }
                  ],
                  "5": []
                },
                {
                  "0": "And considering the two of us left there very full and happy for about $20, you just can't go wrong.",
                  "1": "positive",
                  "3": {
                    "positive": 0.9,
                    "neutral": 0.04,
                    "negative": 0.06
                  },
                  "4": [
                    {
                      "sentiment": "positive",
                      "confidenceScores": {
                        "positive": 0.9,
                        "neutral": 0.04,
                        "negative": 0.06
                      },
                      "text": "And considering the two of us left there very full and happy for about $20, you just can't go wrong.",
                      "offset": 0,
                      "length": 100
                    }
                  ],
                  "5": []
                },
                {
                  "0": "All the bread is made in-house!",
                  "1": "neutral",
                  "3": {
                    "positive": 0.11,
                    "neutral": 0.87,
                    "negative": 0.02
                  },
                  "4": [
                    {
                      "sentiment": "neutral",
                      "confidenceScores": {
                        "positive": 0.11,
                        "neutral": 0.87,
                        "negative": 0.02
                      },
                      "text": "All the bread is made in-house!",
                      "offset": 0,
                      "length": 31
                    }
                  ],
                  "5": []
                },
                {
                  "0": "The only downside is the service.",
                  "1": "negative",
                  "3": {
                    "positive": 0.01,
                    "neutral": 0.02,
                    "negative": 0.97
                  },
                  "4": [
                    {
                      "sentiment": "negative",
                      "confidenceScores": {
                        "positive": 0.01,
                        "neutral": 0.02,
                        "negative": 0.97
                      },
                      "text": "The only downside is the service.",
                      "offset": 0,
                      "length": 33
                    }
                  ],
                  "5": []
                },
                {
                  "0": "Also, the fries are without a doubt the worst fries I've ever had.",
                  "1": "negative",
                  "3": {
                    "positive": 0,
                    "neutral": 0,
                    "negative": 0.99
                  },
                  "4": [
                    {
                      "sentiment": "negative",
                      "confidenceScores": {
                        "positive": 0,
                        "neutral": 0,
                        "negative": 0.99
                      },
                      "text": "Also, the fries are without a doubt the worst fries I've ever had.",
                      "offset": 0,
                      "length": 66
                    }
                  ],
                  "5": []
                },
                {
                  "0": "Service was exceptional and food was a good as all the reviews.",
                  "1": "positive",
                  "3": {
                    "positive": 1,
                    "neutral": 0,
                    "negative": 0
                  },
                  "4": [
                    {
                      "sentiment": "positive",
                      "confidenceScores": {
                        "positive": 1,
                        "neutral": 0,
                        "negative": 0
                      },
                      "text": "Service was exceptional and food was a good as all the reviews.",
                      "offset": 0,
                      "length": 63
                    }
                  ],
                  "5": []
                },
                {
                  "0": "A couple of months later, I returned and had an amazing meal.",
                  "1": "positive",
                  "3": {
                    "positive": 0.99,
                    "neutral": 0,
                    "negative": 0
                  },
                  "4": [
                    {
                      "sentiment": "positive",
                      "confidenceScores": {
                        "positive": 0.99,
                        "neutral": 0,
                        "negative": 0
                      },
                      "text": "A couple of months later, I returned and had an amazing meal.",
                      "offset": 0,
                      "length": 61
                    }
                  ],
                  "5": []
                },
                {
                  "0": "Favorite place in town for shawarrrrrrma!!!!!!",
                  "1": "positive",
                  "3": {
                    "positive": 1,
                    "neutral": 0,
                    "negative": 0
                  },
                  "4": [
                    {
                      "sentiment": "positive",
                      "confidenceScores": {
                        "positive": 1,
                        "neutral": 0,
                        "negative": 0
                      },
                      "text": "Favorite place in town for shawarrrrrrma!!!!!!",
                      "offset": 0,
                      "length": 46
                    }
                  ],
                  "5": []
                },
                {
                  "0": "The black eyed peas and sweet potatoes... UNREAL!",
                  "1": "positive",
                  "3": {
                    "positive": 0.92,
                    "neutral": 0.05,
                    "negative": 0.03
                  },
                  "4": [
                    {
                      "sentiment": "neutral",
                      "confidenceScores": {
                        "positive": 0.08,
                        "neutral": 0.54,
                        "negative": 0.38
                      },
                      "text": "The black eyed peas and sweet potatoes... ",
                      "offset": 0,
                      "length": 42
                    },
                    {
                      "sentiment": "positive",
                      "confidenceScores": {
                        "positive": 0.92,
                        "neutral": 0.05,
                        "negative": 0.03
                      },
                      "text": "UNREAL!",
                      "offset": 42,
                      "length": 7
                    }
                  ],
                  "5": []
                },
                {
                  "0": "You won't be disappointed.",
                  "1": "positive",
                  "3": {
                    "positive": 0.74,
                    "neutral": 0.09,
                    "negative": 0.18
                  },
                  "4": [
                    {
                      "sentiment": "positive",
                      "confidenceScores": {
                        "positive": 0.74,
                        "neutral": 0.09,
                        "negative": 0.18
                      },
                      "text": "You won't be disappointed.",
                      "offset": 0,
                      "length": 26
                    }
                  ],
                  "5": []
                },
                {
                  "0": "They could serve it with just the vinaigrette and it may make for a better overall dish, but it was still very good.",
                  "1": "positive",
                  "3": {
                    "positive": 0.99,
                    "neutral": 0,
                    "negative": 0.01
                  },
                  "4": [
                    {
                      "sentiment": "positive",
                      "confidenceScores": {
                        "positive": 0.99,
                        "neutral": 0,
                        "negative": 0.01
                      },
                      "text": "They could serve it with just the vinaigrette and it may make for a better overall dish, but it was still very good.",
                      "offset": 0,
                      "length": 116
                    }
                  ],
                  "5": []
                },
                {
                  "0": "I go to far too many places and I've never seen any restaurant that serves a 1 egg breakfast, especially for $4.00.",
                  "1": "negative",
                  "3": {
                    "positive": 0.08,
                    "neutral": 0.28,
                    "negative": 0.65
                  },
                  "4": [
                    {
                      "sentiment": "negative",
                      "confidenceScores": {
                        "positive": 0.08,
                        "neutral": 0.28,
                        "negative": 0.65
                      },
                      "text": "I go to far too many places and I've never seen any restaurant that serves a 1 egg breakfast, especially for $4.00.",
                      "offset": 0,
                      "length": 115
                    }
                  ],
                  "5": []
                },
                {
                  "0": "When my mom and I got home she immediately got sick and she only had a few bites of salad.",
                  "1": "negative",
                  "3": {
                    "positive": 0,
                    "neutral": 0.01,
                    "negative": 0.99
                  },
                  "4": [
                    {
                      "sentiment": "negative",
                      "confidenceScores": {
                        "positive": 0,
                        "neutral": 0.01,
                        "negative": 0.99
                      },
                      "text": "When my mom and I got home she immediately got sick and she only had a few bites of salad.",
                      "offset": 0,
                      "length": 90
                    }
                  ],
                  "5": []
                },
                {
                  "0": "The servers are not pleasant to deal with and they don't always honor Pizza Hut coupons.",
                  "1": "negative",
                  "3": {
                    "positive": 0,
                    "neutral": 0,
                    "negative": 1
                  },
                  "4": [
                    {
                      "sentiment": "negative",
                      "confidenceScores": {
                        "positive": 0,
                        "neutral": 0,
                        "negative": 1
                      },
                      "text": "The servers are not pleasant to deal with and they don't always honor Pizza Hut coupons.",
                      "offset": 0,
                      "length": 88
                    }
                  ],
                  "5": []
                },
                {
                  "0": "Both of them were truly unbelievably good, and I am so glad we went back.",
                  "1": "positive",
                  "3": {
                    "positive": 1,
                    "neutral": 0,
                    "negative": 0
                  },
                  "4": [
                    {
                      "sentiment": "positive",
                      "confidenceScores": {
                        "positive": 1,
                        "neutral": 0,
                        "negative": 0
                      },
                      "text": "Both of them were truly unbelievably good, and I am so glad we went back.",
                      "offset": 0,
                      "length": 73
                    }
                  ],
                  "5": []
                },
                {
                  "0": "We had fantastic service, and were pleased by the atmosphere.",
                  "1": "positive",
                  "3": {
                    "positive": 1,
                    "neutral": 0,
                    "negative": 0
                  },
                  "4": [
                    {
                      "sentiment": "positive",
                      "confidenceScores": {
                        "positive": 1,
                        "neutral": 0,
                        "negative": 0
                      },
                      "text": "We had fantastic service, and were pleased by the atmosphere.",
                      "offset": 0,
                      "length": 61
                    }
                  ],
                  "5": []
                },
                {
                  "0": "Everything was gross.",
                  "1": "negative",
                  "3": {
                    "positive": 0,
                    "neutral": 0,
                    "negative": 0.99
                  },
                  "4": [
                    {
                      "sentiment": "negative",
                      "confidenceScores": {
                        "positive": 0,
                        "neutral": 0,
                        "negative": 0.99
                      },
                      "text": "Everything was gross.",
                      "offset": 0,
                      "length": 21
                    }
                  ],
                  "5": []
                },
                {
                  "0": "I love this place.",
                  "1": "positive",
                  "3": {
                    "positive": 1,
                    "neutral": 0,
                    "negative": 0
                  },
                  "4": [
                    {
                      "sentiment": "positive",
                      "confidenceScores": {
                        "positive": 1,
                        "neutral": 0,
                        "negative": 0
                      },
                      "text": "I love this place.",
                      "offset": 0,
                      "length": 18
                    }
                  ],
                  "5": []
                },
                {
                  "0": "Great service and food.",
                  "1": "positive",
                  "3": {
                    "positive": 1,
                    "neutral": 0,
                    "negative": 0
                  },
                  "4": [
                    {
                      "sentiment": "positive",
                      "confidenceScores": {
                        "positive": 1,
                        "neutral": 0,
                        "negative": 0
                      },
                      "text": "Great service and food.",
                      "offset": 0,
                      "length": 23
                    }
                  ],
                  "5": []
                },
                {
                  "0": "First - the bathrooms at this location were dirty- Seat covers were not replenished & just plain yucky!!!",
                  "1": "negative",
                  "3": {
                    "positive": 0,
                    "neutral": 0,
                    "negative": 0.99
                  },
                  "4": [
                    {
                      "sentiment": "negative",
                      "confidenceScores": {
                        "positive": 0,
                        "neutral": 0,
                        "negative": 0.99
                      },
                      "text": "First - the bathrooms at this location were dirty- Seat covers were not replenished & just plain yucky!!!",
                      "offset": 0,
                      "length": 105
                    }
                  ],
                  "5": []
                },
                {
                  "0": "\"The burger... I got the \"\"Gold Standard\"\" a $17 burger and was kind of disappointed.\"",
                  "1": "negative",
                  "3": {
                    "positive": 0,
                    "neutral": 0,
                    "negative": 0.99
                  },
                  "4": [
                    {
                      "sentiment": "neutral",
                      "confidenceScores": {
                        "positive": 0.07,
                        "neutral": 0.77,
                        "negative": 0.15
                      },
                      "text": "\"The burger... ",
                      "offset": 0,
                      "length": 15
                    },
                    {
                      "sentiment": "negative",
                      "confidenceScores": {
                        "positive": 0,
                        "neutral": 0,
                        "negative": 0.99
                      },
                      "text": "I got the \"\"Gold Standard\"\" a $17 burger and was kind of disappointed.\"",
                      "offset": 15,
                      "length": 71
                    }
                  ],
                  "5": []
                },
                {
                  "0": "OMG, the food was delicioso!",
                  "1": "positive",
                  "3": {
                    "positive": 0.99,
                    "neutral": 0,
                    "negative": 0.01
                  },
                  "4": [
                    {
                      "sentiment": "positive",
                      "confidenceScores": {
                        "positive": 0.99,
                        "neutral": 0,
                        "negative": 0.01
                      },
                      "text": "OMG, the food was delicioso!",
                      "offset": 0,
                      "length": 28
                    }
                  ],
                  "5": []
                },
                {
                  "0": "There is nothing authentic about this place.",
                  "1": "negative",
                  "3": {
                    "positive": 0.01,
                    "neutral": 0.04,
                    "negative": 0.94
                  },
                  "4": [
                    {
                      "sentiment": "negative",
                      "confidenceScores": {
                        "positive": 0.01,
                        "neutral": 0.04,
                        "negative": 0.94
                      },
                      "text": "There is nothing authentic about this place.",
                      "offset": 0,
                      "length": 44
                    }
                  ],
                  "5": []
                },
                {
                  "0": "the spaghetti is nothing special whatsoever.",
                  "1": "neutral",
                  "3": {
                    "positive": 0.07,
                    "neutral": 0.62,
                    "negative": 0.31
                  },
                  "4": [
                    {
                      "sentiment": "neutral",
                      "confidenceScores": {
                        "positive": 0.07,
                        "neutral": 0.62,
                        "negative": 0.31
                      },
                      "text": "the spaghetti is nothing special whatsoever.",
                      "offset": 0,
                      "length": 44
                    }
                  ],
                  "5": []
                },
                {
                  "0": "Of all the dishes, the salmon was the best, but all were great.",
                  "1": "positive",
                  "3": {
                    "positive": 0.99,
                    "neutral": 0,
                    "negative": 0.01
                  },
                  "4": [
                    {
                      "sentiment": "positive",
                      "confidenceScores": {
                        "positive": 0.99,
                        "neutral": 0,
                        "negative": 0.01
                      },
                      "text": "Of all the dishes, the salmon was the best, but all were great.",
                      "offset": 0,
                      "length": 63
                    }
                  ],
                  "5": []
                },
                {
                  "0": "The vegetables are so fresh and the sauce feels like authentic Thai.",
                  "1": "positive",
                  "3": {
                    "positive": 0.92,
                    "neutral": 0.06,
                    "negative": 0.02
                  },
                  "4": [
                    {
                      "sentiment": "positive",
                      "confidenceScores": {
                        "positive": 0.92,
                        "neutral": 0.06,
                        "negative": 0.02
                      },
                      "text": "The vegetables are so fresh and the sauce feels like authentic Thai.",
                      "offset": 0,
                      "length": 68
                    }
                  ],
                  "5": []
                },
                {
                  "0": "It's worth driving up from Tucson!",
                  "1": "positive",
                  "3": {
                    "positive": 0.98,
                    "neutral": 0.01,
                    "negative": 0.01
                  },
                  "4": [
                    {
                      "sentiment": "positive",
                      "confidenceScores": {
                        "positive": 0.98,
                        "neutral": 0.01,
                        "negative": 0.01
                      },
                      "text": "It's worth driving up from Tucson!",
                      "offset": 0,
                      "length": 34
                    }
                  ],
                  "5": []
                },
                {
                  "0": "The selection was probably the worst I've seen in Vegas.....there was none.",
                  "1": "negative",
                  "3": {
                    "positive": 0.01,
                    "neutral": 0,
                    "negative": 0.99
                  },
                  "4": [
                    {
                      "sentiment": "negative",
                      "confidenceScores": {
                        "positive": 0.01,
                        "neutral": 0,
                        "negative": 0.99
                      },
                      "text": "The selection was probably the worst I've seen in Vegas.....",
                      "offset": 0,
                      "length": 60
                    },
                    {
                      "sentiment": "neutral",
                      "confidenceScores": {
                        "positive": 0.02,
                        "neutral": 0.61,
                        "negative": 0.37
                      },
                      "text": "there was none.",
                      "offset": 60,
                      "length": 15
                    }
                  ],
                  "5": []
                },
                {
                  "0": "Pretty good beer selection too.",
                  "1": "positive",
                  "3": {
                    "positive": 1,
                    "neutral": 0,
                    "negative": 0
                  },
                  "4": [
                    {
                      "sentiment": "positive",
                      "confidenceScores": {
                        "positive": 1,
                        "neutral": 0,
                        "negative": 0
                      },
                      "text": "Pretty good beer selection too.",
                      "offset": 0,
                      "length": 31
                    }
                  ],
                  "5": []
                },
                {
                  "0": "This place is like Chipotle, but BETTER.",
                  "1": "positive",
                  "3": {
                    "positive": 0.98,
                    "neutral": 0.01,
                    "negative": 0.01
                  },
                  "4": [
                    {
                      "sentiment": "positive",
                      "confidenceScores": {
                        "positive": 0.98,
                        "neutral": 0.01,
                        "negative": 0.01
                      },
                      "text": "This place is like Chipotle, but BETTER.",
                      "offset": 0,
                      "length": 40
                    }
                  ],
                  "5": []
                },
                {
                  "0": "Classy/warm atmosphere, fun and fresh appetizers, succulent steaks (Baseball steak!!!!!",
                  "1": "positive",
                  "3": {
                    "positive": 0.99,
                    "neutral": 0,
                    "negative": 0
                  },
                  "4": [
                    {
                      "sentiment": "positive",
                      "confidenceScores": {
                        "positive": 0.99,
                        "neutral": 0,
                        "negative": 0
                      },
                      "text": "Classy/warm atmosphere, fun and fresh appetizers, succulent steaks (Baseball steak!!!!!",
                      "offset": 0,
                      "length": 87
                    }
                  ],
                  "5": []
                },
                {
                  "0": "5 stars for the brick oven bread app!",
                  "1": "positive",
                  "3": {
                    "positive": 0.96,
                    "neutral": 0.03,
                    "negative": 0.01
                  },
                  "4": [
                    {
                      "sentiment": "positive",
                      "confidenceScores": {
                        "positive": 0.96,
                        "neutral": 0.03,
                        "negative": 0.01
                      },
                      "text": "5 stars for the brick oven bread app!",
                      "offset": 0,
                      "length": 37
                    }
                  ],
                  "5": []
                },
                {
                  "0": "I have eaten here multiple times, and each time the food was delicious.",
                  "1": "positive",
                  "3": {
                    "positive": 0.99,
                    "neutral": 0,
                    "negative": 0.01
                  },
                  "4": [
                    {
                      "sentiment": "positive",
                      "confidenceScores": {
                        "positive": 0.99,
                        "neutral": 0,
                        "negative": 0.01
                      },
                      "text": "I have eaten here multiple times, and each time the food was delicious.",
                      "offset": 0,
                      "length": 71
                    }
                  ],
                  "5": []
                },
                {
                  "0": "We sat another ten minutes and finally gave up and left.",
                  "1": "negative",
                  "3": {
                    "positive": 0.01,
                    "neutral": 0.24,
                    "negative": 0.75
                  },
                  "4": [
                    {
                      "sentiment": "negative",
                      "confidenceScores": {
                        "positive": 0.01,
                        "neutral": 0.24,
                        "negative": 0.75
                      },
                      "text": "We sat another ten minutes and finally gave up and left.",
                      "offset": 0,
                      "length": 56
                    }
                  ],
                  "5": []
                },
                {
                  "0": "He was terrible!",
                  "1": "negative",
                  "3": {
                    "positive": 0.01,
                    "neutral": 0,
                    "negative": 0.98
                  },
                  "4": [
                    {
                      "sentiment": "negative",
                      "confidenceScores": {
                        "positive": 0.01,
                        "neutral": 0,
                        "negative": 0.98
                      },
                      "text": "He was terrible!",
                      "offset": 0,
                      "length": 16
                    }
                  ],
                  "5": []
                },
                {
                  "0": "Everyone is treated equally special.",
                  "1": "positive",
                  "3": {
                    "positive": 0.77,
                    "neutral": 0.2,
                    "negative": 0.03
                  },
                  "4": [
                    {
                      "sentiment": "positive",
                      "confidenceScores": {
                        "positive": 0.77,
                        "neutral": 0.2,
                        "negative": 0.03
                      },
                      "text": "Everyone is treated equally special.",
                      "offset": 0,
                      "length": 36
                    }
                  ],
                  "5": []
                },
                {
                  "0": "It shouldn't take 30 min for pancakes and eggs.",
                  "1": "neutral",
                  "3": {
                    "positive": 0.04,
                    "neutral": 0.91,
                    "negative": 0.05
                  },
                  "4": [
                    {
                      "sentiment": "neutral",
                      "confidenceScores": {
                        "positive": 0.04,
                        "neutral": 0.91,
                        "negative": 0.05
                      },
                      "text": "It shouldn't take 30 min for pancakes and eggs.",
                      "offset": 0,
                      "length": 47
                    }
                  ],
                  "5": []
                },
                {
                  "0": "It was delicious!!!",
                  "1": "positive",
                  "3": {
                    "positive": 0.99,
                    "neutral": 0,
                    "negative": 0
                  },
                  "4": [
                    {
                      "sentiment": "positive",
                      "confidenceScores": {
                        "positive": 0.99,
                        "neutral": 0,
                        "negative": 0
                      },
                      "text": "It was delicious!!!",
                      "offset": 0,
                      "length": 19
                    }
                  ],
                  "5": []
                },
                {
                  "0": "On the good side, the staff was genuinely pleasant and enthusiastic - a real treat.",
                  "1": "positive",
                  "3": {
                    "positive": 1,
                    "neutral": 0,
                    "negative": 0
                  },
                  "4": [
                    {
                      "sentiment": "positive",
                      "confidenceScores": {
                        "positive": 1,
                        "neutral": 0,
                        "negative": 0
                      },
                      "text": "On the good side, the staff was genuinely pleasant and enthusiastic - a real treat.",
                      "offset": 0,
                      "length": 83
                    }
                  ],
                  "5": []
                },
                {
                  "0": "Sadly, Gordon Ramsey's Steak is a place we shall sharply avoid during our next trip to Vegas.",
                  "1": "negative",
                  "3": {
                    "positive": 0,
                    "neutral": 0,
                    "negative": 0.99
                  },
                  "4": [
                    {
                      "sentiment": "negative",
                      "confidenceScores": {
                        "positive": 0,
                        "neutral": 0,
                        "negative": 0.99
                      },
                      "text": "Sadly, Gordon Ramsey's Steak is a place we shall sharply avoid during our next trip to Vegas.",
                      "offset": 0,
                      "length": 93
                    }
                  ],
                  "5": []
                },
                {
                  "0": "As always the evening was wonderful and the food delicious!",
                  "1": "positive",
                  "3": {
                    "positive": 1,
                    "neutral": 0,
                    "negative": 0
                  },
                  "4": [
                    {
                      "sentiment": "positive",
                      "confidenceScores": {
                        "positive": 1,
                        "neutral": 0,
                        "negative": 0
                      },
                      "text": "As always the evening was wonderful and the food delicious!",
                      "offset": 0,
                      "length": 59
                    }
                  ],
                  "5": []
                },
                {
                  "0": "Best fish I've ever had in my life!",
                  "1": "positive",
                  "3": {
                    "positive": 1,
                    "neutral": 0,
                    "negative": 0
                  },
                  "4": [
                    {
                      "sentiment": "positive",
                      "confidenceScores": {
                        "positive": 1,
                        "neutral": 0,
                        "negative": 0
                      },
                      "text": "Best fish I've ever had in my life!",
                      "offset": 0,
                      "length": 35
                    }
                  ],
                  "5": []
                },
                {
                  "0": "(The bathroom is just next door and very nice.)",
                  "1": "positive",
                  "3": {
                    "positive": 0.99,
                    "neutral": 0.01,
                    "negative": 0
                  },
                  "4": [
                    {
                      "sentiment": "positive",
                      "confidenceScores": {
                        "positive": 0.99,
                        "neutral": 0.01,
                        "negative": 0
                      },
                      "text": "(The bathroom is just next door and very nice.)",
                      "offset": 0,
                      "length": 47
                    }
                  ],
                  "5": []
                },
                {
                  "0": "The buffet is small and all the food they offered was BLAND.",
                  "1": "negative",
                  "3": {
                    "positive": 0.01,
                    "neutral": 0.01,
                    "negative": 0.98
                  },
                  "4": [
                    {
                      "sentiment": "negative",
                      "confidenceScores": {
                        "positive": 0.01,
                        "neutral": 0.01,
                        "negative": 0.98
                      },
                      "text": "The buffet is small and all the food they offered was BLAND.",
                      "offset": 0,
                      "length": 60
                    }
                  ],
                  "5": []
                },
                {
                  "0": "This is an Outstanding little restaurant with some of the Best Food I have ever tasted.",
                  "1": "positive",
                  "3": {
                    "positive": 1,
                    "neutral": 0,
                    "negative": 0
                  },
                  "4": [
                    {
                      "sentiment": "positive",
                      "confidenceScores": {
                        "positive": 1,
                        "neutral": 0,
                        "negative": 0
                      },
                      "text": "This is an Outstanding little restaurant with some of the Best Food I have ever tasted.",
                      "offset": 0,
                      "length": 87
                    }
                  ],
                  "5": []
                },
                {
                  "0": "Pretty cool I would say.",
                  "1": "positive",
                  "3": {
                    "positive": 0.99,
                    "neutral": 0.01,
                    "negative": 0
                  },
                  "4": [
                    {
                      "sentiment": "positive",
                      "confidenceScores": {
                        "positive": 0.99,
                        "neutral": 0.01,
                        "negative": 0
                      },
                      "text": "Pretty cool I would say.",
                      "offset": 0,
                      "length": 24
                    }
                  ],
                  "5": []
                },
                {
                  "0": "Definitely a turn off for me & i doubt I'll be back unless someone else is buying.",
                  "1": "negative",
                  "3": {
                    "positive": 0.02,
                    "neutral": 0.22,
                    "negative": 0.76
                  },
                  "4": [
                    {
                      "sentiment": "negative",
                      "confidenceScores": {
                        "positive": 0.02,
                        "neutral": 0.22,
                        "negative": 0.76
                      },
                      "text": "Definitely a turn off for me & i doubt I'll be back unless someone else is buying.",
                      "offset": 0,
                      "length": 82
                    }
                  ],
                  "5": []
                },
                {
                  "0": "Server did a great job handling our large rowdy table.",
                  "1": "positive",
                  "3": {
                    "positive": 1,
                    "neutral": 0,
                    "negative": 0
                  },
                  "4": [
                    {
                      "sentiment": "positive",
                      "confidenceScores": {
                        "positive": 1,
                        "neutral": 0,
                        "negative": 0
                      },
                      "text": "Server did a great job handling our large rowdy table.",
                      "offset": 0,
                      "length": 54
                    }
                  ],
                  "5": []
                },
                {
                  "0": "I find wasting food to be despicable, but this just wasn't food.",
                  "1": "negative",
                  "3": {
                    "positive": 0.01,
                    "neutral": 0,
                    "negative": 0.99
                  },
                  "4": [
                    {
                      "sentiment": "negative",
                      "confidenceScores": {
                        "positive": 0.01,
                        "neutral": 0,
                        "negative": 0.99
                      },
                      "text": "I find wasting food to be despicable, but this just wasn't food.",
                      "offset": 0,
                      "length": 64
                    }
                  ],
                  "5": []
                },
                {
                  "0": "My wife had the Lobster Bisque soup which was lukewarm.",
                  "1": "neutral",
                  "3": {
                    "positive": 0.07,
                    "neutral": 0.79,
                    "negative": 0.15
                  },
                  "4": [
                    {
                      "sentiment": "neutral",
                      "confidenceScores": {
                        "positive": 0.07,
                        "neutral": 0.79,
                        "negative": 0.15
                      },
                      "text": "My wife had the Lobster Bisque soup which was lukewarm.",
                      "offset": 0,
                      "length": 55
                    }
                  ],
                  "5": []
                },
                {
                  "0": "Would come back again if I had a sushi craving while in Vegas.",
                  "1": "positive",
                  "3": {
                    "positive": 0.74,
                    "neutral": 0.16,
                    "negative": 0.1
                  },
                  "4": [
                    {
                      "sentiment": "positive",
                      "confidenceScores": {
                        "positive": 0.74,
                        "neutral": 0.16,
                        "negative": 0.1
                      },
                      "text": "Would come back again if I had a sushi craving while in Vegas.",
                      "offset": 0,
                      "length": 62
                    }
                  ],
                  "5": []
                },
                {
                  "0": "The staff are great, the ambiance is great.",
                  "1": "positive",
                  "3": {
                    "positive": 1,
                    "neutral": 0,
                    "negative": 0
                  },
                  "4": [
                    {
                      "sentiment": "positive",
                      "confidenceScores": {
                        "positive": 1,
                        "neutral": 0,
                        "negative": 0
                      },
                      "text": "The staff are great, the ambiance is great.",
                      "offset": 0,
                      "length": 43
                    }
                  ],
                  "5": []
                },
                {
                  "0": "He deserves 5 stars.",
                  "1": "positive",
                  "3": {
                    "positive": 0.84,
                    "neutral": 0.12,
                    "negative": 0.05
                  },
                  "4": [
                    {
                      "sentiment": "positive",
                      "confidenceScores": {
                        "positive": 0.84,
                        "neutral": 0.12,
                        "negative": 0.05
                      },
                      "text": "He deserves 5 stars.",
                      "offset": 0,
                      "length": 20
                    }
                  ],
                  "5": []
                },
                {
                  "0": "I left with a stomach ache and felt sick the rest of the day.",
                  "1": "negative",
                  "3": {
                    "positive": 0,
                    "neutral": 0.01,
                    "negative": 0.99
                  },
                  "4": [
                    {
                      "sentiment": "negative",
                      "confidenceScores": {
                        "positive": 0,
                        "neutral": 0.01,
                        "negative": 0.99
                      },
                      "text": "I left with a stomach ache and felt sick the rest of the day.",
                      "offset": 0,
                      "length": 61
                    }
                  ],
                  "5": []
                },
                {
                  "0": "They dropped more than the ball.",
                  "1": "negative",
                  "3": {
                    "positive": 0.01,
                    "neutral": 0.2,
                    "negative": 0.79
                  },
                  "4": [
                    {
                      "sentiment": "negative",
                      "confidenceScores": {
                        "positive": 0.01,
                        "neutral": 0.2,
                        "negative": 0.79
                      },
                      "text": "They dropped more than the ball.",
                      "offset": 0,
                      "length": 32
                    }
                  ],
                  "5": []
                },
                {
                  "0": "The dining space is tiny, but elegantly decorated and comfortable.",
                  "1": "positive",
                  "3": {
                    "positive": 0.96,
                    "neutral": 0.02,
                    "negative": 0.01
                  },
                  "4": [
                    {
                      "sentiment": "positive",
                      "confidenceScores": {
                        "positive": 0.96,
                        "neutral": 0.02,
                        "negative": 0.01
                      },
                      "text": "The dining space is tiny, but elegantly decorated and comfortable.",
                      "offset": 0,
                      "length": 66
                    }
                  ],
                  "5": []
                },
                {
                  "0": "They will customize your order any way you'd like, my usual is Eggplant with Green Bean stir fry, love it!",
                  "1": "positive",
                  "3": {
                    "positive": 1,
                    "neutral": 0,
                    "negative": 0
                  },
                  "4": [
                    {
                      "sentiment": "positive",
                      "confidenceScores": {
                        "positive": 1,
                        "neutral": 0,
                        "negative": 0
                      },
                      "text": "They will customize your order any way you'd like, my usual is Eggplant with Green Bean stir fry, love it!",
                      "offset": 0,
                      "length": 106
                    }
                  ],
                  "5": []
                },
                {
                  "0": "And the beans and rice were mediocre at best.",
                  "1": "negative",
                  "3": {
                    "positive": 0,
                    "neutral": 0,
                    "negative": 0.99
                  },
                  "4": [
                    {
                      "sentiment": "negative",
                      "confidenceScores": {
                        "positive": 0,
                        "neutral": 0,
                        "negative": 0.99
                      },
                      "text": "And the beans and rice were mediocre at best.",
                      "offset": 0,
                      "length": 45
                    }
                  ],
                  "5": []
                },
                {
                  "0": "Best tacos in town by far!!",
                  "1": "positive",
                  "3": {
                    "positive": 1,
                    "neutral": 0,
                    "negative": 0
                  },
                  "4": [
                    {
                      "sentiment": "positive",
                      "confidenceScores": {
                        "positive": 1,
                        "neutral": 0,
                        "negative": 0
                      },
                      "text": "Best tacos in town by far!!",
                      "offset": 0,
                      "length": 27
                    }
                  ],
                  "5": []
                },
                {
                  "0": "I took back my money and got outta there.",
                  "1": "neutral",
                  "3": {
                    "positive": 0.02,
                    "neutral": 0.89,
                    "negative": 0.1
                  },
                  "4": [
                    {
                      "sentiment": "neutral",
                      "confidenceScores": {
                        "positive": 0.02,
                        "neutral": 0.89,
                        "negative": 0.1
                      },
                      "text": "I took back my money and got outta there.",
                      "offset": 0,
                      "length": 41
                    }
                  ],
                  "5": []
                },
                {
                  "0": "In an interesting part of town, this place is amazing.",
                  "1": "positive",
                  "3": {
                    "positive": 1,
                    "neutral": 0,
                    "negative": 0
                  },
                  "4": [
                    {
                      "sentiment": "positive",
                      "confidenceScores": {
                        "positive": 1,
                        "neutral": 0,
                        "negative": 0
                      },
                      "text": "In an interesting part of town, this place is amazing.",
                      "offset": 0,
                      "length": 54
                    }
                  ],
                  "5": []
                },
                {
                  "0": "RUDE & INCONSIDERATE MANAGEMENT.",
                  "1": "positive",
                  "3": {
                    "positive": 0.62,
                    "neutral": 0.34,
                    "negative": 0.04
                  },
                  "4": [
                    {
                      "sentiment": "positive",
                      "confidenceScores": {
                        "positive": 0.62,
                        "neutral": 0.34,
                        "negative": 0.04
                      },
                      "text": "RUDE & INCONSIDERATE MANAGEMENT.",
                      "offset": 0,
                      "length": 32
                    }
                  ],
                  "5": []
                },
                {
                  "0": "The staff are now not as friendly, the wait times for being served are horrible, no one even says hi for the first 10 minutes.",
                  "1": "negative",
                  "3": {
                    "positive": 0,
                    "neutral": 0,
                    "negative": 0.99
                  },
                  "4": [
                    {
                      "sentiment": "negative",
                      "confidenceScores": {
                        "positive": 0,
                        "neutral": 0,
                        "negative": 0.99
                      },
                      "text": "The staff are now not as friendly, the wait times for being served are horrible, no one even says hi for the first 10 minutes.",
                      "offset": 0,
                      "length": 126
                    }
                  ],
                  "5": []
                },
                {
                  "0": "I won't be back.",
                  "1": "neutral",
                  "3": {
                    "positive": 0.02,
                    "neutral": 0.75,
                    "negative": 0.23
                  },
                  "4": [
                    {
                      "sentiment": "neutral",
                      "confidenceScores": {
                        "positive": 0.02,
                        "neutral": 0.75,
                        "negative": 0.23
                      },
                      "text": "I won't be back.",
                      "offset": 0,
                      "length": 16
                    }
                  ],
                  "5": []
                },
                {
                  "0": "They have great dinners.",
                  "1": "positive",
                  "3": {
                    "positive": 1,
                    "neutral": 0,
                    "negative": 0
                  },
                  "4": [
                    {
                      "sentiment": "positive",
                      "confidenceScores": {
                        "positive": 1,
                        "neutral": 0,
                        "negative": 0
                      },
                      "text": "They have great dinners.",
                      "offset": 0,
                      "length": 24
                    }
                  ],
                  "5": []
                },
                {
                  "0": "The service was outshining & I definitely recommend the Halibut.",
                  "1": "positive",
                  "3": {
                    "positive": 0.99,
                    "neutral": 0,
                    "negative": 0
                  },
                  "4": [
                    {
                      "sentiment": "positive",
                      "confidenceScores": {
                        "positive": 0.99,
                        "neutral": 0,
                        "negative": 0
                      },
                      "text": "The service was outshining & I definitely recommend the Halibut.",
                      "offset": 0,
                      "length": 64
                    }
                  ],
                  "5": []
                },
                {
                  "0": "The food was terrible.",
                  "1": "negative",
                  "3": {
                    "positive": 0.01,
                    "neutral": 0,
                    "negative": 0.99
                  },
                  "4": [
                    {
                      "sentiment": "negative",
                      "confidenceScores": {
                        "positive": 0.01,
                        "neutral": 0,
                        "negative": 0.99
                      },
                      "text": "The food was terrible.",
                      "offset": 0,
                      "length": 22
                    }
                  ],
                  "5": []
                },
                {
                  "0": "WILL NEVER EVER GO BACK AND HAVE TOLD MANY PEOPLE WHAT HAD HAPPENED.",
                  "1": "negative",
                  "3": {
                    "positive": 0.01,
                    "neutral": 0.05,
                    "negative": 0.93
                  },
                  "4": [
                    {
                      "sentiment": "negative",
                      "confidenceScores": {
                        "positive": 0.01,
                        "neutral": 0.05,
                        "negative": 0.93
                      },
                      "text": "WILL NEVER EVER GO BACK AND HAVE TOLD MANY PEOPLE WHAT HAD HAPPENED.",
                      "offset": 0,
                      "length": 68
                    }
                  ],
                  "5": []
                },
                {
                  "0": "I don't recommend unless your car breaks down in front of it and you are starving.",
                  "1": "negative",
                  "3": {
                    "positive": 0,
                    "neutral": 0.01,
                    "negative": 0.99
                  },
                  "4": [
                    {
                      "sentiment": "negative",
                      "confidenceScores": {
                        "positive": 0,
                        "neutral": 0.01,
                        "negative": 0.99
                      },
                      "text": "I don't recommend unless your car breaks down in front of it and you are starving.",
                      "offset": 0,
                      "length": 82
                    }
                  ],
                  "5": []
                },
                {
                  "0": "I will come back here every time I'm in Vegas.",
                  "1": "neutral",
                  "3": {
                    "positive": 0.03,
                    "neutral": 0.95,
                    "negative": 0.03
                  },
                  "4": [
                    {
                      "sentiment": "neutral",
                      "confidenceScores": {
                        "positive": 0.03,
                        "neutral": 0.95,
                        "negative": 0.03
                      },
                      "text": "I will come back here every time I'm in Vegas.",
                      "offset": 0,
                      "length": 46
                    }
                  ],
                  "5": []
                },
                {
                  "0": "This place deserves one star and 90% has to do with the food.",
                  "1": "positive",
                  "3": {
                    "positive": 0.95,
                    "neutral": 0.01,
                    "negative": 0.04
                  },
                  "4": [
                    {
                      "sentiment": "positive",
                      "confidenceScores": {
                        "positive": 0.95,
                        "neutral": 0.01,
                        "negative": 0.04
                      },
                      "text": "This place deserves one star and 90% has to do with the food.",
                      "offset": 0,
                      "length": 61
                    }
                  ],
                  "5": []
                },
                {
                  "0": "This is a disgrace.",
                  "1": "negative",
                  "3": {
                    "positive": 0,
                    "neutral": 0,
                    "negative": 0.99
                  },
                  "4": [
                    {
                      "sentiment": "negative",
                      "confidenceScores": {
                        "positive": 0,
                        "neutral": 0,
                        "negative": 0.99
                      },
                      "text": "This is a disgrace.",
                      "offset": 0,
                      "length": 19
                    }
                  ],
                  "5": []
                },
                {
                  "0": "Def coming back to bowl next time",
                  "1": "neutral",
                  "3": {
                    "positive": 0.34,
                    "neutral": 0.55,
                    "negative": 0.11
                  },
                  "4": [
                    {
                      "sentiment": "neutral",
                      "confidenceScores": {
                        "positive": 0.34,
                        "neutral": 0.55,
                        "negative": 0.11
                      },
                      "text": "Def coming back to bowl next time",
                      "offset": 0,
                      "length": 33
                    }
                  ],
                  "5": []
                },
                {
                  "0": "If you want healthy authentic or ethic food, try this place.",
                  "1": "positive",
                  "3": {
                    "positive": 0.95,
                    "neutral": 0.03,
                    "negative": 0.02
                  },
                  "4": [
                    {
                      "sentiment": "positive",
                      "confidenceScores": {
                        "positive": 0.95,
                        "neutral": 0.03,
                        "negative": 0.02
                      },
                      "text": "If you want healthy authentic or ethic food, try this place.",
                      "offset": 0,
                      "length": 60
                    }
                  ],
                  "5": []
                },
                {
                  "0": "\"I will continue to come here on ladies night andddd date night ... highly recommend this place to anyone who is in the area (;\"",
                  "1": "positive",
                  "3": {
                    "positive": 0.99,
                    "neutral": 0,
                    "negative": 0
                  },
                  "4": [
                    {
                      "sentiment": "neutral",
                      "confidenceScores": {
                        "positive": 0.19,
                        "neutral": 0.79,
                        "negative": 0.03
                      },
                      "text": "\"I will continue to come here on ladies night andddd date night ... ",
                      "offset": 0,
                      "length": 68
                    },
                    {
                      "sentiment": "positive",
                      "confidenceScores": {
                        "positive": 0.99,
                        "neutral": 0,
                        "negative": 0
                      },
                      "text": "highly recommend this place to anyone who is in the area (;\"",
                      "offset": 68,
                      "length": 60
                    }
                  ],
                  "5": []
                },
                {
                  "0": "I have been here several times in the past, and the experience has always been great.",
                  "1": "positive",
                  "3": {
                    "positive": 1,
                    "neutral": 0,
                    "negative": 0
                  },
                  "4": [
                    {
                      "sentiment": "positive",
                      "confidenceScores": {
                        "positive": 1,
                        "neutral": 0,
                        "negative": 0
                      },
                      "text": "I have been here several times in the past, and the experience has always been great.",
                      "offset": 0,
                      "length": 85
                    }
                  ],
                  "5": []
                },
                {
                  "0": "We walked away stuffed and happy about our first Vegas buffet experience.",
                  "1": "positive",
                  "3": {
                    "positive": 0.99,
                    "neutral": 0,
                    "negative": 0
                  },
                  "4": [
                    {
                      "sentiment": "positive",
                      "confidenceScores": {
                        "positive": 0.99,
                        "neutral": 0,
                        "negative": 0
                      },
                      "text": "We walked away stuffed and happy about our first Vegas buffet experience.",
                      "offset": 0,
                      "length": 73
                    }
                  ],
                  "5": []
                },
                {
                  "0": "Service was excellent and prices are pretty reasonable considering this is Vegas and located inside the Crystals shopping mall by Aria.",
                  "1": "positive",
                  "3": {
                    "positive": 1,
                    "neutral": 0,
                    "negative": 0
                  },
                  "4": [
                    {
                      "sentiment": "positive",
                      "confidenceScores": {
                        "positive": 1,
                        "neutral": 0,
                        "negative": 0
                      },
                      "text": "Service was excellent and prices are pretty reasonable considering this is Vegas and located inside the Crystals shopping mall by Aria.",
                      "offset": 0,
                      "length": 135
                    }
                  ],
                  "5": []
                },
                {
                  "0": "To summarize... the food was incredible, nay, transcendant... but nothing brings me joy quite like the memory of the pneumatic condiment dispenser.",
                  "1": "mixed",
                  "3": {
                    "positive": 0.58,
                    "neutral": 0.05,
                    "negative": 0.37
                  },
                  "4": [
                    {
                      "sentiment": "neutral",
                      "confidenceScores": {
                        "positive": 0.11,
                        "neutral": 0.8,
                        "negative": 0.08
                      },
                      "text": "To summarize... ",
                      "offset": 0,
                      "length": 16
                    },
                    {
                      "sentiment": "positive",
                      "confidenceScores": {
                        "positive": 0.96,
                        "neutral": 0.01,
                        "negative": 0.03
                      },
                      "text": "the food was incredible, nay, transcendant... ",
                      "offset": 16,
                      "length": 46
                    },
                    {
                      "sentiment": "negative",
                      "confidenceScores": {
                        "positive": 0.2,
                        "neutral": 0.09,
                        "negative": 0.71
                      },
                      "text": "but nothing brings me joy quite like the memory of the pneumatic condiment dispenser.",
                      "offset": 62,
                      "length": 85
                    }
                  ],
                  "5": []
                },
                {
                  "0": "I'm probably one of the few people to ever go to Ians and not like it.",
                  "1": "negative",
                  "3": {
                    "positive": 0.01,
                    "neutral": 0.18,
                    "negative": 0.81
                  },
                  "4": [
                    {
                      "sentiment": "negative",
                      "confidenceScores": {
                        "positive": 0.01,
                        "neutral": 0.18,
                        "negative": 0.81
                      },
                      "text": "I'm probably one of the few people to ever go to Ians and not like it.",
                      "offset": 0,
                      "length": 70
                    }
                  ],
                  "5": []
                },
                {
                  "0": "Kids pizza is always a hit too with lots of great side dish options for the kiddos!",
                  "1": "positive",
                  "3": {
                    "positive": 1,
                    "neutral": 0,
                    "negative": 0
                  },
                  "4": [
                    {
                      "sentiment": "positive",
                      "confidenceScores": {
                        "positive": 1,
                        "neutral": 0,
                        "negative": 0
                      },
                      "text": "Kids pizza is always a hit too with lots of great side dish options for the kiddos!",
                      "offset": 0,
                      "length": 83
                    }
                  ],
                  "5": []
                },
                {
                  "0": "Service is perfect and the family atmosphere is nice to see.",
                  "1": "positive",
                  "3": {
                    "positive": 1,
                    "neutral": 0,
                    "negative": 0
                  },
                  "4": [
                    {
                      "sentiment": "positive",
                      "confidenceScores": {
                        "positive": 1,
                        "neutral": 0,
                        "negative": 0
                      },
                      "text": "Service is perfect and the family atmosphere is nice to see.",
                      "offset": 0,
                      "length": 60
                    }
                  ],
                  "5": []
                },
                {
                  "0": "Cooked to perfection and the service was impeccable.",
                  "1": "positive",
                  "3": {
                    "positive": 0.99,
                    "neutral": 0,
                    "negative": 0.01
                  },
                  "4": [
                    {
                      "sentiment": "positive",
                      "confidenceScores": {
                        "positive": 0.99,
                        "neutral": 0,
                        "negative": 0.01
                      },
                      "text": "Cooked to perfection and the service was impeccable.",
                      "offset": 0,
                      "length": 52
                    }
                  ],
                  "5": []
                },
                {
                  "0": "This one is simply a disappointment.",
                  "1": "negative",
                  "3": {
                    "positive": 0,
                    "neutral": 0,
                    "negative": 0.99
                  },
                  "4": [
                    {
                      "sentiment": "negative",
                      "confidenceScores": {
                        "positive": 0,
                        "neutral": 0,
                        "negative": 0.99
                      },
                      "text": "This one is simply a disappointment.",
                      "offset": 0,
                      "length": 36
                    }
                  ],
                  "5": []
                },
                {
                  "0": "Overall, I was very disappointed with the quality of food at Bouchon.",
                  "1": "negative",
                  "3": {
                    "positive": 0.01,
                    "neutral": 0,
                    "negative": 0.99
                  },
                  "4": [
                    {
                      "sentiment": "negative",
                      "confidenceScores": {
                        "positive": 0.01,
                        "neutral": 0,
                        "negative": 0.99
                      },
                      "text": "Overall, I was very disappointed with the quality of food at Bouchon.",
                      "offset": 0,
                      "length": 69
                    }
                  ],
                  "5": []
                },
                {
                  "0": "I don't have to be an accountant to know I'm getting screwed!",
                  "1": "negative",
                  "3": {
                    "positive": 0.02,
                    "neutral": 0.02,
                    "negative": 0.96
                  },
                  "4": [
                    {
                      "sentiment": "negative",
                      "confidenceScores": {
                        "positive": 0.02,
                        "neutral": 0.02,
                        "negative": 0.96
                      },
                      "text": "I don't have to be an accountant to know I'm getting screwed!",
                      "offset": 0,
                      "length": 61
                    }
                  ],
                  "5": []
                },
                {
                  "0": "Great place to eat, reminds me of the little mom and pop shops in the San Francisco Bay Area.",
                  "1": "positive",
                  "3": {
                    "positive": 1,
                    "neutral": 0,
                    "negative": 0
                  },
                  "4": [
                    {
                      "sentiment": "positive",
                      "confidenceScores": {
                        "positive": 1,
                        "neutral": 0,
                        "negative": 0
                      },
                      "text": "Great place to eat, reminds me of the little mom and pop shops in the San Francisco Bay Area.",
                      "offset": 0,
                      "length": 93
                    }
                  ],
                  "5": []
                },
                {
                  "0": "Today was my first taste of a Buldogis Gourmet Hot Dog and I have to tell you it was more than I ever thought possible.",
                  "1": "positive",
                  "3": {
                    "positive": 0.92,
                    "neutral": 0.07,
                    "negative": 0.02
                  },
                  "4": [
                    {
                      "sentiment": "positive",
                      "confidenceScores": {
                        "positive": 0.92,
                        "neutral": 0.07,
                        "negative": 0.02
                      },
                      "text": "Today was my first taste of a Buldogis Gourmet Hot Dog and I have to tell you it was more than I ever thought possible.",
                      "offset": 0,
                      "length": 119
                    }
                  ],
                  "5": []
                },
                {
                  "0": "Left very frustrated.",
                  "1": "negative",
                  "3": {
                    "positive": 0,
                    "neutral": 0,
                    "negative": 0.99
                  },
                  "4": [
                    {
                      "sentiment": "negative",
                      "confidenceScores": {
                        "positive": 0,
                        "neutral": 0,
                        "negative": 0.99
                      },
                      "text": "Left very frustrated.",
                      "offset": 0,
                      "length": 21
                    }
                  ],
                  "5": []
                },
                {
                  "0": "I'll definitely be in soon again.",
                  "1": "neutral",
                  "3": {
                    "positive": 0.33,
                    "neutral": 0.64,
                    "negative": 0.03
                  },
                  "4": [
                    {
                      "sentiment": "neutral",
                      "confidenceScores": {
                        "positive": 0.33,
                        "neutral": 0.64,
                        "negative": 0.03
                      },
                      "text": "I'll definitely be in soon again.",
                      "offset": 0,
                      "length": 33
                    }
                  ],
                  "5": []
                },
                {
                  "0": "Food was really good and I got full petty fast.",
                  "1": "positive",
                  "3": {
                    "positive": 0.98,
                    "neutral": 0,
                    "negative": 0.02
                  },
                  "4": [
                    {
                      "sentiment": "positive",
                      "confidenceScores": {
                        "positive": 0.98,
                        "neutral": 0,
                        "negative": 0.02
                      },
                      "text": "Food was really good and I got full petty fast.",
                      "offset": 0,
                      "length": 47
                    }
                  ],
                  "5": []
                },
                {
                  "0": "Service was fantastic.",
                  "1": "positive",
                  "3": {
                    "positive": 1,
                    "neutral": 0,
                    "negative": 0
                  },
                  "4": [
                    {
                      "sentiment": "positive",
                      "confidenceScores": {
                        "positive": 1,
                        "neutral": 0,
                        "negative": 0
                      },
                      "text": "Service was fantastic.",
                      "offset": 0,
                      "length": 22
                    }
                  ],
                  "5": []
                },
                {
                  "0": "TOTAL WASTE OF TIME.",
                  "1": "negative",
                  "3": {
                    "positive": 0.01,
                    "neutral": 0.01,
                    "negative": 0.99
                  },
                  "4": [
                    {
                      "sentiment": "negative",
                      "confidenceScores": {
                        "positive": 0.01,
                        "neutral": 0.01,
                        "negative": 0.99
                      },
                      "text": "TOTAL WASTE OF TIME.",
                      "offset": 0,
                      "length": 20
                    }
                  ],
                  "5": []
                },
                {
                  "0": "I don't know what kind it is but they have the best iced tea.",
                  "1": "positive",
                  "3": {
                    "positive": 0.97,
                    "neutral": 0.02,
                    "negative": 0.01
                  },
                  "4": [
                    {
                      "sentiment": "positive",
                      "confidenceScores": {
                        "positive": 0.97,
                        "neutral": 0.02,
                        "negative": 0.01
                      },
                      "text": "I don't know what kind it is but they have the best iced tea.",
                      "offset": 0,
                      "length": 61
                    }
                  ],
                  "5": []
                },
                {
                  "0": "Come hungry, leave happy and stuffed!",
                  "1": "positive",
                  "3": {
                    "positive": 0.94,
                    "neutral": 0.02,
                    "negative": 0.04
                  },
                  "4": [
                    {
                      "sentiment": "positive",
                      "confidenceScores": {
                        "positive": 0.94,
                        "neutral": 0.02,
                        "negative": 0.04
                      },
                      "text": "Come hungry, leave happy and stuffed!",
                      "offset": 0,
                      "length": 37
                    }
                  ],
                  "5": []
                },
                {
                  "0": "For service, I give them no stars.",
                  "1": "neutral",
                  "3": {
                    "positive": 0.13,
                    "neutral": 0.6,
                    "negative": 0.27
                  },
                  "4": [
                    {
                      "sentiment": "neutral",
                      "confidenceScores": {
                        "positive": 0.13,
                        "neutral": 0.6,
                        "negative": 0.27
                      },
                      "text": "For service, I give them no stars.",
                      "offset": 0,
                      "length": 34
                    }
                  ],
                  "5": []
                },
                {
                  "0": "I can assure you that you won't be disappointed.",
                  "1": "positive",
                  "3": {
                    "positive": 0.76,
                    "neutral": 0.06,
                    "negative": 0.18
                  },
                  "4": [
                    {
                      "sentiment": "positive",
                      "confidenceScores": {
                        "positive": 0.76,
                        "neutral": 0.06,
                        "negative": 0.18
                      },
                      "text": "I can assure you that you won't be disappointed.",
                      "offset": 0,
                      "length": 48
                    }
                  ],
                  "5": []
                },
                {
                  "0": "I can take a little bad service but the food sucks.",
                  "1": "negative",
                  "3": {
                    "positive": 0,
                    "neutral": 0,
                    "negative": 0.99
                  },
                  "4": [
                    {
                      "sentiment": "negative",
                      "confidenceScores": {
                        "positive": 0,
                        "neutral": 0,
                        "negative": 0.99
                      },
                      "text": "I can take a little bad service but the food sucks.",
                      "offset": 0,
                      "length": 51
                    }
                  ],
                  "5": []
                },
                {
                  "0": "Gave up trying to eat any of the crust (teeth still sore).",
                  "1": "negative",
                  "3": {
                    "positive": 0,
                    "neutral": 0.01,
                    "negative": 0.99
                  },
                  "4": [
                    {
                      "sentiment": "negative",
                      "confidenceScores": {
                        "positive": 0,
                        "neutral": 0.01,
                        "negative": 0.99
                      },
                      "text": "Gave up trying to eat any of the crust (teeth still sore).",
                      "offset": 0,
                      "length": 58
                    }
                  ],
                  "5": []
                },
                {
                  "0": "But now I was completely grossed out.",
                  "1": "negative",
                  "3": {
                    "positive": 0,
                    "neutral": 0.02,
                    "negative": 0.98
                  },
                  "4": [
                    {
                      "sentiment": "negative",
                      "confidenceScores": {
                        "positive": 0,
                        "neutral": 0.02,
                        "negative": 0.98
                      },
                      "text": "But now I was completely grossed out.",
                      "offset": 0,
                      "length": 37
                    }
                  ],
                  "5": []
                },
                {
                  "0": "I really enjoyed eating here.",
                  "1": "positive",
                  "3": {
                    "positive": 0.99,
                    "neutral": 0,
                    "negative": 0
                  },
                  "4": [
                    {
                      "sentiment": "positive",
                      "confidenceScores": {
                        "positive": 0.99,
                        "neutral": 0,
                        "negative": 0
                      },
                      "text": "I really enjoyed eating here.",
                      "offset": 0,
                      "length": 29
                    }
                  ],
                  "5": []
                },
                {
                  "0": "First time going but I think I will quickly become a regular.",
                  "1": "neutral",
                  "3": {
                    "positive": 0.2,
                    "neutral": 0.75,
                    "negative": 0.05
                  },
                  "4": [
                    {
                      "sentiment": "neutral",
                      "confidenceScores": {
                        "positive": 0.2,
                        "neutral": 0.75,
                        "negative": 0.05
                      },
                      "text": "First time going but I think I will quickly become a regular.",
                      "offset": 0,
                      "length": 61
                    }
                  ],
                  "5": []
                },
                {
                  "0": "Our server was very nice, and even though he looked a little overwhelmed with all of our needs, he stayed professional and friendly until the end.",
                  "1": "positive",
                  "3": {
                    "positive": 0.99,
                    "neutral": 0,
                    "negative": 0.01
                  },
                  "4": [
                    {
                      "sentiment": "positive",
                      "confidenceScores": {
                        "positive": 0.99,
                        "neutral": 0,
                        "negative": 0.01
                      },
                      "text": "Our server was very nice, and even though he looked a little overwhelmed with all of our needs, he stayed professional and friendly until the end.",
                      "offset": 0,
                      "length": 146
                    }
                  ],
                  "5": []
                },
                {
                  "0": "From what my dinner companions told me...everything was very fresh with nice texture and taste.",
                  "1": "positive",
                  "3": {
                    "positive": 1,
                    "neutral": 0,
                    "negative": 0
                  },
                  "4": [
                    {
                      "sentiment": "neutral",
                      "confidenceScores": {
                        "positive": 0.15,
                        "neutral": 0.73,
                        "negative": 0.12
                      },
                      "text": "From what my dinner companions told me...",
                      "offset": 0,
                      "length": 41
                    },
                    {
                      "sentiment": "positive",
                      "confidenceScores": {
                        "positive": 1,
                        "neutral": 0,
                        "negative": 0
                      },
                      "text": "everything was very fresh with nice texture and taste.",
                      "offset": 41,
                      "length": 54
                    }
                  ],
                  "5": []
                },
                {
                  "0": "On the ground, right next to our table was a large, smeared, been-stepped-in-and-tracked-everywhere pile of green bird poop.",
                  "1": "negative",
                  "3": {
                    "positive": 0,
                    "neutral": 0.03,
                    "negative": 0.97
                  },
                  "4": [
                    {
                      "sentiment": "negative",
                      "confidenceScores": {
                        "positive": 0,
                        "neutral": 0.03,
                        "negative": 0.97
                      },
                      "text": "On the ground, right next to our table was a large, smeared, been-stepped-in-and-tracked-everywhere pile of green bird poop.",
                      "offset": 0,
                      "length": 124
                    }
                  ],
                  "5": []
                },
                {
                  "0": "Furthermore, you can't even find hours of operation on the website!",
                  "1": "negative",
                  "3": {
                    "positive": 0,
                    "neutral": 0.04,
                    "negative": 0.96
                  },
                  "4": [
                    {
                      "sentiment": "negative",
                      "confidenceScores": {
                        "positive": 0,
                        "neutral": 0.04,
                        "negative": 0.96
                      },
                      "text": "Furthermore, you can't even find hours of operation on the website!",
                      "offset": 0,
                      "length": 67
                    }
                  ],
                  "5": []
                },
                {
                  "0": "We've tried to like this place but after 10+ times I think we're done with them.",
                  "1": "positive",
                  "3": {
                    "positive": 0.55,
                    "neutral": 0.07,
                    "negative": 0.37
                  },
                  "4": [
                    {
                      "sentiment": "positive",
                      "confidenceScores": {
                        "positive": 0.55,
                        "neutral": 0.07,
                        "negative": 0.37
                      },
                      "text": "We've tried to like this place but after 10+ times I think we're done with them.",
                      "offset": 0,
                      "length": 80
                    }
                  ],
                  "5": []
                },
                {
                  "0": "What a mistake that was!",
                  "1": "negative",
                  "3": {
                    "positive": 0.01,
                    "neutral": 0,
                    "negative": 0.99
                  },
                  "4": [
                    {
                      "sentiment": "negative",
                      "confidenceScores": {
                        "positive": 0.01,
                        "neutral": 0,
                        "negative": 0.99
                      },
                      "text": "What a mistake that was!",
                      "offset": 0,
                      "length": 24
                    }
                  ],
                  "5": []
                },
                {
                  "0": "No complaints!",
                  "1": "positive",
                  "3": {
                    "positive": 0.49,
                    "neutral": 0.27,
                    "negative": 0.24
                  },
                  "4": [
                    {
                      "sentiment": "positive",
                      "confidenceScores": {
                        "positive": 0.49,
                        "neutral": 0.27,
                        "negative": 0.24
                      },
                      "text": "No complaints!",
                      "offset": 0,
                      "length": 14
                    }
                  ],
                  "5": []
                },
                {
                  "0": "This is some seriously good pizza and I'm an expert/connisseur on the topic.",
                  "1": "positive",
                  "3": {
                    "positive": 1,
                    "neutral": 0,
                    "negative": 0
                  },
                  "4": [
                    {
                      "sentiment": "positive",
                      "confidenceScores": {
                        "positive": 1,
                        "neutral": 0,
                        "negative": 0
                      },
                      "text": "This is some seriously good pizza and I'm an expert/connisseur on the topic.",
                      "offset": 0,
                      "length": 76
                    }
                  ],
                  "5": []
                },
                {
                  "0": "Waiter was a jerk.",
                  "1": "negative",
                  "3": {
                    "positive": 0,
                    "neutral": 0.01,
                    "negative": 0.99
                  },
                  "4": [
                    {
                      "sentiment": "negative",
                      "confidenceScores": {
                        "positive": 0,
                        "neutral": 0.01,
                        "negative": 0.99
                      },
                      "text": "Waiter was a jerk.",
                      "offset": 0,
                      "length": 18
                    }
                  ],
                  "5": []
                },
                {
                  "0": "Strike 2, who wants to be rushed.",
                  "1": "negative",
                  "3": {
                    "positive": 0.01,
                    "neutral": 0.1,
                    "negative": 0.89
                  },
                  "4": [
                    {
                      "sentiment": "negative",
                      "confidenceScores": {
                        "positive": 0.01,
                        "neutral": 0.1,
                        "negative": 0.89
                      },
                      "text": "Strike 2, who wants to be rushed.",
                      "offset": 0,
                      "length": 33
                    }
                  ],
                  "5": []
                },
                {
                  "0": "These are the nicest restaurant owners I've ever come across.",
                  "1": "positive",
                  "3": {
                    "positive": 1,
                    "neutral": 0,
                    "negative": 0
                  },
                  "4": [
                    {
                      "sentiment": "positive",
                      "confidenceScores": {
                        "positive": 1,
                        "neutral": 0,
                        "negative": 0
                      },
                      "text": "These are the nicest restaurant owners I've ever come across.",
                      "offset": 0,
                      "length": 61
                    }
                  ],
                  "5": []
                },
                {
                  "0": "I never come again.",
                  "1": "neutral",
                  "3": {
                    "positive": 0.03,
                    "neutral": 0.61,
                    "negative": 0.36
                  },
                  "4": [
                    {
                      "sentiment": "neutral",
                      "confidenceScores": {
                        "positive": 0.03,
                        "neutral": 0.61,
                        "negative": 0.36
                      },
                      "text": "I never come again.",
                      "offset": 0,
                      "length": 19
                    }
                  ],
                  "5": []
                },
                {
                  "0": "We loved the biscuits!!!",
                  "1": "positive",
                  "3": {
                    "positive": 1,
                    "neutral": 0,
                    "negative": 0
                  },
                  "4": [
                    {
                      "sentiment": "positive",
                      "confidenceScores": {
                        "positive": 1,
                        "neutral": 0,
                        "negative": 0
                      },
                      "text": "We loved the biscuits!!!",
                      "offset": 0,
                      "length": 24
                    }
                  ],
                  "5": []
                },
                {
                  "0": "Service is quick and friendly.",
                  "1": "positive",
                  "3": {
                    "positive": 0.99,
                    "neutral": 0.01,
                    "negative": 0
                  },
                  "4": [
                    {
                      "sentiment": "positive",
                      "confidenceScores": {
                        "positive": 0.99,
                        "neutral": 0.01,
                        "negative": 0
                      },
                      "text": "Service is quick and friendly.",
                      "offset": 0,
                      "length": 30
                    }
                  ],
                  "5": []
                },
                {
                  "0": "Ordered an appetizer and took 40 minutes and then the pizza another 10 minutes.",
                  "1": "negative",
                  "3": {
                    "positive": 0.21,
                    "neutral": 0.35,
                    "negative": 0.44
                  },
                  "4": [
                    {
                      "sentiment": "negative",
                      "confidenceScores": {
                        "positive": 0.21,
                        "neutral": 0.35,
                        "negative": 0.44
                      },
                      "text": "Ordered an appetizer and took 40 minutes and then the pizza another 10 minutes.",
                      "offset": 0,
                      "length": 79
                    }
                  ],
                  "5": []
                },
                {
                  "0": "So absolutley fantastic.",
                  "1": "positive",
                  "3": {
                    "positive": 0.99,
                    "neutral": 0,
                    "negative": 0.01
                  },
                  "4": [
                    {
                      "sentiment": "positive",
                      "confidenceScores": {
                        "positive": 0.99,
                        "neutral": 0,
                        "negative": 0.01
                      },
                      "text": "So absolutley fantastic.",
                      "offset": 0,
                      "length": 24
                    }
                  ],
                  "5": []
                },
                {
                  "0": "It was a huge awkward 1.5lb piece of cow that was 3/4ths gristle and fat.",
                  "1": "negative",
                  "3": {
                    "positive": 0,
                    "neutral": 0,
                    "negative": 0.99
                  },
                  "4": [
                    {
                      "sentiment": "negative",
                      "confidenceScores": {
                        "positive": 0,
                        "neutral": 0,
                        "negative": 0.99
                      },
                      "text": "It was a huge awkward 1.5lb piece of cow that was 3/4ths gristle and fat.",
                      "offset": 0,
                      "length": 73
                    }
                  ],
                  "5": []
                },
                {
                  "0": "definitely will come back here again.",
                  "1": "neutral",
                  "3": {
                    "positive": 0.43,
                    "neutral": 0.53,
                    "negative": 0.03
                  },
                  "4": [
                    {
                      "sentiment": "neutral",
                      "confidenceScores": {
                        "positive": 0.43,
                        "neutral": 0.53,
                        "negative": 0.03
                      },
                      "text": "definitely will come back here again.",
                      "offset": 0,
                      "length": 37
                    }
                  ],
                  "5": []
                },
                {
                  "0": "I like Steiners because it's dark and it feels like a bar.",
                  "1": "positive",
                  "3": {
                    "positive": 0.44,
                    "neutral": 0.43,
                    "negative": 0.13
                  },
                  "4": [
                    {
                      "sentiment": "positive",
                      "confidenceScores": {
                        "positive": 0.44,
                        "neutral": 0.43,
                        "negative": 0.13
                      },
                      "text": "I like Steiners because it's dark and it feels like a bar.",
                      "offset": 0,
                      "length": 58
                    }
                  ],
                  "5": []
                },
                {
                  "0": "Wow very spicy but delicious.",
                  "1": "positive",
                  "3": {
                    "positive": 0.99,
                    "neutral": 0,
                    "negative": 0.01
                  },
                  "4": [
                    {
                      "sentiment": "positive",
                      "confidenceScores": {
                        "positive": 0.99,
                        "neutral": 0,
                        "negative": 0.01
                      },
                      "text": "Wow very spicy but delicious.",
                      "offset": 0,
                      "length": 29
                    }
                  ],
                  "5": []
                },
                {
                  "0": "If you're not familiar, check it out.",
                  "1": "neutral",
                  "3": {
                    "positive": 0.02,
                    "neutral": 0.93,
                    "negative": 0.05
                  },
                  "4": [
                    {
                      "sentiment": "neutral",
                      "confidenceScores": {
                        "positive": 0.02,
                        "neutral": 0.93,
                        "negative": 0.05
                      },
                      "text": "If you're not familiar, check it out.",
                      "offset": 0,
                      "length": 37
                    }
                  ],
                  "5": []
                },
                {
                  "0": "I'll take my business dinner dollars elsewhere.",
                  "1": "neutral",
                  "3": {
                    "positive": 0.03,
                    "neutral": 0.96,
                    "negative": 0.02
                  },
                  "4": [
                    {
                      "sentiment": "neutral",
                      "confidenceScores": {
                        "positive": 0.03,
                        "neutral": 0.96,
                        "negative": 0.02
                      },
                      "text": "I'll take my business dinner dollars elsewhere.",
                      "offset": 0,
                      "length": 47
                    }
                  ],
                  "5": []
                },
                {
                  "0": "I'd love to go back.",
                  "1": "positive",
                  "3": {
                    "positive": 0.98,
                    "neutral": 0.02,
                    "negative": 0.01
                  },
                  "4": [
                    {
                      "sentiment": "positive",
                      "confidenceScores": {
                        "positive": 0.98,
                        "neutral": 0.02,
                        "negative": 0.01
                      },
                      "text": "I'd love to go back.",
                      "offset": 0,
                      "length": 20
                    }
                  ],
                  "5": []
                },
                {
                  "0": "Anyway, this FS restaurant has a wonderful breakfast/lunch.",
                  "1": "positive",
                  "3": {
                    "positive": 1,
                    "neutral": 0,
                    "negative": 0
                  },
                  "4": [
                    {
                      "sentiment": "positive",
                      "confidenceScores": {
                        "positive": 1,
                        "neutral": 0,
                        "negative": 0
                      },
                      "text": "Anyway, this FS restaurant has a wonderful breakfast/lunch.",
                      "offset": 0,
                      "length": 59
                    }
                  ],
                  "5": []
                },
                {
                  "0": "Nothing special.",
                  "1": "negative",
                  "3": {
                    "positive": 0.09,
                    "neutral": 0.21,
                    "negative": 0.7
                  },
                  "4": [
                    {
                      "sentiment": "negative",
                      "confidenceScores": {
                        "positive": 0.09,
                        "neutral": 0.21,
                        "negative": 0.7
                      },
                      "text": "Nothing special.",
                      "offset": 0,
                      "length": 16
                    }
                  ],
                  "5": []
                },
                {
                  "0": "Each day of the week they have a different deal and it's all so delicious!",
                  "1": "positive",
                  "3": {
                    "positive": 0.99,
                    "neutral": 0,
                    "negative": 0
                  },
                  "4": [
                    {
                      "sentiment": "positive",
                      "confidenceScores": {
                        "positive": 0.99,
                        "neutral": 0,
                        "negative": 0
                      },
                      "text": "Each day of the week they have a different deal and it's all so delicious!",
                      "offset": 0,
                      "length": 74
                    }
                  ],
                  "5": []
                },
                {
                  "0": "Not to mention the combination of pears, almonds and bacon is a big winner!",
                  "1": "positive",
                  "3": {
                    "positive": 0.98,
                    "neutral": 0.01,
                    "negative": 0.01
                  },
                  "4": [
                    {
                      "sentiment": "positive",
                      "confidenceScores": {
                        "positive": 0.98,
                        "neutral": 0.01,
                        "negative": 0.01
                      },
                      "text": "Not to mention the combination of pears, almonds and bacon is a big winner!",
                      "offset": 0,
                      "length": 75
                    }
                  ],
                  "5": []
                },
                {
                  "0": "Will not be back.",
                  "1": "neutral",
                  "3": {
                    "positive": 0.04,
                    "neutral": 0.53,
                    "negative": 0.43
                  },
                  "4": [
                    {
                      "sentiment": "neutral",
                      "confidenceScores": {
                        "positive": 0.04,
                        "neutral": 0.53,
                        "negative": 0.43
                      },
                      "text": "Will not be back.",
                      "offset": 0,
                      "length": 17
                    }
                  ],
                  "5": []
                },
                {
                  "0": "Sauce was tasteless.",
                  "1": "negative",
                  "3": {
                    "positive": 0,
                    "neutral": 0,
                    "negative": 1
                  },
                  "4": [
                    {
                      "sentiment": "negative",
                      "confidenceScores": {
                        "positive": 0,
                        "neutral": 0,
                        "negative": 1
                      },
                      "text": "Sauce was tasteless.",
                      "offset": 0,
                      "length": 20
                    }
                  ],
                  "5": []
                },
                {
                  "0": "The food is delicious and just spicy enough, so be sure to ask for spicier if you prefer it that way.",
                  "1": "positive",
                  "3": {
                    "positive": 0.99,
                    "neutral": 0,
                    "negative": 0.01
                  },
                  "4": [
                    {
                      "sentiment": "positive",
                      "confidenceScores": {
                        "positive": 0.99,
                        "neutral": 0,
                        "negative": 0.01
                      },
                      "text": "The food is delicious and just spicy enough, so be sure to ask for spicier if you prefer it that way.",
                      "offset": 0,
                      "length": 101
                    }
                  ],
                  "5": []
                },
                {
                  "0": "My ribeye steak was cooked perfectly and had great mesquite flavor.",
                  "1": "positive",
                  "3": {
                    "positive": 1,
                    "neutral": 0,
                    "negative": 0
                  },
                  "4": [
                    {
                      "sentiment": "positive",
                      "confidenceScores": {
                        "positive": 1,
                        "neutral": 0,
                        "negative": 0
                      },
                      "text": "My ribeye steak was cooked perfectly and had great mesquite flavor.",
                      "offset": 0,
                      "length": 67
                    }
                  ],
                  "5": []
                },
                {
                  "0": "I don't think we'll be going back anytime soon.",
                  "1": "neutral",
                  "3": {
                    "positive": 0.01,
                    "neutral": 0.88,
                    "negative": 0.1
                  },
                  "4": [
                    {
                      "sentiment": "neutral",
                      "confidenceScores": {
                        "positive": 0.01,
                        "neutral": 0.88,
                        "negative": 0.1
                      },
                      "text": "I don't think we'll be going back anytime soon.",
                      "offset": 0,
                      "length": 47
                    }
                  ],
                  "5": []
                },
                {
                  "0": "Food was so gooodd.",
                  "1": "positive",
                  "3": {
                    "positive": 0.49,
                    "neutral": 0.03,
                    "negative": 0.48
                  },
                  "4": [
                    {
                      "sentiment": "positive",
                      "confidenceScores": {
                        "positive": 0.49,
                        "neutral": 0.03,
                        "negative": 0.48
                      },
                      "text": "Food was so gooodd.",
                      "offset": 0,
                      "length": 19
                    }
                  ],
                  "5": []
                },
                {
                  "0": "I am far from a sushi connoisseur but I can definitely tell the difference between good food and bad food and this was certainly bad food.",
                  "1": "negative",
                  "3": {
                    "positive": 0.03,
                    "neutral": 0,
                    "negative": 0.97
                  },
                  "4": [
                    {
                      "sentiment": "negative",
                      "confidenceScores": {
                        "positive": 0.03,
                        "neutral": 0,
                        "negative": 0.97
                      },
                      "text": "I am far from a sushi connoisseur but I can definitely tell the difference between good food and bad food and this was certainly bad food.",
                      "offset": 0,
                      "length": 138
                    }
                  ],
                  "5": []
                },
                {
                  "0": "I was so insulted.",
                  "1": "negative",
                  "3": {
                    "positive": 0,
                    "neutral": 0.01,
                    "negative": 0.99
                  },
                  "4": [
                    {
                      "sentiment": "negative",
                      "confidenceScores": {
                        "positive": 0,
                        "neutral": 0.01,
                        "negative": 0.99
                      },
                      "text": "I was so insulted.",
                      "offset": 0,
                      "length": 18
                    }
                  ],
                  "5": []
                },
                {
                  "0": "The last 3 times I had lunch here has been bad.",
                  "1": "negative",
                  "3": {
                    "positive": 0,
                    "neutral": 0,
                    "negative": 0.99
                  },
                  "4": [
                    {
                      "sentiment": "negative",
                      "confidenceScores": {
                        "positive": 0,
                        "neutral": 0,
                        "negative": 0.99
                      },
                      "text": "The last 3 times I had lunch here has been bad.",
                      "offset": 0,
                      "length": 47
                    }
                  ],
                  "5": []
                },
                {
                  "0": "The chicken wings contained the driest chicken meat I have ever eaten.",
                  "1": "negative",
                  "3": {
                    "positive": 0.01,
                    "neutral": 0.02,
                    "negative": 0.98
                  },
                  "4": [
                    {
                      "sentiment": "negative",
                      "confidenceScores": {
                        "positive": 0.01,
                        "neutral": 0.02,
                        "negative": 0.98
                      },
                      "text": "The chicken wings contained the driest chicken meat I have ever eaten.",
                      "offset": 0,
                      "length": 70
                    }
                  ],
                  "5": []
                },
                {
                  "0": "The food was very good and I enjoyed every mouthful, an enjoyable relaxed venue for couples small family groups etc.",
                  "1": "positive",
                  "3": {
                    "positive": 1,
                    "neutral": 0,
                    "negative": 0
                  },
                  "4": [
                    {
                      "sentiment": "positive",
                      "confidenceScores": {
                        "positive": 1,
                        "neutral": 0,
                        "negative": 0
                      },
                      "text": "The food was very good and I enjoyed every mouthful, an enjoyable relaxed venue for couples small family groups etc.",
                      "offset": 0,
                      "length": 116
                    }
                  ],
                  "5": []
                },
                {
                  "0": "Nargile - I think you are great.",
                  "1": "positive",
                  "3": {
                    "positive": 0.99,
                    "neutral": 0.01,
                    "negative": 0
                  },
                  "4": [
                    {
                      "sentiment": "positive",
                      "confidenceScores": {
                        "positive": 0.99,
                        "neutral": 0.01,
                        "negative": 0
                      },
                      "text": "Nargile - I think you are great.",
                      "offset": 0,
                      "length": 32
                    }
                  ],
                  "5": []
                },
                {
                  "0": "Best tater tots in the southwest.",
                  "1": "positive",
                  "3": {
                    "positive": 1,
                    "neutral": 0,
                    "negative": 0
                  },
                  "4": [
                    {
                      "sentiment": "positive",
                      "confidenceScores": {
                        "positive": 1,
                        "neutral": 0,
                        "negative": 0
                      },
                      "text": "Best tater tots in the southwest.",
                      "offset": 0,
                      "length": 33
                    }
                  ],
                  "5": []
                },
                {
                  "0": "We loved the place.",
                  "1": "positive",
                  "3": {
                    "positive": 0.99,
                    "neutral": 0,
                    "negative": 0
                  },
                  "4": [
                    {
                      "sentiment": "positive",
                      "confidenceScores": {
                        "positive": 0.99,
                        "neutral": 0,
                        "negative": 0
                      },
                      "text": "We loved the place.",
                      "offset": 0,
                      "length": 19
                    }
                  ],
                  "5": []
                },
                {
                  "0": "Definitely not worth the $3 I paid.",
                  "1": "negative",
                  "3": {
                    "positive": 0,
                    "neutral": 0,
                    "negative": 0.99
                  },
                  "4": [
                    {
                      "sentiment": "negative",
                      "confidenceScores": {
                        "positive": 0,
                        "neutral": 0,
                        "negative": 0.99
                      },
                      "text": "Definitely not worth the $3 I paid.",
                      "offset": 0,
                      "length": 35
                    }
                  ],
                  "5": []
                },
                {
                  "0": "The vanilla ice cream was creamy and smooth while the profiterole (choux) pastry was fresh enough.",
                  "1": "positive",
                  "3": {
                    "positive": 0.84,
                    "neutral": 0.08,
                    "negative": 0.08
                  },
                  "4": [
                    {
                      "sentiment": "positive",
                      "confidenceScores": {
                        "positive": 0.84,
                        "neutral": 0.08,
                        "negative": 0.08
                      },
                      "text": "The vanilla ice cream was creamy and smooth while the profiterole (choux) pastry was fresh enough.",
                      "offset": 0,
                      "length": 98
                    }
                  ],
                  "5": []
                },
                {
                  "0": "Im in AZ all the time and now have my new spot.",
                  "1": "neutral",
                  "3": {
                    "positive": 0.21,
                    "neutral": 0.78,
                    "negative": 0.01
                  },
                  "4": [
                    {
                      "sentiment": "neutral",
                      "confidenceScores": {
                        "positive": 0.21,
                        "neutral": 0.78,
                        "negative": 0.01
                      },
                      "text": "Im in AZ all the time and now have my new spot.",
                      "offset": 0,
                      "length": 47
                    }
                  ],
                  "5": []
                },
                {
                  "0": "The manager was the worst.",
                  "1": "negative",
                  "3": {
                    "positive": 0,
                    "neutral": 0,
                    "negative": 0.99
                  },
                  "4": [
                    {
                      "sentiment": "negative",
                      "confidenceScores": {
                        "positive": 0,
                        "neutral": 0,
                        "negative": 0.99
                      },
                      "text": "The manager was the worst.",
                      "offset": 0,
                      "length": 26
                    }
                  ],
                  "5": []
                },
                {
                  "0": "The inside is really quite nice and very clean.",
                  "1": "positive",
                  "3": {
                    "positive": 0.99,
                    "neutral": 0,
                    "negative": 0
                  },
                  "4": [
                    {
                      "sentiment": "positive",
                      "confidenceScores": {
                        "positive": 0.99,
                        "neutral": 0,
                        "negative": 0
                      },
                      "text": "The inside is really quite nice and very clean.",
                      "offset": 0,
                      "length": 47
                    }
                  ],
                  "5": []
                },
                {
                  "0": "The food was outstanding and the prices were very reasonable.",
                  "1": "positive",
                  "3": {
                    "positive": 0.99,
                    "neutral": 0,
                    "negative": 0.01
                  },
                  "4": [
                    {
                      "sentiment": "positive",
                      "confidenceScores": {
                        "positive": 0.99,
                        "neutral": 0,
                        "negative": 0.01
                      },
                      "text": "The food was outstanding and the prices were very reasonable.",
                      "offset": 0,
                      "length": 61
                    }
                  ],
                  "5": []
                },
                {
                  "0": "I don't think I'll be running back to Carly's anytime soon for food.",
                  "1": "neutral",
                  "3": {
                    "positive": 0.03,
                    "neutral": 0.77,
                    "negative": 0.2
                  },
                  "4": [
                    {
                      "sentiment": "neutral",
                      "confidenceScores": {
                        "positive": 0.03,
                        "neutral": 0.77,
                        "negative": 0.2
                      },
                      "text": "I don't think I'll be running back to Carly's anytime soon for food.",
                      "offset": 0,
                      "length": 68
                    }
                  ],
                  "5": []
                },
                {
                  "0": "This is was due to the fact that it took 20 minutes to be acknowledged, then another 35 minutes to get our food...and they kept forgetting things.",
                  "1": "negative",
                  "3": {
                    "positive": 0.01,
                    "neutral": 0.1,
                    "negative": 0.89
                  },
                  "4": [
                    {
                      "sentiment": "neutral",
                      "confidenceScores": {
                        "positive": 0.15,
                        "neutral": 0.44,
                        "negative": 0.41
                      },
                      "text": "This is was due to the fact that it took 20 minutes to be acknowledged, then another 35 minutes to get our food...",
                      "offset": 0,
                      "length": 114
                    },
                    {
                      "sentiment": "negative",
                      "confidenceScores": {
                        "positive": 0.01,
                        "neutral": 0.1,
                        "negative": 0.89
                      },
                      "text": "and they kept forgetting things.",
                      "offset": 114,
                      "length": 32
                    }
                  ],
                  "5": []
                },
                {
                  "0": "Love the margaritas, too!",
                  "1": "positive",
                  "3": {
                    "positive": 1,
                    "neutral": 0,
                    "negative": 0
                  },
                  "4": [
                    {
                      "sentiment": "positive",
                      "confidenceScores": {
                        "positive": 1,
                        "neutral": 0,
                        "negative": 0
                      },
                      "text": "Love the margaritas, too!",
                      "offset": 0,
                      "length": 25
                    }
                  ],
                  "5": []
                },
                {
                  "0": "This was my first and only Vegas buffet and it did not disappoint.",
                  "1": "positive",
                  "3": {
                    "positive": 0.94,
                    "neutral": 0.01,
                    "negative": 0.06
                  },
                  "4": [
                    {
                      "sentiment": "positive",
                      "confidenceScores": {
                        "positive": 0.94,
                        "neutral": 0.01,
                        "negative": 0.06
                      },
                      "text": "This was my first and only Vegas buffet and it did not disappoint.",
                      "offset": 0,
                      "length": 66
                    }
                  ],
                  "5": []
                },
                {
                  "0": "Very good, though!",
                  "1": "positive",
                  "3": {
                    "positive": 0.99,
                    "neutral": 0,
                    "negative": 0
                  },
                  "4": [
                    {
                      "sentiment": "positive",
                      "confidenceScores": {
                        "positive": 0.99,
                        "neutral": 0,
                        "negative": 0
                      },
                      "text": "Very good, though!",
                      "offset": 0,
                      "length": 18
                    }
                  ],
                  "5": []
                },
                {
                  "0": "The one down note is the ventilation could use some upgrading.",
                  "1": "neutral",
                  "3": {
                    "positive": 0.45,
                    "neutral": 0.49,
                    "negative": 0.07
                  },
                  "4": [
                    {
                      "sentiment": "neutral",
                      "confidenceScores": {
                        "positive": 0.45,
                        "neutral": 0.49,
                        "negative": 0.07
                      },
                      "text": "The one down note is the ventilation could use some upgrading.",
                      "offset": 0,
                      "length": 62
                    }
                  ],
                  "5": []
                },
                {
                  "0": "Great pork sandwich.",
                  "1": "positive",
                  "3": {
                    "positive": 1,
                    "neutral": 0,
                    "negative": 0
                  },
                  "4": [
                    {
                      "sentiment": "positive",
                      "confidenceScores": {
                        "positive": 1,
                        "neutral": 0,
                        "negative": 0
                      },
                      "text": "Great pork sandwich.",
                      "offset": 0,
                      "length": 20
                    }
                  ],
                  "5": []
                },
                {
                  "0": "Don't waste your time here.",
                  "1": "positive",
                  "3": {
                    "positive": 0.47,
                    "neutral": 0.36,
                    "negative": 0.17
                  },
                  "4": [
                    {
                      "sentiment": "positive",
                      "confidenceScores": {
                        "positive": 0.47,
                        "neutral": 0.36,
                        "negative": 0.17
                      },
                      "text": "Don't waste your time here.",
                      "offset": 0,
                      "length": 27
                    }
                  ],
                  "5": []
                },
                {
                  "0": "Total letdown, I would much rather just go to the Camelback Flower Shop and Cartel Coffee.",
                  "1": "negative",
                  "3": {
                    "positive": 0,
                    "neutral": 0,
                    "negative": 0.99
                  },
                  "4": [
                    {
                      "sentiment": "negative",
                      "confidenceScores": {
                        "positive": 0,
                        "neutral": 0,
                        "negative": 0.99
                      },
                      "text": "Total letdown, I would much rather just go to the Camelback Flower Shop and Cartel Coffee.",
                      "offset": 0,
                      "length": 90
                    }
                  ],
                  "5": []
                },
                {
                  "0": "Third, the cheese on my friend's burger was cold.",
                  "1": "negative",
                  "3": {
                    "positive": 0,
                    "neutral": 0.03,
                    "negative": 0.97
                  },
                  "4": [
                    {
                      "sentiment": "negative",
                      "confidenceScores": {
                        "positive": 0,
                        "neutral": 0.03,
                        "negative": 0.97
                      },
                      "text": "Third, the cheese on my friend's burger was cold.",
                      "offset": 0,
                      "length": 49
                    }
                  ],
                  "5": []
                },
                {
                  "0": "We enjoy their pizza and brunch.",
                  "1": "positive",
                  "3": {
                    "positive": 0.99,
                    "neutral": 0,
                    "negative": 0
                  },
                  "4": [
                    {
                      "sentiment": "positive",
                      "confidenceScores": {
                        "positive": 0.99,
                        "neutral": 0,
                        "negative": 0
                      },
                      "text": "We enjoy their pizza and brunch.",
                      "offset": 0,
                      "length": 32
                    }
                  ],
                  "5": []
                },
                {
                  "0": "The steaks are all well trimmed and also perfectly cooked.",
                  "1": "positive",
                  "3": {
                    "positive": 0.99,
                    "neutral": 0,
                    "negative": 0
                  },
                  "4": [
                    {
                      "sentiment": "positive",
                      "confidenceScores": {
                        "positive": 0.99,
                        "neutral": 0,
                        "negative": 0
                      },
                      "text": "The steaks are all well trimmed and also perfectly cooked.",
                      "offset": 0,
                      "length": 58
                    }
                  ],
                  "5": []
                },
                {
                  "0": "We had a group of 70+ when we claimed we would only have 40 and they handled us beautifully.",
                  "1": "positive",
                  "3": {
                    "positive": 0.99,
                    "neutral": 0,
                    "negative": 0
                  },
                  "4": [
                    {
                      "sentiment": "positive",
                      "confidenceScores": {
                        "positive": 0.99,
                        "neutral": 0,
                        "negative": 0
                      },
                      "text": "We had a group of 70+ when we claimed we would only have 40 and they handled us beautifully.",
                      "offset": 0,
                      "length": 92
                    }
                  ],
                  "5": []
                },
                {
                  "0": "I LOVED it!",
                  "1": "positive",
                  "3": {
                    "positive": 0.99,
                    "neutral": 0,
                    "negative": 0
                  },
                  "4": [
                    {
                      "sentiment": "positive",
                      "confidenceScores": {
                        "positive": 0.99,
                        "neutral": 0,
                        "negative": 0
                      },
                      "text": "I LOVED it!",
                      "offset": 0,
                      "length": 11
                    }
                  ],
                  "5": []
                },
                {
                  "0": "We asked for the bill to leave without eating and they didn't bring that either.",
                  "1": "neutral",
                  "3": {
                    "positive": 0.01,
                    "neutral": 0.68,
                    "negative": 0.31
                  },
                  "4": [
                    {
                      "sentiment": "neutral",
                      "confidenceScores": {
                        "positive": 0.01,
                        "neutral": 0.68,
                        "negative": 0.31
                      },
                      "text": "We asked for the bill to leave without eating and they didn't bring that either.",
                      "offset": 0,
                      "length": 80
                    }
                  ],
                  "5": []
                },
                {
                  "0": "This place is a jewel in Las Vegas, and exactly what I've been hoping to find in nearly ten years living here.",
                  "1": "positive",
                  "3": {
                    "positive": 0.95,
                    "neutral": 0.04,
                    "negative": 0.01
                  },
                  "4": [
                    {
                      "sentiment": "positive",
                      "confidenceScores": {
                        "positive": 0.95,
                        "neutral": 0.04,
                        "negative": 0.01
                      },
                      "text": "This place is a jewel in Las Vegas, and exactly what I've been hoping to find in nearly ten years living here.",
                      "offset": 0,
                      "length": 110
                    }
                  ],
                  "5": []
                },
                {
                  "0": "Seafood was limited to boiled shrimp and crab legs but the crab legs definitely did not taste fresh.",
                  "1": "negative",
                  "3": {
                    "positive": 0.01,
                    "neutral": 0.03,
                    "negative": 0.97
                  },
                  "4": [
                    {
                      "sentiment": "negative",
                      "confidenceScores": {
                        "positive": 0.01,
                        "neutral": 0.03,
                        "negative": 0.97
                      },
                      "text": "Seafood was limited to boiled shrimp and crab legs but the crab legs definitely did not taste fresh.",
                      "offset": 0,
                      "length": 100
                    }
                  ],
                  "5": []
                },
                {
                  "0": "The selection of food was not the best.",
                  "1": "negative",
                  "3": {
                    "positive": 0.01,
                    "neutral": 0,
                    "negative": 0.99
                  },
                  "4": [
                    {
                      "sentiment": "negative",
                      "confidenceScores": {
                        "positive": 0.01,
                        "neutral": 0,
                        "negative": 0.99
                      },
                      "text": "The selection of food was not the best.",
                      "offset": 0,
                      "length": 39
                    }
                  ],
                  "5": []
                },
                {
                  "0": "Delicious and I will absolutely be back!",
                  "1": "positive",
                  "3": {
                    "positive": 1,
                    "neutral": 0,
                    "negative": 0
                  },
                  "4": [
                    {
                      "sentiment": "positive",
                      "confidenceScores": {
                        "positive": 1,
                        "neutral": 0,
                        "negative": 0
                      },
                      "text": "Delicious and I will absolutely be back!",
                      "offset": 0,
                      "length": 40
                    }
                  ],
                  "5": []
                },
                {
                  "0": "This isn't a small family restaurant, this is a fine dining establishment.",
                  "1": "positive",
                  "3": {
                    "positive": 0.98,
                    "neutral": 0.01,
                    "negative": 0.01
                  },
                  "4": [
                    {
                      "sentiment": "positive",
                      "confidenceScores": {
                        "positive": 0.98,
                        "neutral": 0.01,
                        "negative": 0.01
                      },
                      "text": "This isn't a small family restaurant, this is a fine dining establishment.",
                      "offset": 0,
                      "length": 74
                    }
                  ],
                  "5": []
                },
                {
                  "0": "They had a toro tartare with a cavier that was extraordinary and I liked the thinly sliced wagyu with white truffle.",
                  "1": "positive",
                  "3": {
                    "positive": 0.99,
                    "neutral": 0,
                    "negative": 0.01
                  },
                  "4": [
                    {
                      "sentiment": "positive",
                      "confidenceScores": {
                        "positive": 0.99,
                        "neutral": 0,
                        "negative": 0.01
                      },
                      "text": "They had a toro tartare with a cavier that was extraordinary and I liked the thinly sliced wagyu with white truffle.",
                      "offset": 0,
                      "length": 116
                    }
                  ],
                  "5": []
                },
                {
                  "0": "I dont think I will be back for a very long time.",
                  "1": "neutral",
                  "3": {
                    "positive": 0.03,
                    "neutral": 0.77,
                    "negative": 0.2
                  },
                  "4": [
                    {
                      "sentiment": "neutral",
                      "confidenceScores": {
                        "positive": 0.03,
                        "neutral": 0.77,
                        "negative": 0.2
                      },
                      "text": "I dont think I will be back for a very long time.",
                      "offset": 0,
                      "length": 49
                    }
                  ],
                  "5": []
                },
                {
                  "0": "It was attached to a gas station, and that is rarely a good sign.",
                  "1": "negative",
                  "3": {
                    "positive": 0.01,
                    "neutral": 0.04,
                    "negative": 0.95
                  },
                  "4": [
                    {
                      "sentiment": "negative",
                      "confidenceScores": {
                        "positive": 0.01,
                        "neutral": 0.04,
                        "negative": 0.95
                      },
                      "text": "It was attached to a gas station, and that is rarely a good sign.",
                      "offset": 0,
                      "length": 65
                    }
                  ],
                  "5": []
                },
                {
                  "0": "How awesome is that.",
                  "1": "positive",
                  "3": {
                    "positive": 0.99,
                    "neutral": 0.01,
                    "negative": 0.01
                  },
                  "4": [
                    {
                      "sentiment": "positive",
                      "confidenceScores": {
                        "positive": 0.99,
                        "neutral": 0.01,
                        "negative": 0.01
                      },
                      "text": "How awesome is that.",
                      "offset": 0,
                      "length": 20
                    }
                  ],
                  "5": []
                },
                {
                  "0": "I will be back many times soon.",
                  "1": "neutral",
                  "3": {
                    "positive": 0.25,
                    "neutral": 0.72,
                    "negative": 0.03
                  },
                  "4": [
                    {
                      "sentiment": "neutral",
                      "confidenceScores": {
                        "positive": 0.25,
                        "neutral": 0.72,
                        "negative": 0.03
                      },
                      "text": "I will be back many times soon.",
                      "offset": 0,
                      "length": 31
                    }
                  ],
                  "5": []
                },
                {
                  "0": "The menu had so much good stuff on it i could not decide!",
                  "1": "positive",
                  "3": {
                    "positive": 0.99,
                    "neutral": 0,
                    "negative": 0.01
                  },
                  "4": [
                    {
                      "sentiment": "positive",
                      "confidenceScores": {
                        "positive": 0.99,
                        "neutral": 0,
                        "negative": 0.01
                      },
                      "text": "The menu had so much good stuff on it i could not decide!",
                      "offset": 0,
                      "length": 57
                    }
                  ],
                  "5": []
                },
                {
                  "0": "Worse of all, he humiliated his worker right in front of me..Bunch of horrible name callings.",
                  "1": "negative",
                  "3": {
                    "positive": 0.01,
                    "neutral": 0,
                    "negative": 0.99
                  },
                  "4": [
                    {
                      "sentiment": "negative",
                      "confidenceScores": {
                        "positive": 0,
                        "neutral": 0,
                        "negative": 0.99
                      },
                      "text": "Worse of all, he humiliated his worker right in front of me..",
                      "offset": 0,
                      "length": 61
                    },
                    {
                      "sentiment": "negative",
                      "confidenceScores": {
                        "positive": 0.01,
                        "neutral": 0,
                        "negative": 0.99
                      },
                      "text": "Bunch of horrible name callings.",
                      "offset": 61,
                      "length": 32
                    }
                  ],
                  "5": []
                },
                {
                  "0": "CONCLUSION: Very filling meals.",
                  "1": "positive",
                  "3": {
                    "positive": 0.99,
                    "neutral": 0.01,
                    "negative": 0.01
                  },
                  "4": [
                    {
                      "sentiment": "positive",
                      "confidenceScores": {
                        "positive": 0.99,
                        "neutral": 0.01,
                        "negative": 0.01
                      },
                      "text": "CONCLUSION: Very filling meals.",
                      "offset": 0,
                      "length": 31
                    }
                  ],
                  "5": []
                },
                {
                  "0": "Their daily specials are always a hit with my group.",
                  "1": "positive",
                  "3": {
                    "positive": 0.94,
                    "neutral": 0.05,
                    "negative": 0.01
                  },
                  "4": [
                    {
                      "sentiment": "positive",
                      "confidenceScores": {
                        "positive": 0.94,
                        "neutral": 0.05,
                        "negative": 0.01
                      },
                      "text": "Their daily specials are always a hit with my group.",
                      "offset": 0,
                      "length": 52
                    }
                  ],
                  "5": []
                },
                {
                  "0": "And then tragedy struck.",
                  "1": "negative",
                  "3": {
                    "positive": 0.01,
                    "neutral": 0.03,
                    "negative": 0.96
                  },
                  "4": [
                    {
                      "sentiment": "negative",
                      "confidenceScores": {
                        "positive": 0.01,
                        "neutral": 0.03,
                        "negative": 0.96
                      },
                      "text": "And then tragedy struck.",
                      "offset": 0,
                      "length": 24
                    }
                  ],
                  "5": []
                },
                {
                  "0": "The pancake was also really good and pretty large at that.",
                  "1": "positive",
                  "3": {
                    "positive": 0.98,
                    "neutral": 0.01,
                    "negative": 0.01
                  },
                  "4": [
                    {
                      "sentiment": "positive",
                      "confidenceScores": {
                        "positive": 0.98,
                        "neutral": 0.01,
                        "negative": 0.01
                      },
                      "text": "The pancake was also really good and pretty large at that.",
                      "offset": 0,
                      "length": 58
                    }
                  ],
                  "5": []
                },
                {
                  "0": "This was my first crawfish experience, and it was delicious!",
                  "1": "positive",
                  "3": {
                    "positive": 0.99,
                    "neutral": 0,
                    "negative": 0
                  },
                  "4": [
                    {
                      "sentiment": "positive",
                      "confidenceScores": {
                        "positive": 0.99,
                        "neutral": 0,
                        "negative": 0
                      },
                      "text": "This was my first crawfish experience, and it was delicious!",
                      "offset": 0,
                      "length": 60
                    }
                  ],
                  "5": []
                },
                {
                  "0": "Their monster chicken fried steak and eggs is my all time favorite.",
                  "1": "positive",
                  "3": {
                    "positive": 0.96,
                    "neutral": 0.01,
                    "negative": 0.03
                  },
                  "4": [
                    {
                      "sentiment": "positive",
                      "confidenceScores": {
                        "positive": 0.96,
                        "neutral": 0.01,
                        "negative": 0.03
                      },
                      "text": "Their monster chicken fried steak and eggs is my all time favorite.",
                      "offset": 0,
                      "length": 67
                    }
                  ],
                  "5": []
                },
                {
                  "0": "Waitress was sweet and funny.",
                  "1": "positive",
                  "3": {
                    "positive": 0.99,
                    "neutral": 0,
                    "negative": 0
                  },
                  "4": [
                    {
                      "sentiment": "positive",
                      "confidenceScores": {
                        "positive": 0.99,
                        "neutral": 0,
                        "negative": 0
                      },
                      "text": "Waitress was sweet and funny.",
                      "offset": 0,
                      "length": 29
                    }
                  ],
                  "5": []
                },
                {
                  "0": "I also had to taste my Mom's multi-grain pumpkin pancakes with pecan butter and they were amazing, fluffy, and delicious!",
                  "1": "positive",
                  "3": {
                    "positive": 0.99,
                    "neutral": 0,
                    "negative": 0
                  },
                  "4": [
                    {
                      "sentiment": "positive",
                      "confidenceScores": {
                        "positive": 0.99,
                        "neutral": 0,
                        "negative": 0
                      },
                      "text": "I also had to taste my Mom's multi-grain pumpkin pancakes with pecan butter and they were amazing, fluffy, and delicious!",
                      "offset": 0,
                      "length": 121
                    }
                  ],
                  "5": []
                },
                {
                  "0": "I'd rather eat airline food, seriously.",
                  "1": "neutral",
                  "3": {
                    "positive": 0.04,
                    "neutral": 0.78,
                    "negative": 0.18
                  },
                  "4": [
                    {
                      "sentiment": "neutral",
                      "confidenceScores": {
                        "positive": 0.04,
                        "neutral": 0.78,
                        "negative": 0.18
                      },
                      "text": "I'd rather eat airline food, seriously.",
                      "offset": 0,
                      "length": 39
                    }
                  ],
                  "5": []
                },
                {
                  "0": "Cant say enough good things about this place.",
                  "1": "positive",
                  "3": {
                    "positive": 0.96,
                    "neutral": 0,
                    "negative": 0.03
                  },
                  "4": [
                    {
                      "sentiment": "positive",
                      "confidenceScores": {
                        "positive": 0.96,
                        "neutral": 0,
                        "negative": 0.03
                      },
                      "text": "Cant say enough good things about this place.",
                      "offset": 0,
                      "length": 45
                    }
                  ],
                  "5": []
                },
                {
                  "0": "The ambiance was incredible.",
                  "1": "positive",
                  "3": {
                    "positive": 0.98,
                    "neutral": 0.01,
                    "negative": 0.01
                  },
                  "4": [
                    {
                      "sentiment": "positive",
                      "confidenceScores": {
                        "positive": 0.98,
                        "neutral": 0.01,
                        "negative": 0.01
                      },
                      "text": "The ambiance was incredible.",
                      "offset": 0,
                      "length": 28
                    }
                  ],
                  "5": []
                },
                {
                  "0": "The waitress and manager are so friendly.",
                  "1": "positive",
                  "3": {
                    "positive": 0.99,
                    "neutral": 0,
                    "negative": 0
                  },
                  "4": [
                    {
                      "sentiment": "positive",
                      "confidenceScores": {
                        "positive": 0.99,
                        "neutral": 0,
                        "negative": 0
                      },
                      "text": "The waitress and manager are so friendly.",
                      "offset": 0,
                      "length": 41
                    }
                  ],
                  "5": []
                },
                {
                  "0": "I would not recommend this place.",
                  "1": "negative",
                  "3": {
                    "positive": 0.01,
                    "neutral": 0,
                    "negative": 0.99
                  },
                  "4": [
                    {
                      "sentiment": "negative",
                      "confidenceScores": {
                        "positive": 0.01,
                        "neutral": 0,
                        "negative": 0.99
                      },
                      "text": "I would not recommend this place.",
                      "offset": 0,
                      "length": 33
                    }
                  ],
                  "5": []
                },
                {
                  "0": "Overall I wasn't very impressed with Noca.",
                  "1": "negative",
                  "3": {
                    "positive": 0.01,
                    "neutral": 0.01,
                    "negative": 0.98
                  },
                  "4": [
                    {
                      "sentiment": "negative",
                      "confidenceScores": {
                        "positive": 0.01,
                        "neutral": 0.01,
                        "negative": 0.98
                      },
                      "text": "Overall I wasn't very impressed with Noca.",
                      "offset": 0,
                      "length": 42
                    }
                  ],
                  "5": []
                },
                {
                  "0": "My gyro was basically lettuce only.",
                  "1": "neutral",
                  "3": {
                    "positive": 0.01,
                    "neutral": 0.98,
                    "negative": 0.02
                  },
                  "4": [
                    {
                      "sentiment": "neutral",
                      "confidenceScores": {
                        "positive": 0.01,
                        "neutral": 0.98,
                        "negative": 0.02
                      },
                      "text": "My gyro was basically lettuce only.",
                      "offset": 0,
                      "length": 35
                    }
                  ],
                  "5": []
                },
                {
                  "0": "Terrible service!",
                  "1": "negative",
                  "3": {
                    "positive": 0.04,
                    "neutral": 0,
                    "negative": 0.96
                  },
                  "4": [
                    {
                      "sentiment": "negative",
                      "confidenceScores": {
                        "positive": 0.04,
                        "neutral": 0,
                        "negative": 0.96
                      },
                      "text": "Terrible service!",
                      "offset": 0,
                      "length": 17
                    }
                  ],
                  "5": []
                },
                {
                  "0": "Thoroughly disappointed!",
                  "1": "negative",
                  "3": {
                    "positive": 0.01,
                    "neutral": 0,
                    "negative": 0.99
                  },
                  "4": [
                    {
                      "sentiment": "negative",
                      "confidenceScores": {
                        "positive": 0.01,
                        "neutral": 0,
                        "negative": 0.99
                      },
                      "text": "Thoroughly disappointed!",
                      "offset": 0,
                      "length": 24
                    }
                  ],
                  "5": []
                },
                {
                  "0": "I don't each much pasta, but I love the homemade /hand made pastas and thin pizzas here.",
                  "1": "positive",
                  "3": {
                    "positive": 0.98,
                    "neutral": 0.01,
                    "negative": 0.01
                  },
                  "4": [
                    {
                      "sentiment": "positive",
                      "confidenceScores": {
                        "positive": 0.98,
                        "neutral": 0.01,
                        "negative": 0.01
                      },
                      "text": "I don't each much pasta, but I love the homemade /hand made pastas and thin pizzas here.",
                      "offset": 0,
                      "length": 88
                    }
                  ],
                  "5": []
                },
                {
                  "0": "Give it a try, you will be happy you did.",
                  "1": "positive",
                  "3": {
                    "positive": 0.99,
                    "neutral": 0.01,
                    "negative": 0
                  },
                  "4": [
                    {
                      "sentiment": "positive",
                      "confidenceScores": {
                        "positive": 0.99,
                        "neutral": 0.01,
                        "negative": 0
                      },
                      "text": "Give it a try, you will be happy you did.",
                      "offset": 0,
                      "length": 41
                    }
                  ],
                  "5": []
                },
                {
                  "0": "By far the BEST cheesecurds we have ever had!",
                  "1": "positive",
                  "3": {
                    "positive": 0.99,
                    "neutral": 0,
                    "negative": 0.01
                  },
                  "4": [
                    {
                      "sentiment": "positive",
                      "confidenceScores": {
                        "positive": 0.99,
                        "neutral": 0,
                        "negative": 0.01
                      },
                      "text": "By far the BEST cheesecurds we have ever had!",
                      "offset": 0,
                      "length": 45
                    }
                  ],
                  "5": []
                },
                {
                  "0": "Reasonably priced also!",
                  "1": "positive",
                  "3": {
                    "positive": 0.97,
                    "neutral": 0.02,
                    "negative": 0.01
                  },
                  "4": [
                    {
                      "sentiment": "positive",
                      "confidenceScores": {
                        "positive": 0.97,
                        "neutral": 0.02,
                        "negative": 0.01
                      },
                      "text": "Reasonably priced also!",
                      "offset": 0,
                      "length": 23
                    }
                  ],
                  "5": []
                },
                {
                  "0": "Everything was perfect the night we were in.",
                  "1": "positive",
                  "3": {
                    "positive": 0.99,
                    "neutral": 0,
                    "negative": 0
                  },
                  "4": [
                    {
                      "sentiment": "positive",
                      "confidenceScores": {
                        "positive": 0.99,
                        "neutral": 0,
                        "negative": 0
                      },
                      "text": "Everything was perfect the night we were in.",
                      "offset": 0,
                      "length": 44
                    }
                  ],
                  "5": []
                },
                {
                  "0": "The food is very good for your typical bar food.",
                  "1": "positive",
                  "3": {
                    "positive": 1,
                    "neutral": 0,
                    "negative": 0
                  },
                  "4": [
                    {
                      "sentiment": "positive",
                      "confidenceScores": {
                        "positive": 1,
                        "neutral": 0,
                        "negative": 0
                      },
                      "text": "The food is very good for your typical bar food.",
                      "offset": 0,
                      "length": 48
                    }
                  ],
                  "5": []
                },
                {
                  "0": "it was a drive to get there.",
                  "1": "neutral",
                  "3": {
                    "positive": 0.19,
                    "neutral": 0.74,
                    "negative": 0.07
                  },
                  "4": [
                    {
                      "sentiment": "neutral",
                      "confidenceScores": {
                        "positive": 0.19,
                        "neutral": 0.74,
                        "negative": 0.07
                      },
                      "text": "it was a drive to get there.",
                      "offset": 0,
                      "length": 28
                    }
                  ],
                  "5": []
                },
                {
                  "0": "At first glance it is a lovely bakery cafe - nice ambiance, clean, friendly staff.",
                  "1": "positive",
                  "3": {
                    "positive": 1,
                    "neutral": 0,
                    "negative": 0
                  },
                  "4": [
                    {
                      "sentiment": "positive",
                      "confidenceScores": {
                        "positive": 1,
                        "neutral": 0,
                        "negative": 0
                      },
                      "text": "At first glance it is a lovely bakery cafe - nice ambiance, clean, friendly staff.",
                      "offset": 0,
                      "length": 82
                    }
                  ],
                  "5": []
                },
                {
                  "0": "Anyway, I do not think i will go back there.",
                  "1": "neutral",
                  "3": {
                    "positive": 0.01,
                    "neutral": 0.9,
                    "negative": 0.09
                  },
                  "4": [
                    {
                      "sentiment": "neutral",
                      "confidenceScores": {
                        "positive": 0.01,
                        "neutral": 0.9,
                        "negative": 0.09
                      },
                      "text": "Anyway, I do not think i will go back there.",
                      "offset": 0,
                      "length": 44
                    }
                  ],
                  "5": []
                },
                {
                  "0": "Point your finger at any item on the menu, order it and you won't be disappointed.",
                  "1": "positive",
                  "3": {
                    "positive": 0.78,
                    "neutral": 0.13,
                    "negative": 0.09
                  },
                  "4": [
                    {
                      "sentiment": "positive",
                      "confidenceScores": {
                        "positive": 0.78,
                        "neutral": 0.13,
                        "negative": 0.09
                      },
                      "text": "Point your finger at any item on the menu, order it and you won't be disappointed.",
                      "offset": 0,
                      "length": 82
                    }
                  ],
                  "5": []
                },
                {
                  "0": "Oh this is such a thing of beauty, this restaurant.",
                  "1": "positive",
                  "3": {
                    "positive": 0.99,
                    "neutral": 0.01,
                    "negative": 0
                  },
                  "4": [
                    {
                      "sentiment": "positive",
                      "confidenceScores": {
                        "positive": 0.99,
                        "neutral": 0.01,
                        "negative": 0
                      },
                      "text": "Oh this is such a thing of beauty, this restaurant.",
                      "offset": 0,
                      "length": 51
                    }
                  ],
                  "5": []
                },
                {
                  "0": "If you haven't gone here GO NOW!",
                  "1": "neutral",
                  "3": {
                    "positive": 0.06,
                    "neutral": 0.9,
                    "negative": 0.04
                  },
                  "4": [
                    {
                      "sentiment": "neutral",
                      "confidenceScores": {
                        "positive": 0.06,
                        "neutral": 0.9,
                        "negative": 0.04
                      },
                      "text": "If you haven't gone here GO NOW!",
                      "offset": 0,
                      "length": 32
                    }
                  ],
                  "5": []
                },
                {
                  "0": "A greasy, unhealthy meal.",
                  "1": "negative",
                  "3": {
                    "positive": 0,
                    "neutral": 0,
                    "negative": 0.99
                  },
                  "4": [
                    {
                      "sentiment": "negative",
                      "confidenceScores": {
                        "positive": 0,
                        "neutral": 0,
                        "negative": 0.99
                      },
                      "text": "A greasy, unhealthy meal.",
                      "offset": 0,
                      "length": 25
                    }
                  ],
                  "5": []
                },
                {
                  "0": "first time there and might just be the last.",
                  "1": "neutral",
                  "3": {
                    "positive": 0.15,
                    "neutral": 0.74,
                    "negative": 0.11
                  },
                  "4": [
                    {
                      "sentiment": "neutral",
                      "confidenceScores": {
                        "positive": 0.15,
                        "neutral": 0.74,
                        "negative": 0.11
                      },
                      "text": "first time there and might just be the last.",
                      "offset": 0,
                      "length": 44
                    }
                  ],
                  "5": []
                },
                {
                  "0": "Those burgers were amazing.",
                  "1": "positive",
                  "3": {
                    "positive": 0.99,
                    "neutral": 0,
                    "negative": 0.01
                  },
                  "4": [
                    {
                      "sentiment": "positive",
                      "confidenceScores": {
                        "positive": 0.99,
                        "neutral": 0,
                        "negative": 0.01
                      },
                      "text": "Those burgers were amazing.",
                      "offset": 0,
                      "length": 27
                    }
                  ],
                  "5": []
                },
                {
                  "0": "Similarly, the delivery man did not say a word of apology when our food was 45 minutes late.",
                  "1": "negative",
                  "3": {
                    "positive": 0,
                    "neutral": 0.01,
                    "negative": 0.99
                  },
                  "4": [
                    {
                      "sentiment": "negative",
                      "confidenceScores": {
                        "positive": 0,
                        "neutral": 0.01,
                        "negative": 0.99
                      },
                      "text": "Similarly, the delivery man did not say a word of apology when our food was 45 minutes late.",
                      "offset": 0,
                      "length": 92
                    }
                  ],
                  "5": []
                },
                {
                  "0": "And it was way to expensive.",
                  "1": "negative",
                  "3": {
                    "positive": 0,
                    "neutral": 0.01,
                    "negative": 0.99
                  },
                  "4": [
                    {
                      "sentiment": "negative",
                      "confidenceScores": {
                        "positive": 0,
                        "neutral": 0.01,
                        "negative": 0.99
                      },
                      "text": "And it was way to expensive.",
                      "offset": 0,
                      "length": 28
                    }
                  ],
                  "5": []
                },
                {
                  "0": "Be sure to order dessert, even if you need to pack it to-go - the tiramisu and cannoli are both to die for.",
                  "1": "positive",
                  "3": {
                    "positive": 0.39,
                    "neutral": 0.38,
                    "negative": 0.22
                  },
                  "4": [
                    {
                      "sentiment": "positive",
                      "confidenceScores": {
                        "positive": 0.39,
                        "neutral": 0.38,
                        "negative": 0.22
                      },
                      "text": "Be sure to order dessert, even if you need to pack it to-go - the tiramisu and cannoli are both to die for.",
                      "offset": 0,
                      "length": 107
                    }
                  ],
                  "5": []
                },
                {
                  "0": "This was my first time and I can't wait until the next.",
                  "1": "positive",
                  "3": {
                    "positive": 0.81,
                    "neutral": 0.15,
                    "negative": 0.04
                  },
                  "4": [
                    {
                      "sentiment": "positive",
                      "confidenceScores": {
                        "positive": 0.81,
                        "neutral": 0.15,
                        "negative": 0.04
                      },
                      "text": "This was my first time and I can't wait until the next.",
                      "offset": 0,
                      "length": 55
                    }
                  ],
                  "5": []
                },
                {
                  "0": "The bartender was also nice.",
                  "1": "positive",
                  "3": {
                    "positive": 1,
                    "neutral": 0,
                    "negative": 0
                  },
                  "4": [
                    {
                      "sentiment": "positive",
                      "confidenceScores": {
                        "positive": 1,
                        "neutral": 0,
                        "negative": 0
                      },
                      "text": "The bartender was also nice.",
                      "offset": 0,
                      "length": 28
                    }
                  ],
                  "5": []
                },
                {
                  "0": "Everything was good and tasty!",
                  "1": "positive",
                  "3": {
                    "positive": 1,
                    "neutral": 0,
                    "negative": 0
                  },
                  "4": [
                    {
                      "sentiment": "positive",
                      "confidenceScores": {
                        "positive": 1,
                        "neutral": 0,
                        "negative": 0
                      },
                      "text": "Everything was good and tasty!",
                      "offset": 0,
                      "length": 30
                    }
                  ],
                  "5": []
                },
                {
                  "0": "This place is two thumbs up....way up.",
                  "1": "neutral",
                  "3": {
                    "positive": 0.04,
                    "neutral": 0.93,
                    "negative": 0.03
                  },
                  "4": [
                    {
                      "sentiment": "neutral",
                      "confidenceScores": {
                        "positive": 0.04,
                        "neutral": 0.92,
                        "negative": 0.04
                      },
                      "text": "This place is two thumbs up....",
                      "offset": 0,
                      "length": 31
                    },
                    {
                      "sentiment": "neutral",
                      "confidenceScores": {
                        "positive": 0.03,
                        "neutral": 0.95,
                        "negative": 0.02
                      },
                      "text": "way up.",
                      "offset": 31,
                      "length": 7
                    }
                  ],
                  "5": []
                },
                {
                  "0": "The best place in Vegas for breakfast (just check out a Sat, or Sun.",
                  "1": "positive",
                  "3": {
                    "positive": 0.99,
                    "neutral": 0,
                    "negative": 0
                  },
                  "4": [
                    {
                      "sentiment": "positive",
                      "confidenceScores": {
                        "positive": 0.99,
                        "neutral": 0,
                        "negative": 0
                      },
                      "text": "The best place in Vegas for breakfast (just check out a Sat, or Sun.",
                      "offset": 0,
                      "length": 68
                    }
                  ],
                  "5": []
                },
                {
                  "0": "If you love authentic Mexican food and want a whole bunch of interesting, yet delicious meats to choose from, you need to try this place.",
                  "1": "positive",
                  "3": {
                    "positive": 0.99,
                    "neutral": 0.01,
                    "negative": 0
                  },
                  "4": [
                    {
                      "sentiment": "positive",
                      "confidenceScores": {
                        "positive": 0.99,
                        "neutral": 0.01,
                        "negative": 0
                      },
                      "text": "If you love authentic Mexican food and want a whole bunch of interesting, yet delicious meats to choose from, you need to try this place.",
                      "offset": 0,
                      "length": 137
                    }
                  ],
                  "5": []
                },
                {
                  "0": "Terrible management.",
                  "1": "negative",
                  "3": {
                    "positive": 0.01,
                    "neutral": 0,
                    "negative": 0.99
                  },
                  "4": [
                    {
                      "sentiment": "negative",
                      "confidenceScores": {
                        "positive": 0.01,
                        "neutral": 0,
                        "negative": 0.99
                      },
                      "text": "Terrible management.",
                      "offset": 0,
                      "length": 20
                    }
                  ],
                  "5": []
                },
                {
                  "0": "An excellent new restaurant by an experienced Frenchman.",
                  "1": "positive",
                  "3": {
                    "positive": 1,
                    "neutral": 0,
                    "negative": 0
                  },
                  "4": [
                    {
                      "sentiment": "positive",
                      "confidenceScores": {
                        "positive": 1,
                        "neutral": 0,
                        "negative": 0
                      },
                      "text": "An excellent new restaurant by an experienced Frenchman.",
                      "offset": 0,
                      "length": 56
                    }
                  ],
                  "5": []
                },
                {
                  "0": "If there were zero stars I would give it zero stars.",
                  "1": "neutral",
                  "3": {
                    "positive": 0.01,
                    "neutral": 0.75,
                    "negative": 0.23
                  },
                  "4": [
                    {
                      "sentiment": "neutral",
                      "confidenceScores": {
                        "positive": 0.01,
                        "neutral": 0.75,
                        "negative": 0.23
                      },
                      "text": "If there were zero stars I would give it zero stars.",
                      "offset": 0,
                      "length": 52
                    }
                  ],
                  "5": []
                },
                {
                  "0": "Great steak, great sides, great wine, amazing desserts.",
                  "1": "positive",
                  "3": {
                    "positive": 1,
                    "neutral": 0,
                    "negative": 0
                  },
                  "4": [
                    {
                      "sentiment": "positive",
                      "confidenceScores": {
                        "positive": 1,
                        "neutral": 0,
                        "negative": 0
                      },
                      "text": "Great steak, great sides, great wine, amazing desserts.",
                      "offset": 0,
                      "length": 55
                    }
                  ],
                  "5": []
                },
                {
                  "0": "Worst martini ever!",
                  "1": "negative",
                  "3": {
                    "positive": 0.02,
                    "neutral": 0,
                    "negative": 0.98
                  },
                  "4": [
                    {
                      "sentiment": "negative",
                      "confidenceScores": {
                        "positive": 0.02,
                        "neutral": 0,
                        "negative": 0.98
                      },
                      "text": "Worst martini ever!",
                      "offset": 0,
                      "length": 19
                    }
                  ],
                  "5": []
                },
                {
                  "0": "The steak and the shrimp are in my opinion the best entrees at GC.",
                  "1": "positive",
                  "3": {
                    "positive": 0.99,
                    "neutral": 0,
                    "negative": 0
                  },
                  "4": [
                    {
                      "sentiment": "positive",
                      "confidenceScores": {
                        "positive": 0.99,
                        "neutral": 0,
                        "negative": 0
                      },
                      "text": "The steak and the shrimp are in my opinion the best entrees at GC.",
                      "offset": 0,
                      "length": 66
                    }
                  ],
                  "5": []
                },
                {
                  "0": "I had the opportunity today to sample your amazing pizzas!",
                  "1": "positive",
                  "3": {
                    "positive": 0.99,
                    "neutral": 0,
                    "negative": 0
                  },
                  "4": [
                    {
                      "sentiment": "positive",
                      "confidenceScores": {
                        "positive": 0.99,
                        "neutral": 0,
                        "negative": 0
                      },
                      "text": "I had the opportunity today to sample your amazing pizzas!",
                      "offset": 0,
                      "length": 58
                    }
                  ],
                  "5": []
                },
                {
                  "0": "We waited for thirty minutes to be seated (although there were 8 vacant tables and we were the only folks waiting).",
                  "1": "negative",
                  "3": {
                    "positive": 0.01,
                    "neutral": 0.11,
                    "negative": 0.87
                  },
                  "4": [
                    {
                      "sentiment": "negative",
                      "confidenceScores": {
                        "positive": 0.01,
                        "neutral": 0.11,
                        "negative": 0.87
                      },
                      "text": "We waited for thirty minutes to be seated (although there were 8 vacant tables and we were the only folks waiting).",
                      "offset": 0,
                      "length": 115
                    }
                  ],
                  "5": []
                },
                {
                  "0": "The yellowtail carpaccio was melt in your mouth fresh.",
                  "1": "neutral",
                  "3": {
                    "positive": 0.05,
                    "neutral": 0.81,
                    "negative": 0.14
                  },
                  "4": [
                    {
                      "sentiment": "neutral",
                      "confidenceScores": {
                        "positive": 0.05,
                        "neutral": 0.81,
                        "negative": 0.14
                      },
                      "text": "The yellowtail carpaccio was melt in your mouth fresh.",
                      "offset": 0,
                      "length": 54
                    }
                  ],
                  "5": []
                },
                {
                  "0": "I won't try going back there even if it's empty.",
                  "1": "negative",
                  "3": {
                    "positive": 0.01,
                    "neutral": 0.48,
                    "negative": 0.51
                  },
                  "4": [
                    {
                      "sentiment": "negative",
                      "confidenceScores": {
                        "positive": 0.01,
                        "neutral": 0.48,
                        "negative": 0.51
                      },
                      "text": "I won't try going back there even if it's empty.",
                      "offset": 0,
                      "length": 48
                    }
                  ],
                  "5": []
                },
                {
                  "0": "No, I'm going to eat the potato that I found some strangers hair in it.",
                  "1": "neutral",
                  "3": {
                    "positive": 0.01,
                    "neutral": 0.64,
                    "negative": 0.35
                  },
                  "4": [
                    {
                      "sentiment": "neutral",
                      "confidenceScores": {
                        "positive": 0.01,
                        "neutral": 0.64,
                        "negative": 0.35
                      },
                      "text": "No, I'm going to eat the potato that I found some strangers hair in it.",
                      "offset": 0,
                      "length": 71
                    }
                  ],
                  "5": []
                },
                {
                  "0": "Just spicy enough.. Perfect actually.",
                  "1": "positive",
                  "3": {
                    "positive": 0.89,
                    "neutral": 0.07,
                    "negative": 0.04
                  },
                  "4": [
                    {
                      "sentiment": "positive",
                      "confidenceScores": {
                        "positive": 0.79,
                        "neutral": 0.14,
                        "negative": 0.07
                      },
                      "text": "Just spicy enough.. ",
                      "offset": 0,
                      "length": 20
                    },
                    {
                      "sentiment": "positive",
                      "confidenceScores": {
                        "positive": 0.99,
                        "neutral": 0,
                        "negative": 0
                      },
                      "text": "Perfect actually.",
                      "offset": 20,
                      "length": 17
                    }
                  ],
                  "5": []
                },
                {
                  "0": "Last night was my second time dining here and I was so happy I decided to go back!",
                  "1": "positive",
                  "3": {
                    "positive": 0.99,
                    "neutral": 0,
                    "negative": 0
                  },
                  "4": [
                    {
                      "sentiment": "positive",
                      "confidenceScores": {
                        "positive": 0.99,
                        "neutral": 0,
                        "negative": 0
                      },
                      "text": "Last night was my second time dining here and I was so happy I decided to go back!",
                      "offset": 0,
                      "length": 82
                    }
                  ],
                  "5": []
                },
                {
                  "0": "\"not even a \"\"hello, we will be right with you.\"\"\"",
                  "1": "positive",
                  "3": {
                    "positive": 0.57,
                    "neutral": 0.26,
                    "negative": 0.17
                  },
                  "4": [
                    {
                      "sentiment": "positive",
                      "confidenceScores": {
                        "positive": 0.57,
                        "neutral": 0.26,
                        "negative": 0.17
                      },
                      "text": "\"not even a \"\"hello, we will be right with you.\"\"\"",
                      "offset": 0,
                      "length": 50
                    }
                  ],
                  "5": []
                },
                {
                  "0": "The desserts were a bit strange.",
                  "1": "negative",
                  "3": {
                    "positive": 0,
                    "neutral": 0.01,
                    "negative": 0.99
                  },
                  "4": [
                    {
                      "sentiment": "negative",
                      "confidenceScores": {
                        "positive": 0,
                        "neutral": 0.01,
                        "negative": 0.99
                      },
                      "text": "The desserts were a bit strange.",
                      "offset": 0,
                      "length": 32
                    }
                  ],
                  "5": []
                },
                {
                  "0": "My boyfriend and I came here for the first time on a recent trip to Vegas and could not have been more pleased with the quality of food and service.",
                  "1": "positive",
                  "3": {
                    "positive": 0.98,
                    "neutral": 0.01,
                    "negative": 0.01
                  },
                  "4": [
                    {
                      "sentiment": "positive",
                      "confidenceScores": {
                        "positive": 0.98,
                        "neutral": 0.01,
                        "negative": 0.01
                      },
                      "text": "My boyfriend and I came here for the first time on a recent trip to Vegas and could not have been more pleased with the quality of food and service.",
                      "offset": 0,
                      "length": 148
                    }
                  ],
                  "5": []
                },
                {
                  "0": "I really do recommend this place, you can go wrong with this donut place!",
                  "1": "negative",
                  "3": {
                    "positive": 0.48,
                    "neutral": 0.01,
                    "negative": 0.51
                  },
                  "4": [
                    {
                      "sentiment": "negative",
                      "confidenceScores": {
                        "positive": 0.48,
                        "neutral": 0.01,
                        "negative": 0.51
                      },
                      "text": "I really do recommend this place, you can go wrong with this donut place!",
                      "offset": 0,
                      "length": 73
                    }
                  ],
                  "5": []
                },
                {
                  "0": "Nice ambiance.",
                  "1": "positive",
                  "3": {
                    "positive": 1,
                    "neutral": 0,
                    "negative": 0
                  },
                  "4": [
                    {
                      "sentiment": "positive",
                      "confidenceScores": {
                        "positive": 1,
                        "neutral": 0,
                        "negative": 0
                      },
                      "text": "Nice ambiance.",
                      "offset": 0,
                      "length": 14
                    }
                  ],
                  "5": []
                },
                {
                  "0": "I would recommend saving room for this!",
                  "1": "positive",
                  "3": {
                    "positive": 0.98,
                    "neutral": 0.01,
                    "negative": 0.01
                  },
                  "4": [
                    {
                      "sentiment": "positive",
                      "confidenceScores": {
                        "positive": 0.98,
                        "neutral": 0.01,
                        "negative": 0.01
                      },
                      "text": "I would recommend saving room for this!",
                      "offset": 0,
                      "length": 39
                    }
                  ],
                  "5": []
                },
                {
                  "0": "I guess maybe we went on an off night but it was disgraceful.",
                  "1": "negative",
                  "3": {
                    "positive": 0,
                    "neutral": 0,
                    "negative": 1
                  },
                  "4": [
                    {
                      "sentiment": "negative",
                      "confidenceScores": {
                        "positive": 0,
                        "neutral": 0,
                        "negative": 1
                      },
                      "text": "I guess maybe we went on an off night but it was disgraceful.",
                      "offset": 0,
                      "length": 61
                    }
                  ],
                  "5": []
                },
                {
                  "0": "However, my recent experience at this particular location was not so good.",
                  "1": "negative",
                  "3": {
                    "positive": 0,
                    "neutral": 0,
                    "negative": 0.99
                  },
                  "4": [
                    {
                      "sentiment": "negative",
                      "confidenceScores": {
                        "positive": 0,
                        "neutral": 0,
                        "negative": 0.99
                      },
                      "text": "However, my recent experience at this particular location was not so good.",
                      "offset": 0,
                      "length": 74
                    }
                  ],
                  "5": []
                },
                {
                  "0": "I know this is not like the other restaurants at all, something is very off here!",
                  "1": "negative",
                  "3": {
                    "positive": 0,
                    "neutral": 0.03,
                    "negative": 0.97
                  },
                  "4": [
                    {
                      "sentiment": "negative",
                      "confidenceScores": {
                        "positive": 0,
                        "neutral": 0.03,
                        "negative": 0.97
                      },
                      "text": "I know this is not like the other restaurants at all, something is very off here!",
                      "offset": 0,
                      "length": 81
                    }
                  ],
                  "5": []
                },
                {
                  "0": "AVOID THIS ESTABLISHMENT!",
                  "1": "negative",
                  "3": {
                    "positive": 0.03,
                    "neutral": 0.26,
                    "negative": 0.71
                  },
                  "4": [
                    {
                      "sentiment": "negative",
                      "confidenceScores": {
                        "positive": 0.03,
                        "neutral": 0.26,
                        "negative": 0.71
                      },
                      "text": "AVOID THIS ESTABLISHMENT!",
                      "offset": 0,
                      "length": 25
                    }
                  ],
                  "5": []
                },
                {
                  "0": "I think this restaurant suffers from not trying hard enough.",
                  "1": "negative",
                  "3": {
                    "positive": 0,
                    "neutral": 0,
                    "negative": 0.99
                  },
                  "4": [
                    {
                      "sentiment": "negative",
                      "confidenceScores": {
                        "positive": 0,
                        "neutral": 0,
                        "negative": 0.99
                      },
                      "text": "I think this restaurant suffers from not trying hard enough.",
                      "offset": 0,
                      "length": 60
                    }
                  ],
                  "5": []
                },
                {
                  "0": "All of the tapas dishes were delicious!",
                  "1": "positive",
                  "3": {
                    "positive": 0.99,
                    "neutral": 0,
                    "negative": 0
                  },
                  "4": [
                    {
                      "sentiment": "positive",
                      "confidenceScores": {
                        "positive": 0.99,
                        "neutral": 0,
                        "negative": 0
                      },
                      "text": "All of the tapas dishes were delicious!",
                      "offset": 0,
                      "length": 39
                    }
                  ],
                  "5": []
                },
                {
                  "0": "I *heart* this place.",
                  "1": "positive",
                  "3": {
                    "positive": 0.62,
                    "neutral": 0.34,
                    "negative": 0.04
                  },
                  "4": [
                    {
                      "sentiment": "positive",
                      "confidenceScores": {
                        "positive": 0.62,
                        "neutral": 0.34,
                        "negative": 0.04
                      },
                      "text": "I *heart* this place.",
                      "offset": 0,
                      "length": 21
                    }
                  ],
                  "5": []
                },
                {
                  "0": "My salad had a bland vinegrette on the baby greens and hearts of Palm.",
                  "1": "negative",
                  "3": {
                    "positive": 0.1,
                    "neutral": 0.41,
                    "negative": 0.48
                  },
                  "4": [
                    {
                      "sentiment": "negative",
                      "confidenceScores": {
                        "positive": 0.1,
                        "neutral": 0.41,
                        "negative": 0.48
                      },
                      "text": "My salad had a bland vinegrette on the baby greens and hearts of Palm.",
                      "offset": 0,
                      "length": 70
                    }
                  ],
                  "5": []
                },
                {
                  "0": "After two I felt disgusting.",
                  "1": "negative",
                  "3": {
                    "positive": 0,
                    "neutral": 0,
                    "negative": 0.99
                  },
                  "4": [
                    {
                      "sentiment": "negative",
                      "confidenceScores": {
                        "positive": 0,
                        "neutral": 0,
                        "negative": 0.99
                      },
                      "text": "After two I felt disgusting.",
                      "offset": 0,
                      "length": 28
                    }
                  ],
                  "5": []
                },
                {
                  "0": "A good time!",
                  "1": "positive",
                  "3": {
                    "positive": 0.99,
                    "neutral": 0.01,
                    "negative": 0
                  },
                  "4": [
                    {
                      "sentiment": "positive",
                      "confidenceScores": {
                        "positive": 0.99,
                        "neutral": 0.01,
                        "negative": 0
                      },
                      "text": "A good time!",
                      "offset": 0,
                      "length": 12
                    }
                  ],
                  "5": []
                },
                {
                  "0": "I believe that this place is a great stop for those with a huge belly and hankering for sushi.",
                  "1": "positive",
                  "3": {
                    "positive": 0.99,
                    "neutral": 0,
                    "negative": 0
                  },
                  "4": [
                    {
                      "sentiment": "positive",
                      "confidenceScores": {
                        "positive": 0.99,
                        "neutral": 0,
                        "negative": 0
                      },
                      "text": "I believe that this place is a great stop for those with a huge belly and hankering for sushi.",
                      "offset": 0,
                      "length": 94
                    }
                  ],
                  "5": []
                },
                {
                  "0": "Generous portions and great taste.",
                  "1": "positive",
                  "3": {
                    "positive": 1,
                    "neutral": 0,
                    "negative": 0
                  },
                  "4": [
                    {
                      "sentiment": "positive",
                      "confidenceScores": {
                        "positive": 1,
                        "neutral": 0,
                        "negative": 0
                      },
                      "text": "Generous portions and great taste.",
                      "offset": 0,
                      "length": 34
                    }
                  ],
                  "5": []
                },
                {
                  "0": "I will never go back to this place and will never ever recommended this place to anyone!",
                  "1": "negative",
                  "3": {
                    "positive": 0.06,
                    "neutral": 0.01,
                    "negative": 0.93
                  },
                  "4": [
                    {
                      "sentiment": "negative",
                      "confidenceScores": {
                        "positive": 0.06,
                        "neutral": 0.01,
                        "negative": 0.93
                      },
                      "text": "I will never go back to this place and will never ever recommended this place to anyone!",
                      "offset": 0,
                      "length": 88
                    }
                  ],
                  "5": []
                },
                {
                  "0": "\"The servers went back and forth several times, not even so much as an \"\"Are you being helped?\"\"\"",
                  "1": "negative",
                  "3": {
                    "positive": 0.01,
                    "neutral": 0.03,
                    "negative": 0.96
                  },
                  "4": [
                    {
                      "sentiment": "negative",
                      "confidenceScores": {
                        "positive": 0.01,
                        "neutral": 0.03,
                        "negative": 0.96
                      },
                      "text": "\"The servers went back and forth several times, not even so much as an \"\"Are you being helped?\"\"\"",
                      "offset": 0,
                      "length": 97
                    }
                  ],
                  "5": []
                },
                {
                  "0": "Food was delicious!",
                  "1": "positive",
                  "3": {
                    "positive": 0.99,
                    "neutral": 0,
                    "negative": 0
                  },
                  "4": [
                    {
                      "sentiment": "positive",
                      "confidenceScores": {
                        "positive": 0.99,
                        "neutral": 0,
                        "negative": 0
                      },
                      "text": "Food was delicious!",
                      "offset": 0,
                      "length": 19
                    }
                  ],
                  "5": []
                },
                {
                  "0": "AN HOUR... seriously?",
                  "1": "neutral",
                  "3": {
                    "positive": 0.11,
                    "neutral": 0.76,
                    "negative": 0.13
                  },
                  "4": [
                    {
                      "sentiment": "neutral",
                      "confidenceScores": {
                        "positive": 0.14,
                        "neutral": 0.74,
                        "negative": 0.12
                      },
                      "text": "AN HOUR... ",
                      "offset": 0,
                      "length": 11
                    },
                    {
                      "sentiment": "neutral",
                      "confidenceScores": {
                        "positive": 0.09,
                        "neutral": 0.77,
                        "negative": 0.14
                      },
                      "text": "seriously?",
                      "offset": 11,
                      "length": 10
                    }
                  ],
                  "5": []
                },
                {
                  "0": "I consider this theft.",
                  "1": "negative",
                  "3": {
                    "positive": 0.01,
                    "neutral": 0.04,
                    "negative": 0.95
                  },
                  "4": [
                    {
                      "sentiment": "negative",
                      "confidenceScores": {
                        "positive": 0.01,
                        "neutral": 0.04,
                        "negative": 0.95
                      },
                      "text": "I consider this theft.",
                      "offset": 0,
                      "length": 22
                    }
                  ],
                  "5": []
                },
                {
                  "0": "Eew... This location needs a complete overhaul.",
                  "1": "negative",
                  "3": {
                    "positive": 0.08,
                    "neutral": 0.34,
                    "negative": 0.57
                  },
                  "4": [
                    {
                      "sentiment": "neutral",
                      "confidenceScores": {
                        "positive": 0.17,
                        "neutral": 0.58,
                        "negative": 0.25
                      },
                      "text": "Eew... ",
                      "offset": 0,
                      "length": 7
                    },
                    {
                      "sentiment": "negative",
                      "confidenceScores": {
                        "positive": 0.08,
                        "neutral": 0.34,
                        "negative": 0.57
                      },
                      "text": "This location needs a complete overhaul.",
                      "offset": 7,
                      "length": 40
                    }
                  ],
                  "5": []
                },
                {
                  "0": "We recently witnessed her poor quality of management towards other guests as well.",
                  "1": "negative",
                  "3": {
                    "positive": 0,
                    "neutral": 0,
                    "negative": 0.99
                  },
                  "4": [
                    {
                      "sentiment": "negative",
                      "confidenceScores": {
                        "positive": 0,
                        "neutral": 0,
                        "negative": 0.99
                      },
                      "text": "We recently witnessed her poor quality of management towards other guests as well.",
                      "offset": 0,
                      "length": 82
                    }
                  ],
                  "5": []
                },
                {
                  "0": "Waited and waited and waited.",
                  "1": "neutral",
                  "3": {
                    "positive": 0.06,
                    "neutral": 0.69,
                    "negative": 0.24
                  },
                  "4": [
                    {
                      "sentiment": "neutral",
                      "confidenceScores": {
                        "positive": 0.06,
                        "neutral": 0.69,
                        "negative": 0.24
                      },
                      "text": "Waited and waited and waited.",
                      "offset": 0,
                      "length": 29
                    }
                  ],
                  "5": []
                },
                {
                  "0": "He also came back to check on us regularly, excellent service.",
                  "1": "positive",
                  "3": {
                    "positive": 1,
                    "neutral": 0,
                    "negative": 0
                  },
                  "4": [
                    {
                      "sentiment": "positive",
                      "confidenceScores": {
                        "positive": 1,
                        "neutral": 0,
                        "negative": 0
                      },
                      "text": "He also came back to check on us regularly, excellent service.",
                      "offset": 0,
                      "length": 62
                    }
                  ],
                  "5": []
                },
                {
                  "0": "Our server was super nice and checked on us many times.",
                  "1": "positive",
                  "3": {
                    "positive": 1,
                    "neutral": 0,
                    "negative": 0
                  },
                  "4": [
                    {
                      "sentiment": "positive",
                      "confidenceScores": {
                        "positive": 1,
                        "neutral": 0,
                        "negative": 0
                      },
                      "text": "Our server was super nice and checked on us many times.",
                      "offset": 0,
                      "length": 55
                    }
                  ],
                  "5": []
                },
                {
                  "0": "The pizza tasted old, super chewy in not a good way.",
                  "1": "negative",
                  "3": {
                    "positive": 0,
                    "neutral": 0,
                    "negative": 0.99
                  },
                  "4": [
                    {
                      "sentiment": "negative",
                      "confidenceScores": {
                        "positive": 0,
                        "neutral": 0,
                        "negative": 0.99
                      },
                      "text": "The pizza tasted old, super chewy in not a good way.",
                      "offset": 0,
                      "length": 52
                    }
                  ],
                  "5": []
                },
                {
                  "0": "I swung in to give them a try but was deeply disappointed.",
                  "1": "negative",
                  "3": {
                    "positive": 0,
                    "neutral": 0,
                    "negative": 0.99
                  },
                  "4": [
                    {
                      "sentiment": "negative",
                      "confidenceScores": {
                        "positive": 0,
                        "neutral": 0,
                        "negative": 0.99
                      },
                      "text": "I swung in to give them a try but was deeply disappointed.",
                      "offset": 0,
                      "length": 58
                    }
                  ],
                  "5": []
                },
                {
                  "0": "Service was good and the company was better!",
                  "1": "positive",
                  "3": {
                    "positive": 1,
                    "neutral": 0,
                    "negative": 0
                  },
                  "4": [
                    {
                      "sentiment": "positive",
                      "confidenceScores": {
                        "positive": 1,
                        "neutral": 0,
                        "negative": 0
                      },
                      "text": "Service was good and the company was better!",
                      "offset": 0,
                      "length": 44
                    }
                  ],
                  "5": []
                },
                {
                  "0": "The staff are also very friendly and efficient.",
                  "1": "positive",
                  "3": {
                    "positive": 0.99,
                    "neutral": 0.01,
                    "negative": 0
                  },
                  "4": [
                    {
                      "sentiment": "positive",
                      "confidenceScores": {
                        "positive": 0.99,
                        "neutral": 0.01,
                        "negative": 0
                      },
                      "text": "The staff are also very friendly and efficient.",
                      "offset": 0,
                      "length": 47
                    }
                  ],
                  "5": []
                },
                {
                  "0": "As for the service: I'm a fan, because it's quick and you're being served by some nice folks.",
                  "1": "positive",
                  "3": {
                    "positive": 0.99,
                    "neutral": 0,
                    "negative": 0
                  },
                  "4": [
                    {
                      "sentiment": "positive",
                      "confidenceScores": {
                        "positive": 0.99,
                        "neutral": 0,
                        "negative": 0
                      },
                      "text": "As for the service: I'm a fan, because it's quick and you're being served by some nice folks.",
                      "offset": 0,
                      "length": 93
                    }
                  ],
                  "5": []
                },
                {
                  "0": "Boy was that sucker dry!!.",
                  "1": "negative",
                  "3": {
                    "positive": 0.05,
                    "neutral": 0.06,
                    "negative": 0.89
                  },
                  "4": [
                    {
                      "sentiment": "negative",
                      "confidenceScores": {
                        "positive": 0.05,
                        "neutral": 0.06,
                        "negative": 0.89
                      },
                      "text": "Boy was that sucker dry!!.",
                      "offset": 0,
                      "length": 26
                    }
                  ],
                  "5": []
                },
                {
                  "0": "Over rated.",
                  "1": "negative",
                  "3": {
                    "positive": 0.01,
                    "neutral": 0.01,
                    "negative": 0.99
                  },
                  "4": [
                    {
                      "sentiment": "negative",
                      "confidenceScores": {
                        "positive": 0.01,
                        "neutral": 0.01,
                        "negative": 0.99
                      },
                      "text": "Over rated.",
                      "offset": 0,
                      "length": 11
                    }
                  ],
                  "5": []
                },
                {
                  "0": "If you look for authentic Thai food, go else where.",
                  "1": "positive",
                  "3": {
                    "positive": 0.58,
                    "neutral": 0.37,
                    "negative": 0.05
                  },
                  "4": [
                    {
                      "sentiment": "positive",
                      "confidenceScores": {
                        "positive": 0.58,
                        "neutral": 0.37,
                        "negative": 0.05
                      },
                      "text": "If you look for authentic Thai food, go else where.",
                      "offset": 0,
                      "length": 51
                    }
                  ],
                  "5": []
                },
                {
                  "0": "Their steaks are 100% recommended!",
                  "1": "positive",
                  "3": {
                    "positive": 0.99,
                    "neutral": 0.01,
                    "negative": 0.01
                  },
                  "4": [
                    {
                      "sentiment": "positive",
                      "confidenceScores": {
                        "positive": 0.99,
                        "neutral": 0.01,
                        "negative": 0.01
                      },
                      "text": "Their steaks are 100% recommended!",
                      "offset": 0,
                      "length": 34
                    }
                  ],
                  "5": []
                },
                {
                  "0": "After I pulled up my car I waited for another 15 minutes before being acknowledged.",
                  "1": "negative",
                  "3": {
                    "positive": 0.02,
                    "neutral": 0.26,
                    "negative": 0.73
                  },
                  "4": [
                    {
                      "sentiment": "negative",
                      "confidenceScores": {
                        "positive": 0.02,
                        "neutral": 0.26,
                        "negative": 0.73
                      },
                      "text": "After I pulled up my car I waited for another 15 minutes before being acknowledged.",
                      "offset": 0,
                      "length": 83
                    }
                  ],
                  "5": []
                },
                {
                  "0": "Great food and great service in a clean and friendly setting.",
                  "1": "positive",
                  "3": {
                    "positive": 1,
                    "neutral": 0,
                    "negative": 0
                  },
                  "4": [
                    {
                      "sentiment": "positive",
                      "confidenceScores": {
                        "positive": 1,
                        "neutral": 0,
                        "negative": 0
                      },
                      "text": "Great food and great service in a clean and friendly setting.",
                      "offset": 0,
                      "length": 61
                    }
                  ],
                  "5": []
                },
                {
                  "0": "All in all, I can assure you I'll be back.",
                  "1": "neutral",
                  "3": {
                    "positive": 0.3,
                    "neutral": 0.66,
                    "negative": 0.03
                  },
                  "4": [
                    {
                      "sentiment": "neutral",
                      "confidenceScores": {
                        "positive": 0.3,
                        "neutral": 0.66,
                        "negative": 0.03
                      },
                      "text": "All in all, I can assure you I'll be back.",
                      "offset": 0,
                      "length": 42
                    }
                  ],
                  "5": []
                },
                {
                  "0": "I hate those things as much as cheap quality black olives.",
                  "1": "negative",
                  "3": {
                    "positive": 0.01,
                    "neutral": 0,
                    "negative": 0.99
                  },
                  "4": [
                    {
                      "sentiment": "negative",
                      "confidenceScores": {
                        "positive": 0.01,
                        "neutral": 0,
                        "negative": 0.99
                      },
                      "text": "I hate those things as much as cheap quality black olives.",
                      "offset": 0,
                      "length": 58
                    }
                  ],
                  "5": []
                },
                {
                  "0": "My breakfast was perpared great, with a beautiful presentation of 3 giant slices of Toast, lightly dusted with powdered sugar.",
                  "1": "positive",
                  "3": {
                    "positive": 0.99,
                    "neutral": 0,
                    "negative": 0
                  },
                  "4": [
                    {
                      "sentiment": "positive",
                      "confidenceScores": {
                        "positive": 0.99,
                        "neutral": 0,
                        "negative": 0
                      },
                      "text": "My breakfast was perpared great, with a beautiful presentation of 3 giant slices of Toast, lightly dusted with powdered sugar.",
                      "offset": 0,
                      "length": 126
                    }
                  ],
                  "5": []
                },
                {
                  "0": "The kids play area is NASTY!",
                  "1": "negative",
                  "3": {
                    "positive": 0.02,
                    "neutral": 0.01,
                    "negative": 0.97
                  },
                  "4": [
                    {
                      "sentiment": "negative",
                      "confidenceScores": {
                        "positive": 0.02,
                        "neutral": 0.01,
                        "negative": 0.97
                      },
                      "text": "The kids play area is NASTY!",
                      "offset": 0,
                      "length": 28
                    }
                  ],
                  "5": []
                },
                {
                  "0": "Great place fo take out or eat in.",
                  "1": "positive",
                  "3": {
                    "positive": 1,
                    "neutral": 0,
                    "negative": 0
                  },
                  "4": [
                    {
                      "sentiment": "positive",
                      "confidenceScores": {
                        "positive": 1,
                        "neutral": 0,
                        "negative": 0
                      },
                      "text": "Great place fo take out or eat in.",
                      "offset": 0,
                      "length": 34
                    }
                  ],
                  "5": []
                },
                {
                  "0": "The waitress was friendly and happy to accomodate for vegan/veggie options.",
                  "1": "positive",
                  "3": {
                    "positive": 0.99,
                    "neutral": 0,
                    "negative": 0
                  },
                  "4": [
                    {
                      "sentiment": "positive",
                      "confidenceScores": {
                        "positive": 0.99,
                        "neutral": 0,
                        "negative": 0
                      },
                      "text": "The waitress was friendly and happy to accomodate for vegan/veggie options.",
                      "offset": 0,
                      "length": 75
                    }
                  ],
                  "5": []
                },
                {
                  "0": "OMG I felt like I had never eaten Thai food until this dish.",
                  "1": "positive",
                  "3": {
                    "positive": 0.58,
                    "neutral": 0.09,
                    "negative": 0.33
                  },
                  "4": [
                    {
                      "sentiment": "positive",
                      "confidenceScores": {
                        "positive": 0.58,
                        "neutral": 0.09,
                        "negative": 0.33
                      },
                      "text": "OMG I felt like I had never eaten Thai food until this dish.",
                      "offset": 0,
                      "length": 60
                    }
                  ],
                  "5": []
                },
                {
                  "0": "\"It was extremely \"\"crumby\"\" and pretty tasteless.\"",
                  "1": "negative",
                  "3": {
                    "positive": 0,
                    "neutral": 0,
                    "negative": 0.99
                  },
                  "4": [
                    {
                      "sentiment": "negative",
                      "confidenceScores": {
                        "positive": 0,
                        "neutral": 0,
                        "negative": 0.99
                      },
                      "text": "\"It was extremely \"\"crumby\"\" and pretty tasteless.\"",
                      "offset": 0,
                      "length": 51
                    }
                  ],
                  "5": []
                },
                {
                  "0": "It was a pale color instead of nice and char and has NO flavor.",
                  "1": "negative",
                  "3": {
                    "positive": 0.04,
                    "neutral": 0.01,
                    "negative": 0.95
                  },
                  "4": [
                    {
                      "sentiment": "negative",
                      "confidenceScores": {
                        "positive": 0.04,
                        "neutral": 0.01,
                        "negative": 0.95
                      },
                      "text": "It was a pale color instead of nice and char and has NO flavor.",
                      "offset": 0,
                      "length": 63
                    }
                  ],
                  "5": []
                },
                {
                  "0": "The croutons also taste homemade which is an extra plus.",
                  "1": "neutral",
                  "3": {
                    "positive": 0.47,
                    "neutral": 0.51,
                    "negative": 0.02
                  },
                  "4": [
                    {
                      "sentiment": "neutral",
                      "confidenceScores": {
                        "positive": 0.47,
                        "neutral": 0.51,
                        "negative": 0.02
                      },
                      "text": "The croutons also taste homemade which is an extra plus.",
                      "offset": 0,
                      "length": 56
                    }
                  ],
                  "5": []
                },
                {
                  "0": "I got home to see the driest damn wings ever!",
                  "1": "negative",
                  "3": {
                    "positive": 0.01,
                    "neutral": 0.01,
                    "negative": 0.98
                  },
                  "4": [
                    {
                      "sentiment": "negative",
                      "confidenceScores": {
                        "positive": 0.01,
                        "neutral": 0.01,
                        "negative": 0.98
                      },
                      "text": "I got home to see the driest damn wings ever!",
                      "offset": 0,
                      "length": 45
                    }
                  ],
                  "5": []
                },
                {
                  "0": "It'll be a regular stop on my trips to Phoenix!",
                  "1": "positive",
                  "3": {
                    "positive": 0.71,
                    "neutral": 0.28,
                    "negative": 0.01
                  },
                  "4": [
                    {
                      "sentiment": "positive",
                      "confidenceScores": {
                        "positive": 0.71,
                        "neutral": 0.28,
                        "negative": 0.01
                      },
                      "text": "It'll be a regular stop on my trips to Phoenix!",
                      "offset": 0,
                      "length": 47
                    }
                  ],
                  "5": []
                },
                {
                  "0": "\"I really enjoyed Crema Café before they expanded; I even told friends they had the BEST breakfast.\"",
                  "1": "positive",
                  "3": {
                    "positive": 0.99,
                    "neutral": 0.01,
                    "negative": 0.01
                  },
                  "4": [
                    {
                      "sentiment": "positive",
                      "confidenceScores": {
                        "positive": 0.99,
                        "neutral": 0,
                        "negative": 0
                      },
                      "text": "\"I really enjoyed Crema Café before they expanded; ",
                      "offset": 0,
                      "length": 51
                    },
                    {
                      "sentiment": "positive",
                      "confidenceScores": {
                        "positive": 0.99,
                        "neutral": 0.01,
                        "negative": 0.01
                      },
                      "text": "I even told friends they had the BEST breakfast.\"",
                      "offset": 51,
                      "length": 49
                    }
                  ],
                  "5": []
                },
                {
                  "0": "Not good for the money.",
                  "1": "negative",
                  "3": {
                    "positive": 0.01,
                    "neutral": 0,
                    "negative": 0.99
                  },
                  "4": [
                    {
                      "sentiment": "negative",
                      "confidenceScores": {
                        "positive": 0.01,
                        "neutral": 0,
                        "negative": 0.99
                      },
                      "text": "Not good for the money.",
                      "offset": 0,
                      "length": 23
                    }
                  ],
                  "5": []
                },
                {
                  "0": "I miss it and wish they had one in Philadelphia!",
                  "1": "negative",
                  "3": {
                    "positive": 0.07,
                    "neutral": 0.01,
                    "negative": 0.92
                  },
                  "4": [
                    {
                      "sentiment": "negative",
                      "confidenceScores": {
                        "positive": 0.07,
                        "neutral": 0.01,
                        "negative": 0.92
                      },
                      "text": "I miss it and wish they had one in Philadelphia!",
                      "offset": 0,
                      "length": 48
                    }
                  ],
                  "5": []
                },
                {
                  "0": "We got sitting fairly fast, but, ended up waiting 40 minutes just to place our order, another 30 minutes before the food arrived.",
                  "1": "negative",
                  "3": {
                    "positive": 0.09,
                    "neutral": 0.05,
                    "negative": 0.87
                  },
                  "4": [
                    {
                      "sentiment": "negative",
                      "confidenceScores": {
                        "positive": 0.09,
                        "neutral": 0.05,
                        "negative": 0.87
                      },
                      "text": "We got sitting fairly fast, but, ended up waiting 40 minutes just to place our order, another 30 minutes before the food arrived.",
                      "offset": 0,
                      "length": 129
                    }
                  ],
                  "5": []
                },
                {
                  "0": "They also have the best cheese crisp in town.",
                  "1": "positive",
                  "3": {
                    "positive": 0.98,
                    "neutral": 0.01,
                    "negative": 0.01
                  },
                  "4": [
                    {
                      "sentiment": "positive",
                      "confidenceScores": {
                        "positive": 0.98,
                        "neutral": 0.01,
                        "negative": 0.01
                      },
                      "text": "They also have the best cheese crisp in town.",
                      "offset": 0,
                      "length": 45
                    }
                  ],
                  "5": []
                },
                {
                  "0": "Good value, great food, great service.",
                  "1": "positive",
                  "3": {
                    "positive": 1,
                    "neutral": 0,
                    "negative": 0
                  },
                  "4": [
                    {
                      "sentiment": "positive",
                      "confidenceScores": {
                        "positive": 1,
                        "neutral": 0,
                        "negative": 0
                      },
                      "text": "Good value, great food, great service.",
                      "offset": 0,
                      "length": 38
                    }
                  ],
                  "5": []
                },
                {
                  "0": "Couldn't ask for a more satisfying meal.",
                  "1": "positive",
                  "3": {
                    "positive": 0.92,
                    "neutral": 0.01,
                    "negative": 0.07
                  },
                  "4": [
                    {
                      "sentiment": "positive",
                      "confidenceScores": {
                        "positive": 0.92,
                        "neutral": 0.01,
                        "negative": 0.07
                      },
                      "text": "Couldn't ask for a more satisfying meal.",
                      "offset": 0,
                      "length": 40
                    }
                  ],
                  "5": []
                },
                {
                  "0": "The food is good.",
                  "1": "positive",
                  "3": {
                    "positive": 1,
                    "neutral": 0,
                    "negative": 0
                  },
                  "4": [
                    {
                      "sentiment": "positive",
                      "confidenceScores": {
                        "positive": 1,
                        "neutral": 0,
                        "negative": 0
                      },
                      "text": "The food is good.",
                      "offset": 0,
                      "length": 17
                    }
                  ],
                  "5": []
                },
                {
                  "0": "It was awesome.",
                  "1": "positive",
                  "3": {
                    "positive": 0.99,
                    "neutral": 0.01,
                    "negative": 0
                  },
                  "4": [
                    {
                      "sentiment": "positive",
                      "confidenceScores": {
                        "positive": 0.99,
                        "neutral": 0.01,
                        "negative": 0
                      },
                      "text": "It was awesome.",
                      "offset": 0,
                      "length": 15
                    }
                  ],
                  "5": []
                },
                {
                  "0": "I just wanted to leave.",
                  "1": "neutral",
                  "3": {
                    "positive": 0.04,
                    "neutral": 0.83,
                    "negative": 0.13
                  },
                  "4": [
                    {
                      "sentiment": "neutral",
                      "confidenceScores": {
                        "positive": 0.04,
                        "neutral": 0.83,
                        "negative": 0.13
                      },
                      "text": "I just wanted to leave.",
                      "offset": 0,
                      "length": 23
                    }
                  ],
                  "5": []
                },
                {
                  "0": "We made the drive all the way from North Scottsdale... and I was not one bit disappointed!",
                  "1": "positive",
                  "3": {
                    "positive": 0.68,
                    "neutral": 0.01,
                    "negative": 0.3
                  },
                  "4": [
                    {
                      "sentiment": "neutral",
                      "confidenceScores": {
                        "positive": 0.04,
                        "neutral": 0.93,
                        "negative": 0.03
                      },
                      "text": "We made the drive all the way from North Scottsdale... ",
                      "offset": 0,
                      "length": 55
                    },
                    {
                      "sentiment": "positive",
                      "confidenceScores": {
                        "positive": 0.68,
                        "neutral": 0.01,
                        "negative": 0.3
                      },
                      "text": "and I was not one bit disappointed!",
                      "offset": 55,
                      "length": 35
                    }
                  ],
                  "5": []
                },
                {
                  "0": "I will not be eating there again.",
                  "1": "negative",
                  "3": {
                    "positive": 0.01,
                    "neutral": 0.32,
                    "negative": 0.67
                  },
                  "4": [
                    {
                      "sentiment": "negative",
                      "confidenceScores": {
                        "positive": 0.01,
                        "neutral": 0.32,
                        "negative": 0.67
                      },
                      "text": "I will not be eating there again.",
                      "offset": 0,
                      "length": 33
                    }
                  ],
                  "5": []
                },
                {
                  "0": "!....THE OWNERS REALLY REALLY need to quit being soooooo cheap let them wrap my freaking sandwich in two papers not one!",
                  "1": "mixed",
                  "3": {
                    "positive": 0.19,
                    "neutral": 0.16,
                    "negative": 0.65
                  },
                  "4": [
                    {
                      "sentiment": "positive",
                      "confidenceScores": {
                        "positive": 0.38,
                        "neutral": 0.31,
                        "negative": 0.31
                      },
                      "text": "!....",
                      "offset": 0,
                      "length": 5
                    },
                    {
                      "sentiment": "negative",
                      "confidenceScores": {
                        "positive": 0.01,
                        "neutral": 0.01,
                        "negative": 0.98
                      },
                      "text": "THE OWNERS REALLY REALLY need to quit being soooooo cheap let them wrap my freaking sandwich in two papers not one!",
                      "offset": 5,
                      "length": 115
                    }
                  ],
                  "5": []
                },
                {
                  "0": "I checked out this place a couple years ago and was not impressed.",
                  "1": "negative",
                  "3": {
                    "positive": 0.01,
                    "neutral": 0.01,
                    "negative": 0.98
                  },
                  "4": [
                    {
                      "sentiment": "negative",
                      "confidenceScores": {
                        "positive": 0.01,
                        "neutral": 0.01,
                        "negative": 0.98
                      },
                      "text": "I checked out this place a couple years ago and was not impressed.",
                      "offset": 0,
                      "length": 66
                    }
                  ],
                  "5": []
                },
                {
                  "0": "The chicken I got was definitely reheated and was only ok, the wedges were cold and soggy.",
                  "1": "negative",
                  "3": {
                    "positive": 0.04,
                    "neutral": 0.06,
                    "negative": 0.89
                  },
                  "4": [
                    {
                      "sentiment": "negative",
                      "confidenceScores": {
                        "positive": 0.04,
                        "neutral": 0.06,
                        "negative": 0.89
                      },
                      "text": "The chicken I got was definitely reheated and was only ok, the wedges were cold and soggy.",
                      "offset": 0,
                      "length": 90
                    }
                  ],
                  "5": []
                },
                {
                  "0": "Sorry, I will not be getting food from here anytime soon :(",
                  "1": "negative",
                  "3": {
                    "positive": 0.01,
                    "neutral": 0.01,
                    "negative": 0.99
                  },
                  "4": [
                    {
                      "sentiment": "negative",
                      "confidenceScores": {
                        "positive": 0.01,
                        "neutral": 0.01,
                        "negative": 0.99
                      },
                      "text": "Sorry, I will not be getting food from here anytime soon :(",
                      "offset": 0,
                      "length": 59
                    }
                  ],
                  "5": []
                },
                {
                  "0": "An absolute must visit!",
                  "1": "positive",
                  "3": {
                    "positive": 0.98,
                    "neutral": 0.01,
                    "negative": 0.01
                  },
                  "4": [
                    {
                      "sentiment": "positive",
                      "confidenceScores": {
                        "positive": 0.98,
                        "neutral": 0.01,
                        "negative": 0.01
                      },
                      "text": "An absolute must visit!",
                      "offset": 0,
                      "length": 23
                    }
                  ],
                  "5": []
                },
                {
                  "0": "The cow tongue and cheek tacos are amazing.",
                  "1": "positive",
                  "3": {
                    "positive": 0.99,
                    "neutral": 0,
                    "negative": 0
                  },
                  "4": [
                    {
                      "sentiment": "positive",
                      "confidenceScores": {
                        "positive": 0.99,
                        "neutral": 0,
                        "negative": 0
                      },
                      "text": "The cow tongue and cheek tacos are amazing.",
                      "offset": 0,
                      "length": 43
                    }
                  ],
                  "5": []
                },
                {
                  "0": "My friend did not like his Bloody Mary.",
                  "1": "negative",
                  "3": {
                    "positive": 0,
                    "neutral": 0.01,
                    "negative": 0.99
                  },
                  "4": [
                    {
                      "sentiment": "negative",
                      "confidenceScores": {
                        "positive": 0,
                        "neutral": 0.01,
                        "negative": 0.99
                      },
                      "text": "My friend did not like his Bloody Mary.",
                      "offset": 0,
                      "length": 39
                    }
                  ],
                  "5": []
                },
                {
                  "0": "Despite how hard I rate businesses, its actually rare for me to give a 1 star.",
                  "1": "negative",
                  "3": {
                    "positive": 0.01,
                    "neutral": 0.01,
                    "negative": 0.97
                  },
                  "4": [
                    {
                      "sentiment": "negative",
                      "confidenceScores": {
                        "positive": 0.01,
                        "neutral": 0.01,
                        "negative": 0.97
                      },
                      "text": "Despite how hard I rate businesses, its actually rare for me to give a 1 star.",
                      "offset": 0,
                      "length": 78
                    }
                  ],
                  "5": []
                },
                {
                  "0": "They really want to make your experience a good one.",
                  "1": "positive",
                  "3": {
                    "positive": 1,
                    "neutral": 0,
                    "negative": 0
                  },
                  "4": [
                    {
                      "sentiment": "positive",
                      "confidenceScores": {
                        "positive": 1,
                        "neutral": 0,
                        "negative": 0
                      },
                      "text": "They really want to make your experience a good one.",
                      "offset": 0,
                      "length": 52
                    }
                  ],
                  "5": []
                },
                {
                  "0": "I will not return.",
                  "1": "negative",
                  "3": {
                    "positive": 0.02,
                    "neutral": 0.36,
                    "negative": 0.62
                  },
                  "4": [
                    {
                      "sentiment": "negative",
                      "confidenceScores": {
                        "positive": 0.02,
                        "neutral": 0.36,
                        "negative": 0.62
                      },
                      "text": "I will not return.",
                      "offset": 0,
                      "length": 18
                    }
                  ],
                  "5": []
                },
                {
                  "0": "I had the chicken Pho and it tasted very bland.",
                  "1": "negative",
                  "3": {
                    "positive": 0.01,
                    "neutral": 0.05,
                    "negative": 0.94
                  },
                  "4": [
                    {
                      "sentiment": "negative",
                      "confidenceScores": {
                        "positive": 0.01,
                        "neutral": 0.05,
                        "negative": 0.94
                      },
                      "text": "I had the chicken Pho and it tasted very bland.",
                      "offset": 0,
                      "length": 47
                    }
                  ],
                  "5": []
                },
                {
                  "0": "Very disappointing!!!",
                  "1": "negative",
                  "3": {
                    "positive": 0,
                    "neutral": 0,
                    "negative": 0.99
                  },
                  "4": [
                    {
                      "sentiment": "negative",
                      "confidenceScores": {
                        "positive": 0,
                        "neutral": 0,
                        "negative": 0.99
                      },
                      "text": "Very disappointing!!!",
                      "offset": 0,
                      "length": 21
                    }
                  ],
                  "5": []
                },
                {
                  "0": "The grilled chicken was so tender and yellow from the saffron seasoning.",
                  "1": "negative",
                  "3": {
                    "positive": 0.34,
                    "neutral": 0.09,
                    "negative": 0.56
                  },
                  "4": [
                    {
                      "sentiment": "negative",
                      "confidenceScores": {
                        "positive": 0.34,
                        "neutral": 0.09,
                        "negative": 0.56
                      },
                      "text": "The grilled chicken was so tender and yellow from the saffron seasoning.",
                      "offset": 0,
                      "length": 72
                    }
                  ],
                  "5": []
                },
                {
                  "0": "a drive thru means you do not want to wait around for half an hour for your food, but somehow when we end up going here they make us wait and wait.",
                  "1": "neutral",
                  "3": {
                    "positive": 0.14,
                    "neutral": 0.5,
                    "negative": 0.37
                  },
                  "4": [
                    {
                      "sentiment": "neutral",
                      "confidenceScores": {
                        "positive": 0.14,
                        "neutral": 0.5,
                        "negative": 0.37
                      },
                      "text": "a drive thru means you do not want to wait around for half an hour for your food, but somehow when we end up going here they make us wait and wait.",
                      "offset": 0,
                      "length": 147
                    }
                  ],
                  "5": []
                },
                {
                  "0": "Pretty awesome place.",
                  "1": "positive",
                  "3": {
                    "positive": 1,
                    "neutral": 0,
                    "negative": 0
                  },
                  "4": [
                    {
                      "sentiment": "positive",
                      "confidenceScores": {
                        "positive": 1,
                        "neutral": 0,
                        "negative": 0
                      },
                      "text": "Pretty awesome place.",
                      "offset": 0,
                      "length": 21
                    }
                  ],
                  "5": []
                },
                {
                  "0": "Ambience is perfect.",
                  "1": "positive",
                  "3": {
                    "positive": 1,
                    "neutral": 0,
                    "negative": 0
                  },
                  "4": [
                    {
                      "sentiment": "positive",
                      "confidenceScores": {
                        "positive": 1,
                        "neutral": 0,
                        "negative": 0
                      },
                      "text": "Ambience is perfect.",
                      "offset": 0,
                      "length": 20
                    }
                  ],
                  "5": []
                },
                {
                  "0": "Best of luck to the rude and non-customer service focused new management.",
                  "1": "positive",
                  "3": {
                    "positive": 0.82,
                    "neutral": 0.01,
                    "negative": 0.17
                  },
                  "4": [
                    {
                      "sentiment": "positive",
                      "confidenceScores": {
                        "positive": 0.82,
                        "neutral": 0.01,
                        "negative": 0.17
                      },
                      "text": "Best of luck to the rude and non-customer service focused new management.",
                      "offset": 0,
                      "length": 73
                    }
                  ],
                  "5": []
                },
                {
                  "0": "Any grandmother can make a roasted chicken better than this one.",
                  "1": "positive",
                  "3": {
                    "positive": 0.96,
                    "neutral": 0.02,
                    "negative": 0.01
                  },
                  "4": [
                    {
                      "sentiment": "positive",
                      "confidenceScores": {
                        "positive": 0.96,
                        "neutral": 0.02,
                        "negative": 0.01
                      },
                      "text": "Any grandmother can make a roasted chicken better than this one.",
                      "offset": 0,
                      "length": 64
                    }
                  ],
                  "5": []
                },
                {
                  "0": "I asked multiple times for the wine list and after some time of being ignored I went to the hostess and got one myself.",
                  "1": "negative",
                  "3": {
                    "positive": 0,
                    "neutral": 0.02,
                    "negative": 0.98
                  },
                  "4": [
                    {
                      "sentiment": "negative",
                      "confidenceScores": {
                        "positive": 0,
                        "neutral": 0.02,
                        "negative": 0.98
                      },
                      "text": "I asked multiple times for the wine list and after some time of being ignored I went to the hostess and got one myself.",
                      "offset": 0,
                      "length": 119
                    }
                  ],
                  "5": []
                },
                {
                  "0": "The staff is always super friendly and helpful, which is especially cool when you bring two small boys and a baby!",
                  "1": "positive",
                  "3": {
                    "positive": 1,
                    "neutral": 0,
                    "negative": 0
                  },
                  "4": [
                    {
                      "sentiment": "positive",
                      "confidenceScores": {
                        "positive": 1,
                        "neutral": 0,
                        "negative": 0
                      },
                      "text": "The staff is always super friendly and helpful, which is especially cool when you bring two small boys and a baby!",
                      "offset": 0,
                      "length": 114
                    }
                  ],
                  "5": []
                },
                {
                  "0": "Four stars for the food & the guy in the blue shirt for his great vibe & still letting us in to eat !",
                  "1": "positive",
                  "3": {
                    "positive": 1,
                    "neutral": 0,
                    "negative": 0
                  },
                  "4": [
                    {
                      "sentiment": "positive",
                      "confidenceScores": {
                        "positive": 1,
                        "neutral": 0,
                        "negative": 0
                      },
                      "text": "Four stars for the food & the guy in the blue shirt for his great vibe & still letting us in to eat !",
                      "offset": 0,
                      "length": 101
                    }
                  ],
                  "5": []
                },
                {
                  "0": "The roast beef sandwich tasted really good!",
                  "1": "positive",
                  "3": {
                    "positive": 0.99,
                    "neutral": 0,
                    "negative": 0
                  },
                  "4": [
                    {
                      "sentiment": "positive",
                      "confidenceScores": {
                        "positive": 0.99,
                        "neutral": 0,
                        "negative": 0
                      },
                      "text": "The roast beef sandwich tasted really good!",
                      "offset": 0,
                      "length": 43
                    }
                  ],
                  "5": []
                },
                {
                  "0": "Same evening, him and I are both drastically sick.",
                  "1": "negative",
                  "3": {
                    "positive": 0,
                    "neutral": 0.02,
                    "negative": 0.98
                  },
                  "4": [
                    {
                      "sentiment": "negative",
                      "confidenceScores": {
                        "positive": 0,
                        "neutral": 0.02,
                        "negative": 0.98
                      },
                      "text": "Same evening, him and I are both drastically sick.",
                      "offset": 0,
                      "length": 50
                    }
                  ],
                  "5": []
                },
                {
                  "0": "High-quality chicken on the chicken Caesar salad.",
                  "1": "positive",
                  "3": {
                    "positive": 0.66,
                    "neutral": 0.33,
                    "negative": 0.01
                  },
                  "4": [
                    {
                      "sentiment": "positive",
                      "confidenceScores": {
                        "positive": 0.66,
                        "neutral": 0.33,
                        "negative": 0.01
                      },
                      "text": "High-quality chicken on the chicken Caesar salad.",
                      "offset": 0,
                      "length": 49
                    }
                  ],
                  "5": []
                },
                {
                  "0": "Ordered burger rare came in we'll done.",
                  "1": "negative",
                  "3": {
                    "positive": 0.43,
                    "neutral": 0.04,
                    "negative": 0.53
                  },
                  "4": [
                    {
                      "sentiment": "negative",
                      "confidenceScores": {
                        "positive": 0.43,
                        "neutral": 0.04,
                        "negative": 0.53
                      },
                      "text": "Ordered burger rare came in we'll done.",
                      "offset": 0,
                      "length": 39
                    }
                  ],
                  "5": []
                },
                {
                  "0": "We were promptly greeted and seated.",
                  "1": "positive",
                  "3": {
                    "positive": 0.53,
                    "neutral": 0.41,
                    "negative": 0.05
                  },
                  "4": [
                    {
                      "sentiment": "positive",
                      "confidenceScores": {
                        "positive": 0.53,
                        "neutral": 0.41,
                        "negative": 0.05
                      },
                      "text": "We were promptly greeted and seated.",
                      "offset": 0,
                      "length": 36
                    }
                  ],
                  "5": []
                },
                {
                  "0": "Tried to go here for lunch and it was a madhouse.",
                  "1": "negative",
                  "3": {
                    "positive": 0,
                    "neutral": 0,
                    "negative": 0.99
                  },
                  "4": [
                    {
                      "sentiment": "negative",
                      "confidenceScores": {
                        "positive": 0,
                        "neutral": 0,
                        "negative": 0.99
                      },
                      "text": "Tried to go here for lunch and it was a madhouse.",
                      "offset": 0,
                      "length": 49
                    }
                  ],
                  "5": []
                },
                {
                  "0": "I was proven dead wrong by this sushi bar, not only because the quality is great, but the service is fast and the food, impeccable.",
                  "1": "positive",
                  "3": {
                    "positive": 0.93,
                    "neutral": 0,
                    "negative": 0.06
                  },
                  "4": [
                    {
                      "sentiment": "positive",
                      "confidenceScores": {
                        "positive": 0.93,
                        "neutral": 0,
                        "negative": 0.06
                      },
                      "text": "I was proven dead wrong by this sushi bar, not only because the quality is great, but the service is fast and the food, impeccable.",
                      "offset": 0,
                      "length": 131
                    }
                  ],
                  "5": []
                },
                {
                  "0": "After waiting an hour and being seated, I was not in the greatest of moods.",
                  "1": "negative",
                  "3": {
                    "positive": 0.01,
                    "neutral": 0.01,
                    "negative": 0.98
                  },
                  "4": [
                    {
                      "sentiment": "negative",
                      "confidenceScores": {
                        "positive": 0.01,
                        "neutral": 0.01,
                        "negative": 0.98
                      },
                      "text": "After waiting an hour and being seated, I was not in the greatest of moods.",
                      "offset": 0,
                      "length": 75
                    }
                  ],
                  "5": []
                },
                {
                  "0": "This is a good joint.",
                  "1": "positive",
                  "3": {
                    "positive": 0.99,
                    "neutral": 0,
                    "negative": 0
                  },
                  "4": [
                    {
                      "sentiment": "positive",
                      "confidenceScores": {
                        "positive": 0.99,
                        "neutral": 0,
                        "negative": 0
                      },
                      "text": "This is a good joint.",
                      "offset": 0,
                      "length": 21
                    }
                  ],
                  "5": []
                },
                {
                  "0": "The Macarons here are insanely good.",
                  "1": "positive",
                  "3": {
                    "positive": 0.61,
                    "neutral": 0.01,
                    "negative": 0.38
                  },
                  "4": [
                    {
                      "sentiment": "positive",
                      "confidenceScores": {
                        "positive": 0.61,
                        "neutral": 0.01,
                        "negative": 0.38
                      },
                      "text": "The Macarons here are insanely good.",
                      "offset": 0,
                      "length": 36
                    }
                  ],
                  "5": []
                },
                {
                  "0": "I'm not eating here!",
                  "1": "negative",
                  "3": {
                    "positive": 0.02,
                    "neutral": 0.35,
                    "negative": 0.63
                  },
                  "4": [
                    {
                      "sentiment": "negative",
                      "confidenceScores": {
                        "positive": 0.02,
                        "neutral": 0.35,
                        "negative": 0.63
                      },
                      "text": "I'm not eating here!",
                      "offset": 0,
                      "length": 20
                    }
                  ],
                  "5": []
                },
                {
                  "0": "Our waiter was very attentive, friendly, and informative.",
                  "1": "positive",
                  "3": {
                    "positive": 0.99,
                    "neutral": 0,
                    "negative": 0
                  },
                  "4": [
                    {
                      "sentiment": "positive",
                      "confidenceScores": {
                        "positive": 0.99,
                        "neutral": 0,
                        "negative": 0
                      },
                      "text": "Our waiter was very attentive, friendly, and informative.",
                      "offset": 0,
                      "length": 57
                    }
                  ],
                  "5": []
                },
                {
                  "0": "Maybe if they weren't cold they would have been somewhat edible.",
                  "1": "neutral",
                  "3": {
                    "positive": 0.12,
                    "neutral": 0.63,
                    "negative": 0.25
                  },
                  "4": [
                    {
                      "sentiment": "neutral",
                      "confidenceScores": {
                        "positive": 0.12,
                        "neutral": 0.63,
                        "negative": 0.25
                      },
                      "text": "Maybe if they weren't cold they would have been somewhat edible.",
                      "offset": 0,
                      "length": 64
                    }
                  ],
                  "5": []
                },
                {
                  "0": "This place has a lot of promise but fails to deliver.",
                  "1": "negative",
                  "3": {
                    "positive": 0,
                    "neutral": 0,
                    "negative": 0.99
                  },
                  "4": [
                    {
                      "sentiment": "negative",
                      "confidenceScores": {
                        "positive": 0,
                        "neutral": 0,
                        "negative": 0.99
                      },
                      "text": "This place has a lot of promise but fails to deliver.",
                      "offset": 0,
                      "length": 53
                    }
                  ],
                  "5": []
                },
                {
                  "0": "Very bad Experience!",
                  "1": "negative",
                  "3": {
                    "positive": 0.01,
                    "neutral": 0,
                    "negative": 0.99
                  },
                  "4": [
                    {
                      "sentiment": "negative",
                      "confidenceScores": {
                        "positive": 0.01,
                        "neutral": 0,
                        "negative": 0.99
                      },
                      "text": "Very bad Experience!",
                      "offset": 0,
                      "length": 20
                    }
                  ],
                  "5": []
                },
                {
                  "0": "What a mistake.",
                  "1": "negative",
                  "3": {
                    "positive": 0,
                    "neutral": 0,
                    "negative": 0.99
                  },
                  "4": [
                    {
                      "sentiment": "negative",
                      "confidenceScores": {
                        "positive": 0,
                        "neutral": 0,
                        "negative": 0.99
                      },
                      "text": "What a mistake.",
                      "offset": 0,
                      "length": 15
                    }
                  ],
                  "5": []
                },
                {
                  "0": "Food was average at best.",
                  "1": "positive",
                  "3": {
                    "positive": 0.95,
                    "neutral": 0.01,
                    "negative": 0.04
                  },
                  "4": [
                    {
                      "sentiment": "positive",
                      "confidenceScores": {
                        "positive": 0.95,
                        "neutral": 0.01,
                        "negative": 0.04
                      },
                      "text": "Food was average at best.",
                      "offset": 0,
                      "length": 25
                    }
                  ],
                  "5": []
                },
                {
                  "0": "Great food.",
                  "1": "positive",
                  "3": {
                    "positive": 1,
                    "neutral": 0,
                    "negative": 0
                  },
                  "4": [
                    {
                      "sentiment": "positive",
                      "confidenceScores": {
                        "positive": 1,
                        "neutral": 0,
                        "negative": 0
                      },
                      "text": "Great food.",
                      "offset": 0,
                      "length": 11
                    }
                  ],
                  "5": []
                },
                {
                  "0": "We won't be going back anytime soon!",
                  "1": "negative",
                  "3": {
                    "positive": 0.05,
                    "neutral": 0.43,
                    "negative": 0.52
                  },
                  "4": [
                    {
                      "sentiment": "negative",
                      "confidenceScores": {
                        "positive": 0.05,
                        "neutral": 0.43,
                        "negative": 0.52
                      },
                      "text": "We won't be going back anytime soon!",
                      "offset": 0,
                      "length": 36
                    }
                  ],
                  "5": []
                },
                {
                  "0": "Very Very Disappointed ordered the $35 Big Bay Plater.",
                  "1": "negative",
                  "3": {
                    "positive": 0.01,
                    "neutral": 0,
                    "negative": 0.99
                  },
                  "4": [
                    {
                      "sentiment": "negative",
                      "confidenceScores": {
                        "positive": 0.01,
                        "neutral": 0,
                        "negative": 0.99
                      },
                      "text": "Very Very Disappointed ordered the $35 Big Bay Plater.",
                      "offset": 0,
                      "length": 54
                    }
                  ],
                  "5": []
                },
                {
                  "0": "Great place to relax and have an awesome burger and beer.",
                  "1": "positive",
                  "3": {
                    "positive": 1,
                    "neutral": 0,
                    "negative": 0
                  },
                  "4": [
                    {
                      "sentiment": "positive",
                      "confidenceScores": {
                        "positive": 1,
                        "neutral": 0,
                        "negative": 0
                      },
                      "text": "Great place to relax and have an awesome burger and beer.",
                      "offset": 0,
                      "length": 57
                    }
                  ],
                  "5": []
                },
                {
                  "0": "It is PERFECT for a sit-down family meal or get together with a few friends.",
                  "1": "positive",
                  "3": {
                    "positive": 0.99,
                    "neutral": 0,
                    "negative": 0
                  },
                  "4": [
                    {
                      "sentiment": "positive",
                      "confidenceScores": {
                        "positive": 0.99,
                        "neutral": 0,
                        "negative": 0
                      },
                      "text": "It is PERFECT for a sit-down family meal or get together with a few friends.",
                      "offset": 0,
                      "length": 76
                    }
                  ],
                  "5": []
                },
                {
                  "0": "Not much flavor to them, and very poorly constructed.",
                  "1": "negative",
                  "3": {
                    "positive": 0,
                    "neutral": 0,
                    "negative": 0.99
                  },
                  "4": [
                    {
                      "sentiment": "negative",
                      "confidenceScores": {
                        "positive": 0,
                        "neutral": 0,
                        "negative": 0.99
                      },
                      "text": "Not much flavor to them, and very poorly constructed.",
                      "offset": 0,
                      "length": 53
                    }
                  ],
                  "5": []
                },
                {
                  "0": "The patio seating was very comfortable.",
                  "1": "positive",
                  "3": {
                    "positive": 0.98,
                    "neutral": 0.01,
                    "negative": 0
                  },
                  "4": [
                    {
                      "sentiment": "positive",
                      "confidenceScores": {
                        "positive": 0.98,
                        "neutral": 0.01,
                        "negative": 0
                      },
                      "text": "The patio seating was very comfortable.",
                      "offset": 0,
                      "length": 39
                    }
                  ],
                  "5": []
                },
                {
                  "0": "The fried rice was dry as well.",
                  "1": "neutral",
                  "3": {
                    "positive": 0.05,
                    "neutral": 0.48,
                    "negative": 0.47
                  },
                  "4": [
                    {
                      "sentiment": "neutral",
                      "confidenceScores": {
                        "positive": 0.05,
                        "neutral": 0.48,
                        "negative": 0.47
                      },
                      "text": "The fried rice was dry as well.",
                      "offset": 0,
                      "length": 31
                    }
                  ],
                  "5": []
                },
                {
                  "0": "Hands down my favorite Italian restaurant!",
                  "1": "positive",
                  "3": {
                    "positive": 0.99,
                    "neutral": 0,
                    "negative": 0
                  },
                  "4": [
                    {
                      "sentiment": "positive",
                      "confidenceScores": {
                        "positive": 0.99,
                        "neutral": 0,
                        "negative": 0
                      },
                      "text": "Hands down my favorite Italian restaurant!",
                      "offset": 0,
                      "length": 42
                    }
                  ],
                  "5": []
                },
                {
                  "0": "\"That just SCREAMS \"\"LEGIT\"\" in my book...somethat's also pretty rare here in Vegas.\"",
                  "1": "neutral",
                  "3": {
                    "positive": 0.09,
                    "neutral": 0.57,
                    "negative": 0.34
                  },
                  "4": [
                    {
                      "sentiment": "neutral",
                      "confidenceScores": {
                        "positive": 0.1,
                        "neutral": 0.45,
                        "negative": 0.45
                      },
                      "text": "\"That just SCREAMS \"\"LEGIT\"\" in my book...",
                      "offset": 0,
                      "length": 42
                    },
                    {
                      "sentiment": "neutral",
                      "confidenceScores": {
                        "positive": 0.08,
                        "neutral": 0.68,
                        "negative": 0.24
                      },
                      "text": "somethat's also pretty rare here in Vegas.\"",
                      "offset": 42,
                      "length": 43
                    }
                  ],
                  "5": []
                },
                {
                  "0": "It was just not a fun experience.",
                  "1": "negative",
                  "3": {
                    "positive": 0,
                    "neutral": 0,
                    "negative": 0.99
                  },
                  "4": [
                    {
                      "sentiment": "negative",
                      "confidenceScores": {
                        "positive": 0,
                        "neutral": 0,
                        "negative": 0.99
                      },
                      "text": "It was just not a fun experience.",
                      "offset": 0,
                      "length": 33
                    }
                  ],
                  "5": []
                },
                {
                  "0": "The atmosphere was great with a lovely duo of violinists playing songs we requested.",
                  "1": "positive",
                  "3": {
                    "positive": 1,
                    "neutral": 0,
                    "negative": 0
                  },
                  "4": [
                    {
                      "sentiment": "positive",
                      "confidenceScores": {
                        "positive": 1,
                        "neutral": 0,
                        "negative": 0
                      },
                      "text": "The atmosphere was great with a lovely duo of violinists playing songs we requested.",
                      "offset": 0,
                      "length": 84
                    }
                  ],
                  "5": []
                },
                {
                  "0": "I personally love the hummus, pita, baklava, falafels and Baba Ganoush (it's amazing what they do with eggplant!).",
                  "1": "positive",
                  "3": {
                    "positive": 0.99,
                    "neutral": 0,
                    "negative": 0
                  },
                  "4": [
                    {
                      "sentiment": "positive",
                      "confidenceScores": {
                        "positive": 0.99,
                        "neutral": 0,
                        "negative": 0
                      },
                      "text": "I personally love the hummus, pita, baklava, falafels and Baba Ganoush (it's amazing what they do with eggplant!).",
                      "offset": 0,
                      "length": 114
                    }
                  ],
                  "5": []
                },
                {
                  "0": "Very convenient, since we were staying at the MGM!",
                  "1": "positive",
                  "3": {
                    "positive": 0.99,
                    "neutral": 0,
                    "negative": 0
                  },
                  "4": [
                    {
                      "sentiment": "positive",
                      "confidenceScores": {
                        "positive": 0.99,
                        "neutral": 0,
                        "negative": 0
                      },
                      "text": "Very convenient, since we were staying at the MGM!",
                      "offset": 0,
                      "length": 50
                    }
                  ],
                  "5": []
                },
                {
                  "0": "The owners are super friendly and the staff is courteous.",
                  "1": "positive",
                  "3": {
                    "positive": 0.99,
                    "neutral": 0,
                    "negative": 0
                  },
                  "4": [
                    {
                      "sentiment": "positive",
                      "confidenceScores": {
                        "positive": 0.99,
                        "neutral": 0,
                        "negative": 0
                      },
                      "text": "The owners are super friendly and the staff is courteous.",
                      "offset": 0,
                      "length": 57
                    }
                  ],
                  "5": []
                },
                {
                  "0": "Both great!",
                  "1": "positive",
                  "3": {
                    "positive": 0.99,
                    "neutral": 0,
                    "negative": 0
                  },
                  "4": [
                    {
                      "sentiment": "positive",
                      "confidenceScores": {
                        "positive": 0.99,
                        "neutral": 0,
                        "negative": 0
                      },
                      "text": "Both great!",
                      "offset": 0,
                      "length": 11
                    }
                  ],
                  "5": []
                },
                {
                  "0": "Eclectic selection.",
                  "1": "positive",
                  "3": {
                    "positive": 0.78,
                    "neutral": 0.21,
                    "negative": 0.01
                  },
                  "4": [
                    {
                      "sentiment": "positive",
                      "confidenceScores": {
                        "positive": 0.78,
                        "neutral": 0.21,
                        "negative": 0.01
                      },
                      "text": "Eclectic selection.",
                      "offset": 0,
                      "length": 19
                    }
                  ],
                  "5": []
                },
                {
                  "0": "The sweet potato tots were good but the onion rings were perfection or as close as I have had.",
                  "1": "positive",
                  "3": {
                    "positive": 0.98,
                    "neutral": 0,
                    "negative": 0.02
                  },
                  "4": [
                    {
                      "sentiment": "positive",
                      "confidenceScores": {
                        "positive": 0.98,
                        "neutral": 0,
                        "negative": 0.02
                      },
                      "text": "The sweet potato tots were good but the onion rings were perfection or as close as I have had.",
                      "offset": 0,
                      "length": 94
                    }
                  ],
                  "5": []
                },
                {
                  "0": "The staff was very attentive.",
                  "1": "positive",
                  "3": {
                    "positive": 0.98,
                    "neutral": 0.01,
                    "negative": 0.01
                  },
                  "4": [
                    {
                      "sentiment": "positive",
                      "confidenceScores": {
                        "positive": 0.98,
                        "neutral": 0.01,
                        "negative": 0.01
                      },
                      "text": "The staff was very attentive.",
                      "offset": 0,
                      "length": 29
                    }
                  ],
                  "5": []
                },
                {
                  "0": "And the chef was generous with his time (even came around twice so we can take pictures with him).",
                  "1": "positive",
                  "3": {
                    "positive": 0.98,
                    "neutral": 0.01,
                    "negative": 0.01
                  },
                  "4": [
                    {
                      "sentiment": "positive",
                      "confidenceScores": {
                        "positive": 0.98,
                        "neutral": 0.01,
                        "negative": 0.01
                      },
                      "text": "And the chef was generous with his time (even came around twice so we can take pictures with him).",
                      "offset": 0,
                      "length": 98
                    }
                  ],
                  "5": []
                },
                {
                  "0": "The owner used to work at Nobu, so this place is really similar for half the price.",
                  "1": "neutral",
                  "3": {
                    "positive": 0.33,
                    "neutral": 0.59,
                    "negative": 0.08
                  },
                  "4": [
                    {
                      "sentiment": "neutral",
                      "confidenceScores": {
                        "positive": 0.33,
                        "neutral": 0.59,
                        "negative": 0.08
                      },
                      "text": "The owner used to work at Nobu, so this place is really similar for half the price.",
                      "offset": 0,
                      "length": 83
                    }
                  ],
                  "5": []
                },
                {
                  "0": "Google mediocre and I imagine Smashburger will pop up.",
                  "1": "negative",
                  "3": {
                    "positive": 0,
                    "neutral": 0.01,
                    "negative": 0.99
                  },
                  "4": [
                    {
                      "sentiment": "negative",
                      "confidenceScores": {
                        "positive": 0,
                        "neutral": 0.01,
                        "negative": 0.99
                      },
                      "text": "Google mediocre and I imagine Smashburger will pop up.",
                      "offset": 0,
                      "length": 54
                    }
                  ],
                  "5": []
                },
                {
                  "0": "dont go here.",
                  "1": "neutral",
                  "3": {
                    "positive": 0.02,
                    "neutral": 0.74,
                    "negative": 0.24
                  },
                  "4": [
                    {
                      "sentiment": "neutral",
                      "confidenceScores": {
                        "positive": 0.02,
                        "neutral": 0.74,
                        "negative": 0.24
                      },
                      "text": "dont go here.",
                      "offset": 0,
                      "length": 13
                    }
                  ],
                  "5": []
                },
                {
                  "0": "I promise they won't disappoint.",
                  "1": "positive",
                  "3": {
                    "positive": 0.66,
                    "neutral": 0.15,
                    "negative": 0.2
                  },
                  "4": [
                    {
                      "sentiment": "positive",
                      "confidenceScores": {
                        "positive": 0.66,
                        "neutral": 0.15,
                        "negative": 0.2
                      },
                      "text": "I promise they won't disappoint.",
                      "offset": 0,
                      "length": 32
                    }
                  ],
                  "5": []
                },
                {
                  "0": "As a sushi lover avoid this place by all means.",
                  "1": "negative",
                  "3": {
                    "positive": 0.06,
                    "neutral": 0.02,
                    "negative": 0.92
                  },
                  "4": [
                    {
                      "sentiment": "negative",
                      "confidenceScores": {
                        "positive": 0.06,
                        "neutral": 0.02,
                        "negative": 0.92
                      },
                      "text": "As a sushi lover avoid this place by all means.",
                      "offset": 0,
                      "length": 47
                    }
                  ],
                  "5": []
                },
                {
                  "0": "What a great double cheeseburger!",
                  "1": "positive",
                  "3": {
                    "positive": 1,
                    "neutral": 0,
                    "negative": 0
                  },
                  "4": [
                    {
                      "sentiment": "positive",
                      "confidenceScores": {
                        "positive": 1,
                        "neutral": 0,
                        "negative": 0
                      },
                      "text": "What a great double cheeseburger!",
                      "offset": 0,
                      "length": 33
                    }
                  ],
                  "5": []
                },
                {
                  "0": "Awesome service and food.",
                  "1": "positive",
                  "3": {
                    "positive": 1,
                    "neutral": 0,
                    "negative": 0
                  },
                  "4": [
                    {
                      "sentiment": "positive",
                      "confidenceScores": {
                        "positive": 1,
                        "neutral": 0,
                        "negative": 0
                      },
                      "text": "Awesome service and food.",
                      "offset": 0,
                      "length": 25
                    }
                  ],
                  "5": []
                },
                {
                  "0": "A fantastic neighborhood gem !!!",
                  "1": "positive",
                  "3": {
                    "positive": 1,
                    "neutral": 0,
                    "negative": 0
                  },
                  "4": [
                    {
                      "sentiment": "positive",
                      "confidenceScores": {
                        "positive": 1,
                        "neutral": 0,
                        "negative": 0
                      },
                      "text": "A fantastic neighborhood gem !!!",
                      "offset": 0,
                      "length": 32
                    }
                  ],
                  "5": []
                },
                {
                  "0": "I can't wait to go back.",
                  "1": "positive",
                  "3": {
                    "positive": 0.6,
                    "neutral": 0.35,
                    "negative": 0.05
                  },
                  "4": [
                    {
                      "sentiment": "positive",
                      "confidenceScores": {
                        "positive": 0.6,
                        "neutral": 0.35,
                        "negative": 0.05
                      },
                      "text": "I can't wait to go back.",
                      "offset": 0,
                      "length": 24
                    }
                  ],
                  "5": []
                },
                {
                  "0": "The plantains were the worst I've ever tasted.",
                  "1": "negative",
                  "3": {
                    "positive": 0.01,
                    "neutral": 0,
                    "negative": 0.99
                  },
                  "4": [
                    {
                      "sentiment": "negative",
                      "confidenceScores": {
                        "positive": 0.01,
                        "neutral": 0,
                        "negative": 0.99
                      },
                      "text": "The plantains were the worst I've ever tasted.",
                      "offset": 0,
                      "length": 46
                    }
                  ],
                  "5": []
                },
                {
                  "0": "It's a great place and I highly recommend it.",
                  "1": "positive",
                  "3": {
                    "positive": 1,
                    "neutral": 0,
                    "negative": 0
                  },
                  "4": [
                    {
                      "sentiment": "positive",
                      "confidenceScores": {
                        "positive": 1,
                        "neutral": 0,
                        "negative": 0
                      },
                      "text": "It's a great place and I highly recommend it.",
                      "offset": 0,
                      "length": 45
                    }
                  ],
                  "5": []
                },
                {
                  "0": "Service was slow and not attentive.",
                  "1": "negative",
                  "3": {
                    "positive": 0,
                    "neutral": 0,
                    "negative": 0.99
                  },
                  "4": [
                    {
                      "sentiment": "negative",
                      "confidenceScores": {
                        "positive": 0,
                        "neutral": 0,
                        "negative": 0.99
                      },
                      "text": "Service was slow and not attentive.",
                      "offset": 0,
                      "length": 35
                    }
                  ],
                  "5": []
                },
                {
                  "0": "I gave it 5 stars then, and I'm giving it 5 stars now.",
                  "1": "neutral",
                  "3": {
                    "positive": 0.04,
                    "neutral": 0.9,
                    "negative": 0.06
                  },
                  "4": [
                    {
                      "sentiment": "neutral",
                      "confidenceScores": {
                        "positive": 0.04,
                        "neutral": 0.9,
                        "negative": 0.06
                      },
                      "text": "I gave it 5 stars then, and I'm giving it 5 stars now.",
                      "offset": 0,
                      "length": 54
                    }
                  ],
                  "5": []
                },
                {
                  "0": "Your staff spends more time talking to themselves than me.",
                  "1": "neutral",
                  "3": {
                    "positive": 0.05,
                    "neutral": 0.91,
                    "negative": 0.04
                  },
                  "4": [
                    {
                      "sentiment": "neutral",
                      "confidenceScores": {
                        "positive": 0.05,
                        "neutral": 0.91,
                        "negative": 0.04
                      },
                      "text": "Your staff spends more time talking to themselves than me.",
                      "offset": 0,
                      "length": 58
                    }
                  ],
                  "5": []
                },
                {
                  "0": "Dessert: Panna Cotta was amazing.",
                  "1": "positive",
                  "3": {
                    "positive": 0.99,
                    "neutral": 0,
                    "negative": 0.01
                  },
                  "4": [
                    {
                      "sentiment": "positive",
                      "confidenceScores": {
                        "positive": 0.99,
                        "neutral": 0,
                        "negative": 0.01
                      },
                      "text": "Dessert: Panna Cotta was amazing.",
                      "offset": 0,
                      "length": 33
                    }
                  ],
                  "5": []
                },
                {
                  "0": "Very good food, great atmosphere.1",
                  "1": "positive",
                  "3": {
                    "positive": 1,
                    "neutral": 0,
                    "negative": 0
                  },
                  "4": [
                    {
                      "sentiment": "positive",
                      "confidenceScores": {
                        "positive": 1,
                        "neutral": 0,
                        "negative": 0
                      },
                      "text": "Very good food, great atmosphere.1",
                      "offset": 0,
                      "length": 34
                    }
                  ],
                  "5": []
                },
                {
                  "0": "Damn good steak.",
                  "1": "negative",
                  "3": {
                    "positive": 0.42,
                    "neutral": 0.01,
                    "negative": 0.57
                  },
                  "4": [
                    {
                      "sentiment": "negative",
                      "confidenceScores": {
                        "positive": 0.42,
                        "neutral": 0.01,
                        "negative": 0.57
                      },
                      "text": "Damn good steak.",
                      "offset": 0,
                      "length": 16
                    }
                  ],
                  "5": []
                },
                {
                  "0": "Total brunch fail.",
                  "1": "negative",
                  "3": {
                    "positive": 0,
                    "neutral": 0,
                    "negative": 0.99
                  },
                  "4": [
                    {
                      "sentiment": "negative",
                      "confidenceScores": {
                        "positive": 0,
                        "neutral": 0,
                        "negative": 0.99
                      },
                      "text": "Total brunch fail.",
                      "offset": 0,
                      "length": 18
                    }
                  ],
                  "5": []
                },
                {
                  "0": "Prices are very reasonable, flavors are spot on, the sauce is home made, and the slaw is not drenched in mayo.",
                  "1": "positive",
                  "3": {
                    "positive": 0.94,
                    "neutral": 0.03,
                    "negative": 0.04
                  },
                  "4": [
                    {
                      "sentiment": "positive",
                      "confidenceScores": {
                        "positive": 0.94,
                        "neutral": 0.03,
                        "negative": 0.04
                      },
                      "text": "Prices are very reasonable, flavors are spot on, the sauce is home made, and the slaw is not drenched in mayo.",
                      "offset": 0,
                      "length": 110
                    }
                  ],
                  "5": []
                },
                {
                  "0": "The decor is nice, and the piano music soundtrack is pleasant.",
                  "1": "positive",
                  "3": {
                    "positive": 1,
                    "neutral": 0,
                    "negative": 0
                  },
                  "4": [
                    {
                      "sentiment": "positive",
                      "confidenceScores": {
                        "positive": 1,
                        "neutral": 0,
                        "negative": 0
                      },
                      "text": "The decor is nice, and the piano music soundtrack is pleasant.",
                      "offset": 0,
                      "length": 62
                    }
                  ],
                  "5": []
                },
                {
                  "0": "The steak was amazing...rge fillet relleno was the best seafood plate i have ever had!",
                  "1": "positive",
                  "3": {
                    "positive": 0.99,
                    "neutral": 0,
                    "negative": 0
                  },
                  "4": [
                    {
                      "sentiment": "positive",
                      "confidenceScores": {
                        "positive": 0.99,
                        "neutral": 0,
                        "negative": 0
                      },
                      "text": "The steak was amazing...",
                      "offset": 0,
                      "length": 24
                    },
                    {
                      "sentiment": "positive",
                      "confidenceScores": {
                        "positive": 0.99,
                        "neutral": 0,
                        "negative": 0
                      },
                      "text": "rge fillet relleno was the best seafood plate i have ever had!",
                      "offset": 24,
                      "length": 62
                    }
                  ],
                  "5": []
                },
                {
                  "0": "Good food , good service .",
                  "1": "positive",
                  "3": {
                    "positive": 1,
                    "neutral": 0,
                    "negative": 0
                  },
                  "4": [
                    {
                      "sentiment": "positive",
                      "confidenceScores": {
                        "positive": 1,
                        "neutral": 0,
                        "negative": 0
                      },
                      "text": "Good food , good service .",
                      "offset": 0,
                      "length": 26
                    }
                  ],
                  "5": []
                },
                {
                  "0": "It was absolutely amazing.",
                  "1": "positive",
                  "3": {
                    "positive": 0.98,
                    "neutral": 0.01,
                    "negative": 0.01
                  },
                  "4": [
                    {
                      "sentiment": "positive",
                      "confidenceScores": {
                        "positive": 0.98,
                        "neutral": 0.01,
                        "negative": 0.01
                      },
                      "text": "It was absolutely amazing.",
                      "offset": 0,
                      "length": 26
                    }
                  ],
                  "5": []
                },
                {
                  "0": "I probably won't be back, to be honest.",
                  "1": "neutral",
                  "3": {
                    "positive": 0.03,
                    "neutral": 0.69,
                    "negative": 0.28
                  },
                  "4": [
                    {
                      "sentiment": "neutral",
                      "confidenceScores": {
                        "positive": 0.03,
                        "neutral": 0.69,
                        "negative": 0.28
                      },
                      "text": "I probably won't be back, to be honest.",
                      "offset": 0,
                      "length": 39
                    }
                  ],
                  "5": []
                },
                {
                  "0": "will definitely be back!",
                  "1": "positive",
                  "3": {
                    "positive": 0.6,
                    "neutral": 0.36,
                    "negative": 0.04
                  },
                  "4": [
                    {
                      "sentiment": "positive",
                      "confidenceScores": {
                        "positive": 0.6,
                        "neutral": 0.36,
                        "negative": 0.04
                      },
                      "text": "will definitely be back!",
                      "offset": 0,
                      "length": 24
                    }
                  ],
                  "5": []
                },
                {
                  "0": "The sergeant pepper beef sandwich with auju sauce is an excellent sandwich as well.",
                  "1": "positive",
                  "3": {
                    "positive": 1,
                    "neutral": 0,
                    "negative": 0
                  },
                  "4": [
                    {
                      "sentiment": "positive",
                      "confidenceScores": {
                        "positive": 1,
                        "neutral": 0,
                        "negative": 0
                      },
                      "text": "The sergeant pepper beef sandwich with auju sauce is an excellent sandwich as well.",
                      "offset": 0,
                      "length": 83
                    }
                  ],
                  "5": []
                },
                {
                  "0": "Hawaiian Breeze, Mango Magic, and Pineapple Delight are the smoothies that I've tried so far and they're all good.",
                  "1": "positive",
                  "3": {
                    "positive": 0.99,
                    "neutral": 0,
                    "negative": 0
                  },
                  "4": [
                    {
                      "sentiment": "positive",
                      "confidenceScores": {
                        "positive": 0.99,
                        "neutral": 0,
                        "negative": 0
                      },
                      "text": "Hawaiian Breeze, Mango Magic, and Pineapple Delight are the smoothies that I've tried so far and they're all good.",
                      "offset": 0,
                      "length": 114
                    }
                  ],
                  "5": []
                },
                {
                  "0": "Went for lunch - service was slow.",
                  "1": "negative",
                  "3": {
                    "positive": 0.01,
                    "neutral": 0,
                    "negative": 0.99
                  },
                  "4": [
                    {
                      "sentiment": "negative",
                      "confidenceScores": {
                        "positive": 0.01,
                        "neutral": 0,
                        "negative": 0.99
                      },
                      "text": "Went for lunch - service was slow.",
                      "offset": 0,
                      "length": 34
                    }
                  ],
                  "5": []
                },
                {
                  "0": "We had so much to say about the place before we walked in that he expected it to be amazing, but was quickly disappointed.",
                  "1": "negative",
                  "3": {
                    "positive": 0.02,
                    "neutral": 0,
                    "negative": 0.98
                  },
                  "4": [
                    {
                      "sentiment": "negative",
                      "confidenceScores": {
                        "positive": 0.02,
                        "neutral": 0,
                        "negative": 0.98
                      },
                      "text": "We had so much to say about the place before we walked in that he expected it to be amazing, but was quickly disappointed.",
                      "offset": 0,
                      "length": 122
                    }
                  ],
                  "5": []
                },
                {
                  "0": "I was mortified.",
                  "1": "negative",
                  "3": {
                    "positive": 0.01,
                    "neutral": 0.02,
                    "negative": 0.98
                  },
                  "4": [
                    {
                      "sentiment": "negative",
                      "confidenceScores": {
                        "positive": 0.01,
                        "neutral": 0.02,
                        "negative": 0.98
                      },
                      "text": "I was mortified.",
                      "offset": 0,
                      "length": 16
                    }
                  ],
                  "5": []
                },
                {
                  "0": "Needless to say, we will never be back here again.",
                  "1": "negative",
                  "3": {
                    "positive": 0.03,
                    "neutral": 0.12,
                    "negative": 0.86
                  },
                  "4": [
                    {
                      "sentiment": "negative",
                      "confidenceScores": {
                        "positive": 0.03,
                        "neutral": 0.12,
                        "negative": 0.86
                      },
                      "text": "Needless to say, we will never be back here again.",
                      "offset": 0,
                      "length": 50
                    }
                  ],
                  "5": []
                },
                {
                  "0": "Anyways, The food was definitely not filling at all, and for the price you pay you should expect more.",
                  "1": "negative",
                  "3": {
                    "positive": 0.01,
                    "neutral": 0.01,
                    "negative": 0.97
                  },
                  "4": [
                    {
                      "sentiment": "negative",
                      "confidenceScores": {
                        "positive": 0.01,
                        "neutral": 0.01,
                        "negative": 0.97
                      },
                      "text": "Anyways, The food was definitely not filling at all, and for the price you pay you should expect more.",
                      "offset": 0,
                      "length": 102
                    }
                  ],
                  "5": []
                },
                {
                  "0": "The chips that came out were dripping with grease, and mostly not edible.",
                  "1": "negative",
                  "3": {
                    "positive": 0,
                    "neutral": 0.01,
                    "negative": 0.99
                  },
                  "4": [
                    {
                      "sentiment": "negative",
                      "confidenceScores": {
                        "positive": 0,
                        "neutral": 0.01,
                        "negative": 0.99
                      },
                      "text": "The chips that came out were dripping with grease, and mostly not edible.",
                      "offset": 0,
                      "length": 73
                    }
                  ],
                  "5": []
                },
                {
                  "0": "I wasn't really impressed with Strip Steak.",
                  "1": "negative",
                  "3": {
                    "positive": 0.01,
                    "neutral": 0.02,
                    "negative": 0.96
                  },
                  "4": [
                    {
                      "sentiment": "negative",
                      "confidenceScores": {
                        "positive": 0.01,
                        "neutral": 0.02,
                        "negative": 0.96
                      },
                      "text": "I wasn't really impressed with Strip Steak.",
                      "offset": 0,
                      "length": 43
                    }
                  ],
                  "5": []
                },
                {
                  "0": "Have been going since 2007 and every meal has been awesome!!",
                  "1": "positive",
                  "3": {
                    "positive": 1,
                    "neutral": 0,
                    "negative": 0
                  },
                  "4": [
                    {
                      "sentiment": "positive",
                      "confidenceScores": {
                        "positive": 1,
                        "neutral": 0,
                        "negative": 0
                      },
                      "text": "Have been going since 2007 and every meal has been awesome!!",
                      "offset": 0,
                      "length": 60
                    }
                  ],
                  "5": []
                },
                {
                  "0": "Our server was very nice and attentive as were the other serving staff.",
                  "1": "positive",
                  "3": {
                    "positive": 1,
                    "neutral": 0,
                    "negative": 0
                  },
                  "4": [
                    {
                      "sentiment": "positive",
                      "confidenceScores": {
                        "positive": 1,
                        "neutral": 0,
                        "negative": 0
                      },
                      "text": "Our server was very nice and attentive as were the other serving staff.",
                      "offset": 0,
                      "length": 71
                    }
                  ],
                  "5": []
                },
                {
                  "0": "The cashier was friendly and even brought the food out to me.",
                  "1": "positive",
                  "3": {
                    "positive": 0.97,
                    "neutral": 0.02,
                    "negative": 0.01
                  },
                  "4": [
                    {
                      "sentiment": "positive",
                      "confidenceScores": {
                        "positive": 0.97,
                        "neutral": 0.02,
                        "negative": 0.01
                      },
                      "text": "The cashier was friendly and even brought the food out to me.",
                      "offset": 0,
                      "length": 61
                    }
                  ],
                  "5": []
                },
                {
                  "0": "I work in the hospitality industry in Paradise Valley and have refrained from recommending Cibo any longer.",
                  "1": "negative",
                  "3": {
                    "positive": 0.06,
                    "neutral": 0.43,
                    "negative": 0.51
                  },
                  "4": [
                    {
                      "sentiment": "negative",
                      "confidenceScores": {
                        "positive": 0.06,
                        "neutral": 0.43,
                        "negative": 0.51
                      },
                      "text": "I work in the hospitality industry in Paradise Valley and have refrained from recommending Cibo any longer.",
                      "offset": 0,
                      "length": 107
                    }
                  ],
                  "5": []
                },
                {
                  "0": "The atmosphere here is fun.",
                  "1": "positive",
                  "3": {
                    "positive": 0.99,
                    "neutral": 0.01,
                    "negative": 0.01
                  },
                  "4": [
                    {
                      "sentiment": "positive",
                      "confidenceScores": {
                        "positive": 0.99,
                        "neutral": 0.01,
                        "negative": 0.01
                      },
                      "text": "The atmosphere here is fun.",
                      "offset": 0,
                      "length": 27
                    }
                  ],
                  "5": []
                },
                {
                  "0": "Would not recommend to others.",
                  "1": "negative",
                  "3": {
                    "positive": 0.01,
                    "neutral": 0,
                    "negative": 0.99
                  },
                  "4": [
                    {
                      "sentiment": "negative",
                      "confidenceScores": {
                        "positive": 0.01,
                        "neutral": 0,
                        "negative": 0.99
                      },
                      "text": "Would not recommend to others.",
                      "offset": 0,
                      "length": 30
                    }
                  ],
                  "5": []
                },
                {
                  "0": "\"Service is quick and even \"\"to go\"\" orders are just like we like it!\"",
                  "1": "positive",
                  "3": {
                    "positive": 0.99,
                    "neutral": 0,
                    "negative": 0
                  },
                  "4": [
                    {
                      "sentiment": "positive",
                      "confidenceScores": {
                        "positive": 0.99,
                        "neutral": 0,
                        "negative": 0
                      },
                      "text": "\"Service is quick and even \"\"to go\"\" orders are just like we like it!\"",
                      "offset": 0,
                      "length": 70
                    }
                  ],
                  "5": []
                },
                {
                  "0": "I mean really, how do you get so famous for your fish and chips when it's so terrible!?!",
                  "1": "negative",
                  "3": {
                    "positive": 0.01,
                    "neutral": 0.01,
                    "negative": 0.98
                  },
                  "4": [
                    {
                      "sentiment": "negative",
                      "confidenceScores": {
                        "positive": 0.01,
                        "neutral": 0.01,
                        "negative": 0.98
                      },
                      "text": "I mean really, how do you get so famous for your fish and chips when it's so terrible!?!",
                      "offset": 0,
                      "length": 88
                    }
                  ],
                  "5": []
                },
                {
                  "0": "That said, our mouths and bellies were still quite pleased.",
                  "1": "positive",
                  "3": {
                    "positive": 0.96,
                    "neutral": 0.02,
                    "negative": 0.03
                  },
                  "4": [
                    {
                      "sentiment": "positive",
                      "confidenceScores": {
                        "positive": 0.96,
                        "neutral": 0.02,
                        "negative": 0.03
                      },
                      "text": "That said, our mouths and bellies were still quite pleased.",
                      "offset": 0,
                      "length": 59
                    }
                  ],
                  "5": []
                },
                {
                  "0": "Not my thing.",
                  "1": "neutral",
                  "3": {
                    "positive": 0.03,
                    "neutral": 0.81,
                    "negative": 0.16
                  },
                  "4": [
                    {
                      "sentiment": "neutral",
                      "confidenceScores": {
                        "positive": 0.03,
                        "neutral": 0.81,
                        "negative": 0.16
                      },
                      "text": "Not my thing.",
                      "offset": 0,
                      "length": 13
                    }
                  ],
                  "5": []
                },
                {
                  "0": "2 Thumbs Up!!",
                  "1": "neutral",
                  "3": {
                    "positive": 0.3,
                    "neutral": 0.66,
                    "negative": 0.04
                  },
                  "4": [
                    {
                      "sentiment": "neutral",
                      "confidenceScores": {
                        "positive": 0.3,
                        "neutral": 0.66,
                        "negative": 0.04
                      },
                      "text": "2 Thumbs Up!!",
                      "offset": 0,
                      "length": 13
                    }
                  ],
                  "5": []
                },
                {
                  "0": "If you are reading this please don't go there.",
                  "1": "neutral",
                  "3": {
                    "positive": 0.04,
                    "neutral": 0.53,
                    "negative": 0.43
                  },
                  "4": [
                    {
                      "sentiment": "neutral",
                      "confidenceScores": {
                        "positive": 0.04,
                        "neutral": 0.53,
                        "negative": 0.43
                      },
                      "text": "If you are reading this please don't go there.",
                      "offset": 0,
                      "length": 46
                    }
                  ],
                  "5": []
                },
                {
                  "0": "I loved the grilled pizza, reminded me of legit Italian pizza.",
                  "1": "positive",
                  "3": {
                    "positive": 0.99,
                    "neutral": 0,
                    "negative": 0
                  },
                  "4": [
                    {
                      "sentiment": "positive",
                      "confidenceScores": {
                        "positive": 0.99,
                        "neutral": 0,
                        "negative": 0
                      },
                      "text": "I loved the grilled pizza, reminded me of legit Italian pizza.",
                      "offset": 0,
                      "length": 62
                    }
                  ],
                  "5": []
                },
                {
                  "0": "Only Pros : Large seating area/ Nice bar area/ Great simple drink menu/ The BEST brick oven pizza with homemade dough!",
                  "1": "positive",
                  "3": {
                    "positive": 0.99,
                    "neutral": 0,
                    "negative": 0
                  },
                  "4": [
                    {
                      "sentiment": "positive",
                      "confidenceScores": {
                        "positive": 0.99,
                        "neutral": 0,
                        "negative": 0
                      },
                      "text": "Only Pros : Large seating area/ Nice bar area/ Great simple drink menu/ The BEST brick oven pizza with homemade dough!",
                      "offset": 0,
                      "length": 118
                    }
                  ],
                  "5": []
                },
                {
                  "0": "They have a really nice atmosphere.",
                  "1": "positive",
                  "3": {
                    "positive": 0.99,
                    "neutral": 0,
                    "negative": 0
                  },
                  "4": [
                    {
                      "sentiment": "positive",
                      "confidenceScores": {
                        "positive": 0.99,
                        "neutral": 0,
                        "negative": 0
                      },
                      "text": "They have a really nice atmosphere.",
                      "offset": 0,
                      "length": 35
                    }
                  ],
                  "5": []
                },
                {
                  "0": "Tonight I had the Elk Filet special...and it sucked.",
                  "1": "mixed",
                  "3": {
                    "positive": 0.26,
                    "neutral": 0.21,
                    "negative": 0.53
                  },
                  "4": [
                    {
                      "sentiment": "positive",
                      "confidenceScores": {
                        "positive": 0.52,
                        "neutral": 0.41,
                        "negative": 0.07
                      },
                      "text": "Tonight I had the Elk Filet special...",
                      "offset": 0,
                      "length": 38
                    },
                    {
                      "sentiment": "negative",
                      "confidenceScores": {
                        "positive": 0,
                        "neutral": 0,
                        "negative": 0.99
                      },
                      "text": "and it sucked.",
                      "offset": 38,
                      "length": 14
                    }
                  ],
                  "5": []
                },
                {
                  "0": "After one bite, I was hooked.",
                  "1": "negative",
                  "3": {
                    "positive": 0.12,
                    "neutral": 0.32,
                    "negative": 0.55
                  },
                  "4": [
                    {
                      "sentiment": "negative",
                      "confidenceScores": {
                        "positive": 0.12,
                        "neutral": 0.32,
                        "negative": 0.55
                      },
                      "text": "After one bite, I was hooked.",
                      "offset": 0,
                      "length": 29
                    }
                  ],
                  "5": []
                },
                {
                  "0": "We ordered some old classics and some new dishes after going there a few times and were sorely disappointed with everything.",
                  "1": "negative",
                  "3": {
                    "positive": 0.01,
                    "neutral": 0,
                    "negative": 0.99
                  },
                  "4": [
                    {
                      "sentiment": "negative",
                      "confidenceScores": {
                        "positive": 0.01,
                        "neutral": 0,
                        "negative": 0.99
                      },
                      "text": "We ordered some old classics and some new dishes after going there a few times and were sorely disappointed with everything.",
                      "offset": 0,
                      "length": 124
                    }
                  ],
                  "5": []
                },
                {
                  "0": "Cute, quaint, simple, honest.",
                  "1": "positive",
                  "3": {
                    "positive": 0.99,
                    "neutral": 0,
                    "negative": 0
                  },
                  "4": [
                    {
                      "sentiment": "positive",
                      "confidenceScores": {
                        "positive": 0.99,
                        "neutral": 0,
                        "negative": 0
                      },
                      "text": "Cute, quaint, simple, honest.",
                      "offset": 0,
                      "length": 29
                    }
                  ],
                  "5": []
                },
                {
                  "0": "The chicken was deliciously seasoned and had the perfect fry on the outside and moist chicken on the inside.",
                  "1": "positive",
                  "3": {
                    "positive": 0.99,
                    "neutral": 0,
                    "negative": 0
                  },
                  "4": [
                    {
                      "sentiment": "positive",
                      "confidenceScores": {
                        "positive": 0.99,
                        "neutral": 0,
                        "negative": 0
                      },
                      "text": "The chicken was deliciously seasoned and had the perfect fry on the outside and moist chicken on the inside.",
                      "offset": 0,
                      "length": 108
                    }
                  ],
                  "5": []
                },
                {
                  "0": "The food was great as always, compliments to the chef.",
                  "1": "positive",
                  "3": {
                    "positive": 1,
                    "neutral": 0,
                    "negative": 0
                  },
                  "4": [
                    {
                      "sentiment": "positive",
                      "confidenceScores": {
                        "positive": 1,
                        "neutral": 0,
                        "negative": 0
                      },
                      "text": "The food was great as always, compliments to the chef.",
                      "offset": 0,
                      "length": 54
                    }
                  ],
                  "5": []
                },
                {
                  "0": "Special thanks to Dylan T. for the recommendation on what to order :) All yummy for my tummy.",
                  "1": "positive",
                  "3": {
                    "positive": 0.99,
                    "neutral": 0,
                    "negative": 0
                  },
                  "4": [
                    {
                      "sentiment": "positive",
                      "confidenceScores": {
                        "positive": 0.99,
                        "neutral": 0,
                        "negative": 0
                      },
                      "text": "Special thanks to Dylan T. for the recommendation on what to order :) All yummy for my tummy.",
                      "offset": 0,
                      "length": 93
                    }
                  ],
                  "5": []
                },
                {
                  "0": "Awesome selection of beer.",
                  "1": "positive",
                  "3": {
                    "positive": 1,
                    "neutral": 0,
                    "negative": 0
                  },
                  "4": [
                    {
                      "sentiment": "positive",
                      "confidenceScores": {
                        "positive": 1,
                        "neutral": 0,
                        "negative": 0
                      },
                      "text": "Awesome selection of beer.",
                      "offset": 0,
                      "length": 26
                    }
                  ],
                  "5": []
                },
                {
                  "0": "Great food and awesome service!",
                  "1": "positive",
                  "3": {
                    "positive": 1,
                    "neutral": 0,
                    "negative": 0
                  },
                  "4": [
                    {
                      "sentiment": "positive",
                      "confidenceScores": {
                        "positive": 1,
                        "neutral": 0,
                        "negative": 0
                      },
                      "text": "Great food and awesome service!",
                      "offset": 0,
                      "length": 31
                    }
                  ],
                  "5": []
                },
                {
                  "0": "One nice thing was that they added gratuity on the bill since our party was larger than 6 or 8, and they didn't expect more tip than that.",
                  "1": "positive",
                  "3": {
                    "positive": 0.94,
                    "neutral": 0.01,
                    "negative": 0.05
                  },
                  "4": [
                    {
                      "sentiment": "positive",
                      "confidenceScores": {
                        "positive": 0.94,
                        "neutral": 0.01,
                        "negative": 0.05
                      },
                      "text": "One nice thing was that they added gratuity on the bill since our party was larger than 6 or 8, and they didn't expect more tip than that.",
                      "offset": 0,
                      "length": 138
                    }
                  ],
                  "5": []
                },
                {
                  "0": "A FLY was in my apple juice.. A FLY!!!!!!!!",
                  "1": "positive",
                  "3": {
                    "positive": 0.54,
                    "neutral": 0.31,
                    "negative": 0.15
                  },
                  "4": [
                    {
                      "sentiment": "neutral",
                      "confidenceScores": {
                        "positive": 0.03,
                        "neutral": 0.52,
                        "negative": 0.45
                      },
                      "text": "A FLY was in my apple juice.. ",
                      "offset": 0,
                      "length": 30
                    },
                    {
                      "sentiment": "positive",
                      "confidenceScores": {
                        "positive": 0.54,
                        "neutral": 0.31,
                        "negative": 0.15
                      },
                      "text": "A FLY!!!!!!!!",
                      "offset": 30,
                      "length": 13
                    }
                  ],
                  "5": []
                },
                {
                  "0": "The Han Nan Chicken was also very tasty.",
                  "1": "positive",
                  "3": {
                    "positive": 0.99,
                    "neutral": 0,
                    "negative": 0.01
                  },
                  "4": [
                    {
                      "sentiment": "positive",
                      "confidenceScores": {
                        "positive": 0.99,
                        "neutral": 0,
                        "negative": 0.01
                      },
                      "text": "The Han Nan Chicken was also very tasty.",
                      "offset": 0,
                      "length": 40
                    }
                  ],
                  "5": []
                },
                {
                  "0": "As for the service, I thought it was good.",
                  "1": "positive",
                  "3": {
                    "positive": 1,
                    "neutral": 0,
                    "negative": 0
                  },
                  "4": [
                    {
                      "sentiment": "positive",
                      "confidenceScores": {
                        "positive": 1,
                        "neutral": 0,
                        "negative": 0
                      },
                      "text": "As for the service, I thought it was good.",
                      "offset": 0,
                      "length": 42
                    }
                  ],
                  "5": []
                },
                {
                  "0": "The food was barely lukewarm, so it must have been sitting waiting for the server to bring it out to us.",
                  "1": "negative",
                  "3": {
                    "positive": 0.01,
                    "neutral": 0.1,
                    "negative": 0.89
                  },
                  "4": [
                    {
                      "sentiment": "negative",
                      "confidenceScores": {
                        "positive": 0.01,
                        "neutral": 0.1,
                        "negative": 0.89
                      },
                      "text": "The food was barely lukewarm, so it must have been sitting waiting for the server to bring it out to us.",
                      "offset": 0,
                      "length": 104
                    }
                  ],
                  "5": []
                },
                {
                  "0": "Ryan's Bar is definitely one Edinburgh establishment I won't be revisiting.",
                  "1": "neutral",
                  "3": {
                    "positive": 0.38,
                    "neutral": 0.49,
                    "negative": 0.13
                  },
                  "4": [
                    {
                      "sentiment": "neutral",
                      "confidenceScores": {
                        "positive": 0.38,
                        "neutral": 0.49,
                        "negative": 0.13
                      },
                      "text": "Ryan's Bar is definitely one Edinburgh establishment I won't be revisiting.",
                      "offset": 0,
                      "length": 75
                    }
                  ],
                  "5": []
                },
                {
                  "0": "Nicest Chinese restaurant I've been in a while.",
                  "1": "positive",
                  "3": {
                    "positive": 1,
                    "neutral": 0,
                    "negative": 0
                  },
                  "4": [
                    {
                      "sentiment": "positive",
                      "confidenceScores": {
                        "positive": 1,
                        "neutral": 0,
                        "negative": 0
                      },
                      "text": "Nicest Chinese restaurant I've been in a while.",
                      "offset": 0,
                      "length": 47
                    }
                  ],
                  "5": []
                },
                {
                  "0": "Overall, I like there food and the service.",
                  "1": "positive",
                  "3": {
                    "positive": 0.99,
                    "neutral": 0,
                    "negative": 0
                  },
                  "4": [
                    {
                      "sentiment": "positive",
                      "confidenceScores": {
                        "positive": 0.99,
                        "neutral": 0,
                        "negative": 0
                      },
                      "text": "Overall, I like there food and the service.",
                      "offset": 0,
                      "length": 43
                    }
                  ],
                  "5": []
                },
                {
                  "0": "They also now serve Indian naan bread with hummus and some spicy pine nut sauce that was out of this world.",
                  "1": "neutral",
                  "3": {
                    "positive": 0.16,
                    "neutral": 0.58,
                    "negative": 0.26
                  },
                  "4": [
                    {
                      "sentiment": "neutral",
                      "confidenceScores": {
                        "positive": 0.16,
                        "neutral": 0.58,
                        "negative": 0.26
                      },
                      "text": "They also now serve Indian naan bread with hummus and some spicy pine nut sauce that was out of this world.",
                      "offset": 0,
                      "length": 107
                    }
                  ],
                  "5": []
                },
                {
                  "0": "Probably never coming back, and wouldn't recommend it.",
                  "1": "negative",
                  "3": {
                    "positive": 0.01,
                    "neutral": 0.01,
                    "negative": 0.98
                  },
                  "4": [
                    {
                      "sentiment": "negative",
                      "confidenceScores": {
                        "positive": 0.01,
                        "neutral": 0.01,
                        "negative": 0.98
                      },
                      "text": "Probably never coming back, and wouldn't recommend it.",
                      "offset": 0,
                      "length": 54
                    }
                  ],
                  "5": []
                },
                {
                  "0": "Friend's pasta -- also bad, he barely touched it.",
                  "1": "negative",
                  "3": {
                    "positive": 0,
                    "neutral": 0,
                    "negative": 0.99
                  },
                  "4": [
                    {
                      "sentiment": "negative",
                      "confidenceScores": {
                        "positive": 0,
                        "neutral": 0,
                        "negative": 0.99
                      },
                      "text": "Friend's pasta -- also bad, he barely touched it.",
                      "offset": 0,
                      "length": 49
                    }
                  ],
                  "5": []
                },
                {
                  "0": "Try them in the airport to experience some tasty food and speedy, friendly service.",
                  "1": "positive",
                  "3": {
                    "positive": 0.99,
                    "neutral": 0.01,
                    "negative": 0
                  },
                  "4": [
                    {
                      "sentiment": "positive",
                      "confidenceScores": {
                        "positive": 0.99,
                        "neutral": 0.01,
                        "negative": 0
                      },
                      "text": "Try them in the airport to experience some tasty food and speedy, friendly service.",
                      "offset": 0,
                      "length": 83
                    }
                  ],
                  "5": []
                },
                {
                  "0": "I love the decor with the Chinese calligraphy wall paper.",
                  "1": "positive",
                  "3": {
                    "positive": 0.99,
                    "neutral": 0,
                    "negative": 0
                  },
                  "4": [
                    {
                      "sentiment": "positive",
                      "confidenceScores": {
                        "positive": 0.99,
                        "neutral": 0,
                        "negative": 0
                      },
                      "text": "I love the decor with the Chinese calligraphy wall paper.",
                      "offset": 0,
                      "length": 57
                    }
                  ],
                  "5": []
                },
                {
                  "0": "Never had anything to complain about here.",
                  "1": "positive",
                  "3": {
                    "positive": 0.37,
                    "neutral": 0.27,
                    "negative": 0.36
                  },
                  "4": [
                    {
                      "sentiment": "positive",
                      "confidenceScores": {
                        "positive": 0.37,
                        "neutral": 0.27,
                        "negative": 0.36
                      },
                      "text": "Never had anything to complain about here.",
                      "offset": 0,
                      "length": 42
                    }
                  ],
                  "5": []
                },
                {
                  "0": "The restaurant is very clean and has a family restaurant feel to it.",
                  "1": "positive",
                  "3": {
                    "positive": 0.97,
                    "neutral": 0.02,
                    "negative": 0.01
                  },
                  "4": [
                    {
                      "sentiment": "positive",
                      "confidenceScores": {
                        "positive": 0.97,
                        "neutral": 0.02,
                        "negative": 0.01
                      },
                      "text": "The restaurant is very clean and has a family restaurant feel to it.",
                      "offset": 0,
                      "length": 68
                    }
                  ],
                  "5": []
                },
                {
                  "0": "It was way over fried.",
                  "1": "negative",
                  "3": {
                    "positive": 0.04,
                    "neutral": 0.14,
                    "negative": 0.82
                  },
                  "4": [
                    {
                      "sentiment": "negative",
                      "confidenceScores": {
                        "positive": 0.04,
                        "neutral": 0.14,
                        "negative": 0.82
                      },
                      "text": "It was way over fried.",
                      "offset": 0,
                      "length": 22
                    }
                  ],
                  "5": []
                },
                {
                  "0": "I'm not sure how long we stood there but it was long enough for me to begin to feel awkwardly out of place.",
                  "1": "negative",
                  "3": {
                    "positive": 0,
                    "neutral": 0.01,
                    "negative": 0.99
                  },
                  "4": [
                    {
                      "sentiment": "negative",
                      "confidenceScores": {
                        "positive": 0,
                        "neutral": 0.01,
                        "negative": 0.99
                      },
                      "text": "I'm not sure how long we stood there but it was long enough for me to begin to feel awkwardly out of place.",
                      "offset": 0,
                      "length": 107
                    }
                  ],
                  "5": []
                },
                {
                  "0": "When I opened the sandwich, I was impressed, but not in a good way.",
                  "1": "negative",
                  "3": {
                    "positive": 0,
                    "neutral": 0,
                    "negative": 0.99
                  },
                  "4": [
                    {
                      "sentiment": "negative",
                      "confidenceScores": {
                        "positive": 0,
                        "neutral": 0,
                        "negative": 0.99
                      },
                      "text": "When I opened the sandwich, I was impressed, but not in a good way.",
                      "offset": 0,
                      "length": 67
                    }
                  ],
                  "5": []
                },
                {
                  "0": "Will not be back!",
                  "1": "negative",
                  "3": {
                    "positive": 0.03,
                    "neutral": 0.23,
                    "negative": 0.74
                  },
                  "4": [
                    {
                      "sentiment": "negative",
                      "confidenceScores": {
                        "positive": 0.03,
                        "neutral": 0.23,
                        "negative": 0.74
                      },
                      "text": "Will not be back!",
                      "offset": 0,
                      "length": 17
                    }
                  ],
                  "5": []
                },
                {
                  "0": "There was a warm feeling with the service and I felt like their guest for a special treat.",
                  "1": "positive",
                  "3": {
                    "positive": 0.99,
                    "neutral": 0,
                    "negative": 0
                  },
                  "4": [
                    {
                      "sentiment": "positive",
                      "confidenceScores": {
                        "positive": 0.99,
                        "neutral": 0,
                        "negative": 0
                      },
                      "text": "There was a warm feeling with the service and I felt like their guest for a special treat.",
                      "offset": 0,
                      "length": 90
                    }
                  ],
                  "5": []
                },
                {
                  "0": "An extensive menu provides lots of options for breakfast.",
                  "1": "positive",
                  "3": {
                    "positive": 0.56,
                    "neutral": 0.42,
                    "negative": 0.02
                  },
                  "4": [
                    {
                      "sentiment": "positive",
                      "confidenceScores": {
                        "positive": 0.56,
                        "neutral": 0.42,
                        "negative": 0.02
                      },
                      "text": "An extensive menu provides lots of options for breakfast.",
                      "offset": 0,
                      "length": 57
                    }
                  ],
                  "5": []
                },
                {
                  "0": "I always order from the vegetarian menu during dinner, which has a wide array of options to choose from.",
                  "1": "neutral",
                  "3": {
                    "positive": 0.14,
                    "neutral": 0.84,
                    "negative": 0.02
                  },
                  "4": [
                    {
                      "sentiment": "neutral",
                      "confidenceScores": {
                        "positive": 0.14,
                        "neutral": 0.84,
                        "negative": 0.02
                      },
                      "text": "I always order from the vegetarian menu during dinner, which has a wide array of options to choose from.",
                      "offset": 0,
                      "length": 104
                    }
                  ],
                  "5": []
                },
                {
                  "0": "I have watched their prices inflate, portions get smaller and management attitudes grow rapidly!",
                  "1": "negative",
                  "3": {
                    "positive": 0.12,
                    "neutral": 0.33,
                    "negative": 0.55
                  },
                  "4": [
                    {
                      "sentiment": "negative",
                      "confidenceScores": {
                        "positive": 0.12,
                        "neutral": 0.33,
                        "negative": 0.55
                      },
                      "text": "I have watched their prices inflate, portions get smaller and management attitudes grow rapidly!",
                      "offset": 0,
                      "length": 96
                    }
                  ],
                  "5": []
                },
                {
                  "0": "Wonderful lil tapas and the ambience made me feel all warm and fuzzy inside.",
                  "1": "positive",
                  "3": {
                    "positive": 1,
                    "neutral": 0,
                    "negative": 0
                  },
                  "4": [
                    {
                      "sentiment": "positive",
                      "confidenceScores": {
                        "positive": 1,
                        "neutral": 0,
                        "negative": 0
                      },
                      "text": "Wonderful lil tapas and the ambience made me feel all warm and fuzzy inside.",
                      "offset": 0,
                      "length": 76
                    }
                  ],
                  "5": []
                },
                {
                  "0": "I got to enjoy the seafood salad, with a fabulous vinegrette.",
                  "1": "positive",
                  "3": {
                    "positive": 0.99,
                    "neutral": 0,
                    "negative": 0
                  },
                  "4": [
                    {
                      "sentiment": "positive",
                      "confidenceScores": {
                        "positive": 0.99,
                        "neutral": 0,
                        "negative": 0
                      },
                      "text": "I got to enjoy the seafood salad, with a fabulous vinegrette.",
                      "offset": 0,
                      "length": 61
                    }
                  ],
                  "5": []
                },
                {
                  "0": "The wontons were thin, not thick and chewy, almost melt in your mouth.",
                  "1": "negative",
                  "3": {
                    "positive": 0.01,
                    "neutral": 0.2,
                    "negative": 0.79
                  },
                  "4": [
                    {
                      "sentiment": "negative",
                      "confidenceScores": {
                        "positive": 0.01,
                        "neutral": 0.2,
                        "negative": 0.79
                      },
                      "text": "The wontons were thin, not thick and chewy, almost melt in your mouth.",
                      "offset": 0,
                      "length": 70
                    }
                  ],
                  "5": []
                },
                {
                  "0": "Level 5 spicy was perfect, where spice didn't over-whelm the soup.",
                  "1": "positive",
                  "3": {
                    "positive": 0.99,
                    "neutral": 0,
                    "negative": 0
                  },
                  "4": [
                    {
                      "sentiment": "positive",
                      "confidenceScores": {
                        "positive": 0.99,
                        "neutral": 0,
                        "negative": 0
                      },
                      "text": "Level 5 spicy was perfect, where spice didn't over-whelm the soup.",
                      "offset": 0,
                      "length": 66
                    }
                  ],
                  "5": []
                },
                {
                  "0": "We were sat right on time and our server from the get go was FANTASTIC!",
                  "1": "positive",
                  "3": {
                    "positive": 0.99,
                    "neutral": 0,
                    "negative": 0.01
                  },
                  "4": [
                    {
                      "sentiment": "positive",
                      "confidenceScores": {
                        "positive": 0.99,
                        "neutral": 0,
                        "negative": 0.01
                      },
                      "text": "We were sat right on time and our server from the get go was FANTASTIC!",
                      "offset": 0,
                      "length": 71
                    }
                  ],
                  "5": []
                },
                {
                  "0": "Main thing I didn't enjoy is that the crowd is of older crowd, around mid 30s and up.",
                  "1": "negative",
                  "3": {
                    "positive": 0.02,
                    "neutral": 0.02,
                    "negative": 0.96
                  },
                  "4": [
                    {
                      "sentiment": "negative",
                      "confidenceScores": {
                        "positive": 0.02,
                        "neutral": 0.02,
                        "negative": 0.96
                      },
                      "text": "Main thing I didn't enjoy is that the crowd is of older crowd, around mid 30s and up.",
                      "offset": 0,
                      "length": 85
                    }
                  ],
                  "5": []
                },
                {
                  "0": "When I'm on this side of town, this will definitely be a spot I'll hit up again!",
                  "1": "positive",
                  "3": {
                    "positive": 0.54,
                    "neutral": 0.41,
                    "negative": 0.05
                  },
                  "4": [
                    {
                      "sentiment": "positive",
                      "confidenceScores": {
                        "positive": 0.54,
                        "neutral": 0.41,
                        "negative": 0.05
                      },
                      "text": "When I'm on this side of town, this will definitely be a spot I'll hit up again!",
                      "offset": 0,
                      "length": 80
                    }
                  ],
                  "5": []
                },
                {
                  "0": "I had to wait over 30 minutes to get my drink and longer to get 2 arepas.",
                  "1": "neutral",
                  "3": {
                    "positive": 0.03,
                    "neutral": 0.69,
                    "negative": 0.28
                  },
                  "4": [
                    {
                      "sentiment": "neutral",
                      "confidenceScores": {
                        "positive": 0.03,
                        "neutral": 0.69,
                        "negative": 0.28
                      },
                      "text": "I had to wait over 30 minutes to get my drink and longer to get 2 arepas.",
                      "offset": 0,
                      "length": 73
                    }
                  ],
                  "5": []
                },
                {
                  "0": "This is a GREAT place to eat!",
                  "1": "positive",
                  "3": {
                    "positive": 1,
                    "neutral": 0,
                    "negative": 0
                  },
                  "4": [
                    {
                      "sentiment": "positive",
                      "confidenceScores": {
                        "positive": 1,
                        "neutral": 0,
                        "negative": 0
                      },
                      "text": "This is a GREAT place to eat!",
                      "offset": 0,
                      "length": 29
                    }
                  ],
                  "5": []
                },
                {
                  "0": "The jalapeno bacon is soooo good.",
                  "1": "positive",
                  "3": {
                    "positive": 0.99,
                    "neutral": 0,
                    "negative": 0
                  },
                  "4": [
                    {
                      "sentiment": "positive",
                      "confidenceScores": {
                        "positive": 0.99,
                        "neutral": 0,
                        "negative": 0
                      },
                      "text": "The jalapeno bacon is soooo good.",
                      "offset": 0,
                      "length": 33
                    }
                  ],
                  "5": []
                },
                {
                  "0": "The service was poor and thats being nice.",
                  "1": "negative",
                  "3": {
                    "positive": 0.03,
                    "neutral": 0,
                    "negative": 0.97
                  },
                  "4": [
                    {
                      "sentiment": "negative",
                      "confidenceScores": {
                        "positive": 0.03,
                        "neutral": 0,
                        "negative": 0.97
                      },
                      "text": "The service was poor and thats being nice.",
                      "offset": 0,
                      "length": 42
                    }
                  ],
                  "5": []
                },
                {
                  "0": "Food was good, service was good, Prices were good.",
                  "1": "positive",
                  "3": {
                    "positive": 1,
                    "neutral": 0,
                    "negative": 0
                  },
                  "4": [
                    {
                      "sentiment": "positive",
                      "confidenceScores": {
                        "positive": 1,
                        "neutral": 0,
                        "negative": 0
                      },
                      "text": "Food was good, service was good, Prices were good.",
                      "offset": 0,
                      "length": 50
                    }
                  ],
                  "5": []
                },
                {
                  "0": "The place was not clean and the food oh so stale!",
                  "1": "negative",
                  "3": {
                    "positive": 0,
                    "neutral": 0,
                    "negative": 0.99
                  },
                  "4": [
                    {
                      "sentiment": "negative",
                      "confidenceScores": {
                        "positive": 0,
                        "neutral": 0,
                        "negative": 0.99
                      },
                      "text": "The place was not clean and the food oh so stale!",
                      "offset": 0,
                      "length": 49
                    }
                  ],
                  "5": []
                },
                {
                  "0": "The chicken dishes are OK, the beef is like shoe leather.",
                  "1": "neutral",
                  "3": {
                    "positive": 0.16,
                    "neutral": 0.75,
                    "negative": 0.09
                  },
                  "4": [
                    {
                      "sentiment": "neutral",
                      "confidenceScores": {
                        "positive": 0.16,
                        "neutral": 0.75,
                        "negative": 0.09
                      },
                      "text": "The chicken dishes are OK, the beef is like shoe leather.",
                      "offset": 0,
                      "length": 57
                    }
                  ],
                  "5": []
                },
                {
                  "0": "But the service was beyond bad.",
                  "1": "negative",
                  "3": {
                    "positive": 0.01,
                    "neutral": 0,
                    "negative": 0.99
                  },
                  "4": [
                    {
                      "sentiment": "negative",
                      "confidenceScores": {
                        "positive": 0.01,
                        "neutral": 0,
                        "negative": 0.99
                      },
                      "text": "But the service was beyond bad.",
                      "offset": 0,
                      "length": 31
                    }
                  ],
                  "5": []
                },
                {
                  "0": "\"I'm so happy to be here!!!\"\"\"",
                  "1": "positive",
                  "3": {
                    "positive": 0.99,
                    "neutral": 0.01,
                    "negative": 0
                  },
                  "4": [
                    {
                      "sentiment": "positive",
                      "confidenceScores": {
                        "positive": 0.99,
                        "neutral": 0.01,
                        "negative": 0
                      },
                      "text": "\"I'm so happy to be here!!!\"\"\"",
                      "offset": 0,
                      "length": 30
                    }
                  ],
                  "5": []
                },
                {
                  "0": "Tasted like dirt.",
                  "1": "negative",
                  "3": {
                    "positive": 0.01,
                    "neutral": 0.03,
                    "negative": 0.96
                  },
                  "4": [
                    {
                      "sentiment": "negative",
                      "confidenceScores": {
                        "positive": 0.01,
                        "neutral": 0.03,
                        "negative": 0.96
                      },
                      "text": "Tasted like dirt.",
                      "offset": 0,
                      "length": 17
                    }
                  ],
                  "5": []
                },
                {
                  "0": "One of the few places in Phoenix that I would definately go back to again .",
                  "1": "neutral",
                  "3": {
                    "positive": 0.24,
                    "neutral": 0.43,
                    "negative": 0.34
                  },
                  "4": [
                    {
                      "sentiment": "neutral",
                      "confidenceScores": {
                        "positive": 0.24,
                        "neutral": 0.43,
                        "negative": 0.34
                      },
                      "text": "One of the few places in Phoenix that I would definately go back to again .",
                      "offset": 0,
                      "length": 75
                    }
                  ],
                  "5": []
                },
                {
                  "0": "The block was amazing.",
                  "1": "positive",
                  "3": {
                    "positive": 0.99,
                    "neutral": 0,
                    "negative": 0.01
                  },
                  "4": [
                    {
                      "sentiment": "positive",
                      "confidenceScores": {
                        "positive": 0.99,
                        "neutral": 0,
                        "negative": 0.01
                      },
                      "text": "The block was amazing.",
                      "offset": 0,
                      "length": 22
                    }
                  ],
                  "5": []
                },
                {
                  "0": "It's close to my house, it's low-key, non-fancy, affordable prices, good food.",
                  "1": "positive",
                  "3": {
                    "positive": 0.89,
                    "neutral": 0,
                    "negative": 0.1
                  },
                  "4": [
                    {
                      "sentiment": "positive",
                      "confidenceScores": {
                        "positive": 0.89,
                        "neutral": 0,
                        "negative": 0.1
                      },
                      "text": "It's close to my house, it's low-key, non-fancy, affordable prices, good food.",
                      "offset": 0,
                      "length": 78
                    }
                  ],
                  "5": []
                },
                {
                  "0": "* Both the Hot & Sour & the Egg Flower Soups were absolutely 5 Stars!",
                  "1": "positive",
                  "3": {
                    "positive": 0.88,
                    "neutral": 0.06,
                    "negative": 0.07
                  },
                  "4": [
                    {
                      "sentiment": "positive",
                      "confidenceScores": {
                        "positive": 0.88,
                        "neutral": 0.06,
                        "negative": 0.07
                      },
                      "text": "* Both the Hot & Sour & the Egg Flower Soups were absolutely 5 Stars!",
                      "offset": 0,
                      "length": 69
                    }
                  ],
                  "5": []
                },
                {
                  "0": "My sashimi was poor quality being soggy and tasteless.",
                  "1": "negative",
                  "3": {
                    "positive": 0,
                    "neutral": 0,
                    "negative": 1
                  },
                  "4": [
                    {
                      "sentiment": "negative",
                      "confidenceScores": {
                        "positive": 0,
                        "neutral": 0,
                        "negative": 1
                      },
                      "text": "My sashimi was poor quality being soggy and tasteless.",
                      "offset": 0,
                      "length": 54
                    }
                  ],
                  "5": []
                },
                {
                  "0": "Great time - family dinner on a Sunday night.",
                  "1": "positive",
                  "3": {
                    "positive": 1,
                    "neutral": 0,
                    "negative": 0
                  },
                  "4": [
                    {
                      "sentiment": "positive",
                      "confidenceScores": {
                        "positive": 1,
                        "neutral": 0,
                        "negative": 0
                      },
                      "text": "Great time - family dinner on a Sunday night.",
                      "offset": 0,
                      "length": 45
                    }
                  ],
                  "5": []
                },
                {
                  "0": "\"the food is not tasty at all, not to say its \"\"real traditional Hunan style\"\".\"",
                  "1": "negative",
                  "3": {
                    "positive": 0,
                    "neutral": 0,
                    "negative": 0.99
                  },
                  "4": [
                    {
                      "sentiment": "negative",
                      "confidenceScores": {
                        "positive": 0,
                        "neutral": 0,
                        "negative": 0.99
                      },
                      "text": "\"the food is not tasty at all, not to say its \"\"real traditional Hunan style\"\".\"",
                      "offset": 0,
                      "length": 80
                    }
                  ],
                  "5": []
                },
                {
                  "0": "What did bother me, was the slow service.",
                  "1": "negative",
                  "3": {
                    "positive": 0,
                    "neutral": 0,
                    "negative": 0.99
                  },
                  "4": [
                    {
                      "sentiment": "negative",
                      "confidenceScores": {
                        "positive": 0,
                        "neutral": 0,
                        "negative": 0.99
                      },
                      "text": "What did bother me, was the slow service.",
                      "offset": 0,
                      "length": 41
                    }
                  ],
                  "5": []
                },
                {
                  "0": "The flair bartenders are absolutely amazing!",
                  "1": "positive",
                  "3": {
                    "positive": 0.99,
                    "neutral": 0,
                    "negative": 0
                  },
                  "4": [
                    {
                      "sentiment": "positive",
                      "confidenceScores": {
                        "positive": 0.99,
                        "neutral": 0,
                        "negative": 0
                      },
                      "text": "The flair bartenders are absolutely amazing!",
                      "offset": 0,
                      "length": 44
                    }
                  ],
                  "5": []
                },
                {
                  "0": "Their frozen margaritas are WAY too sugary for my taste.",
                  "1": "negative",
                  "3": {
                    "positive": 0,
                    "neutral": 0.01,
                    "negative": 0.99
                  },
                  "4": [
                    {
                      "sentiment": "negative",
                      "confidenceScores": {
                        "positive": 0,
                        "neutral": 0.01,
                        "negative": 0.99
                      },
                      "text": "Their frozen margaritas are WAY too sugary for my taste.",
                      "offset": 0,
                      "length": 56
                    }
                  ],
                  "5": []
                },
                {
                  "0": "These were so good we ordered them twice.",
                  "1": "positive",
                  "3": {
                    "positive": 1,
                    "neutral": 0,
                    "negative": 0
                  },
                  "4": [
                    {
                      "sentiment": "positive",
                      "confidenceScores": {
                        "positive": 1,
                        "neutral": 0,
                        "negative": 0
                      },
                      "text": "These were so good we ordered them twice.",
                      "offset": 0,
                      "length": 41
                    }
                  ],
                  "5": []
                },
                {
                  "0": "So in a nutshell: 1) The restaraunt smells like a combination of a dirty fish market and a sewer.",
                  "1": "negative",
                  "3": {
                    "positive": 0,
                    "neutral": 0.01,
                    "negative": 0.99
                  },
                  "4": [
                    {
                      "sentiment": "negative",
                      "confidenceScores": {
                        "positive": 0,
                        "neutral": 0.01,
                        "negative": 0.99
                      },
                      "text": "So in a nutshell: 1) The restaraunt smells like a combination of a dirty fish market and a sewer.",
                      "offset": 0,
                      "length": 97
                    }
                  ],
                  "5": []
                },
                {
                  "0": "My girlfriend's veal was very bad.",
                  "1": "negative",
                  "3": {
                    "positive": 0,
                    "neutral": 0,
                    "negative": 0.99
                  },
                  "4": [
                    {
                      "sentiment": "negative",
                      "confidenceScores": {
                        "positive": 0,
                        "neutral": 0,
                        "negative": 0.99
                      },
                      "text": "My girlfriend's veal was very bad.",
                      "offset": 0,
                      "length": 34
                    }
                  ],
                  "5": []
                },
                {
                  "0": "Unfortunately, it was not good.",
                  "1": "negative",
                  "3": {
                    "positive": 0,
                    "neutral": 0,
                    "negative": 0.99
                  },
                  "4": [
                    {
                      "sentiment": "negative",
                      "confidenceScores": {
                        "positive": 0,
                        "neutral": 0,
                        "negative": 0.99
                      },
                      "text": "Unfortunately, it was not good.",
                      "offset": 0,
                      "length": 31
                    }
                  ],
                  "5": []
                },
                {
                  "0": "I had a pretty satifying experience.",
                  "1": "positive",
                  "3": {
                    "positive": 0.9,
                    "neutral": 0.02,
                    "negative": 0.09
                  },
                  "4": [
                    {
                      "sentiment": "positive",
                      "confidenceScores": {
                        "positive": 0.9,
                        "neutral": 0.02,
                        "negative": 0.09
                      },
                      "text": "I had a pretty satifying experience.",
                      "offset": 0,
                      "length": 36
                    }
                  ],
                  "5": []
                },
                {
                  "0": "Join the club and get awesome offers via email.",
                  "1": "positive",
                  "3": {
                    "positive": 0.99,
                    "neutral": 0.01,
                    "negative": 0
                  },
                  "4": [
                    {
                      "sentiment": "positive",
                      "confidenceScores": {
                        "positive": 0.99,
                        "neutral": 0.01,
                        "negative": 0
                      },
                      "text": "Join the club and get awesome offers via email.",
                      "offset": 0,
                      "length": 47
                    }
                  ],
                  "5": []
                },
                {
                  "0": "Perfect for someone (me) who only likes beer ice cold, or in this case, even colder.",
                  "1": "positive",
                  "3": {
                    "positive": 0.99,
                    "neutral": 0,
                    "negative": 0
                  },
                  "4": [
                    {
                      "sentiment": "positive",
                      "confidenceScores": {
                        "positive": 0.99,
                        "neutral": 0,
                        "negative": 0
                      },
                      "text": "Perfect for someone (me) who only likes beer ice cold, or in this case, even colder.",
                      "offset": 0,
                      "length": 84
                    }
                  ],
                  "5": []
                },
                {
                  "0": "Bland and flavorless is a good way of describing the barely tepid meat.",
                  "1": "negative",
                  "3": {
                    "positive": 0.06,
                    "neutral": 0,
                    "negative": 0.94
                  },
                  "4": [
                    {
                      "sentiment": "negative",
                      "confidenceScores": {
                        "positive": 0.06,
                        "neutral": 0,
                        "negative": 0.94
                      },
                      "text": "Bland and flavorless is a good way of describing the barely tepid meat.",
                      "offset": 0,
                      "length": 71
                    }
                  ],
                  "5": []
                },
                {
                  "0": "The chains, which I'm no fan of, beat this place easily.",
                  "1": "positive",
                  "3": {
                    "positive": 0.57,
                    "neutral": 0.09,
                    "negative": 0.34
                  },
                  "4": [
                    {
                      "sentiment": "positive",
                      "confidenceScores": {
                        "positive": 0.57,
                        "neutral": 0.09,
                        "negative": 0.34
                      },
                      "text": "The chains, which I'm no fan of, beat this place easily.",
                      "offset": 0,
                      "length": 56
                    }
                  ],
                  "5": []
                },
                {
                  "0": "The nachos are a MUST HAVE!",
                  "1": "negative",
                  "3": {
                    "positive": 0.3,
                    "neutral": 0.06,
                    "negative": 0.64
                  },
                  "4": [
                    {
                      "sentiment": "negative",
                      "confidenceScores": {
                        "positive": 0.3,
                        "neutral": 0.06,
                        "negative": 0.64
                      },
                      "text": "The nachos are a MUST HAVE!",
                      "offset": 0,
                      "length": 27
                    }
                  ],
                  "5": []
                },
                {
                  "0": "We will not be coming back.",
                  "1": "neutral",
                  "3": {
                    "positive": 0.02,
                    "neutral": 0.56,
                    "negative": 0.42
                  },
                  "4": [
                    {
                      "sentiment": "neutral",
                      "confidenceScores": {
                        "positive": 0.02,
                        "neutral": 0.56,
                        "negative": 0.42
                      },
                      "text": "We will not be coming back.",
                      "offset": 0,
                      "length": 27
                    }
                  ],
                  "5": []
                },
                {
                  "0": "I don't have very many words to say about this place, but it does everything pretty well.",
                  "1": "positive",
                  "3": {
                    "positive": 0.99,
                    "neutral": 0,
                    "negative": 0
                  },
                  "4": [
                    {
                      "sentiment": "positive",
                      "confidenceScores": {
                        "positive": 0.99,
                        "neutral": 0,
                        "negative": 0
                      },
                      "text": "I don't have very many words to say about this place, but it does everything pretty well.",
                      "offset": 0,
                      "length": 89
                    }
                  ],
                  "5": []
                },
                {
                  "0": "The staff is super nice and very quick even with the crazy crowds of the downtown juries, lawyers, and court staff.",
                  "1": "positive",
                  "3": {
                    "positive": 0.99,
                    "neutral": 0,
                    "negative": 0.01
                  },
                  "4": [
                    {
                      "sentiment": "positive",
                      "confidenceScores": {
                        "positive": 0.99,
                        "neutral": 0,
                        "negative": 0.01
                      },
                      "text": "The staff is super nice and very quick even with the crazy crowds of the downtown juries, lawyers, and court staff.",
                      "offset": 0,
                      "length": 115
                    }
                  ],
                  "5": []
                },
                {
                  "0": "Great atmosphere, friendly and fast service.",
                  "1": "positive",
                  "3": {
                    "positive": 1,
                    "neutral": 0,
                    "negative": 0
                  },
                  "4": [
                    {
                      "sentiment": "positive",
                      "confidenceScores": {
                        "positive": 1,
                        "neutral": 0,
                        "negative": 0
                      },
                      "text": "Great atmosphere, friendly and fast service.",
                      "offset": 0,
                      "length": 44
                    }
                  ],
                  "5": []
                },
                {
                  "0": "When I received my Pita it was huge it did have a lot of meat in it so thumbs up there.",
                  "1": "neutral",
                  "3": {
                    "positive": 0.08,
                    "neutral": 0.66,
                    "negative": 0.26
                  },
                  "4": [
                    {
                      "sentiment": "neutral",
                      "confidenceScores": {
                        "positive": 0.08,
                        "neutral": 0.66,
                        "negative": 0.26
                      },
                      "text": "When I received my Pita it was huge it did have a lot of meat in it so thumbs up there.",
                      "offset": 0,
                      "length": 87
                    }
                  ],
                  "5": []
                },
                {
                  "0": "Once your food arrives it's meh.",
                  "1": "neutral",
                  "3": {
                    "positive": 0.05,
                    "neutral": 0.93,
                    "negative": 0.02
                  },
                  "4": [
                    {
                      "sentiment": "neutral",
                      "confidenceScores": {
                        "positive": 0.05,
                        "neutral": 0.93,
                        "negative": 0.02
                      },
                      "text": "Once your food arrives it's meh.",
                      "offset": 0,
                      "length": 32
                    }
                  ],
                  "5": []
                },
                {
                  "0": "Paying $7.85 for a hot dog and fries that looks like it came out of a kid's meal at the Wienerschnitzel is not my idea of a good meal.",
                  "1": "negative",
                  "3": {
                    "positive": 0,
                    "neutral": 0,
                    "negative": 0.99
                  },
                  "4": [
                    {
                      "sentiment": "negative",
                      "confidenceScores": {
                        "positive": 0,
                        "neutral": 0,
                        "negative": 0.99
                      },
                      "text": "Paying $7.85 for a hot dog and fries that looks like it came out of a kid's meal at the Wienerschnitzel is not my idea of a good meal.",
                      "offset": 0,
                      "length": 134
                    }
                  ],
                  "5": []
                },
                {
                  "0": "The classic Maine Lobster Roll was fantastic.",
                  "1": "positive",
                  "3": {
                    "positive": 0.99,
                    "neutral": 0,
                    "negative": 0
                  },
                  "4": [
                    {
                      "sentiment": "positive",
                      "confidenceScores": {
                        "positive": 0.99,
                        "neutral": 0,
                        "negative": 0
                      },
                      "text": "The classic Maine Lobster Roll was fantastic.",
                      "offset": 0,
                      "length": 45
                    }
                  ],
                  "5": []
                },
                {
                  "0": "My brother in law who works at the mall ate here same day, and guess what he was sick all night too.",
                  "1": "negative",
                  "3": {
                    "positive": 0,
                    "neutral": 0.01,
                    "negative": 0.99
                  },
                  "4": [
                    {
                      "sentiment": "negative",
                      "confidenceScores": {
                        "positive": 0,
                        "neutral": 0.01,
                        "negative": 0.99
                      },
                      "text": "My brother in law who works at the mall ate here same day, and guess what he was sick all night too.",
                      "offset": 0,
                      "length": 100
                    }
                  ],
                  "5": []
                },
                {
                  "0": "So good I am going to have to review this place twice - once hereas a tribute to the place and once as a tribute to an event held here last night.",
                  "1": "positive",
                  "3": {
                    "positive": 1,
                    "neutral": 0,
                    "negative": 0
                  },
                  "4": [
                    {
                      "sentiment": "positive",
                      "confidenceScores": {
                        "positive": 1,
                        "neutral": 0,
                        "negative": 0
                      },
                      "text": "So good I am going to have to review this place twice - once hereas a tribute to the place and once as a tribute to an event held here last night.",
                      "offset": 0,
                      "length": 146
                    }
                  ],
                  "5": []
                },
                {
                  "0": "The chips and salsa were really good, the salsa was very fresh.",
                  "1": "positive",
                  "3": {
                    "positive": 0.99,
                    "neutral": 0,
                    "negative": 0.01
                  },
                  "4": [
                    {
                      "sentiment": "positive",
                      "confidenceScores": {
                        "positive": 0.99,
                        "neutral": 0,
                        "negative": 0.01
                      },
                      "text": "The chips and salsa were really good, the salsa was very fresh.",
                      "offset": 0,
                      "length": 63
                    }
                  ],
                  "5": []
                },
                {
                  "0": "This place is great!!!!!!!!!!!!!!",
                  "1": "positive",
                  "3": {
                    "positive": 1,
                    "neutral": 0,
                    "negative": 0
                  },
                  "4": [
                    {
                      "sentiment": "positive",
                      "confidenceScores": {
                        "positive": 1,
                        "neutral": 0,
                        "negative": 0
                      },
                      "text": "This place is great!!!!!!!!!!!!!!",
                      "offset": 0,
                      "length": 33
                    }
                  ],
                  "5": []
                },
                {
                  "0": "Mediocre food.",
                  "1": "negative",
                  "3": {
                    "positive": 0.01,
                    "neutral": 0,
                    "negative": 0.99
                  },
                  "4": [
                    {
                      "sentiment": "negative",
                      "confidenceScores": {
                        "positive": 0.01,
                        "neutral": 0,
                        "negative": 0.99
                      },
                      "text": "Mediocre food.",
                      "offset": 0,
                      "length": 14
                    }
                  ],
                  "5": []
                },
                {
                  "0": "Once you get inside you'll be impressed with the place.",
                  "1": "positive",
                  "3": {
                    "positive": 0.99,
                    "neutral": 0.01,
                    "negative": 0
                  },
                  "4": [
                    {
                      "sentiment": "positive",
                      "confidenceScores": {
                        "positive": 0.99,
                        "neutral": 0.01,
                        "negative": 0
                      },
                      "text": "Once you get inside you'll be impressed with the place.",
                      "offset": 0,
                      "length": 55
                    }
                  ],
                  "5": []
                },
                {
                  "0": "I'm super pissd.",
                  "1": "negative",
                  "3": {
                    "positive": 0.01,
                    "neutral": 0.01,
                    "negative": 0.98
                  },
                  "4": [
                    {
                      "sentiment": "negative",
                      "confidenceScores": {
                        "positive": 0.01,
                        "neutral": 0.01,
                        "negative": 0.98
                      },
                      "text": "I'm super pissd.",
                      "offset": 0,
                      "length": 16
                    }
                  ],
                  "5": []
                },
                {
                  "0": "And service was super friendly.",
                  "1": "positive",
                  "3": {
                    "positive": 0.99,
                    "neutral": 0,
                    "negative": 0
                  },
                  "4": [
                    {
                      "sentiment": "positive",
                      "confidenceScores": {
                        "positive": 0.99,
                        "neutral": 0,
                        "negative": 0
                      },
                      "text": "And service was super friendly.",
                      "offset": 0,
                      "length": 31
                    }
                  ],
                  "5": []
                },
                {
                  "0": "Why are these sad little vegetables so overcooked?",
                  "1": "negative",
                  "3": {
                    "positive": 0,
                    "neutral": 0.01,
                    "negative": 0.99
                  },
                  "4": [
                    {
                      "sentiment": "negative",
                      "confidenceScores": {
                        "positive": 0,
                        "neutral": 0.01,
                        "negative": 0.99
                      },
                      "text": "Why are these sad little vegetables so overcooked?",
                      "offset": 0,
                      "length": 50
                    }
                  ],
                  "5": []
                },
                {
                  "0": "This place was such a nice surprise!",
                  "1": "positive",
                  "3": {
                    "positive": 1,
                    "neutral": 0,
                    "negative": 0
                  },
                  "4": [
                    {
                      "sentiment": "positive",
                      "confidenceScores": {
                        "positive": 1,
                        "neutral": 0,
                        "negative": 0
                      },
                      "text": "This place was such a nice surprise!",
                      "offset": 0,
                      "length": 36
                    }
                  ],
                  "5": []
                },
                {
                  "0": "They were golden-crispy and delicious.",
                  "1": "positive",
                  "3": {
                    "positive": 0.98,
                    "neutral": 0.01,
                    "negative": 0.01
                  },
                  "4": [
                    {
                      "sentiment": "positive",
                      "confidenceScores": {
                        "positive": 0.98,
                        "neutral": 0.01,
                        "negative": 0.01
                      },
                      "text": "They were golden-crispy and delicious.",
                      "offset": 0,
                      "length": 38
                    }
                  ],
                  "5": []
                },
                {
                  "0": "I had high hopes for this place since the burgers are cooked over a charcoal grill, but unfortunately the taste fell flat, way flat.",
                  "1": "negative",
                  "3": {
                    "positive": 0,
                    "neutral": 0,
                    "negative": 0.99
                  },
                  "4": [
                    {
                      "sentiment": "negative",
                      "confidenceScores": {
                        "positive": 0,
                        "neutral": 0,
                        "negative": 0.99
                      },
                      "text": "I had high hopes for this place since the burgers are cooked over a charcoal grill, but unfortunately the taste fell flat, way flat.",
                      "offset": 0,
                      "length": 132
                    }
                  ],
                  "5": []
                },
                {
                  "0": "I could eat their bruschetta all day it is devine.",
                  "1": "neutral",
                  "3": {
                    "positive": 0.14,
                    "neutral": 0.77,
                    "negative": 0.09
                  },
                  "4": [
                    {
                      "sentiment": "neutral",
                      "confidenceScores": {
                        "positive": 0.14,
                        "neutral": 0.77,
                        "negative": 0.09
                      },
                      "text": "I could eat their bruschetta all day it is devine.",
                      "offset": 0,
                      "length": 50
                    }
                  ],
                  "5": []
                },
                {
                  "0": "Not a single employee came out to see if we were OK or even needed a water refill once they finally served us our food.",
                  "1": "positive",
                  "3": {
                    "positive": 0.73,
                    "neutral": 0.07,
                    "negative": 0.21
                  },
                  "4": [
                    {
                      "sentiment": "positive",
                      "confidenceScores": {
                        "positive": 0.73,
                        "neutral": 0.07,
                        "negative": 0.21
                      },
                      "text": "Not a single employee came out to see if we were OK or even needed a water refill once they finally served us our food.",
                      "offset": 0,
                      "length": 119
                    }
                  ],
                  "5": []
                },
                {
                  "0": "Lastly, the mozzarella sticks, they were the best thing we ordered.",
                  "1": "positive",
                  "3": {
                    "positive": 0.99,
                    "neutral": 0,
                    "negative": 0
                  },
                  "4": [
                    {
                      "sentiment": "positive",
                      "confidenceScores": {
                        "positive": 0.99,
                        "neutral": 0,
                        "negative": 0
                      },
                      "text": "Lastly, the mozzarella sticks, they were the best thing we ordered.",
                      "offset": 0,
                      "length": 67
                    }
                  ],
                  "5": []
                },
                {
                  "0": "The first time I ever came here I had an amazing experience, I still tell people how awesome the duck was.",
                  "1": "positive",
                  "3": {
                    "positive": 0.99,
                    "neutral": 0,
                    "negative": 0
                  },
                  "4": [
                    {
                      "sentiment": "positive",
                      "confidenceScores": {
                        "positive": 0.99,
                        "neutral": 0,
                        "negative": 0
                      },
                      "text": "The first time I ever came here I had an amazing experience, I still tell people how awesome the duck was.",
                      "offset": 0,
                      "length": 106
                    }
                  ],
                  "5": []
                },
                {
                  "0": "The server was very negligent of our needs and made us feel very unwelcome... I would not suggest this place!",
                  "1": "negative",
                  "3": {
                    "positive": 0.01,
                    "neutral": 0.04,
                    "negative": 0.95
                  },
                  "4": [
                    {
                      "sentiment": "negative",
                      "confidenceScores": {
                        "positive": 0,
                        "neutral": 0,
                        "negative": 0.99
                      },
                      "text": "The server was very negligent of our needs and made us feel very unwelcome... ",
                      "offset": 0,
                      "length": 78
                    },
                    {
                      "sentiment": "negative",
                      "confidenceScores": {
                        "positive": 0.01,
                        "neutral": 0.08,
                        "negative": 0.91
                      },
                      "text": "I would not suggest this place!",
                      "offset": 78,
                      "length": 31
                    }
                  ],
                  "5": []
                },
                {
                  "0": "The service was terrible though.",
                  "1": "negative",
                  "3": {
                    "positive": 0.01,
                    "neutral": 0,
                    "negative": 0.99
                  },
                  "4": [
                    {
                      "sentiment": "negative",
                      "confidenceScores": {
                        "positive": 0.01,
                        "neutral": 0,
                        "negative": 0.99
                      },
                      "text": "The service was terrible though.",
                      "offset": 0,
                      "length": 32
                    }
                  ],
                  "5": []
                },
                {
                  "0": "This place is overpriced, not consistent with their boba, and it really is OVERPRICED!",
                  "1": "negative",
                  "3": {
                    "positive": 0,
                    "neutral": 0,
                    "negative": 0.99
                  },
                  "4": [
                    {
                      "sentiment": "negative",
                      "confidenceScores": {
                        "positive": 0,
                        "neutral": 0,
                        "negative": 0.99
                      },
                      "text": "This place is overpriced, not consistent with their boba, and it really is OVERPRICED!",
                      "offset": 0,
                      "length": 86
                    }
                  ],
                  "5": []
                },
                {
                  "0": "It was packed!!",
                  "1": "positive",
                  "3": {
                    "positive": 0.88,
                    "neutral": 0.08,
                    "negative": 0.03
                  },
                  "4": [
                    {
                      "sentiment": "positive",
                      "confidenceScores": {
                        "positive": 0.88,
                        "neutral": 0.08,
                        "negative": 0.03
                      },
                      "text": "It was packed!!",
                      "offset": 0,
                      "length": 15
                    }
                  ],
                  "5": []
                },
                {
                  "0": "I love this place.",
                  "1": "positive",
                  "3": {
                    "positive": 1,
                    "neutral": 0,
                    "negative": 0
                  },
                  "4": [
                    {
                      "sentiment": "positive",
                      "confidenceScores": {
                        "positive": 1,
                        "neutral": 0,
                        "negative": 0
                      },
                      "text": "I love this place.",
                      "offset": 0,
                      "length": 18
                    }
                  ],
                  "5": []
                },
                {
                  "0": "I can say that the desserts were yummy.",
                  "1": "positive",
                  "3": {
                    "positive": 0.99,
                    "neutral": 0,
                    "negative": 0.01
                  },
                  "4": [
                    {
                      "sentiment": "positive",
                      "confidenceScores": {
                        "positive": 0.99,
                        "neutral": 0,
                        "negative": 0.01
                      },
                      "text": "I can say that the desserts were yummy.",
                      "offset": 0,
                      "length": 39
                    }
                  ],
                  "5": []
                },
                {
                  "0": "The food was terrible.",
                  "1": "negative",
                  "3": {
                    "positive": 0.01,
                    "neutral": 0,
                    "negative": 0.99
                  },
                  "4": [
                    {
                      "sentiment": "negative",
                      "confidenceScores": {
                        "positive": 0.01,
                        "neutral": 0,
                        "negative": 0.99
                      },
                      "text": "The food was terrible.",
                      "offset": 0,
                      "length": 22
                    }
                  ],
                  "5": []
                },
                {
                  "0": "The seasonal fruit was fresh white peach puree.",
                  "1": "neutral",
                  "3": {
                    "positive": 0.07,
                    "neutral": 0.89,
                    "negative": 0.04
                  },
                  "4": [
                    {
                      "sentiment": "neutral",
                      "confidenceScores": {
                        "positive": 0.07,
                        "neutral": 0.89,
                        "negative": 0.04
                      },
                      "text": "The seasonal fruit was fresh white peach puree.",
                      "offset": 0,
                      "length": 47
                    }
                  ],
                  "5": []
                },
                {
                  "0": "It kept getting worse and worse so now I'm officially done.",
                  "1": "negative",
                  "3": {
                    "positive": 0,
                    "neutral": 0.01,
                    "negative": 0.99
                  },
                  "4": [
                    {
                      "sentiment": "negative",
                      "confidenceScores": {
                        "positive": 0,
                        "neutral": 0.01,
                        "negative": 0.99
                      },
                      "text": "It kept getting worse and worse so now I'm officially done.",
                      "offset": 0,
                      "length": 59
                    }
                  ],
                  "5": []
                },
                {
                  "0": "This place should honestly be blown up.",
                  "1": "negative",
                  "3": {
                    "positive": 0.01,
                    "neutral": 0.01,
                    "negative": 0.98
                  },
                  "4": [
                    {
                      "sentiment": "negative",
                      "confidenceScores": {
                        "positive": 0.01,
                        "neutral": 0.01,
                        "negative": 0.98
                      },
                      "text": "This place should honestly be blown up.",
                      "offset": 0,
                      "length": 39
                    }
                  ],
                  "5": []
                },
                {
                  "0": "But I definitely would not eat here again.",
                  "1": "negative",
                  "3": {
                    "positive": 0.01,
                    "neutral": 0.29,
                    "negative": 0.7
                  },
                  "4": [
                    {
                      "sentiment": "negative",
                      "confidenceScores": {
                        "positive": 0.01,
                        "neutral": 0.29,
                        "negative": 0.7
                      },
                      "text": "But I definitely would not eat here again.",
                      "offset": 0,
                      "length": 42
                    }
                  ],
                  "5": []
                },
                {
                  "0": "Do not waste your money here!",
                  "1": "positive",
                  "3": {
                    "positive": 0.52,
                    "neutral": 0.21,
                    "negative": 0.27
                  },
                  "4": [
                    {
                      "sentiment": "positive",
                      "confidenceScores": {
                        "positive": 0.52,
                        "neutral": 0.21,
                        "negative": 0.27
                      },
                      "text": "Do not waste your money here!",
                      "offset": 0,
                      "length": 29
                    }
                  ],
                  "5": []
                },
                {
                  "0": "I love that they put their food in nice plastic containers as opposed to cramming it in little paper takeout boxes.",
                  "1": "positive",
                  "3": {
                    "positive": 1,
                    "neutral": 0,
                    "negative": 0
                  },
                  "4": [
                    {
                      "sentiment": "positive",
                      "confidenceScores": {
                        "positive": 1,
                        "neutral": 0,
                        "negative": 0
                      },
                      "text": "I love that they put their food in nice plastic containers as opposed to cramming it in little paper takeout boxes.",
                      "offset": 0,
                      "length": 115
                    }
                  ],
                  "5": []
                },
                {
                  "0": "The crêpe was delicate and thin and moist.",
                  "1": "positive",
                  "3": {
                    "positive": 0.44,
                    "neutral": 0.2,
                    "negative": 0.37
                  },
                  "4": [
                    {
                      "sentiment": "positive",
                      "confidenceScores": {
                        "positive": 0.44,
                        "neutral": 0.2,
                        "negative": 0.37
                      },
                      "text": "The crêpe was delicate and thin and moist.",
                      "offset": 0,
                      "length": 42
                    }
                  ],
                  "5": []
                },
                {
                  "0": "Awful service.",
                  "1": "negative",
                  "3": {
                    "positive": 0.03,
                    "neutral": 0,
                    "negative": 0.97
                  },
                  "4": [
                    {
                      "sentiment": "negative",
                      "confidenceScores": {
                        "positive": 0.03,
                        "neutral": 0,
                        "negative": 0.97
                      },
                      "text": "Awful service.",
                      "offset": 0,
                      "length": 14
                    }
                  ],
                  "5": []
                },
                {
                  "0": "Won't ever go here again.",
                  "1": "negative",
                  "3": {
                    "positive": 0.02,
                    "neutral": 0.37,
                    "negative": 0.61
                  },
                  "4": [
                    {
                      "sentiment": "negative",
                      "confidenceScores": {
                        "positive": 0.02,
                        "neutral": 0.37,
                        "negative": 0.61
                      },
                      "text": "Won't ever go here again.",
                      "offset": 0,
                      "length": 25
                    }
                  ],
                  "5": []
                },
                {
                  "0": "Food quality has been horrible.",
                  "1": "negative",
                  "3": {
                    "positive": 0.01,
                    "neutral": 0,
                    "negative": 0.99
                  },
                  "4": [
                    {
                      "sentiment": "negative",
                      "confidenceScores": {
                        "positive": 0.01,
                        "neutral": 0,
                        "negative": 0.99
                      },
                      "text": "Food quality has been horrible.",
                      "offset": 0,
                      "length": 31
                    }
                  ],
                  "5": []
                },
                {
                  "0": "For that price I can think of a few place I would have much rather gone.",
                  "1": "negative",
                  "3": {
                    "positive": 0.11,
                    "neutral": 0.43,
                    "negative": 0.46
                  },
                  "4": [
                    {
                      "sentiment": "negative",
                      "confidenceScores": {
                        "positive": 0.11,
                        "neutral": 0.43,
                        "negative": 0.46
                      },
                      "text": "For that price I can think of a few place I would have much rather gone.",
                      "offset": 0,
                      "length": 72
                    }
                  ],
                  "5": []
                },
                {
                  "0": "The service here is fair at best.",
                  "1": "positive",
                  "3": {
                    "positive": 0.99,
                    "neutral": 0,
                    "negative": 0.01
                  },
                  "4": [
                    {
                      "sentiment": "positive",
                      "confidenceScores": {
                        "positive": 0.99,
                        "neutral": 0,
                        "negative": 0.01
                      },
                      "text": "The service here is fair at best.",
                      "offset": 0,
                      "length": 33
                    }
                  ],
                  "5": []
                },
                {
                  "0": "I do love sushi, but I found Kabuki to be over-priced, over-hip and under-services.",
                  "1": "negative",
                  "3": {
                    "positive": 0,
                    "neutral": 0,
                    "negative": 0.99
                  },
                  "4": [
                    {
                      "sentiment": "negative",
                      "confidenceScores": {
                        "positive": 0,
                        "neutral": 0,
                        "negative": 0.99
                      },
                      "text": "I do love sushi, but I found Kabuki to be over-priced, over-hip and under-services.",
                      "offset": 0,
                      "length": 83
                    }
                  ],
                  "5": []
                },
                {
                  "0": "Do yourself a favor and stay away from this dish.",
                  "1": "positive",
                  "3": {
                    "positive": 0.68,
                    "neutral": 0.15,
                    "negative": 0.18
                  },
                  "4": [
                    {
                      "sentiment": "positive",
                      "confidenceScores": {
                        "positive": 0.68,
                        "neutral": 0.15,
                        "negative": 0.18
                      },
                      "text": "Do yourself a favor and stay away from this dish.",
                      "offset": 0,
                      "length": 49
                    }
                  ],
                  "5": []
                },
                {
                  "0": "Very poor service.",
                  "1": "negative",
                  "3": {
                    "positive": 0.01,
                    "neutral": 0,
                    "negative": 0.99
                  },
                  "4": [
                    {
                      "sentiment": "negative",
                      "confidenceScores": {
                        "positive": 0.01,
                        "neutral": 0,
                        "negative": 0.99
                      },
                      "text": "Very poor service.",
                      "offset": 0,
                      "length": 18
                    }
                  ],
                  "5": []
                },
                {
                  "0": "No one at the table thought the food was above average or worth the wait that we had for it.",
                  "1": "negative",
                  "3": {
                    "positive": 0.18,
                    "neutral": 0.01,
                    "negative": 0.81
                  },
                  "4": [
                    {
                      "sentiment": "negative",
                      "confidenceScores": {
                        "positive": 0.18,
                        "neutral": 0.01,
                        "negative": 0.81
                      },
                      "text": "No one at the table thought the food was above average or worth the wait that we had for it.",
                      "offset": 0,
                      "length": 92
                    }
                  ],
                  "5": []
                },
                {
                  "0": "Best service and food ever, Maria our server was so good and friendly she made our day.",
                  "1": "positive",
                  "3": {
                    "positive": 1,
                    "neutral": 0,
                    "negative": 0
                  },
                  "4": [
                    {
                      "sentiment": "positive",
                      "confidenceScores": {
                        "positive": 1,
                        "neutral": 0,
                        "negative": 0
                      },
                      "text": "Best service and food ever, Maria our server was so good and friendly she made our day.",
                      "offset": 0,
                      "length": 87
                    }
                  ],
                  "5": []
                },
                {
                  "0": "They were excellent.",
                  "1": "positive",
                  "3": {
                    "positive": 0.99,
                    "neutral": 0,
                    "negative": 0
                  },
                  "4": [
                    {
                      "sentiment": "positive",
                      "confidenceScores": {
                        "positive": 0.99,
                        "neutral": 0,
                        "negative": 0
                      },
                      "text": "They were excellent.",
                      "offset": 0,
                      "length": 20
                    }
                  ],
                  "5": []
                },
                {
                  "0": "I paid the bill but did not tip because I felt the server did a terrible job.",
                  "1": "negative",
                  "3": {
                    "positive": 0,
                    "neutral": 0,
                    "negative": 0.99
                  },
                  "4": [
                    {
                      "sentiment": "negative",
                      "confidenceScores": {
                        "positive": 0,
                        "neutral": 0,
                        "negative": 0.99
                      },
                      "text": "I paid the bill but did not tip because I felt the server did a terrible job.",
                      "offset": 0,
                      "length": 77
                    }
                  ],
                  "5": []
                },
                {
                  "0": "Just had lunch here and had a great experience.",
                  "1": "positive",
                  "3": {
                    "positive": 1,
                    "neutral": 0,
                    "negative": 0
                  },
                  "4": [
                    {
                      "sentiment": "positive",
                      "confidenceScores": {
                        "positive": 1,
                        "neutral": 0,
                        "negative": 0
                      },
                      "text": "Just had lunch here and had a great experience.",
                      "offset": 0,
                      "length": 47
                    }
                  ],
                  "5": []
                },
                {
                  "0": "I have never had such bland food which surprised me considering the article we read focused so much on their spices and flavor.",
                  "1": "negative",
                  "3": {
                    "positive": 0.45,
                    "neutral": 0.05,
                    "negative": 0.5
                  },
                  "4": [
                    {
                      "sentiment": "negative",
                      "confidenceScores": {
                        "positive": 0.45,
                        "neutral": 0.05,
                        "negative": 0.5
                      },
                      "text": "I have never had such bland food which surprised me considering the article we read focused so much on their spices and flavor.",
                      "offset": 0,
                      "length": 127
                    }
                  ],
                  "5": []
                },
                {
                  "0": "Food is way overpriced and portions are fucking small.",
                  "1": "negative",
                  "3": {
                    "positive": 0,
                    "neutral": 0,
                    "negative": 0.99
                  },
                  "4": [
                    {
                      "sentiment": "negative",
                      "confidenceScores": {
                        "positive": 0,
                        "neutral": 0,
                        "negative": 0.99
                      },
                      "text": "Food is way overpriced and portions are fucking small.",
                      "offset": 0,
                      "length": 54
                    }
                  ],
                  "5": []
                },
                {
                  "0": "I recently tried Caballero's and I have been back every week since!",
                  "1": "neutral",
                  "3": {
                    "positive": 0.3,
                    "neutral": 0.66,
                    "negative": 0.03
                  },
                  "4": [
                    {
                      "sentiment": "neutral",
                      "confidenceScores": {
                        "positive": 0.3,
                        "neutral": 0.66,
                        "negative": 0.03
                      },
                      "text": "I recently tried Caballero's and I have been back every week since!",
                      "offset": 0,
                      "length": 67
                    }
                  ],
                  "5": []
                },
                {
                  "0": "for 40 bucks a head, i really expect better food.",
                  "1": "positive",
                  "3": {
                    "positive": 0.92,
                    "neutral": 0.05,
                    "negative": 0.03
                  },
                  "4": [
                    {
                      "sentiment": "positive",
                      "confidenceScores": {
                        "positive": 0.92,
                        "neutral": 0.05,
                        "negative": 0.03
                      },
                      "text": "for 40 bucks a head, i really expect better food.",
                      "offset": 0,
                      "length": 49
                    }
                  ],
                  "5": []
                },
                {
                  "0": "The food came out at a good pace.",
                  "1": "positive",
                  "3": {
                    "positive": 0.99,
                    "neutral": 0,
                    "negative": 0
                  },
                  "4": [
                    {
                      "sentiment": "positive",
                      "confidenceScores": {
                        "positive": 0.99,
                        "neutral": 0,
                        "negative": 0
                      },
                      "text": "The food came out at a good pace.",
                      "offset": 0,
                      "length": 33
                    }
                  ],
                  "5": []
                },
                {
                  "0": "I ate there twice on my last visit, and especially enjoyed the salmon salad.",
                  "1": "positive",
                  "3": {
                    "positive": 0.99,
                    "neutral": 0,
                    "negative": 0
                  },
                  "4": [
                    {
                      "sentiment": "positive",
                      "confidenceScores": {
                        "positive": 0.99,
                        "neutral": 0,
                        "negative": 0
                      },
                      "text": "I ate there twice on my last visit, and especially enjoyed the salmon salad.",
                      "offset": 0,
                      "length": 76
                    }
                  ],
                  "5": []
                },
                {
                  "0": "I won't be back.",
                  "1": "neutral",
                  "3": {
                    "positive": 0.02,
                    "neutral": 0.75,
                    "negative": 0.23
                  },
                  "4": [
                    {
                      "sentiment": "neutral",
                      "confidenceScores": {
                        "positive": 0.02,
                        "neutral": 0.75,
                        "negative": 0.23
                      },
                      "text": "I won't be back.",
                      "offset": 0,
                      "length": 16
                    }
                  ],
                  "5": []
                },
                {
                  "0": "We could not believe how dirty the oysters were!",
                  "1": "negative",
                  "3": {
                    "positive": 0.01,
                    "neutral": 0.01,
                    "negative": 0.99
                  },
                  "4": [
                    {
                      "sentiment": "negative",
                      "confidenceScores": {
                        "positive": 0.01,
                        "neutral": 0.01,
                        "negative": 0.99
                      },
                      "text": "We could not believe how dirty the oysters were!",
                      "offset": 0,
                      "length": 48
                    }
                  ],
                  "5": []
                },
                {
                  "0": "This place deserves no stars.",
                  "1": "negative",
                  "3": {
                    "positive": 0.08,
                    "neutral": 0.02,
                    "negative": 0.9
                  },
                  "4": [
                    {
                      "sentiment": "negative",
                      "confidenceScores": {
                        "positive": 0.08,
                        "neutral": 0.02,
                        "negative": 0.9
                      },
                      "text": "This place deserves no stars.",
                      "offset": 0,
                      "length": 29
                    }
                  ],
                  "5": []
                },
                {
                  "0": "I would not recommend this place.",
                  "1": "negative",
                  "3": {
                    "positive": 0.01,
                    "neutral": 0,
                    "negative": 0.99
                  },
                  "4": [
                    {
                      "sentiment": "negative",
                      "confidenceScores": {
                        "positive": 0.01,
                        "neutral": 0,
                        "negative": 0.99
                      },
                      "text": "I would not recommend this place.",
                      "offset": 0,
                      "length": 33
                    }
                  ],
                  "5": []
                },
                {
                  "0": "In fact I'm going to round up to 4 stars, just because she was so awesome.",
                  "1": "positive",
                  "3": {
                    "positive": 0.99,
                    "neutral": 0,
                    "negative": 0.01
                  },
                  "4": [
                    {
                      "sentiment": "positive",
                      "confidenceScores": {
                        "positive": 0.99,
                        "neutral": 0,
                        "negative": 0.01
                      },
                      "text": "In fact I'm going to round up to 4 stars, just because she was so awesome.",
                      "offset": 0,
                      "length": 74
                    }
                  ],
                  "5": []
                },
                {
                  "0": "To my disbelief, each dish qualified as the worst version of these foods I have ever tasted.",
                  "1": "negative",
                  "3": {
                    "positive": 0,
                    "neutral": 0,
                    "negative": 1
                  },
                  "4": [
                    {
                      "sentiment": "negative",
                      "confidenceScores": {
                        "positive": 0,
                        "neutral": 0,
                        "negative": 1
                      },
                      "text": "To my disbelief, each dish qualified as the worst version of these foods I have ever tasted.",
                      "offset": 0,
                      "length": 92
                    }
                  ],
                  "5": []
                },
                {
                  "0": "Bad day or not, I have a very low tolerance for rude customer service people, it is your job to be nice and polite, wash dishes otherwise!!",
                  "1": "negative",
                  "3": {
                    "positive": 0.02,
                    "neutral": 0,
                    "negative": 0.97
                  },
                  "4": [
                    {
                      "sentiment": "negative",
                      "confidenceScores": {
                        "positive": 0.02,
                        "neutral": 0,
                        "negative": 0.97
                      },
                      "text": "Bad day or not, I have a very low tolerance for rude customer service people, it is your job to be nice and polite, wash dishes otherwise!!",
                      "offset": 0,
                      "length": 139
                    }
                  ],
                  "5": []
                },
                {
                  "0": "the potatoes were great and so was the biscuit.",
                  "1": "positive",
                  "3": {
                    "positive": 0.99,
                    "neutral": 0,
                    "negative": 0
                  },
                  "4": [
                    {
                      "sentiment": "positive",
                      "confidenceScores": {
                        "positive": 0.99,
                        "neutral": 0,
                        "negative": 0
                      },
                      "text": "the potatoes were great and so was the biscuit.",
                      "offset": 0,
                      "length": 47
                    }
                  ],
                  "5": []
                },
                {
                  "0": "I probably would not go here again.",
                  "1": "neutral",
                  "3": {
                    "positive": 0.02,
                    "neutral": 0.73,
                    "negative": 0.26
                  },
                  "4": [
                    {
                      "sentiment": "neutral",
                      "confidenceScores": {
                        "positive": 0.02,
                        "neutral": 0.73,
                        "negative": 0.26
                      },
                      "text": "I probably would not go here again.",
                      "offset": 0,
                      "length": 35
                    }
                  ],
                  "5": []
                },
                {
                  "0": "So flavorful and has just the perfect amount of heat.",
                  "1": "positive",
                  "3": {
                    "positive": 0.99,
                    "neutral": 0.01,
                    "negative": 0
                  },
                  "4": [
                    {
                      "sentiment": "positive",
                      "confidenceScores": {
                        "positive": 0.99,
                        "neutral": 0.01,
                        "negative": 0
                      },
                      "text": "So flavorful and has just the perfect amount of heat.",
                      "offset": 0,
                      "length": 53
                    }
                  ],
                  "5": []
                },
                {
                  "0": "The price is reasonable and the service is great.",
                  "1": "positive",
                  "3": {
                    "positive": 1,
                    "neutral": 0,
                    "negative": 0
                  },
                  "4": [
                    {
                      "sentiment": "positive",
                      "confidenceScores": {
                        "positive": 1,
                        "neutral": 0,
                        "negative": 0
                      },
                      "text": "The price is reasonable and the service is great.",
                      "offset": 0,
                      "length": 49
                    }
                  ],
                  "5": []
                },
                {
                  "0": "The Wife hated her meal (coconut shrimp), and our friends really did not enjoy their meals, either.",
                  "1": "negative",
                  "3": {
                    "positive": 0,
                    "neutral": 0,
                    "negative": 0.99
                  },
                  "4": [
                    {
                      "sentiment": "negative",
                      "confidenceScores": {
                        "positive": 0,
                        "neutral": 0,
                        "negative": 0.99
                      },
                      "text": "The Wife hated her meal (coconut shrimp), and our friends really did not enjoy their meals, either.",
                      "offset": 0,
                      "length": 99
                    }
                  ],
                  "5": []
                },
                {
                  "0": "My fella got the huevos rancheros and they didn't look too appealing.",
                  "1": "negative",
                  "3": {
                    "positive": 0.01,
                    "neutral": 0.01,
                    "negative": 0.98
                  },
                  "4": [
                    {
                      "sentiment": "negative",
                      "confidenceScores": {
                        "positive": 0.01,
                        "neutral": 0.01,
                        "negative": 0.98
                      },
                      "text": "My fella got the huevos rancheros and they didn't look too appealing.",
                      "offset": 0,
                      "length": 69
                    }
                  ],
                  "5": []
                },
                {
                  "0": "Went in for happy hour, great list of wines.",
                  "1": "positive",
                  "3": {
                    "positive": 1,
                    "neutral": 0,
                    "negative": 0
                  },
                  "4": [
                    {
                      "sentiment": "positive",
                      "confidenceScores": {
                        "positive": 1,
                        "neutral": 0,
                        "negative": 0
                      },
                      "text": "Went in for happy hour, great list of wines.",
                      "offset": 0,
                      "length": 44
                    }
                  ],
                  "5": []
                },
                {
                  "0": "Some may say this buffet is pricey but I think you get what you pay for and this place you are getting quite a lot!",
                  "1": "positive",
                  "3": {
                    "positive": 0.64,
                    "neutral": 0.05,
                    "negative": 0.3
                  },
                  "4": [
                    {
                      "sentiment": "positive",
                      "confidenceScores": {
                        "positive": 0.64,
                        "neutral": 0.05,
                        "negative": 0.3
                      },
                      "text": "Some may say this buffet is pricey but I think you get what you pay for and this place you are getting quite a lot!",
                      "offset": 0,
                      "length": 115
                    }
                  ],
                  "5": []
                },
                {
                  "0": "I probably won't be coming back here.",
                  "1": "neutral",
                  "3": {
                    "positive": 0.01,
                    "neutral": 0.79,
                    "negative": 0.19
                  },
                  "4": [
                    {
                      "sentiment": "neutral",
                      "confidenceScores": {
                        "positive": 0.01,
                        "neutral": 0.79,
                        "negative": 0.19
                      },
                      "text": "I probably won't be coming back here.",
                      "offset": 0,
                      "length": 37
                    }
                  ],
                  "5": []
                },
                {
                  "0": "Worst food/service I've had in a while.",
                  "1": "negative",
                  "3": {
                    "positive": 0.01,
                    "neutral": 0,
                    "negative": 0.99
                  },
                  "4": [
                    {
                      "sentiment": "negative",
                      "confidenceScores": {
                        "positive": 0.01,
                        "neutral": 0,
                        "negative": 0.99
                      },
                      "text": "Worst food/service I've had in a while.",
                      "offset": 0,
                      "length": 39
                    }
                  ],
                  "5": []
                },
                {
                  "0": "This place is pretty good, nice little vibe in the restaurant.",
                  "1": "positive",
                  "3": {
                    "positive": 1,
                    "neutral": 0,
                    "negative": 0
                  },
                  "4": [
                    {
                      "sentiment": "positive",
                      "confidenceScores": {
                        "positive": 1,
                        "neutral": 0,
                        "negative": 0
                      },
                      "text": "This place is pretty good, nice little vibe in the restaurant.",
                      "offset": 0,
                      "length": 62
                    }
                  ],
                  "5": []
                },
                {
                  "0": "Talk about great customer service of course we will be back.",
                  "1": "positive",
                  "3": {
                    "positive": 0.99,
                    "neutral": 0,
                    "negative": 0
                  },
                  "4": [
                    {
                      "sentiment": "positive",
                      "confidenceScores": {
                        "positive": 0.99,
                        "neutral": 0,
                        "negative": 0
                      },
                      "text": "Talk about great customer service of course we will be back.",
                      "offset": 0,
                      "length": 60
                    }
                  ],
                  "5": []
                },
                {
                  "0": "Hot dishes are not hot, cold dishes are close to room temp.I watched staff prepare food with BARE HANDS, no gloves.Everything is deep fried in oil.",
                  "1": "negative",
                  "3": {
                    "positive": 0.01,
                    "neutral": 0.05,
                    "negative": 0.94
                  },
                  "4": [
                    {
                      "sentiment": "neutral",
                      "confidenceScores": {
                        "positive": 0.02,
                        "neutral": 0.85,
                        "negative": 0.13
                      },
                      "text": "Hot dishes are not hot, cold dishes are close to room temp.",
                      "offset": 0,
                      "length": 59
                    },
                    {
                      "sentiment": "negative",
                      "confidenceScores": {
                        "positive": 0.01,
                        "neutral": 0.05,
                        "negative": 0.94
                      },
                      "text": "I watched staff prepare food with BARE HANDS, no gloves.",
                      "offset": 59,
                      "length": 56
                    },
                    {
                      "sentiment": "neutral",
                      "confidenceScores": {
                        "positive": 0.03,
                        "neutral": 0.88,
                        "negative": 0.09
                      },
                      "text": "Everything is deep fried in oil.",
                      "offset": 115,
                      "length": 32
                    }
                  ],
                  "5": []
                },
                {
                  "0": "I love their fries and their beans.",
                  "1": "positive",
                  "3": {
                    "positive": 0.99,
                    "neutral": 0.01,
                    "negative": 0
                  },
                  "4": [
                    {
                      "sentiment": "positive",
                      "confidenceScores": {
                        "positive": 0.99,
                        "neutral": 0.01,
                        "negative": 0
                      },
                      "text": "I love their fries and their beans.",
                      "offset": 0,
                      "length": 35
                    }
                  ],
                  "5": []
                },
                {
                  "0": "Always a pleasure dealing with him.",
                  "1": "positive",
                  "3": {
                    "positive": 0.99,
                    "neutral": 0,
                    "negative": 0
                  },
                  "4": [
                    {
                      "sentiment": "positive",
                      "confidenceScores": {
                        "positive": 0.99,
                        "neutral": 0,
                        "negative": 0
                      },
                      "text": "Always a pleasure dealing with him.",
                      "offset": 0,
                      "length": 35
                    }
                  ],
                  "5": []
                },
                {
                  "0": "They have a plethora of salads and sandwiches, and everything I've tried gets my seal of approval.",
                  "1": "positive",
                  "3": {
                    "positive": 0.75,
                    "neutral": 0.21,
                    "negative": 0.03
                  },
                  "4": [
                    {
                      "sentiment": "positive",
                      "confidenceScores": {
                        "positive": 0.75,
                        "neutral": 0.21,
                        "negative": 0.03
                      },
                      "text": "They have a plethora of salads and sandwiches, and everything I've tried gets my seal of approval.",
                      "offset": 0,
                      "length": 98
                    }
                  ],
                  "5": []
                },
                {
                  "0": "This place is awesome if you want something light and healthy during the summer.",
                  "1": "positive",
                  "3": {
                    "positive": 1,
                    "neutral": 0,
                    "negative": 0
                  },
                  "4": [
                    {
                      "sentiment": "positive",
                      "confidenceScores": {
                        "positive": 1,
                        "neutral": 0,
                        "negative": 0
                      },
                      "text": "This place is awesome if you want something light and healthy during the summer.",
                      "offset": 0,
                      "length": 80
                    }
                  ],
                  "5": []
                },
                {
                  "0": "For sushi on the Strip, this is the place to go.",
                  "1": "positive",
                  "3": {
                    "positive": 0.87,
                    "neutral": 0.12,
                    "negative": 0.01
                  },
                  "4": [
                    {
                      "sentiment": "positive",
                      "confidenceScores": {
                        "positive": 0.87,
                        "neutral": 0.12,
                        "negative": 0.01
                      },
                      "text": "For sushi on the Strip, this is the place to go.",
                      "offset": 0,
                      "length": 48
                    }
                  ],
                  "5": []
                },
                {
                  "0": "The service was great, even the manager came and helped with our table.",
                  "1": "positive",
                  "3": {
                    "positive": 1,
                    "neutral": 0,
                    "negative": 0
                  },
                  "4": [
                    {
                      "sentiment": "positive",
                      "confidenceScores": {
                        "positive": 1,
                        "neutral": 0,
                        "negative": 0
                      },
                      "text": "The service was great, even the manager came and helped with our table.",
                      "offset": 0,
                      "length": 71
                    }
                  ],
                  "5": []
                },
                {
                  "0": "The feel of the dining room was more college cooking course than high class dining and the service was slow at best.",
                  "1": "negative",
                  "3": {
                    "positive": 0.01,
                    "neutral": 0,
                    "negative": 0.99
                  },
                  "4": [
                    {
                      "sentiment": "negative",
                      "confidenceScores": {
                        "positive": 0.01,
                        "neutral": 0,
                        "negative": 0.99
                      },
                      "text": "The feel of the dining room was more college cooking course than high class dining and the service was slow at best.",
                      "offset": 0,
                      "length": 116
                    }
                  ],
                  "5": []
                },
                {
                  "0": "I started this review with two stars, but I'm editing it to give it only one.",
                  "1": "negative",
                  "3": {
                    "positive": 0.03,
                    "neutral": 0.26,
                    "negative": 0.71
                  },
                  "4": [
                    {
                      "sentiment": "negative",
                      "confidenceScores": {
                        "positive": 0.03,
                        "neutral": 0.26,
                        "negative": 0.71
                      },
                      "text": "I started this review with two stars, but I'm editing it to give it only one.",
                      "offset": 0,
                      "length": 77
                    }
                  ],
                  "5": []
                },
                {
                  "0": "this is the worst sushi i have ever eat besides Costco's.",
                  "1": "negative",
                  "3": {
                    "positive": 0.01,
                    "neutral": 0,
                    "negative": 0.99
                  },
                  "4": [
                    {
                      "sentiment": "negative",
                      "confidenceScores": {
                        "positive": 0.01,
                        "neutral": 0,
                        "negative": 0.99
                      },
                      "text": "this is the worst sushi i have ever eat besides Costco's.",
                      "offset": 0,
                      "length": 57
                    }
                  ],
                  "5": []
                },
                {
                  "0": "All in all an excellent restaurant highlighted by great service, a unique menu, and a beautiful setting.",
                  "1": "positive",
                  "3": {
                    "positive": 1,
                    "neutral": 0,
                    "negative": 0
                  },
                  "4": [
                    {
                      "sentiment": "positive",
                      "confidenceScores": {
                        "positive": 1,
                        "neutral": 0,
                        "negative": 0
                      },
                      "text": "All in all an excellent restaurant highlighted by great service, a unique menu, and a beautiful setting.",
                      "offset": 0,
                      "length": 104
                    }
                  ],
                  "5": []
                },
                {
                  "0": "My boyfriend and i sat at the bar and had a completely delightful experience.",
                  "1": "positive",
                  "3": {
                    "positive": 0.99,
                    "neutral": 0,
                    "negative": 0
                  },
                  "4": [
                    {
                      "sentiment": "positive",
                      "confidenceScores": {
                        "positive": 0.99,
                        "neutral": 0,
                        "negative": 0
                      },
                      "text": "My boyfriend and i sat at the bar and had a completely delightful experience.",
                      "offset": 0,
                      "length": 77
                    }
                  ],
                  "5": []
                },
                {
                  "0": "Weird vibe from owners.",
                  "1": "negative",
                  "3": {
                    "positive": 0.02,
                    "neutral": 0.01,
                    "negative": 0.97
                  },
                  "4": [
                    {
                      "sentiment": "negative",
                      "confidenceScores": {
                        "positive": 0.02,
                        "neutral": 0.01,
                        "negative": 0.97
                      },
                      "text": "Weird vibe from owners.",
                      "offset": 0,
                      "length": 23
                    }
                  ],
                  "5": []
                },
                {
                  "0": "There was hardly any meat.",
                  "1": "negative",
                  "3": {
                    "positive": 0.02,
                    "neutral": 0.26,
                    "negative": 0.72
                  },
                  "4": [
                    {
                      "sentiment": "negative",
                      "confidenceScores": {
                        "positive": 0.02,
                        "neutral": 0.26,
                        "negative": 0.72
                      },
                      "text": "There was hardly any meat.",
                      "offset": 0,
                      "length": 26
                    }
                  ],
                  "5": []
                },
                {
                  "0": "I've had better bagels from the grocery store.",
                  "1": "positive",
                  "3": {
                    "positive": 0.83,
                    "neutral": 0.12,
                    "negative": 0.05
                  },
                  "4": [
                    {
                      "sentiment": "positive",
                      "confidenceScores": {
                        "positive": 0.83,
                        "neutral": 0.12,
                        "negative": 0.05
                      },
                      "text": "I've had better bagels from the grocery store.",
                      "offset": 0,
                      "length": 46
                    }
                  ],
                  "5": []
                },
                {
                  "0": "Go To Place for Gyros.",
                  "1": "neutral",
                  "3": {
                    "positive": 0,
                    "neutral": 0.99,
                    "negative": 0
                  },
                  "4": [
                    {
                      "sentiment": "neutral",
                      "confidenceScores": {
                        "positive": 0,
                        "neutral": 0.99,
                        "negative": 0
                      },
                      "text": "Go To Place for Gyros.",
                      "offset": 0,
                      "length": 22
                    }
                  ],
                  "5": []
                },
                {
                  "0": "I love the owner/chef, his one authentic Japanese cool dude!",
                  "1": "positive",
                  "3": {
                    "positive": 1,
                    "neutral": 0,
                    "negative": 0
                  },
                  "4": [
                    {
                      "sentiment": "positive",
                      "confidenceScores": {
                        "positive": 1,
                        "neutral": 0,
                        "negative": 0
                      },
                      "text": "I love the owner/chef, his one authentic Japanese cool dude!",
                      "offset": 0,
                      "length": 60
                    }
                  ],
                  "5": []
                },
                {
                  "0": "Now the burgers aren't as good, the pizza which used to be amazing is doughy and flavorless.",
                  "1": "negative",
                  "3": {
                    "positive": 0.01,
                    "neutral": 0,
                    "negative": 0.98
                  },
                  "4": [
                    {
                      "sentiment": "negative",
                      "confidenceScores": {
                        "positive": 0.01,
                        "neutral": 0,
                        "negative": 0.98
                      },
                      "text": "Now the burgers aren't as good, the pizza which used to be amazing is doughy and flavorless.",
                      "offset": 0,
                      "length": 92
                    }
                  ],
                  "5": []
                },
                {
                  "0": "I found a six inch long piece of wire in my salsa.",
                  "1": "neutral",
                  "3": {
                    "positive": 0,
                    "neutral": 0.97,
                    "negative": 0.03
                  },
                  "4": [
                    {
                      "sentiment": "neutral",
                      "confidenceScores": {
                        "positive": 0,
                        "neutral": 0.97,
                        "negative": 0.03
                      },
                      "text": "I found a six inch long piece of wire in my salsa.",
                      "offset": 0,
                      "length": 50
                    }
                  ],
                  "5": []
                },
                {
                  "0": "The service was terrible, food was mediocre.",
                  "1": "negative",
                  "3": {
                    "positive": 0.01,
                    "neutral": 0,
                    "negative": 0.99
                  },
                  "4": [
                    {
                      "sentiment": "negative",
                      "confidenceScores": {
                        "positive": 0.01,
                        "neutral": 0,
                        "negative": 0.99
                      },
                      "text": "The service was terrible, food was mediocre.",
                      "offset": 0,
                      "length": 44
                    }
                  ],
                  "5": []
                },
                {
                  "0": "We definately enjoyed ourselves.",
                  "1": "positive",
                  "3": {
                    "positive": 0.98,
                    "neutral": 0.01,
                    "negative": 0.01
                  },
                  "4": [
                    {
                      "sentiment": "positive",
                      "confidenceScores": {
                        "positive": 0.98,
                        "neutral": 0.01,
                        "negative": 0.01
                      },
                      "text": "We definately enjoyed ourselves.",
                      "offset": 0,
                      "length": 32
                    }
                  ],
                  "5": []
                },
                {
                  "0": "I ordered Albondigas soup - which was just warm - and tasted like tomato soup with frozen meatballs.",
                  "1": "positive",
                  "3": {
                    "positive": 0.42,
                    "neutral": 0.27,
                    "negative": 0.31
                  },
                  "4": [
                    {
                      "sentiment": "positive",
                      "confidenceScores": {
                        "positive": 0.42,
                        "neutral": 0.27,
                        "negative": 0.31
                      },
                      "text": "I ordered Albondigas soup - which was just warm - and tasted like tomato soup with frozen meatballs.",
                      "offset": 0,
                      "length": 100
                    }
                  ],
                  "5": []
                },
                {
                  "0": "On three different occasions I asked for well done or medium well, and all three times I got the bloodiest piece of meat on my plate.",
                  "1": "negative",
                  "3": {
                    "positive": 0.05,
                    "neutral": 0,
                    "negative": 0.95
                  },
                  "4": [
                    {
                      "sentiment": "negative",
                      "confidenceScores": {
                        "positive": 0.05,
                        "neutral": 0,
                        "negative": 0.95
                      },
                      "text": "On three different occasions I asked for well done or medium well, and all three times I got the bloodiest piece of meat on my plate.",
                      "offset": 0,
                      "length": 133
                    }
                  ],
                  "5": []
                },
                {
                  "0": "I had about two bites and refused to eat anymore.",
                  "1": "negative",
                  "3": {
                    "positive": 0,
                    "neutral": 0.06,
                    "negative": 0.94
                  },
                  "4": [
                    {
                      "sentiment": "negative",
                      "confidenceScores": {
                        "positive": 0,
                        "neutral": 0.06,
                        "negative": 0.94
                      },
                      "text": "I had about two bites and refused to eat anymore.",
                      "offset": 0,
                      "length": 49
                    }
                  ],
                  "5": []
                },
                {
                  "0": "The service was extremely slow.",
                  "1": "negative",
                  "3": {
                    "positive": 0,
                    "neutral": 0,
                    "negative": 0.99
                  },
                  "4": [
                    {
                      "sentiment": "negative",
                      "confidenceScores": {
                        "positive": 0,
                        "neutral": 0,
                        "negative": 0.99
                      },
                      "text": "The service was extremely slow.",
                      "offset": 0,
                      "length": 31
                    }
                  ],
                  "5": []
                },
                {
                  "0": "After 20 minutes wait, I got a table.",
                  "1": "neutral",
                  "3": {
                    "positive": 0.02,
                    "neutral": 0.96,
                    "negative": 0.02
                  },
                  "4": [
                    {
                      "sentiment": "neutral",
                      "confidenceScores": {
                        "positive": 0.02,
                        "neutral": 0.96,
                        "negative": 0.02
                      },
                      "text": "After 20 minutes wait, I got a table.",
                      "offset": 0,
                      "length": 37
                    }
                  ],
                  "5": []
                },
                {
                  "0": "Seriously killer hot chai latte.",
                  "1": "negative",
                  "3": {
                    "positive": 0.03,
                    "neutral": 0.01,
                    "negative": 0.96
                  },
                  "4": [
                    {
                      "sentiment": "negative",
                      "confidenceScores": {
                        "positive": 0.03,
                        "neutral": 0.01,
                        "negative": 0.96
                      },
                      "text": "Seriously killer hot chai latte.",
                      "offset": 0,
                      "length": 32
                    }
                  ],
                  "5": []
                },
                {
                  "0": "No allergy warnings on the menu, and the waitress had absolutely no clue as to which meals did or did not contain peanuts.",
                  "1": "negative",
                  "3": {
                    "positive": 0.03,
                    "neutral": 0.05,
                    "negative": 0.92
                  },
                  "4": [
                    {
                      "sentiment": "negative",
                      "confidenceScores": {
                        "positive": 0.03,
                        "neutral": 0.05,
                        "negative": 0.92
                      },
                      "text": "No allergy warnings on the menu, and the waitress had absolutely no clue as to which meals did or did not contain peanuts.",
                      "offset": 0,
                      "length": 122
                    }
                  ],
                  "5": []
                },
                {
                  "0": "My boyfriend tried the Mediterranean Chicken Salad and fell in love.",
                  "1": "positive",
                  "3": {
                    "positive": 0.99,
                    "neutral": 0.01,
                    "negative": 0
                  },
                  "4": [
                    {
                      "sentiment": "positive",
                      "confidenceScores": {
                        "positive": 0.99,
                        "neutral": 0.01,
                        "negative": 0
                      },
                      "text": "My boyfriend tried the Mediterranean Chicken Salad and fell in love.",
                      "offset": 0,
                      "length": 68
                    }
                  ],
                  "5": []
                },
                {
                  "0": "Their rotating beers on tap is also a highlight of this place.",
                  "1": "positive",
                  "3": {
                    "positive": 0.84,
                    "neutral": 0.15,
                    "negative": 0.02
                  },
                  "4": [
                    {
                      "sentiment": "positive",
                      "confidenceScores": {
                        "positive": 0.84,
                        "neutral": 0.15,
                        "negative": 0.02
                      },
                      "text": "Their rotating beers on tap is also a highlight of this place.",
                      "offset": 0,
                      "length": 62
                    }
                  ],
                  "5": []
                },
                {
                  "0": "Pricing is a bit of a concern at Mellow Mushroom.",
                  "1": "negative",
                  "3": {
                    "positive": 0.01,
                    "neutral": 0.03,
                    "negative": 0.96
                  },
                  "4": [
                    {
                      "sentiment": "negative",
                      "confidenceScores": {
                        "positive": 0.01,
                        "neutral": 0.03,
                        "negative": 0.96
                      },
                      "text": "Pricing is a bit of a concern at Mellow Mushroom.",
                      "offset": 0,
                      "length": 49
                    }
                  ],
                  "5": []
                },
                {
                  "0": "Worst Thai ever.",
                  "1": "negative",
                  "3": {
                    "positive": 0.01,
                    "neutral": 0,
                    "negative": 0.98
                  },
                  "4": [
                    {
                      "sentiment": "negative",
                      "confidenceScores": {
                        "positive": 0.01,
                        "neutral": 0,
                        "negative": 0.98
                      },
                      "text": "Worst Thai ever.",
                      "offset": 0,
                      "length": 16
                    }
                  ],
                  "5": []
                },
                {
                  "0": "If you stay in Vegas you must get breakfast here at least once.",
                  "1": "neutral",
                  "3": {
                    "positive": 0.02,
                    "neutral": 0.97,
                    "negative": 0.01
                  },
                  "4": [
                    {
                      "sentiment": "neutral",
                      "confidenceScores": {
                        "positive": 0.02,
                        "neutral": 0.97,
                        "negative": 0.01
                      },
                      "text": "If you stay in Vegas you must get breakfast here at least once.",
                      "offset": 0,
                      "length": 63
                    }
                  ],
                  "5": []
                },
                {
                  "0": "I want to first say our server was great and we had perfect service.",
                  "1": "positive",
                  "3": {
                    "positive": 1,
                    "neutral": 0,
                    "negative": 0
                  },
                  "4": [
                    {
                      "sentiment": "positive",
                      "confidenceScores": {
                        "positive": 1,
                        "neutral": 0,
                        "negative": 0
                      },
                      "text": "I want to first say our server was great and we had perfect service.",
                      "offset": 0,
                      "length": 68
                    }
                  ],
                  "5": []
                },
                {
                  "0": "The pizza selections are good.",
                  "1": "positive",
                  "3": {
                    "positive": 1,
                    "neutral": 0,
                    "negative": 0
                  },
                  "4": [
                    {
                      "sentiment": "positive",
                      "confidenceScores": {
                        "positive": 1,
                        "neutral": 0,
                        "negative": 0
                      },
                      "text": "The pizza selections are good.",
                      "offset": 0,
                      "length": 30
                    }
                  ],
                  "5": []
                },
                {
                  "0": "I had strawberry tea, which was good.",
                  "1": "positive",
                  "3": {
                    "positive": 0.99,
                    "neutral": 0,
                    "negative": 0
                  },
                  "4": [
                    {
                      "sentiment": "positive",
                      "confidenceScores": {
                        "positive": 0.99,
                        "neutral": 0,
                        "negative": 0
                      },
                      "text": "I had strawberry tea, which was good.",
                      "offset": 0,
                      "length": 37
                    }
                  ],
                  "5": []
                },
                {
                  "0": "Highly unprofessional and rude to a loyal patron!",
                  "1": "negative",
                  "3": {
                    "positive": 0.01,
                    "neutral": 0,
                    "negative": 0.99
                  },
                  "4": [
                    {
                      "sentiment": "negative",
                      "confidenceScores": {
                        "positive": 0.01,
                        "neutral": 0,
                        "negative": 0.99
                      },
                      "text": "Highly unprofessional and rude to a loyal patron!",
                      "offset": 0,
                      "length": 49
                    }
                  ],
                  "5": []
                },
                {
                  "0": "Overall, a great experience.",
                  "1": "positive",
                  "3": {
                    "positive": 1,
                    "neutral": 0,
                    "negative": 0
                  },
                  "4": [
                    {
                      "sentiment": "positive",
                      "confidenceScores": {
                        "positive": 1,
                        "neutral": 0,
                        "negative": 0
                      },
                      "text": "Overall, a great experience.",
                      "offset": 0,
                      "length": 28
                    }
                  ],
                  "5": []
                },
                {
                  "0": "Spend your money elsewhere.",
                  "1": "neutral",
                  "3": {
                    "positive": 0.03,
                    "neutral": 0.91,
                    "negative": 0.06
                  },
                  "4": [
                    {
                      "sentiment": "neutral",
                      "confidenceScores": {
                        "positive": 0.03,
                        "neutral": 0.91,
                        "negative": 0.06
                      },
                      "text": "Spend your money elsewhere.",
                      "offset": 0,
                      "length": 27
                    }
                  ],
                  "5": []
                },
                {
                  "0": "Their regular toasted bread was equally satisfying with the occasional pats of butter... Mmmm...!",
                  "1": "positive",
                  "3": {
                    "positive": 0.97,
                    "neutral": 0.01,
                    "negative": 0.02
                  },
                  "4": [
                    {
                      "sentiment": "positive",
                      "confidenceScores": {
                        "positive": 0.97,
                        "neutral": 0.01,
                        "negative": 0.02
                      },
                      "text": "Their regular toasted bread was equally satisfying with the occasional pats of butter... ",
                      "offset": 0,
                      "length": 89
                    },
                    {
                      "sentiment": "neutral",
                      "confidenceScores": {
                        "positive": 0.16,
                        "neutral": 0.66,
                        "negative": 0.18
                      },
                      "text": "Mmmm...!",
                      "offset": 89,
                      "length": 8
                    }
                  ],
                  "5": []
                },
                {
                  "0": "The Buffet at Bellagio was far from what I anticipated.",
                  "1": "negative",
                  "3": {
                    "positive": 0.05,
                    "neutral": 0.02,
                    "negative": 0.93
                  },
                  "4": [
                    {
                      "sentiment": "negative",
                      "confidenceScores": {
                        "positive": 0.05,
                        "neutral": 0.02,
                        "negative": 0.93
                      },
                      "text": "The Buffet at Bellagio was far from what I anticipated.",
                      "offset": 0,
                      "length": 55
                    }
                  ],
                  "5": []
                },
                {
                  "0": "And the drinks are WEAK, people!",
                  "1": "neutral",
                  "3": {
                    "positive": 0.04,
                    "neutral": 0.82,
                    "negative": 0.14
                  },
                  "4": [
                    {
                      "sentiment": "neutral",
                      "confidenceScores": {
                        "positive": 0.04,
                        "neutral": 0.82,
                        "negative": 0.14
                      },
                      "text": "And the drinks are WEAK, people!",
                      "offset": 0,
                      "length": 32
                    }
                  ],
                  "5": []
                },
                {
                  "0": "#NAME?",
                  "1": "neutral",
                  "3": {
                    "positive": 0.03,
                    "neutral": 0.94,
                    "negative": 0.03
                  },
                  "4": [
                    {
                      "sentiment": "neutral",
                      "confidenceScores": {
                        "positive": 0.03,
                        "neutral": 0.94,
                        "negative": 0.03
                      },
                      "text": "#NAME?",
                      "offset": 0,
                      "length": 6
                    }
                  ],
                  "5": []
                },
                {
                  "0": "Also, I feel like the chips are bought, not made in house.",
                  "1": "negative",
                  "3": {
                    "positive": 0.01,
                    "neutral": 0.46,
                    "negative": 0.53
                  },
                  "4": [
                    {
                      "sentiment": "negative",
                      "confidenceScores": {
                        "positive": 0.01,
                        "neutral": 0.46,
                        "negative": 0.53
                      },
                      "text": "Also, I feel like the chips are bought, not made in house.",
                      "offset": 0,
                      "length": 58
                    }
                  ],
                  "5": []
                },
                {
                  "0": "After the disappointing dinner we went elsewhere for dessert.",
                  "1": "negative",
                  "3": {
                    "positive": 0,
                    "neutral": 0,
                    "negative": 1
                  },
                  "4": [
                    {
                      "sentiment": "negative",
                      "confidenceScores": {
                        "positive": 0,
                        "neutral": 0,
                        "negative": 1
                      },
                      "text": "After the disappointing dinner we went elsewhere for dessert.",
                      "offset": 0,
                      "length": 61
                    }
                  ],
                  "5": []
                },
                {
                  "0": "The chips and sals a here is amazing!!!!!!!!!!!!!!!!!!!",
                  "1": "positive",
                  "3": {
                    "positive": 0.99,
                    "neutral": 0,
                    "negative": 0
                  },
                  "4": [
                    {
                      "sentiment": "positive",
                      "confidenceScores": {
                        "positive": 0.99,
                        "neutral": 0,
                        "negative": 0
                      },
                      "text": "The chips and sals a here is amazing!!!!!!!!!!!!!!!!!!!",
                      "offset": 0,
                      "length": 55
                    }
                  ],
                  "5": []
                },
                {
                  "0": "We won't be returning.",
                  "1": "negative",
                  "3": {
                    "positive": 0.01,
                    "neutral": 0.43,
                    "negative": 0.55
                  },
                  "4": [
                    {
                      "sentiment": "negative",
                      "confidenceScores": {
                        "positive": 0.01,
                        "neutral": 0.43,
                        "negative": 0.55
                      },
                      "text": "We won't be returning.",
                      "offset": 0,
                      "length": 22
                    }
                  ],
                  "5": []
                },
                {
                  "0": "This is my new fav Vegas buffet spot.",
                  "1": "positive",
                  "3": {
                    "positive": 0.82,
                    "neutral": 0.17,
                    "negative": 0.01
                  },
                  "4": [
                    {
                      "sentiment": "positive",
                      "confidenceScores": {
                        "positive": 0.82,
                        "neutral": 0.17,
                        "negative": 0.01
                      },
                      "text": "This is my new fav Vegas buffet spot.",
                      "offset": 0,
                      "length": 37
                    }
                  ],
                  "5": []
                },
                {
                  "0": "I seriously cannot believe that the owner has so many unexperienced employees that all are running around like chickens with their heads cut off.",
                  "1": "negative",
                  "3": {
                    "positive": 0,
                    "neutral": 0.01,
                    "negative": 0.99
                  },
                  "4": [
                    {
                      "sentiment": "negative",
                      "confidenceScores": {
                        "positive": 0,
                        "neutral": 0.01,
                        "negative": 0.99
                      },
                      "text": "I seriously cannot believe that the owner has so many unexperienced employees that all are running around like chickens with their heads cut off.",
                      "offset": 0,
                      "length": 145
                    }
                  ],
                  "5": []
                },
                {
                  "0": "Very, very sad.",
                  "1": "negative",
                  "3": {
                    "positive": 0.01,
                    "neutral": 0.01,
                    "negative": 0.98
                  },
                  "4": [
                    {
                      "sentiment": "negative",
                      "confidenceScores": {
                        "positive": 0.01,
                        "neutral": 0.01,
                        "negative": 0.98
                      },
                      "text": "Very, very sad.",
                      "offset": 0,
                      "length": 15
                    }
                  ],
                  "5": []
                },
                {
                  "0": "i felt insulted and disrespected, how could you talk and judge another human being like that?",
                  "1": "negative",
                  "3": {
                    "positive": 0,
                    "neutral": 0,
                    "negative": 0.99
                  },
                  "4": [
                    {
                      "sentiment": "negative",
                      "confidenceScores": {
                        "positive": 0,
                        "neutral": 0,
                        "negative": 0.99
                      },
                      "text": "i felt insulted and disrespected, how could you talk and judge another human being like that?",
                      "offset": 0,
                      "length": 93
                    }
                  ],
                  "5": []
                },
                {
                  "0": "How can you call yourself a steakhouse if you can't properly cook a steak, I don't understand!",
                  "1": "negative",
                  "3": {
                    "positive": 0,
                    "neutral": 0.02,
                    "negative": 0.98
                  },
                  "4": [
                    {
                      "sentiment": "negative",
                      "confidenceScores": {
                        "positive": 0,
                        "neutral": 0.02,
                        "negative": 0.98
                      },
                      "text": "How can you call yourself a steakhouse if you can't properly cook a steak, I don't understand!",
                      "offset": 0,
                      "length": 94
                    }
                  ],
                  "5": []
                },
                {
                  "0": "I'm not impressed with the concept or the food.",
                  "1": "negative",
                  "3": {
                    "positive": 0.01,
                    "neutral": 0.05,
                    "negative": 0.93
                  },
                  "4": [
                    {
                      "sentiment": "negative",
                      "confidenceScores": {
                        "positive": 0.01,
                        "neutral": 0.05,
                        "negative": 0.93
                      },
                      "text": "I'm not impressed with the concept or the food.",
                      "offset": 0,
                      "length": 47
                    }
                  ],
                  "5": []
                },
                {
                  "0": "The only thing I wasn't too crazy about was their guacamole as I don't like it puréed.",
                  "1": "negative",
                  "3": {
                    "positive": 0.06,
                    "neutral": 0.04,
                    "negative": 0.9
                  },
                  "4": [
                    {
                      "sentiment": "negative",
                      "confidenceScores": {
                        "positive": 0.06,
                        "neutral": 0.04,
                        "negative": 0.9
                      },
                      "text": "The only thing I wasn't too crazy about was their guacamole as I don't like it puréed.",
                      "offset": 0,
                      "length": 86
                    }
                  ],
                  "5": []
                },
                {
                  "0": "There is really nothing for me at postinos, hope your experience is better",
                  "1": "positive",
                  "3": {
                    "positive": 0.98,
                    "neutral": 0.01,
                    "negative": 0.01
                  },
                  "4": [
                    {
                      "sentiment": "positive",
                      "confidenceScores": {
                        "positive": 0.98,
                        "neutral": 0.01,
                        "negative": 0.01
                      },
                      "text": "There is really nothing for me at postinos, hope your experience is better",
                      "offset": 0,
                      "length": 74
                    }
                  ],
                  "5": []
                },
                {
                  "0": "I got food poisoning here at the buffet.",
                  "1": "negative",
                  "3": {
                    "positive": 0,
                    "neutral": 0.03,
                    "negative": 0.97
                  },
                  "4": [
                    {
                      "sentiment": "negative",
                      "confidenceScores": {
                        "positive": 0,
                        "neutral": 0.03,
                        "negative": 0.97
                      },
                      "text": "I got food poisoning here at the buffet.",
                      "offset": 0,
                      "length": 40
                    }
                  ],
                  "5": []
                },
                {
                  "0": "They brought a fresh batch of fries and I was thinking yay something warm but no!",
                  "1": "neutral",
                  "3": {
                    "positive": 0.07,
                    "neutral": 0.78,
                    "negative": 0.15
                  },
                  "4": [
                    {
                      "sentiment": "neutral",
                      "confidenceScores": {
                        "positive": 0.07,
                        "neutral": 0.78,
                        "negative": 0.15
                      },
                      "text": "They brought a fresh batch of fries and I was thinking yay something warm but no!",
                      "offset": 0,
                      "length": 81
                    }
                  ],
                  "5": []
                },
                {
                  "0": "What SHOULD have been a hilarious, yummy Christmas Eve dinner to remember was the biggest fail of the entire trip for us.",
                  "1": "negative",
                  "3": {
                    "positive": 0.47,
                    "neutral": 0,
                    "negative": 0.53
                  },
                  "4": [
                    {
                      "sentiment": "negative",
                      "confidenceScores": {
                        "positive": 0.47,
                        "neutral": 0,
                        "negative": 0.53
                      },
                      "text": "What SHOULD have been a hilarious, yummy Christmas Eve dinner to remember was the biggest fail of the entire trip for us.",
                      "offset": 0,
                      "length": 121
                    }
                  ],
                  "5": []
                },
                {
                  "0": "Needless to say, I won't be going back anytime soon.",
                  "1": "negative",
                  "3": {
                    "positive": 0.02,
                    "neutral": 0.26,
                    "negative": 0.72
                  },
                  "4": [
                    {
                      "sentiment": "negative",
                      "confidenceScores": {
                        "positive": 0.02,
                        "neutral": 0.26,
                        "negative": 0.72
                      },
                      "text": "Needless to say, I won't be going back anytime soon.",
                      "offset": 0,
                      "length": 52
                    }
                  ],
                  "5": []
                },
                {
                  "0": "This place is disgusting!",
                  "1": "negative",
                  "3": {
                    "positive": 0.01,
                    "neutral": 0,
                    "negative": 0.98
                  },
                  "4": [
                    {
                      "sentiment": "negative",
                      "confidenceScores": {
                        "positive": 0.01,
                        "neutral": 0,
                        "negative": 0.98
                      },
                      "text": "This place is disgusting!",
                      "offset": 0,
                      "length": 25
                    }
                  ],
                  "5": []
                },
                {
                  "0": "Every time I eat here, I see caring teamwork to a professional degree.",
                  "1": "positive",
                  "3": {
                    "positive": 0.91,
                    "neutral": 0.07,
                    "negative": 0.02
                  },
                  "4": [
                    {
                      "sentiment": "positive",
                      "confidenceScores": {
                        "positive": 0.91,
                        "neutral": 0.07,
                        "negative": 0.02
                      },
                      "text": "Every time I eat here, I see caring teamwork to a professional degree.",
                      "offset": 0,
                      "length": 70
                    }
                  ],
                  "5": []
                },
                {
                  "0": "The RI style calamari was a joke.",
                  "1": "negative",
                  "3": {
                    "positive": 0.01,
                    "neutral": 0.01,
                    "negative": 0.98
                  },
                  "4": [
                    {
                      "sentiment": "negative",
                      "confidenceScores": {
                        "positive": 0.01,
                        "neutral": 0.01,
                        "negative": 0.98
                      },
                      "text": "The RI style calamari was a joke.",
                      "offset": 0,
                      "length": 33
                    }
                  ],
                  "5": []
                },
                {
                  "0": "However, there was so much garlic in the fondue, it was barely edible.",
                  "1": "negative",
                  "3": {
                    "positive": 0,
                    "neutral": 0.01,
                    "negative": 0.99
                  },
                  "4": [
                    {
                      "sentiment": "negative",
                      "confidenceScores": {
                        "positive": 0,
                        "neutral": 0.01,
                        "negative": 0.99
                      },
                      "text": "However, there was so much garlic in the fondue, it was barely edible.",
                      "offset": 0,
                      "length": 70
                    }
                  ],
                  "5": []
                },
                {
                  "0": "I could barely stomach the meal, but didn't complain because it was a business lunch.",
                  "1": "negative",
                  "3": {
                    "positive": 0.22,
                    "neutral": 0.1,
                    "negative": 0.68
                  },
                  "4": [
                    {
                      "sentiment": "negative",
                      "confidenceScores": {
                        "positive": 0.22,
                        "neutral": 0.1,
                        "negative": 0.68
                      },
                      "text": "I could barely stomach the meal, but didn't complain because it was a business lunch.",
                      "offset": 0,
                      "length": 85
                    }
                  ],
                  "5": []
                },
                {
                  "0": "It was so bad, I had lost the heart to finish it.",
                  "1": "negative",
                  "3": {
                    "positive": 0,
                    "neutral": 0,
                    "negative": 0.99
                  },
                  "4": [
                    {
                      "sentiment": "negative",
                      "confidenceScores": {
                        "positive": 0,
                        "neutral": 0,
                        "negative": 0.99
                      },
                      "text": "It was so bad, I had lost the heart to finish it.",
                      "offset": 0,
                      "length": 49
                    }
                  ],
                  "5": []
                },
                {
                  "0": "It also took her forever to bring us the check when we asked for it.",
                  "1": "negative",
                  "3": {
                    "positive": 0.04,
                    "neutral": 0.17,
                    "negative": 0.79
                  },
                  "4": [
                    {
                      "sentiment": "negative",
                      "confidenceScores": {
                        "positive": 0.04,
                        "neutral": 0.17,
                        "negative": 0.79
                      },
                      "text": "It also took her forever to bring us the check when we asked for it.",
                      "offset": 0,
                      "length": 68
                    }
                  ],
                  "5": []
                },
                {
                  "0": "We aren't ones to make a scene at restaurants but I just don't get it...definitely lost the love after this one!",
                  "1": "positive",
                  "3": {
                    "positive": 0.85,
                    "neutral": 0.01,
                    "negative": 0.14
                  },
                  "4": [
                    {
                      "sentiment": "neutral",
                      "confidenceScores": {
                        "positive": 0.02,
                        "neutral": 0.8,
                        "negative": 0.19
                      },
                      "text": "We aren't ones to make a scene at restaurants but I just don't get it...",
                      "offset": 0,
                      "length": 72
                    },
                    {
                      "sentiment": "positive",
                      "confidenceScores": {
                        "positive": 0.85,
                        "neutral": 0.01,
                        "negative": 0.14
                      },
                      "text": "definitely lost the love after this one!",
                      "offset": 72,
                      "length": 40
                    }
                  ],
                  "5": []
                },
                {
                  "0": "Disappointing experience.",
                  "1": "negative",
                  "3": {
                    "positive": 0.01,
                    "neutral": 0,
                    "negative": 0.99
                  },
                  "4": [
                    {
                      "sentiment": "negative",
                      "confidenceScores": {
                        "positive": 0.01,
                        "neutral": 0,
                        "negative": 0.99
                      },
                      "text": "Disappointing experience.",
                      "offset": 0,
                      "length": 25
                    }
                  ],
                  "5": []
                },
                {
                  "0": "The food is about on par with Denny's, which is to say, not good at all.",
                  "1": "negative",
                  "3": {
                    "positive": 0,
                    "neutral": 0,
                    "negative": 0.99
                  },
                  "4": [
                    {
                      "sentiment": "negative",
                      "confidenceScores": {
                        "positive": 0,
                        "neutral": 0,
                        "negative": 0.99
                      },
                      "text": "The food is about on par with Denny's, which is to say, not good at all.",
                      "offset": 0,
                      "length": 72
                    }
                  ],
                  "5": []
                },
                {
                  "0": "If you want to wait for mediocre food and downright terrible service, then this is the place for you.",
                  "1": "negative",
                  "3": {
                    "positive": 0.01,
                    "neutral": 0,
                    "negative": 0.99
                  },
                  "4": [
                    {
                      "sentiment": "negative",
                      "confidenceScores": {
                        "positive": 0.01,
                        "neutral": 0,
                        "negative": 0.99
                      },
                      "text": "If you want to wait for mediocre food and downright terrible service, then this is the place for you.",
                      "offset": 0,
                      "length": 101
                    }
                  ],
                  "5": []
                },
                {
                  "0": "WAAAAAAyyyyyyyyyy over rated is all I am saying.",
                  "1": "negative",
                  "3": {
                    "positive": 0.05,
                    "neutral": 0.07,
                    "negative": 0.87
                  },
                  "4": [
                    {
                      "sentiment": "negative",
                      "confidenceScores": {
                        "positive": 0.05,
                        "neutral": 0.07,
                        "negative": 0.87
                      },
                      "text": "WAAAAAAyyyyyyyyyy over rated is all I am saying.",
                      "offset": 0,
                      "length": 48
                    }
                  ],
                  "5": []
                },
                {
                  "0": "We won't be going back.",
                  "1": "neutral",
                  "3": {
                    "positive": 0.01,
                    "neutral": 0.83,
                    "negative": 0.16
                  },
                  "4": [
                    {
                      "sentiment": "neutral",
                      "confidenceScores": {
                        "positive": 0.01,
                        "neutral": 0.83,
                        "negative": 0.16
                      },
                      "text": "We won't be going back.",
                      "offset": 0,
                      "length": 23
                    }
                  ],
                  "5": []
                },
                {
                  "0": "The place was fairly clean but the food simply wasn't worth it.",
                  "1": "negative",
                  "3": {
                    "positive": 0.01,
                    "neutral": 0,
                    "negative": 0.99
                  },
                  "4": [
                    {
                      "sentiment": "negative",
                      "confidenceScores": {
                        "positive": 0.01,
                        "neutral": 0,
                        "negative": 0.99
                      },
                      "text": "The place was fairly clean but the food simply wasn't worth it.",
                      "offset": 0,
                      "length": 63
                    }
                  ],
                  "5": []
                },
                {
                  "0": "This place lacked style!!",
                  "1": "negative",
                  "3": {
                    "positive": 0.01,
                    "neutral": 0,
                    "negative": 0.99
                  },
                  "4": [
                    {
                      "sentiment": "negative",
                      "confidenceScores": {
                        "positive": 0.01,
                        "neutral": 0,
                        "negative": 0.99
                      },
                      "text": "This place lacked style!!",
                      "offset": 0,
                      "length": 25
                    }
                  ],
                  "5": []
                },
                {
                  "0": "The sangria was about half of a glass wine full and was $12, ridiculous.",
                  "1": "negative",
                  "3": {
                    "positive": 0,
                    "neutral": 0,
                    "negative": 0.99
                  },
                  "4": [
                    {
                      "sentiment": "negative",
                      "confidenceScores": {
                        "positive": 0,
                        "neutral": 0,
                        "negative": 0.99
                      },
                      "text": "The sangria was about half of a glass wine full and was $12, ridiculous.",
                      "offset": 0,
                      "length": 72
                    }
                  ],
                  "5": []
                },
                {
                  "0": "Don't bother coming here.",
                  "1": "neutral",
                  "3": {
                    "positive": 0.17,
                    "neutral": 0.75,
                    "negative": 0.08
                  },
                  "4": [
                    {
                      "sentiment": "neutral",
                      "confidenceScores": {
                        "positive": 0.17,
                        "neutral": 0.75,
                        "negative": 0.08
                      },
                      "text": "Don't bother coming here.",
                      "offset": 0,
                      "length": 25
                    }
                  ],
                  "5": []
                },
                {
                  "0": "The meat was pretty dry, I had the sliced brisket and pulled pork.",
                  "1": "negative",
                  "3": {
                    "positive": 0.05,
                    "neutral": 0.18,
                    "negative": 0.77
                  },
                  "4": [
                    {
                      "sentiment": "negative",
                      "confidenceScores": {
                        "positive": 0.05,
                        "neutral": 0.18,
                        "negative": 0.77
                      },
                      "text": "The meat was pretty dry, I had the sliced brisket and pulled pork.",
                      "offset": 0,
                      "length": 66
                    }
                  ],
                  "5": []
                },
                {
                  "0": "\"The building itself seems pretty neat; the bathroom is pretty trippy, but I wouldn't eat here again.\"",
                  "1": "mixed",
                  "3": {
                    "positive": 0.5,
                    "neutral": 0.03,
                    "negative": 0.47
                  },
                  "4": [
                    {
                      "sentiment": "positive",
                      "confidenceScores": {
                        "positive": 0.98,
                        "neutral": 0.02,
                        "negative": 0.01
                      },
                      "text": "\"The building itself seems pretty neat; ",
                      "offset": 0,
                      "length": 40
                    },
                    {
                      "sentiment": "negative",
                      "confidenceScores": {
                        "positive": 0.03,
                        "neutral": 0.04,
                        "negative": 0.93
                      },
                      "text": "the bathroom is pretty trippy, but I wouldn't eat here again.\"",
                      "offset": 40,
                      "length": 62
                    }
                  ],
                  "5": []
                },
                {
                  "0": "It was equally awful.",
                  "1": "negative",
                  "3": {
                    "positive": 0.01,
                    "neutral": 0,
                    "negative": 0.99
                  },
                  "4": [
                    {
                      "sentiment": "negative",
                      "confidenceScores": {
                        "positive": 0.01,
                        "neutral": 0,
                        "negative": 0.99
                      },
                      "text": "It was equally awful.",
                      "offset": 0,
                      "length": 21
                    }
                  ],
                  "5": []
                },
                {
                  "0": "Probably not in a hurry to go back.",
                  "1": "neutral",
                  "3": {
                    "positive": 0.07,
                    "neutral": 0.72,
                    "negative": 0.21
                  },
                  "4": [
                    {
                      "sentiment": "neutral",
                      "confidenceScores": {
                        "positive": 0.07,
                        "neutral": 0.72,
                        "negative": 0.21
                      },
                      "text": "Probably not in a hurry to go back.",
                      "offset": 0,
                      "length": 35
                    }
                  ],
                  "5": []
                },
                {
                  "0": "very slow at seating even with reservation.",
                  "1": "negative",
                  "3": {
                    "positive": 0.01,
                    "neutral": 0.01,
                    "negative": 0.99
                  },
                  "4": [
                    {
                      "sentiment": "negative",
                      "confidenceScores": {
                        "positive": 0.01,
                        "neutral": 0.01,
                        "negative": 0.99
                      },
                      "text": "very slow at seating even with reservation.",
                      "offset": 0,
                      "length": 43
                    }
                  ],
                  "5": []
                },
                {
                  "0": "Not good by any stretch of the imagination.",
                  "1": "negative",
                  "3": {
                    "positive": 0.01,
                    "neutral": 0,
                    "negative": 0.99
                  },
                  "4": [
                    {
                      "sentiment": "negative",
                      "confidenceScores": {
                        "positive": 0.01,
                        "neutral": 0,
                        "negative": 0.99
                      },
                      "text": "Not good by any stretch of the imagination.",
                      "offset": 0,
                      "length": 43
                    }
                  ],
                  "5": []
                },
                {
                  "0": "The cashew cream sauce was bland and the vegetables were undercooked.",
                  "1": "negative",
                  "3": {
                    "positive": 0,
                    "neutral": 0,
                    "negative": 0.99
                  },
                  "4": [
                    {
                      "sentiment": "negative",
                      "confidenceScores": {
                        "positive": 0,
                        "neutral": 0,
                        "negative": 0.99
                      },
                      "text": "The cashew cream sauce was bland and the vegetables were undercooked.",
                      "offset": 0,
                      "length": 69
                    }
                  ],
                  "5": []
                },
                {
                  "0": "The chipolte ranch dipping sause was tasteless, seemed thin and watered down with no heat.",
                  "1": "negative",
                  "3": {
                    "positive": 0,
                    "neutral": 0,
                    "negative": 0.99
                  },
                  "4": [
                    {
                      "sentiment": "negative",
                      "confidenceScores": {
                        "positive": 0,
                        "neutral": 0,
                        "negative": 0.99
                      },
                      "text": "The chipolte ranch dipping sause was tasteless, seemed thin and watered down with no heat.",
                      "offset": 0,
                      "length": 90
                    }
                  ],
                  "5": []
                },
                {
                  "0": "It was a bit too sweet, not really spicy enough, and lacked flavor.",
                  "1": "negative",
                  "3": {
                    "positive": 0,
                    "neutral": 0,
                    "negative": 1
                  },
                  "4": [
                    {
                      "sentiment": "negative",
                      "confidenceScores": {
                        "positive": 0,
                        "neutral": 0,
                        "negative": 1
                      },
                      "text": "It was a bit too sweet, not really spicy enough, and lacked flavor.",
                      "offset": 0,
                      "length": 67
                    }
                  ],
                  "5": []
                },
                {
                  "0": "I was VERY disappointed!!",
                  "1": "negative",
                  "3": {
                    "positive": 0.01,
                    "neutral": 0,
                    "negative": 0.99
                  },
                  "4": [
                    {
                      "sentiment": "negative",
                      "confidenceScores": {
                        "positive": 0.01,
                        "neutral": 0,
                        "negative": 0.99
                      },
                      "text": "I was VERY disappointed!!",
                      "offset": 0,
                      "length": 25
                    }
                  ],
                  "5": []
                },
                {
                  "0": "This place is horrible and way overpriced.",
                  "1": "negative",
                  "3": {
                    "positive": 0.01,
                    "neutral": 0,
                    "negative": 0.99
                  },
                  "4": [
                    {
                      "sentiment": "negative",
                      "confidenceScores": {
                        "positive": 0.01,
                        "neutral": 0,
                        "negative": 0.99
                      },
                      "text": "This place is horrible and way overpriced.",
                      "offset": 0,
                      "length": 42
                    }
                  ],
                  "5": []
                },
                {
                  "0": "Maybe it's just their Vegetarian fare, but I've been twice and I thought it was average at best.",
                  "1": "neutral",
                  "3": {
                    "positive": 0.08,
                    "neutral": 0.69,
                    "negative": 0.22
                  },
                  "4": [
                    {
                      "sentiment": "neutral",
                      "confidenceScores": {
                        "positive": 0.08,
                        "neutral": 0.69,
                        "negative": 0.22
                      },
                      "text": "Maybe it's just their Vegetarian fare, but I've been twice and I thought it was average at best.",
                      "offset": 0,
                      "length": 96
                    }
                  ],
                  "5": []
                },
                {
                  "0": "It wasn't busy at all and now we know why.",
                  "1": "neutral",
                  "3": {
                    "positive": 0.05,
                    "neutral": 0.48,
                    "negative": 0.47
                  },
                  "4": [
                    {
                      "sentiment": "neutral",
                      "confidenceScores": {
                        "positive": 0.05,
                        "neutral": 0.48,
                        "negative": 0.47
                      },
                      "text": "It wasn't busy at all and now we know why.",
                      "offset": 0,
                      "length": 42
                    }
                  ],
                  "5": []
                },
                {
                  "0": "The tables outside are also dirty a lot of the time and the workers are not always friendly and helpful with the menu.",
                  "1": "negative",
                  "3": {
                    "positive": 0,
                    "neutral": 0,
                    "negative": 0.99
                  },
                  "4": [
                    {
                      "sentiment": "negative",
                      "confidenceScores": {
                        "positive": 0,
                        "neutral": 0,
                        "negative": 0.99
                      },
                      "text": "The tables outside are also dirty a lot of the time and the workers are not always friendly and helpful with the menu.",
                      "offset": 0,
                      "length": 118
                    }
                  ],
                  "5": []
                },
                {
                  "0": "The ambiance here did not feel like a buffet setting, but more of a douchey indoor garden for tea and biscuits.",
                  "1": "negative",
                  "3": {
                    "positive": 0.07,
                    "neutral": 0.09,
                    "negative": 0.85
                  },
                  "4": [
                    {
                      "sentiment": "negative",
                      "confidenceScores": {
                        "positive": 0.07,
                        "neutral": 0.09,
                        "negative": 0.85
                      },
                      "text": "The ambiance here did not feel like a buffet setting, but more of a douchey indoor garden for tea and biscuits.",
                      "offset": 0,
                      "length": 111
                    }
                  ],
                  "5": []
                },
                {
                  "0": "Con: spotty service.",
                  "1": "negative",
                  "3": {
                    "positive": 0,
                    "neutral": 0,
                    "negative": 0.99
                  },
                  "4": [
                    {
                      "sentiment": "negative",
                      "confidenceScores": {
                        "positive": 0,
                        "neutral": 0,
                        "negative": 0.99
                      },
                      "text": "Con: spotty service.",
                      "offset": 0,
                      "length": 20
                    }
                  ],
                  "5": []
                },
                {
                  "0": "The fries were not hot, and neither was my burger.",
                  "1": "negative",
                  "3": {
                    "positive": 0.01,
                    "neutral": 0.07,
                    "negative": 0.92
                  },
                  "4": [
                    {
                      "sentiment": "negative",
                      "confidenceScores": {
                        "positive": 0.01,
                        "neutral": 0.07,
                        "negative": 0.92
                      },
                      "text": "The fries were not hot, and neither was my burger.",
                      "offset": 0,
                      "length": 50
                    }
                  ],
                  "5": []
                },
                {
                  "0": "But then they came back cold.",
                  "1": "neutral",
                  "3": {
                    "positive": 0.02,
                    "neutral": 0.58,
                    "negative": 0.4
                  },
                  "4": [
                    {
                      "sentiment": "neutral",
                      "confidenceScores": {
                        "positive": 0.02,
                        "neutral": 0.58,
                        "negative": 0.4
                      },
                      "text": "But then they came back cold.",
                      "offset": 0,
                      "length": 29
                    }
                  ],
                  "5": []
                },
                {
                  "0": "Then our food came out, disappointment ensued.",
                  "1": "negative",
                  "3": {
                    "positive": 0,
                    "neutral": 0,
                    "negative": 1
                  },
                  "4": [
                    {
                      "sentiment": "negative",
                      "confidenceScores": {
                        "positive": 0,
                        "neutral": 0,
                        "negative": 1
                      },
                      "text": "Then our food came out, disappointment ensued.",
                      "offset": 0,
                      "length": 46
                    }
                  ],
                  "5": []
                },
                {
                  "0": "The real disappointment was our waiter.",
                  "1": "negative",
                  "3": {
                    "positive": 0,
                    "neutral": 0,
                    "negative": 0.99
                  },
                  "4": [
                    {
                      "sentiment": "negative",
                      "confidenceScores": {
                        "positive": 0,
                        "neutral": 0,
                        "negative": 0.99
                      },
                      "text": "The real disappointment was our waiter.",
                      "offset": 0,
                      "length": 39
                    }
                  ],
                  "5": []
                },
                {
                  "0": "My husband said she was very rude... did not even apologize for the bad food or anything.",
                  "1": "negative",
                  "3": {
                    "positive": 0,
                    "neutral": 0,
                    "negative": 0.99
                  },
                  "4": [
                    {
                      "sentiment": "negative",
                      "confidenceScores": {
                        "positive": 0.01,
                        "neutral": 0,
                        "negative": 0.99
                      },
                      "text": "My husband said she was very rude... ",
                      "offset": 0,
                      "length": 37
                    },
                    {
                      "sentiment": "negative",
                      "confidenceScores": {
                        "positive": 0,
                        "neutral": 0,
                        "negative": 0.99
                      },
                      "text": "did not even apologize for the bad food or anything.",
                      "offset": 37,
                      "length": 52
                    }
                  ],
                  "5": []
                },
                {
                  "0": "The only reason to eat here would be to fill up before a night of binge drinking just to get some carbs in your stomach.",
                  "1": "negative",
                  "3": {
                    "positive": 0.01,
                    "neutral": 0.03,
                    "negative": 0.96
                  },
                  "4": [
                    {
                      "sentiment": "negative",
                      "confidenceScores": {
                        "positive": 0.01,
                        "neutral": 0.03,
                        "negative": 0.96
                      },
                      "text": "The only reason to eat here would be to fill up before a night of binge drinking just to get some carbs in your stomach.",
                      "offset": 0,
                      "length": 120
                    }
                  ],
                  "5": []
                },
                {
                  "0": "Insults, profound deuchebaggery, and had to go outside for a smoke break while serving just to solidify it.",
                  "1": "negative",
                  "3": {
                    "positive": 0,
                    "neutral": 0,
                    "negative": 0.99
                  },
                  "4": [
                    {
                      "sentiment": "negative",
                      "confidenceScores": {
                        "positive": 0,
                        "neutral": 0,
                        "negative": 0.99
                      },
                      "text": "Insults, profound deuchebaggery, and had to go outside for a smoke break while serving just to solidify it.",
                      "offset": 0,
                      "length": 107
                    }
                  ],
                  "5": []
                },
                {
                  "0": "If someone orders two tacos don't' you think it may be part of customer service to ask if it is combo or ala cart?",
                  "1": "neutral",
                  "3": {
                    "positive": 0.06,
                    "neutral": 0.89,
                    "negative": 0.05
                  },
                  "4": [
                    {
                      "sentiment": "neutral",
                      "confidenceScores": {
                        "positive": 0.06,
                        "neutral": 0.89,
                        "negative": 0.05
                      },
                      "text": "If someone orders two tacos don't' you think it may be part of customer service to ask if it is combo or ala cart?",
                      "offset": 0,
                      "length": 114
                    }
                  ],
                  "5": []
                },
                {
                  "0": "She was quite disappointed although some blame needs to be placed at her door.",
                  "1": "negative",
                  "3": {
                    "positive": 0,
                    "neutral": 0,
                    "negative": 1
                  },
                  "4": [
                    {
                      "sentiment": "negative",
                      "confidenceScores": {
                        "positive": 0,
                        "neutral": 0,
                        "negative": 1
                      },
                      "text": "She was quite disappointed although some blame needs to be placed at her door.",
                      "offset": 0,
                      "length": 78
                    }
                  ],
                  "5": []
                },
                {
                  "0": "After all the rave reviews I couldn't wait to eat here......what a disappointment!",
                  "1": "mixed",
                  "3": {
                    "positive": 0.5,
                    "neutral": 0,
                    "negative": 0.5
                  },
                  "4": [
                    {
                      "sentiment": "positive",
                      "confidenceScores": {
                        "positive": 0.99,
                        "neutral": 0,
                        "negative": 0.01
                      },
                      "text": "After all the rave reviews I couldn't wait to eat here......",
                      "offset": 0,
                      "length": 60
                    },
                    {
                      "sentiment": "negative",
                      "confidenceScores": {
                        "positive": 0.01,
                        "neutral": 0,
                        "negative": 0.99
                      },
                      "text": "what a disappointment!",
                      "offset": 60,
                      "length": 22
                    }
                  ],
                  "5": []
                },
                {
                  "0": "Del Taco is pretty nasty and should be avoided if possible.",
                  "1": "negative",
                  "3": {
                    "positive": 0,
                    "neutral": 0,
                    "negative": 0.99
                  },
                  "4": [
                    {
                      "sentiment": "negative",
                      "confidenceScores": {
                        "positive": 0,
                        "neutral": 0,
                        "negative": 0.99
                      },
                      "text": "Del Taco is pretty nasty and should be avoided if possible.",
                      "offset": 0,
                      "length": 59
                    }
                  ],
                  "5": []
                },
                {
                  "0": "It's NOT hard to make a decent hamburger.",
                  "1": "positive",
                  "3": {
                    "positive": 0.85,
                    "neutral": 0.01,
                    "negative": 0.14
                  },
                  "4": [
                    {
                      "sentiment": "positive",
                      "confidenceScores": {
                        "positive": 0.85,
                        "neutral": 0.01,
                        "negative": 0.14
                      },
                      "text": "It's NOT hard to make a decent hamburger.",
                      "offset": 0,
                      "length": 41
                    }
                  ],
                  "5": []
                },
                {
                  "0": "But I don't like it.",
                  "1": "neutral",
                  "3": {
                    "positive": 0.01,
                    "neutral": 0.66,
                    "negative": 0.33
                  },
                  "4": [
                    {
                      "sentiment": "neutral",
                      "confidenceScores": {
                        "positive": 0.01,
                        "neutral": 0.66,
                        "negative": 0.33
                      },
                      "text": "But I don't like it.",
                      "offset": 0,
                      "length": 20
                    }
                  ],
                  "5": []
                },
                {
                  "0": "Hell no will I go back",
                  "1": "negative",
                  "3": {
                    "positive": 0.01,
                    "neutral": 0.08,
                    "negative": 0.91
                  },
                  "4": [
                    {
                      "sentiment": "negative",
                      "confidenceScores": {
                        "positive": 0.01,
                        "neutral": 0.08,
                        "negative": 0.91
                      },
                      "text": "Hell no will I go back",
                      "offset": 0,
                      "length": 22
                    }
                  ],
                  "5": []
                },
                {
                  "0": "We've have gotten a much better service from the pizza place next door than the services we received from this restaurant.",
                  "1": "positive",
                  "3": {
                    "positive": 0.99,
                    "neutral": 0.01,
                    "negative": 0.01
                  },
                  "4": [
                    {
                      "sentiment": "positive",
                      "confidenceScores": {
                        "positive": 0.99,
                        "neutral": 0.01,
                        "negative": 0.01
                      },
                      "text": "We've have gotten a much better service from the pizza place next door than the services we received from this restaurant.",
                      "offset": 0,
                      "length": 122
                    }
                  ],
                  "5": []
                },
                {
                  "0": "\"I don't know what the big deal is about this place, but I won't be back \"\"ya'all\"\".\"",
                  "1": "negative",
                  "3": {
                    "positive": 0.07,
                    "neutral": 0.27,
                    "negative": 0.66
                  },
                  "4": [
                    {
                      "sentiment": "negative",
                      "confidenceScores": {
                        "positive": 0.07,
                        "neutral": 0.27,
                        "negative": 0.66
                      },
                      "text": "\"I don't know what the big deal is about this place, but I won't be back \"\"ya'all\"\".\"",
                      "offset": 0,
                      "length": 85
                    }
                  ],
                  "5": []
                },
                {
                  "0": "I immediately said I wanted to talk to the manager but I did not want to talk to the guy who was doing shots of fireball behind the bar.",
                  "1": "negative",
                  "3": {
                    "positive": 0.01,
                    "neutral": 0.09,
                    "negative": 0.9
                  },
                  "4": [
                    {
                      "sentiment": "negative",
                      "confidenceScores": {
                        "positive": 0.01,
                        "neutral": 0.09,
                        "negative": 0.9
                      },
                      "text": "I immediately said I wanted to talk to the manager but I did not want to talk to the guy who was doing shots of fireball behind the bar.",
                      "offset": 0,
                      "length": 136
                    }
                  ],
                  "5": []
                },
                {
                  "0": "The ambiance isn't much better.",
                  "1": "negative",
                  "3": {
                    "positive": 0.01,
                    "neutral": 0.01,
                    "negative": 0.98
                  },
                  "4": [
                    {
                      "sentiment": "negative",
                      "confidenceScores": {
                        "positive": 0.01,
                        "neutral": 0.01,
                        "negative": 0.98
                      },
                      "text": "The ambiance isn't much better.",
                      "offset": 0,
                      "length": 31
                    }
                  ],
                  "5": []
                },
                {
                  "0": "Unfortunately, it only set us up for disapppointment with our entrees.",
                  "1": "negative",
                  "3": {
                    "positive": 0,
                    "neutral": 0,
                    "negative": 0.99
                  },
                  "4": [
                    {
                      "sentiment": "negative",
                      "confidenceScores": {
                        "positive": 0,
                        "neutral": 0,
                        "negative": 0.99
                      },
                      "text": "Unfortunately, it only set us up for disapppointment with our entrees.",
                      "offset": 0,
                      "length": 70
                    }
                  ],
                  "5": []
                },
                {
                  "0": "The food wasn't good.",
                  "1": "negative",
                  "3": {
                    "positive": 0.01,
                    "neutral": 0,
                    "negative": 0.99
                  },
                  "4": [
                    {
                      "sentiment": "negative",
                      "confidenceScores": {
                        "positive": 0.01,
                        "neutral": 0,
                        "negative": 0.99
                      },
                      "text": "The food wasn't good.",
                      "offset": 0,
                      "length": 21
                    }
                  ],
                  "5": []
                },
                {
                  "0": "Your servers suck, wait, correction, our server Heimer sucked.",
                  "1": "negative",
                  "3": {
                    "positive": 0,
                    "neutral": 0,
                    "negative": 0.99
                  },
                  "4": [
                    {
                      "sentiment": "negative",
                      "confidenceScores": {
                        "positive": 0,
                        "neutral": 0,
                        "negative": 0.99
                      },
                      "text": "Your servers suck, wait, correction, our server Heimer sucked.",
                      "offset": 0,
                      "length": 62
                    }
                  ],
                  "5": []
                },
                {
                  "0": "What happened next was pretty....off putting.",
                  "1": "positive",
                  "3": {
                    "positive": 0.97,
                    "neutral": 0.01,
                    "negative": 0.02
                  },
                  "4": [
                    {
                      "sentiment": "positive",
                      "confidenceScores": {
                        "positive": 0.97,
                        "neutral": 0.01,
                        "negative": 0.02
                      },
                      "text": "What happened next was pretty....",
                      "offset": 0,
                      "length": 33
                    },
                    {
                      "sentiment": "neutral",
                      "confidenceScores": {
                        "positive": 0.04,
                        "neutral": 0.71,
                        "negative": 0.25
                      },
                      "text": "off putting.",
                      "offset": 33,
                      "length": 12
                    }
                  ],
                  "5": []
                },
                {
                  "0": "too bad cause I know it's family owned, I really wanted to like this place.",
                  "1": "negative",
                  "3": {
                    "positive": 0.03,
                    "neutral": 0,
                    "negative": 0.97
                  },
                  "4": [
                    {
                      "sentiment": "negative",
                      "confidenceScores": {
                        "positive": 0.03,
                        "neutral": 0,
                        "negative": 0.97
                      },
                      "text": "too bad cause I know it's family owned, I really wanted to like this place.",
                      "offset": 0,
                      "length": 75
                    }
                  ],
                  "5": []
                },
                {
                  "0": "Overpriced for what you are getting.",
                  "1": "negative",
                  "3": {
                    "positive": 0.01,
                    "neutral": 0,
                    "negative": 0.99
                  },
                  "4": [
                    {
                      "sentiment": "negative",
                      "confidenceScores": {
                        "positive": 0.01,
                        "neutral": 0,
                        "negative": 0.99
                      },
                      "text": "Overpriced for what you are getting.",
                      "offset": 0,
                      "length": 36
                    }
                  ],
                  "5": []
                },
                {
                  "0": "I vomited in the bathroom mid lunch.",
                  "1": "negative",
                  "3": {
                    "positive": 0,
                    "neutral": 0.02,
                    "negative": 0.98
                  },
                  "4": [
                    {
                      "sentiment": "negative",
                      "confidenceScores": {
                        "positive": 0,
                        "neutral": 0.02,
                        "negative": 0.98
                      },
                      "text": "I vomited in the bathroom mid lunch.",
                      "offset": 0,
                      "length": 36
                    }
                  ],
                  "5": []
                },
                {
                  "0": "I kept looking at the time and it had soon become 35 minutes, yet still no food.",
                  "1": "negative",
                  "3": {
                    "positive": 0.01,
                    "neutral": 0.17,
                    "negative": 0.83
                  },
                  "4": [
                    {
                      "sentiment": "negative",
                      "confidenceScores": {
                        "positive": 0.01,
                        "neutral": 0.17,
                        "negative": 0.83
                      },
                      "text": "I kept looking at the time and it had soon become 35 minutes, yet still no food.",
                      "offset": 0,
                      "length": 80
                    }
                  ],
                  "5": []
                },
                {
                  "0": "I have been to very few places to eat that under no circumstances would I ever return to, and this tops the list.",
                  "1": "negative",
                  "3": {
                    "positive": 0.39,
                    "neutral": 0.11,
                    "negative": 0.5
                  },
                  "4": [
                    {
                      "sentiment": "negative",
                      "confidenceScores": {
                        "positive": 0.39,
                        "neutral": 0.11,
                        "negative": 0.5
                      },
                      "text": "I have been to very few places to eat that under no circumstances would I ever return to, and this tops the list.",
                      "offset": 0,
                      "length": 113
                    }
                  ],
                  "5": []
                },
                {
                  "0": "We started with the tuna sashimi which was brownish in color and obviously wasn't fresh.",
                  "1": "negative",
                  "3": {
                    "positive": 0,
                    "neutral": 0.04,
                    "negative": 0.95
                  },
                  "4": [
                    {
                      "sentiment": "negative",
                      "confidenceScores": {
                        "positive": 0,
                        "neutral": 0.04,
                        "negative": 0.95
                      },
                      "text": "We started with the tuna sashimi which was brownish in color and obviously wasn't fresh.",
                      "offset": 0,
                      "length": 88
                    }
                  ],
                  "5": []
                },
                {
                  "0": "Food was below average.",
                  "1": "negative",
                  "3": {
                    "positive": 0.01,
                    "neutral": 0.01,
                    "negative": 0.98
                  },
                  "4": [
                    {
                      "sentiment": "negative",
                      "confidenceScores": {
                        "positive": 0.01,
                        "neutral": 0.01,
                        "negative": 0.98
                      },
                      "text": "Food was below average.",
                      "offset": 0,
                      "length": 23
                    }
                  ],
                  "5": []
                },
                {
                  "0": "It sure does beat the nachos at the movies but I would expect a little bit more coming from a restaurant.",
                  "1": "neutral",
                  "3": {
                    "positive": 0.17,
                    "neutral": 0.5,
                    "negative": 0.33
                  },
                  "4": [
                    {
                      "sentiment": "neutral",
                      "confidenceScores": {
                        "positive": 0.17,
                        "neutral": 0.5,
                        "negative": 0.33
                      },
                      "text": "It sure does beat the nachos at the movies but I would expect a little bit more coming from a restaurant.",
                      "offset": 0,
                      "length": 105
                    }
                  ],
                  "5": []
                },
                {
                  "0": "All in all, Ha Long Bay was a bit of a flop.",
                  "1": "negative",
                  "3": {
                    "positive": 0,
                    "neutral": 0,
                    "negative": 0.99
                  },
                  "4": [
                    {
                      "sentiment": "negative",
                      "confidenceScores": {
                        "positive": 0,
                        "neutral": 0,
                        "negative": 0.99
                      },
                      "text": "All in all, Ha Long Bay was a bit of a flop.",
                      "offset": 0,
                      "length": 44
                    }
                  ],
                  "5": []
                },
                {
                  "0": "The problem I have is that they charge $11.99 for a sandwich that is no bigger than a Subway sub (which offers better and more amount of vegetables).",
                  "1": "negative",
                  "3": {
                    "positive": 0.03,
                    "neutral": 0.03,
                    "negative": 0.94
                  },
                  "4": [
                    {
                      "sentiment": "negative",
                      "confidenceScores": {
                        "positive": 0.03,
                        "neutral": 0.03,
                        "negative": 0.94
                      },
                      "text": "The problem I have is that they charge $11.99 for a sandwich that is no bigger than a Subway sub (which offers better and more amount of vegetables).",
                      "offset": 0,
                      "length": 149
                    }
                  ],
                  "5": []
                },
                {
                  "0": "Shrimp- When I unwrapped it (I live only 1/2 a mile from Brushfire) it was literally ice cold.",
                  "1": "negative",
                  "3": {
                    "positive": 0.02,
                    "neutral": 0.21,
                    "negative": 0.77
                  },
                  "4": [
                    {
                      "sentiment": "negative",
                      "confidenceScores": {
                        "positive": 0.02,
                        "neutral": 0.21,
                        "negative": 0.77
                      },
                      "text": "Shrimp- When I unwrapped it (I live only 1/2 a mile from Brushfire) it was literally ice cold.",
                      "offset": 0,
                      "length": 94
                    }
                  ],
                  "5": []
                },
                {
                  "0": "It lacked flavor, seemed undercooked, and dry.",
                  "1": "negative",
                  "3": {
                    "positive": 0,
                    "neutral": 0,
                    "negative": 1
                  },
                  "4": [
                    {
                      "sentiment": "negative",
                      "confidenceScores": {
                        "positive": 0,
                        "neutral": 0,
                        "negative": 1
                      },
                      "text": "It lacked flavor, seemed undercooked, and dry.",
                      "offset": 0,
                      "length": 46
                    }
                  ],
                  "5": []
                },
                {
                  "0": "It really is impressive that the place hasn't closed down.",
                  "1": "positive",
                  "3": {
                    "positive": 0.92,
                    "neutral": 0.04,
                    "negative": 0.04
                  },
                  "4": [
                    {
                      "sentiment": "positive",
                      "confidenceScores": {
                        "positive": 0.92,
                        "neutral": 0.04,
                        "negative": 0.04
                      },
                      "text": "It really is impressive that the place hasn't closed down.",
                      "offset": 0,
                      "length": 58
                    }
                  ],
                  "5": []
                },
                {
                  "0": "I would avoid this place if you are staying in the Mirage.",
                  "1": "negative",
                  "3": {
                    "positive": 0.02,
                    "neutral": 0.08,
                    "negative": 0.91
                  },
                  "4": [
                    {
                      "sentiment": "negative",
                      "confidenceScores": {
                        "positive": 0.02,
                        "neutral": 0.08,
                        "negative": 0.91
                      },
                      "text": "I would avoid this place if you are staying in the Mirage.",
                      "offset": 0,
                      "length": 58
                    }
                  ],
                  "5": []
                },
                {
                  "0": "The refried beans that came with my meal were dried out and crusty and the food was bland.",
                  "1": "negative",
                  "3": {
                    "positive": 0,
                    "neutral": 0,
                    "negative": 0.99
                  },
                  "4": [
                    {
                      "sentiment": "negative",
                      "confidenceScores": {
                        "positive": 0,
                        "neutral": 0,
                        "negative": 0.99
                      },
                      "text": "The refried beans that came with my meal were dried out and crusty and the food was bland.",
                      "offset": 0,
                      "length": 90
                    }
                  ],
                  "5": []
                },
                {
                  "0": "Spend your money and time some place else.",
                  "1": "neutral",
                  "3": {
                    "positive": 0.09,
                    "neutral": 0.89,
                    "negative": 0.02
                  },
                  "4": [
                    {
                      "sentiment": "neutral",
                      "confidenceScores": {
                        "positive": 0.09,
                        "neutral": 0.89,
                        "negative": 0.02
                      },
                      "text": "Spend your money and time some place else.",
                      "offset": 0,
                      "length": 42
                    }
                  ],
                  "5": []
                },
                {
                  "0": "A lady at the table next to us found a live green caterpillar In her salad.",
                  "1": "neutral",
                  "3": {
                    "positive": 0.04,
                    "neutral": 0.92,
                    "negative": 0.04
                  },
                  "4": [
                    {
                      "sentiment": "neutral",
                      "confidenceScores": {
                        "positive": 0.04,
                        "neutral": 0.92,
                        "negative": 0.04
                      },
                      "text": "A lady at the table next to us found a live green caterpillar In her salad.",
                      "offset": 0,
                      "length": 75
                    }
                  ],
                  "5": []
                },
                {
                  "0": "the presentation of the food was awful.",
                  "1": "negative",
                  "3": {
                    "positive": 0,
                    "neutral": 0,
                    "negative": 0.99
                  },
                  "4": [
                    {
                      "sentiment": "negative",
                      "confidenceScores": {
                        "positive": 0,
                        "neutral": 0,
                        "negative": 0.99
                      },
                      "text": "the presentation of the food was awful.",
                      "offset": 0,
                      "length": 39
                    }
                  ],
                  "5": []
                },
                {
                  "0": "I can't tell you how disappointed I was.",
                  "1": "negative",
                  "3": {
                    "positive": 0,
                    "neutral": 0,
                    "negative": 0.99
                  },
                  "4": [
                    {
                      "sentiment": "negative",
                      "confidenceScores": {
                        "positive": 0,
                        "neutral": 0,
                        "negative": 0.99
                      },
                      "text": "I can't tell you how disappointed I was.",
                      "offset": 0,
                      "length": 40
                    }
                  ],
                  "5": []
                },
                {
                  "0": "I think food should have flavor and texture and both were lacking.",
                  "1": "negative",
                  "3": {
                    "positive": 0,
                    "neutral": 0.01,
                    "negative": 0.99
                  },
                  "4": [
                    {
                      "sentiment": "negative",
                      "confidenceScores": {
                        "positive": 0,
                        "neutral": 0.01,
                        "negative": 0.99
                      },
                      "text": "I think food should have flavor and texture and both were lacking.",
                      "offset": 0,
                      "length": 66
                    }
                  ],
                  "5": []
                },
                {
                  "0": "Appetite instantly gone.",
                  "1": "negative",
                  "3": {
                    "positive": 0.1,
                    "neutral": 0.26,
                    "negative": 0.64
                  },
                  "4": [
                    {
                      "sentiment": "negative",
                      "confidenceScores": {
                        "positive": 0.1,
                        "neutral": 0.26,
                        "negative": 0.64
                      },
                      "text": "Appetite instantly gone.",
                      "offset": 0,
                      "length": 24
                    }
                  ],
                  "5": []
                },
                {
                  "0": "Overall I was not impressed and would not go back.",
                  "1": "negative",
                  "3": {
                    "positive": 0.01,
                    "neutral": 0.01,
                    "negative": 0.99
                  },
                  "4": [
                    {
                      "sentiment": "negative",
                      "confidenceScores": {
                        "positive": 0.01,
                        "neutral": 0.01,
                        "negative": 0.99
                      },
                      "text": "Overall I was not impressed and would not go back.",
                      "offset": 0,
                      "length": 50
                    }
                  ],
                  "5": []
                },
                {
                  "0": "The whole experience was underwhelming, and I think we'll just go to Ninja Sushi next time.",
                  "1": "negative",
                  "3": {
                    "positive": 0,
                    "neutral": 0,
                    "negative": 0.99
                  },
                  "4": [
                    {
                      "sentiment": "negative",
                      "confidenceScores": {
                        "positive": 0,
                        "neutral": 0,
                        "negative": 0.99
                      },
                      "text": "The whole experience was underwhelming, and I think we'll just go to Ninja Sushi next time.",
                      "offset": 0,
                      "length": 91
                    }
                  ],
                  "5": []
                },
                {
                  "0": "Then, as if I hadn't wasted enough of my life there, they poured salt in the wound by drawing out the time it took to bring the check.",
                  "1": "negative",
                  "3": {
                    "positive": 0,
                    "neutral": 0.01,
                    "negative": 0.99
                  },
                  "4": [
                    {
                      "sentiment": "negative",
                      "confidenceScores": {
                        "positive": 0,
                        "neutral": 0.01,
                        "negative": 0.99
                      },
                      "text": "Then, as if I hadn't wasted enough of my life there, they poured salt in the wound by drawing out the time it took to bring the check.",
                      "offset": 0,
                      "length": 134
                    }
                  ],
                  "5": []
                }
              ],
              "schema": [
                {
                  "key": "0",
                  "name": "value",
                  "type": "string"
                },
                {
                  "key": "1",
                  "name": "sentiment",
                  "type": "string"
                },
                {
                  "key": "2",
                  "name": "statistics",
                  "type": "StructType(StructField(charactersCount,IntegerType,false), StructField(transactionsCount,IntegerType,false))"
                },
                {
                  "key": "3",
                  "name": "confidenceScores",
                  "type": "StructType(StructField(positive,DoubleType,false), StructField(neutral,DoubleType,false), StructField(negative,DoubleType,false))"
                },
                {
                  "key": "4",
                  "name": "sentences",
                  "type": "ArrayType(StructType(StructField(text,StringType,true), StructField(sentiment,StringType,true), StructField(confidenceScores,StructType(StructField(positive,DoubleType,false), StructField(neutral,DoubleType,false), StructField(negative,DoubleType,false)),true), StructField(offset,IntegerType,false), StructField(length,IntegerType,false)),true)"
                },
                {
                  "key": "5",
                  "name": "warnings",
                  "type": "ArrayType(StructType(StructField(code,StringType,true), StructField(message,StringType,true), StructField(targetRef,StringType,true)),true)"
                },
                {
                  "key": "6",
                  "name": "error-message",
                  "type": "string"
                },
                {
                  "key": "7",
                  "name": "error",
                  "type": "StructType(StructField(response,StringType,true), StructField(status,StructType(StructField(protocolVersion,StructType(StructField(protocol,StringType,true), StructField(major,IntegerType,false), StructField(minor,IntegerType,false)),true), StructField(statusCode,IntegerType,false), StructField(reasonPhrase,StringType,true)),true))"
                }
              ],
              "truncated": false
            },
            "isSummary": false,
            "language": "scala"
          },
          "persist_state": {
            "view": {
              "type": "details",
              "tableOptions": {},
              "chartOptions": {
                "chartType": "column",
                "aggregationType": "count",
                "categoryFieldKeys": [
                  "1"
                ],
                "seriesFieldKeys": [
                  "1"
                ],
                "isStacked": true,
                "pivotFieldKey": "1"
              }
            }
          }
        }
      }
    }
  },
  "cells": [
    {
      "cell_type": "code",
      "execution_count": 1,
      "outputs": [
        {
          "output_type": "display_data",
          "data": {
            "application/vnd.livy.statement-meta+json": {
              "spark_pool": "skspark",
              "session_id": 16,
              "statement_id": 2,
              "state": "finished",
              "livy_statement_state": "available",
              "queued_time": "2022-05-13T14:12:06.6789427Z",
              "session_start_time": null,
              "execution_start_time": "2022-05-13T14:13:09.2345204Z",
              "execution_finish_time": "2022-05-13T14:13:34.7752015Z"
            },
            "text/plain": "StatementMeta(skspark, 16, 2, Finished, Available)"
          },
          "metadata": {}
        }
      ],
      "metadata": {
        "jupyter": {
          "source_hidden": false,
          "outputs_hidden": false
        },
        "nteract": {
          "transient": {
            "deleting": false
          }
        },
        "microsoft": {
          "language": "python"
        }
      },
      "source": [
        "%%pyspark\r\n",
        "df = spark.read.load('abfss://users@mahreview.dfs.core.windows.net/synapse/workspaces/skworkspace1/warehouse/yelp.txt', format='text')\r\n",
        "df.write.mode(\"overwrite\").saveAsTable(\"default.yelp\")"
      ]
    },
    {
      "cell_type": "code",
      "execution_count": 2,
      "outputs": [
        {
          "output_type": "display_data",
          "data": {
            "application/vnd.livy.statement-meta+json": {
              "spark_pool": "skspark",
              "session_id": 16,
              "statement_id": 3,
              "state": "finished",
              "livy_statement_state": "available",
              "queued_time": "2022-05-13T14:13:45.3341074Z",
              "session_start_time": null,
              "execution_start_time": "2022-05-13T14:13:45.452844Z",
              "execution_finish_time": "2022-05-13T14:23:30.7779815Z"
            },
            "text/plain": "StatementMeta(skspark, 16, 3, Finished, Available)"
          },
          "metadata": {}
        },
        {
          "output_type": "display_data",
          "data": {
            "application/vnd.synapse.widget-view+json": {
              "widget_id": "30cb1fd4-3ec5-4b68-8539-356e803e63dd",
              "widget_type": "Synapse.DataFrame"
            },
            "text/plain": "SynapseWidget(Synapse.DataFrame, 30cb1fd4-3ec5-4b68-8539-356e803e63dd)"
          },
          "metadata": {}
        }
      ],
      "metadata": {
        "jupyter": {
          "source_hidden": false,
          "outputs_hidden": false
        },
        "nteract": {
          "transient": {
            "deleting": false
          }
        },
        "collapsed": false
      },
      "source": [
        "from mmlspark.cognitive import *\r\n",
        "from notebookutils import mssparkutils\r\n",
        "from pyspark.sql.functions import explode\r\n",
        "\r\n",
        "# Load the data into a Spark DataFrame\r\n",
        "df = spark.sql(\"SELECT * FROM default.yelp\")\r\n",
        "\r\n",
        "sentiment = (TextSentiment()\r\n",
        "    .setLinkedService(\"CognitiveService1\")\r\n",
        "    .setOutputCol(\"output\")\r\n",
        "    .setErrorCol(\"error\")\r\n",
        "    .setLanguage(\"en\")\r\n",
        "    .setTextCol(\"value\"))\r\n",
        "\r\n",
        "results = sentiment.transform(df)\r\n",
        "\r\n",
        "# Show the results\r\n",
        "display(results\\\r\n",
        "    .select(\"value\", explode(\"output\").alias(\"exploded\"), \"error\")\\\r\n",
        "    .select(\"value\", \"exploded.*\", \"error\")\\\r\n",
        "    .limit(1000))"
      ]
    }
  ]
}