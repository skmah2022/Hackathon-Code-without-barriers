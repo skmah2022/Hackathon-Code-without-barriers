{
  "nbformat": 4,
  "nbformat_minor": 2,
  "metadata": {
    "kernelspec": {
      "name": "synapse_pyspark",
      "display_name": "Synapse PySpark"
    },
    "language_info": {
      "name": "python"
    },
    "description": null,
    "save_output": true,
    "synapse_widget": {
      "version": "0.1",
      "state": {
        "c6372abe-8728-4c95-86c8-ec21fc369760": {
          "type": "Synapse.DataFrame",
          "sync_state": {
            "table": {
              "rows": [
                {
                  "0": "A very, very, very slow-moving, aimless movie about a distressed, drifting young man.  ",
                  "1": "negative",
                  "3": {
                    "positive": 0,
                    "neutral": 0,
                    "negative": 0.99
                  },
                  "4": [
                    {
                      "sentiment": "negative",
                      "confidenceScores": {
                        "positive": 0,
                        "neutral": 0,
                        "negative": 0.99
                      },
                      "text": "A very, very, very slow-moving, aimless movie about a distressed, drifting young man.  ",
                      "offset": 0,
                      "length": 87
                    }
                  ],
                  "5": []
                },
                {
                  "0": "Not sure who was more lost - the flat characters or the audience, nearly half of whom walked out.  ",
                  "1": "negative",
                  "3": {
                    "positive": 0,
                    "neutral": 0.01,
                    "negative": 0.99
                  },
                  "4": [
                    {
                      "sentiment": "negative",
                      "confidenceScores": {
                        "positive": 0,
                        "neutral": 0.01,
                        "negative": 0.99
                      },
                      "text": "Not sure who was more lost - the flat characters or the audience, nearly half of whom walked out.  ",
                      "offset": 0,
                      "length": 99
                    }
                  ],
                  "5": []
                },
                {
                  "0": "Attempting artiness with black & white and clever camera angles, the movie disappointed - became even more ridiculous - as the acting was poor and the plot and lines almost non-existent.  ",
                  "1": "negative",
                  "3": {
                    "positive": 0,
                    "neutral": 0,
                    "negative": 1
                  },
                  "4": [
                    {
                      "sentiment": "negative",
                      "confidenceScores": {
                        "positive": 0,
                        "neutral": 0,
                        "negative": 1
                      },
                      "text": "Attempting artiness with black & white and clever camera angles, the movie disappointed - became even more ridiculous - as the acting was poor and the plot and lines almost non-existent.  ",
                      "offset": 0,
                      "length": 188
                    }
                  ],
                  "5": []
                },
                {
                  "0": "Very little music or anything to speak of.  ",
                  "1": "negative",
                  "3": {
                    "positive": 0.01,
                    "neutral": 0.09,
                    "negative": 0.9
                  },
                  "4": [
                    {
                      "sentiment": "negative",
                      "confidenceScores": {
                        "positive": 0.01,
                        "neutral": 0.09,
                        "negative": 0.9
                      },
                      "text": "Very little music or anything to speak of.  ",
                      "offset": 0,
                      "length": 44
                    }
                  ],
                  "5": []
                },
                {
                  "0": "The best scene in the movie was when Gerardo is trying to find a song that keeps running through his head.  ",
                  "1": "positive",
                  "3": {
                    "positive": 0.97,
                    "neutral": 0,
                    "negative": 0.02
                  },
                  "4": [
                    {
                      "sentiment": "positive",
                      "confidenceScores": {
                        "positive": 0.97,
                        "neutral": 0,
                        "negative": 0.02
                      },
                      "text": "The best scene in the movie was when Gerardo is trying to find a song that keeps running through his head.  ",
                      "offset": 0,
                      "length": 108
                    }
                  ],
                  "5": []
                },
                {
                  "0": "The rest of the movie lacks art, charm, meaning... If it's about emptiness, it works I guess because it's empty.  ",
                  "1": "negative",
                  "3": {
                    "positive": 0.01,
                    "neutral": 0.01,
                    "negative": 0.98
                  },
                  "4": [
                    {
                      "sentiment": "negative",
                      "confidenceScores": {
                        "positive": 0.01,
                        "neutral": 0.01,
                        "negative": 0.98
                      },
                      "text": "The rest of the movie lacks art, charm, meaning... ",
                      "offset": 0,
                      "length": 51
                    },
                    {
                      "sentiment": "neutral",
                      "confidenceScores": {
                        "positive": 0.01,
                        "neutral": 0.81,
                        "negative": 0.18
                      },
                      "text": "If it's about emptiness, it works I guess because it's empty.  ",
                      "offset": 51,
                      "length": 63
                    }
                  ],
                  "5": []
                },
                {
                  "0": "Wasted two hours.  ",
                  "1": "negative",
                  "3": {
                    "positive": 0,
                    "neutral": 0,
                    "negative": 0.99
                  },
                  "4": [
                    {
                      "sentiment": "negative",
                      "confidenceScores": {
                        "positive": 0,
                        "neutral": 0,
                        "negative": 0.99
                      },
                      "text": "Wasted two hours.  ",
                      "offset": 0,
                      "length": 19
                    }
                  ],
                  "5": []
                },
                {
                  "0": "Saw the movie today and thought it was a good effort, good messages for kids.  ",
                  "1": "positive",
                  "3": {
                    "positive": 1,
                    "neutral": 0,
                    "negative": 0
                  },
                  "4": [
                    {
                      "sentiment": "positive",
                      "confidenceScores": {
                        "positive": 1,
                        "neutral": 0,
                        "negative": 0
                      },
                      "text": "Saw the movie today and thought it was a good effort, good messages for kids.  ",
                      "offset": 0,
                      "length": 79
                    }
                  ],
                  "5": []
                },
                {
                  "0": "A bit predictable.  ",
                  "1": "neutral",
                  "3": {
                    "positive": 0.12,
                    "neutral": 0.62,
                    "negative": 0.26
                  },
                  "4": [
                    {
                      "sentiment": "neutral",
                      "confidenceScores": {
                        "positive": 0.12,
                        "neutral": 0.62,
                        "negative": 0.26
                      },
                      "text": "A bit predictable.  ",
                      "offset": 0,
                      "length": 20
                    }
                  ],
                  "5": []
                },
                {
                  "0": "Loved the casting of Jimmy Buffet as the science teacher.  ",
                  "1": "positive",
                  "3": {
                    "positive": 1,
                    "neutral": 0,
                    "negative": 0
                  },
                  "4": [
                    {
                      "sentiment": "positive",
                      "confidenceScores": {
                        "positive": 1,
                        "neutral": 0,
                        "negative": 0
                      },
                      "text": "Loved the casting of Jimmy Buffet as the science teacher.  ",
                      "offset": 0,
                      "length": 59
                    }
                  ],
                  "5": []
                },
                {
                  "0": "And those baby owls were adorable.  ",
                  "1": "positive",
                  "3": {
                    "positive": 0.99,
                    "neutral": 0,
                    "negative": 0
                  },
                  "4": [
                    {
                      "sentiment": "positive",
                      "confidenceScores": {
                        "positive": 0.99,
                        "neutral": 0,
                        "negative": 0
                      },
                      "text": "And those baby owls were adorable.  ",
                      "offset": 0,
                      "length": 36
                    }
                  ],
                  "5": []
                },
                {
                  "0": "The movie showed a lot of Florida at it's best, made it look very appealing.  ",
                  "1": "positive",
                  "3": {
                    "positive": 0.99,
                    "neutral": 0,
                    "negative": 0
                  },
                  "4": [
                    {
                      "sentiment": "positive",
                      "confidenceScores": {
                        "positive": 0.99,
                        "neutral": 0,
                        "negative": 0
                      },
                      "text": "The movie showed a lot of Florida at it's best, made it look very appealing.  ",
                      "offset": 0,
                      "length": 78
                    }
                  ],
                  "5": []
                },
                {
                  "0": "The Songs Were The Best And The Muppets Were So Hilarious.  ",
                  "1": "positive",
                  "3": {
                    "positive": 0.99,
                    "neutral": 0,
                    "negative": 0.01
                  },
                  "4": [
                    {
                      "sentiment": "positive",
                      "confidenceScores": {
                        "positive": 0.99,
                        "neutral": 0,
                        "negative": 0.01
                      },
                      "text": "The Songs Were The Best And The Muppets Were So Hilarious.  ",
                      "offset": 0,
                      "length": 60
                    }
                  ],
                  "5": []
                },
                {
                  "0": "It Was So Cool.  ",
                  "1": "positive",
                  "3": {
                    "positive": 0.98,
                    "neutral": 0.01,
                    "negative": 0.01
                  },
                  "4": [
                    {
                      "sentiment": "positive",
                      "confidenceScores": {
                        "positive": 0.98,
                        "neutral": 0.01,
                        "negative": 0.01
                      },
                      "text": "It Was So Cool.  ",
                      "offset": 0,
                      "length": 17
                    }
                  ],
                  "5": []
                },
                {
                  "0": "\"This is a very \"\"right on case\"\" movie that delivers everything almost right in your face.  \"",
                  "1": "positive",
                  "3": {
                    "positive": 0.97,
                    "neutral": 0.01,
                    "negative": 0.01
                  },
                  "4": [
                    {
                      "sentiment": "positive",
                      "confidenceScores": {
                        "positive": 0.97,
                        "neutral": 0.01,
                        "negative": 0.01
                      },
                      "text": "\"This is a very \"\"right on case\"\" movie that delivers everything almost right in your face.  ",
                      "offset": 0,
                      "length": 93
                    },
                    {
                      "sentiment": "neutral",
                      "confidenceScores": {
                        "positive": 0.27,
                        "neutral": 0.59,
                        "negative": 0.14
                      },
                      "text": "\"",
                      "offset": 93,
                      "length": 1
                    }
                  ],
                  "5": []
                },
                {
                  "0": "It had some average acting from the main person, and it was a low budget as you clearly can see.  ",
                  "1": "negative",
                  "3": {
                    "positive": 0.04,
                    "neutral": 0.09,
                    "negative": 0.88
                  },
                  "4": [
                    {
                      "sentiment": "negative",
                      "confidenceScores": {
                        "positive": 0.04,
                        "neutral": 0.09,
                        "negative": 0.88
                      },
                      "text": "It had some average acting from the main person, and it was a low budget as you clearly can see.  ",
                      "offset": 0,
                      "length": 98
                    }
                  ],
                  "5": []
                },
                {
                  "0": "This review is long overdue, since I consider A Tale of Two Sisters to be the single greatest film ever made.  ",
                  "1": "positive",
                  "3": {
                    "positive": 0.95,
                    "neutral": 0.01,
                    "negative": 0.05
                  },
                  "4": [
                    {
                      "sentiment": "positive",
                      "confidenceScores": {
                        "positive": 0.95,
                        "neutral": 0.01,
                        "negative": 0.05
                      },
                      "text": "This review is long overdue, since I consider A Tale of Two Sisters to be the single greatest film ever made.  ",
                      "offset": 0,
                      "length": 111
                    }
                  ],
                  "5": []
                },
                {
                  "0": "I'll put this gem up against any movie in terms of screenplay, cinematography, acting, post-production, editing, directing, or any other aspect of film-making.  ",
                  "1": "neutral",
                  "3": {
                    "positive": 0.1,
                    "neutral": 0.68,
                    "negative": 0.22
                  },
                  "4": [
                    {
                      "sentiment": "neutral",
                      "confidenceScores": {
                        "positive": 0.1,
                        "neutral": 0.68,
                        "negative": 0.22
                      },
                      "text": "I'll put this gem up against any movie in terms of screenplay, cinematography, acting, post-production, editing, directing, or any other aspect of film-making.  ",
                      "offset": 0,
                      "length": 161
                    }
                  ],
                  "5": []
                },
                {
                  "0": "\"It's practically perfect in all of them  a true masterpiece in a sea of faux \"\"masterpieces.  \"",
                  "1": "positive",
                  "3": {
                    "positive": 0.98,
                    "neutral": 0.01,
                    "negative": 0.01
                  },
                  "4": [
                    {
                      "sentiment": "positive",
                      "confidenceScores": {
                        "positive": 0.98,
                        "neutral": 0.01,
                        "negative": 0.01
                      },
                      "text": "\"It's practically perfect in all of them  a true masterpiece in a sea of faux \"\"masterpieces.  ",
                      "offset": 0,
                      "length": 96
                    },
                    {
                      "sentiment": "neutral",
                      "confidenceScores": {
                        "positive": 0.27,
                        "neutral": 0.59,
                        "negative": 0.14
                      },
                      "text": "\"",
                      "offset": 96,
                      "length": 1
                    }
                  ],
                  "5": []
                },
                {
                  "0": "\" The structure of this film is easily the most tightly constructed in the history of cinema.  \t1\"",
                  "1": "positive",
                  "3": {
                    "positive": 0.4,
                    "neutral": 0.38,
                    "negative": 0.22
                  },
                  "4": [
                    {
                      "sentiment": "positive",
                      "confidenceScores": {
                        "positive": 0.4,
                        "neutral": 0.38,
                        "negative": 0.22
                      },
                      "text": "\" The structure of this film is easily the most tightly constructed in the history of cinema.  \t",
                      "offset": 0,
                      "length": 96
                    },
                    {
                      "sentiment": "neutral",
                      "confidenceScores": {
                        "positive": 0.01,
                        "neutral": 0.98,
                        "negative": 0.01
                      },
                      "text": "1\"",
                      "offset": 96,
                      "length": 2
                    }
                  ],
                  "5": []
                },
                {
                  "0": "I can think of no other film where something vitally important occurs every other minute.  ",
                  "1": "negative",
                  "3": {
                    "positive": 0.06,
                    "neutral": 0.19,
                    "negative": 0.75
                  },
                  "4": [
                    {
                      "sentiment": "negative",
                      "confidenceScores": {
                        "positive": 0.06,
                        "neutral": 0.19,
                        "negative": 0.75
                      },
                      "text": "I can think of no other film where something vitally important occurs every other minute.  ",
                      "offset": 0,
                      "length": 91
                    }
                  ],
                  "5": []
                },
                {
                  "0": "In other words, the content level of this film is enough to easily fill a dozen other films.  ",
                  "1": "positive",
                  "3": {
                    "positive": 0.74,
                    "neutral": 0.23,
                    "negative": 0.03
                  },
                  "4": [
                    {
                      "sentiment": "positive",
                      "confidenceScores": {
                        "positive": 0.74,
                        "neutral": 0.23,
                        "negative": 0.03
                      },
                      "text": "In other words, the content level of this film is enough to easily fill a dozen other films.  ",
                      "offset": 0,
                      "length": 94
                    }
                  ],
                  "5": []
                },
                {
                  "0": "How can anyone in their right mind ask for anything more from a movie than this?  ",
                  "1": "negative",
                  "3": {
                    "positive": 0.09,
                    "neutral": 0.17,
                    "negative": 0.74
                  },
                  "4": [
                    {
                      "sentiment": "negative",
                      "confidenceScores": {
                        "positive": 0.09,
                        "neutral": 0.17,
                        "negative": 0.74
                      },
                      "text": "How can anyone in their right mind ask for anything more from a movie than this?  ",
                      "offset": 0,
                      "length": 82
                    }
                  ],
                  "5": []
                },
                {
                  "0": "It's quite simply the highest, most superlative form of cinema imaginable.  ",
                  "1": "positive",
                  "3": {
                    "positive": 0.87,
                    "neutral": 0.09,
                    "negative": 0.04
                  },
                  "4": [
                    {
                      "sentiment": "positive",
                      "confidenceScores": {
                        "positive": 0.87,
                        "neutral": 0.09,
                        "negative": 0.04
                      },
                      "text": "It's quite simply the highest, most superlative form of cinema imaginable.  ",
                      "offset": 0,
                      "length": 76
                    }
                  ],
                  "5": []
                },
                {
                  "0": "Yes, this film does require a rather significant amount of puzzle-solving, but the pieces fit together to create a beautiful picture.  ",
                  "1": "positive",
                  "3": {
                    "positive": 0.99,
                    "neutral": 0.01,
                    "negative": 0.01
                  },
                  "4": [
                    {
                      "sentiment": "positive",
                      "confidenceScores": {
                        "positive": 0.99,
                        "neutral": 0.01,
                        "negative": 0.01
                      },
                      "text": "Yes, this film does require a rather significant amount of puzzle-solving, but the pieces fit together to create a beautiful picture.  ",
                      "offset": 0,
                      "length": 135
                    }
                  ],
                  "5": []
                },
                {
                  "0": "This short film certainly pulls no punches.  ",
                  "1": "negative",
                  "3": {
                    "positive": 0.26,
                    "neutral": 0.11,
                    "negative": 0.63
                  },
                  "4": [
                    {
                      "sentiment": "negative",
                      "confidenceScores": {
                        "positive": 0.26,
                        "neutral": 0.11,
                        "negative": 0.63
                      },
                      "text": "This short film certainly pulls no punches.  ",
                      "offset": 0,
                      "length": 45
                    }
                  ],
                  "5": []
                },
                {
                  "0": "Graphics is far from the best part of the game.  ",
                  "1": "negative",
                  "3": {
                    "positive": 0.06,
                    "neutral": 0.01,
                    "negative": 0.94
                  },
                  "4": [
                    {
                      "sentiment": "negative",
                      "confidenceScores": {
                        "positive": 0.06,
                        "neutral": 0.01,
                        "negative": 0.94
                      },
                      "text": "Graphics is far from the best part of the game.  ",
                      "offset": 0,
                      "length": 49
                    }
                  ],
                  "5": []
                },
                {
                  "0": "This is the number one best TH game in the series.  ",
                  "1": "positive",
                  "3": {
                    "positive": 0.99,
                    "neutral": 0,
                    "negative": 0.01
                  },
                  "4": [
                    {
                      "sentiment": "positive",
                      "confidenceScores": {
                        "positive": 0.99,
                        "neutral": 0,
                        "negative": 0.01
                      },
                      "text": "This is the number one best TH game in the series.  ",
                      "offset": 0,
                      "length": 52
                    }
                  ],
                  "5": []
                },
                {
                  "0": "It deserves strong love.  ",
                  "1": "positive",
                  "3": {
                    "positive": 0.98,
                    "neutral": 0.01,
                    "negative": 0.01
                  },
                  "4": [
                    {
                      "sentiment": "positive",
                      "confidenceScores": {
                        "positive": 0.98,
                        "neutral": 0.01,
                        "negative": 0.01
                      },
                      "text": "It deserves strong love.  ",
                      "offset": 0,
                      "length": 26
                    }
                  ],
                  "5": []
                },
                {
                  "0": "It is an insane game.  ",
                  "1": "negative",
                  "3": {
                    "positive": 0.01,
                    "neutral": 0.01,
                    "negative": 0.99
                  },
                  "4": [
                    {
                      "sentiment": "negative",
                      "confidenceScores": {
                        "positive": 0.01,
                        "neutral": 0.01,
                        "negative": 0.99
                      },
                      "text": "It is an insane game.  ",
                      "offset": 0,
                      "length": 23
                    }
                  ],
                  "5": []
                },
                {
                  "0": "There are massive levels, massive unlockable characters... it's just a massive game.  ",
                  "1": "neutral",
                  "3": {
                    "positive": 0.14,
                    "neutral": 0.72,
                    "negative": 0.14
                  },
                  "4": [
                    {
                      "sentiment": "neutral",
                      "confidenceScores": {
                        "positive": 0.14,
                        "neutral": 0.81,
                        "negative": 0.05
                      },
                      "text": "There are massive levels, massive unlockable characters... ",
                      "offset": 0,
                      "length": 59
                    },
                    {
                      "sentiment": "neutral",
                      "confidenceScores": {
                        "positive": 0.14,
                        "neutral": 0.64,
                        "negative": 0.23
                      },
                      "text": "it's just a massive game.  ",
                      "offset": 59,
                      "length": 27
                    }
                  ],
                  "5": []
                },
                {
                  "0": "Waste your money on this game.  ",
                  "1": "negative",
                  "3": {
                    "positive": 0.01,
                    "neutral": 0.01,
                    "negative": 0.99
                  },
                  "4": [
                    {
                      "sentiment": "negative",
                      "confidenceScores": {
                        "positive": 0.01,
                        "neutral": 0.01,
                        "negative": 0.99
                      },
                      "text": "Waste your money on this game.  ",
                      "offset": 0,
                      "length": 32
                    }
                  ],
                  "5": []
                },
                {
                  "0": "This is the kind of money that is wasted properly.  ",
                  "1": "negative",
                  "3": {
                    "positive": 0.01,
                    "neutral": 0.01,
                    "negative": 0.99
                  },
                  "4": [
                    {
                      "sentiment": "negative",
                      "confidenceScores": {
                        "positive": 0.01,
                        "neutral": 0.01,
                        "negative": 0.99
                      },
                      "text": "This is the kind of money that is wasted properly.  ",
                      "offset": 0,
                      "length": 52
                    }
                  ],
                  "5": []
                },
                {
                  "0": "Actually, the graphics were good at the time.  ",
                  "1": "positive",
                  "3": {
                    "positive": 0.99,
                    "neutral": 0,
                    "negative": 0.01
                  },
                  "4": [
                    {
                      "sentiment": "positive",
                      "confidenceScores": {
                        "positive": 0.99,
                        "neutral": 0,
                        "negative": 0.01
                      },
                      "text": "Actually, the graphics were good at the time.  ",
                      "offset": 0,
                      "length": 47
                    }
                  ],
                  "5": []
                },
                {
                  "0": "Today the graphics are crap.  ",
                  "1": "negative",
                  "3": {
                    "positive": 0,
                    "neutral": 0.01,
                    "negative": 0.99
                  },
                  "4": [
                    {
                      "sentiment": "negative",
                      "confidenceScores": {
                        "positive": 0,
                        "neutral": 0.01,
                        "negative": 0.99
                      },
                      "text": "Today the graphics are crap.  ",
                      "offset": 0,
                      "length": 30
                    }
                  ],
                  "5": []
                },
                {
                  "0": "As they say in Canada, This is the fun game, aye.  ",
                  "1": "positive",
                  "3": {
                    "positive": 0.96,
                    "neutral": 0.03,
                    "negative": 0.01
                  },
                  "4": [
                    {
                      "sentiment": "positive",
                      "confidenceScores": {
                        "positive": 0.96,
                        "neutral": 0.03,
                        "negative": 0.01
                      },
                      "text": "As they say in Canada, This is the fun game, aye.  ",
                      "offset": 0,
                      "length": 51
                    }
                  ],
                  "5": []
                },
                {
                  "0": "This game rocks.  ",
                  "1": "negative",
                  "3": {
                    "positive": 0.2,
                    "neutral": 0.14,
                    "negative": 0.66
                  },
                  "4": [
                    {
                      "sentiment": "negative",
                      "confidenceScores": {
                        "positive": 0.2,
                        "neutral": 0.14,
                        "negative": 0.66
                      },
                      "text": "This game rocks.  ",
                      "offset": 0,
                      "length": 18
                    }
                  ],
                  "5": []
                },
                {
                  "0": "Buy it, play it, enjoy it, love it.  ",
                  "1": "positive",
                  "3": {
                    "positive": 0.99,
                    "neutral": 0,
                    "negative": 0
                  },
                  "4": [
                    {
                      "sentiment": "positive",
                      "confidenceScores": {
                        "positive": 0.99,
                        "neutral": 0,
                        "negative": 0
                      },
                      "text": "Buy it, play it, enjoy it, love it.  ",
                      "offset": 0,
                      "length": 37
                    }
                  ],
                  "5": []
                },
                {
                  "0": "It's PURE BRILLIANCE.  ",
                  "1": "neutral",
                  "3": {
                    "positive": 0.42,
                    "neutral": 0.53,
                    "negative": 0.05
                  },
                  "4": [
                    {
                      "sentiment": "neutral",
                      "confidenceScores": {
                        "positive": 0.42,
                        "neutral": 0.53,
                        "negative": 0.05
                      },
                      "text": "It's PURE BRILLIANCE.  ",
                      "offset": 0,
                      "length": 23
                    }
                  ],
                  "5": []
                },
                {
                  "0": "This was a flick doomed from its conception.  ",
                  "1": "negative",
                  "3": {
                    "positive": 0,
                    "neutral": 0,
                    "negative": 0.99
                  },
                  "4": [
                    {
                      "sentiment": "negative",
                      "confidenceScores": {
                        "positive": 0,
                        "neutral": 0,
                        "negative": 0.99
                      },
                      "text": "This was a flick doomed from its conception.  ",
                      "offset": 0,
                      "length": 46
                    }
                  ],
                  "5": []
                },
                {
                  "0": "The very idea of it was lame - take a minor character from a mediocre PG-13 film, and make a complete non-sequel while changing its tone to a PG-rated family movie.  ",
                  "1": "negative",
                  "3": {
                    "positive": 0,
                    "neutral": 0,
                    "negative": 0.99
                  },
                  "4": [
                    {
                      "sentiment": "negative",
                      "confidenceScores": {
                        "positive": 0,
                        "neutral": 0,
                        "negative": 0.99
                      },
                      "text": "The very idea of it was lame - take a minor character from a mediocre PG-13 film, and make a complete non-sequel while changing its tone to a PG-rated family movie.  ",
                      "offset": 0,
                      "length": 166
                    }
                  ],
                  "5": []
                },
                {
                  "0": "I wasn't the least bit interested.  ",
                  "1": "negative",
                  "3": {
                    "positive": 0.06,
                    "neutral": 0.47,
                    "negative": 0.47
                  },
                  "4": [
                    {
                      "sentiment": "negative",
                      "confidenceScores": {
                        "positive": 0.06,
                        "neutral": 0.47,
                        "negative": 0.47
                      },
                      "text": "I wasn't the least bit interested.  ",
                      "offset": 0,
                      "length": 36
                    }
                  ],
                  "5": []
                },
                {
                  "0": "\"Not only did it only confirm that the film would be unfunny and generic, but it also managed to give away the ENTIRE movie; and I'm not exaggerating - every moment, every plot point, every joke is told in the trailer.  \"",
                  "1": "negative",
                  "3": {
                    "positive": 0.11,
                    "neutral": 0.09,
                    "negative": 0.8
                  },
                  "4": [
                    {
                      "sentiment": "negative",
                      "confidenceScores": {
                        "positive": 0.04,
                        "neutral": 0.01,
                        "negative": 0.95
                      },
                      "text": "\"Not only did it only confirm that the film would be unfunny and generic, but it also managed to give away the ENTIRE movie; ",
                      "offset": 0,
                      "length": 125
                    },
                    {
                      "sentiment": "negative",
                      "confidenceScores": {
                        "positive": 0.18,
                        "neutral": 0.18,
                        "negative": 0.64
                      },
                      "text": "and I'm not exaggerating - every moment, every plot point, every joke is told in the trailer.  ",
                      "offset": 125,
                      "length": 95
                    },
                    {
                      "sentiment": "neutral",
                      "confidenceScores": {
                        "positive": 0.27,
                        "neutral": 0.59,
                        "negative": 0.14
                      },
                      "text": "\"",
                      "offset": 220,
                      "length": 1
                    }
                  ],
                  "5": []
                },
                {
                  "0": "But it's just not funny.  ",
                  "1": "negative",
                  "3": {
                    "positive": 0.01,
                    "neutral": 0.04,
                    "negative": 0.95
                  },
                  "4": [
                    {
                      "sentiment": "negative",
                      "confidenceScores": {
                        "positive": 0.01,
                        "neutral": 0.04,
                        "negative": 0.95
                      },
                      "text": "But it's just not funny.  ",
                      "offset": 0,
                      "length": 26
                    }
                  ],
                  "5": []
                },
                {
                  "0": "But even the talented Carrell can't save this.  ",
                  "1": "negative",
                  "3": {
                    "positive": 0.21,
                    "neutral": 0.14,
                    "negative": 0.65
                  },
                  "4": [
                    {
                      "sentiment": "negative",
                      "confidenceScores": {
                        "positive": 0.21,
                        "neutral": 0.14,
                        "negative": 0.65
                      },
                      "text": "But even the talented Carrell can't save this.  ",
                      "offset": 0,
                      "length": 48
                    }
                  ],
                  "5": []
                },
                {
                  "0": "His co-stars don't fare much better, with people like Morgan Freeman, Jonah Hill, and Ed Helms just wasted.  ",
                  "1": "negative",
                  "3": {
                    "positive": 0,
                    "neutral": 0,
                    "negative": 0.99
                  },
                  "4": [
                    {
                      "sentiment": "negative",
                      "confidenceScores": {
                        "positive": 0,
                        "neutral": 0,
                        "negative": 0.99
                      },
                      "text": "His co-stars don't fare much better, with people like Morgan Freeman, Jonah Hill, and Ed Helms just wasted.  ",
                      "offset": 0,
                      "length": 109
                    }
                  ],
                  "5": []
                },
                {
                  "0": "The story itself is just predictable and lazy.  ",
                  "1": "negative",
                  "3": {
                    "positive": 0,
                    "neutral": 0,
                    "negative": 0.99
                  },
                  "4": [
                    {
                      "sentiment": "negative",
                      "confidenceScores": {
                        "positive": 0,
                        "neutral": 0,
                        "negative": 0.99
                      },
                      "text": "The story itself is just predictable and lazy.  ",
                      "offset": 0,
                      "length": 48
                    }
                  ],
                  "5": []
                },
                {
                  "0": "The only real effects work is the presence of all the animals, and the integration of those into the scenes is some of the worst and most obvious blue/green-screen work I've ever seen.  ",
                  "1": "negative",
                  "3": {
                    "positive": 0,
                    "neutral": 0,
                    "negative": 0.99
                  },
                  "4": [
                    {
                      "sentiment": "negative",
                      "confidenceScores": {
                        "positive": 0,
                        "neutral": 0,
                        "negative": 0.99
                      },
                      "text": "The only real effects work is the presence of all the animals, and the integration of those into the scenes is some of the worst and most obvious blue/green-screen work I've ever seen.  ",
                      "offset": 0,
                      "length": 186
                    }
                  ],
                  "5": []
                },
                {
                  "0": "But whatever it was that cost them so much, it didn't translate to quality, that's for sure.  ",
                  "1": "negative",
                  "3": {
                    "positive": 0.01,
                    "neutral": 0.03,
                    "negative": 0.97
                  },
                  "4": [
                    {
                      "sentiment": "negative",
                      "confidenceScores": {
                        "positive": 0.01,
                        "neutral": 0.03,
                        "negative": 0.97
                      },
                      "text": "But whatever it was that cost them so much, it didn't translate to quality, that's for sure.  ",
                      "offset": 0,
                      "length": 94
                    }
                  ],
                  "5": []
                },
                {
                  "0": "The film succeeds despite, or perhaps because of, an obviously meagre budget.  ",
                  "1": "negative",
                  "3": {
                    "positive": 0.05,
                    "neutral": 0.03,
                    "negative": 0.92
                  },
                  "4": [
                    {
                      "sentiment": "negative",
                      "confidenceScores": {
                        "positive": 0.05,
                        "neutral": 0.03,
                        "negative": 0.92
                      },
                      "text": "The film succeeds despite, or perhaps because of, an obviously meagre budget.  ",
                      "offset": 0,
                      "length": 79
                    }
                  ],
                  "5": []
                },
                {
                  "0": "I'm glad the film didn't go for the most obvious choice, as a lesser film certainly would have.  ",
                  "1": "positive",
                  "3": {
                    "positive": 0.69,
                    "neutral": 0.01,
                    "negative": 0.29
                  },
                  "4": [
                    {
                      "sentiment": "positive",
                      "confidenceScores": {
                        "positive": 0.69,
                        "neutral": 0.01,
                        "negative": 0.29
                      },
                      "text": "I'm glad the film didn't go for the most obvious choice, as a lesser film certainly would have.  ",
                      "offset": 0,
                      "length": 97
                    }
                  ],
                  "5": []
                },
                {
                  "0": "In addition to having one of the most lovely songs ever written, French Cancan also boasts one of the cutest leading ladies ever to grace the screen.  ",
                  "1": "positive",
                  "3": {
                    "positive": 0.99,
                    "neutral": 0.01,
                    "negative": 0
                  },
                  "4": [
                    {
                      "sentiment": "positive",
                      "confidenceScores": {
                        "positive": 0.99,
                        "neutral": 0.01,
                        "negative": 0
                      },
                      "text": "In addition to having one of the most lovely songs ever written, French Cancan also boasts one of the cutest leading ladies ever to grace the screen.  ",
                      "offset": 0,
                      "length": 151
                    }
                  ],
                  "5": []
                },
                {
                  "0": "It's hard not to fall head-over-heels in love with that girl.  ",
                  "1": "negative",
                  "3": {
                    "positive": 0.39,
                    "neutral": 0.01,
                    "negative": 0.6
                  },
                  "4": [
                    {
                      "sentiment": "negative",
                      "confidenceScores": {
                        "positive": 0.39,
                        "neutral": 0.01,
                        "negative": 0.6
                      },
                      "text": "It's hard not to fall head-over-heels in love with that girl.  ",
                      "offset": 0,
                      "length": 63
                    }
                  ],
                  "5": []
                },
                {
                  "0": "On the negative, it's insipid enough to cause regret for another 2 hours of life wasted in front of the screen.  ",
                  "1": "negative",
                  "3": {
                    "positive": 0,
                    "neutral": 0,
                    "negative": 1
                  },
                  "4": [
                    {
                      "sentiment": "negative",
                      "confidenceScores": {
                        "positive": 0,
                        "neutral": 0,
                        "negative": 1
                      },
                      "text": "On the negative, it's insipid enough to cause regret for another 2 hours of life wasted in front of the screen.  ",
                      "offset": 0,
                      "length": 113
                    }
                  ],
                  "5": []
                },
                {
                  "0": "Long, whiny and pointless.  ",
                  "1": "negative",
                  "3": {
                    "positive": 0.01,
                    "neutral": 0.01,
                    "negative": 0.98
                  },
                  "4": [
                    {
                      "sentiment": "negative",
                      "confidenceScores": {
                        "positive": 0.01,
                        "neutral": 0.01,
                        "negative": 0.98
                      },
                      "text": "Long, whiny and pointless.  ",
                      "offset": 0,
                      "length": 28
                    }
                  ],
                  "5": []
                },
                {
                  "0": "But I recommend waiting for their future efforts, let this one go.  ",
                  "1": "positive",
                  "3": {
                    "positive": 0.84,
                    "neutral": 0.05,
                    "negative": 0.11
                  },
                  "4": [
                    {
                      "sentiment": "positive",
                      "confidenceScores": {
                        "positive": 0.84,
                        "neutral": 0.05,
                        "negative": 0.11
                      },
                      "text": "But I recommend waiting for their future efforts, let this one go.  ",
                      "offset": 0,
                      "length": 68
                    }
                  ],
                  "5": []
                },
                {
                  "0": "Excellent cast, story line, performances.  ",
                  "1": "positive",
                  "3": {
                    "positive": 1,
                    "neutral": 0,
                    "negative": 0
                  },
                  "4": [
                    {
                      "sentiment": "positive",
                      "confidenceScores": {
                        "positive": 1,
                        "neutral": 0,
                        "negative": 0
                      },
                      "text": "Excellent cast, story line, performances.  ",
                      "offset": 0,
                      "length": 43
                    }
                  ],
                  "5": []
                },
                {
                  "0": "Totally believable.  ",
                  "1": "positive",
                  "3": {
                    "positive": 0.78,
                    "neutral": 0.17,
                    "negative": 0.05
                  },
                  "4": [
                    {
                      "sentiment": "positive",
                      "confidenceScores": {
                        "positive": 0.78,
                        "neutral": 0.17,
                        "negative": 0.05
                      },
                      "text": "Totally believable.  ",
                      "offset": 0,
                      "length": 21
                    }
                  ],
                  "5": []
                },
                {
                  "0": "Anne Heche was utterly convincing.  ",
                  "1": "positive",
                  "3": {
                    "positive": 0.92,
                    "neutral": 0.03,
                    "negative": 0.05
                  },
                  "4": [
                    {
                      "sentiment": "positive",
                      "confidenceScores": {
                        "positive": 0.92,
                        "neutral": 0.03,
                        "negative": 0.05
                      },
                      "text": "Anne Heche was utterly convincing.  ",
                      "offset": 0,
                      "length": 36
                    }
                  ],
                  "5": []
                },
                {
                  "0": "Sam Shepard's portrayal of a gung ho Marine was sobering.  ",
                  "1": "negative",
                  "3": {
                    "positive": 0.31,
                    "neutral": 0.21,
                    "negative": 0.49
                  },
                  "4": [
                    {
                      "sentiment": "negative",
                      "confidenceScores": {
                        "positive": 0.31,
                        "neutral": 0.21,
                        "negative": 0.49
                      },
                      "text": "Sam Shepard's portrayal of a gung ho Marine was sobering.  ",
                      "offset": 0,
                      "length": 59
                    }
                  ],
                  "5": []
                },
                {
                  "0": "I sat riveted to the TV screen.  ",
                  "1": "neutral",
                  "3": {
                    "positive": 0.01,
                    "neutral": 0.93,
                    "negative": 0.07
                  },
                  "4": [
                    {
                      "sentiment": "neutral",
                      "confidenceScores": {
                        "positive": 0.01,
                        "neutral": 0.93,
                        "negative": 0.07
                      },
                      "text": "I sat riveted to the TV screen.  ",
                      "offset": 0,
                      "length": 33
                    }
                  ],
                  "5": []
                },
                {
                  "0": "All in all I give this one a resounding 9 out of 10.  ",
                  "1": "positive",
                  "3": {
                    "positive": 0.84,
                    "neutral": 0.11,
                    "negative": 0.04
                  },
                  "4": [
                    {
                      "sentiment": "positive",
                      "confidenceScores": {
                        "positive": 0.84,
                        "neutral": 0.11,
                        "negative": 0.04
                      },
                      "text": "All in all I give this one a resounding 9 out of 10.  ",
                      "offset": 0,
                      "length": 54
                    }
                  ],
                  "5": []
                },
                {
                  "0": "I do think Tom Hanks is a good actor.  ",
                  "1": "positive",
                  "3": {
                    "positive": 0.99,
                    "neutral": 0.01,
                    "negative": 0.01
                  },
                  "4": [
                    {
                      "sentiment": "positive",
                      "confidenceScores": {
                        "positive": 0.99,
                        "neutral": 0.01,
                        "negative": 0.01
                      },
                      "text": "I do think Tom Hanks is a good actor.  ",
                      "offset": 0,
                      "length": 39
                    }
                  ],
                  "5": []
                },
                {
                  "0": "I enjoyed reading this book to my children when they were little.  ",
                  "1": "positive",
                  "3": {
                    "positive": 1,
                    "neutral": 0,
                    "negative": 0
                  },
                  "4": [
                    {
                      "sentiment": "positive",
                      "confidenceScores": {
                        "positive": 1,
                        "neutral": 0,
                        "negative": 0
                      },
                      "text": "I enjoyed reading this book to my children when they were little.  ",
                      "offset": 0,
                      "length": 67
                    }
                  ],
                  "5": []
                },
                {
                  "0": "I was very disappointed in the movie.  ",
                  "1": "negative",
                  "3": {
                    "positive": 0,
                    "neutral": 0,
                    "negative": 0.99
                  },
                  "4": [
                    {
                      "sentiment": "negative",
                      "confidenceScores": {
                        "positive": 0,
                        "neutral": 0,
                        "negative": 0.99
                      },
                      "text": "I was very disappointed in the movie.  ",
                      "offset": 0,
                      "length": 39
                    }
                  ],
                  "5": []
                },
                {
                  "0": "One character is totally annoying with a voice that gives me the feeling of fingernails on a chalkboard.  ",
                  "1": "negative",
                  "3": {
                    "positive": 0,
                    "neutral": 0,
                    "negative": 0.99
                  },
                  "4": [
                    {
                      "sentiment": "negative",
                      "confidenceScores": {
                        "positive": 0,
                        "neutral": 0,
                        "negative": 0.99
                      },
                      "text": "One character is totally annoying with a voice that gives me the feeling of fingernails on a chalkboard.  ",
                      "offset": 0,
                      "length": 106
                    }
                  ],
                  "5": []
                },
                {
                  "0": "There is a totally unnecessary train/roller coaster scene.  ",
                  "1": "negative",
                  "3": {
                    "positive": 0,
                    "neutral": 0.01,
                    "negative": 0.99
                  },
                  "4": [
                    {
                      "sentiment": "negative",
                      "confidenceScores": {
                        "positive": 0,
                        "neutral": 0.01,
                        "negative": 0.99
                      },
                      "text": "There is a totally unnecessary train/roller coaster scene.  ",
                      "offset": 0,
                      "length": 60
                    }
                  ],
                  "5": []
                },
                {
                  "0": "There was absolutely no warmth or charm to these scenes or characters.  ",
                  "1": "negative",
                  "3": {
                    "positive": 0.01,
                    "neutral": 0.01,
                    "negative": 0.99
                  },
                  "4": [
                    {
                      "sentiment": "negative",
                      "confidenceScores": {
                        "positive": 0.01,
                        "neutral": 0.01,
                        "negative": 0.99
                      },
                      "text": "There was absolutely no warmth or charm to these scenes or characters.  ",
                      "offset": 0,
                      "length": 72
                    }
                  ],
                  "5": []
                },
                {
                  "0": "This movie totally grates on my nerves.  ",
                  "1": "positive",
                  "3": {
                    "positive": 0.69,
                    "neutral": 0.02,
                    "negative": 0.29
                  },
                  "4": [
                    {
                      "sentiment": "positive",
                      "confidenceScores": {
                        "positive": 0.69,
                        "neutral": 0.02,
                        "negative": 0.29
                      },
                      "text": "This movie totally grates on my nerves.  ",
                      "offset": 0,
                      "length": 41
                    }
                  ],
                  "5": []
                },
                {
                  "0": "The performances are not improved by improvisation, because the actors now have twice as much to worry about: not only whether they're delivering the line well, but whether the line itself is any good.  ",
                  "1": "negative",
                  "3": {
                    "positive": 0.08,
                    "neutral": 0.01,
                    "negative": 0.91
                  },
                  "4": [
                    {
                      "sentiment": "negative",
                      "confidenceScores": {
                        "positive": 0.08,
                        "neutral": 0.01,
                        "negative": 0.91
                      },
                      "text": "The performances are not improved by improvisation, because the actors now have twice as much to worry about: not only whether they're delivering the line well, but whether the line itself is any good.  ",
                      "offset": 0,
                      "length": 203
                    }
                  ],
                  "5": []
                },
                {
                  "0": "And, quite honestly, often its not very good.  ",
                  "1": "negative",
                  "3": {
                    "positive": 0,
                    "neutral": 0.01,
                    "negative": 0.99
                  },
                  "4": [
                    {
                      "sentiment": "negative",
                      "confidenceScores": {
                        "positive": 0,
                        "neutral": 0.01,
                        "negative": 0.99
                      },
                      "text": "And, quite honestly, often its not very good.  ",
                      "offset": 0,
                      "length": 47
                    }
                  ],
                  "5": []
                },
                {
                  "0": "Often the dialogue doesn't really follow from one line to another, or fit the surroundings.  ",
                  "1": "negative",
                  "3": {
                    "positive": 0,
                    "neutral": 0.06,
                    "negative": 0.93
                  },
                  "4": [
                    {
                      "sentiment": "negative",
                      "confidenceScores": {
                        "positive": 0,
                        "neutral": 0.06,
                        "negative": 0.93
                      },
                      "text": "Often the dialogue doesn't really follow from one line to another, or fit the surroundings.  ",
                      "offset": 0,
                      "length": 93
                    }
                  ],
                  "5": []
                },
                {
                  "0": "It crackles with an unpredictable, youthful energy - but honestly, i found it hard to follow and concentrate on it meanders so badly.  ",
                  "1": "negative",
                  "3": {
                    "positive": 0,
                    "neutral": 0,
                    "negative": 0.99
                  },
                  "4": [
                    {
                      "sentiment": "negative",
                      "confidenceScores": {
                        "positive": 0,
                        "neutral": 0,
                        "negative": 0.99
                      },
                      "text": "It crackles with an unpredictable, youthful energy - but honestly, i found it hard to follow and concentrate on it meanders so badly.  ",
                      "offset": 0,
                      "length": 135
                    }
                  ],
                  "5": []
                },
                {
                  "0": "There are some generally great things in it.  ",
                  "1": "positive",
                  "3": {
                    "positive": 0.99,
                    "neutral": 0,
                    "negative": 0
                  },
                  "4": [
                    {
                      "sentiment": "positive",
                      "confidenceScores": {
                        "positive": 0.99,
                        "neutral": 0,
                        "negative": 0
                      },
                      "text": "There are some generally great things in it.  ",
                      "offset": 0,
                      "length": 46
                    }
                  ],
                  "5": []
                },
                {
                  "0": "I wouldn't say they're worth 2 hours of your time, though.  ",
                  "1": "neutral",
                  "3": {
                    "positive": 0.02,
                    "neutral": 0.86,
                    "negative": 0.12
                  },
                  "4": [
                    {
                      "sentiment": "neutral",
                      "confidenceScores": {
                        "positive": 0.02,
                        "neutral": 0.86,
                        "negative": 0.12
                      },
                      "text": "I wouldn't say they're worth 2 hours of your time, though.  ",
                      "offset": 0,
                      "length": 60
                    }
                  ],
                  "5": []
                },
                {
                  "0": "The suspense builders were good, & just cross the line from G to PG.  ",
                  "1": "positive",
                  "3": {
                    "positive": 0.99,
                    "neutral": 0,
                    "negative": 0.01
                  },
                  "4": [
                    {
                      "sentiment": "positive",
                      "confidenceScores": {
                        "positive": 0.99,
                        "neutral": 0,
                        "negative": 0.01
                      },
                      "text": "The suspense builders were good, & just cross the line from G to PG.  ",
                      "offset": 0,
                      "length": 70
                    }
                  ],
                  "5": []
                },
                {
                  "0": "\"I especially liked the non-cliche choices with the parents; in other movies, I could predict the dialog verbatim, but the writing in this movie made better selections.  \"",
                  "1": "positive",
                  "3": {
                    "positive": 0.9,
                    "neutral": 0.02,
                    "negative": 0.08
                  },
                  "4": [
                    {
                      "sentiment": "positive",
                      "confidenceScores": {
                        "positive": 0.99,
                        "neutral": 0.01,
                        "negative": 0.01
                      },
                      "text": "\"I especially liked the non-cliche choices with the parents; ",
                      "offset": 0,
                      "length": 61
                    },
                    {
                      "sentiment": "positive",
                      "confidenceScores": {
                        "positive": 0.8,
                        "neutral": 0.04,
                        "negative": 0.15
                      },
                      "text": "in other movies, I could predict the dialog verbatim, but the writing in this movie made better selections.  ",
                      "offset": 61,
                      "length": 109
                    },
                    {
                      "sentiment": "neutral",
                      "confidenceScores": {
                        "positive": 0.27,
                        "neutral": 0.59,
                        "negative": 0.14
                      },
                      "text": "\"",
                      "offset": 170,
                      "length": 1
                    }
                  ],
                  "5": []
                },
                {
                  "0": "If you want a movie that's not gross but gives you some chills, this is a great choice.  ",
                  "1": "positive",
                  "3": {
                    "positive": 1,
                    "neutral": 0,
                    "negative": 0
                  },
                  "4": [
                    {
                      "sentiment": "positive",
                      "confidenceScores": {
                        "positive": 1,
                        "neutral": 0,
                        "negative": 0
                      },
                      "text": "If you want a movie that's not gross but gives you some chills, this is a great choice.  ",
                      "offset": 0,
                      "length": 89
                    }
                  ],
                  "5": []
                },
                {
                  "0": "Alexander Nevsky is a great film.  ",
                  "1": "positive",
                  "3": {
                    "positive": 1,
                    "neutral": 0,
                    "negative": 0
                  },
                  "4": [
                    {
                      "sentiment": "positive",
                      "confidenceScores": {
                        "positive": 1,
                        "neutral": 0,
                        "negative": 0
                      },
                      "text": "Alexander Nevsky is a great film.  ",
                      "offset": 0,
                      "length": 35
                    }
                  ],
                  "5": []
                },
                {
                  "0": "He is an amazing film artist, one of the most important whoever lived.  ",
                  "1": "positive",
                  "3": {
                    "positive": 0.98,
                    "neutral": 0.01,
                    "negative": 0.01
                  },
                  "4": [
                    {
                      "sentiment": "positive",
                      "confidenceScores": {
                        "positive": 0.98,
                        "neutral": 0.01,
                        "negative": 0.01
                      },
                      "text": "He is an amazing film artist, one of the most important whoever lived.  ",
                      "offset": 0,
                      "length": 72
                    }
                  ],
                  "5": []
                },
                {
                  "0": "\"I'm glad this pretentious piece of s*** didn't do as planned by the Dodge stratus Big Shots... It's gonna help movie makers who aren't in the very restrained \"\"movie business\"\" of Québec.  \"",
                  "1": "mixed",
                  "3": {
                    "positive": 0.51,
                    "neutral": 0.02,
                    "negative": 0.48
                  },
                  "4": [
                    {
                      "sentiment": "negative",
                      "confidenceScores": {
                        "positive": 0.06,
                        "neutral": 0.01,
                        "negative": 0.94
                      },
                      "text": "\"I'm glad this pretentious piece of s*** didn't do as planned by the Dodge stratus Big Shots... ",
                      "offset": 0,
                      "length": 96
                    },
                    {
                      "sentiment": "positive",
                      "confidenceScores": {
                        "positive": 0.96,
                        "neutral": 0.03,
                        "negative": 0.02
                      },
                      "text": "It's gonna help movie makers who aren't in the very restrained \"\"movie business\"\" of Québec.  ",
                      "offset": 96,
                      "length": 94
                    },
                    {
                      "sentiment": "neutral",
                      "confidenceScores": {
                        "positive": 0.27,
                        "neutral": 0.59,
                        "negative": 0.14
                      },
                      "text": "\"",
                      "offset": 190,
                      "length": 1
                    }
                  ],
                  "5": []
                },
                {
                  "0": "This if the first movie I've given a 10 to in years.  ",
                  "1": "neutral",
                  "3": {
                    "positive": 0.26,
                    "neutral": 0.65,
                    "negative": 0.09
                  },
                  "4": [
                    {
                      "sentiment": "neutral",
                      "confidenceScores": {
                        "positive": 0.26,
                        "neutral": 0.65,
                        "negative": 0.09
                      },
                      "text": "This if the first movie I've given a 10 to in years.  ",
                      "offset": 0,
                      "length": 54
                    }
                  ],
                  "5": []
                },
                {
                  "0": "If there was ever a movie that needed word-of-mouth to promote, this is it.  ",
                  "1": "neutral",
                  "3": {
                    "positive": 0.09,
                    "neutral": 0.84,
                    "negative": 0.07
                  },
                  "4": [
                    {
                      "sentiment": "neutral",
                      "confidenceScores": {
                        "positive": 0.09,
                        "neutral": 0.84,
                        "negative": 0.07
                      },
                      "text": "If there was ever a movie that needed word-of-mouth to promote, this is it.  ",
                      "offset": 0,
                      "length": 77
                    }
                  ],
                  "5": []
                },
                {
                  "0": "Overall, the film is interesting and thought-provoking.  ",
                  "1": "positive",
                  "3": {
                    "positive": 0.99,
                    "neutral": 0,
                    "negative": 0
                  },
                  "4": [
                    {
                      "sentiment": "positive",
                      "confidenceScores": {
                        "positive": 0.99,
                        "neutral": 0,
                        "negative": 0
                      },
                      "text": "Overall, the film is interesting and thought-provoking.  ",
                      "offset": 0,
                      "length": 57
                    }
                  ],
                  "5": []
                },
                {
                  "0": "Plus, it was well-paced and suited its relatively short run time.  ",
                  "1": "positive",
                  "3": {
                    "positive": 0.98,
                    "neutral": 0.01,
                    "negative": 0.01
                  },
                  "4": [
                    {
                      "sentiment": "positive",
                      "confidenceScores": {
                        "positive": 0.98,
                        "neutral": 0.01,
                        "negative": 0.01
                      },
                      "text": "Plus, it was well-paced and suited its relatively short run time.  ",
                      "offset": 0,
                      "length": 67
                    }
                  ],
                  "5": []
                },
                {
                  "0": "Give this one a look.  ",
                  "1": "neutral",
                  "3": {
                    "positive": 0.09,
                    "neutral": 0.88,
                    "negative": 0.03
                  },
                  "4": [
                    {
                      "sentiment": "neutral",
                      "confidenceScores": {
                        "positive": 0.09,
                        "neutral": 0.88,
                        "negative": 0.03
                      },
                      "text": "Give this one a look.  ",
                      "offset": 0,
                      "length": 23
                    }
                  ],
                  "5": []
                },
                {
                  "0": "I gave it a 10  ",
                  "1": "neutral",
                  "3": {
                    "positive": 0.01,
                    "neutral": 0.97,
                    "negative": 0.02
                  },
                  "4": [
                    {
                      "sentiment": "neutral",
                      "confidenceScores": {
                        "positive": 0.01,
                        "neutral": 0.97,
                        "negative": 0.02
                      },
                      "text": "I gave it a 10  ",
                      "offset": 0,
                      "length": 16
                    }
                  ],
                  "5": []
                },
                {
                  "0": "The Wind and the Lion is well written and superbly acted.  ",
                  "1": "positive",
                  "3": {
                    "positive": 1,
                    "neutral": 0,
                    "negative": 0
                  },
                  "4": [
                    {
                      "sentiment": "positive",
                      "confidenceScores": {
                        "positive": 1,
                        "neutral": 0,
                        "negative": 0
                      },
                      "text": "The Wind and the Lion is well written and superbly acted.  ",
                      "offset": 0,
                      "length": 59
                    }
                  ],
                  "5": []
                },
                {
                  "0": "It is a true classic.  ",
                  "1": "positive",
                  "3": {
                    "positive": 0.8,
                    "neutral": 0.18,
                    "negative": 0.02
                  },
                  "4": [
                    {
                      "sentiment": "positive",
                      "confidenceScores": {
                        "positive": 0.8,
                        "neutral": 0.18,
                        "negative": 0.02
                      },
                      "text": "It is a true classic.  ",
                      "offset": 0,
                      "length": 23
                    }
                  ],
                  "5": []
                },
                {
                  "0": "It actually turned out to be pretty decent as far as B-list horror/suspense films go.  ",
                  "1": "positive",
                  "3": {
                    "positive": 0.92,
                    "neutral": 0.01,
                    "negative": 0.07
                  },
                  "4": [
                    {
                      "sentiment": "positive",
                      "confidenceScores": {
                        "positive": 0.92,
                        "neutral": 0.01,
                        "negative": 0.07
                      },
                      "text": "It actually turned out to be pretty decent as far as B-list horror/suspense films go.  ",
                      "offset": 0,
                      "length": 87
                    }
                  ],
                  "5": []
                },
                {
                  "0": "Definitely worth checking out.  ",
                  "1": "positive",
                  "3": {
                    "positive": 0.99,
                    "neutral": 0.01,
                    "negative": 0.01
                  },
                  "4": [
                    {
                      "sentiment": "positive",
                      "confidenceScores": {
                        "positive": 0.99,
                        "neutral": 0.01,
                        "negative": 0.01
                      },
                      "text": "Definitely worth checking out.  ",
                      "offset": 0,
                      "length": 32
                    }
                  ],
                  "5": []
                },
                {
                  "0": "The problem was the script.  ",
                  "1": "negative",
                  "3": {
                    "positive": 0,
                    "neutral": 0.01,
                    "negative": 0.98
                  },
                  "4": [
                    {
                      "sentiment": "negative",
                      "confidenceScores": {
                        "positive": 0,
                        "neutral": 0.01,
                        "negative": 0.98
                      },
                      "text": "The problem was the script.  ",
                      "offset": 0,
                      "length": 29
                    }
                  ],
                  "5": []
                },
                {
                  "0": "It was horrendous.  ",
                  "1": "negative",
                  "3": {
                    "positive": 0.01,
                    "neutral": 0.01,
                    "negative": 0.99
                  },
                  "4": [
                    {
                      "sentiment": "negative",
                      "confidenceScores": {
                        "positive": 0.01,
                        "neutral": 0.01,
                        "negative": 0.99
                      },
                      "text": "It was horrendous.  ",
                      "offset": 0,
                      "length": 20
                    }
                  ],
                  "5": []
                },
                {
                  "0": "There was NOTHING believable about it at all.  ",
                  "1": "negative",
                  "3": {
                    "positive": 0.01,
                    "neutral": 0.03,
                    "negative": 0.96
                  },
                  "4": [
                    {
                      "sentiment": "negative",
                      "confidenceScores": {
                        "positive": 0.01,
                        "neutral": 0.03,
                        "negative": 0.96
                      },
                      "text": "There was NOTHING believable about it at all.  ",
                      "offset": 0,
                      "length": 47
                    }
                  ],
                  "5": []
                },
                {
                  "0": "The only suspense I was feeling was the frustration at just how retarded the girls were.  ",
                  "1": "negative",
                  "3": {
                    "positive": 0,
                    "neutral": 0,
                    "negative": 0.99
                  },
                  "4": [
                    {
                      "sentiment": "negative",
                      "confidenceScores": {
                        "positive": 0,
                        "neutral": 0,
                        "negative": 0.99
                      },
                      "text": "The only suspense I was feeling was the frustration at just how retarded the girls were.  ",
                      "offset": 0,
                      "length": 90
                    }
                  ],
                  "5": []
                },
                {
                  "0": "MANNA FROM HEAVEN is a terrific film that is both predictable and unpredictable at the same time.  ",
                  "1": "positive",
                  "3": {
                    "positive": 0.99,
                    "neutral": 0,
                    "negative": 0.01
                  },
                  "4": [
                    {
                      "sentiment": "positive",
                      "confidenceScores": {
                        "positive": 0.99,
                        "neutral": 0,
                        "negative": 0.01
                      },
                      "text": "MANNA FROM HEAVEN is a terrific film that is both predictable and unpredictable at the same time.  ",
                      "offset": 0,
                      "length": 99
                    }
                  ],
                  "5": []
                },
                {
                  "0": "The scenes are often funny and occasionally touching as the characters evaluate their lives and where they are going.  ",
                  "1": "positive",
                  "3": {
                    "positive": 0.84,
                    "neutral": 0.05,
                    "negative": 0.11
                  },
                  "4": [
                    {
                      "sentiment": "positive",
                      "confidenceScores": {
                        "positive": 0.84,
                        "neutral": 0.05,
                        "negative": 0.11
                      },
                      "text": "The scenes are often funny and occasionally touching as the characters evaluate their lives and where they are going.  ",
                      "offset": 0,
                      "length": 119
                    }
                  ],
                  "5": []
                },
                {
                  "0": "The cast of veteran actors are more than just a nostalgia trip.  ",
                  "1": "positive",
                  "3": {
                    "positive": 0.62,
                    "neutral": 0.33,
                    "negative": 0.06
                  },
                  "4": [
                    {
                      "sentiment": "positive",
                      "confidenceScores": {
                        "positive": 0.62,
                        "neutral": 0.33,
                        "negative": 0.06
                      },
                      "text": "The cast of veteran actors are more than just a nostalgia trip.  ",
                      "offset": 0,
                      "length": 65
                    }
                  ],
                  "5": []
                },
                {
                  "0": "Ursula Burton's portrayal of the nun is both touching and funny at the same time with out making fun of nuns or the church.  ",
                  "1": "positive",
                  "3": {
                    "positive": 0.74,
                    "neutral": 0.02,
                    "negative": 0.24
                  },
                  "4": [
                    {
                      "sentiment": "positive",
                      "confidenceScores": {
                        "positive": 0.74,
                        "neutral": 0.02,
                        "negative": 0.24
                      },
                      "text": "Ursula Burton's portrayal of the nun is both touching and funny at the same time with out making fun of nuns or the church.  ",
                      "offset": 0,
                      "length": 125
                    }
                  ],
                  "5": []
                },
                {
                  "0": "\"If you are looking for a movie with a terrific cast, some good music(including a Shirley Jones rendition of \"\"The Way You Look Tonight\"\"), and an uplifting ending, give this one a try.  \"",
                  "1": "positive",
                  "3": {
                    "positive": 1,
                    "neutral": 0,
                    "negative": 0
                  },
                  "4": [
                    {
                      "sentiment": "positive",
                      "confidenceScores": {
                        "positive": 1,
                        "neutral": 0,
                        "negative": 0
                      },
                      "text": "\"If you are looking for a movie with a terrific cast, some good music(including a Shirley Jones rendition of \"\"The Way You Look Tonight\"\"), and an uplifting ending, give this one a try.  ",
                      "offset": 0,
                      "length": 187
                    },
                    {
                      "sentiment": "neutral",
                      "confidenceScores": {
                        "positive": 0.27,
                        "neutral": 0.59,
                        "negative": 0.14
                      },
                      "text": "\"",
                      "offset": 187,
                      "length": 1
                    }
                  ],
                  "5": []
                },
                {
                  "0": "I don't think you will be disappointed.  ",
                  "1": "negative",
                  "3": {
                    "positive": 0.11,
                    "neutral": 0.11,
                    "negative": 0.78
                  },
                  "4": [
                    {
                      "sentiment": "negative",
                      "confidenceScores": {
                        "positive": 0.11,
                        "neutral": 0.11,
                        "negative": 0.78
                      },
                      "text": "I don't think you will be disappointed.  ",
                      "offset": 0,
                      "length": 41
                    }
                  ],
                  "5": []
                },
                {
                  "0": "Frankly, after Cotton club and Unfaithful, it was kind of embarrassing to watch Lane and Gere in this film, because it is BAD.  ",
                  "1": "negative",
                  "3": {
                    "positive": 0,
                    "neutral": 0,
                    "negative": 0.99
                  },
                  "4": [
                    {
                      "sentiment": "negative",
                      "confidenceScores": {
                        "positive": 0,
                        "neutral": 0,
                        "negative": 0.99
                      },
                      "text": "Frankly, after Cotton club and Unfaithful, it was kind of embarrassing to watch Lane and Gere in this film, because it is BAD.  ",
                      "offset": 0,
                      "length": 128
                    }
                  ],
                  "5": []
                },
                {
                  "0": "The acting was bad, the dialogs were extremely shallow and insincere.  ",
                  "1": "negative",
                  "3": {
                    "positive": 0,
                    "neutral": 0,
                    "negative": 1
                  },
                  "4": [
                    {
                      "sentiment": "negative",
                      "confidenceScores": {
                        "positive": 0,
                        "neutral": 0,
                        "negative": 1
                      },
                      "text": "The acting was bad, the dialogs were extremely shallow and insincere.  ",
                      "offset": 0,
                      "length": 71
                    }
                  ],
                  "5": []
                },
                {
                  "0": "It was too predictable, even for a chick flick.  ",
                  "1": "negative",
                  "3": {
                    "positive": 0,
                    "neutral": 0,
                    "negative": 0.99
                  },
                  "4": [
                    {
                      "sentiment": "negative",
                      "confidenceScores": {
                        "positive": 0,
                        "neutral": 0,
                        "negative": 0.99
                      },
                      "text": "It was too predictable, even for a chick flick.  ",
                      "offset": 0,
                      "length": 49
                    }
                  ],
                  "5": []
                },
                {
                  "0": "Too politically correct.  ",
                  "1": "negative",
                  "3": {
                    "positive": 0.01,
                    "neutral": 0.01,
                    "negative": 0.98
                  },
                  "4": [
                    {
                      "sentiment": "negative",
                      "confidenceScores": {
                        "positive": 0.01,
                        "neutral": 0.01,
                        "negative": 0.98
                      },
                      "text": "Too politically correct.  ",
                      "offset": 0,
                      "length": 26
                    }
                  ],
                  "5": []
                },
                {
                  "0": "Very disappointing.  ",
                  "1": "negative",
                  "3": {
                    "positive": 0,
                    "neutral": 0,
                    "negative": 0.99
                  },
                  "4": [
                    {
                      "sentiment": "negative",
                      "confidenceScores": {
                        "positive": 0,
                        "neutral": 0,
                        "negative": 0.99
                      },
                      "text": "Very disappointing.  ",
                      "offset": 0,
                      "length": 21
                    }
                  ],
                  "5": []
                },
                {
                  "0": "The only thing really worth watching was the scenery and the house, because it is beautiful.  ",
                  "1": "positive",
                  "3": {
                    "positive": 0.98,
                    "neutral": 0,
                    "negative": 0.02
                  },
                  "4": [
                    {
                      "sentiment": "positive",
                      "confidenceScores": {
                        "positive": 0.98,
                        "neutral": 0,
                        "negative": 0.02
                      },
                      "text": "The only thing really worth watching was the scenery and the house, because it is beautiful.  ",
                      "offset": 0,
                      "length": 94
                    }
                  ],
                  "5": []
                },
                {
                  "0": "I love Lane, but I've never seen her in a movie this lousy.  ",
                  "1": "negative",
                  "3": {
                    "positive": 0.01,
                    "neutral": 0,
                    "negative": 0.99
                  },
                  "4": [
                    {
                      "sentiment": "negative",
                      "confidenceScores": {
                        "positive": 0.01,
                        "neutral": 0,
                        "negative": 0.99
                      },
                      "text": "I love Lane, but I've never seen her in a movie this lousy.  ",
                      "offset": 0,
                      "length": 61
                    }
                  ],
                  "5": []
                },
                {
                  "0": "An hour and a half I wish I could bring back.  ",
                  "1": "neutral",
                  "3": {
                    "positive": 0.09,
                    "neutral": 0.9,
                    "negative": 0.02
                  },
                  "4": [
                    {
                      "sentiment": "neutral",
                      "confidenceScores": {
                        "positive": 0.09,
                        "neutral": 0.9,
                        "negative": 0.02
                      },
                      "text": "An hour and a half I wish I could bring back.  ",
                      "offset": 0,
                      "length": 47
                    }
                  ],
                  "5": []
                },
                {
                  "0": "But in terms of the writing it's very fresh and bold.  ",
                  "1": "positive",
                  "3": {
                    "positive": 0.58,
                    "neutral": 0.23,
                    "negative": 0.2
                  },
                  "4": [
                    {
                      "sentiment": "positive",
                      "confidenceScores": {
                        "positive": 0.58,
                        "neutral": 0.23,
                        "negative": 0.2
                      },
                      "text": "But in terms of the writing it's very fresh and bold.  ",
                      "offset": 0,
                      "length": 55
                    }
                  ],
                  "5": []
                },
                {
                  "0": "The acting helps the writing along very well (maybe the idiot-savant sister could have been played better), and it is a real joy to watch.  ",
                  "1": "positive",
                  "3": {
                    "positive": 0.99,
                    "neutral": 0,
                    "negative": 0
                  },
                  "4": [
                    {
                      "sentiment": "positive",
                      "confidenceScores": {
                        "positive": 0.99,
                        "neutral": 0,
                        "negative": 0
                      },
                      "text": "The acting helps the writing along very well (maybe the idiot-savant sister could have been played better), and it is a real joy to watch.  ",
                      "offset": 0,
                      "length": 140
                    }
                  ],
                  "5": []
                },
                {
                  "0": "The directing and the cinematography aren't quite as good.  ",
                  "1": "negative",
                  "3": {
                    "positive": 0,
                    "neutral": 0,
                    "negative": 0.99
                  },
                  "4": [
                    {
                      "sentiment": "negative",
                      "confidenceScores": {
                        "positive": 0,
                        "neutral": 0,
                        "negative": 0.99
                      },
                      "text": "The directing and the cinematography aren't quite as good.  ",
                      "offset": 0,
                      "length": 60
                    }
                  ],
                  "5": []
                },
                {
                  "0": "The movie was so boring, that I sometimes found myself occupied peaking in the paper instead of watching (never happened during a Columbo movie before!  ",
                  "1": "negative",
                  "3": {
                    "positive": 0.01,
                    "neutral": 0,
                    "negative": 0.99
                  },
                  "4": [
                    {
                      "sentiment": "negative",
                      "confidenceScores": {
                        "positive": 0.01,
                        "neutral": 0,
                        "negative": 0.99
                      },
                      "text": "The movie was so boring, that I sometimes found myself occupied peaking in the paper instead of watching (never happened during a Columbo movie before!  ",
                      "offset": 0,
                      "length": 153
                    }
                  ],
                  "5": []
                },
                {
                  "0": "), and sometimes it was so embarrassing that I had to look away.  ",
                  "1": "negative",
                  "3": {
                    "positive": 0,
                    "neutral": 0.01,
                    "negative": 0.99
                  },
                  "4": [
                    {
                      "sentiment": "negative",
                      "confidenceScores": {
                        "positive": 0,
                        "neutral": 0.01,
                        "negative": 0.99
                      },
                      "text": "), and sometimes it was so embarrassing that I had to look away.  ",
                      "offset": 0,
                      "length": 66
                    }
                  ],
                  "5": []
                },
                {
                  "0": "The directing seems too pretentious.  ",
                  "1": "negative",
                  "3": {
                    "positive": 0,
                    "neutral": 0,
                    "negative": 0.99
                  },
                  "4": [
                    {
                      "sentiment": "negative",
                      "confidenceScores": {
                        "positive": 0,
                        "neutral": 0,
                        "negative": 0.99
                      },
                      "text": "The directing seems too pretentious.  ",
                      "offset": 0,
                      "length": 38
                    }
                  ],
                  "5": []
                },
                {
                  "0": "\"The scenes with the \"\"oh-so-mature\"\" neighbour-girl are a misplace.  \"",
                  "1": "negative",
                  "3": {
                    "positive": 0,
                    "neutral": 0,
                    "negative": 0.99
                  },
                  "4": [
                    {
                      "sentiment": "negative",
                      "confidenceScores": {
                        "positive": 0,
                        "neutral": 0,
                        "negative": 0.99
                      },
                      "text": "\"The scenes with the \"\"oh-so-mature\"\" neighbour-girl are a misplace.  ",
                      "offset": 0,
                      "length": 70
                    },
                    {
                      "sentiment": "neutral",
                      "confidenceScores": {
                        "positive": 0.27,
                        "neutral": 0.59,
                        "negative": 0.14
                      },
                      "text": "\"",
                      "offset": 70,
                      "length": 1
                    }
                  ],
                  "5": []
                },
                {
                  "0": "And generally the lines and plot is weaker than the average episode.  ",
                  "1": "negative",
                  "3": {
                    "positive": 0,
                    "neutral": 0.01,
                    "negative": 0.99
                  },
                  "4": [
                    {
                      "sentiment": "negative",
                      "confidenceScores": {
                        "positive": 0,
                        "neutral": 0.01,
                        "negative": 0.99
                      },
                      "text": "And generally the lines and plot is weaker than the average episode.  ",
                      "offset": 0,
                      "length": 70
                    }
                  ],
                  "5": []
                },
                {
                  "0": "Then scene where they debated whether or not to sack the trumpeter (who falsely was accused for the murder) is pure horror, really stupid.  ",
                  "1": "negative",
                  "3": {
                    "positive": 0.01,
                    "neutral": 0,
                    "negative": 0.99
                  },
                  "4": [
                    {
                      "sentiment": "negative",
                      "confidenceScores": {
                        "positive": 0.01,
                        "neutral": 0,
                        "negative": 0.99
                      },
                      "text": "Then scene where they debated whether or not to sack the trumpeter (who falsely was accused for the murder) is pure horror, really stupid.  ",
                      "offset": 0,
                      "length": 140
                    }
                  ],
                  "5": []
                },
                {
                  "0": "\"Some applause should be given to the \"\"prelude\"\" however.  \"",
                  "1": "negative",
                  "3": {
                    "positive": 0.09,
                    "neutral": 0.22,
                    "negative": 0.69
                  },
                  "4": [
                    {
                      "sentiment": "negative",
                      "confidenceScores": {
                        "positive": 0.09,
                        "neutral": 0.22,
                        "negative": 0.69
                      },
                      "text": "\"Some applause should be given to the \"\"prelude\"\" however.  ",
                      "offset": 0,
                      "length": 60
                    },
                    {
                      "sentiment": "neutral",
                      "confidenceScores": {
                        "positive": 0.27,
                        "neutral": 0.59,
                        "negative": 0.14
                      },
                      "text": "\"",
                      "offset": 60,
                      "length": 1
                    }
                  ],
                  "5": []
                },
                {
                  "0": "I really liked that.  ",
                  "1": "positive",
                  "3": {
                    "positive": 0.99,
                    "neutral": 0.01,
                    "negative": 0
                  },
                  "4": [
                    {
                      "sentiment": "positive",
                      "confidenceScores": {
                        "positive": 0.99,
                        "neutral": 0.01,
                        "negative": 0
                      },
                      "text": "I really liked that.  ",
                      "offset": 0,
                      "length": 22
                    }
                  ],
                  "5": []
                },
                {
                  "0": "A great film by a great director.  ",
                  "1": "positive",
                  "3": {
                    "positive": 1,
                    "neutral": 0,
                    "negative": 0
                  },
                  "4": [
                    {
                      "sentiment": "positive",
                      "confidenceScores": {
                        "positive": 1,
                        "neutral": 0,
                        "negative": 0
                      },
                      "text": "A great film by a great director.  ",
                      "offset": 0,
                      "length": 35
                    }
                  ],
                  "5": []
                },
                {
                  "0": "The movie had you on the edge of your seat and made you somewhat afraid to go to your car at the end of the night.  ",
                  "1": "negative",
                  "3": {
                    "positive": 0,
                    "neutral": 0.01,
                    "negative": 0.99
                  },
                  "4": [
                    {
                      "sentiment": "negative",
                      "confidenceScores": {
                        "positive": 0,
                        "neutral": 0.01,
                        "negative": 0.99
                      },
                      "text": "The movie had you on the edge of your seat and made you somewhat afraid to go to your car at the end of the night.  ",
                      "offset": 0,
                      "length": 116
                    }
                  ],
                  "5": []
                },
                {
                  "0": "The music in the film is really nice too.  ",
                  "1": "positive",
                  "3": {
                    "positive": 0.99,
                    "neutral": 0,
                    "negative": 0
                  },
                  "4": [
                    {
                      "sentiment": "positive",
                      "confidenceScores": {
                        "positive": 0.99,
                        "neutral": 0,
                        "negative": 0
                      },
                      "text": "The music in the film is really nice too.  ",
                      "offset": 0,
                      "length": 43
                    }
                  ],
                  "5": []
                },
                {
                  "0": "I'd advise anyone to go and see it.  ",
                  "1": "neutral",
                  "3": {
                    "positive": 0.29,
                    "neutral": 0.64,
                    "negative": 0.07
                  },
                  "4": [
                    {
                      "sentiment": "neutral",
                      "confidenceScores": {
                        "positive": 0.29,
                        "neutral": 0.64,
                        "negative": 0.07
                      },
                      "text": "I'd advise anyone to go and see it.  ",
                      "offset": 0,
                      "length": 37
                    }
                  ],
                  "5": []
                },
                {
                  "0": "Brilliant!  ",
                  "1": "positive",
                  "3": {
                    "positive": 0.99,
                    "neutral": 0.01,
                    "negative": 0.01
                  },
                  "4": [
                    {
                      "sentiment": "positive",
                      "confidenceScores": {
                        "positive": 0.99,
                        "neutral": 0.01,
                        "negative": 0.01
                      },
                      "text": "Brilliant!  ",
                      "offset": 0,
                      "length": 12
                    }
                  ],
                  "5": []
                },
                {
                  "0": "10. Okt",
                  "1": "neutral",
                  "3": {
                    "positive": 0.05,
                    "neutral": 0.91,
                    "negative": 0.05
                  },
                  "4": [
                    {
                      "sentiment": "neutral",
                      "confidenceScores": {
                        "positive": 0.05,
                        "neutral": 0.91,
                        "negative": 0.05
                      },
                      "text": "10. Okt",
                      "offset": 0,
                      "length": 7
                    }
                  ],
                  "5": []
                },
                {
                  "0": "I liked this movie way too much.  ",
                  "1": "positive",
                  "3": {
                    "positive": 0.9,
                    "neutral": 0.01,
                    "negative": 0.1
                  },
                  "4": [
                    {
                      "sentiment": "positive",
                      "confidenceScores": {
                        "positive": 0.9,
                        "neutral": 0.01,
                        "negative": 0.1
                      },
                      "text": "I liked this movie way too much.  ",
                      "offset": 0,
                      "length": 34
                    }
                  ],
                  "5": []
                },
                {
                  "0": "My only problem is I thought the actor playing the villain was a low rent Michael Ironside.  ",
                  "1": "negative",
                  "3": {
                    "positive": 0,
                    "neutral": 0.01,
                    "negative": 0.99
                  },
                  "4": [
                    {
                      "sentiment": "negative",
                      "confidenceScores": {
                        "positive": 0,
                        "neutral": 0.01,
                        "negative": 0.99
                      },
                      "text": "My only problem is I thought the actor playing the villain was a low rent Michael Ironside.  ",
                      "offset": 0,
                      "length": 93
                    }
                  ],
                  "5": []
                },
                {
                  "0": "It rocked my world and is certainly a must see for anyone with no social or physical outlets.  ",
                  "1": "positive",
                  "3": {
                    "positive": 0.94,
                    "neutral": 0.02,
                    "negative": 0.04
                  },
                  "4": [
                    {
                      "sentiment": "positive",
                      "confidenceScores": {
                        "positive": 0.94,
                        "neutral": 0.02,
                        "negative": 0.04
                      },
                      "text": "It rocked my world and is certainly a must see for anyone with no social or physical outlets.  ",
                      "offset": 0,
                      "length": 95
                    }
                  ],
                  "5": []
                },
                {
                  "0": "However, this didn't make up for the fact that overall, this was a tremendously boring movie.  ",
                  "1": "negative",
                  "3": {
                    "positive": 0,
                    "neutral": 0,
                    "negative": 0.99
                  },
                  "4": [
                    {
                      "sentiment": "negative",
                      "confidenceScores": {
                        "positive": 0,
                        "neutral": 0,
                        "negative": 0.99
                      },
                      "text": "However, this didn't make up for the fact that overall, this was a tremendously boring movie.  ",
                      "offset": 0,
                      "length": 95
                    }
                  ],
                  "5": []
                },
                {
                  "0": "There was NO chemistry between Ben Affleck and Sandra Bullock in this film, and I couldn't understand why he would consider even leaving his wife-to-be for this chick that he supposedly was knocked out by.  ",
                  "1": "negative",
                  "3": {
                    "positive": 0,
                    "neutral": 0.01,
                    "negative": 0.99
                  },
                  "4": [
                    {
                      "sentiment": "negative",
                      "confidenceScores": {
                        "positive": 0,
                        "neutral": 0.01,
                        "negative": 0.99
                      },
                      "text": "There was NO chemistry between Ben Affleck and Sandra Bullock in this film, and I couldn't understand why he would consider even leaving his wife-to-be for this chick that he supposedly was knocked out by.  ",
                      "offset": 0,
                      "length": 207
                    }
                  ],
                  "5": []
                },
                {
                  "0": "There were several moments in the movie that just didn't need to be there and were excruciatingly slow moving.  ",
                  "1": "negative",
                  "3": {
                    "positive": 0,
                    "neutral": 0,
                    "negative": 0.99
                  },
                  "4": [
                    {
                      "sentiment": "negative",
                      "confidenceScores": {
                        "positive": 0,
                        "neutral": 0,
                        "negative": 0.99
                      },
                      "text": "There were several moments in the movie that just didn't need to be there and were excruciatingly slow moving.  ",
                      "offset": 0,
                      "length": 112
                    }
                  ],
                  "5": []
                },
                {
                  "0": "\"This was a poor remake of \"\"My Best Friends Wedding\"\".  \"",
                  "1": "negative",
                  "3": {
                    "positive": 0,
                    "neutral": 0,
                    "negative": 0.99
                  },
                  "4": [
                    {
                      "sentiment": "negative",
                      "confidenceScores": {
                        "positive": 0,
                        "neutral": 0,
                        "negative": 0.99
                      },
                      "text": "\"This was a poor remake of \"\"My Best Friends Wedding\"\".  ",
                      "offset": 0,
                      "length": 57
                    },
                    {
                      "sentiment": "neutral",
                      "confidenceScores": {
                        "positive": 0.27,
                        "neutral": 0.59,
                        "negative": 0.14
                      },
                      "text": "\"",
                      "offset": 57,
                      "length": 1
                    }
                  ],
                  "5": []
                },
                {
                  "0": "All in all, a great disappointment.  ",
                  "1": "negative",
                  "3": {
                    "positive": 0.01,
                    "neutral": 0,
                    "negative": 0.99
                  },
                  "4": [
                    {
                      "sentiment": "negative",
                      "confidenceScores": {
                        "positive": 0.01,
                        "neutral": 0,
                        "negative": 0.99
                      },
                      "text": "All in all, a great disappointment.  ",
                      "offset": 0,
                      "length": 37
                    }
                  ],
                  "5": []
                },
                {
                  "0": "\"I cannot believe that the actors agreed to do this \"\"film\"\".  \"",
                  "1": "negative",
                  "3": {
                    "positive": 0.01,
                    "neutral": 0.06,
                    "negative": 0.93
                  },
                  "4": [
                    {
                      "sentiment": "negative",
                      "confidenceScores": {
                        "positive": 0.01,
                        "neutral": 0.06,
                        "negative": 0.93
                      },
                      "text": "\"I cannot believe that the actors agreed to do this \"\"film\"\".  ",
                      "offset": 0,
                      "length": 63
                    },
                    {
                      "sentiment": "neutral",
                      "confidenceScores": {
                        "positive": 0.27,
                        "neutral": 0.59,
                        "negative": 0.14
                      },
                      "text": "\"",
                      "offset": 63,
                      "length": 1
                    }
                  ],
                  "5": []
                },
                {
                  "0": "I could not stand to even watch it for very long for fear of losing I.Q.  ",
                  "1": "negative",
                  "3": {
                    "positive": 0,
                    "neutral": 0.01,
                    "negative": 0.99
                  },
                  "4": [
                    {
                      "sentiment": "negative",
                      "confidenceScores": {
                        "positive": 0,
                        "neutral": 0.01,
                        "negative": 0.99
                      },
                      "text": "I could not stand to even watch it for very long for fear of losing I.Q.  ",
                      "offset": 0,
                      "length": 74
                    }
                  ],
                  "5": []
                },
                {
                  "0": "I guess that nobody at the network that aired this dribble watched it before putting it on.  ",
                  "1": "neutral",
                  "3": {
                    "positive": 0.01,
                    "neutral": 0.65,
                    "negative": 0.35
                  },
                  "4": [
                    {
                      "sentiment": "neutral",
                      "confidenceScores": {
                        "positive": 0.01,
                        "neutral": 0.65,
                        "negative": 0.35
                      },
                      "text": "I guess that nobody at the network that aired this dribble watched it before putting it on.  ",
                      "offset": 0,
                      "length": 93
                    }
                  ],
                  "5": []
                },
                {
                  "0": "IMDB ratings only go as low 1 for awful, it's time to get some negative numbers in there for cases such as these.  ",
                  "1": "negative",
                  "3": {
                    "positive": 0,
                    "neutral": 0,
                    "negative": 0.99
                  },
                  "4": [
                    {
                      "sentiment": "negative",
                      "confidenceScores": {
                        "positive": 0,
                        "neutral": 0,
                        "negative": 0.99
                      },
                      "text": "IMDB ratings only go as low 1 for awful, it's time to get some negative numbers in there for cases such as these.  ",
                      "offset": 0,
                      "length": 115
                    }
                  ],
                  "5": []
                },
                {
                  "0": "\"I saw \"\"Mirrormask\"\" last night and it was an unsatisfactory experience.  \"",
                  "1": "negative",
                  "3": {
                    "positive": 0,
                    "neutral": 0,
                    "negative": 0.99
                  },
                  "4": [
                    {
                      "sentiment": "negative",
                      "confidenceScores": {
                        "positive": 0,
                        "neutral": 0,
                        "negative": 0.99
                      },
                      "text": "\"I saw \"\"Mirrormask\"\" last night and it was an unsatisfactory experience.  ",
                      "offset": 0,
                      "length": 75
                    },
                    {
                      "sentiment": "neutral",
                      "confidenceScores": {
                        "positive": 0.27,
                        "neutral": 0.59,
                        "negative": 0.14
                      },
                      "text": "\"",
                      "offset": 75,
                      "length": 1
                    }
                  ],
                  "5": []
                },
                {
                  "0": "Unfortunately, inexperience of direction meant that scene after scene passed with little in the way of dramatic tension or conflict.  ",
                  "1": "negative",
                  "3": {
                    "positive": 0,
                    "neutral": 0,
                    "negative": 1
                  },
                  "4": [
                    {
                      "sentiment": "negative",
                      "confidenceScores": {
                        "positive": 0,
                        "neutral": 0,
                        "negative": 1
                      },
                      "text": "Unfortunately, inexperience of direction meant that scene after scene passed with little in the way of dramatic tension or conflict.  ",
                      "offset": 0,
                      "length": 134
                    }
                  ],
                  "5": []
                },
                {
                  "0": "These are the central themes of the film and they are handled ineptly, stereotypically and with no depth of imagination.  ",
                  "1": "negative",
                  "3": {
                    "positive": 0,
                    "neutral": 0,
                    "negative": 0.99
                  },
                  "4": [
                    {
                      "sentiment": "negative",
                      "confidenceScores": {
                        "positive": 0,
                        "neutral": 0,
                        "negative": 0.99
                      },
                      "text": "These are the central themes of the film and they are handled ineptly, stereotypically and with no depth of imagination.  ",
                      "offset": 0,
                      "length": 122
                    }
                  ],
                  "5": []
                },
                {
                  "0": "All the pretty pictures in the world cannot make up for a piece of work that is flawed at the core.  ",
                  "1": "negative",
                  "3": {
                    "positive": 0.01,
                    "neutral": 0,
                    "negative": 0.99
                  },
                  "4": [
                    {
                      "sentiment": "negative",
                      "confidenceScores": {
                        "positive": 0.01,
                        "neutral": 0,
                        "negative": 0.99
                      },
                      "text": "All the pretty pictures in the world cannot make up for a piece of work that is flawed at the core.  ",
                      "offset": 0,
                      "length": 101
                    }
                  ],
                  "5": []
                },
                {
                  "0": "It is an hour and half waste of time, following a bunch of very pretty high schoolers whine and cry about life.  ",
                  "1": "negative",
                  "3": {
                    "positive": 0.01,
                    "neutral": 0,
                    "negative": 0.99
                  },
                  "4": [
                    {
                      "sentiment": "negative",
                      "confidenceScores": {
                        "positive": 0.01,
                        "neutral": 0,
                        "negative": 0.99
                      },
                      "text": "It is an hour and half waste of time, following a bunch of very pretty high schoolers whine and cry about life.  ",
                      "offset": 0,
                      "length": 113
                    }
                  ],
                  "5": []
                },
                {
                  "0": "You can't relate with them, hell you barely can understand them.  ",
                  "1": "negative",
                  "3": {
                    "positive": 0,
                    "neutral": 0.01,
                    "negative": 0.99
                  },
                  "4": [
                    {
                      "sentiment": "negative",
                      "confidenceScores": {
                        "positive": 0,
                        "neutral": 0.01,
                        "negative": 0.99
                      },
                      "text": "You can't relate with them, hell you barely can understand them.  ",
                      "offset": 0,
                      "length": 66
                    }
                  ],
                  "5": []
                },
                {
                  "0": "This is definitely a cult classic well worth viewing and sharing with others.  ",
                  "1": "positive",
                  "3": {
                    "positive": 0.99,
                    "neutral": 0,
                    "negative": 0.01
                  },
                  "4": [
                    {
                      "sentiment": "positive",
                      "confidenceScores": {
                        "positive": 0.99,
                        "neutral": 0,
                        "negative": 0.01
                      },
                      "text": "This is definitely a cult classic well worth viewing and sharing with others.  ",
                      "offset": 0,
                      "length": 79
                    }
                  ],
                  "5": []
                },
                {
                  "0": "This movie is a pure disaster, the story is stupid and the editing is the worst I have seen, it confuses you incredibly.  ",
                  "1": "negative",
                  "3": {
                    "positive": 0,
                    "neutral": 0,
                    "negative": 0.99
                  },
                  "4": [
                    {
                      "sentiment": "negative",
                      "confidenceScores": {
                        "positive": 0,
                        "neutral": 0,
                        "negative": 0.99
                      },
                      "text": "This movie is a pure disaster, the story is stupid and the editing is the worst I have seen, it confuses you incredibly.  ",
                      "offset": 0,
                      "length": 122
                    }
                  ],
                  "5": []
                },
                {
                  "0": "The fish is badly made and some of its underwater shots are repeated a thousand times in the film.  ",
                  "1": "negative",
                  "3": {
                    "positive": 0,
                    "neutral": 0,
                    "negative": 1
                  },
                  "4": [
                    {
                      "sentiment": "negative",
                      "confidenceScores": {
                        "positive": 0,
                        "neutral": 0,
                        "negative": 1
                      },
                      "text": "The fish is badly made and some of its underwater shots are repeated a thousand times in the film.  ",
                      "offset": 0,
                      "length": 100
                    }
                  ],
                  "5": []
                },
                {
                  "0": "A truly, truly bad film.  ",
                  "1": "negative",
                  "3": {
                    "positive": 0.01,
                    "neutral": 0,
                    "negative": 0.99
                  },
                  "4": [
                    {
                      "sentiment": "negative",
                      "confidenceScores": {
                        "positive": 0.01,
                        "neutral": 0,
                        "negative": 0.99
                      },
                      "text": "A truly, truly bad film.  ",
                      "offset": 0,
                      "length": 26
                    }
                  ],
                  "5": []
                },
                {
                  "0": "The acting is terrible, and the writing is worse.  ",
                  "1": "negative",
                  "3": {
                    "positive": 0,
                    "neutral": 0,
                    "negative": 0.99
                  },
                  "4": [
                    {
                      "sentiment": "negative",
                      "confidenceScores": {
                        "positive": 0,
                        "neutral": 0,
                        "negative": 0.99
                      },
                      "text": "The acting is terrible, and the writing is worse.  ",
                      "offset": 0,
                      "length": 51
                    }
                  ],
                  "5": []
                },
                {
                  "0": "The only possible way this movie could be redeemed would be as MST3K fodder.  ",
                  "1": "negative",
                  "3": {
                    "positive": 0.01,
                    "neutral": 0.07,
                    "negative": 0.92
                  },
                  "4": [
                    {
                      "sentiment": "negative",
                      "confidenceScores": {
                        "positive": 0.01,
                        "neutral": 0.07,
                        "negative": 0.92
                      },
                      "text": "The only possible way this movie could be redeemed would be as MST3K fodder.  ",
                      "offset": 0,
                      "length": 78
                    }
                  ],
                  "5": []
                },
                {
                  "0": "I paid too much.  ",
                  "1": "negative",
                  "3": {
                    "positive": 0.01,
                    "neutral": 0.02,
                    "negative": 0.97
                  },
                  "4": [
                    {
                      "sentiment": "negative",
                      "confidenceScores": {
                        "positive": 0.01,
                        "neutral": 0.02,
                        "negative": 0.97
                      },
                      "text": "I paid too much.  ",
                      "offset": 0,
                      "length": 18
                    }
                  ],
                  "5": []
                },
                {
                  "0": "Also, it's a real treat to see Anthony Quinn playing Crazy Horse.  ",
                  "1": "positive",
                  "3": {
                    "positive": 0.99,
                    "neutral": 0,
                    "negative": 0.01
                  },
                  "4": [
                    {
                      "sentiment": "positive",
                      "confidenceScores": {
                        "positive": 0.99,
                        "neutral": 0,
                        "negative": 0.01
                      },
                      "text": "Also, it's a real treat to see Anthony Quinn playing Crazy Horse.  ",
                      "offset": 0,
                      "length": 67
                    }
                  ],
                  "5": []
                },
                {
                  "0": "It was so BORING!  ",
                  "1": "positive",
                  "3": {
                    "positive": 0.91,
                    "neutral": 0.02,
                    "negative": 0.07
                  },
                  "4": [
                    {
                      "sentiment": "positive",
                      "confidenceScores": {
                        "positive": 0.91,
                        "neutral": 0.02,
                        "negative": 0.07
                      },
                      "text": "It was so BORING!  ",
                      "offset": 0,
                      "length": 19
                    }
                  ],
                  "5": []
                },
                {
                  "0": "No plot whatsoever!  ",
                  "1": "negative",
                  "3": {
                    "positive": 0.02,
                    "neutral": 0.05,
                    "negative": 0.94
                  },
                  "4": [
                    {
                      "sentiment": "negative",
                      "confidenceScores": {
                        "positive": 0.02,
                        "neutral": 0.05,
                        "negative": 0.94
                      },
                      "text": "No plot whatsoever!  ",
                      "offset": 0,
                      "length": 21
                    }
                  ],
                  "5": []
                },
                {
                  "0": "Again, no plot at all.  ",
                  "1": "negative",
                  "3": {
                    "positive": 0.01,
                    "neutral": 0.08,
                    "negative": 0.91
                  },
                  "4": [
                    {
                      "sentiment": "negative",
                      "confidenceScores": {
                        "positive": 0.01,
                        "neutral": 0.08,
                        "negative": 0.91
                      },
                      "text": "Again, no plot at all.  ",
                      "offset": 0,
                      "length": 24
                    }
                  ],
                  "5": []
                },
                {
                  "0": "Horrible!  ",
                  "1": "negative",
                  "3": {
                    "positive": 0.03,
                    "neutral": 0.01,
                    "negative": 0.96
                  },
                  "4": [
                    {
                      "sentiment": "negative",
                      "confidenceScores": {
                        "positive": 0.03,
                        "neutral": 0.01,
                        "negative": 0.96
                      },
                      "text": "Horrible!  ",
                      "offset": 0,
                      "length": 11
                    }
                  ],
                  "5": []
                },
                {
                  "0": "Worst hour and a half of my life!Oh my gosh!  ",
                  "1": "negative",
                  "3": {
                    "positive": 0.01,
                    "neutral": 0,
                    "negative": 0.99
                  },
                  "4": [
                    {
                      "sentiment": "negative",
                      "confidenceScores": {
                        "positive": 0.01,
                        "neutral": 0,
                        "negative": 0.99
                      },
                      "text": "Worst hour and a half of my life!",
                      "offset": 0,
                      "length": 33
                    },
                    {
                      "sentiment": "neutral",
                      "confidenceScores": {
                        "positive": 0.39,
                        "neutral": 0.45,
                        "negative": 0.17
                      },
                      "text": "Oh my gosh!  ",
                      "offset": 33,
                      "length": 13
                    }
                  ],
                  "5": []
                },
                {
                  "0": "I had to walk out of the theatre for a few minutes just to get some relief!  ",
                  "1": "positive",
                  "3": {
                    "positive": 0.65,
                    "neutral": 0.25,
                    "negative": 0.1
                  },
                  "4": [
                    {
                      "sentiment": "positive",
                      "confidenceScores": {
                        "positive": 0.65,
                        "neutral": 0.25,
                        "negative": 0.1
                      },
                      "text": "I had to walk out of the theatre for a few minutes just to get some relief!  ",
                      "offset": 0,
                      "length": 77
                    }
                  ],
                  "5": []
                },
                {
                  "0": "I hate movies like that.  ",
                  "1": "negative",
                  "3": {
                    "positive": 0.01,
                    "neutral": 0.01,
                    "negative": 0.98
                  },
                  "4": [
                    {
                      "sentiment": "negative",
                      "confidenceScores": {
                        "positive": 0.01,
                        "neutral": 0.01,
                        "negative": 0.98
                      },
                      "text": "I hate movies like that.  ",
                      "offset": 0,
                      "length": 26
                    }
                  ],
                  "5": []
                },
                {
                  "0": "Yeah, the movie pretty much sucked.  ",
                  "1": "negative",
                  "3": {
                    "positive": 0,
                    "neutral": 0.01,
                    "negative": 0.99
                  },
                  "4": [
                    {
                      "sentiment": "negative",
                      "confidenceScores": {
                        "positive": 0,
                        "neutral": 0.01,
                        "negative": 0.99
                      },
                      "text": "Yeah, the movie pretty much sucked.  ",
                      "offset": 0,
                      "length": 37
                    }
                  ],
                  "5": []
                },
                {
                  "0": "THERE IS NO PLOT OR STORYLINE!!  ",
                  "1": "negative",
                  "3": {
                    "positive": 0.03,
                    "neutral": 0.25,
                    "negative": 0.73
                  },
                  "4": [
                    {
                      "sentiment": "negative",
                      "confidenceScores": {
                        "positive": 0.03,
                        "neutral": 0.25,
                        "negative": 0.73
                      },
                      "text": "THERE IS NO PLOT OR STORYLINE!!  ",
                      "offset": 0,
                      "length": 33
                    }
                  ],
                  "5": []
                },
                {
                  "0": "If you do go see this movie, bring a pillow or a girlfriend/boyfriend to keep you occupied through out.  ",
                  "1": "positive",
                  "3": {
                    "positive": 0.59,
                    "neutral": 0.39,
                    "negative": 0.02
                  },
                  "4": [
                    {
                      "sentiment": "positive",
                      "confidenceScores": {
                        "positive": 0.59,
                        "neutral": 0.39,
                        "negative": 0.02
                      },
                      "text": "If you do go see this movie, bring a pillow or a girlfriend/boyfriend to keep you occupied through out.  ",
                      "offset": 0,
                      "length": 105
                    }
                  ],
                  "5": []
                },
                {
                  "0": "Awful.  ",
                  "1": "negative",
                  "3": {
                    "positive": 0.01,
                    "neutral": 0,
                    "negative": 0.99
                  },
                  "4": [
                    {
                      "sentiment": "negative",
                      "confidenceScores": {
                        "positive": 0.01,
                        "neutral": 0,
                        "negative": 0.99
                      },
                      "text": "Awful.  ",
                      "offset": 0,
                      "length": 8
                    }
                  ],
                  "5": []
                },
                {
                  "0": "I don't think I've ever gone to a movie and disliked it as much.  ",
                  "1": "negative",
                  "3": {
                    "positive": 0.01,
                    "neutral": 0.02,
                    "negative": 0.97
                  },
                  "4": [
                    {
                      "sentiment": "negative",
                      "confidenceScores": {
                        "positive": 0.01,
                        "neutral": 0.02,
                        "negative": 0.97
                      },
                      "text": "I don't think I've ever gone to a movie and disliked it as much.  ",
                      "offset": 0,
                      "length": 66
                    }
                  ],
                  "5": []
                },
                {
                  "0": "It was a good thing that the tickets only cost five dollars because I would be mad if I'd have paid $7.50 to see this crap.  ",
                  "1": "negative",
                  "3": {
                    "positive": 0.01,
                    "neutral": 0,
                    "negative": 0.98
                  },
                  "4": [
                    {
                      "sentiment": "negative",
                      "confidenceScores": {
                        "positive": 0.01,
                        "neutral": 0,
                        "negative": 0.98
                      },
                      "text": "It was a good thing that the tickets only cost five dollars because I would be mad if I'd have paid $7.50 to see this crap.  ",
                      "offset": 0,
                      "length": 125
                    }
                  ],
                  "5": []
                },
                {
                  "0": "NOBODY identifies with these characters because they're all cardboard cutouts and stereotypes (or predictably reverse-stereotypes).  ",
                  "1": "negative",
                  "3": {
                    "positive": 0.01,
                    "neutral": 0.12,
                    "negative": 0.88
                  },
                  "4": [
                    {
                      "sentiment": "negative",
                      "confidenceScores": {
                        "positive": 0.01,
                        "neutral": 0.12,
                        "negative": 0.88
                      },
                      "text": "NOBODY identifies with these characters because they're all cardboard cutouts and stereotypes (or predictably reverse-stereotypes).  ",
                      "offset": 0,
                      "length": 133
                    }
                  ],
                  "5": []
                },
                {
                  "0": "This is a bad film, with bad writing, and good actors....an ugly cartoon crafted by Paul Haggis for people who can't handle anything but the bold strokes in storytelling....a picture painted with crayons.  ",
                  "1": "negative",
                  "3": {
                    "positive": 0.01,
                    "neutral": 0,
                    "negative": 0.99
                  },
                  "4": [
                    {
                      "sentiment": "negative",
                      "confidenceScores": {
                        "positive": 0.01,
                        "neutral": 0,
                        "negative": 0.99
                      },
                      "text": "This is a bad film, with bad writing, and good actors....",
                      "offset": 0,
                      "length": 57
                    },
                    {
                      "sentiment": "negative",
                      "confidenceScores": {
                        "positive": 0.01,
                        "neutral": 0,
                        "negative": 0.99
                      },
                      "text": "an ugly cartoon crafted by Paul Haggis for people who can't handle anything but the bold strokes in storytelling....",
                      "offset": 57,
                      "length": 116
                    },
                    {
                      "sentiment": "neutral",
                      "confidenceScores": {
                        "positive": 0.01,
                        "neutral": 0.96,
                        "negative": 0.02
                      },
                      "text": "a picture painted with crayons.  ",
                      "offset": 173,
                      "length": 33
                    }
                  ],
                  "5": []
                },
                {
                  "0": "Crash is a depressing little nothing, that provokes emotion, but teaches you nothing if you already know racism and prejudice are bad things.  ",
                  "1": "negative",
                  "3": {
                    "positive": 0.01,
                    "neutral": 0,
                    "negative": 0.99
                  },
                  "4": [
                    {
                      "sentiment": "negative",
                      "confidenceScores": {
                        "positive": 0.01,
                        "neutral": 0,
                        "negative": 0.99
                      },
                      "text": "Crash is a depressing little nothing, that provokes emotion, but teaches you nothing if you already know racism and prejudice are bad things.  ",
                      "offset": 0,
                      "length": 143
                    }
                  ],
                  "5": []
                },
                {
                  "0": "\"Still, I do like this movie for it's empowerment of women; there's not enough movies out there like this one.  \"",
                  "1": "mixed",
                  "3": {
                    "positive": 0.48,
                    "neutral": 0.02,
                    "negative": 0.5
                  },
                  "4": [
                    {
                      "sentiment": "positive",
                      "confidenceScores": {
                        "positive": 0.96,
                        "neutral": 0.02,
                        "negative": 0.02
                      },
                      "text": "\"Still, I do like this movie for it's empowerment of women; ",
                      "offset": 0,
                      "length": 60
                    },
                    {
                      "sentiment": "negative",
                      "confidenceScores": {
                        "positive": 0,
                        "neutral": 0.01,
                        "negative": 0.98
                      },
                      "text": "there's not enough movies out there like this one.  ",
                      "offset": 60,
                      "length": 52
                    },
                    {
                      "sentiment": "neutral",
                      "confidenceScores": {
                        "positive": 0.27,
                        "neutral": 0.59,
                        "negative": 0.14
                      },
                      "text": "\"",
                      "offset": 112,
                      "length": 1
                    }
                  ],
                  "5": []
                },
                {
                  "0": "Your brain will attempt to shut-down as part of a primal impulse of self-preservation.  ",
                  "1": "negative",
                  "3": {
                    "positive": 0.01,
                    "neutral": 0.39,
                    "negative": 0.6
                  },
                  "4": [
                    {
                      "sentiment": "negative",
                      "confidenceScores": {
                        "positive": 0.01,
                        "neutral": 0.39,
                        "negative": 0.6
                      },
                      "text": "Your brain will attempt to shut-down as part of a primal impulse of self-preservation.  ",
                      "offset": 0,
                      "length": 88
                    }
                  ],
                  "5": []
                },
                {
                  "0": "I was left shattered from the experience of watching this 'film' and I took a good two hours to fully recover.  ",
                  "1": "negative",
                  "3": {
                    "positive": 0.01,
                    "neutral": 0,
                    "negative": 0.99
                  },
                  "4": [
                    {
                      "sentiment": "negative",
                      "confidenceScores": {
                        "positive": 0.01,
                        "neutral": 0,
                        "negative": 0.99
                      },
                      "text": "I was left shattered from the experience of watching this 'film' and I took a good two hours to fully recover.  ",
                      "offset": 0,
                      "length": 112
                    }
                  ],
                  "5": []
                },
                {
                  "0": "This movie now joins Revenge of the Boogeyman and Zombiez as part of the hellish trinity of horror films.  ",
                  "1": "negative",
                  "3": {
                    "positive": 0.01,
                    "neutral": 0.01,
                    "negative": 0.98
                  },
                  "4": [
                    {
                      "sentiment": "negative",
                      "confidenceScores": {
                        "positive": 0.01,
                        "neutral": 0.01,
                        "negative": 0.98
                      },
                      "text": "This movie now joins Revenge of the Boogeyman and Zombiez as part of the hellish trinity of horror films.  ",
                      "offset": 0,
                      "length": 107
                    }
                  ],
                  "5": []
                },
                {
                  "0": "I certainly do not mean this distinction in a good way.  ",
                  "1": "negative",
                  "3": {
                    "positive": 0.01,
                    "neutral": 0.01,
                    "negative": 0.98
                  },
                  "4": [
                    {
                      "sentiment": "negative",
                      "confidenceScores": {
                        "positive": 0.01,
                        "neutral": 0.01,
                        "negative": 0.98
                      },
                      "text": "I certainly do not mean this distinction in a good way.  ",
                      "offset": 0,
                      "length": 57
                    }
                  ],
                  "5": []
                },
                {
                  "0": "I mean this in a terrible way.  ",
                  "1": "negative",
                  "3": {
                    "positive": 0.01,
                    "neutral": 0,
                    "negative": 0.99
                  },
                  "4": [
                    {
                      "sentiment": "negative",
                      "confidenceScores": {
                        "positive": 0.01,
                        "neutral": 0,
                        "negative": 0.99
                      },
                      "text": "I mean this in a terrible way.  ",
                      "offset": 0,
                      "length": 32
                    }
                  ],
                  "5": []
                },
                {
                  "0": "This film has no redeeming features.  ",
                  "1": "negative",
                  "3": {
                    "positive": 0.02,
                    "neutral": 0.35,
                    "negative": 0.63
                  },
                  "4": [
                    {
                      "sentiment": "negative",
                      "confidenceScores": {
                        "positive": 0.02,
                        "neutral": 0.35,
                        "negative": 0.63
                      },
                      "text": "This film has no redeeming features.  ",
                      "offset": 0,
                      "length": 38
                    }
                  ],
                  "5": []
                },
                {
                  "0": "Everything is appalling.  ",
                  "1": "negative",
                  "3": {
                    "positive": 0.01,
                    "neutral": 0,
                    "negative": 0.99
                  },
                  "4": [
                    {
                      "sentiment": "negative",
                      "confidenceScores": {
                        "positive": 0.01,
                        "neutral": 0,
                        "negative": 0.99
                      },
                      "text": "Everything is appalling.  ",
                      "offset": 0,
                      "length": 26
                    }
                  ],
                  "5": []
                },
                {
                  "0": "Artless camera-work endlessly presents us with the ugliest setting imaginable, i.e.  ",
                  "1": "negative",
                  "3": {
                    "positive": 0.01,
                    "neutral": 0.01,
                    "negative": 0.98
                  },
                  "4": [
                    {
                      "sentiment": "negative",
                      "confidenceScores": {
                        "positive": 0.01,
                        "neutral": 0.01,
                        "negative": 0.98
                      },
                      "text": "Artless camera-work endlessly presents us with the ugliest setting imaginable, i.e.  ",
                      "offset": 0,
                      "length": 85
                    }
                  ],
                  "5": []
                },
                {
                  "0": "The story is beyond stupid.  ",
                  "1": "negative",
                  "3": {
                    "positive": 0.01,
                    "neutral": 0,
                    "negative": 0.99
                  },
                  "4": [
                    {
                      "sentiment": "negative",
                      "confidenceScores": {
                        "positive": 0.01,
                        "neutral": 0,
                        "negative": 0.99
                      },
                      "text": "The story is beyond stupid.  ",
                      "offset": 0,
                      "length": 29
                    }
                  ],
                  "5": []
                },
                {
                  "0": "The script iswas there a script?  ",
                  "1": "neutral",
                  "3": {
                    "positive": 0.01,
                    "neutral": 0.88,
                    "negative": 0.1
                  },
                  "4": [
                    {
                      "sentiment": "neutral",
                      "confidenceScores": {
                        "positive": 0.01,
                        "neutral": 0.88,
                        "negative": 0.1
                      },
                      "text": "The script iswas there a script?  ",
                      "offset": 0,
                      "length": 35
                    }
                  ],
                  "5": []
                },
                {
                  "0": "The kids are annoying.  ",
                  "1": "negative",
                  "3": {
                    "positive": 0,
                    "neutral": 0.01,
                    "negative": 0.99
                  },
                  "4": [
                    {
                      "sentiment": "negative",
                      "confidenceScores": {
                        "positive": 0,
                        "neutral": 0.01,
                        "negative": 0.99
                      },
                      "text": "The kids are annoying.  ",
                      "offset": 0,
                      "length": 24
                    }
                  ],
                  "5": []
                },
                {
                  "0": "The lead man is charisma-free.  ",
                  "1": "neutral",
                  "3": {
                    "positive": 0.28,
                    "neutral": 0.62,
                    "negative": 0.1
                  },
                  "4": [
                    {
                      "sentiment": "neutral",
                      "confidenceScores": {
                        "positive": 0.28,
                        "neutral": 0.62,
                        "negative": 0.1
                      },
                      "text": "The lead man is charisma-free.  ",
                      "offset": 0,
                      "length": 32
                    }
                  ],
                  "5": []
                },
                {
                  "0": "Utterly without merit on any level, this is akin to torture.  ",
                  "1": "negative",
                  "3": {
                    "positive": 0,
                    "neutral": 0,
                    "negative": 0.99
                  },
                  "4": [
                    {
                      "sentiment": "negative",
                      "confidenceScores": {
                        "positive": 0,
                        "neutral": 0,
                        "negative": 0.99
                      },
                      "text": "Utterly without merit on any level, this is akin to torture.  ",
                      "offset": 0,
                      "length": 62
                    }
                  ],
                  "5": []
                },
                {
                  "0": "I'll even say it again  this is torture.  ",
                  "1": "negative",
                  "3": {
                    "positive": 0.01,
                    "neutral": 0.02,
                    "negative": 0.98
                  },
                  "4": [
                    {
                      "sentiment": "negative",
                      "confidenceScores": {
                        "positive": 0.01,
                        "neutral": 0.02,
                        "negative": 0.98
                      },
                      "text": "I'll even say it again  this is torture.  ",
                      "offset": 0,
                      "length": 43
                    }
                  ],
                  "5": []
                },
                {
                  "0": "Maybe there would be a reasonable explanation for this atrocity.  ",
                  "1": "negative",
                  "3": {
                    "positive": 0.01,
                    "neutral": 0.02,
                    "negative": 0.98
                  },
                  "4": [
                    {
                      "sentiment": "negative",
                      "confidenceScores": {
                        "positive": 0.01,
                        "neutral": 0.02,
                        "negative": 0.98
                      },
                      "text": "Maybe there would be a reasonable explanation for this atrocity.  ",
                      "offset": 0,
                      "length": 66
                    }
                  ],
                  "5": []
                },
                {
                  "0": "Not a pleasant voyage of self-discovery.  ",
                  "1": "negative",
                  "3": {
                    "positive": 0.01,
                    "neutral": 0,
                    "negative": 0.99
                  },
                  "4": [
                    {
                      "sentiment": "negative",
                      "confidenceScores": {
                        "positive": 0.01,
                        "neutral": 0,
                        "negative": 0.99
                      },
                      "text": "Not a pleasant voyage of self-discovery.  ",
                      "offset": 0,
                      "length": 42
                    }
                  ],
                  "5": []
                },
                {
                  "0": "Highly unrecommended.  ",
                  "1": "negative",
                  "3": {
                    "positive": 0.04,
                    "neutral": 0,
                    "negative": 0.95
                  },
                  "4": [
                    {
                      "sentiment": "negative",
                      "confidenceScores": {
                        "positive": 0.04,
                        "neutral": 0,
                        "negative": 0.95
                      },
                      "text": "Highly unrecommended.  ",
                      "offset": 0,
                      "length": 23
                    }
                  ],
                  "5": []
                },
                {
                  "0": "If this premise sound stupid, that's because it is.  ",
                  "1": "negative",
                  "3": {
                    "positive": 0,
                    "neutral": 0.01,
                    "negative": 0.99
                  },
                  "4": [
                    {
                      "sentiment": "negative",
                      "confidenceScores": {
                        "positive": 0,
                        "neutral": 0.01,
                        "negative": 0.99
                      },
                      "text": "If this premise sound stupid, that's because it is.  ",
                      "offset": 0,
                      "length": 53
                    }
                  ],
                  "5": []
                },
                {
                  "0": "Yes, it's that bad.  ",
                  "1": "negative",
                  "3": {
                    "positive": 0,
                    "neutral": 0.02,
                    "negative": 0.98
                  },
                  "4": [
                    {
                      "sentiment": "negative",
                      "confidenceScores": {
                        "positive": 0,
                        "neutral": 0.02,
                        "negative": 0.98
                      },
                      "text": "Yes, it's that bad.  ",
                      "offset": 0,
                      "length": 21
                    }
                  ],
                  "5": []
                },
                {
                  "0": "Nothing at all to recommend.  ",
                  "1": "negative",
                  "3": {
                    "positive": 0.02,
                    "neutral": 0.01,
                    "negative": 0.97
                  },
                  "4": [
                    {
                      "sentiment": "negative",
                      "confidenceScores": {
                        "positive": 0.02,
                        "neutral": 0.01,
                        "negative": 0.97
                      },
                      "text": "Nothing at all to recommend.  ",
                      "offset": 0,
                      "length": 30
                    }
                  ],
                  "5": []
                },
                {
                  "0": "An excellent performance from Ms.  ",
                  "1": "positive",
                  "3": {
                    "positive": 1,
                    "neutral": 0,
                    "negative": 0
                  },
                  "4": [
                    {
                      "sentiment": "positive",
                      "confidenceScores": {
                        "positive": 1,
                        "neutral": 0,
                        "negative": 0
                      },
                      "text": "An excellent performance from Ms.  ",
                      "offset": 0,
                      "length": 35
                    }
                  ],
                  "5": []
                },
                {
                  "0": "Garbo, who showed right off the bat that her talents could carry over from the silent era (I wanted to see some of her silent work, but Netflix doesn't seem to be stocking them.  ",
                  "1": "negative",
                  "3": {
                    "positive": 0.06,
                    "neutral": 0.17,
                    "negative": 0.77
                  },
                  "4": [
                    {
                      "sentiment": "negative",
                      "confidenceScores": {
                        "positive": 0.06,
                        "neutral": 0.17,
                        "negative": 0.77
                      },
                      "text": "Garbo, who showed right off the bat that her talents could carry over from the silent era (I wanted to see some of her silent work, but Netflix doesn't seem to be stocking them.  ",
                      "offset": 0,
                      "length": 179
                    }
                  ],
                  "5": []
                },
                {
                  "0": "It's also great to see that renowned silent screenwriter Frances Marion hasn't missed a step going from silent to sound.  ",
                  "1": "positive",
                  "3": {
                    "positive": 0.99,
                    "neutral": 0,
                    "negative": 0
                  },
                  "4": [
                    {
                      "sentiment": "positive",
                      "confidenceScores": {
                        "positive": 0.99,
                        "neutral": 0,
                        "negative": 0
                      },
                      "text": "It's also great to see that renowned silent screenwriter Frances Marion hasn't missed a step going from silent to sound.  ",
                      "offset": 0,
                      "length": 122
                    }
                  ],
                  "5": []
                },
                {
                  "0": "This movie suffered because of the writing, it needed more suspense.  ",
                  "1": "negative",
                  "3": {
                    "positive": 0,
                    "neutral": 0,
                    "negative": 0.99
                  },
                  "4": [
                    {
                      "sentiment": "negative",
                      "confidenceScores": {
                        "positive": 0,
                        "neutral": 0,
                        "negative": 0.99
                      },
                      "text": "This movie suffered because of the writing, it needed more suspense.  ",
                      "offset": 0,
                      "length": 70
                    }
                  ],
                  "5": []
                },
                {
                  "0": "There were too many close ups.  ",
                  "1": "negative",
                  "3": {
                    "positive": 0,
                    "neutral": 0.03,
                    "negative": 0.96
                  },
                  "4": [
                    {
                      "sentiment": "negative",
                      "confidenceScores": {
                        "positive": 0,
                        "neutral": 0.03,
                        "negative": 0.96
                      },
                      "text": "There were too many close ups.  ",
                      "offset": 0,
                      "length": 32
                    }
                  ],
                  "5": []
                },
                {
                  "0": "But other than that the movie seemed to drag and the heroes didn't really work for their freedom.  ",
                  "1": "negative",
                  "3": {
                    "positive": 0,
                    "neutral": 0,
                    "negative": 0.99
                  },
                  "4": [
                    {
                      "sentiment": "negative",
                      "confidenceScores": {
                        "positive": 0,
                        "neutral": 0,
                        "negative": 0.99
                      },
                      "text": "But other than that the movie seemed to drag and the heroes didn't really work for their freedom.  ",
                      "offset": 0,
                      "length": 99
                    }
                  ],
                  "5": []
                },
                {
                  "0": "But this movie is definitely a below average rent.  ",
                  "1": "negative",
                  "3": {
                    "positive": 0.06,
                    "neutral": 0.08,
                    "negative": 0.86
                  },
                  "4": [
                    {
                      "sentiment": "negative",
                      "confidenceScores": {
                        "positive": 0.06,
                        "neutral": 0.08,
                        "negative": 0.86
                      },
                      "text": "But this movie is definitely a below average rent.  ",
                      "offset": 0,
                      "length": 52
                    }
                  ],
                  "5": []
                },
                {
                  "0": "\"You'll love it!  \t1\"",
                  "1": "positive",
                  "3": {
                    "positive": 0.99,
                    "neutral": 0.01,
                    "negative": 0
                  },
                  "4": [
                    {
                      "sentiment": "positive",
                      "confidenceScores": {
                        "positive": 0.99,
                        "neutral": 0.01,
                        "negative": 0
                      },
                      "text": "\"You'll love it!  \t",
                      "offset": 0,
                      "length": 19
                    },
                    {
                      "sentiment": "neutral",
                      "confidenceScores": {
                        "positive": 0.01,
                        "neutral": 0.98,
                        "negative": 0.01
                      },
                      "text": "1\"",
                      "offset": 19,
                      "length": 2
                    }
                  ],
                  "5": []
                },
                {
                  "0": "This movie is BAD.  ",
                  "1": "negative",
                  "3": {
                    "positive": 0.01,
                    "neutral": 0,
                    "negative": 0.99
                  },
                  "4": [
                    {
                      "sentiment": "negative",
                      "confidenceScores": {
                        "positive": 0.01,
                        "neutral": 0,
                        "negative": 0.99
                      },
                      "text": "This movie is BAD.  ",
                      "offset": 0,
                      "length": 20
                    }
                  ],
                  "5": []
                },
                {
                  "0": "So bad.  ",
                  "1": "negative",
                  "3": {
                    "positive": 0.01,
                    "neutral": 0.01,
                    "negative": 0.99
                  },
                  "4": [
                    {
                      "sentiment": "negative",
                      "confidenceScores": {
                        "positive": 0.01,
                        "neutral": 0.01,
                        "negative": 0.99
                      },
                      "text": "So bad.  ",
                      "offset": 0,
                      "length": 9
                    }
                  ],
                  "5": []
                },
                {
                  "0": "The film is way too long.  ",
                  "1": "negative",
                  "3": {
                    "positive": 0,
                    "neutral": 0.01,
                    "negative": 0.99
                  },
                  "4": [
                    {
                      "sentiment": "negative",
                      "confidenceScores": {
                        "positive": 0,
                        "neutral": 0.01,
                        "negative": 0.99
                      },
                      "text": "The film is way too long.  ",
                      "offset": 0,
                      "length": 27
                    }
                  ],
                  "5": []
                },
                {
                  "0": "This is definitely one of the bad ones.  ",
                  "1": "negative",
                  "3": {
                    "positive": 0,
                    "neutral": 0,
                    "negative": 0.99
                  },
                  "4": [
                    {
                      "sentiment": "negative",
                      "confidenceScores": {
                        "positive": 0,
                        "neutral": 0,
                        "negative": 0.99
                      },
                      "text": "This is definitely one of the bad ones.  ",
                      "offset": 0,
                      "length": 41
                    }
                  ],
                  "5": []
                },
                {
                  "0": "The movie I received was a great quality film for it's age.  ",
                  "1": "positive",
                  "3": {
                    "positive": 0.99,
                    "neutral": 0,
                    "negative": 0
                  },
                  "4": [
                    {
                      "sentiment": "positive",
                      "confidenceScores": {
                        "positive": 0.99,
                        "neutral": 0,
                        "negative": 0
                      },
                      "text": "The movie I received was a great quality film for it's age.  ",
                      "offset": 0,
                      "length": 61
                    }
                  ],
                  "5": []
                },
                {
                  "0": "John Wayne did an incredible job for being so young in the movie industry.  ",
                  "1": "positive",
                  "3": {
                    "positive": 0.99,
                    "neutral": 0,
                    "negative": 0
                  },
                  "4": [
                    {
                      "sentiment": "positive",
                      "confidenceScores": {
                        "positive": 0.99,
                        "neutral": 0,
                        "negative": 0
                      },
                      "text": "John Wayne did an incredible job for being so young in the movie industry.  ",
                      "offset": 0,
                      "length": 76
                    }
                  ],
                  "5": []
                },
                {
                  "0": "His on screen presence shined thought even though there were other senior actors on the screen with him.  ",
                  "1": "neutral",
                  "3": {
                    "positive": 0.16,
                    "neutral": 0.64,
                    "negative": 0.2
                  },
                  "4": [
                    {
                      "sentiment": "neutral",
                      "confidenceScores": {
                        "positive": 0.16,
                        "neutral": 0.64,
                        "negative": 0.2
                      },
                      "text": "His on screen presence shined thought even though there were other senior actors on the screen with him.  ",
                      "offset": 0,
                      "length": 106
                    }
                  ],
                  "5": []
                },
                {
                  "0": "I think that it is a must see older John Wayne film.  ",
                  "1": "positive",
                  "3": {
                    "positive": 0.64,
                    "neutral": 0.23,
                    "negative": 0.13
                  },
                  "4": [
                    {
                      "sentiment": "positive",
                      "confidenceScores": {
                        "positive": 0.64,
                        "neutral": 0.23,
                        "negative": 0.13
                      },
                      "text": "I think that it is a must see older John Wayne film.  ",
                      "offset": 0,
                      "length": 54
                    }
                  ],
                  "5": []
                },
                {
                  "0": "I really don't see how anyone could enjoy this movie.  ",
                  "1": "negative",
                  "3": {
                    "positive": 0.17,
                    "neutral": 0.02,
                    "negative": 0.81
                  },
                  "4": [
                    {
                      "sentiment": "negative",
                      "confidenceScores": {
                        "positive": 0.17,
                        "neutral": 0.02,
                        "negative": 0.81
                      },
                      "text": "I really don't see how anyone could enjoy this movie.  ",
                      "offset": 0,
                      "length": 55
                    }
                  ],
                  "5": []
                },
                {
                  "0": "I don't think I've ever seen a movie half as boring as this self-indulgent piece of junk.  ",
                  "1": "negative",
                  "3": {
                    "positive": 0.01,
                    "neutral": 0.01,
                    "negative": 0.99
                  },
                  "4": [
                    {
                      "sentiment": "negative",
                      "confidenceScores": {
                        "positive": 0.01,
                        "neutral": 0.01,
                        "negative": 0.99
                      },
                      "text": "I don't think I've ever seen a movie half as boring as this self-indulgent piece of junk.  ",
                      "offset": 0,
                      "length": 91
                    }
                  ],
                  "5": []
                },
                {
                  "0": "It probably would have been better if the director hadn't spent most of the movie showcasing his own art work, which really isn't that noteworthy.  ",
                  "1": "negative",
                  "3": {
                    "positive": 0.07,
                    "neutral": 0.03,
                    "negative": 0.91
                  },
                  "4": [
                    {
                      "sentiment": "negative",
                      "confidenceScores": {
                        "positive": 0.07,
                        "neutral": 0.03,
                        "negative": 0.91
                      },
                      "text": "It probably would have been better if the director hadn't spent most of the movie showcasing his own art work, which really isn't that noteworthy.  ",
                      "offset": 0,
                      "length": 148
                    }
                  ],
                  "5": []
                },
                {
                  "0": "Another thing I didn't really like is when a character got punched in the face, a gallon of blood would spew forth soon after.  ",
                  "1": "negative",
                  "3": {
                    "positive": 0,
                    "neutral": 0.01,
                    "negative": 0.99
                  },
                  "4": [
                    {
                      "sentiment": "negative",
                      "confidenceScores": {
                        "positive": 0,
                        "neutral": 0.01,
                        "negative": 0.99
                      },
                      "text": "Another thing I didn't really like is when a character got punched in the face, a gallon of blood would spew forth soon after.  ",
                      "offset": 0,
                      "length": 128
                    }
                  ],
                  "5": []
                },
                {
                  "0": "Jamie Foxx absolutely IS Ray Charles.  ",
                  "1": "neutral",
                  "3": {
                    "positive": 0.07,
                    "neutral": 0.87,
                    "negative": 0.05
                  },
                  "4": [
                    {
                      "sentiment": "neutral",
                      "confidenceScores": {
                        "positive": 0.07,
                        "neutral": 0.87,
                        "negative": 0.05
                      },
                      "text": "Jamie Foxx absolutely IS Ray Charles.  ",
                      "offset": 0,
                      "length": 39
                    }
                  ],
                  "5": []
                },
                {
                  "0": "His performance is simply genius.  ",
                  "1": "positive",
                  "3": {
                    "positive": 0.97,
                    "neutral": 0.01,
                    "negative": 0.02
                  },
                  "4": [
                    {
                      "sentiment": "positive",
                      "confidenceScores": {
                        "positive": 0.97,
                        "neutral": 0.01,
                        "negative": 0.02
                      },
                      "text": "His performance is simply genius.  ",
                      "offset": 0,
                      "length": 35
                    }
                  ],
                  "5": []
                },
                {
                  "0": "\"He owns the film, just as Spacek owned \"\"Coal Miner's Daughter\"\" and Quaid owned \"\"Great Balls of Fire.  \"",
                  "1": "neutral",
                  "3": {
                    "positive": 0.28,
                    "neutral": 0.49,
                    "negative": 0.23
                  },
                  "4": [
                    {
                      "sentiment": "neutral",
                      "confidenceScores": {
                        "positive": 0.3,
                        "neutral": 0.39,
                        "negative": 0.31
                      },
                      "text": "\"He owns the film, just as Spacek owned \"\"Coal Miner's Daughter\"\" and Quaid owned \"\"Great Balls of Fire.  ",
                      "offset": 0,
                      "length": 106
                    },
                    {
                      "sentiment": "neutral",
                      "confidenceScores": {
                        "positive": 0.27,
                        "neutral": 0.59,
                        "negative": 0.14
                      },
                      "text": "\"",
                      "offset": 106,
                      "length": 1
                    }
                  ],
                  "5": []
                },
                {
                  "0": "\" In fact, it's hard to remember that the part of Ray Charles is being acted, and not played by the man himself.  \t1\"",
                  "1": "negative",
                  "3": {
                    "positive": 0,
                    "neutral": 0.04,
                    "negative": 0.96
                  },
                  "4": [
                    {
                      "sentiment": "negative",
                      "confidenceScores": {
                        "positive": 0,
                        "neutral": 0.04,
                        "negative": 0.96
                      },
                      "text": "\" In fact, it's hard to remember that the part of Ray Charles is being acted, and not played by the man himself.  \t",
                      "offset": 0,
                      "length": 115
                    },
                    {
                      "sentiment": "neutral",
                      "confidenceScores": {
                        "positive": 0.01,
                        "neutral": 0.98,
                        "negative": 0.01
                      },
                      "text": "1\"",
                      "offset": 115,
                      "length": 2
                    }
                  ],
                  "5": []
                },
                {
                  "0": "Ray Charles is legendary.  ",
                  "1": "neutral",
                  "3": {
                    "positive": 0.4,
                    "neutral": 0.56,
                    "negative": 0.04
                  },
                  "4": [
                    {
                      "sentiment": "neutral",
                      "confidenceScores": {
                        "positive": 0.4,
                        "neutral": 0.56,
                        "negative": 0.04
                      },
                      "text": "Ray Charles is legendary.  ",
                      "offset": 0,
                      "length": 27
                    }
                  ],
                  "5": []
                },
                {
                  "0": "Ray Charles' life provided excellent biographical material for the film, which goes well beyond being just another movie about a musician.  ",
                  "1": "positive",
                  "3": {
                    "positive": 0.99,
                    "neutral": 0,
                    "negative": 0
                  },
                  "4": [
                    {
                      "sentiment": "positive",
                      "confidenceScores": {
                        "positive": 0.99,
                        "neutral": 0,
                        "negative": 0
                      },
                      "text": "Ray Charles' life provided excellent biographical material for the film, which goes well beyond being just another movie about a musician.  ",
                      "offset": 0,
                      "length": 140
                    }
                  ],
                  "5": []
                },
                {
                  "0": "Hitchcock is a great director.  ",
                  "1": "positive",
                  "3": {
                    "positive": 1,
                    "neutral": 0,
                    "negative": 0
                  },
                  "4": [
                    {
                      "sentiment": "positive",
                      "confidenceScores": {
                        "positive": 1,
                        "neutral": 0,
                        "negative": 0
                      },
                      "text": "Hitchcock is a great director.  ",
                      "offset": 0,
                      "length": 32
                    }
                  ],
                  "5": []
                },
                {
                  "0": "Ironically I mostly find his films a total waste of time to watch.  ",
                  "1": "negative",
                  "3": {
                    "positive": 0,
                    "neutral": 0,
                    "negative": 0.99
                  },
                  "4": [
                    {
                      "sentiment": "negative",
                      "confidenceScores": {
                        "positive": 0,
                        "neutral": 0,
                        "negative": 0.99
                      },
                      "text": "Ironically I mostly find his films a total waste of time to watch.  ",
                      "offset": 0,
                      "length": 68
                    }
                  ],
                  "5": []
                },
                {
                  "0": "Secondly, Hitchcock pretty much perfected the thriller and chase movie.  ",
                  "1": "positive",
                  "3": {
                    "positive": 0.8,
                    "neutral": 0.04,
                    "negative": 0.15
                  },
                  "4": [
                    {
                      "sentiment": "positive",
                      "confidenceScores": {
                        "positive": 0.8,
                        "neutral": 0.04,
                        "negative": 0.15
                      },
                      "text": "Secondly, Hitchcock pretty much perfected the thriller and chase movie.  ",
                      "offset": 0,
                      "length": 73
                    }
                  ],
                  "5": []
                },
                {
                  "0": "It's this pandering to the audience that sabotages most of his films.  ",
                  "1": "negative",
                  "3": {
                    "positive": 0,
                    "neutral": 0.01,
                    "negative": 0.99
                  },
                  "4": [
                    {
                      "sentiment": "negative",
                      "confidenceScores": {
                        "positive": 0,
                        "neutral": 0.01,
                        "negative": 0.99
                      },
                      "text": "It's this pandering to the audience that sabotages most of his films.  ",
                      "offset": 0,
                      "length": 71
                    }
                  ],
                  "5": []
                },
                {
                  "0": "Hence the whole story lacks a certain energy.  ",
                  "1": "negative",
                  "3": {
                    "positive": 0.01,
                    "neutral": 0.02,
                    "negative": 0.97
                  },
                  "4": [
                    {
                      "sentiment": "negative",
                      "confidenceScores": {
                        "positive": 0.01,
                        "neutral": 0.02,
                        "negative": 0.97
                      },
                      "text": "Hence the whole story lacks a certain energy.  ",
                      "offset": 0,
                      "length": 47
                    }
                  ],
                  "5": []
                },
                {
                  "0": "The plot simply rumbles on like a machine, desperately depending on the addition of new scenes.  ",
                  "1": "negative",
                  "3": {
                    "positive": 0,
                    "neutral": 0.01,
                    "negative": 0.99
                  },
                  "4": [
                    {
                      "sentiment": "negative",
                      "confidenceScores": {
                        "positive": 0,
                        "neutral": 0.01,
                        "negative": 0.99
                      },
                      "text": "The plot simply rumbles on like a machine, desperately depending on the addition of new scenes.  ",
                      "offset": 0,
                      "length": 97
                    }
                  ],
                  "5": []
                },
                {
                  "0": "There are the usual Hitchcock logic flaws.  ",
                  "1": "negative",
                  "3": {
                    "positive": 0,
                    "neutral": 0.01,
                    "negative": 0.99
                  },
                  "4": [
                    {
                      "sentiment": "negative",
                      "confidenceScores": {
                        "positive": 0,
                        "neutral": 0.01,
                        "negative": 0.99
                      },
                      "text": "There are the usual Hitchcock logic flaws.  ",
                      "offset": 0,
                      "length": 44
                    }
                  ],
                  "5": []
                },
                {
                  "0": "Mishima is extremely uninteresting.  ",
                  "1": "negative",
                  "3": {
                    "positive": 0,
                    "neutral": 0.01,
                    "negative": 0.98
                  },
                  "4": [
                    {
                      "sentiment": "negative",
                      "confidenceScores": {
                        "positive": 0,
                        "neutral": 0.01,
                        "negative": 0.98
                      },
                      "text": "Mishima is extremely uninteresting.  ",
                      "offset": 0,
                      "length": 37
                    }
                  ],
                  "5": []
                },
                {
                  "0": "This is a chilly, unremarkable movie about an author living/working in a chilly abstruse culture.  ",
                  "1": "negative",
                  "3": {
                    "positive": 0.01,
                    "neutral": 0,
                    "negative": 0.99
                  },
                  "4": [
                    {
                      "sentiment": "negative",
                      "confidenceScores": {
                        "positive": 0.01,
                        "neutral": 0,
                        "negative": 0.99
                      },
                      "text": "This is a chilly, unremarkable movie about an author living/working in a chilly abstruse culture.  ",
                      "offset": 0,
                      "length": 99
                    }
                  ],
                  "5": []
                },
                {
                  "0": "The flat reenactments don't hold your attention because they are emotionally adrift and stagy.  ",
                  "1": "negative",
                  "3": {
                    "positive": 0,
                    "neutral": 0.01,
                    "negative": 0.99
                  },
                  "4": [
                    {
                      "sentiment": "negative",
                      "confidenceScores": {
                        "positive": 0,
                        "neutral": 0.01,
                        "negative": 0.99
                      },
                      "text": "The flat reenactments don't hold your attention because they are emotionally adrift and stagy.  ",
                      "offset": 0,
                      "length": 96
                    }
                  ],
                  "5": []
                },
                {
                  "0": "And the rest of it just sits there being awful... with soldiers singing songs about the masculinity they pledge themselves to, hairsplitting about purity, the admiration of swords, etc.  ",
                  "1": "negative",
                  "3": {
                    "positive": 0.04,
                    "neutral": 0.07,
                    "negative": 0.88
                  },
                  "4": [
                    {
                      "sentiment": "negative",
                      "confidenceScores": {
                        "positive": 0.01,
                        "neutral": 0,
                        "negative": 0.99
                      },
                      "text": "And the rest of it just sits there being awful... ",
                      "offset": 0,
                      "length": 50
                    },
                    {
                      "sentiment": "negative",
                      "confidenceScores": {
                        "positive": 0.08,
                        "neutral": 0.14,
                        "negative": 0.78
                      },
                      "text": "with soldiers singing songs about the masculinity they pledge themselves to, hairsplitting about purity, the admiration of swords, etc.  ",
                      "offset": 50,
                      "length": 137
                    }
                  ],
                  "5": []
                },
                {
                  "0": "He can bore you to pieces, and kill the momentum of a movie, quicker than anyone else.  ",
                  "1": "negative",
                  "3": {
                    "positive": 0.02,
                    "neutral": 0.01,
                    "negative": 0.97
                  },
                  "4": [
                    {
                      "sentiment": "negative",
                      "confidenceScores": {
                        "positive": 0.02,
                        "neutral": 0.01,
                        "negative": 0.97
                      },
                      "text": "He can bore you to pieces, and kill the momentum of a movie, quicker than anyone else.  ",
                      "offset": 0,
                      "length": 88
                    }
                  ],
                  "5": []
                },
                {
                  "0": "Schrader has made a resume full of lousy, amateurish films.  ",
                  "1": "negative",
                  "3": {
                    "positive": 0,
                    "neutral": 0,
                    "negative": 0.99
                  },
                  "4": [
                    {
                      "sentiment": "negative",
                      "confidenceScores": {
                        "positive": 0,
                        "neutral": 0,
                        "negative": 0.99
                      },
                      "text": "Schrader has made a resume full of lousy, amateurish films.  ",
                      "offset": 0,
                      "length": 61
                    }
                  ],
                  "5": []
                },
                {
                  "0": "When I first watched this movie, in the 80s, I loved it.  ",
                  "1": "positive",
                  "3": {
                    "positive": 0.99,
                    "neutral": 0,
                    "negative": 0.01
                  },
                  "4": [
                    {
                      "sentiment": "positive",
                      "confidenceScores": {
                        "positive": 0.99,
                        "neutral": 0,
                        "negative": 0.01
                      },
                      "text": "When I first watched this movie, in the 80s, I loved it.  ",
                      "offset": 0,
                      "length": 58
                    }
                  ],
                  "5": []
                },
                {
                  "0": "I was totally fascinated by the music, the dancing... everything.  ",
                  "1": "positive",
                  "3": {
                    "positive": 0.87,
                    "neutral": 0.08,
                    "negative": 0.05
                  },
                  "4": [
                    {
                      "sentiment": "positive",
                      "confidenceScores": {
                        "positive": 0.87,
                        "neutral": 0.08,
                        "negative": 0.05
                      },
                      "text": "I was totally fascinated by the music, the dancing... ",
                      "offset": 0,
                      "length": 54
                    },
                    {
                      "sentiment": "neutral",
                      "confidenceScores": {
                        "positive": 0.11,
                        "neutral": 0.83,
                        "negative": 0.06
                      },
                      "text": "everything.  ",
                      "offset": 54,
                      "length": 13
                    }
                  ],
                  "5": []
                },
                {
                  "0": "However, I recently watched the whole thing again on DVD, and I was completely struck by how extremely stupid the storyline was - how it contained holes, inconsistencies and - frankly - a whole lot of crap - and how horrid the dancing was.  ",
                  "1": "negative",
                  "3": {
                    "positive": 0,
                    "neutral": 0,
                    "negative": 0.99
                  },
                  "4": [
                    {
                      "sentiment": "negative",
                      "confidenceScores": {
                        "positive": 0,
                        "neutral": 0,
                        "negative": 0.99
                      },
                      "text": "However, I recently watched the whole thing again on DVD, and I was completely struck by how extremely stupid the storyline was - how it contained holes, inconsistencies and - frankly - a whole lot of crap - and how horrid the dancing was.  ",
                      "offset": 0,
                      "length": 241
                    }
                  ],
                  "5": []
                },
                {
                  "0": "I mean, in a realistic world, she would NEVER have gotten into that ballet repertory... The whole thing was quite pathetic.  ",
                  "1": "negative",
                  "3": {
                    "positive": 0,
                    "neutral": 0,
                    "negative": 0.99
                  },
                  "4": [
                    {
                      "sentiment": "neutral",
                      "confidenceScores": {
                        "positive": 0.03,
                        "neutral": 0.58,
                        "negative": 0.39
                      },
                      "text": "I mean, in a realistic world, she would NEVER have gotten into that ballet repertory... ",
                      "offset": 0,
                      "length": 88
                    },
                    {
                      "sentiment": "negative",
                      "confidenceScores": {
                        "positive": 0,
                        "neutral": 0,
                        "negative": 0.99
                      },
                      "text": "The whole thing was quite pathetic.  ",
                      "offset": 88,
                      "length": 37
                    }
                  ],
                  "5": []
                },
                {
                  "0": "The character developments also lacked in depth.  ",
                  "1": "negative",
                  "3": {
                    "positive": 0,
                    "neutral": 0.01,
                    "negative": 0.99
                  },
                  "4": [
                    {
                      "sentiment": "negative",
                      "confidenceScores": {
                        "positive": 0,
                        "neutral": 0.01,
                        "negative": 0.99
                      },
                      "text": "The character developments also lacked in depth.  ",
                      "offset": 0,
                      "length": 50
                    }
                  ],
                  "5": []
                },
                {
                  "0": "Woa, talk about awful.  ",
                  "1": "negative",
                  "3": {
                    "positive": 0.02,
                    "neutral": 0.01,
                    "negative": 0.98
                  },
                  "4": [
                    {
                      "sentiment": "negative",
                      "confidenceScores": {
                        "positive": 0.02,
                        "neutral": 0.01,
                        "negative": 0.98
                      },
                      "text": "Woa, talk about awful.  ",
                      "offset": 0,
                      "length": 24
                    }
                  ],
                  "5": []
                },
                {
                  "0": "Do not waste your time.  ",
                  "1": "positive",
                  "3": {
                    "positive": 0.56,
                    "neutral": 0.25,
                    "negative": 0.19
                  },
                  "4": [
                    {
                      "sentiment": "positive",
                      "confidenceScores": {
                        "positive": 0.56,
                        "neutral": 0.25,
                        "negative": 0.19
                      },
                      "text": "Do not waste your time.  ",
                      "offset": 0,
                      "length": 25
                    }
                  ],
                  "5": []
                },
                {
                  "0": "It was just too horrible.  ",
                  "1": "negative",
                  "3": {
                    "positive": 0.01,
                    "neutral": 0,
                    "negative": 0.99
                  },
                  "4": [
                    {
                      "sentiment": "negative",
                      "confidenceScores": {
                        "positive": 0.01,
                        "neutral": 0,
                        "negative": 0.99
                      },
                      "text": "It was just too horrible.  ",
                      "offset": 0,
                      "length": 27
                    }
                  ],
                  "5": []
                },
                {
                  "0": "The worst, sappiest dialogue... I could go on and on.  ",
                  "1": "negative",
                  "3": {
                    "positive": 0.01,
                    "neutral": 0,
                    "negative": 0.99
                  },
                  "4": [
                    {
                      "sentiment": "negative",
                      "confidenceScores": {
                        "positive": 0.01,
                        "neutral": 0,
                        "negative": 0.99
                      },
                      "text": "The worst, sappiest dialogue... ",
                      "offset": 0,
                      "length": 32
                    },
                    {
                      "sentiment": "neutral",
                      "confidenceScores": {
                        "positive": 0.03,
                        "neutral": 0.95,
                        "negative": 0.02
                      },
                      "text": "I could go on and on.  ",
                      "offset": 32,
                      "length": 23
                    }
                  ],
                  "5": []
                },
                {
                  "0": "But what really made it unwatchable was the direction.  ",
                  "1": "negative",
                  "3": {
                    "positive": 0.01,
                    "neutral": 0.22,
                    "negative": 0.77
                  },
                  "4": [
                    {
                      "sentiment": "negative",
                      "confidenceScores": {
                        "positive": 0.01,
                        "neutral": 0.22,
                        "negative": 0.77
                      },
                      "text": "But what really made it unwatchable was the direction.  ",
                      "offset": 0,
                      "length": 56
                    }
                  ],
                  "5": []
                },
                {
                  "0": "The poor actors.  ",
                  "1": "negative",
                  "3": {
                    "positive": 0,
                    "neutral": 0,
                    "negative": 0.99
                  },
                  "4": [
                    {
                      "sentiment": "negative",
                      "confidenceScores": {
                        "positive": 0,
                        "neutral": 0,
                        "negative": 0.99
                      },
                      "text": "The poor actors.  ",
                      "offset": 0,
                      "length": 18
                    }
                  ],
                  "5": []
                },
                {
                  "0": "You can't even tell if they have any talent because they not only have pathetic lines to speak but the director gave them no action.  ",
                  "1": "negative",
                  "3": {
                    "positive": 0,
                    "neutral": 0,
                    "negative": 0.99
                  },
                  "4": [
                    {
                      "sentiment": "negative",
                      "confidenceScores": {
                        "positive": 0,
                        "neutral": 0,
                        "negative": 0.99
                      },
                      "text": "You can't even tell if they have any talent because they not only have pathetic lines to speak but the director gave them no action.  ",
                      "offset": 0,
                      "length": 134
                    }
                  ],
                  "5": []
                },
                {
                  "0": "If you check the director's filmography on this site you will see why this film didn't have a chance.  ",
                  "1": "negative",
                  "3": {
                    "positive": 0.01,
                    "neutral": 0.01,
                    "negative": 0.98
                  },
                  "4": [
                    {
                      "sentiment": "negative",
                      "confidenceScores": {
                        "positive": 0.01,
                        "neutral": 0.01,
                        "negative": 0.98
                      },
                      "text": "If you check the director's filmography on this site you will see why this film didn't have a chance.  ",
                      "offset": 0,
                      "length": 103
                    }
                  ],
                  "5": []
                },
                {
                  "0": "This would not even be good as a made for TV flick.  ",
                  "1": "negative",
                  "3": {
                    "positive": 0,
                    "neutral": 0,
                    "negative": 0.99
                  },
                  "4": [
                    {
                      "sentiment": "negative",
                      "confidenceScores": {
                        "positive": 0,
                        "neutral": 0,
                        "negative": 0.99
                      },
                      "text": "This would not even be good as a made for TV flick.  ",
                      "offset": 0,
                      "length": 53
                    }
                  ],
                  "5": []
                },
                {
                  "0": "If good intentions made a film great, then this film might be one of the greatest films ever made.  ",
                  "1": "positive",
                  "3": {
                    "positive": 0.99,
                    "neutral": 0,
                    "negative": 0
                  },
                  "4": [
                    {
                      "sentiment": "positive",
                      "confidenceScores": {
                        "positive": 0.99,
                        "neutral": 0,
                        "negative": 0
                      },
                      "text": "If good intentions made a film great, then this film might be one of the greatest films ever made.  ",
                      "offset": 0,
                      "length": 100
                    }
                  ],
                  "5": []
                },
                {
                  "0": "The film has great actors, a master director, a significant theme--at least a would-be significant theme, undertone of fifties existential world-weariness, aerial scenes that ought to have thrilled both senses and imagination, and characters about which one might deeply care.  ",
                  "1": "positive",
                  "3": {
                    "positive": 0.98,
                    "neutral": 0,
                    "negative": 0.01
                  },
                  "4": [
                    {
                      "sentiment": "positive",
                      "confidenceScores": {
                        "positive": 0.98,
                        "neutral": 0,
                        "negative": 0.01
                      },
                      "text": "The film has great actors, a master director, a significant theme--at least a would-be significant theme, undertone of fifties existential world-weariness, aerial scenes that ought to have thrilled both senses and imagination, and characters about which one might deeply care.  ",
                      "offset": 0,
                      "length": 278
                    }
                  ],
                  "5": []
                },
                {
                  "0": "Regrettably, the film fails.  ",
                  "1": "negative",
                  "3": {
                    "positive": 0,
                    "neutral": 0,
                    "negative": 0.99
                  },
                  "4": [
                    {
                      "sentiment": "negative",
                      "confidenceScores": {
                        "positive": 0,
                        "neutral": 0,
                        "negative": 0.99
                      },
                      "text": "Regrettably, the film fails.  ",
                      "offset": 0,
                      "length": 30
                    }
                  ],
                  "5": []
                },
                {
                  "0": "The movie lacks visual interest, drama, expression of feeling, and celebration of the very patriotism that underlines the narrative.  ",
                  "1": "negative",
                  "3": {
                    "positive": 0,
                    "neutral": 0,
                    "negative": 0.99
                  },
                  "4": [
                    {
                      "sentiment": "negative",
                      "confidenceScores": {
                        "positive": 0,
                        "neutral": 0,
                        "negative": 0.99
                      },
                      "text": "The movie lacks visual interest, drama, expression of feeling, and celebration of the very patriotism that underlines the narrative.  ",
                      "offset": 0,
                      "length": 134
                    }
                  ],
                  "5": []
                },
                {
                  "0": "No actress has been worse used that June Allison in this movie.  ",
                  "1": "negative",
                  "3": {
                    "positive": 0.04,
                    "neutral": 0.03,
                    "negative": 0.93
                  },
                  "4": [
                    {
                      "sentiment": "negative",
                      "confidenceScores": {
                        "positive": 0.04,
                        "neutral": 0.03,
                        "negative": 0.93
                      },
                      "text": "No actress has been worse used that June Allison in this movie.  ",
                      "offset": 0,
                      "length": 65
                    }
                  ],
                  "5": []
                },
                {
                  "0": "Yet, I enjoy watching it.  ",
                  "1": "positive",
                  "3": {
                    "positive": 0.99,
                    "neutral": 0,
                    "negative": 0.01
                  },
                  "4": [
                    {
                      "sentiment": "positive",
                      "confidenceScores": {
                        "positive": 0.99,
                        "neutral": 0,
                        "negative": 0.01
                      },
                      "text": "Yet, I enjoy watching it.  ",
                      "offset": 0,
                      "length": 27
                    }
                  ],
                  "5": []
                },
                {
                  "0": "Unfortunately, this is a bad movie that is just plain bad.  ",
                  "1": "negative",
                  "3": {
                    "positive": 0,
                    "neutral": 0,
                    "negative": 1
                  },
                  "4": [
                    {
                      "sentiment": "negative",
                      "confidenceScores": {
                        "positive": 0,
                        "neutral": 0,
                        "negative": 1
                      },
                      "text": "Unfortunately, this is a bad movie that is just plain bad.  ",
                      "offset": 0,
                      "length": 60
                    }
                  ],
                  "5": []
                },
                {
                  "0": "Bad script, bad direction and horrible acting make this one plain bad!  ",
                  "1": "negative",
                  "3": {
                    "positive": 0.01,
                    "neutral": 0,
                    "negative": 0.99
                  },
                  "4": [
                    {
                      "sentiment": "negative",
                      "confidenceScores": {
                        "positive": 0.01,
                        "neutral": 0,
                        "negative": 0.99
                      },
                      "text": "Bad script, bad direction and horrible acting make this one plain bad!  ",
                      "offset": 0,
                      "length": 72
                    }
                  ],
                  "5": []
                },
                {
                  "0": "The dialogue sucked.  ",
                  "1": "negative",
                  "3": {
                    "positive": 0,
                    "neutral": 0,
                    "negative": 0.99
                  },
                  "4": [
                    {
                      "sentiment": "negative",
                      "confidenceScores": {
                        "positive": 0,
                        "neutral": 0,
                        "negative": 0.99
                      },
                      "text": "The dialogue sucked.  ",
                      "offset": 0,
                      "length": 22
                    }
                  ],
                  "5": []
                },
                {
                  "0": "The cinematography-if it can be called that-sucked.  ",
                  "1": "negative",
                  "3": {
                    "positive": 0,
                    "neutral": 0.01,
                    "negative": 0.99
                  },
                  "4": [
                    {
                      "sentiment": "negative",
                      "confidenceScores": {
                        "positive": 0,
                        "neutral": 0.01,
                        "negative": 0.99
                      },
                      "text": "The cinematography-if it can be called that-sucked.  ",
                      "offset": 0,
                      "length": 53
                    }
                  ],
                  "5": []
                },
                {
                  "0": "The soundtrack sucked.  ",
                  "1": "negative",
                  "3": {
                    "positive": 0,
                    "neutral": 0,
                    "negative": 0.99
                  },
                  "4": [
                    {
                      "sentiment": "negative",
                      "confidenceScores": {
                        "positive": 0,
                        "neutral": 0,
                        "negative": 0.99
                      },
                      "text": "The soundtrack sucked.  ",
                      "offset": 0,
                      "length": 24
                    }
                  ],
                  "5": []
                },
                {
                  "0": "The acting sucked.  ",
                  "1": "negative",
                  "3": {
                    "positive": 0,
                    "neutral": 0,
                    "negative": 0.99
                  },
                  "4": [
                    {
                      "sentiment": "negative",
                      "confidenceScores": {
                        "positive": 0,
                        "neutral": 0,
                        "negative": 0.99
                      },
                      "text": "The acting sucked.  ",
                      "offset": 0,
                      "length": 20
                    }
                  ],
                  "5": []
                },
                {
                  "0": "The concert sequences just sucked.  ",
                  "1": "negative",
                  "3": {
                    "positive": 0,
                    "neutral": 0,
                    "negative": 0.99
                  },
                  "4": [
                    {
                      "sentiment": "negative",
                      "confidenceScores": {
                        "positive": 0,
                        "neutral": 0,
                        "negative": 0.99
                      },
                      "text": "The concert sequences just sucked.  ",
                      "offset": 0,
                      "length": 36
                    }
                  ],
                  "5": []
                },
                {
                  "0": "That was nice.  ",
                  "1": "positive",
                  "3": {
                    "positive": 0.99,
                    "neutral": 0,
                    "negative": 0
                  },
                  "4": [
                    {
                      "sentiment": "positive",
                      "confidenceScores": {
                        "positive": 0.99,
                        "neutral": 0,
                        "negative": 0
                      },
                      "text": "That was nice.  ",
                      "offset": 0,
                      "length": 16
                    }
                  ],
                  "5": []
                },
                {
                  "0": "That was funny.  ",
                  "1": "positive",
                  "3": {
                    "positive": 0.88,
                    "neutral": 0.06,
                    "negative": 0.06
                  },
                  "4": [
                    {
                      "sentiment": "positive",
                      "confidenceScores": {
                        "positive": 0.88,
                        "neutral": 0.06,
                        "negative": 0.06
                      },
                      "text": "That was funny.  ",
                      "offset": 0,
                      "length": 17
                    }
                  ],
                  "5": []
                },
                {
                  "0": "It was so funny.  ",
                  "1": "positive",
                  "3": {
                    "positive": 0.77,
                    "neutral": 0.09,
                    "negative": 0.15
                  },
                  "4": [
                    {
                      "sentiment": "positive",
                      "confidenceScores": {
                        "positive": 0.77,
                        "neutral": 0.09,
                        "negative": 0.15
                      },
                      "text": "It was so funny.  ",
                      "offset": 0,
                      "length": 18
                    }
                  ],
                  "5": []
                },
                {
                  "0": "Overall, this movie was cheap trash.  ",
                  "1": "negative",
                  "3": {
                    "positive": 0,
                    "neutral": 0,
                    "negative": 0.99
                  },
                  "4": [
                    {
                      "sentiment": "negative",
                      "confidenceScores": {
                        "positive": 0,
                        "neutral": 0,
                        "negative": 0.99
                      },
                      "text": "Overall, this movie was cheap trash.  ",
                      "offset": 0,
                      "length": 38
                    }
                  ],
                  "5": []
                },
                {
                  "0": "But this movie is not funny, considering the ridiculousness of it.  ",
                  "1": "negative",
                  "3": {
                    "positive": 0,
                    "neutral": 0,
                    "negative": 0.99
                  },
                  "4": [
                    {
                      "sentiment": "negative",
                      "confidenceScores": {
                        "positive": 0,
                        "neutral": 0,
                        "negative": 0.99
                      },
                      "text": "But this movie is not funny, considering the ridiculousness of it.  ",
                      "offset": 0,
                      "length": 68
                    }
                  ],
                  "5": []
                },
                {
                  "0": "I came out of it feeling angry.  ",
                  "1": "negative",
                  "3": {
                    "positive": 0,
                    "neutral": 0.01,
                    "negative": 0.99
                  },
                  "4": [
                    {
                      "sentiment": "negative",
                      "confidenceScores": {
                        "positive": 0,
                        "neutral": 0.01,
                        "negative": 0.99
                      },
                      "text": "I came out of it feeling angry.  ",
                      "offset": 0,
                      "length": 33
                    }
                  ],
                  "5": []
                },
                {
                  "0": "***SPOILERS*** Whatever else can (or can't) be said about it, SURFACE is superbly crafted.  ",
                  "1": "positive",
                  "3": {
                    "positive": 0.98,
                    "neutral": 0.01,
                    "negative": 0.01
                  },
                  "4": [
                    {
                      "sentiment": "positive",
                      "confidenceScores": {
                        "positive": 0.98,
                        "neutral": 0.01,
                        "negative": 0.01
                      },
                      "text": "***SPOILERS*** Whatever else can (or can't) be said about it, SURFACE is superbly crafted.  ",
                      "offset": 0,
                      "length": 92
                    }
                  ],
                  "5": []
                },
                {
                  "0": "The cinematography is simply stunning (to say the least) and the fx are nothing if not state-of-the-art.  ",
                  "1": "negative",
                  "3": {
                    "positive": 0.22,
                    "neutral": 0.01,
                    "negative": 0.77
                  },
                  "4": [
                    {
                      "sentiment": "negative",
                      "confidenceScores": {
                        "positive": 0.22,
                        "neutral": 0.01,
                        "negative": 0.77
                      },
                      "text": "The cinematography is simply stunning (to say the least) and the fx are nothing if not state-of-the-art.  ",
                      "offset": 0,
                      "length": 106
                    }
                  ],
                  "5": []
                },
                {
                  "0": "Conceptually, the show offers a little bit of everything- and for just about everybody (parents, kids, fantasy and/or fx fans).  ",
                  "1": "neutral",
                  "3": {
                    "positive": 0.2,
                    "neutral": 0.74,
                    "negative": 0.05
                  },
                  "4": [
                    {
                      "sentiment": "neutral",
                      "confidenceScores": {
                        "positive": 0.2,
                        "neutral": 0.74,
                        "negative": 0.05
                      },
                      "text": "Conceptually, the show offers a little bit of everything- and for just about everybody (parents, kids, fantasy and/or fx fans).  ",
                      "offset": 0,
                      "length": 129
                    }
                  ],
                  "5": []
                },
                {
                  "0": "\"And there wasn't a single sour note struck acting-wise, either; some surprisingly solid casting, here.  \"",
                  "1": "mixed",
                  "3": {
                    "positive": 0.42,
                    "neutral": 0.1,
                    "negative": 0.48
                  },
                  "4": [
                    {
                      "sentiment": "negative",
                      "confidenceScores": {
                        "positive": 0.01,
                        "neutral": 0.07,
                        "negative": 0.92
                      },
                      "text": "\"And there wasn't a single sour note struck acting-wise, either; ",
                      "offset": 0,
                      "length": 65
                    },
                    {
                      "sentiment": "positive",
                      "confidenceScores": {
                        "positive": 0.83,
                        "neutral": 0.13,
                        "negative": 0.04
                      },
                      "text": "some surprisingly solid casting, here.  ",
                      "offset": 65,
                      "length": 40
                    },
                    {
                      "sentiment": "neutral",
                      "confidenceScores": {
                        "positive": 0.27,
                        "neutral": 0.59,
                        "negative": 0.14
                      },
                      "text": "\"",
                      "offset": 105,
                      "length": 1
                    }
                  ],
                  "5": []
                },
                {
                  "0": "All things considered, a job very well done.  ",
                  "1": "positive",
                  "3": {
                    "positive": 1,
                    "neutral": 0,
                    "negative": 0
                  },
                  "4": [
                    {
                      "sentiment": "positive",
                      "confidenceScores": {
                        "positive": 1,
                        "neutral": 0,
                        "negative": 0
                      },
                      "text": "All things considered, a job very well done.  ",
                      "offset": 0,
                      "length": 46
                    }
                  ],
                  "5": []
                },
                {
                  "0": "Thanks good a movie like this was done and released.  ",
                  "1": "positive",
                  "3": {
                    "positive": 1,
                    "neutral": 0,
                    "negative": 0
                  },
                  "4": [
                    {
                      "sentiment": "positive",
                      "confidenceScores": {
                        "positive": 1,
                        "neutral": 0,
                        "negative": 0
                      },
                      "text": "Thanks good a movie like this was done and released.  ",
                      "offset": 0,
                      "length": 54
                    }
                  ],
                  "5": []
                },
                {
                  "0": "One of the best mexican movies ever!, and one of the less understood, even by mexican themselves, no matter how identified the should have felt with it.  ",
                  "1": "positive",
                  "3": {
                    "positive": 0.81,
                    "neutral": 0,
                    "negative": 0.18
                  },
                  "4": [
                    {
                      "sentiment": "positive",
                      "confidenceScores": {
                        "positive": 0.81,
                        "neutral": 0,
                        "negative": 0.18
                      },
                      "text": "One of the best mexican movies ever!, and one of the less understood, even by mexican themselves, no matter how identified the should have felt with it.  ",
                      "offset": 0,
                      "length": 154
                    }
                  ],
                  "5": []
                },
                {
                  "0": "It ranks highly as a great noir-crime-drama, incredible performances by Belmondo and Lino Ventura.  ",
                  "1": "positive",
                  "3": {
                    "positive": 0.99,
                    "neutral": 0,
                    "negative": 0
                  },
                  "4": [
                    {
                      "sentiment": "positive",
                      "confidenceScores": {
                        "positive": 0.99,
                        "neutral": 0,
                        "negative": 0
                      },
                      "text": "It ranks highly as a great noir-crime-drama, incredible performances by Belmondo and Lino Ventura.  ",
                      "offset": 0,
                      "length": 100
                    }
                  ],
                  "5": []
                },
                {
                  "0": "The attention given to every character, and complex psychological portrayals, detailing loyalty, treachery, love, and hope, are tremendous.  ",
                  "1": "positive",
                  "3": {
                    "positive": 0.93,
                    "neutral": 0.01,
                    "negative": 0.07
                  },
                  "4": [
                    {
                      "sentiment": "positive",
                      "confidenceScores": {
                        "positive": 0.93,
                        "neutral": 0.01,
                        "negative": 0.07
                      },
                      "text": "The attention given to every character, and complex psychological portrayals, detailing loyalty, treachery, love, and hope, are tremendous.  ",
                      "offset": 0,
                      "length": 141
                    }
                  ],
                  "5": []
                },
                {
                  "0": "It is an excellent drama, an excellent thriller, and an excellent film.  ",
                  "1": "positive",
                  "3": {
                    "positive": 0.99,
                    "neutral": 0,
                    "negative": 0
                  },
                  "4": [
                    {
                      "sentiment": "positive",
                      "confidenceScores": {
                        "positive": 0.99,
                        "neutral": 0,
                        "negative": 0
                      },
                      "text": "It is an excellent drama, an excellent thriller, and an excellent film.  ",
                      "offset": 0,
                      "length": 73
                    }
                  ],
                  "5": []
                },
                {
                  "0": "Up there with the best of Melville.  ",
                  "1": "positive",
                  "3": {
                    "positive": 0.97,
                    "neutral": 0.02,
                    "negative": 0
                  },
                  "4": [
                    {
                      "sentiment": "positive",
                      "confidenceScores": {
                        "positive": 0.97,
                        "neutral": 0.02,
                        "negative": 0
                      },
                      "text": "Up there with the best of Melville.  ",
                      "offset": 0,
                      "length": 37
                    }
                  ],
                  "5": []
                },
                {
                  "0": "Everything about this film is simply incredible.  ",
                  "1": "positive",
                  "3": {
                    "positive": 0.97,
                    "neutral": 0.01,
                    "negative": 0.02
                  },
                  "4": [
                    {
                      "sentiment": "positive",
                      "confidenceScores": {
                        "positive": 0.97,
                        "neutral": 0.01,
                        "negative": 0.02
                      },
                      "text": "Everything about this film is simply incredible.  ",
                      "offset": 0,
                      "length": 50
                    }
                  ],
                  "5": []
                },
                {
                  "0": "You truly take this journey through the eyes and soul of a child.  ",
                  "1": "positive",
                  "3": {
                    "positive": 0.55,
                    "neutral": 0.43,
                    "negative": 0.02
                  },
                  "4": [
                    {
                      "sentiment": "positive",
                      "confidenceScores": {
                        "positive": 0.55,
                        "neutral": 0.43,
                        "negative": 0.02
                      },
                      "text": "You truly take this journey through the eyes and soul of a child.  ",
                      "offset": 0,
                      "length": 67
                    }
                  ],
                  "5": []
                },
                {
                  "0": "BLACK WATER is a thriller that manages to completely transcend it's limitations (it's an indie flick) by continually subverting expectations to emerge as an intense experience.  ",
                  "1": "negative",
                  "3": {
                    "positive": 0.43,
                    "neutral": 0.05,
                    "negative": 0.53
                  },
                  "4": [
                    {
                      "sentiment": "negative",
                      "confidenceScores": {
                        "positive": 0.43,
                        "neutral": 0.05,
                        "negative": 0.53
                      },
                      "text": "BLACK WATER is a thriller that manages to completely transcend it's limitations (it's an indie flick) by continually subverting expectations to emerge as an intense experience.  ",
                      "offset": 0,
                      "length": 178
                    }
                  ],
                  "5": []
                },
                {
                  "0": "The performances are real and gripping, the crocdodile is extremely well done, indeed if the Black Water website is to be believed that's because they used real crocs and the swamp location is fabulous.  ",
                  "1": "positive",
                  "3": {
                    "positive": 0.99,
                    "neutral": 0,
                    "negative": 0
                  },
                  "4": [
                    {
                      "sentiment": "positive",
                      "confidenceScores": {
                        "positive": 0.99,
                        "neutral": 0,
                        "negative": 0
                      },
                      "text": "The performances are real and gripping, the crocdodile is extremely well done, indeed if the Black Water website is to be believed that's because they used real crocs and the swamp location is fabulous.  ",
                      "offset": 0,
                      "length": 204
                    }
                  ],
                  "5": []
                },
                {
                  "0": "I thoroughly enjoyed it when Christopher Eccleston took control of the TARDIS and the continuation of the series.  ",
                  "1": "positive",
                  "3": {
                    "positive": 0.99,
                    "neutral": 0,
                    "negative": 0
                  },
                  "4": [
                    {
                      "sentiment": "positive",
                      "confidenceScores": {
                        "positive": 0.99,
                        "neutral": 0,
                        "negative": 0
                      },
                      "text": "I thoroughly enjoyed it when Christopher Eccleston took control of the TARDIS and the continuation of the series.  ",
                      "offset": 0,
                      "length": 115
                    }
                  ],
                  "5": []
                },
                {
                  "0": "I'm not sure what he was trying to do with this film.  ",
                  "1": "neutral",
                  "3": {
                    "positive": 0.02,
                    "neutral": 0.56,
                    "negative": 0.42
                  },
                  "4": [
                    {
                      "sentiment": "neutral",
                      "confidenceScores": {
                        "positive": 0.02,
                        "neutral": 0.56,
                        "negative": 0.42
                      },
                      "text": "I'm not sure what he was trying to do with this film.  ",
                      "offset": 0,
                      "length": 55
                    }
                  ],
                  "5": []
                },
                {
                  "0": "If it was to turn my good day feeling into a night of disturbing memories than I guess he succeeded.  ",
                  "1": "negative",
                  "3": {
                    "positive": 0.09,
                    "neutral": 0.01,
                    "negative": 0.9
                  },
                  "4": [
                    {
                      "sentiment": "negative",
                      "confidenceScores": {
                        "positive": 0.09,
                        "neutral": 0.01,
                        "negative": 0.9
                      },
                      "text": "If it was to turn my good day feeling into a night of disturbing memories than I guess he succeeded.  ",
                      "offset": 0,
                      "length": 102
                    }
                  ],
                  "5": []
                },
                {
                  "0": "There is a lot of beautiful places.  ",
                  "1": "positive",
                  "3": {
                    "positive": 0.99,
                    "neutral": 0.01,
                    "negative": 0
                  },
                  "4": [
                    {
                      "sentiment": "positive",
                      "confidenceScores": {
                        "positive": 0.99,
                        "neutral": 0.01,
                        "negative": 0
                      },
                      "text": "There is a lot of beautiful places.  ",
                      "offset": 0,
                      "length": 37
                    }
                  ],
                  "5": []
                },
                {
                  "0": "It was forced, like everything in this movie.  ",
                  "1": "negative",
                  "3": {
                    "positive": 0.01,
                    "neutral": 0.05,
                    "negative": 0.94
                  },
                  "4": [
                    {
                      "sentiment": "negative",
                      "confidenceScores": {
                        "positive": 0.01,
                        "neutral": 0.05,
                        "negative": 0.94
                      },
                      "text": "It was forced, like everything in this movie.  ",
                      "offset": 0,
                      "length": 47
                    }
                  ],
                  "5": []
                },
                {
                  "0": "Again, lame.  ",
                  "1": "negative",
                  "3": {
                    "positive": 0,
                    "neutral": 0.02,
                    "negative": 0.98
                  },
                  "4": [
                    {
                      "sentiment": "negative",
                      "confidenceScores": {
                        "positive": 0,
                        "neutral": 0.02,
                        "negative": 0.98
                      },
                      "text": "Again, lame.  ",
                      "offset": 0,
                      "length": 14
                    }
                  ],
                  "5": []
                },
                {
                  "0": "Here's where the movie really pi**ed me off.  ",
                  "1": "negative",
                  "3": {
                    "positive": 0.03,
                    "neutral": 0.06,
                    "negative": 0.91
                  },
                  "4": [
                    {
                      "sentiment": "negative",
                      "confidenceScores": {
                        "positive": 0.03,
                        "neutral": 0.06,
                        "negative": 0.91
                      },
                      "text": "Here's where the movie really pi**ed me off.  ",
                      "offset": 0,
                      "length": 46
                    }
                  ],
                  "5": []
                },
                {
                  "0": "And don't even get me started on the jerky camerawork.  ",
                  "1": "negative",
                  "3": {
                    "positive": 0,
                    "neutral": 0.01,
                    "negative": 0.98
                  },
                  "4": [
                    {
                      "sentiment": "negative",
                      "confidenceScores": {
                        "positive": 0,
                        "neutral": 0.01,
                        "negative": 0.98
                      },
                      "text": "And don't even get me started on the jerky camerawork.  ",
                      "offset": 0,
                      "length": 56
                    }
                  ],
                  "5": []
                },
                {
                  "0": "When I saw it in the theater I thought I was going to be sick.  ",
                  "1": "negative",
                  "3": {
                    "positive": 0,
                    "neutral": 0.02,
                    "negative": 0.98
                  },
                  "4": [
                    {
                      "sentiment": "negative",
                      "confidenceScores": {
                        "positive": 0,
                        "neutral": 0.02,
                        "negative": 0.98
                      },
                      "text": "When I saw it in the theater I thought I was going to be sick.  ",
                      "offset": 0,
                      "length": 64
                    }
                  ],
                  "5": []
                },
                {
                  "0": "Summary: The witticisms weren't witty.  ",
                  "1": "negative",
                  "3": {
                    "positive": 0,
                    "neutral": 0.01,
                    "negative": 0.98
                  },
                  "4": [
                    {
                      "sentiment": "negative",
                      "confidenceScores": {
                        "positive": 0,
                        "neutral": 0.01,
                        "negative": 0.98
                      },
                      "text": "Summary: The witticisms weren't witty.  ",
                      "offset": 0,
                      "length": 40
                    }
                  ],
                  "5": []
                },
                {
                  "0": "The plot - well, I said I'd let that one go.  ",
                  "1": "neutral",
                  "3": {
                    "positive": 0.06,
                    "neutral": 0.69,
                    "negative": 0.24
                  },
                  "4": [
                    {
                      "sentiment": "neutral",
                      "confidenceScores": {
                        "positive": 0.06,
                        "neutral": 0.69,
                        "negative": 0.24
                      },
                      "text": "The plot - well, I said I'd let that one go.  ",
                      "offset": 0,
                      "length": 46
                    }
                  ],
                  "5": []
                },
                {
                  "0": "The acting was bad.  ",
                  "1": "negative",
                  "3": {
                    "positive": 0,
                    "neutral": 0,
                    "negative": 0.99
                  },
                  "4": [
                    {
                      "sentiment": "negative",
                      "confidenceScores": {
                        "positive": 0,
                        "neutral": 0,
                        "negative": 0.99
                      },
                      "text": "The acting was bad.  ",
                      "offset": 0,
                      "length": 21
                    }
                  ],
                  "5": []
                },
                {
                  "0": "Really bad.  ",
                  "1": "negative",
                  "3": {
                    "positive": 0.01,
                    "neutral": 0,
                    "negative": 0.99
                  },
                  "4": [
                    {
                      "sentiment": "negative",
                      "confidenceScores": {
                        "positive": 0.01,
                        "neutral": 0,
                        "negative": 0.99
                      },
                      "text": "Really bad.  ",
                      "offset": 0,
                      "length": 13
                    }
                  ],
                  "5": []
                },
                {
                  "0": "Even Billy Bob couldn't rise above the script, which was worse.  ",
                  "1": "negative",
                  "3": {
                    "positive": 0,
                    "neutral": 0,
                    "negative": 1
                  },
                  "4": [
                    {
                      "sentiment": "negative",
                      "confidenceScores": {
                        "positive": 0,
                        "neutral": 0,
                        "negative": 1
                      },
                      "text": "Even Billy Bob couldn't rise above the script, which was worse.  ",
                      "offset": 0,
                      "length": 65
                    }
                  ],
                  "5": []
                },
                {
                  "0": "Camerawork - again, bad.  ",
                  "1": "negative",
                  "3": {
                    "positive": 0,
                    "neutral": 0,
                    "negative": 0.99
                  },
                  "4": [
                    {
                      "sentiment": "negative",
                      "confidenceScores": {
                        "positive": 0,
                        "neutral": 0,
                        "negative": 0.99
                      },
                      "text": "Camerawork - again, bad.  ",
                      "offset": 0,
                      "length": 26
                    }
                  ],
                  "5": []
                },
                {
                  "0": "Rating: 1 out of 10.  ",
                  "1": "positive",
                  "3": {
                    "positive": 0.48,
                    "neutral": 0.42,
                    "negative": 0.09
                  },
                  "4": [
                    {
                      "sentiment": "positive",
                      "confidenceScores": {
                        "positive": 0.48,
                        "neutral": 0.42,
                        "negative": 0.09
                      },
                      "text": "Rating: 1 out of 10.  ",
                      "offset": 0,
                      "length": 22
                    }
                  ],
                  "5": []
                },
                {
                  "0": "An AMAZING finale to possibly the BEST trilogy of all time!  ",
                  "1": "positive",
                  "3": {
                    "positive": 0.99,
                    "neutral": 0,
                    "negative": 0
                  },
                  "4": [
                    {
                      "sentiment": "positive",
                      "confidenceScores": {
                        "positive": 0.99,
                        "neutral": 0,
                        "negative": 0
                      },
                      "text": "An AMAZING finale to possibly the BEST trilogy of all time!  ",
                      "offset": 0,
                      "length": 61
                    }
                  ],
                  "5": []
                },
                {
                  "0": "Kieslowski never ceases to amaze me.  ",
                  "1": "positive",
                  "3": {
                    "positive": 0.82,
                    "neutral": 0.15,
                    "negative": 0.03
                  },
                  "4": [
                    {
                      "sentiment": "positive",
                      "confidenceScores": {
                        "positive": 0.82,
                        "neutral": 0.15,
                        "negative": 0.03
                      },
                      "text": "Kieslowski never ceases to amaze me.  ",
                      "offset": 0,
                      "length": 38
                    }
                  ],
                  "5": []
                },
                {
                  "0": "He is one of my favourite directors, and one of the most talented directors in the history of cinema.  ",
                  "1": "positive",
                  "3": {
                    "positive": 0.98,
                    "neutral": 0.01,
                    "negative": 0.01
                  },
                  "4": [
                    {
                      "sentiment": "positive",
                      "confidenceScores": {
                        "positive": 0.98,
                        "neutral": 0.01,
                        "negative": 0.01
                      },
                      "text": "He is one of my favourite directors, and one of the most talented directors in the history of cinema.  ",
                      "offset": 0,
                      "length": 103
                    }
                  ],
                  "5": []
                },
                {
                  "0": "His use of the colours of the French flag in the three films was nothing short of incredible, every shot, every scene was like a work of art.  ",
                  "1": "positive",
                  "3": {
                    "positive": 0.94,
                    "neutral": 0.02,
                    "negative": 0.04
                  },
                  "4": [
                    {
                      "sentiment": "positive",
                      "confidenceScores": {
                        "positive": 0.94,
                        "neutral": 0.02,
                        "negative": 0.04
                      },
                      "text": "His use of the colours of the French flag in the three films was nothing short of incredible, every shot, every scene was like a work of art.  ",
                      "offset": 0,
                      "length": 143
                    }
                  ],
                  "5": []
                },
                {
                  "0": "Three of the most visually appealing movies i've ever seen.  ",
                  "1": "positive",
                  "3": {
                    "positive": 0.99,
                    "neutral": 0,
                    "negative": 0.01
                  },
                  "4": [
                    {
                      "sentiment": "positive",
                      "confidenceScores": {
                        "positive": 0.99,
                        "neutral": 0,
                        "negative": 0.01
                      },
                      "text": "Three of the most visually appealing movies i've ever seen.  ",
                      "offset": 0,
                      "length": 61
                    }
                  ],
                  "5": []
                },
                {
                  "0": "And his subtle connections between the three films are awesome.  ",
                  "1": "positive",
                  "3": {
                    "positive": 0.99,
                    "neutral": 0.01,
                    "negative": 0
                  },
                  "4": [
                    {
                      "sentiment": "positive",
                      "confidenceScores": {
                        "positive": 0.99,
                        "neutral": 0.01,
                        "negative": 0
                      },
                      "text": "And his subtle connections between the three films are awesome.  ",
                      "offset": 0,
                      "length": 65
                    }
                  ],
                  "5": []
                },
                {
                  "0": "I have to mention this and it is a huge SPOILER, i loved the ending, how all the characters of the three films were the remaining survivors of the ferry disaster, with Valentine and the young judge together, and the old man watching it on her TV, solidifying his happiness over the suffering which he dealt with for those many years.  ",
                  "1": "positive",
                  "3": {
                    "positive": 0.96,
                    "neutral": 0,
                    "negative": 0.04
                  },
                  "4": [
                    {
                      "sentiment": "positive",
                      "confidenceScores": {
                        "positive": 0.96,
                        "neutral": 0,
                        "negative": 0.04
                      },
                      "text": "I have to mention this and it is a huge SPOILER, i loved the ending, how all the characters of the three films were the remaining survivors of the ferry disaster, with Valentine and the young judge together, and the old man watching it on her TV, solidifying his happiness over the suffering which he dealt with for those many years.  ",
                      "offset": 0,
                      "length": 335
                    }
                  ],
                  "5": []
                },
                {
                  "0": "I couldn't think of a better way to end the film, but a smile on my face, great way to wrap up an amazing film and trilogy!  ",
                  "1": "positive",
                  "3": {
                    "positive": 1,
                    "neutral": 0,
                    "negative": 0
                  },
                  "4": [
                    {
                      "sentiment": "positive",
                      "confidenceScores": {
                        "positive": 1,
                        "neutral": 0,
                        "negative": 0
                      },
                      "text": "I couldn't think of a better way to end the film, but a smile on my face, great way to wrap up an amazing film and trilogy!  ",
                      "offset": 0,
                      "length": 125
                    }
                  ],
                  "5": []
                },
                {
                  "0": "I recommend this for EVERYONE who loves film, movies, anything...A Work of Art!  ",
                  "1": "positive",
                  "3": {
                    "positive": 0.9,
                    "neutral": 0.08,
                    "negative": 0.02
                  },
                  "4": [
                    {
                      "sentiment": "positive",
                      "confidenceScores": {
                        "positive": 0.99,
                        "neutral": 0,
                        "negative": 0
                      },
                      "text": "I recommend this for EVERYONE who loves film, movies, anything...",
                      "offset": 0,
                      "length": 65
                    },
                    {
                      "sentiment": "positive",
                      "confidenceScores": {
                        "positive": 0.81,
                        "neutral": 0.16,
                        "negative": 0.03
                      },
                      "text": "A Work of Art!  ",
                      "offset": 65,
                      "length": 16
                    }
                  ],
                  "5": []
                },
                {
                  "0": "10 out of 10 for both the movie and trilogy.  ",
                  "1": "neutral",
                  "3": {
                    "positive": 0.29,
                    "neutral": 0.58,
                    "negative": 0.13
                  },
                  "4": [
                    {
                      "sentiment": "neutral",
                      "confidenceScores": {
                        "positive": 0.29,
                        "neutral": 0.58,
                        "negative": 0.13
                      },
                      "text": "10 out of 10 for both the movie and trilogy.  ",
                      "offset": 0,
                      "length": 46
                    }
                  ],
                  "5": []
                },
                {
                  "0": "I literally vomited while watching this film.  ",
                  "1": "negative",
                  "3": {
                    "positive": 0,
                    "neutral": 0.01,
                    "negative": 0.99
                  },
                  "4": [
                    {
                      "sentiment": "negative",
                      "confidenceScores": {
                        "positive": 0,
                        "neutral": 0.01,
                        "negative": 0.99
                      },
                      "text": "I literally vomited while watching this film.  ",
                      "offset": 0,
                      "length": 47
                    }
                  ],
                  "5": []
                },
                {
                  "0": "I think i was one of the people who found this another one of roth's pearls.  ",
                  "1": "neutral",
                  "3": {
                    "positive": 0.06,
                    "neutral": 0.9,
                    "negative": 0.04
                  },
                  "4": [
                    {
                      "sentiment": "neutral",
                      "confidenceScores": {
                        "positive": 0.06,
                        "neutral": 0.9,
                        "negative": 0.04
                      },
                      "text": "I think i was one of the people who found this another one of roth's pearls.  ",
                      "offset": 0,
                      "length": 78
                    }
                  ],
                  "5": []
                },
                {
                  "0": "his performance, as awarded, was stunning.  ",
                  "1": "positive",
                  "3": {
                    "positive": 0.98,
                    "neutral": 0.01,
                    "negative": 0.02
                  },
                  "4": [
                    {
                      "sentiment": "positive",
                      "confidenceScores": {
                        "positive": 0.98,
                        "neutral": 0.01,
                        "negative": 0.02
                      },
                      "text": "his performance, as awarded, was stunning.  ",
                      "offset": 0,
                      "length": 44
                    }
                  ],
                  "5": []
                },
                {
                  "0": "the story which was told so eloquently by Francis ford Coppola 25 years earlier, really unfolds gradually and leaves room for the characters to develop.  ",
                  "1": "positive",
                  "3": {
                    "positive": 0.72,
                    "neutral": 0.16,
                    "negative": 0.11
                  },
                  "4": [
                    {
                      "sentiment": "positive",
                      "confidenceScores": {
                        "positive": 0.72,
                        "neutral": 0.16,
                        "negative": 0.11
                      },
                      "text": "the story which was told so eloquently by Francis ford Coppola 25 years earlier, really unfolds gradually and leaves room for the characters to develop.  ",
                      "offset": 0,
                      "length": 154
                    }
                  ],
                  "5": []
                },
                {
                  "0": "In a most wonderful location lies a story of contrast.  ",
                  "1": "positive",
                  "3": {
                    "positive": 0.99,
                    "neutral": 0,
                    "negative": 0
                  },
                  "4": [
                    {
                      "sentiment": "positive",
                      "confidenceScores": {
                        "positive": 0.99,
                        "neutral": 0,
                        "negative": 0
                      },
                      "text": "In a most wonderful location lies a story of contrast.  ",
                      "offset": 0,
                      "length": 56
                    }
                  ],
                  "5": []
                },
                {
                  "0": "All in all a beautiful directed film from Nicola's roeg wih a sublime cast.  ",
                  "1": "positive",
                  "3": {
                    "positive": 1,
                    "neutral": 0,
                    "negative": 0
                  },
                  "4": [
                    {
                      "sentiment": "positive",
                      "confidenceScores": {
                        "positive": 1,
                        "neutral": 0,
                        "negative": 0
                      },
                      "text": "All in all a beautiful directed film from Nicola's roeg wih a sublime cast.  ",
                      "offset": 0,
                      "length": 77
                    }
                  ],
                  "5": []
                },
                {
                  "0": "I'm translating movies for a living and this is the first movie in my 5-year working experience that I found offensive to my intelligence.  ",
                  "1": "negative",
                  "3": {
                    "positive": 0,
                    "neutral": 0,
                    "negative": 0.99
                  },
                  "4": [
                    {
                      "sentiment": "negative",
                      "confidenceScores": {
                        "positive": 0,
                        "neutral": 0,
                        "negative": 0.99
                      },
                      "text": "I'm translating movies for a living and this is the first movie in my 5-year working experience that I found offensive to my intelligence.  ",
                      "offset": 0,
                      "length": 140
                    }
                  ],
                  "5": []
                },
                {
                  "0": "\"But when someone strives for greatness and poetry, but delivers a muddled (and often ridiculous) story, a bunch of disparate scenes, pretentious dialogue... Then you get the worst kind of a movie that some other reviewer very accurately defined as \"\"pretentious crap\"\".  \"",
                  "1": "negative",
                  "3": {
                    "positive": 0,
                    "neutral": 0,
                    "negative": 0.99
                  },
                  "4": [
                    {
                      "sentiment": "negative",
                      "confidenceScores": {
                        "positive": 0,
                        "neutral": 0,
                        "negative": 0.99
                      },
                      "text": "\"But when someone strives for greatness and poetry, but delivers a muddled (and often ridiculous) story, a bunch of disparate scenes, pretentious dialogue... ",
                      "offset": 0,
                      "length": 158
                    },
                    {
                      "sentiment": "negative",
                      "confidenceScores": {
                        "positive": 0,
                        "neutral": 0,
                        "negative": 0.99
                      },
                      "text": "Then you get the worst kind of a movie that some other reviewer very accurately defined as \"\"pretentious crap\"\".  ",
                      "offset": 158,
                      "length": 114
                    },
                    {
                      "sentiment": "neutral",
                      "confidenceScores": {
                        "positive": 0.27,
                        "neutral": 0.59,
                        "negative": 0.14
                      },
                      "text": "\"",
                      "offset": 272,
                      "length": 1
                    }
                  ],
                  "5": []
                },
                {
                  "0": "To those who find this movie intelligent or even masterful, I can only say - it's your intelligence and your imagination you obviously used to try and make some sense of this pitiful attempt (it's in our human nature to try and make sense of things) .  ",
                  "1": "negative",
                  "3": {
                    "positive": 0.01,
                    "neutral": 0,
                    "negative": 0.99
                  },
                  "4": [
                    {
                      "sentiment": "negative",
                      "confidenceScores": {
                        "positive": 0.01,
                        "neutral": 0,
                        "negative": 0.99
                      },
                      "text": "To those who find this movie intelligent or even masterful, I can only say - it's your intelligence and your imagination you obviously used to try and make some sense of this pitiful attempt (it's in our human nature to try and make sense of things) .  ",
                      "offset": 0,
                      "length": 253
                    }
                  ],
                  "5": []
                },
                {
                  "0": "One more thing: I can tolerate political incorrectness very well, I'm all for artistic freedom and suspension of disbelief, but the Slavic female character was just too much.  ",
                  "1": "negative",
                  "3": {
                    "positive": 0,
                    "neutral": 0,
                    "negative": 0.99
                  },
                  "4": [
                    {
                      "sentiment": "negative",
                      "confidenceScores": {
                        "positive": 0,
                        "neutral": 0,
                        "negative": 0.99
                      },
                      "text": "One more thing: I can tolerate political incorrectness very well, I'm all for artistic freedom and suspension of disbelief, but the Slavic female character was just too much.  ",
                      "offset": 0,
                      "length": 176
                    }
                  ],
                  "5": []
                },
                {
                  "0": "This is such a fun and funny movie.  ",
                  "1": "positive",
                  "3": {
                    "positive": 0.99,
                    "neutral": 0,
                    "negative": 0
                  },
                  "4": [
                    {
                      "sentiment": "positive",
                      "confidenceScores": {
                        "positive": 0.99,
                        "neutral": 0,
                        "negative": 0
                      },
                      "text": "This is such a fun and funny movie.  ",
                      "offset": 0,
                      "length": 37
                    }
                  ],
                  "5": []
                },
                {
                  "0": "Highly entertaining at all angles.  ",
                  "1": "positive",
                  "3": {
                    "positive": 1,
                    "neutral": 0,
                    "negative": 0
                  },
                  "4": [
                    {
                      "sentiment": "positive",
                      "confidenceScores": {
                        "positive": 1,
                        "neutral": 0,
                        "negative": 0
                      },
                      "text": "Highly entertaining at all angles.  ",
                      "offset": 0,
                      "length": 36
                    }
                  ],
                  "5": []
                },
                {
                  "0": "It features an outlandish array of memorable, psychotic but lovable nuts.  ",
                  "1": "positive",
                  "3": {
                    "positive": 0.65,
                    "neutral": 0.01,
                    "negative": 0.34
                  },
                  "4": [
                    {
                      "sentiment": "positive",
                      "confidenceScores": {
                        "positive": 0.65,
                        "neutral": 0.01,
                        "negative": 0.34
                      },
                      "text": "It features an outlandish array of memorable, psychotic but lovable nuts.  ",
                      "offset": 0,
                      "length": 75
                    }
                  ],
                  "5": []
                },
                {
                  "0": "So for our enjoyment we get to see them run around, play games, and be dangerous.  ",
                  "1": "negative",
                  "3": {
                    "positive": 0,
                    "neutral": 0.01,
                    "negative": 0.99
                  },
                  "4": [
                    {
                      "sentiment": "negative",
                      "confidenceScores": {
                        "positive": 0,
                        "neutral": 0.01,
                        "negative": 0.99
                      },
                      "text": "So for our enjoyment we get to see them run around, play games, and be dangerous.  ",
                      "offset": 0,
                      "length": 83
                    }
                  ],
                  "5": []
                },
                {
                  "0": "It even has its sweet moments.  ",
                  "1": "positive",
                  "3": {
                    "positive": 0.81,
                    "neutral": 0.17,
                    "negative": 0.03
                  },
                  "4": [
                    {
                      "sentiment": "positive",
                      "confidenceScores": {
                        "positive": 0.81,
                        "neutral": 0.17,
                        "negative": 0.03
                      },
                      "text": "It even has its sweet moments.  ",
                      "offset": 0,
                      "length": 32
                    }
                  ],
                  "5": []
                },
                {
                  "0": "The telephone repair man was really funny and his reactions to the nuts and bitchy boss were truly genuine.  ",
                  "1": "positive",
                  "3": {
                    "positive": 0.83,
                    "neutral": 0.01,
                    "negative": 0.17
                  },
                  "4": [
                    {
                      "sentiment": "positive",
                      "confidenceScores": {
                        "positive": 0.83,
                        "neutral": 0.01,
                        "negative": 0.17
                      },
                      "text": "The telephone repair man was really funny and his reactions to the nuts and bitchy boss were truly genuine.  ",
                      "offset": 0,
                      "length": 109
                    }
                  ],
                  "5": []
                },
                {
                  "0": "All the characters in this film are tremendously well played.  ",
                  "1": "positive",
                  "3": {
                    "positive": 1,
                    "neutral": 0,
                    "negative": 0
                  },
                  "4": [
                    {
                      "sentiment": "positive",
                      "confidenceScores": {
                        "positive": 1,
                        "neutral": 0,
                        "negative": 0
                      },
                      "text": "All the characters in this film are tremendously well played.  ",
                      "offset": 0,
                      "length": 63
                    }
                  ],
                  "5": []
                },
                {
                  "0": "And I really did find them funny.  ",
                  "1": "positive",
                  "3": {
                    "positive": 0.86,
                    "neutral": 0.05,
                    "negative": 0.08
                  },
                  "4": [
                    {
                      "sentiment": "positive",
                      "confidenceScores": {
                        "positive": 0.86,
                        "neutral": 0.05,
                        "negative": 0.08
                      },
                      "text": "And I really did find them funny.  ",
                      "offset": 0,
                      "length": 35
                    }
                  ],
                  "5": []
                },
                {
                  "0": "This is actually a very smart movie.  ",
                  "1": "positive",
                  "3": {
                    "positive": 0.98,
                    "neutral": 0.01,
                    "negative": 0.01
                  },
                  "4": [
                    {
                      "sentiment": "positive",
                      "confidenceScores": {
                        "positive": 0.98,
                        "neutral": 0.01,
                        "negative": 0.01
                      },
                      "text": "This is actually a very smart movie.  ",
                      "offset": 0,
                      "length": 38
                    }
                  ],
                  "5": []
                },
                {
                  "0": "There is a brilliant twist ending.  ",
                  "1": "positive",
                  "3": {
                    "positive": 0.99,
                    "neutral": 0,
                    "negative": 0.01
                  },
                  "4": [
                    {
                      "sentiment": "positive",
                      "confidenceScores": {
                        "positive": 0.99,
                        "neutral": 0,
                        "negative": 0.01
                      },
                      "text": "There is a brilliant twist ending.  ",
                      "offset": 0,
                      "length": 36
                    }
                  ],
                  "5": []
                },
                {
                  "0": "\" I love it.  \t1\"",
                  "1": "positive",
                  "3": {
                    "positive": 0.99,
                    "neutral": 0.01,
                    "negative": 0
                  },
                  "4": [
                    {
                      "sentiment": "positive",
                      "confidenceScores": {
                        "positive": 0.99,
                        "neutral": 0.01,
                        "negative": 0
                      },
                      "text": "\" I love it.  \t",
                      "offset": 0,
                      "length": 15
                    },
                    {
                      "sentiment": "neutral",
                      "confidenceScores": {
                        "positive": 0.01,
                        "neutral": 0.98,
                        "negative": 0.01
                      },
                      "text": "1\"",
                      "offset": 15,
                      "length": 2
                    }
                  ],
                  "5": []
                },
                {
                  "0": "The ending is so, SO perfect... you'll shed a tear.  ",
                  "1": "mixed",
                  "3": {
                    "positive": 0.51,
                    "neutral": 0.1,
                    "negative": 0.4
                  },
                  "4": [
                    {
                      "sentiment": "positive",
                      "confidenceScores": {
                        "positive": 0.99,
                        "neutral": 0,
                        "negative": 0
                      },
                      "text": "The ending is so, SO perfect... ",
                      "offset": 0,
                      "length": 32
                    },
                    {
                      "sentiment": "negative",
                      "confidenceScores": {
                        "positive": 0.02,
                        "neutral": 0.19,
                        "negative": 0.79
                      },
                      "text": "you'll shed a tear.  ",
                      "offset": 32,
                      "length": 21
                    }
                  ],
                  "5": []
                },
                {
                  "0": "I am so thrilled after seeing a movie like this.  ",
                  "1": "positive",
                  "3": {
                    "positive": 0.98,
                    "neutral": 0.01,
                    "negative": 0.01
                  },
                  "4": [
                    {
                      "sentiment": "positive",
                      "confidenceScores": {
                        "positive": 0.98,
                        "neutral": 0.01,
                        "negative": 0.01
                      },
                      "text": "I am so thrilled after seeing a movie like this.  ",
                      "offset": 0,
                      "length": 50
                    }
                  ],
                  "5": []
                },
                {
                  "0": "I will never forget it now.  ",
                  "1": "neutral",
                  "3": {
                    "positive": 0.21,
                    "neutral": 0.73,
                    "negative": 0.06
                  },
                  "4": [
                    {
                      "sentiment": "neutral",
                      "confidenceScores": {
                        "positive": 0.21,
                        "neutral": 0.73,
                        "negative": 0.06
                      },
                      "text": "I will never forget it now.  ",
                      "offset": 0,
                      "length": 29
                    }
                  ],
                  "5": []
                },
                {
                  "0": "It is not just a cult... it is a cult CLASSIC.  ",
                  "1": "negative",
                  "3": {
                    "positive": 0.07,
                    "neutral": 0.2,
                    "negative": 0.73
                  },
                  "4": [
                    {
                      "sentiment": "neutral",
                      "confidenceScores": {
                        "positive": 0.09,
                        "neutral": 0.53,
                        "negative": 0.37
                      },
                      "text": "It is not just a cult... ",
                      "offset": 0,
                      "length": 25
                    },
                    {
                      "sentiment": "negative",
                      "confidenceScores": {
                        "positive": 0.07,
                        "neutral": 0.2,
                        "negative": 0.73
                      },
                      "text": "it is a cult CLASSIC.  ",
                      "offset": 25,
                      "length": 23
                    }
                  ],
                  "5": []
                },
                {
                  "0": "Which has more depth and character than the man underneath it.  ",
                  "1": "neutral",
                  "3": {
                    "positive": 0.16,
                    "neutral": 0.79,
                    "negative": 0.05
                  },
                  "4": [
                    {
                      "sentiment": "neutral",
                      "confidenceScores": {
                        "positive": 0.16,
                        "neutral": 0.79,
                        "negative": 0.05
                      },
                      "text": "Which has more depth and character than the man underneath it.  ",
                      "offset": 0,
                      "length": 64
                    }
                  ],
                  "5": []
                },
                {
                  "0": "The Malta settings are as dry and as barren as the dialogue.  ",
                  "1": "negative",
                  "3": {
                    "positive": 0.01,
                    "neutral": 0.09,
                    "negative": 0.91
                  },
                  "4": [
                    {
                      "sentiment": "negative",
                      "confidenceScores": {
                        "positive": 0.01,
                        "neutral": 0.09,
                        "negative": 0.91
                      },
                      "text": "The Malta settings are as dry and as barren as the dialogue.  ",
                      "offset": 0,
                      "length": 62
                    }
                  ],
                  "5": []
                },
                {
                  "0": "This movie is terrible.  ",
                  "1": "negative",
                  "3": {
                    "positive": 0.01,
                    "neutral": 0,
                    "negative": 0.99
                  },
                  "4": [
                    {
                      "sentiment": "negative",
                      "confidenceScores": {
                        "positive": 0.01,
                        "neutral": 0,
                        "negative": 0.99
                      },
                      "text": "This movie is terrible.  ",
                      "offset": 0,
                      "length": 25
                    }
                  ],
                  "5": []
                },
                {
                  "0": "The hockey scenes are terrible, defensemen playing like they're 5 years old, goalies diving at shots that are 10 feet wide of the net, etc.  ",
                  "1": "negative",
                  "3": {
                    "positive": 0,
                    "neutral": 0,
                    "negative": 0.99
                  },
                  "4": [
                    {
                      "sentiment": "negative",
                      "confidenceScores": {
                        "positive": 0,
                        "neutral": 0,
                        "negative": 0.99
                      },
                      "text": "The hockey scenes are terrible, defensemen playing like they're 5 years old, goalies diving at shots that are 10 feet wide of the net, etc.  ",
                      "offset": 0,
                      "length": 141
                    }
                  ],
                  "5": []
                },
                {
                  "0": "For those that haven't seen it, don't waste your time!  ",
                  "1": "positive",
                  "3": {
                    "positive": 0.67,
                    "neutral": 0.15,
                    "negative": 0.18
                  },
                  "4": [
                    {
                      "sentiment": "positive",
                      "confidenceScores": {
                        "positive": 0.67,
                        "neutral": 0.15,
                        "negative": 0.18
                      },
                      "text": "For those that haven't seen it, don't waste your time!  ",
                      "offset": 0,
                      "length": 56
                    }
                  ],
                  "5": []
                },
                {
                  "0": "To call this movie a drama is ridiculous!  ",
                  "1": "negative",
                  "3": {
                    "positive": 0.01,
                    "neutral": 0,
                    "negative": 0.99
                  },
                  "4": [
                    {
                      "sentiment": "negative",
                      "confidenceScores": {
                        "positive": 0.01,
                        "neutral": 0,
                        "negative": 0.99
                      },
                      "text": "To call this movie a drama is ridiculous!  ",
                      "offset": 0,
                      "length": 43
                    }
                  ],
                  "5": []
                },
                {
                  "0": "Started watching this but didn't believe in any of the characters.  ",
                  "1": "negative",
                  "3": {
                    "positive": 0,
                    "neutral": 0.01,
                    "negative": 0.98
                  },
                  "4": [
                    {
                      "sentiment": "negative",
                      "confidenceScores": {
                        "positive": 0,
                        "neutral": 0.01,
                        "negative": 0.98
                      },
                      "text": "Started watching this but didn't believe in any of the characters.  ",
                      "offset": 0,
                      "length": 68
                    }
                  ],
                  "5": []
                },
                {
                  "0": "In particular the relationship between the bakery assistant and the waitress just didn't work for me at all.  ",
                  "1": "negative",
                  "3": {
                    "positive": 0,
                    "neutral": 0,
                    "negative": 0.99
                  },
                  "4": [
                    {
                      "sentiment": "negative",
                      "confidenceScores": {
                        "positive": 0,
                        "neutral": 0,
                        "negative": 0.99
                      },
                      "text": "In particular the relationship between the bakery assistant and the waitress just didn't work for me at all.  ",
                      "offset": 0,
                      "length": 110
                    }
                  ],
                  "5": []
                },
                {
                  "0": "It was a very superficial movie and it gave me the feeling that I was watching play rather than a film.  ",
                  "1": "negative",
                  "3": {
                    "positive": 0,
                    "neutral": 0.01,
                    "negative": 0.98
                  },
                  "4": [
                    {
                      "sentiment": "negative",
                      "confidenceScores": {
                        "positive": 0,
                        "neutral": 0.01,
                        "negative": 0.98
                      },
                      "text": "It was a very superficial movie and it gave me the feeling that I was watching play rather than a film.  ",
                      "offset": 0,
                      "length": 105
                    }
                  ],
                  "5": []
                },
                {
                  "0": "The characters were very 'stagey' and the storyline was a lot like a stage farce.  ",
                  "1": "negative",
                  "3": {
                    "positive": 0.01,
                    "neutral": 0.02,
                    "negative": 0.97
                  },
                  "4": [
                    {
                      "sentiment": "negative",
                      "confidenceScores": {
                        "positive": 0.01,
                        "neutral": 0.02,
                        "negative": 0.97
                      },
                      "text": "The characters were very 'stagey' and the storyline was a lot like a stage farce.  ",
                      "offset": 0,
                      "length": 83
                    }
                  ],
                  "5": []
                },
                {
                  "0": "By the time the pyromaniac waylaid the assistant I was bored and didn't care what happened next and so I switched off.  ",
                  "1": "negative",
                  "3": {
                    "positive": 0,
                    "neutral": 0,
                    "negative": 0.99
                  },
                  "4": [
                    {
                      "sentiment": "negative",
                      "confidenceScores": {
                        "positive": 0,
                        "neutral": 0,
                        "negative": 0.99
                      },
                      "text": "By the time the pyromaniac waylaid the assistant I was bored and didn't care what happened next and so I switched off.  ",
                      "offset": 0,
                      "length": 120
                    }
                  ],
                  "5": []
                },
                {
                  "0": "Glad I didn't pay to see it.  ",
                  "1": "positive",
                  "3": {
                    "positive": 0.98,
                    "neutral": 0,
                    "negative": 0.02
                  },
                  "4": [
                    {
                      "sentiment": "positive",
                      "confidenceScores": {
                        "positive": 0.98,
                        "neutral": 0,
                        "negative": 0.02
                      },
                      "text": "Glad I didn't pay to see it.  ",
                      "offset": 0,
                      "length": 30
                    }
                  ],
                  "5": []
                },
                {
                  "0": "Didn't laugh or even smile once.  ",
                  "1": "negative",
                  "3": {
                    "positive": 0.01,
                    "neutral": 0.06,
                    "negative": 0.93
                  },
                  "4": [
                    {
                      "sentiment": "negative",
                      "confidenceScores": {
                        "positive": 0.01,
                        "neutral": 0.06,
                        "negative": 0.93
                      },
                      "text": "Didn't laugh or even smile once.  ",
                      "offset": 0,
                      "length": 34
                    }
                  ],
                  "5": []
                },
                {
                  "0": "But it wasn't anything at all just one big yawn...  ",
                  "1": "negative",
                  "3": {
                    "positive": 0.03,
                    "neutral": 0.16,
                    "negative": 0.81
                  },
                  "4": [
                    {
                      "sentiment": "negative",
                      "confidenceScores": {
                        "positive": 0.03,
                        "neutral": 0.16,
                        "negative": 0.81
                      },
                      "text": "But it wasn't anything at all just one big yawn...  ",
                      "offset": 0,
                      "length": 52
                    }
                  ],
                  "5": []
                },
                {
                  "0": "It is a really good show to watch.  ",
                  "1": "positive",
                  "3": {
                    "positive": 1,
                    "neutral": 0,
                    "negative": 0
                  },
                  "4": [
                    {
                      "sentiment": "positive",
                      "confidenceScores": {
                        "positive": 1,
                        "neutral": 0,
                        "negative": 0
                      },
                      "text": "It is a really good show to watch.  ",
                      "offset": 0,
                      "length": 36
                    }
                  ],
                  "5": []
                },
                {
                  "0": "It is very educational for children 1 to 8 years old.  ",
                  "1": "positive",
                  "3": {
                    "positive": 0.96,
                    "neutral": 0.04,
                    "negative": 0.01
                  },
                  "4": [
                    {
                      "sentiment": "positive",
                      "confidenceScores": {
                        "positive": 0.96,
                        "neutral": 0.04,
                        "negative": 0.01
                      },
                      "text": "It is very educational for children 1 to 8 years old.  ",
                      "offset": 0,
                      "length": 55
                    }
                  ],
                  "5": []
                },
                {
                  "0": "Barney is definitely super DE duper.  ",
                  "1": "negative",
                  "3": {
                    "positive": 0.01,
                    "neutral": 0.01,
                    "negative": 0.98
                  },
                  "4": [
                    {
                      "sentiment": "negative",
                      "confidenceScores": {
                        "positive": 0.01,
                        "neutral": 0.01,
                        "negative": 0.98
                      },
                      "text": "Barney is definitely super DE duper.  ",
                      "offset": 0,
                      "length": 38
                    }
                  ],
                  "5": []
                },
                {
                  "0": "is pretty funny.  ",
                  "1": "positive",
                  "3": {
                    "positive": 0.87,
                    "neutral": 0.08,
                    "negative": 0.05
                  },
                  "4": [
                    {
                      "sentiment": "positive",
                      "confidenceScores": {
                        "positive": 0.87,
                        "neutral": 0.08,
                        "negative": 0.05
                      },
                      "text": "is pretty funny.  ",
                      "offset": 0,
                      "length": 18
                    }
                  ],
                  "5": []
                },
                {
                  "0": "Babie Bop is very cute.  ",
                  "1": "positive",
                  "3": {
                    "positive": 0.99,
                    "neutral": 0,
                    "negative": 0
                  },
                  "4": [
                    {
                      "sentiment": "positive",
                      "confidenceScores": {
                        "positive": 0.99,
                        "neutral": 0,
                        "negative": 0
                      },
                      "text": "Babie Bop is very cute.  ",
                      "offset": 0,
                      "length": 25
                    }
                  ],
                  "5": []
                },
                {
                  "0": "The kids are very cool too.  ",
                  "1": "positive",
                  "3": {
                    "positive": 0.99,
                    "neutral": 0.01,
                    "negative": 0
                  },
                  "4": [
                    {
                      "sentiment": "positive",
                      "confidenceScores": {
                        "positive": 0.99,
                        "neutral": 0.01,
                        "negative": 0
                      },
                      "text": "The kids are very cool too.  ",
                      "offset": 0,
                      "length": 29
                    }
                  ],
                  "5": []
                },
                {
                  "0": "\" But Storm Trooper\"\" is not even bad enough to make it to the list of wonderfully terrible movies.  \"",
                  "1": "negative",
                  "3": {
                    "positive": 0.02,
                    "neutral": 0,
                    "negative": 0.98
                  },
                  "4": [
                    {
                      "sentiment": "negative",
                      "confidenceScores": {
                        "positive": 0.02,
                        "neutral": 0,
                        "negative": 0.98
                      },
                      "text": "\" But Storm Trooper\"\" is not even bad enough to make it to the list of wonderfully terrible movies.  ",
                      "offset": 0,
                      "length": 101
                    },
                    {
                      "sentiment": "neutral",
                      "confidenceScores": {
                        "positive": 0.27,
                        "neutral": 0.59,
                        "negative": 0.14
                      },
                      "text": "\"",
                      "offset": 101,
                      "length": 1
                    }
                  ],
                  "5": []
                },
                {
                  "0": "It's just lame.  ",
                  "1": "negative",
                  "3": {
                    "positive": 0.01,
                    "neutral": 0.01,
                    "negative": 0.99
                  },
                  "4": [
                    {
                      "sentiment": "negative",
                      "confidenceScores": {
                        "positive": 0.01,
                        "neutral": 0.01,
                        "negative": 0.99
                      },
                      "text": "It's just lame.  ",
                      "offset": 0,
                      "length": 17
                    }
                  ],
                  "5": []
                },
                {
                  "0": "The guy who said he's had better dialogue with his potted plants has it right.  ",
                  "1": "positive",
                  "3": {
                    "positive": 0.72,
                    "neutral": 0.23,
                    "negative": 0.05
                  },
                  "4": [
                    {
                      "sentiment": "positive",
                      "confidenceScores": {
                        "positive": 0.72,
                        "neutral": 0.23,
                        "negative": 0.05
                      },
                      "text": "The guy who said he's had better dialogue with his potted plants has it right.  ",
                      "offset": 0,
                      "length": 80
                    }
                  ],
                  "5": []
                },
                {
                  "0": "Everything about this movie is stupid.  ",
                  "1": "negative",
                  "3": {
                    "positive": 0.01,
                    "neutral": 0,
                    "negative": 0.99
                  },
                  "4": [
                    {
                      "sentiment": "negative",
                      "confidenceScores": {
                        "positive": 0.01,
                        "neutral": 0,
                        "negative": 0.99
                      },
                      "text": "Everything about this movie is stupid.  ",
                      "offset": 0,
                      "length": 40
                    }
                  ],
                  "5": []
                },
                {
                  "0": "Even if you love bad movies, do not watch this movie.  ",
                  "1": "negative",
                  "3": {
                    "positive": 0.01,
                    "neutral": 0,
                    "negative": 0.99
                  },
                  "4": [
                    {
                      "sentiment": "negative",
                      "confidenceScores": {
                        "positive": 0.01,
                        "neutral": 0,
                        "negative": 0.99
                      },
                      "text": "Even if you love bad movies, do not watch this movie.  ",
                      "offset": 0,
                      "length": 55
                    }
                  ],
                  "5": []
                },
                {
                  "0": "It is shameful.  ",
                  "1": "negative",
                  "3": {
                    "positive": 0.01,
                    "neutral": 0,
                    "negative": 0.99
                  },
                  "4": [
                    {
                      "sentiment": "negative",
                      "confidenceScores": {
                        "positive": 0.01,
                        "neutral": 0,
                        "negative": 0.99
                      },
                      "text": "It is shameful.  ",
                      "offset": 0,
                      "length": 17
                    }
                  ],
                  "5": []
                },
                {
                  "0": "I would give this television series a 10 plus if i could.  ",
                  "1": "neutral",
                  "3": {
                    "positive": 0.14,
                    "neutral": 0.72,
                    "negative": 0.14
                  },
                  "4": [
                    {
                      "sentiment": "neutral",
                      "confidenceScores": {
                        "positive": 0.14,
                        "neutral": 0.72,
                        "negative": 0.14
                      },
                      "text": "I would give this television series a 10 plus if i could.  ",
                      "offset": 0,
                      "length": 59
                    }
                  ],
                  "5": []
                },
                {
                  "0": "\"The writers were \"\"smack on\"\" and I think the best actors and actresses were a bonus to the show.These characters were so real.  \"",
                  "1": "positive",
                  "3": {
                    "positive": 0.7,
                    "neutral": 0.15,
                    "negative": 0.16
                  },
                  "4": [
                    {
                      "sentiment": "positive",
                      "confidenceScores": {
                        "positive": 0.99,
                        "neutral": 0,
                        "negative": 0.01
                      },
                      "text": "\"The writers were \"\"smack on\"\" and I think the best actors and actresses were a bonus to the show.",
                      "offset": 0,
                      "length": 98
                    },
                    {
                      "sentiment": "positive",
                      "confidenceScores": {
                        "positive": 0.4,
                        "neutral": 0.29,
                        "negative": 0.31
                      },
                      "text": "These characters were so real.  ",
                      "offset": 98,
                      "length": 32
                    },
                    {
                      "sentiment": "neutral",
                      "confidenceScores": {
                        "positive": 0.27,
                        "neutral": 0.59,
                        "negative": 0.14
                      },
                      "text": "\"",
                      "offset": 130,
                      "length": 1
                    }
                  ],
                  "5": []
                },
                {
                  "0": "I must say I have taped most of the episodes and i find myself watching them over and over again.  ",
                  "1": "neutral",
                  "3": {
                    "positive": 0.05,
                    "neutral": 0.76,
                    "negative": 0.19
                  },
                  "4": [
                    {
                      "sentiment": "neutral",
                      "confidenceScores": {
                        "positive": 0.05,
                        "neutral": 0.76,
                        "negative": 0.19
                      },
                      "text": "I must say I have taped most of the episodes and i find myself watching them over and over again.  ",
                      "offset": 0,
                      "length": 99
                    }
                  ],
                  "5": []
                },
                {
                  "0": "Now you know why I gave it a 10+!  ",
                  "1": "neutral",
                  "3": {
                    "positive": 0.03,
                    "neutral": 0.94,
                    "negative": 0.03
                  },
                  "4": [
                    {
                      "sentiment": "neutral",
                      "confidenceScores": {
                        "positive": 0.03,
                        "neutral": 0.94,
                        "negative": 0.03
                      },
                      "text": "Now you know why I gave it a 10+!  ",
                      "offset": 0,
                      "length": 35
                    }
                  ],
                  "5": []
                },
                {
                  "0": "I don't know exactly what it is about this movie, but we latched on to this endearing movie and it has become a special part of our family's memories.  ",
                  "1": "positive",
                  "3": {
                    "positive": 0.98,
                    "neutral": 0.01,
                    "negative": 0.01
                  },
                  "4": [
                    {
                      "sentiment": "positive",
                      "confidenceScores": {
                        "positive": 0.98,
                        "neutral": 0.01,
                        "negative": 0.01
                      },
                      "text": "I don't know exactly what it is about this movie, but we latched on to this endearing movie and it has become a special part of our family's memories.  ",
                      "offset": 0,
                      "length": 152
                    }
                  ],
                  "5": []
                },
                {
                  "0": "I totally and absolutely recommend this movie to anyone who likes good wholesome family movies because that is exactly what this is.  ",
                  "1": "positive",
                  "3": {
                    "positive": 1,
                    "neutral": 0,
                    "negative": 0
                  },
                  "4": [
                    {
                      "sentiment": "positive",
                      "confidenceScores": {
                        "positive": 1,
                        "neutral": 0,
                        "negative": 0
                      },
                      "text": "I totally and absolutely recommend this movie to anyone who likes good wholesome family movies because that is exactly what this is.  ",
                      "offset": 0,
                      "length": 134
                    }
                  ],
                  "5": []
                },
                {
                  "0": "The things that the four kids get themselves into is absolutely hilarious to watch.  ",
                  "1": "positive",
                  "3": {
                    "positive": 0.95,
                    "neutral": 0.01,
                    "negative": 0.04
                  },
                  "4": [
                    {
                      "sentiment": "positive",
                      "confidenceScores": {
                        "positive": 0.95,
                        "neutral": 0.01,
                        "negative": 0.04
                      },
                      "text": "The things that the four kids get themselves into is absolutely hilarious to watch.  ",
                      "offset": 0,
                      "length": 85
                    }
                  ],
                  "5": []
                },
                {
                  "0": "This is one of the best movies out there that shows such strong sibling bond for each other.  ",
                  "1": "positive",
                  "3": {
                    "positive": 0.99,
                    "neutral": 0,
                    "negative": 0
                  },
                  "4": [
                    {
                      "sentiment": "positive",
                      "confidenceScores": {
                        "positive": 0.99,
                        "neutral": 0,
                        "negative": 0
                      },
                      "text": "This is one of the best movies out there that shows such strong sibling bond for each other.  ",
                      "offset": 0,
                      "length": 94
                    }
                  ],
                  "5": []
                },
                {
                  "0": "Much more interesting, more action, more suspense, and less of the unneeded controversy.  ",
                  "1": "positive",
                  "3": {
                    "positive": 0.91,
                    "neutral": 0.03,
                    "negative": 0.06
                  },
                  "4": [
                    {
                      "sentiment": "positive",
                      "confidenceScores": {
                        "positive": 0.91,
                        "neutral": 0.03,
                        "negative": 0.06
                      },
                      "text": "Much more interesting, more action, more suspense, and less of the unneeded controversy.  ",
                      "offset": 0,
                      "length": 90
                    }
                  ],
                  "5": []
                },
                {
                  "0": "Everything from acting to cinematography was solid.  ",
                  "1": "positive",
                  "3": {
                    "positive": 0.96,
                    "neutral": 0.01,
                    "negative": 0.03
                  },
                  "4": [
                    {
                      "sentiment": "positive",
                      "confidenceScores": {
                        "positive": 0.96,
                        "neutral": 0.01,
                        "negative": 0.03
                      },
                      "text": "Everything from acting to cinematography was solid.  ",
                      "offset": 0,
                      "length": 53
                    }
                  ],
                  "5": []
                },
                {
                  "0": "Definitely worth checking out.  ",
                  "1": "positive",
                  "3": {
                    "positive": 0.99,
                    "neutral": 0.01,
                    "negative": 0.01
                  },
                  "4": [
                    {
                      "sentiment": "positive",
                      "confidenceScores": {
                        "positive": 0.99,
                        "neutral": 0.01,
                        "negative": 0.01
                      },
                      "text": "Definitely worth checking out.  ",
                      "offset": 0,
                      "length": 32
                    }
                  ],
                  "5": []
                },
                {
                  "0": "Damian is so talented and versatile in so many ways of writing and portraying different Characters on screen.  ",
                  "1": "positive",
                  "3": {
                    "positive": 0.97,
                    "neutral": 0.02,
                    "negative": 0.01
                  },
                  "4": [
                    {
                      "sentiment": "positive",
                      "confidenceScores": {
                        "positive": 0.97,
                        "neutral": 0.02,
                        "negative": 0.01
                      },
                      "text": "Damian is so talented and versatile in so many ways of writing and portraying different Characters on screen.  ",
                      "offset": 0,
                      "length": 111
                    }
                  ],
                  "5": []
                },
                {
                  "0": "This movie has a cutting edge to it.  ",
                  "1": "positive",
                  "3": {
                    "positive": 0.84,
                    "neutral": 0.14,
                    "negative": 0.02
                  },
                  "4": [
                    {
                      "sentiment": "positive",
                      "confidenceScores": {
                        "positive": 0.84,
                        "neutral": 0.14,
                        "negative": 0.02
                      },
                      "text": "This movie has a cutting edge to it.  ",
                      "offset": 0,
                      "length": 38
                    }
                  ],
                  "5": []
                },
                {
                  "0": "I am so pleased to know such a modern day genius is out there , letting is passion for Art drive him and taking us as an audience with him.  ",
                  "1": "positive",
                  "3": {
                    "positive": 0.99,
                    "neutral": 0.01,
                    "negative": 0
                  },
                  "4": [
                    {
                      "sentiment": "positive",
                      "confidenceScores": {
                        "positive": 0.99,
                        "neutral": 0.01,
                        "negative": 0
                      },
                      "text": "I am so pleased to know such a modern day genius is out there , letting is passion for Art drive him and taking us as an audience with him.  ",
                      "offset": 0,
                      "length": 141
                    }
                  ],
                  "5": []
                },
                {
                  "0": "The new characters weren't all that memorable, and I found myself forgetting who was who.  ",
                  "1": "negative",
                  "3": {
                    "positive": 0,
                    "neutral": 0,
                    "negative": 0.99
                  },
                  "4": [
                    {
                      "sentiment": "negative",
                      "confidenceScores": {
                        "positive": 0,
                        "neutral": 0,
                        "negative": 0.99
                      },
                      "text": "The new characters weren't all that memorable, and I found myself forgetting who was who.  ",
                      "offset": 0,
                      "length": 91
                    }
                  ],
                  "5": []
                },
                {
                  "0": "I felt as though her going to Ireland did absolutely nothing whatsoever.  ",
                  "1": "negative",
                  "3": {
                    "positive": 0.01,
                    "neutral": 0.18,
                    "negative": 0.8
                  },
                  "4": [
                    {
                      "sentiment": "negative",
                      "confidenceScores": {
                        "positive": 0.01,
                        "neutral": 0.18,
                        "negative": 0.8
                      },
                      "text": "I felt as though her going to Ireland did absolutely nothing whatsoever.  ",
                      "offset": 0,
                      "length": 74
                    }
                  ],
                  "5": []
                },
                {
                  "0": "\"It didn't make me scared, horrified, or make me sympathetic towards the characters; it was simply annoying.  \"",
                  "1": "negative",
                  "3": {
                    "positive": 0,
                    "neutral": 0,
                    "negative": 0.99
                  },
                  "4": [
                    {
                      "sentiment": "negative",
                      "confidenceScores": {
                        "positive": 0.01,
                        "neutral": 0.01,
                        "negative": 0.99
                      },
                      "text": "\"It didn't make me scared, horrified, or make me sympathetic towards the characters; ",
                      "offset": 0,
                      "length": 85
                    },
                    {
                      "sentiment": "negative",
                      "confidenceScores": {
                        "positive": 0,
                        "neutral": 0,
                        "negative": 0.99
                      },
                      "text": "it was simply annoying.  ",
                      "offset": 85,
                      "length": 25
                    },
                    {
                      "sentiment": "neutral",
                      "confidenceScores": {
                        "positive": 0.27,
                        "neutral": 0.59,
                        "negative": 0.14
                      },
                      "text": "\"",
                      "offset": 110,
                      "length": 1
                    }
                  ],
                  "5": []
                },
                {
                  "0": "The jerky camera movements were also annoying.  ",
                  "1": "negative",
                  "3": {
                    "positive": 0,
                    "neutral": 0,
                    "negative": 1
                  },
                  "4": [
                    {
                      "sentiment": "negative",
                      "confidenceScores": {
                        "positive": 0,
                        "neutral": 0,
                        "negative": 1
                      },
                      "text": "The jerky camera movements were also annoying.  ",
                      "offset": 0,
                      "length": 48
                    }
                  ],
                  "5": []
                },
                {
                  "0": "The plot was the same as pretty much every other cheap horror.  ",
                  "1": "negative",
                  "3": {
                    "positive": 0.02,
                    "neutral": 0.01,
                    "negative": 0.97
                  },
                  "4": [
                    {
                      "sentiment": "negative",
                      "confidenceScores": {
                        "positive": 0.02,
                        "neutral": 0.01,
                        "negative": 0.97
                      },
                      "text": "The plot was the same as pretty much every other cheap horror.  ",
                      "offset": 0,
                      "length": 64
                    }
                  ],
                  "5": []
                },
                {
                  "0": "There was a few pathetic attempts to give the characters some depth, but it didn't really work into the rest of the plot.  ",
                  "1": "negative",
                  "3": {
                    "positive": 0,
                    "neutral": 0,
                    "negative": 1
                  },
                  "4": [
                    {
                      "sentiment": "negative",
                      "confidenceScores": {
                        "positive": 0,
                        "neutral": 0,
                        "negative": 1
                      },
                      "text": "There was a few pathetic attempts to give the characters some depth, but it didn't really work into the rest of the plot.  ",
                      "offset": 0,
                      "length": 123
                    }
                  ],
                  "5": []
                },
                {
                  "0": "I guess it was supposed to be clever twist, then shed some light on the situation, but it was just stupid.  ",
                  "1": "negative",
                  "3": {
                    "positive": 0.01,
                    "neutral": 0,
                    "negative": 0.99
                  },
                  "4": [
                    {
                      "sentiment": "negative",
                      "confidenceScores": {
                        "positive": 0.01,
                        "neutral": 0,
                        "negative": 0.99
                      },
                      "text": "I guess it was supposed to be clever twist, then shed some light on the situation, but it was just stupid.  ",
                      "offset": 0,
                      "length": 108
                    }
                  ],
                  "5": []
                },
                {
                  "0": "If you see it, you should probably just leave it on the shelf.  ",
                  "1": "neutral",
                  "3": {
                    "positive": 0.01,
                    "neutral": 0.99,
                    "negative": 0.01
                  },
                  "4": [
                    {
                      "sentiment": "neutral",
                      "confidenceScores": {
                        "positive": 0.01,
                        "neutral": 0.99,
                        "negative": 0.01
                      },
                      "text": "If you see it, you should probably just leave it on the shelf.  ",
                      "offset": 0,
                      "length": 64
                    }
                  ],
                  "5": []
                },
                {
                  "0": "Elias Koteas,Jack Palance play good roles Angelina is hot and gets naked.Billy Drago appears in this and is cool as usual + a cameo by Sven ole Thorsen helps make this a very enjoyable movie with good acting and a decent budget.  ",
                  "1": "positive",
                  "3": {
                    "positive": 0.99,
                    "neutral": 0,
                    "negative": 0.01
                  },
                  "4": [
                    {
                      "sentiment": "positive",
                      "confidenceScores": {
                        "positive": 0.98,
                        "neutral": 0.01,
                        "negative": 0.01
                      },
                      "text": "Elias Koteas,Jack Palance play good roles Angelina is hot and gets naked.",
                      "offset": 0,
                      "length": 73
                    },
                    {
                      "sentiment": "positive",
                      "confidenceScores": {
                        "positive": 1,
                        "neutral": 0,
                        "negative": 0
                      },
                      "text": "Billy Drago appears in this and is cool as usual + a cameo by Sven ole Thorsen helps make this a very enjoyable movie with good acting and a decent budget.  ",
                      "offset": 73,
                      "length": 157
                    }
                  ],
                  "5": []
                },
                {
                  "0": "This was such an awesome movie that i bought it off of Ebay.  ",
                  "1": "positive",
                  "3": {
                    "positive": 0.99,
                    "neutral": 0,
                    "negative": 0
                  },
                  "4": [
                    {
                      "sentiment": "positive",
                      "confidenceScores": {
                        "positive": 0.99,
                        "neutral": 0,
                        "negative": 0
                      },
                      "text": "This was such an awesome movie that i bought it off of Ebay.  ",
                      "offset": 0,
                      "length": 62
                    }
                  ],
                  "5": []
                },
                {
                  "0": "I really loved the story line and the poler bear was kinda cute.But if anyone has a question about Fort Steele, just ask away:)  ",
                  "1": "positive",
                  "3": {
                    "positive": 0.99,
                    "neutral": 0,
                    "negative": 0.01
                  },
                  "4": [
                    {
                      "sentiment": "positive",
                      "confidenceScores": {
                        "positive": 0.99,
                        "neutral": 0,
                        "negative": 0.01
                      },
                      "text": "I really loved the story line and the poler bear was kinda cute.",
                      "offset": 0,
                      "length": 64
                    }
                  ],
                  "5": []
                },
                {
                  "0": "This totally UNfunny movie is so over the top and pathetic and unrealistic that throughout the whole 90 minutes of utter torture I probably looked at my watch about 70000 times!  ",
                  "1": "negative",
                  "3": {
                    "positive": 0,
                    "neutral": 0,
                    "negative": 0.99
                  },
                  "4": [
                    {
                      "sentiment": "negative",
                      "confidenceScores": {
                        "positive": 0,
                        "neutral": 0,
                        "negative": 0.99
                      },
                      "text": "This totally UNfunny movie is so over the top and pathetic and unrealistic that throughout the whole 90 minutes of utter torture I probably looked at my watch about 70000 times!  ",
                      "offset": 0,
                      "length": 179
                    }
                  ],
                  "5": []
                },
                {
                  "0": "Lucy Bell is so much higher than this crap and for her to sink this low is quite depressing.  ",
                  "1": "negative",
                  "3": {
                    "positive": 0,
                    "neutral": 0,
                    "negative": 0.99
                  },
                  "4": [
                    {
                      "sentiment": "negative",
                      "confidenceScores": {
                        "positive": 0,
                        "neutral": 0,
                        "negative": 0.99
                      },
                      "text": "Lucy Bell is so much higher than this crap and for her to sink this low is quite depressing.  ",
                      "offset": 0,
                      "length": 94
                    }
                  ],
                  "5": []
                },
                {
                  "0": "All this movie does is make you sick watching all these slackers make excuses for their stupid actions for 90 minutes.  ",
                  "1": "negative",
                  "3": {
                    "positive": 0,
                    "neutral": 0,
                    "negative": 0.99
                  },
                  "4": [
                    {
                      "sentiment": "negative",
                      "confidenceScores": {
                        "positive": 0,
                        "neutral": 0,
                        "negative": 0.99
                      },
                      "text": "All this movie does is make you sick watching all these slackers make excuses for their stupid actions for 90 minutes.  ",
                      "offset": 0,
                      "length": 120
                    }
                  ],
                  "5": []
                },
                {
                  "0": "God, and I can never get that 90 minutes back!  ",
                  "1": "negative",
                  "3": {
                    "positive": 0.39,
                    "neutral": 0.15,
                    "negative": 0.45
                  },
                  "4": [
                    {
                      "sentiment": "negative",
                      "confidenceScores": {
                        "positive": 0.39,
                        "neutral": 0.15,
                        "negative": 0.45
                      },
                      "text": "God, and I can never get that 90 minutes back!  ",
                      "offset": 0,
                      "length": 48
                    }
                  ],
                  "5": []
                },
                {
                  "0": "\"I think the most wonderful parts (literally, full of \"\"wonder\"\") are the excerpts from his works.  \"",
                  "1": "positive",
                  "3": {
                    "positive": 0.99,
                    "neutral": 0,
                    "negative": 0.01
                  },
                  "4": [
                    {
                      "sentiment": "positive",
                      "confidenceScores": {
                        "positive": 0.99,
                        "neutral": 0,
                        "negative": 0.01
                      },
                      "text": "\"I think the most wonderful parts (literally, full of \"\"wonder\"\") are the excerpts from his works.  ",
                      "offset": 0,
                      "length": 100
                    },
                    {
                      "sentiment": "neutral",
                      "confidenceScores": {
                        "positive": 0.27,
                        "neutral": 0.59,
                        "negative": 0.14
                      },
                      "text": "\"",
                      "offset": 100,
                      "length": 1
                    }
                  ],
                  "5": []
                },
                {
                  "0": "The sets (especially designed to work with the camera) are amazing....stylized, beautiful and effective.  ",
                  "1": "positive",
                  "3": {
                    "positive": 1,
                    "neutral": 0,
                    "negative": 0
                  },
                  "4": [
                    {
                      "sentiment": "positive",
                      "confidenceScores": {
                        "positive": 0.99,
                        "neutral": 0,
                        "negative": 0
                      },
                      "text": "The sets (especially designed to work with the camera) are amazing....",
                      "offset": 0,
                      "length": 70
                    },
                    {
                      "sentiment": "positive",
                      "confidenceScores": {
                        "positive": 1,
                        "neutral": 0,
                        "negative": 0
                      },
                      "text": "stylized, beautiful and effective.  ",
                      "offset": 70,
                      "length": 36
                    }
                  ],
                  "5": []
                },
                {
                  "0": "They could be used as exemplars for any set designer.  ",
                  "1": "neutral",
                  "3": {
                    "positive": 0.42,
                    "neutral": 0.57,
                    "negative": 0.02
                  },
                  "4": [
                    {
                      "sentiment": "neutral",
                      "confidenceScores": {
                        "positive": 0.42,
                        "neutral": 0.57,
                        "negative": 0.02
                      },
                      "text": "They could be used as exemplars for any set designer.  ",
                      "offset": 0,
                      "length": 55
                    }
                  ],
                  "5": []
                },
                {
                  "0": "The stories were powerful explorations of the nature of man and of art.  ",
                  "1": "positive",
                  "3": {
                    "positive": 0.87,
                    "neutral": 0.1,
                    "negative": 0.04
                  },
                  "4": [
                    {
                      "sentiment": "positive",
                      "confidenceScores": {
                        "positive": 0.87,
                        "neutral": 0.1,
                        "negative": 0.04
                      },
                      "text": "The stories were powerful explorations of the nature of man and of art.  ",
                      "offset": 0,
                      "length": 73
                    }
                  ],
                  "5": []
                },
                {
                  "0": "After watching this film, I wanted to learn more about the works of this artist.  ",
                  "1": "positive",
                  "3": {
                    "positive": 0.83,
                    "neutral": 0.12,
                    "negative": 0.06
                  },
                  "4": [
                    {
                      "sentiment": "positive",
                      "confidenceScores": {
                        "positive": 0.83,
                        "neutral": 0.12,
                        "negative": 0.06
                      },
                      "text": "After watching this film, I wanted to learn more about the works of this artist.  ",
                      "offset": 0,
                      "length": 82
                    }
                  ],
                  "5": []
                },
                {
                  "0": "I highly recommend this movie for anyone interested in art, poetry, theater, politics, or Japanese history.  ",
                  "1": "positive",
                  "3": {
                    "positive": 0.99,
                    "neutral": 0,
                    "negative": 0
                  },
                  "4": [
                    {
                      "sentiment": "positive",
                      "confidenceScores": {
                        "positive": 0.99,
                        "neutral": 0,
                        "negative": 0
                      },
                      "text": "I highly recommend this movie for anyone interested in art, poetry, theater, politics, or Japanese history.  ",
                      "offset": 0,
                      "length": 109
                    }
                  ],
                  "5": []
                },
                {
                  "0": "Here, in The Wind and the Lion, we see a wonderful rendering of America's own Imperial age.  ",
                  "1": "positive",
                  "3": {
                    "positive": 0.87,
                    "neutral": 0.11,
                    "negative": 0.02
                  },
                  "4": [
                    {
                      "sentiment": "positive",
                      "confidenceScores": {
                        "positive": 0.87,
                        "neutral": 0.11,
                        "negative": 0.02
                      },
                      "text": "Here, in The Wind and the Lion, we see a wonderful rendering of America's own Imperial age.  ",
                      "offset": 0,
                      "length": 93
                    }
                  ],
                  "5": []
                },
                {
                  "0": ") What makes this story different are the terrific production values - faultless photography, composition and editing - the terrific casting - the underappreciated Brian Keith playing a bully Teddy - and vivid history.  ",
                  "1": "positive",
                  "3": {
                    "positive": 0.82,
                    "neutral": 0.01,
                    "negative": 0.17
                  },
                  "4": [
                    {
                      "sentiment": "positive",
                      "confidenceScores": {
                        "positive": 0.82,
                        "neutral": 0.01,
                        "negative": 0.17
                      },
                      "text": ") What makes this story different are the terrific production values - faultless photography, composition and editing - the terrific casting - the underappreciated Brian Keith playing a bully Teddy - and vivid history.  ",
                      "offset": 0,
                      "length": 220
                    }
                  ],
                  "5": []
                },
                {
                  "0": "\"Though The Wind and the Lion is told largely through the eyes of the son, every member of the family can identify with one of the characters, whether it be Sean Connery's noble brigand, Candace Bergen's feisty heroine, John Huston's wily John Hay or Steve Kanaly's spiffy, radiant, ruthless can-do lieutenant, Roosevelt's \"\"Big Stick\"\".  \"",
                  "1": "neutral",
                  "3": {
                    "positive": 0.15,
                    "neutral": 0.57,
                    "negative": 0.28
                  },
                  "4": [
                    {
                      "sentiment": "neutral",
                      "confidenceScores": {
                        "positive": 0.03,
                        "neutral": 0.55,
                        "negative": 0.42
                      },
                      "text": "\"Though The Wind and the Lion is told largely through the eyes of the son, every member of the family can identify with one of the characters, whether it be Sean Connery's noble brigand, Candace Bergen's feisty heroine, John Huston's wily John Hay or Steve Kanaly's spiffy, radiant, ruthless can-do lieutenant, Roosevelt's \"\"Big Stick\"\".  ",
                      "offset": 0,
                      "length": 339
                    },
                    {
                      "sentiment": "neutral",
                      "confidenceScores": {
                        "positive": 0.27,
                        "neutral": 0.59,
                        "negative": 0.14
                      },
                      "text": "\"",
                      "offset": 339,
                      "length": 1
                    }
                  ],
                  "5": []
                },
                {
                  "0": "This is high adventure at its best.  ",
                  "1": "positive",
                  "3": {
                    "positive": 0.99,
                    "neutral": 0.01,
                    "negative": 0.01
                  },
                  "4": [
                    {
                      "sentiment": "positive",
                      "confidenceScores": {
                        "positive": 0.99,
                        "neutral": 0.01,
                        "negative": 0.01
                      },
                      "text": "This is high adventure at its best.  ",
                      "offset": 0,
                      "length": 37
                    }
                  ],
                  "5": []
                },
                {
                  "0": "I think it was Robert Ryans best film, because he portrayed someone like my father, and he was a schizophrenic in real life,(my father) although he never murdered anyone but was affected more so during the second world war which made him worse.  ",
                  "1": "negative",
                  "3": {
                    "positive": 0.01,
                    "neutral": 0,
                    "negative": 0.99
                  },
                  "4": [
                    {
                      "sentiment": "negative",
                      "confidenceScores": {
                        "positive": 0.01,
                        "neutral": 0,
                        "negative": 0.99
                      },
                      "text": "I think it was Robert Ryans best film, because he portrayed someone like my father, and he was a schizophrenic in real life,(my father) although he never murdered anyone but was affected more so during the second world war which made him worse.  ",
                      "offset": 0,
                      "length": 246
                    }
                  ],
                  "5": []
                },
                {
                  "0": "Having to humour him just to get by and get through the day was so apt.  ",
                  "1": "positive",
                  "3": {
                    "positive": 0.98,
                    "neutral": 0,
                    "negative": 0.02
                  },
                  "4": [
                    {
                      "sentiment": "positive",
                      "confidenceScores": {
                        "positive": 0.98,
                        "neutral": 0,
                        "negative": 0.02
                      },
                      "text": "Having to humour him just to get by and get through the day was so apt.  ",
                      "offset": 0,
                      "length": 73
                    }
                  ],
                  "5": []
                },
                {
                  "0": "(My mother and brother had to do this)When I saw Robert Ryan portraying this type of man, it was a very good imitation of this type of individual, and I was impressed.  ",
                  "1": "positive",
                  "3": {
                    "positive": 1,
                    "neutral": 0,
                    "negative": 0
                  },
                  "4": [
                    {
                      "sentiment": "neutral",
                      "confidenceScores": {
                        "positive": 0.02,
                        "neutral": 0.92,
                        "negative": 0.05
                      },
                      "text": "(My mother and brother had to do this)",
                      "offset": 0,
                      "length": 38
                    },
                    {
                      "sentiment": "positive",
                      "confidenceScores": {
                        "positive": 1,
                        "neutral": 0,
                        "negative": 0
                      },
                      "text": "When I saw Robert Ryan portraying this type of man, it was a very good imitation of this type of individual, and I was impressed.  ",
                      "offset": 38,
                      "length": 131
                    }
                  ],
                  "5": []
                },
                {
                  "0": "Almost all of the songs in Cover Girl are old-fashioned and not very tuneful.  ",
                  "1": "negative",
                  "3": {
                    "positive": 0,
                    "neutral": 0.01,
                    "negative": 0.99
                  },
                  "4": [
                    {
                      "sentiment": "negative",
                      "confidenceScores": {
                        "positive": 0,
                        "neutral": 0.01,
                        "negative": 0.99
                      },
                      "text": "Almost all of the songs in Cover Girl are old-fashioned and not very tuneful.  ",
                      "offset": 0,
                      "length": 79
                    }
                  ],
                  "5": []
                },
                {
                  "0": "The most annoying thing about 'Cover Girl' is the way in which Rita Hayworth is put up on a pedestal.  ",
                  "1": "negative",
                  "3": {
                    "positive": 0,
                    "neutral": 0,
                    "negative": 0.99
                  },
                  "4": [
                    {
                      "sentiment": "negative",
                      "confidenceScores": {
                        "positive": 0,
                        "neutral": 0,
                        "negative": 0.99
                      },
                      "text": "The most annoying thing about 'Cover Girl' is the way in which Rita Hayworth is put up on a pedestal.  ",
                      "offset": 0,
                      "length": 103
                    }
                  ],
                  "5": []
                },
                {
                  "0": "Unfortunately, 'Cover Girl' is an example of how Hollywood used to exploit women for financial gain.  ",
                  "1": "negative",
                  "3": {
                    "positive": 0,
                    "neutral": 0,
                    "negative": 0.99
                  },
                  "4": [
                    {
                      "sentiment": "negative",
                      "confidenceScores": {
                        "positive": 0,
                        "neutral": 0,
                        "negative": 0.99
                      },
                      "text": "Unfortunately, 'Cover Girl' is an example of how Hollywood used to exploit women for financial gain.  ",
                      "offset": 0,
                      "length": 102
                    }
                  ],
                  "5": []
                },
                {
                  "0": "Non-linear narration thus many flashbacks and every part are articulated quite well.  ",
                  "1": "positive",
                  "3": {
                    "positive": 0.89,
                    "neutral": 0.01,
                    "negative": 0.1
                  },
                  "4": [
                    {
                      "sentiment": "positive",
                      "confidenceScores": {
                        "positive": 0.89,
                        "neutral": 0.01,
                        "negative": 0.1
                      },
                      "text": "Non-linear narration thus many flashbacks and every part are articulated quite well.  ",
                      "offset": 0,
                      "length": 86
                    }
                  ],
                  "5": []
                },
                {
                  "0": "The good cinematography also makes her and Monica Bellucci look very beautiful.  ",
                  "1": "positive",
                  "3": {
                    "positive": 1,
                    "neutral": 0,
                    "negative": 0
                  },
                  "4": [
                    {
                      "sentiment": "positive",
                      "confidenceScores": {
                        "positive": 1,
                        "neutral": 0,
                        "negative": 0
                      },
                      "text": "The good cinematography also makes her and Monica Bellucci look very beautiful.  ",
                      "offset": 0,
                      "length": 81
                    }
                  ],
                  "5": []
                },
                {
                  "0": "A good commentary of today's love and undoubtedly a film worth seeing.  ",
                  "1": "positive",
                  "3": {
                    "positive": 1,
                    "neutral": 0,
                    "negative": 0
                  },
                  "4": [
                    {
                      "sentiment": "positive",
                      "confidenceScores": {
                        "positive": 1,
                        "neutral": 0,
                        "negative": 0
                      },
                      "text": "A good commentary of today's love and undoubtedly a film worth seeing.  ",
                      "offset": 0,
                      "length": 72
                    }
                  ],
                  "5": []
                },
                {
                  "0": "For people who are first timers in film making, I think they did an excellent job!!  ",
                  "1": "positive",
                  "3": {
                    "positive": 1,
                    "neutral": 0,
                    "negative": 0
                  },
                  "4": [
                    {
                      "sentiment": "positive",
                      "confidenceScores": {
                        "positive": 1,
                        "neutral": 0,
                        "negative": 0
                      },
                      "text": "For people who are first timers in film making, I think they did an excellent job!!  ",
                      "offset": 0,
                      "length": 85
                    }
                  ],
                  "5": []
                },
                {
                  "0": "It was very popular when I was in the cinema, a good house and very good reactions and plenty of laughs.  ",
                  "1": "positive",
                  "3": {
                    "positive": 1,
                    "neutral": 0,
                    "negative": 0
                  },
                  "4": [
                    {
                      "sentiment": "positive",
                      "confidenceScores": {
                        "positive": 1,
                        "neutral": 0,
                        "negative": 0
                      },
                      "text": "It was very popular when I was in the cinema, a good house and very good reactions and plenty of laughs.  ",
                      "offset": 0,
                      "length": 106
                    }
                  ],
                  "5": []
                },
                {
                  "0": "It's a feel-good film and that's how I felt when I came out of the cinema!  ",
                  "1": "positive",
                  "3": {
                    "positive": 0.99,
                    "neutral": 0,
                    "negative": 0
                  },
                  "4": [
                    {
                      "sentiment": "positive",
                      "confidenceScores": {
                        "positive": 0.99,
                        "neutral": 0,
                        "negative": 0
                      },
                      "text": "It's a feel-good film and that's how I felt when I came out of the cinema!  ",
                      "offset": 0,
                      "length": 76
                    }
                  ],
                  "5": []
                },
                {
                  "0": "It has northern humour and positive about the community it represents.  ",
                  "1": "positive",
                  "3": {
                    "positive": 0.96,
                    "neutral": 0.02,
                    "negative": 0.02
                  },
                  "4": [
                    {
                      "sentiment": "positive",
                      "confidenceScores": {
                        "positive": 0.96,
                        "neutral": 0.02,
                        "negative": 0.02
                      },
                      "text": "It has northern humour and positive about the community it represents.  ",
                      "offset": 0,
                      "length": 72
                    }
                  ],
                  "5": []
                },
                {
                  "0": "I rather enjoyed it.  ",
                  "1": "positive",
                  "3": {
                    "positive": 0.99,
                    "neutral": 0,
                    "negative": 0.01
                  },
                  "4": [
                    {
                      "sentiment": "positive",
                      "confidenceScores": {
                        "positive": 0.99,
                        "neutral": 0,
                        "negative": 0.01
                      },
                      "text": "I rather enjoyed it.  ",
                      "offset": 0,
                      "length": 22
                    }
                  ],
                  "5": []
                },
                {
                  "0": "I liked it.  ",
                  "1": "positive",
                  "3": {
                    "positive": 0.99,
                    "neutral": 0.01,
                    "negative": 0
                  },
                  "4": [
                    {
                      "sentiment": "positive",
                      "confidenceScores": {
                        "positive": 0.99,
                        "neutral": 0.01,
                        "negative": 0
                      },
                      "text": "I liked it.  ",
                      "offset": 0,
                      "length": 13
                    }
                  ],
                  "5": []
                },
                {
                  "0": "I couldn't take them seriously.  ",
                  "1": "negative",
                  "3": {
                    "positive": 0.01,
                    "neutral": 0.07,
                    "negative": 0.92
                  },
                  "4": [
                    {
                      "sentiment": "negative",
                      "confidenceScores": {
                        "positive": 0.01,
                        "neutral": 0.07,
                        "negative": 0.92
                      },
                      "text": "I couldn't take them seriously.  ",
                      "offset": 0,
                      "length": 33
                    }
                  ],
                  "5": []
                },
                {
                  "0": "It really created a unique feeling though.  ",
                  "1": "positive",
                  "3": {
                    "positive": 0.88,
                    "neutral": 0.09,
                    "negative": 0.03
                  },
                  "4": [
                    {
                      "sentiment": "positive",
                      "confidenceScores": {
                        "positive": 0.88,
                        "neutral": 0.09,
                        "negative": 0.03
                      },
                      "text": "It really created a unique feeling though.  ",
                      "offset": 0,
                      "length": 44
                    }
                  ],
                  "5": []
                },
                {
                  "0": "Vivian Schilling did an excellent job with the script.  ",
                  "1": "positive",
                  "3": {
                    "positive": 1,
                    "neutral": 0,
                    "negative": 0
                  },
                  "4": [
                    {
                      "sentiment": "positive",
                      "confidenceScores": {
                        "positive": 1,
                        "neutral": 0,
                        "negative": 0
                      },
                      "text": "Vivian Schilling did an excellent job with the script.  ",
                      "offset": 0,
                      "length": 56
                    }
                  ],
                  "5": []
                },
                {
                  "0": "A world better than 95% of the garbage in the theatres today.  ",
                  "1": "positive",
                  "3": {
                    "positive": 0.87,
                    "neutral": 0.01,
                    "negative": 0.12
                  },
                  "4": [
                    {
                      "sentiment": "positive",
                      "confidenceScores": {
                        "positive": 0.87,
                        "neutral": 0.01,
                        "negative": 0.12
                      },
                      "text": "A world better than 95% of the garbage in the theatres today.  ",
                      "offset": 0,
                      "length": 63
                    }
                  ],
                  "5": []
                },
                {
                  "0": "Her role was played well.  ",
                  "1": "positive",
                  "3": {
                    "positive": 0.99,
                    "neutral": 0,
                    "negative": 0
                  },
                  "4": [
                    {
                      "sentiment": "positive",
                      "confidenceScores": {
                        "positive": 0.99,
                        "neutral": 0,
                        "negative": 0
                      },
                      "text": "Her role was played well.  ",
                      "offset": 0,
                      "length": 27
                    }
                  ],
                  "5": []
                },
                {
                  "0": "Not too screamy not to masculine but just right.  ",
                  "1": "positive",
                  "3": {
                    "positive": 0.92,
                    "neutral": 0.05,
                    "negative": 0.03
                  },
                  "4": [
                    {
                      "sentiment": "positive",
                      "confidenceScores": {
                        "positive": 0.92,
                        "neutral": 0.05,
                        "negative": 0.03
                      },
                      "text": "Not too screamy not to masculine but just right.  ",
                      "offset": 0,
                      "length": 50
                    }
                  ],
                  "5": []
                },
                {
                  "0": "The camera really likes her in this movie.  ",
                  "1": "positive",
                  "3": {
                    "positive": 0.99,
                    "neutral": 0,
                    "negative": 0
                  },
                  "4": [
                    {
                      "sentiment": "positive",
                      "confidenceScores": {
                        "positive": 0.99,
                        "neutral": 0,
                        "negative": 0
                      },
                      "text": "The camera really likes her in this movie.  ",
                      "offset": 0,
                      "length": 44
                    }
                  ],
                  "5": []
                },
                {
                  "0": "I would have casted her in that role after ready the script.  ",
                  "1": "neutral",
                  "3": {
                    "positive": 0.11,
                    "neutral": 0.72,
                    "negative": 0.17
                  },
                  "4": [
                    {
                      "sentiment": "neutral",
                      "confidenceScores": {
                        "positive": 0.11,
                        "neutral": 0.72,
                        "negative": 0.17
                      },
                      "text": "I would have casted her in that role after ready the script.  ",
                      "offset": 0,
                      "length": 62
                    }
                  ],
                  "5": []
                },
                {
                  "0": "As a European, the movie is a nice throwback to my time as a student in the 1980's and the experiences I had living abroad and interacting with other nationalities, although the circumstances were slightly different.  ",
                  "1": "positive",
                  "3": {
                    "positive": 0.94,
                    "neutral": 0.02,
                    "negative": 0.04
                  },
                  "4": [
                    {
                      "sentiment": "positive",
                      "confidenceScores": {
                        "positive": 0.94,
                        "neutral": 0.02,
                        "negative": 0.04
                      },
                      "text": "As a European, the movie is a nice throwback to my time as a student in the 1980's and the experiences I had living abroad and interacting with other nationalities, although the circumstances were slightly different.  ",
                      "offset": 0,
                      "length": 218
                    }
                  ],
                  "5": []
                },
                {
                  "0": "I am a fan of his ... This movie sucked really bad.  ",
                  "1": "mixed",
                  "3": {
                    "positive": 0.27,
                    "neutral": 0.2,
                    "negative": 0.53
                  },
                  "4": [
                    {
                      "sentiment": "positive",
                      "confidenceScores": {
                        "positive": 0.53,
                        "neutral": 0.41,
                        "negative": 0.07
                      },
                      "text": "I am a fan of his ... ",
                      "offset": 0,
                      "length": 22
                    },
                    {
                      "sentiment": "negative",
                      "confidenceScores": {
                        "positive": 0.01,
                        "neutral": 0,
                        "negative": 0.99
                      },
                      "text": "This movie sucked really bad.  ",
                      "offset": 22,
                      "length": 31
                    }
                  ],
                  "5": []
                },
                {
                  "0": "Even worse than Ticker!  ",
                  "1": "negative",
                  "3": {
                    "positive": 0.01,
                    "neutral": 0,
                    "negative": 0.99
                  },
                  "4": [
                    {
                      "sentiment": "negative",
                      "confidenceScores": {
                        "positive": 0.01,
                        "neutral": 0,
                        "negative": 0.99
                      },
                      "text": "Even worse than Ticker!  ",
                      "offset": 0,
                      "length": 25
                    }
                  ],
                  "5": []
                },
                {
                  "0": "& That movie was bad.  ",
                  "1": "negative",
                  "3": {
                    "positive": 0,
                    "neutral": 0,
                    "negative": 0.99
                  },
                  "4": [
                    {
                      "sentiment": "negative",
                      "confidenceScores": {
                        "positive": 0,
                        "neutral": 0,
                        "negative": 0.99
                      },
                      "text": "& That movie was bad.  ",
                      "offset": 0,
                      "length": 23
                    }
                  ],
                  "5": []
                },
                {
                  "0": "Only like 3 or 4 buildings used, a couple of locations MAYBE, & poor hummh!  ",
                  "1": "negative",
                  "3": {
                    "positive": 0,
                    "neutral": 0,
                    "negative": 0.99
                  },
                  "4": [
                    {
                      "sentiment": "negative",
                      "confidenceScores": {
                        "positive": 0,
                        "neutral": 0,
                        "negative": 0.99
                      },
                      "text": "Only like 3 or 4 buildings used, a couple of locations MAYBE, & poor hummh!  ",
                      "offset": 0,
                      "length": 77
                    }
                  ],
                  "5": []
                },
                {
                  "0": "It just blew.  ",
                  "1": "negative",
                  "3": {
                    "positive": 0.01,
                    "neutral": 0.09,
                    "negative": 0.9
                  },
                  "4": [
                    {
                      "sentiment": "negative",
                      "confidenceScores": {
                        "positive": 0.01,
                        "neutral": 0.09,
                        "negative": 0.9
                      },
                      "text": "It just blew.  ",
                      "offset": 0,
                      "length": 15
                    }
                  ],
                  "5": []
                },
                {
                  "0": "This movie is excellent!Angel is beautiful and Scamp is adorable!His little yelps when hes scared,and the funniest parts are when:Scamp is caught under the curtain and when Angel and Scamp are singing 'Ive Never Had This Feeling Before'.I totally recommend this movie,its coming out on special edition on June 20.The cover has scamp on a garbage can and Angel underneath the lid.  ",
                  "1": "mixed",
                  "3": {
                    "positive": 0.76,
                    "neutral": 0,
                    "negative": 0.23
                  },
                  "4": [
                    {
                      "sentiment": "positive",
                      "confidenceScores": {
                        "positive": 1,
                        "neutral": 0,
                        "negative": 0
                      },
                      "text": "This movie is excellent!",
                      "offset": 0,
                      "length": 24
                    },
                    {
                      "sentiment": "positive",
                      "confidenceScores": {
                        "positive": 1,
                        "neutral": 0,
                        "negative": 0
                      },
                      "text": "Angel is beautiful and Scamp is adorable!",
                      "offset": 24,
                      "length": 41
                    },
                    {
                      "sentiment": "negative",
                      "confidenceScores": {
                        "positive": 0.07,
                        "neutral": 0.01,
                        "negative": 0.92
                      },
                      "text": "His little yelps when hes scared,and the funniest parts are when:Scamp is caught under the curtain and when Angel and Scamp are singing 'Ive Never Had This Feeling Before'.",
                      "offset": 65,
                      "length": 172
                    },
                    {
                      "sentiment": "positive",
                      "confidenceScores": {
                        "positive": 0.98,
                        "neutral": 0,
                        "negative": 0.02
                      },
                      "text": "I totally recommend this movie,its coming out on special edition on June 20.The cover has scamp on a garbage can and Angel underneath the lid.  ",
                      "offset": 237,
                      "length": 144
                    }
                  ],
                  "5": []
                },
                {
                  "0": "I just cant explain this movie more than romantic,charming,hilarious,and adorable.The junkyard scenes are funny,all the junkyard dogs have something special.Too funny i laughed,kids will LOVE it.Buy it when it comes out,it has new features!  ",
                  "1": "positive",
                  "3": {
                    "positive": 0.91,
                    "neutral": 0.01,
                    "negative": 0.08
                  },
                  "4": [
                    {
                      "sentiment": "positive",
                      "confidenceScores": {
                        "positive": 0.99,
                        "neutral": 0,
                        "negative": 0.01
                      },
                      "text": "I just cant explain this movie more than romantic,charming,hilarious,and adorable.",
                      "offset": 0,
                      "length": 82
                    },
                    {
                      "sentiment": "positive",
                      "confidenceScores": {
                        "positive": 0.77,
                        "neutral": 0.02,
                        "negative": 0.22
                      },
                      "text": "The junkyard scenes are funny,all the junkyard dogs have something special.",
                      "offset": 82,
                      "length": 75
                    },
                    {
                      "sentiment": "positive",
                      "confidenceScores": {
                        "positive": 0.98,
                        "neutral": 0,
                        "negative": 0.02
                      },
                      "text": "Too funny i laughed,kids will LOVE it.",
                      "offset": 157,
                      "length": 38
                    },
                    {
                      "sentiment": "neutral",
                      "confidenceScores": {
                        "positive": 0.43,
                        "neutral": 0.52,
                        "negative": 0.05
                      },
                      "text": "Buy it when it comes out,it has new features!  ",
                      "offset": 195,
                      "length": 47
                    }
                  ],
                  "5": []
                },
                {
                  "0": "Now we were chosen to be tortured with this disgusting piece of blatant American propaganda.  ",
                  "1": "negative",
                  "3": {
                    "positive": 0.01,
                    "neutral": 0.01,
                    "negative": 0.98
                  },
                  "4": [
                    {
                      "sentiment": "negative",
                      "confidenceScores": {
                        "positive": 0.01,
                        "neutral": 0.01,
                        "negative": 0.98
                      },
                      "text": "Now we were chosen to be tortured with this disgusting piece of blatant American propaganda.  ",
                      "offset": 0,
                      "length": 94
                    }
                  ],
                  "5": []
                },
                {
                  "0": "This show is made for Americans - it is too stupid and full with hatred and clichés to be admitted elsewhere.  ",
                  "1": "negative",
                  "3": {
                    "positive": 0,
                    "neutral": 0,
                    "negative": 0.99
                  },
                  "4": [
                    {
                      "sentiment": "negative",
                      "confidenceScores": {
                        "positive": 0,
                        "neutral": 0,
                        "negative": 0.99
                      },
                      "text": "This show is made for Americans - it is too stupid and full with hatred and clichés to be admitted elsewhere.  ",
                      "offset": 0,
                      "length": 111
                    }
                  ],
                  "5": []
                },
                {
                  "0": "Almost everyone involved must be return to school, acting is utterly predictable and bad, script is pile of garbage all round.  ",
                  "1": "negative",
                  "3": {
                    "positive": 0,
                    "neutral": 0,
                    "negative": 1
                  },
                  "4": [
                    {
                      "sentiment": "negative",
                      "confidenceScores": {
                        "positive": 0,
                        "neutral": 0,
                        "negative": 1
                      },
                      "text": "Almost everyone involved must be return to school, acting is utterly predictable and bad, script is pile of garbage all round.  ",
                      "offset": 0,
                      "length": 128
                    }
                  ],
                  "5": []
                },
                {
                  "0": "I wish I could enter negative values, admins?  ",
                  "1": "negative",
                  "3": {
                    "positive": 0.01,
                    "neutral": 0.1,
                    "negative": 0.89
                  },
                  "4": [
                    {
                      "sentiment": "negative",
                      "confidenceScores": {
                        "positive": 0.01,
                        "neutral": 0.1,
                        "negative": 0.89
                      },
                      "text": "I wish I could enter negative values, admins?  ",
                      "offset": 0,
                      "length": 47
                    }
                  ],
                  "5": []
                },
                {
                  "0": "The sets are so bad, they wouldn't look out of place on a Thunderbirds episode.  ",
                  "1": "negative",
                  "3": {
                    "positive": 0,
                    "neutral": 0,
                    "negative": 0.99
                  },
                  "4": [
                    {
                      "sentiment": "negative",
                      "confidenceScores": {
                        "positive": 0,
                        "neutral": 0,
                        "negative": 0.99
                      },
                      "text": "The sets are so bad, they wouldn't look out of place on a Thunderbirds episode.  ",
                      "offset": 0,
                      "length": 81
                    }
                  ],
                  "5": []
                },
                {
                  "0": "The use of slow-motion needlessly repeats itself throughout the movie but is well backed up by bad acting (and bad is a kind word here), no continuity, scenes that are thrown in for no reason whatsoever, vehicles that looked like they were made from a Corn Flakes box and a directorial style that bordered on stupidity.  ",
                  "1": "negative",
                  "3": {
                    "positive": 0,
                    "neutral": 0,
                    "negative": 0.99
                  },
                  "4": [
                    {
                      "sentiment": "negative",
                      "confidenceScores": {
                        "positive": 0,
                        "neutral": 0,
                        "negative": 0.99
                      },
                      "text": "The use of slow-motion needlessly repeats itself throughout the movie but is well backed up by bad acting (and bad is a kind word here), no continuity, scenes that are thrown in for no reason whatsoever, vehicles that looked like they were made from a Corn Flakes box and a directorial style that bordered on stupidity.  ",
                      "offset": 0,
                      "length": 321
                    }
                  ],
                  "5": []
                },
                {
                  "0": "Oh yeah, and the storyline was pathetic too.  ",
                  "1": "negative",
                  "3": {
                    "positive": 0,
                    "neutral": 0,
                    "negative": 0.99
                  },
                  "4": [
                    {
                      "sentiment": "negative",
                      "confidenceScores": {
                        "positive": 0,
                        "neutral": 0,
                        "negative": 0.99
                      },
                      "text": "Oh yeah, and the storyline was pathetic too.  ",
                      "offset": 0,
                      "length": 46
                    }
                  ],
                  "5": []
                },
                {
                  "0": "I hate writing bad reviews about films - especially those in which I really like the star - but this film is so bad I don't believe for one second that anyone could have been proud of it.  ",
                  "1": "negative",
                  "3": {
                    "positive": 0.01,
                    "neutral": 0,
                    "negative": 0.99
                  },
                  "4": [
                    {
                      "sentiment": "negative",
                      "confidenceScores": {
                        "positive": 0.01,
                        "neutral": 0,
                        "negative": 0.99
                      },
                      "text": "I hate writing bad reviews about films - especially those in which I really like the star - but this film is so bad I don't believe for one second that anyone could have been proud of it.  ",
                      "offset": 0,
                      "length": 189
                    }
                  ],
                  "5": []
                },
                {
                  "0": "I am not a filmmaker nor am I a director but I would hide my head in the sand if I'd spent whatever amount of money and time on this movie.  ",
                  "1": "negative",
                  "3": {
                    "positive": 0.02,
                    "neutral": 0.06,
                    "negative": 0.92
                  },
                  "4": [
                    {
                      "sentiment": "negative",
                      "confidenceScores": {
                        "positive": 0.02,
                        "neutral": 0.06,
                        "negative": 0.92
                      },
                      "text": "I am not a filmmaker nor am I a director but I would hide my head in the sand if I'd spent whatever amount of money and time on this movie.  ",
                      "offset": 0,
                      "length": 141
                    }
                  ],
                  "5": []
                },
                {
                  "0": "In short - this was a monumental waste of time and energy and I would not recommend anyone to EVER see this film.  ",
                  "1": "negative",
                  "3": {
                    "positive": 0.01,
                    "neutral": 0,
                    "negative": 0.99
                  },
                  "4": [
                    {
                      "sentiment": "negative",
                      "confidenceScores": {
                        "positive": 0.01,
                        "neutral": 0,
                        "negative": 0.99
                      },
                      "text": "In short - this was a monumental waste of time and energy and I would not recommend anyone to EVER see this film.  ",
                      "offset": 0,
                      "length": 115
                    }
                  ],
                  "5": []
                },
                {
                  "0": "It came free with a DVD player I bought but I still turned the thing off halfway through because I was embarrassed for Howell.  ",
                  "1": "negative",
                  "3": {
                    "positive": 0,
                    "neutral": 0,
                    "negative": 0.99
                  },
                  "4": [
                    {
                      "sentiment": "negative",
                      "confidenceScores": {
                        "positive": 0,
                        "neutral": 0,
                        "negative": 0.99
                      },
                      "text": "It came free with a DVD player I bought but I still turned the thing off halfway through because I was embarrassed for Howell.  ",
                      "offset": 0,
                      "length": 128
                    }
                  ],
                  "5": []
                },
                {
                  "0": "1/10 - and only because there is no setting for 0/10.  ",
                  "1": "neutral",
                  "3": {
                    "positive": 0.01,
                    "neutral": 0.58,
                    "negative": 0.41
                  },
                  "4": [
                    {
                      "sentiment": "neutral",
                      "confidenceScores": {
                        "positive": 0.01,
                        "neutral": 0.58,
                        "negative": 0.41
                      },
                      "text": "1/10 - and only because there is no setting for 0/10.  ",
                      "offset": 0,
                      "length": 55
                    }
                  ],
                  "5": []
                },
                {
                  "0": "\"An interesting premise, and Billy Drago is always good as a dangerous nut-bag (side note: I'd love to see Drago, Stephen McHattie and Lance Hendrikson in a flick together; talk about raging cheekbones!).  \"",
                  "1": "mixed",
                  "3": {
                    "positive": 0.5,
                    "neutral": 0.02,
                    "negative": 0.49
                  },
                  "4": [
                    {
                      "sentiment": "positive",
                      "confidenceScores": {
                        "positive": 0.99,
                        "neutral": 0,
                        "negative": 0.01
                      },
                      "text": "\"An interesting premise, and Billy Drago is always good as a dangerous nut-bag (side note: I'd love to see Drago, Stephen McHattie and Lance Hendrikson in a flick together; ",
                      "offset": 0,
                      "length": 173
                    },
                    {
                      "sentiment": "negative",
                      "confidenceScores": {
                        "positive": 0.01,
                        "neutral": 0.03,
                        "negative": 0.96
                      },
                      "text": "talk about raging cheekbones!).  ",
                      "offset": 173,
                      "length": 33
                    },
                    {
                      "sentiment": "neutral",
                      "confidenceScores": {
                        "positive": 0.27,
                        "neutral": 0.59,
                        "negative": 0.14
                      },
                      "text": "\"",
                      "offset": 206,
                      "length": 1
                    }
                  ],
                  "5": []
                },
                {
                  "0": "The soundtrack wasn't terrible, either.  ",
                  "1": "negative",
                  "3": {
                    "positive": 0.04,
                    "neutral": 0.01,
                    "negative": 0.95
                  },
                  "4": [
                    {
                      "sentiment": "negative",
                      "confidenceScores": {
                        "positive": 0.04,
                        "neutral": 0.01,
                        "negative": 0.95
                      },
                      "text": "The soundtrack wasn't terrible, either.  ",
                      "offset": 0,
                      "length": 41
                    }
                  ],
                  "5": []
                },
                {
                  "0": "But the acting--even that of such professionals as Drago and Debbie Rochon--was terrible, the directing worse (perhaps contributory to the former), the dialog chimp-like, and the camera work, barely tolerable.  ",
                  "1": "negative",
                  "3": {
                    "positive": 0,
                    "neutral": 0,
                    "negative": 1
                  },
                  "4": [
                    {
                      "sentiment": "negative",
                      "confidenceScores": {
                        "positive": 0,
                        "neutral": 0,
                        "negative": 1
                      },
                      "text": "But the acting--even that of such professionals as Drago and Debbie Rochon--was terrible, the directing worse (perhaps contributory to the former), the dialog chimp-like, and the camera work, barely tolerable.  ",
                      "offset": 0,
                      "length": 211
                    }
                  ],
                  "5": []
                },
                {
                  "0": "\"Still, it was the SETS that got a big \"\"10\"\" on my \"\"oy-vey\"\" scale.  \"",
                  "1": "negative",
                  "3": {
                    "positive": 0.02,
                    "neutral": 0.45,
                    "negative": 0.53
                  },
                  "4": [
                    {
                      "sentiment": "negative",
                      "confidenceScores": {
                        "positive": 0.02,
                        "neutral": 0.45,
                        "negative": 0.53
                      },
                      "text": "\"Still, it was the SETS that got a big \"\"10\"\" on my \"\"oy-vey\"\" scale.  ",
                      "offset": 0,
                      "length": 71
                    },
                    {
                      "sentiment": "neutral",
                      "confidenceScores": {
                        "positive": 0.27,
                        "neutral": 0.59,
                        "negative": 0.14
                      },
                      "text": "\"",
                      "offset": 71,
                      "length": 1
                    }
                  ],
                  "5": []
                },
                {
                  "0": "Yes, I am simplifying things here for the sake of brevity, for this really is at the core of the problems with this film - it has too much going on without any real, fulfilling explanation.  ",
                  "1": "negative",
                  "3": {
                    "positive": 0,
                    "neutral": 0,
                    "negative": 0.99
                  },
                  "4": [
                    {
                      "sentiment": "negative",
                      "confidenceScores": {
                        "positive": 0,
                        "neutral": 0,
                        "negative": 0.99
                      },
                      "text": "Yes, I am simplifying things here for the sake of brevity, for this really is at the core of the problems with this film - it has too much going on without any real, fulfilling explanation.  ",
                      "offset": 0,
                      "length": 191
                    }
                  ],
                  "5": []
                },
                {
                  "0": "Both do good jobs and are quite amusing.  ",
                  "1": "positive",
                  "3": {
                    "positive": 0.99,
                    "neutral": 0,
                    "negative": 0
                  },
                  "4": [
                    {
                      "sentiment": "positive",
                      "confidenceScores": {
                        "positive": 0.99,
                        "neutral": 0,
                        "negative": 0
                      },
                      "text": "Both do good jobs and are quite amusing.  ",
                      "offset": 0,
                      "length": 42
                    }
                  ],
                  "5": []
                },
                {
                  "0": "But the convoluted plot just didn't convince me, and much of the film was watched with a weird, questioning glance.  ",
                  "1": "negative",
                  "3": {
                    "positive": 0,
                    "neutral": 0,
                    "negative": 1
                  },
                  "4": [
                    {
                      "sentiment": "negative",
                      "confidenceScores": {
                        "positive": 0,
                        "neutral": 0,
                        "negative": 1
                      },
                      "text": "But the convoluted plot just didn't convince me, and much of the film was watched with a weird, questioning glance.  ",
                      "offset": 0,
                      "length": 117
                    }
                  ],
                  "5": []
                },
                {
                  "0": "I let my girlfriend talk me into seeing this - bad idea, we both hated it.  ",
                  "1": "negative",
                  "3": {
                    "positive": 0.01,
                    "neutral": 0,
                    "negative": 0.99
                  },
                  "4": [
                    {
                      "sentiment": "negative",
                      "confidenceScores": {
                        "positive": 0.01,
                        "neutral": 0,
                        "negative": 0.99
                      },
                      "text": "I let my girlfriend talk me into seeing this - bad idea, we both hated it.  ",
                      "offset": 0,
                      "length": 76
                    }
                  ],
                  "5": []
                },
                {
                  "0": "The last 15 minutes of movie are also not bad as well.  ",
                  "1": "negative",
                  "3": {
                    "positive": 0.09,
                    "neutral": 0.01,
                    "negative": 0.9
                  },
                  "4": [
                    {
                      "sentiment": "negative",
                      "confidenceScores": {
                        "positive": 0.09,
                        "neutral": 0.01,
                        "negative": 0.9
                      },
                      "text": "The last 15 minutes of movie are also not bad as well.  ",
                      "offset": 0,
                      "length": 56
                    }
                  ],
                  "5": []
                },
                {
                  "0": "Bela Lugosi was totally extraneous, intoning odd lines.  ",
                  "1": "negative",
                  "3": {
                    "positive": 0,
                    "neutral": 0.01,
                    "negative": 0.99
                  },
                  "4": [
                    {
                      "sentiment": "negative",
                      "confidenceScores": {
                        "positive": 0,
                        "neutral": 0.01,
                        "negative": 0.99
                      },
                      "text": "Bela Lugosi was totally extraneous, intoning odd lines.  ",
                      "offset": 0,
                      "length": 57
                    }
                  ],
                  "5": []
                },
                {
                  "0": "The acting was decidely wooden, though no worse than a period Universal B movie.  ",
                  "1": "negative",
                  "3": {
                    "positive": 0.02,
                    "neutral": 0,
                    "negative": 0.98
                  },
                  "4": [
                    {
                      "sentiment": "negative",
                      "confidenceScores": {
                        "positive": 0.02,
                        "neutral": 0,
                        "negative": 0.98
                      },
                      "text": "The acting was decidely wooden, though no worse than a period Universal B movie.  ",
                      "offset": 0,
                      "length": 82
                    }
                  ],
                  "5": []
                },
                {
                  "0": "I like Armand Assante & my cable company's summary sounded interesting, so I watched it, twice already, and probably will again.  ",
                  "1": "positive",
                  "3": {
                    "positive": 0.99,
                    "neutral": 0,
                    "negative": 0.01
                  },
                  "4": [
                    {
                      "sentiment": "positive",
                      "confidenceScores": {
                        "positive": 0.99,
                        "neutral": 0,
                        "negative": 0.01
                      },
                      "text": "I like Armand Assante & my cable company's summary sounded interesting, so I watched it, twice already, and probably will again.  ",
                      "offset": 0,
                      "length": 130
                    }
                  ],
                  "5": []
                },
                {
                  "0": "I believe the screenwriter did a good job of tying up the loose ends.  ",
                  "1": "positive",
                  "3": {
                    "positive": 0.96,
                    "neutral": 0,
                    "negative": 0.03
                  },
                  "4": [
                    {
                      "sentiment": "positive",
                      "confidenceScores": {
                        "positive": 0.96,
                        "neutral": 0,
                        "negative": 0.03
                      },
                      "text": "I believe the screenwriter did a good job of tying up the loose ends.  ",
                      "offset": 0,
                      "length": 71
                    }
                  ],
                  "5": []
                },
                {
                  "0": "My 8/10 score is mostly for the plot.  ",
                  "1": "negative",
                  "3": {
                    "positive": 0.26,
                    "neutral": 0.36,
                    "negative": 0.38
                  },
                  "4": [
                    {
                      "sentiment": "negative",
                      "confidenceScores": {
                        "positive": 0.26,
                        "neutral": 0.36,
                        "negative": 0.38
                      },
                      "text": "My 8/10 score is mostly for the plot.  ",
                      "offset": 0,
                      "length": 39
                    }
                  ],
                  "5": []
                },
                {
                  "0": "I won't say any more - I don't like spoilers, so I don't want to be one, but I believe this film is worth your time.  ",
                  "1": "positive",
                  "3": {
                    "positive": 0.92,
                    "neutral": 0.02,
                    "negative": 0.06
                  },
                  "4": [
                    {
                      "sentiment": "positive",
                      "confidenceScores": {
                        "positive": 0.92,
                        "neutral": 0.02,
                        "negative": 0.06
                      },
                      "text": "I won't say any more - I don't like spoilers, so I don't want to be one, but I believe this film is worth your time.  ",
                      "offset": 0,
                      "length": 118
                    }
                  ],
                  "5": []
                },
                {
                  "0": "Wow, what a bad film.  ",
                  "1": "negative",
                  "3": {
                    "positive": 0.01,
                    "neutral": 0,
                    "negative": 0.99
                  },
                  "4": [
                    {
                      "sentiment": "negative",
                      "confidenceScores": {
                        "positive": 0.01,
                        "neutral": 0,
                        "negative": 0.99
                      },
                      "text": "Wow, what a bad film.  ",
                      "offset": 0,
                      "length": 23
                    }
                  ],
                  "5": []
                },
                {
                  "0": "Not frightening in the least, and barely comprehensible.  ",
                  "1": "negative",
                  "3": {
                    "positive": 0,
                    "neutral": 0,
                    "negative": 0.99
                  },
                  "4": [
                    {
                      "sentiment": "negative",
                      "confidenceScores": {
                        "positive": 0,
                        "neutral": 0,
                        "negative": 0.99
                      },
                      "text": "Not frightening in the least, and barely comprehensible.  ",
                      "offset": 0,
                      "length": 58
                    }
                  ],
                  "5": []
                },
                {
                  "0": "The plot doesn't hang together at all, and the acting is absolutely appalling.  ",
                  "1": "negative",
                  "3": {
                    "positive": 0,
                    "neutral": 0,
                    "negative": 1
                  },
                  "4": [
                    {
                      "sentiment": "negative",
                      "confidenceScores": {
                        "positive": 0,
                        "neutral": 0,
                        "negative": 1
                      },
                      "text": "The plot doesn't hang together at all, and the acting is absolutely appalling.  ",
                      "offset": 0,
                      "length": 80
                    }
                  ],
                  "5": []
                },
                {
                  "0": "Not even good for camp value!  ",
                  "1": "negative",
                  "3": {
                    "positive": 0.01,
                    "neutral": 0,
                    "negative": 0.99
                  },
                  "4": [
                    {
                      "sentiment": "negative",
                      "confidenceScores": {
                        "positive": 0.01,
                        "neutral": 0,
                        "negative": 0.99
                      },
                      "text": "Not even good for camp value!  ",
                      "offset": 0,
                      "length": 31
                    }
                  ],
                  "5": []
                },
                {
                  "0": "I wasn't expecting Oscar material, but this?  ",
                  "1": "neutral",
                  "3": {
                    "positive": 0.05,
                    "neutral": 0.89,
                    "negative": 0.06
                  },
                  "4": [
                    {
                      "sentiment": "neutral",
                      "confidenceScores": {
                        "positive": 0.05,
                        "neutral": 0.89,
                        "negative": 0.06
                      },
                      "text": "I wasn't expecting Oscar material, but this?  ",
                      "offset": 0,
                      "length": 46
                    }
                  ],
                  "5": []
                },
                {
                  "0": "You'd have to have the IQ of particularly stupid mollusk not to see that one coming.  ",
                  "1": "negative",
                  "3": {
                    "positive": 0,
                    "neutral": 0.01,
                    "negative": 0.99
                  },
                  "4": [
                    {
                      "sentiment": "negative",
                      "confidenceScores": {
                        "positive": 0,
                        "neutral": 0.01,
                        "negative": 0.99
                      },
                      "text": "You'd have to have the IQ of particularly stupid mollusk not to see that one coming.  ",
                      "offset": 0,
                      "length": 86
                    }
                  ],
                  "5": []
                },
                {
                  "0": "This film (and I use that word loosely) is an insult to the movie-going public.  ",
                  "1": "negative",
                  "3": {
                    "positive": 0,
                    "neutral": 0,
                    "negative": 0.99
                  },
                  "4": [
                    {
                      "sentiment": "negative",
                      "confidenceScores": {
                        "positive": 0,
                        "neutral": 0,
                        "negative": 0.99
                      },
                      "text": "This film (and I use that word loosely) is an insult to the movie-going public.  ",
                      "offset": 0,
                      "length": 81
                    }
                  ],
                  "5": []
                },
                {
                  "0": "If only someone involved with it knew how to string together narrative!  ",
                  "1": "positive",
                  "3": {
                    "positive": 0.75,
                    "neutral": 0.13,
                    "negative": 0.12
                  },
                  "4": [
                    {
                      "sentiment": "positive",
                      "confidenceScores": {
                        "positive": 0.75,
                        "neutral": 0.13,
                        "negative": 0.12
                      },
                      "text": "If only someone involved with it knew how to string together narrative!  ",
                      "offset": 0,
                      "length": 73
                    }
                  ],
                  "5": []
                },
                {
                  "0": "This gets a 1 out of 10, simply because there's nothing lower.  ",
                  "1": "neutral",
                  "3": {
                    "positive": 0.05,
                    "neutral": 0.87,
                    "negative": 0.09
                  },
                  "4": [
                    {
                      "sentiment": "neutral",
                      "confidenceScores": {
                        "positive": 0.05,
                        "neutral": 0.87,
                        "negative": 0.09
                      },
                      "text": "This gets a 1 out of 10, simply because there's nothing lower.  ",
                      "offset": 0,
                      "length": 64
                    }
                  ],
                  "5": []
                },
                {
                  "0": "This is one I did not have, but I watched it recently on Fox Movie Channel, and was very disappointed.  ",
                  "1": "negative",
                  "3": {
                    "positive": 0,
                    "neutral": 0,
                    "negative": 0.99
                  },
                  "4": [
                    {
                      "sentiment": "negative",
                      "confidenceScores": {
                        "positive": 0,
                        "neutral": 0,
                        "negative": 0.99
                      },
                      "text": "This is one I did not have, but I watched it recently on Fox Movie Channel, and was very disappointed.  ",
                      "offset": 0,
                      "length": 104
                    }
                  ],
                  "5": []
                },
                {
                  "0": "I know he was a contract player with little control over his scripts, but the acting was as bad as the script.  ",
                  "1": "negative",
                  "3": {
                    "positive": 0,
                    "neutral": 0,
                    "negative": 0.99
                  },
                  "4": [
                    {
                      "sentiment": "negative",
                      "confidenceScores": {
                        "positive": 0,
                        "neutral": 0,
                        "negative": 0.99
                      },
                      "text": "I know he was a contract player with little control over his scripts, but the acting was as bad as the script.  ",
                      "offset": 0,
                      "length": 112
                    }
                  ],
                  "5": []
                },
                {
                  "0": "Victor McLaglen was even bad, and Brian DonLevy was almost unrecognizable.  ",
                  "1": "negative",
                  "3": {
                    "positive": 0,
                    "neutral": 0,
                    "negative": 1
                  },
                  "4": [
                    {
                      "sentiment": "negative",
                      "confidenceScores": {
                        "positive": 0,
                        "neutral": 0,
                        "negative": 1
                      },
                      "text": "Victor McLaglen was even bad, and Brian DonLevy was almost unrecognizable.  ",
                      "offset": 0,
                      "length": 76
                    }
                  ],
                  "5": []
                },
                {
                  "0": "Considering the relations off screen between Taylor and Stanwyck, it was surprising how little chemistry there was on screen between the two of them.  ",
                  "1": "negative",
                  "3": {
                    "positive": 0.01,
                    "neutral": 0.01,
                    "negative": 0.98
                  },
                  "4": [
                    {
                      "sentiment": "negative",
                      "confidenceScores": {
                        "positive": 0.01,
                        "neutral": 0.01,
                        "negative": 0.98
                      },
                      "text": "Considering the relations off screen between Taylor and Stanwyck, it was surprising how little chemistry there was on screen between the two of them.  ",
                      "offset": 0,
                      "length": 151
                    }
                  ],
                  "5": []
                },
                {
                  "0": "But the premise of the film was so ridiculous: that the President of the U.S.  ",
                  "1": "negative",
                  "3": {
                    "positive": 0.01,
                    "neutral": 0.01,
                    "negative": 0.98
                  },
                  "4": [
                    {
                      "sentiment": "negative",
                      "confidenceScores": {
                        "positive": 0.01,
                        "neutral": 0.01,
                        "negative": 0.98
                      },
                      "text": "But the premise of the film was so ridiculous: that the President of the U.S.  ",
                      "offset": 0,
                      "length": 79
                    }
                  ],
                  "5": []
                },
                {
                  "0": "The death row scenes were entirely unmoving.  ",
                  "1": "negative",
                  "3": {
                    "positive": 0.01,
                    "neutral": 0.08,
                    "negative": 0.91
                  },
                  "4": [
                    {
                      "sentiment": "negative",
                      "confidenceScores": {
                        "positive": 0.01,
                        "neutral": 0.08,
                        "negative": 0.91
                      },
                      "text": "The death row scenes were entirely unmoving.  ",
                      "offset": 0,
                      "length": 46
                    }
                  ],
                  "5": []
                },
                {
                  "0": "The only thing worse than Taylor's acting was Stanwyck's singing.  ",
                  "1": "negative",
                  "3": {
                    "positive": 0,
                    "neutral": 0,
                    "negative": 0.99
                  },
                  "4": [
                    {
                      "sentiment": "negative",
                      "confidenceScores": {
                        "positive": 0,
                        "neutral": 0,
                        "negative": 0.99
                      },
                      "text": "The only thing worse than Taylor's acting was Stanwyck's singing.  ",
                      "offset": 0,
                      "length": 67
                    }
                  ],
                  "5": []
                },
                {
                  "0": "Whatever the producer was going for, he missed entirely.  ",
                  "1": "negative",
                  "3": {
                    "positive": 0,
                    "neutral": 0,
                    "negative": 0.99
                  },
                  "4": [
                    {
                      "sentiment": "negative",
                      "confidenceScores": {
                        "positive": 0,
                        "neutral": 0,
                        "negative": 0.99
                      },
                      "text": "Whatever the producer was going for, he missed entirely.  ",
                      "offset": 0,
                      "length": 58
                    }
                  ],
                  "5": []
                },
                {
                  "0": "I was deeply impressed with the character he played.  ",
                  "1": "positive",
                  "3": {
                    "positive": 0.97,
                    "neutral": 0.01,
                    "negative": 0.02
                  },
                  "4": [
                    {
                      "sentiment": "positive",
                      "confidenceScores": {
                        "positive": 0.97,
                        "neutral": 0.01,
                        "negative": 0.02
                      },
                      "text": "I was deeply impressed with the character he played.  ",
                      "offset": 0,
                      "length": 54
                    }
                  ],
                  "5": []
                },
                {
                  "0": "I knew when I saw the film that more great things were to come from this gifted actor.  ",
                  "1": "positive",
                  "3": {
                    "positive": 0.99,
                    "neutral": 0,
                    "negative": 0
                  },
                  "4": [
                    {
                      "sentiment": "positive",
                      "confidenceScores": {
                        "positive": 0.99,
                        "neutral": 0,
                        "negative": 0
                      },
                      "text": "I knew when I saw the film that more great things were to come from this gifted actor.  ",
                      "offset": 0,
                      "length": 88
                    }
                  ],
                  "5": []
                },
                {
                  "0": "A cheap and cheerless heist movie with poor characterisation, lots of underbite style stoic emoting (think Chow Yun Fat in A Better Tomorrow) and some cheesy clichés thrown into an abandoned factory ready for a few poorly executed flying judo rolls a la John Woo.  ",
                  "1": "negative",
                  "3": {
                    "positive": 0.01,
                    "neutral": 0,
                    "negative": 0.99
                  },
                  "4": [
                    {
                      "sentiment": "negative",
                      "confidenceScores": {
                        "positive": 0.01,
                        "neutral": 0,
                        "negative": 0.99
                      },
                      "text": "A cheap and cheerless heist movie with poor characterisation, lots of underbite style stoic emoting (think Chow Yun Fat in A Better Tomorrow) and some cheesy clichés thrown into an abandoned factory ready for a few poorly executed flying judo rolls a la John Woo.  ",
                      "offset": 0,
                      "length": 265
                    }
                  ],
                  "5": []
                },
                {
                  "0": "Even the squibs look awful.  ",
                  "1": "negative",
                  "3": {
                    "positive": 0,
                    "neutral": 0.01,
                    "negative": 0.99
                  },
                  "4": [
                    {
                      "sentiment": "negative",
                      "confidenceScores": {
                        "positive": 0,
                        "neutral": 0.01,
                        "negative": 0.99
                      },
                      "text": "Even the squibs look awful.  ",
                      "offset": 0,
                      "length": 29
                    }
                  ],
                  "5": []
                },
                {
                  "0": "At no point in the proceedings does it look remotely like America.  ",
                  "1": "negative",
                  "3": {
                    "positive": 0.01,
                    "neutral": 0.33,
                    "negative": 0.66
                  },
                  "4": [
                    {
                      "sentiment": "negative",
                      "confidenceScores": {
                        "positive": 0.01,
                        "neutral": 0.33,
                        "negative": 0.66
                      },
                      "text": "At no point in the proceedings does it look remotely like America.  ",
                      "offset": 0,
                      "length": 68
                    }
                  ],
                  "5": []
                },
                {
                  "0": "The plot, such as it is, is so derivative and predictable that the ending is like a mercy killing.  ",
                  "1": "negative",
                  "3": {
                    "positive": 0,
                    "neutral": 0,
                    "negative": 0.99
                  },
                  "4": [
                    {
                      "sentiment": "negative",
                      "confidenceScores": {
                        "positive": 0,
                        "neutral": 0,
                        "negative": 0.99
                      },
                      "text": "The plot, such as it is, is so derivative and predictable that the ending is like a mercy killing.  ",
                      "offset": 0,
                      "length": 100
                    }
                  ],
                  "5": []
                },
                {
                  "0": "The awful dialogue and hopeless overacting by everyone who gets shot top off a real waste of space and time.  ",
                  "1": "negative",
                  "3": {
                    "positive": 0.01,
                    "neutral": 0,
                    "negative": 0.99
                  },
                  "4": [
                    {
                      "sentiment": "negative",
                      "confidenceScores": {
                        "positive": 0.01,
                        "neutral": 0,
                        "negative": 0.99
                      },
                      "text": "The awful dialogue and hopeless overacting by everyone who gets shot top off a real waste of space and time.  ",
                      "offset": 0,
                      "length": 110
                    }
                  ],
                  "5": []
                },
                {
                  "0": "I was very uneasy with how bad this movie was, but not scared at all.  ",
                  "1": "negative",
                  "3": {
                    "positive": 0.01,
                    "neutral": 0,
                    "negative": 0.99
                  },
                  "4": [
                    {
                      "sentiment": "negative",
                      "confidenceScores": {
                        "positive": 0.01,
                        "neutral": 0,
                        "negative": 0.99
                      },
                      "text": "I was very uneasy with how bad this movie was, but not scared at all.  ",
                      "offset": 0,
                      "length": 71
                    }
                  ],
                  "5": []
                },
                {
                  "0": "The dialogue is composed of things that make little sense.  ",
                  "1": "negative",
                  "3": {
                    "positive": 0,
                    "neutral": 0.01,
                    "negative": 0.99
                  },
                  "4": [
                    {
                      "sentiment": "negative",
                      "confidenceScores": {
                        "positive": 0,
                        "neutral": 0.01,
                        "negative": 0.99
                      },
                      "text": "The dialogue is composed of things that make little sense.  ",
                      "offset": 0,
                      "length": 60
                    }
                  ],
                  "5": []
                },
                {
                  "0": "About 30 minutes of footage is wasted to show mediocre elderly actors awkwardly babbling overwrought pseudo-Satanic gibberish corny enough to make a teen Goth blush, almost always in Olde English, and sometimes in Latin that may or may not be made up words.  ",
                  "1": "negative",
                  "3": {
                    "positive": 0,
                    "neutral": 0,
                    "negative": 0.99
                  },
                  "4": [
                    {
                      "sentiment": "negative",
                      "confidenceScores": {
                        "positive": 0,
                        "neutral": 0,
                        "negative": 0.99
                      },
                      "text": "About 30 minutes of footage is wasted to show mediocre elderly actors awkwardly babbling overwrought pseudo-Satanic gibberish corny enough to make a teen Goth blush, almost always in Olde English, and sometimes in Latin that may or may not be made up words.  ",
                      "offset": 0,
                      "length": 259
                    }
                  ],
                  "5": []
                },
                {
                  "0": "The directing is sloppy at best.  ",
                  "1": "negative",
                  "3": {
                    "positive": 0,
                    "neutral": 0,
                    "negative": 1
                  },
                  "4": [
                    {
                      "sentiment": "negative",
                      "confidenceScores": {
                        "positive": 0,
                        "neutral": 0,
                        "negative": 1
                      },
                      "text": "The directing is sloppy at best.  ",
                      "offset": 0,
                      "length": 34
                    }
                  ],
                  "5": []
                },
                {
                  "0": "Hackneyed writing, certainly, but made even worse by the bad directing.  ",
                  "1": "negative",
                  "3": {
                    "positive": 0,
                    "neutral": 0,
                    "negative": 1
                  },
                  "4": [
                    {
                      "sentiment": "negative",
                      "confidenceScores": {
                        "positive": 0,
                        "neutral": 0,
                        "negative": 1
                      },
                      "text": "Hackneyed writing, certainly, but made even worse by the bad directing.  ",
                      "offset": 0,
                      "length": 73
                    }
                  ],
                  "5": []
                },
                {
                  "0": "Of course, the acting is blah.  ",
                  "1": "neutral",
                  "3": {
                    "positive": 0.01,
                    "neutral": 0.59,
                    "negative": 0.4
                  },
                  "4": [
                    {
                      "sentiment": "neutral",
                      "confidenceScores": {
                        "positive": 0.01,
                        "neutral": 0.59,
                        "negative": 0.4
                      },
                      "text": "Of course, the acting is blah.  ",
                      "offset": 0,
                      "length": 32
                    }
                  ],
                  "5": []
                },
                {
                  "0": "The acting by the whole cast could be put on a scale and balanced perfectly between overacting and underacting.  ",
                  "1": "positive",
                  "3": {
                    "positive": 0.79,
                    "neutral": 0.04,
                    "negative": 0.16
                  },
                  "4": [
                    {
                      "sentiment": "positive",
                      "confidenceScores": {
                        "positive": 0.79,
                        "neutral": 0.04,
                        "negative": 0.16
                      },
                      "text": "The acting by the whole cast could be put on a scale and balanced perfectly between overacting and underacting.  ",
                      "offset": 0,
                      "length": 113
                    }
                  ],
                  "5": []
                },
                {
                  "0": "And, FINALLY, after all that, we get to an ending that would've been great had it been handled by competent people and not Jerry Falwell.  ",
                  "1": "positive",
                  "3": {
                    "positive": 0.94,
                    "neutral": 0,
                    "negative": 0.05
                  },
                  "4": [
                    {
                      "sentiment": "positive",
                      "confidenceScores": {
                        "positive": 0.94,
                        "neutral": 0,
                        "negative": 0.05
                      },
                      "text": "And, FINALLY, after all that, we get to an ending that would've been great had it been handled by competent people and not Jerry Falwell.  ",
                      "offset": 0,
                      "length": 139
                    }
                  ],
                  "5": []
                },
                {
                  "0": "I loved this movie it was a great portrayal of a family who had it's share of ups and down, but in the end they knew that special love they had for each other.  ",
                  "1": "positive",
                  "3": {
                    "positive": 0.99,
                    "neutral": 0,
                    "negative": 0
                  },
                  "4": [
                    {
                      "sentiment": "positive",
                      "confidenceScores": {
                        "positive": 0.99,
                        "neutral": 0,
                        "negative": 0
                      },
                      "text": "I loved this movie it was a great portrayal of a family who had it's share of ups and down, but in the end they knew that special love they had for each other.  ",
                      "offset": 0,
                      "length": 161
                    }
                  ],
                  "5": []
                },
                {
                  "0": "I have seen many movies starring Jaclyn Smith, but my god this was one of her best, though it came out 12 years ago.  ",
                  "1": "positive",
                  "3": {
                    "positive": 0.93,
                    "neutral": 0.01,
                    "negative": 0.06
                  },
                  "4": [
                    {
                      "sentiment": "positive",
                      "confidenceScores": {
                        "positive": 0.93,
                        "neutral": 0.01,
                        "negative": 0.06
                      },
                      "text": "I have seen many movies starring Jaclyn Smith, but my god this was one of her best, though it came out 12 years ago.  ",
                      "offset": 0,
                      "length": 118
                    }
                  ],
                  "5": []
                },
                {
                  "0": "This movie contained an all-star cast, and what I loved the most was that it opened my eyes to see other actors who I haven't seen before.  ",
                  "1": "positive",
                  "3": {
                    "positive": 0.99,
                    "neutral": 0,
                    "negative": 0.01
                  },
                  "4": [
                    {
                      "sentiment": "positive",
                      "confidenceScores": {
                        "positive": 0.99,
                        "neutral": 0,
                        "negative": 0.01
                      },
                      "text": "This movie contained an all-star cast, and what I loved the most was that it opened my eyes to see other actors who I haven't seen before.  ",
                      "offset": 0,
                      "length": 140
                    }
                  ],
                  "5": []
                },
                {
                  "0": "This movie was kind of long in length, but I enjoyed every minute of it.  ",
                  "1": "positive",
                  "3": {
                    "positive": 0.98,
                    "neutral": 0.01,
                    "negative": 0.02
                  },
                  "4": [
                    {
                      "sentiment": "positive",
                      "confidenceScores": {
                        "positive": 0.98,
                        "neutral": 0.01,
                        "negative": 0.02
                      },
                      "text": "This movie was kind of long in length, but I enjoyed every minute of it.  ",
                      "offset": 0,
                      "length": 74
                    }
                  ],
                  "5": []
                },
                {
                  "0": "Overall I rate this movie a 10 out of a 1-10 scale.  ",
                  "1": "positive",
                  "3": {
                    "positive": 0.82,
                    "neutral": 0.04,
                    "negative": 0.14
                  },
                  "4": [
                    {
                      "sentiment": "positive",
                      "confidenceScores": {
                        "positive": 0.82,
                        "neutral": 0.04,
                        "negative": 0.14
                      },
                      "text": "Overall I rate this movie a 10 out of a 1-10 scale.  ",
                      "offset": 0,
                      "length": 53
                    }
                  ],
                  "5": []
                },
                {
                  "0": "Lifetime does not air it enough, so if anyone knows what store sells it let me know because this is a must-have.  ",
                  "1": "negative",
                  "3": {
                    "positive": 0.27,
                    "neutral": 0.12,
                    "negative": 0.61
                  },
                  "4": [
                    {
                      "sentiment": "negative",
                      "confidenceScores": {
                        "positive": 0.27,
                        "neutral": 0.12,
                        "negative": 0.61
                      },
                      "text": "Lifetime does not air it enough, so if anyone knows what store sells it let me know because this is a must-have.  ",
                      "offset": 0,
                      "length": 114
                    }
                  ],
                  "5": []
                },
                {
                  "0": "I particularly remember my senses being assaulted by strident cords of music that would blare out with very little warning, and even less meaning.  ",
                  "1": "negative",
                  "3": {
                    "positive": 0,
                    "neutral": 0.02,
                    "negative": 0.98
                  },
                  "4": [
                    {
                      "sentiment": "negative",
                      "confidenceScores": {
                        "positive": 0,
                        "neutral": 0.02,
                        "negative": 0.98
                      },
                      "text": "I particularly remember my senses being assaulted by strident cords of music that would blare out with very little warning, and even less meaning.  ",
                      "offset": 0,
                      "length": 148
                    }
                  ],
                  "5": []
                },
                {
                  "0": "It is just the sort of pap that is screened in the afternoon to punish the unemployed for not having jobs.  ",
                  "1": "negative",
                  "3": {
                    "positive": 0,
                    "neutral": 0.02,
                    "negative": 0.97
                  },
                  "4": [
                    {
                      "sentiment": "negative",
                      "confidenceScores": {
                        "positive": 0,
                        "neutral": 0.02,
                        "negative": 0.97
                      },
                      "text": "It is just the sort of pap that is screened in the afternoon to punish the unemployed for not having jobs.  ",
                      "offset": 0,
                      "length": 108
                    }
                  ],
                  "5": []
                },
                {
                  "0": "Totally different, with loads of understatement and black comedy, this is a film few get to see, but those who do will remember it.  ",
                  "1": "negative",
                  "3": {
                    "positive": 0.06,
                    "neutral": 0.03,
                    "negative": 0.9
                  },
                  "4": [
                    {
                      "sentiment": "negative",
                      "confidenceScores": {
                        "positive": 0.06,
                        "neutral": 0.03,
                        "negative": 0.9
                      },
                      "text": "Totally different, with loads of understatement and black comedy, this is a film few get to see, but those who do will remember it.  ",
                      "offset": 0,
                      "length": 133
                    }
                  ],
                  "5": []
                },
                {
                  "0": "This movie creates its own universe, and is fascinating in every way.  ",
                  "1": "positive",
                  "3": {
                    "positive": 0.99,
                    "neutral": 0.01,
                    "negative": 0.01
                  },
                  "4": [
                    {
                      "sentiment": "positive",
                      "confidenceScores": {
                        "positive": 0.99,
                        "neutral": 0.01,
                        "negative": 0.01
                      },
                      "text": "This movie creates its own universe, and is fascinating in every way.  ",
                      "offset": 0,
                      "length": 71
                    }
                  ],
                  "5": []
                },
                {
                  "0": "But this movie really got to me.  ",
                  "1": "positive",
                  "3": {
                    "positive": 0.63,
                    "neutral": 0.27,
                    "negative": 0.1
                  },
                  "4": [
                    {
                      "sentiment": "positive",
                      "confidenceScores": {
                        "positive": 0.63,
                        "neutral": 0.27,
                        "negative": 0.1
                      },
                      "text": "But this movie really got to me.  ",
                      "offset": 0,
                      "length": 34
                    }
                  ],
                  "5": []
                },
                {
                  "0": "See it.  ",
                  "1": "neutral",
                  "3": {
                    "positive": 0.06,
                    "neutral": 0.92,
                    "negative": 0.02
                  },
                  "4": [
                    {
                      "sentiment": "neutral",
                      "confidenceScores": {
                        "positive": 0.06,
                        "neutral": 0.92,
                        "negative": 0.02
                      },
                      "text": "See it.  ",
                      "offset": 0,
                      "length": 9
                    }
                  ],
                  "5": []
                },
                {
                  "0": "I really hope the team behind this movie makes more movies, and that they will continue to do so in their own, some kinda weird style.  ",
                  "1": "negative",
                  "3": {
                    "positive": 0.12,
                    "neutral": 0.03,
                    "negative": 0.85
                  },
                  "4": [
                    {
                      "sentiment": "negative",
                      "confidenceScores": {
                        "positive": 0.12,
                        "neutral": 0.03,
                        "negative": 0.85
                      },
                      "text": "I really hope the team behind this movie makes more movies, and that they will continue to do so in their own, some kinda weird style.  ",
                      "offset": 0,
                      "length": 136
                    }
                  ],
                  "5": []
                },
                {
                  "0": "And I forgot: The Casting here i superb, with Trond Fausa Aurvåg being perfect in the role as the Bothersome Man, who doesn't understand where he is, what he is doing and why.  ",
                  "1": "positive",
                  "3": {
                    "positive": 0.76,
                    "neutral": 0.01,
                    "negative": 0.24
                  },
                  "4": [
                    {
                      "sentiment": "positive",
                      "confidenceScores": {
                        "positive": 0.76,
                        "neutral": 0.01,
                        "negative": 0.24
                      },
                      "text": "And I forgot: The Casting here i superb, with Trond Fausa Aurvåg being perfect in the role as the Bothersome Man, who doesn't understand where he is, what he is doing and why.  ",
                      "offset": 0,
                      "length": 177
                    }
                  ],
                  "5": []
                },
                {
                  "0": "This movie is a good and humorous comment on life in 2006.  ",
                  "1": "positive",
                  "3": {
                    "positive": 1,
                    "neutral": 0,
                    "negative": 0
                  },
                  "4": [
                    {
                      "sentiment": "positive",
                      "confidenceScores": {
                        "positive": 1,
                        "neutral": 0,
                        "negative": 0
                      },
                      "text": "This movie is a good and humorous comment on life in 2006.  ",
                      "offset": 0,
                      "length": 60
                    }
                  ],
                  "5": []
                },
                {
                  "0": "I found this move beautiful, enjoyable, and uplifting.  ",
                  "1": "positive",
                  "3": {
                    "positive": 1,
                    "neutral": 0,
                    "negative": 0
                  },
                  "4": [
                    {
                      "sentiment": "positive",
                      "confidenceScores": {
                        "positive": 1,
                        "neutral": 0,
                        "negative": 0
                      },
                      "text": "I found this move beautiful, enjoyable, and uplifting.  ",
                      "offset": 0,
                      "length": 56
                    }
                  ],
                  "5": []
                },
                {
                  "0": "Initially the local sites in the film, which was filmed here in Buffalo, intrigued me.  ",
                  "1": "negative",
                  "3": {
                    "positive": 0.15,
                    "neutral": 0.28,
                    "negative": 0.56
                  },
                  "4": [
                    {
                      "sentiment": "negative",
                      "confidenceScores": {
                        "positive": 0.15,
                        "neutral": 0.28,
                        "negative": 0.56
                      },
                      "text": "Initially the local sites in the film, which was filmed here in Buffalo, intrigued me.  ",
                      "offset": 0,
                      "length": 88
                    }
                  ],
                  "5": []
                },
                {
                  "0": "Later I found myself lost in the power of the film.  ",
                  "1": "negative",
                  "3": {
                    "positive": 0.01,
                    "neutral": 0.02,
                    "negative": 0.98
                  },
                  "4": [
                    {
                      "sentiment": "negative",
                      "confidenceScores": {
                        "positive": 0.01,
                        "neutral": 0.02,
                        "negative": 0.98
                      },
                      "text": "Later I found myself lost in the power of the film.  ",
                      "offset": 0,
                      "length": 53
                    }
                  ],
                  "5": []
                },
                {
                  "0": "The entire audience applauded at the conclusion of the film.  ",
                  "1": "positive",
                  "3": {
                    "positive": 0.82,
                    "neutral": 0.07,
                    "negative": 0.11
                  },
                  "4": [
                    {
                      "sentiment": "positive",
                      "confidenceScores": {
                        "positive": 0.82,
                        "neutral": 0.07,
                        "negative": 0.11
                      },
                      "text": "The entire audience applauded at the conclusion of the film.  ",
                      "offset": 0,
                      "length": 62
                    }
                  ],
                  "5": []
                },
                {
                  "0": "I left the theater with a lilt in my step, joy in my heart and hope for the human race.  ",
                  "1": "positive",
                  "3": {
                    "positive": 0.94,
                    "neutral": 0.03,
                    "negative": 0.03
                  },
                  "4": [
                    {
                      "sentiment": "positive",
                      "confidenceScores": {
                        "positive": 0.94,
                        "neutral": 0.03,
                        "negative": 0.03
                      },
                      "text": "I left the theater with a lilt in my step, joy in my heart and hope for the human race.  ",
                      "offset": 0,
                      "length": 89
                    }
                  ],
                  "5": []
                },
                {
                  "0": "Duris has a wholesome appearance and gives a fine performance.  ",
                  "1": "positive",
                  "3": {
                    "positive": 1,
                    "neutral": 0,
                    "negative": 0
                  },
                  "4": [
                    {
                      "sentiment": "positive",
                      "confidenceScores": {
                        "positive": 1,
                        "neutral": 0,
                        "negative": 0
                      },
                      "text": "Duris has a wholesome appearance and gives a fine performance.  ",
                      "offset": 0,
                      "length": 64
                    }
                  ],
                  "5": []
                },
                {
                  "0": "The rest of the cast also play well.  ",
                  "1": "positive",
                  "3": {
                    "positive": 0.98,
                    "neutral": 0.01,
                    "negative": 0.01
                  },
                  "4": [
                    {
                      "sentiment": "positive",
                      "confidenceScores": {
                        "positive": 0.98,
                        "neutral": 0.01,
                        "negative": 0.01
                      },
                      "text": "The rest of the cast also play well.  ",
                      "offset": 0,
                      "length": 38
                    }
                  ],
                  "5": []
                },
                {
                  "0": "Cinematography noteworthy including fine views of Barcelona and its famed Gaudi towers.  ",
                  "1": "positive",
                  "3": {
                    "positive": 0.99,
                    "neutral": 0,
                    "negative": 0.01
                  },
                  "4": [
                    {
                      "sentiment": "positive",
                      "confidenceScores": {
                        "positive": 0.99,
                        "neutral": 0,
                        "negative": 0.01
                      },
                      "text": "Cinematography noteworthy including fine views of Barcelona and its famed Gaudi towers.  ",
                      "offset": 0,
                      "length": 89
                    }
                  ],
                  "5": []
                },
                {
                  "0": "About ten minutes into this film I started having second thoughts.  ",
                  "1": "neutral",
                  "3": {
                    "positive": 0.02,
                    "neutral": 0.55,
                    "negative": 0.44
                  },
                  "4": [
                    {
                      "sentiment": "neutral",
                      "confidenceScores": {
                        "positive": 0.02,
                        "neutral": 0.55,
                        "negative": 0.44
                      },
                      "text": "About ten minutes into this film I started having second thoughts.  ",
                      "offset": 0,
                      "length": 68
                    }
                  ],
                  "5": []
                },
                {
                  "0": "About half way through this film I started to dislike it.  ",
                  "1": "negative",
                  "3": {
                    "positive": 0.01,
                    "neutral": 0.01,
                    "negative": 0.99
                  },
                  "4": [
                    {
                      "sentiment": "negative",
                      "confidenceScores": {
                        "positive": 0.01,
                        "neutral": 0.01,
                        "negative": 0.99
                      },
                      "text": "About half way through this film I started to dislike it.  ",
                      "offset": 0,
                      "length": 59
                    }
                  ],
                  "5": []
                },
                {
                  "0": "By the time the film ended, I not only disliked it, I despised it.  ",
                  "1": "negative",
                  "3": {
                    "positive": 0,
                    "neutral": 0,
                    "negative": 0.99
                  },
                  "4": [
                    {
                      "sentiment": "negative",
                      "confidenceScores": {
                        "positive": 0,
                        "neutral": 0,
                        "negative": 0.99
                      },
                      "text": "By the time the film ended, I not only disliked it, I despised it.  ",
                      "offset": 0,
                      "length": 68
                    }
                  ],
                  "5": []
                },
                {
                  "0": "What this film lacks is a convincing script.  ",
                  "1": "negative",
                  "3": {
                    "positive": 0.19,
                    "neutral": 0.01,
                    "negative": 0.81
                  },
                  "4": [
                    {
                      "sentiment": "negative",
                      "confidenceScores": {
                        "positive": 0.19,
                        "neutral": 0.01,
                        "negative": 0.81
                      },
                      "text": "What this film lacks is a convincing script.  ",
                      "offset": 0,
                      "length": 46
                    }
                  ],
                  "5": []
                },
                {
                  "0": "The script looks as if only a rough draft was written and shooting began before a finished script was completed.  ",
                  "1": "negative",
                  "3": {
                    "positive": 0.01,
                    "neutral": 0.03,
                    "negative": 0.97
                  },
                  "4": [
                    {
                      "sentiment": "negative",
                      "confidenceScores": {
                        "positive": 0.01,
                        "neutral": 0.03,
                        "negative": 0.97
                      },
                      "text": "The script looks as if only a rough draft was written and shooting began before a finished script was completed.  ",
                      "offset": 0,
                      "length": 114
                    }
                  ],
                  "5": []
                },
                {
                  "0": "Things happen, characters personalities change, plot twists occur for no real reason other than that script calls for it.  ",
                  "1": "negative",
                  "3": {
                    "positive": 0.01,
                    "neutral": 0.06,
                    "negative": 0.94
                  },
                  "4": [
                    {
                      "sentiment": "negative",
                      "confidenceScores": {
                        "positive": 0.01,
                        "neutral": 0.06,
                        "negative": 0.94
                      },
                      "text": "Things happen, characters personalities change, plot twists occur for no real reason other than that script calls for it.  ",
                      "offset": 0,
                      "length": 123
                    }
                  ],
                  "5": []
                },
                {
                  "0": "The cast is good.  ",
                  "1": "positive",
                  "3": {
                    "positive": 0.99,
                    "neutral": 0,
                    "negative": 0
                  },
                  "4": [
                    {
                      "sentiment": "positive",
                      "confidenceScores": {
                        "positive": 0.99,
                        "neutral": 0,
                        "negative": 0
                      },
                      "text": "The cast is good.  ",
                      "offset": 0,
                      "length": 19
                    }
                  ],
                  "5": []
                },
                {
                  "0": "For that, it's worth checking out.  ",
                  "1": "positive",
                  "3": {
                    "positive": 0.52,
                    "neutral": 0.42,
                    "negative": 0.06
                  },
                  "4": [
                    {
                      "sentiment": "positive",
                      "confidenceScores": {
                        "positive": 0.52,
                        "neutral": 0.42,
                        "negative": 0.06
                      },
                      "text": "For that, it's worth checking out.  ",
                      "offset": 0,
                      "length": 36
                    }
                  ],
                  "5": []
                },
                {
                  "0": "This is probably the most irritating show I have ever seen in my entire life.  ",
                  "1": "negative",
                  "3": {
                    "positive": 0,
                    "neutral": 0,
                    "negative": 0.99
                  },
                  "4": [
                    {
                      "sentiment": "negative",
                      "confidenceScores": {
                        "positive": 0,
                        "neutral": 0,
                        "negative": 0.99
                      },
                      "text": "This is probably the most irritating show I have ever seen in my entire life.  ",
                      "offset": 0,
                      "length": 79
                    }
                  ],
                  "5": []
                },
                {
                  "0": "It is indescribably the most annoying and idiotic show I have ever seen.  ",
                  "1": "negative",
                  "3": {
                    "positive": 0.01,
                    "neutral": 0,
                    "negative": 0.99
                  },
                  "4": [
                    {
                      "sentiment": "negative",
                      "confidenceScores": {
                        "positive": 0.01,
                        "neutral": 0,
                        "negative": 0.99
                      },
                      "text": "It is indescribably the most annoying and idiotic show I have ever seen.  ",
                      "offset": 0,
                      "length": 74
                    }
                  ],
                  "5": []
                },
                {
                  "0": "Everything about it is just bad.  ",
                  "1": "negative",
                  "3": {
                    "positive": 0,
                    "neutral": 0,
                    "negative": 0.99
                  },
                  "4": [
                    {
                      "sentiment": "negative",
                      "confidenceScores": {
                        "positive": 0,
                        "neutral": 0,
                        "negative": 0.99
                      },
                      "text": "Everything about it is just bad.  ",
                      "offset": 0,
                      "length": 34
                    }
                  ],
                  "5": []
                },
                {
                  "0": "I could not understand, what kind of idiot would produce this mess in the first place not to mention several season.  ",
                  "1": "negative",
                  "3": {
                    "positive": 0,
                    "neutral": 0,
                    "negative": 0.99
                  },
                  "4": [
                    {
                      "sentiment": "negative",
                      "confidenceScores": {
                        "positive": 0,
                        "neutral": 0,
                        "negative": 0.99
                      },
                      "text": "I could not understand, what kind of idiot would produce this mess in the first place not to mention several season.  ",
                      "offset": 0,
                      "length": 118
                    }
                  ],
                  "5": []
                },
                {
                  "0": "The script is bad, very bad  it contains both cheesiness and unethical joke that you normally see in rated R or NC-17 movie.  ",
                  "1": "negative",
                  "3": {
                    "positive": 0,
                    "neutral": 0,
                    "negative": 0.99
                  },
                  "4": [
                    {
                      "sentiment": "negative",
                      "confidenceScores": {
                        "positive": 0,
                        "neutral": 0,
                        "negative": 0.99
                      },
                      "text": "The script is bad, very bad  it contains both cheesiness and unethical joke that you normally see in rated R or NC-17 movie.  ",
                      "offset": 0,
                      "length": 127
                    }
                  ],
                  "5": []
                },
                {
                  "0": "The casting is also horrible, cause all you see is a really really BAD Actors, period.  ",
                  "1": "negative",
                  "3": {
                    "positive": 0,
                    "neutral": 0,
                    "negative": 0.99
                  },
                  "4": [
                    {
                      "sentiment": "negative",
                      "confidenceScores": {
                        "positive": 0,
                        "neutral": 0,
                        "negative": 0.99
                      },
                      "text": "The casting is also horrible, cause all you see is a really really BAD Actors, period.  ",
                      "offset": 0,
                      "length": 88
                    }
                  ],
                  "5": []
                },
                {
                  "0": "Final Word: This Show is a real torture!!  ",
                  "1": "negative",
                  "3": {
                    "positive": 0.01,
                    "neutral": 0,
                    "negative": 0.99
                  },
                  "4": [
                    {
                      "sentiment": "negative",
                      "confidenceScores": {
                        "positive": 0.01,
                        "neutral": 0,
                        "negative": 0.99
                      },
                      "text": "Final Word: This Show is a real torture!!  ",
                      "offset": 0,
                      "length": 43
                    }
                  ],
                  "5": []
                },
                {
                  "0": "It is zillion times away from reality.  ",
                  "1": "neutral",
                  "3": {
                    "positive": 0.02,
                    "neutral": 0.75,
                    "negative": 0.22
                  },
                  "4": [
                    {
                      "sentiment": "neutral",
                      "confidenceScores": {
                        "positive": 0.02,
                        "neutral": 0.75,
                        "negative": 0.22
                      },
                      "text": "It is zillion times away from reality.  ",
                      "offset": 0,
                      "length": 40
                    }
                  ],
                  "5": []
                },
                {
                  "0": "Watching washing machine twirling around wouldn't hurt your eyes as much as this show.  ",
                  "1": "negative",
                  "3": {
                    "positive": 0.19,
                    "neutral": 0.12,
                    "negative": 0.7
                  },
                  "4": [
                    {
                      "sentiment": "negative",
                      "confidenceScores": {
                        "positive": 0.19,
                        "neutral": 0.12,
                        "negative": 0.7
                      },
                      "text": "Watching washing machine twirling around wouldn't hurt your eyes as much as this show.  ",
                      "offset": 0,
                      "length": 88
                    }
                  ],
                  "5": []
                },
                {
                  "0": "Rating: 0/10 (Grade: Z) Note: The Show Is So Bad That Even Mother Of The Cast Pull Her Daughter Out Of The Show.  ",
                  "1": "negative",
                  "3": {
                    "positive": 0,
                    "neutral": 0,
                    "negative": 0.99
                  },
                  "4": [
                    {
                      "sentiment": "negative",
                      "confidenceScores": {
                        "positive": 0,
                        "neutral": 0,
                        "negative": 0.99
                      },
                      "text": "Rating: 0/10 (Grade: Z) Note: The Show Is So Bad That Even Mother Of The Cast Pull Her Daughter Out Of The Show.  ",
                      "offset": 0,
                      "length": 114
                    }
                  ],
                  "5": []
                },
                {
                  "0": "20th Century Fox's ROAD HOUSE 1948) is not only quite a silly noir but is an implausible unmitigated bore of a movie.  ",
                  "1": "negative",
                  "3": {
                    "positive": 0.01,
                    "neutral": 0,
                    "negative": 0.99
                  },
                  "4": [
                    {
                      "sentiment": "negative",
                      "confidenceScores": {
                        "positive": 0.01,
                        "neutral": 0,
                        "negative": 0.99
                      },
                      "text": "20th Century Fox's ROAD HOUSE 1948) is not only quite a silly noir but is an implausible unmitigated bore of a movie.  ",
                      "offset": 0,
                      "length": 119
                    }
                  ],
                  "5": []
                },
                {
                  "0": "Full of unconvincing cardboard characters it is blandly written by Edward Chodorov, who also produced, and is surprisingly directed by Jean Negulesco from whom one would expect a great deal more.  ",
                  "1": "negative",
                  "3": {
                    "positive": 0.02,
                    "neutral": 0.01,
                    "negative": 0.98
                  },
                  "4": [
                    {
                      "sentiment": "negative",
                      "confidenceScores": {
                        "positive": 0.02,
                        "neutral": 0.01,
                        "negative": 0.98
                      },
                      "text": "Full of unconvincing cardboard characters it is blandly written by Edward Chodorov, who also produced, and is surprisingly directed by Jean Negulesco from whom one would expect a great deal more.  ",
                      "offset": 0,
                      "length": 197
                    }
                  ],
                  "5": []
                },
                {
                  "0": "From here on the Widmark character turns unintentionally comical!  ",
                  "1": "negative",
                  "3": {
                    "positive": 0.01,
                    "neutral": 0.01,
                    "negative": 0.98
                  },
                  "4": [
                    {
                      "sentiment": "negative",
                      "confidenceScores": {
                        "positive": 0.01,
                        "neutral": 0.01,
                        "negative": 0.98
                      },
                      "text": "From here on the Widmark character turns unintentionally comical!  ",
                      "offset": 0,
                      "length": 67
                    }
                  ],
                  "5": []
                },
                {
                  "0": "His losing his marbles so early in the proceedings is totally implausible and unconvincing.  ",
                  "1": "negative",
                  "3": {
                    "positive": 0,
                    "neutral": 0,
                    "negative": 1
                  },
                  "4": [
                    {
                      "sentiment": "negative",
                      "confidenceScores": {
                        "positive": 0,
                        "neutral": 0,
                        "negative": 1
                      },
                      "text": "His losing his marbles so early in the proceedings is totally implausible and unconvincing.  ",
                      "offset": 0,
                      "length": 93
                    }
                  ],
                  "5": []
                },
                {
                  "0": "And if that isn't enough of a mess of a movie for you - the picture is also marred with a constant use of studio sets and indoor exteriors.  ",
                  "1": "negative",
                  "3": {
                    "positive": 0,
                    "neutral": 0,
                    "negative": 0.99
                  },
                  "4": [
                    {
                      "sentiment": "negative",
                      "confidenceScores": {
                        "positive": 0,
                        "neutral": 0,
                        "negative": 0.99
                      },
                      "text": "And if that isn't enough of a mess of a movie for you - the picture is also marred with a constant use of studio sets and indoor exteriors.  ",
                      "offset": 0,
                      "length": 141
                    }
                  ],
                  "5": []
                },
                {
                  "0": "Whatever prompted such a documentary is beyond me!  ",
                  "1": "negative",
                  "3": {
                    "positive": 0.21,
                    "neutral": 0.07,
                    "negative": 0.71
                  },
                  "4": [
                    {
                      "sentiment": "negative",
                      "confidenceScores": {
                        "positive": 0.21,
                        "neutral": 0.07,
                        "negative": 0.71
                      },
                      "text": "Whatever prompted such a documentary is beyond me!  ",
                      "offset": 0,
                      "length": 52
                    }
                  ],
                  "5": []
                },
                {
                  "0": "(very serious spoilers) this movie was a huge disappointment.  ",
                  "1": "negative",
                  "3": {
                    "positive": 0,
                    "neutral": 0,
                    "negative": 0.99
                  },
                  "4": [
                    {
                      "sentiment": "negative",
                      "confidenceScores": {
                        "positive": 0,
                        "neutral": 0,
                        "negative": 0.99
                      },
                      "text": "(very serious spoilers) this movie was a huge disappointment.  ",
                      "offset": 0,
                      "length": 63
                    }
                  ],
                  "5": []
                },
                {
                  "0": "there are so many problems i dont know where to start.  ",
                  "1": "negative",
                  "3": {
                    "positive": 0,
                    "neutral": 0.01,
                    "negative": 0.99
                  },
                  "4": [
                    {
                      "sentiment": "negative",
                      "confidenceScores": {
                        "positive": 0,
                        "neutral": 0.01,
                        "negative": 0.99
                      },
                      "text": "there are so many problems i dont know where to start.  ",
                      "offset": 0,
                      "length": 56
                    }
                  ],
                  "5": []
                },
                {
                  "0": "the cast was great.  ",
                  "1": "positive",
                  "3": {
                    "positive": 0.99,
                    "neutral": 0,
                    "negative": 0
                  },
                  "4": [
                    {
                      "sentiment": "positive",
                      "confidenceScores": {
                        "positive": 0.99,
                        "neutral": 0,
                        "negative": 0
                      },
                      "text": "the cast was great.  ",
                      "offset": 0,
                      "length": 21
                    }
                  ],
                  "5": []
                },
                {
                  "0": "steve martin delivers a really funny performance of a middle-aged, upper class, uptight white guy.  ",
                  "1": "positive",
                  "3": {
                    "positive": 0.84,
                    "neutral": 0.03,
                    "negative": 0.13
                  },
                  "4": [
                    {
                      "sentiment": "positive",
                      "confidenceScores": {
                        "positive": 0.84,
                        "neutral": 0.03,
                        "negative": 0.13
                      },
                      "text": "steve martin delivers a really funny performance of a middle-aged, upper class, uptight white guy.  ",
                      "offset": 0,
                      "length": 100
                    }
                  ],
                  "5": []
                },
                {
                  "0": "add betty white and jean smart and you have a great cast - everyone played their parts really well.  ",
                  "1": "positive",
                  "3": {
                    "positive": 1,
                    "neutral": 0,
                    "negative": 0
                  },
                  "4": [
                    {
                      "sentiment": "positive",
                      "confidenceScores": {
                        "positive": 1,
                        "neutral": 0,
                        "negative": 0
                      },
                      "text": "add betty white and jean smart and you have a great cast - everyone played their parts really well.  ",
                      "offset": 0,
                      "length": 101
                    }
                  ],
                  "5": []
                },
                {
                  "0": "but the movie makes a lot of serious mistakes.  ",
                  "1": "negative",
                  "3": {
                    "positive": 0,
                    "neutral": 0,
                    "negative": 0.99
                  },
                  "4": [
                    {
                      "sentiment": "negative",
                      "confidenceScores": {
                        "positive": 0,
                        "neutral": 0,
                        "negative": 0.99
                      },
                      "text": "but the movie makes a lot of serious mistakes.  ",
                      "offset": 0,
                      "length": 48
                    }
                  ],
                  "5": []
                },
                {
                  "0": "first of all, there are enough racial stereotypes and racial jokes to offend everyone.  ",
                  "1": "negative",
                  "3": {
                    "positive": 0,
                    "neutral": 0,
                    "negative": 0.99
                  },
                  "4": [
                    {
                      "sentiment": "negative",
                      "confidenceScores": {
                        "positive": 0,
                        "neutral": 0,
                        "negative": 0.99
                      },
                      "text": "first of all, there are enough racial stereotypes and racial jokes to offend everyone.  ",
                      "offset": 0,
                      "length": 88
                    }
                  ],
                  "5": []
                },
                {
                  "0": "the movie is littered with overt racial slurs towards the black cast members and in return the whites are depicted as morons and boobs.  ",
                  "1": "negative",
                  "3": {
                    "positive": 0,
                    "neutral": 0.01,
                    "negative": 0.99
                  },
                  "4": [
                    {
                      "sentiment": "negative",
                      "confidenceScores": {
                        "positive": 0,
                        "neutral": 0.01,
                        "negative": 0.99
                      },
                      "text": "the movie is littered with overt racial slurs towards the black cast members and in return the whites are depicted as morons and boobs.  ",
                      "offset": 0,
                      "length": 137
                    }
                  ],
                  "5": []
                },
                {
                  "0": "putting the race card aside, lets look at the major flaw in the film: they destroy latifa's character.  ",
                  "1": "negative",
                  "3": {
                    "positive": 0,
                    "neutral": 0,
                    "negative": 0.99
                  },
                  "4": [
                    {
                      "sentiment": "negative",
                      "confidenceScores": {
                        "positive": 0,
                        "neutral": 0,
                        "negative": 0.99
                      },
                      "text": "putting the race card aside, lets look at the major flaw in the film: they destroy latifa's character.  ",
                      "offset": 0,
                      "length": 104
                    }
                  ],
                  "5": []
                },
                {
                  "0": "there is no real plot.  ",
                  "1": "negative",
                  "3": {
                    "positive": 0.01,
                    "neutral": 0.16,
                    "negative": 0.83
                  },
                  "4": [
                    {
                      "sentiment": "negative",
                      "confidenceScores": {
                        "positive": 0.01,
                        "neutral": 0.16,
                        "negative": 0.83
                      },
                      "text": "there is no real plot.  ",
                      "offset": 0,
                      "length": 24
                    }
                  ],
                  "5": []
                },
                {
                  "0": "i wouldnt see this movie again for free.  ",
                  "1": "negative",
                  "3": {
                    "positive": 0.08,
                    "neutral": 0.27,
                    "negative": 0.65
                  },
                  "4": [
                    {
                      "sentiment": "negative",
                      "confidenceScores": {
                        "positive": 0.08,
                        "neutral": 0.27,
                        "negative": 0.65
                      },
                      "text": "i wouldnt see this movie again for free.  ",
                      "offset": 0,
                      "length": 42
                    }
                  ],
                  "5": []
                },
                {
                  "0": "STEAMBOAT WILLIE is an amazingly important film to our cinema history.  ",
                  "1": "positive",
                  "3": {
                    "positive": 0.95,
                    "neutral": 0.03,
                    "negative": 0.01
                  },
                  "4": [
                    {
                      "sentiment": "positive",
                      "confidenceScores": {
                        "positive": 0.95,
                        "neutral": 0.03,
                        "negative": 0.01
                      },
                      "text": "STEAMBOAT WILLIE is an amazingly important film to our cinema history.  ",
                      "offset": 0,
                      "length": 72
                    }
                  ],
                  "5": []
                },
                {
                  "0": "This second appearance of Mickey Mouse (following the silent PLANE CRAZY earlier that year) is probably his most famous film--mostly because it was so ground-breaking.  ",
                  "1": "positive",
                  "3": {
                    "positive": 0.51,
                    "neutral": 0.08,
                    "negative": 0.41
                  },
                  "4": [
                    {
                      "sentiment": "positive",
                      "confidenceScores": {
                        "positive": 0.51,
                        "neutral": 0.08,
                        "negative": 0.41
                      },
                      "text": "This second appearance of Mickey Mouse (following the silent PLANE CRAZY earlier that year) is probably his most famous film--mostly because it was so ground-breaking.  ",
                      "offset": 0,
                      "length": 169
                    }
                  ],
                  "5": []
                },
                {
                  "0": "While you don't yet hear Mickey speak, there are tons of sound effects and music throughout the film--something we take for granted now but which was a huge crowd pleaser in 1928.  ",
                  "1": "positive",
                  "3": {
                    "positive": 0.71,
                    "neutral": 0.12,
                    "negative": 0.18
                  },
                  "4": [
                    {
                      "sentiment": "positive",
                      "confidenceScores": {
                        "positive": 0.71,
                        "neutral": 0.12,
                        "negative": 0.18
                      },
                      "text": "While you don't yet hear Mickey speak, there are tons of sound effects and music throughout the film--something we take for granted now but which was a huge crowd pleaser in 1928.  ",
                      "offset": 0,
                      "length": 181
                    }
                  ],
                  "5": []
                },
                {
                  "0": "However, after seeing the short again after about 25 years, I was amazed at how timeless the film actually is.  ",
                  "1": "negative",
                  "3": {
                    "positive": 0.21,
                    "neutral": 0.02,
                    "negative": 0.76
                  },
                  "4": [
                    {
                      "sentiment": "negative",
                      "confidenceScores": {
                        "positive": 0.21,
                        "neutral": 0.02,
                        "negative": 0.76
                      },
                      "text": "However, after seeing the short again after about 25 years, I was amazed at how timeless the film actually is.  ",
                      "offset": 0,
                      "length": 112
                    }
                  ],
                  "5": []
                },
                {
                  "0": "\"It's just adorable seeing Mickey playing \"\"Turkey in the Straw\"\" in a highly imaginative (if occasionally cruel) way.  \"",
                  "1": "positive",
                  "3": {
                    "positive": 0.98,
                    "neutral": 0,
                    "negative": 0.01
                  },
                  "4": [
                    {
                      "sentiment": "positive",
                      "confidenceScores": {
                        "positive": 0.98,
                        "neutral": 0,
                        "negative": 0.01
                      },
                      "text": "\"It's just adorable seeing Mickey playing \"\"Turkey in the Straw\"\" in a highly imaginative (if occasionally cruel) way.  ",
                      "offset": 0,
                      "length": 120
                    },
                    {
                      "sentiment": "neutral",
                      "confidenceScores": {
                        "positive": 0.27,
                        "neutral": 0.59,
                        "negative": 0.14
                      },
                      "text": "\"",
                      "offset": 120,
                      "length": 1
                    }
                  ],
                  "5": []
                },
                {
                  "0": "Clever and a real crowd-pleaser--this film still ranks among Mickey's best films even after 80 wonderful years.  ",
                  "1": "positive",
                  "3": {
                    "positive": 0.99,
                    "neutral": 0,
                    "negative": 0
                  },
                  "4": [
                    {
                      "sentiment": "positive",
                      "confidenceScores": {
                        "positive": 0.99,
                        "neutral": 0,
                        "negative": 0
                      },
                      "text": "Clever and a real crowd-pleaser--this film still ranks among Mickey's best films even after 80 wonderful years.  ",
                      "offset": 0,
                      "length": 113
                    }
                  ],
                  "5": []
                },
                {
                  "0": "The bipolarity of the ruthless thug (one minute a ruthless killer, the next minute a Luv's diaper commercial) is completely unconvincing.  ",
                  "1": "negative",
                  "3": {
                    "positive": 0,
                    "neutral": 0,
                    "negative": 0.99
                  },
                  "4": [
                    {
                      "sentiment": "negative",
                      "confidenceScores": {
                        "positive": 0,
                        "neutral": 0,
                        "negative": 0.99
                      },
                      "text": "The bipolarity of the ruthless thug (one minute a ruthless killer, the next minute a Luv's diaper commercial) is completely unconvincing.  ",
                      "offset": 0,
                      "length": 139
                    }
                  ],
                  "5": []
                },
                {
                  "0": "I'm terribly disappointed that this film would receive so many awards and accolades, especially when there are far more deserving works of film out there.  ",
                  "1": "negative",
                  "3": {
                    "positive": 0.01,
                    "neutral": 0,
                    "negative": 0.99
                  },
                  "4": [
                    {
                      "sentiment": "negative",
                      "confidenceScores": {
                        "positive": 0.01,
                        "neutral": 0,
                        "negative": 0.99
                      },
                      "text": "I'm terribly disappointed that this film would receive so many awards and accolades, especially when there are far more deserving works of film out there.  ",
                      "offset": 0,
                      "length": 156
                    }
                  ],
                  "5": []
                },
                {
                  "0": "The original Body and Soul (1947) is a masterpiece.  ",
                  "1": "positive",
                  "3": {
                    "positive": 0.72,
                    "neutral": 0.22,
                    "negative": 0.06
                  },
                  "4": [
                    {
                      "sentiment": "positive",
                      "confidenceScores": {
                        "positive": 0.72,
                        "neutral": 0.22,
                        "negative": 0.06
                      },
                      "text": "The original Body and Soul (1947) is a masterpiece.  ",
                      "offset": 0,
                      "length": 53
                    }
                  ],
                  "5": []
                },
                {
                  "0": "John Garfield, Ann revere, Lilli Plmer, William Conrad, Canada Lee...and filmed by one of the greatest cinematographers to ever grace the screen..James Wong Howe.  ",
                  "1": "positive",
                  "3": {
                    "positive": 0.95,
                    "neutral": 0.04,
                    "negative": 0.01
                  },
                  "4": [
                    {
                      "sentiment": "neutral",
                      "confidenceScores": {
                        "positive": 0.01,
                        "neutral": 0.99,
                        "negative": 0.01
                      },
                      "text": "John Garfield, Ann revere, Lilli Plmer, William Conrad, Canada Lee...",
                      "offset": 0,
                      "length": 69
                    },
                    {
                      "sentiment": "positive",
                      "confidenceScores": {
                        "positive": 0.95,
                        "neutral": 0.04,
                        "negative": 0.01
                      },
                      "text": "and filmed by one of the greatest cinematographers to ever grace the screen..",
                      "offset": 69,
                      "length": 77
                    },
                    {
                      "sentiment": "neutral",
                      "confidenceScores": {
                        "positive": 0.01,
                        "neutral": 0.97,
                        "negative": 0.02
                      },
                      "text": "James Wong Howe.  ",
                      "offset": 146,
                      "length": 18
                    }
                  ],
                  "5": []
                },
                {
                  "0": "I don't think there are any redeeming qualities in this remake.  ",
                  "1": "negative",
                  "3": {
                    "positive": 0.03,
                    "neutral": 0.12,
                    "negative": 0.85
                  },
                  "4": [
                    {
                      "sentiment": "negative",
                      "confidenceScores": {
                        "positive": 0.03,
                        "neutral": 0.12,
                        "negative": 0.85
                      },
                      "text": "I don't think there are any redeeming qualities in this remake.  ",
                      "offset": 0,
                      "length": 65
                    }
                  ],
                  "5": []
                },
                {
                  "0": "This may be the only bad film he ever made.  ",
                  "1": "negative",
                  "3": {
                    "positive": 0,
                    "neutral": 0,
                    "negative": 0.99
                  },
                  "4": [
                    {
                      "sentiment": "negative",
                      "confidenceScores": {
                        "positive": 0,
                        "neutral": 0,
                        "negative": 0.99
                      },
                      "text": "This may be the only bad film he ever made.  ",
                      "offset": 0,
                      "length": 45
                    }
                  ],
                  "5": []
                },
                {
                  "0": "So bad...well...it's just bad.  ",
                  "1": "mixed",
                  "3": {
                    "positive": 0.22,
                    "neutral": 0.09,
                    "negative": 0.68
                  },
                  "4": [
                    {
                      "sentiment": "negative",
                      "confidenceScores": {
                        "positive": 0.01,
                        "neutral": 0.01,
                        "negative": 0.98
                      },
                      "text": "So bad...",
                      "offset": 0,
                      "length": 9
                    },
                    {
                      "sentiment": "positive",
                      "confidenceScores": {
                        "positive": 0.66,
                        "neutral": 0.27,
                        "negative": 0.08
                      },
                      "text": "well...",
                      "offset": 9,
                      "length": 7
                    },
                    {
                      "sentiment": "negative",
                      "confidenceScores": {
                        "positive": 0,
                        "neutral": 0,
                        "negative": 0.99
                      },
                      "text": "it's just bad.  ",
                      "offset": 16,
                      "length": 16
                    }
                  ],
                  "5": []
                },
                {
                  "0": "This movie is a solid example of a bad plot and a very, very bad idea all the way.  ",
                  "1": "negative",
                  "3": {
                    "positive": 0,
                    "neutral": 0,
                    "negative": 0.99
                  },
                  "4": [
                    {
                      "sentiment": "negative",
                      "confidenceScores": {
                        "positive": 0,
                        "neutral": 0,
                        "negative": 0.99
                      },
                      "text": "This movie is a solid example of a bad plot and a very, very bad idea all the way.  ",
                      "offset": 0,
                      "length": 84
                    }
                  ],
                  "5": []
                },
                {
                  "0": "It's a shame to see good actors like Thomerson and James make a living in a mess like this.  ",
                  "1": "negative",
                  "3": {
                    "positive": 0.01,
                    "neutral": 0,
                    "negative": 0.99
                  },
                  "4": [
                    {
                      "sentiment": "negative",
                      "confidenceScores": {
                        "positive": 0.01,
                        "neutral": 0,
                        "negative": 0.99
                      },
                      "text": "It's a shame to see good actors like Thomerson and James make a living in a mess like this.  ",
                      "offset": 0,
                      "length": 93
                    }
                  ],
                  "5": []
                },
                {
                  "0": "I thought it was bad.  ",
                  "1": "negative",
                  "3": {
                    "positive": 0,
                    "neutral": 0,
                    "negative": 0.99
                  },
                  "4": [
                    {
                      "sentiment": "negative",
                      "confidenceScores": {
                        "positive": 0,
                        "neutral": 0,
                        "negative": 0.99
                      },
                      "text": "I thought it was bad.  ",
                      "offset": 0,
                      "length": 23
                    }
                  ],
                  "5": []
                },
                {
                  "0": "Both films are terrible, but to the credit of the 1986 version, it was watchable.  ",
                  "1": "negative",
                  "3": {
                    "positive": 0.02,
                    "neutral": 0,
                    "negative": 0.97
                  },
                  "4": [
                    {
                      "sentiment": "negative",
                      "confidenceScores": {
                        "positive": 0.02,
                        "neutral": 0,
                        "negative": 0.97
                      },
                      "text": "Both films are terrible, but to the credit of the 1986 version, it was watchable.  ",
                      "offset": 0,
                      "length": 83
                    }
                  ],
                  "5": []
                },
                {
                  "0": "Let's start with all the problemsthe acting, especially from the lead professor, was very, very bad.  ",
                  "1": "negative",
                  "3": {
                    "positive": 0,
                    "neutral": 0,
                    "negative": 1
                  },
                  "4": [
                    {
                      "sentiment": "negative",
                      "confidenceScores": {
                        "positive": 0,
                        "neutral": 0,
                        "negative": 1
                      },
                      "text": "Let's start with all the problemsthe acting, especially from the lead professor, was very, very bad.  ",
                      "offset": 0,
                      "length": 103
                    }
                  ],
                  "5": []
                },
                {
                  "0": "The script is a big flawed mess.  ",
                  "1": "negative",
                  "3": {
                    "positive": 0,
                    "neutral": 0,
                    "negative": 1
                  },
                  "4": [
                    {
                      "sentiment": "negative",
                      "confidenceScores": {
                        "positive": 0,
                        "neutral": 0,
                        "negative": 1
                      },
                      "text": "The script is a big flawed mess.  ",
                      "offset": 0,
                      "length": 34
                    }
                  ],
                  "5": []
                },
                {
                  "0": "The best example of how dumb the writing is when it's established that you can turn the zombie-students back into humans by removing a necklace containing a piece of the meteorite.  ",
                  "1": "negative",
                  "3": {
                    "positive": 0.02,
                    "neutral": 0,
                    "negative": 0.98
                  },
                  "4": [
                    {
                      "sentiment": "negative",
                      "confidenceScores": {
                        "positive": 0.02,
                        "neutral": 0,
                        "negative": 0.98
                      },
                      "text": "The best example of how dumb the writing is when it's established that you can turn the zombie-students back into humans by removing a necklace containing a piece of the meteorite.  ",
                      "offset": 0,
                      "length": 182
                    }
                  ],
                  "5": []
                },
                {
                  "0": "\"Director Paul Matthews, who also wrote/directed the weak 1995 monster movie \"\"Grim\"\", clearly doesn't know how to pace his films.  \"",
                  "1": "negative",
                  "3": {
                    "positive": 0,
                    "neutral": 0.01,
                    "negative": 0.99
                  },
                  "4": [
                    {
                      "sentiment": "negative",
                      "confidenceScores": {
                        "positive": 0,
                        "neutral": 0.01,
                        "negative": 0.99
                      },
                      "text": "\"Director Paul Matthews, who also wrote/directed the weak 1995 monster movie \"\"Grim\"\", clearly doesn't know how to pace his films.  ",
                      "offset": 0,
                      "length": 132
                    },
                    {
                      "sentiment": "neutral",
                      "confidenceScores": {
                        "positive": 0.27,
                        "neutral": 0.59,
                        "negative": 0.14
                      },
                      "text": "\"",
                      "offset": 132,
                      "length": 1
                    }
                  ],
                  "5": []
                },
                {
                  "0": "The movie is terribly boring in places.  ",
                  "1": "negative",
                  "3": {
                    "positive": 0,
                    "neutral": 0,
                    "negative": 0.99
                  },
                  "4": [
                    {
                      "sentiment": "negative",
                      "confidenceScores": {
                        "positive": 0,
                        "neutral": 0,
                        "negative": 0.99
                      },
                      "text": "The movie is terribly boring in places.  ",
                      "offset": 0,
                      "length": 41
                    }
                  ],
                  "5": []
                },
                {
                  "0": "The lighting is awful.  ",
                  "1": "negative",
                  "3": {
                    "positive": 0.01,
                    "neutral": 0,
                    "negative": 0.99
                  },
                  "4": [
                    {
                      "sentiment": "negative",
                      "confidenceScores": {
                        "positive": 0.01,
                        "neutral": 0,
                        "negative": 0.99
                      },
                      "text": "The lighting is awful.  ",
                      "offset": 0,
                      "length": 24
                    }
                  ],
                  "5": []
                },
                {
                  "0": "The film looks cheap and bland.  ",
                  "1": "negative",
                  "3": {
                    "positive": 0,
                    "neutral": 0,
                    "negative": 0.99
                  },
                  "4": [
                    {
                      "sentiment": "negative",
                      "confidenceScores": {
                        "positive": 0,
                        "neutral": 0,
                        "negative": 0.99
                      },
                      "text": "The film looks cheap and bland.  ",
                      "offset": 0,
                      "length": 33
                    }
                  ],
                  "5": []
                },
                {
                  "0": "One of the most disappointing aspects is the lack of notable gore.  ",
                  "1": "negative",
                  "3": {
                    "positive": 0,
                    "neutral": 0,
                    "negative": 0.99
                  },
                  "4": [
                    {
                      "sentiment": "negative",
                      "confidenceScores": {
                        "positive": 0,
                        "neutral": 0,
                        "negative": 0.99
                      },
                      "text": "One of the most disappointing aspects is the lack of notable gore.  ",
                      "offset": 0,
                      "length": 68
                    }
                  ],
                  "5": []
                },
                {
                  "0": "This convention never worked well in the past, and certainly doesn't work here.  ",
                  "1": "negative",
                  "3": {
                    "positive": 0,
                    "neutral": 0,
                    "negative": 0.99
                  },
                  "4": [
                    {
                      "sentiment": "negative",
                      "confidenceScores": {
                        "positive": 0,
                        "neutral": 0,
                        "negative": 0.99
                      },
                      "text": "This convention never worked well in the past, and certainly doesn't work here.  ",
                      "offset": 0,
                      "length": 81
                    }
                  ],
                  "5": []
                },
                {
                  "0": "The visual effects were AWFUL.  ",
                  "1": "negative",
                  "3": {
                    "positive": 0,
                    "neutral": 0,
                    "negative": 0.99
                  },
                  "4": [
                    {
                      "sentiment": "negative",
                      "confidenceScores": {
                        "positive": 0,
                        "neutral": 0,
                        "negative": 0.99
                      },
                      "text": "The visual effects were AWFUL.  ",
                      "offset": 0,
                      "length": 32
                    }
                  ],
                  "5": []
                },
                {
                  "0": "The CG opening sequence in space looked like it could have been created on Microsoft Slideshow for God's sake!  ",
                  "1": "negative",
                  "3": {
                    "positive": 0.34,
                    "neutral": 0.21,
                    "negative": 0.45
                  },
                  "4": [
                    {
                      "sentiment": "negative",
                      "confidenceScores": {
                        "positive": 0.34,
                        "neutral": 0.21,
                        "negative": 0.45
                      },
                      "text": "The CG opening sequence in space looked like it could have been created on Microsoft Slideshow for God's sake!  ",
                      "offset": 0,
                      "length": 112
                    }
                  ],
                  "5": []
                },
                {
                  "0": "\"The \"\"explosion\"\" of the Gas tanks at the end was just as awful.  \"",
                  "1": "negative",
                  "3": {
                    "positive": 0,
                    "neutral": 0,
                    "negative": 0.99
                  },
                  "4": [
                    {
                      "sentiment": "negative",
                      "confidenceScores": {
                        "positive": 0,
                        "neutral": 0,
                        "negative": 0.99
                      },
                      "text": "\"The \"\"explosion\"\" of the Gas tanks at the end was just as awful.  ",
                      "offset": 0,
                      "length": 67
                    },
                    {
                      "sentiment": "neutral",
                      "confidenceScores": {
                        "positive": 0.27,
                        "neutral": 0.59,
                        "negative": 0.14
                      },
                      "text": "\"",
                      "offset": 67,
                      "length": 1
                    }
                  ],
                  "5": []
                },
                {
                  "0": "Okay, I like to consider myself a fair critic, so I'll give credit where credit's due--the creature effects were actually pretty cool.  ",
                  "1": "positive",
                  "3": {
                    "positive": 0.98,
                    "neutral": 0,
                    "negative": 0.02
                  },
                  "4": [
                    {
                      "sentiment": "positive",
                      "confidenceScores": {
                        "positive": 0.98,
                        "neutral": 0,
                        "negative": 0.02
                      },
                      "text": "Okay, I like to consider myself a fair critic, so I'll give credit where credit's due--the creature effects were actually pretty cool.  ",
                      "offset": 0,
                      "length": 136
                    }
                  ],
                  "5": []
                },
                {
                  "0": "Gotta love those close-ups of slimy, drooling teeth!  ",
                  "1": "positive",
                  "3": {
                    "positive": 0.87,
                    "neutral": 0,
                    "negative": 0.13
                  },
                  "4": [
                    {
                      "sentiment": "positive",
                      "confidenceScores": {
                        "positive": 0.87,
                        "neutral": 0,
                        "negative": 0.13
                      },
                      "text": "Gotta love those close-ups of slimy, drooling teeth!  ",
                      "offset": 0,
                      "length": 54
                    }
                  ],
                  "5": []
                },
                {
                  "0": "\"To sum the film up, \"\"Breeders\"\" is a terrible, cheaply made horror movie that should be avoided like the Ebola virus.  \"",
                  "1": "negative",
                  "3": {
                    "positive": 0.01,
                    "neutral": 0,
                    "negative": 0.99
                  },
                  "4": [
                    {
                      "sentiment": "negative",
                      "confidenceScores": {
                        "positive": 0.01,
                        "neutral": 0,
                        "negative": 0.99
                      },
                      "text": "\"To sum the film up, \"\"Breeders\"\" is a terrible, cheaply made horror movie that should be avoided like the Ebola virus.  ",
                      "offset": 0,
                      "length": 121
                    },
                    {
                      "sentiment": "neutral",
                      "confidenceScores": {
                        "positive": 0.27,
                        "neutral": 0.59,
                        "negative": 0.14
                      },
                      "text": "\"",
                      "offset": 121,
                      "length": 1
                    }
                  ],
                  "5": []
                },
                {
                  "0": "Not recommended.  ",
                  "1": "negative",
                  "3": {
                    "positive": 0.01,
                    "neutral": 0,
                    "negative": 0.99
                  },
                  "4": [
                    {
                      "sentiment": "negative",
                      "confidenceScores": {
                        "positive": 0.01,
                        "neutral": 0,
                        "negative": 0.99
                      },
                      "text": "Not recommended.  ",
                      "offset": 0,
                      "length": 18
                    }
                  ],
                  "5": []
                },
                {
                  "0": "He is almost unbearable to watch on screen, he has little to no charisma, and terrible comedic timing.  ",
                  "1": "negative",
                  "3": {
                    "positive": 0,
                    "neutral": 0,
                    "negative": 0.99
                  },
                  "4": [
                    {
                      "sentiment": "negative",
                      "confidenceScores": {
                        "positive": 0,
                        "neutral": 0,
                        "negative": 0.99
                      },
                      "text": "He is almost unbearable to watch on screen, he has little to no charisma, and terrible comedic timing.  ",
                      "offset": 0,
                      "length": 104
                    }
                  ],
                  "5": []
                },
                {
                  "0": "Aside from it's terrible lead, this film has loads of other debits.  ",
                  "1": "negative",
                  "3": {
                    "positive": 0,
                    "neutral": 0,
                    "negative": 0.99
                  },
                  "4": [
                    {
                      "sentiment": "negative",
                      "confidenceScores": {
                        "positive": 0,
                        "neutral": 0,
                        "negative": 0.99
                      },
                      "text": "Aside from it's terrible lead, this film has loads of other debits.  ",
                      "offset": 0,
                      "length": 69
                    }
                  ],
                  "5": []
                },
                {
                  "0": "I understand that it's supposed to be a cheap popcorn comedy, but that doesn't mean that it has to completely insult our intelligence, and have writing so incredibly hackneyed that it borders on offensive.  ",
                  "1": "negative",
                  "3": {
                    "positive": 0,
                    "neutral": 0,
                    "negative": 0.99
                  },
                  "4": [
                    {
                      "sentiment": "negative",
                      "confidenceScores": {
                        "positive": 0,
                        "neutral": 0,
                        "negative": 0.99
                      },
                      "text": "I understand that it's supposed to be a cheap popcorn comedy, but that doesn't mean that it has to completely insult our intelligence, and have writing so incredibly hackneyed that it borders on offensive.  ",
                      "offset": 0,
                      "length": 207
                    }
                  ],
                  "5": []
                },
                {
                  "0": "Lewis Black's considerable talent is wasted here too, as he is at his most incendiary when he is unrestrained, which the PG-13 rating certainly won't allow.  ",
                  "1": "negative",
                  "3": {
                    "positive": 0,
                    "neutral": 0,
                    "negative": 0.99
                  },
                  "4": [
                    {
                      "sentiment": "negative",
                      "confidenceScores": {
                        "positive": 0,
                        "neutral": 0,
                        "negative": 0.99
                      },
                      "text": "Lewis Black's considerable talent is wasted here too, as he is at his most incendiary when he is unrestrained, which the PG-13 rating certainly won't allow.  ",
                      "offset": 0,
                      "length": 158
                    }
                  ],
                  "5": []
                },
                {
                  "0": "The film's sole bright spot was Jonah Hill (who will look almost unrecognizable to fans of the recent Superbad due to the amount of weight he lost in the interim).  ",
                  "1": "negative",
                  "3": {
                    "positive": 0,
                    "neutral": 0.01,
                    "negative": 0.99
                  },
                  "4": [
                    {
                      "sentiment": "negative",
                      "confidenceScores": {
                        "positive": 0,
                        "neutral": 0.01,
                        "negative": 0.99
                      },
                      "text": "The film's sole bright spot was Jonah Hill (who will look almost unrecognizable to fans of the recent Superbad due to the amount of weight he lost in the interim).  ",
                      "offset": 0,
                      "length": 165
                    }
                  ],
                  "5": []
                },
                {
                  "0": "With the originality and freshness of the first movie now spent, this remake had little else to offer.  ",
                  "1": "negative",
                  "3": {
                    "positive": 0.44,
                    "neutral": 0.12,
                    "negative": 0.45
                  },
                  "4": [
                    {
                      "sentiment": "negative",
                      "confidenceScores": {
                        "positive": 0.44,
                        "neutral": 0.12,
                        "negative": 0.45
                      },
                      "text": "With the originality and freshness of the first movie now spent, this remake had little else to offer.  ",
                      "offset": 0,
                      "length": 104
                    }
                  ],
                  "5": []
                },
                {
                  "0": "The budget was evidently very limited.  ",
                  "1": "negative",
                  "3": {
                    "positive": 0.01,
                    "neutral": 0.11,
                    "negative": 0.88
                  },
                  "4": [
                    {
                      "sentiment": "negative",
                      "confidenceScores": {
                        "positive": 0.01,
                        "neutral": 0.11,
                        "negative": 0.88
                      },
                      "text": "The budget was evidently very limited.  ",
                      "offset": 0,
                      "length": 40
                    }
                  ],
                  "5": []
                },
                {
                  "0": "This was reflected not only in the cast, but also in the below-par script, which borrowed much from the earlier classic.  ",
                  "1": "negative",
                  "3": {
                    "positive": 0.24,
                    "neutral": 0.32,
                    "negative": 0.43
                  },
                  "4": [
                    {
                      "sentiment": "negative",
                      "confidenceScores": {
                        "positive": 0.24,
                        "neutral": 0.32,
                        "negative": 0.43
                      },
                      "text": "This was reflected not only in the cast, but also in the below-par script, which borrowed much from the earlier classic.  ",
                      "offset": 0,
                      "length": 122
                    }
                  ],
                  "5": []
                },
                {
                  "0": "However, here there was no decent acting, action or location work to balance things up.  ",
                  "1": "negative",
                  "3": {
                    "positive": 0,
                    "neutral": 0,
                    "negative": 0.99
                  },
                  "4": [
                    {
                      "sentiment": "negative",
                      "confidenceScores": {
                        "positive": 0,
                        "neutral": 0,
                        "negative": 0.99
                      },
                      "text": "However, here there was no decent acting, action or location work to balance things up.  ",
                      "offset": 0,
                      "length": 89
                    }
                  ],
                  "5": []
                },
                {
                  "0": "Filmiing was less expansive.  ",
                  "1": "neutral",
                  "3": {
                    "positive": 0.02,
                    "neutral": 0.85,
                    "negative": 0.14
                  },
                  "4": [
                    {
                      "sentiment": "neutral",
                      "confidenceScores": {
                        "positive": 0.02,
                        "neutral": 0.85,
                        "negative": 0.14
                      },
                      "text": "Filmiing was less expansive.  ",
                      "offset": 0,
                      "length": 30
                    }
                  ],
                  "5": []
                },
                {
                  "0": "It failed to convey the broad sweep of landscapes that were a great part of the original.  ",
                  "1": "negative",
                  "3": {
                    "positive": 0,
                    "neutral": 0,
                    "negative": 1
                  },
                  "4": [
                    {
                      "sentiment": "negative",
                      "confidenceScores": {
                        "positive": 0,
                        "neutral": 0,
                        "negative": 1
                      },
                      "text": "It failed to convey the broad sweep of landscapes that were a great part of the original.  ",
                      "offset": 0,
                      "length": 91
                    }
                  ],
                  "5": []
                },
                {
                  "0": "\"Generally; it just lacked imagination.  \"",
                  "1": "negative",
                  "3": {
                    "positive": 0,
                    "neutral": 0.01,
                    "negative": 0.99
                  },
                  "4": [
                    {
                      "sentiment": "neutral",
                      "confidenceScores": {
                        "positive": 0.02,
                        "neutral": 0.94,
                        "negative": 0.04
                      },
                      "text": "\"Generally; ",
                      "offset": 0,
                      "length": 12
                    },
                    {
                      "sentiment": "negative",
                      "confidenceScores": {
                        "positive": 0,
                        "neutral": 0.01,
                        "negative": 0.99
                      },
                      "text": "it just lacked imagination.  ",
                      "offset": 12,
                      "length": 29
                    },
                    {
                      "sentiment": "neutral",
                      "confidenceScores": {
                        "positive": 0.27,
                        "neutral": 0.59,
                        "negative": 0.14
                      },
                      "text": "\"",
                      "offset": 41,
                      "length": 1
                    }
                  ],
                  "5": []
                },
                {
                  "0": "Not recommended.  ",
                  "1": "negative",
                  "3": {
                    "positive": 0.01,
                    "neutral": 0,
                    "negative": 0.99
                  },
                  "4": [
                    {
                      "sentiment": "negative",
                      "confidenceScores": {
                        "positive": 0.01,
                        "neutral": 0,
                        "negative": 0.99
                      },
                      "text": "Not recommended.  ",
                      "offset": 0,
                      "length": 18
                    }
                  ],
                  "5": []
                },
                {
                  "0": "Is it possible for a movie to get any worse than this?  ",
                  "1": "negative",
                  "3": {
                    "positive": 0.01,
                    "neutral": 0.03,
                    "negative": 0.97
                  },
                  "4": [
                    {
                      "sentiment": "negative",
                      "confidenceScores": {
                        "positive": 0.01,
                        "neutral": 0.03,
                        "negative": 0.97
                      },
                      "text": "Is it possible for a movie to get any worse than this?  ",
                      "offset": 0,
                      "length": 56
                    }
                  ],
                  "5": []
                },
                {
                  "0": "There is no plot here to keep you going in the first place.  ",
                  "1": "negative",
                  "3": {
                    "positive": 0.03,
                    "neutral": 0.12,
                    "negative": 0.85
                  },
                  "4": [
                    {
                      "sentiment": "negative",
                      "confidenceScores": {
                        "positive": 0.03,
                        "neutral": 0.12,
                        "negative": 0.85
                      },
                      "text": "There is no plot here to keep you going in the first place.  ",
                      "offset": 0,
                      "length": 61
                    }
                  ],
                  "5": []
                },
                {
                  "0": "\"Even when the women finally show up, there is no sign of improvement; the most expected things happen and by the time the film is over, you might be far asleep.  \"",
                  "1": "negative",
                  "3": {
                    "positive": 0.01,
                    "neutral": 0.07,
                    "negative": 0.92
                  },
                  "4": [
                    {
                      "sentiment": "negative",
                      "confidenceScores": {
                        "positive": 0.01,
                        "neutral": 0.07,
                        "negative": 0.92
                      },
                      "text": "\"Even when the women finally show up, there is no sign of improvement; ",
                      "offset": 0,
                      "length": 71
                    },
                    {
                      "sentiment": "neutral",
                      "confidenceScores": {
                        "positive": 0.34,
                        "neutral": 0.45,
                        "negative": 0.22
                      },
                      "text": "the most expected things happen and by the time the film is over, you might be far asleep.  ",
                      "offset": 71,
                      "length": 92
                    },
                    {
                      "sentiment": "neutral",
                      "confidenceScores": {
                        "positive": 0.27,
                        "neutral": 0.59,
                        "negative": 0.14
                      },
                      "text": "\"",
                      "offset": 163,
                      "length": 1
                    }
                  ],
                  "5": []
                },
                {
                  "0": "Beware: this is not a trashy cult movie, this is trash -period!  ",
                  "1": "negative",
                  "3": {
                    "positive": 0,
                    "neutral": 0,
                    "negative": 0.99
                  },
                  "4": [
                    {
                      "sentiment": "negative",
                      "confidenceScores": {
                        "positive": 0,
                        "neutral": 0,
                        "negative": 0.99
                      },
                      "text": "Beware: this is not a trashy cult movie, this is trash -period!  ",
                      "offset": 0,
                      "length": 65
                    }
                  ],
                  "5": []
                },
                {
                  "0": "I can't believe there's even a sequel to this!  ",
                  "1": "negative",
                  "3": {
                    "positive": 0.03,
                    "neutral": 0.12,
                    "negative": 0.85
                  },
                  "4": [
                    {
                      "sentiment": "negative",
                      "confidenceScores": {
                        "positive": 0.03,
                        "neutral": 0.12,
                        "negative": 0.85
                      },
                      "text": "I can't believe there's even a sequel to this!  ",
                      "offset": 0,
                      "length": 48
                    }
                  ],
                  "5": []
                },
                {
                  "0": "Which is precisely why I am giving it such a bad review!  ",
                  "1": "negative",
                  "3": {
                    "positive": 0,
                    "neutral": 0,
                    "negative": 0.99
                  },
                  "4": [
                    {
                      "sentiment": "negative",
                      "confidenceScores": {
                        "positive": 0,
                        "neutral": 0,
                        "negative": 0.99
                      },
                      "text": "Which is precisely why I am giving it such a bad review!  ",
                      "offset": 0,
                      "length": 58
                    }
                  ],
                  "5": []
                },
                {
                  "0": "Being a 90's child, I truly enjoyed this show and I can proudly say that I enjoyed it big time and even more than the classical WB cartoons.  ",
                  "1": "positive",
                  "3": {
                    "positive": 0.99,
                    "neutral": 0,
                    "negative": 0
                  },
                  "4": [
                    {
                      "sentiment": "positive",
                      "confidenceScores": {
                        "positive": 0.99,
                        "neutral": 0,
                        "negative": 0
                      },
                      "text": "Being a 90's child, I truly enjoyed this show and I can proudly say that I enjoyed it big time and even more than the classical WB cartoons.  ",
                      "offset": 0,
                      "length": 142
                    }
                  ],
                  "5": []
                },
                {
                  "0": "\"But \"\"Tiny Toons\"\" kept the 90's vibe and delivered one of the most popular, funny, and underrated cartoons ever created.  \"",
                  "1": "positive",
                  "3": {
                    "positive": 0.75,
                    "neutral": 0.01,
                    "negative": 0.24
                  },
                  "4": [
                    {
                      "sentiment": "positive",
                      "confidenceScores": {
                        "positive": 0.75,
                        "neutral": 0.01,
                        "negative": 0.24
                      },
                      "text": "\"But \"\"Tiny Toons\"\" kept the 90's vibe and delivered one of the most popular, funny, and underrated cartoons ever created.  ",
                      "offset": 0,
                      "length": 124
                    },
                    {
                      "sentiment": "neutral",
                      "confidenceScores": {
                        "positive": 0.27,
                        "neutral": 0.59,
                        "negative": 0.14
                      },
                      "text": "\"",
                      "offset": 124,
                      "length": 1
                    }
                  ],
                  "5": []
                },
                {
                  "0": "The memories are murky but I can only say that I enjoyed every single episode and product related to the show.  ",
                  "1": "positive",
                  "3": {
                    "positive": 0.94,
                    "neutral": 0.01,
                    "negative": 0.06
                  },
                  "4": [
                    {
                      "sentiment": "positive",
                      "confidenceScores": {
                        "positive": 0.94,
                        "neutral": 0.01,
                        "negative": 0.06
                      },
                      "text": "The memories are murky but I can only say that I enjoyed every single episode and product related to the show.  ",
                      "offset": 0,
                      "length": 112
                    }
                  ],
                  "5": []
                },
                {
                  "0": "Easily, none other cartoon made me laugh in a tender way (before getting into dark sitcoms oriented for teenagers).  ",
                  "1": "negative",
                  "3": {
                    "positive": 0.09,
                    "neutral": 0.02,
                    "negative": 0.89
                  },
                  "4": [
                    {
                      "sentiment": "negative",
                      "confidenceScores": {
                        "positive": 0.09,
                        "neutral": 0.02,
                        "negative": 0.89
                      },
                      "text": "Easily, none other cartoon made me laugh in a tender way (before getting into dark sitcoms oriented for teenagers).  ",
                      "offset": 0,
                      "length": 117
                    }
                  ],
                  "5": []
                },
                {
                  "0": "The characters were all funny and had the peculiarity of not having a true lead character.  ",
                  "1": "negative",
                  "3": {
                    "positive": 0.16,
                    "neutral": 0.02,
                    "negative": 0.82
                  },
                  "4": [
                    {
                      "sentiment": "negative",
                      "confidenceScores": {
                        "positive": 0.16,
                        "neutral": 0.02,
                        "negative": 0.82
                      },
                      "text": "The characters were all funny and had the peculiarity of not having a true lead character.  ",
                      "offset": 0,
                      "length": 92
                    }
                  ],
                  "5": []
                },
                {
                  "0": "Every single character was hilarious and deserved to be called a lead.  ",
                  "1": "positive",
                  "3": {
                    "positive": 0.95,
                    "neutral": 0,
                    "negative": 0.04
                  },
                  "4": [
                    {
                      "sentiment": "positive",
                      "confidenceScores": {
                        "positive": 0.95,
                        "neutral": 0,
                        "negative": 0.04
                      },
                      "text": "Every single character was hilarious and deserved to be called a lead.  ",
                      "offset": 0,
                      "length": 72
                    }
                  ],
                  "5": []
                },
                {
                  "0": "Every element of this story was so over the top, excessively phony and contrived that it was painful to sit through.  ",
                  "1": "negative",
                  "3": {
                    "positive": 0,
                    "neutral": 0,
                    "negative": 1
                  },
                  "4": [
                    {
                      "sentiment": "negative",
                      "confidenceScores": {
                        "positive": 0,
                        "neutral": 0,
                        "negative": 1
                      },
                      "text": "Every element of this story was so over the top, excessively phony and contrived that it was painful to sit through.  ",
                      "offset": 0,
                      "length": 118
                    }
                  ],
                  "5": []
                },
                {
                  "0": "Her lines seem to have been WRITTEN by a fifteen year old, though they are trying oh so, so hard to sound like how a fifteen year old would really, um, you know, well... talk.  ",
                  "1": "negative",
                  "3": {
                    "positive": 0.01,
                    "neutral": 0.04,
                    "negative": 0.95
                  },
                  "4": [
                    {
                      "sentiment": "negative",
                      "confidenceScores": {
                        "positive": 0.01,
                        "neutral": 0.04,
                        "negative": 0.95
                      },
                      "text": "Her lines seem to have been WRITTEN by a fifteen year old, though they are trying oh so, so hard to sound like how a fifteen year old would really, um, you know, well... ",
                      "offset": 0,
                      "length": 170
                    },
                    {
                      "sentiment": "neutral",
                      "confidenceScores": {
                        "positive": 0.07,
                        "neutral": 0.86,
                        "negative": 0.07
                      },
                      "text": "talk.  ",
                      "offset": 170,
                      "length": 7
                    }
                  ],
                  "5": []
                },
                {
                  "0": "Perabo has a nice energy level and is obviously very comfortable in front of a camera.  ",
                  "1": "positive",
                  "3": {
                    "positive": 0.99,
                    "neutral": 0,
                    "negative": 0
                  },
                  "4": [
                    {
                      "sentiment": "positive",
                      "confidenceScores": {
                        "positive": 0.99,
                        "neutral": 0,
                        "negative": 0
                      },
                      "text": "Perabo has a nice energy level and is obviously very comfortable in front of a camera.  ",
                      "offset": 0,
                      "length": 88
                    }
                  ],
                  "5": []
                },
                {
                  "0": "There is simply no excuse for something this poorly done.  ",
                  "1": "negative",
                  "3": {
                    "positive": 0,
                    "neutral": 0,
                    "negative": 1
                  },
                  "4": [
                    {
                      "sentiment": "negative",
                      "confidenceScores": {
                        "positive": 0,
                        "neutral": 0,
                        "negative": 1
                      },
                      "text": "There is simply no excuse for something this poorly done.  ",
                      "offset": 0,
                      "length": 59
                    }
                  ],
                  "5": []
                },
                {
                  "0": "I saw this movie and I thought this is a stupid movie.  ",
                  "1": "negative",
                  "3": {
                    "positive": 0,
                    "neutral": 0,
                    "negative": 0.99
                  },
                  "4": [
                    {
                      "sentiment": "negative",
                      "confidenceScores": {
                        "positive": 0,
                        "neutral": 0,
                        "negative": 0.99
                      },
                      "text": "I saw this movie and I thought this is a stupid movie.  ",
                      "offset": 0,
                      "length": 56
                    }
                  ],
                  "5": []
                },
                {
                  "0": "What is even more stupid is that who had thought an idea that there should be a volcano in Los Angeles?  ",
                  "1": "negative",
                  "3": {
                    "positive": 0.01,
                    "neutral": 0.01,
                    "negative": 0.98
                  },
                  "4": [
                    {
                      "sentiment": "negative",
                      "confidenceScores": {
                        "positive": 0.01,
                        "neutral": 0.01,
                        "negative": 0.98
                      },
                      "text": "What is even more stupid is that who had thought an idea that there should be a volcano in Los Angeles?  ",
                      "offset": 0,
                      "length": 105
                    }
                  ],
                  "5": []
                },
                {
                  "0": "To be honest with you, this is unbelievable nonsense and very foolish.  ",
                  "1": "negative",
                  "3": {
                    "positive": 0.01,
                    "neutral": 0,
                    "negative": 0.99
                  },
                  "4": [
                    {
                      "sentiment": "negative",
                      "confidenceScores": {
                        "positive": 0.01,
                        "neutral": 0,
                        "negative": 0.99
                      },
                      "text": "To be honest with you, this is unbelievable nonsense and very foolish.  ",
                      "offset": 0,
                      "length": 72
                    }
                  ],
                  "5": []
                },
                {
                  "0": "In conclusion, I will not bother with this movie because a volcano in Los Angeles is nothing but nonsense.  ",
                  "1": "negative",
                  "3": {
                    "positive": 0.01,
                    "neutral": 0.01,
                    "negative": 0.99
                  },
                  "4": [
                    {
                      "sentiment": "negative",
                      "confidenceScores": {
                        "positive": 0.01,
                        "neutral": 0.01,
                        "negative": 0.99
                      },
                      "text": "In conclusion, I will not bother with this movie because a volcano in Los Angeles is nothing but nonsense.  ",
                      "offset": 0,
                      "length": 108
                    }
                  ],
                  "5": []
                },
                {
                  "0": "The story line is just awful!  ",
                  "1": "negative",
                  "3": {
                    "positive": 0.01,
                    "neutral": 0,
                    "negative": 0.99
                  },
                  "4": [
                    {
                      "sentiment": "negative",
                      "confidenceScores": {
                        "positive": 0.01,
                        "neutral": 0,
                        "negative": 0.99
                      },
                      "text": "The story line is just awful!  ",
                      "offset": 0,
                      "length": 31
                    }
                  ],
                  "5": []
                },
                {
                  "0": "It's just painful!  ",
                  "1": "negative",
                  "3": {
                    "positive": 0.01,
                    "neutral": 0.01,
                    "negative": 0.99
                  },
                  "4": [
                    {
                      "sentiment": "negative",
                      "confidenceScores": {
                        "positive": 0.01,
                        "neutral": 0.01,
                        "negative": 0.99
                      },
                      "text": "It's just painful!  ",
                      "offset": 0,
                      "length": 20
                    }
                  ],
                  "5": []
                },
                {
                  "0": "And the accents are absolutely abysmal!  ",
                  "1": "negative",
                  "3": {
                    "positive": 0.01,
                    "neutral": 0.02,
                    "negative": 0.97
                  },
                  "4": [
                    {
                      "sentiment": "negative",
                      "confidenceScores": {
                        "positive": 0.01,
                        "neutral": 0.02,
                        "negative": 0.97
                      },
                      "text": "And the accents are absolutely abysmal!  ",
                      "offset": 0,
                      "length": 41
                    }
                  ],
                  "5": []
                },
                {
                  "0": "There's also enough hypocrisy in this film to make me vomit.  ",
                  "1": "negative",
                  "3": {
                    "positive": 0,
                    "neutral": 0,
                    "negative": 0.99
                  },
                  "4": [
                    {
                      "sentiment": "negative",
                      "confidenceScores": {
                        "positive": 0,
                        "neutral": 0,
                        "negative": 0.99
                      },
                      "text": "There's also enough hypocrisy in this film to make me vomit.  ",
                      "offset": 0,
                      "length": 62
                    }
                  ],
                  "5": []
                },
                {
                  "0": "Don't waste your time watching this rubbish non-researched film.  ",
                  "1": "negative",
                  "3": {
                    "positive": 0.02,
                    "neutral": 0.01,
                    "negative": 0.97
                  },
                  "4": [
                    {
                      "sentiment": "negative",
                      "confidenceScores": {
                        "positive": 0.02,
                        "neutral": 0.01,
                        "negative": 0.97
                      },
                      "text": "Don't waste your time watching this rubbish non-researched film.  ",
                      "offset": 0,
                      "length": 66
                    }
                  ],
                  "5": []
                },
                {
                  "0": "I believe that Pitch Black was done well.  ",
                  "1": "positive",
                  "3": {
                    "positive": 0.99,
                    "neutral": 0,
                    "negative": 0
                  },
                  "4": [
                    {
                      "sentiment": "positive",
                      "confidenceScores": {
                        "positive": 0.99,
                        "neutral": 0,
                        "negative": 0
                      },
                      "text": "I believe that Pitch Black was done well.  ",
                      "offset": 0,
                      "length": 43
                    }
                  ],
                  "5": []
                },
                {
                  "0": "The characters are interesting and you want to find out more about them the longer the movie goes on, and I think people will be surprised by who does and doesn't make it.  ",
                  "1": "positive",
                  "3": {
                    "positive": 0.98,
                    "neutral": 0.01,
                    "negative": 0.01
                  },
                  "4": [
                    {
                      "sentiment": "positive",
                      "confidenceScores": {
                        "positive": 0.98,
                        "neutral": 0.01,
                        "negative": 0.01
                      },
                      "text": "The characters are interesting and you want to find out more about them the longer the movie goes on, and I think people will be surprised by who does and doesn't make it.  ",
                      "offset": 0,
                      "length": 173
                    }
                  ],
                  "5": []
                },
                {
                  "0": "Go watch it!  ",
                  "1": "neutral",
                  "3": {
                    "positive": 0.26,
                    "neutral": 0.69,
                    "negative": 0.05
                  },
                  "4": [
                    {
                      "sentiment": "neutral",
                      "confidenceScores": {
                        "positive": 0.26,
                        "neutral": 0.69,
                        "negative": 0.05
                      },
                      "text": "Go watch it!  ",
                      "offset": 0,
                      "length": 14
                    }
                  ],
                  "5": []
                },
                {
                  "0": "Omit watching this.  ",
                  "1": "negative",
                  "3": {
                    "positive": 0.01,
                    "neutral": 0.08,
                    "negative": 0.91
                  },
                  "4": [
                    {
                      "sentiment": "negative",
                      "confidenceScores": {
                        "positive": 0.01,
                        "neutral": 0.08,
                        "negative": 0.91
                      },
                      "text": "Omit watching this.  ",
                      "offset": 0,
                      "length": 21
                    }
                  ],
                  "5": []
                },
                {
                  "0": "VERY funny!  ",
                  "1": "positive",
                  "3": {
                    "positive": 0.94,
                    "neutral": 0.02,
                    "negative": 0.04
                  },
                  "4": [
                    {
                      "sentiment": "positive",
                      "confidenceScores": {
                        "positive": 0.94,
                        "neutral": 0.02,
                        "negative": 0.04
                      },
                      "text": "VERY funny!  ",
                      "offset": 0,
                      "length": 13
                    }
                  ],
                  "5": []
                },
                {
                  "0": "My rating: just 3 out of 10.  ",
                  "1": "negative",
                  "3": {
                    "positive": 0.17,
                    "neutral": 0.16,
                    "negative": 0.67
                  },
                  "4": [
                    {
                      "sentiment": "negative",
                      "confidenceScores": {
                        "positive": 0.17,
                        "neutral": 0.16,
                        "negative": 0.67
                      },
                      "text": "My rating: just 3 out of 10.  ",
                      "offset": 0,
                      "length": 30
                    }
                  ],
                  "5": []
                },
                {
                  "0": "The characters are interesting and you really care for them.  ",
                  "1": "positive",
                  "3": {
                    "positive": 0.99,
                    "neutral": 0,
                    "negative": 0
                  },
                  "4": [
                    {
                      "sentiment": "positive",
                      "confidenceScores": {
                        "positive": 0.99,
                        "neutral": 0,
                        "negative": 0
                      },
                      "text": "The characters are interesting and you really care for them.  ",
                      "offset": 0,
                      "length": 62
                    }
                  ],
                  "5": []
                },
                {
                  "0": "An instant classic, with a great soundtrack and a catchy song during the ending credits.  ",
                  "1": "positive",
                  "3": {
                    "positive": 1,
                    "neutral": 0,
                    "negative": 0
                  },
                  "4": [
                    {
                      "sentiment": "positive",
                      "confidenceScores": {
                        "positive": 1,
                        "neutral": 0,
                        "negative": 0
                      },
                      "text": "An instant classic, with a great soundtrack and a catchy song during the ending credits.  ",
                      "offset": 0,
                      "length": 90
                    }
                  ],
                  "5": []
                },
                {
                  "0": "Don't miss it.  ",
                  "1": "neutral",
                  "3": {
                    "positive": 0.42,
                    "neutral": 0.47,
                    "negative": 0.11
                  },
                  "4": [
                    {
                      "sentiment": "neutral",
                      "confidenceScores": {
                        "positive": 0.42,
                        "neutral": 0.47,
                        "negative": 0.11
                      },
                      "text": "Don't miss it.  ",
                      "offset": 0,
                      "length": 16
                    }
                  ],
                  "5": []
                },
                {
                  "0": "This is a masterful piece of film-making, with many themes simmering and occasionally boiling over in this warts and all study of the poet's bohemian, self-indulgent wartime years that span the aerial bombardments of London and the outward tranquillity of a Welsh coastal retreat - the borderlines between friendship, lust and love, dedication to art and experience versus practical concerns, jealousy, rivalry, cowardice and egotism versus heroism and self-sacrifice and more.  ",
                  "1": "negative",
                  "3": {
                    "positive": 0.17,
                    "neutral": 0.01,
                    "negative": 0.82
                  },
                  "4": [
                    {
                      "sentiment": "negative",
                      "confidenceScores": {
                        "positive": 0.17,
                        "neutral": 0.01,
                        "negative": 0.82
                      },
                      "text": "This is a masterful piece of film-making, with many themes simmering and occasionally boiling over in this warts and all study of the poet's bohemian, self-indulgent wartime years that span the aerial bombardments of London and the outward tranquillity of a Welsh coastal retreat - the borderlines between friendship, lust and love, dedication to art and experience versus practical concerns, jealousy, rivalry, cowardice and egotism versus heroism and self-sacrifice and more.  ",
                      "offset": 0,
                      "length": 479
                    }
                  ],
                  "5": []
                },
                {
                  "0": "A mature, subtle script that suggests and occasionally brings into dramatic focus the underlying tensions is well served by perfect performances (apart from the odd inappropriate smiling that Keira Knightley is prone to, though perhaps under direction this time as the other characters themselves often mention it).  ",
                  "1": "positive",
                  "3": {
                    "positive": 0.92,
                    "neutral": 0,
                    "negative": 0.08
                  },
                  "4": [
                    {
                      "sentiment": "positive",
                      "confidenceScores": {
                        "positive": 0.92,
                        "neutral": 0,
                        "negative": 0.08
                      },
                      "text": "A mature, subtle script that suggests and occasionally brings into dramatic focus the underlying tensions is well served by perfect performances (apart from the odd inappropriate smiling that Keira Knightley is prone to, though perhaps under direction this time as the other characters themselves often mention it).  ",
                      "offset": 0,
                      "length": 317
                    }
                  ],
                  "5": []
                },
                {
                  "0": "But above all the exquisite visual composition of each moment, with inventive and elegant use of close-up, camera angle and lighting, including pointillistic faux home movie footage, is a wonder and joy to behold.  ",
                  "1": "positive",
                  "3": {
                    "positive": 0.99,
                    "neutral": 0.01,
                    "negative": 0.01
                  },
                  "4": [
                    {
                      "sentiment": "positive",
                      "confidenceScores": {
                        "positive": 0.99,
                        "neutral": 0.01,
                        "negative": 0.01
                      },
                      "text": "But above all the exquisite visual composition of each moment, with inventive and elegant use of close-up, camera angle and lighting, including pointillistic faux home movie footage, is a wonder and joy to behold.  ",
                      "offset": 0,
                      "length": 215
                    }
                  ],
                  "5": []
                },
                {
                  "0": "It's as continuously beautiful to look at as a Bertolucci, but the relationships here are more convincing and the narrative more engaging than some of that master's work.  ",
                  "1": "positive",
                  "3": {
                    "positive": 0.96,
                    "neutral": 0,
                    "negative": 0.03
                  },
                  "4": [
                    {
                      "sentiment": "positive",
                      "confidenceScores": {
                        "positive": 0.96,
                        "neutral": 0,
                        "negative": 0.03
                      },
                      "text": "It's as continuously beautiful to look at as a Bertolucci, but the relationships here are more convincing and the narrative more engaging than some of that master's work.  ",
                      "offset": 0,
                      "length": 172
                    }
                  ],
                  "5": []
                },
                {
                  "0": "The basic premise is wasted since it is sidelined by the inexplicable focus on the documentary crew.  ",
                  "1": "negative",
                  "3": {
                    "positive": 0,
                    "neutral": 0,
                    "negative": 0.99
                  },
                  "4": [
                    {
                      "sentiment": "negative",
                      "confidenceScores": {
                        "positive": 0,
                        "neutral": 0,
                        "negative": 0.99
                      },
                      "text": "The basic premise is wasted since it is sidelined by the inexplicable focus on the documentary crew.  ",
                      "offset": 0,
                      "length": 102
                    }
                  ],
                  "5": []
                },
                {
                  "0": "Regardless, the film fails on most levels.  ",
                  "1": "negative",
                  "3": {
                    "positive": 0,
                    "neutral": 0,
                    "negative": 1
                  },
                  "4": [
                    {
                      "sentiment": "negative",
                      "confidenceScores": {
                        "positive": 0,
                        "neutral": 0,
                        "negative": 1
                      },
                      "text": "Regardless, the film fails on most levels.  ",
                      "offset": 0,
                      "length": 44
                    }
                  ],
                  "5": []
                },
                {
                  "0": "Avoid at all costs.  ",
                  "1": "negative",
                  "3": {
                    "positive": 0.05,
                    "neutral": 0.24,
                    "negative": 0.71
                  },
                  "4": [
                    {
                      "sentiment": "negative",
                      "confidenceScores": {
                        "positive": 0.05,
                        "neutral": 0.24,
                        "negative": 0.71
                      },
                      "text": "Avoid at all costs.  ",
                      "offset": 0,
                      "length": 21
                    }
                  ],
                  "5": []
                },
                {
                  "0": "I saw this film over Christmas, and what a great film it was!  ",
                  "1": "positive",
                  "3": {
                    "positive": 1,
                    "neutral": 0,
                    "negative": 0
                  },
                  "4": [
                    {
                      "sentiment": "positive",
                      "confidenceScores": {
                        "positive": 1,
                        "neutral": 0,
                        "negative": 0
                      },
                      "text": "I saw this film over Christmas, and what a great film it was!  ",
                      "offset": 0,
                      "length": 63
                    }
                  ],
                  "5": []
                },
                {
                  "0": "I thought Errol Flynn was brilliant as Custer and has since become my favourite actor!  ",
                  "1": "positive",
                  "3": {
                    "positive": 0.99,
                    "neutral": 0,
                    "negative": 0
                  },
                  "4": [
                    {
                      "sentiment": "positive",
                      "confidenceScores": {
                        "positive": 0.99,
                        "neutral": 0,
                        "negative": 0
                      },
                      "text": "I thought Errol Flynn was brilliant as Custer and has since become my favourite actor!  ",
                      "offset": 0,
                      "length": 88
                    }
                  ],
                  "5": []
                },
                {
                  "0": "His acting alongside Olivia De Havilland was brilliant and the ending was fantastic!  ",
                  "1": "positive",
                  "3": {
                    "positive": 0.99,
                    "neutral": 0,
                    "negative": 0
                  },
                  "4": [
                    {
                      "sentiment": "positive",
                      "confidenceScores": {
                        "positive": 0.99,
                        "neutral": 0,
                        "negative": 0
                      },
                      "text": "His acting alongside Olivia De Havilland was brilliant and the ending was fantastic!  ",
                      "offset": 0,
                      "length": 86
                    }
                  ],
                  "5": []
                },
                {
                  "0": "I had always known that Errol Flynn was a brilliant actor as he was my dads favourite actor, and I grew up watching his films as a child.  ",
                  "1": "positive",
                  "3": {
                    "positive": 0.98,
                    "neutral": 0.01,
                    "negative": 0.01
                  },
                  "4": [
                    {
                      "sentiment": "positive",
                      "confidenceScores": {
                        "positive": 0.98,
                        "neutral": 0.01,
                        "negative": 0.01
                      },
                      "text": "I had always known that Errol Flynn was a brilliant actor as he was my dads favourite actor, and I grew up watching his films as a child.  ",
                      "offset": 0,
                      "length": 139
                    }
                  ],
                  "5": []
                },
                {
                  "0": "But it wasn't until I watched this film that I realised how great he actually was.  ",
                  "1": "positive",
                  "3": {
                    "positive": 0.88,
                    "neutral": 0.02,
                    "negative": 0.1
                  },
                  "4": [
                    {
                      "sentiment": "positive",
                      "confidenceScores": {
                        "positive": 0.88,
                        "neutral": 0.02,
                        "negative": 0.1
                      },
                      "text": "But it wasn't until I watched this film that I realised how great he actually was.  ",
                      "offset": 0,
                      "length": 84
                    }
                  ],
                  "5": []
                },
                {
                  "0": "I'll give this film 10 out of 10!  ",
                  "1": "neutral",
                  "3": {
                    "positive": 0.15,
                    "neutral": 0.75,
                    "negative": 0.11
                  },
                  "4": [
                    {
                      "sentiment": "neutral",
                      "confidenceScores": {
                        "positive": 0.15,
                        "neutral": 0.75,
                        "negative": 0.11
                      },
                      "text": "I'll give this film 10 out of 10!  ",
                      "offset": 0,
                      "length": 35
                    }
                  ],
                  "5": []
                },
                {
                  "0": "I know that Jim O'Connor was very energetic and that nobody could be as much as him, but George was well dull.  ",
                  "1": "negative",
                  "3": {
                    "positive": 0,
                    "neutral": 0,
                    "negative": 0.99
                  },
                  "4": [
                    {
                      "sentiment": "negative",
                      "confidenceScores": {
                        "positive": 0,
                        "neutral": 0,
                        "negative": 0.99
                      },
                      "text": "I know that Jim O'Connor was very energetic and that nobody could be as much as him, but George was well dull.  ",
                      "offset": 0,
                      "length": 112
                    }
                  ],
                  "5": []
                },
                {
                  "0": "\"He really didn't seem to want to be hosting; his voice-overs were monotonous, didn't get involved with the guests.  \"",
                  "1": "negative",
                  "3": {
                    "positive": 0.01,
                    "neutral": 0.14,
                    "negative": 0.85
                  },
                  "4": [
                    {
                      "sentiment": "negative",
                      "confidenceScores": {
                        "positive": 0.01,
                        "neutral": 0.25,
                        "negative": 0.74
                      },
                      "text": "\"He really didn't seem to want to be hosting; ",
                      "offset": 0,
                      "length": 46
                    },
                    {
                      "sentiment": "negative",
                      "confidenceScores": {
                        "positive": 0.01,
                        "neutral": 0.02,
                        "negative": 0.97
                      },
                      "text": "his voice-overs were monotonous, didn't get involved with the guests.  ",
                      "offset": 46,
                      "length": 71
                    },
                    {
                      "sentiment": "neutral",
                      "confidenceScores": {
                        "positive": 0.27,
                        "neutral": 0.59,
                        "negative": 0.14
                      },
                      "text": "\"",
                      "offset": 117,
                      "length": 1
                    }
                  ],
                  "5": []
                },
                {
                  "0": "Lovely little thriller from Hitchcock, with lots of nice shenanigans surrounding a murdered spy, a kidnapped child, a nasty church, a foreign plot and some random taxidermists.  ",
                  "1": "positive",
                  "3": {
                    "positive": 0.98,
                    "neutral": 0,
                    "negative": 0.02
                  },
                  "4": [
                    {
                      "sentiment": "positive",
                      "confidenceScores": {
                        "positive": 0.98,
                        "neutral": 0,
                        "negative": 0.02
                      },
                      "text": "Lovely little thriller from Hitchcock, with lots of nice shenanigans surrounding a murdered spy, a kidnapped child, a nasty church, a foreign plot and some random taxidermists.  ",
                      "offset": 0,
                      "length": 178
                    }
                  ],
                  "5": []
                },
                {
                  "0": "Jimmy Stewart is as ever a great hero for Hitchcock, the story rips along to its cool climax at an embassy function, but it lacks the brooding menace of Hitchcock's black and white, low-budget original.  ",
                  "1": "positive",
                  "3": {
                    "positive": 0.82,
                    "neutral": 0,
                    "negative": 0.17
                  },
                  "4": [
                    {
                      "sentiment": "positive",
                      "confidenceScores": {
                        "positive": 0.82,
                        "neutral": 0,
                        "negative": 0.17
                      },
                      "text": "Jimmy Stewart is as ever a great hero for Hitchcock, the story rips along to its cool climax at an embassy function, but it lacks the brooding menace of Hitchcock's black and white, low-budget original.  ",
                      "offset": 0,
                      "length": 204
                    }
                  ],
                  "5": []
                },
                {
                  "0": "Nevertheless yet another wonderful film from the great master's stable.  ",
                  "1": "positive",
                  "3": {
                    "positive": 1,
                    "neutral": 0,
                    "negative": 0
                  },
                  "4": [
                    {
                      "sentiment": "positive",
                      "confidenceScores": {
                        "positive": 1,
                        "neutral": 0,
                        "negative": 0
                      },
                      "text": "Nevertheless yet another wonderful film from the great master's stable.  ",
                      "offset": 0,
                      "length": 73
                    }
                  ],
                  "5": []
                },
                {
                  "0": "I have to say that this film was excellently produced and tops the ratings as a typical sci fi film!  ",
                  "1": "positive",
                  "3": {
                    "positive": 0.99,
                    "neutral": 0,
                    "negative": 0
                  },
                  "4": [
                    {
                      "sentiment": "positive",
                      "confidenceScores": {
                        "positive": 0.99,
                        "neutral": 0,
                        "negative": 0
                      },
                      "text": "I have to say that this film was excellently produced and tops the ratings as a typical sci fi film!  ",
                      "offset": 0,
                      "length": 102
                    }
                  ],
                  "5": []
                },
                {
                  "0": "Excellently produced by one of Sci-fi's best producers Scot Vandiver !  ",
                  "1": "positive",
                  "3": {
                    "positive": 1,
                    "neutral": 0,
                    "negative": 0
                  },
                  "4": [
                    {
                      "sentiment": "positive",
                      "confidenceScores": {
                        "positive": 1,
                        "neutral": 0,
                        "negative": 0
                      },
                      "text": "Excellently produced by one of Sci-fi's best producers Scot Vandiver !  ",
                      "offset": 0,
                      "length": 72
                    }
                  ],
                  "5": []
                },
                {
                  "0": "But it is entertaining, nonetheless.  ",
                  "1": "positive",
                  "3": {
                    "positive": 0.68,
                    "neutral": 0.07,
                    "negative": 0.25
                  },
                  "4": [
                    {
                      "sentiment": "positive",
                      "confidenceScores": {
                        "positive": 0.68,
                        "neutral": 0.07,
                        "negative": 0.25
                      },
                      "text": "But it is entertaining, nonetheless.  ",
                      "offset": 0,
                      "length": 38
                    }
                  ],
                  "5": []
                },
                {
                  "0": "It's a campy sort of film that's a joy to watch.  ",
                  "1": "positive",
                  "3": {
                    "positive": 0.99,
                    "neutral": 0,
                    "negative": 0
                  },
                  "4": [
                    {
                      "sentiment": "positive",
                      "confidenceScores": {
                        "positive": 0.99,
                        "neutral": 0,
                        "negative": 0
                      },
                      "text": "It's a campy sort of film that's a joy to watch.  ",
                      "offset": 0,
                      "length": 50
                    }
                  ],
                  "5": []
                },
                {
                  "0": "There's barely a boring moment in the film and there are plenty of humorous parts.  ",
                  "1": "negative",
                  "3": {
                    "positive": 0.33,
                    "neutral": 0.02,
                    "negative": 0.65
                  },
                  "4": [
                    {
                      "sentiment": "negative",
                      "confidenceScores": {
                        "positive": 0.33,
                        "neutral": 0.02,
                        "negative": 0.65
                      },
                      "text": "There's barely a boring moment in the film and there are plenty of humorous parts.  ",
                      "offset": 0,
                      "length": 84
                    }
                  ],
                  "5": []
                },
                {
                  "0": "The cast is always entertaining as usual.  ",
                  "1": "positive",
                  "3": {
                    "positive": 0.98,
                    "neutral": 0.01,
                    "negative": 0.01
                  },
                  "4": [
                    {
                      "sentiment": "positive",
                      "confidenceScores": {
                        "positive": 0.98,
                        "neutral": 0.01,
                        "negative": 0.01
                      },
                      "text": "The cast is always entertaining as usual.  ",
                      "offset": 0,
                      "length": 43
                    }
                  ],
                  "5": []
                },
                {
                  "0": "Overall, a delight!  ",
                  "1": "positive",
                  "3": {
                    "positive": 1,
                    "neutral": 0,
                    "negative": 0
                  },
                  "4": [
                    {
                      "sentiment": "positive",
                      "confidenceScores": {
                        "positive": 1,
                        "neutral": 0,
                        "negative": 0
                      },
                      "text": "Overall, a delight!  ",
                      "offset": 0,
                      "length": 21
                    }
                  ],
                  "5": []
                },
                {
                  "0": "This movie is so mind-bendingly awful, it couldn't have even been created.  ",
                  "1": "negative",
                  "3": {
                    "positive": 0.01,
                    "neutral": 0,
                    "negative": 0.99
                  },
                  "4": [
                    {
                      "sentiment": "negative",
                      "confidenceScores": {
                        "positive": 0.01,
                        "neutral": 0,
                        "negative": 0.99
                      },
                      "text": "This movie is so mind-bendingly awful, it couldn't have even been created.  ",
                      "offset": 0,
                      "length": 76
                    }
                  ],
                  "5": []
                },
                {
                  "0": "The film lacks any real scares or tension & some of the medical terminology used throughout is a bit iffy to say the least & I say that as an insulin dependant diabetic myself.  ",
                  "1": "negative",
                  "3": {
                    "positive": 0,
                    "neutral": 0,
                    "negative": 0.99
                  },
                  "4": [
                    {
                      "sentiment": "negative",
                      "confidenceScores": {
                        "positive": 0,
                        "neutral": 0,
                        "negative": 0.99
                      },
                      "text": "The film lacks any real scares or tension & some of the medical terminology used throughout is a bit iffy to say the least & I say that as an insulin dependant diabetic myself.  ",
                      "offset": 0,
                      "length": 178
                    }
                  ],
                  "5": []
                },
                {
                  "0": "The least said about the acting the better.  ",
                  "1": "positive",
                  "3": {
                    "positive": 0.83,
                    "neutral": 0.06,
                    "negative": 0.11
                  },
                  "4": [
                    {
                      "sentiment": "positive",
                      "confidenceScores": {
                        "positive": 0.83,
                        "neutral": 0.06,
                        "negative": 0.11
                      },
                      "text": "The least said about the acting the better.  ",
                      "offset": 0,
                      "length": 45
                    }
                  ],
                  "5": []
                },
                {
                  "0": "This movie does an excellent job of revealing the complexity of the task and the incredible challenges facing South Africa.  ",
                  "1": "positive",
                  "3": {
                    "positive": 0.99,
                    "neutral": 0,
                    "negative": 0.01
                  },
                  "4": [
                    {
                      "sentiment": "positive",
                      "confidenceScores": {
                        "positive": 0.99,
                        "neutral": 0,
                        "negative": 0.01
                      },
                      "text": "This movie does an excellent job of revealing the complexity of the task and the incredible challenges facing South Africa.  ",
                      "offset": 0,
                      "length": 125
                    }
                  ],
                  "5": []
                },
                {
                  "0": "I believe every one should see this movie as I think few people outside of South Africa understand its past and what is being attempted in the Truth and Reconciliation process.  ",
                  "1": "negative",
                  "3": {
                    "positive": 0.03,
                    "neutral": 0.02,
                    "negative": 0.95
                  },
                  "4": [
                    {
                      "sentiment": "negative",
                      "confidenceScores": {
                        "positive": 0.03,
                        "neutral": 0.02,
                        "negative": 0.95
                      },
                      "text": "I believe every one should see this movie as I think few people outside of South Africa understand its past and what is being attempted in the Truth and Reconciliation process.  ",
                      "offset": 0,
                      "length": 178
                    }
                  ],
                  "5": []
                },
                {
                  "0": "Nothing short of magnificent photography/cinematography in this film.  ",
                  "1": "positive",
                  "3": {
                    "positive": 0.99,
                    "neutral": 0,
                    "negative": 0.01
                  },
                  "4": [
                    {
                      "sentiment": "positive",
                      "confidenceScores": {
                        "positive": 0.99,
                        "neutral": 0,
                        "negative": 0.01
                      },
                      "text": "Nothing short of magnificent photography/cinematography in this film.  ",
                      "offset": 0,
                      "length": 71
                    }
                  ],
                  "5": []
                },
                {
                  "0": "The acting is fantastic, the stories are seamlessly woven together, and the dogs are splendid............. A must rent, view, or see.  ",
                  "1": "positive",
                  "3": {
                    "positive": 0.95,
                    "neutral": 0.04,
                    "negative": 0.01
                  },
                  "4": [
                    {
                      "sentiment": "positive",
                      "confidenceScores": {
                        "positive": 1,
                        "neutral": 0,
                        "negative": 0
                      },
                      "text": "The acting is fantastic, the stories are seamlessly woven together, and the dogs are splendid............. ",
                      "offset": 0,
                      "length": 107
                    },
                    {
                      "sentiment": "positive",
                      "confidenceScores": {
                        "positive": 0.91,
                        "neutral": 0.07,
                        "negative": 0.01
                      },
                      "text": "A must rent, view, or see.  ",
                      "offset": 107,
                      "length": 28
                    }
                  ],
                  "5": []
                },
                {
                  "0": "Don't be afraid of subtitles........ its worth a little aversion therapy 10/10  ",
                  "1": "positive",
                  "3": {
                    "positive": 0.74,
                    "neutral": 0.11,
                    "negative": 0.15
                  },
                  "4": [
                    {
                      "sentiment": "neutral",
                      "confidenceScores": {
                        "positive": 0.29,
                        "neutral": 0.42,
                        "negative": 0.29
                      },
                      "text": "Don't be afraid of subtitles........ ",
                      "offset": 0,
                      "length": 37
                    },
                    {
                      "sentiment": "positive",
                      "confidenceScores": {
                        "positive": 0.74,
                        "neutral": 0.11,
                        "negative": 0.15
                      },
                      "text": "its worth a little aversion therapy 10/10  ",
                      "offset": 37,
                      "length": 43
                    }
                  ],
                  "5": []
                },
                {
                  "0": "Excellent performance.  ",
                  "1": "positive",
                  "3": {
                    "positive": 1,
                    "neutral": 0,
                    "negative": 0
                  },
                  "4": [
                    {
                      "sentiment": "positive",
                      "confidenceScores": {
                        "positive": 1,
                        "neutral": 0,
                        "negative": 0
                      },
                      "text": "Excellent performance.  ",
                      "offset": 0,
                      "length": 24
                    }
                  ],
                  "5": []
                },
                {
                  "0": "There still are good actors around!  ",
                  "1": "positive",
                  "3": {
                    "positive": 0.99,
                    "neutral": 0,
                    "negative": 0
                  },
                  "4": [
                    {
                      "sentiment": "positive",
                      "confidenceScores": {
                        "positive": 0.99,
                        "neutral": 0,
                        "negative": 0
                      },
                      "text": "There still are good actors around!  ",
                      "offset": 0,
                      "length": 37
                    }
                  ],
                  "5": []
                },
                {
                  "0": "Also great directing and photography.  ",
                  "1": "positive",
                  "3": {
                    "positive": 1,
                    "neutral": 0,
                    "negative": 0
                  },
                  "4": [
                    {
                      "sentiment": "positive",
                      "confidenceScores": {
                        "positive": 1,
                        "neutral": 0,
                        "negative": 0
                      },
                      "text": "Also great directing and photography.  ",
                      "offset": 0,
                      "length": 39
                    }
                  ],
                  "5": []
                },
                {
                  "0": "Very true to Shakespear, and a 'must' for all Shakespear fans.  ",
                  "1": "positive",
                  "3": {
                    "positive": 0.99,
                    "neutral": 0.01,
                    "negative": 0
                  },
                  "4": [
                    {
                      "sentiment": "positive",
                      "confidenceScores": {
                        "positive": 0.99,
                        "neutral": 0.01,
                        "negative": 0
                      },
                      "text": "Very true to Shakespear, and a 'must' for all Shakespear fans.  ",
                      "offset": 0,
                      "length": 64
                    }
                  ],
                  "5": []
                },
                {
                  "0": "Macbeth (Jason Connery) moved me to tears with his final monolog (out brief candle, out)He gave the sphere of moral decay and dark forces a human face, which makes it the more interesting.  ",
                  "1": "positive",
                  "3": {
                    "positive": 0.56,
                    "neutral": 0.02,
                    "negative": 0.43
                  },
                  "4": [
                    {
                      "sentiment": "positive",
                      "confidenceScores": {
                        "positive": 0.56,
                        "neutral": 0.02,
                        "negative": 0.43
                      },
                      "text": "Macbeth (Jason Connery) moved me to tears with his final monolog (out brief candle, out)He gave the sphere of moral decay and dark forces a human face, which makes it the more interesting.  ",
                      "offset": 0,
                      "length": 190
                    }
                  ],
                  "5": []
                },
                {
                  "0": "Helen Baxendale is a very credible lady Macbeth who can be very cheerfull at times and sometimes she just looks like a naughty girl, but deadly in her taste for blood and evil.  ",
                  "1": "negative",
                  "3": {
                    "positive": 0.01,
                    "neutral": 0,
                    "negative": 0.98
                  },
                  "4": [
                    {
                      "sentiment": "negative",
                      "confidenceScores": {
                        "positive": 0.01,
                        "neutral": 0,
                        "negative": 0.98
                      },
                      "text": "Helen Baxendale is a very credible lady Macbeth who can be very cheerfull at times and sometimes she just looks like a naughty girl, but deadly in her taste for blood and evil.  ",
                      "offset": 0,
                      "length": 178
                    }
                  ],
                  "5": []
                },
                {
                  "0": "If you love death and decay, and Shakespears lyrics... this is the one.  ",
                  "1": "positive",
                  "3": {
                    "positive": 0.58,
                    "neutral": 0.02,
                    "negative": 0.4
                  },
                  "4": [
                    {
                      "sentiment": "positive",
                      "confidenceScores": {
                        "positive": 0.58,
                        "neutral": 0.02,
                        "negative": 0.4
                      },
                      "text": "If you love death and decay, and Shakespears lyrics... ",
                      "offset": 0,
                      "length": 55
                    },
                    {
                      "sentiment": "neutral",
                      "confidenceScores": {
                        "positive": 0.03,
                        "neutral": 0.96,
                        "negative": 0.02
                      },
                      "text": "this is the one.  ",
                      "offset": 55,
                      "length": 18
                    }
                  ],
                  "5": []
                },
                {
                  "0": "This is a witty and delightful adaptation of the Dr Seuss book, brilliantly animated by UPA's finest and thoroughly deserving of its Academy Award.  ",
                  "1": "positive",
                  "3": {
                    "positive": 0.99,
                    "neutral": 0,
                    "negative": 0
                  },
                  "4": [
                    {
                      "sentiment": "positive",
                      "confidenceScores": {
                        "positive": 0.99,
                        "neutral": 0,
                        "negative": 0
                      },
                      "text": "This is a witty and delightful adaptation of the Dr Seuss book, brilliantly animated by UPA's finest and thoroughly deserving of its Academy Award.  ",
                      "offset": 0,
                      "length": 149
                    }
                  ],
                  "5": []
                },
                {
                  "0": "Special mention should be made of the superb music score and sound effects, which are an integral element in helping to make this such a memorable and enjoyable cartoon.  ",
                  "1": "positive",
                  "3": {
                    "positive": 0.99,
                    "neutral": 0,
                    "negative": 0
                  },
                  "4": [
                    {
                      "sentiment": "positive",
                      "confidenceScores": {
                        "positive": 0.99,
                        "neutral": 0,
                        "negative": 0
                      },
                      "text": "Special mention should be made of the superb music score and sound effects, which are an integral element in helping to make this such a memorable and enjoyable cartoon.  ",
                      "offset": 0,
                      "length": 171
                    }
                  ],
                  "5": []
                },
                {
                  "0": "\"However Paul Schrader has indeed made a film \"\"about\"\" Mishima that is both superb & complex.  \"",
                  "1": "positive",
                  "3": {
                    "positive": 0.93,
                    "neutral": 0.01,
                    "negative": 0.06
                  },
                  "4": [
                    {
                      "sentiment": "positive",
                      "confidenceScores": {
                        "positive": 0.93,
                        "neutral": 0.01,
                        "negative": 0.06
                      },
                      "text": "\"However Paul Schrader has indeed made a film \"\"about\"\" Mishima that is both superb & complex.  ",
                      "offset": 0,
                      "length": 96
                    },
                    {
                      "sentiment": "neutral",
                      "confidenceScores": {
                        "positive": 0.27,
                        "neutral": 0.59,
                        "negative": 0.14
                      },
                      "text": "\"",
                      "offset": 96,
                      "length": 1
                    }
                  ],
                  "5": []
                },
                {
                  "0": "Also notable is John Bailey's fine crisp beautifully colored cinematography and the great production design & costumes by Eiko Ishioka who went on to do the memorable costumes for Coppola's Dracula for which she received a well deserved Oscar.  ",
                  "1": "positive",
                  "3": {
                    "positive": 0.99,
                    "neutral": 0,
                    "negative": 0
                  },
                  "4": [
                    {
                      "sentiment": "positive",
                      "confidenceScores": {
                        "positive": 0.99,
                        "neutral": 0,
                        "negative": 0
                      },
                      "text": "Also notable is John Bailey's fine crisp beautifully colored cinematography and the great production design & costumes by Eiko Ishioka who went on to do the memorable costumes for Coppola's Dracula for which she received a well deserved Oscar.  ",
                      "offset": 0,
                      "length": 245
                    }
                  ],
                  "5": []
                },
                {
                  "0": "Even allowing for poor production values for the time (1971) and the format (some kind of mini-series), this is baaaaaad.  ",
                  "1": "negative",
                  "3": {
                    "positive": 0,
                    "neutral": 0,
                    "negative": 1
                  },
                  "4": [
                    {
                      "sentiment": "negative",
                      "confidenceScores": {
                        "positive": 0,
                        "neutral": 0,
                        "negative": 1
                      },
                      "text": "Even allowing for poor production values for the time (1971) and the format (some kind of mini-series), this is baaaaaad.  ",
                      "offset": 0,
                      "length": 123
                    }
                  ],
                  "5": []
                },
                {
                  "0": "\"Unless you're just out to visually \"\"collect\"\" all extant films of Austen's work, you can skip this one.  \"",
                  "1": "negative",
                  "3": {
                    "positive": 0.01,
                    "neutral": 0.14,
                    "negative": 0.85
                  },
                  "4": [
                    {
                      "sentiment": "negative",
                      "confidenceScores": {
                        "positive": 0.01,
                        "neutral": 0.14,
                        "negative": 0.85
                      },
                      "text": "\"Unless you're just out to visually \"\"collect\"\" all extant films of Austen's work, you can skip this one.  ",
                      "offset": 0,
                      "length": 107
                    },
                    {
                      "sentiment": "neutral",
                      "confidenceScores": {
                        "positive": 0.27,
                        "neutral": 0.59,
                        "negative": 0.14
                      },
                      "text": "\"",
                      "offset": 107,
                      "length": 1
                    }
                  ],
                  "5": []
                },
                {
                  "0": "If you do watch it, however, there are small consolations: The actresses playing Anne's sisters each do a wonderful job with their roles.  ",
                  "1": "positive",
                  "3": {
                    "positive": 0.99,
                    "neutral": 0,
                    "negative": 0
                  },
                  "4": [
                    {
                      "sentiment": "positive",
                      "confidenceScores": {
                        "positive": 0.99,
                        "neutral": 0,
                        "negative": 0
                      },
                      "text": "If you do watch it, however, there are small consolations: The actresses playing Anne's sisters each do a wonderful job with their roles.  ",
                      "offset": 0,
                      "length": 139
                    }
                  ],
                  "5": []
                },
                {
                  "0": "It is not good.  ",
                  "1": "negative",
                  "3": {
                    "positive": 0,
                    "neutral": 0.01,
                    "negative": 0.99
                  },
                  "4": [
                    {
                      "sentiment": "negative",
                      "confidenceScores": {
                        "positive": 0,
                        "neutral": 0.01,
                        "negative": 0.99
                      },
                      "text": "It is not good.  ",
                      "offset": 0,
                      "length": 17
                    }
                  ],
                  "5": []
                },
                {
                  "0": "Speaking of the music, it is unbearably predictably and kitchy.  ",
                  "1": "negative",
                  "3": {
                    "positive": 0,
                    "neutral": 0,
                    "negative": 0.99
                  },
                  "4": [
                    {
                      "sentiment": "negative",
                      "confidenceScores": {
                        "positive": 0,
                        "neutral": 0,
                        "negative": 0.99
                      },
                      "text": "Speaking of the music, it is unbearably predictably and kitchy.  ",
                      "offset": 0,
                      "length": 65
                    }
                  ],
                  "5": []
                },
                {
                  "0": "Then the film just dropped the ball.  ",
                  "1": "negative",
                  "3": {
                    "positive": 0.01,
                    "neutral": 0.18,
                    "negative": 0.82
                  },
                  "4": [
                    {
                      "sentiment": "negative",
                      "confidenceScores": {
                        "positive": 0.01,
                        "neutral": 0.18,
                        "negative": 0.82
                      },
                      "text": "Then the film just dropped the ball.  ",
                      "offset": 0,
                      "length": 38
                    }
                  ],
                  "5": []
                },
                {
                  "0": "This is a stunning movie.  ",
                  "1": "positive",
                  "3": {
                    "positive": 0.99,
                    "neutral": 0,
                    "negative": 0
                  },
                  "4": [
                    {
                      "sentiment": "positive",
                      "confidenceScores": {
                        "positive": 0.99,
                        "neutral": 0,
                        "negative": 0
                      },
                      "text": "This is a stunning movie.  ",
                      "offset": 0,
                      "length": 27
                    }
                  ],
                  "5": []
                },
                {
                  "0": "Raw and sublimely moving.  ",
                  "1": "positive",
                  "3": {
                    "positive": 0.99,
                    "neutral": 0.01,
                    "negative": 0.01
                  },
                  "4": [
                    {
                      "sentiment": "positive",
                      "confidenceScores": {
                        "positive": 0.99,
                        "neutral": 0.01,
                        "negative": 0.01
                      },
                      "text": "Raw and sublimely moving.  ",
                      "offset": 0,
                      "length": 27
                    }
                  ],
                  "5": []
                },
                {
                  "0": "It felt like a very gripping, intelligent stage play (but without the overly theatrical feeling one actually gets from watching people on a stage) which plays on everyone's terror of a white lie escalating to monstrous consequences.  ",
                  "1": "negative",
                  "3": {
                    "positive": 0.01,
                    "neutral": 0,
                    "negative": 0.99
                  },
                  "4": [
                    {
                      "sentiment": "negative",
                      "confidenceScores": {
                        "positive": 0.01,
                        "neutral": 0,
                        "negative": 0.99
                      },
                      "text": "It felt like a very gripping, intelligent stage play (but without the overly theatrical feeling one actually gets from watching people on a stage) which plays on everyone's terror of a white lie escalating to monstrous consequences.  ",
                      "offset": 0,
                      "length": 234
                    }
                  ],
                  "5": []
                },
                {
                  "0": "All of the main players are mesmerising.  ",
                  "1": "positive",
                  "3": {
                    "positive": 0.83,
                    "neutral": 0.08,
                    "negative": 0.09
                  },
                  "4": [
                    {
                      "sentiment": "positive",
                      "confidenceScores": {
                        "positive": 0.83,
                        "neutral": 0.08,
                        "negative": 0.09
                      },
                      "text": "All of the main players are mesmerising.  ",
                      "offset": 0,
                      "length": 42
                    }
                  ],
                  "5": []
                },
                {
                  "0": "Tom Wilkinson broke my heart at the end... and everyone else's judging by the amount of fumbling for hankies and hands going up to faces among males and females alike.  ",
                  "1": "negative",
                  "3": {
                    "positive": 0.02,
                    "neutral": 0.21,
                    "negative": 0.78
                  },
                  "4": [
                    {
                      "sentiment": "negative",
                      "confidenceScores": {
                        "positive": 0.01,
                        "neutral": 0.01,
                        "negative": 0.99
                      },
                      "text": "Tom Wilkinson broke my heart at the end... ",
                      "offset": 0,
                      "length": 43
                    },
                    {
                      "sentiment": "negative",
                      "confidenceScores": {
                        "positive": 0.02,
                        "neutral": 0.41,
                        "negative": 0.57
                      },
                      "text": "and everyone else's judging by the amount of fumbling for hankies and hands going up to faces among males and females alike.  ",
                      "offset": 43,
                      "length": 126
                    }
                  ],
                  "5": []
                },
                {
                  "0": "Julian Fellowes has triumphed again.  ",
                  "1": "positive",
                  "3": {
                    "positive": 0.47,
                    "neutral": 0.41,
                    "negative": 0.12
                  },
                  "4": [
                    {
                      "sentiment": "positive",
                      "confidenceScores": {
                        "positive": 0.47,
                        "neutral": 0.41,
                        "negative": 0.12
                      },
                      "text": "Julian Fellowes has triumphed again.  ",
                      "offset": 0,
                      "length": 38
                    }
                  ],
                  "5": []
                },
                {
                  "0": "He's a national treasure.  ",
                  "1": "positive",
                  "3": {
                    "positive": 0.89,
                    "neutral": 0.09,
                    "negative": 0.02
                  },
                  "4": [
                    {
                      "sentiment": "positive",
                      "confidenceScores": {
                        "positive": 0.89,
                        "neutral": 0.09,
                        "negative": 0.02
                      },
                      "text": "He's a national treasure.  ",
                      "offset": 0,
                      "length": 27
                    }
                  ],
                  "5": []
                },
                {
                  "0": "GO AND SEE IT!  ",
                  "1": "neutral",
                  "3": {
                    "positive": 0.18,
                    "neutral": 0.79,
                    "negative": 0.03
                  },
                  "4": [
                    {
                      "sentiment": "neutral",
                      "confidenceScores": {
                        "positive": 0.18,
                        "neutral": 0.79,
                        "negative": 0.03
                      },
                      "text": "GO AND SEE IT!  ",
                      "offset": 0,
                      "length": 16
                    }
                  ],
                  "5": []
                },
                {
                  "0": "This is an excellent film.  ",
                  "1": "positive",
                  "3": {
                    "positive": 1,
                    "neutral": 0,
                    "negative": 0
                  },
                  "4": [
                    {
                      "sentiment": "positive",
                      "confidenceScores": {
                        "positive": 1,
                        "neutral": 0,
                        "negative": 0
                      },
                      "text": "This is an excellent film.  ",
                      "offset": 0,
                      "length": 28
                    }
                  ],
                  "5": []
                },
                {
                  "0": "The aerial scenes were well-done.  ",
                  "1": "positive",
                  "3": {
                    "positive": 0.97,
                    "neutral": 0.01,
                    "negative": 0.02
                  },
                  "4": [
                    {
                      "sentiment": "positive",
                      "confidenceScores": {
                        "positive": 0.97,
                        "neutral": 0.01,
                        "negative": 0.02
                      },
                      "text": "The aerial scenes were well-done.  ",
                      "offset": 0,
                      "length": 35
                    }
                  ],
                  "5": []
                },
                {
                  "0": "It was also the right balance of war and love.  ",
                  "1": "positive",
                  "3": {
                    "positive": 0.99,
                    "neutral": 0,
                    "negative": 0.01
                  },
                  "4": [
                    {
                      "sentiment": "positive",
                      "confidenceScores": {
                        "positive": 0.99,
                        "neutral": 0,
                        "negative": 0.01
                      },
                      "text": "It was also the right balance of war and love.  ",
                      "offset": 0,
                      "length": 48
                    }
                  ],
                  "5": []
                },
                {
                  "0": "\"The film gives meaning to the phrase, \"\"Never in the history of human conflict has so much been owed by so many to so few.  \"",
                  "1": "negative",
                  "3": {
                    "positive": 0.02,
                    "neutral": 0.02,
                    "negative": 0.96
                  },
                  "4": [
                    {
                      "sentiment": "negative",
                      "confidenceScores": {
                        "positive": 0.02,
                        "neutral": 0.02,
                        "negative": 0.96
                      },
                      "text": "\"The film gives meaning to the phrase, \"\"Never in the history of human conflict has so much been owed by so many to so few.  ",
                      "offset": 0,
                      "length": 125
                    },
                    {
                      "sentiment": "neutral",
                      "confidenceScores": {
                        "positive": 0.27,
                        "neutral": 0.59,
                        "negative": 0.14
                      },
                      "text": "\"",
                      "offset": 125,
                      "length": 1
                    }
                  ],
                  "5": []
                },
                {
                  "0": "Kris Kristoffersen is good in this movie and really makes a difference.  ",
                  "1": "positive",
                  "3": {
                    "positive": 1,
                    "neutral": 0,
                    "negative": 0
                  },
                  "4": [
                    {
                      "sentiment": "positive",
                      "confidenceScores": {
                        "positive": 1,
                        "neutral": 0,
                        "negative": 0
                      },
                      "text": "Kris Kristoffersen is good in this movie and really makes a difference.  ",
                      "offset": 0,
                      "length": 73
                    }
                  ],
                  "5": []
                },
                {
                  "0": "A good film by a great director!  ",
                  "1": "positive",
                  "3": {
                    "positive": 1,
                    "neutral": 0,
                    "negative": 0
                  },
                  "4": [
                    {
                      "sentiment": "positive",
                      "confidenceScores": {
                        "positive": 1,
                        "neutral": 0,
                        "negative": 0
                      },
                      "text": "A good film by a great director!  ",
                      "offset": 0,
                      "length": 34
                    }
                  ],
                  "5": []
                },
                {
                  "0": "This is definitely one of the better documentaries I have seen looking at family relationships and marriage.  ",
                  "1": "positive",
                  "3": {
                    "positive": 0.99,
                    "neutral": 0,
                    "negative": 0
                  },
                  "4": [
                    {
                      "sentiment": "positive",
                      "confidenceScores": {
                        "positive": 0.99,
                        "neutral": 0,
                        "negative": 0
                      },
                      "text": "This is definitely one of the better documentaries I have seen looking at family relationships and marriage.  ",
                      "offset": 0,
                      "length": 110
                    }
                  ],
                  "5": []
                },
                {
                  "0": "There are many continuity errors: one other user commented on different cars in the garage, Joe's glasses...the one that got to me the most was the fact Joe's facial hair configuration seemed to change from scene to scene.  ",
                  "1": "negative",
                  "3": {
                    "positive": 0,
                    "neutral": 0.02,
                    "negative": 0.98
                  },
                  "4": [
                    {
                      "sentiment": "negative",
                      "confidenceScores": {
                        "positive": 0,
                        "neutral": 0.02,
                        "negative": 0.98
                      },
                      "text": "There are many continuity errors: one other user commented on different cars in the garage, Joe's glasses...",
                      "offset": 0,
                      "length": 108
                    },
                    {
                      "sentiment": "neutral",
                      "confidenceScores": {
                        "positive": 0.35,
                        "neutral": 0.42,
                        "negative": 0.23
                      },
                      "text": "the one that got to me the most was the fact Joe's facial hair configuration seemed to change from scene to scene.  ",
                      "offset": 108,
                      "length": 116
                    }
                  ],
                  "5": []
                },
                {
                  "0": "This is just a great movie.  ",
                  "1": "positive",
                  "3": {
                    "positive": 1,
                    "neutral": 0,
                    "negative": 0
                  },
                  "4": [
                    {
                      "sentiment": "positive",
                      "confidenceScores": {
                        "positive": 1,
                        "neutral": 0,
                        "negative": 0
                      },
                      "text": "This is just a great movie.  ",
                      "offset": 0,
                      "length": 29
                    }
                  ],
                  "5": []
                },
                {
                  "0": "10 out of 10 stars.  ",
                  "1": "neutral",
                  "3": {
                    "positive": 0.22,
                    "neutral": 0.72,
                    "negative": 0.06
                  },
                  "4": [
                    {
                      "sentiment": "neutral",
                      "confidenceScores": {
                        "positive": 0.22,
                        "neutral": 0.72,
                        "negative": 0.06
                      },
                      "text": "10 out of 10 stars.  ",
                      "offset": 0,
                      "length": 21
                    }
                  ],
                  "5": []
                },
                {
                  "0": "I can't see how this movie can be an inspiration to anyone to come out or overcome fear and rejection.  ",
                  "1": "negative",
                  "3": {
                    "positive": 0.08,
                    "neutral": 0.01,
                    "negative": 0.91
                  },
                  "4": [
                    {
                      "sentiment": "negative",
                      "confidenceScores": {
                        "positive": 0.08,
                        "neutral": 0.01,
                        "negative": 0.91
                      },
                      "text": "I can't see how this movie can be an inspiration to anyone to come out or overcome fear and rejection.  ",
                      "offset": 0,
                      "length": 104
                    }
                  ],
                  "5": []
                },
                {
                  "0": "It's so bad it's actually worth seeing just for that reason.  ",
                  "1": "negative",
                  "3": {
                    "positive": 0.01,
                    "neutral": 0,
                    "negative": 0.99
                  },
                  "4": [
                    {
                      "sentiment": "negative",
                      "confidenceScores": {
                        "positive": 0.01,
                        "neutral": 0,
                        "negative": 0.99
                      },
                      "text": "It's so bad it's actually worth seeing just for that reason.  ",
                      "offset": 0,
                      "length": 62
                    }
                  ],
                  "5": []
                },
                {
                  "0": "Punishment Park is a brilliant piece of cinema.  ",
                  "1": "positive",
                  "3": {
                    "positive": 0.99,
                    "neutral": 0,
                    "negative": 0.01
                  },
                  "4": [
                    {
                      "sentiment": "positive",
                      "confidenceScores": {
                        "positive": 0.99,
                        "neutral": 0,
                        "negative": 0.01
                      },
                      "text": "Punishment Park is a brilliant piece of cinema.  ",
                      "offset": 0,
                      "length": 49
                    }
                  ],
                  "5": []
                },
                {
                  "0": "Shot in the Southern California desert using his patent faux documentary style, Watkins creates a film like no other.  ",
                  "1": "neutral",
                  "3": {
                    "positive": 0.22,
                    "neutral": 0.48,
                    "negative": 0.3
                  },
                  "4": [
                    {
                      "sentiment": "neutral",
                      "confidenceScores": {
                        "positive": 0.22,
                        "neutral": 0.48,
                        "negative": 0.3
                      },
                      "text": "Shot in the Southern California desert using his patent faux documentary style, Watkins creates a film like no other.  ",
                      "offset": 0,
                      "length": 119
                    }
                  ],
                  "5": []
                },
                {
                  "0": "This is one of Peter Watkins most accessible films.  ",
                  "1": "positive",
                  "3": {
                    "positive": 0.86,
                    "neutral": 0.12,
                    "negative": 0.02
                  },
                  "4": [
                    {
                      "sentiment": "positive",
                      "confidenceScores": {
                        "positive": 0.86,
                        "neutral": 0.12,
                        "negative": 0.02
                      },
                      "text": "This is one of Peter Watkins most accessible films.  ",
                      "offset": 0,
                      "length": 53
                    }
                  ],
                  "5": []
                },
                {
                  "0": "I advise you to look out for it.  ",
                  "1": "neutral",
                  "3": {
                    "positive": 0.16,
                    "neutral": 0.78,
                    "negative": 0.06
                  },
                  "4": [
                    {
                      "sentiment": "neutral",
                      "confidenceScores": {
                        "positive": 0.16,
                        "neutral": 0.78,
                        "negative": 0.06
                      },
                      "text": "I advise you to look out for it.  ",
                      "offset": 0,
                      "length": 34
                    }
                  ],
                  "5": []
                },
                {
                  "0": "You wont regret it!  ",
                  "1": "negative",
                  "3": {
                    "positive": 0.06,
                    "neutral": 0.03,
                    "negative": 0.91
                  },
                  "4": [
                    {
                      "sentiment": "negative",
                      "confidenceScores": {
                        "positive": 0.06,
                        "neutral": 0.03,
                        "negative": 0.91
                      },
                      "text": "You wont regret it!  ",
                      "offset": 0,
                      "length": 21
                    }
                  ],
                  "5": []
                },
                {
                  "0": "Highly recommended A+  ",
                  "1": "positive",
                  "3": {
                    "positive": 1,
                    "neutral": 0,
                    "negative": 0
                  },
                  "4": [
                    {
                      "sentiment": "positive",
                      "confidenceScores": {
                        "positive": 1,
                        "neutral": 0,
                        "negative": 0
                      },
                      "text": "Highly recommended A+  ",
                      "offset": 0,
                      "length": 23
                    }
                  ],
                  "5": []
                },
                {
                  "0": "Well... Just if you keep thinking how bad it is.  ",
                  "1": "negative",
                  "3": {
                    "positive": 0,
                    "neutral": 0,
                    "negative": 0.99
                  },
                  "4": [
                    {
                      "sentiment": "neutral",
                      "confidenceScores": {
                        "positive": 0.32,
                        "neutral": 0.58,
                        "negative": 0.1
                      },
                      "text": "Well... ",
                      "offset": 0,
                      "length": 8
                    },
                    {
                      "sentiment": "negative",
                      "confidenceScores": {
                        "positive": 0,
                        "neutral": 0,
                        "negative": 0.99
                      },
                      "text": "Just if you keep thinking how bad it is.  ",
                      "offset": 8,
                      "length": 42
                    }
                  ],
                  "5": []
                },
                {
                  "0": "It's a mediocre, miserable, hollow, laughable and predictable piece of garbage.  ",
                  "1": "negative",
                  "3": {
                    "positive": 0.01,
                    "neutral": 0,
                    "negative": 0.99
                  },
                  "4": [
                    {
                      "sentiment": "negative",
                      "confidenceScores": {
                        "positive": 0.01,
                        "neutral": 0,
                        "negative": 0.99
                      },
                      "text": "It's a mediocre, miserable, hollow, laughable and predictable piece of garbage.  ",
                      "offset": 0,
                      "length": 81
                    }
                  ],
                  "5": []
                },
                {
                  "0": "It's a case of 'so bad it is laughable'.  ",
                  "1": "negative",
                  "3": {
                    "positive": 0,
                    "neutral": 0,
                    "negative": 0.99
                  },
                  "4": [
                    {
                      "sentiment": "negative",
                      "confidenceScores": {
                        "positive": 0,
                        "neutral": 0,
                        "negative": 0.99
                      },
                      "text": "It's a case of 'so bad it is laughable'.  ",
                      "offset": 0,
                      "length": 42
                    }
                  ],
                  "5": []
                },
                {
                  "0": ") very bad performance plays Angela Bennett, a computer expert who is at home all the time.  ",
                  "1": "negative",
                  "3": {
                    "positive": 0,
                    "neutral": 0,
                    "negative": 0.99
                  },
                  "4": [
                    {
                      "sentiment": "negative",
                      "confidenceScores": {
                        "positive": 0,
                        "neutral": 0,
                        "negative": 0.99
                      },
                      "text": ") very bad performance plays Angela Bennett, a computer expert who is at home all the time.  ",
                      "offset": 0,
                      "length": 93
                    }
                  ],
                  "5": []
                },
                {
                  "0": "It is a film about nothing, just a pretext to show ridiculous action scenes.  ",
                  "1": "negative",
                  "3": {
                    "positive": 0,
                    "neutral": 0,
                    "negative": 0.99
                  },
                  "4": [
                    {
                      "sentiment": "negative",
                      "confidenceScores": {
                        "positive": 0,
                        "neutral": 0,
                        "negative": 0.99
                      },
                      "text": "It is a film about nothing, just a pretext to show ridiculous action scenes.  ",
                      "offset": 0,
                      "length": 78
                    }
                  ],
                  "5": []
                },
                {
                  "0": "How awful she is!  ",
                  "1": "negative",
                  "3": {
                    "positive": 0.01,
                    "neutral": 0,
                    "negative": 0.99
                  },
                  "4": [
                    {
                      "sentiment": "negative",
                      "confidenceScores": {
                        "positive": 0.01,
                        "neutral": 0,
                        "negative": 0.99
                      },
                      "text": "How awful she is!  ",
                      "offset": 0,
                      "length": 19
                    }
                  ],
                  "5": []
                },
                {
                  "0": "But she is still a bad actress, repeating her robotic face moves in each of her pictures.  ",
                  "1": "negative",
                  "3": {
                    "positive": 0,
                    "neutral": 0,
                    "negative": 0.99
                  },
                  "4": [
                    {
                      "sentiment": "negative",
                      "confidenceScores": {
                        "positive": 0,
                        "neutral": 0,
                        "negative": 0.99
                      },
                      "text": "But she is still a bad actress, repeating her robotic face moves in each of her pictures.  ",
                      "offset": 0,
                      "length": 91
                    }
                  ],
                  "5": []
                },
                {
                  "0": "The results, well, are a shame.  ",
                  "1": "negative",
                  "3": {
                    "positive": 0,
                    "neutral": 0,
                    "negative": 0.99
                  },
                  "4": [
                    {
                      "sentiment": "negative",
                      "confidenceScores": {
                        "positive": 0,
                        "neutral": 0,
                        "negative": 0.99
                      },
                      "text": "The results, well, are a shame.  ",
                      "offset": 0,
                      "length": 33
                    }
                  ],
                  "5": []
                },
                {
                  "0": "DELETE this film from your mind!  ",
                  "1": "negative",
                  "3": {
                    "positive": 0.05,
                    "neutral": 0.21,
                    "negative": 0.74
                  },
                  "4": [
                    {
                      "sentiment": "negative",
                      "confidenceScores": {
                        "positive": 0.05,
                        "neutral": 0.21,
                        "negative": 0.74
                      },
                      "text": "DELETE this film from your mind!  ",
                      "offset": 0,
                      "length": 34
                    }
                  ],
                  "5": []
                },
                {
                  "0": "One of the worst shows of all time.  ",
                  "1": "negative",
                  "3": {
                    "positive": 0.01,
                    "neutral": 0,
                    "negative": 0.99
                  },
                  "4": [
                    {
                      "sentiment": "negative",
                      "confidenceScores": {
                        "positive": 0.01,
                        "neutral": 0,
                        "negative": 0.99
                      },
                      "text": "One of the worst shows of all time.  ",
                      "offset": 0,
                      "length": 37
                    }
                  ],
                  "5": []
                },
                {
                  "0": "The show would begin with smart ass ed comments to each other that would be totally off the wall and uncalled for.  ",
                  "1": "negative",
                  "3": {
                    "positive": 0,
                    "neutral": 0.01,
                    "negative": 0.99
                  },
                  "4": [
                    {
                      "sentiment": "negative",
                      "confidenceScores": {
                        "positive": 0,
                        "neutral": 0.01,
                        "negative": 0.99
                      },
                      "text": "The show would begin with smart ass ed comments to each other that would be totally off the wall and uncalled for.  ",
                      "offset": 0,
                      "length": 116
                    }
                  ],
                  "5": []
                },
                {
                  "0": "The fat computer geek was unbelievable, the bible thumper, the bad-ass girl, who are these actors???  ",
                  "1": "negative",
                  "3": {
                    "positive": 0.01,
                    "neutral": 0.01,
                    "negative": 0.98
                  },
                  "4": [
                    {
                      "sentiment": "negative",
                      "confidenceScores": {
                        "positive": 0.01,
                        "neutral": 0.01,
                        "negative": 0.98
                      },
                      "text": "The fat computer geek was unbelievable, the bible thumper, the bad-ass girl, who are these actors???  ",
                      "offset": 0,
                      "length": 102
                    }
                  ],
                  "5": []
                },
                {
                  "0": "Never heard of any of them except Cole who was totally unbelievable in the part.  ",
                  "1": "negative",
                  "3": {
                    "positive": 0.04,
                    "neutral": 0.01,
                    "negative": 0.96
                  },
                  "4": [
                    {
                      "sentiment": "negative",
                      "confidenceScores": {
                        "positive": 0.04,
                        "neutral": 0.01,
                        "negative": 0.96
                      },
                      "text": "Never heard of any of them except Cole who was totally unbelievable in the part.  ",
                      "offset": 0,
                      "length": 82
                    }
                  ],
                  "5": []
                },
                {
                  "0": "\"Every time he opened his mouth you expect to hear, \"\"you see kids...\"\" Pulling the plug was a mercy killing for this horrible show.  \"",
                  "1": "negative",
                  "3": {
                    "positive": 0.01,
                    "neutral": 0,
                    "negative": 0.99
                  },
                  "4": [
                    {
                      "sentiment": "neutral",
                      "confidenceScores": {
                        "positive": 0.03,
                        "neutral": 0.84,
                        "negative": 0.13
                      },
                      "text": "\"Every time he opened his mouth you expect to hear, \"\"you see kids...\"\" ",
                      "offset": 0,
                      "length": 72
                    },
                    {
                      "sentiment": "negative",
                      "confidenceScores": {
                        "positive": 0.01,
                        "neutral": 0,
                        "negative": 0.99
                      },
                      "text": "Pulling the plug was a mercy killing for this horrible show.  ",
                      "offset": 72,
                      "length": 62
                    },
                    {
                      "sentiment": "neutral",
                      "confidenceScores": {
                        "positive": 0.27,
                        "neutral": 0.59,
                        "negative": 0.14
                      },
                      "text": "\"",
                      "offset": 134,
                      "length": 1
                    }
                  ],
                  "5": []
                },
                {
                  "0": "The stories were as unbelievable as the actors.  ",
                  "1": "negative",
                  "3": {
                    "positive": 0.17,
                    "neutral": 0.01,
                    "negative": 0.82
                  },
                  "4": [
                    {
                      "sentiment": "negative",
                      "confidenceScores": {
                        "positive": 0.17,
                        "neutral": 0.01,
                        "negative": 0.82
                      },
                      "text": "The stories were as unbelievable as the actors.  ",
                      "offset": 0,
                      "length": 49
                    }
                  ],
                  "5": []
                },
                {
                  "0": "Lame would be the best way to describe it.  ",
                  "1": "negative",
                  "3": {
                    "positive": 0.01,
                    "neutral": 0,
                    "negative": 0.99
                  },
                  "4": [
                    {
                      "sentiment": "negative",
                      "confidenceScores": {
                        "positive": 0.01,
                        "neutral": 0,
                        "negative": 0.99
                      },
                      "text": "Lame would be the best way to describe it.  ",
                      "offset": 0,
                      "length": 44
                    }
                  ],
                  "5": []
                },
                {
                  "0": "Stanwyck and Morgan are perfectly cast in what is, in many ways, a modern equivalent of Dickens' Christmas Carol in its sensibility.  ",
                  "1": "positive",
                  "3": {
                    "positive": 0.62,
                    "neutral": 0.35,
                    "negative": 0.03
                  },
                  "4": [
                    {
                      "sentiment": "positive",
                      "confidenceScores": {
                        "positive": 0.62,
                        "neutral": 0.35,
                        "negative": 0.03
                      },
                      "text": "Stanwyck and Morgan are perfectly cast in what is, in many ways, a modern equivalent of Dickens' Christmas Carol in its sensibility.  ",
                      "offset": 0,
                      "length": 134
                    }
                  ],
                  "5": []
                },
                {
                  "0": "The success of the film depends on the casting of Sydney Greenstreet as the Alexander Yardley character.  ",
                  "1": "neutral",
                  "3": {
                    "positive": 0.39,
                    "neutral": 0.45,
                    "negative": 0.16
                  },
                  "4": [
                    {
                      "sentiment": "neutral",
                      "confidenceScores": {
                        "positive": 0.39,
                        "neutral": 0.45,
                        "negative": 0.16
                      },
                      "text": "The success of the film depends on the casting of Sydney Greenstreet as the Alexander Yardley character.  ",
                      "offset": 0,
                      "length": 106
                    }
                  ],
                  "5": []
                },
                {
                  "0": "The attractive set used throughout most of the film is an eye-pleasing gem.  ",
                  "1": "positive",
                  "3": {
                    "positive": 0.99,
                    "neutral": 0,
                    "negative": 0
                  },
                  "4": [
                    {
                      "sentiment": "positive",
                      "confidenceScores": {
                        "positive": 0.99,
                        "neutral": 0,
                        "negative": 0
                      },
                      "text": "The attractive set used throughout most of the film is an eye-pleasing gem.  ",
                      "offset": 0,
                      "length": 77
                    }
                  ],
                  "5": []
                },
                {
                  "0": "Im big fan of RPG games too, but this movie, its a disgrace to any self-respecting RPGer there is.  ",
                  "1": "negative",
                  "3": {
                    "positive": 0,
                    "neutral": 0,
                    "negative": 0.99
                  },
                  "4": [
                    {
                      "sentiment": "negative",
                      "confidenceScores": {
                        "positive": 0,
                        "neutral": 0,
                        "negative": 0.99
                      },
                      "text": "Im big fan of RPG games too, but this movie, its a disgrace to any self-respecting RPGer there is.  ",
                      "offset": 0,
                      "length": 100
                    }
                  ],
                  "5": []
                },
                {
                  "0": "The lines, the cuts, the audio, everything is wrong.  ",
                  "1": "negative",
                  "3": {
                    "positive": 0,
                    "neutral": 0,
                    "negative": 0.99
                  },
                  "4": [
                    {
                      "sentiment": "negative",
                      "confidenceScores": {
                        "positive": 0,
                        "neutral": 0,
                        "negative": 0.99
                      },
                      "text": "The lines, the cuts, the audio, everything is wrong.  ",
                      "offset": 0,
                      "length": 54
                    }
                  ],
                  "5": []
                },
                {
                  "0": "You can find better movies at youtube.  ",
                  "1": "positive",
                  "3": {
                    "positive": 0.54,
                    "neutral": 0.4,
                    "negative": 0.06
                  },
                  "4": [
                    {
                      "sentiment": "positive",
                      "confidenceScores": {
                        "positive": 0.54,
                        "neutral": 0.4,
                        "negative": 0.06
                      },
                      "text": "You can find better movies at youtube.  ",
                      "offset": 0,
                      "length": 40
                    }
                  ],
                  "5": []
                },
                {
                  "0": "Top line: Don't waste your time and money on this one, its as bad as it comes.  ",
                  "1": "negative",
                  "3": {
                    "positive": 0.02,
                    "neutral": 0,
                    "negative": 0.98
                  },
                  "4": [
                    {
                      "sentiment": "negative",
                      "confidenceScores": {
                        "positive": 0.02,
                        "neutral": 0,
                        "negative": 0.98
                      },
                      "text": "Top line: Don't waste your time and money on this one, its as bad as it comes.  ",
                      "offset": 0,
                      "length": 80
                    }
                  ],
                  "5": []
                },
                {
                  "0": "\"A Lassie movie which should have been \"\"put to sleep\"\".... FOREVER.  \"",
                  "1": "negative",
                  "3": {
                    "positive": 0.07,
                    "neutral": 0.01,
                    "negative": 0.92
                  },
                  "4": [
                    {
                      "sentiment": "negative",
                      "confidenceScores": {
                        "positive": 0.07,
                        "neutral": 0.01,
                        "negative": 0.92
                      },
                      "text": "\"A Lassie movie which should have been \"\"put to sleep\"\".... ",
                      "offset": 0,
                      "length": 60
                    },
                    {
                      "sentiment": "neutral",
                      "confidenceScores": {
                        "positive": 0.05,
                        "neutral": 0.88,
                        "negative": 0.07
                      },
                      "text": "FOREVER.  ",
                      "offset": 60,
                      "length": 10
                    },
                    {
                      "sentiment": "neutral",
                      "confidenceScores": {
                        "positive": 0.27,
                        "neutral": 0.59,
                        "negative": 0.14
                      },
                      "text": "\"",
                      "offset": 70,
                      "length": 1
                    }
                  ],
                  "5": []
                },
                {
                  "0": "That's how I'd describe this painfully dreary time-waster of a film.  ",
                  "1": "negative",
                  "3": {
                    "positive": 0,
                    "neutral": 0,
                    "negative": 0.99
                  },
                  "4": [
                    {
                      "sentiment": "negative",
                      "confidenceScores": {
                        "positive": 0,
                        "neutral": 0,
                        "negative": 0.99
                      },
                      "text": "That's how I'd describe this painfully dreary time-waster of a film.  ",
                      "offset": 0,
                      "length": 70
                    }
                  ],
                  "5": []
                },
                {
                  "0": "So mediocre in every aspect that it just becomes a dull, uninteresting mess, this is one of the most forgettable movies I've seen.  ",
                  "1": "negative",
                  "3": {
                    "positive": 0.01,
                    "neutral": 0,
                    "negative": 0.99
                  },
                  "4": [
                    {
                      "sentiment": "negative",
                      "confidenceScores": {
                        "positive": 0.01,
                        "neutral": 0,
                        "negative": 0.99
                      },
                      "text": "So mediocre in every aspect that it just becomes a dull, uninteresting mess, this is one of the most forgettable movies I've seen.  ",
                      "offset": 0,
                      "length": 132
                    }
                  ],
                  "5": []
                },
                {
                  "0": "\"It isn't even an achievement as a \"\"so-bad-it's-good\"\" or \"\"so-bad-it's-memorable\"\" movie.  \"",
                  "1": "negative",
                  "3": {
                    "positive": 0.01,
                    "neutral": 0,
                    "negative": 0.99
                  },
                  "4": [
                    {
                      "sentiment": "negative",
                      "confidenceScores": {
                        "positive": 0.01,
                        "neutral": 0,
                        "negative": 0.99
                      },
                      "text": "\"It isn't even an achievement as a \"\"so-bad-it's-good\"\" or \"\"so-bad-it's-memorable\"\" movie.  ",
                      "offset": 0,
                      "length": 93
                    },
                    {
                      "sentiment": "neutral",
                      "confidenceScores": {
                        "positive": 0.27,
                        "neutral": 0.59,
                        "negative": 0.14
                      },
                      "text": "\"",
                      "offset": 93,
                      "length": 1
                    }
                  ],
                  "5": []
                },
                {
                  "0": "It's an empty, hollow shell of a movie.  ",
                  "1": "negative",
                  "3": {
                    "positive": 0.01,
                    "neutral": 0.1,
                    "negative": 0.9
                  },
                  "4": [
                    {
                      "sentiment": "negative",
                      "confidenceScores": {
                        "positive": 0.01,
                        "neutral": 0.1,
                        "negative": 0.9
                      },
                      "text": "It's an empty, hollow shell of a movie.  ",
                      "offset": 0,
                      "length": 41
                    }
                  ],
                  "5": []
                },
                {
                  "0": "Seriously, it's not worth wasting your, or your kid's time on.  ",
                  "1": "negative",
                  "3": {
                    "positive": 0.21,
                    "neutral": 0.15,
                    "negative": 0.65
                  },
                  "4": [
                    {
                      "sentiment": "negative",
                      "confidenceScores": {
                        "positive": 0.21,
                        "neutral": 0.15,
                        "negative": 0.65
                      },
                      "text": "Seriously, it's not worth wasting your, or your kid's time on.  ",
                      "offset": 0,
                      "length": 64
                    }
                  ],
                  "5": []
                },
                {
                  "0": "Avoid, avoid, avoid!  ",
                  "1": "negative",
                  "3": {
                    "positive": 0.02,
                    "neutral": 0.26,
                    "negative": 0.72
                  },
                  "4": [
                    {
                      "sentiment": "negative",
                      "confidenceScores": {
                        "positive": 0.02,
                        "neutral": 0.26,
                        "negative": 0.72
                      },
                      "text": "Avoid, avoid, avoid!  ",
                      "offset": 0,
                      "length": 22
                    }
                  ],
                  "5": []
                },
                {
                  "0": "It will drive you barking mad!  ",
                  "1": "negative",
                  "3": {
                    "positive": 0.01,
                    "neutral": 0.01,
                    "negative": 0.98
                  },
                  "4": [
                    {
                      "sentiment": "negative",
                      "confidenceScores": {
                        "positive": 0.01,
                        "neutral": 0.01,
                        "negative": 0.98
                      },
                      "text": "It will drive you barking mad!  ",
                      "offset": 0,
                      "length": 32
                    }
                  ],
                  "5": []
                },
                {
                  "0": "The transfers are very good.  ",
                  "1": "positive",
                  "3": {
                    "positive": 1,
                    "neutral": 0,
                    "negative": 0
                  },
                  "4": [
                    {
                      "sentiment": "positive",
                      "confidenceScores": {
                        "positive": 1,
                        "neutral": 0,
                        "negative": 0
                      },
                      "text": "The transfers are very good.  ",
                      "offset": 0,
                      "length": 30
                    }
                  ],
                  "5": []
                },
                {
                  "0": "Very nice and relaxing late night viewing.  ",
                  "1": "positive",
                  "3": {
                    "positive": 1,
                    "neutral": 0,
                    "negative": 0
                  },
                  "4": [
                    {
                      "sentiment": "positive",
                      "confidenceScores": {
                        "positive": 1,
                        "neutral": 0,
                        "negative": 0
                      },
                      "text": "Very nice and relaxing late night viewing.  ",
                      "offset": 0,
                      "length": 44
                    }
                  ],
                  "5": []
                },
                {
                  "0": "The movie is full of wonderful dancing (hence the title!  ",
                  "1": "positive",
                  "3": {
                    "positive": 0.99,
                    "neutral": 0,
                    "negative": 0.01
                  },
                  "4": [
                    {
                      "sentiment": "positive",
                      "confidenceScores": {
                        "positive": 0.99,
                        "neutral": 0,
                        "negative": 0.01
                      },
                      "text": "The movie is full of wonderful dancing (hence the title!  ",
                      "offset": 0,
                      "length": 58
                    }
                  ],
                  "5": []
                },
                {
                  "0": ") some great music, and terrific scenery.  ",
                  "1": "positive",
                  "3": {
                    "positive": 1,
                    "neutral": 0,
                    "negative": 0
                  },
                  "4": [
                    {
                      "sentiment": "positive",
                      "confidenceScores": {
                        "positive": 1,
                        "neutral": 0,
                        "negative": 0
                      },
                      "text": ") some great music, and terrific scenery.  ",
                      "offset": 0,
                      "length": 43
                    }
                  ],
                  "5": []
                },
                {
                  "0": "It handles some tough issues with dignity and grace, and, of course, has (shocking spoiler here!  ",
                  "1": "negative",
                  "3": {
                    "positive": 0.01,
                    "neutral": 0,
                    "negative": 0.99
                  },
                  "4": [
                    {
                      "sentiment": "negative",
                      "confidenceScores": {
                        "positive": 0.01,
                        "neutral": 0,
                        "negative": 0.99
                      },
                      "text": "It handles some tough issues with dignity and grace, and, of course, has (shocking spoiler here!  ",
                      "offset": 0,
                      "length": 98
                    }
                  ],
                  "5": []
                },
                {
                  "0": ") a happy, wonderful, feel good ending!  ",
                  "1": "positive",
                  "3": {
                    "positive": 1,
                    "neutral": 0,
                    "negative": 0
                  },
                  "4": [
                    {
                      "sentiment": "positive",
                      "confidenceScores": {
                        "positive": 1,
                        "neutral": 0,
                        "negative": 0
                      },
                      "text": ") a happy, wonderful, feel good ending!  ",
                      "offset": 0,
                      "length": 41
                    }
                  ],
                  "5": []
                },
                {
                  "0": "The point is the journey, a journey that touches every member of the family.  ",
                  "1": "neutral",
                  "3": {
                    "positive": 0.18,
                    "neutral": 0.79,
                    "negative": 0.03
                  },
                  "4": [
                    {
                      "sentiment": "neutral",
                      "confidenceScores": {
                        "positive": 0.18,
                        "neutral": 0.79,
                        "negative": 0.03
                      },
                      "text": "The point is the journey, a journey that touches every member of the family.  ",
                      "offset": 0,
                      "length": 78
                    }
                  ],
                  "5": []
                },
                {
                  "0": "It's one of the movies I need to see whenever it comes on TV...never mind the fact that I already have it memorized!  ",
                  "1": "positive",
                  "3": {
                    "positive": 0.93,
                    "neutral": 0.05,
                    "negative": 0.02
                  },
                  "4": [
                    {
                      "sentiment": "positive",
                      "confidenceScores": {
                        "positive": 0.93,
                        "neutral": 0.05,
                        "negative": 0.02
                      },
                      "text": "It's one of the movies I need to see whenever it comes on TV...",
                      "offset": 0,
                      "length": 63
                    },
                    {
                      "sentiment": "neutral",
                      "confidenceScores": {
                        "positive": 0.17,
                        "neutral": 0.72,
                        "negative": 0.12
                      },
                      "text": "never mind the fact that I already have it memorized!  ",
                      "offset": 63,
                      "length": 55
                    }
                  ],
                  "5": []
                },
                {
                  "0": "Nothing new there.  ",
                  "1": "neutral",
                  "3": {
                    "positive": 0.08,
                    "neutral": 0.51,
                    "negative": 0.41
                  },
                  "4": [
                    {
                      "sentiment": "neutral",
                      "confidenceScores": {
                        "positive": 0.08,
                        "neutral": 0.51,
                        "negative": 0.41
                      },
                      "text": "Nothing new there.  ",
                      "offset": 0,
                      "length": 20
                    }
                  ],
                  "5": []
                },
                {
                  "0": "That was done in the second movie.  ",
                  "1": "neutral",
                  "3": {
                    "positive": 0.04,
                    "neutral": 0.8,
                    "negative": 0.16
                  },
                  "4": [
                    {
                      "sentiment": "neutral",
                      "confidenceScores": {
                        "positive": 0.04,
                        "neutral": 0.8,
                        "negative": 0.16
                      },
                      "text": "That was done in the second movie.  ",
                      "offset": 0,
                      "length": 36
                    }
                  ],
                  "5": []
                },
                {
                  "0": "The movie has almost no action scenes in it and very little comedy.  ",
                  "1": "negative",
                  "3": {
                    "positive": 0.01,
                    "neutral": 0.01,
                    "negative": 0.98
                  },
                  "4": [
                    {
                      "sentiment": "negative",
                      "confidenceScores": {
                        "positive": 0.01,
                        "neutral": 0.01,
                        "negative": 0.98
                      },
                      "text": "The movie has almost no action scenes in it and very little comedy.  ",
                      "offset": 0,
                      "length": 69
                    }
                  ],
                  "5": []
                },
                {
                  "0": "The plot has more holes than a pair of fishnet stockings and the direction and editing is astonishingly ham fisted.  ",
                  "1": "negative",
                  "3": {
                    "positive": 0.01,
                    "neutral": 0,
                    "negative": 0.99
                  },
                  "4": [
                    {
                      "sentiment": "negative",
                      "confidenceScores": {
                        "positive": 0.01,
                        "neutral": 0,
                        "negative": 0.99
                      },
                      "text": "The plot has more holes than a pair of fishnet stockings and the direction and editing is astonishingly ham fisted.  ",
                      "offset": 0,
                      "length": 117
                    }
                  ],
                  "5": []
                },
                {
                  "0": "What on earth is Irons doing in this film?  ",
                  "1": "negative",
                  "3": {
                    "positive": 0.05,
                    "neutral": 0.25,
                    "negative": 0.7
                  },
                  "4": [
                    {
                      "sentiment": "negative",
                      "confidenceScores": {
                        "positive": 0.05,
                        "neutral": 0.25,
                        "negative": 0.7
                      },
                      "text": "What on earth is Irons doing in this film?  ",
                      "offset": 0,
                      "length": 44
                    }
                  ],
                  "5": []
                },
                {
                  "0": "I just saw this film and I recommend it.  ",
                  "1": "positive",
                  "3": {
                    "positive": 0.99,
                    "neutral": 0,
                    "negative": 0.01
                  },
                  "4": [
                    {
                      "sentiment": "positive",
                      "confidenceScores": {
                        "positive": 0.99,
                        "neutral": 0,
                        "negative": 0.01
                      },
                      "text": "I just saw this film and I recommend it.  ",
                      "offset": 0,
                      "length": 42
                    }
                  ],
                  "5": []
                },
                {
                  "0": "It has a very good plot, it holds your complete attention, the acting is superb, Tom Wilkinson was fantastic and Emily Watson was also very good.  ",
                  "1": "positive",
                  "3": {
                    "positive": 1,
                    "neutral": 0,
                    "negative": 0
                  },
                  "4": [
                    {
                      "sentiment": "positive",
                      "confidenceScores": {
                        "positive": 1,
                        "neutral": 0,
                        "negative": 0
                      },
                      "text": "It has a very good plot, it holds your complete attention, the acting is superb, Tom Wilkinson was fantastic and Emily Watson was also very good.  ",
                      "offset": 0,
                      "length": 147
                    }
                  ],
                  "5": []
                },
                {
                  "0": "A very good film indeed, about great and unconditional love.  ",
                  "1": "positive",
                  "3": {
                    "positive": 1,
                    "neutral": 0,
                    "negative": 0
                  },
                  "4": [
                    {
                      "sentiment": "positive",
                      "confidenceScores": {
                        "positive": 1,
                        "neutral": 0,
                        "negative": 0
                      },
                      "text": "A very good film indeed, about great and unconditional love.  ",
                      "offset": 0,
                      "length": 62
                    }
                  ],
                  "5": []
                },
                {
                  "0": "Tom Wilkinson's character is a man who is not prepared for the ordeal that is about to begin, but he takes the matter in hand as the story progresses, and this great actor gives a performance that makes you feel the character's anguish and suffering.  ",
                  "1": "positive",
                  "3": {
                    "positive": 0.78,
                    "neutral": 0.01,
                    "negative": 0.22
                  },
                  "4": [
                    {
                      "sentiment": "positive",
                      "confidenceScores": {
                        "positive": 0.78,
                        "neutral": 0.01,
                        "negative": 0.22
                      },
                      "text": "Tom Wilkinson's character is a man who is not prepared for the ordeal that is about to begin, but he takes the matter in hand as the story progresses, and this great actor gives a performance that makes you feel the character's anguish and suffering.  ",
                      "offset": 0,
                      "length": 252
                    }
                  ],
                  "5": []
                },
                {
                  "0": "Emily Watson's character is very strong, and she has only to give a quick glance and you understand everything.  ",
                  "1": "positive",
                  "3": {
                    "positive": 0.67,
                    "neutral": 0.31,
                    "negative": 0.02
                  },
                  "4": [
                    {
                      "sentiment": "positive",
                      "confidenceScores": {
                        "positive": 0.67,
                        "neutral": 0.31,
                        "negative": 0.02
                      },
                      "text": "Emily Watson's character is very strong, and she has only to give a quick glance and you understand everything.  ",
                      "offset": 0,
                      "length": 113
                    }
                  ],
                  "5": []
                },
                {
                  "0": "Despite the pans of reviewers, I liked this movie.  ",
                  "1": "positive",
                  "3": {
                    "positive": 0.97,
                    "neutral": 0,
                    "negative": 0.03
                  },
                  "4": [
                    {
                      "sentiment": "positive",
                      "confidenceScores": {
                        "positive": 0.97,
                        "neutral": 0,
                        "negative": 0.03
                      },
                      "text": "Despite the pans of reviewers, I liked this movie.  ",
                      "offset": 0,
                      "length": 52
                    }
                  ],
                  "5": []
                },
                {
                  "0": "In fact, I liked it better than Interview With a Vampire and I liked this Lestat (Stuart Townsend) better than Cruise's attempt.  ",
                  "1": "positive",
                  "3": {
                    "positive": 0.98,
                    "neutral": 0,
                    "negative": 0.02
                  },
                  "4": [
                    {
                      "sentiment": "positive",
                      "confidenceScores": {
                        "positive": 0.98,
                        "neutral": 0,
                        "negative": 0.02
                      },
                      "text": "In fact, I liked it better than Interview With a Vampire and I liked this Lestat (Stuart Townsend) better than Cruise's attempt.  ",
                      "offset": 0,
                      "length": 130
                    }
                  ],
                  "5": []
                },
                {
                  "0": "Aailiyah was pretty good as Akasha, in places compelling (her first entrance and mini dance scene).  ",
                  "1": "positive",
                  "3": {
                    "positive": 0.99,
                    "neutral": 0,
                    "negative": 0
                  },
                  "4": [
                    {
                      "sentiment": "positive",
                      "confidenceScores": {
                        "positive": 0.99,
                        "neutral": 0,
                        "negative": 0
                      },
                      "text": "Aailiyah was pretty good as Akasha, in places compelling (her first entrance and mini dance scene).  ",
                      "offset": 0,
                      "length": 101
                    }
                  ],
                  "5": []
                },
                {
                  "0": "I'm a big fan of this series mostly due to Anne Rice's style, sensitivities and treatments.  ",
                  "1": "positive",
                  "3": {
                    "positive": 0.52,
                    "neutral": 0.44,
                    "negative": 0.04
                  },
                  "4": [
                    {
                      "sentiment": "positive",
                      "confidenceScores": {
                        "positive": 0.52,
                        "neutral": 0.44,
                        "negative": 0.04
                      },
                      "text": "I'm a big fan of this series mostly due to Anne Rice's style, sensitivities and treatments.  ",
                      "offset": 0,
                      "length": 93
                    }
                  ],
                  "5": []
                },
                {
                  "0": "I guess I liked the details of his dysfunction--he was believable.  ",
                  "1": "negative",
                  "3": {
                    "positive": 0.42,
                    "neutral": 0.04,
                    "negative": 0.54
                  },
                  "4": [
                    {
                      "sentiment": "negative",
                      "confidenceScores": {
                        "positive": 0.42,
                        "neutral": 0.04,
                        "negative": 0.54
                      },
                      "text": "I guess I liked the details of his dysfunction--he was believable.  ",
                      "offset": 0,
                      "length": 68
                    }
                  ],
                  "5": []
                },
                {
                  "0": "The football scenes at the end were perplexing.  ",
                  "1": "negative",
                  "3": {
                    "positive": 0,
                    "neutral": 0,
                    "negative": 0.99
                  },
                  "4": [
                    {
                      "sentiment": "negative",
                      "confidenceScores": {
                        "positive": 0,
                        "neutral": 0,
                        "negative": 0.99
                      },
                      "text": "The football scenes at the end were perplexing.  ",
                      "offset": 0,
                      "length": 49
                    }
                  ],
                  "5": []
                },
                {
                  "0": "But I thought his acting was skilled.  ",
                  "1": "positive",
                  "3": {
                    "positive": 0.61,
                    "neutral": 0.14,
                    "negative": 0.25
                  },
                  "4": [
                    {
                      "sentiment": "positive",
                      "confidenceScores": {
                        "positive": 0.61,
                        "neutral": 0.14,
                        "negative": 0.25
                      },
                      "text": "But I thought his acting was skilled.  ",
                      "offset": 0,
                      "length": 39
                    }
                  ],
                  "5": []
                },
                {
                  "0": "Meredith M was better than all right.  ",
                  "1": "positive",
                  "3": {
                    "positive": 0.99,
                    "neutral": 0,
                    "negative": 0.01
                  },
                  "4": [
                    {
                      "sentiment": "positive",
                      "confidenceScores": {
                        "positive": 0.99,
                        "neutral": 0,
                        "negative": 0.01
                      },
                      "text": "Meredith M was better than all right.  ",
                      "offset": 0,
                      "length": 39
                    }
                  ],
                  "5": []
                },
                {
                  "0": "A very charming film with wonderful sentiment and heart.  ",
                  "1": "positive",
                  "3": {
                    "positive": 1,
                    "neutral": 0,
                    "negative": 0
                  },
                  "4": [
                    {
                      "sentiment": "positive",
                      "confidenceScores": {
                        "positive": 1,
                        "neutral": 0,
                        "negative": 0
                      },
                      "text": "A very charming film with wonderful sentiment and heart.  ",
                      "offset": 0,
                      "length": 58
                    }
                  ],
                  "5": []
                },
                {
                  "0": "It is rare when a film-maker takes the time to tell a worthy moral tale with care and love that doesn't fall into the trap of being overly syrupy or over indulgent.  ",
                  "1": "negative",
                  "3": {
                    "positive": 0.25,
                    "neutral": 0.01,
                    "negative": 0.74
                  },
                  "4": [
                    {
                      "sentiment": "negative",
                      "confidenceScores": {
                        "positive": 0.25,
                        "neutral": 0.01,
                        "negative": 0.74
                      },
                      "text": "It is rare when a film-maker takes the time to tell a worthy moral tale with care and love that doesn't fall into the trap of being overly syrupy or over indulgent.  ",
                      "offset": 0,
                      "length": 166
                    }
                  ],
                  "5": []
                },
                {
                  "0": "Nine out of ten for a truly lovely film.  ",
                  "1": "positive",
                  "3": {
                    "positive": 1,
                    "neutral": 0,
                    "negative": 0
                  },
                  "4": [
                    {
                      "sentiment": "positive",
                      "confidenceScores": {
                        "positive": 1,
                        "neutral": 0,
                        "negative": 0
                      },
                      "text": "Nine out of ten for a truly lovely film.  ",
                      "offset": 0,
                      "length": 42
                    }
                  ],
                  "5": []
                },
                {
                  "0": "This early film from future goremeister Lucio Fulci is a very good addition to the giallo sub-genre.  ",
                  "1": "positive",
                  "3": {
                    "positive": 0.99,
                    "neutral": 0,
                    "negative": 0
                  },
                  "4": [
                    {
                      "sentiment": "positive",
                      "confidenceScores": {
                        "positive": 0.99,
                        "neutral": 0,
                        "negative": 0
                      },
                      "text": "This early film from future goremeister Lucio Fulci is a very good addition to the giallo sub-genre.  ",
                      "offset": 0,
                      "length": 102
                    }
                  ],
                  "5": []
                },
                {
                  "0": "This is one of the best Italian thrillers of the early 70's.  ",
                  "1": "positive",
                  "3": {
                    "positive": 0.98,
                    "neutral": 0.01,
                    "negative": 0.01
                  },
                  "4": [
                    {
                      "sentiment": "positive",
                      "confidenceScores": {
                        "positive": 0.98,
                        "neutral": 0.01,
                        "negative": 0.01
                      },
                      "text": "This is one of the best Italian thrillers of the early 70's.  ",
                      "offset": 0,
                      "length": 62
                    }
                  ],
                  "5": []
                },
                {
                  "0": "A standout scene.  ",
                  "1": "positive",
                  "3": {
                    "positive": 0.93,
                    "neutral": 0.05,
                    "negative": 0.02
                  },
                  "4": [
                    {
                      "sentiment": "positive",
                      "confidenceScores": {
                        "positive": 0.93,
                        "neutral": 0.05,
                        "negative": 0.02
                      },
                      "text": "A standout scene.  ",
                      "offset": 0,
                      "length": 19
                    }
                  ],
                  "5": []
                },
                {
                  "0": "This scene is very strong and unpleasant.  ",
                  "1": "negative",
                  "3": {
                    "positive": 0,
                    "neutral": 0,
                    "negative": 1
                  },
                  "4": [
                    {
                      "sentiment": "negative",
                      "confidenceScores": {
                        "positive": 0,
                        "neutral": 0,
                        "negative": 1
                      },
                      "text": "This scene is very strong and unpleasant.  ",
                      "offset": 0,
                      "length": 43
                    }
                  ],
                  "5": []
                },
                {
                  "0": "Technically, the film is well made with impressive camera-work, solid acting and effective music from Riz Ortolani  particularly good is a recurring unaccompanied female vocal that sounds like it's coming from a distant hill.  ",
                  "1": "positive",
                  "3": {
                    "positive": 0.99,
                    "neutral": 0,
                    "negative": 0.01
                  },
                  "4": [
                    {
                      "sentiment": "positive",
                      "confidenceScores": {
                        "positive": 0.99,
                        "neutral": 0,
                        "negative": 0.01
                      },
                      "text": "Technically, the film is well made with impressive camera-work, solid acting and effective music from Riz Ortolani  particularly good is a recurring unaccompanied female vocal that sounds like it's coming from a distant hill.  ",
                      "offset": 0,
                      "length": 228
                    }
                  ],
                  "5": []
                },
                {
                  "0": "It's still wild stuff though and is highly recommended to fans of giallo cinema.  ",
                  "1": "positive",
                  "3": {
                    "positive": 0.99,
                    "neutral": 0,
                    "negative": 0.01
                  },
                  "4": [
                    {
                      "sentiment": "positive",
                      "confidenceScores": {
                        "positive": 0.99,
                        "neutral": 0,
                        "negative": 0.01
                      },
                      "text": "It's still wild stuff though and is highly recommended to fans of giallo cinema.  ",
                      "offset": 0,
                      "length": 82
                    }
                  ],
                  "5": []
                },
                {
                  "0": "The movie was very interesting from beginning to the end.  ",
                  "1": "positive",
                  "3": {
                    "positive": 0.99,
                    "neutral": 0,
                    "negative": 0.01
                  },
                  "4": [
                    {
                      "sentiment": "positive",
                      "confidenceScores": {
                        "positive": 0.99,
                        "neutral": 0,
                        "negative": 0.01
                      },
                      "text": "The movie was very interesting from beginning to the end.  ",
                      "offset": 0,
                      "length": 59
                    }
                  ],
                  "5": []
                },
                {
                  "0": "I liked the way Dustin Hoffman's character was ready to do just about everything to stay with his son.  ",
                  "1": "positive",
                  "3": {
                    "positive": 0.99,
                    "neutral": 0,
                    "negative": 0
                  },
                  "4": [
                    {
                      "sentiment": "positive",
                      "confidenceScores": {
                        "positive": 0.99,
                        "neutral": 0,
                        "negative": 0
                      },
                      "text": "I liked the way Dustin Hoffman's character was ready to do just about everything to stay with his son.  ",
                      "offset": 0,
                      "length": 104
                    }
                  ],
                  "5": []
                },
                {
                  "0": "This movie is also revealing.  ",
                  "1": "positive",
                  "3": {
                    "positive": 0.96,
                    "neutral": 0.02,
                    "negative": 0.02
                  },
                  "4": [
                    {
                      "sentiment": "positive",
                      "confidenceScores": {
                        "positive": 0.96,
                        "neutral": 0.02,
                        "negative": 0.02
                      },
                      "text": "This movie is also revealing.  ",
                      "offset": 0,
                      "length": 31
                    }
                  ],
                  "5": []
                },
                {
                  "0": "Personally, I think it shows that people should learn to find a compromise them self without involving other people into issue.  ",
                  "1": "negative",
                  "3": {
                    "positive": 0.23,
                    "neutral": 0.27,
                    "negative": 0.49
                  },
                  "4": [
                    {
                      "sentiment": "negative",
                      "confidenceScores": {
                        "positive": 0.23,
                        "neutral": 0.27,
                        "negative": 0.49
                      },
                      "text": "Personally, I think it shows that people should learn to find a compromise them self without involving other people into issue.  ",
                      "offset": 0,
                      "length": 129
                    }
                  ],
                  "5": []
                },
                {
                  "0": "And it was boring.  ",
                  "1": "negative",
                  "3": {
                    "positive": 0.01,
                    "neutral": 0.01,
                    "negative": 0.99
                  },
                  "4": [
                    {
                      "sentiment": "negative",
                      "confidenceScores": {
                        "positive": 0.01,
                        "neutral": 0.01,
                        "negative": 0.99
                      },
                      "text": "And it was boring.  ",
                      "offset": 0,
                      "length": 20
                    }
                  ],
                  "5": []
                },
                {
                  "0": "I am so tired of clichés that is just lazy writing, and here they come in thick and fast.  ",
                  "1": "negative",
                  "3": {
                    "positive": 0.01,
                    "neutral": 0,
                    "negative": 0.99
                  },
                  "4": [
                    {
                      "sentiment": "negative",
                      "confidenceScores": {
                        "positive": 0.01,
                        "neutral": 0,
                        "negative": 0.99
                      },
                      "text": "I am so tired of clichés that is just lazy writing, and here they come in thick and fast.  ",
                      "offset": 0,
                      "length": 91
                    }
                  ],
                  "5": []
                },
                {
                  "0": "PS the only scene in the movie that was cool is when the central character finds her room blown up.  ",
                  "1": "negative",
                  "3": {
                    "positive": 0.16,
                    "neutral": 0.01,
                    "negative": 0.83
                  },
                  "4": [
                    {
                      "sentiment": "negative",
                      "confidenceScores": {
                        "positive": 0.16,
                        "neutral": 0.01,
                        "negative": 0.83
                      },
                      "text": "PS the only scene in the movie that was cool is when the central character finds her room blown up.  ",
                      "offset": 0,
                      "length": 101
                    }
                  ],
                  "5": []
                },
                {
                  "0": "It's a fresh, subtle, and rather sublime effect.  ",
                  "1": "positive",
                  "3": {
                    "positive": 0.9,
                    "neutral": 0.09,
                    "negative": 0.02
                  },
                  "4": [
                    {
                      "sentiment": "positive",
                      "confidenceScores": {
                        "positive": 0.9,
                        "neutral": 0.09,
                        "negative": 0.02
                      },
                      "text": "It's a fresh, subtle, and rather sublime effect.  ",
                      "offset": 0,
                      "length": 50
                    }
                  ],
                  "5": []
                },
                {
                  "0": "\"An Italian reviewer called this \"\"a small, great film,\"\" and that's right.  \"",
                  "1": "positive",
                  "3": {
                    "positive": 0.98,
                    "neutral": 0.01,
                    "negative": 0.02
                  },
                  "4": [
                    {
                      "sentiment": "positive",
                      "confidenceScores": {
                        "positive": 0.98,
                        "neutral": 0.01,
                        "negative": 0.02
                      },
                      "text": "\"An Italian reviewer called this \"\"a small, great film,\"\" and that's right.  ",
                      "offset": 0,
                      "length": 77
                    },
                    {
                      "sentiment": "neutral",
                      "confidenceScores": {
                        "positive": 0.27,
                        "neutral": 0.59,
                        "negative": 0.14
                      },
                      "text": "\"",
                      "offset": 77,
                      "length": 1
                    }
                  ],
                  "5": []
                },
                {
                  "0": "All the actors give a wonderful performance, especially Jennifer Rubin as Jamie Harris, who changes from the nervous starlet in the beginning through the strange events she is part of to the cool star.  ",
                  "1": "positive",
                  "3": {
                    "positive": 0.99,
                    "neutral": 0,
                    "negative": 0.01
                  },
                  "4": [
                    {
                      "sentiment": "positive",
                      "confidenceScores": {
                        "positive": 0.99,
                        "neutral": 0,
                        "negative": 0.01
                      },
                      "text": "All the actors give a wonderful performance, especially Jennifer Rubin as Jamie Harris, who changes from the nervous starlet in the beginning through the strange events she is part of to the cool star.  ",
                      "offset": 0,
                      "length": 203
                    }
                  ],
                  "5": []
                },
                {
                  "0": "You learn a lot about the real inside emotions of people in this movie, and a lot about the movie business itself.  ",
                  "1": "positive",
                  "3": {
                    "positive": 0.47,
                    "neutral": 0.38,
                    "negative": 0.15
                  },
                  "4": [
                    {
                      "sentiment": "positive",
                      "confidenceScores": {
                        "positive": 0.47,
                        "neutral": 0.38,
                        "negative": 0.15
                      },
                      "text": "You learn a lot about the real inside emotions of people in this movie, and a lot about the movie business itself.  ",
                      "offset": 0,
                      "length": 116
                    }
                  ],
                  "5": []
                },
                {
                  "0": "\"The movie in movie situations in the beginning and through the game that is played with her by the \"\"acting coach\"\" are fascinating.  \"",
                  "1": "positive",
                  "3": {
                    "positive": 0.98,
                    "neutral": 0,
                    "negative": 0.01
                  },
                  "4": [
                    {
                      "sentiment": "positive",
                      "confidenceScores": {
                        "positive": 0.98,
                        "neutral": 0,
                        "negative": 0.01
                      },
                      "text": "\"The movie in movie situations in the beginning and through the game that is played with her by the \"\"acting coach\"\" are fascinating.  ",
                      "offset": 0,
                      "length": 135
                    },
                    {
                      "sentiment": "neutral",
                      "confidenceScores": {
                        "positive": 0.27,
                        "neutral": 0.59,
                        "negative": 0.14
                      },
                      "text": "\"",
                      "offset": 135,
                      "length": 1
                    }
                  ],
                  "5": []
                },
                {
                  "0": "Also the music by Mark Snow is possibly the best score I've ever heard.  ",
                  "1": "positive",
                  "3": {
                    "positive": 0.99,
                    "neutral": 0,
                    "negative": 0.01
                  },
                  "4": [
                    {
                      "sentiment": "positive",
                      "confidenceScores": {
                        "positive": 0.99,
                        "neutral": 0,
                        "negative": 0.01
                      },
                      "text": "Also the music by Mark Snow is possibly the best score I've ever heard.  ",
                      "offset": 0,
                      "length": 73
                    }
                  ],
                  "5": []
                },
                {
                  "0": "You won't forget this movie!  ",
                  "1": "positive",
                  "3": {
                    "positive": 0.86,
                    "neutral": 0.09,
                    "negative": 0.05
                  },
                  "4": [
                    {
                      "sentiment": "positive",
                      "confidenceScores": {
                        "positive": 0.86,
                        "neutral": 0.09,
                        "negative": 0.05
                      },
                      "text": "You won't forget this movie!  ",
                      "offset": 0,
                      "length": 30
                    }
                  ],
                  "5": []
                },
                {
                  "0": "Why was this film made?  ",
                  "1": "neutral",
                  "3": {
                    "positive": 0.05,
                    "neutral": 0.69,
                    "negative": 0.26
                  },
                  "4": [
                    {
                      "sentiment": "neutral",
                      "confidenceScores": {
                        "positive": 0.05,
                        "neutral": 0.69,
                        "negative": 0.26
                      },
                      "text": "Why was this film made?  ",
                      "offset": 0,
                      "length": 25
                    }
                  ],
                  "5": []
                },
                {
                  "0": "The film has an ultra-cheap look to it.  ",
                  "1": "negative",
                  "3": {
                    "positive": 0.03,
                    "neutral": 0.03,
                    "negative": 0.95
                  },
                  "4": [
                    {
                      "sentiment": "negative",
                      "confidenceScores": {
                        "positive": 0.03,
                        "neutral": 0.03,
                        "negative": 0.95
                      },
                      "text": "The film has an ultra-cheap look to it.  ",
                      "offset": 0,
                      "length": 41
                    }
                  ],
                  "5": []
                },
                {
                  "0": "The result is a film that just don't look right.  ",
                  "1": "negative",
                  "3": {
                    "positive": 0,
                    "neutral": 0,
                    "negative": 1
                  },
                  "4": [
                    {
                      "sentiment": "negative",
                      "confidenceScores": {
                        "positive": 0,
                        "neutral": 0,
                        "negative": 1
                      },
                      "text": "The result is a film that just don't look right.  ",
                      "offset": 0,
                      "length": 50
                    }
                  ],
                  "5": []
                },
                {
                  "0": "None of them are engaging or exciting.  ",
                  "1": "negative",
                  "3": {
                    "positive": 0.01,
                    "neutral": 0.02,
                    "negative": 0.97
                  },
                  "4": [
                    {
                      "sentiment": "negative",
                      "confidenceScores": {
                        "positive": 0.01,
                        "neutral": 0.02,
                        "negative": 0.97
                      },
                      "text": "None of them are engaging or exciting.  ",
                      "offset": 0,
                      "length": 40
                    }
                  ],
                  "5": []
                },
                {
                  "0": "The plot is nonsense that doesn't interest in the slightest way or have any uniqueness to it.  ",
                  "1": "negative",
                  "3": {
                    "positive": 0,
                    "neutral": 0,
                    "negative": 0.99
                  },
                  "4": [
                    {
                      "sentiment": "negative",
                      "confidenceScores": {
                        "positive": 0,
                        "neutral": 0,
                        "negative": 0.99
                      },
                      "text": "The plot is nonsense that doesn't interest in the slightest way or have any uniqueness to it.  ",
                      "offset": 0,
                      "length": 95
                    }
                  ],
                  "5": []
                },
                {
                  "0": "The Foreigner is not worth one second of your time.  ",
                  "1": "negative",
                  "3": {
                    "positive": 0,
                    "neutral": 0.01,
                    "negative": 0.98
                  },
                  "4": [
                    {
                      "sentiment": "negative",
                      "confidenceScores": {
                        "positive": 0,
                        "neutral": 0.01,
                        "negative": 0.98
                      },
                      "text": "The Foreigner is not worth one second of your time.  ",
                      "offset": 0,
                      "length": 53
                    }
                  ],
                  "5": []
                },
                {
                  "0": "\"I saw it as a child on TV back in 1973, when it was \"\"The Stranger\"\" and I loved it.  \"",
                  "1": "positive",
                  "3": {
                    "positive": 0.98,
                    "neutral": 0.01,
                    "negative": 0.01
                  },
                  "4": [
                    {
                      "sentiment": "positive",
                      "confidenceScores": {
                        "positive": 0.98,
                        "neutral": 0.01,
                        "negative": 0.01
                      },
                      "text": "\"I saw it as a child on TV back in 1973, when it was \"\"The Stranger\"\" and I loved it.  ",
                      "offset": 0,
                      "length": 87
                    },
                    {
                      "sentiment": "neutral",
                      "confidenceScores": {
                        "positive": 0.27,
                        "neutral": 0.59,
                        "negative": 0.14
                      },
                      "text": "\"",
                      "offset": 87,
                      "length": 1
                    }
                  ],
                  "5": []
                },
                {
                  "0": "But the duet between the astronaut and his doctor at the beginning of the movie is a perfect exchange if one considers that this movie was made well into the Cold War and the astronaut's biggest fear is that he has crashed in the USSR.  ",
                  "1": "negative",
                  "3": {
                    "positive": 0.08,
                    "neutral": 0,
                    "negative": 0.92
                  },
                  "4": [
                    {
                      "sentiment": "negative",
                      "confidenceScores": {
                        "positive": 0.08,
                        "neutral": 0,
                        "negative": 0.92
                      },
                      "text": "But the duet between the astronaut and his doctor at the beginning of the movie is a perfect exchange if one considers that this movie was made well into the Cold War and the astronaut's biggest fear is that he has crashed in the USSR.  ",
                      "offset": 0,
                      "length": 237
                    }
                  ],
                  "5": []
                },
                {
                  "0": "This movie is so awesome!  ",
                  "1": "positive",
                  "3": {
                    "positive": 0.99,
                    "neutral": 0,
                    "negative": 0
                  },
                  "4": [
                    {
                      "sentiment": "positive",
                      "confidenceScores": {
                        "positive": 0.99,
                        "neutral": 0,
                        "negative": 0
                      },
                      "text": "This movie is so awesome!  ",
                      "offset": 0,
                      "length": 27
                    }
                  ],
                  "5": []
                },
                {
                  "0": "I loved it, it was really scary.  ",
                  "1": "positive",
                  "3": {
                    "positive": 0.57,
                    "neutral": 0.01,
                    "negative": 0.43
                  },
                  "4": [
                    {
                      "sentiment": "positive",
                      "confidenceScores": {
                        "positive": 0.57,
                        "neutral": 0.01,
                        "negative": 0.43
                      },
                      "text": "I loved it, it was really scary.  ",
                      "offset": 0,
                      "length": 34
                    }
                  ],
                  "5": []
                },
                {
                  "0": "I love the Scream movies and all horror movies and this one ranks way up there.  ",
                  "1": "positive",
                  "3": {
                    "positive": 0.98,
                    "neutral": 0.01,
                    "negative": 0.02
                  },
                  "4": [
                    {
                      "sentiment": "positive",
                      "confidenceScores": {
                        "positive": 0.98,
                        "neutral": 0.01,
                        "negative": 0.02
                      },
                      "text": "I love the Scream movies and all horror movies and this one ranks way up there.  ",
                      "offset": 0,
                      "length": 81
                    }
                  ],
                  "5": []
                },
                {
                  "0": "If you want a real scare rent this one!  ",
                  "1": "negative",
                  "3": {
                    "positive": 0.08,
                    "neutral": 0.03,
                    "negative": 0.9
                  },
                  "4": [
                    {
                      "sentiment": "negative",
                      "confidenceScores": {
                        "positive": 0.08,
                        "neutral": 0.03,
                        "negative": 0.9
                      },
                      "text": "If you want a real scare rent this one!  ",
                      "offset": 0,
                      "length": 41
                    }
                  ],
                  "5": []
                },
                {
                  "0": "10. Okt",
                  "1": "neutral",
                  "3": {
                    "positive": 0.05,
                    "neutral": 0.91,
                    "negative": 0.05
                  },
                  "4": [
                    {
                      "sentiment": "neutral",
                      "confidenceScores": {
                        "positive": 0.05,
                        "neutral": 0.91,
                        "negative": 0.05
                      },
                      "text": "10. Okt",
                      "offset": 0,
                      "length": 7
                    }
                  ],
                  "5": []
                },
                {
                  "0": "This is an extraordinary film.  ",
                  "1": "positive",
                  "3": {
                    "positive": 0.97,
                    "neutral": 0.01,
                    "negative": 0.01
                  },
                  "4": [
                    {
                      "sentiment": "positive",
                      "confidenceScores": {
                        "positive": 0.97,
                        "neutral": 0.01,
                        "negative": 0.01
                      },
                      "text": "This is an extraordinary film.  ",
                      "offset": 0,
                      "length": 32
                    }
                  ],
                  "5": []
                },
                {
                  "0": "As a courtroom drama, it's compelling, as an indictment on the American justice system, it's frightening.  ",
                  "1": "negative",
                  "3": {
                    "positive": 0.01,
                    "neutral": 0,
                    "negative": 0.99
                  },
                  "4": [
                    {
                      "sentiment": "negative",
                      "confidenceScores": {
                        "positive": 0.01,
                        "neutral": 0,
                        "negative": 0.99
                      },
                      "text": "As a courtroom drama, it's compelling, as an indictment on the American justice system, it's frightening.  ",
                      "offset": 0,
                      "length": 107
                    }
                  ],
                  "5": []
                },
                {
                  "0": "This film highlights the fundamental flaws of the legal process, that it's not about discovering guilt or innocence, but rather, is about who presents better in court.  ",
                  "1": "negative",
                  "3": {
                    "positive": 0.01,
                    "neutral": 0,
                    "negative": 0.99
                  },
                  "4": [
                    {
                      "sentiment": "negative",
                      "confidenceScores": {
                        "positive": 0.01,
                        "neutral": 0,
                        "negative": 0.99
                      },
                      "text": "This film highlights the fundamental flaws of the legal process, that it's not about discovering guilt or innocence, but rather, is about who presents better in court.  ",
                      "offset": 0,
                      "length": 169
                    }
                  ],
                  "5": []
                },
                {
                  "0": "The film is well paced, understated and one of the best courtroom documentaries I've seen.  ",
                  "1": "positive",
                  "3": {
                    "positive": 0.99,
                    "neutral": 0,
                    "negative": 0.01
                  },
                  "4": [
                    {
                      "sentiment": "positive",
                      "confidenceScores": {
                        "positive": 0.99,
                        "neutral": 0,
                        "negative": 0.01
                      },
                      "text": "The film is well paced, understated and one of the best courtroom documentaries I've seen.  ",
                      "offset": 0,
                      "length": 92
                    }
                  ],
                  "5": []
                },
                {
                  "0": "This mostly routine fact-based TV drama gets a boost from the fine performance by Cole.  ",
                  "1": "positive",
                  "3": {
                    "positive": 0.98,
                    "neutral": 0,
                    "negative": 0.02
                  },
                  "4": [
                    {
                      "sentiment": "positive",
                      "confidenceScores": {
                        "positive": 0.98,
                        "neutral": 0,
                        "negative": 0.02
                      },
                      "text": "This mostly routine fact-based TV drama gets a boost from the fine performance by Cole.  ",
                      "offset": 0,
                      "length": 89
                    }
                  ],
                  "5": []
                },
                {
                  "0": "Predictable, but not a bad watch.  ",
                  "1": "negative",
                  "3": {
                    "positive": 0.2,
                    "neutral": 0.02,
                    "negative": 0.78
                  },
                  "4": [
                    {
                      "sentiment": "negative",
                      "confidenceScores": {
                        "positive": 0.2,
                        "neutral": 0.02,
                        "negative": 0.78
                      },
                      "text": "Predictable, but not a bad watch.  ",
                      "offset": 0,
                      "length": 35
                    }
                  ],
                  "5": []
                },
                {
                  "0": "It was clear that she had the range and ability to pull off this part.  ",
                  "1": "neutral",
                  "3": {
                    "positive": 0.14,
                    "neutral": 0.84,
                    "negative": 0.02
                  },
                  "4": [
                    {
                      "sentiment": "neutral",
                      "confidenceScores": {
                        "positive": 0.14,
                        "neutral": 0.84,
                        "negative": 0.02
                      },
                      "text": "It was clear that she had the range and ability to pull off this part.  ",
                      "offset": 0,
                      "length": 72
                    }
                  ],
                  "5": []
                },
                {
                  "0": "She carries the movie well.  ",
                  "1": "positive",
                  "3": {
                    "positive": 0.99,
                    "neutral": 0,
                    "negative": 0.01
                  },
                  "4": [
                    {
                      "sentiment": "positive",
                      "confidenceScores": {
                        "positive": 0.99,
                        "neutral": 0,
                        "negative": 0.01
                      },
                      "text": "She carries the movie well.  ",
                      "offset": 0,
                      "length": 29
                    }
                  ],
                  "5": []
                },
                {
                  "0": "Constantine gives everything the right intensity and seems to have a good understanding of the underlying psychological motivations.  ",
                  "1": "positive",
                  "3": {
                    "positive": 0.99,
                    "neutral": 0.01,
                    "negative": 0
                  },
                  "4": [
                    {
                      "sentiment": "positive",
                      "confidenceScores": {
                        "positive": 0.99,
                        "neutral": 0.01,
                        "negative": 0
                      },
                      "text": "Constantine gives everything the right intensity and seems to have a good understanding of the underlying psychological motivations.  ",
                      "offset": 0,
                      "length": 134
                    }
                  ],
                  "5": []
                },
                {
                  "0": "It is wonderful and inspiring to watch, and I hope that it gets released again on to video or DVD.  ",
                  "1": "positive",
                  "3": {
                    "positive": 1,
                    "neutral": 0,
                    "negative": 0
                  },
                  "4": [
                    {
                      "sentiment": "positive",
                      "confidenceScores": {
                        "positive": 1,
                        "neutral": 0,
                        "negative": 0
                      },
                      "text": "It is wonderful and inspiring to watch, and I hope that it gets released again on to video or DVD.  ",
                      "offset": 0,
                      "length": 100
                    }
                  ],
                  "5": []
                },
                {
                  "0": "How this piece of trash was ever released is beyond me: the acting, the story, the characters, the supposedly special effects, etc...it's ALL wrong.  ",
                  "1": "negative",
                  "3": {
                    "positive": 0,
                    "neutral": 0.01,
                    "negative": 0.99
                  },
                  "4": [
                    {
                      "sentiment": "negative",
                      "confidenceScores": {
                        "positive": 0,
                        "neutral": 0.01,
                        "negative": 0.99
                      },
                      "text": "How this piece of trash was ever released is beyond me: the acting, the story, the characters, the supposedly special effects, etc...",
                      "offset": 0,
                      "length": 133
                    },
                    {
                      "sentiment": "negative",
                      "confidenceScores": {
                        "positive": 0,
                        "neutral": 0.01,
                        "negative": 0.99
                      },
                      "text": "it's ALL wrong.  ",
                      "offset": 133,
                      "length": 17
                    }
                  ],
                  "5": []
                },
                {
                  "0": "In fact, this stinker smells like a direct-to-video release.  ",
                  "1": "negative",
                  "3": {
                    "positive": 0.01,
                    "neutral": 0.13,
                    "negative": 0.86
                  },
                  "4": [
                    {
                      "sentiment": "negative",
                      "confidenceScores": {
                        "positive": 0.01,
                        "neutral": 0.13,
                        "negative": 0.86
                      },
                      "text": "In fact, this stinker smells like a direct-to-video release.  ",
                      "offset": 0,
                      "length": 62
                    }
                  ],
                  "5": []
                },
                {
                  "0": "Avoid at ALL costs!  ",
                  "1": "negative",
                  "3": {
                    "positive": 0.1,
                    "neutral": 0.2,
                    "negative": 0.71
                  },
                  "4": [
                    {
                      "sentiment": "negative",
                      "confidenceScores": {
                        "positive": 0.1,
                        "neutral": 0.2,
                        "negative": 0.71
                      },
                      "text": "Avoid at ALL costs!  ",
                      "offset": 0,
                      "length": 21
                    }
                  ],
                  "5": []
                },
                {
                  "0": "Star Trek V The final Frontier is the worst in the series.  ",
                  "1": "negative",
                  "3": {
                    "positive": 0,
                    "neutral": 0,
                    "negative": 0.99
                  },
                  "4": [
                    {
                      "sentiment": "negative",
                      "confidenceScores": {
                        "positive": 0,
                        "neutral": 0,
                        "negative": 0.99
                      },
                      "text": "Star Trek V The final Frontier is the worst in the series.  ",
                      "offset": 0,
                      "length": 60
                    }
                  ],
                  "5": []
                },
                {
                  "0": "The acting from all involved and that includes those like Shatner and Nimoy is bad and washed out and making them seem as old as they look in real life, the special effects are tacky like when Spock has to rescue Kirk on a jet pack when he falls down from a mountain.  ",
                  "1": "negative",
                  "3": {
                    "positive": 0,
                    "neutral": 0,
                    "negative": 1
                  },
                  "4": [
                    {
                      "sentiment": "negative",
                      "confidenceScores": {
                        "positive": 0,
                        "neutral": 0,
                        "negative": 1
                      },
                      "text": "The acting from all involved and that includes those like Shatner and Nimoy is bad and washed out and making them seem as old as they look in real life, the special effects are tacky like when Spock has to rescue Kirk on a jet pack when he falls down from a mountain.  ",
                      "offset": 0,
                      "length": 269
                    }
                  ],
                  "5": []
                },
                {
                  "0": "The attempts at humor were pitiful and story is so awful it dosen't bear thinking about which basically involves a Vulcan stealing the Enterprise to find god (seriously) I just didn't care about any of this film and oh not to mention Uhura does a belly dance to distract male guards.  ",
                  "1": "negative",
                  "3": {
                    "positive": 0,
                    "neutral": 0,
                    "negative": 0.99
                  },
                  "4": [
                    {
                      "sentiment": "negative",
                      "confidenceScores": {
                        "positive": 0,
                        "neutral": 0,
                        "negative": 0.99
                      },
                      "text": "The attempts at humor were pitiful and story is so awful it dosen't bear thinking about which basically involves a Vulcan stealing the Enterprise to find god (seriously) I just didn't care about any of this film and oh not to mention Uhura does a belly dance to distract male guards.  ",
                      "offset": 0,
                      "length": 285
                    }
                  ],
                  "5": []
                },
                {
                  "0": "The only place good for this film is in the garbage.  ",
                  "1": "negative",
                  "3": {
                    "positive": 0.03,
                    "neutral": 0,
                    "negative": 0.97
                  },
                  "4": [
                    {
                      "sentiment": "negative",
                      "confidenceScores": {
                        "positive": 0.03,
                        "neutral": 0,
                        "negative": 0.97
                      },
                      "text": "The only place good for this film is in the garbage.  ",
                      "offset": 0,
                      "length": 54
                    }
                  ],
                  "5": []
                },
                {
                  "0": "The worst one of the series.  ",
                  "1": "negative",
                  "3": {
                    "positive": 0.01,
                    "neutral": 0,
                    "negative": 0.99
                  },
                  "4": [
                    {
                      "sentiment": "negative",
                      "confidenceScores": {
                        "positive": 0.01,
                        "neutral": 0,
                        "negative": 0.99
                      },
                      "text": "The worst one of the series.  ",
                      "offset": 0,
                      "length": 30
                    }
                  ],
                  "5": []
                },
                {
                  "0": "Editing: The editing of this film was phenomenal in my opinion.  ",
                  "1": "positive",
                  "3": {
                    "positive": 0.99,
                    "neutral": 0,
                    "negative": 0.01
                  },
                  "4": [
                    {
                      "sentiment": "positive",
                      "confidenceScores": {
                        "positive": 0.99,
                        "neutral": 0,
                        "negative": 0.01
                      },
                      "text": "Editing: The editing of this film was phenomenal in my opinion.  ",
                      "offset": 0,
                      "length": 65
                    }
                  ],
                  "5": []
                },
                {
                  "0": "When a song could explain the emotions of the subjects better, such as when Jay Adams' unfortunate life was a subject of talk, the song Old Man by Neil Young was played, which evokes many emotions.  ",
                  "1": "negative",
                  "3": {
                    "positive": 0.02,
                    "neutral": 0.01,
                    "negative": 0.97
                  },
                  "4": [
                    {
                      "sentiment": "negative",
                      "confidenceScores": {
                        "positive": 0.02,
                        "neutral": 0.01,
                        "negative": 0.97
                      },
                      "text": "When a song could explain the emotions of the subjects better, such as when Jay Adams' unfortunate life was a subject of talk, the song Old Man by Neil Young was played, which evokes many emotions.  ",
                      "offset": 0,
                      "length": 199
                    }
                  ],
                  "5": []
                },
                {
                  "0": "Cinematography: The film was shot in an interesting way.  ",
                  "1": "positive",
                  "3": {
                    "positive": 0.99,
                    "neutral": 0.01,
                    "negative": 0.01
                  },
                  "4": [
                    {
                      "sentiment": "positive",
                      "confidenceScores": {
                        "positive": 0.99,
                        "neutral": 0.01,
                        "negative": 0.01
                      },
                      "text": "Cinematography: The film was shot in an interesting way.  ",
                      "offset": 0,
                      "length": 58
                    }
                  ],
                  "5": []
                },
                {
                  "0": "Of course the footage from the 70s was grainy, but that only enhanced the film.  ",
                  "1": "negative",
                  "3": {
                    "positive": 0.29,
                    "neutral": 0.08,
                    "negative": 0.63
                  },
                  "4": [
                    {
                      "sentiment": "negative",
                      "confidenceScores": {
                        "positive": 0.29,
                        "neutral": 0.08,
                        "negative": 0.63
                      },
                      "text": "Of course the footage from the 70s was grainy, but that only enhanced the film.  ",
                      "offset": 0,
                      "length": 81
                    }
                  ],
                  "5": []
                },
                {
                  "0": "This film offers many delights and surprises.  ",
                  "1": "positive",
                  "3": {
                    "positive": 0.98,
                    "neutral": 0.01,
                    "negative": 0.01
                  },
                  "4": [
                    {
                      "sentiment": "positive",
                      "confidenceScores": {
                        "positive": 0.98,
                        "neutral": 0.01,
                        "negative": 0.01
                      },
                      "text": "This film offers many delights and surprises.  ",
                      "offset": 0,
                      "length": 47
                    }
                  ],
                  "5": []
                },
                {
                  "0": "\"When Achille and Philippa beautifully sing a duet from \"\"Don Giovanni\"\" that perfectly describes their situation in the movie, you appreciate the subtle layers of this excellent film.  \"",
                  "1": "positive",
                  "3": {
                    "positive": 1,
                    "neutral": 0,
                    "negative": 0
                  },
                  "4": [
                    {
                      "sentiment": "positive",
                      "confidenceScores": {
                        "positive": 1,
                        "neutral": 0,
                        "negative": 0
                      },
                      "text": "\"When Achille and Philippa beautifully sing a duet from \"\"Don Giovanni\"\" that perfectly describes their situation in the movie, you appreciate the subtle layers of this excellent film.  ",
                      "offset": 0,
                      "length": 186
                    },
                    {
                      "sentiment": "neutral",
                      "confidenceScores": {
                        "positive": 0.27,
                        "neutral": 0.59,
                        "negative": 0.14
                      },
                      "text": "\"",
                      "offset": 186,
                      "length": 1
                    }
                  ],
                  "5": []
                },
                {
                  "0": "The story unfolds in 18th century Jutland and the use of period music played on period instruments is just one more fine touch.  ",
                  "1": "positive",
                  "3": {
                    "positive": 0.91,
                    "neutral": 0.06,
                    "negative": 0.03
                  },
                  "4": [
                    {
                      "sentiment": "positive",
                      "confidenceScores": {
                        "positive": 0.91,
                        "neutral": 0.06,
                        "negative": 0.03
                      },
                      "text": "The story unfolds in 18th century Jutland and the use of period music played on period instruments is just one more fine touch.  ",
                      "offset": 0,
                      "length": 129
                    }
                  ],
                  "5": []
                },
                {
                  "0": "You share General Loewenhielm's exquisite joy in his partaking of the Cailles en Sarcophage even though you are just watching a movie - but you do wish for just a small sample to savor.  ",
                  "1": "positive",
                  "3": {
                    "positive": 0.97,
                    "neutral": 0.01,
                    "negative": 0.02
                  },
                  "4": [
                    {
                      "sentiment": "positive",
                      "confidenceScores": {
                        "positive": 0.97,
                        "neutral": 0.01,
                        "negative": 0.02
                      },
                      "text": "You share General Loewenhielm's exquisite joy in his partaking of the Cailles en Sarcophage even though you are just watching a movie - but you do wish for just a small sample to savor.  ",
                      "offset": 0,
                      "length": 187
                    }
                  ],
                  "5": []
                },
                {
                  "0": "But this understated film leaves a lasting impression.  ",
                  "1": "positive",
                  "3": {
                    "positive": 0.59,
                    "neutral": 0.12,
                    "negative": 0.29
                  },
                  "4": [
                    {
                      "sentiment": "positive",
                      "confidenceScores": {
                        "positive": 0.59,
                        "neutral": 0.12,
                        "negative": 0.29
                      },
                      "text": "But this understated film leaves a lasting impression.  ",
                      "offset": 0,
                      "length": 56
                    }
                  ],
                  "5": []
                },
                {
                  "0": "The warmth it generates is in contrast to its austere backdrop.  ",
                  "1": "neutral",
                  "3": {
                    "positive": 0.15,
                    "neutral": 0.74,
                    "negative": 0.11
                  },
                  "4": [
                    {
                      "sentiment": "neutral",
                      "confidenceScores": {
                        "positive": 0.15,
                        "neutral": 0.74,
                        "negative": 0.11
                      },
                      "text": "The warmth it generates is in contrast to its austere backdrop.  ",
                      "offset": 0,
                      "length": 65
                    }
                  ],
                  "5": []
                },
                {
                  "0": "You will leave the theater wanting to go out and dance under the stars.  ",
                  "1": "neutral",
                  "3": {
                    "positive": 0.05,
                    "neutral": 0.87,
                    "negative": 0.08
                  },
                  "4": [
                    {
                      "sentiment": "neutral",
                      "confidenceScores": {
                        "positive": 0.05,
                        "neutral": 0.87,
                        "negative": 0.08
                      },
                      "text": "You will leave the theater wanting to go out and dance under the stars.  ",
                      "offset": 0,
                      "length": 73
                    }
                  ],
                  "5": []
                },
                {
                  "0": "The acting, as you'd expect from this cast, is top notch.  ",
                  "1": "positive",
                  "3": {
                    "positive": 0.94,
                    "neutral": 0.02,
                    "negative": 0.03
                  },
                  "4": [
                    {
                      "sentiment": "positive",
                      "confidenceScores": {
                        "positive": 0.94,
                        "neutral": 0.02,
                        "negative": 0.03
                      },
                      "text": "The acting, as you'd expect from this cast, is top notch.  ",
                      "offset": 0,
                      "length": 59
                    }
                  ],
                  "5": []
                },
                {
                  "0": "The characters are fleshed out surprisingly well, particularly Grimes and Blake, and all the actors deliver their sharply scripted lines with just the right amount of deadpan tongue in cheek to make the dialogue both hilarious and realistic.  ",
                  "1": "positive",
                  "3": {
                    "positive": 0.93,
                    "neutral": 0,
                    "negative": 0.06
                  },
                  "4": [
                    {
                      "sentiment": "positive",
                      "confidenceScores": {
                        "positive": 0.93,
                        "neutral": 0,
                        "negative": 0.06
                      },
                      "text": "The characters are fleshed out surprisingly well, particularly Grimes and Blake, and all the actors deliver their sharply scripted lines with just the right amount of deadpan tongue in cheek to make the dialogue both hilarious and realistic.  ",
                      "offset": 0,
                      "length": 243
                    }
                  ],
                  "5": []
                },
                {
                  "0": "Angus Scrimm also turns in a good performance in a somewhat brief but memorable role as the gently menacing, violin-playing anatomist Doctor Quinn.  ",
                  "1": "positive",
                  "3": {
                    "positive": 0.95,
                    "neutral": 0,
                    "negative": 0.05
                  },
                  "4": [
                    {
                      "sentiment": "positive",
                      "confidenceScores": {
                        "positive": 0.95,
                        "neutral": 0,
                        "negative": 0.05
                      },
                      "text": "Angus Scrimm also turns in a good performance in a somewhat brief but memorable role as the gently menacing, violin-playing anatomist Doctor Quinn.  ",
                      "offset": 0,
                      "length": 149
                    }
                  ],
                  "5": []
                },
                {
                  "0": "Conclusion - I loved it.  ",
                  "1": "positive",
                  "3": {
                    "positive": 1,
                    "neutral": 0,
                    "negative": 0
                  },
                  "4": [
                    {
                      "sentiment": "positive",
                      "confidenceScores": {
                        "positive": 1,
                        "neutral": 0,
                        "negative": 0
                      },
                      "text": "Conclusion - I loved it.  ",
                      "offset": 0,
                      "length": 26
                    }
                  ],
                  "5": []
                },
                {
                  "0": "It's a long time since I was so entertained by a movie.  ",
                  "1": "positive",
                  "3": {
                    "positive": 0.59,
                    "neutral": 0.25,
                    "negative": 0.15
                  },
                  "4": [
                    {
                      "sentiment": "positive",
                      "confidenceScores": {
                        "positive": 0.59,
                        "neutral": 0.25,
                        "negative": 0.15
                      },
                      "text": "It's a long time since I was so entertained by a movie.  ",
                      "offset": 0,
                      "length": 57
                    }
                  ],
                  "5": []
                },
                {
                  "0": "I struggle to find anything bad to say about it.  ",
                  "1": "negative",
                  "3": {
                    "positive": 0,
                    "neutral": 0.01,
                    "negative": 0.99
                  },
                  "4": [
                    {
                      "sentiment": "negative",
                      "confidenceScores": {
                        "positive": 0,
                        "neutral": 0.01,
                        "negative": 0.99
                      },
                      "text": "I struggle to find anything bad to say about it.  ",
                      "offset": 0,
                      "length": 50
                    }
                  ],
                  "5": []
                },
                {
                  "0": "Mark my words, this is one of those cult films like Evil Dead 2 or Phantasm that people will still be discovering and falling in love with 20, 30, 40 years down the line.  ",
                  "1": "positive",
                  "3": {
                    "positive": 0.68,
                    "neutral": 0.12,
                    "negative": 0.2
                  },
                  "4": [
                    {
                      "sentiment": "positive",
                      "confidenceScores": {
                        "positive": 0.68,
                        "neutral": 0.12,
                        "negative": 0.2
                      },
                      "text": "Mark my words, this is one of those cult films like Evil Dead 2 or Phantasm that people will still be discovering and falling in love with 20, 30, 40 years down the line.  ",
                      "offset": 0,
                      "length": 172
                    }
                  ],
                  "5": []
                },
                {
                  "0": "It's pretty surprising that this wonderful film was made in 1949, as Hollywood generally had its collective heads in the sand concerning black and white issues at that time.  ",
                  "1": "positive",
                  "3": {
                    "positive": 0.91,
                    "neutral": 0.01,
                    "negative": 0.08
                  },
                  "4": [
                    {
                      "sentiment": "positive",
                      "confidenceScores": {
                        "positive": 0.91,
                        "neutral": 0.01,
                        "negative": 0.08
                      },
                      "text": "It's pretty surprising that this wonderful film was made in 1949, as Hollywood generally had its collective heads in the sand concerning black and white issues at that time.  ",
                      "offset": 0,
                      "length": 175
                    }
                  ],
                  "5": []
                },
                {
                  "0": "The film deserves strong kudos for taking this stand, for having exceptional acting from its mostly lesser-known cast and for the super-intelligent script that doesn't insult the audience or take the easy way out when it comes to white racism.  ",
                  "1": "positive",
                  "3": {
                    "positive": 0.96,
                    "neutral": 0,
                    "negative": 0.04
                  },
                  "4": [
                    {
                      "sentiment": "positive",
                      "confidenceScores": {
                        "positive": 0.96,
                        "neutral": 0,
                        "negative": 0.04
                      },
                      "text": "The film deserves strong kudos for taking this stand, for having exceptional acting from its mostly lesser-known cast and for the super-intelligent script that doesn't insult the audience or take the easy way out when it comes to white racism.  ",
                      "offset": 0,
                      "length": 245
                    }
                  ],
                  "5": []
                },
                {
                  "0": "Plus, with the movie's rather modest budget and fast running time, it does an amazing job!  ",
                  "1": "positive",
                  "3": {
                    "positive": 0.99,
                    "neutral": 0,
                    "negative": 0
                  },
                  "4": [
                    {
                      "sentiment": "positive",
                      "confidenceScores": {
                        "positive": 0.99,
                        "neutral": 0,
                        "negative": 0
                      },
                      "text": "Plus, with the movie's rather modest budget and fast running time, it does an amazing job!  ",
                      "offset": 0,
                      "length": 92
                    }
                  ],
                  "5": []
                },
                {
                  "0": "Juano Hernandez (an exceptional actor who played supporting roles in many films of the era) is a proud black man who is accused of murdering a white man in the South.  ",
                  "1": "negative",
                  "3": {
                    "positive": 0.01,
                    "neutral": 0.03,
                    "negative": 0.96
                  },
                  "4": [
                    {
                      "sentiment": "negative",
                      "confidenceScores": {
                        "positive": 0.01,
                        "neutral": 0.03,
                        "negative": 0.96
                      },
                      "text": "Juano Hernandez (an exceptional actor who played supporting roles in many films of the era) is a proud black man who is accused of murdering a white man in the South.  ",
                      "offset": 0,
                      "length": 168
                    }
                  ],
                  "5": []
                },
                {
                  "0": "Trumbull on I LOVE LUCY).  ",
                  "1": "positive",
                  "3": {
                    "positive": 0.96,
                    "neutral": 0.03,
                    "negative": 0.01
                  },
                  "4": [
                    {
                      "sentiment": "positive",
                      "confidenceScores": {
                        "positive": 0.96,
                        "neutral": 0.03,
                        "negative": 0.01
                      },
                      "text": "Trumbull on I LOVE LUCY).  ",
                      "offset": 0,
                      "length": 27
                    }
                  ],
                  "5": []
                },
                {
                  "0": "See it with your kids if you have a chance--it will open up some amazing dialog about how far race relations have come in the last 50 years.  ",
                  "1": "positive",
                  "3": {
                    "positive": 0.98,
                    "neutral": 0.02,
                    "negative": 0
                  },
                  "4": [
                    {
                      "sentiment": "positive",
                      "confidenceScores": {
                        "positive": 0.98,
                        "neutral": 0.02,
                        "negative": 0
                      },
                      "text": "See it with your kids if you have a chance--it will open up some amazing dialog about how far race relations have come in the last 50 years.  ",
                      "offset": 0,
                      "length": 142
                    }
                  ],
                  "5": []
                },
                {
                  "0": "See both films if you can.  ",
                  "1": "neutral",
                  "3": {
                    "positive": 0.18,
                    "neutral": 0.81,
                    "negative": 0.02
                  },
                  "4": [
                    {
                      "sentiment": "neutral",
                      "confidenceScores": {
                        "positive": 0.18,
                        "neutral": 0.81,
                        "negative": 0.02
                      },
                      "text": "See both films if you can.  ",
                      "offset": 0,
                      "length": 28
                    }
                  ],
                  "5": []
                },
                {
                  "0": "\"It was that year, however, that reminded us that Huston was still at the top of his game as evinced by his faithful adaptation of James Joyce's acclaimed novella \"\"The Dead.  \"",
                  "1": "negative",
                  "3": {
                    "positive": 0.19,
                    "neutral": 0.21,
                    "negative": 0.6
                  },
                  "4": [
                    {
                      "sentiment": "negative",
                      "confidenceScores": {
                        "positive": 0.19,
                        "neutral": 0.21,
                        "negative": 0.6
                      },
                      "text": "\"It was that year, however, that reminded us that Huston was still at the top of his game as evinced by his faithful adaptation of James Joyce's acclaimed novella \"\"The Dead.  ",
                      "offset": 0,
                      "length": 176
                    },
                    {
                      "sentiment": "neutral",
                      "confidenceScores": {
                        "positive": 0.27,
                        "neutral": 0.59,
                        "negative": 0.14
                      },
                      "text": "\"",
                      "offset": 176,
                      "length": 1
                    }
                  ],
                  "5": []
                },
                {
                  "0": "Feelings, thoughts...Gabriel's discomfort during the dance...all these intangibles leap to life and come within the viewer's grasp in Huston's portrayal.  ",
                  "1": "mixed",
                  "3": {
                    "positive": 0.3,
                    "neutral": 0.18,
                    "negative": 0.52
                  },
                  "4": [
                    {
                      "sentiment": "positive",
                      "confidenceScores": {
                        "positive": 0.6,
                        "neutral": 0.35,
                        "negative": 0.05
                      },
                      "text": "Feelings, thoughts...",
                      "offset": 0,
                      "length": 21
                    },
                    {
                      "sentiment": "negative",
                      "confidenceScores": {
                        "positive": 0,
                        "neutral": 0.01,
                        "negative": 0.99
                      },
                      "text": "Gabriel's discomfort during the dance...",
                      "offset": 21,
                      "length": 40
                    },
                    {
                      "sentiment": "neutral",
                      "confidenceScores": {
                        "positive": 0.06,
                        "neutral": 0.9,
                        "negative": 0.04
                      },
                      "text": "all these intangibles leap to life and come within the viewer's grasp in Huston's portrayal.  ",
                      "offset": 61,
                      "length": 94
                    }
                  ],
                  "5": []
                },
                {
                  "0": "Very disappointed and wondered how it could be in the Oscar shortlist.  ",
                  "1": "negative",
                  "3": {
                    "positive": 0.01,
                    "neutral": 0,
                    "negative": 0.99
                  },
                  "4": [
                    {
                      "sentiment": "negative",
                      "confidenceScores": {
                        "positive": 0.01,
                        "neutral": 0,
                        "negative": 0.99
                      },
                      "text": "Very disappointed and wondered how it could be in the Oscar shortlist.  ",
                      "offset": 0,
                      "length": 72
                    }
                  ],
                  "5": []
                },
                {
                  "0": "It's very slow.  ",
                  "1": "neutral",
                  "3": {
                    "positive": 0.03,
                    "neutral": 0.49,
                    "negative": 0.48
                  },
                  "4": [
                    {
                      "sentiment": "neutral",
                      "confidenceScores": {
                        "positive": 0.03,
                        "neutral": 0.49,
                        "negative": 0.48
                      },
                      "text": "It's very slow.  ",
                      "offset": 0,
                      "length": 17
                    }
                  ],
                  "5": []
                },
                {
                  "0": "\"Lot of holes in the plot: there's nothing about how he became the emperor; nothing about where he spend 20 years between his childhood and mature age.  \"",
                  "1": "negative",
                  "3": {
                    "positive": 0.02,
                    "neutral": 0.13,
                    "negative": 0.85
                  },
                  "4": [
                    {
                      "sentiment": "negative",
                      "confidenceScores": {
                        "positive": 0.01,
                        "neutral": 0.03,
                        "negative": 0.96
                      },
                      "text": "\"Lot of holes in the plot: there's nothing about how he became the emperor; ",
                      "offset": 0,
                      "length": 76
                    },
                    {
                      "sentiment": "negative",
                      "confidenceScores": {
                        "positive": 0.04,
                        "neutral": 0.22,
                        "negative": 0.74
                      },
                      "text": "nothing about where he spend 20 years between his childhood and mature age.  ",
                      "offset": 76,
                      "length": 77
                    },
                    {
                      "sentiment": "neutral",
                      "confidenceScores": {
                        "positive": 0.27,
                        "neutral": 0.59,
                        "negative": 0.14
                      },
                      "text": "\"",
                      "offset": 153,
                      "length": 1
                    }
                  ],
                  "5": []
                },
                {
                  "0": ") Don't waste your time.  ",
                  "1": "positive",
                  "3": {
                    "positive": 0.5,
                    "neutral": 0.29,
                    "negative": 0.21
                  },
                  "4": [
                    {
                      "sentiment": "positive",
                      "confidenceScores": {
                        "positive": 0.5,
                        "neutral": 0.29,
                        "negative": 0.21
                      },
                      "text": ") Don't waste your time.  ",
                      "offset": 0,
                      "length": 26
                    }
                  ],
                  "5": []
                },
                {
                  "0": "End of Days is one of the worst big-budget action movies I've ever seen.  ",
                  "1": "negative",
                  "3": {
                    "positive": 0.01,
                    "neutral": 0,
                    "negative": 0.99
                  },
                  "4": [
                    {
                      "sentiment": "negative",
                      "confidenceScores": {
                        "positive": 0.01,
                        "neutral": 0,
                        "negative": 0.99
                      },
                      "text": "End of Days is one of the worst big-budget action movies I've ever seen.  ",
                      "offset": 0,
                      "length": 74
                    }
                  ],
                  "5": []
                },
                {
                  "0": "He surely doesn't know how to make a coherent action movie from the screenwriter of Air Force One who was only obliged to write the script just for a big sum of money.  ",
                  "1": "negative",
                  "3": {
                    "positive": 0.01,
                    "neutral": 0.01,
                    "negative": 0.98
                  },
                  "4": [
                    {
                      "sentiment": "negative",
                      "confidenceScores": {
                        "positive": 0.01,
                        "neutral": 0.01,
                        "negative": 0.98
                      },
                      "text": "He surely doesn't know how to make a coherent action movie from the screenwriter of Air Force One who was only obliged to write the script just for a big sum of money.  ",
                      "offset": 0,
                      "length": 169
                    }
                  ],
                  "5": []
                },
                {
                  "0": "This was one of the worst films i have ever seen.  ",
                  "1": "negative",
                  "3": {
                    "positive": 0.01,
                    "neutral": 0,
                    "negative": 0.99
                  },
                  "4": [
                    {
                      "sentiment": "negative",
                      "confidenceScores": {
                        "positive": 0.01,
                        "neutral": 0,
                        "negative": 0.99
                      },
                      "text": "This was one of the worst films i have ever seen.  ",
                      "offset": 0,
                      "length": 51
                    }
                  ],
                  "5": []
                },
                {
                  "0": "I'm still trying to get over how bad it was.  ",
                  "1": "negative",
                  "3": {
                    "positive": 0,
                    "neutral": 0,
                    "negative": 0.99
                  },
                  "4": [
                    {
                      "sentiment": "negative",
                      "confidenceScores": {
                        "positive": 0,
                        "neutral": 0,
                        "negative": 0.99
                      },
                      "text": "I'm still trying to get over how bad it was.  ",
                      "offset": 0,
                      "length": 46
                    }
                  ],
                  "5": []
                },
                {
                  "0": "This movie is possibly one of the most creative works of horror ever.  ",
                  "1": "negative",
                  "3": {
                    "positive": 0.36,
                    "neutral": 0.02,
                    "negative": 0.63
                  },
                  "4": [
                    {
                      "sentiment": "negative",
                      "confidenceScores": {
                        "positive": 0.36,
                        "neutral": 0.02,
                        "negative": 0.63
                      },
                      "text": "This movie is possibly one of the most creative works of horror ever.  ",
                      "offset": 0,
                      "length": 71
                    }
                  ],
                  "5": []
                },
                {
                  "0": "It has everything you could want... suspense, drama, comedy, confusing subplots, native americans, brain eating... If you're looking for the be-all, end-all of brainsucking movies, look no further.  ",
                  "1": "mixed",
                  "3": {
                    "positive": 0.36,
                    "neutral": 0.18,
                    "negative": 0.47
                  },
                  "4": [
                    {
                      "sentiment": "positive",
                      "confidenceScores": {
                        "positive": 0.83,
                        "neutral": 0.16,
                        "negative": 0.01
                      },
                      "text": "It has everything you could want... ",
                      "offset": 0,
                      "length": 36
                    },
                    {
                      "sentiment": "negative",
                      "confidenceScores": {
                        "positive": 0.02,
                        "neutral": 0.02,
                        "negative": 0.97
                      },
                      "text": "suspense, drama, comedy, confusing subplots, native americans, brain eating... ",
                      "offset": 36,
                      "length": 79
                    },
                    {
                      "sentiment": "negative",
                      "confidenceScores": {
                        "positive": 0.22,
                        "neutral": 0.36,
                        "negative": 0.42
                      },
                      "text": "If you're looking for the be-all, end-all of brainsucking movies, look no further.  ",
                      "offset": 115,
                      "length": 84
                    }
                  ],
                  "5": []
                },
                {
                  "0": "\" With great sound effects, and impressive special effects, I can't recommend this movie enough.  \t1\"",
                  "1": "positive",
                  "3": {
                    "positive": 0.84,
                    "neutral": 0,
                    "negative": 0.16
                  },
                  "4": [
                    {
                      "sentiment": "positive",
                      "confidenceScores": {
                        "positive": 0.84,
                        "neutral": 0,
                        "negative": 0.16
                      },
                      "text": "\" With great sound effects, and impressive special effects, I can't recommend this movie enough.  \t",
                      "offset": 0,
                      "length": 99
                    },
                    {
                      "sentiment": "neutral",
                      "confidenceScores": {
                        "positive": 0.01,
                        "neutral": 0.98,
                        "negative": 0.01
                      },
                      "text": "1\"",
                      "offset": 99,
                      "length": 2
                    }
                  ],
                  "5": []
                },
                {
                  "0": "Call me a nut, but I think this is one of the best movies ever.  ",
                  "1": "positive",
                  "3": {
                    "positive": 0.99,
                    "neutral": 0,
                    "negative": 0.01
                  },
                  "4": [
                    {
                      "sentiment": "positive",
                      "confidenceScores": {
                        "positive": 0.99,
                        "neutral": 0,
                        "negative": 0.01
                      },
                      "text": "Call me a nut, but I think this is one of the best movies ever.  ",
                      "offset": 0,
                      "length": 65
                    }
                  ],
                  "5": []
                },
                {
                  "0": "Great character actors Telly Savalas and Peter Boyle.  ",
                  "1": "positive",
                  "3": {
                    "positive": 1,
                    "neutral": 0,
                    "negative": 0
                  },
                  "4": [
                    {
                      "sentiment": "positive",
                      "confidenceScores": {
                        "positive": 1,
                        "neutral": 0,
                        "negative": 0
                      },
                      "text": "Great character actors Telly Savalas and Peter Boyle.  ",
                      "offset": 0,
                      "length": 55
                    }
                  ],
                  "5": []
                },
                {
                  "0": "1 hour 54 minutes of sheer tedium, melodrama and horrible acting, a mess of a script, and a sinking feeling of GOOD LORD, WHAT WERE THEY THINKING?  ",
                  "1": "negative",
                  "3": {
                    "positive": 0,
                    "neutral": 0,
                    "negative": 0.99
                  },
                  "4": [
                    {
                      "sentiment": "negative",
                      "confidenceScores": {
                        "positive": 0,
                        "neutral": 0,
                        "negative": 0.99
                      },
                      "text": "1 hour 54 minutes of sheer tedium, melodrama and horrible acting, a mess of a script, and a sinking feeling of GOOD LORD, WHAT WERE THEY THINKING?  ",
                      "offset": 0,
                      "length": 148
                    }
                  ],
                  "5": []
                },
                {
                  "0": "Lots of holes in the script.  ",
                  "1": "negative",
                  "3": {
                    "positive": 0,
                    "neutral": 0.01,
                    "negative": 0.99
                  },
                  "4": [
                    {
                      "sentiment": "negative",
                      "confidenceScores": {
                        "positive": 0,
                        "neutral": 0.01,
                        "negative": 0.99
                      },
                      "text": "Lots of holes in the script.  ",
                      "offset": 0,
                      "length": 30
                    }
                  ],
                  "5": []
                },
                {
                  "0": "It's like a bad two hour TV movie.  ",
                  "1": "negative",
                  "3": {
                    "positive": 0,
                    "neutral": 0,
                    "negative": 0.99
                  },
                  "4": [
                    {
                      "sentiment": "negative",
                      "confidenceScores": {
                        "positive": 0,
                        "neutral": 0,
                        "negative": 0.99
                      },
                      "text": "It's like a bad two hour TV movie.  ",
                      "offset": 0,
                      "length": 36
                    }
                  ],
                  "5": []
                },
                {
                  "0": "Now imagine that every single one of those decisions was made wrong.  ",
                  "1": "negative",
                  "3": {
                    "positive": 0,
                    "neutral": 0,
                    "negative": 0.99
                  },
                  "4": [
                    {
                      "sentiment": "negative",
                      "confidenceScores": {
                        "positive": 0,
                        "neutral": 0,
                        "negative": 0.99
                      },
                      "text": "Now imagine that every single one of those decisions was made wrong.  ",
                      "offset": 0,
                      "length": 70
                    }
                  ],
                  "5": []
                },
                {
                  "0": "The dialogue is atrocious.  ",
                  "1": "negative",
                  "3": {
                    "positive": 0.01,
                    "neutral": 0,
                    "negative": 0.99
                  },
                  "4": [
                    {
                      "sentiment": "negative",
                      "confidenceScores": {
                        "positive": 0.01,
                        "neutral": 0,
                        "negative": 0.99
                      },
                      "text": "The dialogue is atrocious.  ",
                      "offset": 0,
                      "length": 28
                    }
                  ],
                  "5": []
                },
                {
                  "0": "The acting is beyond abysmal.  ",
                  "1": "negative",
                  "3": {
                    "positive": 0,
                    "neutral": 0,
                    "negative": 0.99
                  },
                  "4": [
                    {
                      "sentiment": "negative",
                      "confidenceScores": {
                        "positive": 0,
                        "neutral": 0,
                        "negative": 0.99
                      },
                      "text": "The acting is beyond abysmal.  ",
                      "offset": 0,
                      "length": 31
                    }
                  ],
                  "5": []
                },
                {
                  "0": "Everything stinks.  ",
                  "1": "negative",
                  "3": {
                    "positive": 0.01,
                    "neutral": 0.01,
                    "negative": 0.98
                  },
                  "4": [
                    {
                      "sentiment": "negative",
                      "confidenceScores": {
                        "positive": 0.01,
                        "neutral": 0.01,
                        "negative": 0.98
                      },
                      "text": "Everything stinks.  ",
                      "offset": 0,
                      "length": 20
                    }
                  ],
                  "5": []
                },
                {
                  "0": "Trouble is, the writing and directing make it impossible to establish those things that make a movie watchable, like character, story, theme and so on.  ",
                  "1": "negative",
                  "3": {
                    "positive": 0,
                    "neutral": 0,
                    "negative": 0.99
                  },
                  "4": [
                    {
                      "sentiment": "negative",
                      "confidenceScores": {
                        "positive": 0,
                        "neutral": 0,
                        "negative": 0.99
                      },
                      "text": "Trouble is, the writing and directing make it impossible to establish those things that make a movie watchable, like character, story, theme and so on.  ",
                      "offset": 0,
                      "length": 153
                    }
                  ],
                  "5": []
                },
                {
                  "0": "Worse, there's an incredibly weak sub-plot thrown in that follows a little band of latter-day Mansonites as they go after a reporter who's working on a story on the anniversary of the killings.  ",
                  "1": "negative",
                  "3": {
                    "positive": 0,
                    "neutral": 0,
                    "negative": 1
                  },
                  "4": [
                    {
                      "sentiment": "negative",
                      "confidenceScores": {
                        "positive": 0,
                        "neutral": 0,
                        "negative": 1
                      },
                      "text": "Worse, there's an incredibly weak sub-plot thrown in that follows a little band of latter-day Mansonites as they go after a reporter who's working on a story on the anniversary of the killings.  ",
                      "offset": 0,
                      "length": 195
                    }
                  ],
                  "5": []
                },
                {
                  "0": "It's dumb and pointless, and a complete waste of time.  ",
                  "1": "negative",
                  "3": {
                    "positive": 0,
                    "neutral": 0,
                    "negative": 0.99
                  },
                  "4": [
                    {
                      "sentiment": "negative",
                      "confidenceScores": {
                        "positive": 0,
                        "neutral": 0,
                        "negative": 0.99
                      },
                      "text": "It's dumb and pointless, and a complete waste of time.  ",
                      "offset": 0,
                      "length": 56
                    }
                  ],
                  "5": []
                },
                {
                  "0": "In short, don't bother with this movie.  ",
                  "1": "positive",
                  "3": {
                    "positive": 0.52,
                    "neutral": 0.25,
                    "negative": 0.23
                  },
                  "4": [
                    {
                      "sentiment": "positive",
                      "confidenceScores": {
                        "positive": 0.52,
                        "neutral": 0.25,
                        "negative": 0.23
                      },
                      "text": "In short, don't bother with this movie.  ",
                      "offset": 0,
                      "length": 41
                    }
                  ],
                  "5": []
                },
                {
                  "0": "I won't spoil it, but the ending in pretty amazing.  ",
                  "1": "positive",
                  "3": {
                    "positive": 0.98,
                    "neutral": 0,
                    "negative": 0.02
                  },
                  "4": [
                    {
                      "sentiment": "positive",
                      "confidenceScores": {
                        "positive": 0.98,
                        "neutral": 0,
                        "negative": 0.02
                      },
                      "text": "I won't spoil it, but the ending in pretty amazing.  ",
                      "offset": 0,
                      "length": 53
                    }
                  ],
                  "5": []
                },
                {
                  "0": "The best scene in the movie is at the end, but I won't spoil it.  ",
                  "1": "positive",
                  "3": {
                    "positive": 0.87,
                    "neutral": 0,
                    "negative": 0.12
                  },
                  "4": [
                    {
                      "sentiment": "positive",
                      "confidenceScores": {
                        "positive": 0.87,
                        "neutral": 0,
                        "negative": 0.12
                      },
                      "text": "The best scene in the movie is at the end, but I won't spoil it.  ",
                      "offset": 0,
                      "length": 66
                    }
                  ],
                  "5": []
                },
                {
                  "0": "If there was ever an indication of a writer and a director's ability to meld two highly volatile temperaments into a seamless union of creativity, then this is it!  ",
                  "1": "neutral",
                  "3": {
                    "positive": 0.4,
                    "neutral": 0.53,
                    "negative": 0.07
                  },
                  "4": [
                    {
                      "sentiment": "neutral",
                      "confidenceScores": {
                        "positive": 0.4,
                        "neutral": 0.53,
                        "negative": 0.07
                      },
                      "text": "If there was ever an indication of a writer and a director's ability to meld two highly volatile temperaments into a seamless union of creativity, then this is it!  ",
                      "offset": 0,
                      "length": 165
                    }
                  ],
                  "5": []
                },
                {
                  "0": "The result is a powerhouse achievement, made more timely now perhaps because of our culture's disturbing fascination with celebrity, and it's distorted interpretations of fame.  ",
                  "1": "negative",
                  "3": {
                    "positive": 0.01,
                    "neutral": 0,
                    "negative": 0.99
                  },
                  "4": [
                    {
                      "sentiment": "negative",
                      "confidenceScores": {
                        "positive": 0.01,
                        "neutral": 0,
                        "negative": 0.99
                      },
                      "text": "The result is a powerhouse achievement, made more timely now perhaps because of our culture's disturbing fascination with celebrity, and it's distorted interpretations of fame.  ",
                      "offset": 0,
                      "length": 178
                    }
                  ],
                  "5": []
                },
                {
                  "0": "A film not easily forgotten.  ",
                  "1": "positive",
                  "3": {
                    "positive": 0.9,
                    "neutral": 0.04,
                    "negative": 0.07
                  },
                  "4": [
                    {
                      "sentiment": "positive",
                      "confidenceScores": {
                        "positive": 0.9,
                        "neutral": 0.04,
                        "negative": 0.07
                      },
                      "text": "A film not easily forgotten.  ",
                      "offset": 0,
                      "length": 30
                    }
                  ],
                  "5": []
                },
                {
                  "0": "But, Kevin Spacey is an excellent, verbal tsunami as Buddy Ackerman  and totally believable because he is a great actor.  ",
                  "1": "positive",
                  "3": {
                    "positive": 0.99,
                    "neutral": 0,
                    "negative": 0.01
                  },
                  "4": [
                    {
                      "sentiment": "positive",
                      "confidenceScores": {
                        "positive": 0.99,
                        "neutral": 0,
                        "negative": 0.01
                      },
                      "text": "But, Kevin Spacey is an excellent, verbal tsunami as Buddy Ackerman  and totally believable because he is a great actor.  ",
                      "offset": 0,
                      "length": 123
                    }
                  ],
                  "5": []
                },
                {
                  "0": "The scripting of the subtle comedy is unmatched by any movie in recent years.  ",
                  "1": "negative",
                  "3": {
                    "positive": 0.42,
                    "neutral": 0.1,
                    "negative": 0.48
                  },
                  "4": [
                    {
                      "sentiment": "negative",
                      "confidenceScores": {
                        "positive": 0.42,
                        "neutral": 0.1,
                        "negative": 0.48
                      },
                      "text": "The scripting of the subtle comedy is unmatched by any movie in recent years.  ",
                      "offset": 0,
                      "length": 79
                    }
                  ],
                  "5": []
                },
                {
                  "0": "The characters are interesting, even if a bit predictable.  ",
                  "1": "positive",
                  "3": {
                    "positive": 0.91,
                    "neutral": 0.01,
                    "negative": 0.08
                  },
                  "4": [
                    {
                      "sentiment": "positive",
                      "confidenceScores": {
                        "positive": 0.91,
                        "neutral": 0.01,
                        "negative": 0.08
                      },
                      "text": "The characters are interesting, even if a bit predictable.  ",
                      "offset": 0,
                      "length": 60
                    }
                  ],
                  "5": []
                },
                {
                  "0": "Highly recommended for all ages, although the younger set will probably not appreciate some of the more subtle references, they will certainly appreciate one galley scene in particular!  ",
                  "1": "positive",
                  "3": {
                    "positive": 0.99,
                    "neutral": 0,
                    "negative": 0.01
                  },
                  "4": [
                    {
                      "sentiment": "positive",
                      "confidenceScores": {
                        "positive": 0.99,
                        "neutral": 0,
                        "negative": 0.01
                      },
                      "text": "Highly recommended for all ages, although the younger set will probably not appreciate some of the more subtle references, they will certainly appreciate one galley scene in particular!  ",
                      "offset": 0,
                      "length": 187
                    }
                  ],
                  "5": []
                },
                {
                  "0": "Great movie!  ",
                  "1": "positive",
                  "3": {
                    "positive": 1,
                    "neutral": 0,
                    "negative": 0
                  },
                  "4": [
                    {
                      "sentiment": "positive",
                      "confidenceScores": {
                        "positive": 1,
                        "neutral": 0,
                        "negative": 0
                      },
                      "text": "Great movie!  ",
                      "offset": 0,
                      "length": 14
                    }
                  ],
                  "5": []
                },
                {
                  "0": "Also the story and acting were weak.  ",
                  "1": "negative",
                  "3": {
                    "positive": 0,
                    "neutral": 0,
                    "negative": 1
                  },
                  "4": [
                    {
                      "sentiment": "negative",
                      "confidenceScores": {
                        "positive": 0,
                        "neutral": 0,
                        "negative": 1
                      },
                      "text": "Also the story and acting were weak.  ",
                      "offset": 0,
                      "length": 38
                    }
                  ],
                  "5": []
                },
                {
                  "0": "At around 4 pm I bought it, at around 8pm I started to watch, at around 8.15pm I fast forwarded the remaining film to see if there was anything left watchable for a human being with a brain... but there wasn't.  ",
                  "1": "neutral",
                  "3": {
                    "positive": 0.05,
                    "neutral": 0.62,
                    "negative": 0.32
                  },
                  "4": [
                    {
                      "sentiment": "neutral",
                      "confidenceScores": {
                        "positive": 0.07,
                        "neutral": 0.49,
                        "negative": 0.44
                      },
                      "text": "At around 4 pm I bought it, at around 8pm I started to watch, at around 8.15pm I fast forwarded the remaining film to see if there was anything left watchable for a human being with a brain... ",
                      "offset": 0,
                      "length": 193
                    },
                    {
                      "sentiment": "neutral",
                      "confidenceScores": {
                        "positive": 0.03,
                        "neutral": 0.76,
                        "negative": 0.21
                      },
                      "text": "but there wasn't.  ",
                      "offset": 193,
                      "length": 19
                    }
                  ],
                  "5": []
                },
                {
                  "0": "Either way, it sucks.  ",
                  "1": "negative",
                  "3": {
                    "positive": 0,
                    "neutral": 0,
                    "negative": 0.99
                  },
                  "4": [
                    {
                      "sentiment": "negative",
                      "confidenceScores": {
                        "positive": 0,
                        "neutral": 0,
                        "negative": 0.99
                      },
                      "text": "Either way, it sucks.  ",
                      "offset": 0,
                      "length": 23
                    }
                  ],
                  "5": []
                },
                {
                  "0": "The script is horrendously stupid.  ",
                  "1": "negative",
                  "3": {
                    "positive": 0.01,
                    "neutral": 0,
                    "negative": 0.99
                  },
                  "4": [
                    {
                      "sentiment": "negative",
                      "confidenceScores": {
                        "positive": 0.01,
                        "neutral": 0,
                        "negative": 0.99
                      },
                      "text": "The script is horrendously stupid.  ",
                      "offset": 0,
                      "length": 36
                    }
                  ],
                  "5": []
                },
                {
                  "0": "The story starts too fast with absolutely no suspense or build-up in the slightest.  ",
                  "1": "negative",
                  "3": {
                    "positive": 0,
                    "neutral": 0,
                    "negative": 0.99
                  },
                  "4": [
                    {
                      "sentiment": "negative",
                      "confidenceScores": {
                        "positive": 0,
                        "neutral": 0,
                        "negative": 0.99
                      },
                      "text": "The story starts too fast with absolutely no suspense or build-up in the slightest.  ",
                      "offset": 0,
                      "length": 85
                    }
                  ],
                  "5": []
                },
                {
                  "0": "Everything Captain Howdy says is either laughable or just plain stupid.  ",
                  "1": "negative",
                  "3": {
                    "positive": 0,
                    "neutral": 0,
                    "negative": 0.99
                  },
                  "4": [
                    {
                      "sentiment": "negative",
                      "confidenceScores": {
                        "positive": 0,
                        "neutral": 0,
                        "negative": 0.99
                      },
                      "text": "Everything Captain Howdy says is either laughable or just plain stupid.  ",
                      "offset": 0,
                      "length": 73
                    }
                  ],
                  "5": []
                },
                {
                  "0": "What the hell kind of crap is that?!  ",
                  "1": "negative",
                  "3": {
                    "positive": 0.01,
                    "neutral": 0.01,
                    "negative": 0.97
                  },
                  "4": [
                    {
                      "sentiment": "negative",
                      "confidenceScores": {
                        "positive": 0.01,
                        "neutral": 0.01,
                        "negative": 0.97
                      },
                      "text": "What the hell kind of crap is that?!  ",
                      "offset": 0,
                      "length": 38
                    }
                  ],
                  "5": []
                },
                {
                  "0": "Then, there's the plot holes.  ",
                  "1": "negative",
                  "3": {
                    "positive": 0.01,
                    "neutral": 0.05,
                    "negative": 0.94
                  },
                  "4": [
                    {
                      "sentiment": "negative",
                      "confidenceScores": {
                        "positive": 0.01,
                        "neutral": 0.05,
                        "negative": 0.94
                      },
                      "text": "Then, there's the plot holes.  ",
                      "offset": 0,
                      "length": 31
                    }
                  ],
                  "5": []
                },
                {
                  "0": "You could drive a semi truck into these holes!  ",
                  "1": "negative",
                  "3": {
                    "positive": 0.02,
                    "neutral": 0.43,
                    "negative": 0.55
                  },
                  "4": [
                    {
                      "sentiment": "negative",
                      "confidenceScores": {
                        "positive": 0.02,
                        "neutral": 0.43,
                        "negative": 0.55
                      },
                      "text": "You could drive a semi truck into these holes!  ",
                      "offset": 0,
                      "length": 48
                    }
                  ],
                  "5": []
                },
                {
                  "0": "Linda Cardellini is the only thing good in this film.  ",
                  "1": "positive",
                  "3": {
                    "positive": 0.92,
                    "neutral": 0,
                    "negative": 0.07
                  },
                  "4": [
                    {
                      "sentiment": "positive",
                      "confidenceScores": {
                        "positive": 0.92,
                        "neutral": 0,
                        "negative": 0.07
                      },
                      "text": "Linda Cardellini is the only thing good in this film.  ",
                      "offset": 0,
                      "length": 55
                    }
                  ],
                  "5": []
                },
                {
                  "0": "She's poised and amazing.  ",
                  "1": "positive",
                  "3": {
                    "positive": 0.99,
                    "neutral": 0.01,
                    "negative": 0
                  },
                  "4": [
                    {
                      "sentiment": "positive",
                      "confidenceScores": {
                        "positive": 0.99,
                        "neutral": 0.01,
                        "negative": 0
                      },
                      "text": "She's poised and amazing.  ",
                      "offset": 0,
                      "length": 27
                    }
                  ],
                  "5": []
                },
                {
                  "0": "Dee Snider just plain sucks.  ",
                  "1": "negative",
                  "3": {
                    "positive": 0,
                    "neutral": 0.01,
                    "negative": 0.99
                  },
                  "4": [
                    {
                      "sentiment": "negative",
                      "confidenceScores": {
                        "positive": 0,
                        "neutral": 0.01,
                        "negative": 0.99
                      },
                      "text": "Dee Snider just plain sucks.  ",
                      "offset": 0,
                      "length": 30
                    }
                  ],
                  "5": []
                },
                {
                  "0": "He can't act (one of the least scary villains I have ever seen), he can't write (did he write this damn movie in his sleep?  ",
                  "1": "negative",
                  "3": {
                    "positive": 0,
                    "neutral": 0,
                    "negative": 0.99
                  },
                  "4": [
                    {
                      "sentiment": "negative",
                      "confidenceScores": {
                        "positive": 0,
                        "neutral": 0,
                        "negative": 0.99
                      },
                      "text": "He can't act (one of the least scary villains I have ever seen), he can't write (did he write this damn movie in his sleep?  ",
                      "offset": 0,
                      "length": 125
                    }
                  ],
                  "5": []
                },
                {
                  "0": "I was bored throughout the whole damn thing.  ",
                  "1": "negative",
                  "3": {
                    "positive": 0,
                    "neutral": 0.01,
                    "negative": 0.99
                  },
                  "4": [
                    {
                      "sentiment": "negative",
                      "confidenceScores": {
                        "positive": 0,
                        "neutral": 0.01,
                        "negative": 0.99
                      },
                      "text": "I was bored throughout the whole damn thing.  ",
                      "offset": 0,
                      "length": 46
                    }
                  ],
                  "5": []
                },
                {
                  "0": "The acting sucks, the music sucks, the script sucks, the pacing sucks, the special FX suck, the directing sucks... basically, this movie sucks.  ",
                  "1": "negative",
                  "3": {
                    "positive": 0,
                    "neutral": 0,
                    "negative": 0.99
                  },
                  "4": [
                    {
                      "sentiment": "negative",
                      "confidenceScores": {
                        "positive": 0.01,
                        "neutral": 0,
                        "negative": 0.99
                      },
                      "text": "The acting sucks, the music sucks, the script sucks, the pacing sucks, the special FX suck, the directing sucks... ",
                      "offset": 0,
                      "length": 115
                    },
                    {
                      "sentiment": "negative",
                      "confidenceScores": {
                        "positive": 0,
                        "neutral": 0,
                        "negative": 0.99
                      },
                      "text": "basically, this movie sucks.  ",
                      "offset": 115,
                      "length": 30
                    }
                  ],
                  "5": []
                },
                {
                  "0": "This film tries to be a serious and sophisticated thriller/horror flick and it fails miserably.  ",
                  "1": "negative",
                  "3": {
                    "positive": 0,
                    "neutral": 0,
                    "negative": 1
                  },
                  "4": [
                    {
                      "sentiment": "negative",
                      "confidenceScores": {
                        "positive": 0,
                        "neutral": 0,
                        "negative": 1
                      },
                      "text": "This film tries to be a serious and sophisticated thriller/horror flick and it fails miserably.  ",
                      "offset": 0,
                      "length": 97
                    }
                  ],
                  "5": []
                },
                {
                  "0": "This is probably one of the least effective and utterly unoriginal films I have ever seen in my entire life.  ",
                  "1": "negative",
                  "3": {
                    "positive": 0.01,
                    "neutral": 0,
                    "negative": 0.99
                  },
                  "4": [
                    {
                      "sentiment": "negative",
                      "confidenceScores": {
                        "positive": 0.01,
                        "neutral": 0,
                        "negative": 0.99
                      },
                      "text": "This is probably one of the least effective and utterly unoriginal films I have ever seen in my entire life.  ",
                      "offset": 0,
                      "length": 110
                    }
                  ],
                  "5": []
                },
                {
                  "0": "A piece of cinematic garbage captured on celluloid.  ",
                  "1": "negative",
                  "3": {
                    "positive": 0.01,
                    "neutral": 0.02,
                    "negative": 0.97
                  },
                  "4": [
                    {
                      "sentiment": "negative",
                      "confidenceScores": {
                        "positive": 0.01,
                        "neutral": 0.02,
                        "negative": 0.97
                      },
                      "text": "A piece of cinematic garbage captured on celluloid.  ",
                      "offset": 0,
                      "length": 53
                    }
                  ],
                  "5": []
                },
                {
                  "0": "Avoid at any and all costs.  ",
                  "1": "negative",
                  "3": {
                    "positive": 0.05,
                    "neutral": 0.25,
                    "negative": 0.7
                  },
                  "4": [
                    {
                      "sentiment": "negative",
                      "confidenceScores": {
                        "positive": 0.05,
                        "neutral": 0.25,
                        "negative": 0.7
                      },
                      "text": "Avoid at any and all costs.  ",
                      "offset": 0,
                      "length": 29
                    }
                  ],
                  "5": []
                },
                {
                  "0": "At any rate this film stinks, its not funny, and Fulci should have stayed with giallo and supernatural zombie movies.  ",
                  "1": "negative",
                  "3": {
                    "positive": 0,
                    "neutral": 0,
                    "negative": 0.99
                  },
                  "4": [
                    {
                      "sentiment": "negative",
                      "confidenceScores": {
                        "positive": 0,
                        "neutral": 0,
                        "negative": 0.99
                      },
                      "text": "At any rate this film stinks, its not funny, and Fulci should have stayed with giallo and supernatural zombie movies.  ",
                      "offset": 0,
                      "length": 119
                    }
                  ],
                  "5": []
                },
                {
                  "0": "Avoid this film at all costs.  ",
                  "1": "negative",
                  "3": {
                    "positive": 0,
                    "neutral": 0,
                    "negative": 0.99
                  },
                  "4": [
                    {
                      "sentiment": "negative",
                      "confidenceScores": {
                        "positive": 0,
                        "neutral": 0,
                        "negative": 0.99
                      },
                      "text": "Avoid this film at all costs.  ",
                      "offset": 0,
                      "length": 31
                    }
                  ],
                  "5": []
                },
                {
                  "0": "I don't know what happened in Season Five, what a mess.  ",
                  "1": "negative",
                  "3": {
                    "positive": 0,
                    "neutral": 0,
                    "negative": 0.99
                  },
                  "4": [
                    {
                      "sentiment": "negative",
                      "confidenceScores": {
                        "positive": 0,
                        "neutral": 0,
                        "negative": 0.99
                      },
                      "text": "I don't know what happened in Season Five, what a mess.  ",
                      "offset": 0,
                      "length": 57
                    }
                  ],
                  "5": []
                },
                {
                  "0": "The only consistent thread holding the series together were the amazing performances of Leni Parker and Anita LaSelva as the two Taelons in quiet idealogical conflict.  ",
                  "1": "positive",
                  "3": {
                    "positive": 0.49,
                    "neutral": 0.02,
                    "negative": 0.49
                  },
                  "4": [
                    {
                      "sentiment": "positive",
                      "confidenceScores": {
                        "positive": 0.49,
                        "neutral": 0.02,
                        "negative": 0.49
                      },
                      "text": "The only consistent thread holding the series together were the amazing performances of Leni Parker and Anita LaSelva as the two Taelons in quiet idealogical conflict.  ",
                      "offset": 0,
                      "length": 169
                    }
                  ],
                  "5": []
                },
                {
                  "0": "Now this is a movie I really dislike.  ",
                  "1": "negative",
                  "3": {
                    "positive": 0.01,
                    "neutral": 0,
                    "negative": 0.99
                  },
                  "4": [
                    {
                      "sentiment": "negative",
                      "confidenceScores": {
                        "positive": 0.01,
                        "neutral": 0,
                        "negative": 0.99
                      },
                      "text": "Now this is a movie I really dislike.  ",
                      "offset": 0,
                      "length": 39
                    }
                  ],
                  "5": []
                },
                {
                  "0": "It's one of the most boring Horror movies from the 90's mainly because it starts slow and centers in a boring atmosphere.  ",
                  "1": "negative",
                  "3": {
                    "positive": 0,
                    "neutral": 0,
                    "negative": 0.99
                  },
                  "4": [
                    {
                      "sentiment": "negative",
                      "confidenceScores": {
                        "positive": 0,
                        "neutral": 0,
                        "negative": 0.99
                      },
                      "text": "It's one of the most boring Horror movies from the 90's mainly because it starts slow and centers in a boring atmosphere.  ",
                      "offset": 0,
                      "length": 123
                    }
                  ],
                  "5": []
                },
                {
                  "0": "The puppets look really cheesy , not in a good way like in the Puppet Master 80's flicks.  ",
                  "1": "negative",
                  "3": {
                    "positive": 0,
                    "neutral": 0,
                    "negative": 0.99
                  },
                  "4": [
                    {
                      "sentiment": "negative",
                      "confidenceScores": {
                        "positive": 0,
                        "neutral": 0,
                        "negative": 0.99
                      },
                      "text": "The puppets look really cheesy , not in a good way like in the Puppet Master 80's flicks.  ",
                      "offset": 0,
                      "length": 91
                    }
                  ],
                  "5": []
                },
                {
                  "0": "The story is lame, not interesting and NEVER really explains the sinister origins of the puppets.  ",
                  "1": "negative",
                  "3": {
                    "positive": 0,
                    "neutral": 0,
                    "negative": 1
                  },
                  "4": [
                    {
                      "sentiment": "negative",
                      "confidenceScores": {
                        "positive": 0,
                        "neutral": 0,
                        "negative": 1
                      },
                      "text": "The story is lame, not interesting and NEVER really explains the sinister origins of the puppets.  ",
                      "offset": 0,
                      "length": 99
                    }
                  ],
                  "5": []
                },
                {
                  "0": "There aren't death scenes like in previous movies and the f/x are terrible.  ",
                  "1": "negative",
                  "3": {
                    "positive": 0.01,
                    "neutral": 0,
                    "negative": 0.99
                  },
                  "4": [
                    {
                      "sentiment": "negative",
                      "confidenceScores": {
                        "positive": 0.01,
                        "neutral": 0,
                        "negative": 0.99
                      },
                      "text": "There aren't death scenes like in previous movies and the f/x are terrible.  ",
                      "offset": 0,
                      "length": 77
                    }
                  ],
                  "5": []
                },
                {
                  "0": "I felt asleep the first time I watched it, so I can recommend it for insomniacs.  ",
                  "1": "positive",
                  "3": {
                    "positive": 0.97,
                    "neutral": 0.01,
                    "negative": 0.02
                  },
                  "4": [
                    {
                      "sentiment": "positive",
                      "confidenceScores": {
                        "positive": 0.97,
                        "neutral": 0.01,
                        "negative": 0.02
                      },
                      "text": "I felt asleep the first time I watched it, so I can recommend it for insomniacs.  ",
                      "offset": 0,
                      "length": 82
                    }
                  ],
                  "5": []
                },
                {
                  "0": "The fact is, this film is a wonderful, heartwarming tale about two people chasing their dreams.  ",
                  "1": "positive",
                  "3": {
                    "positive": 0.99,
                    "neutral": 0,
                    "negative": 0.01
                  },
                  "4": [
                    {
                      "sentiment": "positive",
                      "confidenceScores": {
                        "positive": 0.99,
                        "neutral": 0,
                        "negative": 0.01
                      },
                      "text": "The fact is, this film is a wonderful, heartwarming tale about two people chasing their dreams.  ",
                      "offset": 0,
                      "length": 97
                    }
                  ],
                  "5": []
                },
                {
                  "0": "\"The best part about \"\"Nurse Betty\"\" is it's unpredictability.  \"",
                  "1": "positive",
                  "3": {
                    "positive": 0.92,
                    "neutral": 0.03,
                    "negative": 0.06
                  },
                  "4": [
                    {
                      "sentiment": "positive",
                      "confidenceScores": {
                        "positive": 0.92,
                        "neutral": 0.03,
                        "negative": 0.06
                      },
                      "text": "\"The best part about \"\"Nurse Betty\"\" is it's unpredictability.  ",
                      "offset": 0,
                      "length": 64
                    },
                    {
                      "sentiment": "neutral",
                      "confidenceScores": {
                        "positive": 0.27,
                        "neutral": 0.59,
                        "negative": 0.14
                      },
                      "text": "\"",
                      "offset": 64,
                      "length": 1
                    }
                  ],
                  "5": []
                },
                {
                  "0": "Director Neil LaBute uses brutal violence to seperate dreams from reality, and along with the touching drama, and hilarious comedy, you can never tell what is going to happen next.  ",
                  "1": "negative",
                  "3": {
                    "positive": 0.07,
                    "neutral": 0.03,
                    "negative": 0.9
                  },
                  "4": [
                    {
                      "sentiment": "negative",
                      "confidenceScores": {
                        "positive": 0.07,
                        "neutral": 0.03,
                        "negative": 0.9
                      },
                      "text": "Director Neil LaBute uses brutal violence to seperate dreams from reality, and along with the touching drama, and hilarious comedy, you can never tell what is going to happen next.  ",
                      "offset": 0,
                      "length": 182
                    }
                  ],
                  "5": []
                },
                {
                  "0": "Otherwise, don't even waste your time on this.  ",
                  "1": "positive",
                  "3": {
                    "positive": 0.47,
                    "neutral": 0.2,
                    "negative": 0.33
                  },
                  "4": [
                    {
                      "sentiment": "positive",
                      "confidenceScores": {
                        "positive": 0.47,
                        "neutral": 0.2,
                        "negative": 0.33
                      },
                      "text": "Otherwise, don't even waste your time on this.  ",
                      "offset": 0,
                      "length": 48
                    }
                  ],
                  "5": []
                },
                {
                  "0": "This one just fails to create any real suspense.  ",
                  "1": "negative",
                  "3": {
                    "positive": 0,
                    "neutral": 0,
                    "negative": 1
                  },
                  "4": [
                    {
                      "sentiment": "negative",
                      "confidenceScores": {
                        "positive": 0,
                        "neutral": 0,
                        "negative": 1
                      },
                      "text": "This one just fails to create any real suspense.  ",
                      "offset": 0,
                      "length": 50
                    }
                  ],
                  "5": []
                },
                {
                  "0": "As for the killer, don't expect anything original or even remotely frightening.  ",
                  "1": "negative",
                  "3": {
                    "positive": 0.02,
                    "neutral": 0.01,
                    "negative": 0.97
                  },
                  "4": [
                    {
                      "sentiment": "negative",
                      "confidenceScores": {
                        "positive": 0.02,
                        "neutral": 0.01,
                        "negative": 0.97
                      },
                      "text": "As for the killer, don't expect anything original or even remotely frightening.  ",
                      "offset": 0,
                      "length": 81
                    }
                  ],
                  "5": []
                },
                {
                  "0": "There is, however, some pretty good acting (at least, for this type of film).  ",
                  "1": "positive",
                  "3": {
                    "positive": 0.79,
                    "neutral": 0.01,
                    "negative": 0.21
                  },
                  "4": [
                    {
                      "sentiment": "positive",
                      "confidenceScores": {
                        "positive": 0.79,
                        "neutral": 0.01,
                        "negative": 0.21
                      },
                      "text": "There is, however, some pretty good acting (at least, for this type of film).  ",
                      "offset": 0,
                      "length": 79
                    }
                  ],
                  "5": []
                },
                {
                  "0": "I'm so sorry but I really can't recommend it to anyone.  ",
                  "1": "negative",
                  "3": {
                    "positive": 0.02,
                    "neutral": 0.01,
                    "negative": 0.98
                  },
                  "4": [
                    {
                      "sentiment": "negative",
                      "confidenceScores": {
                        "positive": 0.02,
                        "neutral": 0.01,
                        "negative": 0.98
                      },
                      "text": "I'm so sorry but I really can't recommend it to anyone.  ",
                      "offset": 0,
                      "length": 57
                    }
                  ],
                  "5": []
                },
                {
                  "0": "One of the most boring,pointless movies I have ever seen.  ",
                  "1": "negative",
                  "3": {
                    "positive": 0.01,
                    "neutral": 0,
                    "negative": 0.99
                  },
                  "4": [
                    {
                      "sentiment": "negative",
                      "confidenceScores": {
                        "positive": 0.01,
                        "neutral": 0,
                        "negative": 0.99
                      },
                      "text": "One of the most boring,pointless movies I have ever seen.  ",
                      "offset": 0,
                      "length": 59
                    }
                  ],
                  "5": []
                },
                {
                  "0": "The secondary plot line is incomprehensible and its relation to the primary plot line is mystifying.  ",
                  "1": "negative",
                  "3": {
                    "positive": 0,
                    "neutral": 0,
                    "negative": 0.99
                  },
                  "4": [
                    {
                      "sentiment": "negative",
                      "confidenceScores": {
                        "positive": 0,
                        "neutral": 0,
                        "negative": 0.99
                      },
                      "text": "The secondary plot line is incomprehensible and its relation to the primary plot line is mystifying.  ",
                      "offset": 0,
                      "length": 102
                    }
                  ],
                  "5": []
                },
                {
                  "0": "Hated it.  ",
                  "1": "negative",
                  "3": {
                    "positive": 0.02,
                    "neutral": 0,
                    "negative": 0.98
                  },
                  "4": [
                    {
                      "sentiment": "negative",
                      "confidenceScores": {
                        "positive": 0.02,
                        "neutral": 0,
                        "negative": 0.98
                      },
                      "text": "Hated it.  ",
                      "offset": 0,
                      "length": 11
                    }
                  ],
                  "5": []
                },
                {
                  "0": "This is one of the worst Sandra Bullock movie since Speed 2 But not quite that bad.  ",
                  "1": "negative",
                  "3": {
                    "positive": 0.01,
                    "neutral": 0,
                    "negative": 0.99
                  },
                  "4": [
                    {
                      "sentiment": "negative",
                      "confidenceScores": {
                        "positive": 0.01,
                        "neutral": 0,
                        "negative": 0.99
                      },
                      "text": "This is one of the worst Sandra Bullock movie since Speed 2 But not quite that bad.  ",
                      "offset": 0,
                      "length": 85
                    }
                  ],
                  "5": []
                },
                {
                  "0": "I don't understand how this garbage got on the shelves of the movie store, it's not even a real movie!  ",
                  "1": "negative",
                  "3": {
                    "positive": 0,
                    "neutral": 0.01,
                    "negative": 0.99
                  },
                  "4": [
                    {
                      "sentiment": "negative",
                      "confidenceScores": {
                        "positive": 0,
                        "neutral": 0.01,
                        "negative": 0.99
                      },
                      "text": "I don't understand how this garbage got on the shelves of the movie store, it's not even a real movie!  ",
                      "offset": 0,
                      "length": 104
                    }
                  ],
                  "5": []
                },
                {
                  "0": "I highly doubt that anyone could ever like this trash.  ",
                  "1": "negative",
                  "3": {
                    "positive": 0,
                    "neutral": 0,
                    "negative": 0.99
                  },
                  "4": [
                    {
                      "sentiment": "negative",
                      "confidenceScores": {
                        "positive": 0,
                        "neutral": 0,
                        "negative": 0.99
                      },
                      "text": "I highly doubt that anyone could ever like this trash.  ",
                      "offset": 0,
                      "length": 56
                    }
                  ],
                  "5": []
                },
                {
                  "0": "This is not movie-making.  ",
                  "1": "negative",
                  "3": {
                    "positive": 0.01,
                    "neutral": 0.42,
                    "negative": 0.56
                  },
                  "4": [
                    {
                      "sentiment": "negative",
                      "confidenceScores": {
                        "positive": 0.01,
                        "neutral": 0.42,
                        "negative": 0.56
                      },
                      "text": "This is not movie-making.  ",
                      "offset": 0,
                      "length": 27
                    }
                  ],
                  "5": []
                },
                {
                  "0": "The acting is like watching wooden puppets moving around and reading from a book, that's how bad it is.  ",
                  "1": "negative",
                  "3": {
                    "positive": 0,
                    "neutral": 0,
                    "negative": 0.99
                  },
                  "4": [
                    {
                      "sentiment": "negative",
                      "confidenceScores": {
                        "positive": 0,
                        "neutral": 0,
                        "negative": 0.99
                      },
                      "text": "The acting is like watching wooden puppets moving around and reading from a book, that's how bad it is.  ",
                      "offset": 0,
                      "length": 105
                    }
                  ],
                  "5": []
                },
                {
                  "0": "So I am here to warn you--DO NOT RENT THIS MOVIE, it is the dumbest thing you have never seen!  ",
                  "1": "negative",
                  "3": {
                    "positive": 0,
                    "neutral": 0,
                    "negative": 0.99
                  },
                  "4": [
                    {
                      "sentiment": "negative",
                      "confidenceScores": {
                        "positive": 0,
                        "neutral": 0,
                        "negative": 0.99
                      },
                      "text": "So I am here to warn you--DO NOT RENT THIS MOVIE, it is the dumbest thing you have never seen!  ",
                      "offset": 0,
                      "length": 96
                    }
                  ],
                  "5": []
                },
                {
                  "0": "I saw this short film on HBO the other day and absolutely loved it.  ",
                  "1": "positive",
                  "3": {
                    "positive": 0.99,
                    "neutral": 0,
                    "negative": 0
                  },
                  "4": [
                    {
                      "sentiment": "positive",
                      "confidenceScores": {
                        "positive": 0.99,
                        "neutral": 0,
                        "negative": 0
                      },
                      "text": "I saw this short film on HBO the other day and absolutely loved it.  ",
                      "offset": 0,
                      "length": 69
                    }
                  ],
                  "5": []
                },
                {
                  "0": "I didn't realize how wonderful the short really is until the last two scenes.  ",
                  "1": "positive",
                  "3": {
                    "positive": 0.95,
                    "neutral": 0.01,
                    "negative": 0.05
                  },
                  "4": [
                    {
                      "sentiment": "positive",
                      "confidenceScores": {
                        "positive": 0.95,
                        "neutral": 0.01,
                        "negative": 0.05
                      },
                      "text": "I didn't realize how wonderful the short really is until the last two scenes.  ",
                      "offset": 0,
                      "length": 79
                    }
                  ],
                  "5": []
                },
                {
                  "0": "Excellent short film.  ",
                  "1": "positive",
                  "3": {
                    "positive": 1,
                    "neutral": 0,
                    "negative": 0
                  },
                  "4": [
                    {
                      "sentiment": "positive",
                      "confidenceScores": {
                        "positive": 1,
                        "neutral": 0,
                        "negative": 0
                      },
                      "text": "Excellent short film.  ",
                      "offset": 0,
                      "length": 23
                    }
                  ],
                  "5": []
                },
                {
                  "0": "Hopefully, the director James Cox can turn the short into a feature length film with the same cast, or win us over with a whole new film.  ",
                  "1": "positive",
                  "3": {
                    "positive": 0.72,
                    "neutral": 0.23,
                    "negative": 0.05
                  },
                  "4": [
                    {
                      "sentiment": "positive",
                      "confidenceScores": {
                        "positive": 0.72,
                        "neutral": 0.23,
                        "negative": 0.05
                      },
                      "text": "Hopefully, the director James Cox can turn the short into a feature length film with the same cast, or win us over with a whole new film.  ",
                      "offset": 0,
                      "length": 139
                    }
                  ],
                  "5": []
                },
                {
                  "0": "I agree with Jessica, this movie is pretty bad.  ",
                  "1": "negative",
                  "3": {
                    "positive": 0,
                    "neutral": 0,
                    "negative": 0.99
                  },
                  "4": [
                    {
                      "sentiment": "negative",
                      "confidenceScores": {
                        "positive": 0,
                        "neutral": 0,
                        "negative": 0.99
                      },
                      "text": "I agree with Jessica, this movie is pretty bad.  ",
                      "offset": 0,
                      "length": 49
                    }
                  ],
                  "5": []
                },
                {
                  "0": "Characters are one-dimensional, even the good guys and especially the bad guys.  ",
                  "1": "negative",
                  "3": {
                    "positive": 0.01,
                    "neutral": 0.05,
                    "negative": 0.94
                  },
                  "4": [
                    {
                      "sentiment": "negative",
                      "confidenceScores": {
                        "positive": 0.01,
                        "neutral": 0.05,
                        "negative": 0.94
                      },
                      "text": "Characters are one-dimensional, even the good guys and especially the bad guys.  ",
                      "offset": 0,
                      "length": 81
                    }
                  ],
                  "5": []
                },
                {
                  "0": "The story line is totally predictable.  ",
                  "1": "positive",
                  "3": {
                    "positive": 0.42,
                    "neutral": 0.38,
                    "negative": 0.2
                  },
                  "4": [
                    {
                      "sentiment": "positive",
                      "confidenceScores": {
                        "positive": 0.42,
                        "neutral": 0.38,
                        "negative": 0.2
                      },
                      "text": "The story line is totally predictable.  ",
                      "offset": 0,
                      "length": 40
                    }
                  ],
                  "5": []
                },
                {
                  "0": "Not much dialogue, not much music, the whole film was shot as elaborately and aesthetically like a sculpture.  ",
                  "1": "negative",
                  "3": {
                    "positive": 0.02,
                    "neutral": 0.02,
                    "negative": 0.97
                  },
                  "4": [
                    {
                      "sentiment": "negative",
                      "confidenceScores": {
                        "positive": 0.02,
                        "neutral": 0.02,
                        "negative": 0.97
                      },
                      "text": "Not much dialogue, not much music, the whole film was shot as elaborately and aesthetically like a sculpture.  ",
                      "offset": 0,
                      "length": 111
                    }
                  ],
                  "5": []
                },
                {
                  "0": "I've seen soap operas more intelligent than this movie.  ",
                  "1": "positive",
                  "3": {
                    "positive": 0.61,
                    "neutral": 0.24,
                    "negative": 0.15
                  },
                  "4": [
                    {
                      "sentiment": "positive",
                      "confidenceScores": {
                        "positive": 0.61,
                        "neutral": 0.24,
                        "negative": 0.15
                      },
                      "text": "I've seen soap operas more intelligent than this movie.  ",
                      "offset": 0,
                      "length": 57
                    }
                  ],
                  "5": []
                },
                {
                  "0": "Bad characters, bad story and bad acting.  ",
                  "1": "negative",
                  "3": {
                    "positive": 0.01,
                    "neutral": 0,
                    "negative": 0.99
                  },
                  "4": [
                    {
                      "sentiment": "negative",
                      "confidenceScores": {
                        "positive": 0.01,
                        "neutral": 0,
                        "negative": 0.99
                      },
                      "text": "Bad characters, bad story and bad acting.  ",
                      "offset": 0,
                      "length": 43
                    }
                  ],
                  "5": []
                },
                {
                  "0": "Really awful.  ",
                  "1": "negative",
                  "3": {
                    "positive": 0.01,
                    "neutral": 0,
                    "negative": 0.99
                  },
                  "4": [
                    {
                      "sentiment": "negative",
                      "confidenceScores": {
                        "positive": 0.01,
                        "neutral": 0,
                        "negative": 0.99
                      },
                      "text": "Really awful.  ",
                      "offset": 0,
                      "length": 15
                    }
                  ],
                  "5": []
                },
                {
                  "0": "Not easy to watch.  ",
                  "1": "negative",
                  "3": {
                    "positive": 0.01,
                    "neutral": 0,
                    "negative": 0.98
                  },
                  "4": [
                    {
                      "sentiment": "negative",
                      "confidenceScores": {
                        "positive": 0.01,
                        "neutral": 0,
                        "negative": 0.98
                      },
                      "text": "Not easy to watch.  ",
                      "offset": 0,
                      "length": 20
                    }
                  ],
                  "5": []
                },
                {
                  "0": "Funny, clever, hip - just like Pray's previous film, Hype!  ",
                  "1": "positive",
                  "3": {
                    "positive": 0.98,
                    "neutral": 0.01,
                    "negative": 0.01
                  },
                  "4": [
                    {
                      "sentiment": "positive",
                      "confidenceScores": {
                        "positive": 0.98,
                        "neutral": 0.01,
                        "negative": 0.01
                      },
                      "text": "Funny, clever, hip - just like Pray's previous film, Hype!  ",
                      "offset": 0,
                      "length": 60
                    }
                  ],
                  "5": []
                },
                {
                  "0": "It was a long time that i didn't see a so charismatic actor on screen.  ",
                  "1": "negative",
                  "3": {
                    "positive": 0.11,
                    "neutral": 0.13,
                    "negative": 0.76
                  },
                  "4": [
                    {
                      "sentiment": "negative",
                      "confidenceScores": {
                        "positive": 0.11,
                        "neutral": 0.13,
                        "negative": 0.76
                      },
                      "text": "It was a long time that i didn't see a so charismatic actor on screen.  ",
                      "offset": 0,
                      "length": 72
                    }
                  ],
                  "5": []
                },
                {
                  "0": "Paolo Sorrentino has written a wonderful story about loneliness and Tony has built one of the most unforgettable characters seen in movies in recent years.  ",
                  "1": "positive",
                  "3": {
                    "positive": 0.99,
                    "neutral": 0.01,
                    "negative": 0.01
                  },
                  "4": [
                    {
                      "sentiment": "positive",
                      "confidenceScores": {
                        "positive": 0.99,
                        "neutral": 0.01,
                        "negative": 0.01
                      },
                      "text": "Paolo Sorrentino has written a wonderful story about loneliness and Tony has built one of the most unforgettable characters seen in movies in recent years.  ",
                      "offset": 0,
                      "length": 157
                    }
                  ],
                  "5": []
                },
                {
                  "0": "The movie is not completely perfect but 'Titta Di Girolamo' will stay with you for a long time after the vision of the movie.  ",
                  "1": "negative",
                  "3": {
                    "positive": 0.05,
                    "neutral": 0.01,
                    "negative": 0.95
                  },
                  "4": [
                    {
                      "sentiment": "negative",
                      "confidenceScores": {
                        "positive": 0.05,
                        "neutral": 0.01,
                        "negative": 0.95
                      },
                      "text": "The movie is not completely perfect but 'Titta Di Girolamo' will stay with you for a long time after the vision of the movie.  ",
                      "offset": 0,
                      "length": 127
                    }
                  ],
                  "5": []
                },
                {
                  "0": "I rate this movie 9/10.  ",
                  "1": "positive",
                  "3": {
                    "positive": 0.76,
                    "neutral": 0.14,
                    "negative": 0.1
                  },
                  "4": [
                    {
                      "sentiment": "positive",
                      "confidenceScores": {
                        "positive": 0.76,
                        "neutral": 0.14,
                        "negative": 0.1
                      },
                      "text": "I rate this movie 9/10.  ",
                      "offset": 0,
                      "length": 25
                    }
                  ],
                  "5": []
                },
                {
                  "0": "I do not know if this was Emilio Estevez's directorial debut, but the pacing, the interplay and development of the characters as well as some clever camera work surrounding the character Estevez plays all suggest a natural eye.  ",
                  "1": "positive",
                  "3": {
                    "positive": 0.88,
                    "neutral": 0.05,
                    "negative": 0.07
                  },
                  "4": [
                    {
                      "sentiment": "positive",
                      "confidenceScores": {
                        "positive": 0.88,
                        "neutral": 0.05,
                        "negative": 0.07
                      },
                      "text": "I do not know if this was Emilio Estevez's directorial debut, but the pacing, the interplay and development of the characters as well as some clever camera work surrounding the character Estevez plays all suggest a natural eye.  ",
                      "offset": 0,
                      "length": 229
                    }
                  ],
                  "5": []
                },
                {
                  "0": "The interplay between Martin and Emilio contains the same wonderful chemistry we saw in Wall Street with Martin and Charlie.  ",
                  "1": "positive",
                  "3": {
                    "positive": 0.92,
                    "neutral": 0.07,
                    "negative": 0.01
                  },
                  "4": [
                    {
                      "sentiment": "positive",
                      "confidenceScores": {
                        "positive": 0.92,
                        "neutral": 0.07,
                        "negative": 0.01
                      },
                      "text": "The interplay between Martin and Emilio contains the same wonderful chemistry we saw in Wall Street with Martin and Charlie.  ",
                      "offset": 0,
                      "length": 126
                    }
                  ],
                  "5": []
                },
                {
                  "0": "\"Kathy Bates is wonderful in her characters subtle desperation and escapism; a variation on her character in \"\"At Play In The Fields Of The Lord\"\".  \"",
                  "1": "positive",
                  "3": {
                    "positive": 0.98,
                    "neutral": 0,
                    "negative": 0.02
                  },
                  "4": [
                    {
                      "sentiment": "positive",
                      "confidenceScores": {
                        "positive": 0.98,
                        "neutral": 0,
                        "negative": 0.02
                      },
                      "text": "\"Kathy Bates is wonderful in her characters subtle desperation and escapism; ",
                      "offset": 0,
                      "length": 77
                    },
                    {
                      "sentiment": "neutral",
                      "confidenceScores": {
                        "positive": 0.04,
                        "neutral": 0.87,
                        "negative": 0.09
                      },
                      "text": "a variation on her character in \"\"At Play In The Fields Of The Lord\"\".  ",
                      "offset": 77,
                      "length": 72
                    },
                    {
                      "sentiment": "neutral",
                      "confidenceScores": {
                        "positive": 0.27,
                        "neutral": 0.59,
                        "negative": 0.14
                      },
                      "text": "\"",
                      "offset": 149,
                      "length": 1
                    }
                  ],
                  "5": []
                },
                {
                  "0": "For readers who have already seen one of Miyazaki's films: he is still in top form and made another worthwhile experience.  ",
                  "1": "positive",
                  "3": {
                    "positive": 0.99,
                    "neutral": 0,
                    "negative": 0
                  },
                  "4": [
                    {
                      "sentiment": "positive",
                      "confidenceScores": {
                        "positive": 0.99,
                        "neutral": 0,
                        "negative": 0
                      },
                      "text": "For readers who have already seen one of Miyazaki's films: he is still in top form and made another worthwhile experience.  ",
                      "offset": 0,
                      "length": 124
                    }
                  ],
                  "5": []
                },
                {
                  "0": "It never condescends, all the characters have good genuine hearts and believable problems.  ",
                  "1": "positive",
                  "3": {
                    "positive": 0.96,
                    "neutral": 0,
                    "negative": 0.04
                  },
                  "4": [
                    {
                      "sentiment": "positive",
                      "confidenceScores": {
                        "positive": 0.96,
                        "neutral": 0,
                        "negative": 0.04
                      },
                      "text": "It never condescends, all the characters have good genuine hearts and believable problems.  ",
                      "offset": 0,
                      "length": 92
                    }
                  ],
                  "5": []
                },
                {
                  "0": "The two main characters may be two of the most believable children I ever saw put on screen.  ",
                  "1": "positive",
                  "3": {
                    "positive": 0.97,
                    "neutral": 0.01,
                    "negative": 0.02
                  },
                  "4": [
                    {
                      "sentiment": "positive",
                      "confidenceScores": {
                        "positive": 0.97,
                        "neutral": 0.01,
                        "negative": 0.02
                      },
                      "text": "The two main characters may be two of the most believable children I ever saw put on screen.  ",
                      "offset": 0,
                      "length": 94
                    }
                  ],
                  "5": []
                },
                {
                  "0": "They are so easy to love, but even more easy to identify with.  ",
                  "1": "positive",
                  "3": {
                    "positive": 0.99,
                    "neutral": 0,
                    "negative": 0
                  },
                  "4": [
                    {
                      "sentiment": "positive",
                      "confidenceScores": {
                        "positive": 0.99,
                        "neutral": 0,
                        "negative": 0
                      },
                      "text": "They are so easy to love, but even more easy to identify with.  ",
                      "offset": 0,
                      "length": 64
                    }
                  ],
                  "5": []
                },
                {
                  "0": "This movie is great--especially if you enjoy visual arts.  ",
                  "1": "positive",
                  "3": {
                    "positive": 1,
                    "neutral": 0,
                    "negative": 0
                  },
                  "4": [
                    {
                      "sentiment": "positive",
                      "confidenceScores": {
                        "positive": 1,
                        "neutral": 0,
                        "negative": 0
                      },
                      "text": "This movie is great--especially if you enjoy visual arts.  ",
                      "offset": 0,
                      "length": 59
                    }
                  ],
                  "5": []
                },
                {
                  "0": "The scenery that the two daughters paint and photograph are beautiful.  ",
                  "1": "positive",
                  "3": {
                    "positive": 0.99,
                    "neutral": 0,
                    "negative": 0
                  },
                  "4": [
                    {
                      "sentiment": "positive",
                      "confidenceScores": {
                        "positive": 0.99,
                        "neutral": 0,
                        "negative": 0
                      },
                      "text": "The scenery that the two daughters paint and photograph are beautiful.  ",
                      "offset": 0,
                      "length": 72
                    }
                  ],
                  "5": []
                },
                {
                  "0": "The story is also both funny and poignant at times.  ",
                  "1": "positive",
                  "3": {
                    "positive": 0.86,
                    "neutral": 0.01,
                    "negative": 0.13
                  },
                  "4": [
                    {
                      "sentiment": "positive",
                      "confidenceScores": {
                        "positive": 0.86,
                        "neutral": 0.01,
                        "negative": 0.13
                      },
                      "text": "The story is also both funny and poignant at times.  ",
                      "offset": 0,
                      "length": 53
                    }
                  ],
                  "5": []
                },
                {
                  "0": "\"People who like European films and \"\"art movies\"\" will like this movie.  \"",
                  "1": "positive",
                  "3": {
                    "positive": 0.98,
                    "neutral": 0.01,
                    "negative": 0.01
                  },
                  "4": [
                    {
                      "sentiment": "positive",
                      "confidenceScores": {
                        "positive": 0.98,
                        "neutral": 0.01,
                        "negative": 0.01
                      },
                      "text": "\"People who like European films and \"\"art movies\"\" will like this movie.  ",
                      "offset": 0,
                      "length": 74
                    },
                    {
                      "sentiment": "neutral",
                      "confidenceScores": {
                        "positive": 0.27,
                        "neutral": 0.59,
                        "negative": 0.14
                      },
                      "text": "\"",
                      "offset": 74,
                      "length": 1
                    }
                  ],
                  "5": []
                },
                {
                  "0": "This is truly an art movie--it actually has a lot of art in it.  ",
                  "1": "positive",
                  "3": {
                    "positive": 0.74,
                    "neutral": 0.12,
                    "negative": 0.14
                  },
                  "4": [
                    {
                      "sentiment": "positive",
                      "confidenceScores": {
                        "positive": 0.74,
                        "neutral": 0.12,
                        "negative": 0.14
                      },
                      "text": "This is truly an art movie--it actually has a lot of art in it.  ",
                      "offset": 0,
                      "length": 65
                    }
                  ],
                  "5": []
                },
                {
                  "0": "Go rent it.  ",
                  "1": "neutral",
                  "3": {
                    "positive": 0.07,
                    "neutral": 0.91,
                    "negative": 0.02
                  },
                  "4": [
                    {
                      "sentiment": "neutral",
                      "confidenceScores": {
                        "positive": 0.07,
                        "neutral": 0.91,
                        "negative": 0.02
                      },
                      "text": "Go rent it.  ",
                      "offset": 0,
                      "length": 13
                    }
                  ],
                  "5": []
                },
                {
                  "0": "However, after finally watching this film, I realized that not only had I had a closed mind to the brilliance it depicts, I also found myself watching it over and over again.  ",
                  "1": "negative",
                  "3": {
                    "positive": 0.03,
                    "neutral": 0.01,
                    "negative": 0.96
                  },
                  "4": [
                    {
                      "sentiment": "negative",
                      "confidenceScores": {
                        "positive": 0.03,
                        "neutral": 0.01,
                        "negative": 0.96
                      },
                      "text": "However, after finally watching this film, I realized that not only had I had a closed mind to the brilliance it depicts, I also found myself watching it over and over again.  ",
                      "offset": 0,
                      "length": 176
                    }
                  ],
                  "5": []
                },
                {
                  "0": "It's the one movie that never ceases to interest me, simply because it keeps me alert, as I try to attempt to decipher it's meanings.  ",
                  "1": "positive",
                  "3": {
                    "positive": 0.82,
                    "neutral": 0.05,
                    "negative": 0.13
                  },
                  "4": [
                    {
                      "sentiment": "positive",
                      "confidenceScores": {
                        "positive": 0.82,
                        "neutral": 0.05,
                        "negative": 0.13
                      },
                      "text": "It's the one movie that never ceases to interest me, simply because it keeps me alert, as I try to attempt to decipher it's meanings.  ",
                      "offset": 0,
                      "length": 135
                    }
                  ],
                  "5": []
                },
                {
                  "0": "Brilliance indeed.  ",
                  "1": "positive",
                  "3": {
                    "positive": 0.98,
                    "neutral": 0.01,
                    "negative": 0.01
                  },
                  "4": [
                    {
                      "sentiment": "positive",
                      "confidenceScores": {
                        "positive": 0.98,
                        "neutral": 0.01,
                        "negative": 0.01
                      },
                      "text": "Brilliance indeed.  ",
                      "offset": 0,
                      "length": 20
                    }
                  ],
                  "5": []
                },
                {
                  "0": "But if you liked movies like The Matrix (and better yet, their sequels) I think you'll appreciate the thought provoking, mindblowing experience this film will give you.  ",
                  "1": "positive",
                  "3": {
                    "positive": 0.99,
                    "neutral": 0,
                    "negative": 0
                  },
                  "4": [
                    {
                      "sentiment": "positive",
                      "confidenceScores": {
                        "positive": 0.99,
                        "neutral": 0,
                        "negative": 0
                      },
                      "text": "But if you liked movies like The Matrix (and better yet, their sequels) I think you'll appreciate the thought provoking, mindblowing experience this film will give you.  ",
                      "offset": 0,
                      "length": 170
                    }
                  ],
                  "5": []
                },
                {
                  "0": "Think of the film being like a dream.  ",
                  "1": "neutral",
                  "3": {
                    "positive": 0.19,
                    "neutral": 0.62,
                    "negative": 0.19
                  },
                  "4": [
                    {
                      "sentiment": "neutral",
                      "confidenceScores": {
                        "positive": 0.19,
                        "neutral": 0.62,
                        "negative": 0.19
                      },
                      "text": "Think of the film being like a dream.  ",
                      "offset": 0,
                      "length": 39
                    }
                  ],
                  "5": []
                },
                {
                  "0": "Simply beautiful.  ",
                  "1": "positive",
                  "3": {
                    "positive": 0.99,
                    "neutral": 0.01,
                    "negative": 0
                  },
                  "4": [
                    {
                      "sentiment": "positive",
                      "confidenceScores": {
                        "positive": 0.99,
                        "neutral": 0.01,
                        "negative": 0
                      },
                      "text": "Simply beautiful.  ",
                      "offset": 0,
                      "length": 19
                    }
                  ],
                  "5": []
                },
                {
                  "0": "Both Rickman and Stowe play their roles to the hilt in this tale of a childrens' book writer who-- maybe?-- has written a subversive tract.  ",
                  "1": "negative",
                  "3": {
                    "positive": 0,
                    "neutral": 0.02,
                    "negative": 0.98
                  },
                  "4": [
                    {
                      "sentiment": "negative",
                      "confidenceScores": {
                        "positive": 0,
                        "neutral": 0.02,
                        "negative": 0.98
                      },
                      "text": "Both Rickman and Stowe play their roles to the hilt in this tale of a childrens' book writer who-- maybe?-- has written a subversive tract.  ",
                      "offset": 0,
                      "length": 141
                    }
                  ],
                  "5": []
                },
                {
                  "0": "It's a gloriously fun, fast paced and fairly accurate portrayal of the night of a raver.  ",
                  "1": "positive",
                  "3": {
                    "positive": 0.99,
                    "neutral": 0,
                    "negative": 0
                  },
                  "4": [
                    {
                      "sentiment": "positive",
                      "confidenceScores": {
                        "positive": 0.99,
                        "neutral": 0,
                        "negative": 0
                      },
                      "text": "It's a gloriously fun, fast paced and fairly accurate portrayal of the night of a raver.  ",
                      "offset": 0,
                      "length": 90
                    }
                  ],
                  "5": []
                },
                {
                  "0": "It presents a idyllic yet serious portrayal of the ups and downs of the characters lives.  ",
                  "1": "positive",
                  "3": {
                    "positive": 0.5,
                    "neutral": 0.07,
                    "negative": 0.42
                  },
                  "4": [
                    {
                      "sentiment": "positive",
                      "confidenceScores": {
                        "positive": 0.5,
                        "neutral": 0.07,
                        "negative": 0.42
                      },
                      "text": "It presents a idyllic yet serious portrayal of the ups and downs of the characters lives.  ",
                      "offset": 0,
                      "length": 91
                    }
                  ],
                  "5": []
                },
                {
                  "0": "\"Just whatever you do, avoid \"\"Groove\"\" as its the antithesis of all that is good about Human Traffic.  \"",
                  "1": "negative",
                  "3": {
                    "positive": 0.18,
                    "neutral": 0.01,
                    "negative": 0.8
                  },
                  "4": [
                    {
                      "sentiment": "negative",
                      "confidenceScores": {
                        "positive": 0.18,
                        "neutral": 0.01,
                        "negative": 0.8
                      },
                      "text": "\"Just whatever you do, avoid \"\"Groove\"\" as its the antithesis of all that is good about Human Traffic.  ",
                      "offset": 0,
                      "length": 104
                    },
                    {
                      "sentiment": "neutral",
                      "confidenceScores": {
                        "positive": 0.27,
                        "neutral": 0.59,
                        "negative": 0.14
                      },
                      "text": "\"",
                      "offset": 104,
                      "length": 1
                    }
                  ],
                  "5": []
                },
                {
                  "0": "It's too bad that everyone else involved didn't share Crowe's level of dedication to quality, for if they did, we'd have a far better film on our hands than this sub-par mess.  ",
                  "1": "negative",
                  "3": {
                    "positive": 0.01,
                    "neutral": 0,
                    "negative": 0.99
                  },
                  "4": [
                    {
                      "sentiment": "negative",
                      "confidenceScores": {
                        "positive": 0.01,
                        "neutral": 0,
                        "negative": 0.99
                      },
                      "text": "It's too bad that everyone else involved didn't share Crowe's level of dedication to quality, for if they did, we'd have a far better film on our hands than this sub-par mess.  ",
                      "offset": 0,
                      "length": 177
                    }
                  ],
                  "5": []
                },
                {
                  "0": "The movie seemed a little slow at first.  ",
                  "1": "negative",
                  "3": {
                    "positive": 0.01,
                    "neutral": 0.01,
                    "negative": 0.98
                  },
                  "4": [
                    {
                      "sentiment": "negative",
                      "confidenceScores": {
                        "positive": 0.01,
                        "neutral": 0.01,
                        "negative": 0.98
                      },
                      "text": "The movie seemed a little slow at first.  ",
                      "offset": 0,
                      "length": 42
                    }
                  ],
                  "5": []
                },
                {
                  "0": "But it picked up speed and got right to the point.  ",
                  "1": "neutral",
                  "3": {
                    "positive": 0.13,
                    "neutral": 0.79,
                    "negative": 0.09
                  },
                  "4": [
                    {
                      "sentiment": "neutral",
                      "confidenceScores": {
                        "positive": 0.13,
                        "neutral": 0.79,
                        "negative": 0.09
                      },
                      "text": "But it picked up speed and got right to the point.  ",
                      "offset": 0,
                      "length": 52
                    }
                  ],
                  "5": []
                },
                {
                  "0": "\"It showed exactly how the government and the scientist argued for humanity and the reasons of the \"\"gadget\"\".  \"",
                  "1": "negative",
                  "3": {
                    "positive": 0.1,
                    "neutral": 0.09,
                    "negative": 0.82
                  },
                  "4": [
                    {
                      "sentiment": "negative",
                      "confidenceScores": {
                        "positive": 0.1,
                        "neutral": 0.09,
                        "negative": 0.82
                      },
                      "text": "\"It showed exactly how the government and the scientist argued for humanity and the reasons of the \"\"gadget\"\".  ",
                      "offset": 0,
                      "length": 112
                    },
                    {
                      "sentiment": "neutral",
                      "confidenceScores": {
                        "positive": 0.27,
                        "neutral": 0.59,
                        "negative": 0.14
                      },
                      "text": "\"",
                      "offset": 112,
                      "length": 1
                    }
                  ],
                  "5": []
                },
                {
                  "0": "I enjoyed it.  ",
                  "1": "positive",
                  "3": {
                    "positive": 0.99,
                    "neutral": 0.01,
                    "negative": 0.01
                  },
                  "4": [
                    {
                      "sentiment": "positive",
                      "confidenceScores": {
                        "positive": 0.99,
                        "neutral": 0.01,
                        "negative": 0.01
                      },
                      "text": "I enjoyed it.  ",
                      "offset": 0,
                      "length": 15
                    }
                  ],
                  "5": []
                },
                {
                  "0": "I have recommended it to friends.  ",
                  "1": "positive",
                  "3": {
                    "positive": 0.96,
                    "neutral": 0.03,
                    "negative": 0.02
                  },
                  "4": [
                    {
                      "sentiment": "positive",
                      "confidenceScores": {
                        "positive": 0.96,
                        "neutral": 0.03,
                        "negative": 0.02
                      },
                      "text": "I have recommended it to friends.  ",
                      "offset": 0,
                      "length": 35
                    }
                  ],
                  "5": []
                },
                {
                  "0": "I was particularly pleased with the acting ability of Dwight Schultz.  ",
                  "1": "positive",
                  "3": {
                    "positive": 0.99,
                    "neutral": 0,
                    "negative": 0
                  },
                  "4": [
                    {
                      "sentiment": "positive",
                      "confidenceScores": {
                        "positive": 0.99,
                        "neutral": 0,
                        "negative": 0
                      },
                      "text": "I was particularly pleased with the acting ability of Dwight Schultz.  ",
                      "offset": 0,
                      "length": 71
                    }
                  ],
                  "5": []
                },
                {
                  "0": "Both actors truly understand and become their particular character, delivering a convincing, sincere performance.  ",
                  "1": "positive",
                  "3": {
                    "positive": 0.96,
                    "neutral": 0.03,
                    "negative": 0.01
                  },
                  "4": [
                    {
                      "sentiment": "positive",
                      "confidenceScores": {
                        "positive": 0.96,
                        "neutral": 0.03,
                        "negative": 0.01
                      },
                      "text": "Both actors truly understand and become their particular character, delivering a convincing, sincere performance.  ",
                      "offset": 0,
                      "length": 115
                    }
                  ],
                  "5": []
                },
                {
                  "0": "Their on-screen chemistry, critical to the entire film, is genuine.  ",
                  "1": "positive",
                  "3": {
                    "positive": 0.71,
                    "neutral": 0.15,
                    "negative": 0.15
                  },
                  "4": [
                    {
                      "sentiment": "positive",
                      "confidenceScores": {
                        "positive": 0.71,
                        "neutral": 0.15,
                        "negative": 0.15
                      },
                      "text": "Their on-screen chemistry, critical to the entire film, is genuine.  ",
                      "offset": 0,
                      "length": 69
                    }
                  ],
                  "5": []
                },
                {
                  "0": "The film's dialogue is natural, real to life.  ",
                  "1": "neutral",
                  "3": {
                    "positive": 0.22,
                    "neutral": 0.62,
                    "negative": 0.16
                  },
                  "4": [
                    {
                      "sentiment": "neutral",
                      "confidenceScores": {
                        "positive": 0.22,
                        "neutral": 0.62,
                        "negative": 0.16
                      },
                      "text": "The film's dialogue is natural, real to life.  ",
                      "offset": 0,
                      "length": 47
                    }
                  ],
                  "5": []
                },
                {
                  "0": "The writer, Gorman Bechard, undoubtedly did his homework because all references are industry and character-age appropriate.  ",
                  "1": "positive",
                  "3": {
                    "positive": 0.61,
                    "neutral": 0.14,
                    "negative": 0.24
                  },
                  "4": [
                    {
                      "sentiment": "positive",
                      "confidenceScores": {
                        "positive": 0.61,
                        "neutral": 0.14,
                        "negative": 0.24
                      },
                      "text": "The writer, Gorman Bechard, undoubtedly did his homework because all references are industry and character-age appropriate.  ",
                      "offset": 0,
                      "length": 125
                    }
                  ],
                  "5": []
                },
                {
                  "0": "The incredible soundtrack truly captures the essence of the film.  ",
                  "1": "positive",
                  "3": {
                    "positive": 0.97,
                    "neutral": 0.01,
                    "negative": 0.02
                  },
                  "4": [
                    {
                      "sentiment": "positive",
                      "confidenceScores": {
                        "positive": 0.97,
                        "neutral": 0.01,
                        "negative": 0.02
                      },
                      "text": "The incredible soundtrack truly captures the essence of the film.  ",
                      "offset": 0,
                      "length": 67
                    }
                  ],
                  "5": []
                },
                {
                  "0": "Each track commands sentiment, actually contributing to the scenes and characters.  ",
                  "1": "positive",
                  "3": {
                    "positive": 0.46,
                    "neutral": 0.37,
                    "negative": 0.16
                  },
                  "4": [
                    {
                      "sentiment": "positive",
                      "confidenceScores": {
                        "positive": 0.46,
                        "neutral": 0.37,
                        "negative": 0.16
                      },
                      "text": "Each track commands sentiment, actually contributing to the scenes and characters.  ",
                      "offset": 0,
                      "length": 84
                    }
                  ],
                  "5": []
                },
                {
                  "0": "Definitely worth seeing it's the sort of thought provoking film that forces you to question your own threshold of loneliness.  ",
                  "1": "positive",
                  "3": {
                    "positive": 0.95,
                    "neutral": 0,
                    "negative": 0.05
                  },
                  "4": [
                    {
                      "sentiment": "positive",
                      "confidenceScores": {
                        "positive": 0.95,
                        "neutral": 0,
                        "negative": 0.05
                      },
                      "text": "Definitely worth seeing it's the sort of thought provoking film that forces you to question your own threshold of loneliness.  ",
                      "offset": 0,
                      "length": 128
                    }
                  ],
                  "5": []
                },
                {
                  "0": "\"Hayao Miyazaki's latest and eighth film for Studio Ghibili, \"\"Gake No Ue No Ponyo\"\" (Ponyo on the Cliff by the Sea) is a wonderfully fun and imaginative look at childhood.  \"",
                  "1": "positive",
                  "3": {
                    "positive": 0.99,
                    "neutral": 0.01,
                    "negative": 0
                  },
                  "4": [
                    {
                      "sentiment": "positive",
                      "confidenceScores": {
                        "positive": 0.99,
                        "neutral": 0.01,
                        "negative": 0
                      },
                      "text": "\"Hayao Miyazaki's latest and eighth film for Studio Ghibili, \"\"Gake No Ue No Ponyo\"\" (Ponyo on the Cliff by the Sea) is a wonderfully fun and imaginative look at childhood.  ",
                      "offset": 0,
                      "length": 174
                    },
                    {
                      "sentiment": "neutral",
                      "confidenceScores": {
                        "positive": 0.27,
                        "neutral": 0.59,
                        "negative": 0.14
                      },
                      "text": "\"",
                      "offset": 174,
                      "length": 1
                    }
                  ],
                  "5": []
                },
                {
                  "0": "At a time when it seems that film animation has been dominated by Disney/Pixar's CGI masterpieces, it is both refreshing and comforting to know that Miyazaki is still relying on traditional hand-drawn animation to tell his charming and enchanting stories.  ",
                  "1": "positive",
                  "3": {
                    "positive": 0.95,
                    "neutral": 0.04,
                    "negative": 0.01
                  },
                  "4": [
                    {
                      "sentiment": "positive",
                      "confidenceScores": {
                        "positive": 0.95,
                        "neutral": 0.04,
                        "negative": 0.01
                      },
                      "text": "At a time when it seems that film animation has been dominated by Disney/Pixar's CGI masterpieces, it is both refreshing and comforting to know that Miyazaki is still relying on traditional hand-drawn animation to tell his charming and enchanting stories.  ",
                      "offset": 0,
                      "length": 257
                    }
                  ],
                  "5": []
                },
                {
                  "0": "Enough can not be said of the remarkable animation in this film.  ",
                  "1": "negative",
                  "3": {
                    "positive": 0.09,
                    "neutral": 0.01,
                    "negative": 0.89
                  },
                  "4": [
                    {
                      "sentiment": "negative",
                      "confidenceScores": {
                        "positive": 0.09,
                        "neutral": 0.01,
                        "negative": 0.89
                      },
                      "text": "Enough can not be said of the remarkable animation in this film.  ",
                      "offset": 0,
                      "length": 66
                    }
                  ],
                  "5": []
                },
                {
                  "0": "The art style has the appearance of crayon/pencil drawings and is wonderfully colorful and fanciful.  ",
                  "1": "positive",
                  "3": {
                    "positive": 0.99,
                    "neutral": 0,
                    "negative": 0
                  },
                  "4": [
                    {
                      "sentiment": "positive",
                      "confidenceScores": {
                        "positive": 0.99,
                        "neutral": 0,
                        "negative": 0
                      },
                      "text": "The art style has the appearance of crayon/pencil drawings and is wonderfully colorful and fanciful.  ",
                      "offset": 0,
                      "length": 102
                    }
                  ],
                  "5": []
                },
                {
                  "0": "If you act in such a film, you should be glad that you're gonna drift away from earth as far as possible!  ",
                  "1": "positive",
                  "3": {
                    "positive": 0.96,
                    "neutral": 0.01,
                    "negative": 0.03
                  },
                  "4": [
                    {
                      "sentiment": "positive",
                      "confidenceScores": {
                        "positive": 0.96,
                        "neutral": 0.01,
                        "negative": 0.03
                      },
                      "text": "If you act in such a film, you should be glad that you're gonna drift away from earth as far as possible!  ",
                      "offset": 0,
                      "length": 107
                    }
                  ],
                  "5": []
                },
                {
                  "0": "This one wants to surf on the small wave of space movies in 1998 (Deep Impact and Armageddon), and this one fails everywhere.  ",
                  "1": "negative",
                  "3": {
                    "positive": 0,
                    "neutral": 0,
                    "negative": 1
                  },
                  "4": [
                    {
                      "sentiment": "negative",
                      "confidenceScores": {
                        "positive": 0,
                        "neutral": 0,
                        "negative": 1
                      },
                      "text": "This one wants to surf on the small wave of space movies in 1998 (Deep Impact and Armageddon), and this one fails everywhere.  ",
                      "offset": 0,
                      "length": 127
                    }
                  ],
                  "5": []
                },
                {
                  "0": "If you haven't choked in your own vomit by the end (by all the cheap drama and worthless dialogue) you've must have bored yourself to death with this waste of time.  ",
                  "1": "negative",
                  "3": {
                    "positive": 0,
                    "neutral": 0,
                    "negative": 0.99
                  },
                  "4": [
                    {
                      "sentiment": "negative",
                      "confidenceScores": {
                        "positive": 0,
                        "neutral": 0,
                        "negative": 0.99
                      },
                      "text": "If you haven't choked in your own vomit by the end (by all the cheap drama and worthless dialogue) you've must have bored yourself to death with this waste of time.  ",
                      "offset": 0,
                      "length": 166
                    }
                  ],
                  "5": []
                },
                {
                  "0": "Still, it makes up for all of this with a super ending that depicts a great sea vessel being taken out by the mighty frost.  ",
                  "1": "positive",
                  "3": {
                    "positive": 0.99,
                    "neutral": 0,
                    "negative": 0.01
                  },
                  "4": [
                    {
                      "sentiment": "positive",
                      "confidenceScores": {
                        "positive": 0.99,
                        "neutral": 0,
                        "negative": 0.01
                      },
                      "text": "Still, it makes up for all of this with a super ending that depicts a great sea vessel being taken out by the mighty frost.  ",
                      "offset": 0,
                      "length": 125
                    }
                  ],
                  "5": []
                },
                {
                  "0": "Just consider the excellent story, solid acting and look of the film as added bonuses.  ",
                  "1": "positive",
                  "3": {
                    "positive": 1,
                    "neutral": 0,
                    "negative": 0
                  },
                  "4": [
                    {
                      "sentiment": "positive",
                      "confidenceScores": {
                        "positive": 1,
                        "neutral": 0,
                        "negative": 0
                      },
                      "text": "Just consider the excellent story, solid acting and look of the film as added bonuses.  ",
                      "offset": 0,
                      "length": 88
                    }
                  ],
                  "5": []
                },
                {
                  "0": "Instead, we got a bore fest about a whiny, spoiled brat babysitting.  ",
                  "1": "negative",
                  "3": {
                    "positive": 0.01,
                    "neutral": 0.01,
                    "negative": 0.98
                  },
                  "4": [
                    {
                      "sentiment": "negative",
                      "confidenceScores": {
                        "positive": 0.01,
                        "neutral": 0.01,
                        "negative": 0.98
                      },
                      "text": "Instead, we got a bore fest about a whiny, spoiled brat babysitting.  ",
                      "offset": 0,
                      "length": 70
                    }
                  ],
                  "5": []
                },
                {
                  "0": "Then I watched it again two Sundays ago (March 20th, 2005) and I began to really enjoy it and this time I taped the entire thing.  ",
                  "1": "positive",
                  "3": {
                    "positive": 0.97,
                    "neutral": 0.02,
                    "negative": 0.01
                  },
                  "4": [
                    {
                      "sentiment": "positive",
                      "confidenceScores": {
                        "positive": 0.97,
                        "neutral": 0.02,
                        "negative": 0.01
                      },
                      "text": "Then I watched it again two Sundays ago (March 20th, 2005) and I began to really enjoy it and this time I taped the entire thing.  ",
                      "offset": 0,
                      "length": 131
                    }
                  ],
                  "5": []
                },
                {
                  "0": "It is a very well acted and done TV Movie.  ",
                  "1": "positive",
                  "3": {
                    "positive": 0.99,
                    "neutral": 0,
                    "negative": 0
                  },
                  "4": [
                    {
                      "sentiment": "positive",
                      "confidenceScores": {
                        "positive": 0.99,
                        "neutral": 0,
                        "negative": 0
                      },
                      "text": "It is a very well acted and done TV Movie.  ",
                      "offset": 0,
                      "length": 44
                    }
                  ],
                  "5": []
                },
                {
                  "0": "Judith Light is one of my favorite actresses and I think she does a superb job in this film!  ",
                  "1": "positive",
                  "3": {
                    "positive": 1,
                    "neutral": 0,
                    "negative": 0
                  },
                  "4": [
                    {
                      "sentiment": "positive",
                      "confidenceScores": {
                        "positive": 1,
                        "neutral": 0,
                        "negative": 0
                      },
                      "text": "Judith Light is one of my favorite actresses and I think she does a superb job in this film!  ",
                      "offset": 0,
                      "length": 94
                    }
                  ],
                  "5": []
                },
                {
                  "0": "I keep watching it over and over.  ",
                  "1": "neutral",
                  "3": {
                    "positive": 0.03,
                    "neutral": 0.95,
                    "negative": 0.02
                  },
                  "4": [
                    {
                      "sentiment": "neutral",
                      "confidenceScores": {
                        "positive": 0.03,
                        "neutral": 0.95,
                        "negative": 0.02
                      },
                      "text": "I keep watching it over and over.  ",
                      "offset": 0,
                      "length": 35
                    }
                  ],
                  "5": []
                },
                {
                  "0": "It's a sad movie, but very good.  ",
                  "1": "positive",
                  "3": {
                    "positive": 0.96,
                    "neutral": 0,
                    "negative": 0.04
                  },
                  "4": [
                    {
                      "sentiment": "positive",
                      "confidenceScores": {
                        "positive": 0.96,
                        "neutral": 0,
                        "negative": 0.04
                      },
                      "text": "It's a sad movie, but very good.  ",
                      "offset": 0,
                      "length": 34
                    }
                  ],
                  "5": []
                },
                {
                  "0": "If you have not seen this movie, I definitely recommend it!  ",
                  "1": "positive",
                  "3": {
                    "positive": 0.98,
                    "neutral": 0,
                    "negative": 0.01
                  },
                  "4": [
                    {
                      "sentiment": "positive",
                      "confidenceScores": {
                        "positive": 0.98,
                        "neutral": 0,
                        "negative": 0.01
                      },
                      "text": "If you have not seen this movie, I definitely recommend it!  ",
                      "offset": 0,
                      "length": 61
                    }
                  ],
                  "5": []
                },
                {
                  "0": "She is as lovely as usual, this cutie!  ",
                  "1": "positive",
                  "3": {
                    "positive": 1,
                    "neutral": 0,
                    "negative": 0
                  },
                  "4": [
                    {
                      "sentiment": "positive",
                      "confidenceScores": {
                        "positive": 1,
                        "neutral": 0,
                        "negative": 0
                      },
                      "text": "She is as lovely as usual, this cutie!  ",
                      "offset": 0,
                      "length": 40
                    }
                  ],
                  "5": []
                },
                {
                  "0": "Still it's quite interesting and entertaining to follow.  ",
                  "1": "positive",
                  "3": {
                    "positive": 0.99,
                    "neutral": 0,
                    "negative": 0
                  },
                  "4": [
                    {
                      "sentiment": "positive",
                      "confidenceScores": {
                        "positive": 0.99,
                        "neutral": 0,
                        "negative": 0
                      },
                      "text": "Still it's quite interesting and entertaining to follow.  ",
                      "offset": 0,
                      "length": 58
                    }
                  ],
                  "5": []
                },
                {
                  "0": "\";) Recommend with confidence!  \"",
                  "1": "positive",
                  "3": {
                    "positive": 0.99,
                    "neutral": 0,
                    "negative": 0
                  },
                  "4": [
                    {
                      "sentiment": "positive",
                      "confidenceScores": {
                        "positive": 0.99,
                        "neutral": 0,
                        "negative": 0
                      },
                      "text": "\";) Recommend with confidence!  ",
                      "offset": 0,
                      "length": 32
                    },
                    {
                      "sentiment": "neutral",
                      "confidenceScores": {
                        "positive": 0.27,
                        "neutral": 0.59,
                        "negative": 0.14
                      },
                      "text": "\"",
                      "offset": 32,
                      "length": 1
                    }
                  ],
                  "5": []
                },
                {
                  "0": "This movie is well-balanced with comedy and drama and I thoroughly enjoyed myself.  ",
                  "1": "positive",
                  "3": {
                    "positive": 0.99,
                    "neutral": 0,
                    "negative": 0
                  },
                  "4": [
                    {
                      "sentiment": "positive",
                      "confidenceScores": {
                        "positive": 0.99,
                        "neutral": 0,
                        "negative": 0
                      },
                      "text": "This movie is well-balanced with comedy and drama and I thoroughly enjoyed myself.  ",
                      "offset": 0,
                      "length": 84
                    }
                  ],
                  "5": []
                },
                {
                  "0": "It was a riot to see Hugo Weaving play a sex-obsessed gay real estate salesman who uses his clients' houses for his trysts with the flaming Darren (Tom Hollander).  ",
                  "1": "negative",
                  "3": {
                    "positive": 0,
                    "neutral": 0.01,
                    "negative": 0.99
                  },
                  "4": [
                    {
                      "sentiment": "negative",
                      "confidenceScores": {
                        "positive": 0,
                        "neutral": 0.01,
                        "negative": 0.99
                      },
                      "text": "It was a riot to see Hugo Weaving play a sex-obsessed gay real estate salesman who uses his clients' houses for his trysts with the flaming Darren (Tom Hollander).  ",
                      "offset": 0,
                      "length": 165
                    }
                  ],
                  "5": []
                },
                {
                  "0": ":) Anyway, the plot flowed smoothly and the male-bonding scenes were a hoot.  ",
                  "1": "negative",
                  "3": {
                    "positive": 0.39,
                    "neutral": 0.02,
                    "negative": 0.6
                  },
                  "4": [
                    {
                      "sentiment": "negative",
                      "confidenceScores": {
                        "positive": 0.39,
                        "neutral": 0.02,
                        "negative": 0.6
                      },
                      "text": ":) Anyway, the plot flowed smoothly and the male-bonding scenes were a hoot.  ",
                      "offset": 0,
                      "length": 78
                    }
                  ],
                  "5": []
                },
                {
                  "0": "The opening sequence of this gem is a classic, and the cat n mouse games that follow are a delight to watch.  ",
                  "1": "positive",
                  "3": {
                    "positive": 0.99,
                    "neutral": 0,
                    "negative": 0
                  },
                  "4": [
                    {
                      "sentiment": "positive",
                      "confidenceScores": {
                        "positive": 0.99,
                        "neutral": 0,
                        "negative": 0
                      },
                      "text": "The opening sequence of this gem is a classic, and the cat n mouse games that follow are a delight to watch.  ",
                      "offset": 0,
                      "length": 110
                    }
                  ],
                  "5": []
                },
                {
                  "0": "Fans of the genre will be in heaven.  ",
                  "1": "positive",
                  "3": {
                    "positive": 0.86,
                    "neutral": 0.13,
                    "negative": 0.02
                  },
                  "4": [
                    {
                      "sentiment": "positive",
                      "confidenceScores": {
                        "positive": 0.86,
                        "neutral": 0.13,
                        "negative": 0.02
                      },
                      "text": "Fans of the genre will be in heaven.  ",
                      "offset": 0,
                      "length": 38
                    }
                  ],
                  "5": []
                },
                {
                  "0": "Lange had become a great actress.  ",
                  "1": "positive",
                  "3": {
                    "positive": 0.99,
                    "neutral": 0.01,
                    "negative": 0.01
                  },
                  "4": [
                    {
                      "sentiment": "positive",
                      "confidenceScores": {
                        "positive": 0.99,
                        "neutral": 0.01,
                        "negative": 0.01
                      },
                      "text": "Lange had become a great actress.  ",
                      "offset": 0,
                      "length": 35
                    }
                  ],
                  "5": []
                },
                {
                  "0": "It looked like a wonderful story.  ",
                  "1": "positive",
                  "3": {
                    "positive": 1,
                    "neutral": 0,
                    "negative": 0
                  },
                  "4": [
                    {
                      "sentiment": "positive",
                      "confidenceScores": {
                        "positive": 1,
                        "neutral": 0,
                        "negative": 0
                      },
                      "text": "It looked like a wonderful story.  ",
                      "offset": 0,
                      "length": 35
                    }
                  ],
                  "5": []
                },
                {
                  "0": "I never walked out of a movie faster.  ",
                  "1": "neutral",
                  "3": {
                    "positive": 0.13,
                    "neutral": 0.47,
                    "negative": 0.39
                  },
                  "4": [
                    {
                      "sentiment": "neutral",
                      "confidenceScores": {
                        "positive": 0.13,
                        "neutral": 0.47,
                        "negative": 0.39
                      },
                      "text": "I never walked out of a movie faster.  ",
                      "offset": 0,
                      "length": 39
                    }
                  ],
                  "5": []
                },
                {
                  "0": "I just got bored watching Jessice Lange take her clothes off!  ",
                  "1": "negative",
                  "3": {
                    "positive": 0,
                    "neutral": 0.01,
                    "negative": 0.99
                  },
                  "4": [
                    {
                      "sentiment": "negative",
                      "confidenceScores": {
                        "positive": 0,
                        "neutral": 0.01,
                        "negative": 0.99
                      },
                      "text": "I just got bored watching Jessice Lange take her clothes off!  ",
                      "offset": 0,
                      "length": 63
                    }
                  ],
                  "5": []
                },
                {
                  "0": "Unfortunately, any virtue in this film's production work was lost on a regrettable script.  ",
                  "1": "negative",
                  "3": {
                    "positive": 0,
                    "neutral": 0,
                    "negative": 1
                  },
                  "4": [
                    {
                      "sentiment": "negative",
                      "confidenceScores": {
                        "positive": 0,
                        "neutral": 0,
                        "negative": 1
                      },
                      "text": "Unfortunately, any virtue in this film's production work was lost on a regrettable script.  ",
                      "offset": 0,
                      "length": 92
                    }
                  ],
                  "5": []
                },
                {
                  "0": "In a word, it is embarrassing.  ",
                  "1": "negative",
                  "3": {
                    "positive": 0,
                    "neutral": 0.01,
                    "negative": 0.99
                  },
                  "4": [
                    {
                      "sentiment": "negative",
                      "confidenceScores": {
                        "positive": 0,
                        "neutral": 0.01,
                        "negative": 0.99
                      },
                      "text": "In a word, it is embarrassing.  ",
                      "offset": 0,
                      "length": 32
                    }
                  ],
                  "5": []
                },
                {
                  "0": "Exceptionally bad!  ",
                  "1": "negative",
                  "3": {
                    "positive": 0.02,
                    "neutral": 0,
                    "negative": 0.98
                  },
                  "4": [
                    {
                      "sentiment": "negative",
                      "confidenceScores": {
                        "positive": 0.02,
                        "neutral": 0,
                        "negative": 0.98
                      },
                      "text": "Exceptionally bad!  ",
                      "offset": 0,
                      "length": 20
                    }
                  ],
                  "5": []
                },
                {
                  "0": "All in all its an insult to one's intelligence and a huge waste of money.  ",
                  "1": "negative",
                  "3": {
                    "positive": 0,
                    "neutral": 0,
                    "negative": 0.99
                  },
                  "4": [
                    {
                      "sentiment": "negative",
                      "confidenceScores": {
                        "positive": 0,
                        "neutral": 0,
                        "negative": 0.99
                      },
                      "text": "All in all its an insult to one's intelligence and a huge waste of money.  ",
                      "offset": 0,
                      "length": 75
                    }
                  ],
                  "5": []
                }
              ],
              "schema": [
                {
                  "key": "0",
                  "name": "value",
                  "type": "string"
                },
                {
                  "key": "1",
                  "name": "sentiment",
                  "type": "string"
                },
                {
                  "key": "2",
                  "name": "statistics",
                  "type": "StructType(StructField(charactersCount,IntegerType,false), StructField(transactionsCount,IntegerType,false))"
                },
                {
                  "key": "3",
                  "name": "confidenceScores",
                  "type": "StructType(StructField(positive,DoubleType,false), StructField(neutral,DoubleType,false), StructField(negative,DoubleType,false))"
                },
                {
                  "key": "4",
                  "name": "sentences",
                  "type": "ArrayType(StructType(StructField(text,StringType,true), StructField(sentiment,StringType,true), StructField(confidenceScores,StructType(StructField(positive,DoubleType,false), StructField(neutral,DoubleType,false), StructField(negative,DoubleType,false)),true), StructField(offset,IntegerType,false), StructField(length,IntegerType,false)),true)"
                },
                {
                  "key": "5",
                  "name": "warnings",
                  "type": "ArrayType(StructType(StructField(code,StringType,true), StructField(message,StringType,true), StructField(targetRef,StringType,true)),true)"
                },
                {
                  "key": "6",
                  "name": "error-message",
                  "type": "string"
                },
                {
                  "key": "7",
                  "name": "error",
                  "type": "StructType(StructField(response,StringType,true), StructField(status,StructType(StructField(protocolVersion,StructType(StructField(protocol,StringType,true), StructField(major,IntegerType,false), StructField(minor,IntegerType,false)),true), StructField(statusCode,IntegerType,false), StructField(reasonPhrase,StringType,true)),true))"
                }
              ],
              "truncated": false
            },
            "isSummary": false,
            "language": "scala"
          },
          "persist_state": {
            "view": {
              "type": "details",
              "tableOptions": {},
              "chartOptions": {
                "chartType": "column",
                "aggregationType": "count",
                "categoryFieldKeys": [
                  "1"
                ],
                "seriesFieldKeys": [
                  "1"
                ],
                "isStacked": true,
                "pivotFieldKey": "1"
              }
            }
          }
        }
      }
    }
  },
  "cells": [
    {
      "cell_type": "code",
      "execution_count": 1,
      "outputs": [
        {
          "output_type": "display_data",
          "data": {
            "application/vnd.livy.statement-meta+json": {
              "spark_pool": "skspark",
              "session_id": 14,
              "statement_id": 1,
              "state": "finished",
              "livy_statement_state": "available",
              "queued_time": "2022-05-13T13:57:40.8772806Z",
              "session_start_time": null,
              "execution_start_time": "2022-05-13T13:57:43.1753692Z",
              "execution_finish_time": "2022-05-13T13:58:06.0059457Z"
            },
            "text/plain": "StatementMeta(skspark, 14, 1, Finished, Available)"
          },
          "metadata": {}
        }
      ],
      "metadata": {
        "microsoft": {
          "language": "python"
        }
      },
      "source": [
        "%%pyspark\r\n",
        "df = spark.read.load('abfss://users@mahreview.dfs.core.windows.net/synapse/workspaces/skworkspace1/warehouse/imdb.txt', format='text')\r\n",
        "df.write.mode(\"overwrite\").saveAsTable(\"default.imdb\")"
      ]
    },
    {
      "cell_type": "code",
      "execution_count": 1,
      "outputs": [
        {
          "output_type": "display_data",
          "data": {
            "application/vnd.livy.statement-meta+json": {
              "spark_pool": "skspark",
              "session_id": 17,
              "statement_id": 2,
              "state": "finished",
              "livy_statement_state": "available",
              "queued_time": "2022-05-13T14:24:25.0921247Z",
              "session_start_time": null,
              "execution_start_time": "2022-05-13T14:25:16.7644555Z",
              "execution_finish_time": "2022-05-13T14:35:16.5277174Z"
            },
            "text/plain": "StatementMeta(skspark, 17, 2, Finished, Available)"
          },
          "metadata": {}
        },
        {
          "output_type": "display_data",
          "data": {
            "application/vnd.synapse.widget-view+json": {
              "widget_id": "c6372abe-8728-4c95-86c8-ec21fc369760",
              "widget_type": "Synapse.DataFrame"
            },
            "text/plain": "SynapseWidget(Synapse.DataFrame, c6372abe-8728-4c95-86c8-ec21fc369760)"
          },
          "metadata": {}
        }
      ],
      "metadata": {
        "jupyter": {
          "source_hidden": false,
          "outputs_hidden": false
        },
        "nteract": {
          "transient": {
            "deleting": false
          }
        },
        "collapsed": false
      },
      "source": [
        "from mmlspark.cognitive import *\r\n",
        "from notebookutils import mssparkutils\r\n",
        "from pyspark.sql.functions import explode\r\n",
        "\r\n",
        "# Load the data into a Spark DataFrame\r\n",
        "df = spark.sql(\"SELECT * FROM default.imdb\")\r\n",
        "\r\n",
        "sentiment = (TextSentiment()\r\n",
        "    .setLinkedService(\"CognitiveService1\")\r\n",
        "    .setOutputCol(\"output\")\r\n",
        "    .setErrorCol(\"error\")\r\n",
        "    .setLanguage(\"en\")\r\n",
        "    .setTextCol(\"value\"))\r\n",
        "\r\n",
        "results = sentiment.transform(df)\r\n",
        "\r\n",
        "# Show the results\r\n",
        "display(results\\\r\n",
        "    .select(\"value\", explode(\"output\").alias(\"exploded\"), \"error\")\\\r\n",
        "    .select(\"value\", \"exploded.*\", \"error\")\\\r\n",
        "    .limit(1000))"
      ]
    }
  ]
}